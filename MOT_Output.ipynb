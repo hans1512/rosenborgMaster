{
 "cells": [
  {
   "cell_type": "code",
   "execution_count": 1,
   "id": "91f92362",
   "metadata": {},
   "outputs": [],
   "source": [
    "import cv2\n",
    "import numpy as np\n",
    "from pathlib import Path\n",
    "from boxmot import DeepOCSORT, StrongSORT, BoTSORT\n",
    "from ultralytics import YOLO\n",
    "from pathlib import Path"
   ]
  },
  {
   "cell_type": "code",
   "execution_count": 2,
   "id": "46e66fbb",
   "metadata": {},
   "outputs": [],
   "source": [
    "def initialize_tracker(model_weights, device='cuda:0', fp16=True):\n",
    "    \"\"\"\n",
    "    Initialize the DeepOCSORT tracker with the given model weights and device.\n",
    "    \"\"\"\n",
    "    tracker = BoTSORT(\n",
    "        model_weights=model_weights,\n",
    "        device=device,\n",
    "        fp16=fp16\n",
    "    )\n",
    "    return tracker\n",
    "\n",
    "def initialize_yolo(model_path):\n",
    "    \"\"\"\n",
    "    Initialize the YOLO object detector with the given model path.\n",
    "    \"\"\"\n",
    "    yolov8 = YOLO(model_path)\n",
    "    return yolov8"
   ]
  },
  {
   "cell_type": "code",
   "execution_count": 3,
   "id": "85b789fa",
   "metadata": {},
   "outputs": [],
   "source": [
    "class Rect:\n",
    "    def __init__(self, x1, y1, x2, y2):\n",
    "        self.x1 = x1\n",
    "        self.y1 = y1\n",
    "        self.x2 = x2\n",
    "        self.y2 = y2\n",
    "    \n",
    "    @property\n",
    "    def bottom_center(self):\n",
    "        return ((self.x1 + self.x2) // 2, self.y2)\n",
    "    \n",
    "    @property\n",
    "    def width(self):\n",
    "        return self.x2 - self.x1\n",
    "\n",
    "class Color:\n",
    "    def __init__(self, b, g, r):\n",
    "        self.b = b\n",
    "        self.g = g\n",
    "        self.r = r\n",
    "\n",
    "    @property\n",
    "    def bgr_tuple(self):\n",
    "        return (self.b, self.g, self.r)\n",
    "\n",
    "def draw_ellipse(image, rect, color, thickness=2):\n",
    "    center = rect.bottom_center\n",
    "    axes = (int(rect.width), int(0.35 * rect.width))\n",
    "    cv2.ellipse(\n",
    "        image,\n",
    "        center,\n",
    "        axes,\n",
    "        angle=0.0,\n",
    "        startAngle=-45,\n",
    "        endAngle=235,\n",
    "        color=color.bgr_tuple,\n",
    "        thickness=thickness,\n",
    "        lineType=cv2.LINE_4\n",
    "    )\n",
    "    return image\n",
    "\n",
    "def lab_to_rgb(lab_color):\n",
    "    \"\"\"\n",
    "    Converts a single LAB color to RGB.\n",
    "    \"\"\"\n",
    "    lab_image = np.array([[lab_color]], dtype=np.uint8)\n",
    "    rgb_image = cv2.cvtColor(lab_image, cv2.COLOR_Lab2RGB)\n",
    "    return rgb_image[0][0]\n",
    "\n",
    "def create_new_file(file_name):\n",
    "    \"\"\"\n",
    "    Check if a file already exists, if it does append a number to the file\n",
    "    The number increases if a file_\"number\" exists\n",
    "    \"\"\"\n",
    "    if Path(file_name).is_file():\n",
    "        file = file_name.split(\".\")[0]\n",
    "        extension = file_name.split(\".\")[1]\n",
    "        last_char = file[len(file) - 1]\n",
    "        if last_char.isnumeric():\n",
    "            last_char = str(int(last_char) + 1)\n",
    "            new_file =  file[:-1] + last_char + \".\" + extension\n",
    "        else:\n",
    "            last_char = \"_1\"\n",
    "            new_file =  file + last_char + \".\" + extension\n",
    "        \n",
    "        return create_new_file(new_file)\n",
    "    else:\n",
    "        return file_name"
   ]
  },
  {
   "cell_type": "code",
   "execution_count": 4,
   "id": "d61667b5",
   "metadata": {},
   "outputs": [],
   "source": [
    "def plot_kmeans_clusters(player_mean_colors, labels):\n",
    "    player_mean_colors = np.array([lab_to_rgb(color) for color in player_mean_colors])\n",
    "\n",
    "    # Plotting the results (optional)\n",
    "    plt.subplot(1, 2, 1)\n",
    "    plt.scatter(player_mean_colors[:, 1], player_mean_colors[:, 2], c=player_mean_colors / 255.0)\n",
    "    plt.title('Original Colors')\n",
    "\n",
    "    plt.subplot(1, 2, 2)\n",
    "    plt.scatter(player_mean_colors[labels == 0][:, 1], player_mean_colors[labels == 0][:, 2], c='blue', marker='o')\n",
    "    plt.scatter(player_mean_colors[labels == 1][:, 1], player_mean_colors[labels == 1][:, 2], c='red', marker='x')\n",
    "    plt.title('Clustered Colors')\n",
    "\n",
    "    plt.show()\n",
    "    \n",
    "def home_away_color_ranges(home, away):\n",
    "    # plot_lab_region(home[0], home[1])\n",
    "    plot_lab_region(away[0], away[1])\n",
    "\n",
    "    plt.figure(figsize=(10, 5))\n",
    "\n",
    "    # Displaying the mask\n",
    "    plt.subplot(1, 4, 1)\n",
    "     # Plotting the most common color\n",
    "    plt.imshow(cv2.cvtColor(home[0][np.newaxis, np.newaxis, :].astype(np.uint8), cv2.COLOR_Lab2RGB))\n",
    "    plt.title(\"Home Lower\")\n",
    "\n",
    "    plt.subplot(1, 4, 2)\n",
    "    plt.imshow(cv2.cvtColor(home[1][np.newaxis, np.newaxis, :].astype(np.uint8), cv2.COLOR_Lab2RGB))\n",
    "    plt.title(\"Home Upper\")\n",
    "\n",
    "    plt.subplot(1, 4, 3)\n",
    "    plt.imshow(cv2.cvtColor(away[0][np.newaxis, np.newaxis, :].astype(np.uint8), cv2.COLOR_Lab2RGB))\n",
    "    plt.title(\"Away Lower\")\n",
    "\n",
    "    plt.subplot(1, 4, 4)\n",
    "    plt.imshow(cv2.cvtColor(away[1][np.newaxis, np.newaxis, :].astype(np.uint8), cv2.COLOR_Lab2RGB))\n",
    "    plt.title(\"Away Upper\")\n",
    "\n",
    "    plt.show()"
   ]
  },
  {
   "cell_type": "code",
   "execution_count": 5,
   "id": "b2346285",
   "metadata": {},
   "outputs": [],
   "source": [
    "from sklearn.cluster import KMeans\n",
    "import matplotlib.pyplot as plt\n",
    "import sys\n",
    "import sklearn\n",
    "from collections import Counter\n",
    "\n",
    "\n",
    "def adjust_bbox(image, bbox, height_fraction=(0.17, 0.5), width_fraction=(0.2, 0.2)):\n",
    "    x1, y1, x2, y2 = bbox\n",
    "    \n",
    "    # Adjusting the bounding box to focus on the upper part\n",
    "    height = y2 - y1\n",
    "    width = x2 - x1\n",
    "    \n",
    "    new_y1 = y1 + int(height_fraction[0] * height)\n",
    "    new_y2 = y1 + int(height_fraction[1] * height)\n",
    "    new_x1 = x1 + int(width_fraction[0] * width)\n",
    "    new_x2 = x2 - int(width_fraction[1] * width)\n",
    "\n",
    "    adjusted_bbox = (new_x1, new_y1, new_x2, new_y2)\n",
    "    roi = image[adjusted_bbox[1]:adjusted_bbox[3], adjusted_bbox[0]:adjusted_bbox[2]]\n",
    "\n",
    "    return roi\n",
    "\n",
    "def filter_out_color_LAB(roi_lab, lower_treshold, upper_treshold):\n",
    "    # Getting the A channel and applying threshold\n",
    "    a_channel = roi_lab[:,:,1]\n",
    "    #127, 255\n",
    "    _, mask = cv2.threshold(a_channel, lower_treshold, upper_treshold, cv2.THRESH_BINARY + cv2.THRESH_OTSU)\n",
    "    \n",
    "    # Using the mask to exclude green pixels in LAB\n",
    "    roi_lab_filtered = roi_lab.copy()\n",
    "    roi_lab_filtered[mask != 255] = 0\n",
    "    return roi_lab_filtered\n",
    "\n",
    "def get_color_histogram(image, bbox):\n",
    "    \"\"\"\n",
    "    Get the color histogram within a specific portion of the bounding box in the HSV color space.\n",
    "    \"\"\"\n",
    "    roi = adjust_bbox(image, bbox)\n",
    "    # Converting to LAB color space\n",
    "    roi_lab = cv2.cvtColor(roi, cv2.COLOR_BGR2Lab)\n",
    "    roi_lab_filtered = filter_out_color_LAB(roi_lab, 127, 255)\n",
    "    \n",
    "    non_black_pixels = roi_lab_filtered[roi_lab_filtered.any(axis=-1)]\n",
    "    color_counter = Counter(map(tuple, non_black_pixels))\n",
    "    most_common_color = color_counter.most_common(1)[0][0]\n",
    "        \n",
    "    non_zero_subarrays = roi_lab_filtered[roi_lab_filtered.any(axis=-1)]\n",
    "    \n",
    "    hist = cv2.calcHist([roi_lab], [0, 1], None, [8, 8], [0, 180, 0, 256])\n",
    "    \n",
    "    cv2.normalize(hist, hist)\n",
    "    \n",
    "    return hist.flatten()\n",
    "\n",
    "def get_mean_color(image, bbox):\n",
    "    \"\"\"\n",
    "    Get the mean color within a specific portion of the bounding box in both RGB and LAB color spaces,\n",
    "    excluding green pixels.\n",
    "    \"\"\"\n",
    "    roi = adjust_bbox(image, bbox)\n",
    "\n",
    "    # Converting to LAB color space\n",
    "    roi_lab = cv2.cvtColor(roi, cv2.COLOR_BGR2Lab)\n",
    "    roi_lab_filtered = filter_out_color_LAB(roi_lab, 127, 255)\n",
    "        \n",
    "    non_zero_subarrays = roi_lab_filtered[roi_lab_filtered.any(axis=-1)]\n",
    "\n",
    "    # Calculate the mean of each channel\n",
    "    if non_zero_subarrays.size > 0:\n",
    "        mean_color_lab = non_zero_subarrays.mean(axis=0)\n",
    "        \n",
    "        \n",
    "    color_counter = Counter(map(tuple, non_zero_subarrays))\n",
    "    most_common_color_lab = np.array(color_counter.most_common(1)[0][0], dtype=np.uint8)\n",
    "\n",
    "    most_common_color_bgr = cv2.cvtColor(np.array([[most_common_color_lab]], dtype=np.uint8), cv2.COLOR_Lab2BGR)[0][0]\n",
    "    mean_color_bgr = cv2.cvtColor(np.array([[mean_color_lab]], dtype=np.uint8), cv2.COLOR_Lab2BGR)[0][0]\n",
    "    return most_common_color_lab, mean_color_lab\n",
    "\n",
    "def perform_kmeans_clustering(colors, initial_centroids, color_multiplier=4, max_iter=10, n_clusters=2):\n",
    "    \"\"\"\n",
    "    Perform k-means clustering on the given color data.\n",
    "    \"\"\"\n",
    "    colors = np.array(colors)\n",
    "    \n",
    "    colors[:,1:3] *= 4\n",
    "    if len(initial_centroids) != 0:\n",
    "        kmeans = KMeans(n_clusters=2, init=initial_centroids, random_state=0, n_init=1, max_iter=max_iter).fit(colors)\n",
    "    else:\n",
    "        kmeans = KMeans(n_clusters=2, random_state=0).fit(colors)\n",
    "        initial_centroids = kmeans.cluster_centers_\n",
    "        \n",
    "    # Reassign labels based on the order of centroids\n",
    "    sorted_idx = np.argsort(initial_centroids[:, 0])  # Assuming the 0th feature is a color channel like Red\n",
    "    mapping = np.zeros(n_clusters, dtype=int)\n",
    "    for i, idx in enumerate(sorted_idx):\n",
    "        mapping[idx] = i\n",
    "\n",
    "    consistent_labels = mapping[kmeans.labels_]\n",
    "    \n",
    "    return consistent_labels, initial_centroids"
   ]
  },
  {
   "cell_type": "code",
   "execution_count": 6,
   "id": "e65144ed",
   "metadata": {},
   "outputs": [],
   "source": [
    "from scipy.spatial import distance\n",
    "from scipy import stats\n",
    "    \n",
    "import numpy as np\n",
    "import matplotlib.pyplot as plt\n",
    "from mpl_toolkits.mplot3d.art3d import Poly3DCollection\n",
    "\n",
    "\n",
    "\n",
    "def plot_filtered_boxes(frame, boxes):\n",
    "    plt.figure(figsize=(12, len(boxes) * 4))\n",
    "    \n",
    "    for i, box in enumerate(boxes):\n",
    "        # Apply the ROI adjustment and color filtering\n",
    "        roi = adjust_bbox(frame, box)\n",
    "        roi_lab = cv2.cvtColor(roi, cv2.COLOR_BGR2Lab)\n",
    "        roi_lab_filtered = filter_out_color_LAB(roi_lab, 127, 255)\n",
    "        non_zero_colors = roi_lab_filtered[roi_lab_filtered.any(axis=-1)]\n",
    "\n",
    "        plt.subplot(len(boxes), 2, i * 2 + 1)\n",
    "        plt.imshow(cv2.cvtColor(roi, cv2.COLOR_BGR2RGB))\n",
    "        plt.title(f\"Original Box {i+1}\")\n",
    "\n",
    "        plt.subplot(len(boxes), 2, i * 2 + 2)\n",
    "        plt.imshow(cv2.cvtColor(roi_lab_filtered, cv2.COLOR_Lab2RGB))\n",
    "        plt.title(f\"Filtered Box {i+1}\")\n",
    "        \n",
    "    plt.show()\n",
    "\n",
    "def compute_common_color_cluster_and_range(frame, boxes, num_clusters=2, delta=10):\n",
    "    colors = []\n",
    "    for box in boxes:\n",
    "        roi = adjust_bbox(frame, box)\n",
    "        roi_lab = cv2.cvtColor(roi, cv2.COLOR_BGR2Lab)\n",
    "        roi_lab_filtered = filter_out_color_LAB(roi_lab, 127, 255)\n",
    "        non_zero_colors = roi_lab_filtered[roi_lab_filtered.any(axis=-1)]\n",
    "        colors.extend(non_zero_colors)\n",
    "\n",
    "    if len(colors) == 0:\n",
    "        print(\"All colors are filtered out.\")\n",
    "        return None, None\n",
    "\n",
    "    # Applying K-means clustering to group colors\n",
    "    kmeans = KMeans(n_clusters=num_clusters, random_state=0).fit(colors)\n",
    "    cluster_centers = kmeans.cluster_centers_.astype(int)\n",
    "\n",
    "    # Getting the most common cluster center (centroid)\n",
    "    labels, counts = np.unique(kmeans.labels_, return_counts=True)\n",
    "    most_common_cluster = cluster_centers[labels[np.argmax(counts)]]\n",
    "\n",
    "    # Compute the color range\n",
    "    lower_bound = np.clip(most_common_cluster - delta, 0, 255)\n",
    "    upper_bound = np.clip(most_common_cluster + delta, 0, 255)\n",
    "\n",
    "    # Plotting the most common color cluster center\n",
    "    plt.figure(figsize=(6, 2))\n",
    "    plt.subplot(1, 2, 1)\n",
    "    plt.imshow(cv2.cvtColor(most_common_cluster[np.newaxis, np.newaxis, :].astype(np.uint8), cv2.COLOR_Lab2RGB))\n",
    "    plt.title(\"Most Common Cluster Center\")\n",
    "    plt.axis('off')\n",
    "\n",
    "    # Plotting colors within the range\n",
    "    plt.subplot(1, 2, 2)\n",
    "    for i in range(5):\n",
    "        sample_color = np.random.randint(lower_bound, upper_bound+1)\n",
    "        plt.imshow(cv2.cvtColor(sample_color[np.newaxis, np.newaxis, :].astype(np.uint8), cv2.COLOR_Lab2RGB))\n",
    "        plt.title(\"Colors Within Range\")\n",
    "        plt.axis('off')\n",
    "\n",
    "    plt.show()\n",
    "\n",
    "    return lower_bound, upper_bound    \n",
    "    \n",
    "def compute_common_color_and_range(frame, boxes, delta=10):\n",
    "    colors = []\n",
    "    for box in boxes:\n",
    "        roi = adjust_bbox(frame, box)\n",
    "        roi_lab = cv2.cvtColor(roi, cv2.COLOR_BGR2Lab)\n",
    "        roi_lab_filtered = filter_out_color_LAB(roi_lab, 127, 255)\n",
    "        non_zero_colors = roi_lab_filtered[roi_lab_filtered.any(axis=-1)]\n",
    "        colors.extend(non_zero_colors)\n",
    "\n",
    "    if len(colors) == 0:\n",
    "        print(\"All colors are filtered out.\")\n",
    "        return None, None\n",
    "\n",
    "    color_counter = Counter(map(tuple, colors))\n",
    "    most_common_color = np.array(color_counter.most_common(1)[0][0], dtype=np.uint8)\n",
    "\n",
    "    # Compute the color range\n",
    "    lower_bound = most_common_color - delta\n",
    "    upper_bound = most_common_color + delta\n",
    "    \n",
    "    # Ensure the bounds are valid\n",
    "    if np.any(upper_bound < lower_bound):\n",
    "        print(\"Invalid color range corrected.\")\n",
    "        lower_bound = most_common_color\n",
    "        upper_bound = most_common_color\n",
    "    \n",
    "    lower_bound = np.clip(lower_bound, 0, 255)\n",
    "    upper_bound = np.clip(upper_bound, 0, 255)\n",
    "\n",
    "    # Plotting the most common color\n",
    "    plt.figure(figsize=(6, 2))\n",
    "    plt.subplot(1, 2, 1)\n",
    "    plt.imshow(cv2.cvtColor(most_common_color[np.newaxis, np.newaxis, :].astype(np.uint8), cv2.COLOR_Lab2RGB))\n",
    "    plt.title(\"Most Common Color\")\n",
    "    plt.axis('off')\n",
    "    \n",
    "    plt.subplot(1, 2, 2)\n",
    "    for i in range(5):\n",
    "        sample_color = np.random.randint(lower_bound, upper_bound + 1, size=(1,1,3))\n",
    "        plt.imshow(cv2.cvtColor(sample_color.astype(np.uint8), cv2.COLOR_Lab2RGB))\n",
    "        plt.axis('off')\n",
    "\n",
    "    return lower_bound, upper_bound\n",
    "\n",
    "\n",
    "def nearest_points(centroids, data_points, n):\n",
    "    # Calculate the distances between each data point and each centroid\n",
    "    distances = distance.cdist(data_points, centroids, 'euclidean')\n",
    "    \n",
    "    # Get the n smallest distances' indices for each centroid\n",
    "    nearest_indices = np.argsort(distances, axis=0)[:n]\n",
    "    \n",
    "    # Creating a dictionary to hold the indices of the nearest points for each centroid\n",
    "    nearest_per_centroid = {i: nearest_indices[:, i].tolist() for i in range(centroids.shape[0])}\n",
    "\n",
    "    return nearest_per_centroid\n",
    "\n",
    "\n",
    "def compute_jersey_colors(first_frame, dets, bounding_boxes, classes, color_multiplier=4):\n",
    "    # get_mean_color returns a tuple, 0 is most common color, 1 is mean color\n",
    "    class_1_boxes = [bounding_box for bounding_box, cls in zip(bounding_boxes, classes) if cls == 1]\n",
    "    colors_bounding_boxes = [(get_mean_color(first_frame, bounding_box)[1], bounding_box) for bounding_box in class_1_boxes]\n",
    "    \n",
    "    mean_colors = []\n",
    "    for color_bbox in colors_bounding_boxes:\n",
    "        mean_colors.append(color_bbox[0])\n",
    "    \n",
    "    initial_centroids = []\n",
    "    mean_colors = np.array(mean_colors)\n",
    "    label_clusters, centroids = perform_kmeans_clustering(mean_colors, initial_centroids, color_multiplier=color_multiplier)\n",
    "    clustered_points = mean_colors.copy()\n",
    "    clustered_points[:,1:3] *= color_multiplier\n",
    "    \n",
    "    close_points = nearest_points(centroids, clustered_points, 4)\n",
    "    \n",
    "    centroid_1_boxes = [class_1_boxes[i] for i in close_points[0]]\n",
    "    centroid_2_boxes = [class_1_boxes[i] for i in close_points[1]]\n",
    "    \n",
    "    \n",
    "    #plot_filtered_boxes(first_frame, centroid_1_boxes)\n",
    "    #plot_filtered_boxes(first_frame, centroid_2_boxes)\n",
    "    print(\"first\")\n",
    "    home1 = compute_common_color_cluster_and_range(first_frame, centroid_1_boxes)\n",
    "    home = compute_common_color_and_range(first_frame, centroid_1_boxes)\n",
    "\n",
    "    print(\"second\")\n",
    "    away1 = compute_common_color_cluster_and_range(first_frame, centroid_2_boxes)\n",
    "    away = compute_common_color_and_range(first_frame, centroid_2_boxes)\n",
    "\n",
    "\n",
    "    print(\"Most Dominant Color (in LAB):\", away1)\n",
    "    return (home, away)\n",
    "    \n",
    "\n",
    "def plot_lab_region(lower_bound, upper_bound):\n",
    "    fig = plt.figure()\n",
    "    ax = fig.add_subplot(111, projection='3d')\n",
    "    \n",
    "    # Define the vertices of the region\n",
    "    # Each vertex is a combination of the lower and upper values for L, a, and b\n",
    "    vertices = [\n",
    "        [lower_bound[0], lower_bound[1], lower_bound[2]],\n",
    "        [upper_bound[0], lower_bound[1], lower_bound[2]],\n",
    "        [upper_bound[0], upper_bound[1], lower_bound[2]],\n",
    "        [lower_bound[0], upper_bound[1], lower_bound[2]],\n",
    "        [lower_bound[0], lower_bound[1], upper_bound[2]],\n",
    "        [upper_bound[0], lower_bound[1], upper_bound[2]],\n",
    "        [upper_bound[0], upper_bound[1], upper_bound[2]],\n",
    "        [lower_bound[0], upper_bound[1], upper_bound[2]]\n",
    "    ]\n",
    "    \n",
    "    vertices = np.array(vertices)\n",
    "    \n",
    "    # Define the vertices that compose each of the 6 faces of the region\n",
    "    faces = [\n",
    "        [vertices[0], vertices[1], vertices[2], vertices[3]],\n",
    "        [vertices[4], vertices[5], vertices[6], vertices[7]], \n",
    "        [vertices[0], vertices[1], vertices[5], vertices[4]], \n",
    "        [vertices[1], vertices[2], vertices[6], vertices[5]],\n",
    "        [vertices[2], vertices[3], vertices[7], vertices[6]],\n",
    "        [vertices[3], vertices[0], vertices[4], vertices[7]]\n",
    "    ]\n",
    "    \n",
    "    # Draw the faces\n",
    "    ax.add_collection3d(Poly3DCollection(faces, facecolors='cyan', linewidths=1, edgecolors='black', alpha=.25))\n",
    "    \n",
    "    ax.set_xlabel('L*')\n",
    "    ax.set_ylabel('a*')\n",
    "    ax.set_zlabel('b*')\n",
    "    ax.set_xlim([0, 255])\n",
    "    ax.set_ylim([-255, 255])\n",
    "    ax.set_zlim([-255, 255])\n",
    "    plt.show()\n",
    "\n",
    "        \n",
    "def get_team_belonging(image, bounding_box, home_color, away_color, should_plot=False):\n",
    "    #blur_kernel_size = (2,2)\n",
    "    #image = cv2.blur(image, blur_kernel_size)\n",
    "    roi = adjust_bbox(image, bounding_box)\n",
    "    \n",
    "    # Converting to LAB color space\n",
    "    roi_lab = cv2.cvtColor(roi, cv2.COLOR_BGR2LAB)\n",
    "    \n",
    "    roi_lab_away = roi_lab.copy()\n",
    "    roi_lab_referee = roi_lab.copy()\n",
    "    \n",
    "    lower_blue = np.array([100, 50, 50])\n",
    "    upper_blue = np.array([140, 255, 255])\n",
    "    \n",
    "    lower_white = np.array([0, 0, 200])\n",
    "    upper_white = np.array([180, 50, 255])\n",
    "    \n",
    "    \n",
    "    mask_home = cv2.inRange(roi_lab, home_color[0], home_color[1])\n",
    "    #mask_home = cv2.inRange(roi_lab, lower_blue, upper_blue)\n",
    "    result_home = cv2.bitwise_and(roi_lab, roi_lab, mask=mask_home)\n",
    "    count_home = cv2.countNonZero(mask_home)\n",
    "    \n",
    "    mask_away = cv2.inRange(roi_lab_away, away_color[0], away_color[1])\n",
    "    #mask_away = cv2.inRange(roi_lab_away, lower_white, upper_white)\n",
    "    result_away = cv2.bitwise_and(roi_lab_away, roi_lab_away, mask=mask_away)\n",
    "    count_away = cv2.countNonZero(mask_away)\n",
    "    \n",
    "    if should_plot:\n",
    "        plt.figure(figsize=(10, 5))\n",
    "        # Displaying the mask\n",
    "        plt.subplot(1, 5, 1)\n",
    "        plt.imshow(cv2.cvtColor(roi, cv2.COLOR_BGR2RGB))\n",
    "        plt.title(\"Result\")\n",
    "\n",
    "        plt.subplot(1, 5, 2)\n",
    "        plt.imshow(mask_home, cmap='gray')\n",
    "        plt.title(\"Mask Home\")\n",
    "\n",
    "        # Displaying the result\n",
    "        plt.subplot(1, 5, 3)\n",
    "        plt.imshow(cv2.cvtColor(result_home, cv2.COLOR_HSV2RGB))\n",
    "        plt.title(\"Result Home\")\n",
    "\n",
    "        plt.subplot(1, 5, 4)\n",
    "        plt.imshow(mask_away, cmap='gray')\n",
    "        plt.title(\"Mask Away\")\n",
    "\n",
    "        # Displaying the result\n",
    "        plt.subplot(1, 5, 5)\n",
    "        plt.imshow(cv2.cvtColor(result_away, cv2.COLOR_HSV2RGB))\n",
    "        plt.title(\"Result Away\")\n",
    "\n",
    "        plt.show()\n",
    "        \n",
    "        \n",
    "    team = -1\n",
    "    \n",
    "    if count_away > count_home:\n",
    "        team = 1\n",
    "        print(\"Away team\")\n",
    "    else:\n",
    "        print(\"Home team\")\n",
    "        team = 0\n",
    "        \n",
    "    return team"
   ]
  },
  {
   "cell_type": "code",
   "execution_count": 7,
   "id": "41f2a4c7",
   "metadata": {},
   "outputs": [],
   "source": [
    "import os\n",
    "import cv2\n",
    "import zipfile\n",
    "\n",
    "# Function to get unique colors for each class id\n",
    "def get_color(cls_id):\n",
    "    np.random.seed(cls_id)\n",
    "    return tuple(np.random.randint(0, 255, 3).tolist())\n",
    "\n",
    "def split_ball_players(detections):\n",
    "    dets = []\n",
    "    ball = np.array([])\n",
    "    highest_conf = 0\n",
    "\n",
    "    for bounding_boxes in detections:\n",
    "        if bounding_boxes[-1:] != 0:\n",
    "            dets.append(bounding_boxes)\n",
    "        if bounding_boxes[5] == 0:\n",
    "            if bounding_boxes[4] > highest_conf:\n",
    "                highest_conf = bounding_boxes[4]\n",
    "                ball = bounding_boxes\n",
    "\n",
    "\n",
    "    dets = np.array(dets)\n",
    "    \n",
    "    return dets, ball\n",
    "\n",
    "def draw_on_frame(image, xyxys, ids, clss, labels, ball):\n",
    "    thickness = 2\n",
    "    fontscale = 0.5\n",
    "\n",
    "    \n",
    "    for xyxy, id, cls, label in zip(xyxys, ids, clss, labels):\n",
    "\n",
    "\n",
    "        # Convert bounding box coordinates to Rect object\n",
    "        rect = Rect(xyxy[0], xyxy[1], xyxy[2], xyxy[3])\n",
    "        if cls == 1:\n",
    "            cls = cls + label\n",
    "\n",
    "        # Get a unique color for each class\n",
    "        color = Color(*get_color(cls))\n",
    "\n",
    "        # Draw an ellipse at the bottom of the bounding box\n",
    "        draw_ellipse(image, rect, color, thickness)\n",
    "\n",
    "        # Place ID text just above the ellipse\n",
    "        cv2.putText(\n",
    "            image,\n",
    "            f'{id}',\n",
    "            (rect.bottom_center[0] - 10, rect.bottom_center[1] - int(0.35 * rect.width) - 5),\n",
    "            cv2.FONT_HERSHEY_SIMPLEX,\n",
    "            fontscale,\n",
    "            color.bgr_tuple,\n",
    "            thickness\n",
    "        )\n",
    "    if len(ball) != 0:\n",
    "        rect = Rect(int(ball[0]), int(ball[1]), int(ball[2]), int(ball[3]))\n",
    "        # Get a unique color for each class\n",
    "        color = Color(*get_color(0))\n",
    "\n",
    "        # Draw an ellipse at the bottom of the bounding box\n",
    "        draw_ellipse(image, rect, color, thickness)\n",
    "        id = -1\n",
    "        # Place ID text just above the ellipse\n",
    "        cv2.putText(\n",
    "            image,\n",
    "            \"-1\",\n",
    "            (rect.bottom_center[0] - 10, rect.bottom_center[1] - int(0.35 * rect.width) - 5),\n",
    "            cv2.FONT_HERSHEY_SIMPLEX,\n",
    "            fontscale,\n",
    "            color.bgr_tuple,\n",
    "            thickness\n",
    "        )\n",
    "        \n",
    "        \n",
    "def save_frame_as_image(frame, output_folder, frame_id):\n",
    "    \"\"\"Save the current frame as an image.\"\"\"\n",
    "    if not os.path.exists(output_folder):\n",
    "        os.makedirs(output_folder)\n",
    "    \n",
    "    filename = os.path.join(output_folder, f\"{frame_id:06}.jpg\")\n",
    "    print(\"Saved: \" + filename)\n",
    "    cv2.imwrite(filename, frame)\n",
    "\n",
    "def write_labels_txt(class_names, filepath):\n",
    "    \"\"\"Write class names to labels.txt.\"\"\"\n",
    "    with open(filepath, \"w\") as f:\n",
    "        for name in class_names:\n",
    "            f.write(name + \"\\n\")\n",
    "\n",
    "def export_to_mot_format(frames, track_ids, bboxes, class_ids, filepath):\n",
    "    \"\"\"Write the tracking results into gt.txt in the MOT format.\"\"\"\n",
    "    with open(filepath, 'w') as f:\n",
    "        for frame_num, track_id, bbox, class_id in zip(frames, track_ids, bboxes, class_ids):\n",
    "            x1, y1, x2, y2 = bbox\n",
    "            x1, y1, x2, y2 = int(x1), int(y1), int(x2), int(y2)\n",
    "            w = x2 - x1\n",
    "            h = y2 - y1\n",
    "            f.write(f\"{frame_num},{track_id},{x1},{y1},{w},{h},1,{class_id},0.86014\\n\")\n"
   ]
  },
  {
   "cell_type": "code",
   "execution_count": 8,
   "id": "817e5a04",
   "metadata": {},
   "outputs": [],
   "source": [
    "def process_video(input_file, output_file, tracker, yolov8, do_kmeans, conf=0.3, should_plot=False, class_names=None):\n",
    "    \"\"\"\n",
    "    Process the input video, perform object detection and tracking, and save the results to the output video.\n",
    "    \"\"\"\n",
    "    input_video = cv2.VideoCapture(input_file)\n",
    "    width = int(input_video.get(cv2.CAP_PROP_FRAME_WIDTH))\n",
    "    height = int(input_video.get(cv2.CAP_PROP_FRAME_HEIGHT))\n",
    "    fps = input_video.get(cv2.CAP_PROP_FPS)\n",
    "    fourcc = cv2.VideoWriter_fourcc(*'mp4v')\n",
    "    out = cv2.VideoWriter(output_file, fourcc, fps, (width, height))\n",
    "  \n",
    "    # Directories for the MOT structure\n",
    "    temp_folder = \"temp_task_folder\"\n",
    "    img_folder = os.path.join(temp_folder, \"img1\")\n",
    "    gt_folder = os.path.join(temp_folder, \"gt\")\n",
    "    \n",
    "    frames = []\n",
    "    track_ids = []\n",
    "    bboxes = []\n",
    "    scores = []\n",
    "    class_ids = []\n",
    "\n",
    "    initial_centroids = []\n",
    "    counter = 1\n",
    "    while True:\n",
    "        print(counter)\n",
    "        ret, image = input_video.read()\n",
    "        if not ret:\n",
    "            break\n",
    "        \n",
    "        # Save the frame as image for the MOT structure\n",
    "        save_frame_as_image(image, img_folder, counter)\n",
    "        \n",
    "        predicted = yolov8.predict(image, conf=conf)\n",
    "        detections = predicted[0].boxes.data.cpu().numpy()\n",
    "        \n",
    "        # Split the ball detections and player detections into two arrays\n",
    "        # This ensures the labels are correct when doing team assignment\n",
    "        # and that we only get 1 ball in each frame\n",
    "        dets, ball = split_ball_players(detections)\n",
    "        \n",
    "        tracks = tracker.update(dets, image)\n",
    "        \n",
    "        # Set im = image so we can do transforms on the image for better color identification\n",
    "        # Without altering the original image so when writing the video it looks the same\n",
    "        #im = cv2.addWeighted(image, 0.75, image, 0.5, 0)\n",
    "        im = image\n",
    "        \n",
    "        if tracks.size > 0:  # Check if tracks is not empty\n",
    "            xyxys = tracks[:, 0:4].astype('int')\n",
    "            ids = tracks[:, 4].astype('int')\n",
    "            clss = tracks[:, 6].astype('int')\n",
    "        else:\n",
    "            print(\"Tracks is empty or not in expected format.\")\n",
    "\n",
    "        if(counter == 1):\n",
    "            home, away = compute_jersey_colors(im, dets, xyxys, clss)\n",
    "            \n",
    "            if should_plot:\n",
    "                home_away_color_ranges(home, away)\n",
    "            \n",
    "            \n",
    "        if tracks.shape[0] != 0:\n",
    "            player_mean_colors = [get_mean_color(im, xyxy)[1] for xyxy, cls in zip(xyxys, clss) if cls == 1]\n",
    "            #player_mean_colors = [get_color_histogram(im, xyxy) for xyxy, cls in zip(xyxys, clss) if cls == 1]\n",
    "            \n",
    "            if(len(initial_centroids) == 0):\n",
    "                labels, initial_centroids = perform_kmeans_clustering(player_mean_colors, initial_centroids)\n",
    "\n",
    "            else:\n",
    "                if do_kmeans:\n",
    "                    labels = perform_kmeans_clustering(player_mean_colors, initial_centroids)[0]\n",
    "                else:\n",
    "                    labels = [get_team_belonging(im, xyxy, home, away) for xyxy, cls in zip(xyxys, clss) if cls == 1]\n",
    "            \n",
    "            if should_plot:\n",
    "                plot_kmeans_clusters(player_mean_colors, labels)   \n",
    "    \n",
    "    \n",
    "            draw_on_frame(image, xyxys, ids, clss, labels, ball)\n",
    "                \n",
    "             # Collect data for MOT format\n",
    "            for track in tracks:\n",
    "                frames.append(counter)\n",
    "                track_ids.append(int(track[4]))\n",
    "                bboxes.append(track[0:4])\n",
    "                class_ids.append(int(track[6]))\n",
    "        if len(ball) != 0:        \n",
    "            frames.append(counter)\n",
    "            track_ids.append(30)\n",
    "            bboxes.append(ball[0:4])\n",
    "            class_ids.append(int(ball[5]))\n",
    "\n",
    "        out.write(image)\n",
    "        counter += 1\n",
    "        \n",
    "    # Once the video is processed, generate the MOT structure\n",
    "    # Write class names into labels.txt\n",
    "    labels_txt_path = os.path.join(gt_folder, \"labels.txt\")\n",
    "    os.makedirs(os.path.dirname(labels_txt_path), exist_ok=True)\n",
    "    write_labels_txt(class_names, labels_txt_path)\n",
    "\n",
    "    # Write tracking results into gt.txt\n",
    "    gt_txt_path = os.path.join(gt_folder, \"gt.txt\")\n",
    "    export_to_mot_format(frames, track_ids, bboxes, class_ids, gt_txt_path)\n",
    "\n",
    "    # Zip everything\n",
    "    output_zip_path = os.path.splitext(output_file)[0] + \".zip\"\n",
    "    with zipfile.ZipFile(output_zip_path, 'w') as zipf:\n",
    "        for foldername, subfolders, filenames in os.walk(temp_folder):\n",
    "            for filename in filenames:\n",
    "                filepath = os.path.join(foldername, filename)\n",
    "                zipf.write(filepath)\n",
    "  \n",
    "    input_video.release()\n",
    "    out.release()\n",
    "    cv2.destroyAllWindows()\n",
    "\n",
    "    for foldername, subfolders, filenames in os.walk(temp_folder, topdown=False):\n",
    "        for filename in filenames:\n",
    "            os.remove(os.path.join(foldername, filename))\n",
    "        os.rmdir(foldername)"
   ]
  },
  {
   "cell_type": "code",
   "execution_count": 9,
   "id": "797ec9cc",
   "metadata": {
    "scrolled": true
   },
   "outputs": [
    {
     "name": "stdout",
     "output_type": "stream",
     "text": [
      "Tracking output: videos/1min_Bodø_start_tracking_output_test.mp4\n"
     ]
    },
    {
     "name": "stderr",
     "output_type": "stream",
     "text": [
      "\u001b[32m2023-11-03 13:23:52.643\u001b[0m | \u001b[32m\u001b[1mSUCCESS \u001b[0m | \u001b[36mboxmot.appearance.reid_model_factory\u001b[0m:\u001b[36mload_pretrained_weights\u001b[0m:\u001b[36m207\u001b[0m - \u001b[32m\u001b[1mSuccessfully loaded pretrained weights from \"osnet_x1_0_market1501.pt\"\u001b[0m\n"
     ]
    },
    {
     "name": "stdout",
     "output_type": "stream",
     "text": [
      "1\n",
      "Saved: temp_task_folder/img1/000001.jpg\n"
     ]
    },
    {
     "name": "stderr",
     "output_type": "stream",
     "text": [
      "\n",
      "0: 1088x1920 1 ball, 22 players, 125.8ms\n",
      "Speed: 34.3ms preprocess, 125.8ms inference, 144.9ms postprocess per image at shape (1, 3, 1088, 1920)\n"
     ]
    },
    {
     "name": "stdout",
     "output_type": "stream",
     "text": [
      "first\n"
     ]
    },
    {
     "data": {
      "image/png": "[encoded data removed]",
      "text/plain": [
       "<Figure size 600x200 with 2 Axes>"
      ]
     },
     "metadata": {},
     "output_type": "display_data"
    },
    {
     "name": "stdout",
     "output_type": "stream",
     "text": [
      "Invalid color range corrected.\n",
      "second\n"
     ]
    },
    {
     "data": {
      "image/png": "[encoded data removed]",
      "text/plain": [
       "<Figure size 600x200 with 2 Axes>"
      ]
     },
     "metadata": {},
     "output_type": "display_data"
    },
    {
     "data": {
      "image/png": "[encoded data removed]",
      "text/plain": [
       "<Figure size 600x200 with 2 Axes>"
      ]
     },
     "metadata": {},
     "output_type": "display_data"
    },
    {
     "name": "stdout",
     "output_type": "stream",
     "text": [
      "Most Dominant Color (in LAB): (array([135, 118, 154]), array([155, 138, 174]))\n"
     ]
    },
    {
     "name": "stderr",
     "output_type": "stream",
     "text": [
      "\n",
      "0: 1088x1920 1 ball, 22 players, 57.4ms\n",
      "Speed: 9.9ms preprocess, 57.4ms inference, 1.3ms postprocess per image at shape (1, 3, 1088, 1920)\n"
     ]
    },
    {
     "name": "stdout",
     "output_type": "stream",
     "text": [
      "2\n",
      "Saved: temp_task_folder/img1/000002.jpg\n"
     ]
    },
    {
     "name": "stderr",
     "output_type": "stream",
     "text": [
      "\n",
      "0: 1088x1920 1 ball, 22 players, 57.3ms\n",
      "Speed: 7.8ms preprocess, 57.3ms inference, 1.1ms postprocess per image at shape (1, 3, 1088, 1920)\n"
     ]
    },
    {
     "name": "stdout",
     "output_type": "stream",
     "text": [
      "3\n",
      "Saved: temp_task_folder/img1/000003.jpg\n",
      "4\n",
      "Saved: temp_task_folder/img1/000004.jpg\n"
     ]
    },
    {
     "name": "stderr",
     "output_type": "stream",
     "text": [
      "\n",
      "0: 1088x1920 1 ball, 22 players, 57.5ms\n",
      "Speed: 7.9ms preprocess, 57.5ms inference, 1.1ms postprocess per image at shape (1, 3, 1088, 1920)\n",
      "\n",
      "0: 1088x1920 1 ball, 22 players, 57.4ms\n",
      "Speed: 6.8ms preprocess, 57.4ms inference, 1.1ms postprocess per image at shape (1, 3, 1088, 1920)\n"
     ]
    },
    {
     "name": "stdout",
     "output_type": "stream",
     "text": [
      "5\n",
      "Saved: temp_task_folder/img1/000005.jpg\n",
      "6\n",
      "Saved: temp_task_folder/img1/000006.jpg\n"
     ]
    },
    {
     "name": "stderr",
     "output_type": "stream",
     "text": [
      "\n",
      "0: 1088x1920 1 ball, 22 players, 57.7ms\n",
      "Speed: 7.9ms preprocess, 57.7ms inference, 1.1ms postprocess per image at shape (1, 3, 1088, 1920)\n",
      "\n",
      "0: 1088x1920 1 ball, 22 players, 57.4ms\n",
      "Speed: 6.9ms preprocess, 57.4ms inference, 1.2ms postprocess per image at shape (1, 3, 1088, 1920)\n"
     ]
    },
    {
     "name": "stdout",
     "output_type": "stream",
     "text": [
      "7\n",
      "Saved: temp_task_folder/img1/000007.jpg\n",
      "8\n",
      "Saved: temp_task_folder/img1/000008.jpg\n"
     ]
    },
    {
     "name": "stderr",
     "output_type": "stream",
     "text": [
      "\n",
      "0: 1088x1920 1 ball, 22 players, 57.4ms\n",
      "Speed: 6.8ms preprocess, 57.4ms inference, 1.1ms postprocess per image at shape (1, 3, 1088, 1920)\n",
      "\n",
      "0: 1088x1920 1 ball, 22 players, 57.5ms\n",
      "Speed: 6.8ms preprocess, 57.5ms inference, 1.1ms postprocess per image at shape (1, 3, 1088, 1920)\n"
     ]
    },
    {
     "name": "stdout",
     "output_type": "stream",
     "text": [
      "9\n",
      "Saved: temp_task_folder/img1/000009.jpg\n",
      "10\n",
      "Saved: temp_task_folder/img1/000010.jpg\n"
     ]
    },
    {
     "name": "stderr",
     "output_type": "stream",
     "text": [
      "\n",
      "0: 1088x1920 1 ball, 22 players, 57.4ms\n",
      "Speed: 7.0ms preprocess, 57.4ms inference, 1.1ms postprocess per image at shape (1, 3, 1088, 1920)\n",
      "\n",
      "0: 1088x1920 1 ball, 22 players, 57.3ms\n",
      "Speed: 6.9ms preprocess, 57.3ms inference, 1.2ms postprocess per image at shape (1, 3, 1088, 1920)\n"
     ]
    },
    {
     "name": "stdout",
     "output_type": "stream",
     "text": [
      "11\n",
      "Saved: temp_task_folder/img1/000011.jpg\n",
      "12\n",
      "Saved: temp_task_folder/img1/000012.jpg\n"
     ]
    },
    {
     "name": "stderr",
     "output_type": "stream",
     "text": [
      "\n",
      "0: 1088x1920 1 ball, 22 players, 57.5ms\n",
      "Speed: 6.8ms preprocess, 57.5ms inference, 1.1ms postprocess per image at shape (1, 3, 1088, 1920)\n",
      "\n",
      "0: 1088x1920 1 ball, 22 players, 57.5ms\n",
      "Speed: 6.8ms preprocess, 57.5ms inference, 1.1ms postprocess per image at shape (1, 3, 1088, 1920)\n"
     ]
    },
    {
     "name": "stdout",
     "output_type": "stream",
     "text": [
      "13\n",
      "Saved: temp_task_folder/img1/000013.jpg\n",
      "14\n",
      "Saved: temp_task_folder/img1/000014.jpg\n"
     ]
    },
    {
     "name": "stderr",
     "output_type": "stream",
     "text": [
      "\n",
      "0: 1088x1920 1 ball, 22 players, 57.4ms\n",
      "Speed: 7.9ms preprocess, 57.4ms inference, 1.1ms postprocess per image at shape (1, 3, 1088, 1920)\n",
      "\n",
      "0: 1088x1920 1 ball, 22 players, 57.5ms\n",
      "Speed: 6.8ms preprocess, 57.5ms inference, 1.1ms postprocess per image at shape (1, 3, 1088, 1920)\n"
     ]
    },
    {
     "name": "stdout",
     "output_type": "stream",
     "text": [
      "15\n",
      "Saved: temp_task_folder/img1/000015.jpg\n",
      "16\n",
      "Saved: temp_task_folder/img1/000016.jpg\n"
     ]
    },
    {
     "name": "stderr",
     "output_type": "stream",
     "text": [
      "\n",
      "0: 1088x1920 1 ball, 22 players, 57.4ms\n",
      "Speed: 6.8ms preprocess, 57.4ms inference, 1.1ms postprocess per image at shape (1, 3, 1088, 1920)\n",
      "\n",
      "0: 1088x1920 1 ball, 22 players, 57.4ms\n",
      "Speed: 6.9ms preprocess, 57.4ms inference, 1.1ms postprocess per image at shape (1, 3, 1088, 1920)\n"
     ]
    },
    {
     "name": "stdout",
     "output_type": "stream",
     "text": [
      "17\n",
      "Saved: temp_task_folder/img1/000017.jpg\n",
      "18\n",
      "Saved: temp_task_folder/img1/000018.jpg\n"
     ]
    },
    {
     "name": "stderr",
     "output_type": "stream",
     "text": [
      "\n",
      "0: 1088x1920 1 ball, 22 players, 57.4ms\n",
      "Speed: 6.9ms preprocess, 57.4ms inference, 1.2ms postprocess per image at shape (1, 3, 1088, 1920)\n",
      "\n",
      "0: 1088x1920 1 ball, 22 players, 57.5ms\n",
      "Speed: 6.9ms preprocess, 57.5ms inference, 1.1ms postprocess per image at shape (1, 3, 1088, 1920)\n"
     ]
    },
    {
     "name": "stdout",
     "output_type": "stream",
     "text": [
      "19\n",
      "Saved: temp_task_folder/img1/000019.jpg\n",
      "20\n",
      "Saved: temp_task_folder/img1/000020.jpg\n"
     ]
    },
    {
     "name": "stderr",
     "output_type": "stream",
     "text": [
      "\n",
      "0: 1088x1920 1 ball, 22 players, 57.8ms\n",
      "Speed: 6.8ms preprocess, 57.8ms inference, 1.1ms postprocess per image at shape (1, 3, 1088, 1920)\n",
      "\n",
      "0: 1088x1920 1 ball, 22 players, 57.5ms\n",
      "Speed: 6.9ms preprocess, 57.5ms inference, 1.1ms postprocess per image at shape (1, 3, 1088, 1920)\n"
     ]
    },
    {
     "name": "stdout",
     "output_type": "stream",
     "text": [
      "21\n",
      "Saved: temp_task_folder/img1/000021.jpg\n",
      "22\n",
      "Saved: temp_task_folder/img1/000022.jpg\n"
     ]
    },
    {
     "name": "stderr",
     "output_type": "stream",
     "text": [
      "\n",
      "0: 1088x1920 1 ball, 22 players, 57.4ms\n",
      "Speed: 6.8ms preprocess, 57.4ms inference, 1.1ms postprocess per image at shape (1, 3, 1088, 1920)\n",
      "\n",
      "0: 1088x1920 1 ball, 22 players, 57.3ms\n",
      "Speed: 6.9ms preprocess, 57.3ms inference, 1.1ms postprocess per image at shape (1, 3, 1088, 1920)\n"
     ]
    },
    {
     "name": "stdout",
     "output_type": "stream",
     "text": [
      "23\n",
      "Saved: temp_task_folder/img1/000023.jpg\n",
      "24\n",
      "Saved: temp_task_folder/img1/000024.jpg\n"
     ]
    },
    {
     "name": "stderr",
     "output_type": "stream",
     "text": [
      "\n",
      "0: 1088x1920 1 ball, 22 players, 57.4ms\n",
      "Speed: 6.9ms preprocess, 57.4ms inference, 1.2ms postprocess per image at shape (1, 3, 1088, 1920)\n",
      "\n",
      "0: 1088x1920 1 ball, 22 players, 57.3ms\n",
      "Speed: 6.8ms preprocess, 57.3ms inference, 1.1ms postprocess per image at shape (1, 3, 1088, 1920)\n"
     ]
    },
    {
     "name": "stdout",
     "output_type": "stream",
     "text": [
      "25\n",
      "Saved: temp_task_folder/img1/000025.jpg\n",
      "26\n",
      "Saved: temp_task_folder/img1/000026.jpg\n"
     ]
    },
    {
     "name": "stderr",
     "output_type": "stream",
     "text": [
      "\n",
      "0: 1088x1920 1 ball, 22 players, 57.4ms\n",
      "Speed: 6.8ms preprocess, 57.4ms inference, 1.1ms postprocess per image at shape (1, 3, 1088, 1920)\n",
      "\n",
      "0: 1088x1920 1 ball, 22 players, 57.5ms\n",
      "Speed: 6.9ms preprocess, 57.5ms inference, 1.2ms postprocess per image at shape (1, 3, 1088, 1920)\n"
     ]
    },
    {
     "name": "stdout",
     "output_type": "stream",
     "text": [
      "27\n",
      "Saved: temp_task_folder/img1/000027.jpg\n",
      "28\n",
      "Saved: temp_task_folder/img1/000028.jpg\n"
     ]
    },
    {
     "name": "stderr",
     "output_type": "stream",
     "text": [
      "\n",
      "0: 1088x1920 1 ball, 22 players, 57.4ms\n",
      "Speed: 6.8ms preprocess, 57.4ms inference, 1.1ms postprocess per image at shape (1, 3, 1088, 1920)\n",
      "\n",
      "0: 1088x1920 1 ball, 22 players, 57.6ms\n",
      "Speed: 6.8ms preprocess, 57.6ms inference, 1.1ms postprocess per image at shape (1, 3, 1088, 1920)\n"
     ]
    },
    {
     "name": "stdout",
     "output_type": "stream",
     "text": [
      "29\n",
      "Saved: temp_task_folder/img1/000029.jpg\n",
      "30\n",
      "Saved: temp_task_folder/img1/000030.jpg\n"
     ]
    },
    {
     "name": "stderr",
     "output_type": "stream",
     "text": [
      "\n",
      "0: 1088x1920 1 ball, 22 players, 57.5ms\n",
      "Speed: 6.8ms preprocess, 57.5ms inference, 1.1ms postprocess per image at shape (1, 3, 1088, 1920)\n",
      "\n",
      "0: 1088x1920 1 ball, 22 players, 57.2ms\n",
      "Speed: 6.8ms preprocess, 57.2ms inference, 1.1ms postprocess per image at shape (1, 3, 1088, 1920)\n"
     ]
    },
    {
     "name": "stdout",
     "output_type": "stream",
     "text": [
      "31\n",
      "Saved: temp_task_folder/img1/000031.jpg\n",
      "32\n",
      "Saved: temp_task_folder/img1/000032.jpg\n"
     ]
    },
    {
     "name": "stderr",
     "output_type": "stream",
     "text": [
      "\n",
      "0: 1088x1920 1 ball, 22 players, 57.5ms\n",
      "Speed: 6.8ms preprocess, 57.5ms inference, 1.1ms postprocess per image at shape (1, 3, 1088, 1920)\n",
      "\n",
      "0: 1088x1920 1 ball, 22 players, 57.4ms\n",
      "Speed: 6.8ms preprocess, 57.4ms inference, 1.1ms postprocess per image at shape (1, 3, 1088, 1920)\n"
     ]
    },
    {
     "name": "stdout",
     "output_type": "stream",
     "text": [
      "33\n",
      "Saved: temp_task_folder/img1/000033.jpg\n",
      "34\n",
      "Saved: temp_task_folder/img1/000034.jpg\n"
     ]
    },
    {
     "name": "stderr",
     "output_type": "stream",
     "text": [
      "\n",
      "0: 1088x1920 1 ball, 22 players, 57.6ms\n",
      "Speed: 6.8ms preprocess, 57.6ms inference, 1.1ms postprocess per image at shape (1, 3, 1088, 1920)\n",
      "\n",
      "0: 1088x1920 1 ball, 22 players, 57.5ms\n",
      "Speed: 6.8ms preprocess, 57.5ms inference, 1.1ms postprocess per image at shape (1, 3, 1088, 1920)\n"
     ]
    },
    {
     "name": "stdout",
     "output_type": "stream",
     "text": [
      "35\n",
      "Saved: temp_task_folder/img1/000035.jpg\n",
      "36\n",
      "Saved: temp_task_folder/img1/000036.jpg\n"
     ]
    },
    {
     "name": "stderr",
     "output_type": "stream",
     "text": [
      "\n",
      "0: 1088x1920 1 ball, 22 players, 57.4ms\n",
      "Speed: 6.9ms preprocess, 57.4ms inference, 1.2ms postprocess per image at shape (1, 3, 1088, 1920)\n",
      "\n",
      "0: 1088x1920 1 ball, 22 players, 57.4ms\n",
      "Speed: 6.9ms preprocess, 57.4ms inference, 1.1ms postprocess per image at shape (1, 3, 1088, 1920)\n"
     ]
    },
    {
     "name": "stdout",
     "output_type": "stream",
     "text": [
      "37\n",
      "Saved: temp_task_folder/img1/000037.jpg\n",
      "38\n",
      "Saved: temp_task_folder/img1/000038.jpg\n"
     ]
    },
    {
     "name": "stderr",
     "output_type": "stream",
     "text": [
      "\n",
      "0: 1088x1920 1 ball, 22 players, 57.3ms\n",
      "Speed: 6.9ms preprocess, 57.3ms inference, 1.2ms postprocess per image at shape (1, 3, 1088, 1920)\n",
      "\n",
      "0: 1088x1920 1 ball, 22 players, 57.5ms\n",
      "Speed: 6.9ms preprocess, 57.5ms inference, 1.1ms postprocess per image at shape (1, 3, 1088, 1920)\n"
     ]
    },
    {
     "name": "stdout",
     "output_type": "stream",
     "text": [
      "39\n",
      "Saved: temp_task_folder/img1/000039.jpg\n",
      "40\n",
      "Saved: temp_task_folder/img1/000040.jpg\n"
     ]
    },
    {
     "name": "stderr",
     "output_type": "stream",
     "text": [
      "\n",
      "0: 1088x1920 1 ball, 22 players, 57.4ms\n",
      "Speed: 6.8ms preprocess, 57.4ms inference, 1.1ms postprocess per image at shape (1, 3, 1088, 1920)\n",
      "\n",
      "0: 1088x1920 1 ball, 22 players, 57.5ms\n",
      "Speed: 6.8ms preprocess, 57.5ms inference, 1.1ms postprocess per image at shape (1, 3, 1088, 1920)\n"
     ]
    },
    {
     "name": "stdout",
     "output_type": "stream",
     "text": [
      "41\n",
      "Saved: temp_task_folder/img1/000041.jpg\n",
      "42\n",
      "Saved: temp_task_folder/img1/000042.jpg\n"
     ]
    },
    {
     "name": "stderr",
     "output_type": "stream",
     "text": [
      "\n",
      "0: 1088x1920 1 ball, 22 players, 57.5ms\n",
      "Speed: 9.5ms preprocess, 57.5ms inference, 1.1ms postprocess per image at shape (1, 3, 1088, 1920)\n",
      "\n",
      "0: 1088x1920 1 ball, 22 players, 57.4ms\n",
      "Speed: 6.8ms preprocess, 57.4ms inference, 1.1ms postprocess per image at shape (1, 3, 1088, 1920)\n"
     ]
    },
    {
     "name": "stdout",
     "output_type": "stream",
     "text": [
      "43\n",
      "Saved: temp_task_folder/img1/000043.jpg\n",
      "44\n",
      "Saved: temp_task_folder/img1/000044.jpg\n"
     ]
    },
    {
     "name": "stderr",
     "output_type": "stream",
     "text": [
      "\n",
      "0: 1088x1920 1 ball, 22 players, 57.6ms\n",
      "Speed: 6.8ms preprocess, 57.6ms inference, 1.1ms postprocess per image at shape (1, 3, 1088, 1920)\n",
      "\n",
      "0: 1088x1920 1 ball, 22 players, 57.5ms\n",
      "Speed: 6.8ms preprocess, 57.5ms inference, 1.1ms postprocess per image at shape (1, 3, 1088, 1920)\n"
     ]
    },
    {
     "name": "stdout",
     "output_type": "stream",
     "text": [
      "45\n",
      "Saved: temp_task_folder/img1/000045.jpg\n",
      "46\n",
      "Saved: temp_task_folder/img1/000046.jpg\n"
     ]
    },
    {
     "name": "stderr",
     "output_type": "stream",
     "text": [
      "\n",
      "0: 1088x1920 1 ball, 22 players, 57.6ms\n",
      "Speed: 6.8ms preprocess, 57.6ms inference, 1.1ms postprocess per image at shape (1, 3, 1088, 1920)\n",
      "\n",
      "0: 1088x1920 1 ball, 22 players, 57.4ms\n",
      "Speed: 6.9ms preprocess, 57.4ms inference, 1.1ms postprocess per image at shape (1, 3, 1088, 1920)\n"
     ]
    },
    {
     "name": "stdout",
     "output_type": "stream",
     "text": [
      "47\n",
      "Saved: temp_task_folder/img1/000047.jpg\n",
      "48\n",
      "Saved: temp_task_folder/img1/000048.jpg\n"
     ]
    },
    {
     "name": "stderr",
     "output_type": "stream",
     "text": [
      "\n",
      "0: 1088x1920 1 ball, 22 players, 57.6ms\n",
      "Speed: 6.9ms preprocess, 57.6ms inference, 1.1ms postprocess per image at shape (1, 3, 1088, 1920)\n",
      "\n",
      "0: 1088x1920 1 ball, 22 players, 57.5ms\n",
      "Speed: 6.9ms preprocess, 57.5ms inference, 1.1ms postprocess per image at shape (1, 3, 1088, 1920)\n"
     ]
    },
    {
     "name": "stdout",
     "output_type": "stream",
     "text": [
      "49\n",
      "Saved: temp_task_folder/img1/000049.jpg\n",
      "50\n",
      "Saved: temp_task_folder/img1/000050.jpg\n"
     ]
    },
    {
     "name": "stderr",
     "output_type": "stream",
     "text": [
      "\n",
      "0: 1088x1920 1 ball, 22 players, 57.6ms\n",
      "Speed: 6.8ms preprocess, 57.6ms inference, 1.1ms postprocess per image at shape (1, 3, 1088, 1920)\n",
      "\n",
      "0: 1088x1920 1 ball, 22 players, 57.2ms\n",
      "Speed: 6.9ms preprocess, 57.2ms inference, 1.1ms postprocess per image at shape (1, 3, 1088, 1920)\n"
     ]
    },
    {
     "name": "stdout",
     "output_type": "stream",
     "text": [
      "51\n",
      "Saved: temp_task_folder/img1/000051.jpg\n",
      "52\n",
      "Saved: temp_task_folder/img1/000052.jpg\n"
     ]
    },
    {
     "name": "stderr",
     "output_type": "stream",
     "text": [
      "\n",
      "0: 1088x1920 1 ball, 22 players, 57.4ms\n",
      "Speed: 6.8ms preprocess, 57.4ms inference, 1.1ms postprocess per image at shape (1, 3, 1088, 1920)\n",
      "\n",
      "0: 1088x1920 1 ball, 22 players, 57.5ms\n",
      "Speed: 6.8ms preprocess, 57.5ms inference, 1.1ms postprocess per image at shape (1, 3, 1088, 1920)\n"
     ]
    },
    {
     "name": "stdout",
     "output_type": "stream",
     "text": [
      "53\n",
      "Saved: temp_task_folder/img1/000053.jpg\n",
      "54\n",
      "Saved: temp_task_folder/img1/000054.jpg\n"
     ]
    },
    {
     "name": "stderr",
     "output_type": "stream",
     "text": [
      "\n",
      "0: 1088x1920 1 ball, 22 players, 57.3ms\n",
      "Speed: 6.8ms preprocess, 57.3ms inference, 1.1ms postprocess per image at shape (1, 3, 1088, 1920)\n",
      "\n",
      "0: 1088x1920 1 ball, 22 players, 57.4ms\n",
      "Speed: 6.8ms preprocess, 57.4ms inference, 1.1ms postprocess per image at shape (1, 3, 1088, 1920)\n"
     ]
    },
    {
     "name": "stdout",
     "output_type": "stream",
     "text": [
      "55\n",
      "Saved: temp_task_folder/img1/000055.jpg\n",
      "56\n",
      "Saved: temp_task_folder/img1/000056.jpg\n"
     ]
    },
    {
     "name": "stderr",
     "output_type": "stream",
     "text": [
      "\n",
      "0: 1088x1920 1 ball, 22 players, 57.5ms\n",
      "Speed: 6.8ms preprocess, 57.5ms inference, 1.1ms postprocess per image at shape (1, 3, 1088, 1920)\n",
      "\n",
      "0: 1088x1920 1 ball, 22 players, 57.6ms\n",
      "Speed: 6.8ms preprocess, 57.6ms inference, 1.1ms postprocess per image at shape (1, 3, 1088, 1920)\n"
     ]
    },
    {
     "name": "stdout",
     "output_type": "stream",
     "text": [
      "57\n",
      "Saved: temp_task_folder/img1/000057.jpg\n",
      "58\n",
      "Saved: temp_task_folder/img1/000058.jpg\n"
     ]
    },
    {
     "name": "stderr",
     "output_type": "stream",
     "text": [
      "\n",
      "0: 1088x1920 1 ball, 22 players, 57.4ms\n",
      "Speed: 6.8ms preprocess, 57.4ms inference, 1.1ms postprocess per image at shape (1, 3, 1088, 1920)\n",
      "\n",
      "0: 1088x1920 1 ball, 22 players, 57.3ms\n",
      "Speed: 6.8ms preprocess, 57.3ms inference, 1.1ms postprocess per image at shape (1, 3, 1088, 1920)\n"
     ]
    },
    {
     "name": "stdout",
     "output_type": "stream",
     "text": [
      "59\n",
      "Saved: temp_task_folder/img1/000059.jpg\n",
      "60\n",
      "Saved: temp_task_folder/img1/000060.jpg\n"
     ]
    },
    {
     "name": "stderr",
     "output_type": "stream",
     "text": [
      "\n",
      "0: 1088x1920 1 ball, 22 players, 57.4ms\n",
      "Speed: 6.8ms preprocess, 57.4ms inference, 1.1ms postprocess per image at shape (1, 3, 1088, 1920)\n",
      "\n",
      "0: 1088x1920 1 ball, 22 players, 57.3ms\n",
      "Speed: 6.8ms preprocess, 57.3ms inference, 1.1ms postprocess per image at shape (1, 3, 1088, 1920)\n"
     ]
    },
    {
     "name": "stdout",
     "output_type": "stream",
     "text": [
      "61\n",
      "Saved: temp_task_folder/img1/000061.jpg\n",
      "62\n",
      "Saved: temp_task_folder/img1/000062.jpg\n"
     ]
    },
    {
     "name": "stderr",
     "output_type": "stream",
     "text": [
      "\n",
      "0: 1088x1920 1 ball, 22 players, 57.5ms\n",
      "Speed: 6.8ms preprocess, 57.5ms inference, 1.1ms postprocess per image at shape (1, 3, 1088, 1920)\n",
      "\n",
      "0: 1088x1920 1 ball, 22 players, 57.5ms\n",
      "Speed: 6.9ms preprocess, 57.5ms inference, 1.1ms postprocess per image at shape (1, 3, 1088, 1920)\n"
     ]
    },
    {
     "name": "stdout",
     "output_type": "stream",
     "text": [
      "63\n",
      "Saved: temp_task_folder/img1/000063.jpg\n",
      "64\n",
      "Saved: temp_task_folder/img1/000064.jpg\n"
     ]
    },
    {
     "name": "stderr",
     "output_type": "stream",
     "text": [
      "\n",
      "0: 1088x1920 1 ball, 22 players, 57.4ms\n",
      "Speed: 6.9ms preprocess, 57.4ms inference, 1.2ms postprocess per image at shape (1, 3, 1088, 1920)\n",
      "\n",
      "0: 1088x1920 1 ball, 22 players, 57.4ms\n",
      "Speed: 7.0ms preprocess, 57.4ms inference, 1.1ms postprocess per image at shape (1, 3, 1088, 1920)\n"
     ]
    },
    {
     "name": "stdout",
     "output_type": "stream",
     "text": [
      "65\n",
      "Saved: temp_task_folder/img1/000065.jpg\n",
      "66\n",
      "Saved: temp_task_folder/img1/000066.jpg\n"
     ]
    },
    {
     "name": "stderr",
     "output_type": "stream",
     "text": [
      "\n",
      "0: 1088x1920 1 ball, 22 players, 57.4ms\n",
      "Speed: 6.9ms preprocess, 57.4ms inference, 1.2ms postprocess per image at shape (1, 3, 1088, 1920)\n",
      "\n",
      "0: 1088x1920 1 ball, 22 players, 57.4ms\n",
      "Speed: 6.8ms preprocess, 57.4ms inference, 1.2ms postprocess per image at shape (1, 3, 1088, 1920)\n"
     ]
    },
    {
     "name": "stdout",
     "output_type": "stream",
     "text": [
      "67\n",
      "Saved: temp_task_folder/img1/000067.jpg\n",
      "68\n",
      "Saved: temp_task_folder/img1/000068.jpg\n"
     ]
    },
    {
     "name": "stderr",
     "output_type": "stream",
     "text": [
      "\n",
      "0: 1088x1920 1 ball, 22 players, 57.5ms\n",
      "Speed: 6.9ms preprocess, 57.5ms inference, 1.1ms postprocess per image at shape (1, 3, 1088, 1920)\n",
      "\n",
      "0: 1088x1920 1 ball, 22 players, 57.5ms\n",
      "Speed: 6.9ms preprocess, 57.5ms inference, 1.1ms postprocess per image at shape (1, 3, 1088, 1920)\n"
     ]
    },
    {
     "name": "stdout",
     "output_type": "stream",
     "text": [
      "69\n",
      "Saved: temp_task_folder/img1/000069.jpg\n",
      "70\n",
      "Saved: temp_task_folder/img1/000070.jpg\n"
     ]
    },
    {
     "name": "stderr",
     "output_type": "stream",
     "text": [
      "\n",
      "0: 1088x1920 1 ball, 22 players, 57.4ms\n",
      "Speed: 6.9ms preprocess, 57.4ms inference, 1.1ms postprocess per image at shape (1, 3, 1088, 1920)\n",
      "\n",
      "0: 1088x1920 1 ball, 22 players, 57.5ms\n",
      "Speed: 8.0ms preprocess, 57.5ms inference, 1.1ms postprocess per image at shape (1, 3, 1088, 1920)\n"
     ]
    },
    {
     "name": "stdout",
     "output_type": "stream",
     "text": [
      "71\n",
      "Saved: temp_task_folder/img1/000071.jpg\n",
      "72\n",
      "Saved: temp_task_folder/img1/000072.jpg\n"
     ]
    },
    {
     "name": "stderr",
     "output_type": "stream",
     "text": [
      "\n",
      "0: 1088x1920 1 ball, 22 players, 57.4ms\n",
      "Speed: 7.9ms preprocess, 57.4ms inference, 1.1ms postprocess per image at shape (1, 3, 1088, 1920)\n",
      "\n",
      "0: 1088x1920 1 ball, 22 players, 57.3ms\n",
      "Speed: 6.9ms preprocess, 57.3ms inference, 1.2ms postprocess per image at shape (1, 3, 1088, 1920)\n"
     ]
    },
    {
     "name": "stdout",
     "output_type": "stream",
     "text": [
      "73\n",
      "Saved: temp_task_folder/img1/000073.jpg\n",
      "74\n",
      "Saved: temp_task_folder/img1/000074.jpg\n"
     ]
    },
    {
     "name": "stderr",
     "output_type": "stream",
     "text": [
      "\n",
      "0: 1088x1920 1 ball, 22 players, 57.5ms\n",
      "Speed: 6.9ms preprocess, 57.5ms inference, 1.1ms postprocess per image at shape (1, 3, 1088, 1920)\n",
      "\n",
      "0: 1088x1920 1 ball, 22 players, 57.3ms\n",
      "Speed: 6.8ms preprocess, 57.3ms inference, 1.1ms postprocess per image at shape (1, 3, 1088, 1920)\n"
     ]
    },
    {
     "name": "stdout",
     "output_type": "stream",
     "text": [
      "75\n",
      "Saved: temp_task_folder/img1/000075.jpg\n",
      "76\n",
      "Saved: temp_task_folder/img1/000076.jpg\n"
     ]
    },
    {
     "name": "stderr",
     "output_type": "stream",
     "text": [
      "\n",
      "0: 1088x1920 1 ball, 22 players, 57.5ms\n",
      "Speed: 6.9ms preprocess, 57.5ms inference, 1.1ms postprocess per image at shape (1, 3, 1088, 1920)\n",
      "\n",
      "0: 1088x1920 1 ball, 22 players, 57.2ms\n",
      "Speed: 6.9ms preprocess, 57.2ms inference, 1.1ms postprocess per image at shape (1, 3, 1088, 1920)\n"
     ]
    },
    {
     "name": "stdout",
     "output_type": "stream",
     "text": [
      "77\n",
      "Saved: temp_task_folder/img1/000077.jpg\n",
      "78\n",
      "Saved: temp_task_folder/img1/000078.jpg\n"
     ]
    },
    {
     "name": "stderr",
     "output_type": "stream",
     "text": [
      "\n",
      "0: 1088x1920 1 ball, 22 players, 57.3ms\n",
      "Speed: 6.8ms preprocess, 57.3ms inference, 1.1ms postprocess per image at shape (1, 3, 1088, 1920)\n",
      "\n",
      "0: 1088x1920 1 ball, 22 players, 57.6ms\n",
      "Speed: 6.9ms preprocess, 57.6ms inference, 1.1ms postprocess per image at shape (1, 3, 1088, 1920)\n"
     ]
    },
    {
     "name": "stdout",
     "output_type": "stream",
     "text": [
      "79\n",
      "Saved: temp_task_folder/img1/000079.jpg\n",
      "80\n",
      "Saved: temp_task_folder/img1/000080.jpg\n"
     ]
    },
    {
     "name": "stderr",
     "output_type": "stream",
     "text": [
      "\n",
      "0: 1088x1920 1 ball, 22 players, 57.4ms\n",
      "Speed: 6.8ms preprocess, 57.4ms inference, 1.1ms postprocess per image at shape (1, 3, 1088, 1920)\n",
      "\n",
      "0: 1088x1920 1 ball, 22 players, 57.3ms\n",
      "Speed: 6.8ms preprocess, 57.3ms inference, 1.1ms postprocess per image at shape (1, 3, 1088, 1920)\n"
     ]
    },
    {
     "name": "stdout",
     "output_type": "stream",
     "text": [
      "81\n",
      "Saved: temp_task_folder/img1/000081.jpg\n",
      "82\n",
      "Saved: temp_task_folder/img1/000082.jpg\n"
     ]
    },
    {
     "name": "stderr",
     "output_type": "stream",
     "text": [
      "\n",
      "0: 1088x1920 1 ball, 22 players, 57.5ms\n",
      "Speed: 6.9ms preprocess, 57.5ms inference, 1.1ms postprocess per image at shape (1, 3, 1088, 1920)\n",
      "\n",
      "0: 1088x1920 1 ball, 22 players, 57.6ms\n",
      "Speed: 6.9ms preprocess, 57.6ms inference, 1.1ms postprocess per image at shape (1, 3, 1088, 1920)\n"
     ]
    },
    {
     "name": "stdout",
     "output_type": "stream",
     "text": [
      "83\n",
      "Saved: temp_task_folder/img1/000083.jpg\n",
      "84\n",
      "Saved: temp_task_folder/img1/000084.jpg\n"
     ]
    },
    {
     "name": "stderr",
     "output_type": "stream",
     "text": [
      "\n",
      "0: 1088x1920 1 ball, 22 players, 57.3ms\n",
      "Speed: 6.9ms preprocess, 57.3ms inference, 1.1ms postprocess per image at shape (1, 3, 1088, 1920)\n",
      "\n",
      "0: 1088x1920 1 ball, 22 players, 57.5ms\n",
      "Speed: 6.8ms preprocess, 57.5ms inference, 1.1ms postprocess per image at shape (1, 3, 1088, 1920)\n"
     ]
    },
    {
     "name": "stdout",
     "output_type": "stream",
     "text": [
      "85\n",
      "Saved: temp_task_folder/img1/000085.jpg\n",
      "86\n",
      "Saved: temp_task_folder/img1/000086.jpg\n"
     ]
    },
    {
     "name": "stderr",
     "output_type": "stream",
     "text": [
      "\n",
      "0: 1088x1920 1 ball, 22 players, 57.5ms\n",
      "Speed: 6.8ms preprocess, 57.5ms inference, 1.1ms postprocess per image at shape (1, 3, 1088, 1920)\n",
      "\n",
      "0: 1088x1920 1 ball, 22 players, 57.3ms\n",
      "Speed: 6.9ms preprocess, 57.3ms inference, 1.1ms postprocess per image at shape (1, 3, 1088, 1920)\n"
     ]
    },
    {
     "name": "stdout",
     "output_type": "stream",
     "text": [
      "87\n",
      "Saved: temp_task_folder/img1/000087.jpg\n",
      "88\n",
      "Saved: temp_task_folder/img1/000088.jpg\n"
     ]
    },
    {
     "name": "stderr",
     "output_type": "stream",
     "text": [
      "\n",
      "0: 1088x1920 1 ball, 22 players, 57.5ms\n",
      "Speed: 7.0ms preprocess, 57.5ms inference, 1.1ms postprocess per image at shape (1, 3, 1088, 1920)\n",
      "\n",
      "0: 1088x1920 1 ball, 22 players, 57.3ms\n",
      "Speed: 6.8ms preprocess, 57.3ms inference, 1.1ms postprocess per image at shape (1, 3, 1088, 1920)\n"
     ]
    },
    {
     "name": "stdout",
     "output_type": "stream",
     "text": [
      "89\n",
      "Saved: temp_task_folder/img1/000089.jpg\n",
      "90\n",
      "Saved: temp_task_folder/img1/000090.jpg\n"
     ]
    },
    {
     "name": "stderr",
     "output_type": "stream",
     "text": [
      "\n",
      "0: 1088x1920 1 ball, 22 players, 57.4ms\n",
      "Speed: 6.8ms preprocess, 57.4ms inference, 1.1ms postprocess per image at shape (1, 3, 1088, 1920)\n",
      "\n",
      "0: 1088x1920 1 ball, 22 players, 57.4ms\n",
      "Speed: 6.9ms preprocess, 57.4ms inference, 1.1ms postprocess per image at shape (1, 3, 1088, 1920)\n"
     ]
    },
    {
     "name": "stdout",
     "output_type": "stream",
     "text": [
      "91\n",
      "Saved: temp_task_folder/img1/000091.jpg\n",
      "92\n",
      "Saved: temp_task_folder/img1/000092.jpg\n"
     ]
    },
    {
     "name": "stderr",
     "output_type": "stream",
     "text": [
      "\n",
      "0: 1088x1920 1 ball, 22 players, 57.3ms\n",
      "Speed: 6.9ms preprocess, 57.3ms inference, 1.1ms postprocess per image at shape (1, 3, 1088, 1920)\n",
      "\n",
      "0: 1088x1920 1 ball, 22 players, 57.4ms\n",
      "Speed: 6.8ms preprocess, 57.4ms inference, 1.1ms postprocess per image at shape (1, 3, 1088, 1920)\n"
     ]
    },
    {
     "name": "stdout",
     "output_type": "stream",
     "text": [
      "93\n",
      "Saved: temp_task_folder/img1/000093.jpg\n",
      "94\n",
      "Saved: temp_task_folder/img1/000094.jpg\n"
     ]
    },
    {
     "name": "stderr",
     "output_type": "stream",
     "text": [
      "\n",
      "0: 1088x1920 1 ball, 22 players, 57.5ms\n",
      "Speed: 6.9ms preprocess, 57.5ms inference, 1.1ms postprocess per image at shape (1, 3, 1088, 1920)\n",
      "\n",
      "0: 1088x1920 1 ball, 22 players, 57.3ms\n",
      "Speed: 6.9ms preprocess, 57.3ms inference, 1.1ms postprocess per image at shape (1, 3, 1088, 1920)\n"
     ]
    },
    {
     "name": "stdout",
     "output_type": "stream",
     "text": [
      "95\n",
      "Saved: temp_task_folder/img1/000095.jpg\n",
      "96\n",
      "Saved: temp_task_folder/img1/000096.jpg\n"
     ]
    },
    {
     "name": "stderr",
     "output_type": "stream",
     "text": [
      "\n",
      "0: 1088x1920 1 ball, 22 players, 57.5ms\n",
      "Speed: 6.9ms preprocess, 57.5ms inference, 1.1ms postprocess per image at shape (1, 3, 1088, 1920)\n",
      "\n",
      "0: 1088x1920 1 ball, 22 players, 57.5ms\n",
      "Speed: 6.8ms preprocess, 57.5ms inference, 1.1ms postprocess per image at shape (1, 3, 1088, 1920)\n"
     ]
    },
    {
     "name": "stdout",
     "output_type": "stream",
     "text": [
      "97\n",
      "Saved: temp_task_folder/img1/000097.jpg\n",
      "98\n",
      "Saved: temp_task_folder/img1/000098.jpg\n"
     ]
    },
    {
     "name": "stderr",
     "output_type": "stream",
     "text": [
      "\n",
      "0: 1088x1920 1 ball, 22 players, 57.2ms\n",
      "Speed: 6.8ms preprocess, 57.2ms inference, 1.1ms postprocess per image at shape (1, 3, 1088, 1920)\n",
      "\n",
      "0: 1088x1920 1 ball, 22 players, 57.5ms\n",
      "Speed: 6.8ms preprocess, 57.5ms inference, 1.2ms postprocess per image at shape (1, 3, 1088, 1920)\n"
     ]
    },
    {
     "name": "stdout",
     "output_type": "stream",
     "text": [
      "99\n",
      "Saved: temp_task_folder/img1/000099.jpg\n",
      "100\n",
      "Saved: temp_task_folder/img1/000100.jpg\n"
     ]
    },
    {
     "name": "stderr",
     "output_type": "stream",
     "text": [
      "\n",
      "0: 1088x1920 1 ball, 22 players, 57.4ms\n",
      "Speed: 6.8ms preprocess, 57.4ms inference, 1.1ms postprocess per image at shape (1, 3, 1088, 1920)\n",
      "\n",
      "0: 1088x1920 1 ball, 22 players, 57.6ms\n",
      "Speed: 6.9ms preprocess, 57.6ms inference, 1.1ms postprocess per image at shape (1, 3, 1088, 1920)\n"
     ]
    },
    {
     "name": "stdout",
     "output_type": "stream",
     "text": [
      "101\n",
      "Saved: temp_task_folder/img1/000101.jpg\n",
      "102\n",
      "Saved: temp_task_folder/img1/000102.jpg\n"
     ]
    },
    {
     "name": "stderr",
     "output_type": "stream",
     "text": [
      "\n",
      "0: 1088x1920 1 ball, 22 players, 57.4ms\n",
      "Speed: 6.8ms preprocess, 57.4ms inference, 1.1ms postprocess per image at shape (1, 3, 1088, 1920)\n",
      "\n",
      "0: 1088x1920 1 ball, 22 players, 57.4ms\n",
      "Speed: 6.8ms preprocess, 57.4ms inference, 1.2ms postprocess per image at shape (1, 3, 1088, 1920)\n"
     ]
    },
    {
     "name": "stdout",
     "output_type": "stream",
     "text": [
      "103\n",
      "Saved: temp_task_folder/img1/000103.jpg\n",
      "104\n",
      "Saved: temp_task_folder/img1/000104.jpg\n"
     ]
    },
    {
     "name": "stderr",
     "output_type": "stream",
     "text": [
      "\n",
      "0: 1088x1920 1 ball, 22 players, 57.3ms\n",
      "Speed: 6.9ms preprocess, 57.3ms inference, 1.1ms postprocess per image at shape (1, 3, 1088, 1920)\n",
      "\n",
      "0: 1088x1920 1 ball, 22 players, 57.3ms\n",
      "Speed: 6.9ms preprocess, 57.3ms inference, 1.1ms postprocess per image at shape (1, 3, 1088, 1920)\n"
     ]
    },
    {
     "name": "stdout",
     "output_type": "stream",
     "text": [
      "105\n",
      "Saved: temp_task_folder/img1/000105.jpg\n",
      "106\n",
      "Saved: temp_task_folder/img1/000106.jpg\n"
     ]
    },
    {
     "name": "stderr",
     "output_type": "stream",
     "text": [
      "\n",
      "0: 1088x1920 1 ball, 22 players, 57.5ms\n",
      "Speed: 6.8ms preprocess, 57.5ms inference, 1.1ms postprocess per image at shape (1, 3, 1088, 1920)\n",
      "\n",
      "0: 1088x1920 1 ball, 22 players, 57.3ms\n",
      "Speed: 6.8ms preprocess, 57.3ms inference, 1.1ms postprocess per image at shape (1, 3, 1088, 1920)\n"
     ]
    },
    {
     "name": "stdout",
     "output_type": "stream",
     "text": [
      "107\n",
      "Saved: temp_task_folder/img1/000107.jpg\n",
      "108\n",
      "Saved: temp_task_folder/img1/000108.jpg\n"
     ]
    },
    {
     "name": "stderr",
     "output_type": "stream",
     "text": [
      "\n",
      "0: 1088x1920 1 ball, 22 players, 57.5ms\n",
      "Speed: 6.8ms preprocess, 57.5ms inference, 1.1ms postprocess per image at shape (1, 3, 1088, 1920)\n",
      "\n",
      "0: 1088x1920 1 ball, 22 players, 57.5ms\n",
      "Speed: 6.8ms preprocess, 57.5ms inference, 1.1ms postprocess per image at shape (1, 3, 1088, 1920)\n"
     ]
    },
    {
     "name": "stdout",
     "output_type": "stream",
     "text": [
      "109\n",
      "Saved: temp_task_folder/img1/000109.jpg\n",
      "110\n",
      "Saved: temp_task_folder/img1/000110.jpg\n"
     ]
    },
    {
     "name": "stderr",
     "output_type": "stream",
     "text": [
      "\n",
      "0: 1088x1920 1 ball, 22 players, 57.4ms\n",
      "Speed: 6.9ms preprocess, 57.4ms inference, 1.1ms postprocess per image at shape (1, 3, 1088, 1920)\n",
      "\n",
      "0: 1088x1920 1 ball, 22 players, 57.4ms\n",
      "Speed: 6.9ms preprocess, 57.4ms inference, 1.2ms postprocess per image at shape (1, 3, 1088, 1920)\n"
     ]
    },
    {
     "name": "stdout",
     "output_type": "stream",
     "text": [
      "111\n",
      "Saved: temp_task_folder/img1/000111.jpg\n",
      "112\n",
      "Saved: temp_task_folder/img1/000112.jpg\n"
     ]
    },
    {
     "name": "stderr",
     "output_type": "stream",
     "text": [
      "\n",
      "0: 1088x1920 1 ball, 22 players, 57.2ms\n",
      "Speed: 6.8ms preprocess, 57.2ms inference, 1.1ms postprocess per image at shape (1, 3, 1088, 1920)\n",
      "\n",
      "0: 1088x1920 1 ball, 22 players, 57.4ms\n",
      "Speed: 6.9ms preprocess, 57.4ms inference, 1.2ms postprocess per image at shape (1, 3, 1088, 1920)\n"
     ]
    },
    {
     "name": "stdout",
     "output_type": "stream",
     "text": [
      "113\n",
      "Saved: temp_task_folder/img1/000113.jpg\n",
      "114\n",
      "Saved: temp_task_folder/img1/000114.jpg\n"
     ]
    },
    {
     "name": "stderr",
     "output_type": "stream",
     "text": [
      "\n",
      "0: 1088x1920 1 ball, 22 players, 57.5ms\n",
      "Speed: 6.9ms preprocess, 57.5ms inference, 1.1ms postprocess per image at shape (1, 3, 1088, 1920)\n",
      "\n",
      "0: 1088x1920 1 ball, 22 players, 57.5ms\n",
      "Speed: 7.0ms preprocess, 57.5ms inference, 1.1ms postprocess per image at shape (1, 3, 1088, 1920)\n"
     ]
    },
    {
     "name": "stdout",
     "output_type": "stream",
     "text": [
      "115\n",
      "Saved: temp_task_folder/img1/000115.jpg\n",
      "116\n",
      "Saved: temp_task_folder/img1/000116.jpg\n"
     ]
    },
    {
     "name": "stderr",
     "output_type": "stream",
     "text": [
      "\n",
      "0: 1088x1920 1 ball, 22 players, 57.3ms\n",
      "Speed: 6.8ms preprocess, 57.3ms inference, 1.1ms postprocess per image at shape (1, 3, 1088, 1920)\n",
      "\n",
      "0: 1088x1920 1 ball, 22 players, 57.3ms\n",
      "Speed: 7.0ms preprocess, 57.3ms inference, 1.1ms postprocess per image at shape (1, 3, 1088, 1920)\n"
     ]
    },
    {
     "name": "stdout",
     "output_type": "stream",
     "text": [
      "117\n",
      "Saved: temp_task_folder/img1/000117.jpg\n",
      "118\n",
      "Saved: temp_task_folder/img1/000118.jpg\n"
     ]
    },
    {
     "name": "stderr",
     "output_type": "stream",
     "text": [
      "\n",
      "0: 1088x1920 1 ball, 22 players, 57.3ms\n",
      "Speed: 6.8ms preprocess, 57.3ms inference, 1.4ms postprocess per image at shape (1, 3, 1088, 1920)\n",
      "\n",
      "0: 1088x1920 1 ball, 22 players, 57.3ms\n",
      "Speed: 7.4ms preprocess, 57.3ms inference, 1.1ms postprocess per image at shape (1, 3, 1088, 1920)\n"
     ]
    },
    {
     "name": "stdout",
     "output_type": "stream",
     "text": [
      "119\n",
      "Saved: temp_task_folder/img1/000119.jpg\n",
      "120\n",
      "Saved: temp_task_folder/img1/000120.jpg\n"
     ]
    },
    {
     "name": "stderr",
     "output_type": "stream",
     "text": [
      "\n",
      "0: 1088x1920 1 ball, 22 players, 57.5ms\n",
      "Speed: 6.8ms preprocess, 57.5ms inference, 1.1ms postprocess per image at shape (1, 3, 1088, 1920)\n",
      "\n",
      "0: 1088x1920 1 ball, 22 players, 57.4ms\n",
      "Speed: 6.8ms preprocess, 57.4ms inference, 1.1ms postprocess per image at shape (1, 3, 1088, 1920)\n"
     ]
    },
    {
     "name": "stdout",
     "output_type": "stream",
     "text": [
      "121\n",
      "Saved: temp_task_folder/img1/000121.jpg\n",
      "122\n",
      "Saved: temp_task_folder/img1/000122.jpg\n"
     ]
    },
    {
     "name": "stderr",
     "output_type": "stream",
     "text": [
      "\n",
      "0: 1088x1920 1 ball, 22 players, 57.6ms\n",
      "Speed: 6.8ms preprocess, 57.6ms inference, 1.1ms postprocess per image at shape (1, 3, 1088, 1920)\n",
      "\n",
      "0: 1088x1920 1 ball, 22 players, 57.3ms\n",
      "Speed: 6.9ms preprocess, 57.3ms inference, 1.1ms postprocess per image at shape (1, 3, 1088, 1920)\n"
     ]
    },
    {
     "name": "stdout",
     "output_type": "stream",
     "text": [
      "123\n",
      "Saved: temp_task_folder/img1/000123.jpg\n",
      "124\n",
      "Saved: temp_task_folder/img1/000124.jpg\n"
     ]
    },
    {
     "name": "stderr",
     "output_type": "stream",
     "text": [
      "\n",
      "0: 1088x1920 1 ball, 22 players, 57.6ms\n",
      "Speed: 7.4ms preprocess, 57.6ms inference, 1.1ms postprocess per image at shape (1, 3, 1088, 1920)\n",
      "\n",
      "0: 1088x1920 1 ball, 22 players, 57.5ms\n",
      "Speed: 7.5ms preprocess, 57.5ms inference, 1.1ms postprocess per image at shape (1, 3, 1088, 1920)\n"
     ]
    },
    {
     "name": "stdout",
     "output_type": "stream",
     "text": [
      "125\n",
      "Saved: temp_task_folder/img1/000125.jpg\n",
      "126\n",
      "Saved: temp_task_folder/img1/000126.jpg\n"
     ]
    },
    {
     "name": "stderr",
     "output_type": "stream",
     "text": [
      "\n",
      "0: 1088x1920 1 ball, 22 players, 57.2ms\n",
      "Speed: 6.7ms preprocess, 57.2ms inference, 1.1ms postprocess per image at shape (1, 3, 1088, 1920)\n",
      "\n",
      "0: 1088x1920 1 ball, 22 players, 57.5ms\n",
      "Speed: 6.8ms preprocess, 57.5ms inference, 1.1ms postprocess per image at shape (1, 3, 1088, 1920)\n"
     ]
    },
    {
     "name": "stdout",
     "output_type": "stream",
     "text": [
      "127\n",
      "Saved: temp_task_folder/img1/000127.jpg\n",
      "128\n",
      "Saved: temp_task_folder/img1/000128.jpg\n"
     ]
    },
    {
     "name": "stderr",
     "output_type": "stream",
     "text": [
      "\n",
      "0: 1088x1920 1 ball, 22 players, 57.5ms\n",
      "Speed: 6.8ms preprocess, 57.5ms inference, 1.1ms postprocess per image at shape (1, 3, 1088, 1920)\n",
      "\n",
      "0: 1088x1920 1 ball, 22 players, 57.2ms\n",
      "Speed: 6.8ms preprocess, 57.2ms inference, 1.1ms postprocess per image at shape (1, 3, 1088, 1920)\n"
     ]
    },
    {
     "name": "stdout",
     "output_type": "stream",
     "text": [
      "129\n",
      "Saved: temp_task_folder/img1/000129.jpg\n",
      "130\n",
      "Saved: temp_task_folder/img1/000130.jpg\n"
     ]
    },
    {
     "name": "stderr",
     "output_type": "stream",
     "text": [
      "\n",
      "0: 1088x1920 1 ball, 22 players, 57.4ms\n",
      "Speed: 6.8ms preprocess, 57.4ms inference, 1.1ms postprocess per image at shape (1, 3, 1088, 1920)\n",
      "\n",
      "0: 1088x1920 1 ball, 22 players, 57.3ms\n",
      "Speed: 6.8ms preprocess, 57.3ms inference, 1.1ms postprocess per image at shape (1, 3, 1088, 1920)\n"
     ]
    },
    {
     "name": "stdout",
     "output_type": "stream",
     "text": [
      "131\n",
      "Saved: temp_task_folder/img1/000131.jpg\n",
      "132\n",
      "Saved: temp_task_folder/img1/000132.jpg\n"
     ]
    },
    {
     "name": "stderr",
     "output_type": "stream",
     "text": [
      "\n",
      "0: 1088x1920 1 ball, 22 players, 57.5ms\n",
      "Speed: 6.8ms preprocess, 57.5ms inference, 1.1ms postprocess per image at shape (1, 3, 1088, 1920)\n",
      "\n",
      "0: 1088x1920 1 ball, 22 players, 57.6ms\n",
      "Speed: 6.9ms preprocess, 57.6ms inference, 1.5ms postprocess per image at shape (1, 3, 1088, 1920)\n"
     ]
    },
    {
     "name": "stdout",
     "output_type": "stream",
     "text": [
      "133\n",
      "Saved: temp_task_folder/img1/000133.jpg\n",
      "134\n",
      "Saved: temp_task_folder/img1/000134.jpg\n"
     ]
    },
    {
     "name": "stderr",
     "output_type": "stream",
     "text": [
      "\n",
      "0: 1088x1920 1 ball, 22 players, 57.5ms\n",
      "Speed: 6.8ms preprocess, 57.5ms inference, 1.1ms postprocess per image at shape (1, 3, 1088, 1920)\n",
      "\n",
      "0: 1088x1920 1 ball, 22 players, 57.3ms\n",
      "Speed: 6.8ms preprocess, 57.3ms inference, 1.1ms postprocess per image at shape (1, 3, 1088, 1920)\n"
     ]
    },
    {
     "name": "stdout",
     "output_type": "stream",
     "text": [
      "135\n",
      "Saved: temp_task_folder/img1/000135.jpg\n",
      "136\n",
      "Saved: temp_task_folder/img1/000136.jpg\n"
     ]
    },
    {
     "name": "stderr",
     "output_type": "stream",
     "text": [
      "\n",
      "0: 1088x1920 1 ball, 22 players, 57.3ms\n",
      "Speed: 6.9ms preprocess, 57.3ms inference, 1.1ms postprocess per image at shape (1, 3, 1088, 1920)\n",
      "\n",
      "0: 1088x1920 1 ball, 22 players, 57.5ms\n",
      "Speed: 6.8ms preprocess, 57.5ms inference, 1.1ms postprocess per image at shape (1, 3, 1088, 1920)\n"
     ]
    },
    {
     "name": "stdout",
     "output_type": "stream",
     "text": [
      "137\n",
      "Saved: temp_task_folder/img1/000137.jpg\n",
      "138\n",
      "Saved: temp_task_folder/img1/000138.jpg\n"
     ]
    },
    {
     "name": "stderr",
     "output_type": "stream",
     "text": [
      "\n",
      "0: 1088x1920 1 ball, 22 players, 57.3ms\n",
      "Speed: 6.9ms preprocess, 57.3ms inference, 1.1ms postprocess per image at shape (1, 3, 1088, 1920)\n",
      "\n",
      "0: 1088x1920 1 ball, 22 players, 57.4ms\n",
      "Speed: 6.9ms preprocess, 57.4ms inference, 1.1ms postprocess per image at shape (1, 3, 1088, 1920)\n"
     ]
    },
    {
     "name": "stdout",
     "output_type": "stream",
     "text": [
      "139\n",
      "Saved: temp_task_folder/img1/000139.jpg\n",
      "140\n",
      "Saved: temp_task_folder/img1/000140.jpg\n"
     ]
    },
    {
     "name": "stderr",
     "output_type": "stream",
     "text": [
      "\n",
      "0: 1088x1920 1 ball, 22 players, 57.3ms\n",
      "Speed: 6.8ms preprocess, 57.3ms inference, 1.1ms postprocess per image at shape (1, 3, 1088, 1920)\n",
      "\n",
      "0: 1088x1920 1 ball, 22 players, 57.4ms\n",
      "Speed: 6.9ms preprocess, 57.4ms inference, 1.1ms postprocess per image at shape (1, 3, 1088, 1920)\n"
     ]
    },
    {
     "name": "stdout",
     "output_type": "stream",
     "text": [
      "141\n",
      "Saved: temp_task_folder/img1/000141.jpg\n",
      "142\n",
      "Saved: temp_task_folder/img1/000142.jpg\n"
     ]
    },
    {
     "name": "stderr",
     "output_type": "stream",
     "text": [
      "\n",
      "0: 1088x1920 1 ball, 22 players, 57.5ms\n",
      "Speed: 6.8ms preprocess, 57.5ms inference, 1.1ms postprocess per image at shape (1, 3, 1088, 1920)\n",
      "\n",
      "0: 1088x1920 1 ball, 22 players, 57.5ms\n",
      "Speed: 6.9ms preprocess, 57.5ms inference, 1.2ms postprocess per image at shape (1, 3, 1088, 1920)\n"
     ]
    },
    {
     "name": "stdout",
     "output_type": "stream",
     "text": [
      "143\n",
      "Saved: temp_task_folder/img1/000143.jpg\n",
      "144\n",
      "Saved: temp_task_folder/img1/000144.jpg\n"
     ]
    },
    {
     "name": "stderr",
     "output_type": "stream",
     "text": [
      "\n",
      "0: 1088x1920 1 ball, 22 players, 57.4ms\n",
      "Speed: 6.8ms preprocess, 57.4ms inference, 1.1ms postprocess per image at shape (1, 3, 1088, 1920)\n",
      "\n",
      "0: 1088x1920 1 ball, 22 players, 57.5ms\n",
      "Speed: 6.9ms preprocess, 57.5ms inference, 1.1ms postprocess per image at shape (1, 3, 1088, 1920)\n"
     ]
    },
    {
     "name": "stdout",
     "output_type": "stream",
     "text": [
      "145\n",
      "Saved: temp_task_folder/img1/000145.jpg\n",
      "146\n",
      "Saved: temp_task_folder/img1/000146.jpg\n"
     ]
    },
    {
     "name": "stderr",
     "output_type": "stream",
     "text": [
      "\n",
      "0: 1088x1920 1 ball, 22 players, 57.4ms\n",
      "Speed: 6.8ms preprocess, 57.4ms inference, 1.1ms postprocess per image at shape (1, 3, 1088, 1920)\n",
      "\n",
      "0: 1088x1920 1 ball, 22 players, 57.5ms\n",
      "Speed: 6.8ms preprocess, 57.5ms inference, 1.1ms postprocess per image at shape (1, 3, 1088, 1920)\n"
     ]
    },
    {
     "name": "stdout",
     "output_type": "stream",
     "text": [
      "147\n",
      "Saved: temp_task_folder/img1/000147.jpg\n",
      "148\n",
      "Saved: temp_task_folder/img1/000148.jpg\n"
     ]
    },
    {
     "name": "stderr",
     "output_type": "stream",
     "text": [
      "\n",
      "0: 1088x1920 1 ball, 22 players, 57.5ms\n",
      "Speed: 6.8ms preprocess, 57.5ms inference, 1.3ms postprocess per image at shape (1, 3, 1088, 1920)\n",
      "\n",
      "0: 1088x1920 1 ball, 22 players, 57.3ms\n",
      "Speed: 6.8ms preprocess, 57.3ms inference, 1.1ms postprocess per image at shape (1, 3, 1088, 1920)\n"
     ]
    },
    {
     "name": "stdout",
     "output_type": "stream",
     "text": [
      "149\n",
      "Saved: temp_task_folder/img1/000149.jpg\n",
      "150\n",
      "Saved: temp_task_folder/img1/000150.jpg\n"
     ]
    },
    {
     "name": "stderr",
     "output_type": "stream",
     "text": [
      "\n",
      "0: 1088x1920 1 ball, 22 players, 57.5ms\n",
      "Speed: 6.9ms preprocess, 57.5ms inference, 1.1ms postprocess per image at shape (1, 3, 1088, 1920)\n",
      "\n",
      "0: 1088x1920 1 ball, 22 players, 57.4ms\n",
      "Speed: 6.8ms preprocess, 57.4ms inference, 1.1ms postprocess per image at shape (1, 3, 1088, 1920)\n"
     ]
    },
    {
     "name": "stdout",
     "output_type": "stream",
     "text": [
      "151\n",
      "Saved: temp_task_folder/img1/000151.jpg\n",
      "152\n",
      "Saved: temp_task_folder/img1/000152.jpg\n"
     ]
    },
    {
     "name": "stderr",
     "output_type": "stream",
     "text": [
      "\n",
      "0: 1088x1920 1 ball, 22 players, 57.5ms\n",
      "Speed: 6.8ms preprocess, 57.5ms inference, 1.1ms postprocess per image at shape (1, 3, 1088, 1920)\n",
      "\n",
      "0: 1088x1920 1 ball, 22 players, 57.5ms\n",
      "Speed: 6.9ms preprocess, 57.5ms inference, 1.1ms postprocess per image at shape (1, 3, 1088, 1920)\n"
     ]
    },
    {
     "name": "stdout",
     "output_type": "stream",
     "text": [
      "153\n",
      "Saved: temp_task_folder/img1/000153.jpg\n",
      "154\n",
      "Saved: temp_task_folder/img1/000154.jpg\n"
     ]
    },
    {
     "name": "stderr",
     "output_type": "stream",
     "text": [
      "\n",
      "0: 1088x1920 1 ball, 22 players, 57.4ms\n",
      "Speed: 6.8ms preprocess, 57.4ms inference, 1.1ms postprocess per image at shape (1, 3, 1088, 1920)\n",
      "\n",
      "0: 1088x1920 1 ball, 22 players, 57.4ms\n",
      "Speed: 6.8ms preprocess, 57.4ms inference, 1.1ms postprocess per image at shape (1, 3, 1088, 1920)\n"
     ]
    },
    {
     "name": "stdout",
     "output_type": "stream",
     "text": [
      "155\n",
      "Saved: temp_task_folder/img1/000155.jpg\n",
      "156\n",
      "Saved: temp_task_folder/img1/000156.jpg\n"
     ]
    },
    {
     "name": "stderr",
     "output_type": "stream",
     "text": [
      "\n",
      "0: 1088x1920 1 ball, 22 players, 57.2ms\n",
      "Speed: 6.8ms preprocess, 57.2ms inference, 1.1ms postprocess per image at shape (1, 3, 1088, 1920)\n",
      "\n",
      "0: 1088x1920 1 ball, 22 players, 57.5ms\n",
      "Speed: 6.8ms preprocess, 57.5ms inference, 1.1ms postprocess per image at shape (1, 3, 1088, 1920)\n"
     ]
    },
    {
     "name": "stdout",
     "output_type": "stream",
     "text": [
      "157\n",
      "Saved: temp_task_folder/img1/000157.jpg\n",
      "158\n",
      "Saved: temp_task_folder/img1/000158.jpg\n"
     ]
    },
    {
     "name": "stderr",
     "output_type": "stream",
     "text": [
      "\n",
      "0: 1088x1920 1 ball, 22 players, 57.4ms\n",
      "Speed: 6.8ms preprocess, 57.4ms inference, 1.1ms postprocess per image at shape (1, 3, 1088, 1920)\n",
      "\n",
      "0: 1088x1920 1 ball, 22 players, 57.5ms\n",
      "Speed: 6.8ms preprocess, 57.5ms inference, 1.1ms postprocess per image at shape (1, 3, 1088, 1920)\n"
     ]
    },
    {
     "name": "stdout",
     "output_type": "stream",
     "text": [
      "159\n",
      "Saved: temp_task_folder/img1/000159.jpg\n",
      "160\n",
      "Saved: temp_task_folder/img1/000160.jpg\n"
     ]
    },
    {
     "name": "stderr",
     "output_type": "stream",
     "text": [
      "\n",
      "0: 1088x1920 1 ball, 22 players, 57.5ms\n",
      "Speed: 6.9ms preprocess, 57.5ms inference, 1.1ms postprocess per image at shape (1, 3, 1088, 1920)\n",
      "\n",
      "0: 1088x1920 1 ball, 22 players, 57.5ms\n",
      "Speed: 6.8ms preprocess, 57.5ms inference, 1.1ms postprocess per image at shape (1, 3, 1088, 1920)\n"
     ]
    },
    {
     "name": "stdout",
     "output_type": "stream",
     "text": [
      "161\n",
      "Saved: temp_task_folder/img1/000161.jpg\n",
      "162\n",
      "Saved: temp_task_folder/img1/000162.jpg\n"
     ]
    },
    {
     "name": "stderr",
     "output_type": "stream",
     "text": [
      "\n",
      "0: 1088x1920 1 ball, 22 players, 57.3ms\n",
      "Speed: 6.8ms preprocess, 57.3ms inference, 1.1ms postprocess per image at shape (1, 3, 1088, 1920)\n",
      "\n",
      "0: 1088x1920 1 ball, 22 players, 57.5ms\n",
      "Speed: 6.8ms preprocess, 57.5ms inference, 1.1ms postprocess per image at shape (1, 3, 1088, 1920)\n"
     ]
    },
    {
     "name": "stdout",
     "output_type": "stream",
     "text": [
      "163\n",
      "Saved: temp_task_folder/img1/000163.jpg\n",
      "164\n",
      "Saved: temp_task_folder/img1/000164.jpg\n"
     ]
    },
    {
     "name": "stderr",
     "output_type": "stream",
     "text": [
      "\n",
      "0: 1088x1920 1 ball, 22 players, 57.5ms\n",
      "Speed: 6.8ms preprocess, 57.5ms inference, 1.1ms postprocess per image at shape (1, 3, 1088, 1920)\n",
      "\n",
      "0: 1088x1920 1 ball, 22 players, 57.4ms\n",
      "Speed: 6.8ms preprocess, 57.4ms inference, 1.1ms postprocess per image at shape (1, 3, 1088, 1920)\n"
     ]
    },
    {
     "name": "stdout",
     "output_type": "stream",
     "text": [
      "165\n",
      "Saved: temp_task_folder/img1/000165.jpg\n",
      "166\n",
      "Saved: temp_task_folder/img1/000166.jpg\n"
     ]
    },
    {
     "name": "stderr",
     "output_type": "stream",
     "text": [
      "\n",
      "0: 1088x1920 1 ball, 22 players, 57.1ms\n",
      "Speed: 7.0ms preprocess, 57.1ms inference, 1.2ms postprocess per image at shape (1, 3, 1088, 1920)\n",
      "\n",
      "0: 1088x1920 1 ball, 22 players, 57.3ms\n",
      "Speed: 6.8ms preprocess, 57.3ms inference, 1.1ms postprocess per image at shape (1, 3, 1088, 1920)\n"
     ]
    },
    {
     "name": "stdout",
     "output_type": "stream",
     "text": [
      "167\n",
      "Saved: temp_task_folder/img1/000167.jpg\n",
      "168\n",
      "Saved: temp_task_folder/img1/000168.jpg\n"
     ]
    },
    {
     "name": "stderr",
     "output_type": "stream",
     "text": [
      "\n",
      "0: 1088x1920 1 ball, 22 players, 57.5ms\n",
      "Speed: 6.8ms preprocess, 57.5ms inference, 1.1ms postprocess per image at shape (1, 3, 1088, 1920)\n",
      "\n",
      "0: 1088x1920 1 ball, 22 players, 57.2ms\n",
      "Speed: 6.8ms preprocess, 57.2ms inference, 1.1ms postprocess per image at shape (1, 3, 1088, 1920)\n"
     ]
    },
    {
     "name": "stdout",
     "output_type": "stream",
     "text": [
      "169\n",
      "Saved: temp_task_folder/img1/000169.jpg\n",
      "170\n",
      "Saved: temp_task_folder/img1/000170.jpg\n"
     ]
    },
    {
     "name": "stderr",
     "output_type": "stream",
     "text": [
      "\n",
      "0: 1088x1920 1 ball, 22 players, 57.4ms\n",
      "Speed: 6.8ms preprocess, 57.4ms inference, 1.2ms postprocess per image at shape (1, 3, 1088, 1920)\n",
      "\n",
      "0: 1088x1920 1 ball, 22 players, 57.3ms\n",
      "Speed: 6.8ms preprocess, 57.3ms inference, 1.1ms postprocess per image at shape (1, 3, 1088, 1920)\n"
     ]
    },
    {
     "name": "stdout",
     "output_type": "stream",
     "text": [
      "171\n",
      "Saved: temp_task_folder/img1/000171.jpg\n",
      "172\n",
      "Saved: temp_task_folder/img1/000172.jpg\n"
     ]
    },
    {
     "name": "stderr",
     "output_type": "stream",
     "text": [
      "\n",
      "0: 1088x1920 1 ball, 22 players, 57.3ms\n",
      "Speed: 6.9ms preprocess, 57.3ms inference, 1.1ms postprocess per image at shape (1, 3, 1088, 1920)\n",
      "\n",
      "0: 1088x1920 22 players, 57.4ms\n",
      "Speed: 6.9ms preprocess, 57.4ms inference, 1.1ms postprocess per image at shape (1, 3, 1088, 1920)\n"
     ]
    },
    {
     "name": "stdout",
     "output_type": "stream",
     "text": [
      "173\n",
      "Saved: temp_task_folder/img1/000173.jpg\n",
      "174\n",
      "Saved: temp_task_folder/img1/000174.jpg\n"
     ]
    },
    {
     "name": "stderr",
     "output_type": "stream",
     "text": [
      "\n",
      "0: 1088x1920 22 players, 57.5ms\n",
      "Speed: 6.8ms preprocess, 57.5ms inference, 1.1ms postprocess per image at shape (1, 3, 1088, 1920)\n",
      "\n",
      "0: 1088x1920 1 ball, 22 players, 57.5ms\n",
      "Speed: 6.8ms preprocess, 57.5ms inference, 1.1ms postprocess per image at shape (1, 3, 1088, 1920)\n"
     ]
    },
    {
     "name": "stdout",
     "output_type": "stream",
     "text": [
      "175\n",
      "Saved: temp_task_folder/img1/000175.jpg\n",
      "176\n",
      "Saved: temp_task_folder/img1/000176.jpg\n"
     ]
    },
    {
     "name": "stderr",
     "output_type": "stream",
     "text": [
      "\n",
      "0: 1088x1920 22 players, 57.4ms\n",
      "Speed: 6.8ms preprocess, 57.4ms inference, 1.1ms postprocess per image at shape (1, 3, 1088, 1920)\n",
      "\n",
      "0: 1088x1920 22 players, 57.3ms\n",
      "Speed: 6.9ms preprocess, 57.3ms inference, 1.1ms postprocess per image at shape (1, 3, 1088, 1920)\n"
     ]
    },
    {
     "name": "stdout",
     "output_type": "stream",
     "text": [
      "177\n",
      "Saved: temp_task_folder/img1/000177.jpg\n",
      "178\n",
      "Saved: temp_task_folder/img1/000178.jpg\n"
     ]
    },
    {
     "name": "stderr",
     "output_type": "stream",
     "text": [
      "\n",
      "0: 1088x1920 1 ball, 22 players, 57.5ms\n",
      "Speed: 6.9ms preprocess, 57.5ms inference, 1.1ms postprocess per image at shape (1, 3, 1088, 1920)\n",
      "\n",
      "0: 1088x1920 1 ball, 22 players, 57.5ms\n",
      "Speed: 6.8ms preprocess, 57.5ms inference, 1.1ms postprocess per image at shape (1, 3, 1088, 1920)\n"
     ]
    },
    {
     "name": "stdout",
     "output_type": "stream",
     "text": [
      "179\n",
      "Saved: temp_task_folder/img1/000179.jpg\n",
      "180\n",
      "Saved: temp_task_folder/img1/000180.jpg\n"
     ]
    },
    {
     "name": "stderr",
     "output_type": "stream",
     "text": [
      "\n",
      "0: 1088x1920 1 ball, 22 players, 57.6ms\n",
      "Speed: 6.8ms preprocess, 57.6ms inference, 1.1ms postprocess per image at shape (1, 3, 1088, 1920)\n",
      "\n",
      "0: 1088x1920 1 ball, 22 players, 57.3ms\n",
      "Speed: 6.8ms preprocess, 57.3ms inference, 1.1ms postprocess per image at shape (1, 3, 1088, 1920)\n"
     ]
    },
    {
     "name": "stdout",
     "output_type": "stream",
     "text": [
      "181\n",
      "Saved: temp_task_folder/img1/000181.jpg\n",
      "182\n",
      "Saved: temp_task_folder/img1/000182.jpg\n"
     ]
    },
    {
     "name": "stderr",
     "output_type": "stream",
     "text": [
      "\n",
      "0: 1088x1920 1 ball, 22 players, 57.5ms\n",
      "Speed: 6.8ms preprocess, 57.5ms inference, 1.1ms postprocess per image at shape (1, 3, 1088, 1920)\n",
      "\n",
      "0: 1088x1920 1 ball, 22 players, 57.2ms\n",
      "Speed: 6.8ms preprocess, 57.2ms inference, 1.2ms postprocess per image at shape (1, 3, 1088, 1920)\n"
     ]
    },
    {
     "name": "stdout",
     "output_type": "stream",
     "text": [
      "183\n",
      "Saved: temp_task_folder/img1/000183.jpg\n",
      "184\n",
      "Saved: temp_task_folder/img1/000184.jpg\n"
     ]
    },
    {
     "name": "stderr",
     "output_type": "stream",
     "text": [
      "\n",
      "0: 1088x1920 1 ball, 22 players, 57.4ms\n",
      "Speed: 6.7ms preprocess, 57.4ms inference, 1.1ms postprocess per image at shape (1, 3, 1088, 1920)\n",
      "\n",
      "0: 1088x1920 1 ball, 22 players, 57.5ms\n",
      "Speed: 6.8ms preprocess, 57.5ms inference, 1.1ms postprocess per image at shape (1, 3, 1088, 1920)\n"
     ]
    },
    {
     "name": "stdout",
     "output_type": "stream",
     "text": [
      "185\n",
      "Saved: temp_task_folder/img1/000185.jpg\n",
      "186\n",
      "Saved: temp_task_folder/img1/000186.jpg\n"
     ]
    },
    {
     "name": "stderr",
     "output_type": "stream",
     "text": [
      "\n",
      "0: 1088x1920 1 ball, 22 players, 57.2ms\n",
      "Speed: 6.8ms preprocess, 57.2ms inference, 1.2ms postprocess per image at shape (1, 3, 1088, 1920)\n",
      "\n",
      "0: 1088x1920 1 ball, 22 players, 57.6ms\n",
      "Speed: 6.8ms preprocess, 57.6ms inference, 1.1ms postprocess per image at shape (1, 3, 1088, 1920)\n"
     ]
    },
    {
     "name": "stdout",
     "output_type": "stream",
     "text": [
      "187\n",
      "Saved: temp_task_folder/img1/000187.jpg\n",
      "188\n",
      "Saved: temp_task_folder/img1/000188.jpg\n"
     ]
    },
    {
     "name": "stderr",
     "output_type": "stream",
     "text": [
      "\n",
      "0: 1088x1920 1 ball, 22 players, 57.3ms\n",
      "Speed: 6.9ms preprocess, 57.3ms inference, 1.1ms postprocess per image at shape (1, 3, 1088, 1920)\n",
      "\n",
      "0: 1088x1920 1 ball, 22 players, 57.5ms\n",
      "Speed: 6.9ms preprocess, 57.5ms inference, 1.1ms postprocess per image at shape (1, 3, 1088, 1920)\n"
     ]
    },
    {
     "name": "stdout",
     "output_type": "stream",
     "text": [
      "189\n",
      "Saved: temp_task_folder/img1/000189.jpg\n",
      "190\n",
      "Saved: temp_task_folder/img1/000190.jpg\n"
     ]
    },
    {
     "name": "stderr",
     "output_type": "stream",
     "text": [
      "\n",
      "0: 1088x1920 1 ball, 22 players, 57.4ms\n",
      "Speed: 6.8ms preprocess, 57.4ms inference, 1.1ms postprocess per image at shape (1, 3, 1088, 1920)\n",
      "\n",
      "0: 1088x1920 1 ball, 22 players, 57.5ms\n",
      "Speed: 6.9ms preprocess, 57.5ms inference, 1.1ms postprocess per image at shape (1, 3, 1088, 1920)\n"
     ]
    },
    {
     "name": "stdout",
     "output_type": "stream",
     "text": [
      "191\n",
      "Saved: temp_task_folder/img1/000191.jpg\n",
      "192\n",
      "Saved: temp_task_folder/img1/000192.jpg\n"
     ]
    },
    {
     "name": "stderr",
     "output_type": "stream",
     "text": [
      "\n",
      "0: 1088x1920 1 ball, 22 players, 57.4ms\n",
      "Speed: 6.7ms preprocess, 57.4ms inference, 1.1ms postprocess per image at shape (1, 3, 1088, 1920)\n",
      "\n",
      "0: 1088x1920 1 ball, 22 players, 57.2ms\n",
      "Speed: 6.8ms preprocess, 57.2ms inference, 1.1ms postprocess per image at shape (1, 3, 1088, 1920)\n"
     ]
    },
    {
     "name": "stdout",
     "output_type": "stream",
     "text": [
      "193\n",
      "Saved: temp_task_folder/img1/000193.jpg\n",
      "194\n",
      "Saved: temp_task_folder/img1/000194.jpg\n"
     ]
    },
    {
     "name": "stderr",
     "output_type": "stream",
     "text": [
      "\n",
      "0: 1088x1920 1 ball, 22 players, 57.4ms\n",
      "Speed: 6.8ms preprocess, 57.4ms inference, 1.1ms postprocess per image at shape (1, 3, 1088, 1920)\n",
      "\n",
      "0: 1088x1920 1 ball, 22 players, 57.4ms\n",
      "Speed: 6.9ms preprocess, 57.4ms inference, 1.2ms postprocess per image at shape (1, 3, 1088, 1920)\n"
     ]
    },
    {
     "name": "stdout",
     "output_type": "stream",
     "text": [
      "195\n",
      "Saved: temp_task_folder/img1/000195.jpg\n",
      "196\n",
      "Saved: temp_task_folder/img1/000196.jpg\n"
     ]
    },
    {
     "name": "stderr",
     "output_type": "stream",
     "text": [
      "\n",
      "0: 1088x1920 1 ball, 22 players, 57.3ms\n",
      "Speed: 6.7ms preprocess, 57.3ms inference, 1.1ms postprocess per image at shape (1, 3, 1088, 1920)\n",
      "\n",
      "0: 1088x1920 1 ball, 22 players, 57.4ms\n",
      "Speed: 6.8ms preprocess, 57.4ms inference, 1.1ms postprocess per image at shape (1, 3, 1088, 1920)\n"
     ]
    },
    {
     "name": "stdout",
     "output_type": "stream",
     "text": [
      "197\n",
      "Saved: temp_task_folder/img1/000197.jpg\n",
      "198\n",
      "Saved: temp_task_folder/img1/000198.jpg\n"
     ]
    },
    {
     "name": "stderr",
     "output_type": "stream",
     "text": [
      "\n",
      "0: 1088x1920 1 ball, 22 players, 57.5ms\n",
      "Speed: 6.8ms preprocess, 57.5ms inference, 1.1ms postprocess per image at shape (1, 3, 1088, 1920)\n",
      "\n",
      "0: 1088x1920 1 ball, 22 players, 57.5ms\n",
      "Speed: 6.8ms preprocess, 57.5ms inference, 1.1ms postprocess per image at shape (1, 3, 1088, 1920)\n"
     ]
    },
    {
     "name": "stdout",
     "output_type": "stream",
     "text": [
      "199\n",
      "Saved: temp_task_folder/img1/000199.jpg\n",
      "200\n",
      "Saved: temp_task_folder/img1/000200.jpg\n"
     ]
    },
    {
     "name": "stderr",
     "output_type": "stream",
     "text": [
      "\n",
      "0: 1088x1920 1 ball, 22 players, 57.5ms\n",
      "Speed: 6.9ms preprocess, 57.5ms inference, 1.1ms postprocess per image at shape (1, 3, 1088, 1920)\n",
      "\n",
      "0: 1088x1920 1 ball, 22 players, 57.3ms\n",
      "Speed: 6.9ms preprocess, 57.3ms inference, 1.2ms postprocess per image at shape (1, 3, 1088, 1920)\n"
     ]
    },
    {
     "name": "stdout",
     "output_type": "stream",
     "text": [
      "201\n",
      "Saved: temp_task_folder/img1/000201.jpg\n",
      "202\n",
      "Saved: temp_task_folder/img1/000202.jpg\n"
     ]
    },
    {
     "name": "stderr",
     "output_type": "stream",
     "text": [
      "\n",
      "0: 1088x1920 1 ball, 22 players, 57.4ms\n",
      "Speed: 6.9ms preprocess, 57.4ms inference, 1.1ms postprocess per image at shape (1, 3, 1088, 1920)\n",
      "\n",
      "0: 1088x1920 1 ball, 22 players, 57.4ms\n",
      "Speed: 6.8ms preprocess, 57.4ms inference, 1.1ms postprocess per image at shape (1, 3, 1088, 1920)\n"
     ]
    },
    {
     "name": "stdout",
     "output_type": "stream",
     "text": [
      "203\n",
      "Saved: temp_task_folder/img1/000203.jpg\n",
      "204\n",
      "Saved: temp_task_folder/img1/000204.jpg\n"
     ]
    },
    {
     "name": "stderr",
     "output_type": "stream",
     "text": [
      "\n",
      "0: 1088x1920 1 ball, 22 players, 57.5ms\n",
      "Speed: 6.8ms preprocess, 57.5ms inference, 1.1ms postprocess per image at shape (1, 3, 1088, 1920)\n",
      "\n",
      "0: 1088x1920 1 ball, 22 players, 57.2ms\n",
      "Speed: 6.9ms preprocess, 57.2ms inference, 1.1ms postprocess per image at shape (1, 3, 1088, 1920)\n"
     ]
    },
    {
     "name": "stdout",
     "output_type": "stream",
     "text": [
      "205\n",
      "Saved: temp_task_folder/img1/000205.jpg\n",
      "206\n",
      "Saved: temp_task_folder/img1/000206.jpg\n"
     ]
    },
    {
     "name": "stderr",
     "output_type": "stream",
     "text": [
      "\n",
      "0: 1088x1920 1 ball, 22 players, 57.5ms\n",
      "Speed: 6.8ms preprocess, 57.5ms inference, 1.1ms postprocess per image at shape (1, 3, 1088, 1920)\n",
      "\n",
      "0: 1088x1920 1 ball, 22 players, 57.3ms\n",
      "Speed: 6.8ms preprocess, 57.3ms inference, 1.1ms postprocess per image at shape (1, 3, 1088, 1920)\n"
     ]
    },
    {
     "name": "stdout",
     "output_type": "stream",
     "text": [
      "207\n",
      "Saved: temp_task_folder/img1/000207.jpg\n",
      "208\n",
      "Saved: temp_task_folder/img1/000208.jpg\n"
     ]
    },
    {
     "name": "stderr",
     "output_type": "stream",
     "text": [
      "\n",
      "0: 1088x1920 1 ball, 22 players, 57.5ms\n",
      "Speed: 6.8ms preprocess, 57.5ms inference, 1.1ms postprocess per image at shape (1, 3, 1088, 1920)\n",
      "\n",
      "0: 1088x1920 1 ball, 22 players, 57.2ms\n",
      "Speed: 6.8ms preprocess, 57.2ms inference, 1.1ms postprocess per image at shape (1, 3, 1088, 1920)\n"
     ]
    },
    {
     "name": "stdout",
     "output_type": "stream",
     "text": [
      "209\n",
      "Saved: temp_task_folder/img1/000209.jpg\n",
      "210\n",
      "Saved: temp_task_folder/img1/000210.jpg\n"
     ]
    },
    {
     "name": "stderr",
     "output_type": "stream",
     "text": [
      "\n",
      "0: 1088x1920 1 ball, 22 players, 57.5ms\n",
      "Speed: 6.8ms preprocess, 57.5ms inference, 1.1ms postprocess per image at shape (1, 3, 1088, 1920)\n",
      "\n",
      "0: 1088x1920 1 ball, 22 players, 57.5ms\n",
      "Speed: 6.9ms preprocess, 57.5ms inference, 1.1ms postprocess per image at shape (1, 3, 1088, 1920)\n"
     ]
    },
    {
     "name": "stdout",
     "output_type": "stream",
     "text": [
      "211\n",
      "Saved: temp_task_folder/img1/000211.jpg\n",
      "212\n",
      "Saved: temp_task_folder/img1/000212.jpg\n"
     ]
    },
    {
     "name": "stderr",
     "output_type": "stream",
     "text": [
      "\n",
      "0: 1088x1920 1 ball, 22 players, 57.3ms\n",
      "Speed: 6.9ms preprocess, 57.3ms inference, 1.1ms postprocess per image at shape (1, 3, 1088, 1920)\n",
      "\n",
      "0: 1088x1920 1 ball, 22 players, 57.4ms\n",
      "Speed: 6.9ms preprocess, 57.4ms inference, 1.1ms postprocess per image at shape (1, 3, 1088, 1920)\n"
     ]
    },
    {
     "name": "stdout",
     "output_type": "stream",
     "text": [
      "213\n",
      "Saved: temp_task_folder/img1/000213.jpg\n",
      "214\n",
      "Saved: temp_task_folder/img1/000214.jpg\n"
     ]
    },
    {
     "name": "stderr",
     "output_type": "stream",
     "text": [
      "\n",
      "0: 1088x1920 1 ball, 22 players, 57.3ms\n",
      "Speed: 6.8ms preprocess, 57.3ms inference, 1.1ms postprocess per image at shape (1, 3, 1088, 1920)\n",
      "\n",
      "0: 1088x1920 1 ball, 22 players, 57.4ms\n",
      "Speed: 6.8ms preprocess, 57.4ms inference, 1.1ms postprocess per image at shape (1, 3, 1088, 1920)\n"
     ]
    },
    {
     "name": "stdout",
     "output_type": "stream",
     "text": [
      "215\n",
      "Saved: temp_task_folder/img1/000215.jpg\n",
      "216\n",
      "Saved: temp_task_folder/img1/000216.jpg\n"
     ]
    },
    {
     "name": "stderr",
     "output_type": "stream",
     "text": [
      "\n",
      "0: 1088x1920 1 ball, 22 players, 57.5ms\n",
      "Speed: 6.9ms preprocess, 57.5ms inference, 1.1ms postprocess per image at shape (1, 3, 1088, 1920)\n",
      "\n",
      "0: 1088x1920 1 ball, 22 players, 57.4ms\n",
      "Speed: 6.9ms preprocess, 57.4ms inference, 1.2ms postprocess per image at shape (1, 3, 1088, 1920)\n"
     ]
    },
    {
     "name": "stdout",
     "output_type": "stream",
     "text": [
      "217\n",
      "Saved: temp_task_folder/img1/000217.jpg\n",
      "218\n",
      "Saved: temp_task_folder/img1/000218.jpg\n"
     ]
    },
    {
     "name": "stderr",
     "output_type": "stream",
     "text": [
      "\n",
      "0: 1088x1920 1 ball, 22 players, 57.4ms\n",
      "Speed: 6.8ms preprocess, 57.4ms inference, 1.1ms postprocess per image at shape (1, 3, 1088, 1920)\n",
      "\n",
      "0: 1088x1920 1 ball, 22 players, 57.5ms\n",
      "Speed: 6.8ms preprocess, 57.5ms inference, 1.2ms postprocess per image at shape (1, 3, 1088, 1920)\n"
     ]
    },
    {
     "name": "stdout",
     "output_type": "stream",
     "text": [
      "219\n",
      "Saved: temp_task_folder/img1/000219.jpg\n",
      "220\n",
      "Saved: temp_task_folder/img1/000220.jpg\n"
     ]
    },
    {
     "name": "stderr",
     "output_type": "stream",
     "text": [
      "\n",
      "0: 1088x1920 1 ball, 22 players, 57.5ms\n",
      "Speed: 6.8ms preprocess, 57.5ms inference, 1.1ms postprocess per image at shape (1, 3, 1088, 1920)\n",
      "\n",
      "0: 1088x1920 1 ball, 22 players, 57.6ms\n",
      "Speed: 6.9ms preprocess, 57.6ms inference, 1.1ms postprocess per image at shape (1, 3, 1088, 1920)\n"
     ]
    },
    {
     "name": "stdout",
     "output_type": "stream",
     "text": [
      "221\n",
      "Saved: temp_task_folder/img1/000221.jpg\n",
      "222\n",
      "Saved: temp_task_folder/img1/000222.jpg\n"
     ]
    },
    {
     "name": "stderr",
     "output_type": "stream",
     "text": [
      "\n",
      "0: 1088x1920 1 ball, 22 players, 57.5ms\n",
      "Speed: 6.9ms preprocess, 57.5ms inference, 1.1ms postprocess per image at shape (1, 3, 1088, 1920)\n",
      "\n",
      "0: 1088x1920 22 players, 57.5ms\n",
      "Speed: 6.8ms preprocess, 57.5ms inference, 1.1ms postprocess per image at shape (1, 3, 1088, 1920)\n"
     ]
    },
    {
     "name": "stdout",
     "output_type": "stream",
     "text": [
      "223\n",
      "Saved: temp_task_folder/img1/000223.jpg\n",
      "224\n",
      "Saved: temp_task_folder/img1/000224.jpg\n"
     ]
    },
    {
     "name": "stderr",
     "output_type": "stream",
     "text": [
      "\n",
      "0: 1088x1920 1 ball, 22 players, 57.4ms\n",
      "Speed: 6.8ms preprocess, 57.4ms inference, 1.1ms postprocess per image at shape (1, 3, 1088, 1920)\n",
      "\n",
      "0: 1088x1920 1 ball, 22 players, 57.5ms\n",
      "Speed: 6.8ms preprocess, 57.5ms inference, 1.1ms postprocess per image at shape (1, 3, 1088, 1920)\n"
     ]
    },
    {
     "name": "stdout",
     "output_type": "stream",
     "text": [
      "225\n",
      "Saved: temp_task_folder/img1/000225.jpg\n",
      "226\n",
      "Saved: temp_task_folder/img1/000226.jpg\n"
     ]
    },
    {
     "name": "stderr",
     "output_type": "stream",
     "text": [
      "\n",
      "0: 1088x1920 1 ball, 22 players, 57.4ms\n",
      "Speed: 6.8ms preprocess, 57.4ms inference, 1.2ms postprocess per image at shape (1, 3, 1088, 1920)\n",
      "\n",
      "0: 1088x1920 1 ball, 22 players, 57.4ms\n",
      "Speed: 6.9ms preprocess, 57.4ms inference, 1.1ms postprocess per image at shape (1, 3, 1088, 1920)\n"
     ]
    },
    {
     "name": "stdout",
     "output_type": "stream",
     "text": [
      "227\n",
      "Saved: temp_task_folder/img1/000227.jpg\n",
      "228\n",
      "Saved: temp_task_folder/img1/000228.jpg\n"
     ]
    },
    {
     "name": "stderr",
     "output_type": "stream",
     "text": [
      "\n",
      "0: 1088x1920 1 ball, 22 players, 57.5ms\n",
      "Speed: 6.8ms preprocess, 57.5ms inference, 1.1ms postprocess per image at shape (1, 3, 1088, 1920)\n",
      "\n",
      "0: 1088x1920 1 ball, 22 players, 57.1ms\n",
      "Speed: 6.9ms preprocess, 57.1ms inference, 1.1ms postprocess per image at shape (1, 3, 1088, 1920)\n"
     ]
    },
    {
     "name": "stdout",
     "output_type": "stream",
     "text": [
      "229\n",
      "Saved: temp_task_folder/img1/000229.jpg\n",
      "230\n",
      "Saved: temp_task_folder/img1/000230.jpg\n"
     ]
    },
    {
     "name": "stderr",
     "output_type": "stream",
     "text": [
      "\n",
      "0: 1088x1920 1 ball, 22 players, 57.5ms\n",
      "Speed: 6.8ms preprocess, 57.5ms inference, 1.1ms postprocess per image at shape (1, 3, 1088, 1920)\n",
      "\n",
      "0: 1088x1920 1 ball, 22 players, 57.4ms\n",
      "Speed: 6.9ms preprocess, 57.4ms inference, 1.1ms postprocess per image at shape (1, 3, 1088, 1920)\n"
     ]
    },
    {
     "name": "stdout",
     "output_type": "stream",
     "text": [
      "231\n",
      "Saved: temp_task_folder/img1/000231.jpg\n",
      "232\n",
      "Saved: temp_task_folder/img1/000232.jpg\n"
     ]
    },
    {
     "name": "stderr",
     "output_type": "stream",
     "text": [
      "\n",
      "0: 1088x1920 1 ball, 22 players, 57.4ms\n",
      "Speed: 6.8ms preprocess, 57.4ms inference, 1.1ms postprocess per image at shape (1, 3, 1088, 1920)\n",
      "\n",
      "0: 1088x1920 1 ball, 22 players, 57.2ms\n",
      "Speed: 6.8ms preprocess, 57.2ms inference, 1.1ms postprocess per image at shape (1, 3, 1088, 1920)\n"
     ]
    },
    {
     "name": "stdout",
     "output_type": "stream",
     "text": [
      "233\n",
      "Saved: temp_task_folder/img1/000233.jpg\n",
      "234\n",
      "Saved: temp_task_folder/img1/000234.jpg\n"
     ]
    },
    {
     "name": "stderr",
     "output_type": "stream",
     "text": [
      "\n",
      "0: 1088x1920 1 ball, 22 players, 57.4ms\n",
      "Speed: 6.8ms preprocess, 57.4ms inference, 1.1ms postprocess per image at shape (1, 3, 1088, 1920)\n",
      "\n",
      "0: 1088x1920 1 ball, 22 players, 57.4ms\n",
      "Speed: 6.9ms preprocess, 57.4ms inference, 1.1ms postprocess per image at shape (1, 3, 1088, 1920)\n"
     ]
    },
    {
     "name": "stdout",
     "output_type": "stream",
     "text": [
      "235\n",
      "Saved: temp_task_folder/img1/000235.jpg\n",
      "236\n",
      "Saved: temp_task_folder/img1/000236.jpg\n"
     ]
    },
    {
     "name": "stderr",
     "output_type": "stream",
     "text": [
      "\n",
      "0: 1088x1920 1 ball, 22 players, 57.4ms\n",
      "Speed: 7.0ms preprocess, 57.4ms inference, 1.1ms postprocess per image at shape (1, 3, 1088, 1920)\n",
      "\n",
      "0: 1088x1920 1 ball, 22 players, 57.5ms\n",
      "Speed: 6.8ms preprocess, 57.5ms inference, 1.1ms postprocess per image at shape (1, 3, 1088, 1920)\n"
     ]
    },
    {
     "name": "stdout",
     "output_type": "stream",
     "text": [
      "237\n",
      "Saved: temp_task_folder/img1/000237.jpg\n",
      "238\n",
      "Saved: temp_task_folder/img1/000238.jpg\n"
     ]
    },
    {
     "name": "stderr",
     "output_type": "stream",
     "text": [
      "\n",
      "0: 1088x1920 1 ball, 22 players, 57.4ms\n",
      "Speed: 6.8ms preprocess, 57.4ms inference, 1.1ms postprocess per image at shape (1, 3, 1088, 1920)\n",
      "\n",
      "0: 1088x1920 1 ball, 22 players, 57.3ms\n",
      "Speed: 6.8ms preprocess, 57.3ms inference, 1.1ms postprocess per image at shape (1, 3, 1088, 1920)\n"
     ]
    },
    {
     "name": "stdout",
     "output_type": "stream",
     "text": [
      "239\n",
      "Saved: temp_task_folder/img1/000239.jpg\n",
      "240\n",
      "Saved: temp_task_folder/img1/000240.jpg\n"
     ]
    },
    {
     "name": "stderr",
     "output_type": "stream",
     "text": [
      "\n",
      "0: 1088x1920 1 ball, 22 players, 57.7ms\n",
      "Speed: 6.9ms preprocess, 57.7ms inference, 1.1ms postprocess per image at shape (1, 3, 1088, 1920)\n",
      "\n",
      "0: 1088x1920 1 ball, 22 players, 57.5ms\n",
      "Speed: 6.8ms preprocess, 57.5ms inference, 1.1ms postprocess per image at shape (1, 3, 1088, 1920)\n"
     ]
    },
    {
     "name": "stdout",
     "output_type": "stream",
     "text": [
      "241\n",
      "Saved: temp_task_folder/img1/000241.jpg\n",
      "242\n",
      "Saved: temp_task_folder/img1/000242.jpg\n"
     ]
    },
    {
     "name": "stderr",
     "output_type": "stream",
     "text": [
      "\n",
      "0: 1088x1920 22 players, 57.4ms\n",
      "Speed: 6.8ms preprocess, 57.4ms inference, 1.1ms postprocess per image at shape (1, 3, 1088, 1920)\n",
      "\n",
      "0: 1088x1920 1 ball, 22 players, 57.5ms\n",
      "Speed: 6.9ms preprocess, 57.5ms inference, 1.1ms postprocess per image at shape (1, 3, 1088, 1920)\n"
     ]
    },
    {
     "name": "stdout",
     "output_type": "stream",
     "text": [
      "243\n",
      "Saved: temp_task_folder/img1/000243.jpg\n",
      "244\n",
      "Saved: temp_task_folder/img1/000244.jpg\n"
     ]
    },
    {
     "name": "stderr",
     "output_type": "stream",
     "text": [
      "\n",
      "0: 1088x1920 1 ball, 22 players, 57.3ms\n",
      "Speed: 6.8ms preprocess, 57.3ms inference, 1.1ms postprocess per image at shape (1, 3, 1088, 1920)\n",
      "\n",
      "0: 1088x1920 1 ball, 22 players, 57.3ms\n",
      "Speed: 6.8ms preprocess, 57.3ms inference, 1.1ms postprocess per image at shape (1, 3, 1088, 1920)\n"
     ]
    },
    {
     "name": "stdout",
     "output_type": "stream",
     "text": [
      "245\n",
      "Saved: temp_task_folder/img1/000245.jpg\n",
      "246\n",
      "Saved: temp_task_folder/img1/000246.jpg\n"
     ]
    },
    {
     "name": "stderr",
     "output_type": "stream",
     "text": [
      "\n",
      "0: 1088x1920 1 ball, 22 players, 57.5ms\n",
      "Speed: 6.8ms preprocess, 57.5ms inference, 1.1ms postprocess per image at shape (1, 3, 1088, 1920)\n",
      "\n",
      "0: 1088x1920 1 ball, 22 players, 57.5ms\n",
      "Speed: 6.8ms preprocess, 57.5ms inference, 1.2ms postprocess per image at shape (1, 3, 1088, 1920)\n"
     ]
    },
    {
     "name": "stdout",
     "output_type": "stream",
     "text": [
      "247\n",
      "Saved: temp_task_folder/img1/000247.jpg\n",
      "248\n",
      "Saved: temp_task_folder/img1/000248.jpg\n"
     ]
    },
    {
     "name": "stderr",
     "output_type": "stream",
     "text": [
      "\n",
      "0: 1088x1920 1 ball, 22 players, 57.4ms\n",
      "Speed: 6.8ms preprocess, 57.4ms inference, 1.1ms postprocess per image at shape (1, 3, 1088, 1920)\n",
      "\n",
      "0: 1088x1920 1 ball, 22 players, 57.5ms\n",
      "Speed: 6.9ms preprocess, 57.5ms inference, 1.1ms postprocess per image at shape (1, 3, 1088, 1920)\n"
     ]
    },
    {
     "name": "stdout",
     "output_type": "stream",
     "text": [
      "249\n",
      "Saved: temp_task_folder/img1/000249.jpg\n",
      "250\n",
      "Saved: temp_task_folder/img1/000250.jpg\n"
     ]
    },
    {
     "name": "stderr",
     "output_type": "stream",
     "text": [
      "\n",
      "0: 1088x1920 1 ball, 22 players, 57.2ms\n",
      "Speed: 6.8ms preprocess, 57.2ms inference, 1.1ms postprocess per image at shape (1, 3, 1088, 1920)\n",
      "\n",
      "0: 1088x1920 1 ball, 22 players, 57.5ms\n",
      "Speed: 6.9ms preprocess, 57.5ms inference, 1.1ms postprocess per image at shape (1, 3, 1088, 1920)\n"
     ]
    },
    {
     "name": "stdout",
     "output_type": "stream",
     "text": [
      "251\n",
      "Saved: temp_task_folder/img1/000251.jpg\n",
      "252\n",
      "Saved: temp_task_folder/img1/000252.jpg\n"
     ]
    },
    {
     "name": "stderr",
     "output_type": "stream",
     "text": [
      "\n",
      "0: 1088x1920 1 ball, 22 players, 57.5ms\n",
      "Speed: 6.8ms preprocess, 57.5ms inference, 1.1ms postprocess per image at shape (1, 3, 1088, 1920)\n",
      "\n",
      "0: 1088x1920 1 ball, 22 players, 57.5ms\n",
      "Speed: 6.8ms preprocess, 57.5ms inference, 1.1ms postprocess per image at shape (1, 3, 1088, 1920)\n"
     ]
    },
    {
     "name": "stdout",
     "output_type": "stream",
     "text": [
      "253\n",
      "Saved: temp_task_folder/img1/000253.jpg\n",
      "254\n",
      "Saved: temp_task_folder/img1/000254.jpg\n"
     ]
    },
    {
     "name": "stderr",
     "output_type": "stream",
     "text": [
      "\n",
      "0: 1088x1920 1 ball, 22 players, 57.5ms\n",
      "Speed: 6.8ms preprocess, 57.5ms inference, 1.1ms postprocess per image at shape (1, 3, 1088, 1920)\n",
      "\n",
      "0: 1088x1920 1 ball, 22 players, 57.5ms\n",
      "Speed: 6.8ms preprocess, 57.5ms inference, 1.1ms postprocess per image at shape (1, 3, 1088, 1920)\n"
     ]
    },
    {
     "name": "stdout",
     "output_type": "stream",
     "text": [
      "255\n",
      "Saved: temp_task_folder/img1/000255.jpg\n",
      "256\n",
      "Saved: temp_task_folder/img1/000256.jpg\n"
     ]
    },
    {
     "name": "stderr",
     "output_type": "stream",
     "text": [
      "\n",
      "0: 1088x1920 1 ball, 22 players, 57.5ms\n",
      "Speed: 6.8ms preprocess, 57.5ms inference, 1.1ms postprocess per image at shape (1, 3, 1088, 1920)\n",
      "\n",
      "0: 1088x1920 1 ball, 22 players, 57.4ms\n",
      "Speed: 6.9ms preprocess, 57.4ms inference, 1.1ms postprocess per image at shape (1, 3, 1088, 1920)\n"
     ]
    },
    {
     "name": "stdout",
     "output_type": "stream",
     "text": [
      "257\n",
      "Saved: temp_task_folder/img1/000257.jpg\n",
      "258\n",
      "Saved: temp_task_folder/img1/000258.jpg\n"
     ]
    },
    {
     "name": "stderr",
     "output_type": "stream",
     "text": [
      "\n",
      "0: 1088x1920 1 ball, 22 players, 57.4ms\n",
      "Speed: 6.8ms preprocess, 57.4ms inference, 1.1ms postprocess per image at shape (1, 3, 1088, 1920)\n",
      "\n",
      "0: 1088x1920 1 ball, 22 players, 57.4ms\n",
      "Speed: 6.8ms preprocess, 57.4ms inference, 1.1ms postprocess per image at shape (1, 3, 1088, 1920)\n"
     ]
    },
    {
     "name": "stdout",
     "output_type": "stream",
     "text": [
      "259\n",
      "Saved: temp_task_folder/img1/000259.jpg\n",
      "260\n",
      "Saved: temp_task_folder/img1/000260.jpg\n"
     ]
    },
    {
     "name": "stderr",
     "output_type": "stream",
     "text": [
      "\n",
      "0: 1088x1920 1 ball, 22 players, 57.2ms\n",
      "Speed: 6.8ms preprocess, 57.2ms inference, 1.1ms postprocess per image at shape (1, 3, 1088, 1920)\n",
      "\n",
      "0: 1088x1920 1 ball, 22 players, 57.5ms\n",
      "Speed: 7.0ms preprocess, 57.5ms inference, 1.2ms postprocess per image at shape (1, 3, 1088, 1920)\n"
     ]
    },
    {
     "name": "stdout",
     "output_type": "stream",
     "text": [
      "261\n",
      "Saved: temp_task_folder/img1/000261.jpg\n",
      "262\n",
      "Saved: temp_task_folder/img1/000262.jpg\n"
     ]
    },
    {
     "name": "stderr",
     "output_type": "stream",
     "text": [
      "\n",
      "0: 1088x1920 1 ball, 22 players, 57.4ms\n",
      "Speed: 6.8ms preprocess, 57.4ms inference, 1.1ms postprocess per image at shape (1, 3, 1088, 1920)\n",
      "\n",
      "0: 1088x1920 1 ball, 22 players, 57.4ms\n",
      "Speed: 6.8ms preprocess, 57.4ms inference, 1.1ms postprocess per image at shape (1, 3, 1088, 1920)\n"
     ]
    },
    {
     "name": "stdout",
     "output_type": "stream",
     "text": [
      "263\n",
      "Saved: temp_task_folder/img1/000263.jpg\n",
      "264\n",
      "Saved: temp_task_folder/img1/000264.jpg\n"
     ]
    },
    {
     "name": "stderr",
     "output_type": "stream",
     "text": [
      "\n",
      "0: 1088x1920 1 ball, 22 players, 57.2ms\n",
      "Speed: 6.7ms preprocess, 57.2ms inference, 1.1ms postprocess per image at shape (1, 3, 1088, 1920)\n",
      "\n",
      "0: 1088x1920 1 ball, 22 players, 57.3ms\n",
      "Speed: 6.8ms preprocess, 57.3ms inference, 1.1ms postprocess per image at shape (1, 3, 1088, 1920)\n"
     ]
    },
    {
     "name": "stdout",
     "output_type": "stream",
     "text": [
      "265\n",
      "Saved: temp_task_folder/img1/000265.jpg\n",
      "266\n",
      "Saved: temp_task_folder/img1/000266.jpg\n"
     ]
    },
    {
     "name": "stderr",
     "output_type": "stream",
     "text": [
      "\n",
      "0: 1088x1920 1 ball, 22 players, 57.5ms\n",
      "Speed: 6.8ms preprocess, 57.5ms inference, 1.1ms postprocess per image at shape (1, 3, 1088, 1920)\n",
      "\n",
      "0: 1088x1920 1 ball, 22 players, 57.3ms\n",
      "Speed: 6.8ms preprocess, 57.3ms inference, 1.1ms postprocess per image at shape (1, 3, 1088, 1920)\n"
     ]
    },
    {
     "name": "stdout",
     "output_type": "stream",
     "text": [
      "267\n",
      "Saved: temp_task_folder/img1/000267.jpg\n",
      "268\n",
      "Saved: temp_task_folder/img1/000268.jpg\n"
     ]
    },
    {
     "name": "stderr",
     "output_type": "stream",
     "text": [
      "\n",
      "0: 1088x1920 1 ball, 22 players, 57.5ms\n",
      "Speed: 6.8ms preprocess, 57.5ms inference, 1.1ms postprocess per image at shape (1, 3, 1088, 1920)\n",
      "\n",
      "0: 1088x1920 1 ball, 22 players, 57.4ms\n",
      "Speed: 6.9ms preprocess, 57.4ms inference, 1.1ms postprocess per image at shape (1, 3, 1088, 1920)\n"
     ]
    },
    {
     "name": "stdout",
     "output_type": "stream",
     "text": [
      "269\n",
      "Saved: temp_task_folder/img1/000269.jpg\n",
      "270\n",
      "Saved: temp_task_folder/img1/000270.jpg\n"
     ]
    },
    {
     "name": "stderr",
     "output_type": "stream",
     "text": [
      "\n",
      "0: 1088x1920 1 ball, 22 players, 57.3ms\n",
      "Speed: 6.8ms preprocess, 57.3ms inference, 1.1ms postprocess per image at shape (1, 3, 1088, 1920)\n",
      "\n",
      "0: 1088x1920 1 ball, 22 players, 57.3ms\n",
      "Speed: 6.8ms preprocess, 57.3ms inference, 1.2ms postprocess per image at shape (1, 3, 1088, 1920)\n"
     ]
    },
    {
     "name": "stdout",
     "output_type": "stream",
     "text": [
      "271\n",
      "Saved: temp_task_folder/img1/000271.jpg\n",
      "272\n",
      "Saved: temp_task_folder/img1/000272.jpg\n"
     ]
    },
    {
     "name": "stderr",
     "output_type": "stream",
     "text": [
      "\n",
      "0: 1088x1920 1 ball, 22 players, 57.3ms\n",
      "Speed: 6.9ms preprocess, 57.3ms inference, 1.1ms postprocess per image at shape (1, 3, 1088, 1920)\n",
      "\n",
      "0: 1088x1920 1 ball, 22 players, 57.5ms\n",
      "Speed: 6.8ms preprocess, 57.5ms inference, 1.1ms postprocess per image at shape (1, 3, 1088, 1920)\n"
     ]
    },
    {
     "name": "stdout",
     "output_type": "stream",
     "text": [
      "273\n",
      "Saved: temp_task_folder/img1/000273.jpg\n",
      "274\n",
      "Saved: temp_task_folder/img1/000274.jpg\n"
     ]
    },
    {
     "name": "stderr",
     "output_type": "stream",
     "text": [
      "\n",
      "0: 1088x1920 1 ball, 22 players, 57.5ms\n",
      "Speed: 6.8ms preprocess, 57.5ms inference, 1.1ms postprocess per image at shape (1, 3, 1088, 1920)\n",
      "\n",
      "0: 1088x1920 1 ball, 22 players, 57.5ms\n",
      "Speed: 6.9ms preprocess, 57.5ms inference, 1.1ms postprocess per image at shape (1, 3, 1088, 1920)\n"
     ]
    },
    {
     "name": "stdout",
     "output_type": "stream",
     "text": [
      "275\n",
      "Saved: temp_task_folder/img1/000275.jpg\n",
      "276\n",
      "Saved: temp_task_folder/img1/000276.jpg\n"
     ]
    },
    {
     "name": "stderr",
     "output_type": "stream",
     "text": [
      "\n",
      "0: 1088x1920 1 ball, 22 players, 57.5ms\n",
      "Speed: 6.8ms preprocess, 57.5ms inference, 1.1ms postprocess per image at shape (1, 3, 1088, 1920)\n",
      "\n",
      "0: 1088x1920 1 ball, 22 players, 57.4ms\n",
      "Speed: 6.9ms preprocess, 57.4ms inference, 1.1ms postprocess per image at shape (1, 3, 1088, 1920)\n"
     ]
    },
    {
     "name": "stdout",
     "output_type": "stream",
     "text": [
      "277\n",
      "Saved: temp_task_folder/img1/000277.jpg\n",
      "278\n",
      "Saved: temp_task_folder/img1/000278.jpg\n"
     ]
    },
    {
     "name": "stderr",
     "output_type": "stream",
     "text": [
      "\n",
      "0: 1088x1920 1 ball, 22 players, 57.3ms\n",
      "Speed: 6.8ms preprocess, 57.3ms inference, 1.1ms postprocess per image at shape (1, 3, 1088, 1920)\n",
      "\n",
      "0: 1088x1920 1 ball, 22 players, 57.5ms\n",
      "Speed: 6.8ms preprocess, 57.5ms inference, 1.1ms postprocess per image at shape (1, 3, 1088, 1920)\n"
     ]
    },
    {
     "name": "stdout",
     "output_type": "stream",
     "text": [
      "279\n",
      "Saved: temp_task_folder/img1/000279.jpg\n",
      "280\n",
      "Saved: temp_task_folder/img1/000280.jpg\n"
     ]
    },
    {
     "name": "stderr",
     "output_type": "stream",
     "text": [
      "\n",
      "0: 1088x1920 1 ball, 22 players, 57.4ms\n",
      "Speed: 6.8ms preprocess, 57.4ms inference, 1.1ms postprocess per image at shape (1, 3, 1088, 1920)\n",
      "\n",
      "0: 1088x1920 1 ball, 22 players, 57.2ms\n",
      "Speed: 6.9ms preprocess, 57.2ms inference, 1.1ms postprocess per image at shape (1, 3, 1088, 1920)\n"
     ]
    },
    {
     "name": "stdout",
     "output_type": "stream",
     "text": [
      "281\n",
      "Saved: temp_task_folder/img1/000281.jpg\n",
      "282\n",
      "Saved: temp_task_folder/img1/000282.jpg\n"
     ]
    },
    {
     "name": "stderr",
     "output_type": "stream",
     "text": [
      "\n",
      "0: 1088x1920 1 ball, 22 players, 57.5ms\n",
      "Speed: 6.9ms preprocess, 57.5ms inference, 1.1ms postprocess per image at shape (1, 3, 1088, 1920)\n",
      "\n",
      "0: 1088x1920 1 ball, 22 players, 57.4ms\n",
      "Speed: 6.8ms preprocess, 57.4ms inference, 1.1ms postprocess per image at shape (1, 3, 1088, 1920)\n"
     ]
    },
    {
     "name": "stdout",
     "output_type": "stream",
     "text": [
      "283\n",
      "Saved: temp_task_folder/img1/000283.jpg\n",
      "284\n",
      "Saved: temp_task_folder/img1/000284.jpg\n"
     ]
    },
    {
     "name": "stderr",
     "output_type": "stream",
     "text": [
      "\n",
      "0: 1088x1920 1 ball, 22 players, 57.5ms\n",
      "Speed: 6.8ms preprocess, 57.5ms inference, 1.1ms postprocess per image at shape (1, 3, 1088, 1920)\n",
      "\n",
      "0: 1088x1920 1 ball, 22 players, 57.3ms\n",
      "Speed: 6.9ms preprocess, 57.3ms inference, 1.1ms postprocess per image at shape (1, 3, 1088, 1920)\n"
     ]
    },
    {
     "name": "stdout",
     "output_type": "stream",
     "text": [
      "285\n",
      "Saved: temp_task_folder/img1/000285.jpg\n",
      "286\n",
      "Saved: temp_task_folder/img1/000286.jpg\n"
     ]
    },
    {
     "name": "stderr",
     "output_type": "stream",
     "text": [
      "\n",
      "0: 1088x1920 1 ball, 22 players, 57.5ms\n",
      "Speed: 6.8ms preprocess, 57.5ms inference, 1.1ms postprocess per image at shape (1, 3, 1088, 1920)\n",
      "\n",
      "0: 1088x1920 1 ball, 22 players, 57.5ms\n",
      "Speed: 6.9ms preprocess, 57.5ms inference, 1.1ms postprocess per image at shape (1, 3, 1088, 1920)\n"
     ]
    },
    {
     "name": "stdout",
     "output_type": "stream",
     "text": [
      "287\n",
      "Saved: temp_task_folder/img1/000287.jpg\n",
      "288\n",
      "Saved: temp_task_folder/img1/000288.jpg\n"
     ]
    },
    {
     "name": "stderr",
     "output_type": "stream",
     "text": [
      "\n",
      "0: 1088x1920 1 ball, 22 players, 57.5ms\n",
      "Speed: 6.8ms preprocess, 57.5ms inference, 1.1ms postprocess per image at shape (1, 3, 1088, 1920)\n",
      "\n",
      "0: 1088x1920 1 ball, 22 players, 57.6ms\n",
      "Speed: 6.9ms preprocess, 57.6ms inference, 1.1ms postprocess per image at shape (1, 3, 1088, 1920)\n"
     ]
    },
    {
     "name": "stdout",
     "output_type": "stream",
     "text": [
      "289\n",
      "Saved: temp_task_folder/img1/000289.jpg\n",
      "290\n",
      "Saved: temp_task_folder/img1/000290.jpg\n"
     ]
    },
    {
     "name": "stderr",
     "output_type": "stream",
     "text": [
      "\n",
      "0: 1088x1920 1 ball, 22 players, 57.5ms\n",
      "Speed: 6.8ms preprocess, 57.5ms inference, 1.1ms postprocess per image at shape (1, 3, 1088, 1920)\n",
      "\n",
      "0: 1088x1920 1 ball, 22 players, 57.2ms\n",
      "Speed: 6.9ms preprocess, 57.2ms inference, 1.1ms postprocess per image at shape (1, 3, 1088, 1920)\n"
     ]
    },
    {
     "name": "stdout",
     "output_type": "stream",
     "text": [
      "291\n",
      "Saved: temp_task_folder/img1/000291.jpg\n",
      "292\n",
      "Saved: temp_task_folder/img1/000292.jpg\n"
     ]
    },
    {
     "name": "stderr",
     "output_type": "stream",
     "text": [
      "\n",
      "0: 1088x1920 1 ball, 22 players, 57.5ms\n",
      "Speed: 6.8ms preprocess, 57.5ms inference, 1.1ms postprocess per image at shape (1, 3, 1088, 1920)\n",
      "\n",
      "0: 1088x1920 1 ball, 22 players, 57.3ms\n",
      "Speed: 6.9ms preprocess, 57.3ms inference, 1.1ms postprocess per image at shape (1, 3, 1088, 1920)\n"
     ]
    },
    {
     "name": "stdout",
     "output_type": "stream",
     "text": [
      "293\n",
      "Saved: temp_task_folder/img1/000293.jpg\n",
      "294\n",
      "Saved: temp_task_folder/img1/000294.jpg\n"
     ]
    },
    {
     "name": "stderr",
     "output_type": "stream",
     "text": [
      "\n",
      "0: 1088x1920 1 ball, 22 players, 57.3ms\n",
      "Speed: 6.8ms preprocess, 57.3ms inference, 1.1ms postprocess per image at shape (1, 3, 1088, 1920)\n",
      "\n",
      "0: 1088x1920 1 ball, 22 players, 57.5ms\n",
      "Speed: 6.8ms preprocess, 57.5ms inference, 1.1ms postprocess per image at shape (1, 3, 1088, 1920)\n"
     ]
    },
    {
     "name": "stdout",
     "output_type": "stream",
     "text": [
      "295\n",
      "Saved: temp_task_folder/img1/000295.jpg\n",
      "296\n",
      "Saved: temp_task_folder/img1/000296.jpg\n"
     ]
    },
    {
     "name": "stderr",
     "output_type": "stream",
     "text": [
      "\n",
      "0: 1088x1920 1 ball, 22 players, 57.2ms\n",
      "Speed: 6.9ms preprocess, 57.2ms inference, 1.1ms postprocess per image at shape (1, 3, 1088, 1920)\n",
      "\n",
      "0: 1088x1920 1 ball, 22 players, 57.3ms\n",
      "Speed: 6.9ms preprocess, 57.3ms inference, 1.1ms postprocess per image at shape (1, 3, 1088, 1920)\n"
     ]
    },
    {
     "name": "stdout",
     "output_type": "stream",
     "text": [
      "297\n",
      "Saved: temp_task_folder/img1/000297.jpg\n",
      "298\n",
      "Saved: temp_task_folder/img1/000298.jpg\n"
     ]
    },
    {
     "name": "stderr",
     "output_type": "stream",
     "text": [
      "\n",
      "0: 1088x1920 1 ball, 22 players, 57.5ms\n",
      "Speed: 6.8ms preprocess, 57.5ms inference, 1.1ms postprocess per image at shape (1, 3, 1088, 1920)\n",
      "\n",
      "0: 1088x1920 1 ball, 22 players, 57.3ms\n",
      "Speed: 6.9ms preprocess, 57.3ms inference, 1.1ms postprocess per image at shape (1, 3, 1088, 1920)\n"
     ]
    },
    {
     "name": "stdout",
     "output_type": "stream",
     "text": [
      "299\n",
      "Saved: temp_task_folder/img1/000299.jpg\n",
      "300\n",
      "Saved: temp_task_folder/img1/000300.jpg\n"
     ]
    },
    {
     "name": "stderr",
     "output_type": "stream",
     "text": [
      "\n",
      "0: 1088x1920 1 ball, 22 players, 57.5ms\n",
      "Speed: 6.8ms preprocess, 57.5ms inference, 1.1ms postprocess per image at shape (1, 3, 1088, 1920)\n",
      "\n",
      "0: 1088x1920 1 ball, 22 players, 57.3ms\n",
      "Speed: 6.9ms preprocess, 57.3ms inference, 1.1ms postprocess per image at shape (1, 3, 1088, 1920)\n"
     ]
    },
    {
     "name": "stdout",
     "output_type": "stream",
     "text": [
      "301\n",
      "Saved: temp_task_folder/img1/000301.jpg\n",
      "302\n",
      "Saved: temp_task_folder/img1/000302.jpg\n"
     ]
    },
    {
     "name": "stderr",
     "output_type": "stream",
     "text": [
      "\n",
      "0: 1088x1920 1 ball, 22 players, 57.2ms\n",
      "Speed: 6.8ms preprocess, 57.2ms inference, 1.1ms postprocess per image at shape (1, 3, 1088, 1920)\n",
      "\n",
      "0: 1088x1920 1 ball, 22 players, 57.4ms\n",
      "Speed: 8.0ms preprocess, 57.4ms inference, 1.1ms postprocess per image at shape (1, 3, 1088, 1920)\n"
     ]
    },
    {
     "name": "stdout",
     "output_type": "stream",
     "text": [
      "303\n",
      "Saved: temp_task_folder/img1/000303.jpg\n",
      "304\n",
      "Saved: temp_task_folder/img1/000304.jpg\n"
     ]
    },
    {
     "name": "stderr",
     "output_type": "stream",
     "text": [
      "\n",
      "0: 1088x1920 22 players, 57.2ms\n",
      "Speed: 6.8ms preprocess, 57.2ms inference, 1.1ms postprocess per image at shape (1, 3, 1088, 1920)\n",
      "\n",
      "0: 1088x1920 22 players, 57.3ms\n",
      "Speed: 6.9ms preprocess, 57.3ms inference, 1.1ms postprocess per image at shape (1, 3, 1088, 1920)\n"
     ]
    },
    {
     "name": "stdout",
     "output_type": "stream",
     "text": [
      "305\n",
      "Saved: temp_task_folder/img1/000305.jpg\n"
     ]
    },
    {
     "name": "stderr",
     "output_type": "stream",
     "text": [
      "\n",
      "0: 1088x1920 1 ball, 22 players, 57.6ms\n",
      "Speed: 6.8ms preprocess, 57.6ms inference, 1.2ms postprocess per image at shape (1, 3, 1088, 1920)\n"
     ]
    },
    {
     "name": "stdout",
     "output_type": "stream",
     "text": [
      "306\n",
      "Saved: temp_task_folder/img1/000306.jpg\n",
      "307\n",
      "Saved: temp_task_folder/img1/000307.jpg\n"
     ]
    },
    {
     "name": "stderr",
     "output_type": "stream",
     "text": [
      "\n",
      "0: 1088x1920 22 players, 57.2ms\n",
      "Speed: 6.8ms preprocess, 57.2ms inference, 1.1ms postprocess per image at shape (1, 3, 1088, 1920)\n",
      "\n",
      "0: 1088x1920 22 players, 57.2ms\n",
      "Speed: 6.8ms preprocess, 57.2ms inference, 1.1ms postprocess per image at shape (1, 3, 1088, 1920)\n"
     ]
    },
    {
     "name": "stdout",
     "output_type": "stream",
     "text": [
      "308\n",
      "Saved: temp_task_folder/img1/000308.jpg\n",
      "309\n",
      "Saved: temp_task_folder/img1/000309.jpg\n"
     ]
    },
    {
     "name": "stderr",
     "output_type": "stream",
     "text": [
      "\n",
      "0: 1088x1920 22 players, 57.5ms\n",
      "Speed: 6.9ms preprocess, 57.5ms inference, 1.1ms postprocess per image at shape (1, 3, 1088, 1920)\n",
      "\n",
      "0: 1088x1920 22 players, 57.4ms\n",
      "Speed: 6.9ms preprocess, 57.4ms inference, 1.1ms postprocess per image at shape (1, 3, 1088, 1920)\n"
     ]
    },
    {
     "name": "stdout",
     "output_type": "stream",
     "text": [
      "310\n",
      "Saved: temp_task_folder/img1/000310.jpg\n",
      "311\n",
      "Saved: temp_task_folder/img1/000311.jpg\n"
     ]
    },
    {
     "name": "stderr",
     "output_type": "stream",
     "text": [
      "\n",
      "0: 1088x1920 1 ball, 22 players, 57.4ms\n",
      "Speed: 6.8ms preprocess, 57.4ms inference, 1.1ms postprocess per image at shape (1, 3, 1088, 1920)\n",
      "\n",
      "0: 1088x1920 1 ball, 22 players, 57.2ms\n",
      "Speed: 6.9ms preprocess, 57.2ms inference, 1.1ms postprocess per image at shape (1, 3, 1088, 1920)\n"
     ]
    },
    {
     "name": "stdout",
     "output_type": "stream",
     "text": [
      "312\n",
      "Saved: temp_task_folder/img1/000312.jpg\n",
      "313\n",
      "Saved: temp_task_folder/img1/000313.jpg\n"
     ]
    },
    {
     "name": "stderr",
     "output_type": "stream",
     "text": [
      "\n",
      "0: 1088x1920 1 ball, 22 players, 57.5ms\n",
      "Speed: 6.9ms preprocess, 57.5ms inference, 1.1ms postprocess per image at shape (1, 3, 1088, 1920)\n",
      "\n",
      "0: 1088x1920 1 ball, 22 players, 57.3ms\n",
      "Speed: 6.9ms preprocess, 57.3ms inference, 1.1ms postprocess per image at shape (1, 3, 1088, 1920)\n"
     ]
    },
    {
     "name": "stdout",
     "output_type": "stream",
     "text": [
      "314\n",
      "Saved: temp_task_folder/img1/000314.jpg\n",
      "315\n",
      "Saved: temp_task_folder/img1/000315.jpg\n"
     ]
    },
    {
     "name": "stderr",
     "output_type": "stream",
     "text": [
      "\n",
      "0: 1088x1920 1 ball, 22 players, 57.5ms\n",
      "Speed: 6.9ms preprocess, 57.5ms inference, 1.2ms postprocess per image at shape (1, 3, 1088, 1920)\n",
      "\n",
      "0: 1088x1920 1 ball, 22 players, 57.2ms\n",
      "Speed: 6.8ms preprocess, 57.2ms inference, 1.1ms postprocess per image at shape (1, 3, 1088, 1920)\n"
     ]
    },
    {
     "name": "stdout",
     "output_type": "stream",
     "text": [
      "316\n",
      "Saved: temp_task_folder/img1/000316.jpg\n",
      "317\n",
      "Saved: temp_task_folder/img1/000317.jpg\n"
     ]
    },
    {
     "name": "stderr",
     "output_type": "stream",
     "text": [
      "\n",
      "0: 1088x1920 1 ball, 22 players, 57.4ms\n",
      "Speed: 6.8ms preprocess, 57.4ms inference, 1.1ms postprocess per image at shape (1, 3, 1088, 1920)\n",
      "\n",
      "0: 1088x1920 1 ball, 22 players, 57.5ms\n",
      "Speed: 6.9ms preprocess, 57.5ms inference, 1.1ms postprocess per image at shape (1, 3, 1088, 1920)\n"
     ]
    },
    {
     "name": "stdout",
     "output_type": "stream",
     "text": [
      "318\n",
      "Saved: temp_task_folder/img1/000318.jpg\n",
      "319\n",
      "Saved: temp_task_folder/img1/000319.jpg\n"
     ]
    },
    {
     "name": "stderr",
     "output_type": "stream",
     "text": [
      "\n",
      "0: 1088x1920 1 ball, 22 players, 57.4ms\n",
      "Speed: 6.8ms preprocess, 57.4ms inference, 1.1ms postprocess per image at shape (1, 3, 1088, 1920)\n",
      "\n",
      "0: 1088x1920 1 ball, 22 players, 57.3ms\n",
      "Speed: 6.9ms preprocess, 57.3ms inference, 1.1ms postprocess per image at shape (1, 3, 1088, 1920)\n"
     ]
    },
    {
     "name": "stdout",
     "output_type": "stream",
     "text": [
      "320\n",
      "Saved: temp_task_folder/img1/000320.jpg\n",
      "321\n",
      "Saved: temp_task_folder/img1/000321.jpg\n"
     ]
    },
    {
     "name": "stderr",
     "output_type": "stream",
     "text": [
      "\n",
      "0: 1088x1920 1 ball, 22 players, 57.3ms\n",
      "Speed: 6.8ms preprocess, 57.3ms inference, 1.1ms postprocess per image at shape (1, 3, 1088, 1920)\n",
      "\n",
      "0: 1088x1920 1 ball, 22 players, 57.3ms\n",
      "Speed: 6.8ms preprocess, 57.3ms inference, 1.1ms postprocess per image at shape (1, 3, 1088, 1920)\n"
     ]
    },
    {
     "name": "stdout",
     "output_type": "stream",
     "text": [
      "322\n",
      "Saved: temp_task_folder/img1/000322.jpg\n",
      "323\n",
      "Saved: temp_task_folder/img1/000323.jpg\n"
     ]
    },
    {
     "name": "stderr",
     "output_type": "stream",
     "text": [
      "\n",
      "0: 1088x1920 1 ball, 22 players, 57.4ms\n",
      "Speed: 6.8ms preprocess, 57.4ms inference, 1.4ms postprocess per image at shape (1, 3, 1088, 1920)\n",
      "\n",
      "0: 1088x1920 1 ball, 22 players, 57.4ms\n",
      "Speed: 7.0ms preprocess, 57.4ms inference, 1.1ms postprocess per image at shape (1, 3, 1088, 1920)\n"
     ]
    },
    {
     "name": "stdout",
     "output_type": "stream",
     "text": [
      "324\n",
      "Saved: temp_task_folder/img1/000324.jpg\n",
      "325\n",
      "Saved: temp_task_folder/img1/000325.jpg\n"
     ]
    },
    {
     "name": "stderr",
     "output_type": "stream",
     "text": [
      "\n",
      "0: 1088x1920 1 ball, 22 players, 57.4ms\n",
      "Speed: 6.8ms preprocess, 57.4ms inference, 1.1ms postprocess per image at shape (1, 3, 1088, 1920)\n",
      "\n",
      "0: 1088x1920 1 ball, 22 players, 57.3ms\n",
      "Speed: 6.9ms preprocess, 57.3ms inference, 1.1ms postprocess per image at shape (1, 3, 1088, 1920)\n"
     ]
    },
    {
     "name": "stdout",
     "output_type": "stream",
     "text": [
      "326\n",
      "Saved: temp_task_folder/img1/000326.jpg\n",
      "327\n",
      "Saved: temp_task_folder/img1/000327.jpg\n"
     ]
    },
    {
     "name": "stderr",
     "output_type": "stream",
     "text": [
      "\n",
      "0: 1088x1920 1 ball, 22 players, 57.4ms\n",
      "Speed: 6.8ms preprocess, 57.4ms inference, 1.1ms postprocess per image at shape (1, 3, 1088, 1920)\n",
      "\n",
      "0: 1088x1920 1 ball, 22 players, 57.5ms\n",
      "Speed: 6.9ms preprocess, 57.5ms inference, 1.1ms postprocess per image at shape (1, 3, 1088, 1920)\n"
     ]
    },
    {
     "name": "stdout",
     "output_type": "stream",
     "text": [
      "328\n",
      "Saved: temp_task_folder/img1/000328.jpg\n",
      "329\n",
      "Saved: temp_task_folder/img1/000329.jpg\n"
     ]
    },
    {
     "name": "stderr",
     "output_type": "stream",
     "text": [
      "\n",
      "0: 1088x1920 1 ball, 22 players, 57.2ms\n",
      "Speed: 6.9ms preprocess, 57.2ms inference, 1.1ms postprocess per image at shape (1, 3, 1088, 1920)\n",
      "\n",
      "0: 1088x1920 1 ball, 22 players, 57.5ms\n",
      "Speed: 6.8ms preprocess, 57.5ms inference, 1.1ms postprocess per image at shape (1, 3, 1088, 1920)\n"
     ]
    },
    {
     "name": "stdout",
     "output_type": "stream",
     "text": [
      "330\n",
      "Saved: temp_task_folder/img1/000330.jpg\n",
      "331\n",
      "Saved: temp_task_folder/img1/000331.jpg\n"
     ]
    },
    {
     "name": "stderr",
     "output_type": "stream",
     "text": [
      "\n",
      "0: 1088x1920 1 ball, 22 players, 57.2ms\n",
      "Speed: 6.9ms preprocess, 57.2ms inference, 1.1ms postprocess per image at shape (1, 3, 1088, 1920)\n",
      "\n",
      "0: 1088x1920 1 ball, 22 players, 57.5ms\n",
      "Speed: 6.9ms preprocess, 57.5ms inference, 1.1ms postprocess per image at shape (1, 3, 1088, 1920)\n"
     ]
    },
    {
     "name": "stdout",
     "output_type": "stream",
     "text": [
      "332\n",
      "Saved: temp_task_folder/img1/000332.jpg\n",
      "333\n",
      "Saved: temp_task_folder/img1/000333.jpg\n"
     ]
    },
    {
     "name": "stderr",
     "output_type": "stream",
     "text": [
      "\n",
      "0: 1088x1920 1 ball, 22 players, 57.4ms\n",
      "Speed: 6.8ms preprocess, 57.4ms inference, 1.1ms postprocess per image at shape (1, 3, 1088, 1920)\n",
      "\n",
      "0: 1088x1920 1 ball, 22 players, 57.3ms\n",
      "Speed: 6.9ms preprocess, 57.3ms inference, 1.1ms postprocess per image at shape (1, 3, 1088, 1920)\n"
     ]
    },
    {
     "name": "stdout",
     "output_type": "stream",
     "text": [
      "334\n",
      "Saved: temp_task_folder/img1/000334.jpg\n",
      "335\n",
      "Saved: temp_task_folder/img1/000335.jpg\n"
     ]
    },
    {
     "name": "stderr",
     "output_type": "stream",
     "text": [
      "\n",
      "0: 1088x1920 1 ball, 22 players, 57.4ms\n",
      "Speed: 6.8ms preprocess, 57.4ms inference, 1.1ms postprocess per image at shape (1, 3, 1088, 1920)\n",
      "\n",
      "0: 1088x1920 1 ball, 22 players, 57.5ms\n",
      "Speed: 6.8ms preprocess, 57.5ms inference, 1.1ms postprocess per image at shape (1, 3, 1088, 1920)\n"
     ]
    },
    {
     "name": "stdout",
     "output_type": "stream",
     "text": [
      "336\n",
      "Saved: temp_task_folder/img1/000336.jpg\n",
      "337\n",
      "Saved: temp_task_folder/img1/000337.jpg\n"
     ]
    },
    {
     "name": "stderr",
     "output_type": "stream",
     "text": [
      "\n",
      "0: 1088x1920 1 ball, 22 players, 57.4ms\n",
      "Speed: 6.8ms preprocess, 57.4ms inference, 1.1ms postprocess per image at shape (1, 3, 1088, 1920)\n",
      "\n",
      "0: 1088x1920 1 ball, 22 players, 57.3ms\n",
      "Speed: 6.9ms preprocess, 57.3ms inference, 1.1ms postprocess per image at shape (1, 3, 1088, 1920)\n"
     ]
    },
    {
     "name": "stdout",
     "output_type": "stream",
     "text": [
      "338\n",
      "Saved: temp_task_folder/img1/000338.jpg\n",
      "339\n",
      "Saved: temp_task_folder/img1/000339.jpg\n"
     ]
    },
    {
     "name": "stderr",
     "output_type": "stream",
     "text": [
      "\n",
      "0: 1088x1920 1 ball, 22 players, 57.5ms\n",
      "Speed: 6.8ms preprocess, 57.5ms inference, 1.1ms postprocess per image at shape (1, 3, 1088, 1920)\n",
      "\n",
      "0: 1088x1920 1 ball, 22 players, 57.4ms\n",
      "Speed: 6.9ms preprocess, 57.4ms inference, 1.1ms postprocess per image at shape (1, 3, 1088, 1920)\n"
     ]
    },
    {
     "name": "stdout",
     "output_type": "stream",
     "text": [
      "340\n",
      "Saved: temp_task_folder/img1/000340.jpg\n",
      "341\n",
      "Saved: temp_task_folder/img1/000341.jpg\n"
     ]
    },
    {
     "name": "stderr",
     "output_type": "stream",
     "text": [
      "\n",
      "0: 1088x1920 1 ball, 22 players, 57.4ms\n",
      "Speed: 6.8ms preprocess, 57.4ms inference, 1.2ms postprocess per image at shape (1, 3, 1088, 1920)\n",
      "\n",
      "0: 1088x1920 1 ball, 22 players, 57.4ms\n",
      "Speed: 6.9ms preprocess, 57.4ms inference, 1.1ms postprocess per image at shape (1, 3, 1088, 1920)\n"
     ]
    },
    {
     "name": "stdout",
     "output_type": "stream",
     "text": [
      "342\n",
      "Saved: temp_task_folder/img1/000342.jpg\n",
      "343\n",
      "Saved: temp_task_folder/img1/000343.jpg\n"
     ]
    },
    {
     "name": "stderr",
     "output_type": "stream",
     "text": [
      "\n",
      "0: 1088x1920 1 ball, 22 players, 57.4ms\n",
      "Speed: 6.9ms preprocess, 57.4ms inference, 1.1ms postprocess per image at shape (1, 3, 1088, 1920)\n",
      "\n",
      "0: 1088x1920 1 ball, 22 players, 57.4ms\n",
      "Speed: 6.9ms preprocess, 57.4ms inference, 1.1ms postprocess per image at shape (1, 3, 1088, 1920)\n"
     ]
    },
    {
     "name": "stdout",
     "output_type": "stream",
     "text": [
      "344\n",
      "Saved: temp_task_folder/img1/000344.jpg\n",
      "345\n",
      "Saved: temp_task_folder/img1/000345.jpg\n"
     ]
    },
    {
     "name": "stderr",
     "output_type": "stream",
     "text": [
      "\n",
      "0: 1088x1920 1 ball, 22 players, 57.4ms\n",
      "Speed: 6.8ms preprocess, 57.4ms inference, 1.1ms postprocess per image at shape (1, 3, 1088, 1920)\n",
      "\n",
      "0: 1088x1920 1 ball, 22 players, 57.5ms\n",
      "Speed: 6.8ms preprocess, 57.5ms inference, 1.1ms postprocess per image at shape (1, 3, 1088, 1920)\n"
     ]
    },
    {
     "name": "stdout",
     "output_type": "stream",
     "text": [
      "346\n",
      "Saved: temp_task_folder/img1/000346.jpg\n",
      "347\n",
      "Saved: temp_task_folder/img1/000347.jpg\n"
     ]
    },
    {
     "name": "stderr",
     "output_type": "stream",
     "text": [
      "\n",
      "0: 1088x1920 1 ball, 22 players, 57.4ms\n",
      "Speed: 7.1ms preprocess, 57.4ms inference, 1.1ms postprocess per image at shape (1, 3, 1088, 1920)\n",
      "\n",
      "0: 1088x1920 22 players, 57.5ms\n",
      "Speed: 6.9ms preprocess, 57.5ms inference, 1.1ms postprocess per image at shape (1, 3, 1088, 1920)\n"
     ]
    },
    {
     "name": "stdout",
     "output_type": "stream",
     "text": [
      "348\n",
      "Saved: temp_task_folder/img1/000348.jpg\n",
      "349\n",
      "Saved: temp_task_folder/img1/000349.jpg\n"
     ]
    },
    {
     "name": "stderr",
     "output_type": "stream",
     "text": [
      "\n",
      "0: 1088x1920 22 players, 57.4ms\n",
      "Speed: 6.8ms preprocess, 57.4ms inference, 1.1ms postprocess per image at shape (1, 3, 1088, 1920)\n",
      "\n",
      "0: 1088x1920 22 players, 57.3ms\n",
      "Speed: 6.9ms preprocess, 57.3ms inference, 1.1ms postprocess per image at shape (1, 3, 1088, 1920)\n"
     ]
    },
    {
     "name": "stdout",
     "output_type": "stream",
     "text": [
      "350\n",
      "Saved: temp_task_folder/img1/000350.jpg\n",
      "351\n",
      "Saved: temp_task_folder/img1/000351.jpg\n"
     ]
    },
    {
     "name": "stderr",
     "output_type": "stream",
     "text": [
      "\n",
      "0: 1088x1920 1 ball, 22 players, 57.2ms\n",
      "Speed: 6.9ms preprocess, 57.2ms inference, 1.1ms postprocess per image at shape (1, 3, 1088, 1920)\n",
      "\n",
      "0: 1088x1920 1 ball, 22 players, 57.5ms\n",
      "Speed: 6.9ms preprocess, 57.5ms inference, 1.1ms postprocess per image at shape (1, 3, 1088, 1920)\n"
     ]
    },
    {
     "name": "stdout",
     "output_type": "stream",
     "text": [
      "352\n",
      "Saved: temp_task_folder/img1/000352.jpg\n",
      "353\n",
      "Saved: temp_task_folder/img1/000353.jpg\n"
     ]
    },
    {
     "name": "stderr",
     "output_type": "stream",
     "text": [
      "\n",
      "0: 1088x1920 1 ball, 22 players, 57.2ms\n",
      "Speed: 6.9ms preprocess, 57.2ms inference, 1.1ms postprocess per image at shape (1, 3, 1088, 1920)\n",
      "\n",
      "0: 1088x1920 1 ball, 22 players, 57.6ms\n",
      "Speed: 6.9ms preprocess, 57.6ms inference, 1.1ms postprocess per image at shape (1, 3, 1088, 1920)\n"
     ]
    },
    {
     "name": "stdout",
     "output_type": "stream",
     "text": [
      "354\n",
      "Saved: temp_task_folder/img1/000354.jpg\n",
      "355\n",
      "Saved: temp_task_folder/img1/000355.jpg\n"
     ]
    },
    {
     "name": "stderr",
     "output_type": "stream",
     "text": [
      "\n",
      "0: 1088x1920 1 ball, 22 players, 57.4ms\n",
      "Speed: 6.8ms preprocess, 57.4ms inference, 1.1ms postprocess per image at shape (1, 3, 1088, 1920)\n",
      "\n",
      "0: 1088x1920 1 ball, 22 players, 57.5ms\n",
      "Speed: 6.9ms preprocess, 57.5ms inference, 1.1ms postprocess per image at shape (1, 3, 1088, 1920)\n"
     ]
    },
    {
     "name": "stdout",
     "output_type": "stream",
     "text": [
      "356\n",
      "Saved: temp_task_folder/img1/000356.jpg\n",
      "357\n",
      "Saved: temp_task_folder/img1/000357.jpg\n"
     ]
    },
    {
     "name": "stderr",
     "output_type": "stream",
     "text": [
      "\n",
      "0: 1088x1920 1 ball, 22 players, 57.5ms\n",
      "Speed: 6.8ms preprocess, 57.5ms inference, 1.1ms postprocess per image at shape (1, 3, 1088, 1920)\n",
      "\n",
      "0: 1088x1920 1 ball, 22 players, 57.3ms\n",
      "Speed: 6.9ms preprocess, 57.3ms inference, 1.1ms postprocess per image at shape (1, 3, 1088, 1920)\n"
     ]
    },
    {
     "name": "stdout",
     "output_type": "stream",
     "text": [
      "358\n",
      "Saved: temp_task_folder/img1/000358.jpg\n",
      "359\n",
      "Saved: temp_task_folder/img1/000359.jpg\n"
     ]
    },
    {
     "name": "stderr",
     "output_type": "stream",
     "text": [
      "\n",
      "0: 1088x1920 1 ball, 22 players, 57.5ms\n",
      "Speed: 6.8ms preprocess, 57.5ms inference, 1.1ms postprocess per image at shape (1, 3, 1088, 1920)\n",
      "\n",
      "0: 1088x1920 1 ball, 22 players, 57.4ms\n",
      "Speed: 6.9ms preprocess, 57.4ms inference, 1.1ms postprocess per image at shape (1, 3, 1088, 1920)\n"
     ]
    },
    {
     "name": "stdout",
     "output_type": "stream",
     "text": [
      "360\n",
      "Saved: temp_task_folder/img1/000360.jpg\n",
      "361\n",
      "Saved: temp_task_folder/img1/000361.jpg\n"
     ]
    },
    {
     "name": "stderr",
     "output_type": "stream",
     "text": [
      "\n",
      "0: 1088x1920 1 ball, 22 players, 57.3ms\n",
      "Speed: 6.8ms preprocess, 57.3ms inference, 1.1ms postprocess per image at shape (1, 3, 1088, 1920)\n",
      "\n",
      "0: 1088x1920 1 ball, 22 players, 57.5ms\n",
      "Speed: 6.9ms preprocess, 57.5ms inference, 1.2ms postprocess per image at shape (1, 3, 1088, 1920)\n"
     ]
    },
    {
     "name": "stdout",
     "output_type": "stream",
     "text": [
      "362\n",
      "Saved: temp_task_folder/img1/000362.jpg\n",
      "363\n",
      "Saved: temp_task_folder/img1/000363.jpg\n"
     ]
    },
    {
     "name": "stderr",
     "output_type": "stream",
     "text": [
      "\n",
      "0: 1088x1920 1 ball, 22 players, 57.2ms\n",
      "Speed: 6.8ms preprocess, 57.2ms inference, 1.1ms postprocess per image at shape (1, 3, 1088, 1920)\n",
      "\n",
      "0: 1088x1920 1 ball, 22 players, 57.4ms\n",
      "Speed: 6.9ms preprocess, 57.4ms inference, 1.1ms postprocess per image at shape (1, 3, 1088, 1920)\n"
     ]
    },
    {
     "name": "stdout",
     "output_type": "stream",
     "text": [
      "364\n",
      "Saved: temp_task_folder/img1/000364.jpg\n",
      "365\n",
      "Saved: temp_task_folder/img1/000365.jpg\n"
     ]
    },
    {
     "name": "stderr",
     "output_type": "stream",
     "text": [
      "\n",
      "0: 1088x1920 1 ball, 22 players, 57.5ms\n",
      "Speed: 6.9ms preprocess, 57.5ms inference, 1.1ms postprocess per image at shape (1, 3, 1088, 1920)\n",
      "\n",
      "0: 1088x1920 1 ball, 22 players, 57.5ms\n",
      "Speed: 6.8ms preprocess, 57.5ms inference, 1.1ms postprocess per image at shape (1, 3, 1088, 1920)\n"
     ]
    },
    {
     "name": "stdout",
     "output_type": "stream",
     "text": [
      "366\n",
      "Saved: temp_task_folder/img1/000366.jpg\n",
      "367\n",
      "Saved: temp_task_folder/img1/000367.jpg\n"
     ]
    },
    {
     "name": "stderr",
     "output_type": "stream",
     "text": [
      "\n",
      "0: 1088x1920 1 ball, 22 players, 57.4ms\n",
      "Speed: 6.9ms preprocess, 57.4ms inference, 1.1ms postprocess per image at shape (1, 3, 1088, 1920)\n",
      "\n",
      "0: 1088x1920 1 ball, 22 players, 57.3ms\n",
      "Speed: 6.8ms preprocess, 57.3ms inference, 1.1ms postprocess per image at shape (1, 3, 1088, 1920)\n"
     ]
    },
    {
     "name": "stdout",
     "output_type": "stream",
     "text": [
      "368\n",
      "Saved: temp_task_folder/img1/000368.jpg\n",
      "369\n",
      "Saved: temp_task_folder/img1/000369.jpg\n"
     ]
    },
    {
     "name": "stderr",
     "output_type": "stream",
     "text": [
      "\n",
      "0: 1088x1920 1 ball, 22 players, 57.5ms\n",
      "Speed: 6.8ms preprocess, 57.5ms inference, 1.1ms postprocess per image at shape (1, 3, 1088, 1920)\n",
      "\n",
      "0: 1088x1920 1 ball, 22 players, 57.4ms\n",
      "Speed: 6.9ms preprocess, 57.4ms inference, 1.1ms postprocess per image at shape (1, 3, 1088, 1920)\n"
     ]
    },
    {
     "name": "stdout",
     "output_type": "stream",
     "text": [
      "370\n",
      "Saved: temp_task_folder/img1/000370.jpg\n",
      "371\n",
      "Saved: temp_task_folder/img1/000371.jpg\n"
     ]
    },
    {
     "name": "stderr",
     "output_type": "stream",
     "text": [
      "\n",
      "0: 1088x1920 1 ball, 22 players, 57.5ms\n",
      "Speed: 7.0ms preprocess, 57.5ms inference, 1.1ms postprocess per image at shape (1, 3, 1088, 1920)\n",
      "\n",
      "0: 1088x1920 1 ball, 22 players, 57.1ms\n",
      "Speed: 6.9ms preprocess, 57.1ms inference, 1.1ms postprocess per image at shape (1, 3, 1088, 1920)\n"
     ]
    },
    {
     "name": "stdout",
     "output_type": "stream",
     "text": [
      "372\n",
      "Saved: temp_task_folder/img1/000372.jpg\n",
      "373\n",
      "Saved: temp_task_folder/img1/000373.jpg\n"
     ]
    },
    {
     "name": "stderr",
     "output_type": "stream",
     "text": [
      "\n",
      "0: 1088x1920 1 ball, 22 players, 57.3ms\n",
      "Speed: 6.9ms preprocess, 57.3ms inference, 1.1ms postprocess per image at shape (1, 3, 1088, 1920)\n",
      "\n",
      "0: 1088x1920 1 ball, 22 players, 57.2ms\n",
      "Speed: 6.8ms preprocess, 57.2ms inference, 1.1ms postprocess per image at shape (1, 3, 1088, 1920)\n"
     ]
    },
    {
     "name": "stdout",
     "output_type": "stream",
     "text": [
      "374\n",
      "Saved: temp_task_folder/img1/000374.jpg\n",
      "375\n",
      "Saved: temp_task_folder/img1/000375.jpg\n"
     ]
    },
    {
     "name": "stderr",
     "output_type": "stream",
     "text": [
      "\n",
      "0: 1088x1920 1 ball, 22 players, 57.2ms\n",
      "Speed: 6.9ms preprocess, 57.2ms inference, 1.2ms postprocess per image at shape (1, 3, 1088, 1920)\n",
      "\n",
      "0: 1088x1920 1 ball, 22 players, 57.5ms\n",
      "Speed: 6.9ms preprocess, 57.5ms inference, 1.1ms postprocess per image at shape (1, 3, 1088, 1920)\n"
     ]
    },
    {
     "name": "stdout",
     "output_type": "stream",
     "text": [
      "376\n",
      "Saved: temp_task_folder/img1/000376.jpg\n",
      "377\n",
      "Saved: temp_task_folder/img1/000377.jpg\n"
     ]
    },
    {
     "name": "stderr",
     "output_type": "stream",
     "text": [
      "\n",
      "0: 1088x1920 1 ball, 22 players, 57.4ms\n",
      "Speed: 6.9ms preprocess, 57.4ms inference, 1.1ms postprocess per image at shape (1, 3, 1088, 1920)\n",
      "\n",
      "0: 1088x1920 1 ball, 22 players, 57.5ms\n",
      "Speed: 6.8ms preprocess, 57.5ms inference, 1.1ms postprocess per image at shape (1, 3, 1088, 1920)\n"
     ]
    },
    {
     "name": "stdout",
     "output_type": "stream",
     "text": [
      "378\n",
      "Saved: temp_task_folder/img1/000378.jpg\n",
      "379\n",
      "Saved: temp_task_folder/img1/000379.jpg\n"
     ]
    },
    {
     "name": "stderr",
     "output_type": "stream",
     "text": [
      "\n",
      "0: 1088x1920 1 ball, 22 players, 57.3ms\n",
      "Speed: 6.9ms preprocess, 57.3ms inference, 1.1ms postprocess per image at shape (1, 3, 1088, 1920)\n",
      "\n",
      "0: 1088x1920 1 ball, 22 players, 57.5ms\n",
      "Speed: 6.9ms preprocess, 57.5ms inference, 1.1ms postprocess per image at shape (1, 3, 1088, 1920)\n"
     ]
    },
    {
     "name": "stdout",
     "output_type": "stream",
     "text": [
      "380\n",
      "Saved: temp_task_folder/img1/000380.jpg\n",
      "381\n",
      "Saved: temp_task_folder/img1/000381.jpg\n"
     ]
    },
    {
     "name": "stderr",
     "output_type": "stream",
     "text": [
      "\n",
      "0: 1088x1920 1 ball, 22 players, 57.3ms\n",
      "Speed: 6.8ms preprocess, 57.3ms inference, 1.1ms postprocess per image at shape (1, 3, 1088, 1920)\n",
      "\n",
      "0: 1088x1920 1 ball, 22 players, 57.4ms\n",
      "Speed: 6.9ms preprocess, 57.4ms inference, 1.1ms postprocess per image at shape (1, 3, 1088, 1920)\n"
     ]
    },
    {
     "name": "stdout",
     "output_type": "stream",
     "text": [
      "382\n",
      "Saved: temp_task_folder/img1/000382.jpg\n",
      "383\n",
      "Saved: temp_task_folder/img1/000383.jpg\n"
     ]
    },
    {
     "name": "stderr",
     "output_type": "stream",
     "text": [
      "\n",
      "0: 1088x1920 1 ball, 22 players, 57.5ms\n",
      "Speed: 6.8ms preprocess, 57.5ms inference, 1.1ms postprocess per image at shape (1, 3, 1088, 1920)\n",
      "\n",
      "0: 1088x1920 1 ball, 22 players, 57.4ms\n",
      "Speed: 6.8ms preprocess, 57.4ms inference, 1.1ms postprocess per image at shape (1, 3, 1088, 1920)\n"
     ]
    },
    {
     "name": "stdout",
     "output_type": "stream",
     "text": [
      "384\n",
      "Saved: temp_task_folder/img1/000384.jpg\n",
      "385\n",
      "Saved: temp_task_folder/img1/000385.jpg\n"
     ]
    },
    {
     "name": "stderr",
     "output_type": "stream",
     "text": [
      "\n",
      "0: 1088x1920 1 ball, 22 players, 57.5ms\n",
      "Speed: 6.8ms preprocess, 57.5ms inference, 1.1ms postprocess per image at shape (1, 3, 1088, 1920)\n",
      "\n",
      "0: 1088x1920 1 ball, 22 players, 57.3ms\n",
      "Speed: 7.0ms preprocess, 57.3ms inference, 1.1ms postprocess per image at shape (1, 3, 1088, 1920)\n"
     ]
    },
    {
     "name": "stdout",
     "output_type": "stream",
     "text": [
      "386\n",
      "Saved: temp_task_folder/img1/000386.jpg\n",
      "387\n",
      "Saved: temp_task_folder/img1/000387.jpg\n"
     ]
    },
    {
     "name": "stderr",
     "output_type": "stream",
     "text": [
      "\n",
      "0: 1088x1920 1 ball, 22 players, 57.2ms\n",
      "Speed: 6.8ms preprocess, 57.2ms inference, 1.1ms postprocess per image at shape (1, 3, 1088, 1920)\n",
      "\n",
      "0: 1088x1920 1 ball, 22 players, 57.4ms\n",
      "Speed: 6.8ms preprocess, 57.4ms inference, 1.1ms postprocess per image at shape (1, 3, 1088, 1920)\n"
     ]
    },
    {
     "name": "stdout",
     "output_type": "stream",
     "text": [
      "388\n",
      "Saved: temp_task_folder/img1/000388.jpg\n",
      "389\n",
      "Saved: temp_task_folder/img1/000389.jpg\n"
     ]
    },
    {
     "name": "stderr",
     "output_type": "stream",
     "text": [
      "\n",
      "0: 1088x1920 1 ball, 22 players, 57.4ms\n",
      "Speed: 6.8ms preprocess, 57.4ms inference, 1.1ms postprocess per image at shape (1, 3, 1088, 1920)\n",
      "\n",
      "0: 1088x1920 1 ball, 22 players, 57.2ms\n",
      "Speed: 6.8ms preprocess, 57.2ms inference, 1.1ms postprocess per image at shape (1, 3, 1088, 1920)\n"
     ]
    },
    {
     "name": "stdout",
     "output_type": "stream",
     "text": [
      "390\n",
      "Saved: temp_task_folder/img1/000390.jpg\n",
      "391\n",
      "Saved: temp_task_folder/img1/000391.jpg\n"
     ]
    },
    {
     "name": "stderr",
     "output_type": "stream",
     "text": [
      "\n",
      "0: 1088x1920 1 ball, 22 players, 57.3ms\n",
      "Speed: 6.8ms preprocess, 57.3ms inference, 1.1ms postprocess per image at shape (1, 3, 1088, 1920)\n",
      "\n",
      "0: 1088x1920 1 ball, 22 players, 57.3ms\n",
      "Speed: 6.8ms preprocess, 57.3ms inference, 1.1ms postprocess per image at shape (1, 3, 1088, 1920)\n"
     ]
    },
    {
     "name": "stdout",
     "output_type": "stream",
     "text": [
      "392\n",
      "Saved: temp_task_folder/img1/000392.jpg\n",
      "393\n",
      "Saved: temp_task_folder/img1/000393.jpg\n"
     ]
    },
    {
     "name": "stderr",
     "output_type": "stream",
     "text": [
      "\n",
      "0: 1088x1920 1 ball, 22 players, 57.4ms\n",
      "Speed: 6.8ms preprocess, 57.4ms inference, 1.1ms postprocess per image at shape (1, 3, 1088, 1920)\n",
      "\n",
      "0: 1088x1920 1 ball, 22 players, 57.4ms\n",
      "Speed: 7.0ms preprocess, 57.4ms inference, 1.1ms postprocess per image at shape (1, 3, 1088, 1920)\n"
     ]
    },
    {
     "name": "stdout",
     "output_type": "stream",
     "text": [
      "394\n",
      "Saved: temp_task_folder/img1/000394.jpg\n",
      "395\n",
      "Saved: temp_task_folder/img1/000395.jpg\n"
     ]
    },
    {
     "name": "stderr",
     "output_type": "stream",
     "text": [
      "\n",
      "0: 1088x1920 1 ball, 22 players, 57.4ms\n",
      "Speed: 6.9ms preprocess, 57.4ms inference, 1.1ms postprocess per image at shape (1, 3, 1088, 1920)\n",
      "\n",
      "0: 1088x1920 1 ball, 22 players, 57.4ms\n",
      "Speed: 6.8ms preprocess, 57.4ms inference, 1.1ms postprocess per image at shape (1, 3, 1088, 1920)\n"
     ]
    },
    {
     "name": "stdout",
     "output_type": "stream",
     "text": [
      "396\n",
      "Saved: temp_task_folder/img1/000396.jpg\n",
      "397\n",
      "Saved: temp_task_folder/img1/000397.jpg\n"
     ]
    },
    {
     "name": "stderr",
     "output_type": "stream",
     "text": [
      "\n",
      "0: 1088x1920 1 ball, 22 players, 57.1ms\n",
      "Speed: 6.9ms preprocess, 57.1ms inference, 1.1ms postprocess per image at shape (1, 3, 1088, 1920)\n",
      "\n",
      "0: 1088x1920 1 ball, 22 players, 57.3ms\n",
      "Speed: 6.8ms preprocess, 57.3ms inference, 1.1ms postprocess per image at shape (1, 3, 1088, 1920)\n"
     ]
    },
    {
     "name": "stdout",
     "output_type": "stream",
     "text": [
      "398\n",
      "Saved: temp_task_folder/img1/000398.jpg\n",
      "399\n",
      "Saved: temp_task_folder/img1/000399.jpg\n"
     ]
    },
    {
     "name": "stderr",
     "output_type": "stream",
     "text": [
      "\n",
      "0: 1088x1920 1 ball, 22 players, 57.5ms\n",
      "Speed: 6.8ms preprocess, 57.5ms inference, 1.1ms postprocess per image at shape (1, 3, 1088, 1920)\n",
      "\n",
      "0: 1088x1920 1 ball, 22 players, 57.3ms\n",
      "Speed: 6.9ms preprocess, 57.3ms inference, 1.1ms postprocess per image at shape (1, 3, 1088, 1920)\n"
     ]
    },
    {
     "name": "stdout",
     "output_type": "stream",
     "text": [
      "400\n",
      "Saved: temp_task_folder/img1/000400.jpg\n",
      "401\n",
      "Saved: temp_task_folder/img1/000401.jpg\n"
     ]
    },
    {
     "name": "stderr",
     "output_type": "stream",
     "text": [
      "\n",
      "0: 1088x1920 1 ball, 22 players, 57.2ms\n",
      "Speed: 6.8ms preprocess, 57.2ms inference, 1.1ms postprocess per image at shape (1, 3, 1088, 1920)\n",
      "\n",
      "0: 1088x1920 1 ball, 22 players, 57.3ms\n",
      "Speed: 6.9ms preprocess, 57.3ms inference, 1.1ms postprocess per image at shape (1, 3, 1088, 1920)\n"
     ]
    },
    {
     "name": "stdout",
     "output_type": "stream",
     "text": [
      "402\n",
      "Saved: temp_task_folder/img1/000402.jpg\n",
      "403\n",
      "Saved: temp_task_folder/img1/000403.jpg\n"
     ]
    },
    {
     "name": "stderr",
     "output_type": "stream",
     "text": [
      "\n",
      "0: 1088x1920 1 ball, 22 players, 57.3ms\n",
      "Speed: 6.8ms preprocess, 57.3ms inference, 1.2ms postprocess per image at shape (1, 3, 1088, 1920)\n",
      "\n",
      "0: 1088x1920 1 ball, 22 players, 57.4ms\n",
      "Speed: 6.9ms preprocess, 57.4ms inference, 1.1ms postprocess per image at shape (1, 3, 1088, 1920)\n"
     ]
    },
    {
     "name": "stdout",
     "output_type": "stream",
     "text": [
      "404\n",
      "Saved: temp_task_folder/img1/000404.jpg\n",
      "405\n",
      "Saved: temp_task_folder/img1/000405.jpg\n"
     ]
    },
    {
     "name": "stderr",
     "output_type": "stream",
     "text": [
      "\n",
      "0: 1088x1920 1 ball, 22 players, 57.5ms\n",
      "Speed: 6.8ms preprocess, 57.5ms inference, 1.1ms postprocess per image at shape (1, 3, 1088, 1920)\n",
      "\n",
      "0: 1088x1920 1 ball, 22 players, 57.5ms\n",
      "Speed: 6.9ms preprocess, 57.5ms inference, 1.1ms postprocess per image at shape (1, 3, 1088, 1920)\n"
     ]
    },
    {
     "name": "stdout",
     "output_type": "stream",
     "text": [
      "406\n",
      "Saved: temp_task_folder/img1/000406.jpg\n",
      "407\n",
      "Saved: temp_task_folder/img1/000407.jpg\n"
     ]
    },
    {
     "name": "stderr",
     "output_type": "stream",
     "text": [
      "\n",
      "0: 1088x1920 1 ball, 22 players, 57.5ms\n",
      "Speed: 6.8ms preprocess, 57.5ms inference, 1.1ms postprocess per image at shape (1, 3, 1088, 1920)\n",
      "\n",
      "0: 1088x1920 1 ball, 22 players, 57.4ms\n",
      "Speed: 6.9ms preprocess, 57.4ms inference, 1.1ms postprocess per image at shape (1, 3, 1088, 1920)\n"
     ]
    },
    {
     "name": "stdout",
     "output_type": "stream",
     "text": [
      "408\n",
      "Saved: temp_task_folder/img1/000408.jpg\n",
      "409\n",
      "Saved: temp_task_folder/img1/000409.jpg\n"
     ]
    },
    {
     "name": "stderr",
     "output_type": "stream",
     "text": [
      "\n",
      "0: 1088x1920 1 ball, 22 players, 57.3ms\n",
      "Speed: 6.8ms preprocess, 57.3ms inference, 1.1ms postprocess per image at shape (1, 3, 1088, 1920)\n",
      "\n",
      "0: 1088x1920 1 ball, 22 players, 57.5ms\n",
      "Speed: 6.8ms preprocess, 57.5ms inference, 1.1ms postprocess per image at shape (1, 3, 1088, 1920)\n"
     ]
    },
    {
     "name": "stdout",
     "output_type": "stream",
     "text": [
      "410\n",
      "Saved: temp_task_folder/img1/000410.jpg\n",
      "411\n",
      "Saved: temp_task_folder/img1/000411.jpg\n"
     ]
    },
    {
     "name": "stderr",
     "output_type": "stream",
     "text": [
      "\n",
      "0: 1088x1920 1 ball, 22 players, 57.5ms\n",
      "Speed: 6.8ms preprocess, 57.5ms inference, 1.1ms postprocess per image at shape (1, 3, 1088, 1920)\n",
      "\n",
      "0: 1088x1920 1 ball, 22 players, 57.5ms\n",
      "Speed: 6.8ms preprocess, 57.5ms inference, 1.1ms postprocess per image at shape (1, 3, 1088, 1920)\n"
     ]
    },
    {
     "name": "stdout",
     "output_type": "stream",
     "text": [
      "412\n",
      "Saved: temp_task_folder/img1/000412.jpg\n",
      "413\n",
      "Saved: temp_task_folder/img1/000413.jpg\n"
     ]
    },
    {
     "name": "stderr",
     "output_type": "stream",
     "text": [
      "\n",
      "0: 1088x1920 1 ball, 22 players, 57.5ms\n",
      "Speed: 6.8ms preprocess, 57.5ms inference, 1.1ms postprocess per image at shape (1, 3, 1088, 1920)\n",
      "\n",
      "0: 1088x1920 1 ball, 22 players, 57.5ms\n",
      "Speed: 6.9ms preprocess, 57.5ms inference, 1.1ms postprocess per image at shape (1, 3, 1088, 1920)\n"
     ]
    },
    {
     "name": "stdout",
     "output_type": "stream",
     "text": [
      "414\n",
      "Saved: temp_task_folder/img1/000414.jpg\n",
      "415\n",
      "Saved: temp_task_folder/img1/000415.jpg\n"
     ]
    },
    {
     "name": "stderr",
     "output_type": "stream",
     "text": [
      "\n",
      "0: 1088x1920 1 ball, 22 players, 57.3ms\n",
      "Speed: 6.7ms preprocess, 57.3ms inference, 1.1ms postprocess per image at shape (1, 3, 1088, 1920)\n",
      "\n",
      "0: 1088x1920 22 players, 57.5ms\n",
      "Speed: 6.8ms preprocess, 57.5ms inference, 1.1ms postprocess per image at shape (1, 3, 1088, 1920)\n"
     ]
    },
    {
     "name": "stdout",
     "output_type": "stream",
     "text": [
      "416\n",
      "Saved: temp_task_folder/img1/000416.jpg\n",
      "417\n",
      "Saved: temp_task_folder/img1/000417.jpg\n"
     ]
    },
    {
     "name": "stderr",
     "output_type": "stream",
     "text": [
      "\n",
      "0: 1088x1920 22 players, 57.3ms\n",
      "Speed: 6.8ms preprocess, 57.3ms inference, 1.1ms postprocess per image at shape (1, 3, 1088, 1920)\n",
      "\n",
      "0: 1088x1920 22 players, 57.4ms\n",
      "Speed: 6.9ms preprocess, 57.4ms inference, 1.1ms postprocess per image at shape (1, 3, 1088, 1920)\n"
     ]
    },
    {
     "name": "stdout",
     "output_type": "stream",
     "text": [
      "418\n",
      "Saved: temp_task_folder/img1/000418.jpg\n",
      "419\n",
      "Saved: temp_task_folder/img1/000419.jpg\n"
     ]
    },
    {
     "name": "stderr",
     "output_type": "stream",
     "text": [
      "\n",
      "0: 1088x1920 22 players, 57.5ms\n",
      "Speed: 6.8ms preprocess, 57.5ms inference, 1.1ms postprocess per image at shape (1, 3, 1088, 1920)\n",
      "\n",
      "0: 1088x1920 22 players, 57.4ms\n",
      "Speed: 6.8ms preprocess, 57.4ms inference, 1.1ms postprocess per image at shape (1, 3, 1088, 1920)\n"
     ]
    },
    {
     "name": "stdout",
     "output_type": "stream",
     "text": [
      "420\n",
      "Saved: temp_task_folder/img1/000420.jpg\n",
      "421\n",
      "Saved: temp_task_folder/img1/000421.jpg\n"
     ]
    },
    {
     "name": "stderr",
     "output_type": "stream",
     "text": [
      "\n",
      "0: 1088x1920 23 players, 57.5ms\n",
      "Speed: 6.8ms preprocess, 57.5ms inference, 1.1ms postprocess per image at shape (1, 3, 1088, 1920)\n",
      "\n",
      "0: 1088x1920 1 ball, 23 players, 57.3ms\n",
      "Speed: 6.8ms preprocess, 57.3ms inference, 1.1ms postprocess per image at shape (1, 3, 1088, 1920)\n"
     ]
    },
    {
     "name": "stdout",
     "output_type": "stream",
     "text": [
      "422\n",
      "Saved: temp_task_folder/img1/000422.jpg\n"
     ]
    },
    {
     "name": "stderr",
     "output_type": "stream",
     "text": [
      "\n",
      "0: 1088x1920 23 players, 57.2ms\n",
      "Speed: 6.8ms preprocess, 57.2ms inference, 1.1ms postprocess per image at shape (1, 3, 1088, 1920)\n"
     ]
    },
    {
     "name": "stdout",
     "output_type": "stream",
     "text": [
      "423\n",
      "Saved: temp_task_folder/img1/000423.jpg\n",
      "424\n",
      "Saved: temp_task_folder/img1/000424.jpg\n"
     ]
    },
    {
     "name": "stderr",
     "output_type": "stream",
     "text": [
      "\n",
      "0: 1088x1920 23 players, 57.4ms\n",
      "Speed: 6.9ms preprocess, 57.4ms inference, 1.2ms postprocess per image at shape (1, 3, 1088, 1920)\n",
      "\n",
      "0: 1088x1920 2 balls, 23 players, 57.2ms\n",
      "Speed: 6.8ms preprocess, 57.2ms inference, 1.1ms postprocess per image at shape (1, 3, 1088, 1920)\n"
     ]
    },
    {
     "name": "stdout",
     "output_type": "stream",
     "text": [
      "425\n",
      "Saved: temp_task_folder/img1/000425.jpg\n",
      "426\n",
      "Saved: temp_task_folder/img1/000426.jpg\n"
     ]
    },
    {
     "name": "stderr",
     "output_type": "stream",
     "text": [
      "\n",
      "0: 1088x1920 23 players, 57.4ms\n",
      "Speed: 6.8ms preprocess, 57.4ms inference, 1.1ms postprocess per image at shape (1, 3, 1088, 1920)\n",
      "\n",
      "0: 1088x1920 23 players, 57.4ms\n",
      "Speed: 6.9ms preprocess, 57.4ms inference, 1.1ms postprocess per image at shape (1, 3, 1088, 1920)\n"
     ]
    },
    {
     "name": "stdout",
     "output_type": "stream",
     "text": [
      "427\n",
      "Saved: temp_task_folder/img1/000427.jpg\n",
      "428\n",
      "Saved: temp_task_folder/img1/000428.jpg\n"
     ]
    },
    {
     "name": "stderr",
     "output_type": "stream",
     "text": [
      "\n",
      "0: 1088x1920 23 players, 57.2ms\n",
      "Speed: 6.9ms preprocess, 57.2ms inference, 1.1ms postprocess per image at shape (1, 3, 1088, 1920)\n",
      "\n",
      "0: 1088x1920 23 players, 57.5ms\n",
      "Speed: 6.8ms preprocess, 57.5ms inference, 1.1ms postprocess per image at shape (1, 3, 1088, 1920)\n"
     ]
    },
    {
     "name": "stdout",
     "output_type": "stream",
     "text": [
      "429\n",
      "Saved: temp_task_folder/img1/000429.jpg\n",
      "430\n",
      "Saved: temp_task_folder/img1/000430.jpg\n"
     ]
    },
    {
     "name": "stderr",
     "output_type": "stream",
     "text": [
      "\n",
      "0: 1088x1920 23 players, 57.5ms\n",
      "Speed: 6.8ms preprocess, 57.5ms inference, 1.1ms postprocess per image at shape (1, 3, 1088, 1920)\n",
      "\n",
      "0: 1088x1920 23 players, 57.2ms\n",
      "Speed: 6.9ms preprocess, 57.2ms inference, 1.1ms postprocess per image at shape (1, 3, 1088, 1920)\n"
     ]
    },
    {
     "name": "stdout",
     "output_type": "stream",
     "text": [
      "431\n",
      "Saved: temp_task_folder/img1/000431.jpg\n",
      "432\n",
      "Saved: temp_task_folder/img1/000432.jpg\n"
     ]
    },
    {
     "name": "stderr",
     "output_type": "stream",
     "text": [
      "\n",
      "0: 1088x1920 2 balls, 23 players, 57.5ms\n",
      "Speed: 6.8ms preprocess, 57.5ms inference, 1.1ms postprocess per image at shape (1, 3, 1088, 1920)\n",
      "\n",
      "0: 1088x1920 1 ball, 23 players, 57.5ms\n",
      "Speed: 7.0ms preprocess, 57.5ms inference, 1.1ms postprocess per image at shape (1, 3, 1088, 1920)\n"
     ]
    },
    {
     "name": "stdout",
     "output_type": "stream",
     "text": [
      "433\n",
      "Saved: temp_task_folder/img1/000433.jpg\n",
      "434\n",
      "Saved: temp_task_folder/img1/000434.jpg\n"
     ]
    },
    {
     "name": "stderr",
     "output_type": "stream",
     "text": [
      "\n",
      "0: 1088x1920 1 ball, 23 players, 57.4ms\n",
      "Speed: 6.8ms preprocess, 57.4ms inference, 1.1ms postprocess per image at shape (1, 3, 1088, 1920)\n",
      "\n",
      "0: 1088x1920 1 ball, 23 players, 57.5ms\n",
      "Speed: 6.8ms preprocess, 57.5ms inference, 1.1ms postprocess per image at shape (1, 3, 1088, 1920)\n"
     ]
    },
    {
     "name": "stdout",
     "output_type": "stream",
     "text": [
      "435\n",
      "Saved: temp_task_folder/img1/000435.jpg\n",
      "436\n",
      "Saved: temp_task_folder/img1/000436.jpg\n"
     ]
    },
    {
     "name": "stderr",
     "output_type": "stream",
     "text": [
      "\n",
      "0: 1088x1920 1 ball, 23 players, 57.4ms\n",
      "Speed: 6.9ms preprocess, 57.4ms inference, 1.1ms postprocess per image at shape (1, 3, 1088, 1920)\n",
      "\n",
      "0: 1088x1920 1 ball, 23 players, 57.3ms\n",
      "Speed: 6.9ms preprocess, 57.3ms inference, 1.1ms postprocess per image at shape (1, 3, 1088, 1920)\n"
     ]
    },
    {
     "name": "stdout",
     "output_type": "stream",
     "text": [
      "437\n",
      "Saved: temp_task_folder/img1/000437.jpg\n",
      "438\n",
      "Saved: temp_task_folder/img1/000438.jpg\n"
     ]
    },
    {
     "name": "stderr",
     "output_type": "stream",
     "text": [
      "\n",
      "0: 1088x1920 1 ball, 23 players, 57.4ms\n",
      "Speed: 6.9ms preprocess, 57.4ms inference, 1.1ms postprocess per image at shape (1, 3, 1088, 1920)\n",
      "\n",
      "0: 1088x1920 1 ball, 23 players, 57.4ms\n",
      "Speed: 6.8ms preprocess, 57.4ms inference, 1.1ms postprocess per image at shape (1, 3, 1088, 1920)\n"
     ]
    },
    {
     "name": "stdout",
     "output_type": "stream",
     "text": [
      "439\n",
      "Saved: temp_task_folder/img1/000439.jpg\n",
      "440\n",
      "Saved: temp_task_folder/img1/000440.jpg\n"
     ]
    },
    {
     "name": "stderr",
     "output_type": "stream",
     "text": [
      "\n",
      "0: 1088x1920 1 ball, 23 players, 57.5ms\n",
      "Speed: 6.8ms preprocess, 57.5ms inference, 1.1ms postprocess per image at shape (1, 3, 1088, 1920)\n",
      "\n",
      "0: 1088x1920 1 ball, 23 players, 57.5ms\n",
      "Speed: 6.9ms preprocess, 57.5ms inference, 1.1ms postprocess per image at shape (1, 3, 1088, 1920)\n"
     ]
    },
    {
     "name": "stdout",
     "output_type": "stream",
     "text": [
      "441\n",
      "Saved: temp_task_folder/img1/000441.jpg\n",
      "442\n",
      "Saved: temp_task_folder/img1/000442.jpg\n"
     ]
    },
    {
     "name": "stderr",
     "output_type": "stream",
     "text": [
      "\n",
      "0: 1088x1920 1 ball, 23 players, 57.4ms\n",
      "Speed: 6.9ms preprocess, 57.4ms inference, 1.1ms postprocess per image at shape (1, 3, 1088, 1920)\n",
      "\n",
      "0: 1088x1920 1 ball, 23 players, 57.4ms\n",
      "Speed: 6.8ms preprocess, 57.4ms inference, 1.1ms postprocess per image at shape (1, 3, 1088, 1920)\n"
     ]
    },
    {
     "name": "stdout",
     "output_type": "stream",
     "text": [
      "443\n",
      "Saved: temp_task_folder/img1/000443.jpg\n",
      "444\n",
      "Saved: temp_task_folder/img1/000444.jpg\n"
     ]
    },
    {
     "name": "stderr",
     "output_type": "stream",
     "text": [
      "\n",
      "0: 1088x1920 1 ball, 23 players, 57.4ms\n",
      "Speed: 6.8ms preprocess, 57.4ms inference, 1.1ms postprocess per image at shape (1, 3, 1088, 1920)\n",
      "\n",
      "0: 1088x1920 1 ball, 23 players, 57.5ms\n",
      "Speed: 7.0ms preprocess, 57.5ms inference, 1.1ms postprocess per image at shape (1, 3, 1088, 1920)\n"
     ]
    },
    {
     "name": "stdout",
     "output_type": "stream",
     "text": [
      "445\n",
      "Saved: temp_task_folder/img1/000445.jpg\n",
      "446\n",
      "Saved: temp_task_folder/img1/000446.jpg\n"
     ]
    },
    {
     "name": "stderr",
     "output_type": "stream",
     "text": [
      "\n",
      "0: 1088x1920 1 ball, 23 players, 57.2ms\n",
      "Speed: 6.9ms preprocess, 57.2ms inference, 1.1ms postprocess per image at shape (1, 3, 1088, 1920)\n",
      "\n",
      "0: 1088x1920 1 ball, 23 players, 57.2ms\n",
      "Speed: 6.9ms preprocess, 57.2ms inference, 1.1ms postprocess per image at shape (1, 3, 1088, 1920)\n"
     ]
    },
    {
     "name": "stdout",
     "output_type": "stream",
     "text": [
      "447\n",
      "Saved: temp_task_folder/img1/000447.jpg\n",
      "448\n",
      "Saved: temp_task_folder/img1/000448.jpg\n"
     ]
    },
    {
     "name": "stderr",
     "output_type": "stream",
     "text": [
      "\n",
      "0: 1088x1920 1 ball, 23 players, 57.3ms\n",
      "Speed: 6.8ms preprocess, 57.3ms inference, 1.1ms postprocess per image at shape (1, 3, 1088, 1920)\n",
      "\n",
      "0: 1088x1920 1 ball, 23 players, 57.4ms\n",
      "Speed: 6.9ms preprocess, 57.4ms inference, 1.1ms postprocess per image at shape (1, 3, 1088, 1920)\n"
     ]
    },
    {
     "name": "stdout",
     "output_type": "stream",
     "text": [
      "449\n",
      "Saved: temp_task_folder/img1/000449.jpg\n",
      "450\n",
      "Saved: temp_task_folder/img1/000450.jpg\n"
     ]
    },
    {
     "name": "stderr",
     "output_type": "stream",
     "text": [
      "\n",
      "0: 1088x1920 1 ball, 23 players, 57.6ms\n",
      "Speed: 6.9ms preprocess, 57.6ms inference, 1.1ms postprocess per image at shape (1, 3, 1088, 1920)\n",
      "\n",
      "0: 1088x1920 1 ball, 23 players, 57.4ms\n",
      "Speed: 6.9ms preprocess, 57.4ms inference, 1.1ms postprocess per image at shape (1, 3, 1088, 1920)\n"
     ]
    },
    {
     "name": "stdout",
     "output_type": "stream",
     "text": [
      "451\n",
      "Saved: temp_task_folder/img1/000451.jpg\n",
      "452\n",
      "Saved: temp_task_folder/img1/000452.jpg\n"
     ]
    },
    {
     "name": "stderr",
     "output_type": "stream",
     "text": [
      "\n",
      "0: 1088x1920 1 ball, 23 players, 57.6ms\n",
      "Speed: 6.9ms preprocess, 57.6ms inference, 1.1ms postprocess per image at shape (1, 3, 1088, 1920)\n",
      "\n",
      "0: 1088x1920 1 ball, 23 players, 57.5ms\n",
      "Speed: 6.8ms preprocess, 57.5ms inference, 1.1ms postprocess per image at shape (1, 3, 1088, 1920)\n"
     ]
    },
    {
     "name": "stdout",
     "output_type": "stream",
     "text": [
      "453\n",
      "Saved: temp_task_folder/img1/000453.jpg\n",
      "454\n",
      "Saved: temp_task_folder/img1/000454.jpg\n"
     ]
    },
    {
     "name": "stderr",
     "output_type": "stream",
     "text": [
      "\n",
      "0: 1088x1920 1 ball, 23 players, 57.4ms\n",
      "Speed: 6.9ms preprocess, 57.4ms inference, 1.1ms postprocess per image at shape (1, 3, 1088, 1920)\n",
      "\n",
      "0: 1088x1920 1 ball, 23 players, 57.4ms\n",
      "Speed: 6.8ms preprocess, 57.4ms inference, 1.1ms postprocess per image at shape (1, 3, 1088, 1920)\n"
     ]
    },
    {
     "name": "stdout",
     "output_type": "stream",
     "text": [
      "455\n",
      "Saved: temp_task_folder/img1/000455.jpg\n",
      "456\n",
      "Saved: temp_task_folder/img1/000456.jpg\n"
     ]
    },
    {
     "name": "stderr",
     "output_type": "stream",
     "text": [
      "\n",
      "0: 1088x1920 1 ball, 23 players, 57.2ms\n",
      "Speed: 6.9ms preprocess, 57.2ms inference, 1.1ms postprocess per image at shape (1, 3, 1088, 1920)\n",
      "\n",
      "0: 1088x1920 1 ball, 23 players, 57.3ms\n",
      "Speed: 6.9ms preprocess, 57.3ms inference, 1.1ms postprocess per image at shape (1, 3, 1088, 1920)\n"
     ]
    },
    {
     "name": "stdout",
     "output_type": "stream",
     "text": [
      "457\n",
      "Saved: temp_task_folder/img1/000457.jpg\n",
      "458\n",
      "Saved: temp_task_folder/img1/000458.jpg\n"
     ]
    },
    {
     "name": "stderr",
     "output_type": "stream",
     "text": [
      "\n",
      "0: 1088x1920 1 ball, 23 players, 57.5ms\n",
      "Speed: 6.9ms preprocess, 57.5ms inference, 1.1ms postprocess per image at shape (1, 3, 1088, 1920)\n",
      "\n",
      "0: 1088x1920 1 ball, 23 players, 57.3ms\n",
      "Speed: 6.9ms preprocess, 57.3ms inference, 1.1ms postprocess per image at shape (1, 3, 1088, 1920)\n"
     ]
    },
    {
     "name": "stdout",
     "output_type": "stream",
     "text": [
      "459\n",
      "Saved: temp_task_folder/img1/000459.jpg\n",
      "460\n",
      "Saved: temp_task_folder/img1/000460.jpg\n"
     ]
    },
    {
     "name": "stderr",
     "output_type": "stream",
     "text": [
      "\n",
      "0: 1088x1920 1 ball, 23 players, 57.4ms\n",
      "Speed: 6.8ms preprocess, 57.4ms inference, 1.1ms postprocess per image at shape (1, 3, 1088, 1920)\n",
      "\n",
      "0: 1088x1920 1 ball, 23 players, 57.3ms\n",
      "Speed: 6.8ms preprocess, 57.3ms inference, 1.1ms postprocess per image at shape (1, 3, 1088, 1920)\n"
     ]
    },
    {
     "name": "stdout",
     "output_type": "stream",
     "text": [
      "461\n",
      "Saved: temp_task_folder/img1/000461.jpg\n",
      "462\n",
      "Saved: temp_task_folder/img1/000462.jpg\n"
     ]
    },
    {
     "name": "stderr",
     "output_type": "stream",
     "text": [
      "\n",
      "0: 1088x1920 1 ball, 23 players, 57.4ms\n",
      "Speed: 6.9ms preprocess, 57.4ms inference, 1.1ms postprocess per image at shape (1, 3, 1088, 1920)\n",
      "\n",
      "0: 1088x1920 1 ball, 23 players, 57.4ms\n",
      "Speed: 6.8ms preprocess, 57.4ms inference, 1.1ms postprocess per image at shape (1, 3, 1088, 1920)\n"
     ]
    },
    {
     "name": "stdout",
     "output_type": "stream",
     "text": [
      "463\n",
      "Saved: temp_task_folder/img1/000463.jpg\n",
      "464\n",
      "Saved: temp_task_folder/img1/000464.jpg\n"
     ]
    },
    {
     "name": "stderr",
     "output_type": "stream",
     "text": [
      "\n",
      "0: 1088x1920 1 ball, 23 players, 57.2ms\n",
      "Speed: 6.9ms preprocess, 57.2ms inference, 1.1ms postprocess per image at shape (1, 3, 1088, 1920)\n",
      "\n",
      "0: 1088x1920 1 ball, 23 players, 57.4ms\n",
      "Speed: 6.9ms preprocess, 57.4ms inference, 1.1ms postprocess per image at shape (1, 3, 1088, 1920)\n"
     ]
    },
    {
     "name": "stdout",
     "output_type": "stream",
     "text": [
      "465\n",
      "Saved: temp_task_folder/img1/000465.jpg\n",
      "466\n",
      "Saved: temp_task_folder/img1/000466.jpg\n"
     ]
    },
    {
     "name": "stderr",
     "output_type": "stream",
     "text": [
      "\n",
      "0: 1088x1920 1 ball, 23 players, 57.4ms\n",
      "Speed: 6.9ms preprocess, 57.4ms inference, 1.1ms postprocess per image at shape (1, 3, 1088, 1920)\n",
      "\n",
      "0: 1088x1920 1 ball, 23 players, 57.3ms\n",
      "Speed: 6.9ms preprocess, 57.3ms inference, 1.1ms postprocess per image at shape (1, 3, 1088, 1920)\n"
     ]
    },
    {
     "name": "stdout",
     "output_type": "stream",
     "text": [
      "467\n",
      "Saved: temp_task_folder/img1/000467.jpg\n",
      "468\n",
      "Saved: temp_task_folder/img1/000468.jpg\n"
     ]
    },
    {
     "name": "stderr",
     "output_type": "stream",
     "text": [
      "\n",
      "0: 1088x1920 1 ball, 23 players, 57.3ms\n",
      "Speed: 7.0ms preprocess, 57.3ms inference, 1.1ms postprocess per image at shape (1, 3, 1088, 1920)\n",
      "\n",
      "0: 1088x1920 1 ball, 23 players, 57.4ms\n",
      "Speed: 6.8ms preprocess, 57.4ms inference, 1.1ms postprocess per image at shape (1, 3, 1088, 1920)\n"
     ]
    },
    {
     "name": "stdout",
     "output_type": "stream",
     "text": [
      "469\n",
      "Saved: temp_task_folder/img1/000469.jpg\n",
      "470\n",
      "Saved: temp_task_folder/img1/000470.jpg\n"
     ]
    },
    {
     "name": "stderr",
     "output_type": "stream",
     "text": [
      "\n",
      "0: 1088x1920 1 ball, 23 players, 57.3ms\n",
      "Speed: 6.8ms preprocess, 57.3ms inference, 1.1ms postprocess per image at shape (1, 3, 1088, 1920)\n",
      "\n",
      "0: 1088x1920 1 ball, 23 players, 57.3ms\n",
      "Speed: 6.9ms preprocess, 57.3ms inference, 1.1ms postprocess per image at shape (1, 3, 1088, 1920)\n"
     ]
    },
    {
     "name": "stdout",
     "output_type": "stream",
     "text": [
      "471\n",
      "Saved: temp_task_folder/img1/000471.jpg\n",
      "472\n",
      "Saved: temp_task_folder/img1/000472.jpg\n"
     ]
    },
    {
     "name": "stderr",
     "output_type": "stream",
     "text": [
      "\n",
      "0: 1088x1920 1 ball, 23 players, 57.3ms\n",
      "Speed: 6.9ms preprocess, 57.3ms inference, 1.1ms postprocess per image at shape (1, 3, 1088, 1920)\n",
      "\n",
      "0: 1088x1920 1 ball, 23 players, 57.4ms\n",
      "Speed: 6.9ms preprocess, 57.4ms inference, 1.1ms postprocess per image at shape (1, 3, 1088, 1920)\n"
     ]
    },
    {
     "name": "stdout",
     "output_type": "stream",
     "text": [
      "473\n",
      "Saved: temp_task_folder/img1/000473.jpg\n",
      "474\n",
      "Saved: temp_task_folder/img1/000474.jpg\n"
     ]
    },
    {
     "name": "stderr",
     "output_type": "stream",
     "text": [
      "\n",
      "0: 1088x1920 1 ball, 23 players, 57.3ms\n",
      "Speed: 6.9ms preprocess, 57.3ms inference, 1.1ms postprocess per image at shape (1, 3, 1088, 1920)\n",
      "\n",
      "0: 1088x1920 1 ball, 23 players, 57.4ms\n",
      "Speed: 7.0ms preprocess, 57.4ms inference, 1.1ms postprocess per image at shape (1, 3, 1088, 1920)\n"
     ]
    },
    {
     "name": "stdout",
     "output_type": "stream",
     "text": [
      "475\n",
      "Saved: temp_task_folder/img1/000475.jpg\n",
      "476\n",
      "Saved: temp_task_folder/img1/000476.jpg\n"
     ]
    },
    {
     "name": "stderr",
     "output_type": "stream",
     "text": [
      "\n",
      "0: 1088x1920 1 ball, 23 players, 57.0ms\n",
      "Speed: 6.9ms preprocess, 57.0ms inference, 1.1ms postprocess per image at shape (1, 3, 1088, 1920)\n",
      "\n",
      "0: 1088x1920 1 ball, 23 players, 57.4ms\n",
      "Speed: 6.9ms preprocess, 57.4ms inference, 1.1ms postprocess per image at shape (1, 3, 1088, 1920)\n"
     ]
    },
    {
     "name": "stdout",
     "output_type": "stream",
     "text": [
      "477\n",
      "Saved: temp_task_folder/img1/000477.jpg\n",
      "478\n",
      "Saved: temp_task_folder/img1/000478.jpg\n"
     ]
    },
    {
     "name": "stderr",
     "output_type": "stream",
     "text": [
      "\n",
      "0: 1088x1920 1 ball, 23 players, 57.4ms\n",
      "Speed: 6.9ms preprocess, 57.4ms inference, 1.1ms postprocess per image at shape (1, 3, 1088, 1920)\n",
      "\n",
      "0: 1088x1920 1 ball, 23 players, 57.3ms\n",
      "Speed: 6.9ms preprocess, 57.3ms inference, 1.1ms postprocess per image at shape (1, 3, 1088, 1920)\n"
     ]
    },
    {
     "name": "stdout",
     "output_type": "stream",
     "text": [
      "479\n",
      "Saved: temp_task_folder/img1/000479.jpg\n",
      "480\n",
      "Saved: temp_task_folder/img1/000480.jpg\n"
     ]
    },
    {
     "name": "stderr",
     "output_type": "stream",
     "text": [
      "\n",
      "0: 1088x1920 1 ball, 23 players, 57.2ms\n",
      "Speed: 6.9ms preprocess, 57.2ms inference, 1.1ms postprocess per image at shape (1, 3, 1088, 1920)\n",
      "\n",
      "0: 1088x1920 1 ball, 24 players, 57.4ms\n",
      "Speed: 6.9ms preprocess, 57.4ms inference, 1.1ms postprocess per image at shape (1, 3, 1088, 1920)\n"
     ]
    },
    {
     "name": "stdout",
     "output_type": "stream",
     "text": [
      "481\n",
      "Saved: temp_task_folder/img1/000481.jpg\n",
      "482\n",
      "Saved: temp_task_folder/img1/000482.jpg\n"
     ]
    },
    {
     "name": "stderr",
     "output_type": "stream",
     "text": [
      "\n",
      "0: 1088x1920 1 ball, 24 players, 57.4ms\n",
      "Speed: 6.8ms preprocess, 57.4ms inference, 1.1ms postprocess per image at shape (1, 3, 1088, 1920)\n",
      "\n",
      "0: 1088x1920 1 ball, 24 players, 57.4ms\n",
      "Speed: 6.9ms preprocess, 57.4ms inference, 1.2ms postprocess per image at shape (1, 3, 1088, 1920)\n"
     ]
    },
    {
     "name": "stdout",
     "output_type": "stream",
     "text": [
      "483\n",
      "Saved: temp_task_folder/img1/000483.jpg\n",
      "484\n",
      "Saved: temp_task_folder/img1/000484.jpg\n"
     ]
    },
    {
     "name": "stderr",
     "output_type": "stream",
     "text": [
      "\n",
      "0: 1088x1920 1 ball, 23 players, 57.5ms\n",
      "Speed: 6.9ms preprocess, 57.5ms inference, 1.1ms postprocess per image at shape (1, 3, 1088, 1920)\n",
      "\n",
      "0: 1088x1920 1 ball, 23 players, 57.4ms\n",
      "Speed: 6.8ms preprocess, 57.4ms inference, 1.1ms postprocess per image at shape (1, 3, 1088, 1920)\n"
     ]
    },
    {
     "name": "stdout",
     "output_type": "stream",
     "text": [
      "485\n",
      "Saved: temp_task_folder/img1/000485.jpg\n",
      "486\n",
      "Saved: temp_task_folder/img1/000486.jpg\n"
     ]
    },
    {
     "name": "stderr",
     "output_type": "stream",
     "text": [
      "\n",
      "0: 1088x1920 1 ball, 23 players, 57.5ms\n",
      "Speed: 6.9ms preprocess, 57.5ms inference, 1.1ms postprocess per image at shape (1, 3, 1088, 1920)\n",
      "\n",
      "0: 1088x1920 1 ball, 24 players, 57.3ms\n",
      "Speed: 6.8ms preprocess, 57.3ms inference, 1.1ms postprocess per image at shape (1, 3, 1088, 1920)\n"
     ]
    },
    {
     "name": "stdout",
     "output_type": "stream",
     "text": [
      "487\n",
      "Saved: temp_task_folder/img1/000487.jpg\n",
      "488\n",
      "Saved: temp_task_folder/img1/000488.jpg\n"
     ]
    },
    {
     "name": "stderr",
     "output_type": "stream",
     "text": [
      "\n",
      "0: 1088x1920 1 ball, 23 players, 57.5ms\n",
      "Speed: 6.9ms preprocess, 57.5ms inference, 1.1ms postprocess per image at shape (1, 3, 1088, 1920)\n",
      "\n",
      "0: 1088x1920 1 ball, 23 players, 57.5ms\n",
      "Speed: 6.9ms preprocess, 57.5ms inference, 1.1ms postprocess per image at shape (1, 3, 1088, 1920)\n"
     ]
    },
    {
     "name": "stdout",
     "output_type": "stream",
     "text": [
      "489\n",
      "Saved: temp_task_folder/img1/000489.jpg\n",
      "490\n",
      "Saved: temp_task_folder/img1/000490.jpg\n"
     ]
    },
    {
     "name": "stderr",
     "output_type": "stream",
     "text": [
      "\n",
      "0: 1088x1920 2 balls, 23 players, 57.5ms\n",
      "Speed: 6.9ms preprocess, 57.5ms inference, 1.1ms postprocess per image at shape (1, 3, 1088, 1920)\n",
      "\n",
      "0: 1088x1920 1 ball, 23 players, 57.4ms\n",
      "Speed: 7.0ms preprocess, 57.4ms inference, 1.1ms postprocess per image at shape (1, 3, 1088, 1920)\n"
     ]
    },
    {
     "name": "stdout",
     "output_type": "stream",
     "text": [
      "491\n",
      "Saved: temp_task_folder/img1/000491.jpg\n",
      "492\n",
      "Saved: temp_task_folder/img1/000492.jpg\n"
     ]
    },
    {
     "name": "stderr",
     "output_type": "stream",
     "text": [
      "\n",
      "0: 1088x1920 1 ball, 23 players, 57.5ms\n",
      "Speed: 6.9ms preprocess, 57.5ms inference, 1.1ms postprocess per image at shape (1, 3, 1088, 1920)\n",
      "\n",
      "0: 1088x1920 1 ball, 23 players, 57.3ms\n",
      "Speed: 6.9ms preprocess, 57.3ms inference, 1.1ms postprocess per image at shape (1, 3, 1088, 1920)\n"
     ]
    },
    {
     "name": "stdout",
     "output_type": "stream",
     "text": [
      "493\n",
      "Saved: temp_task_folder/img1/000493.jpg\n",
      "494\n",
      "Saved: temp_task_folder/img1/000494.jpg\n"
     ]
    },
    {
     "name": "stderr",
     "output_type": "stream",
     "text": [
      "\n",
      "0: 1088x1920 1 ball, 23 players, 57.2ms\n",
      "Speed: 6.9ms preprocess, 57.2ms inference, 1.1ms postprocess per image at shape (1, 3, 1088, 1920)\n",
      "\n",
      "0: 1088x1920 1 ball, 23 players, 57.3ms\n",
      "Speed: 6.9ms preprocess, 57.3ms inference, 1.1ms postprocess per image at shape (1, 3, 1088, 1920)\n"
     ]
    },
    {
     "name": "stdout",
     "output_type": "stream",
     "text": [
      "495\n",
      "Saved: temp_task_folder/img1/000495.jpg\n",
      "496\n",
      "Saved: temp_task_folder/img1/000496.jpg\n"
     ]
    },
    {
     "name": "stderr",
     "output_type": "stream",
     "text": [
      "\n",
      "0: 1088x1920 1 ball, 23 players, 57.4ms\n",
      "Speed: 6.8ms preprocess, 57.4ms inference, 1.1ms postprocess per image at shape (1, 3, 1088, 1920)\n",
      "\n",
      "0: 1088x1920 1 ball, 23 players, 57.4ms\n",
      "Speed: 6.8ms preprocess, 57.4ms inference, 1.1ms postprocess per image at shape (1, 3, 1088, 1920)\n"
     ]
    },
    {
     "name": "stdout",
     "output_type": "stream",
     "text": [
      "497\n",
      "Saved: temp_task_folder/img1/000497.jpg\n",
      "498\n",
      "Saved: temp_task_folder/img1/000498.jpg\n"
     ]
    },
    {
     "name": "stderr",
     "output_type": "stream",
     "text": [
      "\n",
      "0: 1088x1920 1 ball, 23 players, 57.2ms\n",
      "Speed: 6.8ms preprocess, 57.2ms inference, 1.1ms postprocess per image at shape (1, 3, 1088, 1920)\n",
      "\n",
      "0: 1088x1920 1 ball, 23 players, 57.6ms\n",
      "Speed: 6.8ms preprocess, 57.6ms inference, 1.1ms postprocess per image at shape (1, 3, 1088, 1920)\n"
     ]
    },
    {
     "name": "stdout",
     "output_type": "stream",
     "text": [
      "499\n",
      "Saved: temp_task_folder/img1/000499.jpg\n",
      "500\n",
      "Saved: temp_task_folder/img1/000500.jpg\n"
     ]
    },
    {
     "name": "stderr",
     "output_type": "stream",
     "text": [
      "\n",
      "0: 1088x1920 1 ball, 23 players, 57.5ms\n",
      "Speed: 6.9ms preprocess, 57.5ms inference, 1.1ms postprocess per image at shape (1, 3, 1088, 1920)\n",
      "\n",
      "0: 1088x1920 1 ball, 23 players, 57.4ms\n",
      "Speed: 6.8ms preprocess, 57.4ms inference, 1.1ms postprocess per image at shape (1, 3, 1088, 1920)\n"
     ]
    },
    {
     "name": "stdout",
     "output_type": "stream",
     "text": [
      "501\n",
      "Saved: temp_task_folder/img1/000501.jpg\n",
      "502\n",
      "Saved: temp_task_folder/img1/000502.jpg\n"
     ]
    },
    {
     "name": "stderr",
     "output_type": "stream",
     "text": [
      "\n",
      "0: 1088x1920 1 ball, 23 players, 57.2ms\n",
      "Speed: 6.9ms preprocess, 57.2ms inference, 1.1ms postprocess per image at shape (1, 3, 1088, 1920)\n",
      "\n",
      "0: 1088x1920 1 ball, 23 players, 57.2ms\n",
      "Speed: 6.8ms preprocess, 57.2ms inference, 1.1ms postprocess per image at shape (1, 3, 1088, 1920)\n"
     ]
    },
    {
     "name": "stdout",
     "output_type": "stream",
     "text": [
      "503\n",
      "Saved: temp_task_folder/img1/000503.jpg\n",
      "504\n",
      "Saved: temp_task_folder/img1/000504.jpg\n"
     ]
    },
    {
     "name": "stderr",
     "output_type": "stream",
     "text": [
      "\n",
      "0: 1088x1920 1 ball, 23 players, 57.3ms\n",
      "Speed: 6.9ms preprocess, 57.3ms inference, 1.1ms postprocess per image at shape (1, 3, 1088, 1920)\n",
      "\n",
      "0: 1088x1920 1 ball, 23 players, 57.3ms\n",
      "Speed: 6.8ms preprocess, 57.3ms inference, 1.1ms postprocess per image at shape (1, 3, 1088, 1920)\n"
     ]
    },
    {
     "name": "stdout",
     "output_type": "stream",
     "text": [
      "505\n",
      "Saved: temp_task_folder/img1/000505.jpg\n",
      "506\n",
      "Saved: temp_task_folder/img1/000506.jpg\n"
     ]
    },
    {
     "name": "stderr",
     "output_type": "stream",
     "text": [
      "\n",
      "0: 1088x1920 1 ball, 23 players, 57.5ms\n",
      "Speed: 6.8ms preprocess, 57.5ms inference, 1.1ms postprocess per image at shape (1, 3, 1088, 1920)\n",
      "\n",
      "0: 1088x1920 1 ball, 23 players, 57.3ms\n",
      "Speed: 6.8ms preprocess, 57.3ms inference, 1.1ms postprocess per image at shape (1, 3, 1088, 1920)\n"
     ]
    },
    {
     "name": "stdout",
     "output_type": "stream",
     "text": [
      "507\n",
      "Saved: temp_task_folder/img1/000507.jpg\n",
      "508\n",
      "Saved: temp_task_folder/img1/000508.jpg\n"
     ]
    },
    {
     "name": "stderr",
     "output_type": "stream",
     "text": [
      "\n",
      "0: 1088x1920 1 ball, 23 players, 57.4ms\n",
      "Speed: 6.8ms preprocess, 57.4ms inference, 1.1ms postprocess per image at shape (1, 3, 1088, 1920)\n",
      "\n",
      "0: 1088x1920 1 ball, 23 players, 57.3ms\n",
      "Speed: 6.9ms preprocess, 57.3ms inference, 1.1ms postprocess per image at shape (1, 3, 1088, 1920)\n"
     ]
    },
    {
     "name": "stdout",
     "output_type": "stream",
     "text": [
      "509\n",
      "Saved: temp_task_folder/img1/000509.jpg\n",
      "510\n",
      "Saved: temp_task_folder/img1/000510.jpg\n"
     ]
    },
    {
     "name": "stderr",
     "output_type": "stream",
     "text": [
      "\n",
      "0: 1088x1920 1 ball, 23 players, 57.5ms\n",
      "Speed: 6.8ms preprocess, 57.5ms inference, 1.1ms postprocess per image at shape (1, 3, 1088, 1920)\n",
      "\n",
      "0: 1088x1920 1 ball, 23 players, 57.4ms\n",
      "Speed: 6.8ms preprocess, 57.4ms inference, 1.1ms postprocess per image at shape (1, 3, 1088, 1920)\n"
     ]
    },
    {
     "name": "stdout",
     "output_type": "stream",
     "text": [
      "511\n",
      "Saved: temp_task_folder/img1/000511.jpg\n",
      "512\n",
      "Saved: temp_task_folder/img1/000512.jpg\n"
     ]
    },
    {
     "name": "stderr",
     "output_type": "stream",
     "text": [
      "\n",
      "0: 1088x1920 1 ball, 23 players, 57.4ms\n",
      "Speed: 6.9ms preprocess, 57.4ms inference, 1.1ms postprocess per image at shape (1, 3, 1088, 1920)\n",
      "\n",
      "0: 1088x1920 1 ball, 23 players, 57.4ms\n",
      "Speed: 6.8ms preprocess, 57.4ms inference, 1.1ms postprocess per image at shape (1, 3, 1088, 1920)\n"
     ]
    },
    {
     "name": "stdout",
     "output_type": "stream",
     "text": [
      "513\n",
      "Saved: temp_task_folder/img1/000513.jpg\n",
      "514\n",
      "Saved: temp_task_folder/img1/000514.jpg\n"
     ]
    },
    {
     "name": "stderr",
     "output_type": "stream",
     "text": [
      "\n",
      "0: 1088x1920 1 ball, 23 players, 57.4ms\n",
      "Speed: 6.8ms preprocess, 57.4ms inference, 1.1ms postprocess per image at shape (1, 3, 1088, 1920)\n",
      "\n",
      "0: 1088x1920 1 ball, 23 players, 57.4ms\n",
      "Speed: 6.8ms preprocess, 57.4ms inference, 1.1ms postprocess per image at shape (1, 3, 1088, 1920)\n"
     ]
    },
    {
     "name": "stdout",
     "output_type": "stream",
     "text": [
      "515\n",
      "Saved: temp_task_folder/img1/000515.jpg\n",
      "516\n",
      "Saved: temp_task_folder/img1/000516.jpg\n"
     ]
    },
    {
     "name": "stderr",
     "output_type": "stream",
     "text": [
      "\n",
      "0: 1088x1920 1 ball, 23 players, 57.2ms\n",
      "Speed: 6.8ms preprocess, 57.2ms inference, 1.1ms postprocess per image at shape (1, 3, 1088, 1920)\n",
      "\n",
      "0: 1088x1920 1 ball, 23 players, 57.4ms\n",
      "Speed: 6.8ms preprocess, 57.4ms inference, 1.1ms postprocess per image at shape (1, 3, 1088, 1920)\n"
     ]
    },
    {
     "name": "stdout",
     "output_type": "stream",
     "text": [
      "517\n",
      "Saved: temp_task_folder/img1/000517.jpg\n",
      "518\n",
      "Saved: temp_task_folder/img1/000518.jpg\n"
     ]
    },
    {
     "name": "stderr",
     "output_type": "stream",
     "text": [
      "\n",
      "0: 1088x1920 1 ball, 24 players, 57.5ms\n",
      "Speed: 6.8ms preprocess, 57.5ms inference, 1.1ms postprocess per image at shape (1, 3, 1088, 1920)\n",
      "\n",
      "0: 1088x1920 1 ball, 23 players, 57.5ms\n",
      "Speed: 6.8ms preprocess, 57.5ms inference, 1.2ms postprocess per image at shape (1, 3, 1088, 1920)\n"
     ]
    },
    {
     "name": "stdout",
     "output_type": "stream",
     "text": [
      "519\n",
      "Saved: temp_task_folder/img1/000519.jpg\n",
      "520\n",
      "Saved: temp_task_folder/img1/000520.jpg\n"
     ]
    },
    {
     "name": "stderr",
     "output_type": "stream",
     "text": [
      "\n",
      "0: 1088x1920 1 ball, 23 players, 57.4ms\n",
      "Speed: 6.9ms preprocess, 57.4ms inference, 1.1ms postprocess per image at shape (1, 3, 1088, 1920)\n",
      "\n",
      "0: 1088x1920 1 ball, 23 players, 57.4ms\n",
      "Speed: 6.7ms preprocess, 57.4ms inference, 1.1ms postprocess per image at shape (1, 3, 1088, 1920)\n"
     ]
    },
    {
     "name": "stdout",
     "output_type": "stream",
     "text": [
      "521\n",
      "Saved: temp_task_folder/img1/000521.jpg\n",
      "522\n",
      "Saved: temp_task_folder/img1/000522.jpg\n"
     ]
    },
    {
     "name": "stderr",
     "output_type": "stream",
     "text": [
      "\n",
      "0: 1088x1920 1 ball, 23 players, 57.4ms\n",
      "Speed: 6.8ms preprocess, 57.4ms inference, 1.1ms postprocess per image at shape (1, 3, 1088, 1920)\n",
      "\n",
      "0: 1088x1920 1 ball, 23 players, 57.5ms\n",
      "Speed: 6.9ms preprocess, 57.5ms inference, 1.1ms postprocess per image at shape (1, 3, 1088, 1920)\n"
     ]
    },
    {
     "name": "stdout",
     "output_type": "stream",
     "text": [
      "523\n",
      "Saved: temp_task_folder/img1/000523.jpg\n",
      "524\n",
      "Saved: temp_task_folder/img1/000524.jpg\n"
     ]
    },
    {
     "name": "stderr",
     "output_type": "stream",
     "text": [
      "\n",
      "0: 1088x1920 1 ball, 23 players, 57.3ms\n",
      "Speed: 6.9ms preprocess, 57.3ms inference, 1.1ms postprocess per image at shape (1, 3, 1088, 1920)\n",
      "\n",
      "0: 1088x1920 1 ball, 23 players, 57.4ms\n",
      "Speed: 6.8ms preprocess, 57.4ms inference, 1.1ms postprocess per image at shape (1, 3, 1088, 1920)\n"
     ]
    },
    {
     "name": "stdout",
     "output_type": "stream",
     "text": [
      "525\n",
      "Saved: temp_task_folder/img1/000525.jpg\n",
      "526\n",
      "Saved: temp_task_folder/img1/000526.jpg\n"
     ]
    },
    {
     "name": "stderr",
     "output_type": "stream",
     "text": [
      "\n",
      "0: 1088x1920 1 ball, 23 players, 57.4ms\n",
      "Speed: 6.8ms preprocess, 57.4ms inference, 1.1ms postprocess per image at shape (1, 3, 1088, 1920)\n",
      "\n",
      "0: 1088x1920 1 ball, 23 players, 57.4ms\n",
      "Speed: 6.8ms preprocess, 57.4ms inference, 1.1ms postprocess per image at shape (1, 3, 1088, 1920)\n"
     ]
    },
    {
     "name": "stdout",
     "output_type": "stream",
     "text": [
      "527\n",
      "Saved: temp_task_folder/img1/000527.jpg\n",
      "528\n",
      "Saved: temp_task_folder/img1/000528.jpg\n"
     ]
    },
    {
     "name": "stderr",
     "output_type": "stream",
     "text": [
      "\n",
      "0: 1088x1920 1 ball, 23 players, 57.3ms\n",
      "Speed: 6.8ms preprocess, 57.3ms inference, 1.1ms postprocess per image at shape (1, 3, 1088, 1920)\n",
      "\n",
      "0: 1088x1920 1 ball, 23 players, 57.2ms\n",
      "Speed: 6.8ms preprocess, 57.2ms inference, 1.1ms postprocess per image at shape (1, 3, 1088, 1920)\n"
     ]
    },
    {
     "name": "stdout",
     "output_type": "stream",
     "text": [
      "529\n",
      "Saved: temp_task_folder/img1/000529.jpg\n",
      "530\n",
      "Saved: temp_task_folder/img1/000530.jpg\n"
     ]
    },
    {
     "name": "stderr",
     "output_type": "stream",
     "text": [
      "\n",
      "0: 1088x1920 1 ball, 23 players, 57.3ms\n",
      "Speed: 6.9ms preprocess, 57.3ms inference, 1.1ms postprocess per image at shape (1, 3, 1088, 1920)\n",
      "\n",
      "0: 1088x1920 1 ball, 23 players, 57.4ms\n",
      "Speed: 6.9ms preprocess, 57.4ms inference, 1.1ms postprocess per image at shape (1, 3, 1088, 1920)\n"
     ]
    },
    {
     "name": "stdout",
     "output_type": "stream",
     "text": [
      "531\n",
      "Saved: temp_task_folder/img1/000531.jpg\n",
      "532\n",
      "Saved: temp_task_folder/img1/000532.jpg\n"
     ]
    },
    {
     "name": "stderr",
     "output_type": "stream",
     "text": [
      "\n",
      "0: 1088x1920 1 ball, 23 players, 57.4ms\n",
      "Speed: 7.2ms preprocess, 57.4ms inference, 1.1ms postprocess per image at shape (1, 3, 1088, 1920)\n",
      "\n",
      "0: 1088x1920 1 ball, 23 players, 57.5ms\n",
      "Speed: 6.9ms preprocess, 57.5ms inference, 1.1ms postprocess per image at shape (1, 3, 1088, 1920)\n"
     ]
    },
    {
     "name": "stdout",
     "output_type": "stream",
     "text": [
      "533\n",
      "Saved: temp_task_folder/img1/000533.jpg\n",
      "534\n",
      "Saved: temp_task_folder/img1/000534.jpg\n"
     ]
    },
    {
     "name": "stderr",
     "output_type": "stream",
     "text": [
      "\n",
      "0: 1088x1920 1 ball, 23 players, 57.5ms\n",
      "Speed: 6.8ms preprocess, 57.5ms inference, 1.1ms postprocess per image at shape (1, 3, 1088, 1920)\n",
      "\n",
      "0: 1088x1920 1 ball, 23 players, 57.4ms\n",
      "Speed: 6.8ms preprocess, 57.4ms inference, 1.1ms postprocess per image at shape (1, 3, 1088, 1920)\n"
     ]
    },
    {
     "name": "stdout",
     "output_type": "stream",
     "text": [
      "535\n",
      "Saved: temp_task_folder/img1/000535.jpg\n",
      "536\n",
      "Saved: temp_task_folder/img1/000536.jpg\n"
     ]
    },
    {
     "name": "stderr",
     "output_type": "stream",
     "text": [
      "\n",
      "0: 1088x1920 1 ball, 23 players, 57.3ms\n",
      "Speed: 6.8ms preprocess, 57.3ms inference, 1.1ms postprocess per image at shape (1, 3, 1088, 1920)\n",
      "\n",
      "0: 1088x1920 1 ball, 23 players, 57.5ms\n",
      "Speed: 6.9ms preprocess, 57.5ms inference, 1.1ms postprocess per image at shape (1, 3, 1088, 1920)\n"
     ]
    },
    {
     "name": "stdout",
     "output_type": "stream",
     "text": [
      "537\n",
      "Saved: temp_task_folder/img1/000537.jpg\n",
      "538\n",
      "Saved: temp_task_folder/img1/000538.jpg\n"
     ]
    },
    {
     "name": "stderr",
     "output_type": "stream",
     "text": [
      "\n",
      "0: 1088x1920 1 ball, 23 players, 57.2ms\n",
      "Speed: 6.8ms preprocess, 57.2ms inference, 1.1ms postprocess per image at shape (1, 3, 1088, 1920)\n",
      "\n",
      "0: 1088x1920 1 ball, 23 players, 57.5ms\n",
      "Speed: 6.8ms preprocess, 57.5ms inference, 1.1ms postprocess per image at shape (1, 3, 1088, 1920)\n"
     ]
    },
    {
     "name": "stdout",
     "output_type": "stream",
     "text": [
      "539\n",
      "Saved: temp_task_folder/img1/000539.jpg\n",
      "540\n",
      "Saved: temp_task_folder/img1/000540.jpg\n"
     ]
    },
    {
     "name": "stderr",
     "output_type": "stream",
     "text": [
      "\n",
      "0: 1088x1920 1 ball, 23 players, 57.3ms\n",
      "Speed: 6.9ms preprocess, 57.3ms inference, 1.1ms postprocess per image at shape (1, 3, 1088, 1920)\n",
      "\n",
      "0: 1088x1920 1 ball, 23 players, 57.3ms\n",
      "Speed: 6.8ms preprocess, 57.3ms inference, 1.1ms postprocess per image at shape (1, 3, 1088, 1920)\n"
     ]
    },
    {
     "name": "stdout",
     "output_type": "stream",
     "text": [
      "541\n",
      "Saved: temp_task_folder/img1/000541.jpg\n",
      "542\n"
     ]
    },
    {
     "name": "stderr",
     "output_type": "stream",
     "text": [
      "\n",
      "0: 1088x1920 1 ball, 23 players, 57.5ms\n",
      "Speed: 6.9ms preprocess, 57.5ms inference, 1.1ms postprocess per image at shape (1, 3, 1088, 1920)\n"
     ]
    },
    {
     "name": "stdout",
     "output_type": "stream",
     "text": [
      "Saved: temp_task_folder/img1/000542.jpg\n",
      "543\n",
      "Saved: temp_task_folder/img1/000543.jpg\n"
     ]
    },
    {
     "name": "stderr",
     "output_type": "stream",
     "text": [
      "\n",
      "0: 1088x1920 1 ball, 23 players, 57.2ms\n",
      "Speed: 7.0ms preprocess, 57.2ms inference, 1.1ms postprocess per image at shape (1, 3, 1088, 1920)\n",
      "\n",
      "0: 1088x1920 1 ball, 23 players, 57.2ms\n",
      "Speed: 7.0ms preprocess, 57.2ms inference, 1.1ms postprocess per image at shape (1, 3, 1088, 1920)\n"
     ]
    },
    {
     "name": "stdout",
     "output_type": "stream",
     "text": [
      "544\n",
      "Saved: temp_task_folder/img1/000544.jpg\n",
      "545\n",
      "Saved: temp_task_folder/img1/000545.jpg\n"
     ]
    },
    {
     "name": "stderr",
     "output_type": "stream",
     "text": [
      "\n",
      "0: 1088x1920 1 ball, 23 players, 57.3ms\n",
      "Speed: 6.8ms preprocess, 57.3ms inference, 1.1ms postprocess per image at shape (1, 3, 1088, 1920)\n",
      "\n",
      "0: 1088x1920 1 ball, 23 players, 57.3ms\n",
      "Speed: 6.9ms preprocess, 57.3ms inference, 1.1ms postprocess per image at shape (1, 3, 1088, 1920)\n"
     ]
    },
    {
     "name": "stdout",
     "output_type": "stream",
     "text": [
      "546\n",
      "Saved: temp_task_folder/img1/000546.jpg\n",
      "547\n",
      "Saved: temp_task_folder/img1/000547.jpg\n"
     ]
    },
    {
     "name": "stderr",
     "output_type": "stream",
     "text": [
      "\n",
      "0: 1088x1920 1 ball, 23 players, 57.5ms\n",
      "Speed: 6.8ms preprocess, 57.5ms inference, 1.1ms postprocess per image at shape (1, 3, 1088, 1920)\n",
      "\n",
      "0: 1088x1920 1 ball, 23 players, 57.5ms\n",
      "Speed: 6.8ms preprocess, 57.5ms inference, 1.2ms postprocess per image at shape (1, 3, 1088, 1920)\n"
     ]
    },
    {
     "name": "stdout",
     "output_type": "stream",
     "text": [
      "548\n",
      "Saved: temp_task_folder/img1/000548.jpg\n",
      "549\n",
      "Saved: temp_task_folder/img1/000549.jpg\n"
     ]
    },
    {
     "name": "stderr",
     "output_type": "stream",
     "text": [
      "\n",
      "0: 1088x1920 1 ball, 23 players, 57.5ms\n",
      "Speed: 7.1ms preprocess, 57.5ms inference, 1.1ms postprocess per image at shape (1, 3, 1088, 1920)\n",
      "\n",
      "0: 1088x1920 1 ball, 23 players, 57.4ms\n",
      "Speed: 6.9ms preprocess, 57.4ms inference, 1.1ms postprocess per image at shape (1, 3, 1088, 1920)\n"
     ]
    },
    {
     "name": "stdout",
     "output_type": "stream",
     "text": [
      "550\n",
      "Saved: temp_task_folder/img1/000550.jpg\n",
      "551\n",
      "Saved: temp_task_folder/img1/000551.jpg\n"
     ]
    },
    {
     "name": "stderr",
     "output_type": "stream",
     "text": [
      "\n",
      "0: 1088x1920 1 ball, 23 players, 57.2ms\n",
      "Speed: 6.7ms preprocess, 57.2ms inference, 1.1ms postprocess per image at shape (1, 3, 1088, 1920)\n",
      "\n",
      "0: 1088x1920 1 ball, 23 players, 57.3ms\n",
      "Speed: 6.8ms preprocess, 57.3ms inference, 1.1ms postprocess per image at shape (1, 3, 1088, 1920)\n"
     ]
    },
    {
     "name": "stdout",
     "output_type": "stream",
     "text": [
      "552\n",
      "Saved: temp_task_folder/img1/000552.jpg\n",
      "553\n",
      "Saved: temp_task_folder/img1/000553.jpg\n"
     ]
    },
    {
     "name": "stderr",
     "output_type": "stream",
     "text": [
      "\n",
      "0: 1088x1920 1 ball, 23 players, 57.3ms\n",
      "Speed: 6.9ms preprocess, 57.3ms inference, 1.1ms postprocess per image at shape (1, 3, 1088, 1920)\n",
      "\n",
      "0: 1088x1920 1 ball, 23 players, 57.4ms\n",
      "Speed: 6.8ms preprocess, 57.4ms inference, 1.1ms postprocess per image at shape (1, 3, 1088, 1920)\n"
     ]
    },
    {
     "name": "stdout",
     "output_type": "stream",
     "text": [
      "554\n",
      "Saved: temp_task_folder/img1/000554.jpg\n",
      "555\n",
      "Saved: temp_task_folder/img1/000555.jpg\n"
     ]
    },
    {
     "name": "stderr",
     "output_type": "stream",
     "text": [
      "\n",
      "0: 1088x1920 1 ball, 23 players, 57.4ms\n",
      "Speed: 6.8ms preprocess, 57.4ms inference, 1.1ms postprocess per image at shape (1, 3, 1088, 1920)\n",
      "\n",
      "0: 1088x1920 1 ball, 23 players, 57.3ms\n",
      "Speed: 6.9ms preprocess, 57.3ms inference, 1.1ms postprocess per image at shape (1, 3, 1088, 1920)\n"
     ]
    },
    {
     "name": "stdout",
     "output_type": "stream",
     "text": [
      "556\n",
      "Saved: temp_task_folder/img1/000556.jpg\n",
      "557\n",
      "Saved: temp_task_folder/img1/000557.jpg\n"
     ]
    },
    {
     "name": "stderr",
     "output_type": "stream",
     "text": [
      "\n",
      "0: 1088x1920 1 ball, 23 players, 57.3ms\n",
      "Speed: 6.8ms preprocess, 57.3ms inference, 1.1ms postprocess per image at shape (1, 3, 1088, 1920)\n",
      "\n",
      "0: 1088x1920 1 ball, 23 players, 57.2ms\n",
      "Speed: 6.9ms preprocess, 57.2ms inference, 1.1ms postprocess per image at shape (1, 3, 1088, 1920)\n"
     ]
    },
    {
     "name": "stdout",
     "output_type": "stream",
     "text": [
      "558\n",
      "Saved: temp_task_folder/img1/000558.jpg\n",
      "559\n",
      "Saved: temp_task_folder/img1/000559.jpg\n"
     ]
    },
    {
     "name": "stderr",
     "output_type": "stream",
     "text": [
      "\n",
      "0: 1088x1920 1 ball, 23 players, 57.3ms\n",
      "Speed: 6.8ms preprocess, 57.3ms inference, 1.1ms postprocess per image at shape (1, 3, 1088, 1920)\n",
      "\n",
      "0: 1088x1920 1 ball, 23 players, 57.4ms\n",
      "Speed: 6.9ms preprocess, 57.4ms inference, 1.1ms postprocess per image at shape (1, 3, 1088, 1920)\n"
     ]
    },
    {
     "name": "stdout",
     "output_type": "stream",
     "text": [
      "560\n",
      "Saved: temp_task_folder/img1/000560.jpg\n",
      "561\n",
      "Saved: temp_task_folder/img1/000561.jpg\n"
     ]
    },
    {
     "name": "stderr",
     "output_type": "stream",
     "text": [
      "\n",
      "0: 1088x1920 1 ball, 23 players, 57.5ms\n",
      "Speed: 6.8ms preprocess, 57.5ms inference, 1.1ms postprocess per image at shape (1, 3, 1088, 1920)\n",
      "\n",
      "0: 1088x1920 1 ball, 23 players, 57.4ms\n",
      "Speed: 6.8ms preprocess, 57.4ms inference, 1.1ms postprocess per image at shape (1, 3, 1088, 1920)\n"
     ]
    },
    {
     "name": "stdout",
     "output_type": "stream",
     "text": [
      "562\n",
      "Saved: temp_task_folder/img1/000562.jpg\n",
      "563\n",
      "Saved: temp_task_folder/img1/000563.jpg\n"
     ]
    },
    {
     "name": "stderr",
     "output_type": "stream",
     "text": [
      "\n",
      "0: 1088x1920 1 ball, 23 players, 57.4ms\n",
      "Speed: 6.8ms preprocess, 57.4ms inference, 1.1ms postprocess per image at shape (1, 3, 1088, 1920)\n",
      "\n",
      "0: 1088x1920 1 ball, 23 players, 57.4ms\n",
      "Speed: 6.9ms preprocess, 57.4ms inference, 1.1ms postprocess per image at shape (1, 3, 1088, 1920)\n"
     ]
    },
    {
     "name": "stdout",
     "output_type": "stream",
     "text": [
      "564\n",
      "Saved: temp_task_folder/img1/000564.jpg\n",
      "565\n",
      "Saved: temp_task_folder/img1/000565.jpg\n"
     ]
    },
    {
     "name": "stderr",
     "output_type": "stream",
     "text": [
      "\n",
      "0: 1088x1920 1 ball, 23 players, 57.4ms\n",
      "Speed: 6.8ms preprocess, 57.4ms inference, 1.1ms postprocess per image at shape (1, 3, 1088, 1920)\n",
      "\n",
      "0: 1088x1920 1 ball, 23 players, 57.2ms\n",
      "Speed: 6.9ms preprocess, 57.2ms inference, 1.1ms postprocess per image at shape (1, 3, 1088, 1920)\n"
     ]
    },
    {
     "name": "stdout",
     "output_type": "stream",
     "text": [
      "566\n",
      "Saved: temp_task_folder/img1/000566.jpg\n",
      "567\n",
      "Saved: temp_task_folder/img1/000567.jpg\n"
     ]
    },
    {
     "name": "stderr",
     "output_type": "stream",
     "text": [
      "\n",
      "0: 1088x1920 1 ball, 23 players, 57.3ms\n",
      "Speed: 6.8ms preprocess, 57.3ms inference, 1.1ms postprocess per image at shape (1, 3, 1088, 1920)\n",
      "\n",
      "0: 1088x1920 1 ball, 23 players, 57.6ms\n",
      "Speed: 6.9ms preprocess, 57.6ms inference, 1.5ms postprocess per image at shape (1, 3, 1088, 1920)\n"
     ]
    },
    {
     "name": "stdout",
     "output_type": "stream",
     "text": [
      "568\n",
      "Saved: temp_task_folder/img1/000568.jpg\n",
      "569\n",
      "Saved: temp_task_folder/img1/000569.jpg\n"
     ]
    },
    {
     "name": "stderr",
     "output_type": "stream",
     "text": [
      "\n",
      "0: 1088x1920 23 players, 57.5ms\n",
      "Speed: 6.9ms preprocess, 57.5ms inference, 1.1ms postprocess per image at shape (1, 3, 1088, 1920)\n",
      "\n",
      "0: 1088x1920 23 players, 57.5ms\n",
      "Speed: 6.9ms preprocess, 57.5ms inference, 1.1ms postprocess per image at shape (1, 3, 1088, 1920)\n"
     ]
    },
    {
     "name": "stdout",
     "output_type": "stream",
     "text": [
      "570\n",
      "Saved: temp_task_folder/img1/000570.jpg\n",
      "571\n",
      "Saved: temp_task_folder/img1/000571.jpg\n"
     ]
    },
    {
     "name": "stderr",
     "output_type": "stream",
     "text": [
      "\n",
      "0: 1088x1920 23 players, 57.4ms\n",
      "Speed: 6.9ms preprocess, 57.4ms inference, 1.1ms postprocess per image at shape (1, 3, 1088, 1920)\n",
      "\n",
      "0: 1088x1920 23 players, 57.3ms\n",
      "Speed: 6.8ms preprocess, 57.3ms inference, 1.1ms postprocess per image at shape (1, 3, 1088, 1920)\n"
     ]
    },
    {
     "name": "stdout",
     "output_type": "stream",
     "text": [
      "572\n",
      "Saved: temp_task_folder/img1/000572.jpg\n",
      "573\n",
      "Saved: temp_task_folder/img1/000573.jpg\n"
     ]
    },
    {
     "name": "stderr",
     "output_type": "stream",
     "text": [
      "\n",
      "0: 1088x1920 23 players, 57.5ms\n",
      "Speed: 6.8ms preprocess, 57.5ms inference, 1.1ms postprocess per image at shape (1, 3, 1088, 1920)\n",
      "\n",
      "0: 1088x1920 23 players, 57.5ms\n",
      "Speed: 7.0ms preprocess, 57.5ms inference, 1.1ms postprocess per image at shape (1, 3, 1088, 1920)\n"
     ]
    },
    {
     "name": "stdout",
     "output_type": "stream",
     "text": [
      "574\n",
      "Saved: temp_task_folder/img1/000574.jpg\n",
      "575\n",
      "Saved: temp_task_folder/img1/000575.jpg\n"
     ]
    },
    {
     "name": "stderr",
     "output_type": "stream",
     "text": [
      "\n",
      "0: 1088x1920 23 players, 57.5ms\n",
      "Speed: 6.8ms preprocess, 57.5ms inference, 1.1ms postprocess per image at shape (1, 3, 1088, 1920)\n",
      "\n",
      "0: 1088x1920 23 players, 57.4ms\n",
      "Speed: 6.9ms preprocess, 57.4ms inference, 1.1ms postprocess per image at shape (1, 3, 1088, 1920)\n"
     ]
    },
    {
     "name": "stdout",
     "output_type": "stream",
     "text": [
      "576\n",
      "Saved: temp_task_folder/img1/000576.jpg\n",
      "577\n",
      "Saved: temp_task_folder/img1/000577.jpg\n"
     ]
    },
    {
     "name": "stderr",
     "output_type": "stream",
     "text": [
      "\n",
      "0: 1088x1920 23 players, 57.4ms\n",
      "Speed: 6.8ms preprocess, 57.4ms inference, 1.1ms postprocess per image at shape (1, 3, 1088, 1920)\n",
      "\n",
      "0: 1088x1920 23 players, 57.4ms\n",
      "Speed: 6.7ms preprocess, 57.4ms inference, 1.1ms postprocess per image at shape (1, 3, 1088, 1920)\n"
     ]
    },
    {
     "name": "stdout",
     "output_type": "stream",
     "text": [
      "578\n",
      "Saved: temp_task_folder/img1/000578.jpg\n",
      "579\n",
      "Saved: temp_task_folder/img1/000579.jpg\n"
     ]
    },
    {
     "name": "stderr",
     "output_type": "stream",
     "text": [
      "\n",
      "0: 1088x1920 23 players, 57.3ms\n",
      "Speed: 6.8ms preprocess, 57.3ms inference, 1.1ms postprocess per image at shape (1, 3, 1088, 1920)\n",
      "\n",
      "0: 1088x1920 23 players, 57.5ms\n",
      "Speed: 6.8ms preprocess, 57.5ms inference, 1.1ms postprocess per image at shape (1, 3, 1088, 1920)\n"
     ]
    },
    {
     "name": "stdout",
     "output_type": "stream",
     "text": [
      "580\n",
      "Saved: temp_task_folder/img1/000580.jpg\n",
      "581\n",
      "Saved: temp_task_folder/img1/000581.jpg\n"
     ]
    },
    {
     "name": "stderr",
     "output_type": "stream",
     "text": [
      "\n",
      "0: 1088x1920 23 players, 57.4ms\n",
      "Speed: 6.8ms preprocess, 57.4ms inference, 1.1ms postprocess per image at shape (1, 3, 1088, 1920)\n",
      "\n",
      "0: 1088x1920 23 players, 57.5ms\n",
      "Speed: 6.8ms preprocess, 57.5ms inference, 1.1ms postprocess per image at shape (1, 3, 1088, 1920)\n"
     ]
    },
    {
     "name": "stdout",
     "output_type": "stream",
     "text": [
      "582\n",
      "Saved: temp_task_folder/img1/000582.jpg\n",
      "583\n",
      "Saved: temp_task_folder/img1/000583.jpg\n"
     ]
    },
    {
     "name": "stderr",
     "output_type": "stream",
     "text": [
      "\n",
      "0: 1088x1920 1 ball, 23 players, 57.3ms\n",
      "Speed: 6.8ms preprocess, 57.3ms inference, 1.1ms postprocess per image at shape (1, 3, 1088, 1920)\n",
      "\n",
      "0: 1088x1920 23 players, 57.4ms\n",
      "Speed: 6.9ms preprocess, 57.4ms inference, 1.1ms postprocess per image at shape (1, 3, 1088, 1920)\n"
     ]
    },
    {
     "name": "stdout",
     "output_type": "stream",
     "text": [
      "584\n",
      "Saved: temp_task_folder/img1/000584.jpg\n",
      "585\n",
      "Saved: temp_task_folder/img1/000585.jpg\n"
     ]
    },
    {
     "name": "stderr",
     "output_type": "stream",
     "text": [
      "\n",
      "0: 1088x1920 23 players, 57.4ms\n",
      "Speed: 6.8ms preprocess, 57.4ms inference, 1.1ms postprocess per image at shape (1, 3, 1088, 1920)\n",
      "\n",
      "0: 1088x1920 23 players, 57.4ms\n",
      "Speed: 6.9ms preprocess, 57.4ms inference, 1.1ms postprocess per image at shape (1, 3, 1088, 1920)\n"
     ]
    },
    {
     "name": "stdout",
     "output_type": "stream",
     "text": [
      "586\n",
      "Saved: temp_task_folder/img1/000586.jpg\n",
      "587\n",
      "Saved: temp_task_folder/img1/000587.jpg\n"
     ]
    },
    {
     "name": "stderr",
     "output_type": "stream",
     "text": [
      "\n",
      "0: 1088x1920 24 players, 57.5ms\n",
      "Speed: 6.8ms preprocess, 57.5ms inference, 1.1ms postprocess per image at shape (1, 3, 1088, 1920)\n",
      "\n",
      "0: 1088x1920 23 players, 57.3ms\n",
      "Speed: 6.9ms preprocess, 57.3ms inference, 1.2ms postprocess per image at shape (1, 3, 1088, 1920)\n"
     ]
    },
    {
     "name": "stdout",
     "output_type": "stream",
     "text": [
      "588\n",
      "Saved: temp_task_folder/img1/000588.jpg\n",
      "589\n",
      "Saved: temp_task_folder/img1/000589.jpg\n"
     ]
    },
    {
     "name": "stderr",
     "output_type": "stream",
     "text": [
      "\n",
      "0: 1088x1920 23 players, 57.2ms\n",
      "Speed: 6.8ms preprocess, 57.2ms inference, 1.1ms postprocess per image at shape (1, 3, 1088, 1920)\n",
      "\n",
      "0: 1088x1920 23 players, 57.5ms\n",
      "Speed: 6.8ms preprocess, 57.5ms inference, 1.1ms postprocess per image at shape (1, 3, 1088, 1920)\n"
     ]
    },
    {
     "name": "stdout",
     "output_type": "stream",
     "text": [
      "590\n",
      "Saved: temp_task_folder/img1/000590.jpg\n",
      "591\n"
     ]
    },
    {
     "name": "stderr",
     "output_type": "stream",
     "text": [
      "\n",
      "0: 1088x1920 23 players, 57.2ms\n",
      "Speed: 6.8ms preprocess, 57.2ms inference, 1.1ms postprocess per image at shape (1, 3, 1088, 1920)\n"
     ]
    },
    {
     "name": "stdout",
     "output_type": "stream",
     "text": [
      "Saved: temp_task_folder/img1/000591.jpg\n",
      "592\n",
      "Saved: temp_task_folder/img1/000592.jpg\n"
     ]
    },
    {
     "name": "stderr",
     "output_type": "stream",
     "text": [
      "\n",
      "0: 1088x1920 1 ball, 23 players, 57.2ms\n",
      "Speed: 6.8ms preprocess, 57.2ms inference, 1.1ms postprocess per image at shape (1, 3, 1088, 1920)\n",
      "\n",
      "0: 1088x1920 3 balls, 23 players, 57.2ms\n",
      "Speed: 6.8ms preprocess, 57.2ms inference, 1.1ms postprocess per image at shape (1, 3, 1088, 1920)\n"
     ]
    },
    {
     "name": "stdout",
     "output_type": "stream",
     "text": [
      "593\n",
      "Saved: temp_task_folder/img1/000593.jpg\n",
      "594\n",
      "Saved: temp_task_folder/img1/000594.jpg\n"
     ]
    },
    {
     "name": "stderr",
     "output_type": "stream",
     "text": [
      "\n",
      "0: 1088x1920 23 players, 57.2ms\n",
      "Speed: 6.8ms preprocess, 57.2ms inference, 1.1ms postprocess per image at shape (1, 3, 1088, 1920)\n",
      "\n",
      "0: 1088x1920 23 players, 57.5ms\n",
      "Speed: 6.9ms preprocess, 57.5ms inference, 1.1ms postprocess per image at shape (1, 3, 1088, 1920)\n"
     ]
    },
    {
     "name": "stdout",
     "output_type": "stream",
     "text": [
      "595\n",
      "Saved: temp_task_folder/img1/000595.jpg\n",
      "596\n",
      "Saved: temp_task_folder/img1/000596.jpg\n"
     ]
    },
    {
     "name": "stderr",
     "output_type": "stream",
     "text": [
      "\n",
      "0: 1088x1920 23 players, 57.6ms\n",
      "Speed: 6.8ms preprocess, 57.6ms inference, 1.1ms postprocess per image at shape (1, 3, 1088, 1920)\n",
      "\n",
      "0: 1088x1920 23 players, 57.3ms\n",
      "Speed: 6.7ms preprocess, 57.3ms inference, 1.1ms postprocess per image at shape (1, 3, 1088, 1920)\n"
     ]
    },
    {
     "name": "stdout",
     "output_type": "stream",
     "text": [
      "597\n",
      "Saved: temp_task_folder/img1/000597.jpg\n",
      "598\n",
      "Saved: temp_task_folder/img1/000598.jpg\n"
     ]
    },
    {
     "name": "stderr",
     "output_type": "stream",
     "text": [
      "\n",
      "0: 1088x1920 23 players, 57.5ms\n",
      "Speed: 6.8ms preprocess, 57.5ms inference, 1.1ms postprocess per image at shape (1, 3, 1088, 1920)\n",
      "\n",
      "0: 1088x1920 23 players, 57.4ms\n",
      "Speed: 6.8ms preprocess, 57.4ms inference, 1.1ms postprocess per image at shape (1, 3, 1088, 1920)\n"
     ]
    },
    {
     "name": "stdout",
     "output_type": "stream",
     "text": [
      "599\n",
      "Saved: temp_task_folder/img1/000599.jpg\n",
      "600\n",
      "Saved: temp_task_folder/img1/000600.jpg\n"
     ]
    },
    {
     "name": "stderr",
     "output_type": "stream",
     "text": [
      "\n",
      "0: 1088x1920 1 ball, 23 players, 57.4ms\n",
      "Speed: 6.8ms preprocess, 57.4ms inference, 1.1ms postprocess per image at shape (1, 3, 1088, 1920)\n",
      "\n",
      "0: 1088x1920 1 ball, 23 players, 57.4ms\n",
      "Speed: 6.7ms preprocess, 57.4ms inference, 1.1ms postprocess per image at shape (1, 3, 1088, 1920)\n"
     ]
    },
    {
     "name": "stdout",
     "output_type": "stream",
     "text": [
      "601\n",
      "Saved: temp_task_folder/img1/000601.jpg\n",
      "602\n",
      "Saved: temp_task_folder/img1/000602.jpg\n"
     ]
    },
    {
     "name": "stderr",
     "output_type": "stream",
     "text": [
      "\n",
      "0: 1088x1920 1 ball, 23 players, 57.2ms\n",
      "Speed: 6.9ms preprocess, 57.2ms inference, 1.2ms postprocess per image at shape (1, 3, 1088, 1920)\n",
      "\n",
      "0: 1088x1920 1 ball, 23 players, 57.3ms\n",
      "Speed: 6.8ms preprocess, 57.3ms inference, 1.1ms postprocess per image at shape (1, 3, 1088, 1920)\n"
     ]
    },
    {
     "name": "stdout",
     "output_type": "stream",
     "text": [
      "603\n",
      "Saved: temp_task_folder/img1/000603.jpg\n",
      "604\n",
      "Saved: temp_task_folder/img1/000604.jpg\n"
     ]
    },
    {
     "name": "stderr",
     "output_type": "stream",
     "text": [
      "\n",
      "0: 1088x1920 1 ball, 23 players, 57.4ms\n",
      "Speed: 6.8ms preprocess, 57.4ms inference, 1.1ms postprocess per image at shape (1, 3, 1088, 1920)\n",
      "\n",
      "0: 1088x1920 1 ball, 24 players, 57.3ms\n",
      "Speed: 6.7ms preprocess, 57.3ms inference, 1.1ms postprocess per image at shape (1, 3, 1088, 1920)\n"
     ]
    },
    {
     "name": "stdout",
     "output_type": "stream",
     "text": [
      "605\n",
      "Saved: temp_task_folder/img1/000605.jpg\n",
      "606\n"
     ]
    },
    {
     "name": "stderr",
     "output_type": "stream",
     "text": [
      "\n",
      "0: 1088x1920 1 ball, 23 players, 57.3ms\n",
      "Speed: 6.8ms preprocess, 57.3ms inference, 1.1ms postprocess per image at shape (1, 3, 1088, 1920)\n"
     ]
    },
    {
     "name": "stdout",
     "output_type": "stream",
     "text": [
      "Saved: temp_task_folder/img1/000606.jpg\n",
      "607\n",
      "Saved: temp_task_folder/img1/000607.jpg\n"
     ]
    },
    {
     "name": "stderr",
     "output_type": "stream",
     "text": [
      "\n",
      "0: 1088x1920 1 ball, 23 players, 57.5ms\n",
      "Speed: 6.9ms preprocess, 57.5ms inference, 1.1ms postprocess per image at shape (1, 3, 1088, 1920)\n",
      "\n",
      "0: 1088x1920 1 ball, 23 players, 57.4ms\n",
      "Speed: 6.8ms preprocess, 57.4ms inference, 1.1ms postprocess per image at shape (1, 3, 1088, 1920)\n"
     ]
    },
    {
     "name": "stdout",
     "output_type": "stream",
     "text": [
      "608\n",
      "Saved: temp_task_folder/img1/000608.jpg\n",
      "609\n"
     ]
    },
    {
     "name": "stderr",
     "output_type": "stream",
     "text": [
      "\n",
      "0: 1088x1920 1 ball, 23 players, 65.1ms\n",
      "Speed: 6.8ms preprocess, 65.1ms inference, 1.2ms postprocess per image at shape (1, 3, 1088, 1920)\n"
     ]
    },
    {
     "name": "stdout",
     "output_type": "stream",
     "text": [
      "Saved: temp_task_folder/img1/000609.jpg\n",
      "610\n"
     ]
    },
    {
     "name": "stderr",
     "output_type": "stream",
     "text": [
      "\n",
      "0: 1088x1920 1 ball, 23 players, 57.3ms\n",
      "Speed: 6.9ms preprocess, 57.3ms inference, 1.1ms postprocess per image at shape (1, 3, 1088, 1920)\n"
     ]
    },
    {
     "name": "stdout",
     "output_type": "stream",
     "text": [
      "Saved: temp_task_folder/img1/000610.jpg\n",
      "611\n",
      "Saved: temp_task_folder/img1/000611.jpg\n"
     ]
    },
    {
     "name": "stderr",
     "output_type": "stream",
     "text": [
      "\n",
      "0: 1088x1920 1 ball, 23 players, 57.4ms\n",
      "Speed: 6.9ms preprocess, 57.4ms inference, 1.2ms postprocess per image at shape (1, 3, 1088, 1920)\n",
      "\n",
      "0: 1088x1920 1 ball, 23 players, 57.5ms\n",
      "Speed: 6.8ms preprocess, 57.5ms inference, 1.1ms postprocess per image at shape (1, 3, 1088, 1920)\n"
     ]
    },
    {
     "name": "stdout",
     "output_type": "stream",
     "text": [
      "612\n",
      "Saved: temp_task_folder/img1/000612.jpg\n"
     ]
    },
    {
     "name": "stderr",
     "output_type": "stream",
     "text": [
      "\n",
      "0: 1088x1920 1 ball, 23 players, 57.3ms\n",
      "Speed: 6.8ms preprocess, 57.3ms inference, 1.2ms postprocess per image at shape (1, 3, 1088, 1920)\n"
     ]
    },
    {
     "name": "stdout",
     "output_type": "stream",
     "text": [
      "613\n",
      "Saved: temp_task_folder/img1/000613.jpg\n",
      "614\n",
      "Saved: temp_task_folder/img1/000614.jpg\n"
     ]
    },
    {
     "name": "stderr",
     "output_type": "stream",
     "text": [
      "\n",
      "0: 1088x1920 1 ball, 23 players, 57.3ms\n",
      "Speed: 6.9ms preprocess, 57.3ms inference, 1.1ms postprocess per image at shape (1, 3, 1088, 1920)\n",
      "\n",
      "0: 1088x1920 1 ball, 23 players, 57.5ms\n",
      "Speed: 6.8ms preprocess, 57.5ms inference, 1.1ms postprocess per image at shape (1, 3, 1088, 1920)\n"
     ]
    },
    {
     "name": "stdout",
     "output_type": "stream",
     "text": [
      "615\n",
      "Saved: temp_task_folder/img1/000615.jpg\n",
      "616\n",
      "Saved: temp_task_folder/img1/000616.jpg\n"
     ]
    },
    {
     "name": "stderr",
     "output_type": "stream",
     "text": [
      "\n",
      "0: 1088x1920 1 ball, 23 players, 57.2ms\n",
      "Speed: 6.9ms preprocess, 57.2ms inference, 1.1ms postprocess per image at shape (1, 3, 1088, 1920)\n",
      "\n",
      "0: 1088x1920 1 ball, 23 players, 57.4ms\n",
      "Speed: 6.8ms preprocess, 57.4ms inference, 1.1ms postprocess per image at shape (1, 3, 1088, 1920)\n"
     ]
    },
    {
     "name": "stdout",
     "output_type": "stream",
     "text": [
      "617\n",
      "Saved: temp_task_folder/img1/000617.jpg\n",
      "618\n"
     ]
    },
    {
     "name": "stderr",
     "output_type": "stream",
     "text": [
      "\n",
      "0: 1088x1920 1 ball, 23 players, 57.4ms\n",
      "Speed: 6.9ms preprocess, 57.4ms inference, 1.1ms postprocess per image at shape (1, 3, 1088, 1920)\n"
     ]
    },
    {
     "name": "stdout",
     "output_type": "stream",
     "text": [
      "Saved: temp_task_folder/img1/000618.jpg\n",
      "619\n",
      "Saved: temp_task_folder/img1/000619.jpg\n"
     ]
    },
    {
     "name": "stderr",
     "output_type": "stream",
     "text": [
      "\n",
      "0: 1088x1920 1 ball, 23 players, 57.4ms\n",
      "Speed: 6.9ms preprocess, 57.4ms inference, 1.1ms postprocess per image at shape (1, 3, 1088, 1920)\n",
      "\n",
      "0: 1088x1920 1 ball, 23 players, 57.3ms\n",
      "Speed: 6.8ms preprocess, 57.3ms inference, 1.1ms postprocess per image at shape (1, 3, 1088, 1920)\n"
     ]
    },
    {
     "name": "stdout",
     "output_type": "stream",
     "text": [
      "620\n",
      "Saved: temp_task_folder/img1/000620.jpg\n",
      "621\n",
      "Saved: temp_task_folder/img1/000621.jpg\n"
     ]
    },
    {
     "name": "stderr",
     "output_type": "stream",
     "text": [
      "\n",
      "0: 1088x1920 1 ball, 23 players, 57.4ms\n",
      "Speed: 6.8ms preprocess, 57.4ms inference, 1.1ms postprocess per image at shape (1, 3, 1088, 1920)\n",
      "\n",
      "0: 1088x1920 1 ball, 23 players, 57.4ms\n",
      "Speed: 6.8ms preprocess, 57.4ms inference, 1.1ms postprocess per image at shape (1, 3, 1088, 1920)\n"
     ]
    },
    {
     "name": "stdout",
     "output_type": "stream",
     "text": [
      "622\n",
      "Saved: temp_task_folder/img1/000622.jpg\n",
      "623\n",
      "Saved: temp_task_folder/img1/000623.jpg\n"
     ]
    },
    {
     "name": "stderr",
     "output_type": "stream",
     "text": [
      "\n",
      "0: 1088x1920 1 ball, 23 players, 57.3ms\n",
      "Speed: 6.8ms preprocess, 57.3ms inference, 1.1ms postprocess per image at shape (1, 3, 1088, 1920)\n",
      "\n",
      "0: 1088x1920 1 ball, 23 players, 57.4ms\n",
      "Speed: 6.9ms preprocess, 57.4ms inference, 1.1ms postprocess per image at shape (1, 3, 1088, 1920)\n"
     ]
    },
    {
     "name": "stdout",
     "output_type": "stream",
     "text": [
      "624\n",
      "Saved: temp_task_folder/img1/000624.jpg\n",
      "625\n",
      "Saved: temp_task_folder/img1/000625.jpg\n"
     ]
    },
    {
     "name": "stderr",
     "output_type": "stream",
     "text": [
      "\n",
      "0: 1088x1920 1 ball, 24 players, 57.5ms\n",
      "Speed: 6.8ms preprocess, 57.5ms inference, 1.1ms postprocess per image at shape (1, 3, 1088, 1920)\n",
      "\n",
      "0: 1088x1920 1 ball, 23 players, 57.3ms\n",
      "Speed: 6.9ms preprocess, 57.3ms inference, 1.1ms postprocess per image at shape (1, 3, 1088, 1920)\n"
     ]
    },
    {
     "name": "stdout",
     "output_type": "stream",
     "text": [
      "626\n",
      "Saved: temp_task_folder/img1/000626.jpg\n",
      "627\n",
      "Saved: temp_task_folder/img1/000627.jpg\n"
     ]
    },
    {
     "name": "stderr",
     "output_type": "stream",
     "text": [
      "\n",
      "0: 1088x1920 1 ball, 23 players, 57.3ms\n",
      "Speed: 6.8ms preprocess, 57.3ms inference, 1.1ms postprocess per image at shape (1, 3, 1088, 1920)\n",
      "\n",
      "0: 1088x1920 1 ball, 23 players, 57.5ms\n",
      "Speed: 6.8ms preprocess, 57.5ms inference, 1.1ms postprocess per image at shape (1, 3, 1088, 1920)\n"
     ]
    },
    {
     "name": "stdout",
     "output_type": "stream",
     "text": [
      "628\n",
      "Saved: temp_task_folder/img1/000628.jpg\n",
      "629\n",
      "Saved: temp_task_folder/img1/000629.jpg\n"
     ]
    },
    {
     "name": "stderr",
     "output_type": "stream",
     "text": [
      "\n",
      "0: 1088x1920 1 ball, 23 players, 57.4ms\n",
      "Speed: 6.8ms preprocess, 57.4ms inference, 1.1ms postprocess per image at shape (1, 3, 1088, 1920)\n",
      "\n",
      "0: 1088x1920 1 ball, 23 players, 57.3ms\n",
      "Speed: 6.8ms preprocess, 57.3ms inference, 1.1ms postprocess per image at shape (1, 3, 1088, 1920)\n"
     ]
    },
    {
     "name": "stdout",
     "output_type": "stream",
     "text": [
      "630\n",
      "Saved: temp_task_folder/img1/000630.jpg\n",
      "631\n",
      "Saved: temp_task_folder/img1/000631.jpg\n"
     ]
    },
    {
     "name": "stderr",
     "output_type": "stream",
     "text": [
      "\n",
      "0: 1088x1920 1 ball, 23 players, 57.3ms\n",
      "Speed: 6.8ms preprocess, 57.3ms inference, 1.1ms postprocess per image at shape (1, 3, 1088, 1920)\n",
      "\n",
      "0: 1088x1920 1 ball, 23 players, 57.3ms\n",
      "Speed: 6.8ms preprocess, 57.3ms inference, 1.1ms postprocess per image at shape (1, 3, 1088, 1920)\n"
     ]
    },
    {
     "name": "stdout",
     "output_type": "stream",
     "text": [
      "632\n",
      "Saved: temp_task_folder/img1/000632.jpg\n",
      "633\n",
      "Saved: temp_task_folder/img1/000633.jpg\n"
     ]
    },
    {
     "name": "stderr",
     "output_type": "stream",
     "text": [
      "\n",
      "0: 1088x1920 23 players, 57.6ms\n",
      "Speed: 6.9ms preprocess, 57.6ms inference, 1.1ms postprocess per image at shape (1, 3, 1088, 1920)\n",
      "\n",
      "0: 1088x1920 1 ball, 24 players, 57.4ms\n",
      "Speed: 6.8ms preprocess, 57.4ms inference, 1.1ms postprocess per image at shape (1, 3, 1088, 1920)\n"
     ]
    },
    {
     "name": "stdout",
     "output_type": "stream",
     "text": [
      "634\n",
      "Saved: temp_task_folder/img1/000634.jpg\n",
      "635\n",
      "Saved: temp_task_folder/img1/000635.jpg\n"
     ]
    },
    {
     "name": "stderr",
     "output_type": "stream",
     "text": [
      "\n",
      "0: 1088x1920 1 ball, 24 players, 57.2ms\n",
      "Speed: 6.8ms preprocess, 57.2ms inference, 1.1ms postprocess per image at shape (1, 3, 1088, 1920)\n",
      "\n",
      "0: 1088x1920 1 ball, 23 players, 57.4ms\n",
      "Speed: 6.8ms preprocess, 57.4ms inference, 1.1ms postprocess per image at shape (1, 3, 1088, 1920)\n"
     ]
    },
    {
     "name": "stdout",
     "output_type": "stream",
     "text": [
      "636\n",
      "Saved: temp_task_folder/img1/000636.jpg\n",
      "637\n",
      "Saved: temp_task_folder/img1/000637.jpg\n"
     ]
    },
    {
     "name": "stderr",
     "output_type": "stream",
     "text": [
      "\n",
      "0: 1088x1920 1 ball, 24 players, 57.3ms\n",
      "Speed: 6.8ms preprocess, 57.3ms inference, 1.1ms postprocess per image at shape (1, 3, 1088, 1920)\n",
      "\n",
      "0: 1088x1920 1 ball, 24 players, 57.5ms\n",
      "Speed: 6.8ms preprocess, 57.5ms inference, 1.1ms postprocess per image at shape (1, 3, 1088, 1920)\n"
     ]
    },
    {
     "name": "stdout",
     "output_type": "stream",
     "text": [
      "638\n",
      "Saved: temp_task_folder/img1/000638.jpg\n",
      "639\n",
      "Saved: temp_task_folder/img1/000639.jpg\n"
     ]
    },
    {
     "name": "stderr",
     "output_type": "stream",
     "text": [
      "\n",
      "0: 1088x1920 1 ball, 24 players, 57.3ms\n",
      "Speed: 6.9ms preprocess, 57.3ms inference, 1.1ms postprocess per image at shape (1, 3, 1088, 1920)\n",
      "\n",
      "0: 1088x1920 1 ball, 24 players, 57.3ms\n",
      "Speed: 6.8ms preprocess, 57.3ms inference, 1.1ms postprocess per image at shape (1, 3, 1088, 1920)\n"
     ]
    },
    {
     "name": "stdout",
     "output_type": "stream",
     "text": [
      "640\n",
      "Saved: temp_task_folder/img1/000640.jpg\n",
      "641\n",
      "Saved: temp_task_folder/img1/000641.jpg\n"
     ]
    },
    {
     "name": "stderr",
     "output_type": "stream",
     "text": [
      "\n",
      "0: 1088x1920 1 ball, 23 players, 57.2ms\n",
      "Speed: 6.8ms preprocess, 57.2ms inference, 1.1ms postprocess per image at shape (1, 3, 1088, 1920)\n",
      "\n",
      "0: 1088x1920 1 ball, 22 players, 57.4ms\n",
      "Speed: 6.8ms preprocess, 57.4ms inference, 1.1ms postprocess per image at shape (1, 3, 1088, 1920)\n"
     ]
    },
    {
     "name": "stdout",
     "output_type": "stream",
     "text": [
      "642\n",
      "Saved: temp_task_folder/img1/000642.jpg\n",
      "643\n",
      "Saved: temp_task_folder/img1/000643.jpg\n"
     ]
    },
    {
     "name": "stderr",
     "output_type": "stream",
     "text": [
      "\n",
      "0: 1088x1920 1 ball, 23 players, 57.4ms\n",
      "Speed: 6.9ms preprocess, 57.4ms inference, 1.1ms postprocess per image at shape (1, 3, 1088, 1920)\n",
      "\n",
      "0: 1088x1920 1 ball, 24 players, 57.3ms\n",
      "Speed: 6.9ms preprocess, 57.3ms inference, 1.1ms postprocess per image at shape (1, 3, 1088, 1920)\n"
     ]
    },
    {
     "name": "stdout",
     "output_type": "stream",
     "text": [
      "644\n",
      "Saved: temp_task_folder/img1/000644.jpg\n",
      "645\n",
      "Saved: temp_task_folder/img1/000645.jpg\n"
     ]
    },
    {
     "name": "stderr",
     "output_type": "stream",
     "text": [
      "\n",
      "0: 1088x1920 1 ball, 23 players, 57.4ms\n",
      "Speed: 6.8ms preprocess, 57.4ms inference, 1.1ms postprocess per image at shape (1, 3, 1088, 1920)\n",
      "\n",
      "0: 1088x1920 1 ball, 24 players, 57.4ms\n",
      "Speed: 6.8ms preprocess, 57.4ms inference, 1.1ms postprocess per image at shape (1, 3, 1088, 1920)\n"
     ]
    },
    {
     "name": "stdout",
     "output_type": "stream",
     "text": [
      "646\n",
      "Saved: temp_task_folder/img1/000646.jpg\n",
      "647\n",
      "Saved: temp_task_folder/img1/000647.jpg\n"
     ]
    },
    {
     "name": "stderr",
     "output_type": "stream",
     "text": [
      "\n",
      "0: 1088x1920 1 ball, 24 players, 57.2ms\n",
      "Speed: 6.9ms preprocess, 57.2ms inference, 1.1ms postprocess per image at shape (1, 3, 1088, 1920)\n",
      "\n",
      "0: 1088x1920 1 ball, 24 players, 57.3ms\n",
      "Speed: 6.8ms preprocess, 57.3ms inference, 1.1ms postprocess per image at shape (1, 3, 1088, 1920)\n"
     ]
    },
    {
     "name": "stdout",
     "output_type": "stream",
     "text": [
      "648\n",
      "Saved: temp_task_folder/img1/000648.jpg\n",
      "649\n",
      "Saved: temp_task_folder/img1/000649.jpg\n"
     ]
    },
    {
     "name": "stderr",
     "output_type": "stream",
     "text": [
      "\n",
      "0: 1088x1920 1 ball, 24 players, 57.3ms\n",
      "Speed: 6.9ms preprocess, 57.3ms inference, 1.1ms postprocess per image at shape (1, 3, 1088, 1920)\n",
      "\n",
      "0: 1088x1920 1 ball, 24 players, 57.5ms\n",
      "Speed: 6.9ms preprocess, 57.5ms inference, 1.1ms postprocess per image at shape (1, 3, 1088, 1920)\n"
     ]
    },
    {
     "name": "stdout",
     "output_type": "stream",
     "text": [
      "650\n",
      "Saved: temp_task_folder/img1/000650.jpg\n",
      "651\n",
      "Saved: temp_task_folder/img1/000651.jpg\n"
     ]
    },
    {
     "name": "stderr",
     "output_type": "stream",
     "text": [
      "\n",
      "0: 1088x1920 1 ball, 23 players, 57.5ms\n",
      "Speed: 6.8ms preprocess, 57.5ms inference, 1.1ms postprocess per image at shape (1, 3, 1088, 1920)\n",
      "\n",
      "0: 1088x1920 1 ball, 23 players, 57.5ms\n",
      "Speed: 6.8ms preprocess, 57.5ms inference, 1.1ms postprocess per image at shape (1, 3, 1088, 1920)\n"
     ]
    },
    {
     "name": "stdout",
     "output_type": "stream",
     "text": [
      "652\n",
      "Saved: temp_task_folder/img1/000652.jpg\n",
      "653\n",
      "Saved: temp_task_folder/img1/000653.jpg\n"
     ]
    },
    {
     "name": "stderr",
     "output_type": "stream",
     "text": [
      "\n",
      "0: 1088x1920 1 ball, 23 players, 57.3ms\n",
      "Speed: 6.9ms preprocess, 57.3ms inference, 1.1ms postprocess per image at shape (1, 3, 1088, 1920)\n",
      "\n",
      "0: 1088x1920 1 ball, 23 players, 57.5ms\n",
      "Speed: 6.9ms preprocess, 57.5ms inference, 1.1ms postprocess per image at shape (1, 3, 1088, 1920)\n"
     ]
    },
    {
     "name": "stdout",
     "output_type": "stream",
     "text": [
      "654\n",
      "Saved: temp_task_folder/img1/000654.jpg\n",
      "655\n",
      "Saved: temp_task_folder/img1/000655.jpg\n"
     ]
    },
    {
     "name": "stderr",
     "output_type": "stream",
     "text": [
      "\n",
      "0: 1088x1920 1 ball, 23 players, 57.4ms\n",
      "Speed: 6.8ms preprocess, 57.4ms inference, 1.1ms postprocess per image at shape (1, 3, 1088, 1920)\n",
      "\n",
      "0: 1088x1920 1 ball, 23 players, 57.3ms\n",
      "Speed: 6.9ms preprocess, 57.3ms inference, 1.1ms postprocess per image at shape (1, 3, 1088, 1920)\n"
     ]
    },
    {
     "name": "stdout",
     "output_type": "stream",
     "text": [
      "656\n",
      "Saved: temp_task_folder/img1/000656.jpg\n",
      "657\n",
      "Saved: temp_task_folder/img1/000657.jpg\n"
     ]
    },
    {
     "name": "stderr",
     "output_type": "stream",
     "text": [
      "\n",
      "0: 1088x1920 1 ball, 23 players, 57.4ms\n",
      "Speed: 6.8ms preprocess, 57.4ms inference, 1.1ms postprocess per image at shape (1, 3, 1088, 1920)\n",
      "\n",
      "0: 1088x1920 1 ball, 23 players, 57.1ms\n",
      "Speed: 6.8ms preprocess, 57.1ms inference, 1.1ms postprocess per image at shape (1, 3, 1088, 1920)\n"
     ]
    },
    {
     "name": "stdout",
     "output_type": "stream",
     "text": [
      "658\n",
      "Saved: temp_task_folder/img1/000658.jpg\n",
      "659\n",
      "Saved: temp_task_folder/img1/000659.jpg\n"
     ]
    },
    {
     "name": "stderr",
     "output_type": "stream",
     "text": [
      "\n",
      "0: 1088x1920 1 ball, 23 players, 57.4ms\n",
      "Speed: 6.9ms preprocess, 57.4ms inference, 1.1ms postprocess per image at shape (1, 3, 1088, 1920)\n",
      "\n",
      "0: 1088x1920 1 ball, 23 players, 57.5ms\n",
      "Speed: 6.8ms preprocess, 57.5ms inference, 1.1ms postprocess per image at shape (1, 3, 1088, 1920)\n"
     ]
    },
    {
     "name": "stdout",
     "output_type": "stream",
     "text": [
      "660\n",
      "Saved: temp_task_folder/img1/000660.jpg\n",
      "661\n",
      "Saved: temp_task_folder/img1/000661.jpg\n"
     ]
    },
    {
     "name": "stderr",
     "output_type": "stream",
     "text": [
      "\n",
      "0: 1088x1920 1 ball, 23 players, 57.5ms\n",
      "Speed: 6.8ms preprocess, 57.5ms inference, 1.1ms postprocess per image at shape (1, 3, 1088, 1920)\n",
      "\n",
      "0: 1088x1920 1 ball, 23 players, 57.4ms\n",
      "Speed: 6.9ms preprocess, 57.4ms inference, 1.2ms postprocess per image at shape (1, 3, 1088, 1920)\n"
     ]
    },
    {
     "name": "stdout",
     "output_type": "stream",
     "text": [
      "662\n",
      "Saved: temp_task_folder/img1/000662.jpg\n",
      "663\n",
      "Saved: temp_task_folder/img1/000663.jpg\n"
     ]
    },
    {
     "name": "stderr",
     "output_type": "stream",
     "text": [
      "\n",
      "0: 1088x1920 1 ball, 23 players, 57.4ms\n",
      "Speed: 7.3ms preprocess, 57.4ms inference, 1.1ms postprocess per image at shape (1, 3, 1088, 1920)\n",
      "\n",
      "0: 1088x1920 1 ball, 23 players, 57.5ms\n",
      "Speed: 6.9ms preprocess, 57.5ms inference, 1.1ms postprocess per image at shape (1, 3, 1088, 1920)\n"
     ]
    },
    {
     "name": "stdout",
     "output_type": "stream",
     "text": [
      "664\n",
      "Saved: temp_task_folder/img1/000664.jpg\n",
      "665\n",
      "Saved: temp_task_folder/img1/000665.jpg\n"
     ]
    },
    {
     "name": "stderr",
     "output_type": "stream",
     "text": [
      "\n",
      "0: 1088x1920 1 ball, 23 players, 57.3ms\n",
      "Speed: 6.9ms preprocess, 57.3ms inference, 1.1ms postprocess per image at shape (1, 3, 1088, 1920)\n",
      "\n",
      "0: 1088x1920 1 ball, 23 players, 57.3ms\n",
      "Speed: 6.8ms preprocess, 57.3ms inference, 1.1ms postprocess per image at shape (1, 3, 1088, 1920)\n"
     ]
    },
    {
     "name": "stdout",
     "output_type": "stream",
     "text": [
      "666\n",
      "Saved: temp_task_folder/img1/000666.jpg\n",
      "667\n",
      "Saved: temp_task_folder/img1/000667.jpg\n"
     ]
    },
    {
     "name": "stderr",
     "output_type": "stream",
     "text": [
      "\n",
      "0: 1088x1920 1 ball, 23 players, 57.3ms\n",
      "Speed: 6.9ms preprocess, 57.3ms inference, 1.1ms postprocess per image at shape (1, 3, 1088, 1920)\n",
      "\n",
      "0: 1088x1920 1 ball, 23 players, 57.4ms\n",
      "Speed: 6.9ms preprocess, 57.4ms inference, 1.1ms postprocess per image at shape (1, 3, 1088, 1920)\n"
     ]
    },
    {
     "name": "stdout",
     "output_type": "stream",
     "text": [
      "668\n",
      "Saved: temp_task_folder/img1/000668.jpg\n",
      "669\n",
      "Saved: temp_task_folder/img1/000669.jpg\n"
     ]
    },
    {
     "name": "stderr",
     "output_type": "stream",
     "text": [
      "\n",
      "0: 1088x1920 1 ball, 23 players, 57.2ms\n",
      "Speed: 6.8ms preprocess, 57.2ms inference, 1.1ms postprocess per image at shape (1, 3, 1088, 1920)\n",
      "\n",
      "0: 1088x1920 1 ball, 23 players, 57.3ms\n",
      "Speed: 6.9ms preprocess, 57.3ms inference, 1.1ms postprocess per image at shape (1, 3, 1088, 1920)\n"
     ]
    },
    {
     "name": "stdout",
     "output_type": "stream",
     "text": [
      "670\n",
      "Saved: temp_task_folder/img1/000670.jpg\n",
      "671\n",
      "Saved: temp_task_folder/img1/000671.jpg\n"
     ]
    },
    {
     "name": "stderr",
     "output_type": "stream",
     "text": [
      "\n",
      "0: 1088x1920 1 ball, 23 players, 57.4ms\n",
      "Speed: 6.8ms preprocess, 57.4ms inference, 1.1ms postprocess per image at shape (1, 3, 1088, 1920)\n",
      "\n",
      "0: 1088x1920 1 ball, 23 players, 57.4ms\n",
      "Speed: 6.8ms preprocess, 57.4ms inference, 1.1ms postprocess per image at shape (1, 3, 1088, 1920)\n"
     ]
    },
    {
     "name": "stdout",
     "output_type": "stream",
     "text": [
      "672\n",
      "Saved: temp_task_folder/img1/000672.jpg\n",
      "673\n",
      "Saved: temp_task_folder/img1/000673.jpg\n"
     ]
    },
    {
     "name": "stderr",
     "output_type": "stream",
     "text": [
      "\n",
      "0: 1088x1920 1 ball, 23 players, 57.4ms\n",
      "Speed: 6.8ms preprocess, 57.4ms inference, 1.1ms postprocess per image at shape (1, 3, 1088, 1920)\n",
      "\n",
      "0: 1088x1920 1 ball, 23 players, 57.5ms\n",
      "Speed: 6.8ms preprocess, 57.5ms inference, 1.1ms postprocess per image at shape (1, 3, 1088, 1920)\n"
     ]
    },
    {
     "name": "stdout",
     "output_type": "stream",
     "text": [
      "674\n",
      "Saved: temp_task_folder/img1/000674.jpg\n",
      "675\n",
      "Saved: temp_task_folder/img1/000675.jpg\n"
     ]
    },
    {
     "name": "stderr",
     "output_type": "stream",
     "text": [
      "\n",
      "0: 1088x1920 1 ball, 23 players, 57.5ms\n",
      "Speed: 6.8ms preprocess, 57.5ms inference, 1.1ms postprocess per image at shape (1, 3, 1088, 1920)\n",
      "\n",
      "0: 1088x1920 1 ball, 23 players, 57.2ms\n",
      "Speed: 6.9ms preprocess, 57.2ms inference, 1.1ms postprocess per image at shape (1, 3, 1088, 1920)\n"
     ]
    },
    {
     "name": "stdout",
     "output_type": "stream",
     "text": [
      "676\n",
      "Saved: temp_task_folder/img1/000676.jpg\n",
      "677\n",
      "Saved: temp_task_folder/img1/000677.jpg\n"
     ]
    },
    {
     "name": "stderr",
     "output_type": "stream",
     "text": [
      "\n",
      "0: 1088x1920 1 ball, 23 players, 57.3ms\n",
      "Speed: 6.8ms preprocess, 57.3ms inference, 1.1ms postprocess per image at shape (1, 3, 1088, 1920)\n",
      "\n",
      "0: 1088x1920 1 ball, 23 players, 57.4ms\n",
      "Speed: 6.8ms preprocess, 57.4ms inference, 1.1ms postprocess per image at shape (1, 3, 1088, 1920)\n"
     ]
    },
    {
     "name": "stdout",
     "output_type": "stream",
     "text": [
      "678\n",
      "Saved: temp_task_folder/img1/000678.jpg\n",
      "679\n",
      "Saved: temp_task_folder/img1/000679.jpg\n"
     ]
    },
    {
     "name": "stderr",
     "output_type": "stream",
     "text": [
      "\n",
      "0: 1088x1920 1 ball, 22 players, 57.5ms\n",
      "Speed: 6.8ms preprocess, 57.5ms inference, 1.1ms postprocess per image at shape (1, 3, 1088, 1920)\n",
      "\n",
      "0: 1088x1920 1 ball, 22 players, 57.4ms\n",
      "Speed: 6.8ms preprocess, 57.4ms inference, 1.1ms postprocess per image at shape (1, 3, 1088, 1920)\n"
     ]
    },
    {
     "name": "stdout",
     "output_type": "stream",
     "text": [
      "680\n",
      "Saved: temp_task_folder/img1/000680.jpg\n",
      "681\n",
      "Saved: temp_task_folder/img1/000681.jpg\n"
     ]
    },
    {
     "name": "stderr",
     "output_type": "stream",
     "text": [
      "\n",
      "0: 1088x1920 1 ball, 22 players, 57.2ms\n",
      "Speed: 6.8ms preprocess, 57.2ms inference, 1.1ms postprocess per image at shape (1, 3, 1088, 1920)\n",
      "\n",
      "0: 1088x1920 1 ball, 22 players, 57.4ms\n",
      "Speed: 6.9ms preprocess, 57.4ms inference, 1.1ms postprocess per image at shape (1, 3, 1088, 1920)\n"
     ]
    },
    {
     "name": "stdout",
     "output_type": "stream",
     "text": [
      "682\n",
      "Saved: temp_task_folder/img1/000682.jpg\n",
      "683\n",
      "Saved: temp_task_folder/img1/000683.jpg\n"
     ]
    },
    {
     "name": "stderr",
     "output_type": "stream",
     "text": [
      "\n",
      "0: 1088x1920 1 ball, 22 players, 57.3ms\n",
      "Speed: 6.8ms preprocess, 57.3ms inference, 1.2ms postprocess per image at shape (1, 3, 1088, 1920)\n",
      "\n",
      "0: 1088x1920 1 ball, 22 players, 57.5ms\n",
      "Speed: 6.8ms preprocess, 57.5ms inference, 1.1ms postprocess per image at shape (1, 3, 1088, 1920)\n"
     ]
    },
    {
     "name": "stdout",
     "output_type": "stream",
     "text": [
      "684\n",
      "Saved: temp_task_folder/img1/000684.jpg\n",
      "685\n",
      "Saved: temp_task_folder/img1/000685.jpg\n"
     ]
    },
    {
     "name": "stderr",
     "output_type": "stream",
     "text": [
      "\n",
      "0: 1088x1920 22 players, 57.5ms\n",
      "Speed: 6.8ms preprocess, 57.5ms inference, 1.1ms postprocess per image at shape (1, 3, 1088, 1920)\n",
      "\n",
      "0: 1088x1920 22 players, 57.5ms\n",
      "Speed: 6.8ms preprocess, 57.5ms inference, 1.1ms postprocess per image at shape (1, 3, 1088, 1920)\n"
     ]
    },
    {
     "name": "stdout",
     "output_type": "stream",
     "text": [
      "686\n",
      "Saved: temp_task_folder/img1/000686.jpg\n",
      "687\n",
      "Saved: temp_task_folder/img1/000687.jpg\n"
     ]
    },
    {
     "name": "stderr",
     "output_type": "stream",
     "text": [
      "\n",
      "0: 1088x1920 23 players, 57.4ms\n",
      "Speed: 6.7ms preprocess, 57.4ms inference, 1.2ms postprocess per image at shape (1, 3, 1088, 1920)\n",
      "\n",
      "0: 1088x1920 22 players, 57.4ms\n",
      "Speed: 6.8ms preprocess, 57.4ms inference, 1.1ms postprocess per image at shape (1, 3, 1088, 1920)\n"
     ]
    },
    {
     "name": "stdout",
     "output_type": "stream",
     "text": [
      "688\n",
      "Saved: temp_task_folder/img1/000688.jpg\n",
      "689\n",
      "Saved: temp_task_folder/img1/000689.jpg\n"
     ]
    },
    {
     "name": "stderr",
     "output_type": "stream",
     "text": [
      "\n",
      "0: 1088x1920 22 players, 57.3ms\n",
      "Speed: 6.8ms preprocess, 57.3ms inference, 1.1ms postprocess per image at shape (1, 3, 1088, 1920)\n",
      "\n",
      "0: 1088x1920 22 players, 57.4ms\n",
      "Speed: 6.8ms preprocess, 57.4ms inference, 1.1ms postprocess per image at shape (1, 3, 1088, 1920)\n"
     ]
    },
    {
     "name": "stdout",
     "output_type": "stream",
     "text": [
      "690\n",
      "Saved: temp_task_folder/img1/000690.jpg\n",
      "691\n",
      "Saved: temp_task_folder/img1/000691.jpg\n"
     ]
    },
    {
     "name": "stderr",
     "output_type": "stream",
     "text": [
      "\n",
      "0: 1088x1920 22 players, 57.4ms\n",
      "Speed: 6.8ms preprocess, 57.4ms inference, 1.1ms postprocess per image at shape (1, 3, 1088, 1920)\n",
      "\n",
      "0: 1088x1920 22 players, 57.4ms\n",
      "Speed: 6.8ms preprocess, 57.4ms inference, 1.1ms postprocess per image at shape (1, 3, 1088, 1920)\n"
     ]
    },
    {
     "name": "stdout",
     "output_type": "stream",
     "text": [
      "692\n",
      "Saved: temp_task_folder/img1/000692.jpg\n",
      "693\n",
      "Saved: temp_task_folder/img1/000693.jpg\n"
     ]
    },
    {
     "name": "stderr",
     "output_type": "stream",
     "text": [
      "\n",
      "0: 1088x1920 22 players, 57.5ms\n",
      "Speed: 6.8ms preprocess, 57.5ms inference, 1.1ms postprocess per image at shape (1, 3, 1088, 1920)\n",
      "\n",
      "0: 1088x1920 22 players, 57.4ms\n",
      "Speed: 6.9ms preprocess, 57.4ms inference, 1.1ms postprocess per image at shape (1, 3, 1088, 1920)\n"
     ]
    },
    {
     "name": "stdout",
     "output_type": "stream",
     "text": [
      "694\n",
      "Saved: temp_task_folder/img1/000694.jpg\n",
      "695\n",
      "Saved: temp_task_folder/img1/000695.jpg\n"
     ]
    },
    {
     "name": "stderr",
     "output_type": "stream",
     "text": [
      "\n",
      "0: 1088x1920 22 players, 57.2ms\n",
      "Speed: 6.8ms preprocess, 57.2ms inference, 1.1ms postprocess per image at shape (1, 3, 1088, 1920)\n",
      "\n",
      "0: 1088x1920 22 players, 57.3ms\n",
      "Speed: 6.9ms preprocess, 57.3ms inference, 1.1ms postprocess per image at shape (1, 3, 1088, 1920)\n"
     ]
    },
    {
     "name": "stdout",
     "output_type": "stream",
     "text": [
      "696\n",
      "Saved: temp_task_folder/img1/000696.jpg\n",
      "697\n",
      "Saved: temp_task_folder/img1/000697.jpg\n"
     ]
    },
    {
     "name": "stderr",
     "output_type": "stream",
     "text": [
      "\n",
      "0: 1088x1920 22 players, 57.4ms\n",
      "Speed: 6.8ms preprocess, 57.4ms inference, 1.1ms postprocess per image at shape (1, 3, 1088, 1920)\n",
      "\n",
      "0: 1088x1920 22 players, 57.3ms\n",
      "Speed: 6.8ms preprocess, 57.3ms inference, 1.1ms postprocess per image at shape (1, 3, 1088, 1920)\n"
     ]
    },
    {
     "name": "stdout",
     "output_type": "stream",
     "text": [
      "698\n",
      "Saved: temp_task_folder/img1/000698.jpg\n",
      "699\n",
      "Saved: temp_task_folder/img1/000699.jpg\n"
     ]
    },
    {
     "name": "stderr",
     "output_type": "stream",
     "text": [
      "\n",
      "0: 1088x1920 22 players, 57.5ms\n",
      "Speed: 6.8ms preprocess, 57.5ms inference, 1.2ms postprocess per image at shape (1, 3, 1088, 1920)\n",
      "\n",
      "0: 1088x1920 1 ball, 23 players, 57.5ms\n",
      "Speed: 6.8ms preprocess, 57.5ms inference, 1.1ms postprocess per image at shape (1, 3, 1088, 1920)\n"
     ]
    },
    {
     "name": "stdout",
     "output_type": "stream",
     "text": [
      "700\n",
      "Saved: temp_task_folder/img1/000700.jpg\n",
      "701\n",
      "Saved: temp_task_folder/img1/000701.jpg\n"
     ]
    },
    {
     "name": "stderr",
     "output_type": "stream",
     "text": [
      "\n",
      "0: 1088x1920 23 players, 57.3ms\n",
      "Speed: 6.8ms preprocess, 57.3ms inference, 1.1ms postprocess per image at shape (1, 3, 1088, 1920)\n",
      "\n",
      "0: 1088x1920 23 players, 57.5ms\n",
      "Speed: 6.9ms preprocess, 57.5ms inference, 1.1ms postprocess per image at shape (1, 3, 1088, 1920)\n"
     ]
    },
    {
     "name": "stdout",
     "output_type": "stream",
     "text": [
      "702\n",
      "Saved: temp_task_folder/img1/000702.jpg\n",
      "703\n",
      "Saved: temp_task_folder/img1/000703.jpg\n"
     ]
    },
    {
     "name": "stderr",
     "output_type": "stream",
     "text": [
      "\n",
      "0: 1088x1920 23 players, 57.5ms\n",
      "Speed: 6.8ms preprocess, 57.5ms inference, 1.1ms postprocess per image at shape (1, 3, 1088, 1920)\n",
      "\n",
      "0: 1088x1920 23 players, 57.4ms\n",
      "Speed: 6.9ms preprocess, 57.4ms inference, 1.1ms postprocess per image at shape (1, 3, 1088, 1920)\n"
     ]
    },
    {
     "name": "stdout",
     "output_type": "stream",
     "text": [
      "704\n",
      "Saved: temp_task_folder/img1/000704.jpg\n",
      "705\n",
      "Saved: temp_task_folder/img1/000705.jpg\n"
     ]
    },
    {
     "name": "stderr",
     "output_type": "stream",
     "text": [
      "\n",
      "0: 1088x1920 23 players, 57.5ms\n",
      "Speed: 6.9ms preprocess, 57.5ms inference, 1.1ms postprocess per image at shape (1, 3, 1088, 1920)\n",
      "\n",
      "0: 1088x1920 23 players, 57.1ms\n",
      "Speed: 6.8ms preprocess, 57.1ms inference, 1.1ms postprocess per image at shape (1, 3, 1088, 1920)\n"
     ]
    },
    {
     "name": "stdout",
     "output_type": "stream",
     "text": [
      "706\n",
      "Saved: temp_task_folder/img1/000706.jpg\n",
      "707\n",
      "Saved: temp_task_folder/img1/000707.jpg\n"
     ]
    },
    {
     "name": "stderr",
     "output_type": "stream",
     "text": [
      "\n",
      "0: 1088x1920 23 players, 57.3ms\n",
      "Speed: 6.9ms preprocess, 57.3ms inference, 1.1ms postprocess per image at shape (1, 3, 1088, 1920)\n",
      "\n",
      "0: 1088x1920 23 players, 57.5ms\n",
      "Speed: 6.8ms preprocess, 57.5ms inference, 1.1ms postprocess per image at shape (1, 3, 1088, 1920)\n"
     ]
    },
    {
     "name": "stdout",
     "output_type": "stream",
     "text": [
      "708\n",
      "Saved: temp_task_folder/img1/000708.jpg\n",
      "709\n",
      "Saved: temp_task_folder/img1/000709.jpg\n"
     ]
    },
    {
     "name": "stderr",
     "output_type": "stream",
     "text": [
      "\n",
      "0: 1088x1920 23 players, 57.2ms\n",
      "Speed: 6.9ms preprocess, 57.2ms inference, 1.1ms postprocess per image at shape (1, 3, 1088, 1920)\n",
      "\n",
      "0: 1088x1920 23 players, 57.4ms\n",
      "Speed: 6.9ms preprocess, 57.4ms inference, 1.1ms postprocess per image at shape (1, 3, 1088, 1920)\n"
     ]
    },
    {
     "name": "stdout",
     "output_type": "stream",
     "text": [
      "710\n",
      "Saved: temp_task_folder/img1/000710.jpg\n",
      "711\n",
      "Saved: temp_task_folder/img1/000711.jpg\n"
     ]
    },
    {
     "name": "stderr",
     "output_type": "stream",
     "text": [
      "\n",
      "0: 1088x1920 23 players, 57.5ms\n",
      "Speed: 7.0ms preprocess, 57.5ms inference, 1.1ms postprocess per image at shape (1, 3, 1088, 1920)\n",
      "\n",
      "0: 1088x1920 23 players, 57.2ms\n",
      "Speed: 6.8ms preprocess, 57.2ms inference, 1.1ms postprocess per image at shape (1, 3, 1088, 1920)\n"
     ]
    },
    {
     "name": "stdout",
     "output_type": "stream",
     "text": [
      "712\n",
      "Saved: temp_task_folder/img1/000712.jpg\n",
      "713\n",
      "Saved: temp_task_folder/img1/000713.jpg\n"
     ]
    },
    {
     "name": "stderr",
     "output_type": "stream",
     "text": [
      "\n",
      "0: 1088x1920 1 ball, 23 players, 57.5ms\n",
      "Speed: 6.8ms preprocess, 57.5ms inference, 1.1ms postprocess per image at shape (1, 3, 1088, 1920)\n",
      "\n",
      "0: 1088x1920 1 ball, 23 players, 57.2ms\n",
      "Speed: 6.8ms preprocess, 57.2ms inference, 1.1ms postprocess per image at shape (1, 3, 1088, 1920)\n"
     ]
    },
    {
     "name": "stdout",
     "output_type": "stream",
     "text": [
      "714\n",
      "Saved: temp_task_folder/img1/000714.jpg\n",
      "715\n",
      "Saved: temp_task_folder/img1/000715.jpg\n"
     ]
    },
    {
     "name": "stderr",
     "output_type": "stream",
     "text": [
      "\n",
      "0: 1088x1920 1 ball, 23 players, 57.4ms\n",
      "Speed: 6.8ms preprocess, 57.4ms inference, 1.1ms postprocess per image at shape (1, 3, 1088, 1920)\n",
      "\n",
      "0: 1088x1920 1 ball, 23 players, 57.3ms\n",
      "Speed: 6.8ms preprocess, 57.3ms inference, 1.1ms postprocess per image at shape (1, 3, 1088, 1920)\n"
     ]
    },
    {
     "name": "stdout",
     "output_type": "stream",
     "text": [
      "716\n",
      "Saved: temp_task_folder/img1/000716.jpg\n",
      "717\n",
      "Saved: temp_task_folder/img1/000717.jpg\n"
     ]
    },
    {
     "name": "stderr",
     "output_type": "stream",
     "text": [
      "\n",
      "0: 1088x1920 1 ball, 24 players, 57.5ms\n",
      "Speed: 6.8ms preprocess, 57.5ms inference, 1.1ms postprocess per image at shape (1, 3, 1088, 1920)\n",
      "\n",
      "0: 1088x1920 1 ball, 24 players, 57.4ms\n",
      "Speed: 6.9ms preprocess, 57.4ms inference, 1.1ms postprocess per image at shape (1, 3, 1088, 1920)\n"
     ]
    },
    {
     "name": "stdout",
     "output_type": "stream",
     "text": [
      "718\n",
      "Saved: temp_task_folder/img1/000718.jpg\n",
      "719\n",
      "Saved: temp_task_folder/img1/000719.jpg\n"
     ]
    },
    {
     "name": "stderr",
     "output_type": "stream",
     "text": [
      "\n",
      "0: 1088x1920 1 ball, 24 players, 57.4ms\n",
      "Speed: 6.8ms preprocess, 57.4ms inference, 1.1ms postprocess per image at shape (1, 3, 1088, 1920)\n",
      "\n",
      "0: 1088x1920 1 ball, 24 players, 57.5ms\n",
      "Speed: 6.9ms preprocess, 57.5ms inference, 1.1ms postprocess per image at shape (1, 3, 1088, 1920)\n"
     ]
    },
    {
     "name": "stdout",
     "output_type": "stream",
     "text": [
      "720\n",
      "Saved: temp_task_folder/img1/000720.jpg\n",
      "721\n",
      "Saved: temp_task_folder/img1/000721.jpg\n"
     ]
    },
    {
     "name": "stderr",
     "output_type": "stream",
     "text": [
      "\n",
      "0: 1088x1920 1 ball, 24 players, 57.4ms\n",
      "Speed: 6.8ms preprocess, 57.4ms inference, 1.1ms postprocess per image at shape (1, 3, 1088, 1920)\n",
      "\n",
      "0: 1088x1920 1 ball, 24 players, 57.5ms\n",
      "Speed: 6.8ms preprocess, 57.5ms inference, 1.1ms postprocess per image at shape (1, 3, 1088, 1920)\n"
     ]
    },
    {
     "name": "stdout",
     "output_type": "stream",
     "text": [
      "722\n",
      "Saved: temp_task_folder/img1/000722.jpg\n",
      "723\n",
      "Saved: temp_task_folder/img1/000723.jpg\n"
     ]
    },
    {
     "name": "stderr",
     "output_type": "stream",
     "text": [
      "\n",
      "0: 1088x1920 1 ball, 23 players, 57.4ms\n",
      "Speed: 6.9ms preprocess, 57.4ms inference, 1.1ms postprocess per image at shape (1, 3, 1088, 1920)\n",
      "\n",
      "0: 1088x1920 1 ball, 23 players, 57.5ms\n",
      "Speed: 6.8ms preprocess, 57.5ms inference, 1.1ms postprocess per image at shape (1, 3, 1088, 1920)\n"
     ]
    },
    {
     "name": "stdout",
     "output_type": "stream",
     "text": [
      "724\n",
      "Saved: temp_task_folder/img1/000724.jpg\n",
      "725\n",
      "Saved: temp_task_folder/img1/000725.jpg\n"
     ]
    },
    {
     "name": "stderr",
     "output_type": "stream",
     "text": [
      "\n",
      "0: 1088x1920 1 ball, 23 players, 57.5ms\n",
      "Speed: 6.8ms preprocess, 57.5ms inference, 1.1ms postprocess per image at shape (1, 3, 1088, 1920)\n",
      "\n",
      "0: 1088x1920 1 ball, 24 players, 57.5ms\n",
      "Speed: 6.8ms preprocess, 57.5ms inference, 1.1ms postprocess per image at shape (1, 3, 1088, 1920)\n"
     ]
    },
    {
     "name": "stdout",
     "output_type": "stream",
     "text": [
      "726\n",
      "Saved: temp_task_folder/img1/000726.jpg\n",
      "727\n"
     ]
    },
    {
     "name": "stderr",
     "output_type": "stream",
     "text": [
      "\n",
      "0: 1088x1920 1 ball, 23 players, 57.5ms\n",
      "Speed: 6.8ms preprocess, 57.5ms inference, 1.1ms postprocess per image at shape (1, 3, 1088, 1920)\n"
     ]
    },
    {
     "name": "stdout",
     "output_type": "stream",
     "text": [
      "Saved: temp_task_folder/img1/000727.jpg\n",
      "728\n",
      "Saved: temp_task_folder/img1/000728.jpg\n"
     ]
    },
    {
     "name": "stderr",
     "output_type": "stream",
     "text": [
      "\n",
      "0: 1088x1920 1 ball, 24 players, 57.5ms\n",
      "Speed: 6.8ms preprocess, 57.5ms inference, 1.1ms postprocess per image at shape (1, 3, 1088, 1920)\n",
      "\n",
      "0: 1088x1920 1 ball, 25 players, 57.4ms\n",
      "Speed: 6.7ms preprocess, 57.4ms inference, 1.1ms postprocess per image at shape (1, 3, 1088, 1920)\n"
     ]
    },
    {
     "name": "stdout",
     "output_type": "stream",
     "text": [
      "729\n",
      "Saved: temp_task_folder/img1/000729.jpg\n"
     ]
    },
    {
     "name": "stderr",
     "output_type": "stream",
     "text": [
      "\n",
      "0: 1088x1920 1 ball, 25 players, 57.4ms\n",
      "Speed: 6.7ms preprocess, 57.4ms inference, 1.1ms postprocess per image at shape (1, 3, 1088, 1920)\n"
     ]
    },
    {
     "name": "stdout",
     "output_type": "stream",
     "text": [
      "730\n",
      "Saved: temp_task_folder/img1/000730.jpg\n",
      "731\n"
     ]
    },
    {
     "name": "stderr",
     "output_type": "stream",
     "text": [
      "\n",
      "0: 1088x1920 1 ball, 24 players, 57.2ms\n",
      "Speed: 6.9ms preprocess, 57.2ms inference, 1.1ms postprocess per image at shape (1, 3, 1088, 1920)\n"
     ]
    },
    {
     "name": "stdout",
     "output_type": "stream",
     "text": [
      "Saved: temp_task_folder/img1/000731.jpg\n",
      "732\n",
      "Saved: temp_task_folder/img1/000732.jpg\n"
     ]
    },
    {
     "name": "stderr",
     "output_type": "stream",
     "text": [
      "\n",
      "0: 1088x1920 1 ball, 24 players, 57.4ms\n",
      "Speed: 6.9ms preprocess, 57.4ms inference, 1.1ms postprocess per image at shape (1, 3, 1088, 1920)\n",
      "\n",
      "0: 1088x1920 1 ball, 24 players, 57.3ms\n",
      "Speed: 6.8ms preprocess, 57.3ms inference, 1.1ms postprocess per image at shape (1, 3, 1088, 1920)\n"
     ]
    },
    {
     "name": "stdout",
     "output_type": "stream",
     "text": [
      "733\n",
      "Saved: temp_task_folder/img1/000733.jpg\n",
      "734\n",
      "Saved: temp_task_folder/img1/000734.jpg\n"
     ]
    },
    {
     "name": "stderr",
     "output_type": "stream",
     "text": [
      "\n",
      "0: 1088x1920 1 ball, 24 players, 57.3ms\n",
      "Speed: 6.9ms preprocess, 57.3ms inference, 1.1ms postprocess per image at shape (1, 3, 1088, 1920)\n",
      "\n",
      "0: 1088x1920 1 ball, 24 players, 57.3ms\n",
      "Speed: 6.8ms preprocess, 57.3ms inference, 1.1ms postprocess per image at shape (1, 3, 1088, 1920)\n"
     ]
    },
    {
     "name": "stdout",
     "output_type": "stream",
     "text": [
      "735\n",
      "Saved: temp_task_folder/img1/000735.jpg\n",
      "736\n",
      "Saved: temp_task_folder/img1/000736.jpg\n"
     ]
    },
    {
     "name": "stderr",
     "output_type": "stream",
     "text": [
      "\n",
      "0: 1088x1920 1 ball, 23 players, 57.3ms\n",
      "Speed: 6.9ms preprocess, 57.3ms inference, 1.2ms postprocess per image at shape (1, 3, 1088, 1920)\n",
      "\n",
      "0: 1088x1920 1 ball, 23 players, 57.5ms\n",
      "Speed: 7.1ms preprocess, 57.5ms inference, 1.1ms postprocess per image at shape (1, 3, 1088, 1920)\n"
     ]
    },
    {
     "name": "stdout",
     "output_type": "stream",
     "text": [
      "737\n",
      "Saved: temp_task_folder/img1/000737.jpg\n",
      "738\n",
      "Saved: temp_task_folder/img1/000738.jpg\n"
     ]
    },
    {
     "name": "stderr",
     "output_type": "stream",
     "text": [
      "\n",
      "0: 1088x1920 1 ball, 23 players, 57.5ms\n",
      "Speed: 6.9ms preprocess, 57.5ms inference, 1.1ms postprocess per image at shape (1, 3, 1088, 1920)\n",
      "\n",
      "0: 1088x1920 1 ball, 24 players, 57.5ms\n",
      "Speed: 6.8ms preprocess, 57.5ms inference, 1.1ms postprocess per image at shape (1, 3, 1088, 1920)\n"
     ]
    },
    {
     "name": "stdout",
     "output_type": "stream",
     "text": [
      "739\n",
      "Saved: temp_task_folder/img1/000739.jpg\n",
      "740\n",
      "Saved: temp_task_folder/img1/000740.jpg\n"
     ]
    },
    {
     "name": "stderr",
     "output_type": "stream",
     "text": [
      "\n",
      "0: 1088x1920 2 balls, 24 players, 57.4ms\n",
      "Speed: 6.9ms preprocess, 57.4ms inference, 1.1ms postprocess per image at shape (1, 3, 1088, 1920)\n",
      "\n",
      "0: 1088x1920 1 ball, 24 players, 57.4ms\n",
      "Speed: 6.8ms preprocess, 57.4ms inference, 1.1ms postprocess per image at shape (1, 3, 1088, 1920)\n"
     ]
    },
    {
     "name": "stdout",
     "output_type": "stream",
     "text": [
      "741\n",
      "Saved: temp_task_folder/img1/000741.jpg\n",
      "742\n",
      "Saved: temp_task_folder/img1/000742.jpg\n"
     ]
    },
    {
     "name": "stderr",
     "output_type": "stream",
     "text": [
      "\n",
      "0: 1088x1920 1 ball, 24 players, 57.5ms\n",
      "Speed: 6.9ms preprocess, 57.5ms inference, 1.1ms postprocess per image at shape (1, 3, 1088, 1920)\n",
      "\n",
      "0: 1088x1920 1 ball, 24 players, 57.5ms\n",
      "Speed: 6.8ms preprocess, 57.5ms inference, 1.1ms postprocess per image at shape (1, 3, 1088, 1920)\n"
     ]
    },
    {
     "name": "stdout",
     "output_type": "stream",
     "text": [
      "743\n",
      "Saved: temp_task_folder/img1/000743.jpg\n",
      "744\n",
      "Saved: temp_task_folder/img1/000744.jpg\n"
     ]
    },
    {
     "name": "stderr",
     "output_type": "stream",
     "text": [
      "\n",
      "0: 1088x1920 1 ball, 24 players, 57.4ms\n",
      "Speed: 6.9ms preprocess, 57.4ms inference, 1.1ms postprocess per image at shape (1, 3, 1088, 1920)\n",
      "\n",
      "0: 1088x1920 1 ball, 24 players, 57.2ms\n",
      "Speed: 6.9ms preprocess, 57.2ms inference, 1.1ms postprocess per image at shape (1, 3, 1088, 1920)\n"
     ]
    },
    {
     "name": "stdout",
     "output_type": "stream",
     "text": [
      "745\n",
      "Saved: temp_task_folder/img1/000745.jpg\n",
      "746\n",
      "Saved: temp_task_folder/img1/000746.jpg\n"
     ]
    },
    {
     "name": "stderr",
     "output_type": "stream",
     "text": [
      "\n",
      "0: 1088x1920 1 ball, 24 players, 57.3ms\n",
      "Speed: 6.8ms preprocess, 57.3ms inference, 1.1ms postprocess per image at shape (1, 3, 1088, 1920)\n",
      "\n",
      "0: 1088x1920 1 ball, 24 players, 57.5ms\n",
      "Speed: 6.8ms preprocess, 57.5ms inference, 1.1ms postprocess per image at shape (1, 3, 1088, 1920)\n"
     ]
    },
    {
     "name": "stdout",
     "output_type": "stream",
     "text": [
      "747\n",
      "Saved: temp_task_folder/img1/000747.jpg\n",
      "748\n",
      "Saved: temp_task_folder/img1/000748.jpg\n"
     ]
    },
    {
     "name": "stderr",
     "output_type": "stream",
     "text": [
      "\n",
      "0: 1088x1920 1 ball, 24 players, 57.4ms\n",
      "Speed: 6.9ms preprocess, 57.4ms inference, 1.1ms postprocess per image at shape (1, 3, 1088, 1920)\n",
      "\n",
      "0: 1088x1920 24 players, 57.5ms\n",
      "Speed: 6.8ms preprocess, 57.5ms inference, 1.1ms postprocess per image at shape (1, 3, 1088, 1920)\n"
     ]
    },
    {
     "name": "stdout",
     "output_type": "stream",
     "text": [
      "749\n",
      "Saved: temp_task_folder/img1/000749.jpg\n",
      "750\n",
      "Saved: temp_task_folder/img1/000750.jpg\n"
     ]
    },
    {
     "name": "stderr",
     "output_type": "stream",
     "text": [
      "\n",
      "0: 1088x1920 24 players, 57.5ms\n",
      "Speed: 6.9ms preprocess, 57.5ms inference, 1.1ms postprocess per image at shape (1, 3, 1088, 1920)\n",
      "\n",
      "0: 1088x1920 24 players, 57.3ms\n",
      "Speed: 6.8ms preprocess, 57.3ms inference, 1.1ms postprocess per image at shape (1, 3, 1088, 1920)\n"
     ]
    },
    {
     "name": "stdout",
     "output_type": "stream",
     "text": [
      "751\n",
      "Saved: temp_task_folder/img1/000751.jpg\n",
      "752\n",
      "Saved: temp_task_folder/img1/000752.jpg\n"
     ]
    },
    {
     "name": "stderr",
     "output_type": "stream",
     "text": [
      "\n",
      "0: 1088x1920 24 players, 57.5ms\n",
      "Speed: 6.9ms preprocess, 57.5ms inference, 1.1ms postprocess per image at shape (1, 3, 1088, 1920)\n",
      "\n",
      "0: 1088x1920 24 players, 57.2ms\n",
      "Speed: 6.9ms preprocess, 57.2ms inference, 1.1ms postprocess per image at shape (1, 3, 1088, 1920)\n"
     ]
    },
    {
     "name": "stdout",
     "output_type": "stream",
     "text": [
      "753\n",
      "Saved: temp_task_folder/img1/000753.jpg\n",
      "754\n",
      "Saved: temp_task_folder/img1/000754.jpg\n"
     ]
    },
    {
     "name": "stderr",
     "output_type": "stream",
     "text": [
      "\n",
      "0: 1088x1920 24 players, 57.4ms\n",
      "Speed: 6.9ms preprocess, 57.4ms inference, 1.1ms postprocess per image at shape (1, 3, 1088, 1920)\n",
      "\n",
      "0: 1088x1920 24 players, 57.2ms\n",
      "Speed: 6.8ms preprocess, 57.2ms inference, 1.1ms postprocess per image at shape (1, 3, 1088, 1920)\n"
     ]
    },
    {
     "name": "stdout",
     "output_type": "stream",
     "text": [
      "755\n",
      "Saved: temp_task_folder/img1/000755.jpg\n",
      "756\n",
      "Saved: temp_task_folder/img1/000756.jpg\n"
     ]
    },
    {
     "name": "stderr",
     "output_type": "stream",
     "text": [
      "\n",
      "0: 1088x1920 24 players, 57.6ms\n",
      "Speed: 6.8ms preprocess, 57.6ms inference, 1.1ms postprocess per image at shape (1, 3, 1088, 1920)\n",
      "\n",
      "0: 1088x1920 24 players, 57.5ms\n",
      "Speed: 6.9ms preprocess, 57.5ms inference, 1.1ms postprocess per image at shape (1, 3, 1088, 1920)\n"
     ]
    },
    {
     "name": "stdout",
     "output_type": "stream",
     "text": [
      "757\n",
      "Saved: temp_task_folder/img1/000757.jpg\n",
      "758\n",
      "Saved: temp_task_folder/img1/000758.jpg\n"
     ]
    },
    {
     "name": "stderr",
     "output_type": "stream",
     "text": [
      "\n",
      "0: 1088x1920 1 ball, 25 players, 57.5ms\n",
      "Speed: 6.9ms preprocess, 57.5ms inference, 1.1ms postprocess per image at shape (1, 3, 1088, 1920)\n",
      "\n",
      "0: 1088x1920 1 ball, 25 players, 57.4ms\n",
      "Speed: 6.8ms preprocess, 57.4ms inference, 1.1ms postprocess per image at shape (1, 3, 1088, 1920)\n"
     ]
    },
    {
     "name": "stdout",
     "output_type": "stream",
     "text": [
      "759\n",
      "Saved: temp_task_folder/img1/000759.jpg\n",
      "760\n",
      "Saved: temp_task_folder/img1/000760.jpg\n"
     ]
    },
    {
     "name": "stderr",
     "output_type": "stream",
     "text": [
      "\n",
      "0: 1088x1920 1 ball, 25 players, 57.4ms\n",
      "Speed: 6.8ms preprocess, 57.4ms inference, 1.1ms postprocess per image at shape (1, 3, 1088, 1920)\n",
      "\n",
      "0: 1088x1920 2 balls, 24 players, 57.2ms\n",
      "Speed: 6.8ms preprocess, 57.2ms inference, 1.2ms postprocess per image at shape (1, 3, 1088, 1920)\n"
     ]
    },
    {
     "name": "stdout",
     "output_type": "stream",
     "text": [
      "761\n",
      "Saved: temp_task_folder/img1/000761.jpg\n",
      "762\n",
      "Saved: temp_task_folder/img1/000762.jpg\n"
     ]
    },
    {
     "name": "stderr",
     "output_type": "stream",
     "text": [
      "\n",
      "0: 1088x1920 1 ball, 24 players, 57.4ms\n",
      "Speed: 6.9ms preprocess, 57.4ms inference, 1.1ms postprocess per image at shape (1, 3, 1088, 1920)\n",
      "\n",
      "0: 1088x1920 24 players, 57.4ms\n",
      "Speed: 7.2ms preprocess, 57.4ms inference, 1.1ms postprocess per image at shape (1, 3, 1088, 1920)\n"
     ]
    },
    {
     "name": "stdout",
     "output_type": "stream",
     "text": [
      "763\n",
      "Saved: temp_task_folder/img1/000763.jpg\n",
      "764\n",
      "Saved: temp_task_folder/img1/000764.jpg\n"
     ]
    },
    {
     "name": "stderr",
     "output_type": "stream",
     "text": [
      "\n",
      "0: 1088x1920 2 balls, 24 players, 57.2ms\n",
      "Speed: 7.2ms preprocess, 57.2ms inference, 1.1ms postprocess per image at shape (1, 3, 1088, 1920)\n",
      "\n",
      "0: 1088x1920 2 balls, 24 players, 57.4ms\n",
      "Speed: 7.0ms preprocess, 57.4ms inference, 1.1ms postprocess per image at shape (1, 3, 1088, 1920)\n"
     ]
    },
    {
     "name": "stdout",
     "output_type": "stream",
     "text": [
      "765\n",
      "Saved: temp_task_folder/img1/000765.jpg\n",
      "766\n",
      "Saved: temp_task_folder/img1/000766.jpg\n"
     ]
    },
    {
     "name": "stderr",
     "output_type": "stream",
     "text": [
      "\n",
      "0: 1088x1920 2 balls, 24 players, 57.4ms\n",
      "Speed: 6.8ms preprocess, 57.4ms inference, 1.1ms postprocess per image at shape (1, 3, 1088, 1920)\n",
      "\n",
      "0: 1088x1920 2 balls, 24 players, 57.4ms\n",
      "Speed: 6.9ms preprocess, 57.4ms inference, 1.1ms postprocess per image at shape (1, 3, 1088, 1920)\n"
     ]
    },
    {
     "name": "stdout",
     "output_type": "stream",
     "text": [
      "767\n",
      "Saved: temp_task_folder/img1/000767.jpg\n",
      "768\n",
      "Saved: temp_task_folder/img1/000768.jpg\n"
     ]
    },
    {
     "name": "stderr",
     "output_type": "stream",
     "text": [
      "\n",
      "0: 1088x1920 3 balls, 24 players, 57.3ms\n",
      "Speed: 6.9ms preprocess, 57.3ms inference, 1.1ms postprocess per image at shape (1, 3, 1088, 1920)\n",
      "\n",
      "0: 1088x1920 2 balls, 24 players, 57.2ms\n",
      "Speed: 7.3ms preprocess, 57.2ms inference, 1.1ms postprocess per image at shape (1, 3, 1088, 1920)\n"
     ]
    },
    {
     "name": "stdout",
     "output_type": "stream",
     "text": [
      "769\n",
      "Saved: temp_task_folder/img1/000769.jpg\n",
      "770\n"
     ]
    },
    {
     "name": "stderr",
     "output_type": "stream",
     "text": [
      "\n",
      "0: 1088x1920 2 balls, 24 players, 57.5ms\n",
      "Speed: 7.2ms preprocess, 57.5ms inference, 1.1ms postprocess per image at shape (1, 3, 1088, 1920)\n"
     ]
    },
    {
     "name": "stdout",
     "output_type": "stream",
     "text": [
      "Saved: temp_task_folder/img1/000770.jpg\n",
      "771\n",
      "Saved: temp_task_folder/img1/000771.jpg\n"
     ]
    },
    {
     "name": "stderr",
     "output_type": "stream",
     "text": [
      "\n",
      "0: 1088x1920 3 balls, 25 players, 57.2ms\n",
      "Speed: 6.9ms preprocess, 57.2ms inference, 1.1ms postprocess per image at shape (1, 3, 1088, 1920)\n",
      "\n",
      "0: 1088x1920 2 balls, 25 players, 57.5ms\n",
      "Speed: 6.9ms preprocess, 57.5ms inference, 1.1ms postprocess per image at shape (1, 3, 1088, 1920)\n"
     ]
    },
    {
     "name": "stdout",
     "output_type": "stream",
     "text": [
      "772\n",
      "Saved: temp_task_folder/img1/000772.jpg\n",
      "773\n",
      "Saved: temp_task_folder/img1/000773.jpg\n"
     ]
    },
    {
     "name": "stderr",
     "output_type": "stream",
     "text": [
      "\n",
      "0: 1088x1920 1 ball, 25 players, 57.3ms\n",
      "Speed: 7.2ms preprocess, 57.3ms inference, 1.1ms postprocess per image at shape (1, 3, 1088, 1920)\n",
      "\n",
      "0: 1088x1920 1 ball, 25 players, 57.4ms\n",
      "Speed: 7.2ms preprocess, 57.4ms inference, 1.1ms postprocess per image at shape (1, 3, 1088, 1920)\n"
     ]
    },
    {
     "name": "stdout",
     "output_type": "stream",
     "text": [
      "774\n",
      "Saved: temp_task_folder/img1/000774.jpg\n",
      "775\n",
      "Saved: temp_task_folder/img1/000775.jpg\n"
     ]
    },
    {
     "name": "stderr",
     "output_type": "stream",
     "text": [
      "\n",
      "0: 1088x1920 1 ball, 25 players, 57.3ms\n",
      "Speed: 6.9ms preprocess, 57.3ms inference, 1.1ms postprocess per image at shape (1, 3, 1088, 1920)\n",
      "\n",
      "0: 1088x1920 1 ball, 27 players, 57.4ms\n",
      "Speed: 6.9ms preprocess, 57.4ms inference, 1.1ms postprocess per image at shape (1, 3, 1088, 1920)\n"
     ]
    },
    {
     "name": "stdout",
     "output_type": "stream",
     "text": [
      "776\n",
      "Saved: temp_task_folder/img1/000776.jpg\n",
      "777\n",
      "Saved: temp_task_folder/img1/000777.jpg\n"
     ]
    },
    {
     "name": "stderr",
     "output_type": "stream",
     "text": [
      "\n",
      "0: 1088x1920 26 players, 57.2ms\n",
      "Speed: 7.2ms preprocess, 57.2ms inference, 1.1ms postprocess per image at shape (1, 3, 1088, 1920)\n",
      "\n",
      "0: 1088x1920 26 players, 57.5ms\n",
      "Speed: 7.3ms preprocess, 57.5ms inference, 1.1ms postprocess per image at shape (1, 3, 1088, 1920)\n"
     ]
    },
    {
     "name": "stdout",
     "output_type": "stream",
     "text": [
      "778\n",
      "Saved: temp_task_folder/img1/000778.jpg\n",
      "779\n",
      "Saved: temp_task_folder/img1/000779.jpg\n"
     ]
    },
    {
     "name": "stderr",
     "output_type": "stream",
     "text": [
      "\n",
      "0: 1088x1920 25 players, 57.3ms\n",
      "Speed: 6.9ms preprocess, 57.3ms inference, 1.2ms postprocess per image at shape (1, 3, 1088, 1920)\n",
      "\n",
      "0: 1088x1920 26 players, 57.4ms\n",
      "Speed: 6.9ms preprocess, 57.4ms inference, 1.1ms postprocess per image at shape (1, 3, 1088, 1920)\n"
     ]
    },
    {
     "name": "stdout",
     "output_type": "stream",
     "text": [
      "780\n",
      "Saved: temp_task_folder/img1/000780.jpg\n",
      "781\n",
      "Saved: temp_task_folder/img1/000781.jpg\n"
     ]
    },
    {
     "name": "stderr",
     "output_type": "stream",
     "text": [
      "\n",
      "0: 1088x1920 24 players, 57.4ms\n",
      "Speed: 7.2ms preprocess, 57.4ms inference, 1.1ms postprocess per image at shape (1, 3, 1088, 1920)\n",
      "\n",
      "0: 1088x1920 25 players, 57.3ms\n",
      "Speed: 7.2ms preprocess, 57.3ms inference, 1.1ms postprocess per image at shape (1, 3, 1088, 1920)\n"
     ]
    },
    {
     "name": "stdout",
     "output_type": "stream",
     "text": [
      "782\n",
      "Saved: temp_task_folder/img1/000782.jpg\n",
      "783\n"
     ]
    },
    {
     "name": "stderr",
     "output_type": "stream",
     "text": [
      "\n",
      "0: 1088x1920 25 players, 57.4ms\n",
      "Speed: 6.8ms preprocess, 57.4ms inference, 1.1ms postprocess per image at shape (1, 3, 1088, 1920)\n"
     ]
    },
    {
     "name": "stdout",
     "output_type": "stream",
     "text": [
      "Saved: temp_task_folder/img1/000783.jpg\n",
      "784\n",
      "Saved: temp_task_folder/img1/000784.jpg\n"
     ]
    },
    {
     "name": "stderr",
     "output_type": "stream",
     "text": [
      "\n",
      "0: 1088x1920 23 players, 57.4ms\n",
      "Speed: 6.8ms preprocess, 57.4ms inference, 1.1ms postprocess per image at shape (1, 3, 1088, 1920)\n",
      "\n",
      "0: 1088x1920 24 players, 57.5ms\n",
      "Speed: 6.8ms preprocess, 57.5ms inference, 1.2ms postprocess per image at shape (1, 3, 1088, 1920)\n"
     ]
    },
    {
     "name": "stdout",
     "output_type": "stream",
     "text": [
      "785\n",
      "Saved: temp_task_folder/img1/000785.jpg\n",
      "786\n",
      "Saved: temp_task_folder/img1/000786.jpg\n"
     ]
    },
    {
     "name": "stderr",
     "output_type": "stream",
     "text": [
      "\n",
      "0: 1088x1920 23 players, 57.3ms\n",
      "Speed: 6.8ms preprocess, 57.3ms inference, 1.1ms postprocess per image at shape (1, 3, 1088, 1920)\n",
      "\n",
      "0: 1088x1920 1 ball, 23 players, 57.4ms\n",
      "Speed: 6.8ms preprocess, 57.4ms inference, 1.1ms postprocess per image at shape (1, 3, 1088, 1920)\n"
     ]
    },
    {
     "name": "stdout",
     "output_type": "stream",
     "text": [
      "787\n",
      "Saved: temp_task_folder/img1/000787.jpg\n",
      "788\n",
      "Saved: temp_task_folder/img1/000788.jpg\n"
     ]
    },
    {
     "name": "stderr",
     "output_type": "stream",
     "text": [
      "\n",
      "0: 1088x1920 1 ball, 23 players, 57.4ms\n",
      "Speed: 6.9ms preprocess, 57.4ms inference, 1.1ms postprocess per image at shape (1, 3, 1088, 1920)\n",
      "\n",
      "0: 1088x1920 1 ball, 22 players, 57.4ms\n",
      "Speed: 7.2ms preprocess, 57.4ms inference, 1.1ms postprocess per image at shape (1, 3, 1088, 1920)\n"
     ]
    },
    {
     "name": "stdout",
     "output_type": "stream",
     "text": [
      "789\n",
      "Saved: temp_task_folder/img1/000789.jpg\n",
      "790\n",
      "Saved: temp_task_folder/img1/000790.jpg\n"
     ]
    },
    {
     "name": "stderr",
     "output_type": "stream",
     "text": [
      "\n",
      "0: 1088x1920 1 ball, 22 players, 57.4ms\n",
      "Speed: 7.2ms preprocess, 57.4ms inference, 1.1ms postprocess per image at shape (1, 3, 1088, 1920)\n",
      "\n",
      "0: 1088x1920 22 players, 57.5ms\n",
      "Speed: 6.7ms preprocess, 57.5ms inference, 1.1ms postprocess per image at shape (1, 3, 1088, 1920)\n"
     ]
    },
    {
     "name": "stdout",
     "output_type": "stream",
     "text": [
      "791\n",
      "Saved: temp_task_folder/img1/000791.jpg\n",
      "792\n",
      "Saved: temp_task_folder/img1/000792.jpg\n"
     ]
    },
    {
     "name": "stderr",
     "output_type": "stream",
     "text": [
      "\n",
      "0: 1088x1920 22 players, 57.5ms\n",
      "Speed: 6.9ms preprocess, 57.5ms inference, 1.1ms postprocess per image at shape (1, 3, 1088, 1920)\n",
      "\n",
      "0: 1088x1920 22 players, 57.4ms\n",
      "Speed: 6.8ms preprocess, 57.4ms inference, 1.1ms postprocess per image at shape (1, 3, 1088, 1920)\n"
     ]
    },
    {
     "name": "stdout",
     "output_type": "stream",
     "text": [
      "793\n",
      "Saved: temp_task_folder/img1/000793.jpg\n",
      "794\n",
      "Saved: temp_task_folder/img1/000794.jpg\n"
     ]
    },
    {
     "name": "stderr",
     "output_type": "stream",
     "text": [
      "\n",
      "0: 1088x1920 22 players, 57.2ms\n",
      "Speed: 6.8ms preprocess, 57.2ms inference, 1.1ms postprocess per image at shape (1, 3, 1088, 1920)\n",
      "\n",
      "0: 1088x1920 1 ball, 22 players, 57.3ms\n",
      "Speed: 6.9ms preprocess, 57.3ms inference, 1.1ms postprocess per image at shape (1, 3, 1088, 1920)\n"
     ]
    },
    {
     "name": "stdout",
     "output_type": "stream",
     "text": [
      "795\n",
      "Saved: temp_task_folder/img1/000795.jpg\n",
      "796\n",
      "Saved: temp_task_folder/img1/000796.jpg\n"
     ]
    },
    {
     "name": "stderr",
     "output_type": "stream",
     "text": [
      "\n",
      "0: 1088x1920 1 ball, 22 players, 57.4ms\n",
      "Speed: 7.2ms preprocess, 57.4ms inference, 1.1ms postprocess per image at shape (1, 3, 1088, 1920)\n",
      "\n",
      "0: 1088x1920 1 ball, 21 players, 57.3ms\n",
      "Speed: 7.3ms preprocess, 57.3ms inference, 1.1ms postprocess per image at shape (1, 3, 1088, 1920)\n"
     ]
    },
    {
     "name": "stdout",
     "output_type": "stream",
     "text": [
      "797\n",
      "Saved: temp_task_folder/img1/000797.jpg\n",
      "798\n",
      "Saved: temp_task_folder/img1/000798.jpg\n"
     ]
    },
    {
     "name": "stderr",
     "output_type": "stream",
     "text": [
      "\n",
      "0: 1088x1920 1 ball, 21 players, 57.5ms\n",
      "Speed: 7.2ms preprocess, 57.5ms inference, 1.1ms postprocess per image at shape (1, 3, 1088, 1920)\n",
      "\n",
      "0: 1088x1920 1 ball, 21 players, 57.5ms\n",
      "Speed: 6.8ms preprocess, 57.5ms inference, 1.1ms postprocess per image at shape (1, 3, 1088, 1920)\n"
     ]
    },
    {
     "name": "stdout",
     "output_type": "stream",
     "text": [
      "799\n",
      "Saved: temp_task_folder/img1/000799.jpg\n",
      "800\n",
      "Saved: temp_task_folder/img1/000800.jpg\n"
     ]
    },
    {
     "name": "stderr",
     "output_type": "stream",
     "text": [
      "\n",
      "0: 1088x1920 1 ball, 21 players, 57.2ms\n",
      "Speed: 6.8ms preprocess, 57.2ms inference, 1.1ms postprocess per image at shape (1, 3, 1088, 1920)\n",
      "\n",
      "0: 1088x1920 1 ball, 21 players, 57.5ms\n",
      "Speed: 6.8ms preprocess, 57.5ms inference, 1.1ms postprocess per image at shape (1, 3, 1088, 1920)\n"
     ]
    },
    {
     "name": "stdout",
     "output_type": "stream",
     "text": [
      "801\n",
      "Saved: temp_task_folder/img1/000801.jpg\n",
      "802\n",
      "Saved: temp_task_folder/img1/000802.jpg\n"
     ]
    },
    {
     "name": "stderr",
     "output_type": "stream",
     "text": [
      "\n",
      "0: 1088x1920 1 ball, 21 players, 57.4ms\n",
      "Speed: 6.9ms preprocess, 57.4ms inference, 1.1ms postprocess per image at shape (1, 3, 1088, 1920)\n",
      "\n",
      "0: 1088x1920 1 ball, 21 players, 57.5ms\n",
      "Speed: 6.8ms preprocess, 57.5ms inference, 1.1ms postprocess per image at shape (1, 3, 1088, 1920)\n"
     ]
    },
    {
     "name": "stdout",
     "output_type": "stream",
     "text": [
      "803\n",
      "Saved: temp_task_folder/img1/000803.jpg\n",
      "804\n",
      "Saved: temp_task_folder/img1/000804.jpg\n"
     ]
    },
    {
     "name": "stderr",
     "output_type": "stream",
     "text": [
      "\n",
      "0: 1088x1920 1 ball, 21 players, 57.4ms\n",
      "Speed: 6.8ms preprocess, 57.4ms inference, 1.1ms postprocess per image at shape (1, 3, 1088, 1920)\n",
      "\n",
      "0: 1088x1920 1 ball, 21 players, 57.5ms\n",
      "Speed: 6.9ms preprocess, 57.5ms inference, 1.1ms postprocess per image at shape (1, 3, 1088, 1920)\n"
     ]
    },
    {
     "name": "stdout",
     "output_type": "stream",
     "text": [
      "805\n",
      "Saved: temp_task_folder/img1/000805.jpg\n",
      "806\n",
      "Saved: temp_task_folder/img1/000806.jpg\n"
     ]
    },
    {
     "name": "stderr",
     "output_type": "stream",
     "text": [
      "\n",
      "0: 1088x1920 21 players, 57.4ms\n",
      "Speed: 6.8ms preprocess, 57.4ms inference, 1.1ms postprocess per image at shape (1, 3, 1088, 1920)\n",
      "\n",
      "0: 1088x1920 21 players, 57.5ms\n",
      "Speed: 6.9ms preprocess, 57.5ms inference, 1.1ms postprocess per image at shape (1, 3, 1088, 1920)\n"
     ]
    },
    {
     "name": "stdout",
     "output_type": "stream",
     "text": [
      "807\n",
      "Saved: temp_task_folder/img1/000807.jpg\n",
      "808\n",
      "Saved: temp_task_folder/img1/000808.jpg\n"
     ]
    },
    {
     "name": "stderr",
     "output_type": "stream",
     "text": [
      "\n",
      "0: 1088x1920 21 players, 57.5ms\n",
      "Speed: 6.9ms preprocess, 57.5ms inference, 1.1ms postprocess per image at shape (1, 3, 1088, 1920)\n",
      "\n",
      "0: 1088x1920 21 players, 57.4ms\n",
      "Speed: 6.8ms preprocess, 57.4ms inference, 1.1ms postprocess per image at shape (1, 3, 1088, 1920)\n"
     ]
    },
    {
     "name": "stdout",
     "output_type": "stream",
     "text": [
      "809\n",
      "Saved: temp_task_folder/img1/000809.jpg\n",
      "810\n",
      "Saved: temp_task_folder/img1/000810.jpg\n"
     ]
    },
    {
     "name": "stderr",
     "output_type": "stream",
     "text": [
      "\n",
      "0: 1088x1920 21 players, 57.5ms\n",
      "Speed: 6.9ms preprocess, 57.5ms inference, 1.1ms postprocess per image at shape (1, 3, 1088, 1920)\n",
      "\n",
      "0: 1088x1920 21 players, 57.5ms\n",
      "Speed: 6.9ms preprocess, 57.5ms inference, 1.1ms postprocess per image at shape (1, 3, 1088, 1920)\n"
     ]
    },
    {
     "name": "stdout",
     "output_type": "stream",
     "text": [
      "811\n",
      "Saved: temp_task_folder/img1/000811.jpg\n",
      "812\n",
      "Saved: temp_task_folder/img1/000812.jpg\n"
     ]
    },
    {
     "name": "stderr",
     "output_type": "stream",
     "text": [
      "\n",
      "0: 1088x1920 1 ball, 21 players, 57.5ms\n",
      "Speed: 6.8ms preprocess, 57.5ms inference, 1.1ms postprocess per image at shape (1, 3, 1088, 1920)\n",
      "\n",
      "0: 1088x1920 1 ball, 21 players, 57.5ms\n",
      "Speed: 6.8ms preprocess, 57.5ms inference, 1.1ms postprocess per image at shape (1, 3, 1088, 1920)\n"
     ]
    },
    {
     "name": "stdout",
     "output_type": "stream",
     "text": [
      "813\n",
      "Saved: temp_task_folder/img1/000813.jpg\n",
      "814\n",
      "Saved: temp_task_folder/img1/000814.jpg\n"
     ]
    },
    {
     "name": "stderr",
     "output_type": "stream",
     "text": [
      "\n",
      "0: 1088x1920 1 ball, 21 players, 57.2ms\n",
      "Speed: 6.8ms preprocess, 57.2ms inference, 1.1ms postprocess per image at shape (1, 3, 1088, 1920)\n",
      "\n",
      "0: 1088x1920 1 ball, 21 players, 57.5ms\n",
      "Speed: 6.9ms preprocess, 57.5ms inference, 1.1ms postprocess per image at shape (1, 3, 1088, 1920)\n"
     ]
    },
    {
     "name": "stdout",
     "output_type": "stream",
     "text": [
      "815\n",
      "Saved: temp_task_folder/img1/000815.jpg\n",
      "816\n",
      "Saved: temp_task_folder/img1/000816.jpg\n"
     ]
    },
    {
     "name": "stderr",
     "output_type": "stream",
     "text": [
      "\n",
      "0: 1088x1920 2 balls, 21 players, 57.3ms\n",
      "Speed: 6.8ms preprocess, 57.3ms inference, 1.1ms postprocess per image at shape (1, 3, 1088, 1920)\n",
      "\n",
      "0: 1088x1920 1 ball, 21 players, 57.5ms\n",
      "Speed: 6.9ms preprocess, 57.5ms inference, 1.1ms postprocess per image at shape (1, 3, 1088, 1920)\n"
     ]
    },
    {
     "name": "stdout",
     "output_type": "stream",
     "text": [
      "817\n",
      "Saved: temp_task_folder/img1/000817.jpg\n",
      "818\n",
      "Saved: temp_task_folder/img1/000818.jpg\n"
     ]
    },
    {
     "name": "stderr",
     "output_type": "stream",
     "text": [
      "\n",
      "0: 1088x1920 1 ball, 21 players, 57.3ms\n",
      "Speed: 6.9ms preprocess, 57.3ms inference, 1.1ms postprocess per image at shape (1, 3, 1088, 1920)\n",
      "\n",
      "0: 1088x1920 1 ball, 21 players, 57.5ms\n",
      "Speed: 6.9ms preprocess, 57.5ms inference, 1.1ms postprocess per image at shape (1, 3, 1088, 1920)\n"
     ]
    },
    {
     "name": "stdout",
     "output_type": "stream",
     "text": [
      "819\n",
      "Saved: temp_task_folder/img1/000819.jpg\n",
      "820\n",
      "Saved: temp_task_folder/img1/000820.jpg\n"
     ]
    },
    {
     "name": "stderr",
     "output_type": "stream",
     "text": [
      "\n",
      "0: 1088x1920 1 ball, 21 players, 57.4ms\n",
      "Speed: 6.9ms preprocess, 57.4ms inference, 1.1ms postprocess per image at shape (1, 3, 1088, 1920)\n",
      "\n",
      "0: 1088x1920 1 ball, 21 players, 57.6ms\n",
      "Speed: 6.8ms preprocess, 57.6ms inference, 1.1ms postprocess per image at shape (1, 3, 1088, 1920)\n"
     ]
    },
    {
     "name": "stdout",
     "output_type": "stream",
     "text": [
      "821\n",
      "Saved: temp_task_folder/img1/000821.jpg\n",
      "822\n",
      "Saved: temp_task_folder/img1/000822.jpg\n"
     ]
    },
    {
     "name": "stderr",
     "output_type": "stream",
     "text": [
      "\n",
      "0: 1088x1920 1 ball, 21 players, 57.5ms\n",
      "Speed: 6.8ms preprocess, 57.5ms inference, 1.1ms postprocess per image at shape (1, 3, 1088, 1920)\n",
      "\n",
      "0: 1088x1920 1 ball, 21 players, 57.5ms\n",
      "Speed: 6.9ms preprocess, 57.5ms inference, 1.1ms postprocess per image at shape (1, 3, 1088, 1920)\n"
     ]
    },
    {
     "name": "stdout",
     "output_type": "stream",
     "text": [
      "823\n",
      "Saved: temp_task_folder/img1/000823.jpg\n",
      "824\n",
      "Saved: temp_task_folder/img1/000824.jpg\n"
     ]
    },
    {
     "name": "stderr",
     "output_type": "stream",
     "text": [
      "\n",
      "0: 1088x1920 21 players, 57.5ms\n",
      "Speed: 6.9ms preprocess, 57.5ms inference, 1.1ms postprocess per image at shape (1, 3, 1088, 1920)\n",
      "\n",
      "0: 1088x1920 21 players, 57.3ms\n",
      "Speed: 6.8ms preprocess, 57.3ms inference, 1.1ms postprocess per image at shape (1, 3, 1088, 1920)\n"
     ]
    },
    {
     "name": "stdout",
     "output_type": "stream",
     "text": [
      "825\n",
      "Saved: temp_task_folder/img1/000825.jpg\n",
      "826\n",
      "Saved: temp_task_folder/img1/000826.jpg\n"
     ]
    },
    {
     "name": "stderr",
     "output_type": "stream",
     "text": [
      "\n",
      "0: 1088x1920 1 ball, 21 players, 57.5ms\n",
      "Speed: 6.8ms preprocess, 57.5ms inference, 1.1ms postprocess per image at shape (1, 3, 1088, 1920)\n",
      "\n",
      "0: 1088x1920 1 ball, 21 players, 57.4ms\n",
      "Speed: 6.9ms preprocess, 57.4ms inference, 1.1ms postprocess per image at shape (1, 3, 1088, 1920)\n"
     ]
    },
    {
     "name": "stdout",
     "output_type": "stream",
     "text": [
      "827\n",
      "Saved: temp_task_folder/img1/000827.jpg\n",
      "828\n",
      "Saved: temp_task_folder/img1/000828.jpg\n"
     ]
    },
    {
     "name": "stderr",
     "output_type": "stream",
     "text": [
      "\n",
      "0: 1088x1920 1 ball, 21 players, 57.3ms\n",
      "Speed: 6.9ms preprocess, 57.3ms inference, 1.1ms postprocess per image at shape (1, 3, 1088, 1920)\n",
      "\n",
      "0: 1088x1920 1 ball, 21 players, 57.2ms\n",
      "Speed: 6.9ms preprocess, 57.2ms inference, 1.1ms postprocess per image at shape (1, 3, 1088, 1920)\n"
     ]
    },
    {
     "name": "stdout",
     "output_type": "stream",
     "text": [
      "829\n",
      "Saved: temp_task_folder/img1/000829.jpg\n",
      "830\n",
      "Saved: temp_task_folder/img1/000830.jpg\n"
     ]
    },
    {
     "name": "stderr",
     "output_type": "stream",
     "text": [
      "\n",
      "0: 1088x1920 1 ball, 21 players, 57.5ms\n",
      "Speed: 6.8ms preprocess, 57.5ms inference, 1.1ms postprocess per image at shape (1, 3, 1088, 1920)\n",
      "\n",
      "0: 1088x1920 1 ball, 21 players, 57.5ms\n",
      "Speed: 6.9ms preprocess, 57.5ms inference, 1.1ms postprocess per image at shape (1, 3, 1088, 1920)\n"
     ]
    },
    {
     "name": "stdout",
     "output_type": "stream",
     "text": [
      "831\n",
      "Saved: temp_task_folder/img1/000831.jpg\n",
      "832\n",
      "Saved: temp_task_folder/img1/000832.jpg\n"
     ]
    },
    {
     "name": "stderr",
     "output_type": "stream",
     "text": [
      "\n",
      "0: 1088x1920 1 ball, 21 players, 57.5ms\n",
      "Speed: 6.9ms preprocess, 57.5ms inference, 1.1ms postprocess per image at shape (1, 3, 1088, 1920)\n",
      "\n",
      "0: 1088x1920 1 ball, 21 players, 57.4ms\n",
      "Speed: 6.9ms preprocess, 57.4ms inference, 1.1ms postprocess per image at shape (1, 3, 1088, 1920)\n"
     ]
    },
    {
     "name": "stdout",
     "output_type": "stream",
     "text": [
      "833\n",
      "Saved: temp_task_folder/img1/000833.jpg\n",
      "834\n",
      "Saved: temp_task_folder/img1/000834.jpg\n"
     ]
    },
    {
     "name": "stderr",
     "output_type": "stream",
     "text": [
      "\n",
      "0: 1088x1920 1 ball, 21 players, 57.5ms\n",
      "Speed: 6.8ms preprocess, 57.5ms inference, 1.1ms postprocess per image at shape (1, 3, 1088, 1920)\n",
      "\n",
      "0: 1088x1920 1 ball, 21 players, 57.5ms\n",
      "Speed: 6.9ms preprocess, 57.5ms inference, 1.1ms postprocess per image at shape (1, 3, 1088, 1920)\n"
     ]
    },
    {
     "name": "stdout",
     "output_type": "stream",
     "text": [
      "835\n",
      "Saved: temp_task_folder/img1/000835.jpg\n",
      "836\n"
     ]
    },
    {
     "name": "stderr",
     "output_type": "stream",
     "text": [
      "\n",
      "0: 1088x1920 1 ball, 21 players, 57.5ms\n",
      "Speed: 6.9ms preprocess, 57.5ms inference, 1.2ms postprocess per image at shape (1, 3, 1088, 1920)\n"
     ]
    },
    {
     "name": "stdout",
     "output_type": "stream",
     "text": [
      "Saved: temp_task_folder/img1/000836.jpg\n",
      "837\n",
      "Saved: temp_task_folder/img1/000837.jpg\n"
     ]
    },
    {
     "name": "stderr",
     "output_type": "stream",
     "text": [
      "\n",
      "0: 1088x1920 1 ball, 21 players, 57.5ms\n",
      "Speed: 6.8ms preprocess, 57.5ms inference, 1.1ms postprocess per image at shape (1, 3, 1088, 1920)\n",
      "\n",
      "0: 1088x1920 1 ball, 21 players, 57.6ms\n",
      "Speed: 6.8ms preprocess, 57.6ms inference, 1.1ms postprocess per image at shape (1, 3, 1088, 1920)\n"
     ]
    },
    {
     "name": "stdout",
     "output_type": "stream",
     "text": [
      "838\n",
      "Saved: temp_task_folder/img1/000838.jpg\n",
      "839\n",
      "Saved: temp_task_folder/img1/000839.jpg\n"
     ]
    },
    {
     "name": "stderr",
     "output_type": "stream",
     "text": [
      "\n",
      "0: 1088x1920 1 ball, 21 players, 57.5ms\n",
      "Speed: 6.9ms preprocess, 57.5ms inference, 1.1ms postprocess per image at shape (1, 3, 1088, 1920)\n",
      "\n",
      "0: 1088x1920 1 ball, 21 players, 57.3ms\n",
      "Speed: 6.8ms preprocess, 57.3ms inference, 1.1ms postprocess per image at shape (1, 3, 1088, 1920)\n"
     ]
    },
    {
     "name": "stdout",
     "output_type": "stream",
     "text": [
      "840\n",
      "Saved: temp_task_folder/img1/000840.jpg\n",
      "841\n",
      "Saved: temp_task_folder/img1/000841.jpg\n"
     ]
    },
    {
     "name": "stderr",
     "output_type": "stream",
     "text": [
      "\n",
      "0: 1088x1920 1 ball, 22 players, 57.3ms\n",
      "Speed: 6.9ms preprocess, 57.3ms inference, 1.1ms postprocess per image at shape (1, 3, 1088, 1920)\n",
      "\n",
      "0: 1088x1920 1 ball, 21 players, 57.3ms\n",
      "Speed: 6.9ms preprocess, 57.3ms inference, 1.1ms postprocess per image at shape (1, 3, 1088, 1920)\n"
     ]
    },
    {
     "name": "stdout",
     "output_type": "stream",
     "text": [
      "842\n",
      "Saved: temp_task_folder/img1/000842.jpg\n",
      "843\n",
      "Saved: temp_task_folder/img1/000843.jpg\n"
     ]
    },
    {
     "name": "stderr",
     "output_type": "stream",
     "text": [
      "\n",
      "0: 1088x1920 1 ball, 21 players, 57.4ms\n",
      "Speed: 6.9ms preprocess, 57.4ms inference, 1.1ms postprocess per image at shape (1, 3, 1088, 1920)\n",
      "\n",
      "0: 1088x1920 1 ball, 21 players, 57.4ms\n",
      "Speed: 6.8ms preprocess, 57.4ms inference, 1.1ms postprocess per image at shape (1, 3, 1088, 1920)\n"
     ]
    },
    {
     "name": "stdout",
     "output_type": "stream",
     "text": [
      "844\n",
      "Saved: temp_task_folder/img1/000844.jpg\n",
      "845\n",
      "Saved: temp_task_folder/img1/000845.jpg\n"
     ]
    },
    {
     "name": "stderr",
     "output_type": "stream",
     "text": [
      "\n",
      "0: 1088x1920 1 ball, 21 players, 57.4ms\n",
      "Speed: 6.8ms preprocess, 57.4ms inference, 1.1ms postprocess per image at shape (1, 3, 1088, 1920)\n",
      "\n",
      "0: 1088x1920 1 ball, 21 players, 57.2ms\n",
      "Speed: 6.8ms preprocess, 57.2ms inference, 1.1ms postprocess per image at shape (1, 3, 1088, 1920)\n"
     ]
    },
    {
     "name": "stdout",
     "output_type": "stream",
     "text": [
      "846\n",
      "Saved: temp_task_folder/img1/000846.jpg\n",
      "847\n",
      "Saved: temp_task_folder/img1/000847.jpg\n"
     ]
    },
    {
     "name": "stderr",
     "output_type": "stream",
     "text": [
      "\n",
      "0: 1088x1920 1 ball, 21 players, 57.4ms\n",
      "Speed: 6.8ms preprocess, 57.4ms inference, 1.1ms postprocess per image at shape (1, 3, 1088, 1920)\n",
      "\n",
      "0: 1088x1920 1 ball, 21 players, 57.5ms\n",
      "Speed: 6.9ms preprocess, 57.5ms inference, 1.1ms postprocess per image at shape (1, 3, 1088, 1920)\n"
     ]
    },
    {
     "name": "stdout",
     "output_type": "stream",
     "text": [
      "848\n",
      "Saved: temp_task_folder/img1/000848.jpg\n",
      "849\n",
      "Saved: temp_task_folder/img1/000849.jpg\n"
     ]
    },
    {
     "name": "stderr",
     "output_type": "stream",
     "text": [
      "\n",
      "0: 1088x1920 1 ball, 21 players, 57.4ms\n",
      "Speed: 6.9ms preprocess, 57.4ms inference, 1.1ms postprocess per image at shape (1, 3, 1088, 1920)\n",
      "\n",
      "0: 1088x1920 1 ball, 21 players, 57.5ms\n",
      "Speed: 6.8ms preprocess, 57.5ms inference, 1.1ms postprocess per image at shape (1, 3, 1088, 1920)\n"
     ]
    },
    {
     "name": "stdout",
     "output_type": "stream",
     "text": [
      "850\n",
      "Saved: temp_task_folder/img1/000850.jpg\n",
      "851\n",
      "Saved: temp_task_folder/img1/000851.jpg\n"
     ]
    },
    {
     "name": "stderr",
     "output_type": "stream",
     "text": [
      "\n",
      "0: 1088x1920 1 ball, 21 players, 57.2ms\n",
      "Speed: 6.9ms preprocess, 57.2ms inference, 1.1ms postprocess per image at shape (1, 3, 1088, 1920)\n",
      "\n",
      "0: 1088x1920 1 ball, 21 players, 57.4ms\n",
      "Speed: 6.8ms preprocess, 57.4ms inference, 1.1ms postprocess per image at shape (1, 3, 1088, 1920)\n"
     ]
    },
    {
     "name": "stdout",
     "output_type": "stream",
     "text": [
      "852\n",
      "Saved: temp_task_folder/img1/000852.jpg\n",
      "853\n",
      "Saved: temp_task_folder/img1/000853.jpg\n"
     ]
    },
    {
     "name": "stderr",
     "output_type": "stream",
     "text": [
      "\n",
      "0: 1088x1920 22 players, 57.3ms\n",
      "Speed: 6.8ms preprocess, 57.3ms inference, 1.1ms postprocess per image at shape (1, 3, 1088, 1920)\n",
      "\n",
      "0: 1088x1920 22 players, 57.5ms\n",
      "Speed: 6.8ms preprocess, 57.5ms inference, 1.1ms postprocess per image at shape (1, 3, 1088, 1920)\n"
     ]
    },
    {
     "name": "stdout",
     "output_type": "stream",
     "text": [
      "854\n",
      "Saved: temp_task_folder/img1/000854.jpg\n",
      "855\n",
      "Saved: temp_task_folder/img1/000855.jpg\n"
     ]
    },
    {
     "name": "stderr",
     "output_type": "stream",
     "text": [
      "\n",
      "0: 1088x1920 22 players, 57.4ms\n",
      "Speed: 6.8ms preprocess, 57.4ms inference, 1.1ms postprocess per image at shape (1, 3, 1088, 1920)\n",
      "\n",
      "0: 1088x1920 1 ball, 22 players, 57.5ms\n",
      "Speed: 6.8ms preprocess, 57.5ms inference, 1.1ms postprocess per image at shape (1, 3, 1088, 1920)\n"
     ]
    },
    {
     "name": "stdout",
     "output_type": "stream",
     "text": [
      "856\n",
      "Saved: temp_task_folder/img1/000856.jpg\n",
      "857\n",
      "Saved: temp_task_folder/img1/000857.jpg\n"
     ]
    },
    {
     "name": "stderr",
     "output_type": "stream",
     "text": [
      "\n",
      "0: 1088x1920 1 ball, 22 players, 57.4ms\n",
      "Speed: 6.9ms preprocess, 57.4ms inference, 1.1ms postprocess per image at shape (1, 3, 1088, 1920)\n",
      "\n",
      "0: 1088x1920 1 ball, 22 players, 57.4ms\n",
      "Speed: 6.8ms preprocess, 57.4ms inference, 1.1ms postprocess per image at shape (1, 3, 1088, 1920)\n"
     ]
    },
    {
     "name": "stdout",
     "output_type": "stream",
     "text": [
      "858\n",
      "Saved: temp_task_folder/img1/000858.jpg\n",
      "859\n",
      "Saved: temp_task_folder/img1/000859.jpg\n"
     ]
    },
    {
     "name": "stderr",
     "output_type": "stream",
     "text": [
      "\n",
      "0: 1088x1920 1 ball, 22 players, 57.3ms\n",
      "Speed: 7.7ms preprocess, 57.3ms inference, 1.1ms postprocess per image at shape (1, 3, 1088, 1920)\n",
      "\n",
      "0: 1088x1920 1 ball, 22 players, 57.3ms\n",
      "Speed: 7.0ms preprocess, 57.3ms inference, 1.1ms postprocess per image at shape (1, 3, 1088, 1920)\n"
     ]
    },
    {
     "name": "stdout",
     "output_type": "stream",
     "text": [
      "860\n",
      "Saved: temp_task_folder/img1/000860.jpg\n",
      "861\n",
      "Saved: temp_task_folder/img1/000861.jpg\n"
     ]
    },
    {
     "name": "stderr",
     "output_type": "stream",
     "text": [
      "\n",
      "0: 1088x1920 1 ball, 22 players, 57.4ms\n",
      "Speed: 6.8ms preprocess, 57.4ms inference, 1.2ms postprocess per image at shape (1, 3, 1088, 1920)\n",
      "\n",
      "0: 1088x1920 1 ball, 23 players, 57.3ms\n",
      "Speed: 6.9ms preprocess, 57.3ms inference, 1.1ms postprocess per image at shape (1, 3, 1088, 1920)\n"
     ]
    },
    {
     "name": "stdout",
     "output_type": "stream",
     "text": [
      "862\n",
      "Saved: temp_task_folder/img1/000862.jpg\n",
      "863\n",
      "Saved: temp_task_folder/img1/000863.jpg\n"
     ]
    },
    {
     "name": "stderr",
     "output_type": "stream",
     "text": [
      "\n",
      "0: 1088x1920 1 ball, 22 players, 57.2ms\n",
      "Speed: 6.8ms preprocess, 57.2ms inference, 1.1ms postprocess per image at shape (1, 3, 1088, 1920)\n",
      "\n",
      "0: 1088x1920 1 ball, 22 players, 57.5ms\n",
      "Speed: 6.8ms preprocess, 57.5ms inference, 1.1ms postprocess per image at shape (1, 3, 1088, 1920)\n"
     ]
    },
    {
     "name": "stdout",
     "output_type": "stream",
     "text": [
      "864\n",
      "Saved: temp_task_folder/img1/000864.jpg\n",
      "865\n",
      "Saved: temp_task_folder/img1/000865.jpg\n"
     ]
    },
    {
     "name": "stderr",
     "output_type": "stream",
     "text": [
      "\n",
      "0: 1088x1920 1 ball, 22 players, 57.4ms\n",
      "Speed: 6.8ms preprocess, 57.4ms inference, 1.1ms postprocess per image at shape (1, 3, 1088, 1920)\n",
      "\n",
      "0: 1088x1920 1 ball, 22 players, 57.4ms\n",
      "Speed: 6.8ms preprocess, 57.4ms inference, 1.1ms postprocess per image at shape (1, 3, 1088, 1920)\n"
     ]
    },
    {
     "name": "stdout",
     "output_type": "stream",
     "text": [
      "866\n",
      "Saved: temp_task_folder/img1/000866.jpg\n",
      "867\n",
      "Saved: temp_task_folder/img1/000867.jpg\n"
     ]
    },
    {
     "name": "stderr",
     "output_type": "stream",
     "text": [
      "\n",
      "0: 1088x1920 1 ball, 22 players, 57.5ms\n",
      "Speed: 6.8ms preprocess, 57.5ms inference, 1.1ms postprocess per image at shape (1, 3, 1088, 1920)\n",
      "\n",
      "0: 1088x1920 1 ball, 23 players, 57.4ms\n",
      "Speed: 6.9ms preprocess, 57.4ms inference, 1.1ms postprocess per image at shape (1, 3, 1088, 1920)\n"
     ]
    },
    {
     "name": "stdout",
     "output_type": "stream",
     "text": [
      "868\n",
      "Saved: temp_task_folder/img1/000868.jpg\n",
      "869\n",
      "Saved: temp_task_folder/img1/000869.jpg\n"
     ]
    },
    {
     "name": "stderr",
     "output_type": "stream",
     "text": [
      "\n",
      "0: 1088x1920 1 ball, 22 players, 57.3ms\n",
      "Speed: 6.8ms preprocess, 57.3ms inference, 1.1ms postprocess per image at shape (1, 3, 1088, 1920)\n",
      "\n",
      "0: 1088x1920 1 ball, 22 players, 57.3ms\n",
      "Speed: 6.8ms preprocess, 57.3ms inference, 1.1ms postprocess per image at shape (1, 3, 1088, 1920)\n"
     ]
    },
    {
     "name": "stdout",
     "output_type": "stream",
     "text": [
      "870\n",
      "Saved: temp_task_folder/img1/000870.jpg\n",
      "871\n",
      "Saved: temp_task_folder/img1/000871.jpg\n"
     ]
    },
    {
     "name": "stderr",
     "output_type": "stream",
     "text": [
      "\n",
      "0: 1088x1920 1 ball, 22 players, 57.5ms\n",
      "Speed: 6.9ms preprocess, 57.5ms inference, 1.1ms postprocess per image at shape (1, 3, 1088, 1920)\n",
      "\n",
      "0: 1088x1920 1 ball, 22 players, 57.4ms\n",
      "Speed: 6.9ms preprocess, 57.4ms inference, 1.1ms postprocess per image at shape (1, 3, 1088, 1920)\n"
     ]
    },
    {
     "name": "stdout",
     "output_type": "stream",
     "text": [
      "872\n",
      "Saved: temp_task_folder/img1/000872.jpg\n",
      "873\n",
      "Saved: temp_task_folder/img1/000873.jpg\n"
     ]
    },
    {
     "name": "stderr",
     "output_type": "stream",
     "text": [
      "\n",
      "0: 1088x1920 1 ball, 22 players, 57.4ms\n",
      "Speed: 6.9ms preprocess, 57.4ms inference, 1.1ms postprocess per image at shape (1, 3, 1088, 1920)\n",
      "\n",
      "0: 1088x1920 1 ball, 22 players, 57.4ms\n",
      "Speed: 7.0ms preprocess, 57.4ms inference, 1.2ms postprocess per image at shape (1, 3, 1088, 1920)\n"
     ]
    },
    {
     "name": "stdout",
     "output_type": "stream",
     "text": [
      "874\n",
      "Saved: temp_task_folder/img1/000874.jpg\n",
      "875\n",
      "Saved: temp_task_folder/img1/000875.jpg\n"
     ]
    },
    {
     "name": "stderr",
     "output_type": "stream",
     "text": [
      "\n",
      "0: 1088x1920 1 ball, 22 players, 57.3ms\n",
      "Speed: 7.2ms preprocess, 57.3ms inference, 1.1ms postprocess per image at shape (1, 3, 1088, 1920)\n",
      "\n",
      "0: 1088x1920 1 ball, 22 players, 57.4ms\n",
      "Speed: 7.2ms preprocess, 57.4ms inference, 1.1ms postprocess per image at shape (1, 3, 1088, 1920)\n"
     ]
    },
    {
     "name": "stdout",
     "output_type": "stream",
     "text": [
      "876\n",
      "Saved: temp_task_folder/img1/000876.jpg\n",
      "877\n",
      "Saved: temp_task_folder/img1/000877.jpg\n"
     ]
    },
    {
     "name": "stderr",
     "output_type": "stream",
     "text": [
      "\n",
      "0: 1088x1920 1 ball, 22 players, 57.5ms\n",
      "Speed: 6.9ms preprocess, 57.5ms inference, 1.1ms postprocess per image at shape (1, 3, 1088, 1920)\n",
      "\n",
      "0: 1088x1920 1 ball, 22 players, 57.3ms\n",
      "Speed: 6.8ms preprocess, 57.3ms inference, 1.1ms postprocess per image at shape (1, 3, 1088, 1920)\n"
     ]
    },
    {
     "name": "stdout",
     "output_type": "stream",
     "text": [
      "878\n",
      "Saved: temp_task_folder/img1/000878.jpg\n",
      "879\n",
      "Saved: temp_task_folder/img1/000879.jpg\n"
     ]
    },
    {
     "name": "stderr",
     "output_type": "stream",
     "text": [
      "\n",
      "0: 1088x1920 2 balls, 22 players, 57.4ms\n",
      "Speed: 7.2ms preprocess, 57.4ms inference, 1.1ms postprocess per image at shape (1, 3, 1088, 1920)\n",
      "\n",
      "0: 1088x1920 1 ball, 22 players, 57.5ms\n",
      "Speed: 7.3ms preprocess, 57.5ms inference, 1.1ms postprocess per image at shape (1, 3, 1088, 1920)\n"
     ]
    },
    {
     "name": "stdout",
     "output_type": "stream",
     "text": [
      "880\n",
      "Saved: temp_task_folder/img1/000880.jpg\n",
      "881\n",
      "Saved: temp_task_folder/img1/000881.jpg\n"
     ]
    },
    {
     "name": "stderr",
     "output_type": "stream",
     "text": [
      "\n",
      "0: 1088x1920 1 ball, 22 players, 57.2ms\n",
      "Speed: 6.9ms preprocess, 57.2ms inference, 1.1ms postprocess per image at shape (1, 3, 1088, 1920)\n",
      "\n",
      "0: 1088x1920 1 ball, 22 players, 57.4ms\n",
      "Speed: 6.8ms preprocess, 57.4ms inference, 1.1ms postprocess per image at shape (1, 3, 1088, 1920)\n"
     ]
    },
    {
     "name": "stdout",
     "output_type": "stream",
     "text": [
      "882\n",
      "Saved: temp_task_folder/img1/000882.jpg\n",
      "883\n",
      "Saved: temp_task_folder/img1/000883.jpg\n"
     ]
    },
    {
     "name": "stderr",
     "output_type": "stream",
     "text": [
      "\n",
      "0: 1088x1920 1 ball, 22 players, 57.5ms\n",
      "Speed: 6.8ms preprocess, 57.5ms inference, 1.1ms postprocess per image at shape (1, 3, 1088, 1920)\n",
      "\n",
      "0: 1088x1920 1 ball, 22 players, 57.6ms\n",
      "Speed: 6.9ms preprocess, 57.6ms inference, 1.1ms postprocess per image at shape (1, 3, 1088, 1920)\n"
     ]
    },
    {
     "name": "stdout",
     "output_type": "stream",
     "text": [
      "884\n",
      "Saved: temp_task_folder/img1/000884.jpg\n",
      "885\n",
      "Saved: temp_task_folder/img1/000885.jpg\n"
     ]
    },
    {
     "name": "stderr",
     "output_type": "stream",
     "text": [
      "\n",
      "0: 1088x1920 1 ball, 22 players, 57.2ms\n",
      "Speed: 6.8ms preprocess, 57.2ms inference, 1.1ms postprocess per image at shape (1, 3, 1088, 1920)\n",
      "\n",
      "0: 1088x1920 1 ball, 22 players, 57.2ms\n",
      "Speed: 6.8ms preprocess, 57.2ms inference, 1.1ms postprocess per image at shape (1, 3, 1088, 1920)\n"
     ]
    },
    {
     "name": "stdout",
     "output_type": "stream",
     "text": [
      "886\n",
      "Saved: temp_task_folder/img1/000886.jpg\n",
      "887\n",
      "Saved: temp_task_folder/img1/000887.jpg\n"
     ]
    },
    {
     "name": "stderr",
     "output_type": "stream",
     "text": [
      "\n",
      "0: 1088x1920 1 ball, 22 players, 57.5ms\n",
      "Speed: 6.8ms preprocess, 57.5ms inference, 1.1ms postprocess per image at shape (1, 3, 1088, 1920)\n",
      "\n",
      "0: 1088x1920 2 balls, 22 players, 57.3ms\n",
      "Speed: 6.8ms preprocess, 57.3ms inference, 1.1ms postprocess per image at shape (1, 3, 1088, 1920)\n"
     ]
    },
    {
     "name": "stdout",
     "output_type": "stream",
     "text": [
      "888\n",
      "Saved: temp_task_folder/img1/000888.jpg\n",
      "889\n",
      "Saved: temp_task_folder/img1/000889.jpg\n"
     ]
    },
    {
     "name": "stderr",
     "output_type": "stream",
     "text": [
      "\n",
      "0: 1088x1920 1 ball, 22 players, 57.6ms\n",
      "Speed: 6.8ms preprocess, 57.6ms inference, 1.1ms postprocess per image at shape (1, 3, 1088, 1920)\n",
      "\n",
      "0: 1088x1920 1 ball, 22 players, 57.5ms\n",
      "Speed: 6.8ms preprocess, 57.5ms inference, 1.1ms postprocess per image at shape (1, 3, 1088, 1920)\n"
     ]
    },
    {
     "name": "stdout",
     "output_type": "stream",
     "text": [
      "890\n",
      "Saved: temp_task_folder/img1/000890.jpg\n",
      "891\n",
      "Saved: temp_task_folder/img1/000891.jpg\n"
     ]
    },
    {
     "name": "stderr",
     "output_type": "stream",
     "text": [
      "\n",
      "0: 1088x1920 1 ball, 22 players, 57.5ms\n",
      "Speed: 6.9ms preprocess, 57.5ms inference, 1.2ms postprocess per image at shape (1, 3, 1088, 1920)\n",
      "\n",
      "0: 1088x1920 1 ball, 22 players, 57.5ms\n",
      "Speed: 6.8ms preprocess, 57.5ms inference, 1.1ms postprocess per image at shape (1, 3, 1088, 1920)\n"
     ]
    },
    {
     "name": "stdout",
     "output_type": "stream",
     "text": [
      "892\n",
      "Saved: temp_task_folder/img1/000892.jpg\n",
      "893\n",
      "Saved: temp_task_folder/img1/000893.jpg\n"
     ]
    },
    {
     "name": "stderr",
     "output_type": "stream",
     "text": [
      "\n",
      "0: 1088x1920 1 ball, 22 players, 57.2ms\n",
      "Speed: 6.8ms preprocess, 57.2ms inference, 1.1ms postprocess per image at shape (1, 3, 1088, 1920)\n",
      "\n",
      "0: 1088x1920 1 ball, 22 players, 57.4ms\n",
      "Speed: 6.8ms preprocess, 57.4ms inference, 1.2ms postprocess per image at shape (1, 3, 1088, 1920)\n"
     ]
    },
    {
     "name": "stdout",
     "output_type": "stream",
     "text": [
      "894\n",
      "Saved: temp_task_folder/img1/000894.jpg\n",
      "895\n",
      "Saved: temp_task_folder/img1/000895.jpg\n"
     ]
    },
    {
     "name": "stderr",
     "output_type": "stream",
     "text": [
      "\n",
      "0: 1088x1920 1 ball, 22 players, 57.4ms\n",
      "Speed: 6.8ms preprocess, 57.4ms inference, 1.1ms postprocess per image at shape (1, 3, 1088, 1920)\n",
      "\n",
      "0: 1088x1920 1 ball, 23 players, 57.5ms\n",
      "Speed: 6.8ms preprocess, 57.5ms inference, 1.1ms postprocess per image at shape (1, 3, 1088, 1920)\n"
     ]
    },
    {
     "name": "stdout",
     "output_type": "stream",
     "text": [
      "896\n",
      "Saved: temp_task_folder/img1/000896.jpg\n",
      "897\n",
      "Saved: temp_task_folder/img1/000897.jpg\n"
     ]
    },
    {
     "name": "stderr",
     "output_type": "stream",
     "text": [
      "\n",
      "0: 1088x1920 1 ball, 22 players, 57.3ms\n",
      "Speed: 6.9ms preprocess, 57.3ms inference, 1.1ms postprocess per image at shape (1, 3, 1088, 1920)\n",
      "\n",
      "0: 1088x1920 1 ball, 23 players, 57.2ms\n",
      "Speed: 6.8ms preprocess, 57.2ms inference, 1.1ms postprocess per image at shape (1, 3, 1088, 1920)\n"
     ]
    },
    {
     "name": "stdout",
     "output_type": "stream",
     "text": [
      "898\n",
      "Saved: temp_task_folder/img1/000898.jpg\n",
      "899\n",
      "Saved: temp_task_folder/img1/000899.jpg\n"
     ]
    },
    {
     "name": "stderr",
     "output_type": "stream",
     "text": [
      "\n",
      "0: 1088x1920 1 ball, 23 players, 57.5ms\n",
      "Speed: 6.8ms preprocess, 57.5ms inference, 1.1ms postprocess per image at shape (1, 3, 1088, 1920)\n",
      "\n",
      "0: 1088x1920 1 ball, 23 players, 57.4ms\n",
      "Speed: 6.8ms preprocess, 57.4ms inference, 1.1ms postprocess per image at shape (1, 3, 1088, 1920)\n"
     ]
    },
    {
     "name": "stdout",
     "output_type": "stream",
     "text": [
      "900\n",
      "Saved: temp_task_folder/img1/000900.jpg\n",
      "901\n",
      "Saved: temp_task_folder/img1/000901.jpg\n"
     ]
    },
    {
     "name": "stderr",
     "output_type": "stream",
     "text": [
      "\n",
      "0: 1088x1920 1 ball, 23 players, 57.4ms\n",
      "Speed: 6.8ms preprocess, 57.4ms inference, 1.1ms postprocess per image at shape (1, 3, 1088, 1920)\n",
      "\n",
      "0: 1088x1920 1 ball, 23 players, 57.3ms\n",
      "Speed: 6.8ms preprocess, 57.3ms inference, 1.1ms postprocess per image at shape (1, 3, 1088, 1920)\n"
     ]
    },
    {
     "name": "stdout",
     "output_type": "stream",
     "text": [
      "902\n",
      "Saved: temp_task_folder/img1/000902.jpg\n",
      "903\n"
     ]
    },
    {
     "name": "stderr",
     "output_type": "stream",
     "text": [
      "\n",
      "0: 1088x1920 2 balls, 23 players, 57.3ms\n",
      "Speed: 7.2ms preprocess, 57.3ms inference, 1.1ms postprocess per image at shape (1, 3, 1088, 1920)\n"
     ]
    },
    {
     "name": "stdout",
     "output_type": "stream",
     "text": [
      "Saved: temp_task_folder/img1/000903.jpg\n",
      "904\n",
      "Saved: temp_task_folder/img1/000904.jpg\n"
     ]
    },
    {
     "name": "stderr",
     "output_type": "stream",
     "text": [
      "\n",
      "0: 1088x1920 1 ball, 23 players, 57.5ms\n",
      "Speed: 6.9ms preprocess, 57.5ms inference, 1.1ms postprocess per image at shape (1, 3, 1088, 1920)\n",
      "\n",
      "0: 1088x1920 1 ball, 23 players, 57.4ms\n",
      "Speed: 6.9ms preprocess, 57.4ms inference, 1.1ms postprocess per image at shape (1, 3, 1088, 1920)\n"
     ]
    },
    {
     "name": "stdout",
     "output_type": "stream",
     "text": [
      "905\n",
      "Saved: temp_task_folder/img1/000905.jpg\n",
      "906\n",
      "Saved: temp_task_folder/img1/000906.jpg\n"
     ]
    },
    {
     "name": "stderr",
     "output_type": "stream",
     "text": [
      "\n",
      "0: 1088x1920 1 ball, 23 players, 57.4ms\n",
      "Speed: 7.2ms preprocess, 57.4ms inference, 1.1ms postprocess per image at shape (1, 3, 1088, 1920)\n",
      "\n",
      "0: 1088x1920 1 ball, 23 players, 57.3ms\n",
      "Speed: 6.8ms preprocess, 57.3ms inference, 1.1ms postprocess per image at shape (1, 3, 1088, 1920)\n"
     ]
    },
    {
     "name": "stdout",
     "output_type": "stream",
     "text": [
      "907\n",
      "Saved: temp_task_folder/img1/000907.jpg\n",
      "908\n",
      "Saved: temp_task_folder/img1/000908.jpg\n"
     ]
    },
    {
     "name": "stderr",
     "output_type": "stream",
     "text": [
      "\n",
      "0: 1088x1920 1 ball, 23 players, 57.3ms\n",
      "Speed: 6.8ms preprocess, 57.3ms inference, 1.1ms postprocess per image at shape (1, 3, 1088, 1920)\n",
      "\n",
      "0: 1088x1920 1 ball, 23 players, 57.5ms\n",
      "Speed: 6.8ms preprocess, 57.5ms inference, 1.1ms postprocess per image at shape (1, 3, 1088, 1920)\n"
     ]
    },
    {
     "name": "stdout",
     "output_type": "stream",
     "text": [
      "909\n",
      "Saved: temp_task_folder/img1/000909.jpg\n",
      "910\n",
      "Saved: temp_task_folder/img1/000910.jpg\n"
     ]
    },
    {
     "name": "stderr",
     "output_type": "stream",
     "text": [
      "\n",
      "0: 1088x1920 1 ball, 23 players, 57.2ms\n",
      "Speed: 6.9ms preprocess, 57.2ms inference, 1.1ms postprocess per image at shape (1, 3, 1088, 1920)\n",
      "\n",
      "0: 1088x1920 1 ball, 23 players, 57.3ms\n",
      "Speed: 7.0ms preprocess, 57.3ms inference, 1.1ms postprocess per image at shape (1, 3, 1088, 1920)\n"
     ]
    },
    {
     "name": "stdout",
     "output_type": "stream",
     "text": [
      "911\n",
      "Saved: temp_task_folder/img1/000911.jpg\n",
      "912\n",
      "Saved: temp_task_folder/img1/000912.jpg\n"
     ]
    },
    {
     "name": "stderr",
     "output_type": "stream",
     "text": [
      "\n",
      "0: 1088x1920 1 ball, 23 players, 57.3ms\n",
      "Speed: 6.9ms preprocess, 57.3ms inference, 1.1ms postprocess per image at shape (1, 3, 1088, 1920)\n",
      "\n",
      "0: 1088x1920 1 ball, 23 players, 57.3ms\n",
      "Speed: 6.8ms preprocess, 57.3ms inference, 1.1ms postprocess per image at shape (1, 3, 1088, 1920)\n"
     ]
    },
    {
     "name": "stdout",
     "output_type": "stream",
     "text": [
      "913\n",
      "Saved: temp_task_folder/img1/000913.jpg\n",
      "914\n",
      "Saved: temp_task_folder/img1/000914.jpg\n"
     ]
    },
    {
     "name": "stderr",
     "output_type": "stream",
     "text": [
      "\n",
      "0: 1088x1920 1 ball, 23 players, 57.3ms\n",
      "Speed: 6.8ms preprocess, 57.3ms inference, 1.1ms postprocess per image at shape (1, 3, 1088, 1920)\n",
      "\n",
      "0: 1088x1920 1 ball, 23 players, 57.3ms\n",
      "Speed: 6.8ms preprocess, 57.3ms inference, 1.1ms postprocess per image at shape (1, 3, 1088, 1920)\n"
     ]
    },
    {
     "name": "stdout",
     "output_type": "stream",
     "text": [
      "915\n",
      "Saved: temp_task_folder/img1/000915.jpg\n",
      "916\n",
      "Saved: temp_task_folder/img1/000916.jpg\n"
     ]
    },
    {
     "name": "stderr",
     "output_type": "stream",
     "text": [
      "\n",
      "0: 1088x1920 23 players, 57.5ms\n",
      "Speed: 6.9ms preprocess, 57.5ms inference, 1.1ms postprocess per image at shape (1, 3, 1088, 1920)\n",
      "\n",
      "0: 1088x1920 24 players, 57.5ms\n",
      "Speed: 6.8ms preprocess, 57.5ms inference, 1.1ms postprocess per image at shape (1, 3, 1088, 1920)\n"
     ]
    },
    {
     "name": "stdout",
     "output_type": "stream",
     "text": [
      "917\n",
      "Saved: temp_task_folder/img1/000917.jpg\n",
      "918\n",
      "Saved: temp_task_folder/img1/000918.jpg\n"
     ]
    },
    {
     "name": "stderr",
     "output_type": "stream",
     "text": [
      "\n",
      "0: 1088x1920 23 players, 57.5ms\n",
      "Speed: 6.8ms preprocess, 57.5ms inference, 1.1ms postprocess per image at shape (1, 3, 1088, 1920)\n",
      "\n",
      "0: 1088x1920 1 ball, 22 players, 57.3ms\n",
      "Speed: 6.8ms preprocess, 57.3ms inference, 1.1ms postprocess per image at shape (1, 3, 1088, 1920)\n"
     ]
    },
    {
     "name": "stdout",
     "output_type": "stream",
     "text": [
      "919\n",
      "Saved: temp_task_folder/img1/000919.jpg\n",
      "920\n",
      "Saved: temp_task_folder/img1/000920.jpg\n"
     ]
    },
    {
     "name": "stderr",
     "output_type": "stream",
     "text": [
      "\n",
      "0: 1088x1920 2 balls, 21 players, 57.4ms\n",
      "Speed: 6.9ms preprocess, 57.4ms inference, 1.1ms postprocess per image at shape (1, 3, 1088, 1920)\n",
      "\n",
      "0: 1088x1920 1 ball, 21 players, 57.4ms\n",
      "Speed: 6.9ms preprocess, 57.4ms inference, 1.1ms postprocess per image at shape (1, 3, 1088, 1920)\n"
     ]
    },
    {
     "name": "stdout",
     "output_type": "stream",
     "text": [
      "921\n",
      "Saved: temp_task_folder/img1/000921.jpg\n",
      "922\n",
      "Saved: temp_task_folder/img1/000922.jpg\n"
     ]
    },
    {
     "name": "stderr",
     "output_type": "stream",
     "text": [
      "\n",
      "0: 1088x1920 1 ball, 21 players, 57.4ms\n",
      "Speed: 6.8ms preprocess, 57.4ms inference, 1.1ms postprocess per image at shape (1, 3, 1088, 1920)\n",
      "\n",
      "0: 1088x1920 1 ball, 21 players, 57.4ms\n",
      "Speed: 6.8ms preprocess, 57.4ms inference, 1.1ms postprocess per image at shape (1, 3, 1088, 1920)\n"
     ]
    },
    {
     "name": "stdout",
     "output_type": "stream",
     "text": [
      "923\n",
      "Saved: temp_task_folder/img1/000923.jpg\n",
      "924\n",
      "Saved: temp_task_folder/img1/000924.jpg\n"
     ]
    },
    {
     "name": "stderr",
     "output_type": "stream",
     "text": [
      "\n",
      "0: 1088x1920 1 ball, 22 players, 57.5ms\n",
      "Speed: 6.8ms preprocess, 57.5ms inference, 1.1ms postprocess per image at shape (1, 3, 1088, 1920)\n",
      "\n",
      "0: 1088x1920 1 ball, 21 players, 57.3ms\n",
      "Speed: 6.8ms preprocess, 57.3ms inference, 1.1ms postprocess per image at shape (1, 3, 1088, 1920)\n"
     ]
    },
    {
     "name": "stdout",
     "output_type": "stream",
     "text": [
      "925\n",
      "Saved: temp_task_folder/img1/000925.jpg\n",
      "926\n",
      "Saved: temp_task_folder/img1/000926.jpg\n"
     ]
    },
    {
     "name": "stderr",
     "output_type": "stream",
     "text": [
      "\n",
      "0: 1088x1920 1 ball, 22 players, 57.4ms\n",
      "Speed: 6.8ms preprocess, 57.4ms inference, 1.1ms postprocess per image at shape (1, 3, 1088, 1920)\n",
      "\n",
      "0: 1088x1920 1 ball, 22 players, 57.4ms\n",
      "Speed: 6.8ms preprocess, 57.4ms inference, 1.1ms postprocess per image at shape (1, 3, 1088, 1920)\n"
     ]
    },
    {
     "name": "stdout",
     "output_type": "stream",
     "text": [
      "927\n",
      "Saved: temp_task_folder/img1/000927.jpg\n",
      "928\n",
      "Saved: temp_task_folder/img1/000928.jpg\n"
     ]
    },
    {
     "name": "stderr",
     "output_type": "stream",
     "text": [
      "\n",
      "0: 1088x1920 1 ball, 22 players, 57.4ms\n",
      "Speed: 6.8ms preprocess, 57.4ms inference, 1.1ms postprocess per image at shape (1, 3, 1088, 1920)\n",
      "\n",
      "0: 1088x1920 1 ball, 22 players, 57.5ms\n",
      "Speed: 6.8ms preprocess, 57.5ms inference, 1.1ms postprocess per image at shape (1, 3, 1088, 1920)\n"
     ]
    },
    {
     "name": "stdout",
     "output_type": "stream",
     "text": [
      "929\n",
      "Saved: temp_task_folder/img1/000929.jpg\n",
      "930\n",
      "Saved: temp_task_folder/img1/000930.jpg\n"
     ]
    },
    {
     "name": "stderr",
     "output_type": "stream",
     "text": [
      "\n",
      "0: 1088x1920 1 ball, 22 players, 57.5ms\n",
      "Speed: 6.9ms preprocess, 57.5ms inference, 1.1ms postprocess per image at shape (1, 3, 1088, 1920)\n",
      "\n",
      "0: 1088x1920 1 ball, 23 players, 57.5ms\n",
      "Speed: 6.8ms preprocess, 57.5ms inference, 1.1ms postprocess per image at shape (1, 3, 1088, 1920)\n"
     ]
    },
    {
     "name": "stdout",
     "output_type": "stream",
     "text": [
      "931\n",
      "Saved: temp_task_folder/img1/000931.jpg\n",
      "932\n",
      "Saved: temp_task_folder/img1/000932.jpg\n"
     ]
    },
    {
     "name": "stderr",
     "output_type": "stream",
     "text": [
      "\n",
      "0: 1088x1920 1 ball, 22 players, 57.4ms\n",
      "Speed: 6.8ms preprocess, 57.4ms inference, 1.1ms postprocess per image at shape (1, 3, 1088, 1920)\n",
      "\n",
      "0: 1088x1920 1 ball, 23 players, 57.4ms\n",
      "Speed: 6.9ms preprocess, 57.4ms inference, 1.1ms postprocess per image at shape (1, 3, 1088, 1920)\n"
     ]
    },
    {
     "name": "stdout",
     "output_type": "stream",
     "text": [
      "933\n",
      "Saved: temp_task_folder/img1/000933.jpg\n",
      "934\n",
      "Saved: temp_task_folder/img1/000934.jpg\n"
     ]
    },
    {
     "name": "stderr",
     "output_type": "stream",
     "text": [
      "\n",
      "0: 1088x1920 1 ball, 23 players, 57.2ms\n",
      "Speed: 6.9ms preprocess, 57.2ms inference, 1.1ms postprocess per image at shape (1, 3, 1088, 1920)\n",
      "\n",
      "0: 1088x1920 1 ball, 23 players, 57.4ms\n",
      "Speed: 6.8ms preprocess, 57.4ms inference, 1.1ms postprocess per image at shape (1, 3, 1088, 1920)\n"
     ]
    },
    {
     "name": "stdout",
     "output_type": "stream",
     "text": [
      "935\n",
      "Saved: temp_task_folder/img1/000935.jpg\n",
      "936\n",
      "Saved: temp_task_folder/img1/000936.jpg\n"
     ]
    },
    {
     "name": "stderr",
     "output_type": "stream",
     "text": [
      "\n",
      "0: 1088x1920 1 ball, 23 players, 57.4ms\n",
      "Speed: 6.8ms preprocess, 57.4ms inference, 1.1ms postprocess per image at shape (1, 3, 1088, 1920)\n",
      "\n",
      "0: 1088x1920 1 ball, 24 players, 57.2ms\n",
      "Speed: 6.9ms preprocess, 57.2ms inference, 1.1ms postprocess per image at shape (1, 3, 1088, 1920)\n"
     ]
    },
    {
     "name": "stdout",
     "output_type": "stream",
     "text": [
      "937\n",
      "Saved: temp_task_folder/img1/000937.jpg\n",
      "938\n",
      "Saved: temp_task_folder/img1/000938.jpg\n"
     ]
    },
    {
     "name": "stderr",
     "output_type": "stream",
     "text": [
      "\n",
      "0: 1088x1920 1 ball, 23 players, 57.3ms\n",
      "Speed: 7.0ms preprocess, 57.3ms inference, 1.1ms postprocess per image at shape (1, 3, 1088, 1920)\n",
      "\n",
      "0: 1088x1920 1 ball, 23 players, 57.2ms\n",
      "Speed: 6.8ms preprocess, 57.2ms inference, 1.1ms postprocess per image at shape (1, 3, 1088, 1920)\n"
     ]
    },
    {
     "name": "stdout",
     "output_type": "stream",
     "text": [
      "939\n",
      "Saved: temp_task_folder/img1/000939.jpg\n",
      "940\n",
      "Saved: temp_task_folder/img1/000940.jpg\n"
     ]
    },
    {
     "name": "stderr",
     "output_type": "stream",
     "text": [
      "\n",
      "0: 1088x1920 1 ball, 23 players, 57.2ms\n",
      "Speed: 6.9ms preprocess, 57.2ms inference, 1.1ms postprocess per image at shape (1, 3, 1088, 1920)\n",
      "\n",
      "0: 1088x1920 1 ball, 23 players, 57.3ms\n",
      "Speed: 6.8ms preprocess, 57.3ms inference, 1.1ms postprocess per image at shape (1, 3, 1088, 1920)\n"
     ]
    },
    {
     "name": "stdout",
     "output_type": "stream",
     "text": [
      "941\n",
      "Saved: temp_task_folder/img1/000941.jpg\n",
      "942\n",
      "Saved: temp_task_folder/img1/000942.jpg\n"
     ]
    },
    {
     "name": "stderr",
     "output_type": "stream",
     "text": [
      "\n",
      "0: 1088x1920 1 ball, 23 players, 57.4ms\n",
      "Speed: 6.8ms preprocess, 57.4ms inference, 1.1ms postprocess per image at shape (1, 3, 1088, 1920)\n",
      "\n",
      "0: 1088x1920 1 ball, 23 players, 57.4ms\n",
      "Speed: 6.8ms preprocess, 57.4ms inference, 1.1ms postprocess per image at shape (1, 3, 1088, 1920)\n"
     ]
    },
    {
     "name": "stdout",
     "output_type": "stream",
     "text": [
      "943\n",
      "Saved: temp_task_folder/img1/000943.jpg\n",
      "944\n",
      "Saved: temp_task_folder/img1/000944.jpg\n"
     ]
    },
    {
     "name": "stderr",
     "output_type": "stream",
     "text": [
      "\n",
      "0: 1088x1920 1 ball, 23 players, 57.5ms\n",
      "Speed: 6.8ms preprocess, 57.5ms inference, 1.1ms postprocess per image at shape (1, 3, 1088, 1920)\n",
      "\n",
      "0: 1088x1920 1 ball, 22 players, 57.4ms\n",
      "Speed: 6.8ms preprocess, 57.4ms inference, 1.1ms postprocess per image at shape (1, 3, 1088, 1920)\n"
     ]
    },
    {
     "name": "stdout",
     "output_type": "stream",
     "text": [
      "945\n",
      "Saved: temp_task_folder/img1/000945.jpg\n",
      "946\n",
      "Saved: temp_task_folder/img1/000946.jpg\n"
     ]
    },
    {
     "name": "stderr",
     "output_type": "stream",
     "text": [
      "\n",
      "0: 1088x1920 1 ball, 22 players, 57.2ms\n",
      "Speed: 6.8ms preprocess, 57.2ms inference, 1.1ms postprocess per image at shape (1, 3, 1088, 1920)\n",
      "\n",
      "0: 1088x1920 1 ball, 23 players, 57.4ms\n",
      "Speed: 6.9ms preprocess, 57.4ms inference, 1.1ms postprocess per image at shape (1, 3, 1088, 1920)\n"
     ]
    },
    {
     "name": "stdout",
     "output_type": "stream",
     "text": [
      "947\n",
      "Saved: temp_task_folder/img1/000947.jpg\n",
      "948\n",
      "Saved: temp_task_folder/img1/000948.jpg\n"
     ]
    },
    {
     "name": "stderr",
     "output_type": "stream",
     "text": [
      "\n",
      "0: 1088x1920 1 ball, 23 players, 57.2ms\n",
      "Speed: 6.9ms preprocess, 57.2ms inference, 1.1ms postprocess per image at shape (1, 3, 1088, 1920)\n",
      "\n",
      "0: 1088x1920 1 ball, 23 players, 57.2ms\n",
      "Speed: 6.8ms preprocess, 57.2ms inference, 1.1ms postprocess per image at shape (1, 3, 1088, 1920)\n"
     ]
    },
    {
     "name": "stdout",
     "output_type": "stream",
     "text": [
      "949\n",
      "Saved: temp_task_folder/img1/000949.jpg\n",
      "950\n",
      "Saved: temp_task_folder/img1/000950.jpg\n"
     ]
    },
    {
     "name": "stderr",
     "output_type": "stream",
     "text": [
      "\n",
      "0: 1088x1920 1 ball, 23 players, 57.5ms\n",
      "Speed: 6.9ms preprocess, 57.5ms inference, 1.1ms postprocess per image at shape (1, 3, 1088, 1920)\n",
      "\n",
      "0: 1088x1920 1 ball, 23 players, 57.5ms\n",
      "Speed: 6.9ms preprocess, 57.5ms inference, 1.1ms postprocess per image at shape (1, 3, 1088, 1920)\n"
     ]
    },
    {
     "name": "stdout",
     "output_type": "stream",
     "text": [
      "951\n",
      "Saved: temp_task_folder/img1/000951.jpg\n",
      "952\n"
     ]
    },
    {
     "name": "stderr",
     "output_type": "stream",
     "text": [
      "\n",
      "0: 1088x1920 1 ball, 23 players, 57.2ms\n",
      "Speed: 6.9ms preprocess, 57.2ms inference, 1.1ms postprocess per image at shape (1, 3, 1088, 1920)\n"
     ]
    },
    {
     "name": "stdout",
     "output_type": "stream",
     "text": [
      "Saved: temp_task_folder/img1/000952.jpg\n",
      "953\n",
      "Saved: temp_task_folder/img1/000953.jpg\n"
     ]
    },
    {
     "name": "stderr",
     "output_type": "stream",
     "text": [
      "\n",
      "0: 1088x1920 1 ball, 24 players, 57.5ms\n",
      "Speed: 6.8ms preprocess, 57.5ms inference, 1.1ms postprocess per image at shape (1, 3, 1088, 1920)\n",
      "\n",
      "0: 1088x1920 1 ball, 24 players, 57.4ms\n",
      "Speed: 6.9ms preprocess, 57.4ms inference, 1.1ms postprocess per image at shape (1, 3, 1088, 1920)\n"
     ]
    },
    {
     "name": "stdout",
     "output_type": "stream",
     "text": [
      "954\n",
      "Saved: temp_task_folder/img1/000954.jpg\n",
      "955\n",
      "Saved: temp_task_folder/img1/000955.jpg\n"
     ]
    },
    {
     "name": "stderr",
     "output_type": "stream",
     "text": [
      "\n",
      "0: 1088x1920 1 ball, 23 players, 57.3ms\n",
      "Speed: 6.8ms preprocess, 57.3ms inference, 1.1ms postprocess per image at shape (1, 3, 1088, 1920)\n",
      "\n",
      "0: 1088x1920 1 ball, 23 players, 57.3ms\n",
      "Speed: 6.9ms preprocess, 57.3ms inference, 1.1ms postprocess per image at shape (1, 3, 1088, 1920)\n"
     ]
    },
    {
     "name": "stdout",
     "output_type": "stream",
     "text": [
      "956\n",
      "Saved: temp_task_folder/img1/000956.jpg\n",
      "957\n",
      "Saved: temp_task_folder/img1/000957.jpg\n"
     ]
    },
    {
     "name": "stderr",
     "output_type": "stream",
     "text": [
      "\n",
      "0: 1088x1920 1 ball, 23 players, 57.3ms\n",
      "Speed: 6.9ms preprocess, 57.3ms inference, 1.1ms postprocess per image at shape (1, 3, 1088, 1920)\n",
      "\n",
      "0: 1088x1920 1 ball, 23 players, 57.4ms\n",
      "Speed: 6.9ms preprocess, 57.4ms inference, 1.1ms postprocess per image at shape (1, 3, 1088, 1920)\n"
     ]
    },
    {
     "name": "stdout",
     "output_type": "stream",
     "text": [
      "958\n",
      "Saved: temp_task_folder/img1/000958.jpg\n",
      "959\n",
      "Saved: temp_task_folder/img1/000959.jpg\n"
     ]
    },
    {
     "name": "stderr",
     "output_type": "stream",
     "text": [
      "\n",
      "0: 1088x1920 1 ball, 23 players, 57.4ms\n",
      "Speed: 6.8ms preprocess, 57.4ms inference, 1.1ms postprocess per image at shape (1, 3, 1088, 1920)\n",
      "\n",
      "0: 1088x1920 1 ball, 23 players, 57.3ms\n",
      "Speed: 6.8ms preprocess, 57.3ms inference, 1.1ms postprocess per image at shape (1, 3, 1088, 1920)\n"
     ]
    },
    {
     "name": "stdout",
     "output_type": "stream",
     "text": [
      "960\n",
      "Saved: temp_task_folder/img1/000960.jpg\n",
      "961\n",
      "Saved: temp_task_folder/img1/000961.jpg\n"
     ]
    },
    {
     "name": "stderr",
     "output_type": "stream",
     "text": [
      "\n",
      "0: 1088x1920 1 ball, 23 players, 57.4ms\n",
      "Speed: 6.9ms preprocess, 57.4ms inference, 1.1ms postprocess per image at shape (1, 3, 1088, 1920)\n",
      "\n",
      "0: 1088x1920 1 ball, 23 players, 57.4ms\n",
      "Speed: 6.9ms preprocess, 57.4ms inference, 1.2ms postprocess per image at shape (1, 3, 1088, 1920)\n"
     ]
    },
    {
     "name": "stdout",
     "output_type": "stream",
     "text": [
      "962\n",
      "Saved: temp_task_folder/img1/000962.jpg\n",
      "963\n",
      "Saved: temp_task_folder/img1/000963.jpg\n"
     ]
    },
    {
     "name": "stderr",
     "output_type": "stream",
     "text": [
      "\n",
      "0: 1088x1920 1 ball, 23 players, 57.4ms\n",
      "Speed: 6.9ms preprocess, 57.4ms inference, 1.1ms postprocess per image at shape (1, 3, 1088, 1920)\n",
      "\n",
      "0: 1088x1920 1 ball, 23 players, 57.2ms\n",
      "Speed: 6.9ms preprocess, 57.2ms inference, 1.1ms postprocess per image at shape (1, 3, 1088, 1920)\n"
     ]
    },
    {
     "name": "stdout",
     "output_type": "stream",
     "text": [
      "964\n",
      "Saved: temp_task_folder/img1/000964.jpg\n",
      "965\n",
      "Saved: temp_task_folder/img1/000965.jpg\n"
     ]
    },
    {
     "name": "stderr",
     "output_type": "stream",
     "text": [
      "\n",
      "0: 1088x1920 1 ball, 23 players, 57.3ms\n",
      "Speed: 6.8ms preprocess, 57.3ms inference, 1.1ms postprocess per image at shape (1, 3, 1088, 1920)\n",
      "\n",
      "0: 1088x1920 1 ball, 23 players, 57.4ms\n",
      "Speed: 6.9ms preprocess, 57.4ms inference, 1.1ms postprocess per image at shape (1, 3, 1088, 1920)\n"
     ]
    },
    {
     "name": "stdout",
     "output_type": "stream",
     "text": [
      "966\n",
      "Saved: temp_task_folder/img1/000966.jpg\n",
      "967\n",
      "Saved: temp_task_folder/img1/000967.jpg\n"
     ]
    },
    {
     "name": "stderr",
     "output_type": "stream",
     "text": [
      "\n",
      "0: 1088x1920 1 ball, 23 players, 57.5ms\n",
      "Speed: 6.8ms preprocess, 57.5ms inference, 1.1ms postprocess per image at shape (1, 3, 1088, 1920)\n",
      "\n",
      "0: 1088x1920 1 ball, 23 players, 57.5ms\n",
      "Speed: 6.8ms preprocess, 57.5ms inference, 1.1ms postprocess per image at shape (1, 3, 1088, 1920)\n"
     ]
    },
    {
     "name": "stdout",
     "output_type": "stream",
     "text": [
      "968\n",
      "Saved: temp_task_folder/img1/000968.jpg\n",
      "969\n",
      "Saved: temp_task_folder/img1/000969.jpg\n"
     ]
    },
    {
     "name": "stderr",
     "output_type": "stream",
     "text": [
      "\n",
      "0: 1088x1920 1 ball, 22 players, 57.3ms\n",
      "Speed: 6.9ms preprocess, 57.3ms inference, 1.1ms postprocess per image at shape (1, 3, 1088, 1920)\n",
      "\n",
      "0: 1088x1920 1 ball, 22 players, 57.4ms\n",
      "Speed: 7.2ms preprocess, 57.4ms inference, 1.1ms postprocess per image at shape (1, 3, 1088, 1920)\n"
     ]
    },
    {
     "name": "stdout",
     "output_type": "stream",
     "text": [
      "970\n",
      "Saved: temp_task_folder/img1/000970.jpg\n",
      "971\n",
      "Saved: temp_task_folder/img1/000971.jpg\n"
     ]
    },
    {
     "name": "stderr",
     "output_type": "stream",
     "text": [
      "\n",
      "0: 1088x1920 1 ball, 23 players, 57.5ms\n",
      "Speed: 7.3ms preprocess, 57.5ms inference, 1.1ms postprocess per image at shape (1, 3, 1088, 1920)\n",
      "\n",
      "0: 1088x1920 1 ball, 23 players, 57.3ms\n",
      "Speed: 7.2ms preprocess, 57.3ms inference, 1.1ms postprocess per image at shape (1, 3, 1088, 1920)\n"
     ]
    },
    {
     "name": "stdout",
     "output_type": "stream",
     "text": [
      "972\n",
      "Saved: temp_task_folder/img1/000972.jpg\n",
      "973\n",
      "Saved: temp_task_folder/img1/000973.jpg\n"
     ]
    },
    {
     "name": "stderr",
     "output_type": "stream",
     "text": [
      "\n",
      "0: 1088x1920 1 ball, 22 players, 57.6ms\n",
      "Speed: 6.9ms preprocess, 57.6ms inference, 1.1ms postprocess per image at shape (1, 3, 1088, 1920)\n",
      "\n",
      "0: 1088x1920 1 ball, 23 players, 57.3ms\n",
      "Speed: 6.9ms preprocess, 57.3ms inference, 1.1ms postprocess per image at shape (1, 3, 1088, 1920)\n"
     ]
    },
    {
     "name": "stdout",
     "output_type": "stream",
     "text": [
      "974\n",
      "Saved: temp_task_folder/img1/000974.jpg\n",
      "975\n",
      "Saved: temp_task_folder/img1/000975.jpg\n"
     ]
    },
    {
     "name": "stderr",
     "output_type": "stream",
     "text": [
      "\n",
      "0: 1088x1920 1 ball, 23 players, 57.2ms\n",
      "Speed: 6.8ms preprocess, 57.2ms inference, 1.1ms postprocess per image at shape (1, 3, 1088, 1920)\n",
      "\n",
      "0: 1088x1920 1 ball, 23 players, 57.4ms\n",
      "Speed: 6.8ms preprocess, 57.4ms inference, 1.1ms postprocess per image at shape (1, 3, 1088, 1920)\n"
     ]
    },
    {
     "name": "stdout",
     "output_type": "stream",
     "text": [
      "976\n",
      "Saved: temp_task_folder/img1/000976.jpg\n",
      "977\n",
      "Saved: temp_task_folder/img1/000977.jpg\n"
     ]
    },
    {
     "name": "stderr",
     "output_type": "stream",
     "text": [
      "\n",
      "0: 1088x1920 1 ball, 23 players, 57.3ms\n",
      "Speed: 6.8ms preprocess, 57.3ms inference, 1.1ms postprocess per image at shape (1, 3, 1088, 1920)\n",
      "\n",
      "0: 1088x1920 1 ball, 23 players, 57.3ms\n",
      "Speed: 7.6ms preprocess, 57.3ms inference, 1.1ms postprocess per image at shape (1, 3, 1088, 1920)\n"
     ]
    },
    {
     "name": "stdout",
     "output_type": "stream",
     "text": [
      "978\n",
      "Saved: temp_task_folder/img1/000978.jpg\n",
      "979\n",
      "Saved: temp_task_folder/img1/000979.jpg\n"
     ]
    },
    {
     "name": "stderr",
     "output_type": "stream",
     "text": [
      "\n",
      "0: 1088x1920 1 ball, 24 players, 57.3ms\n",
      "Speed: 7.7ms preprocess, 57.3ms inference, 1.1ms postprocess per image at shape (1, 3, 1088, 1920)\n",
      "\n",
      "0: 1088x1920 1 ball, 24 players, 57.2ms\n",
      "Speed: 6.9ms preprocess, 57.2ms inference, 1.1ms postprocess per image at shape (1, 3, 1088, 1920)\n"
     ]
    },
    {
     "name": "stdout",
     "output_type": "stream",
     "text": [
      "980\n",
      "Saved: temp_task_folder/img1/000980.jpg\n",
      "981\n"
     ]
    },
    {
     "name": "stderr",
     "output_type": "stream",
     "text": [
      "\n",
      "0: 1088x1920 24 players, 57.5ms\n",
      "Speed: 6.9ms preprocess, 57.5ms inference, 1.1ms postprocess per image at shape (1, 3, 1088, 1920)\n"
     ]
    },
    {
     "name": "stdout",
     "output_type": "stream",
     "text": [
      "Saved: temp_task_folder/img1/000981.jpg\n",
      "982\n",
      "Saved: temp_task_folder/img1/000982.jpg\n"
     ]
    },
    {
     "name": "stderr",
     "output_type": "stream",
     "text": [
      "\n",
      "0: 1088x1920 24 players, 57.4ms\n",
      "Speed: 7.0ms preprocess, 57.4ms inference, 1.1ms postprocess per image at shape (1, 3, 1088, 1920)\n",
      "\n",
      "0: 1088x1920 24 players, 57.4ms\n",
      "Speed: 6.8ms preprocess, 57.4ms inference, 1.1ms postprocess per image at shape (1, 3, 1088, 1920)\n"
     ]
    },
    {
     "name": "stdout",
     "output_type": "stream",
     "text": [
      "983\n",
      "Saved: temp_task_folder/img1/000983.jpg\n",
      "984\n",
      "Saved: temp_task_folder/img1/000984.jpg\n"
     ]
    },
    {
     "name": "stderr",
     "output_type": "stream",
     "text": [
      "\n",
      "0: 1088x1920 23 players, 57.4ms\n",
      "Speed: 6.9ms preprocess, 57.4ms inference, 1.1ms postprocess per image at shape (1, 3, 1088, 1920)\n",
      "\n",
      "0: 1088x1920 24 players, 57.4ms\n",
      "Speed: 6.9ms preprocess, 57.4ms inference, 1.1ms postprocess per image at shape (1, 3, 1088, 1920)\n"
     ]
    },
    {
     "name": "stdout",
     "output_type": "stream",
     "text": [
      "985\n",
      "Saved: temp_task_folder/img1/000985.jpg\n",
      "986\n",
      "Saved: temp_task_folder/img1/000986.jpg\n"
     ]
    },
    {
     "name": "stderr",
     "output_type": "stream",
     "text": [
      "\n",
      "0: 1088x1920 23 players, 57.2ms\n",
      "Speed: 6.9ms preprocess, 57.2ms inference, 1.1ms postprocess per image at shape (1, 3, 1088, 1920)\n",
      "\n",
      "0: 1088x1920 23 players, 57.3ms\n",
      "Speed: 6.9ms preprocess, 57.3ms inference, 1.2ms postprocess per image at shape (1, 3, 1088, 1920)\n"
     ]
    },
    {
     "name": "stdout",
     "output_type": "stream",
     "text": [
      "987\n",
      "Saved: temp_task_folder/img1/000987.jpg\n",
      "988\n",
      "Saved: temp_task_folder/img1/000988.jpg\n"
     ]
    },
    {
     "name": "stderr",
     "output_type": "stream",
     "text": [
      "\n",
      "0: 1088x1920 24 players, 57.4ms\n",
      "Speed: 6.8ms preprocess, 57.4ms inference, 1.1ms postprocess per image at shape (1, 3, 1088, 1920)\n",
      "\n",
      "0: 1088x1920 24 players, 57.4ms\n",
      "Speed: 6.9ms preprocess, 57.4ms inference, 1.1ms postprocess per image at shape (1, 3, 1088, 1920)\n"
     ]
    },
    {
     "name": "stdout",
     "output_type": "stream",
     "text": [
      "989\n",
      "Saved: temp_task_folder/img1/000989.jpg\n",
      "990\n"
     ]
    },
    {
     "name": "stderr",
     "output_type": "stream",
     "text": [
      "\n",
      "0: 1088x1920 24 players, 57.4ms\n",
      "Speed: 7.0ms preprocess, 57.4ms inference, 1.1ms postprocess per image at shape (1, 3, 1088, 1920)\n"
     ]
    },
    {
     "name": "stdout",
     "output_type": "stream",
     "text": [
      "Saved: temp_task_folder/img1/000990.jpg\n",
      "991\n",
      "Saved: temp_task_folder/img1/000991.jpg\n"
     ]
    },
    {
     "name": "stderr",
     "output_type": "stream",
     "text": [
      "\n",
      "0: 1088x1920 1 ball, 24 players, 57.2ms\n",
      "Speed: 6.9ms preprocess, 57.2ms inference, 1.1ms postprocess per image at shape (1, 3, 1088, 1920)\n",
      "\n",
      "0: 1088x1920 1 ball, 25 players, 57.2ms\n",
      "Speed: 6.9ms preprocess, 57.2ms inference, 1.1ms postprocess per image at shape (1, 3, 1088, 1920)\n"
     ]
    },
    {
     "name": "stdout",
     "output_type": "stream",
     "text": [
      "992\n",
      "Saved: temp_task_folder/img1/000992.jpg\n",
      "993\n"
     ]
    },
    {
     "name": "stderr",
     "output_type": "stream",
     "text": [
      "\n",
      "0: 1088x1920 1 ball, 24 players, 57.4ms\n",
      "Speed: 6.9ms preprocess, 57.4ms inference, 1.1ms postprocess per image at shape (1, 3, 1088, 1920)\n"
     ]
    },
    {
     "name": "stdout",
     "output_type": "stream",
     "text": [
      "Saved: temp_task_folder/img1/000993.jpg\n",
      "994\n",
      "Saved: temp_task_folder/img1/000994.jpg\n"
     ]
    },
    {
     "name": "stderr",
     "output_type": "stream",
     "text": [
      "\n",
      "0: 1088x1920 1 ball, 24 players, 57.5ms\n",
      "Speed: 6.9ms preprocess, 57.5ms inference, 1.1ms postprocess per image at shape (1, 3, 1088, 1920)\n",
      "\n",
      "0: 1088x1920 1 ball, 24 players, 57.2ms\n",
      "Speed: 6.9ms preprocess, 57.2ms inference, 1.1ms postprocess per image at shape (1, 3, 1088, 1920)\n"
     ]
    },
    {
     "name": "stdout",
     "output_type": "stream",
     "text": [
      "995\n",
      "Saved: temp_task_folder/img1/000995.jpg\n",
      "996\n"
     ]
    },
    {
     "name": "stderr",
     "output_type": "stream",
     "text": [
      "\n",
      "0: 1088x1920 1 ball, 24 players, 57.4ms\n",
      "Speed: 6.9ms preprocess, 57.4ms inference, 1.1ms postprocess per image at shape (1, 3, 1088, 1920)\n"
     ]
    },
    {
     "name": "stdout",
     "output_type": "stream",
     "text": [
      "Saved: temp_task_folder/img1/000996.jpg\n",
      "997\n",
      "Saved: temp_task_folder/img1/000997.jpg\n"
     ]
    },
    {
     "name": "stderr",
     "output_type": "stream",
     "text": [
      "\n",
      "0: 1088x1920 1 ball, 24 players, 57.4ms\n",
      "Speed: 6.9ms preprocess, 57.4ms inference, 1.1ms postprocess per image at shape (1, 3, 1088, 1920)\n",
      "\n",
      "0: 1088x1920 1 ball, 24 players, 57.4ms\n",
      "Speed: 6.9ms preprocess, 57.4ms inference, 1.1ms postprocess per image at shape (1, 3, 1088, 1920)\n"
     ]
    },
    {
     "name": "stdout",
     "output_type": "stream",
     "text": [
      "998\n",
      "Saved: temp_task_folder/img1/000998.jpg\n",
      "999\n"
     ]
    },
    {
     "name": "stderr",
     "output_type": "stream",
     "text": [
      "\n",
      "0: 1088x1920 1 ball, 24 players, 57.3ms\n",
      "Speed: 6.9ms preprocess, 57.3ms inference, 1.1ms postprocess per image at shape (1, 3, 1088, 1920)\n"
     ]
    },
    {
     "name": "stdout",
     "output_type": "stream",
     "text": [
      "Saved: temp_task_folder/img1/000999.jpg\n",
      "1000\n",
      "Saved: temp_task_folder/img1/001000.jpg\n"
     ]
    },
    {
     "name": "stderr",
     "output_type": "stream",
     "text": [
      "\n",
      "0: 1088x1920 1 ball, 24 players, 57.3ms\n",
      "Speed: 7.0ms preprocess, 57.3ms inference, 1.1ms postprocess per image at shape (1, 3, 1088, 1920)\n",
      "\n",
      "0: 1088x1920 1 ball, 24 players, 57.4ms\n",
      "Speed: 6.8ms preprocess, 57.4ms inference, 1.1ms postprocess per image at shape (1, 3, 1088, 1920)\n"
     ]
    },
    {
     "name": "stdout",
     "output_type": "stream",
     "text": [
      "1001\n",
      "Saved: temp_task_folder/img1/001001.jpg\n",
      "1002\n"
     ]
    },
    {
     "name": "stderr",
     "output_type": "stream",
     "text": [
      "\n",
      "0: 1088x1920 1 ball, 24 players, 57.4ms\n",
      "Speed: 7.0ms preprocess, 57.4ms inference, 1.1ms postprocess per image at shape (1, 3, 1088, 1920)\n"
     ]
    },
    {
     "name": "stdout",
     "output_type": "stream",
     "text": [
      "Saved: temp_task_folder/img1/001002.jpg\n",
      "1003\n",
      "Saved: temp_task_folder/img1/001003.jpg\n"
     ]
    },
    {
     "name": "stderr",
     "output_type": "stream",
     "text": [
      "\n",
      "0: 1088x1920 1 ball, 24 players, 57.4ms\n",
      "Speed: 6.9ms preprocess, 57.4ms inference, 1.1ms postprocess per image at shape (1, 3, 1088, 1920)\n",
      "\n",
      "0: 1088x1920 1 ball, 24 players, 57.4ms\n",
      "Speed: 6.9ms preprocess, 57.4ms inference, 1.1ms postprocess per image at shape (1, 3, 1088, 1920)\n"
     ]
    },
    {
     "name": "stdout",
     "output_type": "stream",
     "text": [
      "1004\n",
      "Saved: temp_task_folder/img1/001004.jpg\n",
      "1005\n"
     ]
    },
    {
     "name": "stderr",
     "output_type": "stream",
     "text": [
      "\n",
      "0: 1088x1920 1 ball, 23 players, 57.4ms\n",
      "Speed: 6.8ms preprocess, 57.4ms inference, 1.1ms postprocess per image at shape (1, 3, 1088, 1920)\n"
     ]
    },
    {
     "name": "stdout",
     "output_type": "stream",
     "text": [
      "Saved: temp_task_folder/img1/001005.jpg\n",
      "1006\n",
      "Saved: temp_task_folder/img1/001006.jpg\n"
     ]
    },
    {
     "name": "stderr",
     "output_type": "stream",
     "text": [
      "\n",
      "0: 1088x1920 1 ball, 24 players, 57.4ms\n",
      "Speed: 6.9ms preprocess, 57.4ms inference, 1.1ms postprocess per image at shape (1, 3, 1088, 1920)\n",
      "\n",
      "0: 1088x1920 1 ball, 23 players, 57.4ms\n",
      "Speed: 6.9ms preprocess, 57.4ms inference, 1.1ms postprocess per image at shape (1, 3, 1088, 1920)\n"
     ]
    },
    {
     "name": "stdout",
     "output_type": "stream",
     "text": [
      "1007\n",
      "Saved: temp_task_folder/img1/001007.jpg\n",
      "1008\n",
      "Saved: temp_task_folder/img1/001008.jpg\n"
     ]
    },
    {
     "name": "stderr",
     "output_type": "stream",
     "text": [
      "\n",
      "0: 1088x1920 1 ball, 23 players, 57.5ms\n",
      "Speed: 7.1ms preprocess, 57.5ms inference, 1.1ms postprocess per image at shape (1, 3, 1088, 1920)\n",
      "\n",
      "0: 1088x1920 1 ball, 23 players, 57.3ms\n",
      "Speed: 6.9ms preprocess, 57.3ms inference, 1.1ms postprocess per image at shape (1, 3, 1088, 1920)\n"
     ]
    },
    {
     "name": "stdout",
     "output_type": "stream",
     "text": [
      "1009\n",
      "Saved: temp_task_folder/img1/001009.jpg\n",
      "1010\n",
      "Saved: temp_task_folder/img1/001010.jpg\n"
     ]
    },
    {
     "name": "stderr",
     "output_type": "stream",
     "text": [
      "\n",
      "0: 1088x1920 1 ball, 23 players, 57.4ms\n",
      "Speed: 6.8ms preprocess, 57.4ms inference, 1.1ms postprocess per image at shape (1, 3, 1088, 1920)\n",
      "\n",
      "0: 1088x1920 1 ball, 23 players, 57.3ms\n",
      "Speed: 6.8ms preprocess, 57.3ms inference, 1.1ms postprocess per image at shape (1, 3, 1088, 1920)\n"
     ]
    },
    {
     "name": "stdout",
     "output_type": "stream",
     "text": [
      "1011\n",
      "Saved: temp_task_folder/img1/001011.jpg\n",
      "1012\n",
      "Saved: temp_task_folder/img1/001012.jpg\n"
     ]
    },
    {
     "name": "stderr",
     "output_type": "stream",
     "text": [
      "\n",
      "0: 1088x1920 1 ball, 23 players, 57.4ms\n",
      "Speed: 6.8ms preprocess, 57.4ms inference, 1.1ms postprocess per image at shape (1, 3, 1088, 1920)\n",
      "\n",
      "0: 1088x1920 1 ball, 23 players, 57.2ms\n",
      "Speed: 6.9ms preprocess, 57.2ms inference, 1.1ms postprocess per image at shape (1, 3, 1088, 1920)\n"
     ]
    },
    {
     "name": "stdout",
     "output_type": "stream",
     "text": [
      "1013\n",
      "Saved: temp_task_folder/img1/001013.jpg\n",
      "1014\n",
      "Saved: temp_task_folder/img1/001014.jpg\n"
     ]
    },
    {
     "name": "stderr",
     "output_type": "stream",
     "text": [
      "\n",
      "0: 1088x1920 1 ball, 23 players, 57.5ms\n",
      "Speed: 6.9ms preprocess, 57.5ms inference, 1.1ms postprocess per image at shape (1, 3, 1088, 1920)\n",
      "\n",
      "0: 1088x1920 1 ball, 23 players, 57.4ms\n",
      "Speed: 6.9ms preprocess, 57.4ms inference, 1.1ms postprocess per image at shape (1, 3, 1088, 1920)\n"
     ]
    },
    {
     "name": "stdout",
     "output_type": "stream",
     "text": [
      "1015\n",
      "Saved: temp_task_folder/img1/001015.jpg\n",
      "1016\n",
      "Saved: temp_task_folder/img1/001016.jpg\n"
     ]
    },
    {
     "name": "stderr",
     "output_type": "stream",
     "text": [
      "\n",
      "0: 1088x1920 1 ball, 23 players, 57.5ms\n",
      "Speed: 7.0ms preprocess, 57.5ms inference, 1.1ms postprocess per image at shape (1, 3, 1088, 1920)\n",
      "\n",
      "0: 1088x1920 1 ball, 23 players, 57.4ms\n",
      "Speed: 6.8ms preprocess, 57.4ms inference, 1.1ms postprocess per image at shape (1, 3, 1088, 1920)\n"
     ]
    },
    {
     "name": "stdout",
     "output_type": "stream",
     "text": [
      "1017\n",
      "Saved: temp_task_folder/img1/001017.jpg\n",
      "1018\n",
      "Saved: temp_task_folder/img1/001018.jpg\n"
     ]
    },
    {
     "name": "stderr",
     "output_type": "stream",
     "text": [
      "\n",
      "0: 1088x1920 1 ball, 23 players, 57.2ms\n",
      "Speed: 6.9ms preprocess, 57.2ms inference, 1.1ms postprocess per image at shape (1, 3, 1088, 1920)\n",
      "\n",
      "0: 1088x1920 1 ball, 23 players, 57.4ms\n",
      "Speed: 6.9ms preprocess, 57.4ms inference, 1.1ms postprocess per image at shape (1, 3, 1088, 1920)\n"
     ]
    },
    {
     "name": "stdout",
     "output_type": "stream",
     "text": [
      "1019\n",
      "Saved: temp_task_folder/img1/001019.jpg\n",
      "1020\n",
      "Saved: temp_task_folder/img1/001020.jpg\n"
     ]
    },
    {
     "name": "stderr",
     "output_type": "stream",
     "text": [
      "\n",
      "0: 1088x1920 1 ball, 23 players, 57.3ms\n",
      "Speed: 7.0ms preprocess, 57.3ms inference, 1.1ms postprocess per image at shape (1, 3, 1088, 1920)\n",
      "\n",
      "0: 1088x1920 1 ball, 23 players, 57.3ms\n",
      "Speed: 6.8ms preprocess, 57.3ms inference, 1.1ms postprocess per image at shape (1, 3, 1088, 1920)\n"
     ]
    },
    {
     "name": "stdout",
     "output_type": "stream",
     "text": [
      "1021\n",
      "Saved: temp_task_folder/img1/001021.jpg\n",
      "1022\n",
      "Saved: temp_task_folder/img1/001022.jpg\n"
     ]
    },
    {
     "name": "stderr",
     "output_type": "stream",
     "text": [
      "\n",
      "0: 1088x1920 1 ball, 23 players, 57.3ms\n",
      "Speed: 6.9ms preprocess, 57.3ms inference, 1.1ms postprocess per image at shape (1, 3, 1088, 1920)\n",
      "\n",
      "0: 1088x1920 23 players, 57.4ms\n",
      "Speed: 6.9ms preprocess, 57.4ms inference, 1.1ms postprocess per image at shape (1, 3, 1088, 1920)\n"
     ]
    },
    {
     "name": "stdout",
     "output_type": "stream",
     "text": [
      "1023\n",
      "Saved: temp_task_folder/img1/001023.jpg\n",
      "1024\n",
      "Saved: temp_task_folder/img1/001024.jpg\n"
     ]
    },
    {
     "name": "stderr",
     "output_type": "stream",
     "text": [
      "\n",
      "0: 1088x1920 23 players, 57.4ms\n",
      "Speed: 7.0ms preprocess, 57.4ms inference, 1.1ms postprocess per image at shape (1, 3, 1088, 1920)\n",
      "\n",
      "0: 1088x1920 23 players, 57.3ms\n",
      "Speed: 6.9ms preprocess, 57.3ms inference, 1.1ms postprocess per image at shape (1, 3, 1088, 1920)\n"
     ]
    },
    {
     "name": "stdout",
     "output_type": "stream",
     "text": [
      "1025\n",
      "Saved: temp_task_folder/img1/001025.jpg\n",
      "1026\n",
      "Saved: temp_task_folder/img1/001026.jpg\n"
     ]
    },
    {
     "name": "stderr",
     "output_type": "stream",
     "text": [
      "\n",
      "0: 1088x1920 23 players, 57.5ms\n",
      "Speed: 6.9ms preprocess, 57.5ms inference, 1.1ms postprocess per image at shape (1, 3, 1088, 1920)\n",
      "\n",
      "0: 1088x1920 23 players, 57.5ms\n",
      "Speed: 6.8ms preprocess, 57.5ms inference, 1.1ms postprocess per image at shape (1, 3, 1088, 1920)\n"
     ]
    },
    {
     "name": "stdout",
     "output_type": "stream",
     "text": [
      "1027\n",
      "Saved: temp_task_folder/img1/001027.jpg\n",
      "1028\n",
      "Saved: temp_task_folder/img1/001028.jpg\n"
     ]
    },
    {
     "name": "stderr",
     "output_type": "stream",
     "text": [
      "\n",
      "0: 1088x1920 23 players, 57.2ms\n",
      "Speed: 6.9ms preprocess, 57.2ms inference, 1.1ms postprocess per image at shape (1, 3, 1088, 1920)\n",
      "\n",
      "0: 1088x1920 23 players, 57.4ms\n",
      "Speed: 6.9ms preprocess, 57.4ms inference, 1.1ms postprocess per image at shape (1, 3, 1088, 1920)\n"
     ]
    },
    {
     "name": "stdout",
     "output_type": "stream",
     "text": [
      "1029\n",
      "Saved: temp_task_folder/img1/001029.jpg\n",
      "1030\n",
      "Saved: temp_task_folder/img1/001030.jpg\n"
     ]
    },
    {
     "name": "stderr",
     "output_type": "stream",
     "text": [
      "\n",
      "0: 1088x1920 1 ball, 23 players, 57.2ms\n",
      "Speed: 6.9ms preprocess, 57.2ms inference, 1.1ms postprocess per image at shape (1, 3, 1088, 1920)\n",
      "\n",
      "0: 1088x1920 1 ball, 23 players, 57.4ms\n",
      "Speed: 7.0ms preprocess, 57.4ms inference, 1.1ms postprocess per image at shape (1, 3, 1088, 1920)\n"
     ]
    },
    {
     "name": "stdout",
     "output_type": "stream",
     "text": [
      "1031\n",
      "Saved: temp_task_folder/img1/001031.jpg\n",
      "1032\n",
      "Saved: temp_task_folder/img1/001032.jpg\n"
     ]
    },
    {
     "name": "stderr",
     "output_type": "stream",
     "text": [
      "\n",
      "0: 1088x1920 1 ball, 23 players, 57.4ms\n",
      "Speed: 6.9ms preprocess, 57.4ms inference, 1.1ms postprocess per image at shape (1, 3, 1088, 1920)\n",
      "\n",
      "0: 1088x1920 1 ball, 23 players, 57.5ms\n",
      "Speed: 6.9ms preprocess, 57.5ms inference, 1.1ms postprocess per image at shape (1, 3, 1088, 1920)\n"
     ]
    },
    {
     "name": "stdout",
     "output_type": "stream",
     "text": [
      "1033\n",
      "Saved: temp_task_folder/img1/001033.jpg\n",
      "1034\n",
      "Saved: temp_task_folder/img1/001034.jpg\n"
     ]
    },
    {
     "name": "stderr",
     "output_type": "stream",
     "text": [
      "\n",
      "0: 1088x1920 1 ball, 23 players, 57.4ms\n",
      "Speed: 6.9ms preprocess, 57.4ms inference, 1.1ms postprocess per image at shape (1, 3, 1088, 1920)\n",
      "\n",
      "0: 1088x1920 1 ball, 23 players, 57.3ms\n",
      "Speed: 6.9ms preprocess, 57.3ms inference, 1.1ms postprocess per image at shape (1, 3, 1088, 1920)\n"
     ]
    },
    {
     "name": "stdout",
     "output_type": "stream",
     "text": [
      "1035\n",
      "Saved: temp_task_folder/img1/001035.jpg\n",
      "1036\n",
      "Saved: temp_task_folder/img1/001036.jpg\n"
     ]
    },
    {
     "name": "stderr",
     "output_type": "stream",
     "text": [
      "\n",
      "0: 1088x1920 1 ball, 23 players, 57.4ms\n",
      "Speed: 6.9ms preprocess, 57.4ms inference, 1.1ms postprocess per image at shape (1, 3, 1088, 1920)\n",
      "\n",
      "0: 1088x1920 1 ball, 23 players, 57.5ms\n",
      "Speed: 6.9ms preprocess, 57.5ms inference, 1.2ms postprocess per image at shape (1, 3, 1088, 1920)\n"
     ]
    },
    {
     "name": "stdout",
     "output_type": "stream",
     "text": [
      "1037\n",
      "Saved: temp_task_folder/img1/001037.jpg\n",
      "1038\n",
      "Saved: temp_task_folder/img1/001038.jpg\n"
     ]
    },
    {
     "name": "stderr",
     "output_type": "stream",
     "text": [
      "\n",
      "0: 1088x1920 1 ball, 23 players, 57.5ms\n",
      "Speed: 6.9ms preprocess, 57.5ms inference, 1.1ms postprocess per image at shape (1, 3, 1088, 1920)\n",
      "\n",
      "0: 1088x1920 1 ball, 23 players, 57.2ms\n",
      "Speed: 6.8ms preprocess, 57.2ms inference, 1.1ms postprocess per image at shape (1, 3, 1088, 1920)\n"
     ]
    },
    {
     "name": "stdout",
     "output_type": "stream",
     "text": [
      "1039\n",
      "Saved: temp_task_folder/img1/001039.jpg\n",
      "1040\n",
      "Saved: temp_task_folder/img1/001040.jpg\n"
     ]
    },
    {
     "name": "stderr",
     "output_type": "stream",
     "text": [
      "\n",
      "0: 1088x1920 1 ball, 23 players, 57.4ms\n",
      "Speed: 6.9ms preprocess, 57.4ms inference, 1.1ms postprocess per image at shape (1, 3, 1088, 1920)\n",
      "\n",
      "0: 1088x1920 1 ball, 23 players, 57.4ms\n",
      "Speed: 6.9ms preprocess, 57.4ms inference, 1.1ms postprocess per image at shape (1, 3, 1088, 1920)\n"
     ]
    },
    {
     "name": "stdout",
     "output_type": "stream",
     "text": [
      "1041\n",
      "Saved: temp_task_folder/img1/001041.jpg\n",
      "1042\n",
      "Saved: temp_task_folder/img1/001042.jpg\n"
     ]
    },
    {
     "name": "stderr",
     "output_type": "stream",
     "text": [
      "\n",
      "0: 1088x1920 1 ball, 23 players, 57.4ms\n",
      "Speed: 7.0ms preprocess, 57.4ms inference, 1.1ms postprocess per image at shape (1, 3, 1088, 1920)\n",
      "\n",
      "0: 1088x1920 1 ball, 23 players, 57.4ms\n",
      "Speed: 6.9ms preprocess, 57.4ms inference, 1.1ms postprocess per image at shape (1, 3, 1088, 1920)\n"
     ]
    },
    {
     "name": "stdout",
     "output_type": "stream",
     "text": [
      "1043\n",
      "Saved: temp_task_folder/img1/001043.jpg\n",
      "1044\n",
      "Saved: temp_task_folder/img1/001044.jpg\n"
     ]
    },
    {
     "name": "stderr",
     "output_type": "stream",
     "text": [
      "\n",
      "0: 1088x1920 1 ball, 23 players, 57.5ms\n",
      "Speed: 6.9ms preprocess, 57.5ms inference, 1.1ms postprocess per image at shape (1, 3, 1088, 1920)\n",
      "\n",
      "0: 1088x1920 1 ball, 23 players, 57.5ms\n",
      "Speed: 6.9ms preprocess, 57.5ms inference, 1.1ms postprocess per image at shape (1, 3, 1088, 1920)\n"
     ]
    },
    {
     "name": "stdout",
     "output_type": "stream",
     "text": [
      "1045\n",
      "Saved: temp_task_folder/img1/001045.jpg\n",
      "1046\n",
      "Saved: temp_task_folder/img1/001046.jpg\n"
     ]
    },
    {
     "name": "stderr",
     "output_type": "stream",
     "text": [
      "\n",
      "0: 1088x1920 1 ball, 23 players, 57.3ms\n",
      "Speed: 6.8ms preprocess, 57.3ms inference, 1.1ms postprocess per image at shape (1, 3, 1088, 1920)\n",
      "\n",
      "0: 1088x1920 1 ball, 23 players, 57.5ms\n",
      "Speed: 6.9ms preprocess, 57.5ms inference, 1.1ms postprocess per image at shape (1, 3, 1088, 1920)\n"
     ]
    },
    {
     "name": "stdout",
     "output_type": "stream",
     "text": [
      "1047\n",
      "Saved: temp_task_folder/img1/001047.jpg\n",
      "1048\n",
      "Saved: temp_task_folder/img1/001048.jpg\n"
     ]
    },
    {
     "name": "stderr",
     "output_type": "stream",
     "text": [
      "\n",
      "0: 1088x1920 1 ball, 23 players, 57.5ms\n",
      "Speed: 6.9ms preprocess, 57.5ms inference, 1.1ms postprocess per image at shape (1, 3, 1088, 1920)\n",
      "\n",
      "0: 1088x1920 1 ball, 23 players, 57.3ms\n",
      "Speed: 6.9ms preprocess, 57.3ms inference, 1.1ms postprocess per image at shape (1, 3, 1088, 1920)\n"
     ]
    },
    {
     "name": "stdout",
     "output_type": "stream",
     "text": [
      "1049\n",
      "Saved: temp_task_folder/img1/001049.jpg\n",
      "1050\n",
      "Saved: temp_task_folder/img1/001050.jpg\n"
     ]
    },
    {
     "name": "stderr",
     "output_type": "stream",
     "text": [
      "\n",
      "0: 1088x1920 1 ball, 23 players, 57.4ms\n",
      "Speed: 7.0ms preprocess, 57.4ms inference, 1.1ms postprocess per image at shape (1, 3, 1088, 1920)\n",
      "\n",
      "0: 1088x1920 1 ball, 23 players, 57.5ms\n",
      "Speed: 6.8ms preprocess, 57.5ms inference, 1.1ms postprocess per image at shape (1, 3, 1088, 1920)\n"
     ]
    },
    {
     "name": "stdout",
     "output_type": "stream",
     "text": [
      "1051\n",
      "Saved: temp_task_folder/img1/001051.jpg\n",
      "1052\n",
      "Saved: temp_task_folder/img1/001052.jpg\n"
     ]
    },
    {
     "name": "stderr",
     "output_type": "stream",
     "text": [
      "\n",
      "0: 1088x1920 1 ball, 23 players, 57.2ms\n",
      "Speed: 6.9ms preprocess, 57.2ms inference, 1.1ms postprocess per image at shape (1, 3, 1088, 1920)\n",
      "\n",
      "0: 1088x1920 1 ball, 23 players, 57.3ms\n",
      "Speed: 6.9ms preprocess, 57.3ms inference, 1.1ms postprocess per image at shape (1, 3, 1088, 1920)\n"
     ]
    },
    {
     "name": "stdout",
     "output_type": "stream",
     "text": [
      "1053\n",
      "Saved: temp_task_folder/img1/001053.jpg\n",
      "1054\n",
      "Saved: temp_task_folder/img1/001054.jpg\n"
     ]
    },
    {
     "name": "stderr",
     "output_type": "stream",
     "text": [
      "\n",
      "0: 1088x1920 1 ball, 23 players, 57.5ms\n",
      "Speed: 6.9ms preprocess, 57.5ms inference, 1.1ms postprocess per image at shape (1, 3, 1088, 1920)\n",
      "\n",
      "0: 1088x1920 1 ball, 23 players, 57.4ms\n",
      "Speed: 6.9ms preprocess, 57.4ms inference, 1.1ms postprocess per image at shape (1, 3, 1088, 1920)\n"
     ]
    },
    {
     "name": "stdout",
     "output_type": "stream",
     "text": [
      "1055\n",
      "Saved: temp_task_folder/img1/001055.jpg\n",
      "1056\n",
      "Saved: temp_task_folder/img1/001056.jpg\n"
     ]
    },
    {
     "name": "stderr",
     "output_type": "stream",
     "text": [
      "\n",
      "0: 1088x1920 1 ball, 23 players, 57.3ms\n",
      "Speed: 6.9ms preprocess, 57.3ms inference, 1.1ms postprocess per image at shape (1, 3, 1088, 1920)\n",
      "\n",
      "0: 1088x1920 1 ball, 23 players, 57.4ms\n",
      "Speed: 6.9ms preprocess, 57.4ms inference, 1.1ms postprocess per image at shape (1, 3, 1088, 1920)\n"
     ]
    },
    {
     "name": "stdout",
     "output_type": "stream",
     "text": [
      "1057\n",
      "Saved: temp_task_folder/img1/001057.jpg\n",
      "1058\n",
      "Saved: temp_task_folder/img1/001058.jpg\n"
     ]
    },
    {
     "name": "stderr",
     "output_type": "stream",
     "text": [
      "\n",
      "0: 1088x1920 1 ball, 23 players, 57.5ms\n",
      "Speed: 6.8ms preprocess, 57.5ms inference, 1.1ms postprocess per image at shape (1, 3, 1088, 1920)\n",
      "\n",
      "0: 1088x1920 1 ball, 23 players, 57.4ms\n",
      "Speed: 6.9ms preprocess, 57.4ms inference, 1.1ms postprocess per image at shape (1, 3, 1088, 1920)\n"
     ]
    },
    {
     "name": "stdout",
     "output_type": "stream",
     "text": [
      "1059\n",
      "Saved: temp_task_folder/img1/001059.jpg\n",
      "1060\n",
      "Saved: temp_task_folder/img1/001060.jpg\n"
     ]
    },
    {
     "name": "stderr",
     "output_type": "stream",
     "text": [
      "\n",
      "0: 1088x1920 1 ball, 23 players, 57.3ms\n",
      "Speed: 6.9ms preprocess, 57.3ms inference, 1.1ms postprocess per image at shape (1, 3, 1088, 1920)\n",
      "\n",
      "0: 1088x1920 1 ball, 23 players, 57.4ms\n",
      "Speed: 6.9ms preprocess, 57.4ms inference, 1.1ms postprocess per image at shape (1, 3, 1088, 1920)\n"
     ]
    },
    {
     "name": "stdout",
     "output_type": "stream",
     "text": [
      "1061\n",
      "Saved: temp_task_folder/img1/001061.jpg\n",
      "1062\n",
      "Saved: temp_task_folder/img1/001062.jpg\n"
     ]
    },
    {
     "name": "stderr",
     "output_type": "stream",
     "text": [
      "\n",
      "0: 1088x1920 1 ball, 23 players, 57.3ms\n",
      "Speed: 6.9ms preprocess, 57.3ms inference, 1.1ms postprocess per image at shape (1, 3, 1088, 1920)\n",
      "\n",
      "0: 1088x1920 1 ball, 23 players, 57.3ms\n",
      "Speed: 6.9ms preprocess, 57.3ms inference, 1.1ms postprocess per image at shape (1, 3, 1088, 1920)\n"
     ]
    },
    {
     "name": "stdout",
     "output_type": "stream",
     "text": [
      "1063\n",
      "Saved: temp_task_folder/img1/001063.jpg\n",
      "1064\n",
      "Saved: temp_task_folder/img1/001064.jpg\n"
     ]
    },
    {
     "name": "stderr",
     "output_type": "stream",
     "text": [
      "\n",
      "0: 1088x1920 1 ball, 23 players, 57.4ms\n",
      "Speed: 6.9ms preprocess, 57.4ms inference, 1.1ms postprocess per image at shape (1, 3, 1088, 1920)\n",
      "\n",
      "0: 1088x1920 1 ball, 23 players, 57.3ms\n",
      "Speed: 6.9ms preprocess, 57.3ms inference, 1.1ms postprocess per image at shape (1, 3, 1088, 1920)\n"
     ]
    },
    {
     "name": "stdout",
     "output_type": "stream",
     "text": [
      "1065\n",
      "Saved: temp_task_folder/img1/001065.jpg\n",
      "1066\n",
      "Saved: temp_task_folder/img1/001066.jpg\n"
     ]
    },
    {
     "name": "stderr",
     "output_type": "stream",
     "text": [
      "\n",
      "0: 1088x1920 1 ball, 23 players, 57.3ms\n",
      "Speed: 6.9ms preprocess, 57.3ms inference, 1.1ms postprocess per image at shape (1, 3, 1088, 1920)\n",
      "\n",
      "0: 1088x1920 1 ball, 23 players, 57.1ms\n",
      "Speed: 6.8ms preprocess, 57.1ms inference, 1.1ms postprocess per image at shape (1, 3, 1088, 1920)\n"
     ]
    },
    {
     "name": "stdout",
     "output_type": "stream",
     "text": [
      "1067\n",
      "Saved: temp_task_folder/img1/001067.jpg\n",
      "1068\n",
      "Saved: temp_task_folder/img1/001068.jpg\n"
     ]
    },
    {
     "name": "stderr",
     "output_type": "stream",
     "text": [
      "\n",
      "0: 1088x1920 1 ball, 23 players, 57.4ms\n",
      "Speed: 6.9ms preprocess, 57.4ms inference, 1.1ms postprocess per image at shape (1, 3, 1088, 1920)\n",
      "\n",
      "0: 1088x1920 1 ball, 23 players, 57.4ms\n",
      "Speed: 6.9ms preprocess, 57.4ms inference, 1.1ms postprocess per image at shape (1, 3, 1088, 1920)\n"
     ]
    },
    {
     "name": "stdout",
     "output_type": "stream",
     "text": [
      "1069\n",
      "Saved: temp_task_folder/img1/001069.jpg\n",
      "1070\n",
      "Saved: temp_task_folder/img1/001070.jpg\n"
     ]
    },
    {
     "name": "stderr",
     "output_type": "stream",
     "text": [
      "\n",
      "0: 1088x1920 1 ball, 23 players, 57.2ms\n",
      "Speed: 6.9ms preprocess, 57.2ms inference, 1.1ms postprocess per image at shape (1, 3, 1088, 1920)\n",
      "\n",
      "0: 1088x1920 1 ball, 23 players, 57.4ms\n",
      "Speed: 6.9ms preprocess, 57.4ms inference, 1.1ms postprocess per image at shape (1, 3, 1088, 1920)\n"
     ]
    },
    {
     "name": "stdout",
     "output_type": "stream",
     "text": [
      "1071\n",
      "Saved: temp_task_folder/img1/001071.jpg\n",
      "1072\n",
      "Saved: temp_task_folder/img1/001072.jpg\n"
     ]
    },
    {
     "name": "stderr",
     "output_type": "stream",
     "text": [
      "\n",
      "0: 1088x1920 1 ball, 23 players, 57.3ms\n",
      "Speed: 6.9ms preprocess, 57.3ms inference, 1.1ms postprocess per image at shape (1, 3, 1088, 1920)\n",
      "\n",
      "0: 1088x1920 1 ball, 23 players, 57.3ms\n",
      "Speed: 7.0ms preprocess, 57.3ms inference, 1.1ms postprocess per image at shape (1, 3, 1088, 1920)\n"
     ]
    },
    {
     "name": "stdout",
     "output_type": "stream",
     "text": [
      "1073\n",
      "Saved: temp_task_folder/img1/001073.jpg\n",
      "1074\n",
      "Saved: temp_task_folder/img1/001074.jpg\n"
     ]
    },
    {
     "name": "stderr",
     "output_type": "stream",
     "text": [
      "\n",
      "0: 1088x1920 1 ball, 23 players, 57.3ms\n",
      "Speed: 6.9ms preprocess, 57.3ms inference, 1.1ms postprocess per image at shape (1, 3, 1088, 1920)\n",
      "\n",
      "0: 1088x1920 1 ball, 23 players, 57.5ms\n",
      "Speed: 6.9ms preprocess, 57.5ms inference, 1.1ms postprocess per image at shape (1, 3, 1088, 1920)\n"
     ]
    },
    {
     "name": "stdout",
     "output_type": "stream",
     "text": [
      "1075\n",
      "Saved: temp_task_folder/img1/001075.jpg\n",
      "1076\n",
      "Saved: temp_task_folder/img1/001076.jpg\n"
     ]
    },
    {
     "name": "stderr",
     "output_type": "stream",
     "text": [
      "\n",
      "0: 1088x1920 1 ball, 23 players, 57.5ms\n",
      "Speed: 6.9ms preprocess, 57.5ms inference, 1.1ms postprocess per image at shape (1, 3, 1088, 1920)\n",
      "\n",
      "0: 1088x1920 1 ball, 23 players, 57.5ms\n",
      "Speed: 6.9ms preprocess, 57.5ms inference, 1.1ms postprocess per image at shape (1, 3, 1088, 1920)\n"
     ]
    },
    {
     "name": "stdout",
     "output_type": "stream",
     "text": [
      "1077\n",
      "Saved: temp_task_folder/img1/001077.jpg\n",
      "1078\n",
      "Saved: temp_task_folder/img1/001078.jpg\n"
     ]
    },
    {
     "name": "stderr",
     "output_type": "stream",
     "text": [
      "\n",
      "0: 1088x1920 1 ball, 23 players, 57.5ms\n",
      "Speed: 6.9ms preprocess, 57.5ms inference, 1.1ms postprocess per image at shape (1, 3, 1088, 1920)\n",
      "\n",
      "0: 1088x1920 1 ball, 23 players, 57.4ms\n",
      "Speed: 6.9ms preprocess, 57.4ms inference, 1.1ms postprocess per image at shape (1, 3, 1088, 1920)\n"
     ]
    },
    {
     "name": "stdout",
     "output_type": "stream",
     "text": [
      "1079\n",
      "Saved: temp_task_folder/img1/001079.jpg\n",
      "1080\n",
      "Saved: temp_task_folder/img1/001080.jpg\n"
     ]
    },
    {
     "name": "stderr",
     "output_type": "stream",
     "text": [
      "\n",
      "0: 1088x1920 1 ball, 23 players, 57.3ms\n",
      "Speed: 6.9ms preprocess, 57.3ms inference, 1.1ms postprocess per image at shape (1, 3, 1088, 1920)\n",
      "\n",
      "0: 1088x1920 1 ball, 23 players, 57.5ms\n",
      "Speed: 6.8ms preprocess, 57.5ms inference, 1.1ms postprocess per image at shape (1, 3, 1088, 1920)\n"
     ]
    },
    {
     "name": "stdout",
     "output_type": "stream",
     "text": [
      "1081\n",
      "Saved: temp_task_folder/img1/001081.jpg\n",
      "1082\n",
      "Saved: temp_task_folder/img1/001082.jpg\n"
     ]
    },
    {
     "name": "stderr",
     "output_type": "stream",
     "text": [
      "\n",
      "0: 1088x1920 1 ball, 23 players, 57.5ms\n",
      "Speed: 6.9ms preprocess, 57.5ms inference, 1.1ms postprocess per image at shape (1, 3, 1088, 1920)\n",
      "\n",
      "0: 1088x1920 1 ball, 23 players, 57.2ms\n",
      "Speed: 6.8ms preprocess, 57.2ms inference, 1.1ms postprocess per image at shape (1, 3, 1088, 1920)\n"
     ]
    },
    {
     "name": "stdout",
     "output_type": "stream",
     "text": [
      "1083\n",
      "Saved: temp_task_folder/img1/001083.jpg\n",
      "1084\n",
      "Saved: temp_task_folder/img1/001084.jpg\n"
     ]
    },
    {
     "name": "stderr",
     "output_type": "stream",
     "text": [
      "\n",
      "0: 1088x1920 1 ball, 23 players, 57.4ms\n",
      "Speed: 7.0ms preprocess, 57.4ms inference, 1.1ms postprocess per image at shape (1, 3, 1088, 1920)\n",
      "\n",
      "0: 1088x1920 1 ball, 23 players, 57.4ms\n",
      "Speed: 6.8ms preprocess, 57.4ms inference, 1.1ms postprocess per image at shape (1, 3, 1088, 1920)\n"
     ]
    },
    {
     "name": "stdout",
     "output_type": "stream",
     "text": [
      "1085\n",
      "Saved: temp_task_folder/img1/001085.jpg\n",
      "1086\n",
      "Saved: temp_task_folder/img1/001086.jpg\n"
     ]
    },
    {
     "name": "stderr",
     "output_type": "stream",
     "text": [
      "\n",
      "0: 1088x1920 1 ball, 23 players, 57.5ms\n",
      "Speed: 6.9ms preprocess, 57.5ms inference, 1.1ms postprocess per image at shape (1, 3, 1088, 1920)\n",
      "\n",
      "0: 1088x1920 1 ball, 24 players, 57.3ms\n",
      "Speed: 6.9ms preprocess, 57.3ms inference, 1.2ms postprocess per image at shape (1, 3, 1088, 1920)\n"
     ]
    },
    {
     "name": "stdout",
     "output_type": "stream",
     "text": [
      "1087\n",
      "Saved: temp_task_folder/img1/001087.jpg\n",
      "1088\n",
      "Saved: temp_task_folder/img1/001088.jpg\n"
     ]
    },
    {
     "name": "stderr",
     "output_type": "stream",
     "text": [
      "\n",
      "0: 1088x1920 1 ball, 23 players, 57.3ms\n",
      "Speed: 6.8ms preprocess, 57.3ms inference, 1.1ms postprocess per image at shape (1, 3, 1088, 1920)\n",
      "\n",
      "0: 1088x1920 1 ball, 23 players, 57.4ms\n",
      "Speed: 6.8ms preprocess, 57.4ms inference, 1.1ms postprocess per image at shape (1, 3, 1088, 1920)\n"
     ]
    },
    {
     "name": "stdout",
     "output_type": "stream",
     "text": [
      "1089\n",
      "Saved: temp_task_folder/img1/001089.jpg\n",
      "1090\n",
      "Saved: temp_task_folder/img1/001090.jpg\n"
     ]
    },
    {
     "name": "stderr",
     "output_type": "stream",
     "text": [
      "\n",
      "0: 1088x1920 1 ball, 23 players, 57.3ms\n",
      "Speed: 6.9ms preprocess, 57.3ms inference, 1.1ms postprocess per image at shape (1, 3, 1088, 1920)\n",
      "\n",
      "0: 1088x1920 1 ball, 23 players, 57.4ms\n",
      "Speed: 6.9ms preprocess, 57.4ms inference, 1.1ms postprocess per image at shape (1, 3, 1088, 1920)\n"
     ]
    },
    {
     "name": "stdout",
     "output_type": "stream",
     "text": [
      "1091\n",
      "Saved: temp_task_folder/img1/001091.jpg\n",
      "1092\n",
      "Saved: temp_task_folder/img1/001092.jpg\n"
     ]
    },
    {
     "name": "stderr",
     "output_type": "stream",
     "text": [
      "\n",
      "0: 1088x1920 1 ball, 23 players, 57.5ms\n",
      "Speed: 6.8ms preprocess, 57.5ms inference, 1.1ms postprocess per image at shape (1, 3, 1088, 1920)\n",
      "\n",
      "0: 1088x1920 1 ball, 23 players, 57.5ms\n",
      "Speed: 6.8ms preprocess, 57.5ms inference, 1.1ms postprocess per image at shape (1, 3, 1088, 1920)\n"
     ]
    },
    {
     "name": "stdout",
     "output_type": "stream",
     "text": [
      "1093\n",
      "Saved: temp_task_folder/img1/001093.jpg\n",
      "1094\n",
      "Saved: temp_task_folder/img1/001094.jpg\n"
     ]
    },
    {
     "name": "stderr",
     "output_type": "stream",
     "text": [
      "\n",
      "0: 1088x1920 1 ball, 23 players, 57.3ms\n",
      "Speed: 7.0ms preprocess, 57.3ms inference, 1.1ms postprocess per image at shape (1, 3, 1088, 1920)\n",
      "\n",
      "0: 1088x1920 1 ball, 23 players, 57.5ms\n",
      "Speed: 6.8ms preprocess, 57.5ms inference, 1.1ms postprocess per image at shape (1, 3, 1088, 1920)\n"
     ]
    },
    {
     "name": "stdout",
     "output_type": "stream",
     "text": [
      "1095\n",
      "Saved: temp_task_folder/img1/001095.jpg\n",
      "1096\n",
      "Saved: temp_task_folder/img1/001096.jpg\n"
     ]
    },
    {
     "name": "stderr",
     "output_type": "stream",
     "text": [
      "\n",
      "0: 1088x1920 1 ball, 23 players, 57.5ms\n",
      "Speed: 6.9ms preprocess, 57.5ms inference, 1.1ms postprocess per image at shape (1, 3, 1088, 1920)\n",
      "\n",
      "0: 1088x1920 1 ball, 23 players, 57.5ms\n",
      "Speed: 6.9ms preprocess, 57.5ms inference, 1.1ms postprocess per image at shape (1, 3, 1088, 1920)\n"
     ]
    },
    {
     "name": "stdout",
     "output_type": "stream",
     "text": [
      "1097\n",
      "Saved: temp_task_folder/img1/001097.jpg\n",
      "1098\n",
      "Saved: temp_task_folder/img1/001098.jpg\n"
     ]
    },
    {
     "name": "stderr",
     "output_type": "stream",
     "text": [
      "\n",
      "0: 1088x1920 1 ball, 23 players, 57.3ms\n",
      "Speed: 7.0ms preprocess, 57.3ms inference, 1.1ms postprocess per image at shape (1, 3, 1088, 1920)\n",
      "\n",
      "0: 1088x1920 1 ball, 23 players, 57.3ms\n",
      "Speed: 6.9ms preprocess, 57.3ms inference, 1.1ms postprocess per image at shape (1, 3, 1088, 1920)\n"
     ]
    },
    {
     "name": "stdout",
     "output_type": "stream",
     "text": [
      "1099\n",
      "Saved: temp_task_folder/img1/001099.jpg\n",
      "1100\n",
      "Saved: temp_task_folder/img1/001100.jpg\n"
     ]
    },
    {
     "name": "stderr",
     "output_type": "stream",
     "text": [
      "\n",
      "0: 1088x1920 1 ball, 23 players, 57.3ms\n",
      "Speed: 6.9ms preprocess, 57.3ms inference, 1.1ms postprocess per image at shape (1, 3, 1088, 1920)\n",
      "\n",
      "0: 1088x1920 1 ball, 23 players, 57.5ms\n",
      "Speed: 6.8ms preprocess, 57.5ms inference, 1.1ms postprocess per image at shape (1, 3, 1088, 1920)\n"
     ]
    },
    {
     "name": "stdout",
     "output_type": "stream",
     "text": [
      "1101\n",
      "Saved: temp_task_folder/img1/001101.jpg\n",
      "1102\n",
      "Saved: temp_task_folder/img1/001102.jpg\n"
     ]
    },
    {
     "name": "stderr",
     "output_type": "stream",
     "text": [
      "\n",
      "0: 1088x1920 1 ball, 23 players, 57.5ms\n",
      "Speed: 6.9ms preprocess, 57.5ms inference, 1.1ms postprocess per image at shape (1, 3, 1088, 1920)\n",
      "\n",
      "0: 1088x1920 1 ball, 23 players, 57.3ms\n",
      "Speed: 6.9ms preprocess, 57.3ms inference, 1.1ms postprocess per image at shape (1, 3, 1088, 1920)\n"
     ]
    },
    {
     "name": "stdout",
     "output_type": "stream",
     "text": [
      "1103\n",
      "Saved: temp_task_folder/img1/001103.jpg\n",
      "1104\n",
      "Saved: temp_task_folder/img1/001104.jpg\n"
     ]
    },
    {
     "name": "stderr",
     "output_type": "stream",
     "text": [
      "\n",
      "0: 1088x1920 1 ball, 23 players, 57.2ms\n",
      "Speed: 6.8ms preprocess, 57.2ms inference, 1.1ms postprocess per image at shape (1, 3, 1088, 1920)\n",
      "\n",
      "0: 1088x1920 1 ball, 23 players, 57.5ms\n",
      "Speed: 6.9ms preprocess, 57.5ms inference, 1.1ms postprocess per image at shape (1, 3, 1088, 1920)\n"
     ]
    },
    {
     "name": "stdout",
     "output_type": "stream",
     "text": [
      "1105\n",
      "Saved: temp_task_folder/img1/001105.jpg\n",
      "1106\n",
      "Saved: temp_task_folder/img1/001106.jpg\n"
     ]
    },
    {
     "name": "stderr",
     "output_type": "stream",
     "text": [
      "\n",
      "0: 1088x1920 23 players, 57.4ms\n",
      "Speed: 6.9ms preprocess, 57.4ms inference, 1.1ms postprocess per image at shape (1, 3, 1088, 1920)\n",
      "\n",
      "0: 1088x1920 23 players, 57.5ms\n",
      "Speed: 6.9ms preprocess, 57.5ms inference, 1.1ms postprocess per image at shape (1, 3, 1088, 1920)\n"
     ]
    },
    {
     "name": "stdout",
     "output_type": "stream",
     "text": [
      "1107\n",
      "Saved: temp_task_folder/img1/001107.jpg\n",
      "1108\n",
      "Saved: temp_task_folder/img1/001108.jpg\n"
     ]
    },
    {
     "name": "stderr",
     "output_type": "stream",
     "text": [
      "\n",
      "0: 1088x1920 23 players, 57.4ms\n",
      "Speed: 6.9ms preprocess, 57.4ms inference, 1.1ms postprocess per image at shape (1, 3, 1088, 1920)\n",
      "\n",
      "0: 1088x1920 23 players, 57.5ms\n",
      "Speed: 6.9ms preprocess, 57.5ms inference, 1.1ms postprocess per image at shape (1, 3, 1088, 1920)\n"
     ]
    },
    {
     "name": "stdout",
     "output_type": "stream",
     "text": [
      "1109\n",
      "Saved: temp_task_folder/img1/001109.jpg\n",
      "1110\n",
      "Saved: temp_task_folder/img1/001110.jpg\n"
     ]
    },
    {
     "name": "stderr",
     "output_type": "stream",
     "text": [
      "\n",
      "0: 1088x1920 23 players, 57.3ms\n",
      "Speed: 6.9ms preprocess, 57.3ms inference, 1.1ms postprocess per image at shape (1, 3, 1088, 1920)\n",
      "\n",
      "0: 1088x1920 23 players, 57.5ms\n",
      "Speed: 6.9ms preprocess, 57.5ms inference, 1.1ms postprocess per image at shape (1, 3, 1088, 1920)\n"
     ]
    },
    {
     "name": "stdout",
     "output_type": "stream",
     "text": [
      "1111\n",
      "Saved: temp_task_folder/img1/001111.jpg\n",
      "1112\n",
      "Saved: temp_task_folder/img1/001112.jpg\n"
     ]
    },
    {
     "name": "stderr",
     "output_type": "stream",
     "text": [
      "\n",
      "0: 1088x1920 23 players, 57.5ms\n",
      "Speed: 6.9ms preprocess, 57.5ms inference, 1.1ms postprocess per image at shape (1, 3, 1088, 1920)\n",
      "\n",
      "0: 1088x1920 23 players, 57.2ms\n",
      "Speed: 6.8ms preprocess, 57.2ms inference, 1.1ms postprocess per image at shape (1, 3, 1088, 1920)\n"
     ]
    },
    {
     "name": "stdout",
     "output_type": "stream",
     "text": [
      "1113\n",
      "Saved: temp_task_folder/img1/001113.jpg\n",
      "1114\n",
      "Saved: temp_task_folder/img1/001114.jpg\n"
     ]
    },
    {
     "name": "stderr",
     "output_type": "stream",
     "text": [
      "\n",
      "0: 1088x1920 23 players, 57.3ms\n",
      "Speed: 7.1ms preprocess, 57.3ms inference, 1.1ms postprocess per image at shape (1, 3, 1088, 1920)\n",
      "\n",
      "0: 1088x1920 23 players, 57.5ms\n",
      "Speed: 6.8ms preprocess, 57.5ms inference, 1.1ms postprocess per image at shape (1, 3, 1088, 1920)\n"
     ]
    },
    {
     "name": "stdout",
     "output_type": "stream",
     "text": [
      "1115\n",
      "Saved: temp_task_folder/img1/001115.jpg\n",
      "1116\n",
      "Saved: temp_task_folder/img1/001116.jpg\n"
     ]
    },
    {
     "name": "stderr",
     "output_type": "stream",
     "text": [
      "\n",
      "0: 1088x1920 23 players, 57.4ms\n",
      "Speed: 6.9ms preprocess, 57.4ms inference, 1.2ms postprocess per image at shape (1, 3, 1088, 1920)\n",
      "\n",
      "0: 1088x1920 23 players, 57.2ms\n",
      "Speed: 7.0ms preprocess, 57.2ms inference, 1.1ms postprocess per image at shape (1, 3, 1088, 1920)\n"
     ]
    },
    {
     "name": "stdout",
     "output_type": "stream",
     "text": [
      "1117\n",
      "Saved: temp_task_folder/img1/001117.jpg\n",
      "1118\n",
      "Saved: temp_task_folder/img1/001118.jpg\n"
     ]
    },
    {
     "name": "stderr",
     "output_type": "stream",
     "text": [
      "\n",
      "0: 1088x1920 24 players, 57.3ms\n",
      "Speed: 6.9ms preprocess, 57.3ms inference, 1.1ms postprocess per image at shape (1, 3, 1088, 1920)\n",
      "\n",
      "0: 1088x1920 1 ball, 24 players, 57.4ms\n",
      "Speed: 6.9ms preprocess, 57.4ms inference, 1.1ms postprocess per image at shape (1, 3, 1088, 1920)\n"
     ]
    },
    {
     "name": "stdout",
     "output_type": "stream",
     "text": [
      "1119\n",
      "Saved: temp_task_folder/img1/001119.jpg\n",
      "1120\n",
      "Saved: temp_task_folder/img1/001120.jpg\n"
     ]
    },
    {
     "name": "stderr",
     "output_type": "stream",
     "text": [
      "\n",
      "0: 1088x1920 1 ball, 23 players, 57.4ms\n",
      "Speed: 6.8ms preprocess, 57.4ms inference, 1.1ms postprocess per image at shape (1, 3, 1088, 1920)\n",
      "\n",
      "0: 1088x1920 1 ball, 23 players, 57.4ms\n",
      "Speed: 6.9ms preprocess, 57.4ms inference, 1.1ms postprocess per image at shape (1, 3, 1088, 1920)\n"
     ]
    },
    {
     "name": "stdout",
     "output_type": "stream",
     "text": [
      "1121\n",
      "Saved: temp_task_folder/img1/001121.jpg\n",
      "1122\n",
      "Saved: temp_task_folder/img1/001122.jpg\n"
     ]
    },
    {
     "name": "stderr",
     "output_type": "stream",
     "text": [
      "\n",
      "0: 1088x1920 1 ball, 23 players, 57.4ms\n",
      "Speed: 6.9ms preprocess, 57.4ms inference, 1.1ms postprocess per image at shape (1, 3, 1088, 1920)\n",
      "\n",
      "0: 1088x1920 1 ball, 23 players, 57.5ms\n",
      "Speed: 6.8ms preprocess, 57.5ms inference, 1.1ms postprocess per image at shape (1, 3, 1088, 1920)\n"
     ]
    },
    {
     "name": "stdout",
     "output_type": "stream",
     "text": [
      "1123\n",
      "Saved: temp_task_folder/img1/001123.jpg\n",
      "1124\n",
      "Saved: temp_task_folder/img1/001124.jpg\n"
     ]
    },
    {
     "name": "stderr",
     "output_type": "stream",
     "text": [
      "\n",
      "0: 1088x1920 1 ball, 23 players, 57.3ms\n",
      "Speed: 6.8ms preprocess, 57.3ms inference, 1.1ms postprocess per image at shape (1, 3, 1088, 1920)\n",
      "\n",
      "0: 1088x1920 1 ball, 23 players, 57.2ms\n",
      "Speed: 6.8ms preprocess, 57.2ms inference, 1.1ms postprocess per image at shape (1, 3, 1088, 1920)\n"
     ]
    },
    {
     "name": "stdout",
     "output_type": "stream",
     "text": [
      "1125\n",
      "Saved: temp_task_folder/img1/001125.jpg\n",
      "1126\n",
      "Saved: temp_task_folder/img1/001126.jpg\n"
     ]
    },
    {
     "name": "stderr",
     "output_type": "stream",
     "text": [
      "\n",
      "0: 1088x1920 1 ball, 23 players, 57.3ms\n",
      "Speed: 7.0ms preprocess, 57.3ms inference, 1.1ms postprocess per image at shape (1, 3, 1088, 1920)\n",
      "\n",
      "0: 1088x1920 1 ball, 23 players, 57.5ms\n",
      "Speed: 6.8ms preprocess, 57.5ms inference, 1.1ms postprocess per image at shape (1, 3, 1088, 1920)\n"
     ]
    },
    {
     "name": "stdout",
     "output_type": "stream",
     "text": [
      "1127\n",
      "Saved: temp_task_folder/img1/001127.jpg\n",
      "1128\n",
      "Saved: temp_task_folder/img1/001128.jpg\n"
     ]
    },
    {
     "name": "stderr",
     "output_type": "stream",
     "text": [
      "\n",
      "0: 1088x1920 1 ball, 23 players, 57.4ms\n",
      "Speed: 6.8ms preprocess, 57.4ms inference, 1.1ms postprocess per image at shape (1, 3, 1088, 1920)\n",
      "\n",
      "0: 1088x1920 1 ball, 23 players, 57.5ms\n",
      "Speed: 6.9ms preprocess, 57.5ms inference, 1.2ms postprocess per image at shape (1, 3, 1088, 1920)\n"
     ]
    },
    {
     "name": "stdout",
     "output_type": "stream",
     "text": [
      "1129\n",
      "Saved: temp_task_folder/img1/001129.jpg\n",
      "1130\n",
      "Saved: temp_task_folder/img1/001130.jpg\n"
     ]
    },
    {
     "name": "stderr",
     "output_type": "stream",
     "text": [
      "\n",
      "0: 1088x1920 1 ball, 23 players, 57.3ms\n",
      "Speed: 6.9ms preprocess, 57.3ms inference, 1.1ms postprocess per image at shape (1, 3, 1088, 1920)\n",
      "\n",
      "0: 1088x1920 1 ball, 23 players, 57.4ms\n",
      "Speed: 6.8ms preprocess, 57.4ms inference, 1.1ms postprocess per image at shape (1, 3, 1088, 1920)\n"
     ]
    },
    {
     "name": "stdout",
     "output_type": "stream",
     "text": [
      "1131\n",
      "Saved: temp_task_folder/img1/001131.jpg\n",
      "1132\n",
      "Saved: temp_task_folder/img1/001132.jpg\n"
     ]
    },
    {
     "name": "stderr",
     "output_type": "stream",
     "text": [
      "\n",
      "0: 1088x1920 1 ball, 23 players, 57.3ms\n",
      "Speed: 7.0ms preprocess, 57.3ms inference, 1.2ms postprocess per image at shape (1, 3, 1088, 1920)\n",
      "\n",
      "0: 1088x1920 1 ball, 23 players, 57.2ms\n",
      "Speed: 6.9ms preprocess, 57.2ms inference, 1.1ms postprocess per image at shape (1, 3, 1088, 1920)\n"
     ]
    },
    {
     "name": "stdout",
     "output_type": "stream",
     "text": [
      "1133\n",
      "Saved: temp_task_folder/img1/001133.jpg\n",
      "1134\n",
      "Saved: temp_task_folder/img1/001134.jpg\n"
     ]
    },
    {
     "name": "stderr",
     "output_type": "stream",
     "text": [
      "\n",
      "0: 1088x1920 1 ball, 23 players, 57.3ms\n",
      "Speed: 6.9ms preprocess, 57.3ms inference, 1.1ms postprocess per image at shape (1, 3, 1088, 1920)\n",
      "\n",
      "0: 1088x1920 1 ball, 23 players, 57.2ms\n",
      "Speed: 6.8ms preprocess, 57.2ms inference, 1.1ms postprocess per image at shape (1, 3, 1088, 1920)\n"
     ]
    },
    {
     "name": "stdout",
     "output_type": "stream",
     "text": [
      "1135\n",
      "Saved: temp_task_folder/img1/001135.jpg\n",
      "1136\n",
      "Saved: temp_task_folder/img1/001136.jpg\n"
     ]
    },
    {
     "name": "stderr",
     "output_type": "stream",
     "text": [
      "\n",
      "0: 1088x1920 1 ball, 23 players, 57.5ms\n",
      "Speed: 6.8ms preprocess, 57.5ms inference, 1.1ms postprocess per image at shape (1, 3, 1088, 1920)\n",
      "\n",
      "0: 1088x1920 1 ball, 23 players, 57.4ms\n",
      "Speed: 6.8ms preprocess, 57.4ms inference, 1.1ms postprocess per image at shape (1, 3, 1088, 1920)\n"
     ]
    },
    {
     "name": "stdout",
     "output_type": "stream",
     "text": [
      "1137\n",
      "Saved: temp_task_folder/img1/001137.jpg\n",
      "1138\n",
      "Saved: temp_task_folder/img1/001138.jpg\n"
     ]
    },
    {
     "name": "stderr",
     "output_type": "stream",
     "text": [
      "\n",
      "0: 1088x1920 1 ball, 23 players, 57.5ms\n",
      "Speed: 6.9ms preprocess, 57.5ms inference, 1.1ms postprocess per image at shape (1, 3, 1088, 1920)\n",
      "\n",
      "0: 1088x1920 23 players, 57.2ms\n",
      "Speed: 6.9ms preprocess, 57.2ms inference, 1.1ms postprocess per image at shape (1, 3, 1088, 1920)\n"
     ]
    },
    {
     "name": "stdout",
     "output_type": "stream",
     "text": [
      "1139\n",
      "Saved: temp_task_folder/img1/001139.jpg\n",
      "1140\n"
     ]
    },
    {
     "name": "stderr",
     "output_type": "stream",
     "text": [
      "\n",
      "0: 1088x1920 23 players, 57.6ms\n",
      "Speed: 10.8ms preprocess, 57.6ms inference, 1.2ms postprocess per image at shape (1, 3, 1088, 1920)\n"
     ]
    },
    {
     "name": "stdout",
     "output_type": "stream",
     "text": [
      "Saved: temp_task_folder/img1/001140.jpg\n",
      "1141\n",
      "Saved: temp_task_folder/img1/001141.jpg\n"
     ]
    },
    {
     "name": "stderr",
     "output_type": "stream",
     "text": [
      "\n",
      "0: 1088x1920 23 players, 57.4ms\n",
      "Speed: 6.8ms preprocess, 57.4ms inference, 1.1ms postprocess per image at shape (1, 3, 1088, 1920)\n",
      "\n",
      "0: 1088x1920 23 players, 57.4ms\n",
      "Speed: 6.9ms preprocess, 57.4ms inference, 1.1ms postprocess per image at shape (1, 3, 1088, 1920)\n"
     ]
    },
    {
     "name": "stdout",
     "output_type": "stream",
     "text": [
      "1142\n",
      "Saved: temp_task_folder/img1/001142.jpg\n",
      "1143\n",
      "Saved: temp_task_folder/img1/001143.jpg\n"
     ]
    },
    {
     "name": "stderr",
     "output_type": "stream",
     "text": [
      "\n",
      "0: 1088x1920 23 players, 57.3ms\n",
      "Speed: 6.8ms preprocess, 57.3ms inference, 1.1ms postprocess per image at shape (1, 3, 1088, 1920)\n",
      "\n",
      "0: 1088x1920 1 ball, 23 players, 57.3ms\n",
      "Speed: 7.1ms preprocess, 57.3ms inference, 1.1ms postprocess per image at shape (1, 3, 1088, 1920)\n"
     ]
    },
    {
     "name": "stdout",
     "output_type": "stream",
     "text": [
      "1144\n",
      "Saved: temp_task_folder/img1/001144.jpg\n",
      "1145\n",
      "Saved: temp_task_folder/img1/001145.jpg\n"
     ]
    },
    {
     "name": "stderr",
     "output_type": "stream",
     "text": [
      "\n",
      "0: 1088x1920 1 ball, 23 players, 57.4ms\n",
      "Speed: 6.8ms preprocess, 57.4ms inference, 1.1ms postprocess per image at shape (1, 3, 1088, 1920)\n",
      "\n",
      "0: 1088x1920 1 ball, 23 players, 57.3ms\n",
      "Speed: 7.0ms preprocess, 57.3ms inference, 1.1ms postprocess per image at shape (1, 3, 1088, 1920)\n"
     ]
    },
    {
     "name": "stdout",
     "output_type": "stream",
     "text": [
      "1146\n",
      "Saved: temp_task_folder/img1/001146.jpg\n",
      "1147\n",
      "Saved: temp_task_folder/img1/001147.jpg\n"
     ]
    },
    {
     "name": "stderr",
     "output_type": "stream",
     "text": [
      "\n",
      "0: 1088x1920 1 ball, 23 players, 57.5ms\n",
      "Speed: 6.9ms preprocess, 57.5ms inference, 1.1ms postprocess per image at shape (1, 3, 1088, 1920)\n",
      "\n",
      "0: 1088x1920 1 ball, 23 players, 57.4ms\n",
      "Speed: 7.0ms preprocess, 57.4ms inference, 1.1ms postprocess per image at shape (1, 3, 1088, 1920)\n"
     ]
    },
    {
     "name": "stdout",
     "output_type": "stream",
     "text": [
      "1148\n",
      "Saved: temp_task_folder/img1/001148.jpg\n",
      "1149\n",
      "Saved: temp_task_folder/img1/001149.jpg\n"
     ]
    },
    {
     "name": "stderr",
     "output_type": "stream",
     "text": [
      "\n",
      "0: 1088x1920 1 ball, 23 players, 57.6ms\n",
      "Speed: 6.9ms preprocess, 57.6ms inference, 1.1ms postprocess per image at shape (1, 3, 1088, 1920)\n",
      "\n",
      "0: 1088x1920 1 ball, 23 players, 57.4ms\n",
      "Speed: 7.3ms preprocess, 57.4ms inference, 1.1ms postprocess per image at shape (1, 3, 1088, 1920)\n"
     ]
    },
    {
     "name": "stdout",
     "output_type": "stream",
     "text": [
      "1150\n",
      "Saved: temp_task_folder/img1/001150.jpg\n",
      "1151\n",
      "Saved: temp_task_folder/img1/001151.jpg\n"
     ]
    },
    {
     "name": "stderr",
     "output_type": "stream",
     "text": [
      "\n",
      "0: 1088x1920 1 ball, 23 players, 57.5ms\n",
      "Speed: 6.9ms preprocess, 57.5ms inference, 1.1ms postprocess per image at shape (1, 3, 1088, 1920)\n",
      "\n",
      "0: 1088x1920 1 ball, 23 players, 57.3ms\n",
      "Speed: 6.9ms preprocess, 57.3ms inference, 1.1ms postprocess per image at shape (1, 3, 1088, 1920)\n"
     ]
    },
    {
     "name": "stdout",
     "output_type": "stream",
     "text": [
      "1152\n",
      "Saved: temp_task_folder/img1/001152.jpg\n",
      "1153\n",
      "Saved: temp_task_folder/img1/001153.jpg\n"
     ]
    },
    {
     "name": "stderr",
     "output_type": "stream",
     "text": [
      "\n",
      "0: 1088x1920 1 ball, 23 players, 57.5ms\n",
      "Speed: 6.8ms preprocess, 57.5ms inference, 1.1ms postprocess per image at shape (1, 3, 1088, 1920)\n",
      "\n",
      "0: 1088x1920 1 ball, 23 players, 57.5ms\n",
      "Speed: 7.0ms preprocess, 57.5ms inference, 1.1ms postprocess per image at shape (1, 3, 1088, 1920)\n"
     ]
    },
    {
     "name": "stdout",
     "output_type": "stream",
     "text": [
      "1154\n",
      "Saved: temp_task_folder/img1/001154.jpg\n",
      "1155\n",
      "Saved: temp_task_folder/img1/001155.jpg\n"
     ]
    },
    {
     "name": "stderr",
     "output_type": "stream",
     "text": [
      "\n",
      "0: 1088x1920 1 ball, 23 players, 57.4ms\n",
      "Speed: 6.9ms preprocess, 57.4ms inference, 1.1ms postprocess per image at shape (1, 3, 1088, 1920)\n",
      "\n",
      "0: 1088x1920 1 ball, 23 players, 57.3ms\n",
      "Speed: 6.8ms preprocess, 57.3ms inference, 1.1ms postprocess per image at shape (1, 3, 1088, 1920)\n"
     ]
    },
    {
     "name": "stdout",
     "output_type": "stream",
     "text": [
      "1156\n",
      "Saved: temp_task_folder/img1/001156.jpg\n",
      "1157\n",
      "Saved: temp_task_folder/img1/001157.jpg\n"
     ]
    },
    {
     "name": "stderr",
     "output_type": "stream",
     "text": [
      "\n",
      "0: 1088x1920 1 ball, 23 players, 57.4ms\n",
      "Speed: 6.8ms preprocess, 57.4ms inference, 1.1ms postprocess per image at shape (1, 3, 1088, 1920)\n",
      "\n",
      "0: 1088x1920 1 ball, 23 players, 57.3ms\n",
      "Speed: 6.9ms preprocess, 57.3ms inference, 1.1ms postprocess per image at shape (1, 3, 1088, 1920)\n"
     ]
    },
    {
     "name": "stdout",
     "output_type": "stream",
     "text": [
      "1158\n",
      "Saved: temp_task_folder/img1/001158.jpg\n",
      "1159\n",
      "Saved: temp_task_folder/img1/001159.jpg\n"
     ]
    },
    {
     "name": "stderr",
     "output_type": "stream",
     "text": [
      "\n",
      "0: 1088x1920 1 ball, 23 players, 57.4ms\n",
      "Speed: 6.8ms preprocess, 57.4ms inference, 1.1ms postprocess per image at shape (1, 3, 1088, 1920)\n",
      "\n",
      "0: 1088x1920 1 ball, 23 players, 57.4ms\n",
      "Speed: 6.9ms preprocess, 57.4ms inference, 1.1ms postprocess per image at shape (1, 3, 1088, 1920)\n"
     ]
    },
    {
     "name": "stdout",
     "output_type": "stream",
     "text": [
      "1160\n",
      "Saved: temp_task_folder/img1/001160.jpg\n",
      "1161\n",
      "Saved: temp_task_folder/img1/001161.jpg\n"
     ]
    },
    {
     "name": "stderr",
     "output_type": "stream",
     "text": [
      "\n",
      "0: 1088x1920 1 ball, 23 players, 57.3ms\n",
      "Speed: 6.9ms preprocess, 57.3ms inference, 1.1ms postprocess per image at shape (1, 3, 1088, 1920)\n",
      "\n",
      "0: 1088x1920 1 ball, 23 players, 57.5ms\n",
      "Speed: 6.9ms preprocess, 57.5ms inference, 1.1ms postprocess per image at shape (1, 3, 1088, 1920)\n"
     ]
    },
    {
     "name": "stdout",
     "output_type": "stream",
     "text": [
      "1162\n",
      "Saved: temp_task_folder/img1/001162.jpg\n",
      "1163\n",
      "Saved: temp_task_folder/img1/001163.jpg\n"
     ]
    },
    {
     "name": "stderr",
     "output_type": "stream",
     "text": [
      "\n",
      "0: 1088x1920 1 ball, 23 players, 57.3ms\n",
      "Speed: 6.8ms preprocess, 57.3ms inference, 1.1ms postprocess per image at shape (1, 3, 1088, 1920)\n",
      "\n",
      "0: 1088x1920 1 ball, 23 players, 57.3ms\n",
      "Speed: 6.9ms preprocess, 57.3ms inference, 1.1ms postprocess per image at shape (1, 3, 1088, 1920)\n"
     ]
    },
    {
     "name": "stdout",
     "output_type": "stream",
     "text": [
      "1164\n",
      "Saved: temp_task_folder/img1/001164.jpg\n",
      "1165\n",
      "Saved: temp_task_folder/img1/001165.jpg\n"
     ]
    },
    {
     "name": "stderr",
     "output_type": "stream",
     "text": [
      "\n",
      "0: 1088x1920 1 ball, 23 players, 57.3ms\n",
      "Speed: 6.9ms preprocess, 57.3ms inference, 1.5ms postprocess per image at shape (1, 3, 1088, 1920)\n",
      "\n",
      "0: 1088x1920 1 ball, 23 players, 57.3ms\n",
      "Speed: 6.8ms preprocess, 57.3ms inference, 1.1ms postprocess per image at shape (1, 3, 1088, 1920)\n"
     ]
    },
    {
     "name": "stdout",
     "output_type": "stream",
     "text": [
      "1166\n",
      "Saved: temp_task_folder/img1/001166.jpg\n",
      "1167\n",
      "Saved: temp_task_folder/img1/001167.jpg\n"
     ]
    },
    {
     "name": "stderr",
     "output_type": "stream",
     "text": [
      "\n",
      "0: 1088x1920 1 ball, 23 players, 57.2ms\n",
      "Speed: 6.8ms preprocess, 57.2ms inference, 1.1ms postprocess per image at shape (1, 3, 1088, 1920)\n",
      "\n",
      "0: 1088x1920 1 ball, 23 players, 57.4ms\n",
      "Speed: 6.8ms preprocess, 57.4ms inference, 1.1ms postprocess per image at shape (1, 3, 1088, 1920)\n"
     ]
    },
    {
     "name": "stdout",
     "output_type": "stream",
     "text": [
      "1168\n",
      "Saved: temp_task_folder/img1/001168.jpg\n",
      "1169\n",
      "Saved: temp_task_folder/img1/001169.jpg\n"
     ]
    },
    {
     "name": "stderr",
     "output_type": "stream",
     "text": [
      "\n",
      "0: 1088x1920 1 ball, 23 players, 57.5ms\n",
      "Speed: 6.9ms preprocess, 57.5ms inference, 1.1ms postprocess per image at shape (1, 3, 1088, 1920)\n",
      "\n",
      "0: 1088x1920 1 ball, 23 players, 57.4ms\n",
      "Speed: 6.9ms preprocess, 57.4ms inference, 1.1ms postprocess per image at shape (1, 3, 1088, 1920)\n"
     ]
    },
    {
     "name": "stdout",
     "output_type": "stream",
     "text": [
      "1170\n",
      "Saved: temp_task_folder/img1/001170.jpg\n",
      "1171\n",
      "Saved: temp_task_folder/img1/001171.jpg\n"
     ]
    },
    {
     "name": "stderr",
     "output_type": "stream",
     "text": [
      "\n",
      "0: 1088x1920 1 ball, 23 players, 57.4ms\n",
      "Speed: 6.9ms preprocess, 57.4ms inference, 1.1ms postprocess per image at shape (1, 3, 1088, 1920)\n",
      "\n",
      "0: 1088x1920 1 ball, 23 players, 57.3ms\n",
      "Speed: 6.8ms preprocess, 57.3ms inference, 1.1ms postprocess per image at shape (1, 3, 1088, 1920)\n"
     ]
    },
    {
     "name": "stdout",
     "output_type": "stream",
     "text": [
      "1172\n",
      "Saved: temp_task_folder/img1/001172.jpg\n",
      "1173\n",
      "Saved: temp_task_folder/img1/001173.jpg\n"
     ]
    },
    {
     "name": "stderr",
     "output_type": "stream",
     "text": [
      "\n",
      "0: 1088x1920 1 ball, 23 players, 57.3ms\n",
      "Speed: 6.9ms preprocess, 57.3ms inference, 1.1ms postprocess per image at shape (1, 3, 1088, 1920)\n",
      "\n",
      "0: 1088x1920 1 ball, 23 players, 57.5ms\n",
      "Speed: 6.9ms preprocess, 57.5ms inference, 1.1ms postprocess per image at shape (1, 3, 1088, 1920)\n"
     ]
    },
    {
     "name": "stdout",
     "output_type": "stream",
     "text": [
      "1174\n",
      "Saved: temp_task_folder/img1/001174.jpg\n",
      "1175\n",
      "Saved: temp_task_folder/img1/001175.jpg\n"
     ]
    },
    {
     "name": "stderr",
     "output_type": "stream",
     "text": [
      "\n",
      "0: 1088x1920 1 ball, 23 players, 57.5ms\n",
      "Speed: 6.9ms preprocess, 57.5ms inference, 1.1ms postprocess per image at shape (1, 3, 1088, 1920)\n",
      "\n",
      "0: 1088x1920 1 ball, 23 players, 57.5ms\n",
      "Speed: 6.8ms preprocess, 57.5ms inference, 1.1ms postprocess per image at shape (1, 3, 1088, 1920)\n"
     ]
    },
    {
     "name": "stdout",
     "output_type": "stream",
     "text": [
      "1176\n",
      "Saved: temp_task_folder/img1/001176.jpg\n",
      "1177\n",
      "Saved: temp_task_folder/img1/001177.jpg\n"
     ]
    },
    {
     "name": "stderr",
     "output_type": "stream",
     "text": [
      "\n",
      "0: 1088x1920 1 ball, 23 players, 57.2ms\n",
      "Speed: 6.9ms preprocess, 57.2ms inference, 1.1ms postprocess per image at shape (1, 3, 1088, 1920)\n",
      "\n",
      "0: 1088x1920 1 ball, 23 players, 57.5ms\n",
      "Speed: 6.8ms preprocess, 57.5ms inference, 1.1ms postprocess per image at shape (1, 3, 1088, 1920)\n"
     ]
    },
    {
     "name": "stdout",
     "output_type": "stream",
     "text": [
      "1178\n",
      "Saved: temp_task_folder/img1/001178.jpg\n",
      "1179\n",
      "Saved: temp_task_folder/img1/001179.jpg\n"
     ]
    },
    {
     "name": "stderr",
     "output_type": "stream",
     "text": [
      "\n",
      "0: 1088x1920 1 ball, 23 players, 57.4ms\n",
      "Speed: 6.8ms preprocess, 57.4ms inference, 1.1ms postprocess per image at shape (1, 3, 1088, 1920)\n",
      "\n",
      "0: 1088x1920 1 ball, 23 players, 57.4ms\n",
      "Speed: 6.9ms preprocess, 57.4ms inference, 1.1ms postprocess per image at shape (1, 3, 1088, 1920)\n"
     ]
    },
    {
     "name": "stdout",
     "output_type": "stream",
     "text": [
      "1180\n",
      "Saved: temp_task_folder/img1/001180.jpg\n",
      "1181\n",
      "Saved: temp_task_folder/img1/001181.jpg\n"
     ]
    },
    {
     "name": "stderr",
     "output_type": "stream",
     "text": [
      "\n",
      "0: 1088x1920 1 ball, 23 players, 57.5ms\n",
      "Speed: 6.8ms preprocess, 57.5ms inference, 1.1ms postprocess per image at shape (1, 3, 1088, 1920)\n",
      "\n",
      "0: 1088x1920 1 ball, 23 players, 57.5ms\n",
      "Speed: 6.8ms preprocess, 57.5ms inference, 1.1ms postprocess per image at shape (1, 3, 1088, 1920)\n"
     ]
    },
    {
     "name": "stdout",
     "output_type": "stream",
     "text": [
      "1182\n",
      "Saved: temp_task_folder/img1/001182.jpg\n",
      "1183\n",
      "Saved: temp_task_folder/img1/001183.jpg\n"
     ]
    },
    {
     "name": "stderr",
     "output_type": "stream",
     "text": [
      "\n",
      "0: 1088x1920 1 ball, 23 players, 57.2ms\n",
      "Speed: 6.9ms preprocess, 57.2ms inference, 1.1ms postprocess per image at shape (1, 3, 1088, 1920)\n",
      "\n",
      "0: 1088x1920 1 ball, 23 players, 57.5ms\n",
      "Speed: 7.0ms preprocess, 57.5ms inference, 1.1ms postprocess per image at shape (1, 3, 1088, 1920)\n"
     ]
    },
    {
     "name": "stdout",
     "output_type": "stream",
     "text": [
      "1184\n",
      "Saved: temp_task_folder/img1/001184.jpg\n",
      "1185\n",
      "Saved: temp_task_folder/img1/001185.jpg\n"
     ]
    },
    {
     "name": "stderr",
     "output_type": "stream",
     "text": [
      "\n",
      "0: 1088x1920 1 ball, 23 players, 57.3ms\n",
      "Speed: 6.8ms preprocess, 57.3ms inference, 1.1ms postprocess per image at shape (1, 3, 1088, 1920)\n",
      "\n",
      "0: 1088x1920 1 ball, 23 players, 57.4ms\n",
      "Speed: 6.9ms preprocess, 57.4ms inference, 1.1ms postprocess per image at shape (1, 3, 1088, 1920)\n"
     ]
    },
    {
     "name": "stdout",
     "output_type": "stream",
     "text": [
      "1186\n",
      "Saved: temp_task_folder/img1/001186.jpg\n",
      "1187\n",
      "Saved: temp_task_folder/img1/001187.jpg\n"
     ]
    },
    {
     "name": "stderr",
     "output_type": "stream",
     "text": [
      "\n",
      "0: 1088x1920 1 ball, 23 players, 57.3ms\n",
      "Speed: 6.9ms preprocess, 57.3ms inference, 1.1ms postprocess per image at shape (1, 3, 1088, 1920)\n",
      "\n",
      "0: 1088x1920 1 ball, 23 players, 57.2ms\n",
      "Speed: 6.8ms preprocess, 57.2ms inference, 1.1ms postprocess per image at shape (1, 3, 1088, 1920)\n"
     ]
    },
    {
     "name": "stdout",
     "output_type": "stream",
     "text": [
      "1188\n",
      "Saved: temp_task_folder/img1/001188.jpg\n",
      "1189\n",
      "Saved: temp_task_folder/img1/001189.jpg\n"
     ]
    },
    {
     "name": "stderr",
     "output_type": "stream",
     "text": [
      "\n",
      "0: 1088x1920 1 ball, 23 players, 57.2ms\n",
      "Speed: 6.9ms preprocess, 57.2ms inference, 1.1ms postprocess per image at shape (1, 3, 1088, 1920)\n",
      "\n",
      "0: 1088x1920 1 ball, 23 players, 57.4ms\n",
      "Speed: 6.8ms preprocess, 57.4ms inference, 1.1ms postprocess per image at shape (1, 3, 1088, 1920)\n"
     ]
    },
    {
     "name": "stdout",
     "output_type": "stream",
     "text": [
      "1190\n",
      "Saved: temp_task_folder/img1/001190.jpg\n",
      "1191\n",
      "Saved: temp_task_folder/img1/001191.jpg\n"
     ]
    },
    {
     "name": "stderr",
     "output_type": "stream",
     "text": [
      "\n",
      "0: 1088x1920 1 ball, 23 players, 57.5ms\n",
      "Speed: 6.9ms preprocess, 57.5ms inference, 1.1ms postprocess per image at shape (1, 3, 1088, 1920)\n",
      "\n",
      "0: 1088x1920 1 ball, 23 players, 57.4ms\n",
      "Speed: 6.9ms preprocess, 57.4ms inference, 1.1ms postprocess per image at shape (1, 3, 1088, 1920)\n"
     ]
    },
    {
     "name": "stdout",
     "output_type": "stream",
     "text": [
      "1192\n",
      "Saved: temp_task_folder/img1/001192.jpg\n",
      "1193\n",
      "Saved: temp_task_folder/img1/001193.jpg\n"
     ]
    },
    {
     "name": "stderr",
     "output_type": "stream",
     "text": [
      "\n",
      "0: 1088x1920 1 ball, 23 players, 57.3ms\n",
      "Speed: 6.9ms preprocess, 57.3ms inference, 1.1ms postprocess per image at shape (1, 3, 1088, 1920)\n",
      "\n",
      "0: 1088x1920 1 ball, 22 players, 57.5ms\n",
      "Speed: 6.9ms preprocess, 57.5ms inference, 1.1ms postprocess per image at shape (1, 3, 1088, 1920)\n"
     ]
    },
    {
     "name": "stdout",
     "output_type": "stream",
     "text": [
      "1194\n",
      "Saved: temp_task_folder/img1/001194.jpg\n",
      "1195\n",
      "Saved: temp_task_folder/img1/001195.jpg\n"
     ]
    },
    {
     "name": "stderr",
     "output_type": "stream",
     "text": [
      "\n",
      "0: 1088x1920 1 ball, 22 players, 57.1ms\n",
      "Speed: 7.3ms preprocess, 57.1ms inference, 1.1ms postprocess per image at shape (1, 3, 1088, 1920)\n",
      "\n",
      "0: 1088x1920 1 ball, 22 players, 57.5ms\n",
      "Speed: 7.2ms preprocess, 57.5ms inference, 1.1ms postprocess per image at shape (1, 3, 1088, 1920)\n"
     ]
    },
    {
     "name": "stdout",
     "output_type": "stream",
     "text": [
      "1196\n",
      "Saved: temp_task_folder/img1/001196.jpg\n",
      "1197\n",
      "Saved: temp_task_folder/img1/001197.jpg\n"
     ]
    },
    {
     "name": "stderr",
     "output_type": "stream",
     "text": [
      "\n",
      "0: 1088x1920 1 ball, 23 players, 57.5ms\n",
      "Speed: 7.2ms preprocess, 57.5ms inference, 1.1ms postprocess per image at shape (1, 3, 1088, 1920)\n",
      "\n",
      "0: 1088x1920 1 ball, 23 players, 57.3ms\n",
      "Speed: 7.2ms preprocess, 57.3ms inference, 1.1ms postprocess per image at shape (1, 3, 1088, 1920)\n"
     ]
    },
    {
     "name": "stdout",
     "output_type": "stream",
     "text": [
      "1198\n",
      "Saved: temp_task_folder/img1/001198.jpg\n",
      "1199\n",
      "Saved: temp_task_folder/img1/001199.jpg\n"
     ]
    },
    {
     "name": "stderr",
     "output_type": "stream",
     "text": [
      "\n",
      "0: 1088x1920 1 ball, 23 players, 57.3ms\n",
      "Speed: 7.0ms preprocess, 57.3ms inference, 1.1ms postprocess per image at shape (1, 3, 1088, 1920)\n",
      "\n",
      "0: 1088x1920 1 ball, 23 players, 57.4ms\n",
      "Speed: 7.2ms preprocess, 57.4ms inference, 1.1ms postprocess per image at shape (1, 3, 1088, 1920)\n"
     ]
    },
    {
     "name": "stdout",
     "output_type": "stream",
     "text": [
      "1200\n",
      "Saved: temp_task_folder/img1/001200.jpg\n",
      "1201\n",
      "Saved: temp_task_folder/img1/001201.jpg\n"
     ]
    },
    {
     "name": "stderr",
     "output_type": "stream",
     "text": [
      "\n",
      "0: 1088x1920 1 ball, 23 players, 57.5ms\n",
      "Speed: 6.8ms preprocess, 57.5ms inference, 1.1ms postprocess per image at shape (1, 3, 1088, 1920)\n",
      "\n",
      "0: 1088x1920 1 ball, 23 players, 57.5ms\n",
      "Speed: 6.8ms preprocess, 57.5ms inference, 1.1ms postprocess per image at shape (1, 3, 1088, 1920)\n"
     ]
    },
    {
     "name": "stdout",
     "output_type": "stream",
     "text": [
      "1202\n",
      "Saved: temp_task_folder/img1/001202.jpg\n",
      "1203\n",
      "Saved: temp_task_folder/img1/001203.jpg\n"
     ]
    },
    {
     "name": "stderr",
     "output_type": "stream",
     "text": [
      "\n",
      "0: 1088x1920 1 ball, 23 players, 57.5ms\n",
      "Speed: 6.9ms preprocess, 57.5ms inference, 1.1ms postprocess per image at shape (1, 3, 1088, 1920)\n",
      "\n",
      "0: 1088x1920 1 ball, 23 players, 57.3ms\n",
      "Speed: 6.9ms preprocess, 57.3ms inference, 1.1ms postprocess per image at shape (1, 3, 1088, 1920)\n"
     ]
    },
    {
     "name": "stdout",
     "output_type": "stream",
     "text": [
      "1204\n",
      "Saved: temp_task_folder/img1/001204.jpg\n",
      "1205\n",
      "Saved: temp_task_folder/img1/001205.jpg\n"
     ]
    },
    {
     "name": "stderr",
     "output_type": "stream",
     "text": [
      "\n",
      "0: 1088x1920 1 ball, 23 players, 57.3ms\n",
      "Speed: 6.9ms preprocess, 57.3ms inference, 1.1ms postprocess per image at shape (1, 3, 1088, 1920)\n",
      "\n",
      "0: 1088x1920 1 ball, 23 players, 57.3ms\n",
      "Speed: 6.8ms preprocess, 57.3ms inference, 1.1ms postprocess per image at shape (1, 3, 1088, 1920)\n"
     ]
    },
    {
     "name": "stdout",
     "output_type": "stream",
     "text": [
      "1206\n",
      "Saved: temp_task_folder/img1/001206.jpg\n",
      "1207\n",
      "Saved: temp_task_folder/img1/001207.jpg\n"
     ]
    },
    {
     "name": "stderr",
     "output_type": "stream",
     "text": [
      "\n",
      "0: 1088x1920 1 ball, 23 players, 57.4ms\n",
      "Speed: 6.8ms preprocess, 57.4ms inference, 1.1ms postprocess per image at shape (1, 3, 1088, 1920)\n",
      "\n",
      "0: 1088x1920 1 ball, 23 players, 57.5ms\n",
      "Speed: 6.8ms preprocess, 57.5ms inference, 1.1ms postprocess per image at shape (1, 3, 1088, 1920)\n"
     ]
    },
    {
     "name": "stdout",
     "output_type": "stream",
     "text": [
      "1208\n",
      "Saved: temp_task_folder/img1/001208.jpg\n",
      "1209\n",
      "Saved: temp_task_folder/img1/001209.jpg\n"
     ]
    },
    {
     "name": "stderr",
     "output_type": "stream",
     "text": [
      "\n",
      "0: 1088x1920 1 ball, 23 players, 57.6ms\n",
      "Speed: 7.2ms preprocess, 57.6ms inference, 1.1ms postprocess per image at shape (1, 3, 1088, 1920)\n",
      "\n",
      "0: 1088x1920 1 ball, 23 players, 57.3ms\n",
      "Speed: 7.2ms preprocess, 57.3ms inference, 1.1ms postprocess per image at shape (1, 3, 1088, 1920)\n"
     ]
    },
    {
     "name": "stdout",
     "output_type": "stream",
     "text": [
      "1210\n",
      "Saved: temp_task_folder/img1/001210.jpg\n",
      "1211\n",
      "Saved: temp_task_folder/img1/001211.jpg\n"
     ]
    },
    {
     "name": "stderr",
     "output_type": "stream",
     "text": [
      "\n",
      "0: 1088x1920 1 ball, 23 players, 57.5ms\n",
      "Speed: 6.9ms preprocess, 57.5ms inference, 1.1ms postprocess per image at shape (1, 3, 1088, 1920)\n",
      "\n",
      "0: 1088x1920 1 ball, 23 players, 57.3ms\n",
      "Speed: 7.8ms preprocess, 57.3ms inference, 1.2ms postprocess per image at shape (1, 3, 1088, 1920)\n"
     ]
    },
    {
     "name": "stdout",
     "output_type": "stream",
     "text": [
      "1212\n",
      "Saved: temp_task_folder/img1/001212.jpg\n",
      "1213\n",
      "Saved: temp_task_folder/img1/001213.jpg\n"
     ]
    },
    {
     "name": "stderr",
     "output_type": "stream",
     "text": [
      "\n",
      "0: 1088x1920 1 ball, 23 players, 57.4ms\n",
      "Speed: 6.8ms preprocess, 57.4ms inference, 1.1ms postprocess per image at shape (1, 3, 1088, 1920)\n",
      "\n",
      "0: 1088x1920 1 ball, 23 players, 57.3ms\n",
      "Speed: 6.8ms preprocess, 57.3ms inference, 1.1ms postprocess per image at shape (1, 3, 1088, 1920)\n"
     ]
    },
    {
     "name": "stdout",
     "output_type": "stream",
     "text": [
      "1214\n",
      "Saved: temp_task_folder/img1/001214.jpg\n",
      "1215\n",
      "Saved: temp_task_folder/img1/001215.jpg\n"
     ]
    },
    {
     "name": "stderr",
     "output_type": "stream",
     "text": [
      "\n",
      "0: 1088x1920 1 ball, 23 players, 57.2ms\n",
      "Speed: 6.8ms preprocess, 57.2ms inference, 1.1ms postprocess per image at shape (1, 3, 1088, 1920)\n",
      "\n",
      "0: 1088x1920 1 ball, 24 players, 57.3ms\n",
      "Speed: 6.8ms preprocess, 57.3ms inference, 1.1ms postprocess per image at shape (1, 3, 1088, 1920)\n"
     ]
    },
    {
     "name": "stdout",
     "output_type": "stream",
     "text": [
      "1216\n",
      "Saved: temp_task_folder/img1/001216.jpg\n",
      "1217\n",
      "Saved: temp_task_folder/img1/001217.jpg\n"
     ]
    },
    {
     "name": "stderr",
     "output_type": "stream",
     "text": [
      "\n",
      "0: 1088x1920 1 ball, 23 players, 57.4ms\n",
      "Speed: 6.8ms preprocess, 57.4ms inference, 1.1ms postprocess per image at shape (1, 3, 1088, 1920)\n",
      "\n",
      "0: 1088x1920 1 ball, 23 players, 57.3ms\n",
      "Speed: 6.8ms preprocess, 57.3ms inference, 1.1ms postprocess per image at shape (1, 3, 1088, 1920)\n"
     ]
    },
    {
     "name": "stdout",
     "output_type": "stream",
     "text": [
      "1218\n",
      "Saved: temp_task_folder/img1/001218.jpg\n",
      "1219\n",
      "Saved: temp_task_folder/img1/001219.jpg\n"
     ]
    },
    {
     "name": "stderr",
     "output_type": "stream",
     "text": [
      "\n",
      "0: 1088x1920 1 ball, 23 players, 57.2ms\n",
      "Speed: 6.9ms preprocess, 57.2ms inference, 1.1ms postprocess per image at shape (1, 3, 1088, 1920)\n",
      "\n",
      "0: 1088x1920 1 ball, 23 players, 57.5ms\n",
      "Speed: 6.9ms preprocess, 57.5ms inference, 1.1ms postprocess per image at shape (1, 3, 1088, 1920)\n"
     ]
    },
    {
     "name": "stdout",
     "output_type": "stream",
     "text": [
      "1220\n",
      "Saved: temp_task_folder/img1/001220.jpg\n",
      "1221\n",
      "Saved: temp_task_folder/img1/001221.jpg\n"
     ]
    },
    {
     "name": "stderr",
     "output_type": "stream",
     "text": [
      "\n",
      "0: 1088x1920 1 ball, 23 players, 57.4ms\n",
      "Speed: 6.9ms preprocess, 57.4ms inference, 1.1ms postprocess per image at shape (1, 3, 1088, 1920)\n",
      "\n",
      "0: 1088x1920 1 ball, 24 players, 57.5ms\n",
      "Speed: 6.8ms preprocess, 57.5ms inference, 1.1ms postprocess per image at shape (1, 3, 1088, 1920)\n"
     ]
    },
    {
     "name": "stdout",
     "output_type": "stream",
     "text": [
      "1222\n",
      "Saved: temp_task_folder/img1/001222.jpg\n",
      "1223\n",
      "Saved: temp_task_folder/img1/001223.jpg\n"
     ]
    },
    {
     "name": "stderr",
     "output_type": "stream",
     "text": [
      "\n",
      "0: 1088x1920 1 ball, 23 players, 57.4ms\n",
      "Speed: 6.8ms preprocess, 57.4ms inference, 1.1ms postprocess per image at shape (1, 3, 1088, 1920)\n",
      "\n",
      "0: 1088x1920 1 ball, 24 players, 57.5ms\n",
      "Speed: 6.9ms preprocess, 57.5ms inference, 1.1ms postprocess per image at shape (1, 3, 1088, 1920)\n"
     ]
    },
    {
     "name": "stdout",
     "output_type": "stream",
     "text": [
      "1224\n",
      "Saved: temp_task_folder/img1/001224.jpg\n",
      "1225\n",
      "Saved: temp_task_folder/img1/001225.jpg\n"
     ]
    },
    {
     "name": "stderr",
     "output_type": "stream",
     "text": [
      "\n",
      "0: 1088x1920 24 players, 57.3ms\n",
      "Speed: 6.8ms preprocess, 57.3ms inference, 1.1ms postprocess per image at shape (1, 3, 1088, 1920)\n",
      "\n",
      "0: 1088x1920 1 ball, 23 players, 57.4ms\n",
      "Speed: 6.8ms preprocess, 57.4ms inference, 1.1ms postprocess per image at shape (1, 3, 1088, 1920)\n"
     ]
    },
    {
     "name": "stdout",
     "output_type": "stream",
     "text": [
      "1226\n",
      "Saved: temp_task_folder/img1/001226.jpg\n",
      "1227\n",
      "Saved: temp_task_folder/img1/001227.jpg\n"
     ]
    },
    {
     "name": "stderr",
     "output_type": "stream",
     "text": [
      "\n",
      "0: 1088x1920 1 ball, 25 players, 57.4ms\n",
      "Speed: 6.8ms preprocess, 57.4ms inference, 1.1ms postprocess per image at shape (1, 3, 1088, 1920)\n",
      "\n",
      "0: 1088x1920 1 ball, 23 players, 57.3ms\n",
      "Speed: 7.3ms preprocess, 57.3ms inference, 1.1ms postprocess per image at shape (1, 3, 1088, 1920)\n"
     ]
    },
    {
     "name": "stdout",
     "output_type": "stream",
     "text": [
      "1228\n",
      "Saved: temp_task_folder/img1/001228.jpg\n",
      "1229\n",
      "Saved: temp_task_folder/img1/001229.jpg\n"
     ]
    },
    {
     "name": "stderr",
     "output_type": "stream",
     "text": [
      "\n",
      "0: 1088x1920 1 ball, 23 players, 57.4ms\n",
      "Speed: 6.8ms preprocess, 57.4ms inference, 1.1ms postprocess per image at shape (1, 3, 1088, 1920)\n",
      "\n",
      "0: 1088x1920 1 ball, 23 players, 57.5ms\n",
      "Speed: 6.9ms preprocess, 57.5ms inference, 1.1ms postprocess per image at shape (1, 3, 1088, 1920)\n"
     ]
    },
    {
     "name": "stdout",
     "output_type": "stream",
     "text": [
      "1230\n",
      "Saved: temp_task_folder/img1/001230.jpg\n",
      "1231\n",
      "Saved: temp_task_folder/img1/001231.jpg\n"
     ]
    },
    {
     "name": "stderr",
     "output_type": "stream",
     "text": [
      "\n",
      "0: 1088x1920 1 ball, 23 players, 57.3ms\n",
      "Speed: 6.8ms preprocess, 57.3ms inference, 1.1ms postprocess per image at shape (1, 3, 1088, 1920)\n",
      "\n",
      "0: 1088x1920 1 ball, 24 players, 57.2ms\n",
      "Speed: 6.9ms preprocess, 57.2ms inference, 1.1ms postprocess per image at shape (1, 3, 1088, 1920)\n"
     ]
    },
    {
     "name": "stdout",
     "output_type": "stream",
     "text": [
      "1232\n",
      "Saved: temp_task_folder/img1/001232.jpg\n",
      "1233\n",
      "Saved: temp_task_folder/img1/001233.jpg\n"
     ]
    },
    {
     "name": "stderr",
     "output_type": "stream",
     "text": [
      "\n",
      "0: 1088x1920 1 ball, 24 players, 57.4ms\n",
      "Speed: 6.8ms preprocess, 57.4ms inference, 1.1ms postprocess per image at shape (1, 3, 1088, 1920)\n",
      "\n",
      "0: 1088x1920 1 ball, 23 players, 57.2ms\n",
      "Speed: 6.8ms preprocess, 57.2ms inference, 1.1ms postprocess per image at shape (1, 3, 1088, 1920)\n"
     ]
    },
    {
     "name": "stdout",
     "output_type": "stream",
     "text": [
      "1234\n",
      "Saved: temp_task_folder/img1/001234.jpg\n",
      "1235\n",
      "Saved: temp_task_folder/img1/001235.jpg\n"
     ]
    },
    {
     "name": "stderr",
     "output_type": "stream",
     "text": [
      "\n",
      "0: 1088x1920 1 ball, 23 players, 57.4ms\n",
      "Speed: 6.8ms preprocess, 57.4ms inference, 1.1ms postprocess per image at shape (1, 3, 1088, 1920)\n",
      "\n",
      "0: 1088x1920 1 ball, 23 players, 57.5ms\n",
      "Speed: 6.9ms preprocess, 57.5ms inference, 1.1ms postprocess per image at shape (1, 3, 1088, 1920)\n"
     ]
    },
    {
     "name": "stdout",
     "output_type": "stream",
     "text": [
      "1236\n",
      "Saved: temp_task_folder/img1/001236.jpg\n",
      "1237\n",
      "Saved: temp_task_folder/img1/001237.jpg\n"
     ]
    },
    {
     "name": "stderr",
     "output_type": "stream",
     "text": [
      "\n",
      "0: 1088x1920 1 ball, 23 players, 57.3ms\n",
      "Speed: 6.8ms preprocess, 57.3ms inference, 1.1ms postprocess per image at shape (1, 3, 1088, 1920)\n",
      "\n",
      "0: 1088x1920 1 ball, 23 players, 57.5ms\n",
      "Speed: 6.8ms preprocess, 57.5ms inference, 1.1ms postprocess per image at shape (1, 3, 1088, 1920)\n"
     ]
    },
    {
     "name": "stdout",
     "output_type": "stream",
     "text": [
      "1238\n",
      "Saved: temp_task_folder/img1/001238.jpg\n",
      "1239\n",
      "Saved: temp_task_folder/img1/001239.jpg\n"
     ]
    },
    {
     "name": "stderr",
     "output_type": "stream",
     "text": [
      "\n",
      "0: 1088x1920 1 ball, 23 players, 57.3ms\n",
      "Speed: 6.9ms preprocess, 57.3ms inference, 1.1ms postprocess per image at shape (1, 3, 1088, 1920)\n",
      "\n",
      "0: 1088x1920 1 ball, 23 players, 57.5ms\n",
      "Speed: 6.8ms preprocess, 57.5ms inference, 1.1ms postprocess per image at shape (1, 3, 1088, 1920)\n"
     ]
    },
    {
     "name": "stdout",
     "output_type": "stream",
     "text": [
      "1240\n",
      "Saved: temp_task_folder/img1/001240.jpg\n",
      "1241\n",
      "Saved: temp_task_folder/img1/001241.jpg\n"
     ]
    },
    {
     "name": "stderr",
     "output_type": "stream",
     "text": [
      "\n",
      "0: 1088x1920 1 ball, 23 players, 57.4ms\n",
      "Speed: 6.8ms preprocess, 57.4ms inference, 1.1ms postprocess per image at shape (1, 3, 1088, 1920)\n",
      "\n",
      "0: 1088x1920 1 ball, 23 players, 57.2ms\n",
      "Speed: 6.9ms preprocess, 57.2ms inference, 1.1ms postprocess per image at shape (1, 3, 1088, 1920)\n"
     ]
    },
    {
     "name": "stdout",
     "output_type": "stream",
     "text": [
      "1242\n",
      "Saved: temp_task_folder/img1/001242.jpg\n",
      "1243\n",
      "Saved: temp_task_folder/img1/001243.jpg\n"
     ]
    },
    {
     "name": "stderr",
     "output_type": "stream",
     "text": [
      "\n",
      "0: 1088x1920 1 ball, 23 players, 57.3ms\n",
      "Speed: 6.8ms preprocess, 57.3ms inference, 1.1ms postprocess per image at shape (1, 3, 1088, 1920)\n",
      "\n",
      "0: 1088x1920 1 ball, 23 players, 57.8ms\n",
      "Speed: 6.9ms preprocess, 57.8ms inference, 1.1ms postprocess per image at shape (1, 3, 1088, 1920)\n"
     ]
    },
    {
     "name": "stdout",
     "output_type": "stream",
     "text": [
      "1244\n",
      "Saved: temp_task_folder/img1/001244.jpg\n",
      "1245\n",
      "Saved: temp_task_folder/img1/001245.jpg\n"
     ]
    },
    {
     "name": "stderr",
     "output_type": "stream",
     "text": [
      "\n",
      "0: 1088x1920 1 ball, 23 players, 57.3ms\n",
      "Speed: 6.9ms preprocess, 57.3ms inference, 1.2ms postprocess per image at shape (1, 3, 1088, 1920)\n",
      "\n",
      "0: 1088x1920 1 ball, 23 players, 57.5ms\n",
      "Speed: 6.8ms preprocess, 57.5ms inference, 1.1ms postprocess per image at shape (1, 3, 1088, 1920)\n"
     ]
    },
    {
     "name": "stdout",
     "output_type": "stream",
     "text": [
      "1246\n",
      "Saved: temp_task_folder/img1/001246.jpg\n",
      "1247\n",
      "Saved: temp_task_folder/img1/001247.jpg\n"
     ]
    },
    {
     "name": "stderr",
     "output_type": "stream",
     "text": [
      "\n",
      "0: 1088x1920 1 ball, 23 players, 75.6ms\n",
      "Speed: 6.8ms preprocess, 75.6ms inference, 1.2ms postprocess per image at shape (1, 3, 1088, 1920)\n",
      "\n",
      "0: 1088x1920 1 ball, 23 players, 57.2ms\n",
      "Speed: 6.9ms preprocess, 57.2ms inference, 1.1ms postprocess per image at shape (1, 3, 1088, 1920)\n"
     ]
    },
    {
     "name": "stdout",
     "output_type": "stream",
     "text": [
      "1248\n",
      "Saved: temp_task_folder/img1/001248.jpg\n",
      "1249\n",
      "Saved: temp_task_folder/img1/001249.jpg\n"
     ]
    },
    {
     "name": "stderr",
     "output_type": "stream",
     "text": [
      "\n",
      "0: 1088x1920 1 ball, 23 players, 57.4ms\n",
      "Speed: 7.2ms preprocess, 57.4ms inference, 1.1ms postprocess per image at shape (1, 3, 1088, 1920)\n",
      "\n",
      "0: 1088x1920 1 ball, 24 players, 57.4ms\n",
      "Speed: 6.9ms preprocess, 57.4ms inference, 1.1ms postprocess per image at shape (1, 3, 1088, 1920)\n"
     ]
    },
    {
     "name": "stdout",
     "output_type": "stream",
     "text": [
      "1250\n",
      "Saved: temp_task_folder/img1/001250.jpg\n",
      "1251\n",
      "Saved: temp_task_folder/img1/001251.jpg\n"
     ]
    },
    {
     "name": "stderr",
     "output_type": "stream",
     "text": [
      "\n",
      "0: 1088x1920 1 ball, 23 players, 57.4ms\n",
      "Speed: 6.9ms preprocess, 57.4ms inference, 1.1ms postprocess per image at shape (1, 3, 1088, 1920)\n",
      "\n",
      "0: 1088x1920 1 ball, 23 players, 57.3ms\n",
      "Speed: 6.8ms preprocess, 57.3ms inference, 1.1ms postprocess per image at shape (1, 3, 1088, 1920)\n"
     ]
    },
    {
     "name": "stdout",
     "output_type": "stream",
     "text": [
      "1252\n",
      "Saved: temp_task_folder/img1/001252.jpg\n",
      "1253\n",
      "Saved: temp_task_folder/img1/001253.jpg\n"
     ]
    },
    {
     "name": "stderr",
     "output_type": "stream",
     "text": [
      "\n",
      "0: 1088x1920 1 ball, 23 players, 57.5ms\n",
      "Speed: 7.2ms preprocess, 57.5ms inference, 1.1ms postprocess per image at shape (1, 3, 1088, 1920)\n",
      "\n",
      "0: 1088x1920 1 ball, 23 players, 57.3ms\n",
      "Speed: 7.2ms preprocess, 57.3ms inference, 1.1ms postprocess per image at shape (1, 3, 1088, 1920)\n"
     ]
    },
    {
     "name": "stdout",
     "output_type": "stream",
     "text": [
      "1254\n",
      "Saved: temp_task_folder/img1/001254.jpg\n",
      "1255\n",
      "Saved: temp_task_folder/img1/001255.jpg\n"
     ]
    },
    {
     "name": "stderr",
     "output_type": "stream",
     "text": [
      "\n",
      "0: 1088x1920 23 players, 57.2ms\n",
      "Speed: 6.9ms preprocess, 57.2ms inference, 1.1ms postprocess per image at shape (1, 3, 1088, 1920)\n",
      "\n",
      "0: 1088x1920 23 players, 57.3ms\n",
      "Speed: 7.2ms preprocess, 57.3ms inference, 1.1ms postprocess per image at shape (1, 3, 1088, 1920)\n"
     ]
    },
    {
     "name": "stdout",
     "output_type": "stream",
     "text": [
      "1256\n",
      "Saved: temp_task_folder/img1/001256.jpg\n",
      "1257\n",
      "Saved: temp_task_folder/img1/001257.jpg\n"
     ]
    },
    {
     "name": "stderr",
     "output_type": "stream",
     "text": [
      "\n",
      "0: 1088x1920 23 players, 57.2ms\n",
      "Speed: 6.9ms preprocess, 57.2ms inference, 1.1ms postprocess per image at shape (1, 3, 1088, 1920)\n",
      "\n",
      "0: 1088x1920 1 ball, 24 players, 57.5ms\n",
      "Speed: 7.0ms preprocess, 57.5ms inference, 1.1ms postprocess per image at shape (1, 3, 1088, 1920)\n"
     ]
    },
    {
     "name": "stdout",
     "output_type": "stream",
     "text": [
      "1258\n",
      "Saved: temp_task_folder/img1/001258.jpg\n",
      "1259\n",
      "Saved: temp_task_folder/img1/001259.jpg\n"
     ]
    },
    {
     "name": "stderr",
     "output_type": "stream",
     "text": [
      "\n",
      "0: 1088x1920 1 ball, 24 players, 57.4ms\n",
      "Speed: 6.9ms preprocess, 57.4ms inference, 1.1ms postprocess per image at shape (1, 3, 1088, 1920)\n",
      "\n",
      "0: 1088x1920 1 ball, 24 players, 57.3ms\n",
      "Speed: 7.2ms preprocess, 57.3ms inference, 1.1ms postprocess per image at shape (1, 3, 1088, 1920)\n"
     ]
    },
    {
     "name": "stdout",
     "output_type": "stream",
     "text": [
      "1260\n",
      "Saved: temp_task_folder/img1/001260.jpg\n",
      "1261\n",
      "Saved: temp_task_folder/img1/001261.jpg\n"
     ]
    },
    {
     "name": "stderr",
     "output_type": "stream",
     "text": [
      "\n",
      "0: 1088x1920 1 ball, 23 players, 57.4ms\n",
      "Speed: 7.2ms preprocess, 57.4ms inference, 1.1ms postprocess per image at shape (1, 3, 1088, 1920)\n",
      "\n",
      "0: 1088x1920 1 ball, 23 players, 57.3ms\n",
      "Speed: 6.9ms preprocess, 57.3ms inference, 1.1ms postprocess per image at shape (1, 3, 1088, 1920)\n"
     ]
    },
    {
     "name": "stdout",
     "output_type": "stream",
     "text": [
      "1262\n",
      "Saved: temp_task_folder/img1/001262.jpg\n",
      "1263\n"
     ]
    },
    {
     "name": "stderr",
     "output_type": "stream",
     "text": [
      "\n",
      "0: 1088x1920 1 ball, 24 players, 57.2ms\n",
      "Speed: 6.8ms preprocess, 57.2ms inference, 1.1ms postprocess per image at shape (1, 3, 1088, 1920)\n"
     ]
    },
    {
     "name": "stdout",
     "output_type": "stream",
     "text": [
      "Saved: temp_task_folder/img1/001263.jpg\n",
      "1264\n",
      "Saved: temp_task_folder/img1/001264.jpg\n"
     ]
    },
    {
     "name": "stderr",
     "output_type": "stream",
     "text": [
      "\n",
      "0: 1088x1920 1 ball, 23 players, 57.4ms\n",
      "Speed: 6.8ms preprocess, 57.4ms inference, 1.1ms postprocess per image at shape (1, 3, 1088, 1920)\n",
      "\n",
      "0: 1088x1920 1 ball, 23 players, 57.5ms\n",
      "Speed: 6.9ms preprocess, 57.5ms inference, 1.1ms postprocess per image at shape (1, 3, 1088, 1920)\n"
     ]
    },
    {
     "name": "stdout",
     "output_type": "stream",
     "text": [
      "1265\n",
      "Saved: temp_task_folder/img1/001265.jpg\n",
      "1266\n",
      "Saved: temp_task_folder/img1/001266.jpg\n"
     ]
    },
    {
     "name": "stderr",
     "output_type": "stream",
     "text": [
      "\n",
      "0: 1088x1920 1 ball, 23 players, 57.5ms\n",
      "Speed: 6.9ms preprocess, 57.5ms inference, 1.1ms postprocess per image at shape (1, 3, 1088, 1920)\n",
      "\n",
      "0: 1088x1920 1 ball, 23 players, 57.3ms\n",
      "Speed: 6.9ms preprocess, 57.3ms inference, 1.1ms postprocess per image at shape (1, 3, 1088, 1920)\n"
     ]
    },
    {
     "name": "stdout",
     "output_type": "stream",
     "text": [
      "1267\n",
      "Saved: temp_task_folder/img1/001267.jpg\n",
      "1268\n",
      "Saved: temp_task_folder/img1/001268.jpg\n"
     ]
    },
    {
     "name": "stderr",
     "output_type": "stream",
     "text": [
      "\n",
      "0: 1088x1920 1 ball, 23 players, 57.5ms\n",
      "Speed: 6.9ms preprocess, 57.5ms inference, 1.2ms postprocess per image at shape (1, 3, 1088, 1920)\n",
      "\n",
      "0: 1088x1920 1 ball, 23 players, 57.2ms\n",
      "Speed: 6.9ms preprocess, 57.2ms inference, 1.1ms postprocess per image at shape (1, 3, 1088, 1920)\n"
     ]
    },
    {
     "name": "stdout",
     "output_type": "stream",
     "text": [
      "1269\n",
      "Saved: temp_task_folder/img1/001269.jpg\n",
      "1270\n",
      "Saved: temp_task_folder/img1/001270.jpg\n"
     ]
    },
    {
     "name": "stderr",
     "output_type": "stream",
     "text": [
      "\n",
      "0: 1088x1920 1 ball, 23 players, 57.4ms\n",
      "Speed: 6.9ms preprocess, 57.4ms inference, 1.1ms postprocess per image at shape (1, 3, 1088, 1920)\n",
      "\n",
      "0: 1088x1920 24 players, 57.3ms\n",
      "Speed: 6.9ms preprocess, 57.3ms inference, 1.2ms postprocess per image at shape (1, 3, 1088, 1920)\n"
     ]
    },
    {
     "name": "stdout",
     "output_type": "stream",
     "text": [
      "1271\n",
      "Saved: temp_task_folder/img1/001271.jpg\n",
      "1272\n",
      "Saved: temp_task_folder/img1/001272.jpg\n"
     ]
    },
    {
     "name": "stderr",
     "output_type": "stream",
     "text": [
      "\n",
      "0: 1088x1920 23 players, 57.3ms\n",
      "Speed: 6.8ms preprocess, 57.3ms inference, 1.1ms postprocess per image at shape (1, 3, 1088, 1920)\n",
      "\n",
      "0: 1088x1920 23 players, 57.5ms\n",
      "Speed: 6.8ms preprocess, 57.5ms inference, 1.1ms postprocess per image at shape (1, 3, 1088, 1920)\n"
     ]
    },
    {
     "name": "stdout",
     "output_type": "stream",
     "text": [
      "1273\n",
      "Saved: temp_task_folder/img1/001273.jpg\n",
      "1274\n",
      "Saved: temp_task_folder/img1/001274.jpg\n"
     ]
    },
    {
     "name": "stderr",
     "output_type": "stream",
     "text": [
      "\n",
      "0: 1088x1920 1 ball, 23 players, 57.2ms\n",
      "Speed: 6.8ms preprocess, 57.2ms inference, 1.1ms postprocess per image at shape (1, 3, 1088, 1920)\n",
      "\n",
      "0: 1088x1920 1 ball, 23 players, 57.4ms\n",
      "Speed: 6.8ms preprocess, 57.4ms inference, 1.1ms postprocess per image at shape (1, 3, 1088, 1920)\n"
     ]
    },
    {
     "name": "stdout",
     "output_type": "stream",
     "text": [
      "1275\n",
      "Saved: temp_task_folder/img1/001275.jpg\n",
      "1276\n",
      "Saved: temp_task_folder/img1/001276.jpg\n"
     ]
    },
    {
     "name": "stderr",
     "output_type": "stream",
     "text": [
      "\n",
      "0: 1088x1920 1 ball, 23 players, 57.4ms\n",
      "Speed: 6.9ms preprocess, 57.4ms inference, 1.1ms postprocess per image at shape (1, 3, 1088, 1920)\n",
      "\n",
      "0: 1088x1920 1 ball, 23 players, 57.3ms\n",
      "Speed: 6.8ms preprocess, 57.3ms inference, 1.1ms postprocess per image at shape (1, 3, 1088, 1920)\n"
     ]
    },
    {
     "name": "stdout",
     "output_type": "stream",
     "text": [
      "1277\n",
      "Saved: temp_task_folder/img1/001277.jpg\n",
      "1278\n",
      "Saved: temp_task_folder/img1/001278.jpg\n"
     ]
    },
    {
     "name": "stderr",
     "output_type": "stream",
     "text": [
      "\n",
      "0: 1088x1920 1 ball, 23 players, 57.5ms\n",
      "Speed: 6.8ms preprocess, 57.5ms inference, 1.1ms postprocess per image at shape (1, 3, 1088, 1920)\n",
      "\n",
      "0: 1088x1920 1 ball, 23 players, 57.4ms\n",
      "Speed: 6.9ms preprocess, 57.4ms inference, 1.1ms postprocess per image at shape (1, 3, 1088, 1920)\n"
     ]
    },
    {
     "name": "stdout",
     "output_type": "stream",
     "text": [
      "1279\n",
      "Saved: temp_task_folder/img1/001279.jpg\n",
      "1280\n",
      "Saved: temp_task_folder/img1/001280.jpg\n"
     ]
    },
    {
     "name": "stderr",
     "output_type": "stream",
     "text": [
      "\n",
      "0: 1088x1920 1 ball, 23 players, 57.5ms\n",
      "Speed: 6.8ms preprocess, 57.5ms inference, 1.2ms postprocess per image at shape (1, 3, 1088, 1920)\n",
      "\n",
      "0: 1088x1920 1 ball, 23 players, 57.5ms\n",
      "Speed: 6.8ms preprocess, 57.5ms inference, 1.1ms postprocess per image at shape (1, 3, 1088, 1920)\n"
     ]
    },
    {
     "name": "stdout",
     "output_type": "stream",
     "text": [
      "1281\n",
      "Saved: temp_task_folder/img1/001281.jpg\n",
      "1282\n",
      "Saved: temp_task_folder/img1/001282.jpg\n"
     ]
    },
    {
     "name": "stderr",
     "output_type": "stream",
     "text": [
      "\n",
      "0: 1088x1920 1 ball, 23 players, 57.5ms\n",
      "Speed: 7.3ms preprocess, 57.5ms inference, 1.1ms postprocess per image at shape (1, 3, 1088, 1920)\n",
      "\n",
      "0: 1088x1920 1 ball, 23 players, 57.3ms\n",
      "Speed: 6.8ms preprocess, 57.3ms inference, 1.1ms postprocess per image at shape (1, 3, 1088, 1920)\n"
     ]
    },
    {
     "name": "stdout",
     "output_type": "stream",
     "text": [
      "1283\n",
      "Saved: temp_task_folder/img1/001283.jpg\n",
      "1284\n",
      "Saved: temp_task_folder/img1/001284.jpg\n"
     ]
    },
    {
     "name": "stderr",
     "output_type": "stream",
     "text": [
      "\n",
      "0: 1088x1920 1 ball, 23 players, 57.5ms\n",
      "Speed: 6.8ms preprocess, 57.5ms inference, 1.1ms postprocess per image at shape (1, 3, 1088, 1920)\n",
      "\n",
      "0: 1088x1920 1 ball, 23 players, 57.5ms\n",
      "Speed: 6.8ms preprocess, 57.5ms inference, 1.1ms postprocess per image at shape (1, 3, 1088, 1920)\n"
     ]
    },
    {
     "name": "stdout",
     "output_type": "stream",
     "text": [
      "1285\n",
      "Saved: temp_task_folder/img1/001285.jpg\n",
      "1286\n",
      "Saved: temp_task_folder/img1/001286.jpg\n"
     ]
    },
    {
     "name": "stderr",
     "output_type": "stream",
     "text": [
      "\n",
      "0: 1088x1920 1 ball, 23 players, 57.3ms\n",
      "Speed: 6.8ms preprocess, 57.3ms inference, 1.1ms postprocess per image at shape (1, 3, 1088, 1920)\n",
      "\n",
      "0: 1088x1920 1 ball, 23 players, 57.4ms\n",
      "Speed: 6.8ms preprocess, 57.4ms inference, 1.1ms postprocess per image at shape (1, 3, 1088, 1920)\n"
     ]
    },
    {
     "name": "stdout",
     "output_type": "stream",
     "text": [
      "1287\n",
      "Saved: temp_task_folder/img1/001287.jpg\n",
      "1288\n",
      "Saved: temp_task_folder/img1/001288.jpg\n"
     ]
    },
    {
     "name": "stderr",
     "output_type": "stream",
     "text": [
      "\n",
      "0: 1088x1920 1 ball, 23 players, 57.5ms\n",
      "Speed: 6.9ms preprocess, 57.5ms inference, 1.1ms postprocess per image at shape (1, 3, 1088, 1920)\n",
      "\n",
      "0: 1088x1920 1 ball, 23 players, 57.5ms\n",
      "Speed: 6.9ms preprocess, 57.5ms inference, 1.1ms postprocess per image at shape (1, 3, 1088, 1920)\n"
     ]
    },
    {
     "name": "stdout",
     "output_type": "stream",
     "text": [
      "1289\n",
      "Saved: temp_task_folder/img1/001289.jpg\n",
      "1290\n",
      "Saved: temp_task_folder/img1/001290.jpg\n"
     ]
    },
    {
     "name": "stderr",
     "output_type": "stream",
     "text": [
      "\n",
      "0: 1088x1920 1 ball, 23 players, 57.5ms\n",
      "Speed: 6.9ms preprocess, 57.5ms inference, 1.1ms postprocess per image at shape (1, 3, 1088, 1920)\n",
      "\n",
      "0: 1088x1920 1 ball, 23 players, 57.5ms\n",
      "Speed: 6.9ms preprocess, 57.5ms inference, 1.1ms postprocess per image at shape (1, 3, 1088, 1920)\n"
     ]
    },
    {
     "name": "stdout",
     "output_type": "stream",
     "text": [
      "1291\n",
      "Saved: temp_task_folder/img1/001291.jpg\n",
      "1292\n",
      "Saved: temp_task_folder/img1/001292.jpg\n"
     ]
    },
    {
     "name": "stderr",
     "output_type": "stream",
     "text": [
      "\n",
      "0: 1088x1920 1 ball, 23 players, 57.3ms\n",
      "Speed: 6.8ms preprocess, 57.3ms inference, 1.1ms postprocess per image at shape (1, 3, 1088, 1920)\n",
      "\n",
      "0: 1088x1920 23 players, 57.4ms\n",
      "Speed: 6.8ms preprocess, 57.4ms inference, 1.1ms postprocess per image at shape (1, 3, 1088, 1920)\n"
     ]
    },
    {
     "name": "stdout",
     "output_type": "stream",
     "text": [
      "1293\n",
      "Saved: temp_task_folder/img1/001293.jpg\n",
      "1294\n",
      "Saved: temp_task_folder/img1/001294.jpg\n"
     ]
    },
    {
     "name": "stderr",
     "output_type": "stream",
     "text": [
      "\n",
      "0: 1088x1920 23 players, 57.3ms\n",
      "Speed: 6.8ms preprocess, 57.3ms inference, 1.2ms postprocess per image at shape (1, 3, 1088, 1920)\n",
      "\n",
      "0: 1088x1920 23 players, 57.5ms\n",
      "Speed: 6.9ms preprocess, 57.5ms inference, 1.1ms postprocess per image at shape (1, 3, 1088, 1920)\n"
     ]
    },
    {
     "name": "stdout",
     "output_type": "stream",
     "text": [
      "1295\n",
      "Saved: temp_task_folder/img1/001295.jpg\n",
      "1296\n",
      "Saved: temp_task_folder/img1/001296.jpg\n"
     ]
    },
    {
     "name": "stderr",
     "output_type": "stream",
     "text": [
      "\n",
      "0: 1088x1920 23 players, 57.4ms\n",
      "Speed: 6.9ms preprocess, 57.4ms inference, 1.1ms postprocess per image at shape (1, 3, 1088, 1920)\n",
      "\n",
      "0: 1088x1920 23 players, 57.5ms\n",
      "Speed: 6.8ms preprocess, 57.5ms inference, 1.1ms postprocess per image at shape (1, 3, 1088, 1920)\n"
     ]
    },
    {
     "name": "stdout",
     "output_type": "stream",
     "text": [
      "1297\n",
      "Saved: temp_task_folder/img1/001297.jpg\n",
      "1298\n",
      "Saved: temp_task_folder/img1/001298.jpg\n"
     ]
    },
    {
     "name": "stderr",
     "output_type": "stream",
     "text": [
      "\n",
      "0: 1088x1920 23 players, 57.5ms\n",
      "Speed: 6.8ms preprocess, 57.5ms inference, 1.1ms postprocess per image at shape (1, 3, 1088, 1920)\n",
      "\n",
      "0: 1088x1920 23 players, 57.4ms\n",
      "Speed: 6.8ms preprocess, 57.4ms inference, 1.1ms postprocess per image at shape (1, 3, 1088, 1920)\n"
     ]
    },
    {
     "name": "stdout",
     "output_type": "stream",
     "text": [
      "1299\n",
      "Saved: temp_task_folder/img1/001299.jpg\n",
      "1300\n",
      "Saved: temp_task_folder/img1/001300.jpg\n"
     ]
    },
    {
     "name": "stderr",
     "output_type": "stream",
     "text": [
      "\n",
      "0: 1088x1920 23 players, 57.2ms\n",
      "Speed: 6.9ms preprocess, 57.2ms inference, 1.1ms postprocess per image at shape (1, 3, 1088, 1920)\n",
      "\n",
      "0: 1088x1920 23 players, 57.2ms\n",
      "Speed: 6.9ms preprocess, 57.2ms inference, 1.1ms postprocess per image at shape (1, 3, 1088, 1920)\n"
     ]
    },
    {
     "name": "stdout",
     "output_type": "stream",
     "text": [
      "1301\n",
      "Saved: temp_task_folder/img1/001301.jpg\n",
      "1302\n",
      "Saved: temp_task_folder/img1/001302.jpg\n"
     ]
    },
    {
     "name": "stderr",
     "output_type": "stream",
     "text": [
      "\n",
      "0: 1088x1920 1 ball, 23 players, 57.6ms\n",
      "Speed: 6.9ms preprocess, 57.6ms inference, 1.1ms postprocess per image at shape (1, 3, 1088, 1920)\n",
      "\n",
      "0: 1088x1920 1 ball, 23 players, 57.3ms\n",
      "Speed: 6.8ms preprocess, 57.3ms inference, 1.1ms postprocess per image at shape (1, 3, 1088, 1920)\n"
     ]
    },
    {
     "name": "stdout",
     "output_type": "stream",
     "text": [
      "1303\n",
      "Saved: temp_task_folder/img1/001303.jpg\n",
      "1304\n",
      "Saved: temp_task_folder/img1/001304.jpg\n"
     ]
    },
    {
     "name": "stderr",
     "output_type": "stream",
     "text": [
      "\n",
      "0: 1088x1920 23 players, 57.5ms\n",
      "Speed: 6.8ms preprocess, 57.5ms inference, 1.1ms postprocess per image at shape (1, 3, 1088, 1920)\n",
      "\n",
      "0: 1088x1920 23 players, 57.5ms\n",
      "Speed: 6.8ms preprocess, 57.5ms inference, 1.1ms postprocess per image at shape (1, 3, 1088, 1920)\n"
     ]
    },
    {
     "name": "stdout",
     "output_type": "stream",
     "text": [
      "1305\n",
      "Saved: temp_task_folder/img1/001305.jpg\n",
      "1306\n",
      "Saved: temp_task_folder/img1/001306.jpg\n"
     ]
    },
    {
     "name": "stderr",
     "output_type": "stream",
     "text": [
      "\n",
      "0: 1088x1920 23 players, 57.3ms\n",
      "Speed: 6.8ms preprocess, 57.3ms inference, 1.1ms postprocess per image at shape (1, 3, 1088, 1920)\n",
      "\n",
      "0: 1088x1920 23 players, 57.3ms\n",
      "Speed: 6.8ms preprocess, 57.3ms inference, 1.1ms postprocess per image at shape (1, 3, 1088, 1920)\n"
     ]
    },
    {
     "name": "stdout",
     "output_type": "stream",
     "text": [
      "1307\n",
      "Saved: temp_task_folder/img1/001307.jpg\n",
      "1308\n",
      "Saved: temp_task_folder/img1/001308.jpg\n"
     ]
    },
    {
     "name": "stderr",
     "output_type": "stream",
     "text": [
      "\n",
      "0: 1088x1920 23 players, 57.5ms\n",
      "Speed: 6.9ms preprocess, 57.5ms inference, 1.1ms postprocess per image at shape (1, 3, 1088, 1920)\n",
      "\n",
      "0: 1088x1920 1 ball, 24 players, 57.3ms\n",
      "Speed: 6.8ms preprocess, 57.3ms inference, 1.1ms postprocess per image at shape (1, 3, 1088, 1920)\n"
     ]
    },
    {
     "name": "stdout",
     "output_type": "stream",
     "text": [
      "1309\n",
      "Saved: temp_task_folder/img1/001309.jpg\n",
      "1310\n",
      "Saved: temp_task_folder/img1/001310.jpg\n"
     ]
    },
    {
     "name": "stderr",
     "output_type": "stream",
     "text": [
      "\n",
      "0: 1088x1920 1 ball, 25 players, 57.5ms\n",
      "Speed: 6.9ms preprocess, 57.5ms inference, 1.1ms postprocess per image at shape (1, 3, 1088, 1920)\n",
      "\n",
      "0: 1088x1920 1 ball, 24 players, 57.4ms\n",
      "Speed: 6.8ms preprocess, 57.4ms inference, 1.1ms postprocess per image at shape (1, 3, 1088, 1920)\n"
     ]
    },
    {
     "name": "stdout",
     "output_type": "stream",
     "text": [
      "1311\n",
      "Saved: temp_task_folder/img1/001311.jpg\n",
      "1312\n",
      "Saved: temp_task_folder/img1/001312.jpg\n"
     ]
    },
    {
     "name": "stderr",
     "output_type": "stream",
     "text": [
      "\n",
      "0: 1088x1920 1 ball, 24 players, 57.5ms\n",
      "Speed: 6.9ms preprocess, 57.5ms inference, 1.1ms postprocess per image at shape (1, 3, 1088, 1920)\n",
      "\n",
      "0: 1088x1920 1 ball, 24 players, 57.5ms\n",
      "Speed: 6.9ms preprocess, 57.5ms inference, 1.1ms postprocess per image at shape (1, 3, 1088, 1920)\n"
     ]
    },
    {
     "name": "stdout",
     "output_type": "stream",
     "text": [
      "1313\n",
      "Saved: temp_task_folder/img1/001313.jpg\n",
      "1314\n",
      "Saved: temp_task_folder/img1/001314.jpg\n"
     ]
    },
    {
     "name": "stderr",
     "output_type": "stream",
     "text": [
      "\n",
      "0: 1088x1920 1 ball, 24 players, 57.5ms\n",
      "Speed: 6.9ms preprocess, 57.5ms inference, 1.1ms postprocess per image at shape (1, 3, 1088, 1920)\n",
      "\n",
      "0: 1088x1920 1 ball, 23 players, 57.4ms\n",
      "Speed: 6.8ms preprocess, 57.4ms inference, 1.1ms postprocess per image at shape (1, 3, 1088, 1920)\n"
     ]
    },
    {
     "name": "stdout",
     "output_type": "stream",
     "text": [
      "1315\n",
      "Saved: temp_task_folder/img1/001315.jpg\n",
      "1316\n",
      "Saved: temp_task_folder/img1/001316.jpg\n"
     ]
    },
    {
     "name": "stderr",
     "output_type": "stream",
     "text": [
      "\n",
      "0: 1088x1920 1 ball, 24 players, 57.4ms\n",
      "Speed: 6.8ms preprocess, 57.4ms inference, 1.1ms postprocess per image at shape (1, 3, 1088, 1920)\n",
      "\n",
      "0: 1088x1920 1 ball, 24 players, 57.4ms\n",
      "Speed: 6.8ms preprocess, 57.4ms inference, 1.1ms postprocess per image at shape (1, 3, 1088, 1920)\n"
     ]
    },
    {
     "name": "stdout",
     "output_type": "stream",
     "text": [
      "1317\n",
      "Saved: temp_task_folder/img1/001317.jpg\n",
      "1318\n",
      "Saved: temp_task_folder/img1/001318.jpg\n"
     ]
    },
    {
     "name": "stderr",
     "output_type": "stream",
     "text": [
      "\n",
      "0: 1088x1920 1 ball, 25 players, 57.4ms\n",
      "Speed: 6.9ms preprocess, 57.4ms inference, 1.1ms postprocess per image at shape (1, 3, 1088, 1920)\n",
      "\n",
      "0: 1088x1920 1 ball, 24 players, 57.2ms\n",
      "Speed: 6.8ms preprocess, 57.2ms inference, 1.1ms postprocess per image at shape (1, 3, 1088, 1920)\n"
     ]
    },
    {
     "name": "stdout",
     "output_type": "stream",
     "text": [
      "1319\n",
      "Saved: temp_task_folder/img1/001319.jpg\n",
      "1320\n",
      "Saved: temp_task_folder/img1/001320.jpg\n"
     ]
    },
    {
     "name": "stderr",
     "output_type": "stream",
     "text": [
      "\n",
      "0: 1088x1920 1 ball, 24 players, 57.4ms\n",
      "Speed: 6.8ms preprocess, 57.4ms inference, 1.1ms postprocess per image at shape (1, 3, 1088, 1920)\n",
      "\n",
      "0: 1088x1920 1 ball, 24 players, 57.4ms\n",
      "Speed: 6.8ms preprocess, 57.4ms inference, 1.1ms postprocess per image at shape (1, 3, 1088, 1920)\n"
     ]
    },
    {
     "name": "stdout",
     "output_type": "stream",
     "text": [
      "1321\n",
      "Saved: temp_task_folder/img1/001321.jpg\n",
      "1322\n",
      "Saved: temp_task_folder/img1/001322.jpg\n"
     ]
    },
    {
     "name": "stderr",
     "output_type": "stream",
     "text": [
      "\n",
      "0: 1088x1920 1 ball, 23 players, 57.3ms\n",
      "Speed: 6.8ms preprocess, 57.3ms inference, 1.1ms postprocess per image at shape (1, 3, 1088, 1920)\n",
      "\n",
      "0: 1088x1920 1 ball, 23 players, 57.5ms\n",
      "Speed: 6.8ms preprocess, 57.5ms inference, 1.1ms postprocess per image at shape (1, 3, 1088, 1920)\n"
     ]
    },
    {
     "name": "stdout",
     "output_type": "stream",
     "text": [
      "1323\n",
      "Saved: temp_task_folder/img1/001323.jpg\n",
      "1324\n",
      "Saved: temp_task_folder/img1/001324.jpg\n"
     ]
    },
    {
     "name": "stderr",
     "output_type": "stream",
     "text": [
      "\n",
      "0: 1088x1920 1 ball, 23 players, 57.2ms\n",
      "Speed: 6.9ms preprocess, 57.2ms inference, 1.1ms postprocess per image at shape (1, 3, 1088, 1920)\n",
      "\n",
      "0: 1088x1920 1 ball, 23 players, 57.4ms\n",
      "Speed: 6.9ms preprocess, 57.4ms inference, 1.1ms postprocess per image at shape (1, 3, 1088, 1920)\n"
     ]
    },
    {
     "name": "stdout",
     "output_type": "stream",
     "text": [
      "1325\n",
      "Saved: temp_task_folder/img1/001325.jpg\n",
      "1326\n",
      "Saved: temp_task_folder/img1/001326.jpg\n"
     ]
    },
    {
     "name": "stderr",
     "output_type": "stream",
     "text": [
      "\n",
      "0: 1088x1920 1 ball, 23 players, 57.2ms\n",
      "Speed: 6.8ms preprocess, 57.2ms inference, 1.1ms postprocess per image at shape (1, 3, 1088, 1920)\n",
      "\n",
      "0: 1088x1920 1 ball, 24 players, 57.4ms\n",
      "Speed: 6.8ms preprocess, 57.4ms inference, 1.1ms postprocess per image at shape (1, 3, 1088, 1920)\n"
     ]
    },
    {
     "name": "stdout",
     "output_type": "stream",
     "text": [
      "1327\n",
      "Saved: temp_task_folder/img1/001327.jpg\n",
      "1328\n",
      "Saved: temp_task_folder/img1/001328.jpg\n"
     ]
    },
    {
     "name": "stderr",
     "output_type": "stream",
     "text": [
      "\n",
      "0: 1088x1920 1 ball, 23 players, 57.1ms\n",
      "Speed: 6.8ms preprocess, 57.1ms inference, 1.1ms postprocess per image at shape (1, 3, 1088, 1920)\n",
      "\n",
      "0: 1088x1920 1 ball, 23 players, 57.3ms\n",
      "Speed: 6.8ms preprocess, 57.3ms inference, 1.1ms postprocess per image at shape (1, 3, 1088, 1920)\n"
     ]
    },
    {
     "name": "stdout",
     "output_type": "stream",
     "text": [
      "1329\n",
      "Saved: temp_task_folder/img1/001329.jpg\n",
      "1330\n",
      "Saved: temp_task_folder/img1/001330.jpg\n"
     ]
    },
    {
     "name": "stderr",
     "output_type": "stream",
     "text": [
      "\n",
      "0: 1088x1920 1 ball, 23 players, 57.4ms\n",
      "Speed: 6.8ms preprocess, 57.4ms inference, 1.1ms postprocess per image at shape (1, 3, 1088, 1920)\n",
      "\n",
      "0: 1088x1920 1 ball, 23 players, 57.4ms\n",
      "Speed: 6.9ms preprocess, 57.4ms inference, 1.1ms postprocess per image at shape (1, 3, 1088, 1920)\n"
     ]
    },
    {
     "name": "stdout",
     "output_type": "stream",
     "text": [
      "1331\n",
      "Saved: temp_task_folder/img1/001331.jpg\n",
      "1332\n",
      "Saved: temp_task_folder/img1/001332.jpg\n"
     ]
    },
    {
     "name": "stderr",
     "output_type": "stream",
     "text": [
      "\n",
      "0: 1088x1920 1 ball, 23 players, 57.4ms\n",
      "Speed: 6.9ms preprocess, 57.4ms inference, 1.1ms postprocess per image at shape (1, 3, 1088, 1920)\n",
      "\n",
      "0: 1088x1920 1 ball, 23 players, 57.4ms\n",
      "Speed: 6.8ms preprocess, 57.4ms inference, 1.1ms postprocess per image at shape (1, 3, 1088, 1920)\n"
     ]
    },
    {
     "name": "stdout",
     "output_type": "stream",
     "text": [
      "1333\n",
      "Saved: temp_task_folder/img1/001333.jpg\n",
      "1334\n",
      "Saved: temp_task_folder/img1/001334.jpg\n"
     ]
    },
    {
     "name": "stderr",
     "output_type": "stream",
     "text": [
      "\n",
      "0: 1088x1920 1 ball, 23 players, 57.5ms\n",
      "Speed: 6.9ms preprocess, 57.5ms inference, 1.1ms postprocess per image at shape (1, 3, 1088, 1920)\n",
      "\n",
      "0: 1088x1920 1 ball, 23 players, 57.4ms\n",
      "Speed: 6.8ms preprocess, 57.4ms inference, 1.2ms postprocess per image at shape (1, 3, 1088, 1920)\n"
     ]
    },
    {
     "name": "stdout",
     "output_type": "stream",
     "text": [
      "1335\n",
      "Saved: temp_task_folder/img1/001335.jpg\n",
      "1336\n",
      "Saved: temp_task_folder/img1/001336.jpg\n"
     ]
    },
    {
     "name": "stderr",
     "output_type": "stream",
     "text": [
      "\n",
      "0: 1088x1920 1 ball, 23 players, 57.4ms\n",
      "Speed: 6.8ms preprocess, 57.4ms inference, 1.1ms postprocess per image at shape (1, 3, 1088, 1920)\n",
      "\n",
      "0: 1088x1920 1 ball, 23 players, 57.2ms\n",
      "Speed: 6.8ms preprocess, 57.2ms inference, 1.1ms postprocess per image at shape (1, 3, 1088, 1920)\n"
     ]
    },
    {
     "name": "stdout",
     "output_type": "stream",
     "text": [
      "1337\n",
      "Saved: temp_task_folder/img1/001337.jpg\n",
      "1338\n",
      "Saved: temp_task_folder/img1/001338.jpg\n"
     ]
    },
    {
     "name": "stderr",
     "output_type": "stream",
     "text": [
      "\n",
      "0: 1088x1920 1 ball, 24 players, 57.4ms\n",
      "Speed: 6.9ms preprocess, 57.4ms inference, 1.1ms postprocess per image at shape (1, 3, 1088, 1920)\n",
      "\n",
      "0: 1088x1920 1 ball, 23 players, 57.2ms\n",
      "Speed: 6.8ms preprocess, 57.2ms inference, 1.1ms postprocess per image at shape (1, 3, 1088, 1920)\n"
     ]
    },
    {
     "name": "stdout",
     "output_type": "stream",
     "text": [
      "1339\n",
      "Saved: temp_task_folder/img1/001339.jpg\n",
      "1340\n",
      "Saved: temp_task_folder/img1/001340.jpg\n"
     ]
    },
    {
     "name": "stderr",
     "output_type": "stream",
     "text": [
      "\n",
      "0: 1088x1920 1 ball, 23 players, 57.5ms\n",
      "Speed: 6.9ms preprocess, 57.5ms inference, 1.1ms postprocess per image at shape (1, 3, 1088, 1920)\n",
      "\n",
      "0: 1088x1920 1 ball, 23 players, 57.3ms\n",
      "Speed: 6.8ms preprocess, 57.3ms inference, 1.1ms postprocess per image at shape (1, 3, 1088, 1920)\n"
     ]
    },
    {
     "name": "stdout",
     "output_type": "stream",
     "text": [
      "1341\n",
      "Saved: temp_task_folder/img1/001341.jpg\n",
      "1342\n",
      "Saved: temp_task_folder/img1/001342.jpg\n"
     ]
    },
    {
     "name": "stderr",
     "output_type": "stream",
     "text": [
      "\n",
      "0: 1088x1920 1 ball, 24 players, 57.5ms\n",
      "Speed: 6.9ms preprocess, 57.5ms inference, 1.1ms postprocess per image at shape (1, 3, 1088, 1920)\n",
      "\n",
      "0: 1088x1920 1 ball, 23 players, 57.5ms\n",
      "Speed: 6.8ms preprocess, 57.5ms inference, 1.1ms postprocess per image at shape (1, 3, 1088, 1920)\n"
     ]
    },
    {
     "name": "stdout",
     "output_type": "stream",
     "text": [
      "1343\n",
      "Saved: temp_task_folder/img1/001343.jpg\n",
      "1344\n",
      "Saved: temp_task_folder/img1/001344.jpg\n"
     ]
    },
    {
     "name": "stderr",
     "output_type": "stream",
     "text": [
      "\n",
      "0: 1088x1920 1 ball, 23 players, 57.4ms\n",
      "Speed: 6.9ms preprocess, 57.4ms inference, 1.1ms postprocess per image at shape (1, 3, 1088, 1920)\n",
      "\n",
      "0: 1088x1920 1 ball, 23 players, 57.3ms\n",
      "Speed: 6.9ms preprocess, 57.3ms inference, 1.1ms postprocess per image at shape (1, 3, 1088, 1920)\n"
     ]
    },
    {
     "name": "stdout",
     "output_type": "stream",
     "text": [
      "1345\n",
      "Saved: temp_task_folder/img1/001345.jpg\n",
      "1346\n",
      "Saved: temp_task_folder/img1/001346.jpg\n"
     ]
    },
    {
     "name": "stderr",
     "output_type": "stream",
     "text": [
      "\n",
      "0: 1088x1920 1 ball, 23 players, 57.3ms\n",
      "Speed: 6.8ms preprocess, 57.3ms inference, 1.1ms postprocess per image at shape (1, 3, 1088, 1920)\n",
      "\n",
      "0: 1088x1920 1 ball, 23 players, 57.4ms\n",
      "Speed: 6.8ms preprocess, 57.4ms inference, 1.1ms postprocess per image at shape (1, 3, 1088, 1920)\n"
     ]
    },
    {
     "name": "stdout",
     "output_type": "stream",
     "text": [
      "1347\n",
      "Saved: temp_task_folder/img1/001347.jpg\n",
      "1348\n",
      "Saved: temp_task_folder/img1/001348.jpg\n"
     ]
    },
    {
     "name": "stderr",
     "output_type": "stream",
     "text": [
      "\n",
      "0: 1088x1920 1 ball, 23 players, 57.5ms\n",
      "Speed: 6.9ms preprocess, 57.5ms inference, 1.1ms postprocess per image at shape (1, 3, 1088, 1920)\n",
      "\n",
      "0: 1088x1920 1 ball, 23 players, 57.4ms\n",
      "Speed: 7.2ms preprocess, 57.4ms inference, 1.1ms postprocess per image at shape (1, 3, 1088, 1920)\n"
     ]
    },
    {
     "name": "stdout",
     "output_type": "stream",
     "text": [
      "1349\n",
      "Saved: temp_task_folder/img1/001349.jpg\n",
      "1350\n",
      "Saved: temp_task_folder/img1/001350.jpg\n"
     ]
    },
    {
     "name": "stderr",
     "output_type": "stream",
     "text": [
      "\n",
      "0: 1088x1920 1 ball, 23 players, 57.5ms\n",
      "Speed: 6.9ms preprocess, 57.5ms inference, 1.1ms postprocess per image at shape (1, 3, 1088, 1920)\n",
      "\n",
      "0: 1088x1920 1 ball, 23 players, 57.5ms\n",
      "Speed: 7.2ms preprocess, 57.5ms inference, 1.1ms postprocess per image at shape (1, 3, 1088, 1920)\n"
     ]
    },
    {
     "name": "stdout",
     "output_type": "stream",
     "text": [
      "1351\n",
      "Saved: temp_task_folder/img1/001351.jpg\n",
      "1352\n",
      "Saved: temp_task_folder/img1/001352.jpg\n"
     ]
    },
    {
     "name": "stderr",
     "output_type": "stream",
     "text": [
      "\n",
      "0: 1088x1920 1 ball, 23 players, 57.5ms\n",
      "Speed: 6.9ms preprocess, 57.5ms inference, 1.1ms postprocess per image at shape (1, 3, 1088, 1920)\n",
      "\n",
      "0: 1088x1920 1 ball, 23 players, 57.5ms\n",
      "Speed: 6.9ms preprocess, 57.5ms inference, 1.2ms postprocess per image at shape (1, 3, 1088, 1920)\n"
     ]
    },
    {
     "name": "stdout",
     "output_type": "stream",
     "text": [
      "1353\n",
      "Saved: temp_task_folder/img1/001353.jpg\n",
      "1354\n",
      "Saved: temp_task_folder/img1/001354.jpg\n"
     ]
    },
    {
     "name": "stderr",
     "output_type": "stream",
     "text": [
      "\n",
      "0: 1088x1920 1 ball, 23 players, 57.5ms\n",
      "Speed: 6.8ms preprocess, 57.5ms inference, 1.1ms postprocess per image at shape (1, 3, 1088, 1920)\n",
      "\n",
      "0: 1088x1920 1 ball, 23 players, 57.4ms\n",
      "Speed: 6.7ms preprocess, 57.4ms inference, 1.1ms postprocess per image at shape (1, 3, 1088, 1920)\n"
     ]
    },
    {
     "name": "stdout",
     "output_type": "stream",
     "text": [
      "1355\n",
      "Saved: temp_task_folder/img1/001355.jpg\n",
      "1356\n",
      "Saved: temp_task_folder/img1/001356.jpg\n"
     ]
    },
    {
     "name": "stderr",
     "output_type": "stream",
     "text": [
      "\n",
      "0: 1088x1920 1 ball, 23 players, 57.2ms\n",
      "Speed: 6.9ms preprocess, 57.2ms inference, 1.1ms postprocess per image at shape (1, 3, 1088, 1920)\n",
      "\n",
      "0: 1088x1920 1 ball, 23 players, 57.3ms\n",
      "Speed: 6.8ms preprocess, 57.3ms inference, 1.1ms postprocess per image at shape (1, 3, 1088, 1920)\n"
     ]
    },
    {
     "name": "stdout",
     "output_type": "stream",
     "text": [
      "1357\n",
      "Saved: temp_task_folder/img1/001357.jpg\n",
      "1358\n",
      "Saved: temp_task_folder/img1/001358.jpg\n"
     ]
    },
    {
     "name": "stderr",
     "output_type": "stream",
     "text": [
      "\n",
      "0: 1088x1920 1 ball, 23 players, 57.4ms\n",
      "Speed: 6.8ms preprocess, 57.4ms inference, 1.1ms postprocess per image at shape (1, 3, 1088, 1920)\n",
      "\n",
      "0: 1088x1920 1 ball, 23 players, 57.5ms\n",
      "Speed: 6.8ms preprocess, 57.5ms inference, 1.1ms postprocess per image at shape (1, 3, 1088, 1920)\n"
     ]
    },
    {
     "name": "stdout",
     "output_type": "stream",
     "text": [
      "1359\n",
      "Saved: temp_task_folder/img1/001359.jpg\n",
      "1360\n",
      "Saved: temp_task_folder/img1/001360.jpg\n"
     ]
    },
    {
     "name": "stderr",
     "output_type": "stream",
     "text": [
      "\n",
      "0: 1088x1920 1 ball, 23 players, 57.5ms\n",
      "Speed: 6.8ms preprocess, 57.5ms inference, 1.1ms postprocess per image at shape (1, 3, 1088, 1920)\n",
      "\n",
      "0: 1088x1920 1 ball, 23 players, 57.3ms\n",
      "Speed: 6.9ms preprocess, 57.3ms inference, 1.1ms postprocess per image at shape (1, 3, 1088, 1920)\n"
     ]
    },
    {
     "name": "stdout",
     "output_type": "stream",
     "text": [
      "1361\n",
      "Saved: temp_task_folder/img1/001361.jpg\n",
      "1362\n",
      "Saved: temp_task_folder/img1/001362.jpg\n"
     ]
    },
    {
     "name": "stderr",
     "output_type": "stream",
     "text": [
      "\n",
      "0: 1088x1920 1 ball, 23 players, 57.5ms\n",
      "Speed: 6.8ms preprocess, 57.5ms inference, 1.1ms postprocess per image at shape (1, 3, 1088, 1920)\n",
      "\n",
      "0: 1088x1920 1 ball, 23 players, 57.5ms\n",
      "Speed: 6.9ms preprocess, 57.5ms inference, 1.1ms postprocess per image at shape (1, 3, 1088, 1920)\n"
     ]
    },
    {
     "name": "stdout",
     "output_type": "stream",
     "text": [
      "1363\n",
      "Saved: temp_task_folder/img1/001363.jpg\n",
      "1364\n",
      "Saved: temp_task_folder/img1/001364.jpg\n"
     ]
    },
    {
     "name": "stderr",
     "output_type": "stream",
     "text": [
      "\n",
      "0: 1088x1920 1 ball, 23 players, 57.4ms\n",
      "Speed: 6.8ms preprocess, 57.4ms inference, 1.1ms postprocess per image at shape (1, 3, 1088, 1920)\n",
      "\n",
      "0: 1088x1920 1 ball, 23 players, 57.4ms\n",
      "Speed: 6.9ms preprocess, 57.4ms inference, 1.1ms postprocess per image at shape (1, 3, 1088, 1920)\n"
     ]
    },
    {
     "name": "stdout",
     "output_type": "stream",
     "text": [
      "1365\n",
      "Saved: temp_task_folder/img1/001365.jpg\n",
      "1366\n",
      "Saved: temp_task_folder/img1/001366.jpg\n"
     ]
    },
    {
     "name": "stderr",
     "output_type": "stream",
     "text": [
      "\n",
      "0: 1088x1920 1 ball, 23 players, 57.4ms\n",
      "Speed: 6.9ms preprocess, 57.4ms inference, 1.1ms postprocess per image at shape (1, 3, 1088, 1920)\n",
      "\n",
      "0: 1088x1920 1 ball, 23 players, 57.5ms\n",
      "Speed: 7.2ms preprocess, 57.5ms inference, 1.1ms postprocess per image at shape (1, 3, 1088, 1920)\n"
     ]
    },
    {
     "name": "stdout",
     "output_type": "stream",
     "text": [
      "1367\n",
      "Saved: temp_task_folder/img1/001367.jpg\n",
      "1368\n",
      "Saved: temp_task_folder/img1/001368.jpg\n"
     ]
    },
    {
     "name": "stderr",
     "output_type": "stream",
     "text": [
      "\n",
      "0: 1088x1920 1 ball, 23 players, 57.3ms\n",
      "Speed: 7.2ms preprocess, 57.3ms inference, 1.1ms postprocess per image at shape (1, 3, 1088, 1920)\n",
      "\n",
      "0: 1088x1920 1 ball, 23 players, 57.5ms\n",
      "Speed: 6.9ms preprocess, 57.5ms inference, 1.1ms postprocess per image at shape (1, 3, 1088, 1920)\n"
     ]
    },
    {
     "name": "stdout",
     "output_type": "stream",
     "text": [
      "1369\n",
      "Saved: temp_task_folder/img1/001369.jpg\n",
      "1370\n",
      "Saved: temp_task_folder/img1/001370.jpg\n"
     ]
    },
    {
     "name": "stderr",
     "output_type": "stream",
     "text": [
      "\n",
      "0: 1088x1920 1 ball, 23 players, 57.2ms\n",
      "Speed: 6.9ms preprocess, 57.2ms inference, 1.1ms postprocess per image at shape (1, 3, 1088, 1920)\n",
      "\n",
      "0: 1088x1920 1 ball, 23 players, 57.2ms\n",
      "Speed: 6.8ms preprocess, 57.2ms inference, 1.1ms postprocess per image at shape (1, 3, 1088, 1920)\n"
     ]
    },
    {
     "name": "stdout",
     "output_type": "stream",
     "text": [
      "1371\n",
      "Saved: temp_task_folder/img1/001371.jpg\n",
      "1372\n",
      "Saved: temp_task_folder/img1/001372.jpg\n"
     ]
    },
    {
     "name": "stderr",
     "output_type": "stream",
     "text": [
      "\n",
      "0: 1088x1920 1 ball, 23 players, 57.3ms\n",
      "Speed: 6.9ms preprocess, 57.3ms inference, 1.1ms postprocess per image at shape (1, 3, 1088, 1920)\n",
      "\n",
      "0: 1088x1920 1 ball, 23 players, 57.4ms\n",
      "Speed: 6.9ms preprocess, 57.4ms inference, 1.1ms postprocess per image at shape (1, 3, 1088, 1920)\n"
     ]
    },
    {
     "name": "stdout",
     "output_type": "stream",
     "text": [
      "1373\n",
      "Saved: temp_task_folder/img1/001373.jpg\n",
      "1374\n",
      "Saved: temp_task_folder/img1/001374.jpg\n"
     ]
    },
    {
     "name": "stderr",
     "output_type": "stream",
     "text": [
      "\n",
      "0: 1088x1920 1 ball, 23 players, 57.4ms\n",
      "Speed: 6.9ms preprocess, 57.4ms inference, 1.1ms postprocess per image at shape (1, 3, 1088, 1920)\n",
      "\n",
      "0: 1088x1920 1 ball, 23 players, 57.4ms\n",
      "Speed: 6.8ms preprocess, 57.4ms inference, 1.1ms postprocess per image at shape (1, 3, 1088, 1920)\n"
     ]
    },
    {
     "name": "stdout",
     "output_type": "stream",
     "text": [
      "1375\n",
      "Saved: temp_task_folder/img1/001375.jpg\n",
      "1376\n",
      "Saved: temp_task_folder/img1/001376.jpg\n"
     ]
    },
    {
     "name": "stderr",
     "output_type": "stream",
     "text": [
      "\n",
      "0: 1088x1920 1 ball, 23 players, 57.4ms\n",
      "Speed: 6.9ms preprocess, 57.4ms inference, 1.1ms postprocess per image at shape (1, 3, 1088, 1920)\n",
      "\n",
      "0: 1088x1920 1 ball, 23 players, 57.3ms\n",
      "Speed: 6.9ms preprocess, 57.3ms inference, 1.1ms postprocess per image at shape (1, 3, 1088, 1920)\n"
     ]
    },
    {
     "name": "stdout",
     "output_type": "stream",
     "text": [
      "1377\n",
      "Saved: temp_task_folder/img1/001377.jpg\n",
      "1378\n",
      "Saved: temp_task_folder/img1/001378.jpg\n"
     ]
    },
    {
     "name": "stderr",
     "output_type": "stream",
     "text": [
      "\n",
      "0: 1088x1920 1 ball, 23 players, 57.4ms\n",
      "Speed: 6.9ms preprocess, 57.4ms inference, 1.1ms postprocess per image at shape (1, 3, 1088, 1920)\n",
      "\n",
      "0: 1088x1920 1 ball, 23 players, 57.5ms\n",
      "Speed: 6.8ms preprocess, 57.5ms inference, 1.1ms postprocess per image at shape (1, 3, 1088, 1920)\n"
     ]
    },
    {
     "name": "stdout",
     "output_type": "stream",
     "text": [
      "1379\n",
      "Saved: temp_task_folder/img1/001379.jpg\n",
      "1380\n",
      "Saved: temp_task_folder/img1/001380.jpg\n"
     ]
    },
    {
     "name": "stderr",
     "output_type": "stream",
     "text": [
      "\n",
      "0: 1088x1920 1 ball, 23 players, 57.4ms\n",
      "Speed: 6.9ms preprocess, 57.4ms inference, 1.1ms postprocess per image at shape (1, 3, 1088, 1920)\n",
      "\n",
      "0: 1088x1920 1 ball, 23 players, 57.5ms\n",
      "Speed: 6.8ms preprocess, 57.5ms inference, 1.1ms postprocess per image at shape (1, 3, 1088, 1920)\n"
     ]
    },
    {
     "name": "stdout",
     "output_type": "stream",
     "text": [
      "1381\n",
      "Saved: temp_task_folder/img1/001381.jpg\n",
      "1382\n",
      "Saved: temp_task_folder/img1/001382.jpg\n"
     ]
    },
    {
     "name": "stderr",
     "output_type": "stream",
     "text": [
      "\n",
      "0: 1088x1920 1 ball, 23 players, 57.2ms\n",
      "Speed: 6.9ms preprocess, 57.2ms inference, 1.1ms postprocess per image at shape (1, 3, 1088, 1920)\n",
      "\n",
      "0: 1088x1920 1 ball, 23 players, 57.5ms\n",
      "Speed: 6.8ms preprocess, 57.5ms inference, 1.1ms postprocess per image at shape (1, 3, 1088, 1920)\n"
     ]
    },
    {
     "name": "stdout",
     "output_type": "stream",
     "text": [
      "1383\n",
      "Saved: temp_task_folder/img1/001383.jpg\n",
      "1384\n",
      "Saved: temp_task_folder/img1/001384.jpg\n"
     ]
    },
    {
     "name": "stderr",
     "output_type": "stream",
     "text": [
      "\n",
      "0: 1088x1920 1 ball, 23 players, 57.4ms\n",
      "Speed: 6.9ms preprocess, 57.4ms inference, 1.1ms postprocess per image at shape (1, 3, 1088, 1920)\n",
      "\n",
      "0: 1088x1920 1 ball, 23 players, 57.5ms\n",
      "Speed: 6.9ms preprocess, 57.5ms inference, 1.1ms postprocess per image at shape (1, 3, 1088, 1920)\n"
     ]
    },
    {
     "name": "stdout",
     "output_type": "stream",
     "text": [
      "1385\n",
      "Saved: temp_task_folder/img1/001385.jpg\n",
      "1386\n",
      "Saved: temp_task_folder/img1/001386.jpg\n"
     ]
    },
    {
     "name": "stderr",
     "output_type": "stream",
     "text": [
      "\n",
      "0: 1088x1920 1 ball, 23 players, 57.3ms\n",
      "Speed: 6.8ms preprocess, 57.3ms inference, 1.1ms postprocess per image at shape (1, 3, 1088, 1920)\n",
      "\n",
      "0: 1088x1920 1 ball, 23 players, 57.3ms\n",
      "Speed: 6.9ms preprocess, 57.3ms inference, 1.1ms postprocess per image at shape (1, 3, 1088, 1920)\n"
     ]
    },
    {
     "name": "stdout",
     "output_type": "stream",
     "text": [
      "1387\n",
      "Saved: temp_task_folder/img1/001387.jpg\n",
      "1388\n",
      "Saved: temp_task_folder/img1/001388.jpg\n"
     ]
    },
    {
     "name": "stderr",
     "output_type": "stream",
     "text": [
      "\n",
      "0: 1088x1920 1 ball, 23 players, 57.5ms\n",
      "Speed: 6.9ms preprocess, 57.5ms inference, 1.1ms postprocess per image at shape (1, 3, 1088, 1920)\n",
      "\n",
      "0: 1088x1920 1 ball, 23 players, 57.5ms\n",
      "Speed: 6.9ms preprocess, 57.5ms inference, 1.1ms postprocess per image at shape (1, 3, 1088, 1920)\n"
     ]
    },
    {
     "name": "stdout",
     "output_type": "stream",
     "text": [
      "1389\n",
      "Saved: temp_task_folder/img1/001389.jpg\n",
      "1390\n",
      "Saved: temp_task_folder/img1/001390.jpg\n"
     ]
    },
    {
     "name": "stderr",
     "output_type": "stream",
     "text": [
      "\n",
      "0: 1088x1920 1 ball, 23 players, 57.5ms\n",
      "Speed: 6.8ms preprocess, 57.5ms inference, 1.1ms postprocess per image at shape (1, 3, 1088, 1920)\n",
      "\n",
      "0: 1088x1920 1 ball, 23 players, 57.5ms\n",
      "Speed: 6.9ms preprocess, 57.5ms inference, 1.1ms postprocess per image at shape (1, 3, 1088, 1920)\n"
     ]
    },
    {
     "name": "stdout",
     "output_type": "stream",
     "text": [
      "1391\n",
      "Saved: temp_task_folder/img1/001391.jpg\n",
      "1392\n",
      "Saved: temp_task_folder/img1/001392.jpg\n"
     ]
    },
    {
     "name": "stderr",
     "output_type": "stream",
     "text": [
      "\n",
      "0: 1088x1920 1 ball, 24 players, 57.5ms\n",
      "Speed: 6.8ms preprocess, 57.5ms inference, 1.1ms postprocess per image at shape (1, 3, 1088, 1920)\n",
      "\n",
      "0: 1088x1920 1 ball, 23 players, 57.3ms\n",
      "Speed: 6.9ms preprocess, 57.3ms inference, 1.1ms postprocess per image at shape (1, 3, 1088, 1920)\n"
     ]
    },
    {
     "name": "stdout",
     "output_type": "stream",
     "text": [
      "1393\n",
      "Saved: temp_task_folder/img1/001393.jpg\n",
      "1394\n",
      "Saved: temp_task_folder/img1/001394.jpg\n"
     ]
    },
    {
     "name": "stderr",
     "output_type": "stream",
     "text": [
      "\n",
      "0: 1088x1920 1 ball, 24 players, 57.2ms\n",
      "Speed: 6.9ms preprocess, 57.2ms inference, 1.1ms postprocess per image at shape (1, 3, 1088, 1920)\n",
      "\n",
      "0: 1088x1920 1 ball, 23 players, 57.4ms\n",
      "Speed: 7.2ms preprocess, 57.4ms inference, 1.1ms postprocess per image at shape (1, 3, 1088, 1920)\n"
     ]
    },
    {
     "name": "stdout",
     "output_type": "stream",
     "text": [
      "1395\n",
      "Saved: temp_task_folder/img1/001395.jpg\n",
      "1396\n",
      "Saved: temp_task_folder/img1/001396.jpg\n"
     ]
    },
    {
     "name": "stderr",
     "output_type": "stream",
     "text": [
      "\n",
      "0: 1088x1920 1 ball, 23 players, 57.5ms\n",
      "Speed: 6.8ms preprocess, 57.5ms inference, 1.1ms postprocess per image at shape (1, 3, 1088, 1920)\n",
      "\n",
      "0: 1088x1920 1 ball, 23 players, 57.5ms\n",
      "Speed: 6.8ms preprocess, 57.5ms inference, 1.1ms postprocess per image at shape (1, 3, 1088, 1920)\n"
     ]
    },
    {
     "name": "stdout",
     "output_type": "stream",
     "text": [
      "1397\n",
      "Saved: temp_task_folder/img1/001397.jpg\n",
      "1398\n",
      "Saved: temp_task_folder/img1/001398.jpg\n"
     ]
    },
    {
     "name": "stderr",
     "output_type": "stream",
     "text": [
      "\n",
      "0: 1088x1920 1 ball, 23 players, 57.4ms\n",
      "Speed: 6.8ms preprocess, 57.4ms inference, 1.1ms postprocess per image at shape (1, 3, 1088, 1920)\n",
      "\n",
      "0: 1088x1920 1 ball, 23 players, 57.4ms\n",
      "Speed: 6.8ms preprocess, 57.4ms inference, 1.1ms postprocess per image at shape (1, 3, 1088, 1920)\n"
     ]
    },
    {
     "name": "stdout",
     "output_type": "stream",
     "text": [
      "1399\n",
      "Saved: temp_task_folder/img1/001399.jpg\n",
      "1400\n",
      "Saved: temp_task_folder/img1/001400.jpg\n"
     ]
    },
    {
     "name": "stderr",
     "output_type": "stream",
     "text": [
      "\n",
      "0: 1088x1920 1 ball, 23 players, 57.5ms\n",
      "Speed: 6.9ms preprocess, 57.5ms inference, 1.1ms postprocess per image at shape (1, 3, 1088, 1920)\n",
      "\n",
      "0: 1088x1920 1 ball, 23 players, 57.3ms\n",
      "Speed: 6.8ms preprocess, 57.3ms inference, 1.1ms postprocess per image at shape (1, 3, 1088, 1920)\n"
     ]
    },
    {
     "name": "stdout",
     "output_type": "stream",
     "text": [
      "1401\n",
      "Saved: temp_task_folder/img1/001401.jpg\n",
      "1402\n",
      "Saved: temp_task_folder/img1/001402.jpg\n"
     ]
    },
    {
     "name": "stderr",
     "output_type": "stream",
     "text": [
      "\n",
      "0: 1088x1920 1 ball, 23 players, 57.3ms\n",
      "Speed: 6.9ms preprocess, 57.3ms inference, 1.1ms postprocess per image at shape (1, 3, 1088, 1920)\n",
      "\n",
      "0: 1088x1920 1 ball, 23 players, 57.4ms\n",
      "Speed: 6.8ms preprocess, 57.4ms inference, 1.1ms postprocess per image at shape (1, 3, 1088, 1920)\n"
     ]
    },
    {
     "name": "stdout",
     "output_type": "stream",
     "text": [
      "1403\n",
      "Saved: temp_task_folder/img1/001403.jpg\n",
      "1404\n",
      "Saved: temp_task_folder/img1/001404.jpg\n"
     ]
    },
    {
     "name": "stderr",
     "output_type": "stream",
     "text": [
      "\n",
      "0: 1088x1920 1 ball, 23 players, 57.4ms\n",
      "Speed: 6.9ms preprocess, 57.4ms inference, 1.1ms postprocess per image at shape (1, 3, 1088, 1920)\n",
      "\n",
      "0: 1088x1920 1 ball, 23 players, 57.4ms\n",
      "Speed: 6.8ms preprocess, 57.4ms inference, 1.1ms postprocess per image at shape (1, 3, 1088, 1920)\n"
     ]
    },
    {
     "name": "stdout",
     "output_type": "stream",
     "text": [
      "1405\n",
      "Saved: temp_task_folder/img1/001405.jpg\n",
      "1406\n",
      "Saved: temp_task_folder/img1/001406.jpg\n"
     ]
    },
    {
     "name": "stderr",
     "output_type": "stream",
     "text": [
      "\n",
      "0: 1088x1920 1 ball, 23 players, 57.2ms\n",
      "Speed: 6.8ms preprocess, 57.2ms inference, 1.1ms postprocess per image at shape (1, 3, 1088, 1920)\n",
      "\n",
      "0: 1088x1920 1 ball, 23 players, 57.3ms\n",
      "Speed: 7.2ms preprocess, 57.3ms inference, 1.1ms postprocess per image at shape (1, 3, 1088, 1920)\n"
     ]
    },
    {
     "name": "stdout",
     "output_type": "stream",
     "text": [
      "1407\n",
      "Saved: temp_task_folder/img1/001407.jpg\n",
      "1408\n",
      "Saved: temp_task_folder/img1/001408.jpg\n"
     ]
    },
    {
     "name": "stderr",
     "output_type": "stream",
     "text": [
      "\n",
      "0: 1088x1920 1 ball, 23 players, 57.4ms\n",
      "Speed: 7.0ms preprocess, 57.4ms inference, 1.1ms postprocess per image at shape (1, 3, 1088, 1920)\n",
      "\n",
      "0: 1088x1920 1 ball, 23 players, 57.4ms\n",
      "Speed: 6.9ms preprocess, 57.4ms inference, 1.1ms postprocess per image at shape (1, 3, 1088, 1920)\n"
     ]
    },
    {
     "name": "stdout",
     "output_type": "stream",
     "text": [
      "1409\n",
      "Saved: temp_task_folder/img1/001409.jpg\n",
      "1410\n",
      "Saved: temp_task_folder/img1/001410.jpg\n"
     ]
    },
    {
     "name": "stderr",
     "output_type": "stream",
     "text": [
      "\n",
      "0: 1088x1920 1 ball, 23 players, 57.3ms\n",
      "Speed: 6.9ms preprocess, 57.3ms inference, 1.1ms postprocess per image at shape (1, 3, 1088, 1920)\n",
      "\n",
      "0: 1088x1920 1 ball, 23 players, 57.5ms\n",
      "Speed: 6.8ms preprocess, 57.5ms inference, 1.1ms postprocess per image at shape (1, 3, 1088, 1920)\n"
     ]
    },
    {
     "name": "stdout",
     "output_type": "stream",
     "text": [
      "1411\n",
      "Saved: temp_task_folder/img1/001411.jpg\n",
      "1412\n",
      "Saved: temp_task_folder/img1/001412.jpg\n"
     ]
    },
    {
     "name": "stderr",
     "output_type": "stream",
     "text": [
      "\n",
      "0: 1088x1920 1 ball, 23 players, 57.5ms\n",
      "Speed: 6.8ms preprocess, 57.5ms inference, 1.1ms postprocess per image at shape (1, 3, 1088, 1920)\n",
      "\n",
      "0: 1088x1920 1 ball, 23 players, 57.3ms\n",
      "Speed: 6.8ms preprocess, 57.3ms inference, 1.1ms postprocess per image at shape (1, 3, 1088, 1920)\n"
     ]
    },
    {
     "name": "stdout",
     "output_type": "stream",
     "text": [
      "1413\n",
      "Saved: temp_task_folder/img1/001413.jpg\n",
      "1414\n",
      "Saved: temp_task_folder/img1/001414.jpg\n"
     ]
    },
    {
     "name": "stderr",
     "output_type": "stream",
     "text": [
      "\n",
      "0: 1088x1920 1 ball, 23 players, 57.4ms\n",
      "Speed: 7.0ms preprocess, 57.4ms inference, 1.1ms postprocess per image at shape (1, 3, 1088, 1920)\n",
      "\n",
      "0: 1088x1920 1 ball, 23 players, 57.5ms\n",
      "Speed: 6.9ms preprocess, 57.5ms inference, 1.1ms postprocess per image at shape (1, 3, 1088, 1920)\n"
     ]
    },
    {
     "name": "stdout",
     "output_type": "stream",
     "text": [
      "1415\n",
      "Saved: temp_task_folder/img1/001415.jpg\n",
      "1416\n",
      "Saved: temp_task_folder/img1/001416.jpg\n"
     ]
    },
    {
     "name": "stderr",
     "output_type": "stream",
     "text": [
      "\n",
      "0: 1088x1920 1 ball, 23 players, 57.3ms\n",
      "Speed: 6.8ms preprocess, 57.3ms inference, 1.1ms postprocess per image at shape (1, 3, 1088, 1920)\n",
      "\n",
      "0: 1088x1920 1 ball, 23 players, 57.5ms\n",
      "Speed: 6.8ms preprocess, 57.5ms inference, 1.1ms postprocess per image at shape (1, 3, 1088, 1920)\n"
     ]
    },
    {
     "name": "stdout",
     "output_type": "stream",
     "text": [
      "1417\n",
      "Saved: temp_task_folder/img1/001417.jpg\n",
      "1418\n",
      "Saved: temp_task_folder/img1/001418.jpg\n"
     ]
    },
    {
     "name": "stderr",
     "output_type": "stream",
     "text": [
      "\n",
      "0: 1088x1920 1 ball, 23 players, 57.3ms\n",
      "Speed: 6.9ms preprocess, 57.3ms inference, 1.1ms postprocess per image at shape (1, 3, 1088, 1920)\n",
      "\n",
      "0: 1088x1920 1 ball, 23 players, 57.4ms\n",
      "Speed: 6.8ms preprocess, 57.4ms inference, 1.1ms postprocess per image at shape (1, 3, 1088, 1920)\n"
     ]
    },
    {
     "name": "stdout",
     "output_type": "stream",
     "text": [
      "1419\n",
      "Saved: temp_task_folder/img1/001419.jpg\n",
      "1420\n",
      "Saved: temp_task_folder/img1/001420.jpg\n"
     ]
    },
    {
     "name": "stderr",
     "output_type": "stream",
     "text": [
      "\n",
      "0: 1088x1920 1 ball, 23 players, 57.5ms\n",
      "Speed: 6.8ms preprocess, 57.5ms inference, 1.1ms postprocess per image at shape (1, 3, 1088, 1920)\n",
      "\n",
      "0: 1088x1920 1 ball, 23 players, 57.3ms\n",
      "Speed: 6.8ms preprocess, 57.3ms inference, 1.1ms postprocess per image at shape (1, 3, 1088, 1920)\n"
     ]
    },
    {
     "name": "stdout",
     "output_type": "stream",
     "text": [
      "1421\n",
      "Saved: temp_task_folder/img1/001421.jpg\n",
      "1422\n",
      "Saved: temp_task_folder/img1/001422.jpg\n"
     ]
    },
    {
     "name": "stderr",
     "output_type": "stream",
     "text": [
      "\n",
      "0: 1088x1920 1 ball, 23 players, 57.5ms\n",
      "Speed: 6.9ms preprocess, 57.5ms inference, 1.1ms postprocess per image at shape (1, 3, 1088, 1920)\n",
      "\n",
      "0: 1088x1920 1 ball, 23 players, 57.5ms\n",
      "Speed: 6.8ms preprocess, 57.5ms inference, 1.2ms postprocess per image at shape (1, 3, 1088, 1920)\n"
     ]
    },
    {
     "name": "stdout",
     "output_type": "stream",
     "text": [
      "1423\n",
      "Saved: temp_task_folder/img1/001423.jpg\n",
      "1424\n",
      "Saved: temp_task_folder/img1/001424.jpg\n"
     ]
    },
    {
     "name": "stderr",
     "output_type": "stream",
     "text": [
      "\n",
      "0: 1088x1920 1 ball, 23 players, 57.5ms\n",
      "Speed: 6.8ms preprocess, 57.5ms inference, 1.1ms postprocess per image at shape (1, 3, 1088, 1920)\n",
      "\n",
      "0: 1088x1920 1 ball, 23 players, 57.5ms\n",
      "Speed: 6.8ms preprocess, 57.5ms inference, 1.1ms postprocess per image at shape (1, 3, 1088, 1920)\n"
     ]
    },
    {
     "name": "stdout",
     "output_type": "stream",
     "text": [
      "1425\n",
      "Saved: temp_task_folder/img1/001425.jpg\n",
      "1426\n",
      "Saved: temp_task_folder/img1/001426.jpg\n"
     ]
    },
    {
     "name": "stderr",
     "output_type": "stream",
     "text": [
      "\n",
      "0: 1088x1920 1 ball, 24 players, 57.4ms\n",
      "Speed: 6.9ms preprocess, 57.4ms inference, 1.1ms postprocess per image at shape (1, 3, 1088, 1920)\n",
      "\n",
      "0: 1088x1920 1 ball, 23 players, 57.4ms\n",
      "Speed: 6.8ms preprocess, 57.4ms inference, 1.1ms postprocess per image at shape (1, 3, 1088, 1920)\n"
     ]
    },
    {
     "name": "stdout",
     "output_type": "stream",
     "text": [
      "1427\n",
      "Saved: temp_task_folder/img1/001427.jpg\n",
      "1428\n",
      "Saved: temp_task_folder/img1/001428.jpg\n"
     ]
    },
    {
     "name": "stderr",
     "output_type": "stream",
     "text": [
      "\n",
      "0: 1088x1920 2 balls, 23 players, 57.2ms\n",
      "Speed: 6.9ms preprocess, 57.2ms inference, 1.1ms postprocess per image at shape (1, 3, 1088, 1920)\n",
      "\n",
      "0: 1088x1920 1 ball, 24 players, 57.5ms\n",
      "Speed: 6.9ms preprocess, 57.5ms inference, 1.1ms postprocess per image at shape (1, 3, 1088, 1920)\n"
     ]
    },
    {
     "name": "stdout",
     "output_type": "stream",
     "text": [
      "1429\n",
      "Saved: temp_task_folder/img1/001429.jpg\n",
      "1430\n",
      "Saved: temp_task_folder/img1/001430.jpg\n"
     ]
    },
    {
     "name": "stderr",
     "output_type": "stream",
     "text": [
      "\n",
      "0: 1088x1920 1 ball, 24 players, 57.4ms\n",
      "Speed: 6.8ms preprocess, 57.4ms inference, 1.1ms postprocess per image at shape (1, 3, 1088, 1920)\n",
      "\n",
      "0: 1088x1920 1 ball, 23 players, 57.4ms\n",
      "Speed: 6.9ms preprocess, 57.4ms inference, 1.1ms postprocess per image at shape (1, 3, 1088, 1920)\n"
     ]
    },
    {
     "name": "stdout",
     "output_type": "stream",
     "text": [
      "1431\n",
      "Saved: temp_task_folder/img1/001431.jpg\n",
      "1432\n",
      "Saved: temp_task_folder/img1/001432.jpg\n"
     ]
    },
    {
     "name": "stderr",
     "output_type": "stream",
     "text": [
      "\n",
      "0: 1088x1920 1 ball, 23 players, 57.5ms\n",
      "Speed: 6.9ms preprocess, 57.5ms inference, 1.1ms postprocess per image at shape (1, 3, 1088, 1920)\n",
      "\n",
      "0: 1088x1920 1 ball, 23 players, 57.4ms\n",
      "Speed: 6.8ms preprocess, 57.4ms inference, 1.1ms postprocess per image at shape (1, 3, 1088, 1920)\n"
     ]
    },
    {
     "name": "stdout",
     "output_type": "stream",
     "text": [
      "1433\n",
      "Saved: temp_task_folder/img1/001433.jpg\n",
      "1434\n",
      "Saved: temp_task_folder/img1/001434.jpg\n"
     ]
    },
    {
     "name": "stderr",
     "output_type": "stream",
     "text": [
      "\n",
      "0: 1088x1920 1 ball, 23 players, 57.3ms\n",
      "Speed: 6.9ms preprocess, 57.3ms inference, 1.1ms postprocess per image at shape (1, 3, 1088, 1920)\n",
      "\n",
      "0: 1088x1920 1 ball, 23 players, 57.4ms\n",
      "Speed: 6.8ms preprocess, 57.4ms inference, 1.1ms postprocess per image at shape (1, 3, 1088, 1920)\n"
     ]
    },
    {
     "name": "stdout",
     "output_type": "stream",
     "text": [
      "1435\n",
      "Saved: temp_task_folder/img1/001435.jpg\n",
      "1436\n",
      "Saved: temp_task_folder/img1/001436.jpg\n"
     ]
    },
    {
     "name": "stderr",
     "output_type": "stream",
     "text": [
      "\n",
      "0: 1088x1920 1 ball, 23 players, 57.3ms\n",
      "Speed: 6.9ms preprocess, 57.3ms inference, 1.1ms postprocess per image at shape (1, 3, 1088, 1920)\n",
      "\n",
      "0: 1088x1920 1 ball, 23 players, 57.4ms\n",
      "Speed: 6.9ms preprocess, 57.4ms inference, 1.1ms postprocess per image at shape (1, 3, 1088, 1920)\n"
     ]
    },
    {
     "name": "stdout",
     "output_type": "stream",
     "text": [
      "1437\n",
      "Saved: temp_task_folder/img1/001437.jpg\n",
      "1438\n",
      "Saved: temp_task_folder/img1/001438.jpg\n"
     ]
    },
    {
     "name": "stderr",
     "output_type": "stream",
     "text": [
      "\n",
      "0: 1088x1920 1 ball, 23 players, 57.5ms\n",
      "Speed: 6.8ms preprocess, 57.5ms inference, 1.1ms postprocess per image at shape (1, 3, 1088, 1920)\n",
      "\n",
      "0: 1088x1920 1 ball, 23 players, 57.3ms\n",
      "Speed: 6.9ms preprocess, 57.3ms inference, 1.1ms postprocess per image at shape (1, 3, 1088, 1920)\n"
     ]
    },
    {
     "name": "stdout",
     "output_type": "stream",
     "text": [
      "1439\n",
      "Saved: temp_task_folder/img1/001439.jpg\n",
      "1440\n",
      "Saved: temp_task_folder/img1/001440.jpg\n"
     ]
    },
    {
     "name": "stderr",
     "output_type": "stream",
     "text": [
      "\n",
      "0: 1088x1920 1 ball, 23 players, 57.4ms\n",
      "Speed: 6.8ms preprocess, 57.4ms inference, 1.1ms postprocess per image at shape (1, 3, 1088, 1920)\n",
      "\n",
      "0: 1088x1920 23 players, 57.5ms\n",
      "Speed: 7.3ms preprocess, 57.5ms inference, 1.1ms postprocess per image at shape (1, 3, 1088, 1920)\n"
     ]
    },
    {
     "name": "stdout",
     "output_type": "stream",
     "text": [
      "1441\n",
      "Saved: temp_task_folder/img1/001441.jpg\n",
      "1442\n"
     ]
    },
    {
     "name": "stderr",
     "output_type": "stream",
     "text": [
      "\n",
      "0: 1088x1920 23 players, 57.4ms\n",
      "Speed: 6.8ms preprocess, 57.4ms inference, 1.1ms postprocess per image at shape (1, 3, 1088, 1920)\n"
     ]
    },
    {
     "name": "stdout",
     "output_type": "stream",
     "text": [
      "Saved: temp_task_folder/img1/001442.jpg\n",
      "1443\n",
      "Saved: temp_task_folder/img1/001443.jpg\n"
     ]
    },
    {
     "name": "stderr",
     "output_type": "stream",
     "text": [
      "\n",
      "0: 1088x1920 23 players, 57.3ms\n",
      "Speed: 6.8ms preprocess, 57.3ms inference, 1.1ms postprocess per image at shape (1, 3, 1088, 1920)\n",
      "\n",
      "0: 1088x1920 23 players, 57.4ms\n",
      "Speed: 7.2ms preprocess, 57.4ms inference, 1.1ms postprocess per image at shape (1, 3, 1088, 1920)\n"
     ]
    },
    {
     "name": "stdout",
     "output_type": "stream",
     "text": [
      "1444\n",
      "Saved: temp_task_folder/img1/001444.jpg\n",
      "1445\n",
      "Saved: temp_task_folder/img1/001445.jpg\n"
     ]
    },
    {
     "name": "stderr",
     "output_type": "stream",
     "text": [
      "\n",
      "0: 1088x1920 23 players, 57.4ms\n",
      "Speed: 7.3ms preprocess, 57.4ms inference, 1.1ms postprocess per image at shape (1, 3, 1088, 1920)\n",
      "\n",
      "0: 1088x1920 23 players, 57.3ms\n",
      "Speed: 6.9ms preprocess, 57.3ms inference, 1.1ms postprocess per image at shape (1, 3, 1088, 1920)\n"
     ]
    },
    {
     "name": "stdout",
     "output_type": "stream",
     "text": [
      "1446\n",
      "Saved: temp_task_folder/img1/001446.jpg\n",
      "1447\n",
      "Saved: temp_task_folder/img1/001447.jpg\n"
     ]
    },
    {
     "name": "stderr",
     "output_type": "stream",
     "text": [
      "\n",
      "0: 1088x1920 23 players, 57.3ms\n",
      "Speed: 7.2ms preprocess, 57.3ms inference, 1.1ms postprocess per image at shape (1, 3, 1088, 1920)\n",
      "\n",
      "0: 1088x1920 23 players, 57.6ms\n",
      "Speed: 7.3ms preprocess, 57.6ms inference, 1.4ms postprocess per image at shape (1, 3, 1088, 1920)\n"
     ]
    },
    {
     "name": "stdout",
     "output_type": "stream",
     "text": [
      "1448\n",
      "Saved: temp_task_folder/img1/001448.jpg\n",
      "1449\n"
     ]
    },
    {
     "name": "stderr",
     "output_type": "stream",
     "text": [
      "\n",
      "0: 1088x1920 22 players, 57.5ms\n",
      "Speed: 8.0ms preprocess, 57.5ms inference, 1.1ms postprocess per image at shape (1, 3, 1088, 1920)\n"
     ]
    },
    {
     "name": "stdout",
     "output_type": "stream",
     "text": [
      "Saved: temp_task_folder/img1/001449.jpg\n",
      "1450\n",
      "Saved: temp_task_folder/img1/001450.jpg\n"
     ]
    },
    {
     "name": "stderr",
     "output_type": "stream",
     "text": [
      "\n",
      "0: 1088x1920 22 players, 57.1ms\n",
      "Speed: 7.3ms preprocess, 57.1ms inference, 1.1ms postprocess per image at shape (1, 3, 1088, 1920)\n",
      "\n",
      "0: 1088x1920 22 players, 57.4ms\n",
      "Speed: 6.8ms preprocess, 57.4ms inference, 1.1ms postprocess per image at shape (1, 3, 1088, 1920)\n"
     ]
    },
    {
     "name": "stdout",
     "output_type": "stream",
     "text": [
      "1451\n",
      "Saved: temp_task_folder/img1/001451.jpg\n",
      "1452\n",
      "Saved: temp_task_folder/img1/001452.jpg\n"
     ]
    },
    {
     "name": "stderr",
     "output_type": "stream",
     "text": [
      "\n",
      "0: 1088x1920 23 players, 57.4ms\n",
      "Speed: 6.9ms preprocess, 57.4ms inference, 1.1ms postprocess per image at shape (1, 3, 1088, 1920)\n",
      "\n",
      "0: 1088x1920 1 ball, 22 players, 57.5ms\n",
      "Speed: 7.2ms preprocess, 57.5ms inference, 1.1ms postprocess per image at shape (1, 3, 1088, 1920)\n"
     ]
    },
    {
     "name": "stdout",
     "output_type": "stream",
     "text": [
      "1453\n",
      "Saved: temp_task_folder/img1/001453.jpg\n",
      "1454\n",
      "Saved: temp_task_folder/img1/001454.jpg\n"
     ]
    },
    {
     "name": "stderr",
     "output_type": "stream",
     "text": [
      "\n",
      "0: 1088x1920 1 ball, 22 players, 57.4ms\n",
      "Speed: 7.2ms preprocess, 57.4ms inference, 1.1ms postprocess per image at shape (1, 3, 1088, 1920)\n",
      "\n",
      "0: 1088x1920 1 ball, 22 players, 57.4ms\n",
      "Speed: 6.9ms preprocess, 57.4ms inference, 1.1ms postprocess per image at shape (1, 3, 1088, 1920)\n"
     ]
    },
    {
     "name": "stdout",
     "output_type": "stream",
     "text": [
      "1455\n",
      "Saved: temp_task_folder/img1/001455.jpg\n",
      "1456\n",
      "Saved: temp_task_folder/img1/001456.jpg\n"
     ]
    },
    {
     "name": "stderr",
     "output_type": "stream",
     "text": [
      "\n",
      "0: 1088x1920 1 ball, 22 players, 57.4ms\n",
      "Speed: 7.3ms preprocess, 57.4ms inference, 1.1ms postprocess per image at shape (1, 3, 1088, 1920)\n",
      "\n",
      "0: 1088x1920 23 players, 57.3ms\n",
      "Speed: 7.2ms preprocess, 57.3ms inference, 1.1ms postprocess per image at shape (1, 3, 1088, 1920)\n"
     ]
    },
    {
     "name": "stdout",
     "output_type": "stream",
     "text": [
      "1457\n",
      "Saved: temp_task_folder/img1/001457.jpg\n",
      "1458\n",
      "Saved: temp_task_folder/img1/001458.jpg\n"
     ]
    },
    {
     "name": "stderr",
     "output_type": "stream",
     "text": [
      "\n",
      "0: 1088x1920 22 players, 57.4ms\n",
      "Speed: 7.3ms preprocess, 57.4ms inference, 1.1ms postprocess per image at shape (1, 3, 1088, 1920)\n",
      "\n",
      "0: 1088x1920 1 ball, 22 players, 57.2ms\n",
      "Speed: 6.9ms preprocess, 57.2ms inference, 1.1ms postprocess per image at shape (1, 3, 1088, 1920)\n"
     ]
    },
    {
     "name": "stdout",
     "output_type": "stream",
     "text": [
      "1459\n",
      "Saved: temp_task_folder/img1/001459.jpg\n",
      "1460\n",
      "Saved: temp_task_folder/img1/001460.jpg\n"
     ]
    },
    {
     "name": "stderr",
     "output_type": "stream",
     "text": [
      "\n",
      "0: 1088x1920 1 ball, 22 players, 57.5ms\n",
      "Speed: 6.8ms preprocess, 57.5ms inference, 1.1ms postprocess per image at shape (1, 3, 1088, 1920)\n",
      "\n",
      "0: 1088x1920 1 ball, 23 players, 57.5ms\n",
      "Speed: 6.9ms preprocess, 57.5ms inference, 1.1ms postprocess per image at shape (1, 3, 1088, 1920)\n"
     ]
    },
    {
     "name": "stdout",
     "output_type": "stream",
     "text": [
      "1461\n",
      "Saved: temp_task_folder/img1/001461.jpg\n",
      "1462\n",
      "Saved: temp_task_folder/img1/001462.jpg\n"
     ]
    },
    {
     "name": "stderr",
     "output_type": "stream",
     "text": [
      "\n",
      "0: 1088x1920 1 ball, 22 players, 57.4ms\n",
      "Speed: 7.3ms preprocess, 57.4ms inference, 1.1ms postprocess per image at shape (1, 3, 1088, 1920)\n",
      "\n",
      "0: 1088x1920 1 ball, 22 players, 57.4ms\n",
      "Speed: 7.2ms preprocess, 57.4ms inference, 1.1ms postprocess per image at shape (1, 3, 1088, 1920)\n"
     ]
    },
    {
     "name": "stdout",
     "output_type": "stream",
     "text": [
      "1463\n",
      "Saved: temp_task_folder/img1/001463.jpg\n",
      "1464\n",
      "Saved: temp_task_folder/img1/001464.jpg\n"
     ]
    },
    {
     "name": "stderr",
     "output_type": "stream",
     "text": [
      "\n",
      "0: 1088x1920 1 ball, 22 players, 57.5ms\n",
      "Speed: 7.3ms preprocess, 57.5ms inference, 1.1ms postprocess per image at shape (1, 3, 1088, 1920)\n",
      "\n",
      "0: 1088x1920 1 ball, 22 players, 57.4ms\n",
      "Speed: 7.2ms preprocess, 57.4ms inference, 1.1ms postprocess per image at shape (1, 3, 1088, 1920)\n"
     ]
    },
    {
     "name": "stdout",
     "output_type": "stream",
     "text": [
      "1465\n",
      "Saved: temp_task_folder/img1/001465.jpg\n",
      "1466\n",
      "Saved: temp_task_folder/img1/001466.jpg\n"
     ]
    },
    {
     "name": "stderr",
     "output_type": "stream",
     "text": [
      "\n",
      "0: 1088x1920 22 players, 57.5ms\n",
      "Speed: 7.2ms preprocess, 57.5ms inference, 1.1ms postprocess per image at shape (1, 3, 1088, 1920)\n",
      "\n",
      "0: 1088x1920 1 ball, 23 players, 57.4ms\n",
      "Speed: 7.3ms preprocess, 57.4ms inference, 1.1ms postprocess per image at shape (1, 3, 1088, 1920)\n"
     ]
    },
    {
     "name": "stdout",
     "output_type": "stream",
     "text": [
      "1467\n",
      "Saved: temp_task_folder/img1/001467.jpg\n",
      "1468\n",
      "Saved: temp_task_folder/img1/001468.jpg\n"
     ]
    },
    {
     "name": "stderr",
     "output_type": "stream",
     "text": [
      "\n",
      "0: 1088x1920 1 ball, 22 players, 57.5ms\n",
      "Speed: 7.3ms preprocess, 57.5ms inference, 1.1ms postprocess per image at shape (1, 3, 1088, 1920)\n",
      "\n",
      "0: 1088x1920 1 ball, 22 players, 57.5ms\n",
      "Speed: 7.3ms preprocess, 57.5ms inference, 1.1ms postprocess per image at shape (1, 3, 1088, 1920)\n"
     ]
    },
    {
     "name": "stdout",
     "output_type": "stream",
     "text": [
      "1469\n",
      "Saved: temp_task_folder/img1/001469.jpg\n",
      "1470\n",
      "Saved: temp_task_folder/img1/001470.jpg\n"
     ]
    },
    {
     "name": "stderr",
     "output_type": "stream",
     "text": [
      "\n",
      "0: 1088x1920 1 ball, 22 players, 57.5ms\n",
      "Speed: 7.3ms preprocess, 57.5ms inference, 1.1ms postprocess per image at shape (1, 3, 1088, 1920)\n",
      "\n",
      "0: 1088x1920 1 ball, 22 players, 57.1ms\n",
      "Speed: 7.2ms preprocess, 57.1ms inference, 1.1ms postprocess per image at shape (1, 3, 1088, 1920)\n"
     ]
    },
    {
     "name": "stdout",
     "output_type": "stream",
     "text": [
      "1471\n",
      "Saved: temp_task_folder/img1/001471.jpg\n",
      "1472\n",
      "Saved: temp_task_folder/img1/001472.jpg\n"
     ]
    },
    {
     "name": "stderr",
     "output_type": "stream",
     "text": [
      "\n",
      "0: 1088x1920 1 ball, 22 players, 57.4ms\n",
      "Speed: 7.3ms preprocess, 57.4ms inference, 1.1ms postprocess per image at shape (1, 3, 1088, 1920)\n",
      "\n",
      "0: 1088x1920 1 ball, 22 players, 57.5ms\n",
      "Speed: 7.2ms preprocess, 57.5ms inference, 1.1ms postprocess per image at shape (1, 3, 1088, 1920)\n"
     ]
    },
    {
     "name": "stdout",
     "output_type": "stream",
     "text": [
      "1473\n",
      "Saved: temp_task_folder/img1/001473.jpg\n",
      "1474\n",
      "Saved: temp_task_folder/img1/001474.jpg\n"
     ]
    },
    {
     "name": "stderr",
     "output_type": "stream",
     "text": [
      "\n",
      "0: 1088x1920 1 ball, 22 players, 57.3ms\n",
      "Speed: 7.4ms preprocess, 57.3ms inference, 1.2ms postprocess per image at shape (1, 3, 1088, 1920)\n",
      "\n",
      "0: 1088x1920 1 ball, 22 players, 57.4ms\n",
      "Speed: 7.2ms preprocess, 57.4ms inference, 1.1ms postprocess per image at shape (1, 3, 1088, 1920)\n"
     ]
    },
    {
     "name": "stdout",
     "output_type": "stream",
     "text": [
      "1475\n",
      "Saved: temp_task_folder/img1/001475.jpg\n",
      "1476\n",
      "Saved: temp_task_folder/img1/001476.jpg\n"
     ]
    },
    {
     "name": "stderr",
     "output_type": "stream",
     "text": [
      "\n",
      "0: 1088x1920 1 ball, 22 players, 57.4ms\n",
      "Speed: 7.3ms preprocess, 57.4ms inference, 1.1ms postprocess per image at shape (1, 3, 1088, 1920)\n",
      "\n",
      "0: 1088x1920 1 ball, 21 players, 57.5ms\n",
      "Speed: 7.2ms preprocess, 57.5ms inference, 1.1ms postprocess per image at shape (1, 3, 1088, 1920)\n"
     ]
    },
    {
     "name": "stdout",
     "output_type": "stream",
     "text": [
      "1477\n",
      "Saved: temp_task_folder/img1/001477.jpg\n",
      "1478\n",
      "Saved: temp_task_folder/img1/001478.jpg\n"
     ]
    },
    {
     "name": "stderr",
     "output_type": "stream",
     "text": [
      "\n",
      "0: 1088x1920 1 ball, 21 players, 57.5ms\n",
      "Speed: 7.2ms preprocess, 57.5ms inference, 1.1ms postprocess per image at shape (1, 3, 1088, 1920)\n",
      "\n",
      "0: 1088x1920 1 ball, 21 players, 57.4ms\n",
      "Speed: 7.2ms preprocess, 57.4ms inference, 1.1ms postprocess per image at shape (1, 3, 1088, 1920)\n"
     ]
    },
    {
     "name": "stdout",
     "output_type": "stream",
     "text": [
      "1479\n",
      "Saved: temp_task_folder/img1/001479.jpg\n",
      "1480\n",
      "Saved: temp_task_folder/img1/001480.jpg\n"
     ]
    },
    {
     "name": "stderr",
     "output_type": "stream",
     "text": [
      "\n",
      "0: 1088x1920 1 ball, 21 players, 57.5ms\n",
      "Speed: 7.3ms preprocess, 57.5ms inference, 1.1ms postprocess per image at shape (1, 3, 1088, 1920)\n",
      "\n",
      "0: 1088x1920 1 ball, 21 players, 57.4ms\n",
      "Speed: 7.2ms preprocess, 57.4ms inference, 1.1ms postprocess per image at shape (1, 3, 1088, 1920)\n"
     ]
    },
    {
     "name": "stdout",
     "output_type": "stream",
     "text": [
      "1481\n",
      "Saved: temp_task_folder/img1/001481.jpg\n",
      "1482\n",
      "Saved: temp_task_folder/img1/001482.jpg\n"
     ]
    },
    {
     "name": "stderr",
     "output_type": "stream",
     "text": [
      "\n",
      "0: 1088x1920 1 ball, 22 players, 57.2ms\n",
      "Speed: 6.9ms preprocess, 57.2ms inference, 1.1ms postprocess per image at shape (1, 3, 1088, 1920)\n",
      "\n",
      "0: 1088x1920 1 ball, 22 players, 57.5ms\n",
      "Speed: 7.2ms preprocess, 57.5ms inference, 1.1ms postprocess per image at shape (1, 3, 1088, 1920)\n"
     ]
    },
    {
     "name": "stdout",
     "output_type": "stream",
     "text": [
      "1483\n",
      "Saved: temp_task_folder/img1/001483.jpg\n",
      "1484\n",
      "Saved: temp_task_folder/img1/001484.jpg\n"
     ]
    },
    {
     "name": "stderr",
     "output_type": "stream",
     "text": [
      "\n",
      "0: 1088x1920 1 ball, 22 players, 57.5ms\n",
      "Speed: 7.3ms preprocess, 57.5ms inference, 1.1ms postprocess per image at shape (1, 3, 1088, 1920)\n",
      "\n",
      "0: 1088x1920 1 ball, 22 players, 57.5ms\n",
      "Speed: 7.2ms preprocess, 57.5ms inference, 1.1ms postprocess per image at shape (1, 3, 1088, 1920)\n"
     ]
    },
    {
     "name": "stdout",
     "output_type": "stream",
     "text": [
      "1485\n",
      "Saved: temp_task_folder/img1/001485.jpg\n",
      "1486\n",
      "Saved: temp_task_folder/img1/001486.jpg\n"
     ]
    },
    {
     "name": "stderr",
     "output_type": "stream",
     "text": [
      "\n",
      "0: 1088x1920 1 ball, 22 players, 57.2ms\n",
      "Speed: 7.2ms preprocess, 57.2ms inference, 1.1ms postprocess per image at shape (1, 3, 1088, 1920)\n",
      "\n",
      "0: 1088x1920 1 ball, 22 players, 57.4ms\n",
      "Speed: 7.0ms preprocess, 57.4ms inference, 1.1ms postprocess per image at shape (1, 3, 1088, 1920)\n"
     ]
    },
    {
     "name": "stdout",
     "output_type": "stream",
     "text": [
      "1487\n",
      "Saved: temp_task_folder/img1/001487.jpg\n",
      "1488\n",
      "Saved: temp_task_folder/img1/001488.jpg\n"
     ]
    },
    {
     "name": "stderr",
     "output_type": "stream",
     "text": [
      "\n",
      "0: 1088x1920 1 ball, 22 players, 57.2ms\n",
      "Speed: 7.3ms preprocess, 57.2ms inference, 1.1ms postprocess per image at shape (1, 3, 1088, 1920)\n",
      "\n",
      "0: 1088x1920 1 ball, 22 players, 57.4ms\n",
      "Speed: 7.2ms preprocess, 57.4ms inference, 1.1ms postprocess per image at shape (1, 3, 1088, 1920)\n"
     ]
    },
    {
     "name": "stdout",
     "output_type": "stream",
     "text": [
      "1489\n",
      "Saved: temp_task_folder/img1/001489.jpg\n",
      "1490\n",
      "Saved: temp_task_folder/img1/001490.jpg\n"
     ]
    },
    {
     "name": "stderr",
     "output_type": "stream",
     "text": [
      "\n",
      "0: 1088x1920 1 ball, 22 players, 57.5ms\n",
      "Speed: 7.3ms preprocess, 57.5ms inference, 1.1ms postprocess per image at shape (1, 3, 1088, 1920)\n",
      "\n",
      "0: 1088x1920 1 ball, 22 players, 57.4ms\n",
      "Speed: 7.2ms preprocess, 57.4ms inference, 1.1ms postprocess per image at shape (1, 3, 1088, 1920)\n"
     ]
    },
    {
     "name": "stdout",
     "output_type": "stream",
     "text": [
      "1491\n",
      "Saved: temp_task_folder/img1/001491.jpg\n",
      "1492\n",
      "Saved: temp_task_folder/img1/001492.jpg\n"
     ]
    },
    {
     "name": "stderr",
     "output_type": "stream",
     "text": [
      "\n",
      "0: 1088x1920 1 ball, 22 players, 57.4ms\n",
      "Speed: 7.3ms preprocess, 57.4ms inference, 1.1ms postprocess per image at shape (1, 3, 1088, 1920)\n",
      "\n",
      "0: 1088x1920 1 ball, 22 players, 57.4ms\n",
      "Speed: 6.8ms preprocess, 57.4ms inference, 1.1ms postprocess per image at shape (1, 3, 1088, 1920)\n"
     ]
    },
    {
     "name": "stdout",
     "output_type": "stream",
     "text": [
      "1493\n",
      "Saved: temp_task_folder/img1/001493.jpg\n",
      "1494\n",
      "Saved: temp_task_folder/img1/001494.jpg\n"
     ]
    },
    {
     "name": "stderr",
     "output_type": "stream",
     "text": [
      "\n",
      "0: 1088x1920 1 ball, 22 players, 57.2ms\n",
      "Speed: 7.2ms preprocess, 57.2ms inference, 1.1ms postprocess per image at shape (1, 3, 1088, 1920)\n",
      "\n",
      "0: 1088x1920 1 ball, 22 players, 57.5ms\n",
      "Speed: 7.2ms preprocess, 57.5ms inference, 1.1ms postprocess per image at shape (1, 3, 1088, 1920)\n"
     ]
    },
    {
     "name": "stdout",
     "output_type": "stream",
     "text": [
      "1495\n",
      "Saved: temp_task_folder/img1/001495.jpg\n",
      "1496\n",
      "Saved: temp_task_folder/img1/001496.jpg\n"
     ]
    },
    {
     "name": "stderr",
     "output_type": "stream",
     "text": [
      "\n",
      "0: 1088x1920 1 ball, 22 players, 57.4ms\n",
      "Speed: 7.3ms preprocess, 57.4ms inference, 1.1ms postprocess per image at shape (1, 3, 1088, 1920)\n",
      "\n",
      "0: 1088x1920 1 ball, 22 players, 57.4ms\n",
      "Speed: 7.2ms preprocess, 57.4ms inference, 1.1ms postprocess per image at shape (1, 3, 1088, 1920)\n"
     ]
    },
    {
     "name": "stdout",
     "output_type": "stream",
     "text": [
      "1497\n",
      "Saved: temp_task_folder/img1/001497.jpg\n",
      "1498\n",
      "Saved: temp_task_folder/img1/001498.jpg\n"
     ]
    },
    {
     "name": "stderr",
     "output_type": "stream",
     "text": [
      "\n",
      "0: 1088x1920 1 ball, 22 players, 57.5ms\n",
      "Speed: 7.2ms preprocess, 57.5ms inference, 1.1ms postprocess per image at shape (1, 3, 1088, 1920)\n",
      "\n",
      "0: 1088x1920 1 ball, 22 players, 57.7ms\n",
      "Speed: 7.3ms preprocess, 57.7ms inference, 1.2ms postprocess per image at shape (1, 3, 1088, 1920)\n"
     ]
    },
    {
     "name": "stdout",
     "output_type": "stream",
     "text": [
      "1499\n",
      "Saved: temp_task_folder/img1/001499.jpg\n",
      "1500\n",
      "Saved: temp_task_folder/img1/001500.jpg\n"
     ]
    },
    {
     "name": "stderr",
     "output_type": "stream",
     "text": [
      "\n",
      "0: 1088x1920 1 ball, 22 players, 57.4ms\n",
      "Speed: 7.3ms preprocess, 57.4ms inference, 1.1ms postprocess per image at shape (1, 3, 1088, 1920)\n",
      "\n",
      "0: 1088x1920 1 ball, 22 players, 57.2ms\n",
      "Speed: 7.2ms preprocess, 57.2ms inference, 1.1ms postprocess per image at shape (1, 3, 1088, 1920)\n"
     ]
    },
    {
     "name": "stdout",
     "output_type": "stream",
     "text": [
      "1501\n",
      "Saved: temp_task_folder/img1/001501.jpg\n",
      "1502\n"
     ]
    },
    {
     "name": "stderr",
     "output_type": "stream",
     "text": [
      "\n",
      "0: 1088x1920 1 ball, 22 players, 57.4ms\n",
      "Speed: 7.2ms preprocess, 57.4ms inference, 1.1ms postprocess per image at shape (1, 3, 1088, 1920)\n"
     ]
    },
    {
     "name": "stdout",
     "output_type": "stream",
     "text": [
      "Saved: temp_task_folder/img1/001502.jpg\n",
      "1503\n",
      "Saved: temp_task_folder/img1/001503.jpg\n"
     ]
    },
    {
     "name": "stderr",
     "output_type": "stream",
     "text": [
      "\n",
      "0: 1088x1920 1 ball, 22 players, 57.5ms\n",
      "Speed: 7.3ms preprocess, 57.5ms inference, 1.1ms postprocess per image at shape (1, 3, 1088, 1920)\n",
      "\n",
      "0: 1088x1920 1 ball, 22 players, 57.2ms\n",
      "Speed: 7.3ms preprocess, 57.2ms inference, 1.1ms postprocess per image at shape (1, 3, 1088, 1920)\n"
     ]
    },
    {
     "name": "stdout",
     "output_type": "stream",
     "text": [
      "1504\n",
      "Saved: temp_task_folder/img1/001504.jpg\n",
      "1505\n",
      "Saved: temp_task_folder/img1/001505.jpg\n"
     ]
    },
    {
     "name": "stderr",
     "output_type": "stream",
     "text": [
      "\n",
      "0: 1088x1920 1 ball, 22 players, 57.5ms\n",
      "Speed: 7.2ms preprocess, 57.5ms inference, 1.1ms postprocess per image at shape (1, 3, 1088, 1920)\n",
      "\n",
      "0: 1088x1920 1 ball, 22 players, 57.3ms\n",
      "Speed: 7.2ms preprocess, 57.3ms inference, 1.1ms postprocess per image at shape (1, 3, 1088, 1920)\n"
     ]
    },
    {
     "name": "stdout",
     "output_type": "stream",
     "text": [
      "1506\n",
      "Saved: temp_task_folder/img1/001506.jpg\n",
      "1507\n",
      "Saved: temp_task_folder/img1/001507.jpg\n"
     ]
    },
    {
     "name": "stderr",
     "output_type": "stream",
     "text": [
      "\n",
      "0: 1088x1920 1 ball, 22 players, 57.3ms\n",
      "Speed: 7.2ms preprocess, 57.3ms inference, 1.1ms postprocess per image at shape (1, 3, 1088, 1920)\n",
      "\n",
      "0: 1088x1920 1 ball, 22 players, 57.4ms\n",
      "Speed: 7.3ms preprocess, 57.4ms inference, 1.1ms postprocess per image at shape (1, 3, 1088, 1920)\n"
     ]
    },
    {
     "name": "stdout",
     "output_type": "stream",
     "text": [
      "1508\n",
      "Saved: temp_task_folder/img1/001508.jpg\n",
      "1509\n",
      "Saved: temp_task_folder/img1/001509.jpg\n"
     ]
    },
    {
     "name": "stderr",
     "output_type": "stream",
     "text": [
      "\n",
      "0: 1088x1920 1 ball, 22 players, 57.2ms\n",
      "Speed: 7.2ms preprocess, 57.2ms inference, 1.1ms postprocess per image at shape (1, 3, 1088, 1920)\n",
      "\n",
      "0: 1088x1920 1 ball, 22 players, 57.5ms\n",
      "Speed: 7.2ms preprocess, 57.5ms inference, 1.1ms postprocess per image at shape (1, 3, 1088, 1920)\n"
     ]
    },
    {
     "name": "stdout",
     "output_type": "stream",
     "text": [
      "1510\n",
      "Saved: temp_task_folder/img1/001510.jpg\n",
      "1511\n",
      "Saved: temp_task_folder/img1/001511.jpg\n"
     ]
    },
    {
     "name": "stderr",
     "output_type": "stream",
     "text": [
      "\n",
      "0: 1088x1920 1 ball, 22 players, 57.3ms\n",
      "Speed: 7.3ms preprocess, 57.3ms inference, 1.1ms postprocess per image at shape (1, 3, 1088, 1920)\n",
      "\n",
      "0: 1088x1920 1 ball, 22 players, 57.3ms\n",
      "Speed: 7.3ms preprocess, 57.3ms inference, 1.1ms postprocess per image at shape (1, 3, 1088, 1920)\n"
     ]
    },
    {
     "name": "stdout",
     "output_type": "stream",
     "text": [
      "1512\n",
      "Saved: temp_task_folder/img1/001512.jpg\n",
      "1513\n",
      "Saved: temp_task_folder/img1/001513.jpg\n"
     ]
    },
    {
     "name": "stderr",
     "output_type": "stream",
     "text": [
      "\n",
      "0: 1088x1920 1 ball, 22 players, 57.5ms\n",
      "Speed: 7.3ms preprocess, 57.5ms inference, 1.1ms postprocess per image at shape (1, 3, 1088, 1920)\n",
      "\n",
      "0: 1088x1920 1 ball, 22 players, 57.4ms\n",
      "Speed: 7.2ms preprocess, 57.4ms inference, 1.1ms postprocess per image at shape (1, 3, 1088, 1920)\n"
     ]
    },
    {
     "name": "stdout",
     "output_type": "stream",
     "text": [
      "1514\n",
      "Saved: temp_task_folder/img1/001514.jpg\n",
      "1515\n",
      "Saved: temp_task_folder/img1/001515.jpg\n"
     ]
    },
    {
     "name": "stderr",
     "output_type": "stream",
     "text": [
      "\n",
      "0: 1088x1920 1 ball, 22 players, 57.4ms\n",
      "Speed: 6.8ms preprocess, 57.4ms inference, 1.1ms postprocess per image at shape (1, 3, 1088, 1920)\n",
      "\n",
      "0: 1088x1920 1 ball, 22 players, 57.4ms\n",
      "Speed: 6.9ms preprocess, 57.4ms inference, 1.1ms postprocess per image at shape (1, 3, 1088, 1920)\n"
     ]
    },
    {
     "name": "stdout",
     "output_type": "stream",
     "text": [
      "1516\n",
      "Saved: temp_task_folder/img1/001516.jpg\n",
      "1517\n",
      "Saved: temp_task_folder/img1/001517.jpg\n"
     ]
    },
    {
     "name": "stderr",
     "output_type": "stream",
     "text": [
      "\n",
      "0: 1088x1920 1 ball, 23 players, 57.3ms\n",
      "Speed: 7.2ms preprocess, 57.3ms inference, 1.1ms postprocess per image at shape (1, 3, 1088, 1920)\n",
      "\n",
      "0: 1088x1920 1 ball, 22 players, 57.3ms\n",
      "Speed: 7.3ms preprocess, 57.3ms inference, 1.1ms postprocess per image at shape (1, 3, 1088, 1920)\n"
     ]
    },
    {
     "name": "stdout",
     "output_type": "stream",
     "text": [
      "1518\n",
      "Saved: temp_task_folder/img1/001518.jpg\n",
      "1519\n",
      "Saved: temp_task_folder/img1/001519.jpg\n"
     ]
    },
    {
     "name": "stderr",
     "output_type": "stream",
     "text": [
      "\n",
      "0: 1088x1920 1 ball, 22 players, 57.2ms\n",
      "Speed: 7.3ms preprocess, 57.2ms inference, 1.1ms postprocess per image at shape (1, 3, 1088, 1920)\n",
      "\n",
      "0: 1088x1920 1 ball, 22 players, 57.5ms\n",
      "Speed: 7.3ms preprocess, 57.5ms inference, 1.1ms postprocess per image at shape (1, 3, 1088, 1920)\n"
     ]
    },
    {
     "name": "stdout",
     "output_type": "stream",
     "text": [
      "1520\n",
      "Saved: temp_task_folder/img1/001520.jpg\n",
      "1521\n",
      "Saved: temp_task_folder/img1/001521.jpg\n"
     ]
    },
    {
     "name": "stderr",
     "output_type": "stream",
     "text": [
      "\n",
      "0: 1088x1920 1 ball, 22 players, 57.1ms\n",
      "Speed: 7.2ms preprocess, 57.1ms inference, 1.1ms postprocess per image at shape (1, 3, 1088, 1920)\n",
      "\n",
      "0: 1088x1920 1 ball, 22 players, 57.3ms\n",
      "Speed: 7.2ms preprocess, 57.3ms inference, 1.1ms postprocess per image at shape (1, 3, 1088, 1920)\n"
     ]
    },
    {
     "name": "stdout",
     "output_type": "stream",
     "text": [
      "1522\n",
      "Saved: temp_task_folder/img1/001522.jpg\n",
      "1523\n",
      "Saved: temp_task_folder/img1/001523.jpg\n"
     ]
    },
    {
     "name": "stderr",
     "output_type": "stream",
     "text": [
      "\n",
      "0: 1088x1920 1 ball, 22 players, 57.4ms\n",
      "Speed: 6.8ms preprocess, 57.4ms inference, 1.1ms postprocess per image at shape (1, 3, 1088, 1920)\n",
      "\n",
      "0: 1088x1920 1 ball, 22 players, 57.4ms\n",
      "Speed: 6.8ms preprocess, 57.4ms inference, 1.3ms postprocess per image at shape (1, 3, 1088, 1920)\n"
     ]
    },
    {
     "name": "stdout",
     "output_type": "stream",
     "text": [
      "1524\n",
      "Saved: temp_task_folder/img1/001524.jpg\n",
      "1525\n",
      "Saved: temp_task_folder/img1/001525.jpg\n"
     ]
    },
    {
     "name": "stderr",
     "output_type": "stream",
     "text": [
      "\n",
      "0: 1088x1920 1 ball, 22 players, 57.5ms\n",
      "Speed: 7.3ms preprocess, 57.5ms inference, 1.1ms postprocess per image at shape (1, 3, 1088, 1920)\n",
      "\n",
      "0: 1088x1920 1 ball, 22 players, 57.4ms\n",
      "Speed: 7.2ms preprocess, 57.4ms inference, 1.1ms postprocess per image at shape (1, 3, 1088, 1920)\n"
     ]
    },
    {
     "name": "stdout",
     "output_type": "stream",
     "text": [
      "1526\n",
      "Saved: temp_task_folder/img1/001526.jpg\n",
      "1527\n"
     ]
    },
    {
     "name": "stderr",
     "output_type": "stream",
     "text": [
      "\n",
      "0: 1088x1920 1 ball, 22 players, 57.5ms\n",
      "Speed: 7.3ms preprocess, 57.5ms inference, 1.1ms postprocess per image at shape (1, 3, 1088, 1920)\n"
     ]
    },
    {
     "name": "stdout",
     "output_type": "stream",
     "text": [
      "Saved: temp_task_folder/img1/001527.jpg\n",
      "1528\n",
      "Saved: temp_task_folder/img1/001528.jpg\n"
     ]
    },
    {
     "name": "stderr",
     "output_type": "stream",
     "text": [
      "\n",
      "0: 1088x1920 1 ball, 22 players, 57.3ms\n",
      "Speed: 7.2ms preprocess, 57.3ms inference, 1.1ms postprocess per image at shape (1, 3, 1088, 1920)\n",
      "\n",
      "0: 1088x1920 1 ball, 22 players, 57.4ms\n",
      "Speed: 7.3ms preprocess, 57.4ms inference, 1.1ms postprocess per image at shape (1, 3, 1088, 1920)\n"
     ]
    },
    {
     "name": "stdout",
     "output_type": "stream",
     "text": [
      "1529\n",
      "Saved: temp_task_folder/img1/001529.jpg\n",
      "1530\n",
      "Saved: temp_task_folder/img1/001530.jpg\n"
     ]
    },
    {
     "name": "stderr",
     "output_type": "stream",
     "text": [
      "\n",
      "0: 1088x1920 1 ball, 22 players, 57.3ms\n",
      "Speed: 7.2ms preprocess, 57.3ms inference, 1.1ms postprocess per image at shape (1, 3, 1088, 1920)\n",
      "\n",
      "0: 1088x1920 1 ball, 22 players, 57.5ms\n",
      "Speed: 7.3ms preprocess, 57.5ms inference, 1.1ms postprocess per image at shape (1, 3, 1088, 1920)\n"
     ]
    },
    {
     "name": "stdout",
     "output_type": "stream",
     "text": [
      "1531\n",
      "Saved: temp_task_folder/img1/001531.jpg\n",
      "1532\n",
      "Saved: temp_task_folder/img1/001532.jpg\n"
     ]
    },
    {
     "name": "stderr",
     "output_type": "stream",
     "text": [
      "\n",
      "0: 1088x1920 1 ball, 22 players, 57.4ms\n",
      "Speed: 7.2ms preprocess, 57.4ms inference, 1.1ms postprocess per image at shape (1, 3, 1088, 1920)\n",
      "\n",
      "0: 1088x1920 1 ball, 22 players, 57.4ms\n",
      "Speed: 6.8ms preprocess, 57.4ms inference, 1.1ms postprocess per image at shape (1, 3, 1088, 1920)\n"
     ]
    },
    {
     "name": "stdout",
     "output_type": "stream",
     "text": [
      "1533\n",
      "Saved: temp_task_folder/img1/001533.jpg\n",
      "1534\n",
      "Saved: temp_task_folder/img1/001534.jpg\n"
     ]
    },
    {
     "name": "stderr",
     "output_type": "stream",
     "text": [
      "\n",
      "0: 1088x1920 1 ball, 22 players, 57.4ms\n",
      "Speed: 6.9ms preprocess, 57.4ms inference, 1.1ms postprocess per image at shape (1, 3, 1088, 1920)\n",
      "\n",
      "0: 1088x1920 1 ball, 22 players, 57.4ms\n",
      "Speed: 7.2ms preprocess, 57.4ms inference, 1.1ms postprocess per image at shape (1, 3, 1088, 1920)\n"
     ]
    },
    {
     "name": "stdout",
     "output_type": "stream",
     "text": [
      "1535\n",
      "Saved: temp_task_folder/img1/001535.jpg\n",
      "1536\n",
      "Saved: temp_task_folder/img1/001536.jpg\n"
     ]
    },
    {
     "name": "stderr",
     "output_type": "stream",
     "text": [
      "\n",
      "0: 1088x1920 1 ball, 22 players, 57.3ms\n",
      "Speed: 7.2ms preprocess, 57.3ms inference, 1.1ms postprocess per image at shape (1, 3, 1088, 1920)\n",
      "\n",
      "0: 1088x1920 1 ball, 22 players, 57.2ms\n",
      "Speed: 7.2ms preprocess, 57.2ms inference, 1.1ms postprocess per image at shape (1, 3, 1088, 1920)\n"
     ]
    },
    {
     "name": "stdout",
     "output_type": "stream",
     "text": [
      "1537\n",
      "Saved: temp_task_folder/img1/001537.jpg\n",
      "1538\n",
      "Saved: temp_task_folder/img1/001538.jpg\n"
     ]
    },
    {
     "name": "stderr",
     "output_type": "stream",
     "text": [
      "\n",
      "0: 1088x1920 1 ball, 22 players, 57.5ms\n",
      "Speed: 7.2ms preprocess, 57.5ms inference, 1.1ms postprocess per image at shape (1, 3, 1088, 1920)\n",
      "\n",
      "0: 1088x1920 1 ball, 22 players, 57.5ms\n",
      "Speed: 7.2ms preprocess, 57.5ms inference, 1.1ms postprocess per image at shape (1, 3, 1088, 1920)\n"
     ]
    },
    {
     "name": "stdout",
     "output_type": "stream",
     "text": [
      "1539\n",
      "Saved: temp_task_folder/img1/001539.jpg\n",
      "1540\n",
      "Saved: temp_task_folder/img1/001540.jpg\n"
     ]
    },
    {
     "name": "stderr",
     "output_type": "stream",
     "text": [
      "\n",
      "0: 1088x1920 1 ball, 22 players, 57.3ms\n",
      "Speed: 7.3ms preprocess, 57.3ms inference, 1.1ms postprocess per image at shape (1, 3, 1088, 1920)\n",
      "\n",
      "0: 1088x1920 1 ball, 22 players, 57.6ms\n",
      "Speed: 6.9ms preprocess, 57.6ms inference, 1.1ms postprocess per image at shape (1, 3, 1088, 1920)\n"
     ]
    },
    {
     "name": "stdout",
     "output_type": "stream",
     "text": [
      "1541\n",
      "Saved: temp_task_folder/img1/001541.jpg\n",
      "1542\n",
      "Saved: temp_task_folder/img1/001542.jpg\n"
     ]
    },
    {
     "name": "stderr",
     "output_type": "stream",
     "text": [
      "\n",
      "0: 1088x1920 1 ball, 22 players, 57.3ms\n",
      "Speed: 7.2ms preprocess, 57.3ms inference, 1.1ms postprocess per image at shape (1, 3, 1088, 1920)\n",
      "\n",
      "0: 1088x1920 1 ball, 22 players, 57.5ms\n",
      "Speed: 7.2ms preprocess, 57.5ms inference, 1.1ms postprocess per image at shape (1, 3, 1088, 1920)\n"
     ]
    },
    {
     "name": "stdout",
     "output_type": "stream",
     "text": [
      "1543\n",
      "Saved: temp_task_folder/img1/001543.jpg\n",
      "1544\n",
      "Saved: temp_task_folder/img1/001544.jpg\n"
     ]
    },
    {
     "name": "stderr",
     "output_type": "stream",
     "text": [
      "\n",
      "0: 1088x1920 1 ball, 22 players, 57.5ms\n",
      "Speed: 7.2ms preprocess, 57.5ms inference, 1.1ms postprocess per image at shape (1, 3, 1088, 1920)\n",
      "\n",
      "0: 1088x1920 1 ball, 22 players, 57.5ms\n",
      "Speed: 7.3ms preprocess, 57.5ms inference, 1.2ms postprocess per image at shape (1, 3, 1088, 1920)\n"
     ]
    },
    {
     "name": "stdout",
     "output_type": "stream",
     "text": [
      "1545\n",
      "Saved: temp_task_folder/img1/001545.jpg\n",
      "1546\n",
      "Saved: temp_task_folder/img1/001546.jpg\n"
     ]
    },
    {
     "name": "stderr",
     "output_type": "stream",
     "text": [
      "\n",
      "0: 1088x1920 1 ball, 22 players, 57.4ms\n",
      "Speed: 7.2ms preprocess, 57.4ms inference, 1.1ms postprocess per image at shape (1, 3, 1088, 1920)\n",
      "\n",
      "0: 1088x1920 1 ball, 22 players, 57.5ms\n",
      "Speed: 7.2ms preprocess, 57.5ms inference, 1.1ms postprocess per image at shape (1, 3, 1088, 1920)\n"
     ]
    },
    {
     "name": "stdout",
     "output_type": "stream",
     "text": [
      "1547\n",
      "Saved: temp_task_folder/img1/001547.jpg\n",
      "1548\n",
      "Saved: temp_task_folder/img1/001548.jpg\n"
     ]
    },
    {
     "name": "stderr",
     "output_type": "stream",
     "text": [
      "\n",
      "0: 1088x1920 1 ball, 22 players, 57.5ms\n",
      "Speed: 7.2ms preprocess, 57.5ms inference, 1.1ms postprocess per image at shape (1, 3, 1088, 1920)\n",
      "\n",
      "0: 1088x1920 1 ball, 22 players, 57.4ms\n",
      "Speed: 7.3ms preprocess, 57.4ms inference, 1.1ms postprocess per image at shape (1, 3, 1088, 1920)\n"
     ]
    },
    {
     "name": "stdout",
     "output_type": "stream",
     "text": [
      "1549\n",
      "Saved: temp_task_folder/img1/001549.jpg\n",
      "1550\n",
      "Saved: temp_task_folder/img1/001550.jpg\n"
     ]
    },
    {
     "name": "stderr",
     "output_type": "stream",
     "text": [
      "\n",
      "0: 1088x1920 1 ball, 22 players, 57.2ms\n",
      "Speed: 7.2ms preprocess, 57.2ms inference, 1.1ms postprocess per image at shape (1, 3, 1088, 1920)\n",
      "\n",
      "0: 1088x1920 1 ball, 22 players, 57.4ms\n",
      "Speed: 7.2ms preprocess, 57.4ms inference, 1.1ms postprocess per image at shape (1, 3, 1088, 1920)\n"
     ]
    },
    {
     "name": "stdout",
     "output_type": "stream",
     "text": [
      "1551\n",
      "Saved: temp_task_folder/img1/001551.jpg\n",
      "1552\n",
      "Saved: temp_task_folder/img1/001552.jpg\n"
     ]
    },
    {
     "name": "stderr",
     "output_type": "stream",
     "text": [
      "\n",
      "0: 1088x1920 1 ball, 22 players, 57.2ms\n",
      "Speed: 7.2ms preprocess, 57.2ms inference, 1.1ms postprocess per image at shape (1, 3, 1088, 1920)\n",
      "\n",
      "0: 1088x1920 1 ball, 22 players, 57.5ms\n",
      "Speed: 7.2ms preprocess, 57.5ms inference, 1.1ms postprocess per image at shape (1, 3, 1088, 1920)\n"
     ]
    },
    {
     "name": "stdout",
     "output_type": "stream",
     "text": [
      "1553\n",
      "Saved: temp_task_folder/img1/001553.jpg\n",
      "1554\n",
      "Saved: temp_task_folder/img1/001554.jpg\n"
     ]
    },
    {
     "name": "stderr",
     "output_type": "stream",
     "text": [
      "\n",
      "0: 1088x1920 1 ball, 22 players, 57.5ms\n",
      "Speed: 7.3ms preprocess, 57.5ms inference, 1.1ms postprocess per image at shape (1, 3, 1088, 1920)\n",
      "\n",
      "0: 1088x1920 1 ball, 22 players, 57.3ms\n",
      "Speed: 7.3ms preprocess, 57.3ms inference, 1.1ms postprocess per image at shape (1, 3, 1088, 1920)\n"
     ]
    },
    {
     "name": "stdout",
     "output_type": "stream",
     "text": [
      "1555\n",
      "Saved: temp_task_folder/img1/001555.jpg\n",
      "1556\n",
      "Saved: temp_task_folder/img1/001556.jpg\n"
     ]
    },
    {
     "name": "stderr",
     "output_type": "stream",
     "text": [
      "\n",
      "0: 1088x1920 1 ball, 22 players, 57.3ms\n",
      "Speed: 7.3ms preprocess, 57.3ms inference, 1.1ms postprocess per image at shape (1, 3, 1088, 1920)\n",
      "\n",
      "0: 1088x1920 1 ball, 22 players, 57.3ms\n",
      "Speed: 7.3ms preprocess, 57.3ms inference, 1.1ms postprocess per image at shape (1, 3, 1088, 1920)\n"
     ]
    },
    {
     "name": "stdout",
     "output_type": "stream",
     "text": [
      "1557\n",
      "Saved: temp_task_folder/img1/001557.jpg\n",
      "1558\n",
      "Saved: temp_task_folder/img1/001558.jpg\n"
     ]
    },
    {
     "name": "stderr",
     "output_type": "stream",
     "text": [
      "\n",
      "0: 1088x1920 1 ball, 22 players, 57.3ms\n",
      "Speed: 7.3ms preprocess, 57.3ms inference, 1.1ms postprocess per image at shape (1, 3, 1088, 1920)\n",
      "\n",
      "0: 1088x1920 1 ball, 22 players, 57.5ms\n",
      "Speed: 7.3ms preprocess, 57.5ms inference, 1.1ms postprocess per image at shape (1, 3, 1088, 1920)\n"
     ]
    },
    {
     "name": "stdout",
     "output_type": "stream",
     "text": [
      "1559\n",
      "Saved: temp_task_folder/img1/001559.jpg\n",
      "1560\n",
      "Saved: temp_task_folder/img1/001560.jpg\n"
     ]
    },
    {
     "name": "stderr",
     "output_type": "stream",
     "text": [
      "\n",
      "0: 1088x1920 1 ball, 22 players, 57.2ms\n",
      "Speed: 7.3ms preprocess, 57.2ms inference, 1.1ms postprocess per image at shape (1, 3, 1088, 1920)\n",
      "\n",
      "0: 1088x1920 1 ball, 22 players, 57.5ms\n",
      "Speed: 6.9ms preprocess, 57.5ms inference, 1.1ms postprocess per image at shape (1, 3, 1088, 1920)\n"
     ]
    },
    {
     "name": "stdout",
     "output_type": "stream",
     "text": [
      "1561\n",
      "Saved: temp_task_folder/img1/001561.jpg\n",
      "1562\n",
      "Saved: temp_task_folder/img1/001562.jpg\n"
     ]
    },
    {
     "name": "stderr",
     "output_type": "stream",
     "text": [
      "\n",
      "0: 1088x1920 1 ball, 22 players, 57.3ms\n",
      "Speed: 6.9ms preprocess, 57.3ms inference, 1.1ms postprocess per image at shape (1, 3, 1088, 1920)\n",
      "\n",
      "0: 1088x1920 1 ball, 22 players, 57.4ms\n",
      "Speed: 6.8ms preprocess, 57.4ms inference, 1.1ms postprocess per image at shape (1, 3, 1088, 1920)\n"
     ]
    },
    {
     "name": "stdout",
     "output_type": "stream",
     "text": [
      "1563\n",
      "Saved: temp_task_folder/img1/001563.jpg\n",
      "1564\n",
      "Saved: temp_task_folder/img1/001564.jpg\n"
     ]
    },
    {
     "name": "stderr",
     "output_type": "stream",
     "text": [
      "\n",
      "0: 1088x1920 1 ball, 22 players, 57.4ms\n",
      "Speed: 7.3ms preprocess, 57.4ms inference, 1.1ms postprocess per image at shape (1, 3, 1088, 1920)\n",
      "\n",
      "0: 1088x1920 1 ball, 22 players, 57.4ms\n",
      "Speed: 7.2ms preprocess, 57.4ms inference, 1.1ms postprocess per image at shape (1, 3, 1088, 1920)\n"
     ]
    },
    {
     "name": "stdout",
     "output_type": "stream",
     "text": [
      "1565\n",
      "Saved: temp_task_folder/img1/001565.jpg\n",
      "1566\n",
      "Saved: temp_task_folder/img1/001566.jpg\n"
     ]
    },
    {
     "name": "stderr",
     "output_type": "stream",
     "text": [
      "\n",
      "0: 1088x1920 1 ball, 22 players, 57.5ms\n",
      "Speed: 7.3ms preprocess, 57.5ms inference, 1.1ms postprocess per image at shape (1, 3, 1088, 1920)\n",
      "\n",
      "0: 1088x1920 1 ball, 22 players, 57.3ms\n",
      "Speed: 7.3ms preprocess, 57.3ms inference, 1.1ms postprocess per image at shape (1, 3, 1088, 1920)\n"
     ]
    },
    {
     "name": "stdout",
     "output_type": "stream",
     "text": [
      "1567\n",
      "Saved: temp_task_folder/img1/001567.jpg\n",
      "1568\n",
      "Saved: temp_task_folder/img1/001568.jpg\n"
     ]
    },
    {
     "name": "stderr",
     "output_type": "stream",
     "text": [
      "\n",
      "0: 1088x1920 1 ball, 22 players, 57.5ms\n",
      "Speed: 7.3ms preprocess, 57.5ms inference, 1.1ms postprocess per image at shape (1, 3, 1088, 1920)\n",
      "\n",
      "0: 1088x1920 1 ball, 22 players, 57.3ms\n",
      "Speed: 7.2ms preprocess, 57.3ms inference, 1.1ms postprocess per image at shape (1, 3, 1088, 1920)\n"
     ]
    },
    {
     "name": "stdout",
     "output_type": "stream",
     "text": [
      "1569\n",
      "Saved: temp_task_folder/img1/001569.jpg\n",
      "1570\n",
      "Saved: temp_task_folder/img1/001570.jpg\n"
     ]
    },
    {
     "name": "stderr",
     "output_type": "stream",
     "text": [
      "\n",
      "0: 1088x1920 1 ball, 22 players, 57.0ms\n",
      "Speed: 7.2ms preprocess, 57.0ms inference, 1.1ms postprocess per image at shape (1, 3, 1088, 1920)\n",
      "\n",
      "0: 1088x1920 1 ball, 22 players, 57.5ms\n",
      "Speed: 7.3ms preprocess, 57.5ms inference, 1.1ms postprocess per image at shape (1, 3, 1088, 1920)\n"
     ]
    },
    {
     "name": "stdout",
     "output_type": "stream",
     "text": [
      "1571\n",
      "Saved: temp_task_folder/img1/001571.jpg\n",
      "1572\n",
      "Saved: temp_task_folder/img1/001572.jpg\n"
     ]
    },
    {
     "name": "stderr",
     "output_type": "stream",
     "text": [
      "\n",
      "0: 1088x1920 1 ball, 22 players, 57.3ms\n",
      "Speed: 7.2ms preprocess, 57.3ms inference, 1.1ms postprocess per image at shape (1, 3, 1088, 1920)\n",
      "\n",
      "0: 1088x1920 1 ball, 22 players, 57.3ms\n",
      "Speed: 7.2ms preprocess, 57.3ms inference, 1.1ms postprocess per image at shape (1, 3, 1088, 1920)\n"
     ]
    },
    {
     "name": "stdout",
     "output_type": "stream",
     "text": [
      "1573\n",
      "Saved: temp_task_folder/img1/001573.jpg\n",
      "1574\n",
      "Saved: temp_task_folder/img1/001574.jpg\n"
     ]
    },
    {
     "name": "stderr",
     "output_type": "stream",
     "text": [
      "\n",
      "0: 1088x1920 1 ball, 22 players, 57.4ms\n",
      "Speed: 6.8ms preprocess, 57.4ms inference, 1.1ms postprocess per image at shape (1, 3, 1088, 1920)\n",
      "\n",
      "0: 1088x1920 1 ball, 22 players, 57.3ms\n",
      "Speed: 7.2ms preprocess, 57.3ms inference, 1.1ms postprocess per image at shape (1, 3, 1088, 1920)\n"
     ]
    },
    {
     "name": "stdout",
     "output_type": "stream",
     "text": [
      "1575\n",
      "Saved: temp_task_folder/img1/001575.jpg\n",
      "1576\n",
      "Saved: temp_task_folder/img1/001576.jpg\n"
     ]
    },
    {
     "name": "stderr",
     "output_type": "stream",
     "text": [
      "\n",
      "0: 1088x1920 1 ball, 22 players, 57.5ms\n",
      "Speed: 7.3ms preprocess, 57.5ms inference, 1.2ms postprocess per image at shape (1, 3, 1088, 1920)\n",
      "\n",
      "0: 1088x1920 1 ball, 22 players, 57.3ms\n",
      "Speed: 7.3ms preprocess, 57.3ms inference, 1.1ms postprocess per image at shape (1, 3, 1088, 1920)\n"
     ]
    },
    {
     "name": "stdout",
     "output_type": "stream",
     "text": [
      "1577\n",
      "Saved: temp_task_folder/img1/001577.jpg\n",
      "1578\n",
      "Saved: temp_task_folder/img1/001578.jpg\n"
     ]
    },
    {
     "name": "stderr",
     "output_type": "stream",
     "text": [
      "\n",
      "0: 1088x1920 1 ball, 22 players, 57.3ms\n",
      "Speed: 7.2ms preprocess, 57.3ms inference, 1.1ms postprocess per image at shape (1, 3, 1088, 1920)\n",
      "\n",
      "0: 1088x1920 1 ball, 22 players, 57.5ms\n",
      "Speed: 7.2ms preprocess, 57.5ms inference, 1.1ms postprocess per image at shape (1, 3, 1088, 1920)\n"
     ]
    },
    {
     "name": "stdout",
     "output_type": "stream",
     "text": [
      "1579\n",
      "Saved: temp_task_folder/img1/001579.jpg\n",
      "1580\n",
      "Saved: temp_task_folder/img1/001580.jpg\n"
     ]
    },
    {
     "name": "stderr",
     "output_type": "stream",
     "text": [
      "\n",
      "0: 1088x1920 1 ball, 22 players, 57.5ms\n",
      "Speed: 7.3ms preprocess, 57.5ms inference, 1.1ms postprocess per image at shape (1, 3, 1088, 1920)\n",
      "\n",
      "0: 1088x1920 1 ball, 22 players, 57.3ms\n",
      "Speed: 7.2ms preprocess, 57.3ms inference, 1.1ms postprocess per image at shape (1, 3, 1088, 1920)\n"
     ]
    },
    {
     "name": "stdout",
     "output_type": "stream",
     "text": [
      "1581\n",
      "Saved: temp_task_folder/img1/001581.jpg\n",
      "1582\n",
      "Saved: temp_task_folder/img1/001582.jpg\n"
     ]
    },
    {
     "name": "stderr",
     "output_type": "stream",
     "text": [
      "\n",
      "0: 1088x1920 1 ball, 22 players, 57.4ms\n",
      "Speed: 7.3ms preprocess, 57.4ms inference, 1.1ms postprocess per image at shape (1, 3, 1088, 1920)\n",
      "\n",
      "0: 1088x1920 1 ball, 22 players, 57.5ms\n",
      "Speed: 7.2ms preprocess, 57.5ms inference, 1.1ms postprocess per image at shape (1, 3, 1088, 1920)\n"
     ]
    },
    {
     "name": "stdout",
     "output_type": "stream",
     "text": [
      "1583\n",
      "Saved: temp_task_folder/img1/001583.jpg\n",
      "1584\n",
      "Saved: temp_task_folder/img1/001584.jpg\n"
     ]
    },
    {
     "name": "stderr",
     "output_type": "stream",
     "text": [
      "\n",
      "0: 1088x1920 1 ball, 22 players, 57.3ms\n",
      "Speed: 7.2ms preprocess, 57.3ms inference, 1.1ms postprocess per image at shape (1, 3, 1088, 1920)\n",
      "\n",
      "0: 1088x1920 1 ball, 22 players, 57.2ms\n",
      "Speed: 6.8ms preprocess, 57.2ms inference, 1.1ms postprocess per image at shape (1, 3, 1088, 1920)\n"
     ]
    },
    {
     "name": "stdout",
     "output_type": "stream",
     "text": [
      "1585\n",
      "Saved: temp_task_folder/img1/001585.jpg\n",
      "1586\n",
      "Saved: temp_task_folder/img1/001586.jpg\n"
     ]
    },
    {
     "name": "stderr",
     "output_type": "stream",
     "text": [
      "\n",
      "0: 1088x1920 1 ball, 22 players, 57.4ms\n",
      "Speed: 6.8ms preprocess, 57.4ms inference, 1.1ms postprocess per image at shape (1, 3, 1088, 1920)\n",
      "\n",
      "0: 1088x1920 1 ball, 22 players, 57.5ms\n",
      "Speed: 6.9ms preprocess, 57.5ms inference, 1.1ms postprocess per image at shape (1, 3, 1088, 1920)\n"
     ]
    },
    {
     "name": "stdout",
     "output_type": "stream",
     "text": [
      "1587\n",
      "Saved: temp_task_folder/img1/001587.jpg\n",
      "1588\n",
      "Saved: temp_task_folder/img1/001588.jpg\n"
     ]
    },
    {
     "name": "stderr",
     "output_type": "stream",
     "text": [
      "\n",
      "0: 1088x1920 1 ball, 22 players, 57.4ms\n",
      "Speed: 6.8ms preprocess, 57.4ms inference, 1.1ms postprocess per image at shape (1, 3, 1088, 1920)\n",
      "\n",
      "0: 1088x1920 1 ball, 22 players, 57.5ms\n",
      "Speed: 6.8ms preprocess, 57.5ms inference, 1.1ms postprocess per image at shape (1, 3, 1088, 1920)\n"
     ]
    },
    {
     "name": "stdout",
     "output_type": "stream",
     "text": [
      "1589\n",
      "Saved: temp_task_folder/img1/001589.jpg\n",
      "1590\n",
      "Saved: temp_task_folder/img1/001590.jpg\n"
     ]
    },
    {
     "name": "stderr",
     "output_type": "stream",
     "text": [
      "\n",
      "0: 1088x1920 1 ball, 22 players, 57.5ms\n",
      "Speed: 6.9ms preprocess, 57.5ms inference, 1.1ms postprocess per image at shape (1, 3, 1088, 1920)\n",
      "\n",
      "0: 1088x1920 1 ball, 22 players, 57.6ms\n",
      "Speed: 6.8ms preprocess, 57.6ms inference, 1.1ms postprocess per image at shape (1, 3, 1088, 1920)\n"
     ]
    },
    {
     "name": "stdout",
     "output_type": "stream",
     "text": [
      "1591\n",
      "Saved: temp_task_folder/img1/001591.jpg\n",
      "1592\n"
     ]
    },
    {
     "name": "stderr",
     "output_type": "stream",
     "text": [
      "\n",
      "0: 1088x1920 1 ball, 22 players, 57.4ms\n",
      "Speed: 7.3ms preprocess, 57.4ms inference, 1.1ms postprocess per image at shape (1, 3, 1088, 1920)\n"
     ]
    },
    {
     "name": "stdout",
     "output_type": "stream",
     "text": [
      "Saved: temp_task_folder/img1/001592.jpg\n",
      "1593\n",
      "Saved: temp_task_folder/img1/001593.jpg\n"
     ]
    },
    {
     "name": "stderr",
     "output_type": "stream",
     "text": [
      "\n",
      "0: 1088x1920 1 ball, 22 players, 57.4ms\n",
      "Speed: 6.8ms preprocess, 57.4ms inference, 1.1ms postprocess per image at shape (1, 3, 1088, 1920)\n",
      "\n",
      "0: 1088x1920 1 ball, 22 players, 57.4ms\n",
      "Speed: 6.9ms preprocess, 57.4ms inference, 1.1ms postprocess per image at shape (1, 3, 1088, 1920)\n"
     ]
    },
    {
     "name": "stdout",
     "output_type": "stream",
     "text": [
      "1594\n",
      "Saved: temp_task_folder/img1/001594.jpg\n",
      "1595\n",
      "Saved: temp_task_folder/img1/001595.jpg\n"
     ]
    },
    {
     "name": "stderr",
     "output_type": "stream",
     "text": [
      "\n",
      "0: 1088x1920 1 ball, 22 players, 57.5ms\n",
      "Speed: 6.8ms preprocess, 57.5ms inference, 1.1ms postprocess per image at shape (1, 3, 1088, 1920)\n",
      "\n",
      "0: 1088x1920 1 ball, 22 players, 57.4ms\n",
      "Speed: 6.9ms preprocess, 57.4ms inference, 1.1ms postprocess per image at shape (1, 3, 1088, 1920)\n"
     ]
    },
    {
     "name": "stdout",
     "output_type": "stream",
     "text": [
      "1596\n",
      "Saved: temp_task_folder/img1/001596.jpg\n",
      "1597\n",
      "Saved: temp_task_folder/img1/001597.jpg\n"
     ]
    },
    {
     "name": "stderr",
     "output_type": "stream",
     "text": [
      "\n",
      "0: 1088x1920 22 players, 57.3ms\n",
      "Speed: 6.8ms preprocess, 57.3ms inference, 1.1ms postprocess per image at shape (1, 3, 1088, 1920)\n",
      "\n",
      "0: 1088x1920 22 players, 57.4ms\n",
      "Speed: 6.9ms preprocess, 57.4ms inference, 1.1ms postprocess per image at shape (1, 3, 1088, 1920)\n"
     ]
    },
    {
     "name": "stdout",
     "output_type": "stream",
     "text": [
      "1598\n",
      "Saved: temp_task_folder/img1/001598.jpg\n",
      "1599\n",
      "Saved: temp_task_folder/img1/001599.jpg\n"
     ]
    },
    {
     "name": "stderr",
     "output_type": "stream",
     "text": [
      "\n",
      "0: 1088x1920 22 players, 57.3ms\n",
      "Speed: 6.9ms preprocess, 57.3ms inference, 1.1ms postprocess per image at shape (1, 3, 1088, 1920)\n",
      "\n",
      "0: 1088x1920 1 ball, 22 players, 57.5ms\n",
      "Speed: 6.8ms preprocess, 57.5ms inference, 1.1ms postprocess per image at shape (1, 3, 1088, 1920)\n"
     ]
    },
    {
     "name": "stdout",
     "output_type": "stream",
     "text": [
      "1600\n",
      "Saved: temp_task_folder/img1/001600.jpg\n",
      "1601\n",
      "Saved: temp_task_folder/img1/001601.jpg\n"
     ]
    },
    {
     "name": "stderr",
     "output_type": "stream",
     "text": [
      "\n",
      "0: 1088x1920 1 ball, 22 players, 57.2ms\n",
      "Speed: 6.9ms preprocess, 57.2ms inference, 1.2ms postprocess per image at shape (1, 3, 1088, 1920)\n",
      "\n",
      "0: 1088x1920 1 ball, 22 players, 57.5ms\n",
      "Speed: 6.8ms preprocess, 57.5ms inference, 1.1ms postprocess per image at shape (1, 3, 1088, 1920)\n"
     ]
    },
    {
     "name": "stdout",
     "output_type": "stream",
     "text": [
      "1602\n",
      "Saved: temp_task_folder/img1/001602.jpg\n",
      "1603\n",
      "Saved: temp_task_folder/img1/001603.jpg\n"
     ]
    },
    {
     "name": "stderr",
     "output_type": "stream",
     "text": [
      "\n",
      "0: 1088x1920 1 ball, 22 players, 57.2ms\n",
      "Speed: 6.9ms preprocess, 57.2ms inference, 1.1ms postprocess per image at shape (1, 3, 1088, 1920)\n",
      "\n",
      "0: 1088x1920 1 ball, 22 players, 57.3ms\n",
      "Speed: 6.8ms preprocess, 57.3ms inference, 1.1ms postprocess per image at shape (1, 3, 1088, 1920)\n"
     ]
    },
    {
     "name": "stdout",
     "output_type": "stream",
     "text": [
      "1604\n",
      "Saved: temp_task_folder/img1/001604.jpg\n",
      "1605\n",
      "Saved: temp_task_folder/img1/001605.jpg\n"
     ]
    },
    {
     "name": "stderr",
     "output_type": "stream",
     "text": [
      "\n",
      "0: 1088x1920 1 ball, 22 players, 57.4ms\n",
      "Speed: 6.9ms preprocess, 57.4ms inference, 1.1ms postprocess per image at shape (1, 3, 1088, 1920)\n",
      "\n",
      "0: 1088x1920 1 ball, 22 players, 57.4ms\n",
      "Speed: 6.8ms preprocess, 57.4ms inference, 1.1ms postprocess per image at shape (1, 3, 1088, 1920)\n"
     ]
    },
    {
     "name": "stdout",
     "output_type": "stream",
     "text": [
      "1606\n",
      "Saved: temp_task_folder/img1/001606.jpg\n",
      "1607\n",
      "Saved: temp_task_folder/img1/001607.jpg\n"
     ]
    },
    {
     "name": "stderr",
     "output_type": "stream",
     "text": [
      "\n",
      "0: 1088x1920 1 ball, 22 players, 57.4ms\n",
      "Speed: 6.9ms preprocess, 57.4ms inference, 1.1ms postprocess per image at shape (1, 3, 1088, 1920)\n",
      "\n",
      "0: 1088x1920 1 ball, 22 players, 57.2ms\n",
      "Speed: 6.9ms preprocess, 57.2ms inference, 1.1ms postprocess per image at shape (1, 3, 1088, 1920)\n"
     ]
    },
    {
     "name": "stdout",
     "output_type": "stream",
     "text": [
      "1608\n",
      "Saved: temp_task_folder/img1/001608.jpg\n",
      "1609\n",
      "Saved: temp_task_folder/img1/001609.jpg\n"
     ]
    },
    {
     "name": "stderr",
     "output_type": "stream",
     "text": [
      "\n",
      "0: 1088x1920 1 ball, 22 players, 57.4ms\n",
      "Speed: 6.9ms preprocess, 57.4ms inference, 1.1ms postprocess per image at shape (1, 3, 1088, 1920)\n",
      "\n",
      "0: 1088x1920 1 ball, 22 players, 57.4ms\n",
      "Speed: 6.8ms preprocess, 57.4ms inference, 1.1ms postprocess per image at shape (1, 3, 1088, 1920)\n"
     ]
    },
    {
     "name": "stdout",
     "output_type": "stream",
     "text": [
      "1610\n",
      "Saved: temp_task_folder/img1/001610.jpg\n",
      "1611\n",
      "Saved: temp_task_folder/img1/001611.jpg\n"
     ]
    },
    {
     "name": "stderr",
     "output_type": "stream",
     "text": [
      "\n",
      "0: 1088x1920 1 ball, 22 players, 57.2ms\n",
      "Speed: 6.9ms preprocess, 57.2ms inference, 1.1ms postprocess per image at shape (1, 3, 1088, 1920)\n",
      "\n",
      "0: 1088x1920 1 ball, 22 players, 57.2ms\n",
      "Speed: 6.8ms preprocess, 57.2ms inference, 1.1ms postprocess per image at shape (1, 3, 1088, 1920)\n"
     ]
    },
    {
     "name": "stdout",
     "output_type": "stream",
     "text": [
      "1612\n",
      "Saved: temp_task_folder/img1/001612.jpg\n",
      "1613\n",
      "Saved: temp_task_folder/img1/001613.jpg\n"
     ]
    },
    {
     "name": "stderr",
     "output_type": "stream",
     "text": [
      "\n",
      "0: 1088x1920 1 ball, 22 players, 57.4ms\n",
      "Speed: 6.8ms preprocess, 57.4ms inference, 1.1ms postprocess per image at shape (1, 3, 1088, 1920)\n",
      "\n",
      "0: 1088x1920 1 ball, 22 players, 57.5ms\n",
      "Speed: 6.9ms preprocess, 57.5ms inference, 1.1ms postprocess per image at shape (1, 3, 1088, 1920)\n"
     ]
    },
    {
     "name": "stdout",
     "output_type": "stream",
     "text": [
      "1614\n",
      "Saved: temp_task_folder/img1/001614.jpg\n",
      "1615\n",
      "Saved: temp_task_folder/img1/001615.jpg\n"
     ]
    },
    {
     "name": "stderr",
     "output_type": "stream",
     "text": [
      "\n",
      "0: 1088x1920 1 ball, 22 players, 57.2ms\n",
      "Speed: 6.8ms preprocess, 57.2ms inference, 1.1ms postprocess per image at shape (1, 3, 1088, 1920)\n",
      "\n",
      "0: 1088x1920 1 ball, 22 players, 57.2ms\n",
      "Speed: 6.9ms preprocess, 57.2ms inference, 1.1ms postprocess per image at shape (1, 3, 1088, 1920)\n"
     ]
    },
    {
     "name": "stdout",
     "output_type": "stream",
     "text": [
      "1616\n",
      "Saved: temp_task_folder/img1/001616.jpg\n",
      "1617\n",
      "Saved: temp_task_folder/img1/001617.jpg\n"
     ]
    },
    {
     "name": "stderr",
     "output_type": "stream",
     "text": [
      "\n",
      "0: 1088x1920 1 ball, 22 players, 57.2ms\n",
      "Speed: 6.8ms preprocess, 57.2ms inference, 1.1ms postprocess per image at shape (1, 3, 1088, 1920)\n",
      "\n",
      "0: 1088x1920 22 players, 57.5ms\n",
      "Speed: 6.9ms preprocess, 57.5ms inference, 1.1ms postprocess per image at shape (1, 3, 1088, 1920)\n"
     ]
    },
    {
     "name": "stdout",
     "output_type": "stream",
     "text": [
      "1618\n",
      "Saved: temp_task_folder/img1/001618.jpg\n",
      "1619\n",
      "Saved: temp_task_folder/img1/001619.jpg\n"
     ]
    },
    {
     "name": "stderr",
     "output_type": "stream",
     "text": [
      "\n",
      "0: 1088x1920 22 players, 57.2ms\n",
      "Speed: 6.8ms preprocess, 57.2ms inference, 1.1ms postprocess per image at shape (1, 3, 1088, 1920)\n",
      "\n",
      "0: 1088x1920 22 players, 57.5ms\n",
      "Speed: 6.9ms preprocess, 57.5ms inference, 1.1ms postprocess per image at shape (1, 3, 1088, 1920)\n"
     ]
    },
    {
     "name": "stdout",
     "output_type": "stream",
     "text": [
      "1620\n",
      "Saved: temp_task_folder/img1/001620.jpg\n",
      "1621\n",
      "Saved: temp_task_folder/img1/001621.jpg\n"
     ]
    },
    {
     "name": "stderr",
     "output_type": "stream",
     "text": [
      "\n",
      "0: 1088x1920 22 players, 57.3ms\n",
      "Speed: 6.9ms preprocess, 57.3ms inference, 1.1ms postprocess per image at shape (1, 3, 1088, 1920)\n",
      "\n",
      "0: 1088x1920 22 players, 57.4ms\n",
      "Speed: 6.8ms preprocess, 57.4ms inference, 1.1ms postprocess per image at shape (1, 3, 1088, 1920)\n"
     ]
    },
    {
     "name": "stdout",
     "output_type": "stream",
     "text": [
      "1622\n",
      "Saved: temp_task_folder/img1/001622.jpg\n",
      "1623\n"
     ]
    },
    {
     "name": "stderr",
     "output_type": "stream",
     "text": [
      "\n",
      "0: 1088x1920 22 players, 57.3ms\n",
      "Speed: 6.8ms preprocess, 57.3ms inference, 1.1ms postprocess per image at shape (1, 3, 1088, 1920)\n"
     ]
    },
    {
     "name": "stdout",
     "output_type": "stream",
     "text": [
      "Saved: temp_task_folder/img1/001623.jpg\n",
      "1624\n",
      "Saved: temp_task_folder/img1/001624.jpg\n"
     ]
    },
    {
     "name": "stderr",
     "output_type": "stream",
     "text": [
      "\n",
      "0: 1088x1920 22 players, 57.3ms\n",
      "Speed: 6.8ms preprocess, 57.3ms inference, 1.1ms postprocess per image at shape (1, 3, 1088, 1920)\n",
      "\n",
      "0: 1088x1920 22 players, 57.5ms\n",
      "Speed: 6.8ms preprocess, 57.5ms inference, 1.1ms postprocess per image at shape (1, 3, 1088, 1920)\n"
     ]
    },
    {
     "name": "stdout",
     "output_type": "stream",
     "text": [
      "1625\n",
      "Saved: temp_task_folder/img1/001625.jpg\n",
      "1626\n",
      "Saved: temp_task_folder/img1/001626.jpg\n"
     ]
    },
    {
     "name": "stderr",
     "output_type": "stream",
     "text": [
      "\n",
      "0: 1088x1920 1 ball, 22 players, 57.3ms\n",
      "Speed: 6.8ms preprocess, 57.3ms inference, 1.1ms postprocess per image at shape (1, 3, 1088, 1920)\n",
      "\n",
      "0: 1088x1920 1 ball, 22 players, 57.2ms\n",
      "Speed: 7.0ms preprocess, 57.2ms inference, 1.1ms postprocess per image at shape (1, 3, 1088, 1920)\n"
     ]
    },
    {
     "name": "stdout",
     "output_type": "stream",
     "text": [
      "1627\n",
      "Saved: temp_task_folder/img1/001627.jpg\n",
      "1628\n",
      "Saved: temp_task_folder/img1/001628.jpg\n"
     ]
    },
    {
     "name": "stderr",
     "output_type": "stream",
     "text": [
      "\n",
      "0: 1088x1920 1 ball, 22 players, 57.5ms\n",
      "Speed: 6.8ms preprocess, 57.5ms inference, 1.1ms postprocess per image at shape (1, 3, 1088, 1920)\n",
      "\n",
      "0: 1088x1920 1 ball, 22 players, 57.3ms\n",
      "Speed: 6.9ms preprocess, 57.3ms inference, 1.1ms postprocess per image at shape (1, 3, 1088, 1920)\n"
     ]
    },
    {
     "name": "stdout",
     "output_type": "stream",
     "text": [
      "1629\n",
      "Saved: temp_task_folder/img1/001629.jpg\n",
      "1630\n",
      "Saved: temp_task_folder/img1/001630.jpg\n"
     ]
    },
    {
     "name": "stderr",
     "output_type": "stream",
     "text": [
      "\n",
      "0: 1088x1920 1 ball, 22 players, 57.5ms\n",
      "Speed: 6.9ms preprocess, 57.5ms inference, 1.1ms postprocess per image at shape (1, 3, 1088, 1920)\n",
      "\n",
      "0: 1088x1920 2 balls, 22 players, 57.3ms\n",
      "Speed: 6.9ms preprocess, 57.3ms inference, 1.1ms postprocess per image at shape (1, 3, 1088, 1920)\n"
     ]
    },
    {
     "name": "stdout",
     "output_type": "stream",
     "text": [
      "1631\n",
      "Saved: temp_task_folder/img1/001631.jpg\n",
      "1632\n",
      "Saved: temp_task_folder/img1/001632.jpg\n"
     ]
    },
    {
     "name": "stderr",
     "output_type": "stream",
     "text": [
      "\n",
      "0: 1088x1920 1 ball, 22 players, 57.5ms\n",
      "Speed: 6.9ms preprocess, 57.5ms inference, 1.1ms postprocess per image at shape (1, 3, 1088, 1920)\n",
      "\n",
      "0: 1088x1920 2 balls, 22 players, 57.4ms\n",
      "Speed: 6.8ms preprocess, 57.4ms inference, 1.1ms postprocess per image at shape (1, 3, 1088, 1920)\n"
     ]
    },
    {
     "name": "stdout",
     "output_type": "stream",
     "text": [
      "1633\n",
      "Saved: temp_task_folder/img1/001633.jpg\n",
      "1634\n",
      "Saved: temp_task_folder/img1/001634.jpg\n"
     ]
    },
    {
     "name": "stderr",
     "output_type": "stream",
     "text": [
      "\n",
      "0: 1088x1920 23 players, 57.5ms\n",
      "Speed: 6.8ms preprocess, 57.5ms inference, 1.1ms postprocess per image at shape (1, 3, 1088, 1920)\n",
      "\n",
      "0: 1088x1920 1 ball, 22 players, 57.3ms\n",
      "Speed: 6.8ms preprocess, 57.3ms inference, 1.1ms postprocess per image at shape (1, 3, 1088, 1920)\n"
     ]
    },
    {
     "name": "stdout",
     "output_type": "stream",
     "text": [
      "1635\n",
      "Saved: temp_task_folder/img1/001635.jpg\n",
      "1636\n",
      "Saved: temp_task_folder/img1/001636.jpg\n"
     ]
    },
    {
     "name": "stderr",
     "output_type": "stream",
     "text": [
      "\n",
      "0: 1088x1920 1 ball, 22 players, 57.2ms\n",
      "Speed: 6.8ms preprocess, 57.2ms inference, 1.1ms postprocess per image at shape (1, 3, 1088, 1920)\n",
      "\n",
      "0: 1088x1920 1 ball, 22 players, 57.3ms\n",
      "Speed: 6.8ms preprocess, 57.3ms inference, 1.1ms postprocess per image at shape (1, 3, 1088, 1920)\n"
     ]
    },
    {
     "name": "stdout",
     "output_type": "stream",
     "text": [
      "1637\n",
      "Saved: temp_task_folder/img1/001637.jpg\n",
      "1638\n",
      "Saved: temp_task_folder/img1/001638.jpg\n"
     ]
    },
    {
     "name": "stderr",
     "output_type": "stream",
     "text": [
      "\n",
      "0: 1088x1920 1 ball, 22 players, 57.3ms\n",
      "Speed: 6.9ms preprocess, 57.3ms inference, 1.1ms postprocess per image at shape (1, 3, 1088, 1920)\n",
      "\n",
      "0: 1088x1920 22 players, 57.5ms\n",
      "Speed: 6.8ms preprocess, 57.5ms inference, 1.1ms postprocess per image at shape (1, 3, 1088, 1920)\n"
     ]
    },
    {
     "name": "stdout",
     "output_type": "stream",
     "text": [
      "1639\n",
      "Saved: temp_task_folder/img1/001639.jpg\n",
      "1640\n",
      "Saved: temp_task_folder/img1/001640.jpg\n"
     ]
    },
    {
     "name": "stderr",
     "output_type": "stream",
     "text": [
      "\n",
      "0: 1088x1920 22 players, 57.5ms\n",
      "Speed: 6.8ms preprocess, 57.5ms inference, 1.1ms postprocess per image at shape (1, 3, 1088, 1920)\n",
      "\n",
      "0: 1088x1920 22 players, 57.5ms\n",
      "Speed: 6.8ms preprocess, 57.5ms inference, 1.1ms postprocess per image at shape (1, 3, 1088, 1920)\n"
     ]
    },
    {
     "name": "stdout",
     "output_type": "stream",
     "text": [
      "1641\n",
      "Saved: temp_task_folder/img1/001641.jpg\n",
      "1642\n",
      "Saved: temp_task_folder/img1/001642.jpg\n"
     ]
    },
    {
     "name": "stderr",
     "output_type": "stream",
     "text": [
      "\n",
      "0: 1088x1920 22 players, 57.3ms\n",
      "Speed: 6.9ms preprocess, 57.3ms inference, 1.1ms postprocess per image at shape (1, 3, 1088, 1920)\n",
      "\n",
      "0: 1088x1920 1 ball, 22 players, 57.5ms\n",
      "Speed: 6.8ms preprocess, 57.5ms inference, 1.1ms postprocess per image at shape (1, 3, 1088, 1920)\n"
     ]
    },
    {
     "name": "stdout",
     "output_type": "stream",
     "text": [
      "1643\n",
      "Saved: temp_task_folder/img1/001643.jpg\n",
      "1644\n",
      "Saved: temp_task_folder/img1/001644.jpg\n"
     ]
    },
    {
     "name": "stderr",
     "output_type": "stream",
     "text": [
      "\n",
      "0: 1088x1920 22 players, 57.4ms\n",
      "Speed: 6.8ms preprocess, 57.4ms inference, 1.1ms postprocess per image at shape (1, 3, 1088, 1920)\n",
      "\n",
      "0: 1088x1920 22 players, 57.5ms\n",
      "Speed: 6.9ms preprocess, 57.5ms inference, 1.1ms postprocess per image at shape (1, 3, 1088, 1920)\n"
     ]
    },
    {
     "name": "stdout",
     "output_type": "stream",
     "text": [
      "1645\n",
      "Saved: temp_task_folder/img1/001645.jpg\n",
      "1646\n",
      "Saved: temp_task_folder/img1/001646.jpg\n"
     ]
    },
    {
     "name": "stderr",
     "output_type": "stream",
     "text": [
      "\n",
      "0: 1088x1920 22 players, 57.4ms\n",
      "Speed: 6.8ms preprocess, 57.4ms inference, 1.1ms postprocess per image at shape (1, 3, 1088, 1920)\n",
      "\n",
      "0: 1088x1920 22 players, 57.4ms\n",
      "Speed: 6.8ms preprocess, 57.4ms inference, 1.1ms postprocess per image at shape (1, 3, 1088, 1920)\n"
     ]
    },
    {
     "name": "stdout",
     "output_type": "stream",
     "text": [
      "1647\n",
      "Saved: temp_task_folder/img1/001647.jpg\n",
      "1648\n",
      "Saved: temp_task_folder/img1/001648.jpg\n"
     ]
    },
    {
     "name": "stderr",
     "output_type": "stream",
     "text": [
      "\n",
      "0: 1088x1920 1 ball, 22 players, 57.2ms\n",
      "Speed: 6.8ms preprocess, 57.2ms inference, 1.1ms postprocess per image at shape (1, 3, 1088, 1920)\n",
      "\n",
      "0: 1088x1920 22 players, 57.3ms\n",
      "Speed: 6.8ms preprocess, 57.3ms inference, 1.1ms postprocess per image at shape (1, 3, 1088, 1920)\n"
     ]
    },
    {
     "name": "stdout",
     "output_type": "stream",
     "text": [
      "1649\n",
      "Saved: temp_task_folder/img1/001649.jpg\n",
      "1650\n",
      "Saved: temp_task_folder/img1/001650.jpg\n"
     ]
    },
    {
     "name": "stderr",
     "output_type": "stream",
     "text": [
      "\n",
      "0: 1088x1920 22 players, 57.4ms\n",
      "Speed: 6.8ms preprocess, 57.4ms inference, 1.1ms postprocess per image at shape (1, 3, 1088, 1920)\n",
      "\n",
      "0: 1088x1920 22 players, 57.5ms\n",
      "Speed: 6.8ms preprocess, 57.5ms inference, 1.1ms postprocess per image at shape (1, 3, 1088, 1920)\n"
     ]
    },
    {
     "name": "stdout",
     "output_type": "stream",
     "text": [
      "1651\n",
      "Saved: temp_task_folder/img1/001651.jpg\n",
      "1652\n",
      "Saved: temp_task_folder/img1/001652.jpg\n"
     ]
    },
    {
     "name": "stderr",
     "output_type": "stream",
     "text": [
      "\n",
      "0: 1088x1920 22 players, 57.4ms\n",
      "Speed: 6.9ms preprocess, 57.4ms inference, 1.1ms postprocess per image at shape (1, 3, 1088, 1920)\n",
      "\n",
      "0: 1088x1920 22 players, 57.4ms\n",
      "Speed: 6.9ms preprocess, 57.4ms inference, 1.1ms postprocess per image at shape (1, 3, 1088, 1920)\n"
     ]
    },
    {
     "name": "stdout",
     "output_type": "stream",
     "text": [
      "1653\n",
      "Saved: temp_task_folder/img1/001653.jpg\n",
      "1654\n",
      "Saved: temp_task_folder/img1/001654.jpg\n"
     ]
    },
    {
     "name": "stderr",
     "output_type": "stream",
     "text": [
      "\n",
      "0: 1088x1920 22 players, 57.4ms\n",
      "Speed: 6.9ms preprocess, 57.4ms inference, 1.1ms postprocess per image at shape (1, 3, 1088, 1920)\n",
      "\n",
      "0: 1088x1920 1 ball, 22 players, 57.4ms\n",
      "Speed: 6.8ms preprocess, 57.4ms inference, 1.1ms postprocess per image at shape (1, 3, 1088, 1920)\n"
     ]
    },
    {
     "name": "stdout",
     "output_type": "stream",
     "text": [
      "1655\n",
      "Saved: temp_task_folder/img1/001655.jpg\n",
      "1656\n",
      "Saved: temp_task_folder/img1/001656.jpg\n"
     ]
    },
    {
     "name": "stderr",
     "output_type": "stream",
     "text": [
      "\n",
      "0: 1088x1920 1 ball, 22 players, 57.2ms\n",
      "Speed: 6.9ms preprocess, 57.2ms inference, 1.1ms postprocess per image at shape (1, 3, 1088, 1920)\n",
      "\n",
      "0: 1088x1920 1 ball, 22 players, 57.4ms\n",
      "Speed: 6.9ms preprocess, 57.4ms inference, 1.1ms postprocess per image at shape (1, 3, 1088, 1920)\n"
     ]
    },
    {
     "name": "stdout",
     "output_type": "stream",
     "text": [
      "1657\n",
      "Saved: temp_task_folder/img1/001657.jpg\n",
      "1658\n",
      "Saved: temp_task_folder/img1/001658.jpg\n"
     ]
    },
    {
     "name": "stderr",
     "output_type": "stream",
     "text": [
      "\n",
      "0: 1088x1920 1 ball, 22 players, 57.4ms\n",
      "Speed: 6.9ms preprocess, 57.4ms inference, 1.1ms postprocess per image at shape (1, 3, 1088, 1920)\n",
      "\n",
      "0: 1088x1920 1 ball, 22 players, 57.4ms\n",
      "Speed: 6.8ms preprocess, 57.4ms inference, 1.1ms postprocess per image at shape (1, 3, 1088, 1920)\n"
     ]
    },
    {
     "name": "stdout",
     "output_type": "stream",
     "text": [
      "1659\n",
      "Saved: temp_task_folder/img1/001659.jpg\n",
      "1660\n",
      "Saved: temp_task_folder/img1/001660.jpg\n"
     ]
    },
    {
     "name": "stderr",
     "output_type": "stream",
     "text": [
      "\n",
      "0: 1088x1920 1 ball, 22 players, 57.5ms\n",
      "Speed: 6.8ms preprocess, 57.5ms inference, 1.1ms postprocess per image at shape (1, 3, 1088, 1920)\n",
      "\n",
      "0: 1088x1920 1 ball, 22 players, 57.4ms\n",
      "Speed: 6.8ms preprocess, 57.4ms inference, 1.1ms postprocess per image at shape (1, 3, 1088, 1920)\n"
     ]
    },
    {
     "name": "stdout",
     "output_type": "stream",
     "text": [
      "1661\n",
      "Saved: temp_task_folder/img1/001661.jpg\n",
      "1662\n",
      "Saved: temp_task_folder/img1/001662.jpg\n"
     ]
    },
    {
     "name": "stderr",
     "output_type": "stream",
     "text": [
      "\n",
      "0: 1088x1920 1 ball, 22 players, 57.4ms\n",
      "Speed: 6.8ms preprocess, 57.4ms inference, 1.1ms postprocess per image at shape (1, 3, 1088, 1920)\n",
      "\n",
      "0: 1088x1920 1 ball, 22 players, 57.4ms\n",
      "Speed: 6.8ms preprocess, 57.4ms inference, 1.1ms postprocess per image at shape (1, 3, 1088, 1920)\n"
     ]
    },
    {
     "name": "stdout",
     "output_type": "stream",
     "text": [
      "1663\n",
      "Saved: temp_task_folder/img1/001663.jpg\n",
      "1664\n",
      "Saved: temp_task_folder/img1/001664.jpg\n"
     ]
    },
    {
     "name": "stderr",
     "output_type": "stream",
     "text": [
      "\n",
      "0: 1088x1920 1 ball, 22 players, 57.2ms\n",
      "Speed: 6.9ms preprocess, 57.2ms inference, 1.1ms postprocess per image at shape (1, 3, 1088, 1920)\n",
      "\n",
      "0: 1088x1920 1 ball, 22 players, 57.5ms\n",
      "Speed: 6.8ms preprocess, 57.5ms inference, 1.1ms postprocess per image at shape (1, 3, 1088, 1920)\n"
     ]
    },
    {
     "name": "stdout",
     "output_type": "stream",
     "text": [
      "1665\n",
      "Saved: temp_task_folder/img1/001665.jpg\n",
      "1666\n",
      "Saved: temp_task_folder/img1/001666.jpg\n"
     ]
    },
    {
     "name": "stderr",
     "output_type": "stream",
     "text": [
      "\n",
      "0: 1088x1920 1 ball, 22 players, 57.5ms\n",
      "Speed: 6.8ms preprocess, 57.5ms inference, 1.1ms postprocess per image at shape (1, 3, 1088, 1920)\n",
      "\n",
      "0: 1088x1920 1 ball, 22 players, 57.4ms\n",
      "Speed: 6.8ms preprocess, 57.4ms inference, 1.1ms postprocess per image at shape (1, 3, 1088, 1920)\n"
     ]
    },
    {
     "name": "stdout",
     "output_type": "stream",
     "text": [
      "1667\n",
      "Saved: temp_task_folder/img1/001667.jpg\n",
      "1668\n",
      "Saved: temp_task_folder/img1/001668.jpg\n"
     ]
    },
    {
     "name": "stderr",
     "output_type": "stream",
     "text": [
      "\n",
      "0: 1088x1920 22 players, 57.4ms\n",
      "Speed: 6.8ms preprocess, 57.4ms inference, 1.1ms postprocess per image at shape (1, 3, 1088, 1920)\n",
      "\n",
      "0: 1088x1920 22 players, 57.5ms\n",
      "Speed: 6.9ms preprocess, 57.5ms inference, 1.1ms postprocess per image at shape (1, 3, 1088, 1920)\n"
     ]
    },
    {
     "name": "stdout",
     "output_type": "stream",
     "text": [
      "1669\n",
      "Saved: temp_task_folder/img1/001669.jpg\n",
      "1670\n",
      "Saved: temp_task_folder/img1/001670.jpg\n"
     ]
    },
    {
     "name": "stderr",
     "output_type": "stream",
     "text": [
      "\n",
      "0: 1088x1920 22 players, 57.5ms\n",
      "Speed: 6.9ms preprocess, 57.5ms inference, 1.1ms postprocess per image at shape (1, 3, 1088, 1920)\n",
      "\n",
      "0: 1088x1920 23 players, 57.4ms\n",
      "Speed: 6.8ms preprocess, 57.4ms inference, 1.1ms postprocess per image at shape (1, 3, 1088, 1920)\n"
     ]
    },
    {
     "name": "stdout",
     "output_type": "stream",
     "text": [
      "1671\n",
      "Saved: temp_task_folder/img1/001671.jpg\n",
      "1672\n",
      "Saved: temp_task_folder/img1/001672.jpg\n"
     ]
    },
    {
     "name": "stderr",
     "output_type": "stream",
     "text": [
      "\n",
      "0: 1088x1920 22 players, 57.4ms\n",
      "Speed: 6.9ms preprocess, 57.4ms inference, 1.1ms postprocess per image at shape (1, 3, 1088, 1920)\n",
      "\n",
      "0: 1088x1920 22 players, 57.3ms\n",
      "Speed: 6.9ms preprocess, 57.3ms inference, 1.1ms postprocess per image at shape (1, 3, 1088, 1920)\n"
     ]
    },
    {
     "name": "stdout",
     "output_type": "stream",
     "text": [
      "1673\n",
      "Saved: temp_task_folder/img1/001673.jpg\n",
      "1674\n",
      "Saved: temp_task_folder/img1/001674.jpg\n"
     ]
    },
    {
     "name": "stderr",
     "output_type": "stream",
     "text": [
      "\n",
      "0: 1088x1920 1 ball, 22 players, 57.4ms\n",
      "Speed: 6.9ms preprocess, 57.4ms inference, 1.1ms postprocess per image at shape (1, 3, 1088, 1920)\n",
      "\n",
      "0: 1088x1920 1 ball, 22 players, 57.3ms\n",
      "Speed: 6.8ms preprocess, 57.3ms inference, 1.1ms postprocess per image at shape (1, 3, 1088, 1920)\n"
     ]
    },
    {
     "name": "stdout",
     "output_type": "stream",
     "text": [
      "1675\n",
      "Saved: temp_task_folder/img1/001675.jpg\n",
      "1676\n",
      "Saved: temp_task_folder/img1/001676.jpg\n"
     ]
    },
    {
     "name": "stderr",
     "output_type": "stream",
     "text": [
      "\n",
      "0: 1088x1920 1 ball, 22 players, 57.4ms\n",
      "Speed: 6.8ms preprocess, 57.4ms inference, 1.1ms postprocess per image at shape (1, 3, 1088, 1920)\n",
      "\n",
      "0: 1088x1920 1 ball, 23 players, 57.3ms\n",
      "Speed: 6.9ms preprocess, 57.3ms inference, 1.2ms postprocess per image at shape (1, 3, 1088, 1920)\n"
     ]
    },
    {
     "name": "stdout",
     "output_type": "stream",
     "text": [
      "1677\n",
      "Saved: temp_task_folder/img1/001677.jpg\n",
      "1678\n",
      "Saved: temp_task_folder/img1/001678.jpg\n"
     ]
    },
    {
     "name": "stderr",
     "output_type": "stream",
     "text": [
      "\n",
      "0: 1088x1920 1 ball, 23 players, 57.4ms\n",
      "Speed: 6.8ms preprocess, 57.4ms inference, 1.1ms postprocess per image at shape (1, 3, 1088, 1920)\n",
      "\n",
      "0: 1088x1920 1 ball, 23 players, 57.3ms\n",
      "Speed: 6.9ms preprocess, 57.3ms inference, 1.1ms postprocess per image at shape (1, 3, 1088, 1920)\n"
     ]
    },
    {
     "name": "stdout",
     "output_type": "stream",
     "text": [
      "1679\n",
      "Saved: temp_task_folder/img1/001679.jpg\n",
      "1680\n",
      "Saved: temp_task_folder/img1/001680.jpg\n"
     ]
    },
    {
     "name": "stderr",
     "output_type": "stream",
     "text": [
      "\n",
      "0: 1088x1920 1 ball, 23 players, 57.4ms\n",
      "Speed: 6.9ms preprocess, 57.4ms inference, 1.1ms postprocess per image at shape (1, 3, 1088, 1920)\n",
      "\n",
      "0: 1088x1920 1 ball, 23 players, 57.4ms\n",
      "Speed: 7.8ms preprocess, 57.4ms inference, 1.1ms postprocess per image at shape (1, 3, 1088, 1920)\n"
     ]
    },
    {
     "name": "stdout",
     "output_type": "stream",
     "text": [
      "1681\n",
      "Saved: temp_task_folder/img1/001681.jpg\n",
      "1682\n",
      "Saved: temp_task_folder/img1/001682.jpg\n"
     ]
    },
    {
     "name": "stderr",
     "output_type": "stream",
     "text": [
      "\n",
      "0: 1088x1920 1 ball, 23 players, 57.4ms\n",
      "Speed: 6.9ms preprocess, 57.4ms inference, 1.1ms postprocess per image at shape (1, 3, 1088, 1920)\n",
      "\n",
      "0: 1088x1920 1 ball, 23 players, 57.4ms\n",
      "Speed: 6.9ms preprocess, 57.4ms inference, 1.1ms postprocess per image at shape (1, 3, 1088, 1920)\n"
     ]
    },
    {
     "name": "stdout",
     "output_type": "stream",
     "text": [
      "1683\n",
      "Saved: temp_task_folder/img1/001683.jpg\n",
      "1684\n",
      "Saved: temp_task_folder/img1/001684.jpg\n"
     ]
    },
    {
     "name": "stderr",
     "output_type": "stream",
     "text": [
      "\n",
      "0: 1088x1920 1 ball, 23 players, 57.5ms\n",
      "Speed: 6.9ms preprocess, 57.5ms inference, 1.1ms postprocess per image at shape (1, 3, 1088, 1920)\n",
      "\n",
      "0: 1088x1920 1 ball, 23 players, 57.3ms\n",
      "Speed: 6.9ms preprocess, 57.3ms inference, 1.1ms postprocess per image at shape (1, 3, 1088, 1920)\n"
     ]
    },
    {
     "name": "stdout",
     "output_type": "stream",
     "text": [
      "1685\n",
      "Saved: temp_task_folder/img1/001685.jpg\n",
      "1686\n",
      "Saved: temp_task_folder/img1/001686.jpg\n"
     ]
    },
    {
     "name": "stderr",
     "output_type": "stream",
     "text": [
      "\n",
      "0: 1088x1920 1 ball, 22 players, 57.3ms\n",
      "Speed: 6.8ms preprocess, 57.3ms inference, 1.1ms postprocess per image at shape (1, 3, 1088, 1920)\n",
      "\n",
      "0: 1088x1920 1 ball, 23 players, 57.4ms\n",
      "Speed: 6.9ms preprocess, 57.4ms inference, 1.1ms postprocess per image at shape (1, 3, 1088, 1920)\n"
     ]
    },
    {
     "name": "stdout",
     "output_type": "stream",
     "text": [
      "1687\n",
      "Saved: temp_task_folder/img1/001687.jpg\n",
      "1688\n",
      "Saved: temp_task_folder/img1/001688.jpg\n"
     ]
    },
    {
     "name": "stderr",
     "output_type": "stream",
     "text": [
      "\n",
      "0: 1088x1920 1 ball, 23 players, 57.4ms\n",
      "Speed: 6.9ms preprocess, 57.4ms inference, 1.1ms postprocess per image at shape (1, 3, 1088, 1920)\n",
      "\n",
      "0: 1088x1920 1 ball, 23 players, 57.3ms\n",
      "Speed: 6.9ms preprocess, 57.3ms inference, 1.1ms postprocess per image at shape (1, 3, 1088, 1920)\n"
     ]
    },
    {
     "name": "stdout",
     "output_type": "stream",
     "text": [
      "1689\n",
      "Saved: temp_task_folder/img1/001689.jpg\n",
      "1690\n",
      "Saved: temp_task_folder/img1/001690.jpg\n"
     ]
    },
    {
     "name": "stderr",
     "output_type": "stream",
     "text": [
      "\n",
      "0: 1088x1920 1 ball, 23 players, 57.4ms\n",
      "Speed: 6.8ms preprocess, 57.4ms inference, 1.1ms postprocess per image at shape (1, 3, 1088, 1920)\n",
      "\n",
      "0: 1088x1920 1 ball, 23 players, 57.4ms\n",
      "Speed: 6.9ms preprocess, 57.4ms inference, 1.1ms postprocess per image at shape (1, 3, 1088, 1920)\n"
     ]
    },
    {
     "name": "stdout",
     "output_type": "stream",
     "text": [
      "1691\n",
      "Saved: temp_task_folder/img1/001691.jpg\n",
      "1692\n",
      "Saved: temp_task_folder/img1/001692.jpg\n"
     ]
    },
    {
     "name": "stderr",
     "output_type": "stream",
     "text": [
      "\n",
      "0: 1088x1920 1 ball, 23 players, 57.5ms\n",
      "Speed: 6.8ms preprocess, 57.5ms inference, 1.1ms postprocess per image at shape (1, 3, 1088, 1920)\n",
      "\n",
      "0: 1088x1920 1 ball, 23 players, 57.2ms\n",
      "Speed: 6.7ms preprocess, 57.2ms inference, 1.1ms postprocess per image at shape (1, 3, 1088, 1920)\n"
     ]
    },
    {
     "name": "stdout",
     "output_type": "stream",
     "text": [
      "1693\n",
      "Saved: temp_task_folder/img1/001693.jpg\n",
      "1694\n",
      "Saved: temp_task_folder/img1/001694.jpg\n"
     ]
    },
    {
     "name": "stderr",
     "output_type": "stream",
     "text": [
      "\n",
      "0: 1088x1920 1 ball, 22 players, 57.2ms\n",
      "Speed: 6.8ms preprocess, 57.2ms inference, 1.1ms postprocess per image at shape (1, 3, 1088, 1920)\n",
      "\n",
      "0: 1088x1920 1 ball, 23 players, 57.5ms\n",
      "Speed: 6.9ms preprocess, 57.5ms inference, 1.1ms postprocess per image at shape (1, 3, 1088, 1920)\n"
     ]
    },
    {
     "name": "stdout",
     "output_type": "stream",
     "text": [
      "1695\n",
      "Saved: temp_task_folder/img1/001695.jpg\n",
      "1696\n",
      "Saved: temp_task_folder/img1/001696.jpg\n"
     ]
    },
    {
     "name": "stderr",
     "output_type": "stream",
     "text": [
      "\n",
      "0: 1088x1920 1 ball, 22 players, 57.4ms\n",
      "Speed: 6.9ms preprocess, 57.4ms inference, 1.1ms postprocess per image at shape (1, 3, 1088, 1920)\n",
      "\n",
      "0: 1088x1920 1 ball, 22 players, 57.4ms\n",
      "Speed: 6.8ms preprocess, 57.4ms inference, 1.1ms postprocess per image at shape (1, 3, 1088, 1920)\n"
     ]
    },
    {
     "name": "stdout",
     "output_type": "stream",
     "text": [
      "1697\n",
      "Saved: temp_task_folder/img1/001697.jpg\n",
      "1698\n",
      "Saved: temp_task_folder/img1/001698.jpg\n"
     ]
    },
    {
     "name": "stderr",
     "output_type": "stream",
     "text": [
      "\n",
      "0: 1088x1920 1 ball, 22 players, 57.4ms\n",
      "Speed: 6.9ms preprocess, 57.4ms inference, 1.1ms postprocess per image at shape (1, 3, 1088, 1920)\n",
      "\n",
      "0: 1088x1920 1 ball, 22 players, 57.4ms\n",
      "Speed: 6.8ms preprocess, 57.4ms inference, 1.1ms postprocess per image at shape (1, 3, 1088, 1920)\n"
     ]
    },
    {
     "name": "stdout",
     "output_type": "stream",
     "text": [
      "1699\n",
      "Saved: temp_task_folder/img1/001699.jpg\n",
      "1700\n",
      "Saved: temp_task_folder/img1/001700.jpg\n"
     ]
    },
    {
     "name": "stderr",
     "output_type": "stream",
     "text": [
      "\n",
      "0: 1088x1920 1 ball, 22 players, 57.5ms\n",
      "Speed: 6.9ms preprocess, 57.5ms inference, 1.1ms postprocess per image at shape (1, 3, 1088, 1920)\n",
      "\n",
      "0: 1088x1920 1 ball, 22 players, 57.5ms\n",
      "Speed: 6.9ms preprocess, 57.5ms inference, 1.1ms postprocess per image at shape (1, 3, 1088, 1920)\n"
     ]
    },
    {
     "name": "stdout",
     "output_type": "stream",
     "text": [
      "1701\n",
      "Saved: temp_task_folder/img1/001701.jpg\n",
      "1702\n",
      "Saved: temp_task_folder/img1/001702.jpg\n"
     ]
    },
    {
     "name": "stderr",
     "output_type": "stream",
     "text": [
      "\n",
      "0: 1088x1920 1 ball, 22 players, 57.3ms\n",
      "Speed: 6.8ms preprocess, 57.3ms inference, 1.1ms postprocess per image at shape (1, 3, 1088, 1920)\n",
      "\n",
      "0: 1088x1920 1 ball, 22 players, 57.3ms\n",
      "Speed: 6.9ms preprocess, 57.3ms inference, 1.2ms postprocess per image at shape (1, 3, 1088, 1920)\n"
     ]
    },
    {
     "name": "stdout",
     "output_type": "stream",
     "text": [
      "1703\n",
      "Saved: temp_task_folder/img1/001703.jpg\n",
      "1704\n",
      "Saved: temp_task_folder/img1/001704.jpg\n"
     ]
    },
    {
     "name": "stderr",
     "output_type": "stream",
     "text": [
      "\n",
      "0: 1088x1920 1 ball, 22 players, 57.3ms\n",
      "Speed: 6.8ms preprocess, 57.3ms inference, 1.1ms postprocess per image at shape (1, 3, 1088, 1920)\n",
      "\n",
      "0: 1088x1920 1 ball, 22 players, 57.4ms\n",
      "Speed: 6.8ms preprocess, 57.4ms inference, 1.1ms postprocess per image at shape (1, 3, 1088, 1920)\n"
     ]
    },
    {
     "name": "stdout",
     "output_type": "stream",
     "text": [
      "1705\n",
      "Saved: temp_task_folder/img1/001705.jpg\n",
      "1706\n",
      "Saved: temp_task_folder/img1/001706.jpg\n"
     ]
    },
    {
     "name": "stderr",
     "output_type": "stream",
     "text": [
      "\n",
      "0: 1088x1920 1 ball, 22 players, 57.4ms\n",
      "Speed: 6.8ms preprocess, 57.4ms inference, 1.1ms postprocess per image at shape (1, 3, 1088, 1920)\n",
      "\n",
      "0: 1088x1920 1 ball, 23 players, 57.4ms\n",
      "Speed: 6.9ms preprocess, 57.4ms inference, 1.1ms postprocess per image at shape (1, 3, 1088, 1920)\n"
     ]
    },
    {
     "name": "stdout",
     "output_type": "stream",
     "text": [
      "1707\n",
      "Saved: temp_task_folder/img1/001707.jpg\n",
      "1708\n",
      "Saved: temp_task_folder/img1/001708.jpg\n"
     ]
    },
    {
     "name": "stderr",
     "output_type": "stream",
     "text": [
      "\n",
      "0: 1088x1920 1 ball, 23 players, 57.5ms\n",
      "Speed: 6.9ms preprocess, 57.5ms inference, 1.1ms postprocess per image at shape (1, 3, 1088, 1920)\n",
      "\n",
      "0: 1088x1920 1 ball, 22 players, 57.3ms\n",
      "Speed: 6.9ms preprocess, 57.3ms inference, 1.1ms postprocess per image at shape (1, 3, 1088, 1920)\n"
     ]
    },
    {
     "name": "stdout",
     "output_type": "stream",
     "text": [
      "1709\n",
      "Saved: temp_task_folder/img1/001709.jpg\n",
      "1710\n",
      "Saved: temp_task_folder/img1/001710.jpg\n"
     ]
    },
    {
     "name": "stderr",
     "output_type": "stream",
     "text": [
      "\n",
      "0: 1088x1920 1 ball, 22 players, 57.4ms\n",
      "Speed: 6.9ms preprocess, 57.4ms inference, 1.1ms postprocess per image at shape (1, 3, 1088, 1920)\n",
      "\n",
      "0: 1088x1920 1 ball, 22 players, 57.4ms\n",
      "Speed: 6.8ms preprocess, 57.4ms inference, 1.1ms postprocess per image at shape (1, 3, 1088, 1920)\n"
     ]
    },
    {
     "name": "stdout",
     "output_type": "stream",
     "text": [
      "1711\n",
      "Saved: temp_task_folder/img1/001711.jpg\n",
      "1712\n",
      "Saved: temp_task_folder/img1/001712.jpg\n"
     ]
    },
    {
     "name": "stderr",
     "output_type": "stream",
     "text": [
      "\n",
      "0: 1088x1920 1 ball, 22 players, 57.5ms\n",
      "Speed: 6.9ms preprocess, 57.5ms inference, 1.1ms postprocess per image at shape (1, 3, 1088, 1920)\n",
      "\n",
      "0: 1088x1920 1 ball, 22 players, 57.3ms\n",
      "Speed: 6.8ms preprocess, 57.3ms inference, 1.1ms postprocess per image at shape (1, 3, 1088, 1920)\n"
     ]
    },
    {
     "name": "stdout",
     "output_type": "stream",
     "text": [
      "1713\n",
      "Saved: temp_task_folder/img1/001713.jpg\n",
      "1714\n",
      "Saved: temp_task_folder/img1/001714.jpg\n"
     ]
    },
    {
     "name": "stderr",
     "output_type": "stream",
     "text": [
      "\n",
      "0: 1088x1920 1 ball, 22 players, 57.4ms\n",
      "Speed: 6.8ms preprocess, 57.4ms inference, 1.1ms postprocess per image at shape (1, 3, 1088, 1920)\n",
      "\n",
      "0: 1088x1920 1 ball, 22 players, 57.5ms\n",
      "Speed: 6.8ms preprocess, 57.5ms inference, 1.1ms postprocess per image at shape (1, 3, 1088, 1920)\n"
     ]
    },
    {
     "name": "stdout",
     "output_type": "stream",
     "text": [
      "1715\n",
      "Saved: temp_task_folder/img1/001715.jpg\n",
      "1716\n",
      "Saved: temp_task_folder/img1/001716.jpg\n"
     ]
    },
    {
     "name": "stderr",
     "output_type": "stream",
     "text": [
      "\n",
      "0: 1088x1920 1 ball, 23 players, 57.3ms\n",
      "Speed: 6.9ms preprocess, 57.3ms inference, 1.1ms postprocess per image at shape (1, 3, 1088, 1920)\n",
      "\n",
      "0: 1088x1920 1 ball, 23 players, 57.4ms\n",
      "Speed: 6.8ms preprocess, 57.4ms inference, 1.1ms postprocess per image at shape (1, 3, 1088, 1920)\n"
     ]
    },
    {
     "name": "stdout",
     "output_type": "stream",
     "text": [
      "1717\n",
      "Saved: temp_task_folder/img1/001717.jpg\n",
      "1718\n",
      "Saved: temp_task_folder/img1/001718.jpg\n"
     ]
    },
    {
     "name": "stderr",
     "output_type": "stream",
     "text": [
      "\n",
      "0: 1088x1920 23 players, 57.4ms\n",
      "Speed: 6.8ms preprocess, 57.4ms inference, 1.1ms postprocess per image at shape (1, 3, 1088, 1920)\n",
      "\n",
      "0: 1088x1920 23 players, 57.4ms\n",
      "Speed: 6.7ms preprocess, 57.4ms inference, 1.1ms postprocess per image at shape (1, 3, 1088, 1920)\n"
     ]
    },
    {
     "name": "stdout",
     "output_type": "stream",
     "text": [
      "1719\n",
      "Saved: temp_task_folder/img1/001719.jpg\n",
      "1720\n",
      "Saved: temp_task_folder/img1/001720.jpg\n"
     ]
    },
    {
     "name": "stderr",
     "output_type": "stream",
     "text": [
      "\n",
      "0: 1088x1920 24 players, 57.4ms\n",
      "Speed: 6.8ms preprocess, 57.4ms inference, 1.1ms postprocess per image at shape (1, 3, 1088, 1920)\n",
      "\n",
      "0: 1088x1920 23 players, 57.4ms\n",
      "Speed: 6.8ms preprocess, 57.4ms inference, 1.1ms postprocess per image at shape (1, 3, 1088, 1920)\n"
     ]
    },
    {
     "name": "stdout",
     "output_type": "stream",
     "text": [
      "1721\n",
      "Saved: temp_task_folder/img1/001721.jpg\n",
      "1722\n",
      "Saved: temp_task_folder/img1/001722.jpg\n"
     ]
    },
    {
     "name": "stderr",
     "output_type": "stream",
     "text": [
      "\n",
      "0: 1088x1920 23 players, 57.3ms\n",
      "Speed: 6.8ms preprocess, 57.3ms inference, 1.1ms postprocess per image at shape (1, 3, 1088, 1920)\n",
      "\n",
      "0: 1088x1920 1 ball, 23 players, 57.4ms\n",
      "Speed: 6.8ms preprocess, 57.4ms inference, 1.1ms postprocess per image at shape (1, 3, 1088, 1920)\n"
     ]
    },
    {
     "name": "stdout",
     "output_type": "stream",
     "text": [
      "1723\n",
      "Saved: temp_task_folder/img1/001723.jpg\n",
      "1724\n",
      "Saved: temp_task_folder/img1/001724.jpg\n"
     ]
    },
    {
     "name": "stderr",
     "output_type": "stream",
     "text": [
      "\n",
      "0: 1088x1920 1 ball, 24 players, 57.5ms\n",
      "Speed: 6.8ms preprocess, 57.5ms inference, 1.1ms postprocess per image at shape (1, 3, 1088, 1920)\n",
      "\n",
      "0: 1088x1920 1 ball, 24 players, 57.3ms\n",
      "Speed: 6.9ms preprocess, 57.3ms inference, 1.1ms postprocess per image at shape (1, 3, 1088, 1920)\n"
     ]
    },
    {
     "name": "stdout",
     "output_type": "stream",
     "text": [
      "1725\n",
      "Saved: temp_task_folder/img1/001725.jpg\n",
      "1726\n",
      "Saved: temp_task_folder/img1/001726.jpg\n"
     ]
    },
    {
     "name": "stderr",
     "output_type": "stream",
     "text": [
      "\n",
      "0: 1088x1920 1 ball, 24 players, 57.5ms\n",
      "Speed: 6.8ms preprocess, 57.5ms inference, 1.1ms postprocess per image at shape (1, 3, 1088, 1920)\n",
      "\n",
      "0: 1088x1920 1 ball, 23 players, 57.4ms\n",
      "Speed: 6.9ms preprocess, 57.4ms inference, 1.1ms postprocess per image at shape (1, 3, 1088, 1920)\n"
     ]
    },
    {
     "name": "stdout",
     "output_type": "stream",
     "text": [
      "1727\n",
      "Saved: temp_task_folder/img1/001727.jpg\n",
      "1728\n",
      "Saved: temp_task_folder/img1/001728.jpg\n"
     ]
    },
    {
     "name": "stderr",
     "output_type": "stream",
     "text": [
      "\n",
      "0: 1088x1920 23 players, 57.5ms\n",
      "Speed: 6.8ms preprocess, 57.5ms inference, 1.1ms postprocess per image at shape (1, 3, 1088, 1920)\n",
      "\n",
      "0: 1088x1920 23 players, 57.4ms\n",
      "Speed: 6.8ms preprocess, 57.4ms inference, 1.1ms postprocess per image at shape (1, 3, 1088, 1920)\n"
     ]
    },
    {
     "name": "stdout",
     "output_type": "stream",
     "text": [
      "1729\n",
      "Saved: temp_task_folder/img1/001729.jpg\n",
      "1730\n",
      "Saved: temp_task_folder/img1/001730.jpg\n"
     ]
    },
    {
     "name": "stderr",
     "output_type": "stream",
     "text": [
      "\n",
      "0: 1088x1920 24 players, 57.4ms\n",
      "Speed: 6.9ms preprocess, 57.4ms inference, 1.1ms postprocess per image at shape (1, 3, 1088, 1920)\n",
      "\n",
      "0: 1088x1920 25 players, 57.3ms\n",
      "Speed: 6.8ms preprocess, 57.3ms inference, 1.1ms postprocess per image at shape (1, 3, 1088, 1920)\n"
     ]
    },
    {
     "name": "stdout",
     "output_type": "stream",
     "text": [
      "1731\n",
      "Saved: temp_task_folder/img1/001731.jpg\n",
      "1732\n",
      "Saved: temp_task_folder/img1/001732.jpg\n"
     ]
    },
    {
     "name": "stderr",
     "output_type": "stream",
     "text": [
      "\n",
      "0: 1088x1920 23 players, 57.4ms\n",
      "Speed: 6.8ms preprocess, 57.4ms inference, 1.1ms postprocess per image at shape (1, 3, 1088, 1920)\n",
      "\n",
      "0: 1088x1920 23 players, 57.5ms\n",
      "Speed: 6.8ms preprocess, 57.5ms inference, 1.1ms postprocess per image at shape (1, 3, 1088, 1920)\n"
     ]
    },
    {
     "name": "stdout",
     "output_type": "stream",
     "text": [
      "1733\n",
      "Saved: temp_task_folder/img1/001733.jpg\n",
      "1734\n",
      "Saved: temp_task_folder/img1/001734.jpg\n"
     ]
    },
    {
     "name": "stderr",
     "output_type": "stream",
     "text": [
      "\n",
      "0: 1088x1920 23 players, 57.4ms\n",
      "Speed: 6.9ms preprocess, 57.4ms inference, 1.1ms postprocess per image at shape (1, 3, 1088, 1920)\n",
      "\n",
      "0: 1088x1920 23 players, 57.4ms\n",
      "Speed: 6.9ms preprocess, 57.4ms inference, 1.1ms postprocess per image at shape (1, 3, 1088, 1920)\n"
     ]
    },
    {
     "name": "stdout",
     "output_type": "stream",
     "text": [
      "1735\n",
      "Saved: temp_task_folder/img1/001735.jpg\n",
      "1736\n",
      "Saved: temp_task_folder/img1/001736.jpg\n"
     ]
    },
    {
     "name": "stderr",
     "output_type": "stream",
     "text": [
      "\n",
      "0: 1088x1920 23 players, 57.4ms\n",
      "Speed: 6.9ms preprocess, 57.4ms inference, 1.1ms postprocess per image at shape (1, 3, 1088, 1920)\n",
      "\n",
      "0: 1088x1920 1 ball, 23 players, 57.5ms\n",
      "Speed: 6.8ms preprocess, 57.5ms inference, 1.1ms postprocess per image at shape (1, 3, 1088, 1920)\n"
     ]
    },
    {
     "name": "stdout",
     "output_type": "stream",
     "text": [
      "1737\n",
      "Saved: temp_task_folder/img1/001737.jpg\n",
      "1738\n",
      "Saved: temp_task_folder/img1/001738.jpg\n"
     ]
    },
    {
     "name": "stderr",
     "output_type": "stream",
     "text": [
      "\n",
      "0: 1088x1920 1 ball, 23 players, 57.2ms\n",
      "Speed: 6.8ms preprocess, 57.2ms inference, 1.1ms postprocess per image at shape (1, 3, 1088, 1920)\n",
      "\n",
      "0: 1088x1920 1 ball, 23 players, 57.3ms\n",
      "Speed: 6.8ms preprocess, 57.3ms inference, 1.1ms postprocess per image at shape (1, 3, 1088, 1920)\n"
     ]
    },
    {
     "name": "stdout",
     "output_type": "stream",
     "text": [
      "1739\n",
      "Saved: temp_task_folder/img1/001739.jpg\n",
      "1740\n",
      "Saved: temp_task_folder/img1/001740.jpg\n"
     ]
    },
    {
     "name": "stderr",
     "output_type": "stream",
     "text": [
      "\n",
      "0: 1088x1920 1 ball, 23 players, 57.5ms\n",
      "Speed: 6.8ms preprocess, 57.5ms inference, 1.1ms postprocess per image at shape (1, 3, 1088, 1920)\n",
      "\n",
      "0: 1088x1920 2 balls, 23 players, 57.2ms\n",
      "Speed: 6.9ms preprocess, 57.2ms inference, 1.1ms postprocess per image at shape (1, 3, 1088, 1920)\n"
     ]
    },
    {
     "name": "stdout",
     "output_type": "stream",
     "text": [
      "1741\n",
      "Saved: temp_task_folder/img1/001741.jpg\n",
      "1742\n",
      "Saved: temp_task_folder/img1/001742.jpg\n"
     ]
    },
    {
     "name": "stderr",
     "output_type": "stream",
     "text": [
      "\n",
      "0: 1088x1920 23 players, 57.4ms\n",
      "Speed: 6.9ms preprocess, 57.4ms inference, 1.1ms postprocess per image at shape (1, 3, 1088, 1920)\n",
      "\n",
      "0: 1088x1920 23 players, 57.4ms\n",
      "Speed: 6.9ms preprocess, 57.4ms inference, 1.1ms postprocess per image at shape (1, 3, 1088, 1920)\n"
     ]
    },
    {
     "name": "stdout",
     "output_type": "stream",
     "text": [
      "1743\n",
      "Saved: temp_task_folder/img1/001743.jpg\n",
      "1744\n",
      "Saved: temp_task_folder/img1/001744.jpg\n"
     ]
    },
    {
     "name": "stderr",
     "output_type": "stream",
     "text": [
      "\n",
      "0: 1088x1920 24 players, 57.4ms\n",
      "Speed: 6.7ms preprocess, 57.4ms inference, 1.1ms postprocess per image at shape (1, 3, 1088, 1920)\n",
      "\n",
      "0: 1088x1920 23 players, 57.1ms\n",
      "Speed: 6.8ms preprocess, 57.1ms inference, 1.1ms postprocess per image at shape (1, 3, 1088, 1920)\n"
     ]
    },
    {
     "name": "stdout",
     "output_type": "stream",
     "text": [
      "1745\n",
      "Saved: temp_task_folder/img1/001745.jpg\n",
      "1746\n",
      "Saved: temp_task_folder/img1/001746.jpg\n"
     ]
    },
    {
     "name": "stderr",
     "output_type": "stream",
     "text": [
      "\n",
      "0: 1088x1920 23 players, 57.5ms\n",
      "Speed: 6.8ms preprocess, 57.5ms inference, 1.1ms postprocess per image at shape (1, 3, 1088, 1920)\n",
      "\n",
      "0: 1088x1920 22 players, 57.4ms\n",
      "Speed: 6.9ms preprocess, 57.4ms inference, 1.1ms postprocess per image at shape (1, 3, 1088, 1920)\n"
     ]
    },
    {
     "name": "stdout",
     "output_type": "stream",
     "text": [
      "1747\n",
      "Saved: temp_task_folder/img1/001747.jpg\n",
      "1748\n",
      "Saved: temp_task_folder/img1/001748.jpg\n"
     ]
    },
    {
     "name": "stderr",
     "output_type": "stream",
     "text": [
      "\n",
      "0: 1088x1920 22 players, 57.4ms\n",
      "Speed: 6.8ms preprocess, 57.4ms inference, 1.1ms postprocess per image at shape (1, 3, 1088, 1920)\n",
      "\n",
      "0: 1088x1920 22 players, 57.4ms\n",
      "Speed: 6.9ms preprocess, 57.4ms inference, 1.1ms postprocess per image at shape (1, 3, 1088, 1920)\n"
     ]
    },
    {
     "name": "stdout",
     "output_type": "stream",
     "text": [
      "1749\n",
      "Saved: temp_task_folder/img1/001749.jpg\n",
      "1750\n",
      "Saved: temp_task_folder/img1/001750.jpg\n"
     ]
    },
    {
     "name": "stderr",
     "output_type": "stream",
     "text": [
      "\n",
      "0: 1088x1920 22 players, 57.2ms\n",
      "Speed: 6.8ms preprocess, 57.2ms inference, 1.1ms postprocess per image at shape (1, 3, 1088, 1920)\n",
      "\n",
      "0: 1088x1920 1 ball, 22 players, 57.3ms\n",
      "Speed: 6.9ms preprocess, 57.3ms inference, 1.1ms postprocess per image at shape (1, 3, 1088, 1920)\n"
     ]
    },
    {
     "name": "stdout",
     "output_type": "stream",
     "text": [
      "1751\n",
      "Saved: temp_task_folder/img1/001751.jpg\n",
      "1752\n",
      "Saved: temp_task_folder/img1/001752.jpg\n"
     ]
    },
    {
     "name": "stderr",
     "output_type": "stream",
     "text": [
      "\n",
      "0: 1088x1920 1 ball, 22 players, 57.4ms\n",
      "Speed: 6.9ms preprocess, 57.4ms inference, 1.1ms postprocess per image at shape (1, 3, 1088, 1920)\n",
      "\n",
      "0: 1088x1920 1 ball, 22 players, 57.3ms\n",
      "Speed: 6.9ms preprocess, 57.3ms inference, 1.4ms postprocess per image at shape (1, 3, 1088, 1920)\n"
     ]
    },
    {
     "name": "stdout",
     "output_type": "stream",
     "text": [
      "1753\n",
      "Saved: temp_task_folder/img1/001753.jpg\n",
      "1754\n"
     ]
    },
    {
     "name": "stderr",
     "output_type": "stream",
     "text": [
      "\n",
      "0: 1088x1920 1 ball, 22 players, 57.5ms\n",
      "Speed: 7.4ms preprocess, 57.5ms inference, 1.1ms postprocess per image at shape (1, 3, 1088, 1920)\n"
     ]
    },
    {
     "name": "stdout",
     "output_type": "stream",
     "text": [
      "Saved: temp_task_folder/img1/001754.jpg\n",
      "1755\n",
      "Saved: temp_task_folder/img1/001755.jpg\n"
     ]
    },
    {
     "name": "stderr",
     "output_type": "stream",
     "text": [
      "\n",
      "0: 1088x1920 1 ball, 22 players, 57.4ms\n",
      "Speed: 6.9ms preprocess, 57.4ms inference, 1.1ms postprocess per image at shape (1, 3, 1088, 1920)\n",
      "\n",
      "0: 1088x1920 1 ball, 22 players, 57.5ms\n",
      "Speed: 6.8ms preprocess, 57.5ms inference, 1.1ms postprocess per image at shape (1, 3, 1088, 1920)\n"
     ]
    },
    {
     "name": "stdout",
     "output_type": "stream",
     "text": [
      "1756\n",
      "Saved: temp_task_folder/img1/001756.jpg\n",
      "1757\n",
      "Saved: temp_task_folder/img1/001757.jpg\n"
     ]
    },
    {
     "name": "stderr",
     "output_type": "stream",
     "text": [
      "\n",
      "0: 1088x1920 1 ball, 22 players, 57.4ms\n",
      "Speed: 6.8ms preprocess, 57.4ms inference, 1.1ms postprocess per image at shape (1, 3, 1088, 1920)\n",
      "\n",
      "0: 1088x1920 1 ball, 23 players, 57.3ms\n",
      "Speed: 6.9ms preprocess, 57.3ms inference, 1.1ms postprocess per image at shape (1, 3, 1088, 1920)\n"
     ]
    },
    {
     "name": "stdout",
     "output_type": "stream",
     "text": [
      "1758\n",
      "Saved: temp_task_folder/img1/001758.jpg\n",
      "1759\n",
      "Saved: temp_task_folder/img1/001759.jpg\n"
     ]
    },
    {
     "name": "stderr",
     "output_type": "stream",
     "text": [
      "\n",
      "0: 1088x1920 1 ball, 23 players, 57.3ms\n",
      "Speed: 6.8ms preprocess, 57.3ms inference, 1.1ms postprocess per image at shape (1, 3, 1088, 1920)\n",
      "\n",
      "0: 1088x1920 1 ball, 22 players, 57.4ms\n",
      "Speed: 6.8ms preprocess, 57.4ms inference, 1.1ms postprocess per image at shape (1, 3, 1088, 1920)\n"
     ]
    },
    {
     "name": "stdout",
     "output_type": "stream",
     "text": [
      "1760\n",
      "Saved: temp_task_folder/img1/001760.jpg\n",
      "1761\n",
      "Saved: temp_task_folder/img1/001761.jpg\n"
     ]
    },
    {
     "name": "stderr",
     "output_type": "stream",
     "text": [
      "\n",
      "0: 1088x1920 1 ball, 22 players, 57.5ms\n",
      "Speed: 6.9ms preprocess, 57.5ms inference, 1.1ms postprocess per image at shape (1, 3, 1088, 1920)\n",
      "\n",
      "0: 1088x1920 1 ball, 22 players, 57.4ms\n",
      "Speed: 6.9ms preprocess, 57.4ms inference, 1.1ms postprocess per image at shape (1, 3, 1088, 1920)\n"
     ]
    },
    {
     "name": "stdout",
     "output_type": "stream",
     "text": [
      "1762\n",
      "Saved: temp_task_folder/img1/001762.jpg\n",
      "1763\n",
      "Saved: temp_task_folder/img1/001763.jpg\n"
     ]
    },
    {
     "name": "stderr",
     "output_type": "stream",
     "text": [
      "\n",
      "0: 1088x1920 1 ball, 22 players, 57.4ms\n",
      "Speed: 6.9ms preprocess, 57.4ms inference, 1.1ms postprocess per image at shape (1, 3, 1088, 1920)\n",
      "\n",
      "0: 1088x1920 1 ball, 22 players, 57.1ms\n",
      "Speed: 6.9ms preprocess, 57.1ms inference, 1.1ms postprocess per image at shape (1, 3, 1088, 1920)\n"
     ]
    },
    {
     "name": "stdout",
     "output_type": "stream",
     "text": [
      "1764\n",
      "Saved: temp_task_folder/img1/001764.jpg\n",
      "1765\n",
      "Saved: temp_task_folder/img1/001765.jpg\n"
     ]
    },
    {
     "name": "stderr",
     "output_type": "stream",
     "text": [
      "\n",
      "0: 1088x1920 1 ball, 22 players, 57.4ms\n",
      "Speed: 6.8ms preprocess, 57.4ms inference, 1.1ms postprocess per image at shape (1, 3, 1088, 1920)\n",
      "\n",
      "0: 1088x1920 1 ball, 22 players, 57.5ms\n",
      "Speed: 6.9ms preprocess, 57.5ms inference, 1.1ms postprocess per image at shape (1, 3, 1088, 1920)\n"
     ]
    },
    {
     "name": "stdout",
     "output_type": "stream",
     "text": [
      "1766\n",
      "Saved: temp_task_folder/img1/001766.jpg\n",
      "1767\n",
      "Saved: temp_task_folder/img1/001767.jpg\n"
     ]
    },
    {
     "name": "stderr",
     "output_type": "stream",
     "text": [
      "\n",
      "0: 1088x1920 1 ball, 22 players, 57.3ms\n",
      "Speed: 6.8ms preprocess, 57.3ms inference, 1.1ms postprocess per image at shape (1, 3, 1088, 1920)\n",
      "\n",
      "0: 1088x1920 1 ball, 22 players, 57.5ms\n",
      "Speed: 6.9ms preprocess, 57.5ms inference, 1.1ms postprocess per image at shape (1, 3, 1088, 1920)\n"
     ]
    },
    {
     "name": "stdout",
     "output_type": "stream",
     "text": [
      "1768\n",
      "Saved: temp_task_folder/img1/001768.jpg\n",
      "1769\n",
      "Saved: temp_task_folder/img1/001769.jpg\n"
     ]
    },
    {
     "name": "stderr",
     "output_type": "stream",
     "text": [
      "\n",
      "0: 1088x1920 1 ball, 21 players, 57.1ms\n",
      "Speed: 6.9ms preprocess, 57.1ms inference, 1.1ms postprocess per image at shape (1, 3, 1088, 1920)\n",
      "\n",
      "0: 1088x1920 1 ball, 21 players, 57.5ms\n",
      "Speed: 6.9ms preprocess, 57.5ms inference, 1.1ms postprocess per image at shape (1, 3, 1088, 1920)\n"
     ]
    },
    {
     "name": "stdout",
     "output_type": "stream",
     "text": [
      "1770\n",
      "Saved: temp_task_folder/img1/001770.jpg\n",
      "1771\n",
      "Saved: temp_task_folder/img1/001771.jpg\n"
     ]
    },
    {
     "name": "stderr",
     "output_type": "stream",
     "text": [
      "\n",
      "0: 1088x1920 1 ball, 22 players, 57.3ms\n",
      "Speed: 6.9ms preprocess, 57.3ms inference, 1.1ms postprocess per image at shape (1, 3, 1088, 1920)\n",
      "\n",
      "0: 1088x1920 1 ball, 22 players, 57.4ms\n",
      "Speed: 6.9ms preprocess, 57.4ms inference, 1.1ms postprocess per image at shape (1, 3, 1088, 1920)\n"
     ]
    },
    {
     "name": "stdout",
     "output_type": "stream",
     "text": [
      "1772\n",
      "Saved: temp_task_folder/img1/001772.jpg\n",
      "1773\n",
      "Saved: temp_task_folder/img1/001773.jpg\n"
     ]
    },
    {
     "name": "stderr",
     "output_type": "stream",
     "text": [
      "\n",
      "0: 1088x1920 22 players, 57.5ms\n",
      "Speed: 6.9ms preprocess, 57.5ms inference, 1.1ms postprocess per image at shape (1, 3, 1088, 1920)\n",
      "\n",
      "0: 1088x1920 22 players, 57.5ms\n",
      "Speed: 7.0ms preprocess, 57.5ms inference, 1.1ms postprocess per image at shape (1, 3, 1088, 1920)\n"
     ]
    },
    {
     "name": "stdout",
     "output_type": "stream",
     "text": [
      "1774\n",
      "Saved: temp_task_folder/img1/001774.jpg\n",
      "1775\n",
      "Saved: temp_task_folder/img1/001775.jpg\n"
     ]
    },
    {
     "name": "stderr",
     "output_type": "stream",
     "text": [
      "\n",
      "0: 1088x1920 22 players, 57.4ms\n",
      "Speed: 6.9ms preprocess, 57.4ms inference, 1.1ms postprocess per image at shape (1, 3, 1088, 1920)\n",
      "\n",
      "0: 1088x1920 1 ball, 22 players, 57.2ms\n",
      "Speed: 6.8ms preprocess, 57.2ms inference, 1.1ms postprocess per image at shape (1, 3, 1088, 1920)\n"
     ]
    },
    {
     "name": "stdout",
     "output_type": "stream",
     "text": [
      "1776\n",
      "Saved: temp_task_folder/img1/001776.jpg\n",
      "1777\n",
      "Saved: temp_task_folder/img1/001777.jpg\n"
     ]
    },
    {
     "name": "stderr",
     "output_type": "stream",
     "text": [
      "\n",
      "0: 1088x1920 1 ball, 22 players, 57.4ms\n",
      "Speed: 6.8ms preprocess, 57.4ms inference, 1.1ms postprocess per image at shape (1, 3, 1088, 1920)\n",
      "\n",
      "0: 1088x1920 1 ball, 22 players, 57.5ms\n",
      "Speed: 6.8ms preprocess, 57.5ms inference, 1.1ms postprocess per image at shape (1, 3, 1088, 1920)\n"
     ]
    },
    {
     "name": "stdout",
     "output_type": "stream",
     "text": [
      "1778\n",
      "Saved: temp_task_folder/img1/001778.jpg\n",
      "1779\n",
      "Saved: temp_task_folder/img1/001779.jpg\n"
     ]
    },
    {
     "name": "stderr",
     "output_type": "stream",
     "text": [
      "\n",
      "0: 1088x1920 1 ball, 22 players, 57.4ms\n",
      "Speed: 6.8ms preprocess, 57.4ms inference, 1.2ms postprocess per image at shape (1, 3, 1088, 1920)\n",
      "\n",
      "0: 1088x1920 1 ball, 22 players, 57.4ms\n",
      "Speed: 6.8ms preprocess, 57.4ms inference, 1.1ms postprocess per image at shape (1, 3, 1088, 1920)\n"
     ]
    },
    {
     "name": "stdout",
     "output_type": "stream",
     "text": [
      "1780\n",
      "Saved: temp_task_folder/img1/001780.jpg\n",
      "1781\n",
      "Saved: temp_task_folder/img1/001781.jpg\n"
     ]
    },
    {
     "name": "stderr",
     "output_type": "stream",
     "text": [
      "\n",
      "0: 1088x1920 1 ball, 22 players, 57.5ms\n",
      "Speed: 6.8ms preprocess, 57.5ms inference, 1.1ms postprocess per image at shape (1, 3, 1088, 1920)\n",
      "\n",
      "0: 1088x1920 1 ball, 22 players, 57.4ms\n",
      "Speed: 6.9ms preprocess, 57.4ms inference, 1.1ms postprocess per image at shape (1, 3, 1088, 1920)\n"
     ]
    },
    {
     "name": "stdout",
     "output_type": "stream",
     "text": [
      "1782\n",
      "Saved: temp_task_folder/img1/001782.jpg\n",
      "1783\n",
      "Saved: temp_task_folder/img1/001783.jpg\n"
     ]
    },
    {
     "name": "stderr",
     "output_type": "stream",
     "text": [
      "\n",
      "0: 1088x1920 1 ball, 22 players, 57.5ms\n",
      "Speed: 6.8ms preprocess, 57.5ms inference, 1.1ms postprocess per image at shape (1, 3, 1088, 1920)\n",
      "\n",
      "0: 1088x1920 1 ball, 22 players, 57.2ms\n",
      "Speed: 6.8ms preprocess, 57.2ms inference, 1.1ms postprocess per image at shape (1, 3, 1088, 1920)\n"
     ]
    },
    {
     "name": "stdout",
     "output_type": "stream",
     "text": [
      "1784\n",
      "Saved: temp_task_folder/img1/001784.jpg\n",
      "1785\n",
      "Saved: temp_task_folder/img1/001785.jpg\n"
     ]
    },
    {
     "name": "stderr",
     "output_type": "stream",
     "text": [
      "\n",
      "0: 1088x1920 1 ball, 22 players, 57.4ms\n",
      "Speed: 6.8ms preprocess, 57.4ms inference, 1.1ms postprocess per image at shape (1, 3, 1088, 1920)\n",
      "\n",
      "0: 1088x1920 2 balls, 22 players, 57.3ms\n",
      "Speed: 6.9ms preprocess, 57.3ms inference, 1.1ms postprocess per image at shape (1, 3, 1088, 1920)\n"
     ]
    },
    {
     "name": "stdout",
     "output_type": "stream",
     "text": [
      "1786\n",
      "Saved: temp_task_folder/img1/001786.jpg\n",
      "1787\n",
      "Saved: temp_task_folder/img1/001787.jpg\n"
     ]
    },
    {
     "name": "stderr",
     "output_type": "stream",
     "text": [
      "\n",
      "0: 1088x1920 1 ball, 22 players, 57.2ms\n",
      "Speed: 6.8ms preprocess, 57.2ms inference, 1.1ms postprocess per image at shape (1, 3, 1088, 1920)\n",
      "\n",
      "0: 1088x1920 1 ball, 22 players, 57.4ms\n",
      "Speed: 6.9ms preprocess, 57.4ms inference, 1.1ms postprocess per image at shape (1, 3, 1088, 1920)\n"
     ]
    },
    {
     "name": "stdout",
     "output_type": "stream",
     "text": [
      "1788\n",
      "Saved: temp_task_folder/img1/001788.jpg\n",
      "1789\n",
      "Saved: temp_task_folder/img1/001789.jpg\n"
     ]
    },
    {
     "name": "stderr",
     "output_type": "stream",
     "text": [
      "\n",
      "0: 1088x1920 1 ball, 22 players, 57.5ms\n",
      "Speed: 6.8ms preprocess, 57.5ms inference, 1.1ms postprocess per image at shape (1, 3, 1088, 1920)\n",
      "\n",
      "0: 1088x1920 1 ball, 22 players, 57.3ms\n",
      "Speed: 6.9ms preprocess, 57.3ms inference, 1.1ms postprocess per image at shape (1, 3, 1088, 1920)\n"
     ]
    },
    {
     "name": "stdout",
     "output_type": "stream",
     "text": [
      "1790\n",
      "Saved: temp_task_folder/img1/001790.jpg\n",
      "1791\n",
      "Saved: temp_task_folder/img1/001791.jpg\n"
     ]
    },
    {
     "name": "stderr",
     "output_type": "stream",
     "text": [
      "\n",
      "0: 1088x1920 1 ball, 22 players, 57.3ms\n",
      "Speed: 6.8ms preprocess, 57.3ms inference, 1.1ms postprocess per image at shape (1, 3, 1088, 1920)\n",
      "\n",
      "0: 1088x1920 1 ball, 22 players, 57.4ms\n",
      "Speed: 6.9ms preprocess, 57.4ms inference, 1.1ms postprocess per image at shape (1, 3, 1088, 1920)\n"
     ]
    },
    {
     "name": "stdout",
     "output_type": "stream",
     "text": [
      "1792\n",
      "Saved: temp_task_folder/img1/001792.jpg\n",
      "1793\n",
      "Saved: temp_task_folder/img1/001793.jpg\n"
     ]
    },
    {
     "name": "stderr",
     "output_type": "stream",
     "text": [
      "\n",
      "0: 1088x1920 1 ball, 22 players, 57.3ms\n",
      "Speed: 6.8ms preprocess, 57.3ms inference, 1.1ms postprocess per image at shape (1, 3, 1088, 1920)\n",
      "\n",
      "0: 1088x1920 1 ball, 22 players, 57.5ms\n",
      "Speed: 6.8ms preprocess, 57.5ms inference, 1.1ms postprocess per image at shape (1, 3, 1088, 1920)\n"
     ]
    },
    {
     "name": "stdout",
     "output_type": "stream",
     "text": [
      "1794\n",
      "Saved: temp_task_folder/img1/001794.jpg\n",
      "1795\n",
      "Saved: temp_task_folder/img1/001795.jpg\n"
     ]
    },
    {
     "name": "stderr",
     "output_type": "stream",
     "text": [
      "\n",
      "0: 1088x1920 1 ball, 22 players, 57.4ms\n",
      "Speed: 6.8ms preprocess, 57.4ms inference, 1.1ms postprocess per image at shape (1, 3, 1088, 1920)\n",
      "\n",
      "0: 1088x1920 1 ball, 22 players, 57.4ms\n",
      "Speed: 6.8ms preprocess, 57.4ms inference, 1.1ms postprocess per image at shape (1, 3, 1088, 1920)\n"
     ]
    },
    {
     "name": "stdout",
     "output_type": "stream",
     "text": [
      "1796\n",
      "Saved: temp_task_folder/img1/001796.jpg\n",
      "1797\n",
      "Saved: temp_task_folder/img1/001797.jpg\n"
     ]
    },
    {
     "name": "stderr",
     "output_type": "stream",
     "text": [
      "\n",
      "0: 1088x1920 1 ball, 22 players, 57.3ms\n",
      "Speed: 6.9ms preprocess, 57.3ms inference, 1.1ms postprocess per image at shape (1, 3, 1088, 1920)\n",
      "\n",
      "0: 1088x1920 1 ball, 22 players, 57.3ms\n",
      "Speed: 6.9ms preprocess, 57.3ms inference, 1.1ms postprocess per image at shape (1, 3, 1088, 1920)\n"
     ]
    },
    {
     "name": "stdout",
     "output_type": "stream",
     "text": [
      "1798\n",
      "Saved: temp_task_folder/img1/001798.jpg\n",
      "1799\n",
      "Saved: temp_task_folder/img1/001799.jpg\n"
     ]
    },
    {
     "name": "stderr",
     "output_type": "stream",
     "text": [
      "\n",
      "0: 1088x1920 1 ball, 22 players, 57.4ms\n",
      "Speed: 6.8ms preprocess, 57.4ms inference, 1.1ms postprocess per image at shape (1, 3, 1088, 1920)\n",
      "\n",
      "0: 1088x1920 1 ball, 22 players, 57.3ms\n",
      "Speed: 6.8ms preprocess, 57.3ms inference, 1.1ms postprocess per image at shape (1, 3, 1088, 1920)\n"
     ]
    },
    {
     "name": "stdout",
     "output_type": "stream",
     "text": [
      "1800\n",
      "Saved: temp_task_folder/img1/001800.jpg\n",
      "1801\n",
      "Saved: temp_task_folder/img1/001801.jpg\n"
     ]
    },
    {
     "name": "stderr",
     "output_type": "stream",
     "text": [
      "\n",
      "0: 1088x1920 1 ball, 23 players, 57.3ms\n",
      "Speed: 6.9ms preprocess, 57.3ms inference, 1.1ms postprocess per image at shape (1, 3, 1088, 1920)\n"
     ]
    },
    {
     "name": "stdout",
     "output_type": "stream",
     "text": [
      "1802\n",
      "Time taken to process video: 365.95626044273376 seconds\n"
     ]
    },
    {
     "data": {
      "image/png": "[encoded data removed]",
      "text/plain": [
       "<Figure size 600x200 with 2 Axes>"
      ]
     },
     "metadata": {},
     "output_type": "display_data"
    }
   ],
   "source": [
    "from pathlib import Path\n",
    "import warnings\n",
    "import time\n",
    "\n",
    "warnings.filterwarnings(\"ignore\")\n",
    "model_weights = Path('osnet_x1_0_market1501.pt')\n",
    "yolo_model_path = 'runs/detect/6600_Additional_images/weights/best.pt'\n",
    "input_video_file = \"videos/1min_Bodø_start.mp4\"\n",
    "output_video_name = create_new_file(input_video_file.split(\".\")[0] + \"_tracking_output_test.mp4\")\n",
    "\n",
    "print(\"Tracking output: \" + output_video_name)\n",
    "output_video_file = output_video_name\n",
    "\n",
    "# home_team_color=\"white\"\n",
    "# away_team_color=\"blue\"\n",
    "\n",
    "tracker = initialize_tracker(model_weights)\n",
    "yolov8 = initialize_yolo(yolo_model_path)\n",
    "\n",
    "class_names = [\"player\", \"ball\"] \n",
    "\n",
    "start_time = time.time()\n",
    "process_video(input_video_file, output_video_file, tracker, yolov8, do_kmeans=True, should_plot=False, class_names=class_names)\n",
    "end_time = time.time()\n",
    "\n",
    "execution_time = end_time - start_time\n",
    "\n",
    "print(f\"Time taken to process video: {execution_time} seconds\")"
   ]
  },
  {
   "cell_type": "code",
   "execution_count": null,
   "id": "e8577b7d",
   "metadata": {},
   "outputs": [],
   "source": []
  }
 ],
 "metadata": {
  "kernelspec": {
   "display_name": "Python 3 (ipykernel)",
   "language": "python",
   "name": "python3"
  },
  "language_info": {
   "codemirror_mode": {
    "name": "ipython",
    "version": 3
   },
   "file_extension": ".py",
   "mimetype": "text/x-python",
   "name": "python",
   "nbconvert_exporter": "python",
   "pygments_lexer": "ipython3",
   "version": "3.9.13"
  }
 },
 "nbformat": 4,
 "nbformat_minor": 5
}
