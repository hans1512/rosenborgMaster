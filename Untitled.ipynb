{
 "cells": [
  {
   "cell_type": "code",
   "execution_count": 36,
   "id": "91f92362",
   "metadata": {},
   "outputs": [],
   "source": [
    "import cv2\n",
    "import numpy as np\n",
    "from pathlib import Path\n",
    "from boxmot import DeepOCSORT, StrongSORT, BoTSORT\n",
    "from ultralytics import YOLO\n",
    "from pathlib import Path"
   ]
  },
  {
   "cell_type": "code",
   "execution_count": 37,
   "id": "46e66fbb",
   "metadata": {},
   "outputs": [],
   "source": [
    "def initialize_tracker(model_weights, device='cuda:0', fp16=True):\n",
    "    \"\"\"\n",
    "    Initialize the DeepOCSORT tracker with the given model weights and device.\n",
    "    \"\"\"\n",
    "    tracker = BoTSORT(\n",
    "        model_weights=model_weights,\n",
    "        device=device,\n",
    "        fp16=fp16\n",
    "    )\n",
    "    return tracker\n",
    "\n",
    "def initialize_yolo(model_path):\n",
    "    \"\"\"\n",
    "    Initialize the YOLO object detector with the given model path.\n",
    "    \"\"\"\n",
    "    yolov8 = YOLO(model_path)\n",
    "    return yolov8"
   ]
  },
  {
   "cell_type": "code",
   "execution_count": 38,
   "id": "85b789fa",
   "metadata": {},
   "outputs": [],
   "source": [
    "class Rect:\n",
    "    def __init__(self, x1, y1, x2, y2):\n",
    "        self.x1 = x1\n",
    "        self.y1 = y1\n",
    "        self.x2 = x2\n",
    "        self.y2 = y2\n",
    "    \n",
    "    @property\n",
    "    def bottom_center(self):\n",
    "        return ((self.x1 + self.x2) // 2, self.y2)\n",
    "    \n",
    "    @property\n",
    "    def width(self):\n",
    "        return self.x2 - self.x1\n",
    "\n",
    "class Color:\n",
    "    def __init__(self, b, g, r):\n",
    "        self.b = b\n",
    "        self.g = g\n",
    "        self.r = r\n",
    "\n",
    "    @property\n",
    "    def bgr_tuple(self):\n",
    "        return (self.b, self.g, self.r)\n",
    "\n",
    "def draw_ellipse(image, rect, color, thickness=2):\n",
    "    center = rect.bottom_center\n",
    "    axes = (int(rect.width), int(0.35 * rect.width))\n",
    "    cv2.ellipse(\n",
    "        image,\n",
    "        center,\n",
    "        axes,\n",
    "        angle=0.0,\n",
    "        startAngle=-45,\n",
    "        endAngle=235,\n",
    "        color=color.bgr_tuple,\n",
    "        thickness=thickness,\n",
    "        lineType=cv2.LINE_4\n",
    "    )\n",
    "    return image\n",
    "\n",
    "def lab_to_rgb(lab_color):\n",
    "    \"\"\"\n",
    "    Converts a single LAB color to RGB.\n",
    "    \"\"\"\n",
    "    lab_image = np.array([[lab_color]], dtype=np.uint8)\n",
    "    rgb_image = cv2.cvtColor(lab_image, cv2.COLOR_Lab2RGB)\n",
    "    return rgb_image[0][0]\n",
    "\n",
    "def create_new_file(file_name):\n",
    "    \"\"\"\n",
    "    Check if a file already exists, if it does append a number to the file\n",
    "    The number increases if a file_\"number\" exists\n",
    "    \"\"\"\n",
    "    if Path(file_name).is_file():\n",
    "        file = file_name.split(\".\")[0]\n",
    "        extension = file_name.split(\".\")[1]\n",
    "        last_char = file[len(file) - 1]\n",
    "        if last_char.isnumeric():\n",
    "            last_char = str(int(last_char) + 1)\n",
    "            new_file =  file[:-1] + last_char + \".\" + extension\n",
    "        else:\n",
    "            last_char = \"_1\"\n",
    "            new_file =  file + last_char + \".\" + extension\n",
    "        \n",
    "        return create_new_file(new_file)\n",
    "    else:\n",
    "        return file_name"
   ]
  },
  {
   "cell_type": "code",
   "execution_count": 39,
   "id": "b2346285",
   "metadata": {},
   "outputs": [],
   "source": [
    "from sklearn.cluster import KMeans\n",
    "import matplotlib.pyplot as plt\n",
    "import sys\n",
    "import sklearn\n",
    "from collections import Counter\n",
    "\n",
    "\n",
    "def adjust_bbox(image, bbox, height_fraction=(0.17, 0.5), width_fraction=(0.2, 0.2)):\n",
    "    x1, y1, x2, y2 = bbox\n",
    "    \n",
    "    # Adjusting the bounding box to focus on the upper part\n",
    "    height = y2 - y1\n",
    "    width = x2 - x1\n",
    "    \n",
    "    new_y1 = y1 + int(height_fraction[0] * height)\n",
    "    new_y2 = y1 + int(height_fraction[1] * height)\n",
    "    new_x1 = x1 + int(width_fraction[0] * width)\n",
    "    new_x2 = x2 - int(width_fraction[1] * width)\n",
    "\n",
    "    adjusted_bbox = (new_x1, new_y1, new_x2, new_y2)\n",
    "    roi = image[adjusted_bbox[1]:adjusted_bbox[3], adjusted_bbox[0]:adjusted_bbox[2]]\n",
    "\n",
    "    return roi\n",
    "\n",
    "def filter_out_color_LAB(roi_lab, lower_treshold, upper_treshold):\n",
    "    # Getting the A channel and applying threshold\n",
    "    a_channel = roi_lab[:,:,1]\n",
    "    #127, 255\n",
    "    _, mask = cv2.threshold(a_channel, lower_treshold, upper_treshold, cv2.THRESH_BINARY + cv2.THRESH_OTSU)\n",
    "    \n",
    "    # Using the mask to exclude green pixels in LAB\n",
    "    roi_lab_filtered = roi_lab.copy()\n",
    "    roi_lab_filtered[mask != 255] = 0\n",
    "    return roi_lab_filtered\n",
    "\n",
    "def get_color_histogram(image, bbox):\n",
    "    \"\"\"\n",
    "    Get the color histogram within a specific portion of the bounding box in the HSV color space.\n",
    "    \"\"\"\n",
    "    roi = adjust_bbox(image, bbox)\n",
    "    # Converting to LAB color space\n",
    "    roi_lab = cv2.cvtColor(roi, cv2.COLOR_BGR2Lab)\n",
    "    roi_lab_filtered = filter_out_color_LAB(roi_lab, 127, 255)\n",
    "    \n",
    "    non_black_pixels = roi_lab_filtered[roi_lab_filtered.any(axis=-1)]\n",
    "    color_counter = Counter(map(tuple, non_black_pixels))\n",
    "    most_common_color = color_counter.most_common(1)[0][0]\n",
    "        \n",
    "    non_zero_subarrays = roi_lab_filtered[roi_lab_filtered.any(axis=-1)]\n",
    "    \n",
    "    hist = cv2.calcHist([roi_lab], [0, 1], None, [8, 8], [0, 180, 0, 256])\n",
    "    \n",
    "    \n",
    "    cv2.normalize(hist, hist)\n",
    "    \"\"\"\n",
    "    # Displaying the images\n",
    "    plt.figure(figsize=(12, 4))\n",
    "\n",
    "    plt.subplot(1, 3, 1)\n",
    "    plt.imshow(cv2.cvtColor(roi_lab, cv2.COLOR_Lab2RGB))\n",
    "    plt.title(\"Filtered LAB\")\n",
    "    \n",
    "    plt.subplot(1, 3, 2)\n",
    "    plt.imshow(cv2.cvtColor(roi_lab_filtered, cv2.COLOR_Lab2RGB))\n",
    "    plt.title(\"Filtered LAB\")\n",
    "    \n",
    "    plt.subplot(1, 3, 3)\n",
    "    plt.imshow([[most_common_color]])\n",
    "    plt.title(\"Most Common Color\")\n",
    "    plt.axis('off')\n",
    "    \n",
    "    plt.show()\n",
    "    \"\"\"\n",
    "    return hist.flatten()\n",
    "\n",
    "def get_mean_color(image, bbox):\n",
    "    \"\"\"\n",
    "    Get the mean color within a specific portion of the bounding box in both RGB and LAB color spaces,\n",
    "    excluding green pixels.\n",
    "    \"\"\"\n",
    "    roi = adjust_bbox(image, bbox)\n",
    "\n",
    "    # Converting to LAB color space\n",
    "    roi_lab = cv2.cvtColor(roi, cv2.COLOR_BGR2Lab)\n",
    "    roi_lab_filtered = filter_out_color_LAB(roi_lab, 127, 255)\n",
    "        \n",
    "    non_zero_subarrays = roi_lab_filtered[roi_lab_filtered.any(axis=-1)]\n",
    "\n",
    "    # Calculate the mean of each channel\n",
    "    if non_zero_subarrays.size > 0:\n",
    "        mean_color_lab = non_zero_subarrays.mean(axis=0)\n",
    "        \n",
    "        \n",
    "    color_counter = Counter(map(tuple, non_zero_subarrays))\n",
    "    most_common_color_lab = np.array(color_counter.most_common(1)[0][0], dtype=np.uint8)\n",
    "\n",
    "    most_common_color_bgr = cv2.cvtColor(np.array([[most_common_color_lab]], dtype=np.uint8), cv2.COLOR_Lab2BGR)[0][0]\n",
    "    mean_color_bgr = cv2.cvtColor(np.array([[mean_color_lab]], dtype=np.uint8), cv2.COLOR_Lab2BGR)[0][0]\n",
    "    \n",
    "    \"\"\"\n",
    "    # Displaying the images\n",
    "    plt.figure(figsize=(12, 4))\n",
    "    \n",
    "    plt.subplot(1, 3, 1)\n",
    "    plt.imshow(cv2.cvtColor(roi_lab, cv2.COLOR_Lab2RGB))\n",
    "    plt.title(\"Original LAB\")\n",
    "\n",
    "    plt.subplot(1, 3, 2)\n",
    "    plt.imshow(cv2.cvtColor(roi_lab_filtered, cv2.COLOR_Lab2RGB))\n",
    "    plt.title(\"Filtered LAB\")\n",
    "    \n",
    "    plt.subplot(1, 3, 3)\n",
    "    plt.imshow([[cv2.cvtColor(np.array([[mean_color_lab]], dtype=np.uint8), cv2.COLOR_Lab2RGB)[0][0]]])\n",
    "    plt.title(\"Most Common Color\")\n",
    "    plt.axis('off')\n",
    "    \n",
    "    plt.show()\n",
    "    \"\"\"\n",
    "    return most_common_color_lab, mean_color_lab\n",
    "\n",
    "def perform_kmeans_clustering(colors, initial_centroids, color_multiplier=4, max_iter=10, n_clusters=2):\n",
    "    \"\"\"\n",
    "    Perform k-means clustering on the given color data.\n",
    "    \"\"\"\n",
    "    colors = np.array(colors)\n",
    "    \n",
    "    colors[:,1:3] *= 4\n",
    "    if len(initial_centroids) != 0:\n",
    "        kmeans = KMeans(n_clusters=2, init=initial_centroids, random_state=0, n_init=1, max_iter=max_iter).fit(colors)\n",
    "    else:\n",
    "        kmeans = KMeans(n_clusters=2, random_state=0).fit(colors)\n",
    "        initial_centroids = kmeans.cluster_centers_\n",
    "        \n",
    "    # Reassign labels based on the order of centroids\n",
    "    sorted_idx = np.argsort(initial_centroids[:, 0])  # Assuming the 0th feature is a color channel like Red\n",
    "    mapping = np.zeros(n_clusters, dtype=int)\n",
    "    for i, idx in enumerate(sorted_idx):\n",
    "        mapping[idx] = i\n",
    "\n",
    "    consistent_labels = mapping[kmeans.labels_]\n",
    "    \n",
    "    return consistent_labels, initial_centroids"
   ]
  },
  {
   "cell_type": "code",
   "execution_count": 40,
   "id": "e65144ed",
   "metadata": {},
   "outputs": [],
   "source": [
    "from scipy.spatial import distance\n",
    "from scipy import stats\n",
    "    \n",
    "import numpy as np\n",
    "import matplotlib.pyplot as plt\n",
    "from mpl_toolkits.mplot3d.art3d import Poly3DCollection\n",
    "\n",
    "\n",
    "\n",
    "def plot_filtered_boxes(frame, boxes):\n",
    "    plt.figure(figsize=(12, len(boxes) * 4))\n",
    "    \n",
    "    for i, box in enumerate(boxes):\n",
    "        # Apply the ROI adjustment and color filtering\n",
    "        roi = adjust_bbox(frame, box)\n",
    "        roi_lab = cv2.cvtColor(roi, cv2.COLOR_BGR2Lab)\n",
    "        roi_lab_filtered = filter_out_color_LAB(roi_lab, 127, 255)\n",
    "        non_zero_colors = roi_lab_filtered[roi_lab_filtered.any(axis=-1)]\n",
    "\n",
    "        plt.subplot(len(boxes), 2, i * 2 + 1)\n",
    "        plt.imshow(cv2.cvtColor(roi, cv2.COLOR_BGR2RGB))\n",
    "        plt.title(f\"Original Box {i+1}\")\n",
    "\n",
    "        plt.subplot(len(boxes), 2, i * 2 + 2)\n",
    "        plt.imshow(cv2.cvtColor(roi_lab_filtered, cv2.COLOR_Lab2RGB))\n",
    "        plt.title(f\"Filtered Box {i+1}\")\n",
    "        \n",
    "    plt.show()\n",
    "\n",
    "def compute_common_color_cluster_and_range(frame, boxes, num_clusters=2, delta=10):\n",
    "    colors = []\n",
    "    for box in boxes:\n",
    "        roi = adjust_bbox(frame, box)\n",
    "        roi_lab = cv2.cvtColor(roi, cv2.COLOR_BGR2Lab)\n",
    "        roi_lab_filtered = filter_out_color_LAB(roi_lab, 127, 255)\n",
    "        non_zero_colors = roi_lab_filtered[roi_lab_filtered.any(axis=-1)]\n",
    "        colors.extend(non_zero_colors)\n",
    "\n",
    "    if len(colors) == 0:\n",
    "        print(\"All colors are filtered out.\")\n",
    "        return None, None\n",
    "\n",
    "    # Applying K-means clustering to group colors\n",
    "    kmeans = KMeans(n_clusters=num_clusters, random_state=0).fit(colors)\n",
    "    cluster_centers = kmeans.cluster_centers_.astype(int)\n",
    "\n",
    "    # Getting the most common cluster center (centroid)\n",
    "    labels, counts = np.unique(kmeans.labels_, return_counts=True)\n",
    "    most_common_cluster = cluster_centers[labels[np.argmax(counts)]]\n",
    "\n",
    "    # Compute the color range\n",
    "    lower_bound = np.clip(most_common_cluster - delta, 0, 255)\n",
    "    upper_bound = np.clip(most_common_cluster + delta, 0, 255)\n",
    "\n",
    "    # Plotting the most common color cluster center\n",
    "    plt.figure(figsize=(6, 2))\n",
    "    plt.subplot(1, 2, 1)\n",
    "    plt.imshow(cv2.cvtColor(most_common_cluster[np.newaxis, np.newaxis, :].astype(np.uint8), cv2.COLOR_Lab2RGB))\n",
    "    plt.title(\"Most Common Cluster Center\")\n",
    "    plt.axis('off')\n",
    "\n",
    "    # Plotting colors within the range\n",
    "    plt.subplot(1, 2, 2)\n",
    "    for i in range(5):\n",
    "        sample_color = np.random.randint(lower_bound, upper_bound+1)\n",
    "        plt.imshow(cv2.cvtColor(sample_color[np.newaxis, np.newaxis, :].astype(np.uint8), cv2.COLOR_Lab2RGB))\n",
    "        plt.title(\"Colors Within Range\")\n",
    "        plt.axis('off')\n",
    "\n",
    "    plt.show()\n",
    "\n",
    "    return lower_bound, upper_bound    \n",
    "    \n",
    "def compute_common_color_and_range(frame, boxes, delta=10):\n",
    "    colors = []\n",
    "    for box in boxes:\n",
    "        roi = adjust_bbox(frame, box)\n",
    "        roi_lab = cv2.cvtColor(roi, cv2.COLOR_BGR2Lab)\n",
    "        roi_lab_filtered = filter_out_color_LAB(roi_lab, 127, 255)\n",
    "        non_zero_colors = roi_lab_filtered[roi_lab_filtered.any(axis=-1)]\n",
    "        colors.extend(non_zero_colors)\n",
    "\n",
    "    if len(colors) == 0:\n",
    "        print(\"All colors are filtered out.\")\n",
    "        return None, None\n",
    "\n",
    "    color_counter = Counter(map(tuple, colors))\n",
    "    most_common_color = np.array(color_counter.most_common(1)[0][0], dtype=np.uint8)\n",
    "\n",
    "    # Compute the color range\n",
    "    lower_bound = most_common_color - delta\n",
    "    upper_bound = most_common_color + delta\n",
    "    \n",
    "    # Ensure the bounds are valid\n",
    "    if np.any(upper_bound < lower_bound):\n",
    "        print(\"Invalid color range corrected.\")\n",
    "        lower_bound = most_common_color\n",
    "        upper_bound = most_common_color\n",
    "    \n",
    "    lower_bound = np.clip(lower_bound, 0, 255)\n",
    "    upper_bound = np.clip(upper_bound, 0, 255)\n",
    "\n",
    "    # Plotting the most common color\n",
    "    plt.figure(figsize=(6, 2))\n",
    "    plt.subplot(1, 2, 1)\n",
    "    plt.imshow(cv2.cvtColor(most_common_color[np.newaxis, np.newaxis, :].astype(np.uint8), cv2.COLOR_Lab2RGB))\n",
    "    plt.title(\"Most Common Color\")\n",
    "    plt.axis('off')\n",
    "    \n",
    "    plt.subplot(1, 2, 2)\n",
    "    for i in range(5):\n",
    "        sample_color = np.random.randint(lower_bound, upper_bound + 1, size=(1,1,3))\n",
    "        plt.imshow(cv2.cvtColor(sample_color.astype(np.uint8), cv2.COLOR_Lab2RGB))\n",
    "        plt.axis('off')\n",
    "\n",
    "    return lower_bound, upper_bound\n",
    "\n",
    "\n",
    "def nearest_points(centroids, data_points, n):\n",
    "    # Calculate the distances between each data point and each centroid\n",
    "    distances = distance.cdist(data_points, centroids, 'euclidean')\n",
    "    \n",
    "    # Get the n smallest distances' indices for each centroid\n",
    "    nearest_indices = np.argsort(distances, axis=0)[:n]\n",
    "    \n",
    "    # Creating a dictionary to hold the indices of the nearest points for each centroid\n",
    "    nearest_per_centroid = {i: nearest_indices[:, i].tolist() for i in range(centroids.shape[0])}\n",
    "\n",
    "    return nearest_per_centroid\n",
    "\n",
    "\n",
    "def compute_jersey_colors(first_frame, dets, bounding_boxes, classes, color_multiplier=4):\n",
    "    # get_mean_color returns a tuple, 0 is most common color, 1 is mean color\n",
    "    class_1_boxes = [bounding_box for bounding_box, cls in zip(bounding_boxes, classes) if cls == 1]\n",
    "    colors_bounding_boxes = [(get_mean_color(first_frame, bounding_box)[1], bounding_box) for bounding_box in class_1_boxes]\n",
    "    \n",
    "    mean_colors = []\n",
    "    for color_bbox in colors_bounding_boxes:\n",
    "        mean_colors.append(color_bbox[0])\n",
    "    \n",
    "    initial_centroids = []\n",
    "    mean_colors = np.array(mean_colors)\n",
    "    label_clusters, centroids = perform_kmeans_clustering(mean_colors, initial_centroids, color_multiplier=color_multiplier)\n",
    "    clustered_points = mean_colors.copy()\n",
    "    clustered_points[:,1:3] *= color_multiplier\n",
    "    \n",
    "    close_points = nearest_points(centroids, clustered_points, 4)\n",
    "    \n",
    "    centroid_1_boxes = [class_1_boxes[i] for i in close_points[0]]\n",
    "    centroid_2_boxes = [class_1_boxes[i] for i in close_points[1]]\n",
    "    \n",
    "    \n",
    "    #plot_filtered_boxes(first_frame, centroid_1_boxes)\n",
    "    #plot_filtered_boxes(first_frame, centroid_2_boxes)\n",
    "    print(\"first\")\n",
    "    home1 = compute_common_color_cluster_and_range(first_frame, centroid_1_boxes)\n",
    "    home = compute_common_color_and_range(first_frame, centroid_1_boxes)\n",
    "\n",
    "    print(\"second\")\n",
    "    away1 = compute_common_color_cluster_and_range(first_frame, centroid_2_boxes)\n",
    "    away = compute_common_color_and_range(first_frame, centroid_2_boxes)\n",
    "\n",
    "\n",
    "    print(\"Most Dominant Color (in LAB):\", away1)\n",
    "    return (home, away)\n",
    "    \n",
    "\n",
    "def plot_lab_region(lower_bound, upper_bound):\n",
    "    fig = plt.figure()\n",
    "    ax = fig.add_subplot(111, projection='3d')\n",
    "    \n",
    "    # Define the vertices of the region\n",
    "    # Each vertex is a combination of the lower and upper values for L, a, and b\n",
    "    vertices = [\n",
    "        [lower_bound[0], lower_bound[1], lower_bound[2]],\n",
    "        [upper_bound[0], lower_bound[1], lower_bound[2]],\n",
    "        [upper_bound[0], upper_bound[1], lower_bound[2]],\n",
    "        [lower_bound[0], upper_bound[1], lower_bound[2]],\n",
    "        [lower_bound[0], lower_bound[1], upper_bound[2]],\n",
    "        [upper_bound[0], lower_bound[1], upper_bound[2]],\n",
    "        [upper_bound[0], upper_bound[1], upper_bound[2]],\n",
    "        [lower_bound[0], upper_bound[1], upper_bound[2]]\n",
    "    ]\n",
    "    \n",
    "    vertices = np.array(vertices)\n",
    "    \n",
    "    # Define the vertices that compose each of the 6 faces of the region\n",
    "    faces = [\n",
    "        [vertices[0], vertices[1], vertices[2], vertices[3]],\n",
    "        [vertices[4], vertices[5], vertices[6], vertices[7]], \n",
    "        [vertices[0], vertices[1], vertices[5], vertices[4]], \n",
    "        [vertices[1], vertices[2], vertices[6], vertices[5]],\n",
    "        [vertices[2], vertices[3], vertices[7], vertices[6]],\n",
    "        [vertices[3], vertices[0], vertices[4], vertices[7]]\n",
    "    ]\n",
    "    \n",
    "    # Draw the faces\n",
    "    ax.add_collection3d(Poly3DCollection(faces, facecolors='cyan', linewidths=1, edgecolors='black', alpha=.25))\n",
    "    \n",
    "    ax.set_xlabel('L*')\n",
    "    ax.set_ylabel('a*')\n",
    "    ax.set_zlabel('b*')\n",
    "    ax.set_xlim([0, 255])\n",
    "    ax.set_ylim([-255, 255])\n",
    "    ax.set_zlim([-255, 255])\n",
    "    plt.show()\n",
    "\n",
    "        \n",
    "def get_team_belonging(image, bounding_box, home_color, away_color, should_plot=False):\n",
    "    #blur_kernel_size = (2,2)\n",
    "    #image = cv2.blur(image, blur_kernel_size)\n",
    "    roi = adjust_bbox(image, bounding_box)\n",
    "    \n",
    "    # Converting to LAB color space\n",
    "    roi_lab = cv2.cvtColor(roi, cv2.COLOR_BGR2LAB)\n",
    "    \n",
    "    roi_lab_away = roi_lab.copy()\n",
    "    roi_lab_referee = roi_lab.copy()\n",
    "    \n",
    "    lower_blue = np.array([100, 50, 50])\n",
    "    upper_blue = np.array([140, 255, 255])\n",
    "    \n",
    "    lower_white = np.array([0, 0, 200])\n",
    "    upper_white = np.array([180, 50, 255])\n",
    "    \n",
    "    \n",
    "    mask_home = cv2.inRange(roi_lab, home_color[0], home_color[1])\n",
    "    #mask_home = cv2.inRange(roi_lab, lower_blue, upper_blue)\n",
    "    result_home = cv2.bitwise_and(roi_lab, roi_lab, mask=mask_home)\n",
    "    count_home = cv2.countNonZero(mask_home)\n",
    "    \n",
    "    mask_away = cv2.inRange(roi_lab_away, away_color[0], away_color[1])\n",
    "    #mask_away = cv2.inRange(roi_lab_away, lower_white, upper_white)\n",
    "    result_away = cv2.bitwise_and(roi_lab_away, roi_lab_away, mask=mask_away)\n",
    "    count_away = cv2.countNonZero(mask_away)\n",
    "    \n",
    "    if should_plot:\n",
    "        plt.figure(figsize=(10, 5))\n",
    "        # Displaying the mask\n",
    "        plt.subplot(1, 5, 1)\n",
    "        plt.imshow(cv2.cvtColor(roi, cv2.COLOR_BGR2RGB))\n",
    "        plt.title(\"Result\")\n",
    "\n",
    "        plt.subplot(1, 5, 2)\n",
    "        plt.imshow(mask_home, cmap='gray')\n",
    "        plt.title(\"Mask Home\")\n",
    "\n",
    "        # Displaying the result\n",
    "        plt.subplot(1, 5, 3)\n",
    "        plt.imshow(cv2.cvtColor(result_home, cv2.COLOR_HSV2RGB))\n",
    "        plt.title(\"Result Home\")\n",
    "\n",
    "        plt.subplot(1, 5, 4)\n",
    "        plt.imshow(mask_away, cmap='gray')\n",
    "        plt.title(\"Mask Away\")\n",
    "\n",
    "        # Displaying the result\n",
    "        plt.subplot(1, 5, 5)\n",
    "        plt.imshow(cv2.cvtColor(result_away, cv2.COLOR_HSV2RGB))\n",
    "        plt.title(\"Result Away\")\n",
    "\n",
    "        plt.show()\n",
    "        \n",
    "        \n",
    "    team = -1\n",
    "    \n",
    "    if count_away > count_home:\n",
    "        team = 1\n",
    "        print(\"Away team\")\n",
    "    else:\n",
    "        print(\"Home team\")\n",
    "        team = 0\n",
    "        \n",
    "    return team"
   ]
  },
  {
   "cell_type": "code",
   "execution_count": 41,
   "id": "817e5a04",
   "metadata": {},
   "outputs": [],
   "source": [
    "def process_video(input_file, output_file, tracker, yolov8, do_kmeans, conf=0.3):\n",
    "    \"\"\"\n",
    "    Process the input video, perform object detection and tracking, and save the results to the output video.\n",
    "    \"\"\"\n",
    "    input_video = cv2.VideoCapture(input_file)\n",
    "    width = int(input_video.get(cv2.CAP_PROP_FRAME_WIDTH))\n",
    "    height = int(input_video.get(cv2.CAP_PROP_FRAME_HEIGHT))\n",
    "    fps = input_video.get(cv2.CAP_PROP_FPS)\n",
    "    fourcc = cv2.VideoWriter_fourcc(*'mp4v')\n",
    "    out = cv2.VideoWriter(output_file, fourcc, fps, (width, height))\n",
    "    \n",
    "    thickness = 2\n",
    "    fontscale = 0.5\n",
    "    \n",
    "    # Function to get unique colors for each class id\n",
    "    def get_color(cls_id):\n",
    "        np.random.seed(cls_id)\n",
    "        return tuple(np.random.randint(0, 255, 3).tolist())\n",
    "    \n",
    "   \n",
    "\n",
    "    initial_centroids = []\n",
    "    counter = 1\n",
    "    while True:\n",
    "        print(counter)\n",
    "        ret, image = input_video.read()\n",
    "        if not ret:\n",
    "            break\n",
    "        \n",
    "        predicted = yolov8.predict(image, conf=conf)\n",
    "        detections = predicted[0].boxes.data.cpu().numpy()\n",
    "        \n",
    "        dets = []\n",
    "        ball = np.array([])\n",
    "        highest_conf = 0\n",
    "        \n",
    "        \n",
    "        for bounding_boxes in detections:\n",
    "            if bounding_boxes[-1:] != 0:\n",
    "                dets.append(bounding_boxes)\n",
    "            if bounding_boxes[5] == 0:\n",
    "                if bounding_boxes[4] > highest_conf:\n",
    "                    highest_conf = bounding_boxes[4]\n",
    "                    ball = bounding_boxes\n",
    "                \n",
    "                \n",
    "        dets = np.array(dets)\n",
    "        \n",
    "        tracks = tracker.update(dets, image)\n",
    "        \n",
    "        # Set im = image so we can do transforms on the image for better color identification\n",
    "        # Without altering the original image so when writing the video it looks the same\n",
    "        #im = cv2.addWeighted(image, 0.75, image, 0.5, 0)\n",
    "        im = image\n",
    "        \n",
    "        if tracks.size > 0:  # Check if tracks is not empty\n",
    "            xyxys = tracks[:, 0:4].astype('int')\n",
    "            ids = tracks[:, 4].astype('int')\n",
    "            clss = tracks[:, 6].astype('int')\n",
    "        else:\n",
    "            print(\"Tracks is empty or not in expected format.\")\n",
    "\n",
    "        if(counter == 1):\n",
    "            home, away = compute_jersey_colors(im, dets, xyxys, clss)\n",
    "            \n",
    "           # plot_lab_region(home[0], home[1])\n",
    "            plot_lab_region(away[0], away[1])\n",
    "            \n",
    "            plt.figure(figsize=(10, 5))\n",
    "    \n",
    "            # Displaying the mask\n",
    "            plt.subplot(1, 4, 1)\n",
    "             # Plotting the most common color\n",
    "            plt.imshow(cv2.cvtColor(home[0][np.newaxis, np.newaxis, :].astype(np.uint8), cv2.COLOR_Lab2RGB))\n",
    "            plt.title(\"Home Lower\")\n",
    "            \n",
    "            plt.subplot(1, 4, 2)\n",
    "            plt.imshow(cv2.cvtColor(home[1][np.newaxis, np.newaxis, :].astype(np.uint8), cv2.COLOR_Lab2RGB))\n",
    "            plt.title(\"Home Upper\")\n",
    "            \n",
    "            plt.subplot(1, 4, 3)\n",
    "            plt.imshow(cv2.cvtColor(away[0][np.newaxis, np.newaxis, :].astype(np.uint8), cv2.COLOR_Lab2RGB))\n",
    "            plt.title(\"Away Lower\")\n",
    "            \n",
    "            plt.subplot(1, 4, 4)\n",
    "            plt.imshow(cv2.cvtColor(away[1][np.newaxis, np.newaxis, :].astype(np.uint8), cv2.COLOR_Lab2RGB))\n",
    "            plt.title(\"Away Upper\")\n",
    "            \n",
    "            plt.show()\n",
    "            \n",
    "        if tracks.shape[0] != 0:\n",
    "            player_mean_colors = [get_mean_color(im, xyxy)[1] for xyxy, cls in zip(xyxys, clss) if cls == 1]\n",
    "            #player_mean_colors = [get_color_histogram(im, xyxy) for xyxy, cls in zip(xyxys, clss) if cls == 1]\n",
    "            \n",
    "            if(len(initial_centroids) == 0):\n",
    "                labels, initial_centroids = perform_kmeans_clustering(player_mean_colors, initial_centroids)\n",
    "\n",
    "            else:\n",
    "                if do_kmeans:\n",
    "                    labels = perform_kmeans_clustering(player_mean_colors, initial_centroids)[0]\n",
    "                else:\n",
    "                    labels = [get_team_belonging(im, xyxy, home, away) for xyxy, cls in zip(xyxys, clss) if cls == 1]\n",
    "                \n",
    "                \"\"\"\n",
    "                player_mean_colors = np.array([lab_to_rgb(color) for color in player_mean_colors])\n",
    "                \n",
    "                # Plotting the results (optional)\n",
    "                plt.subplot(1, 2, 1)\n",
    "                plt.scatter(player_mean_colors[:, 1], player_mean_colors[:, 2], c=player_mean_colors / 255.0)\n",
    "                plt.title('Original Colors')\n",
    "\n",
    "                plt.subplot(1, 2, 2)\n",
    "                plt.scatter(player_mean_colors[labels == 0][:, 1], player_mean_colors[labels == 0][:, 2], c='blue', marker='o')\n",
    "                plt.scatter(player_mean_colors[labels == 1][:, 1], player_mean_colors[labels == 1][:, 2], c='red', marker='x')\n",
    "                plt.title('Clustered Colors')\n",
    "\n",
    "                plt.show()\n",
    "                \"\"\"    \n",
    "    \n",
    "            for xyxy, id, cls, label in zip(xyxys, ids, clss, labels):\n",
    "                \n",
    "                \n",
    "                # Convert bounding box coordinates to Rect object\n",
    "                rect = Rect(xyxy[0], xyxy[1], xyxy[2], xyxy[3])\n",
    "                if cls == 1:\n",
    "                    cls = cls + label\n",
    "                \n",
    "                # Get a unique color for each class\n",
    "                color = Color(*get_color(cls))\n",
    "\n",
    "                # Draw an ellipse at the bottom of the bounding box\n",
    "                draw_ellipse(image, rect, color, thickness)\n",
    "                \n",
    "                # Place ID text just above the ellipse\n",
    "                cv2.putText(\n",
    "                    image,\n",
    "                    f'{id}',\n",
    "                    (rect.bottom_center[0] - 10, rect.bottom_center[1] - int(0.35 * rect.width) - 5),\n",
    "                    cv2.FONT_HERSHEY_SIMPLEX,\n",
    "                    fontscale,\n",
    "                    color.bgr_tuple,\n",
    "                    thickness\n",
    "                )\n",
    "            if len(ball) != 0:\n",
    "                rect = Rect(int(ball[0]), int(ball[1]), int(ball[2]), int(ball[3]))\n",
    "                # Get a unique color for each class\n",
    "                color = Color(*get_color(0))\n",
    "\n",
    "                # Draw an ellipse at the bottom of the bounding box\n",
    "                draw_ellipse(image, rect, color, thickness)\n",
    "                id = -1\n",
    "                # Place ID text just above the ellipse\n",
    "                cv2.putText(\n",
    "                    image,\n",
    "                    \"-1\",\n",
    "                    (rect.bottom_center[0] - 10, rect.bottom_center[1] - int(0.35 * rect.width) - 5),\n",
    "                    cv2.FONT_HERSHEY_SIMPLEX,\n",
    "                    fontscale,\n",
    "                    color.bgr_tuple,\n",
    "                    thickness\n",
    "                )\n",
    "            \n",
    "                \n",
    "        out.write(image)\n",
    "        counter += 1\n",
    "        \n",
    "    input_video.release()\n",
    "    out.release()\n",
    "    cv2.destroyAllWindows()\n"
   ]
  },
  {
   "cell_type": "code",
   "execution_count": 42,
   "id": "797ec9cc",
   "metadata": {
    "scrolled": false
   },
   "outputs": [
    {
     "name": "stderr",
     "output_type": "stream",
     "text": [
      "\u001B[32m2023-10-23 14:58:19.525\u001B[0m | \u001B[32m\u001B[1mSUCCESS \u001B[0m | \u001B[36mboxmot.appearance.reid_model_factory\u001B[0m:\u001B[36mload_pretrained_weights\u001B[0m:\u001B[36m207\u001B[0m - \u001B[32m\u001B[1mSuccessfully loaded pretrained weights from \"osnet_x1_0_market1501.pt\"\u001B[0m\n"
     ]
    },
    {
     "name": "stdout",
     "output_type": "stream",
     "text": [
      "Tracking output: videos/2sec_tracking_output_test.mp4\n",
      "1\n"
     ]
    },
    {
     "name": "stderr",
     "output_type": "stream",
     "text": [
      "\n",
      "0: 1120x1984 1 ball, 22 players, 63.9ms\n",
      "Speed: 12.7ms preprocess, 63.9ms inference, 1.2ms postprocess per image at shape (1, 3, 1120, 1984)\n"
     ]
    },
    {
     "name": "stdout",
     "output_type": "stream",
     "text": [
      "first\n"
     ]
    },
    {
     "data": {
      "image/png": "[encoded data removed]",
      "text/plain": [
       "<Figure size 600x200 with 2 Axes>"
      ]
     },
     "metadata": {},
     "output_type": "display_data"
    },
    {
     "name": "stdout",
     "output_type": "stream",
     "text": [
      "second\n"
     ]
    },
    {
     "data": {
      "image/png": "[encoded data removed]",
      "text/plain": [
       "<Figure size 600x200 with 2 Axes>"
      ]
     },
     "metadata": {},
     "output_type": "display_data"
    },
    {
     "data": {
      "image/png": "[encoded data removed]",
      "text/plain": [
       "<Figure size 600x200 with 2 Axes>"
      ]
     },
     "metadata": {},
     "output_type": "display_data"
    },
    {
     "name": "stdout",
     "output_type": "stream",
     "text": [
      "Invalid color range corrected.\n",
      "Most Dominant Color (in LAB): (array([218, 115, 122]), array([238, 135, 142]))\n"
     ]
    },
    {
     "data": {
      "image/png": "[encoded data removed]",
      "text/plain": [
       "<Figure size 600x200 with 2 Axes>"
      ]
     },
     "metadata": {},
     "output_type": "display_data"
    },
    {
     "data": {
      "image/png": "[encoded data removed]",
      "text/plain": [
       "<Figure size 640x480 with 1 Axes>"
      ]
     },
     "metadata": {},
     "output_type": "display_data"
    },
    {
     "data": {
      "image/png": "[encoded data removed]",
      "text/plain": [
       "<Figure size 1000x500 with 4 Axes>"
      ]
     },
     "metadata": {},
     "output_type": "display_data"
    },
    {
     "name": "stderr",
     "output_type": "stream",
     "text": [
      "\n",
      "0: 1120x1984 1 ball, 23 players, 61.6ms\n",
      "Speed: 11.7ms preprocess, 61.6ms inference, 1.4ms postprocess per image at shape (1, 3, 1120, 1984)\n",
      "\n"
     ]
    },
    {
     "name": "stdout",
     "output_type": "stream",
     "text": [
      "2\n",
      "3\n"
     ]
    },
    {
     "name": "stderr",
     "output_type": "stream",
     "text": [
      "0: 1120x1984 1 ball, 22 players, 63.2ms\n",
      "Speed: 12.3ms preprocess, 63.2ms inference, 1.3ms postprocess per image at shape (1, 3, 1120, 1984)\n",
      "\n",
      "0: 1120x1984 1 ball, 22 players, 61.6ms\n",
      "Speed: 12.3ms preprocess, 61.6ms inference, 1.3ms postprocess per image at shape (1, 3, 1120, 1984)\n",
      "\n"
     ]
    },
    {
     "name": "stdout",
     "output_type": "stream",
     "text": [
      "4\n",
      "5\n"
     ]
    },
    {
     "name": "stderr",
     "output_type": "stream",
     "text": [
      "0: 1120x1984 1 ball, 22 players, 63.2ms\n",
      "Speed: 11.5ms preprocess, 63.2ms inference, 1.3ms postprocess per image at shape (1, 3, 1120, 1984)\n",
      "\n",
      "0: 1120x1984 1 ball, 23 players, 61.6ms\n",
      "Speed: 12.1ms preprocess, 61.6ms inference, 1.3ms postprocess per image at shape (1, 3, 1120, 1984)\n",
      "\n"
     ]
    },
    {
     "name": "stdout",
     "output_type": "stream",
     "text": [
      "6\n",
      "7\n"
     ]
    },
    {
     "name": "stderr",
     "output_type": "stream",
     "text": [
      "0: 1120x1984 1 ball, 22 players, 63.0ms\n",
      "Speed: 11.8ms preprocess, 63.0ms inference, 1.3ms postprocess per image at shape (1, 3, 1120, 1984)\n",
      "\n",
      "0: 1120x1984 1 ball, 22 players, 61.8ms\n",
      "Speed: 11.9ms preprocess, 61.8ms inference, 1.3ms postprocess per image at shape (1, 3, 1120, 1984)\n",
      "\n"
     ]
    },
    {
     "name": "stdout",
     "output_type": "stream",
     "text": [
      "8\n",
      "9\n"
     ]
    },
    {
     "name": "stderr",
     "output_type": "stream",
     "text": [
      "0: 1120x1984 1 ball, 22 players, 63.2ms\n",
      "Speed: 11.9ms preprocess, 63.2ms inference, 1.3ms postprocess per image at shape (1, 3, 1120, 1984)\n",
      "\n",
      "0: 1120x1984 1 ball, 22 players, 61.6ms\n",
      "Speed: 12.2ms preprocess, 61.6ms inference, 1.3ms postprocess per image at shape (1, 3, 1120, 1984)\n",
      "\n"
     ]
    },
    {
     "name": "stdout",
     "output_type": "stream",
     "text": [
      "10\n",
      "11\n"
     ]
    },
    {
     "name": "stderr",
     "output_type": "stream",
     "text": [
      "0: 1120x1984 1 ball, 22 players, 63.4ms\n",
      "Speed: 11.7ms preprocess, 63.4ms inference, 1.4ms postprocess per image at shape (1, 3, 1120, 1984)\n",
      "\n",
      "0: 1120x1984 1 ball, 22 players, 61.8ms\n",
      "Speed: 12.3ms preprocess, 61.8ms inference, 1.3ms postprocess per image at shape (1, 3, 1120, 1984)\n",
      "\n"
     ]
    },
    {
     "name": "stdout",
     "output_type": "stream",
     "text": [
      "12\n",
      "13\n"
     ]
    },
    {
     "name": "stderr",
     "output_type": "stream",
     "text": [
      "0: 1120x1984 1 ball, 22 players, 63.1ms\n",
      "Speed: 11.9ms preprocess, 63.1ms inference, 1.3ms postprocess per image at shape (1, 3, 1120, 1984)\n",
      "\n",
      "0: 1120x1984 1 ball, 22 players, 61.6ms\n",
      "Speed: 12.0ms preprocess, 61.6ms inference, 1.3ms postprocess per image at shape (1, 3, 1120, 1984)\n",
      "\n"
     ]
    },
    {
     "name": "stdout",
     "output_type": "stream",
     "text": [
      "14\n",
      "15\n"
     ]
    },
    {
     "name": "stderr",
     "output_type": "stream",
     "text": [
      "0: 1120x1984 1 ball, 22 players, 63.2ms\n",
      "Speed: 11.9ms preprocess, 63.2ms inference, 1.3ms postprocess per image at shape (1, 3, 1120, 1984)\n",
      "\n",
      "0: 1120x1984 1 ball, 22 players, 62.0ms\n",
      "Speed: 11.9ms preprocess, 62.0ms inference, 1.4ms postprocess per image at shape (1, 3, 1120, 1984)\n",
      "\n"
     ]
    },
    {
     "name": "stdout",
     "output_type": "stream",
     "text": [
      "16\n",
      "17\n"
     ]
    },
    {
     "name": "stderr",
     "output_type": "stream",
     "text": [
      "0: 1120x1984 1 ball, 22 players, 63.1ms\n",
      "Speed: 11.9ms preprocess, 63.1ms inference, 1.4ms postprocess per image at shape (1, 3, 1120, 1984)\n",
      "\n",
      "0: 1120x1984 1 ball, 22 players, 61.5ms\n",
      "Speed: 11.7ms preprocess, 61.5ms inference, 1.3ms postprocess per image at shape (1, 3, 1120, 1984)\n",
      "\n"
     ]
    },
    {
     "name": "stdout",
     "output_type": "stream",
     "text": [
      "18\n",
      "19\n"
     ]
    },
    {
     "name": "stderr",
     "output_type": "stream",
     "text": [
      "0: 1120x1984 1 ball, 22 players, 63.7ms\n",
      "Speed: 11.9ms preprocess, 63.7ms inference, 1.4ms postprocess per image at shape (1, 3, 1120, 1984)\n",
      "\n",
      "0: 1120x1984 1 ball, 22 players, 61.5ms\n",
      "Speed: 12.2ms preprocess, 61.5ms inference, 1.4ms postprocess per image at shape (1, 3, 1120, 1984)\n",
      "\n"
     ]
    },
    {
     "name": "stdout",
     "output_type": "stream",
     "text": [
      "20\n",
      "21\n"
     ]
    },
    {
     "name": "stderr",
     "output_type": "stream",
     "text": [
      "0: 1120x1984 1 ball, 22 players, 63.0ms\n",
      "Speed: 11.7ms preprocess, 63.0ms inference, 1.3ms postprocess per image at shape (1, 3, 1120, 1984)\n",
      "\n",
      "0: 1120x1984 1 ball, 22 players, 62.0ms\n",
      "Speed: 12.0ms preprocess, 62.0ms inference, 1.3ms postprocess per image at shape (1, 3, 1120, 1984)\n",
      "\n"
     ]
    },
    {
     "name": "stdout",
     "output_type": "stream",
     "text": [
      "22\n",
      "23\n"
     ]
    },
    {
     "name": "stderr",
     "output_type": "stream",
     "text": [
      "0: 1120x1984 1 ball, 22 players, 63.5ms\n",
      "Speed: 11.7ms preprocess, 63.5ms inference, 1.3ms postprocess per image at shape (1, 3, 1120, 1984)\n",
      "\n",
      "0: 1120x1984 1 ball, 22 players, 61.6ms\n",
      "Speed: 12.1ms preprocess, 61.6ms inference, 1.3ms postprocess per image at shape (1, 3, 1120, 1984)\n",
      "\n"
     ]
    },
    {
     "name": "stdout",
     "output_type": "stream",
     "text": [
      "24\n",
      "25\n"
     ]
    },
    {
     "name": "stderr",
     "output_type": "stream",
     "text": [
      "0: 1120x1984 2 balls, 22 players, 63.6ms\n",
      "Speed: 12.1ms preprocess, 63.6ms inference, 1.3ms postprocess per image at shape (1, 3, 1120, 1984)\n",
      "\n",
      "0: 1120x1984 2 balls, 22 players, 62.0ms\n",
      "Speed: 11.9ms preprocess, 62.0ms inference, 1.3ms postprocess per image at shape (1, 3, 1120, 1984)\n",
      "\n"
     ]
    },
    {
     "name": "stdout",
     "output_type": "stream",
     "text": [
      "26\n",
      "27\n"
     ]
    },
    {
     "name": "stderr",
     "output_type": "stream",
     "text": [
      "0: 1120x1984 2 balls, 22 players, 63.2ms\n",
      "Speed: 12.0ms preprocess, 63.2ms inference, 1.3ms postprocess per image at shape (1, 3, 1120, 1984)\n",
      "\n",
      "0: 1120x1984 1 ball, 22 players, 62.0ms\n",
      "Speed: 11.9ms preprocess, 62.0ms inference, 1.3ms postprocess per image at shape (1, 3, 1120, 1984)\n",
      "\n"
     ]
    },
    {
     "name": "stdout",
     "output_type": "stream",
     "text": [
      "28\n",
      "29\n"
     ]
    },
    {
     "name": "stderr",
     "output_type": "stream",
     "text": [
      "0: 1120x1984 1 ball, 22 players, 63.1ms\n",
      "Speed: 11.9ms preprocess, 63.1ms inference, 1.4ms postprocess per image at shape (1, 3, 1120, 1984)\n",
      "\n",
      "0: 1120x1984 1 ball, 22 players, 61.8ms\n",
      "Speed: 11.9ms preprocess, 61.8ms inference, 1.3ms postprocess per image at shape (1, 3, 1120, 1984)\n",
      "\n"
     ]
    },
    {
     "name": "stdout",
     "output_type": "stream",
     "text": [
      "30\n",
      "31\n"
     ]
    },
    {
     "name": "stderr",
     "output_type": "stream",
     "text": [
      "0: 1120x1984 1 ball, 22 players, 63.0ms\n",
      "Speed: 11.9ms preprocess, 63.0ms inference, 1.3ms postprocess per image at shape (1, 3, 1120, 1984)\n",
      "\n",
      "0: 1120x1984 1 ball, 22 players, 61.9ms\n",
      "Speed: 11.9ms preprocess, 61.9ms inference, 1.3ms postprocess per image at shape (1, 3, 1120, 1984)\n",
      "\n"
     ]
    },
    {
     "name": "stdout",
     "output_type": "stream",
     "text": [
      "32\n",
      "33\n"
     ]
    },
    {
     "name": "stderr",
     "output_type": "stream",
     "text": [
      "0: 1120x1984 1 ball, 22 players, 63.1ms\n",
      "Speed: 12.2ms preprocess, 63.1ms inference, 1.3ms postprocess per image at shape (1, 3, 1120, 1984)\n",
      "\n",
      "0: 1120x1984 1 ball, 22 players, 61.5ms\n",
      "Speed: 12.1ms preprocess, 61.5ms inference, 1.3ms postprocess per image at shape (1, 3, 1120, 1984)\n",
      "\n"
     ]
    },
    {
     "name": "stdout",
     "output_type": "stream",
     "text": [
      "34\n",
      "35\n"
     ]
    },
    {
     "name": "stderr",
     "output_type": "stream",
     "text": [
      "0: 1120x1984 1 ball, 22 players, 63.2ms\n",
      "Speed: 12.0ms preprocess, 63.2ms inference, 1.3ms postprocess per image at shape (1, 3, 1120, 1984)\n",
      "\n",
      "0: 1120x1984 1 ball, 22 players, 61.4ms\n",
      "Speed: 12.0ms preprocess, 61.4ms inference, 1.3ms postprocess per image at shape (1, 3, 1120, 1984)\n",
      "\n"
     ]
    },
    {
     "name": "stdout",
     "output_type": "stream",
     "text": [
      "36\n",
      "37\n"
     ]
    },
    {
     "name": "stderr",
     "output_type": "stream",
     "text": [
      "0: 1120x1984 1 ball, 22 players, 63.2ms\n",
      "Speed: 12.6ms preprocess, 63.2ms inference, 1.3ms postprocess per image at shape (1, 3, 1120, 1984)\n",
      "\n",
      "0: 1120x1984 2 balls, 22 players, 61.5ms\n",
      "Speed: 12.6ms preprocess, 61.5ms inference, 1.3ms postprocess per image at shape (1, 3, 1120, 1984)\n",
      "\n"
     ]
    },
    {
     "name": "stdout",
     "output_type": "stream",
     "text": [
      "38\n",
      "39\n"
     ]
    },
    {
     "name": "stderr",
     "output_type": "stream",
     "text": [
      "0: 1120x1984 2 balls, 22 players, 63.4ms\n",
      "Speed: 11.7ms preprocess, 63.4ms inference, 1.3ms postprocess per image at shape (1, 3, 1120, 1984)\n",
      "\n",
      "0: 1120x1984 1 ball, 22 players, 61.7ms\n",
      "Speed: 12.4ms preprocess, 61.7ms inference, 1.3ms postprocess per image at shape (1, 3, 1120, 1984)\n",
      "\n"
     ]
    },
    {
     "name": "stdout",
     "output_type": "stream",
     "text": [
      "40\n",
      "41\n"
     ]
    },
    {
     "name": "stderr",
     "output_type": "stream",
     "text": [
      "0: 1120x1984 1 ball, 22 players, 63.6ms\n",
      "Speed: 11.8ms preprocess, 63.6ms inference, 1.3ms postprocess per image at shape (1, 3, 1120, 1984)\n",
      "\n",
      "0: 1120x1984 2 balls, 22 players, 61.5ms\n",
      "Speed: 12.6ms preprocess, 61.5ms inference, 1.2ms postprocess per image at shape (1, 3, 1120, 1984)\n",
      "\n"
     ]
    },
    {
     "name": "stdout",
     "output_type": "stream",
     "text": [
      "42\n",
      "43\n"
     ]
    },
    {
     "name": "stderr",
     "output_type": "stream",
     "text": [
      "0: 1120x1984 2 balls, 22 players, 61.6ms\n",
      "Speed: 14.6ms preprocess, 61.6ms inference, 1.3ms postprocess per image at shape (1, 3, 1120, 1984)\n",
      "\n",
      "0: 1120x1984 1 ball, 22 players, 61.6ms\n",
      "Speed: 11.8ms preprocess, 61.6ms inference, 1.4ms postprocess per image at shape (1, 3, 1120, 1984)\n",
      "\n"
     ]
    },
    {
     "name": "stdout",
     "output_type": "stream",
     "text": [
      "44\n",
      "45\n"
     ]
    },
    {
     "name": "stderr",
     "output_type": "stream",
     "text": [
      "0: 1120x1984 1 ball, 22 players, 63.8ms\n",
      "Speed: 11.6ms preprocess, 63.8ms inference, 1.3ms postprocess per image at shape (1, 3, 1120, 1984)\n",
      "\n",
      "0: 1120x1984 1 ball, 22 players, 61.7ms\n",
      "Speed: 11.8ms preprocess, 61.7ms inference, 1.4ms postprocess per image at shape (1, 3, 1120, 1984)\n",
      "\n"
     ]
    },
    {
     "name": "stdout",
     "output_type": "stream",
     "text": [
      "46\n",
      "47\n"
     ]
    },
    {
     "name": "stderr",
     "output_type": "stream",
     "text": [
      "0: 1120x1984 1 ball, 23 players, 63.0ms\n",
      "Speed: 11.8ms preprocess, 63.0ms inference, 1.4ms postprocess per image at shape (1, 3, 1120, 1984)\n",
      "\n",
      "0: 1120x1984 1 ball, 23 players, 61.6ms\n",
      "Speed: 11.9ms preprocess, 61.6ms inference, 1.3ms postprocess per image at shape (1, 3, 1120, 1984)\n",
      "\n"
     ]
    },
    {
     "name": "stdout",
     "output_type": "stream",
     "text": [
      "48\n",
      "49\n"
     ]
    },
    {
     "name": "stderr",
     "output_type": "stream",
     "text": [
      "0: 1120x1984 1 ball, 23 players, 63.1ms\n",
      "Speed: 11.9ms preprocess, 63.1ms inference, 1.3ms postprocess per image at shape (1, 3, 1120, 1984)\n",
      "\n",
      "0: 1120x1984 1 ball, 23 players, 62.2ms\n",
      "Speed: 11.7ms preprocess, 62.2ms inference, 1.3ms postprocess per image at shape (1, 3, 1120, 1984)\n",
      "\n"
     ]
    },
    {
     "name": "stdout",
     "output_type": "stream",
     "text": [
      "50\n",
      "51\n"
     ]
    },
    {
     "name": "stderr",
     "output_type": "stream",
     "text": [
      "0: 1120x1984 1 ball, 23 players, 63.2ms\n",
      "Speed: 11.6ms preprocess, 63.2ms inference, 1.3ms postprocess per image at shape (1, 3, 1120, 1984)\n",
      "\n",
      "0: 1120x1984 1 ball, 23 players, 61.6ms\n",
      "Speed: 11.9ms preprocess, 61.6ms inference, 1.3ms postprocess per image at shape (1, 3, 1120, 1984)\n",
      "\n"
     ]
    },
    {
     "name": "stdout",
     "output_type": "stream",
     "text": [
      "52\n",
      "53\n"
     ]
    },
    {
     "name": "stderr",
     "output_type": "stream",
     "text": [
      "0: 1120x1984 1 ball, 23 players, 63.2ms\n",
      "Speed: 11.9ms preprocess, 63.2ms inference, 1.3ms postprocess per image at shape (1, 3, 1120, 1984)\n",
      "\n",
      "0: 1120x1984 1 ball, 23 players, 62.0ms\n",
      "Speed: 11.9ms preprocess, 62.0ms inference, 1.3ms postprocess per image at shape (1, 3, 1120, 1984)\n",
      "\n"
     ]
    },
    {
     "name": "stdout",
     "output_type": "stream",
     "text": [
      "54\n",
      "55\n"
     ]
    },
    {
     "name": "stderr",
     "output_type": "stream",
     "text": [
      "0: 1120x1984 1 ball, 23 players, 61.7ms\n",
      "Speed: 12.5ms preprocess, 61.7ms inference, 1.2ms postprocess per image at shape (1, 3, 1120, 1984)\n",
      "\n",
      "0: 1120x1984 1 ball, 23 players, 61.7ms\n",
      "Speed: 12.3ms preprocess, 61.7ms inference, 1.2ms postprocess per image at shape (1, 3, 1120, 1984)\n",
      "\n"
     ]
    },
    {
     "name": "stdout",
     "output_type": "stream",
     "text": [
      "56\n",
      "57\n"
     ]
    },
    {
     "name": "stderr",
     "output_type": "stream",
     "text": [
      "0: 1120x1984 2 balls, 23 players, 63.0ms\n",
      "Speed: 11.7ms preprocess, 63.0ms inference, 1.4ms postprocess per image at shape (1, 3, 1120, 1984)\n",
      "\n",
      "0: 1120x1984 1 ball, 23 players, 61.7ms\n",
      "Speed: 12.2ms preprocess, 61.7ms inference, 1.3ms postprocess per image at shape (1, 3, 1120, 1984)\n",
      "\n"
     ]
    },
    {
     "name": "stdout",
     "output_type": "stream",
     "text": [
      "58\n",
      "59\n"
     ]
    },
    {
     "name": "stderr",
     "output_type": "stream",
     "text": [
      "0: 1120x1984 1 ball, 23 players, 63.1ms\n",
      "Speed: 12.2ms preprocess, 63.1ms inference, 1.4ms postprocess per image at shape (1, 3, 1120, 1984)\n",
      "\n",
      "0: 1120x1984 1 ball, 23 players, 62.2ms\n",
      "Speed: 12.2ms preprocess, 62.2ms inference, 1.4ms postprocess per image at shape (1, 3, 1120, 1984)\n"
     ]
    },
    {
     "name": "stdout",
     "output_type": "stream",
     "text": [
      "60\n",
      "61\n",
      "Time taken to process video: 11.25059199333191 seconds\n"
     ]
    }
   ],
   "source": [
    "from pathlib import Path\n",
    "import warnings\n",
    "import time\n",
    "\n",
    "warnings.filterwarnings(\"ignore\")\n",
    "model_weights = Path('osnet_x1_0_market1501.pt')\n",
    "yolo_model_path = 'runs/detect/New_data_600_V/weights/best.pt'\n",
    "input_video_file = \"videos/2sec.mp4\"\n",
    "output_video_name = create_new_file(input_video_file.split(\".\")[0] + \"_tracking_output_test.mp4\")\n",
    "\n",
    "print(\"Tracking output: \" + output_video_name)\n",
    "output_video_file = output_video_name\n",
    "\n",
    "home_team_color=\"white\"\n",
    "away_team_color=\"blue\"\n",
    "\n",
    "tracker = initialize_tracker(model_weights)\n",
    "yolov8 = initialize_yolo(yolo_model_path)\n",
    "\n",
    "\n",
    "start_time = time.time()\n",
    "process_video(input_video_file, output_video_file, tracker, yolov8, True)\n",
    "end_time = time.time()\n",
    "\n",
    "execution_time = end_time - start_time\n",
    "\n",
    "print(f\"Time taken to process video: {execution_time} seconds\")"
   ]
  },
  {
   "cell_type": "code",
   "execution_count": 167,
   "id": "aa032037",
   "metadata": {},
   "outputs": [
    {
     "name": "stdout",
     "output_type": "stream",
     "text": [
      "['resnet18', 'resnet34', 'resnet50', 'resnet101', 'resnet152', 'resnext50_32x4d', 'resnext101_32x8d', 'resnet50_fc512', 'se_resnet50', 'se_resnet50_fc512', 'se_resnet101', 'se_resnext50_32x4d', 'se_resnext101_32x4d', 'densenet121', 'densenet169', 'densenet201', 'densenet161', 'densenet121_fc512', 'inceptionresnetv2', 'inceptionv4', 'xception', 'resnet50_ibn_a', 'resnet50_ibn_b', 'nasnsetmobile', 'mobilenetv2_x1_0', 'mobilenetv2_x1_4', 'shufflenet', 'squeezenet1_0', 'squeezenet1_0_fc512', 'squeezenet1_1', 'shufflenet_v2_x0_5', 'shufflenet_v2_x1_0', 'shufflenet_v2_x1_5', 'shufflenet_v2_x2_0', 'mudeep', 'resnet50mid', 'hacnn', 'pcb_p6', 'pcb_p4', 'mlfn', 'osnet_x1_0', 'osnet_x0_75', 'osnet_x0_5', 'osnet_x0_25', 'osnet_ibn_x1_0', 'osnet_ain_x1_0', 'osnet_ain_x0_75', 'osnet_ain_x0_5', 'osnet_ain_x0_25']\n"
     ]
    }
   ],
   "source": [
    "from torchreid.data.datamanager import ImageDataManager\n",
    "\n",
    "datamanager = ImageDataManager(\n",
    "    root='TrackingData', # directory where the dataset is stored\n",
    "    sources='market1501', # dataset name, can be a string (single dataset) or a tuple (multiple datasets)\n",
    "    targets='market1501', \n",
    "    height=256, # height of the image\n",
    "    width=128, # width of the image\n",
    "    batch_size_train=32, # batch size for training\n",
    "    batch_size_test=100, # batch size for testing\n",
    "    transforms=['random_flip', 'random_crop'] # data augmentation techniques\n",
    ")\n",
    "\n"
   ]
  },
  {
   "cell_type": "code",
   "execution_count": 1,
   "id": "8e47339c",
   "metadata": {},
   "outputs": [],
   "source": []
  }
 ],
 "metadata": {
  "kernelspec": {
   "display_name": "Python 3 (ipykernel)",
   "language": "python",
   "name": "python3"
  },
  "language_info": {
   "codemirror_mode": {
    "name": "ipython",
    "version": 3
   },
   "file_extension": ".py",
   "mimetype": "text/x-python",
   "name": "python",
   "nbconvert_exporter": "python",
   "pygments_lexer": "ipython3",
   "version": "3.9.13"
  }
 },
 "nbformat": 4,
 "nbformat_minor": 5
}
