{
 "cells": [
  {
   "cell_type": "code",
   "execution_count": 209,
   "id": "91f92362",
   "metadata": {},
   "outputs": [],
   "source": [
    "import cv2\n",
    "import numpy as np\n",
    "from pathlib import Path\n",
    "from boxmot import DeepOCSORT\n",
    "from ultralytics import YOLO"
   ]
  },
  {
   "cell_type": "code",
   "execution_count": 210,
   "id": "46e66fbb",
   "metadata": {},
   "outputs": [],
   "source": [
    "def initialize_tracker(model_weights, device='cuda:0', fp16=True):\n",
    "    \"\"\"\n",
    "    Initialize the DeepOCSORT tracker with the given model weights and device.\n",
    "    \"\"\"\n",
    "    tracker = DeepOCSORT(\n",
    "        model_weights=model_weights,\n",
    "        device=device,\n",
    "        fp16=fp16\n",
    "    )\n",
    "    return tracker\n",
    "\n",
    "def initialize_yolo(model_path):\n",
    "    \"\"\"\n",
    "    Initialize the YOLO object detector with the given model path.\n",
    "    \"\"\"\n",
    "    yolov8 = YOLO(model_path)\n",
    "    return yolov8"
   ]
  },
  {
   "cell_type": "code",
   "execution_count": 211,
   "id": "85b789fa",
   "metadata": {},
   "outputs": [],
   "source": [
    "class Rect:\n",
    "    def __init__(self, x1, y1, x2, y2):\n",
    "        self.x1 = x1\n",
    "        self.y1 = y1\n",
    "        self.x2 = x2\n",
    "        self.y2 = y2\n",
    "    \n",
    "    @property\n",
    "    def bottom_center(self):\n",
    "        return ((self.x1 + self.x2) // 2, self.y2)\n",
    "    \n",
    "    @property\n",
    "    def width(self):\n",
    "        return self.x2 - self.x1\n",
    "\n",
    "class Color:\n",
    "    def __init__(self, b, g, r):\n",
    "        self.b = b\n",
    "        self.g = g\n",
    "        self.r = r\n",
    "\n",
    "    @property\n",
    "    def bgr_tuple(self):\n",
    "        return (self.b, self.g, self.r)\n",
    "\n",
    "def draw_ellipse(image, rect, color, thickness=2):\n",
    "    center = rect.bottom_center\n",
    "    axes = (int(rect.width), int(0.35 * rect.width))\n",
    "    cv2.ellipse(\n",
    "        image,\n",
    "        center,\n",
    "        axes,\n",
    "        angle=0.0,\n",
    "        startAngle=-45,\n",
    "        endAngle=235,\n",
    "        color=color.bgr_tuple,\n",
    "        thickness=thickness,\n",
    "        lineType=cv2.LINE_4\n",
    "    )\n",
    "    return image\n",
    "\n",
    "def lab_to_rgb(lab_color):\n",
    "    \"\"\"\n",
    "    Converts a single LAB color to RGB.\n",
    "    \"\"\"\n",
    "    lab_image = np.array([[lab_color]], dtype=np.uint8)\n",
    "    rgb_image = cv2.cvtColor(lab_image, cv2.COLOR_Lab2RGB)\n",
    "    return rgb_image[0][0]"
   ]
  },
  {
   "cell_type": "code",
   "execution_count": 212,
   "id": "b2346285",
   "metadata": {},
   "outputs": [],
   "source": [
    "from sklearn.cluster import KMeans\n",
    "import matplotlib.pyplot as plt\n",
    "import sys\n",
    "import sklearn\n",
    "from collections import Counter\n",
    "\n",
    "\n",
    "def adjust_bbox(image, bbox, height_fraction=(0.17, 0.5), width_fraction=(0.2, 0.2)):\n",
    "    x1, y1, x2, y2 = bbox\n",
    "    \n",
    "    # Adjusting the bounding box to focus on the upper part\n",
    "    height = y2 - y1\n",
    "    width = x2 - x1\n",
    "    \n",
    "    new_y1 = y1 + int(height_fraction[0] * height)\n",
    "    new_y2 = y1 + int(height_fraction[1] * height)\n",
    "    new_x1 = x1 + int(width_fraction[0] * width)\n",
    "    new_x2 = x2 - int(width_fraction[1] * width)\n",
    "\n",
    "    adjusted_bbox = (new_x1, new_y1, new_x2, new_y2)\n",
    "    roi = image[adjusted_bbox[1]:adjusted_bbox[3], adjusted_bbox[0]:adjusted_bbox[2]]\n",
    "\n",
    "    return roi\n",
    "\n",
    "def filter_out_color_LAB(roi_lab, lower_treshold, upper_treshold):\n",
    "    # Getting the A channel and applying threshold\n",
    "    a_channel = roi_lab[:,:,1]\n",
    "    #127, 255\n",
    "    _, mask = cv2.threshold(a_channel, lower_treshold, upper_treshold, cv2.THRESH_BINARY + cv2.THRESH_OTSU)\n",
    "    \n",
    "    # Using the mask to exclude green pixels in LAB\n",
    "    roi_lab_filtered = roi_lab.copy()\n",
    "    roi_lab_filtered[mask != 255] = 0\n",
    "    return roi_lab_filtered\n",
    "\n",
    "def get_color_histogram(image, bbox):\n",
    "    \"\"\"\n",
    "    Get the color histogram within a specific portion of the bounding box in the HSV color space.\n",
    "    \"\"\"\n",
    "    roi = adjust_bbox(image, bbox)\n",
    "    # Converting to LAB color space\n",
    "    roi_lab = cv2.cvtColor(roi, cv2.COLOR_BGR2Lab)\n",
    "    roi_lab_filtered = filter_out_color_LAB(roi_lab, 127, 255)\n",
    "    \n",
    "    non_black_pixels = roi_lab_filtered[roi_lab_filtered.any(axis=-1)]\n",
    "    color_counter = Counter(map(tuple, non_black_pixels))\n",
    "    most_common_color = color_counter.most_common(1)[0][0]\n",
    "        \n",
    "    non_zero_subarrays = roi_lab_filtered[roi_lab_filtered.any(axis=-1)]\n",
    "    \n",
    "    hist = cv2.calcHist([roi_lab], [0, 1], None, [8, 8], [0, 180, 0, 256])\n",
    "    \n",
    "    \n",
    "    cv2.normalize(hist, hist)\n",
    "    \"\"\"\n",
    "    # Displaying the images\n",
    "    plt.figure(figsize=(12, 4))\n",
    "\n",
    "    plt.subplot(1, 3, 1)\n",
    "    plt.imshow(cv2.cvtColor(roi_lab, cv2.COLOR_Lab2RGB))\n",
    "    plt.title(\"Filtered LAB\")\n",
    "    \n",
    "    plt.subplot(1, 3, 2)\n",
    "    plt.imshow(cv2.cvtColor(roi_lab_filtered, cv2.COLOR_Lab2RGB))\n",
    "    plt.title(\"Filtered LAB\")\n",
    "    \n",
    "    plt.subplot(1, 3, 3)\n",
    "    plt.imshow([[most_common_color]])\n",
    "    plt.title(\"Most Common Color\")\n",
    "    plt.axis('off')\n",
    "    \n",
    "    plt.show()\n",
    "    \"\"\"\n",
    "    return hist.flatten()\n",
    "\n",
    "def get_mean_color(image, bbox):\n",
    "    \"\"\"\n",
    "    Get the mean color within a specific portion of the bounding box in both RGB and LAB color spaces,\n",
    "    excluding green pixels.\n",
    "    \"\"\"\n",
    "    roi = adjust_bbox(image, bbox)\n",
    "\n",
    "    # Converting to LAB color space\n",
    "    roi_lab = cv2.cvtColor(roi, cv2.COLOR_BGR2Lab)\n",
    "    roi_lab_filtered = filter_out_color_LAB(roi_lab, 127, 255)\n",
    "        \n",
    "    non_zero_subarrays = roi_lab_filtered[roi_lab_filtered.any(axis=-1)]\n",
    "\n",
    "    # Calculate the mean of each channel\n",
    "    if non_zero_subarrays.size > 0:\n",
    "        mean_color_lab = non_zero_subarrays.mean(axis=0)\n",
    "        \n",
    "        \n",
    "    color_counter = Counter(map(tuple, non_zero_subarrays))\n",
    "    most_common_color_lab = np.array(color_counter.most_common(1)[0][0], dtype=np.uint8)\n",
    "\n",
    "    most_common_color_bgr = cv2.cvtColor(np.array([[most_common_color_lab]], dtype=np.uint8), cv2.COLOR_Lab2BGR)[0][0]\n",
    "    mean_color_bgr = cv2.cvtColor(np.array([[mean_color_lab]], dtype=np.uint8), cv2.COLOR_Lab2BGR)[0][0]\n",
    "    \n",
    "    \"\"\"\n",
    "    # Displaying the images\n",
    "    plt.figure(figsize=(12, 4))\n",
    "    \n",
    "    plt.subplot(1, 3, 1)\n",
    "    plt.imshow(cv2.cvtColor(roi_lab, cv2.COLOR_Lab2RGB))\n",
    "    plt.title(\"Original LAB\")\n",
    "\n",
    "    plt.subplot(1, 3, 2)\n",
    "    plt.imshow(cv2.cvtColor(roi_lab_filtered, cv2.COLOR_Lab2RGB))\n",
    "    plt.title(\"Filtered LAB\")\n",
    "    \n",
    "    plt.subplot(1, 3, 3)\n",
    "    plt.imshow([[cv2.cvtColor(np.array([[mean_color_lab]], dtype=np.uint8), cv2.COLOR_Lab2RGB)[0][0]]])\n",
    "    plt.title(\"Most Common Color\")\n",
    "    plt.axis('off')\n",
    "    \n",
    "    plt.show()\n",
    "    \"\"\"\n",
    "    return most_common_color_lab, mean_color_lab\n",
    "\n",
    "def perform_kmeans_clustering(colors, color_multiplier=4, initial_centroids=None, max_iter=10):\n",
    "    \"\"\"\n",
    "    Perform k-means clustering on the given color data.\n",
    "    \"\"\"\n",
    "    colors = np.array(colors)\n",
    "    \n",
    "    colors[:,1:3] *= 4\n",
    "    if initial_centroids is not None:\n",
    "        kmeans = KMeans(n_clusters=2, init=initial_centroids, random_state=0, n_init=1, max_iter=max_iter).fit(colors)\n",
    "    else:\n",
    "        kmeans = KMeans(n_clusters=2, random_state=0).fit(colors)\n",
    "        initial_centroids = kmeans.cluster_centers_\n",
    "        \n",
    "    return kmeans.labels_, initial_centroids"
   ]
  },
  {
   "cell_type": "code",
   "execution_count": 335,
   "id": "e65144ed",
   "metadata": {},
   "outputs": [],
   "source": [
    "from scipy.spatial import distance\n",
    "from scipy import stats\n",
    "\n",
    "def plot_filtered_boxes(frame, boxes):\n",
    "    plt.figure(figsize=(12, len(boxes) * 4))\n",
    "    \n",
    "    for i, box in enumerate(boxes):\n",
    "        # Apply the ROI adjustment and color filtering\n",
    "        roi = adjust_bbox(frame, box)\n",
    "        roi_lab = cv2.cvtColor(roi, cv2.COLOR_BGR2Lab)\n",
    "        roi_lab_filtered = filter_out_color_LAB(roi_lab, 127, 255)\n",
    "        non_zero_colors = roi_lab_filtered[roi_lab_filtered.any(axis=-1)]\n",
    "\n",
    "        plt.subplot(len(boxes), 2, i * 2 + 1)\n",
    "        plt.imshow(cv2.cvtColor(roi, cv2.COLOR_BGR2RGB))\n",
    "        plt.title(f\"Original Box {i+1}\")\n",
    "\n",
    "        plt.subplot(len(boxes), 2, i * 2 + 2)\n",
    "        plt.imshow(cv2.cvtColor(roi_lab_filtered, cv2.COLOR_Lab2RGB))\n",
    "        plt.title(f\"Filtered Box {i+1}\")\n",
    "        \n",
    "    plt.show()\n",
    "\n",
    "def compute_common_color_cluster_and_range(frame, boxes, num_clusters=2, delta=10):\n",
    "    colors = []\n",
    "    for box in boxes:\n",
    "        roi = adjust_bbox(frame, box)\n",
    "        roi_lab = cv2.cvtColor(roi, cv2.COLOR_BGR2Lab)\n",
    "        roi_lab_filtered = filter_out_color_LAB(roi_lab, 127, 255)\n",
    "        non_zero_colors = roi_lab_filtered[roi_lab_filtered.any(axis=-1)]\n",
    "        colors.extend(non_zero_colors)\n",
    "\n",
    "    if len(colors) == 0:\n",
    "        print(\"All colors are filtered out.\")\n",
    "        return None, None\n",
    "\n",
    "    # Applying K-means clustering to group colors\n",
    "    kmeans = KMeans(n_clusters=num_clusters, random_state=0).fit(colors)\n",
    "    cluster_centers = kmeans.cluster_centers_.astype(int)\n",
    "\n",
    "    # Getting the most common cluster center (centroid)\n",
    "    labels, counts = np.unique(kmeans.labels_, return_counts=True)\n",
    "    most_common_cluster = cluster_centers[labels[np.argmax(counts)]]\n",
    "\n",
    "    # Compute the color range\n",
    "    lower_bound = np.clip(most_common_cluster - delta, 0, 255)\n",
    "    upper_bound = np.clip(most_common_cluster + delta, 0, 255)\n",
    "\n",
    "    # Plotting the most common color cluster center\n",
    "    plt.figure(figsize=(6, 2))\n",
    "    plt.subplot(1, 2, 1)\n",
    "    plt.imshow(cv2.cvtColor(most_common_cluster[np.newaxis, np.newaxis, :].astype(np.uint8), cv2.COLOR_Lab2RGB))\n",
    "    plt.title(\"Most Common Cluster Center\")\n",
    "    plt.axis('off')\n",
    "\n",
    "    # Plotting colors within the range\n",
    "    plt.subplot(1, 2, 2)\n",
    "    for i in range(5):\n",
    "        sample_color = np.random.randint(lower_bound, upper_bound+1)\n",
    "        plt.imshow(cv2.cvtColor(sample_color[np.newaxis, np.newaxis, :].astype(np.uint8), cv2.COLOR_Lab2RGB))\n",
    "        plt.title(\"Colors Within Range\")\n",
    "        plt.axis('off')\n",
    "\n",
    "    plt.show()\n",
    "\n",
    "    return lower_bound, upper_bound    \n",
    "    \n",
    "def compute_common_color_and_range(frame, boxes, delta=10):\n",
    "    colors = []\n",
    "    for box in boxes:\n",
    "        roi = adjust_bbox(frame, box)\n",
    "        roi_lab = cv2.cvtColor(roi, cv2.COLOR_BGR2Lab)\n",
    "        roi_lab_filtered = filter_out_color_LAB(roi_lab, 127, 255)\n",
    "        non_zero_colors = roi_lab_filtered[roi_lab_filtered.any(axis=-1)]\n",
    "        colors.extend(non_zero_colors)\n",
    "\n",
    "    if len(colors) == 0:\n",
    "        print(\"All colors are filtered out.\")\n",
    "        return None, None\n",
    "\n",
    "    color_counter = Counter(map(tuple, colors))\n",
    "    most_common_color = np.array(color_counter.most_common(1)[0][0], dtype=np.uint8)\n",
    "\n",
    "    # Compute the color range\n",
    "    lower_bound = most_common_color - delta\n",
    "    upper_bound = most_common_color + delta\n",
    "    \n",
    "    # Ensure the bounds are valid\n",
    "    if np.any(upper_bound < lower_bound):\n",
    "        print(\"Invalid color range corrected.\")\n",
    "        lower_bound = most_common_color\n",
    "        upper_bound = most_common_color\n",
    "    \n",
    "    lower_bound = np.clip(lower_bound, 0, 255)\n",
    "    upper_bound = np.clip(upper_bound, 0, 255)\n",
    "\n",
    "    # Plotting the most common color\n",
    "    plt.figure(figsize=(6, 2))\n",
    "    plt.subplot(1, 2, 1)\n",
    "    plt.imshow(cv2.cvtColor(most_common_color[np.newaxis, np.newaxis, :].astype(np.uint8), cv2.COLOR_Lab2RGB))\n",
    "    plt.title(\"Most Common Color\")\n",
    "    plt.axis('off')\n",
    "    \n",
    "    plt.subplot(1, 2, 2)\n",
    "    for i in range(5):\n",
    "        sample_color = np.random.randint(lower_bound, upper_bound + 1, size=(1,1,3))\n",
    "        plt.imshow(cv2.cvtColor(sample_color.astype(np.uint8), cv2.COLOR_Lab2RGB))\n",
    "        plt.axis('off')\n",
    "\n",
    "    return lower_bound, upper_bound\n",
    "\n",
    "\n",
    "def nearest_points(centroids, data_points, n):\n",
    "    # Calculate the distances between each data point and each centroid\n",
    "    distances = distance.cdist(data_points, centroids, 'euclidean')\n",
    "    \n",
    "    # Get the n smallest distances' indices for each centroid\n",
    "    nearest_indices = np.argsort(distances, axis=0)[:n]\n",
    "    \n",
    "    # Creating a dictionary to hold the indices of the nearest points for each centroid\n",
    "    nearest_per_centroid = {i: nearest_indices[:, i].tolist() for i in range(centroids.shape[0])}\n",
    "\n",
    "    return nearest_per_centroid\n",
    "\n",
    "\n",
    "def compute_jersey_colors(first_frame, dets, bounding_boxes, classes, color_multiplier=4):\n",
    "    # get_mean_color returns a tuple, 0 is most common color, 1 is mean color\n",
    "    class_1_boxes = [bounding_box for bounding_box, cls in zip(bounding_boxes, classes) if cls == 1]\n",
    "    colors_bounding_boxes = [(get_mean_color(first_frame, bounding_box)[1], bounding_box) for bounding_box in class_1_boxes]\n",
    "    \n",
    "    mean_colors = []\n",
    "    for color_bbox in colors_bounding_boxes:\n",
    "        mean_colors.append(color_bbox[0])\n",
    "    \n",
    "    mean_colors = np.array(mean_colors)\n",
    "    label_clusters, centroids = perform_kmeans_clustering(mean_colors, color_multiplier=color_multiplier)\n",
    "    clustered_points = mean_colors.copy()\n",
    "    clustered_points[:,1:3] *= color_multiplier\n",
    "    \n",
    "    close_points = nearest_points(centroids, clustered_points, 4)\n",
    "    \n",
    "    centroid_1_boxes = [class_1_boxes[i] for i in close_points[0]]\n",
    "    centroid_2_boxes = [class_1_boxes[i] for i in close_points[1]]\n",
    "    \n",
    "    \n",
    "    #plot_filtered_boxes(first_frame, centroid_1_boxes)\n",
    "    #plot_filtered_boxes(first_frame, centroid_2_boxes)\n",
    "    print(\"first\")\n",
    "    dominant_color = compute_common_color_cluster_and_range(first_frame, centroid_1_boxes)\n",
    "    dominant_color = compute_common_color_and_range(first_frame, centroid_1_boxes)\n",
    "\n",
    "    print(\"second\")\n",
    "    dominant_color = compute_common_color_cluster_and_range(first_frame, centroid_2_boxes)\n",
    "    dominant_color = compute_common_color_and_range(first_frame, centroid_2_boxes)\n",
    "\n",
    "\n",
    "    print(\"Most Dominant Color (in LAB):\", dominant_color)\n",
    "\n",
    "    \n",
    "        "
   ]
  },
  {
   "cell_type": "code",
   "execution_count": 336,
   "id": "817e5a04",
   "metadata": {},
   "outputs": [],
   "source": [
    "def process_video(input_file, output_file, tracker, yolov8, conf=0.3):\n",
    "    \"\"\"\n",
    "    Process the input video, perform object detection and tracking, and save the results to the output video.\n",
    "    \"\"\"\n",
    "    input_video = cv2.VideoCapture(input_file)\n",
    "    width = int(input_video.get(cv2.CAP_PROP_FRAME_WIDTH))\n",
    "    height = int(input_video.get(cv2.CAP_PROP_FRAME_HEIGHT))\n",
    "    fps = input_video.get(cv2.CAP_PROP_FPS)\n",
    "    fourcc = cv2.VideoWriter_fourcc(*'mp4v')\n",
    "    out = cv2.VideoWriter(output_file, fourcc, fps, (width, height))\n",
    "    \n",
    "    thickness = 2\n",
    "    fontscale = 0.5\n",
    "    \n",
    "    # Function to get unique colors for each class id\n",
    "    def get_color(cls_id):\n",
    "        np.random.seed(cls_id)\n",
    "        return tuple(np.random.randint(0, 255, 3).tolist())\n",
    "    \n",
    "   \n",
    "\n",
    "    initial_centroids = None\n",
    "    counter = 1\n",
    "    while True:\n",
    "        print(counter)\n",
    "        ret, im = input_video.read()\n",
    "        if not ret:\n",
    "            break\n",
    "        \n",
    "        predicted = yolov8.predict(im, conf=conf)\n",
    "        dets = predicted[0].boxes.data.cpu().numpy()\n",
    "        tracks = tracker.update(dets, im)\n",
    "        if tracks.size > 0:  # Check if tracks is not empty\n",
    "            print(\"Tracks shape:\", tracks.shape)  # Print the shape of tracks\n",
    "            xyxys = tracks[:, 0:4].astype('int')\n",
    "            ids = tracks[:, 4].astype('int')\n",
    "            clss = tracks[:, 6].astype('int')\n",
    "        else:\n",
    "            print(\"Tracks is empty or not in expected format.\")\n",
    "\n",
    "        if(counter == 1):\n",
    "            compute_jersey_colors(im, dets, xyxys, clss)\n",
    "        \n",
    "        if tracks.shape[0] != 0:\n",
    "            player_mean_colors = [get_mean_color(im, xyxy)[1] for xyxy, cls in zip(xyxys, clss) if cls == 1]\n",
    "            #player_mean_colors = [get_color_histogram(im, xyxy) for xyxy, cls in zip(xyxys, clss) if cls == 1]\n",
    "            \n",
    "            if len(player_mean_colors) > 1:\n",
    "                labels, initial_centroids = perform_kmeans_clustering(player_mean_colors, initial_centroids)\n",
    "                \n",
    "                \"\"\"\n",
    "                player_mean_colors = np.array([lab_to_rgb(color) for color in player_mean_colors])\n",
    "                \n",
    "                # Plotting the results (optional)\n",
    "                plt.subplot(1, 2, 1)\n",
    "                plt.scatter(player_mean_colors[:, 1], player_mean_colors[:, 2], c=player_mean_colors / 255.0)\n",
    "                plt.title('Original Colors')\n",
    "\n",
    "                plt.subplot(1, 2, 2)\n",
    "                plt.scatter(player_mean_colors[labels == 0][:, 1], player_mean_colors[labels == 0][:, 2], c='blue', marker='o')\n",
    "                plt.scatter(player_mean_colors[labels == 1][:, 1], player_mean_colors[labels == 1][:, 2], c='red', marker='x')\n",
    "                plt.title('Clustered Colors')\n",
    "\n",
    "                plt.show()\n",
    "                \"\"\"    \n",
    "            for xyxy, id, cls, label in zip(xyxys, ids, clss, labels):\n",
    "                \n",
    "                if cls == 1:  # Modify this condition as per your actual player class ID\n",
    "                    # Adjusting the bounding box to focus on the upper part\n",
    "                    x1, y1, x2, y2 = xyxy\n",
    "                    height = y2 - y1\n",
    "                    width = x2 - x1\n",
    "\n",
    "                    new_y1 = y1 + int(0.17 * height)\n",
    "                    new_y2 = y1 + int(0.5 * height)\n",
    "                    new_x1 = x1 + int(0.2 * width)\n",
    "                    new_x2 = x2 - int(0.2 * width)\n",
    "\n",
    "                    # Visualize the adjusted bounding box\n",
    "                    cv2.rectangle(im, (new_x1, new_y1), (new_x2, new_y2), (255, 0, 0), 2)\n",
    "                \n",
    "                \n",
    "                # Convert bounding box coordinates to Rect object\n",
    "                rect = Rect(xyxy[0], xyxy[1], xyxy[2], xyxy[3])\n",
    "                \n",
    "                if cls == 1:\n",
    "                    cls = cls + label\n",
    "                \n",
    "                # Get a unique color for each class\n",
    "                color = Color(*get_color(cls))\n",
    "\n",
    "                # Draw an ellipse at the bottom of the bounding box\n",
    "                draw_ellipse(im, rect, color, thickness)\n",
    "                \n",
    "                # Place ID text just above the ellipse\n",
    "                cv2.putText(\n",
    "                    im,\n",
    "                    f'{id}',\n",
    "                    (rect.bottom_center[0] - 10, rect.bottom_center[1] - int(0.35 * rect.width) - 5),\n",
    "                    cv2.FONT_HERSHEY_SIMPLEX,\n",
    "                    fontscale,\n",
    "                    color.bgr_tuple,\n",
    "                    thickness\n",
    "                )\n",
    "                \n",
    "                \n",
    "        out.write(im)\n",
    "        counter += 1\n",
    "        \n",
    "    input_video.release()\n",
    "    out.release()\n",
    "    cv2.destroyAllWindows()\n"
   ]
  },
  {
   "cell_type": "code",
   "execution_count": 337,
   "id": "797ec9cc",
   "metadata": {
    "scrolled": true
   },
   "outputs": [
    {
     "name": "stderr",
     "output_type": "stream",
     "text": [
      "\u001b[32m2023-10-13 17:37:51.360\u001b[0m | \u001b[32m\u001b[1mSUCCESS \u001b[0m | \u001b[36mboxmot.appearance.reid_model_factory\u001b[0m:\u001b[36mload_pretrained_weights\u001b[0m:\u001b[36m207\u001b[0m - \u001b[32m\u001b[1mSuccessfully loaded pretrained weights from \"osnet_x0_25_msmt17.pt\"\u001b[0m\n",
      "\u001b[32m2023-10-13 17:37:51.361\u001b[0m | \u001b[33m\u001b[1mWARNING \u001b[0m | \u001b[36mboxmot.appearance.reid_model_factory\u001b[0m:\u001b[36mload_pretrained_weights\u001b[0m:\u001b[36m211\u001b[0m - \u001b[33m\u001b[1mThe following layers are discarded due to unmatched keys or layer size: ('classifier.weight', 'classifier.bias')\u001b[0m\n"
     ]
    },
    {
     "name": "stdout",
     "output_type": "stream",
     "text": [
      "videos/first_30_seconds_tracking1_output.mp4\n",
      "1\n"
     ]
    },
    {
     "name": "stderr",
     "output_type": "stream",
     "text": [
      "\n",
      "0: 1120x1984 22 players, 97.0ms\n",
      "Speed: 13.0ms preprocess, 97.0ms inference, 1.4ms postprocess per image at shape (1, 3, 1120, 1984)\n"
     ]
    },
    {
     "name": "stdout",
     "output_type": "stream",
     "text": [
      "Tracks shape: (22, 8)\n",
      "first\n"
     ]
    },
    {
     "data": {
      "image/png": "[encoded data removed]",
      "text/plain": [
       "<Figure size 432x144 with 2 Axes>"
      ]
     },
     "metadata": {
      "needs_background": "light"
     },
     "output_type": "display_data"
    },
    {
     "name": "stdout",
     "output_type": "stream",
     "text": [
      "second\n"
     ]
    },
    {
     "data": {
      "image/png": "[encoded data removed]",
      "text/plain": [
       "<Figure size 432x144 with 2 Axes>"
      ]
     },
     "metadata": {
      "needs_background": "light"
     },
     "output_type": "display_data"
    },
    {
     "data": {
      "image/png": "[encoded data removed]",
      "text/plain": [
       "<Figure size 432x144 with 2 Axes>"
      ]
     },
     "metadata": {
      "needs_background": "light"
     },
     "output_type": "display_data"
    },
    {
     "name": "stderr",
     "output_type": "stream",
     "text": [
      "\n",
      "0: 1120x1984 22 players, 96.5ms\n",
      "Speed: 13.3ms preprocess, 96.5ms inference, 1.5ms postprocess per image at shape (1, 3, 1120, 1984)\n"
     ]
    },
    {
     "name": "stdout",
     "output_type": "stream",
     "text": [
      "Most Dominant Color (in LAB): (array([124, 191, 170], dtype=uint8), array([144, 211, 190], dtype=uint8))\n",
      "2\n"
     ]
    },
    {
     "name": "stderr",
     "output_type": "stream",
     "text": [
      "\n",
      "0: 1120x1984 22 players, 96.9ms\n",
      "Speed: 14.2ms preprocess, 96.9ms inference, 1.4ms postprocess per image at shape (1, 3, 1120, 1984)\n"
     ]
    },
    {
     "name": "stdout",
     "output_type": "stream",
     "text": [
      "Tracks shape: (22, 8)\n",
      "3\n"
     ]
    },
    {
     "name": "stderr",
     "output_type": "stream",
     "text": [
      "\n",
      "0: 1120x1984 22 players, 96.6ms\n",
      "Speed: 14.2ms preprocess, 96.6ms inference, 1.4ms postprocess per image at shape (1, 3, 1120, 1984)\n"
     ]
    },
    {
     "name": "stdout",
     "output_type": "stream",
     "text": [
      "Tracks shape: (22, 8)\n",
      "4\n"
     ]
    },
    {
     "name": "stderr",
     "output_type": "stream",
     "text": [
      "\n",
      "0: 1120x1984 22 players, 96.8ms\n",
      "Speed: 14.2ms preprocess, 96.8ms inference, 1.5ms postprocess per image at shape (1, 3, 1120, 1984)\n"
     ]
    },
    {
     "name": "stdout",
     "output_type": "stream",
     "text": [
      "Tracks shape: (22, 8)\n",
      "5\n"
     ]
    },
    {
     "name": "stderr",
     "output_type": "stream",
     "text": [
      "\n",
      "0: 1120x1984 22 players, 96.8ms\n",
      "Speed: 14.2ms preprocess, 96.8ms inference, 1.5ms postprocess per image at shape (1, 3, 1120, 1984)\n"
     ]
    },
    {
     "name": "stdout",
     "output_type": "stream",
     "text": [
      "Tracks shape: (22, 8)\n",
      "6\n"
     ]
    },
    {
     "name": "stderr",
     "output_type": "stream",
     "text": [
      "\n",
      "0: 1120x1984 22 players, 96.9ms\n",
      "Speed: 14.2ms preprocess, 96.9ms inference, 1.5ms postprocess per image at shape (1, 3, 1120, 1984)\n"
     ]
    },
    {
     "name": "stdout",
     "output_type": "stream",
     "text": [
      "Tracks shape: (22, 8)\n",
      "7\n"
     ]
    },
    {
     "name": "stderr",
     "output_type": "stream",
     "text": [
      "\n",
      "0: 1120x1984 22 players, 96.8ms\n",
      "Speed: 13.8ms preprocess, 96.8ms inference, 1.5ms postprocess per image at shape (1, 3, 1120, 1984)\n"
     ]
    },
    {
     "name": "stdout",
     "output_type": "stream",
     "text": [
      "Tracks shape: (22, 8)\n",
      "8\n"
     ]
    },
    {
     "name": "stderr",
     "output_type": "stream",
     "text": [
      "\n",
      "0: 1120x1984 22 players, 97.0ms\n",
      "Speed: 14.3ms preprocess, 97.0ms inference, 1.4ms postprocess per image at shape (1, 3, 1120, 1984)\n"
     ]
    },
    {
     "name": "stdout",
     "output_type": "stream",
     "text": [
      "Tracks shape: (22, 8)\n",
      "9\n"
     ]
    },
    {
     "name": "stderr",
     "output_type": "stream",
     "text": [
      "\n",
      "0: 1120x1984 22 players, 96.9ms\n",
      "Speed: 14.2ms preprocess, 96.9ms inference, 1.4ms postprocess per image at shape (1, 3, 1120, 1984)\n"
     ]
    },
    {
     "name": "stdout",
     "output_type": "stream",
     "text": [
      "Tracks shape: (22, 8)\n",
      "10\n"
     ]
    },
    {
     "name": "stderr",
     "output_type": "stream",
     "text": [
      "\n",
      "0: 1120x1984 22 players, 96.9ms\n",
      "Speed: 14.2ms preprocess, 96.9ms inference, 1.4ms postprocess per image at shape (1, 3, 1120, 1984)\n"
     ]
    },
    {
     "name": "stdout",
     "output_type": "stream",
     "text": [
      "Tracks shape: (22, 8)\n",
      "11\n"
     ]
    },
    {
     "name": "stderr",
     "output_type": "stream",
     "text": [
      "\n",
      "0: 1120x1984 22 players, 96.8ms\n",
      "Speed: 14.1ms preprocess, 96.8ms inference, 1.5ms postprocess per image at shape (1, 3, 1120, 1984)\n"
     ]
    },
    {
     "name": "stdout",
     "output_type": "stream",
     "text": [
      "Tracks shape: (22, 8)\n",
      "12\n"
     ]
    },
    {
     "name": "stderr",
     "output_type": "stream",
     "text": [
      "\n",
      "0: 1120x1984 22 players, 96.9ms\n",
      "Speed: 14.4ms preprocess, 96.9ms inference, 1.5ms postprocess per image at shape (1, 3, 1120, 1984)\n"
     ]
    },
    {
     "name": "stdout",
     "output_type": "stream",
     "text": [
      "Tracks shape: (22, 8)\n",
      "13\n"
     ]
    },
    {
     "name": "stderr",
     "output_type": "stream",
     "text": [
      "\n",
      "0: 1120x1984 22 players, 96.6ms\n",
      "Speed: 14.2ms preprocess, 96.6ms inference, 1.5ms postprocess per image at shape (1, 3, 1120, 1984)\n"
     ]
    },
    {
     "name": "stdout",
     "output_type": "stream",
     "text": [
      "Tracks shape: (22, 8)\n",
      "14\n"
     ]
    },
    {
     "name": "stderr",
     "output_type": "stream",
     "text": [
      "\n",
      "0: 1120x1984 22 players, 96.9ms\n",
      "Speed: 14.3ms preprocess, 96.9ms inference, 1.5ms postprocess per image at shape (1, 3, 1120, 1984)\n"
     ]
    },
    {
     "name": "stdout",
     "output_type": "stream",
     "text": [
      "Tracks shape: (22, 8)\n",
      "15\n"
     ]
    },
    {
     "name": "stderr",
     "output_type": "stream",
     "text": [
      "\n",
      "0: 1120x1984 1 ball, 22 players, 96.9ms\n",
      "Speed: 14.0ms preprocess, 96.9ms inference, 1.5ms postprocess per image at shape (1, 3, 1120, 1984)\n"
     ]
    },
    {
     "name": "stdout",
     "output_type": "stream",
     "text": [
      "Tracks shape: (22, 8)\n",
      "16\n"
     ]
    },
    {
     "name": "stderr",
     "output_type": "stream",
     "text": [
      "\n",
      "0: 1120x1984 1 ball, 22 players, 96.9ms\n",
      "Speed: 14.3ms preprocess, 96.9ms inference, 1.4ms postprocess per image at shape (1, 3, 1120, 1984)\n"
     ]
    },
    {
     "name": "stdout",
     "output_type": "stream",
     "text": [
      "Tracks shape: (22, 8)\n",
      "17\n"
     ]
    },
    {
     "name": "stderr",
     "output_type": "stream",
     "text": [
      "\n",
      "0: 1120x1984 22 players, 96.8ms\n",
      "Speed: 14.2ms preprocess, 96.8ms inference, 1.4ms postprocess per image at shape (1, 3, 1120, 1984)\n"
     ]
    },
    {
     "name": "stdout",
     "output_type": "stream",
     "text": [
      "Tracks shape: (22, 8)\n",
      "18\n"
     ]
    },
    {
     "name": "stderr",
     "output_type": "stream",
     "text": [
      "\n",
      "0: 1120x1984 22 players, 96.8ms\n",
      "Speed: 13.9ms preprocess, 96.8ms inference, 1.5ms postprocess per image at shape (1, 3, 1120, 1984)\n"
     ]
    },
    {
     "name": "stdout",
     "output_type": "stream",
     "text": [
      "Tracks shape: (22, 8)\n",
      "19\n"
     ]
    },
    {
     "name": "stderr",
     "output_type": "stream",
     "text": [
      "\n",
      "0: 1120x1984 22 players, 96.9ms\n",
      "Speed: 14.2ms preprocess, 96.9ms inference, 1.4ms postprocess per image at shape (1, 3, 1120, 1984)\n"
     ]
    },
    {
     "name": "stdout",
     "output_type": "stream",
     "text": [
      "Tracks shape: (22, 8)\n",
      "20\n"
     ]
    },
    {
     "name": "stderr",
     "output_type": "stream",
     "text": [
      "\n",
      "0: 1120x1984 1 ball, 22 players, 96.6ms\n",
      "Speed: 14.3ms preprocess, 96.6ms inference, 1.4ms postprocess per image at shape (1, 3, 1120, 1984)\n"
     ]
    },
    {
     "name": "stdout",
     "output_type": "stream",
     "text": [
      "Tracks shape: (22, 8)\n",
      "21\n"
     ]
    },
    {
     "name": "stderr",
     "output_type": "stream",
     "text": [
      "\n",
      "0: 1120x1984 1 ball, 22 players, 96.8ms\n",
      "Speed: 14.3ms preprocess, 96.8ms inference, 1.5ms postprocess per image at shape (1, 3, 1120, 1984)\n"
     ]
    },
    {
     "name": "stdout",
     "output_type": "stream",
     "text": [
      "Tracks shape: (22, 8)\n",
      "22\n"
     ]
    },
    {
     "name": "stderr",
     "output_type": "stream",
     "text": [
      "\n",
      "0: 1120x1984 1 ball, 22 players, 96.9ms\n",
      "Speed: 14.3ms preprocess, 96.9ms inference, 1.4ms postprocess per image at shape (1, 3, 1120, 1984)\n"
     ]
    },
    {
     "name": "stdout",
     "output_type": "stream",
     "text": [
      "Tracks shape: (22, 8)\n",
      "23\n"
     ]
    },
    {
     "name": "stderr",
     "output_type": "stream",
     "text": [
      "\n",
      "0: 1120x1984 1 ball, 22 players, 96.5ms\n",
      "Speed: 14.2ms preprocess, 96.5ms inference, 1.4ms postprocess per image at shape (1, 3, 1120, 1984)\n"
     ]
    },
    {
     "name": "stdout",
     "output_type": "stream",
     "text": [
      "Tracks shape: (23, 8)\n",
      "24\n"
     ]
    },
    {
     "name": "stderr",
     "output_type": "stream",
     "text": [
      "\n",
      "0: 1120x1984 22 players, 97.0ms\n",
      "Speed: 14.3ms preprocess, 97.0ms inference, 1.5ms postprocess per image at shape (1, 3, 1120, 1984)\n"
     ]
    },
    {
     "name": "stdout",
     "output_type": "stream",
     "text": [
      "Tracks shape: (23, 8)\n",
      "25\n"
     ]
    },
    {
     "name": "stderr",
     "output_type": "stream",
     "text": [
      "\n",
      "0: 1120x1984 22 players, 96.6ms\n",
      "Speed: 14.3ms preprocess, 96.6ms inference, 1.5ms postprocess per image at shape (1, 3, 1120, 1984)\n"
     ]
    },
    {
     "name": "stdout",
     "output_type": "stream",
     "text": [
      "Tracks shape: (22, 8)\n",
      "26\n"
     ]
    },
    {
     "name": "stderr",
     "output_type": "stream",
     "text": [
      "\n",
      "0: 1120x1984 22 players, 96.8ms\n",
      "Speed: 14.2ms preprocess, 96.8ms inference, 1.4ms postprocess per image at shape (1, 3, 1120, 1984)\n"
     ]
    },
    {
     "name": "stdout",
     "output_type": "stream",
     "text": [
      "Tracks shape: (22, 8)\n",
      "27\n"
     ]
    },
    {
     "name": "stderr",
     "output_type": "stream",
     "text": [
      "\n",
      "0: 1120x1984 1 ball, 22 players, 96.6ms\n",
      "Speed: 14.1ms preprocess, 96.6ms inference, 1.4ms postprocess per image at shape (1, 3, 1120, 1984)\n"
     ]
    },
    {
     "name": "stdout",
     "output_type": "stream",
     "text": [
      "Tracks shape: (22, 8)\n",
      "28\n"
     ]
    },
    {
     "name": "stderr",
     "output_type": "stream",
     "text": [
      "\n",
      "0: 1120x1984 1 ball, 22 players, 96.7ms\n",
      "Speed: 14.2ms preprocess, 96.7ms inference, 1.8ms postprocess per image at shape (1, 3, 1120, 1984)\n"
     ]
    },
    {
     "name": "stdout",
     "output_type": "stream",
     "text": [
      "Tracks shape: (22, 8)\n",
      "29\n"
     ]
    },
    {
     "name": "stderr",
     "output_type": "stream",
     "text": [
      "\n",
      "0: 1120x1984 1 ball, 22 players, 96.6ms\n",
      "Speed: 14.3ms preprocess, 96.6ms inference, 1.5ms postprocess per image at shape (1, 3, 1120, 1984)\n"
     ]
    },
    {
     "name": "stdout",
     "output_type": "stream",
     "text": [
      "Tracks shape: (22, 8)\n",
      "30\n"
     ]
    },
    {
     "name": "stderr",
     "output_type": "stream",
     "text": [
      "\n",
      "0: 1120x1984 1 ball, 22 players, 96.6ms\n",
      "Speed: 14.2ms preprocess, 96.6ms inference, 1.4ms postprocess per image at shape (1, 3, 1120, 1984)\n"
     ]
    },
    {
     "name": "stdout",
     "output_type": "stream",
     "text": [
      "Tracks shape: (23, 8)\n",
      "31\n"
     ]
    },
    {
     "name": "stderr",
     "output_type": "stream",
     "text": [
      "\n",
      "0: 1120x1984 1 ball, 22 players, 96.8ms\n",
      "Speed: 14.2ms preprocess, 96.8ms inference, 1.5ms postprocess per image at shape (1, 3, 1120, 1984)\n"
     ]
    },
    {
     "name": "stdout",
     "output_type": "stream",
     "text": [
      "Tracks shape: (23, 8)\n",
      "32\n"
     ]
    },
    {
     "name": "stderr",
     "output_type": "stream",
     "text": [
      "\n",
      "0: 1120x1984 1 ball, 22 players, 96.8ms\n",
      "Speed: 14.1ms preprocess, 96.8ms inference, 1.4ms postprocess per image at shape (1, 3, 1120, 1984)\n"
     ]
    },
    {
     "name": "stdout",
     "output_type": "stream",
     "text": [
      "Tracks shape: (23, 8)\n",
      "33\n"
     ]
    },
    {
     "name": "stderr",
     "output_type": "stream",
     "text": [
      "\n",
      "0: 1120x1984 1 ball, 22 players, 96.8ms\n",
      "Speed: 14.3ms preprocess, 96.8ms inference, 1.4ms postprocess per image at shape (1, 3, 1120, 1984)\n"
     ]
    },
    {
     "name": "stdout",
     "output_type": "stream",
     "text": [
      "Tracks shape: (23, 8)\n",
      "34\n"
     ]
    },
    {
     "name": "stderr",
     "output_type": "stream",
     "text": [
      "\n",
      "0: 1120x1984 1 ball, 22 players, 96.9ms\n",
      "Speed: 14.0ms preprocess, 96.9ms inference, 1.4ms postprocess per image at shape (1, 3, 1120, 1984)\n"
     ]
    },
    {
     "name": "stdout",
     "output_type": "stream",
     "text": [
      "Tracks shape: (23, 8)\n",
      "35\n"
     ]
    },
    {
     "name": "stderr",
     "output_type": "stream",
     "text": [
      "\n",
      "0: 1120x1984 22 players, 96.7ms\n",
      "Speed: 14.2ms preprocess, 96.7ms inference, 1.4ms postprocess per image at shape (1, 3, 1120, 1984)\n"
     ]
    },
    {
     "name": "stdout",
     "output_type": "stream",
     "text": [
      "Tracks shape: (23, 8)\n",
      "36\n"
     ]
    },
    {
     "name": "stderr",
     "output_type": "stream",
     "text": [
      "\n",
      "0: 1120x1984 22 players, 96.5ms\n",
      "Speed: 14.2ms preprocess, 96.5ms inference, 1.5ms postprocess per image at shape (1, 3, 1120, 1984)\n"
     ]
    },
    {
     "name": "stdout",
     "output_type": "stream",
     "text": [
      "Tracks shape: (22, 8)\n",
      "37\n"
     ]
    },
    {
     "name": "stderr",
     "output_type": "stream",
     "text": [
      "\n",
      "0: 1120x1984 22 players, 97.0ms\n",
      "Speed: 14.3ms preprocess, 97.0ms inference, 1.5ms postprocess per image at shape (1, 3, 1120, 1984)\n"
     ]
    },
    {
     "name": "stdout",
     "output_type": "stream",
     "text": [
      "Tracks shape: (22, 8)\n",
      "38\n"
     ]
    },
    {
     "name": "stderr",
     "output_type": "stream",
     "text": [
      "\n",
      "0: 1120x1984 22 players, 96.8ms\n",
      "Speed: 14.2ms preprocess, 96.8ms inference, 1.4ms postprocess per image at shape (1, 3, 1120, 1984)\n"
     ]
    },
    {
     "name": "stdout",
     "output_type": "stream",
     "text": [
      "Tracks shape: (22, 8)\n",
      "39\n"
     ]
    },
    {
     "name": "stderr",
     "output_type": "stream",
     "text": [
      "\n",
      "0: 1120x1984 22 players, 96.8ms\n",
      "Speed: 14.2ms preprocess, 96.8ms inference, 1.4ms postprocess per image at shape (1, 3, 1120, 1984)\n"
     ]
    },
    {
     "name": "stdout",
     "output_type": "stream",
     "text": [
      "Tracks shape: (22, 8)\n",
      "40\n"
     ]
    },
    {
     "name": "stderr",
     "output_type": "stream",
     "text": [
      "\n",
      "0: 1120x1984 22 players, 96.9ms\n",
      "Speed: 14.2ms preprocess, 96.9ms inference, 1.4ms postprocess per image at shape (1, 3, 1120, 1984)\n"
     ]
    },
    {
     "name": "stdout",
     "output_type": "stream",
     "text": [
      "Tracks shape: (22, 8)\n",
      "41\n"
     ]
    },
    {
     "name": "stderr",
     "output_type": "stream",
     "text": [
      "\n",
      "0: 1120x1984 22 players, 96.7ms\n",
      "Speed: 14.3ms preprocess, 96.7ms inference, 1.4ms postprocess per image at shape (1, 3, 1120, 1984)\n"
     ]
    },
    {
     "name": "stdout",
     "output_type": "stream",
     "text": [
      "Tracks shape: (22, 8)\n",
      "42\n"
     ]
    },
    {
     "name": "stderr",
     "output_type": "stream",
     "text": [
      "\n",
      "0: 1120x1984 22 players, 96.9ms\n",
      "Speed: 14.2ms preprocess, 96.9ms inference, 1.5ms postprocess per image at shape (1, 3, 1120, 1984)\n"
     ]
    },
    {
     "name": "stdout",
     "output_type": "stream",
     "text": [
      "Tracks shape: (22, 8)\n",
      "43\n"
     ]
    },
    {
     "name": "stderr",
     "output_type": "stream",
     "text": [
      "\n",
      "0: 1120x1984 22 players, 96.6ms\n",
      "Speed: 14.3ms preprocess, 96.6ms inference, 1.5ms postprocess per image at shape (1, 3, 1120, 1984)\n"
     ]
    },
    {
     "name": "stdout",
     "output_type": "stream",
     "text": [
      "Tracks shape: (22, 8)\n",
      "44\n"
     ]
    },
    {
     "name": "stderr",
     "output_type": "stream",
     "text": [
      "\n",
      "0: 1120x1984 22 players, 96.8ms\n",
      "Speed: 13.9ms preprocess, 96.8ms inference, 1.5ms postprocess per image at shape (1, 3, 1120, 1984)\n"
     ]
    },
    {
     "name": "stdout",
     "output_type": "stream",
     "text": [
      "Tracks shape: (22, 8)\n",
      "45\n"
     ]
    },
    {
     "name": "stderr",
     "output_type": "stream",
     "text": [
      "\n",
      "0: 1120x1984 22 players, 96.9ms\n",
      "Speed: 14.3ms preprocess, 96.9ms inference, 1.4ms postprocess per image at shape (1, 3, 1120, 1984)\n"
     ]
    },
    {
     "name": "stdout",
     "output_type": "stream",
     "text": [
      "Tracks shape: (22, 8)\n",
      "46\n"
     ]
    },
    {
     "name": "stderr",
     "output_type": "stream",
     "text": [
      "\n",
      "0: 1120x1984 22 players, 96.9ms\n",
      "Speed: 14.2ms preprocess, 96.9ms inference, 1.5ms postprocess per image at shape (1, 3, 1120, 1984)\n"
     ]
    },
    {
     "name": "stdout",
     "output_type": "stream",
     "text": [
      "Tracks shape: (22, 8)\n",
      "47\n"
     ]
    },
    {
     "name": "stderr",
     "output_type": "stream",
     "text": [
      "\n",
      "0: 1120x1984 1 ball, 22 players, 96.6ms\n",
      "Speed: 13.8ms preprocess, 96.6ms inference, 1.5ms postprocess per image at shape (1, 3, 1120, 1984)\n"
     ]
    },
    {
     "name": "stdout",
     "output_type": "stream",
     "text": [
      "Tracks shape: (22, 8)\n",
      "48\n"
     ]
    },
    {
     "name": "stderr",
     "output_type": "stream",
     "text": [
      "\n",
      "0: 1120x1984 1 ball, 22 players, 96.8ms\n",
      "Speed: 14.2ms preprocess, 96.8ms inference, 1.4ms postprocess per image at shape (1, 3, 1120, 1984)\n"
     ]
    },
    {
     "name": "stdout",
     "output_type": "stream",
     "text": [
      "Tracks shape: (22, 8)\n",
      "49\n"
     ]
    },
    {
     "name": "stderr",
     "output_type": "stream",
     "text": [
      "\n",
      "0: 1120x1984 1 ball, 24 players, 96.9ms\n",
      "Speed: 14.2ms preprocess, 96.9ms inference, 1.6ms postprocess per image at shape (1, 3, 1120, 1984)\n"
     ]
    },
    {
     "name": "stdout",
     "output_type": "stream",
     "text": [
      "Tracks shape: (22, 8)\n",
      "50\n"
     ]
    },
    {
     "name": "stderr",
     "output_type": "stream",
     "text": [
      "\n",
      "0: 1120x1984 1 ball, 22 players, 96.8ms\n",
      "Speed: 14.2ms preprocess, 96.8ms inference, 1.5ms postprocess per image at shape (1, 3, 1120, 1984)\n"
     ]
    },
    {
     "name": "stdout",
     "output_type": "stream",
     "text": [
      "Tracks shape: (23, 8)\n",
      "51\n"
     ]
    },
    {
     "name": "stderr",
     "output_type": "stream",
     "text": [
      "\n",
      "0: 1120x1984 1 ball, 22 players, 96.8ms\n",
      "Speed: 14.3ms preprocess, 96.8ms inference, 1.5ms postprocess per image at shape (1, 3, 1120, 1984)\n"
     ]
    },
    {
     "name": "stdout",
     "output_type": "stream",
     "text": [
      "Tracks shape: (23, 8)\n",
      "52\n"
     ]
    },
    {
     "name": "stderr",
     "output_type": "stream",
     "text": [
      "\n",
      "0: 1120x1984 1 ball, 22 players, 96.7ms\n",
      "Speed: 14.2ms preprocess, 96.7ms inference, 1.6ms postprocess per image at shape (1, 3, 1120, 1984)\n"
     ]
    },
    {
     "name": "stdout",
     "output_type": "stream",
     "text": [
      "Tracks shape: (23, 8)\n",
      "53\n"
     ]
    },
    {
     "name": "stderr",
     "output_type": "stream",
     "text": [
      "\n",
      "0: 1120x1984 22 players, 96.6ms\n",
      "Speed: 14.2ms preprocess, 96.6ms inference, 1.4ms postprocess per image at shape (1, 3, 1120, 1984)\n"
     ]
    },
    {
     "name": "stdout",
     "output_type": "stream",
     "text": [
      "Tracks shape: (23, 8)\n",
      "54\n"
     ]
    },
    {
     "name": "stderr",
     "output_type": "stream",
     "text": [
      "\n",
      "0: 1120x1984 22 players, 96.6ms\n",
      "Speed: 14.3ms preprocess, 96.6ms inference, 1.5ms postprocess per image at shape (1, 3, 1120, 1984)\n"
     ]
    },
    {
     "name": "stdout",
     "output_type": "stream",
     "text": [
      "Tracks shape: (22, 8)\n",
      "55\n"
     ]
    },
    {
     "name": "stderr",
     "output_type": "stream",
     "text": [
      "\n",
      "0: 1120x1984 22 players, 96.9ms\n",
      "Speed: 14.1ms preprocess, 96.9ms inference, 1.4ms postprocess per image at shape (1, 3, 1120, 1984)\n"
     ]
    },
    {
     "name": "stdout",
     "output_type": "stream",
     "text": [
      "Tracks shape: (22, 8)\n",
      "56\n"
     ]
    },
    {
     "name": "stderr",
     "output_type": "stream",
     "text": [
      "\n",
      "0: 1120x1984 22 players, 96.8ms\n",
      "Speed: 14.2ms preprocess, 96.8ms inference, 1.4ms postprocess per image at shape (1, 3, 1120, 1984)\n"
     ]
    },
    {
     "name": "stdout",
     "output_type": "stream",
     "text": [
      "Tracks shape: (22, 8)\n",
      "57\n"
     ]
    },
    {
     "name": "stderr",
     "output_type": "stream",
     "text": [
      "\n",
      "0: 1120x1984 22 players, 96.9ms\n",
      "Speed: 14.1ms preprocess, 96.9ms inference, 1.4ms postprocess per image at shape (1, 3, 1120, 1984)\n"
     ]
    },
    {
     "name": "stdout",
     "output_type": "stream",
     "text": [
      "Tracks shape: (22, 8)\n",
      "58\n"
     ]
    },
    {
     "name": "stderr",
     "output_type": "stream",
     "text": [
      "\n",
      "0: 1120x1984 22 players, 96.6ms\n",
      "Speed: 14.2ms preprocess, 96.6ms inference, 1.4ms postprocess per image at shape (1, 3, 1120, 1984)\n"
     ]
    },
    {
     "name": "stdout",
     "output_type": "stream",
     "text": [
      "Tracks shape: (22, 8)\n",
      "59\n"
     ]
    },
    {
     "name": "stderr",
     "output_type": "stream",
     "text": [
      "\n",
      "0: 1120x1984 22 players, 96.7ms\n",
      "Speed: 14.1ms preprocess, 96.7ms inference, 1.5ms postprocess per image at shape (1, 3, 1120, 1984)\n"
     ]
    },
    {
     "name": "stdout",
     "output_type": "stream",
     "text": [
      "Tracks shape: (22, 8)\n",
      "60\n"
     ]
    },
    {
     "name": "stderr",
     "output_type": "stream",
     "text": [
      "\n",
      "0: 1120x1984 22 players, 97.0ms\n",
      "Speed: 14.2ms preprocess, 97.0ms inference, 1.4ms postprocess per image at shape (1, 3, 1120, 1984)\n"
     ]
    },
    {
     "name": "stdout",
     "output_type": "stream",
     "text": [
      "Tracks shape: (22, 8)\n",
      "61\n"
     ]
    },
    {
     "name": "stderr",
     "output_type": "stream",
     "text": [
      "\n",
      "0: 1120x1984 1 ball, 22 players, 97.1ms\n",
      "Speed: 13.9ms preprocess, 97.1ms inference, 1.5ms postprocess per image at shape (1, 3, 1120, 1984)\n"
     ]
    },
    {
     "name": "stdout",
     "output_type": "stream",
     "text": [
      "Tracks shape: (22, 8)\n",
      "62\n"
     ]
    },
    {
     "name": "stderr",
     "output_type": "stream",
     "text": [
      "\n",
      "0: 1120x1984 22 players, 96.9ms\n",
      "Speed: 14.3ms preprocess, 96.9ms inference, 1.4ms postprocess per image at shape (1, 3, 1120, 1984)\n"
     ]
    },
    {
     "name": "stdout",
     "output_type": "stream",
     "text": [
      "Tracks shape: (22, 8)\n",
      "63\n"
     ]
    },
    {
     "name": "stderr",
     "output_type": "stream",
     "text": [
      "\n",
      "0: 1120x1984 22 players, 96.8ms\n",
      "Speed: 14.2ms preprocess, 96.8ms inference, 1.4ms postprocess per image at shape (1, 3, 1120, 1984)\n"
     ]
    },
    {
     "name": "stdout",
     "output_type": "stream",
     "text": [
      "Tracks shape: (22, 8)\n",
      "64\n"
     ]
    },
    {
     "name": "stderr",
     "output_type": "stream",
     "text": [
      "\n",
      "0: 1120x1984 22 players, 96.7ms\n",
      "Speed: 14.1ms preprocess, 96.7ms inference, 1.4ms postprocess per image at shape (1, 3, 1120, 1984)\n"
     ]
    },
    {
     "name": "stdout",
     "output_type": "stream",
     "text": [
      "Tracks shape: (22, 8)\n",
      "65\n"
     ]
    },
    {
     "name": "stderr",
     "output_type": "stream",
     "text": [
      "\n",
      "0: 1120x1984 1 ball, 22 players, 97.0ms\n",
      "Speed: 14.1ms preprocess, 97.0ms inference, 1.5ms postprocess per image at shape (1, 3, 1120, 1984)\n"
     ]
    },
    {
     "name": "stdout",
     "output_type": "stream",
     "text": [
      "Tracks shape: (22, 8)\n",
      "66\n"
     ]
    },
    {
     "name": "stderr",
     "output_type": "stream",
     "text": [
      "\n",
      "0: 1120x1984 1 ball, 22 players, 96.6ms\n",
      "Speed: 14.2ms preprocess, 96.6ms inference, 1.5ms postprocess per image at shape (1, 3, 1120, 1984)\n"
     ]
    },
    {
     "name": "stdout",
     "output_type": "stream",
     "text": [
      "Tracks shape: (22, 8)\n",
      "67\n"
     ]
    },
    {
     "name": "stderr",
     "output_type": "stream",
     "text": [
      "\n",
      "0: 1120x1984 1 ball, 22 players, 96.7ms\n",
      "Speed: 14.2ms preprocess, 96.7ms inference, 1.5ms postprocess per image at shape (1, 3, 1120, 1984)\n"
     ]
    },
    {
     "name": "stdout",
     "output_type": "stream",
     "text": [
      "Tracks shape: (22, 8)\n",
      "68\n"
     ]
    },
    {
     "name": "stderr",
     "output_type": "stream",
     "text": [
      "\n",
      "0: 1120x1984 1 ball, 22 players, 96.7ms\n",
      "Speed: 14.2ms preprocess, 96.7ms inference, 1.5ms postprocess per image at shape (1, 3, 1120, 1984)\n"
     ]
    },
    {
     "name": "stdout",
     "output_type": "stream",
     "text": [
      "Tracks shape: (23, 8)\n",
      "69\n"
     ]
    },
    {
     "name": "stderr",
     "output_type": "stream",
     "text": [
      "\n",
      "0: 1120x1984 22 players, 96.6ms\n",
      "Speed: 14.2ms preprocess, 96.6ms inference, 1.5ms postprocess per image at shape (1, 3, 1120, 1984)\n"
     ]
    },
    {
     "name": "stdout",
     "output_type": "stream",
     "text": [
      "Tracks shape: (23, 8)\n",
      "70\n"
     ]
    },
    {
     "name": "stderr",
     "output_type": "stream",
     "text": [
      "\n",
      "0: 1120x1984 1 ball, 22 players, 96.6ms\n",
      "Speed: 14.1ms preprocess, 96.6ms inference, 1.5ms postprocess per image at shape (1, 3, 1120, 1984)\n"
     ]
    },
    {
     "name": "stdout",
     "output_type": "stream",
     "text": [
      "Tracks shape: (22, 8)\n",
      "71\n"
     ]
    },
    {
     "name": "stderr",
     "output_type": "stream",
     "text": [
      "\n",
      "0: 1120x1984 1 ball, 22 players, 96.9ms\n",
      "Speed: 14.2ms preprocess, 96.9ms inference, 1.5ms postprocess per image at shape (1, 3, 1120, 1984)\n"
     ]
    },
    {
     "name": "stdout",
     "output_type": "stream",
     "text": [
      "Tracks shape: (22, 8)\n",
      "72\n"
     ]
    },
    {
     "name": "stderr",
     "output_type": "stream",
     "text": [
      "\n",
      "0: 1120x1984 1 ball, 23 players, 96.9ms\n",
      "Speed: 14.1ms preprocess, 96.9ms inference, 1.4ms postprocess per image at shape (1, 3, 1120, 1984)\n"
     ]
    },
    {
     "name": "stdout",
     "output_type": "stream",
     "text": [
      "Tracks shape: (22, 8)\n",
      "73\n"
     ]
    },
    {
     "name": "stderr",
     "output_type": "stream",
     "text": [
      "\n",
      "0: 1120x1984 1 ball, 23 players, 96.9ms\n",
      "Speed: 13.9ms preprocess, 96.9ms inference, 1.5ms postprocess per image at shape (1, 3, 1120, 1984)\n"
     ]
    },
    {
     "name": "stdout",
     "output_type": "stream",
     "text": [
      "Tracks shape: (23, 8)\n",
      "74\n"
     ]
    },
    {
     "name": "stderr",
     "output_type": "stream",
     "text": [
      "\n",
      "0: 1120x1984 1 ball, 23 players, 96.5ms\n",
      "Speed: 14.2ms preprocess, 96.5ms inference, 1.5ms postprocess per image at shape (1, 3, 1120, 1984)\n"
     ]
    },
    {
     "name": "stdout",
     "output_type": "stream",
     "text": [
      "Tracks shape: (23, 8)\n",
      "75\n"
     ]
    },
    {
     "name": "stderr",
     "output_type": "stream",
     "text": [
      "\n",
      "0: 1120x1984 1 ball, 23 players, 96.8ms\n",
      "Speed: 14.1ms preprocess, 96.8ms inference, 1.4ms postprocess per image at shape (1, 3, 1120, 1984)\n"
     ]
    },
    {
     "name": "stdout",
     "output_type": "stream",
     "text": [
      "Tracks shape: (23, 8)\n",
      "76\n"
     ]
    },
    {
     "name": "stderr",
     "output_type": "stream",
     "text": [
      "\n",
      "0: 1120x1984 1 ball, 23 players, 96.8ms\n",
      "Speed: 14.1ms preprocess, 96.8ms inference, 1.4ms postprocess per image at shape (1, 3, 1120, 1984)\n"
     ]
    },
    {
     "name": "stdout",
     "output_type": "stream",
     "text": [
      "Tracks shape: (24, 8)\n",
      "77\n"
     ]
    },
    {
     "name": "stderr",
     "output_type": "stream",
     "text": [
      "\n",
      "0: 1120x1984 1 ball, 23 players, 96.7ms\n",
      "Speed: 14.2ms preprocess, 96.7ms inference, 1.5ms postprocess per image at shape (1, 3, 1120, 1984)\n"
     ]
    },
    {
     "name": "stdout",
     "output_type": "stream",
     "text": [
      "Tracks shape: (24, 8)\n",
      "78\n"
     ]
    },
    {
     "name": "stderr",
     "output_type": "stream",
     "text": [
      "\n",
      "0: 1120x1984 1 ball, 23 players, 96.6ms\n",
      "Speed: 14.1ms preprocess, 96.6ms inference, 1.4ms postprocess per image at shape (1, 3, 1120, 1984)\n"
     ]
    },
    {
     "name": "stdout",
     "output_type": "stream",
     "text": [
      "Tracks shape: (24, 8)\n",
      "79\n"
     ]
    },
    {
     "name": "stderr",
     "output_type": "stream",
     "text": [
      "\n",
      "0: 1120x1984 1 ball, 23 players, 96.8ms\n",
      "Speed: 14.2ms preprocess, 96.8ms inference, 1.5ms postprocess per image at shape (1, 3, 1120, 1984)\n"
     ]
    },
    {
     "name": "stdout",
     "output_type": "stream",
     "text": [
      "Tracks shape: (24, 8)\n",
      "80\n"
     ]
    },
    {
     "name": "stderr",
     "output_type": "stream",
     "text": [
      "\n",
      "0: 1120x1984 1 ball, 23 players, 96.9ms\n",
      "Speed: 14.2ms preprocess, 96.9ms inference, 1.4ms postprocess per image at shape (1, 3, 1120, 1984)\n"
     ]
    },
    {
     "name": "stdout",
     "output_type": "stream",
     "text": [
      "Tracks shape: (24, 8)\n",
      "81\n"
     ]
    },
    {
     "name": "stderr",
     "output_type": "stream",
     "text": [
      "\n",
      "0: 1120x1984 1 ball, 23 players, 96.6ms\n",
      "Speed: 14.2ms preprocess, 96.6ms inference, 1.5ms postprocess per image at shape (1, 3, 1120, 1984)\n"
     ]
    },
    {
     "name": "stdout",
     "output_type": "stream",
     "text": [
      "Tracks shape: (24, 8)\n",
      "82\n"
     ]
    },
    {
     "name": "stderr",
     "output_type": "stream",
     "text": [
      "\n",
      "0: 1120x1984 1 ball, 23 players, 96.8ms\n",
      "Speed: 14.2ms preprocess, 96.8ms inference, 1.4ms postprocess per image at shape (1, 3, 1120, 1984)\n"
     ]
    },
    {
     "name": "stdout",
     "output_type": "stream",
     "text": [
      "Tracks shape: (24, 8)\n",
      "83\n"
     ]
    },
    {
     "name": "stderr",
     "output_type": "stream",
     "text": [
      "\n",
      "0: 1120x1984 1 ball, 23 players, 97.0ms\n",
      "Speed: 14.2ms preprocess, 97.0ms inference, 1.4ms postprocess per image at shape (1, 3, 1120, 1984)\n"
     ]
    },
    {
     "name": "stdout",
     "output_type": "stream",
     "text": [
      "Tracks shape: (24, 8)\n",
      "84\n"
     ]
    },
    {
     "name": "stderr",
     "output_type": "stream",
     "text": [
      "\n",
      "0: 1120x1984 1 ball, 23 players, 96.8ms\n",
      "Speed: 13.8ms preprocess, 96.8ms inference, 1.5ms postprocess per image at shape (1, 3, 1120, 1984)\n"
     ]
    },
    {
     "name": "stdout",
     "output_type": "stream",
     "text": [
      "Tracks shape: (24, 8)\n",
      "85\n"
     ]
    },
    {
     "name": "stderr",
     "output_type": "stream",
     "text": [
      "\n",
      "0: 1120x1984 1 ball, 23 players, 96.9ms\n",
      "Speed: 14.2ms preprocess, 96.9ms inference, 1.4ms postprocess per image at shape (1, 3, 1120, 1984)\n"
     ]
    },
    {
     "name": "stdout",
     "output_type": "stream",
     "text": [
      "Tracks shape: (24, 8)\n",
      "86\n"
     ]
    },
    {
     "name": "stderr",
     "output_type": "stream",
     "text": [
      "\n",
      "0: 1120x1984 1 ball, 22 players, 97.1ms\n",
      "Speed: 14.2ms preprocess, 97.1ms inference, 1.5ms postprocess per image at shape (1, 3, 1120, 1984)\n"
     ]
    },
    {
     "name": "stdout",
     "output_type": "stream",
     "text": [
      "Tracks shape: (24, 8)\n",
      "87\n"
     ]
    },
    {
     "name": "stderr",
     "output_type": "stream",
     "text": [
      "\n",
      "0: 1120x1984 1 ball, 22 players, 96.9ms\n",
      "Speed: 14.3ms preprocess, 96.9ms inference, 1.5ms postprocess per image at shape (1, 3, 1120, 1984)\n"
     ]
    },
    {
     "name": "stdout",
     "output_type": "stream",
     "text": [
      "Tracks shape: (23, 8)\n",
      "88\n"
     ]
    },
    {
     "name": "stderr",
     "output_type": "stream",
     "text": [
      "\n",
      "0: 1120x1984 1 ball, 22 players, 96.9ms\n",
      "Speed: 14.2ms preprocess, 96.9ms inference, 1.5ms postprocess per image at shape (1, 3, 1120, 1984)\n"
     ]
    },
    {
     "name": "stdout",
     "output_type": "stream",
     "text": [
      "Tracks shape: (23, 8)\n",
      "89\n"
     ]
    },
    {
     "name": "stderr",
     "output_type": "stream",
     "text": [
      "\n",
      "0: 1120x1984 1 ball, 22 players, 96.8ms\n",
      "Speed: 14.3ms preprocess, 96.8ms inference, 1.5ms postprocess per image at shape (1, 3, 1120, 1984)\n"
     ]
    },
    {
     "name": "stdout",
     "output_type": "stream",
     "text": [
      "Tracks shape: (23, 8)\n",
      "90\n"
     ]
    },
    {
     "name": "stderr",
     "output_type": "stream",
     "text": [
      "\n",
      "0: 1120x1984 1 ball, 22 players, 96.9ms\n",
      "Speed: 14.2ms preprocess, 96.9ms inference, 1.4ms postprocess per image at shape (1, 3, 1120, 1984)\n"
     ]
    },
    {
     "name": "stdout",
     "output_type": "stream",
     "text": [
      "Tracks shape: (23, 8)\n",
      "91\n"
     ]
    },
    {
     "name": "stderr",
     "output_type": "stream",
     "text": [
      "\n",
      "0: 1120x1984 1 ball, 22 players, 96.9ms\n",
      "Speed: 14.1ms preprocess, 96.9ms inference, 1.5ms postprocess per image at shape (1, 3, 1120, 1984)\n"
     ]
    },
    {
     "name": "stdout",
     "output_type": "stream",
     "text": [
      "Tracks shape: (23, 8)\n",
      "92\n"
     ]
    },
    {
     "name": "stderr",
     "output_type": "stream",
     "text": [
      "\n",
      "0: 1120x1984 1 ball, 22 players, 96.9ms\n",
      "Speed: 14.2ms preprocess, 96.9ms inference, 1.5ms postprocess per image at shape (1, 3, 1120, 1984)\n"
     ]
    },
    {
     "name": "stdout",
     "output_type": "stream",
     "text": [
      "Tracks shape: (23, 8)\n",
      "93\n"
     ]
    },
    {
     "name": "stderr",
     "output_type": "stream",
     "text": [
      "\n",
      "0: 1120x1984 1 ball, 22 players, 96.7ms\n",
      "Speed: 14.2ms preprocess, 96.7ms inference, 1.5ms postprocess per image at shape (1, 3, 1120, 1984)\n"
     ]
    },
    {
     "name": "stdout",
     "output_type": "stream",
     "text": [
      "Tracks shape: (23, 8)\n",
      "94\n"
     ]
    },
    {
     "name": "stderr",
     "output_type": "stream",
     "text": [
      "\n",
      "0: 1120x1984 1 ball, 22 players, 96.9ms\n",
      "Speed: 14.2ms preprocess, 96.9ms inference, 1.5ms postprocess per image at shape (1, 3, 1120, 1984)\n"
     ]
    },
    {
     "name": "stdout",
     "output_type": "stream",
     "text": [
      "Tracks shape: (23, 8)\n",
      "95\n"
     ]
    },
    {
     "name": "stderr",
     "output_type": "stream",
     "text": [
      "\n",
      "0: 1120x1984 1 ball, 22 players, 96.9ms\n",
      "Speed: 14.1ms preprocess, 96.9ms inference, 1.5ms postprocess per image at shape (1, 3, 1120, 1984)\n"
     ]
    },
    {
     "name": "stdout",
     "output_type": "stream",
     "text": [
      "Tracks shape: (23, 8)\n",
      "96\n"
     ]
    },
    {
     "name": "stderr",
     "output_type": "stream",
     "text": [
      "\n",
      "0: 1120x1984 23 players, 96.8ms\n",
      "Speed: 14.1ms preprocess, 96.8ms inference, 1.4ms postprocess per image at shape (1, 3, 1120, 1984)\n"
     ]
    },
    {
     "name": "stdout",
     "output_type": "stream",
     "text": [
      "Tracks shape: (23, 8)\n",
      "97\n"
     ]
    },
    {
     "name": "stderr",
     "output_type": "stream",
     "text": [
      "\n",
      "0: 1120x1984 23 players, 96.7ms\n",
      "Speed: 14.2ms preprocess, 96.7ms inference, 1.4ms postprocess per image at shape (1, 3, 1120, 1984)\n"
     ]
    },
    {
     "name": "stdout",
     "output_type": "stream",
     "text": [
      "Tracks shape: (22, 8)\n",
      "98\n"
     ]
    },
    {
     "name": "stderr",
     "output_type": "stream",
     "text": [
      "\n",
      "0: 1120x1984 1 ball, 23 players, 96.8ms\n",
      "Speed: 14.4ms preprocess, 96.8ms inference, 1.5ms postprocess per image at shape (1, 3, 1120, 1984)\n"
     ]
    },
    {
     "name": "stdout",
     "output_type": "stream",
     "text": [
      "Tracks shape: (22, 8)\n",
      "99\n"
     ]
    },
    {
     "name": "stderr",
     "output_type": "stream",
     "text": [
      "\n",
      "0: 1120x1984 1 ball, 23 players, 96.8ms\n",
      "Speed: 14.2ms preprocess, 96.8ms inference, 1.4ms postprocess per image at shape (1, 3, 1120, 1984)\n"
     ]
    },
    {
     "name": "stdout",
     "output_type": "stream",
     "text": [
      "Tracks shape: (23, 8)\n",
      "100\n"
     ]
    },
    {
     "name": "stderr",
     "output_type": "stream",
     "text": [
      "\n",
      "0: 1120x1984 1 ball, 22 players, 96.6ms\n",
      "Speed: 14.3ms preprocess, 96.6ms inference, 1.5ms postprocess per image at shape (1, 3, 1120, 1984)\n"
     ]
    },
    {
     "name": "stdout",
     "output_type": "stream",
     "text": [
      "Tracks shape: (23, 8)\n",
      "101\n"
     ]
    },
    {
     "name": "stderr",
     "output_type": "stream",
     "text": [
      "\n",
      "0: 1120x1984 23 players, 96.5ms\n",
      "Speed: 14.3ms preprocess, 96.5ms inference, 1.4ms postprocess per image at shape (1, 3, 1120, 1984)\n"
     ]
    },
    {
     "name": "stdout",
     "output_type": "stream",
     "text": [
      "Tracks shape: (23, 8)\n",
      "102\n"
     ]
    },
    {
     "name": "stderr",
     "output_type": "stream",
     "text": [
      "\n",
      "0: 1120x1984 22 players, 96.8ms\n",
      "Speed: 13.9ms preprocess, 96.8ms inference, 1.4ms postprocess per image at shape (1, 3, 1120, 1984)\n"
     ]
    },
    {
     "name": "stdout",
     "output_type": "stream",
     "text": [
      "Tracks shape: (22, 8)\n",
      "103\n"
     ]
    },
    {
     "name": "stderr",
     "output_type": "stream",
     "text": [
      "\n",
      "0: 1120x1984 22 players, 96.6ms\n",
      "Speed: 14.2ms preprocess, 96.6ms inference, 1.4ms postprocess per image at shape (1, 3, 1120, 1984)\n"
     ]
    },
    {
     "name": "stdout",
     "output_type": "stream",
     "text": [
      "Tracks shape: (22, 8)\n",
      "104\n"
     ]
    },
    {
     "name": "stderr",
     "output_type": "stream",
     "text": [
      "\n",
      "0: 1120x1984 22 players, 96.8ms\n",
      "Speed: 14.2ms preprocess, 96.8ms inference, 1.6ms postprocess per image at shape (1, 3, 1120, 1984)\n"
     ]
    },
    {
     "name": "stdout",
     "output_type": "stream",
     "text": [
      "Tracks shape: (22, 8)\n",
      "105\n"
     ]
    },
    {
     "name": "stderr",
     "output_type": "stream",
     "text": [
      "\n",
      "0: 1120x1984 22 players, 96.9ms\n",
      "Speed: 14.2ms preprocess, 96.9ms inference, 1.5ms postprocess per image at shape (1, 3, 1120, 1984)\n"
     ]
    },
    {
     "name": "stdout",
     "output_type": "stream",
     "text": [
      "Tracks shape: (22, 8)\n",
      "106\n"
     ]
    },
    {
     "name": "stderr",
     "output_type": "stream",
     "text": [
      "\n",
      "0: 1120x1984 22 players, 96.9ms\n",
      "Speed: 13.9ms preprocess, 96.9ms inference, 1.4ms postprocess per image at shape (1, 3, 1120, 1984)\n"
     ]
    },
    {
     "name": "stdout",
     "output_type": "stream",
     "text": [
      "Tracks shape: (22, 8)\n",
      "107\n"
     ]
    },
    {
     "name": "stderr",
     "output_type": "stream",
     "text": [
      "\n",
      "0: 1120x1984 22 players, 96.9ms\n",
      "Speed: 14.1ms preprocess, 96.9ms inference, 1.5ms postprocess per image at shape (1, 3, 1120, 1984)\n"
     ]
    },
    {
     "name": "stdout",
     "output_type": "stream",
     "text": [
      "Tracks shape: (22, 8)\n",
      "108\n"
     ]
    },
    {
     "name": "stderr",
     "output_type": "stream",
     "text": [
      "\n",
      "0: 1120x1984 22 players, 97.0ms\n",
      "Speed: 14.3ms preprocess, 97.0ms inference, 1.5ms postprocess per image at shape (1, 3, 1120, 1984)\n"
     ]
    },
    {
     "name": "stdout",
     "output_type": "stream",
     "text": [
      "Tracks shape: (22, 8)\n",
      "109\n"
     ]
    },
    {
     "name": "stderr",
     "output_type": "stream",
     "text": [
      "\n",
      "0: 1120x1984 22 players, 96.9ms\n",
      "Speed: 14.2ms preprocess, 96.9ms inference, 1.4ms postprocess per image at shape (1, 3, 1120, 1984)\n"
     ]
    },
    {
     "name": "stdout",
     "output_type": "stream",
     "text": [
      "Tracks shape: (22, 8)\n",
      "110\n"
     ]
    },
    {
     "name": "stderr",
     "output_type": "stream",
     "text": [
      "\n",
      "0: 1120x1984 22 players, 96.9ms\n",
      "Speed: 13.9ms preprocess, 96.9ms inference, 1.5ms postprocess per image at shape (1, 3, 1120, 1984)\n"
     ]
    },
    {
     "name": "stdout",
     "output_type": "stream",
     "text": [
      "Tracks shape: (22, 8)\n",
      "111\n"
     ]
    },
    {
     "name": "stderr",
     "output_type": "stream",
     "text": [
      "\n",
      "0: 1120x1984 22 players, 96.8ms\n",
      "Speed: 14.1ms preprocess, 96.8ms inference, 1.5ms postprocess per image at shape (1, 3, 1120, 1984)\n"
     ]
    },
    {
     "name": "stdout",
     "output_type": "stream",
     "text": [
      "Tracks shape: (22, 8)\n",
      "112\n"
     ]
    },
    {
     "name": "stderr",
     "output_type": "stream",
     "text": [
      "\n",
      "0: 1120x1984 22 players, 96.9ms\n",
      "Speed: 14.2ms preprocess, 96.9ms inference, 1.5ms postprocess per image at shape (1, 3, 1120, 1984)\n"
     ]
    },
    {
     "name": "stdout",
     "output_type": "stream",
     "text": [
      "Tracks shape: (22, 8)\n",
      "113\n"
     ]
    },
    {
     "name": "stderr",
     "output_type": "stream",
     "text": [
      "\n",
      "0: 1120x1984 22 players, 96.9ms\n",
      "Speed: 14.2ms preprocess, 96.9ms inference, 1.5ms postprocess per image at shape (1, 3, 1120, 1984)\n"
     ]
    },
    {
     "name": "stdout",
     "output_type": "stream",
     "text": [
      "Tracks shape: (22, 8)\n",
      "114\n"
     ]
    },
    {
     "name": "stderr",
     "output_type": "stream",
     "text": [
      "\n",
      "0: 1120x1984 1 ball, 22 players, 96.8ms\n",
      "Speed: 14.2ms preprocess, 96.8ms inference, 1.5ms postprocess per image at shape (1, 3, 1120, 1984)\n"
     ]
    },
    {
     "name": "stdout",
     "output_type": "stream",
     "text": [
      "Tracks shape: (22, 8)\n",
      "115\n"
     ]
    },
    {
     "name": "stderr",
     "output_type": "stream",
     "text": [
      "\n",
      "0: 1120x1984 22 players, 97.0ms\n",
      "Speed: 14.2ms preprocess, 97.0ms inference, 1.4ms postprocess per image at shape (1, 3, 1120, 1984)\n"
     ]
    },
    {
     "name": "stdout",
     "output_type": "stream",
     "text": [
      "Tracks shape: (22, 8)\n",
      "116\n"
     ]
    },
    {
     "name": "stderr",
     "output_type": "stream",
     "text": [
      "\n",
      "0: 1120x1984 22 players, 96.9ms\n",
      "Speed: 14.2ms preprocess, 96.9ms inference, 1.5ms postprocess per image at shape (1, 3, 1120, 1984)\n"
     ]
    },
    {
     "name": "stdout",
     "output_type": "stream",
     "text": [
      "Tracks shape: (22, 8)\n",
      "117\n"
     ]
    },
    {
     "name": "stderr",
     "output_type": "stream",
     "text": [
      "\n",
      "0: 1120x1984 22 players, 97.0ms\n",
      "Speed: 14.3ms preprocess, 97.0ms inference, 1.5ms postprocess per image at shape (1, 3, 1120, 1984)\n"
     ]
    },
    {
     "name": "stdout",
     "output_type": "stream",
     "text": [
      "Tracks shape: (22, 8)\n",
      "118\n"
     ]
    },
    {
     "name": "stderr",
     "output_type": "stream",
     "text": [
      "\n",
      "0: 1120x1984 22 players, 96.6ms\n",
      "Speed: 14.2ms preprocess, 96.6ms inference, 1.5ms postprocess per image at shape (1, 3, 1120, 1984)\n"
     ]
    },
    {
     "name": "stdout",
     "output_type": "stream",
     "text": [
      "Tracks shape: (22, 8)\n",
      "119\n"
     ]
    },
    {
     "name": "stderr",
     "output_type": "stream",
     "text": [
      "\n",
      "0: 1120x1984 22 players, 96.8ms\n",
      "Speed: 14.2ms preprocess, 96.8ms inference, 1.5ms postprocess per image at shape (1, 3, 1120, 1984)\n"
     ]
    },
    {
     "name": "stdout",
     "output_type": "stream",
     "text": [
      "Tracks shape: (22, 8)\n",
      "120\n"
     ]
    },
    {
     "name": "stderr",
     "output_type": "stream",
     "text": [
      "\n",
      "0: 1120x1984 22 players, 96.7ms\n",
      "Speed: 14.3ms preprocess, 96.7ms inference, 1.5ms postprocess per image at shape (1, 3, 1120, 1984)\n"
     ]
    },
    {
     "name": "stdout",
     "output_type": "stream",
     "text": [
      "Tracks shape: (22, 8)\n",
      "121\n"
     ]
    },
    {
     "name": "stderr",
     "output_type": "stream",
     "text": [
      "\n",
      "0: 1120x1984 22 players, 96.7ms\n",
      "Speed: 14.2ms preprocess, 96.7ms inference, 1.5ms postprocess per image at shape (1, 3, 1120, 1984)\n"
     ]
    },
    {
     "name": "stdout",
     "output_type": "stream",
     "text": [
      "Tracks shape: (22, 8)\n",
      "122\n"
     ]
    },
    {
     "name": "stderr",
     "output_type": "stream",
     "text": [
      "\n",
      "0: 1120x1984 1 ball, 22 players, 96.8ms\n",
      "Speed: 14.2ms preprocess, 96.8ms inference, 1.5ms postprocess per image at shape (1, 3, 1120, 1984)\n"
     ]
    },
    {
     "name": "stdout",
     "output_type": "stream",
     "text": [
      "Tracks shape: (22, 8)\n",
      "123\n"
     ]
    },
    {
     "name": "stderr",
     "output_type": "stream",
     "text": [
      "\n",
      "0: 1120x1984 22 players, 96.9ms\n",
      "Speed: 14.2ms preprocess, 96.9ms inference, 1.4ms postprocess per image at shape (1, 3, 1120, 1984)\n"
     ]
    },
    {
     "name": "stdout",
     "output_type": "stream",
     "text": [
      "Tracks shape: (22, 8)\n",
      "124\n"
     ]
    },
    {
     "name": "stderr",
     "output_type": "stream",
     "text": [
      "\n",
      "0: 1120x1984 22 players, 96.9ms\n",
      "Speed: 14.3ms preprocess, 96.9ms inference, 1.4ms postprocess per image at shape (1, 3, 1120, 1984)\n"
     ]
    },
    {
     "name": "stdout",
     "output_type": "stream",
     "text": [
      "Tracks shape: (22, 8)\n",
      "125\n"
     ]
    },
    {
     "name": "stderr",
     "output_type": "stream",
     "text": [
      "\n",
      "0: 1120x1984 22 players, 96.9ms\n",
      "Speed: 14.2ms preprocess, 96.9ms inference, 1.4ms postprocess per image at shape (1, 3, 1120, 1984)\n"
     ]
    },
    {
     "name": "stdout",
     "output_type": "stream",
     "text": [
      "Tracks shape: (22, 8)\n",
      "126\n"
     ]
    },
    {
     "name": "stderr",
     "output_type": "stream",
     "text": [
      "\n",
      "0: 1120x1984 22 players, 96.8ms\n",
      "Speed: 14.2ms preprocess, 96.8ms inference, 1.4ms postprocess per image at shape (1, 3, 1120, 1984)\n"
     ]
    },
    {
     "name": "stdout",
     "output_type": "stream",
     "text": [
      "Tracks shape: (22, 8)\n",
      "127\n"
     ]
    },
    {
     "name": "stderr",
     "output_type": "stream",
     "text": [
      "\n",
      "0: 1120x1984 22 players, 96.9ms\n",
      "Speed: 14.1ms preprocess, 96.9ms inference, 1.5ms postprocess per image at shape (1, 3, 1120, 1984)\n"
     ]
    },
    {
     "name": "stdout",
     "output_type": "stream",
     "text": [
      "Tracks shape: (22, 8)\n",
      "128\n"
     ]
    },
    {
     "name": "stderr",
     "output_type": "stream",
     "text": [
      "\n",
      "0: 1120x1984 22 players, 96.6ms\n",
      "Speed: 14.1ms preprocess, 96.6ms inference, 1.4ms postprocess per image at shape (1, 3, 1120, 1984)\n"
     ]
    },
    {
     "name": "stdout",
     "output_type": "stream",
     "text": [
      "Tracks shape: (22, 8)\n",
      "129\n"
     ]
    },
    {
     "name": "stderr",
     "output_type": "stream",
     "text": [
      "\n",
      "0: 1120x1984 22 players, 96.6ms\n",
      "Speed: 13.9ms preprocess, 96.6ms inference, 1.5ms postprocess per image at shape (1, 3, 1120, 1984)\n"
     ]
    },
    {
     "name": "stdout",
     "output_type": "stream",
     "text": [
      "Tracks shape: (22, 8)\n",
      "130\n"
     ]
    },
    {
     "name": "stderr",
     "output_type": "stream",
     "text": [
      "\n"
     ]
    },
    {
     "name": "stdout",
     "output_type": "stream",
     "text": [
      "Tracks shape: (22, 8)\n",
      "131\n"
     ]
    },
    {
     "ename": "KeyboardInterrupt",
     "evalue": "",
     "output_type": "error",
     "traceback": [
      "\u001b[0;31m---------------------------------------------------------------------------\u001b[0m",
      "\u001b[0;31mKeyboardInterrupt\u001b[0m                         Traceback (most recent call last)",
      "Input \u001b[0;32mIn [337]\u001b[0m, in \u001b[0;36m<cell line: 12>\u001b[0;34m()\u001b[0m\n\u001b[1;32m     10\u001b[0m tracker \u001b[38;5;241m=\u001b[39m initialize_tracker(model_weights)\n\u001b[1;32m     11\u001b[0m yolov8 \u001b[38;5;241m=\u001b[39m initialize_yolo(yolo_model_path)\n\u001b[0;32m---> 12\u001b[0m \u001b[43mprocess_video\u001b[49m\u001b[43m(\u001b[49m\u001b[43minput_video_file\u001b[49m\u001b[43m,\u001b[49m\u001b[43m \u001b[49m\u001b[43moutput_video_file\u001b[49m\u001b[43m,\u001b[49m\u001b[43m \u001b[49m\u001b[43mtracker\u001b[49m\u001b[43m,\u001b[49m\u001b[43m \u001b[49m\u001b[43myolov8\u001b[49m\u001b[43m)\u001b[49m\n",
      "Input \u001b[0;32mIn [336]\u001b[0m, in \u001b[0;36mprocess_video\u001b[0;34m(input_file, output_file, tracker, yolov8, conf)\u001b[0m\n\u001b[1;32m     27\u001b[0m \u001b[38;5;28;01mif\u001b[39;00m \u001b[38;5;129;01mnot\u001b[39;00m ret:\n\u001b[1;32m     28\u001b[0m     \u001b[38;5;28;01mbreak\u001b[39;00m\n\u001b[0;32m---> 30\u001b[0m predicted \u001b[38;5;241m=\u001b[39m \u001b[43myolov8\u001b[49m\u001b[38;5;241;43m.\u001b[39;49m\u001b[43mpredict\u001b[49m\u001b[43m(\u001b[49m\u001b[43mim\u001b[49m\u001b[43m,\u001b[49m\u001b[43m \u001b[49m\u001b[43mconf\u001b[49m\u001b[38;5;241;43m=\u001b[39;49m\u001b[43mconf\u001b[49m\u001b[43m)\u001b[49m\n\u001b[1;32m     31\u001b[0m dets \u001b[38;5;241m=\u001b[39m predicted[\u001b[38;5;241m0\u001b[39m]\u001b[38;5;241m.\u001b[39mboxes\u001b[38;5;241m.\u001b[39mdata\u001b[38;5;241m.\u001b[39mcpu()\u001b[38;5;241m.\u001b[39mnumpy()\n\u001b[1;32m     32\u001b[0m tracks \u001b[38;5;241m=\u001b[39m tracker\u001b[38;5;241m.\u001b[39mupdate(dets, im)\n",
      "File \u001b[0;32m~/.local/lib/python3.9/site-packages/ultralytics/engine/model.py:236\u001b[0m, in \u001b[0;36mModel.predict\u001b[0;34m(self, source, stream, predictor, **kwargs)\u001b[0m\n\u001b[1;32m    234\u001b[0m \u001b[38;5;28;01mif\u001b[39;00m prompts \u001b[38;5;129;01mand\u001b[39;00m \u001b[38;5;28mhasattr\u001b[39m(\u001b[38;5;28mself\u001b[39m\u001b[38;5;241m.\u001b[39mpredictor, \u001b[38;5;124m'\u001b[39m\u001b[38;5;124mset_prompts\u001b[39m\u001b[38;5;124m'\u001b[39m):  \u001b[38;5;66;03m# for SAM-type models\u001b[39;00m\n\u001b[1;32m    235\u001b[0m     \u001b[38;5;28mself\u001b[39m\u001b[38;5;241m.\u001b[39mpredictor\u001b[38;5;241m.\u001b[39mset_prompts(prompts)\n\u001b[0;32m--> 236\u001b[0m \u001b[38;5;28;01mreturn\u001b[39;00m \u001b[38;5;28mself\u001b[39m\u001b[38;5;241m.\u001b[39mpredictor\u001b[38;5;241m.\u001b[39mpredict_cli(source\u001b[38;5;241m=\u001b[39msource) \u001b[38;5;28;01mif\u001b[39;00m is_cli \u001b[38;5;28;01melse\u001b[39;00m \u001b[38;5;28;43mself\u001b[39;49m\u001b[38;5;241;43m.\u001b[39;49m\u001b[43mpredictor\u001b[49m\u001b[43m(\u001b[49m\u001b[43msource\u001b[49m\u001b[38;5;241;43m=\u001b[39;49m\u001b[43msource\u001b[49m\u001b[43m,\u001b[49m\u001b[43m \u001b[49m\u001b[43mstream\u001b[49m\u001b[38;5;241;43m=\u001b[39;49m\u001b[43mstream\u001b[49m\u001b[43m)\u001b[49m\n",
      "File \u001b[0;32m~/.local/lib/python3.9/site-packages/ultralytics/engine/predictor.py:194\u001b[0m, in \u001b[0;36mBasePredictor.__call__\u001b[0;34m(self, source, model, stream, *args, **kwargs)\u001b[0m\n\u001b[1;32m    192\u001b[0m     \u001b[38;5;28;01mreturn\u001b[39;00m \u001b[38;5;28mself\u001b[39m\u001b[38;5;241m.\u001b[39mstream_inference(source, model, \u001b[38;5;241m*\u001b[39margs, \u001b[38;5;241m*\u001b[39m\u001b[38;5;241m*\u001b[39mkwargs)\n\u001b[1;32m    193\u001b[0m \u001b[38;5;28;01melse\u001b[39;00m:\n\u001b[0;32m--> 194\u001b[0m     \u001b[38;5;28;01mreturn\u001b[39;00m \u001b[38;5;28;43mlist\u001b[39;49m\u001b[43m(\u001b[49m\u001b[38;5;28;43mself\u001b[39;49m\u001b[38;5;241;43m.\u001b[39;49m\u001b[43mstream_inference\u001b[49m\u001b[43m(\u001b[49m\u001b[43msource\u001b[49m\u001b[43m,\u001b[49m\u001b[43m \u001b[49m\u001b[43mmodel\u001b[49m\u001b[43m,\u001b[49m\u001b[43m \u001b[49m\u001b[38;5;241;43m*\u001b[39;49m\u001b[43margs\u001b[49m\u001b[43m,\u001b[49m\u001b[43m \u001b[49m\u001b[38;5;241;43m*\u001b[39;49m\u001b[38;5;241;43m*\u001b[39;49m\u001b[43mkwargs\u001b[49m\u001b[43m)\u001b[49m\u001b[43m)\u001b[49m\n",
      "File \u001b[0;32m~/.local/lib/python3.9/site-packages/torch/utils/_contextlib.py:35\u001b[0m, in \u001b[0;36m_wrap_generator.<locals>.generator_context\u001b[0;34m(*args, **kwargs)\u001b[0m\n\u001b[1;32m     32\u001b[0m \u001b[38;5;28;01mtry\u001b[39;00m:\n\u001b[1;32m     33\u001b[0m     \u001b[38;5;66;03m# Issuing `None` to a generator fires it up\u001b[39;00m\n\u001b[1;32m     34\u001b[0m     \u001b[38;5;28;01mwith\u001b[39;00m ctx_factory():\n\u001b[0;32m---> 35\u001b[0m         response \u001b[38;5;241m=\u001b[39m \u001b[43mgen\u001b[49m\u001b[38;5;241;43m.\u001b[39;49m\u001b[43msend\u001b[49m\u001b[43m(\u001b[49m\u001b[38;5;28;43;01mNone\u001b[39;49;00m\u001b[43m)\u001b[49m\n\u001b[1;32m     37\u001b[0m     \u001b[38;5;28;01mwhile\u001b[39;00m \u001b[38;5;28;01mTrue\u001b[39;00m:\n\u001b[1;32m     38\u001b[0m         \u001b[38;5;28;01mtry\u001b[39;00m:\n\u001b[1;32m     39\u001b[0m             \u001b[38;5;66;03m# Forward the response to our caller and get its next request\u001b[39;00m\n",
      "File \u001b[0;32m~/.local/lib/python3.9/site-packages/ultralytics/engine/predictor.py:253\u001b[0m, in \u001b[0;36mBasePredictor.stream_inference\u001b[0;34m(self, source, model, *args, **kwargs)\u001b[0m\n\u001b[1;32m    251\u001b[0m \u001b[38;5;66;03m# Inference\u001b[39;00m\n\u001b[1;32m    252\u001b[0m \u001b[38;5;28;01mwith\u001b[39;00m profilers[\u001b[38;5;241m1\u001b[39m]:\n\u001b[0;32m--> 253\u001b[0m     preds \u001b[38;5;241m=\u001b[39m \u001b[38;5;28mself\u001b[39m\u001b[38;5;241m.\u001b[39minference(im, \u001b[38;5;241m*\u001b[39margs, \u001b[38;5;241m*\u001b[39m\u001b[38;5;241m*\u001b[39mkwargs)\n\u001b[1;32m    255\u001b[0m \u001b[38;5;66;03m# Postprocess\u001b[39;00m\n\u001b[1;32m    256\u001b[0m \u001b[38;5;28;01mwith\u001b[39;00m profilers[\u001b[38;5;241m2\u001b[39m]:\n",
      "File \u001b[0;32m~/.local/lib/python3.9/site-packages/ultralytics/utils/ops.py:49\u001b[0m, in \u001b[0;36mProfile.__exit__\u001b[0;34m(self, type, value, traceback)\u001b[0m\n\u001b[1;32m     47\u001b[0m \u001b[38;5;28;01mdef\u001b[39;00m \u001b[38;5;21m__exit__\u001b[39m(\u001b[38;5;28mself\u001b[39m, \u001b[38;5;28mtype\u001b[39m, value, traceback):  \u001b[38;5;66;03m# noqa\u001b[39;00m\n\u001b[1;32m     48\u001b[0m \u001b[38;5;250m    \u001b[39m\u001b[38;5;124;03m\"\"\"Stop timing.\"\"\"\u001b[39;00m\n\u001b[0;32m---> 49\u001b[0m     \u001b[38;5;28mself\u001b[39m\u001b[38;5;241m.\u001b[39mdt \u001b[38;5;241m=\u001b[39m \u001b[38;5;28;43mself\u001b[39;49m\u001b[38;5;241;43m.\u001b[39;49m\u001b[43mtime\u001b[49m\u001b[43m(\u001b[49m\u001b[43m)\u001b[49m \u001b[38;5;241m-\u001b[39m \u001b[38;5;28mself\u001b[39m\u001b[38;5;241m.\u001b[39mstart  \u001b[38;5;66;03m# delta-time\u001b[39;00m\n\u001b[1;32m     50\u001b[0m     \u001b[38;5;28mself\u001b[39m\u001b[38;5;241m.\u001b[39mt \u001b[38;5;241m+\u001b[39m\u001b[38;5;241m=\u001b[39m \u001b[38;5;28mself\u001b[39m\u001b[38;5;241m.\u001b[39mdt\n",
      "File \u001b[0;32m~/.local/lib/python3.9/site-packages/ultralytics/utils/ops.py:58\u001b[0m, in \u001b[0;36mProfile.time\u001b[0;34m(self)\u001b[0m\n\u001b[1;32m     56\u001b[0m \u001b[38;5;250m\u001b[39m\u001b[38;5;124;03m\"\"\"Get current time.\"\"\"\u001b[39;00m\n\u001b[1;32m     57\u001b[0m \u001b[38;5;28;01mif\u001b[39;00m \u001b[38;5;28mself\u001b[39m\u001b[38;5;241m.\u001b[39mcuda:\n\u001b[0;32m---> 58\u001b[0m     \u001b[43mtorch\u001b[49m\u001b[38;5;241;43m.\u001b[39;49m\u001b[43mcuda\u001b[49m\u001b[38;5;241;43m.\u001b[39;49m\u001b[43msynchronize\u001b[49m\u001b[43m(\u001b[49m\u001b[43m)\u001b[49m\n\u001b[1;32m     59\u001b[0m \u001b[38;5;28;01mreturn\u001b[39;00m time\u001b[38;5;241m.\u001b[39mtime()\n",
      "File \u001b[0;32m~/.local/lib/python3.9/site-packages/torch/cuda/__init__.py:688\u001b[0m, in \u001b[0;36msynchronize\u001b[0;34m(device)\u001b[0m\n\u001b[1;32m    686\u001b[0m _lazy_init()\n\u001b[1;32m    687\u001b[0m \u001b[38;5;28;01mwith\u001b[39;00m torch\u001b[38;5;241m.\u001b[39mcuda\u001b[38;5;241m.\u001b[39mdevice(device):\n\u001b[0;32m--> 688\u001b[0m     \u001b[38;5;28;01mreturn\u001b[39;00m \u001b[43mtorch\u001b[49m\u001b[38;5;241;43m.\u001b[39;49m\u001b[43m_C\u001b[49m\u001b[38;5;241;43m.\u001b[39;49m\u001b[43m_cuda_synchronize\u001b[49m\u001b[43m(\u001b[49m\u001b[43m)\u001b[49m\n",
      "\u001b[0;31mKeyboardInterrupt\u001b[0m: "
     ]
    },
    {
     "data": {
      "image/png": "[encoded data removed]",
      "text/plain": [
       "<Figure size 432x144 with 2 Axes>"
      ]
     },
     "metadata": {
      "needs_background": "light"
     },
     "output_type": "display_data"
    }
   ],
   "source": [
    "from pathlib import Path\n",
    "import warnings\n",
    "warnings.filterwarnings(\"ignore\")\n",
    "model_weights = Path('osnet_x0_25_msmt17.pt')\n",
    "yolo_model_path = 'runs/detect/NewDataset5008/weights/best.pt'\n",
    "input_video_file = \"videos/first_30_seconds.mp4\"\n",
    "print(input_video_file.split(\".\")[0] + \"_tracking1_output.mp4\")\n",
    "output_video_file = input_video_file.split(\".\")[0] + \"_tracking1_output.mp4\"\n",
    "\n",
    "tracker = initialize_tracker(model_weights)\n",
    "yolov8 = initialize_yolo(yolo_model_path)\n",
    "process_video(input_video_file, output_video_file, tracker, yolov8)"
   ]
  },
  {
   "cell_type": "code",
   "execution_count": null,
   "id": "283f41ef",
   "metadata": {},
   "outputs": [],
   "source": []
  },
  {
   "cell_type": "code",
   "execution_count": null,
   "id": "60440c77",
   "metadata": {},
   "outputs": [],
   "source": []
  },
  {
   "cell_type": "code",
   "execution_count": null,
   "id": "e8f311d7",
   "metadata": {},
   "outputs": [],
   "source": []
  },
  {
   "cell_type": "code",
   "execution_count": null,
   "id": "6b360b16",
   "metadata": {},
   "outputs": [],
   "source": []
  }
 ],
 "metadata": {
  "kernelspec": {
   "display_name": "Python 3 (ipykernel)",
   "language": "python",
   "name": "python3"
  },
  "language_info": {
   "codemirror_mode": {
    "name": "ipython",
    "version": 3
   },
   "file_extension": ".py",
   "mimetype": "text/x-python",
   "name": "python",
   "nbconvert_exporter": "python",
   "pygments_lexer": "ipython3",
   "version": "3.9.12"
  }
 },
 "nbformat": 4,
 "nbformat_minor": 5
}
