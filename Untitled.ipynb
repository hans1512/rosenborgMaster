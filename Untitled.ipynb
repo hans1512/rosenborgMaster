{
 "cells": [
  {
   "cell_type": "code",
   "execution_count": 1,
   "id": "91f92362",
   "metadata": {},
   "outputs": [],
   "source": [
    "import cv2\n",
    "import numpy as np\n",
    "from pathlib import Path\n",
    "from boxmot import DeepOCSORT\n",
    "from ultralytics import YOLO\n",
    "from pathlib import Path"
   ]
  },
  {
   "cell_type": "code",
   "execution_count": 2,
   "id": "46e66fbb",
   "metadata": {},
   "outputs": [],
   "source": [
    "def initialize_tracker(model_weights, device='cuda:0', fp16=True):\n",
    "    \"\"\"\n",
    "    Initialize the DeepOCSORT tracker with the given model weights and device.\n",
    "    \"\"\"\n",
    "    tracker = DeepOCSORT(\n",
    "        model_weights=model_weights,\n",
    "        device=device,\n",
    "        fp16=fp16\n",
    "    )\n",
    "    return tracker\n",
    "\n",
    "def initialize_yolo(model_path):\n",
    "    \"\"\"\n",
    "    Initialize the YOLO object detector with the given model path.\n",
    "    \"\"\"\n",
    "    yolov8 = YOLO(model_path)\n",
    "    return yolov8"
   ]
  },
  {
   "cell_type": "code",
   "execution_count": 3,
   "id": "85b789fa",
   "metadata": {},
   "outputs": [],
   "source": [
    "class Rect:\n",
    "    def __init__(self, x1, y1, x2, y2):\n",
    "        self.x1 = x1\n",
    "        self.y1 = y1\n",
    "        self.x2 = x2\n",
    "        self.y2 = y2\n",
    "    \n",
    "    @property\n",
    "    def bottom_center(self):\n",
    "        return ((self.x1 + self.x2) // 2, self.y2)\n",
    "    \n",
    "    @property\n",
    "    def width(self):\n",
    "        return self.x2 - self.x1\n",
    "\n",
    "class Color:\n",
    "    def __init__(self, b, g, r):\n",
    "        self.b = b\n",
    "        self.g = g\n",
    "        self.r = r\n",
    "\n",
    "    @property\n",
    "    def bgr_tuple(self):\n",
    "        return (self.b, self.g, self.r)\n",
    "\n",
    "def draw_ellipse(image, rect, color, thickness=2):\n",
    "    center = rect.bottom_center\n",
    "    axes = (int(rect.width), int(0.35 * rect.width))\n",
    "    cv2.ellipse(\n",
    "        image,\n",
    "        center,\n",
    "        axes,\n",
    "        angle=0.0,\n",
    "        startAngle=-45,\n",
    "        endAngle=235,\n",
    "        color=color.bgr_tuple,\n",
    "        thickness=thickness,\n",
    "        lineType=cv2.LINE_4\n",
    "    )\n",
    "    return image\n",
    "\n",
    "def lab_to_rgb(lab_color):\n",
    "    \"\"\"\n",
    "    Converts a single LAB color to RGB.\n",
    "    \"\"\"\n",
    "    lab_image = np.array([[lab_color]], dtype=np.uint8)\n",
    "    rgb_image = cv2.cvtColor(lab_image, cv2.COLOR_Lab2RGB)\n",
    "    return rgb_image[0][0]\n",
    "\n",
    "def create_new_file(file_name):\n",
    "    \"\"\"\n",
    "    Check if a file already exists, if it does append a number to the file\n",
    "    The number increases if a file_\"number\" exists\n",
    "    \"\"\"\n",
    "    if Path(file_name).is_file():\n",
    "        file = file_name.split(\".\")[0]\n",
    "        extension = file_name.split(\".\")[1]\n",
    "        last_char = file[len(file) - 1]\n",
    "        if last_char.isnumeric():\n",
    "            last_char = str(int(last_char) + 1)\n",
    "            new_file =  file[:-1] + last_char + \".\" + extension\n",
    "        else:\n",
    "            last_char = \"_1\"\n",
    "            new_file =  file + last_char + \".\" + extension\n",
    "        \n",
    "        return create_new_file(new_file)\n",
    "    else:\n",
    "        return file_name"
   ]
  },
  {
   "cell_type": "code",
   "execution_count": 4,
   "id": "b2346285",
   "metadata": {},
   "outputs": [],
   "source": [
    "from sklearn.cluster import KMeans\n",
    "import matplotlib.pyplot as plt\n",
    "import sys\n",
    "import sklearn\n",
    "from collections import Counter\n",
    "\n",
    "\n",
    "def adjust_bbox(image, bbox, height_fraction=(0.17, 0.5), width_fraction=(0.2, 0.2)):\n",
    "    x1, y1, x2, y2 = bbox\n",
    "    \n",
    "    # Adjusting the bounding box to focus on the upper part\n",
    "    height = y2 - y1\n",
    "    width = x2 - x1\n",
    "    \n",
    "    new_y1 = y1 + int(height_fraction[0] * height)\n",
    "    new_y2 = y1 + int(height_fraction[1] * height)\n",
    "    \n",
    "    new_x1 = x1 + int(width_fraction[0] * width)\n",
    "    new_x2 = x2 - int(width_fraction[1] * width)\n",
    "\n",
    "    adjusted_bbox = (new_x1, new_y1, new_x2, new_y2)\n",
    "    roi = image[adjusted_bbox[1]:adjusted_bbox[3], adjusted_bbox[0]:adjusted_bbox[2]]\n",
    "\n",
    "    return roi\n",
    "\n",
    "def filter_out_color_LAB(roi_lab, lower_treshold, upper_treshold):\n",
    "    # Getting the A channel and applying threshold\n",
    "    a_channel = roi_lab[:,:,1]\n",
    "    #127, 255\n",
    "    _, mask = cv2.threshold(a_channel, lower_treshold, upper_treshold, cv2.THRESH_BINARY + cv2.THRESH_OTSU)\n",
    "    \n",
    "    # Using the mask to exclude green pixels in LAB\n",
    "    roi_lab_filtered = roi_lab.copy()\n",
    "    roi_lab_filtered[mask != 255] = 0\n",
    "    return roi_lab_filtered\n",
    "\n",
    "def get_color_histogram(image, bbox):\n",
    "    \"\"\"\n",
    "    Get the color histogram within a specific portion of the bounding box in the HSV color space.\n",
    "    \"\"\"\n",
    "    roi = adjust_bbox(image, bbox)\n",
    "    # Converting to LAB color space\n",
    "    roi_lab = cv2.cvtColor(roi, cv2.COLOR_BGR2Lab)\n",
    "    roi_lab_filtered = filter_out_color_LAB(roi_lab, 127, 255)\n",
    "    \n",
    "    non_black_pixels = roi_lab_filtered[roi_lab_filtered.any(axis=-1)]\n",
    "    color_counter = Counter(map(tuple, non_black_pixels))\n",
    "    most_common_color = color_counter.most_common(1)[0][0]\n",
    "        \n",
    "    non_zero_subarrays = roi_lab_filtered[roi_lab_filtered.any(axis=-1)]\n",
    "    \n",
    "    hist = cv2.calcHist([roi_lab], [0, 1], None, [8, 8], [0, 180, 0, 256])\n",
    "    \n",
    "    \n",
    "    cv2.normalize(hist, hist)\n",
    "    \"\"\"\n",
    "    # Displaying the images\n",
    "    plt.figure(figsize=(12, 4))\n",
    "\n",
    "    plt.subplot(1, 3, 1)\n",
    "    plt.imshow(cv2.cvtColor(roi_lab, cv2.COLOR_Lab2RGB))\n",
    "    plt.title(\"Filtered LAB\")\n",
    "    \n",
    "    plt.subplot(1, 3, 2)\n",
    "    plt.imshow(cv2.cvtColor(roi_lab_filtered, cv2.COLOR_Lab2RGB))\n",
    "    plt.title(\"Filtered LAB\")\n",
    "    \n",
    "    plt.subplot(1, 3, 3)\n",
    "    plt.imshow([[most_common_color]])\n",
    "    plt.title(\"Most Common Color\")\n",
    "    plt.axis('off')\n",
    "    \n",
    "    plt.show()\n",
    "    \"\"\"\n",
    "    return hist.flatten()\n",
    "\n",
    "def get_mean_color(image, bbox):\n",
    "    \"\"\"\n",
    "    Get the mean color within a specific portion of the bounding box in both RGB and LAB color spaces,\n",
    "    excluding green pixels.\n",
    "    \"\"\"\n",
    "    roi = adjust_bbox(image, bbox)\n",
    "\n",
    "    # Converting to LAB color space\n",
    "    roi_lab = cv2.cvtColor(roi, cv2.COLOR_BGR2Lab)\n",
    "    roi_lab_filtered = filter_out_color_LAB(roi_lab, 127, 255)\n",
    "        \n",
    "    non_zero_subarrays = roi_lab_filtered[roi_lab_filtered.any(axis=-1)]\n",
    "\n",
    "    # Calculate the mean of each channel\n",
    "    if non_zero_subarrays.size > 0:\n",
    "        mean_color_lab = non_zero_subarrays.mean(axis=0)\n",
    "        \n",
    "        \n",
    "    color_counter = Counter(map(tuple, non_zero_subarrays))\n",
    "    most_common_color_lab = np.array(color_counter.most_common(1)[0][0], dtype=np.uint8)\n",
    "\n",
    "    most_common_color_bgr = cv2.cvtColor(np.array([[most_common_color_lab]], dtype=np.uint8), cv2.COLOR_Lab2BGR)[0][0]\n",
    "    mean_color_bgr = cv2.cvtColor(np.array([[mean_color_lab]], dtype=np.uint8), cv2.COLOR_Lab2BGR)[0][0]\n",
    "    \n",
    "    \"\"\"\n",
    "    # Displaying the images\n",
    "    plt.figure(figsize=(12, 4))\n",
    "    \n",
    "    plt.subplot(1, 3, 1)\n",
    "    plt.imshow(cv2.cvtColor(roi_lab, cv2.COLOR_Lab2RGB))\n",
    "    plt.title(\"Original LAB\")\n",
    "\n",
    "    plt.subplot(1, 3, 2)\n",
    "    plt.imshow(cv2.cvtColor(roi_lab_filtered, cv2.COLOR_Lab2RGB))\n",
    "    plt.title(\"Filtered LAB\")\n",
    "    \n",
    "    plt.subplot(1, 3, 3)\n",
    "    plt.imshow([[cv2.cvtColor(np.array([[mean_color_lab]], dtype=np.uint8), cv2.COLOR_Lab2RGB)[0][0]]])\n",
    "    plt.title(\"Most Common Color\")\n",
    "    plt.axis('off')\n",
    "    \n",
    "    plt.show()\n",
    "    \"\"\"\n",
    "    return most_common_color_lab, mean_color_lab\n",
    "\n",
    "def perform_kmeans_clustering(colors, color_multiplier=4, initial_centroids=None, max_iter=10, n_clusters=2):\n",
    "    \"\"\"\n",
    "    Perform k-means clustering on the given color data.\n",
    "    \"\"\"\n",
    "    colors = np.array(colors)\n",
    "    \n",
    "    colors[:,1:3] *= 4\n",
    "    if initial_centroids is not None:\n",
    "        kmeans = KMeans(n_clusters=2, init=initial_centroids, random_state=0, n_init=1, max_iter=max_iter).fit(colors)\n",
    "    else:\n",
    "        kmeans = KMeans(n_clusters=2, random_state=0).fit(colors)\n",
    "        initial_centroids = kmeans.cluster_centers_\n",
    "        \n",
    "    # Reassign labels based on the order of centroids\n",
    "    sorted_idx = np.argsort(initial_centroids[:, 0])  # Assuming the 0th feature is a color channel like Red\n",
    "    mapping = np.zeros(n_clusters, dtype=int)\n",
    "    for i, idx in enumerate(sorted_idx):\n",
    "        mapping[idx] = i\n",
    "\n",
    "    consistent_labels = mapping[kmeans.labels_]\n",
    "    \n",
    "    return consistent_labels, initial_centroids"
   ]
  },
  {
   "cell_type": "code",
   "execution_count": 98,
   "id": "e65144ed",
   "metadata": {},
   "outputs": [],
   "source": [
    "from scipy.spatial import distance\n",
    "from scipy import stats\n",
    "    \n",
    "import numpy as np\n",
    "import matplotlib.pyplot as plt\n",
    "from mpl_toolkits.mplot3d.art3d import Poly3DCollection\n",
    "\n",
    "\n",
    "\n",
    "def plot_filtered_boxes(frame, boxes):\n",
    "    plt.figure(figsize=(12, len(boxes) * 4))\n",
    "    \n",
    "    for i, box in enumerate(boxes):\n",
    "        # Apply the ROI adjustment and color filtering\n",
    "        roi = adjust_bbox(frame, box)\n",
    "        roi_lab = cv2.cvtColor(roi, cv2.COLOR_BGR2Lab)\n",
    "        roi_lab_filtered = filter_out_color_LAB(roi_lab, 127, 255)\n",
    "        non_zero_colors = roi_lab_filtered[roi_lab_filtered.any(axis=-1)]\n",
    "\n",
    "        plt.subplot(len(boxes), 2, i * 2 + 1)\n",
    "        plt.imshow(cv2.cvtColor(roi, cv2.COLOR_BGR2RGB))\n",
    "        plt.title(f\"Original Box {i+1}\")\n",
    "\n",
    "        plt.subplot(len(boxes), 2, i * 2 + 2)\n",
    "        plt.imshow(cv2.cvtColor(roi_lab_filtered, cv2.COLOR_Lab2RGB))\n",
    "        plt.title(f\"Filtered Box {i+1}\")\n",
    "        \n",
    "    plt.show()\n",
    "\n",
    "def compute_common_color_cluster_and_range(frame, boxes, num_clusters=2, delta=10):\n",
    "    colors = []\n",
    "    for box in boxes:\n",
    "        roi = adjust_bbox(frame, box)\n",
    "        roi_lab = cv2.cvtColor(roi, cv2.COLOR_BGR2Lab)\n",
    "        roi_lab_filtered = filter_out_color_LAB(roi_lab, 127, 255)\n",
    "        non_zero_colors = roi_lab_filtered[roi_lab_filtered.any(axis=-1)]\n",
    "        colors.extend(non_zero_colors)\n",
    "\n",
    "    if len(colors) == 0:\n",
    "        print(\"All colors are filtered out.\")\n",
    "        return None, None\n",
    "\n",
    "    # Applying K-means clustering to group colors\n",
    "    kmeans = KMeans(n_clusters=num_clusters, random_state=0).fit(colors)\n",
    "    cluster_centers = kmeans.cluster_centers_.astype(int)\n",
    "\n",
    "    # Getting the most common cluster center (centroid)\n",
    "    labels, counts = np.unique(kmeans.labels_, return_counts=True)\n",
    "    most_common_cluster = cluster_centers[labels[np.argmax(counts)]]\n",
    "\n",
    "    # Compute the color range\n",
    "    lower_bound = np.clip(most_common_cluster - delta, 0, 255)\n",
    "    upper_bound = np.clip(most_common_cluster + delta, 0, 255)\n",
    "\n",
    "    # Plotting the most common color cluster center\n",
    "    plt.figure(figsize=(6, 2))\n",
    "    plt.subplot(1, 2, 1)\n",
    "    plt.imshow(cv2.cvtColor(most_common_cluster[np.newaxis, np.newaxis, :].astype(np.uint8), cv2.COLOR_Lab2RGB))\n",
    "    plt.title(\"Most Common Cluster Center\")\n",
    "    plt.axis('off')\n",
    "\n",
    "    # Plotting colors within the range\n",
    "    plt.subplot(1, 2, 2)\n",
    "    for i in range(5):\n",
    "        sample_color = np.random.randint(lower_bound, upper_bound+1)\n",
    "        plt.imshow(cv2.cvtColor(sample_color[np.newaxis, np.newaxis, :].astype(np.uint8), cv2.COLOR_Lab2RGB))\n",
    "        plt.title(\"Colors Within Range\")\n",
    "        plt.axis('off')\n",
    "\n",
    "    plt.show()\n",
    "\n",
    "    return lower_bound, upper_bound    \n",
    "    \n",
    "def compute_common_color_and_range(frame, boxes, delta=10):\n",
    "    colors = []\n",
    "    for box in boxes:\n",
    "        roi = adjust_bbox(frame, box)\n",
    "        roi_lab = cv2.cvtColor(roi, cv2.COLOR_BGR2Lab)\n",
    "        roi_lab_filtered = filter_out_color_LAB(roi_lab, 127, 255)\n",
    "        non_zero_colors = roi_lab_filtered[roi_lab_filtered.any(axis=-1)]\n",
    "        colors.extend(non_zero_colors)\n",
    "\n",
    "    if len(colors) == 0:\n",
    "        print(\"All colors are filtered out.\")\n",
    "        return None, None\n",
    "\n",
    "    color_counter = Counter(map(tuple, colors))\n",
    "    most_common_color = np.array(color_counter.most_common(1)[0][0], dtype=np.uint8)\n",
    "\n",
    "    # Compute the color range\n",
    "    lower_bound = most_common_color - delta\n",
    "    upper_bound = most_common_color + delta\n",
    "    \n",
    "    # Ensure the bounds are valid\n",
    "    if np.any(upper_bound < lower_bound):\n",
    "        print(\"Invalid color range corrected.\")\n",
    "        lower_bound = most_common_color\n",
    "        upper_bound = most_common_color\n",
    "    \n",
    "    lower_bound = np.clip(lower_bound, 0, 255)\n",
    "    upper_bound = np.clip(upper_bound, 0, 255)\n",
    "\n",
    "    # Plotting the most common color\n",
    "    plt.figure(figsize=(6, 2))\n",
    "    plt.subplot(1, 2, 1)\n",
    "    plt.imshow(cv2.cvtColor(most_common_color[np.newaxis, np.newaxis, :].astype(np.uint8), cv2.COLOR_Lab2RGB))\n",
    "    plt.title(\"Most Common Color\")\n",
    "    plt.axis('off')\n",
    "    \n",
    "    plt.subplot(1, 2, 2)\n",
    "    for i in range(5):\n",
    "        sample_color = np.random.randint(lower_bound, upper_bound + 1, size=(1,1,3))\n",
    "        plt.imshow(cv2.cvtColor(sample_color.astype(np.uint8), cv2.COLOR_Lab2RGB))\n",
    "        plt.axis('off')\n",
    "\n",
    "    return lower_bound, upper_bound\n",
    "\n",
    "\n",
    "def nearest_points(centroids, data_points, n):\n",
    "    # Calculate the distances between each data point and each centroid\n",
    "    distances = distance.cdist(data_points, centroids, 'euclidean')\n",
    "    \n",
    "    # Get the n smallest distances' indices for each centroid\n",
    "    nearest_indices = np.argsort(distances, axis=0)[:n]\n",
    "    \n",
    "    # Creating a dictionary to hold the indices of the nearest points for each centroid\n",
    "    nearest_per_centroid = {i: nearest_indices[:, i].tolist() for i in range(centroids.shape[0])}\n",
    "\n",
    "    return nearest_per_centroid\n",
    "\n",
    "\n",
    "def compute_jersey_colors(first_frame, dets, bounding_boxes, classes, color_multiplier=4):\n",
    "    # get_mean_color returns a tuple, 0 is most common color, 1 is mean color\n",
    "    class_1_boxes = [bounding_box for bounding_box, cls in zip(bounding_boxes, classes) if cls == 1]\n",
    "    colors_bounding_boxes = [(get_mean_color(first_frame, bounding_box)[1], bounding_box) for bounding_box in class_1_boxes]\n",
    "    \n",
    "    mean_colors = []\n",
    "    for color_bbox in colors_bounding_boxes:\n",
    "        mean_colors.append(color_bbox[0])\n",
    "    \n",
    "    mean_colors = np.array(mean_colors)\n",
    "    label_clusters, centroids = perform_kmeans_clustering(mean_colors, color_multiplier=color_multiplier)\n",
    "    clustered_points = mean_colors.copy()\n",
    "    clustered_points[:,1:3] *= color_multiplier\n",
    "    \n",
    "    close_points = nearest_points(centroids, clustered_points, 4)\n",
    "    \n",
    "    centroid_1_boxes = [class_1_boxes[i] for i in close_points[0]]\n",
    "    centroid_2_boxes = [class_1_boxes[i] for i in close_points[1]]\n",
    "    \n",
    "    \n",
    "    #plot_filtered_boxes(first_frame, centroid_1_boxes)\n",
    "    #plot_filtered_boxes(first_frame, centroid_2_boxes)\n",
    "    print(\"first\")\n",
    "    home1 = compute_common_color_cluster_and_range(first_frame, centroid_1_boxes)\n",
    "    home = compute_common_color_and_range(first_frame, centroid_1_boxes)\n",
    "\n",
    "    print(\"second\")\n",
    "    away1 = compute_common_color_cluster_and_range(first_frame, centroid_2_boxes)\n",
    "    away = compute_common_color_and_range(first_frame, centroid_2_boxes)\n",
    "\n",
    "\n",
    "    print(\"Most Dominant Color (in LAB):\", away1)\n",
    "    return (home, away)\n",
    "    \n",
    "\n",
    "def plot_lab_region(lower_bound, upper_bound):\n",
    "    fig = plt.figure()\n",
    "    ax = fig.add_subplot(111, projection='3d')\n",
    "    \n",
    "    # Define the vertices of the region\n",
    "    # Each vertex is a combination of the lower and upper values for L, a, and b\n",
    "    vertices = [\n",
    "        [lower_bound[0], lower_bound[1], lower_bound[2]],\n",
    "        [upper_bound[0], lower_bound[1], lower_bound[2]],\n",
    "        [upper_bound[0], upper_bound[1], lower_bound[2]],\n",
    "        [lower_bound[0], upper_bound[1], lower_bound[2]],\n",
    "        [lower_bound[0], lower_bound[1], upper_bound[2]],\n",
    "        [upper_bound[0], lower_bound[1], upper_bound[2]],\n",
    "        [upper_bound[0], upper_bound[1], upper_bound[2]],\n",
    "        [lower_bound[0], upper_bound[1], upper_bound[2]]\n",
    "    ]\n",
    "    \n",
    "    vertices = np.array(vertices)\n",
    "    \n",
    "    # Define the vertices that compose each of the 6 faces of the region\n",
    "    faces = [\n",
    "        [vertices[0], vertices[1], vertices[2], vertices[3]],\n",
    "        [vertices[4], vertices[5], vertices[6], vertices[7]], \n",
    "        [vertices[0], vertices[1], vertices[5], vertices[4]], \n",
    "        [vertices[1], vertices[2], vertices[6], vertices[5]],\n",
    "        [vertices[2], vertices[3], vertices[7], vertices[6]],\n",
    "        [vertices[3], vertices[0], vertices[4], vertices[7]]\n",
    "    ]\n",
    "    \n",
    "    # Draw the faces\n",
    "    ax.add_collection3d(Poly3DCollection(faces, facecolors='cyan', linewidths=1, edgecolors='black', alpha=.25))\n",
    "    \n",
    "    ax.set_xlabel('L*')\n",
    "    ax.set_ylabel('a*')\n",
    "    ax.set_zlabel('b*')\n",
    "    ax.set_xlim([0, 255])\n",
    "    ax.set_ylim([-255, 255])\n",
    "    ax.set_zlim([-255, 255])\n",
    "    plt.show()\n",
    "\n",
    "        \n",
    "def get_team_belonging(image, bounding_box, home_color, away_color, should_plot=False):\n",
    "    #blur_kernel_size = (2,2)\n",
    "    #image = cv2.blur(image, blur_kernel_size)\n",
    "    roi = adjust_bbox(image, bounding_box)\n",
    "    \n",
    "    # Converting to LAB color space\n",
    "    roi_lab = cv2.cvtColor(roi, cv2.COLOR_BGR2LAB)\n",
    "    \n",
    "    roi_lab_away = roi_lab.copy()\n",
    "    roi_lab_referee = roi_lab.copy()\n",
    "    \n",
    "    lower_blue = np.array([100, 50, 50])\n",
    "    upper_blue = np.array([140, 255, 255])\n",
    "    \n",
    "    lower_white = np.array([0, 0, 200])\n",
    "    upper_white = np.array([180, 50, 255])\n",
    "    \n",
    "    \n",
    "    mask_home = cv2.inRange(roi_lab, home_color[0], home_color[1])\n",
    "    #mask_home = cv2.inRange(roi_lab, lower_blue, upper_blue)\n",
    "    result_home = cv2.bitwise_and(roi_lab, roi_lab, mask=mask_home)\n",
    "    count_home = cv2.countNonZero(mask_home)\n",
    "    \n",
    "    mask_away = cv2.inRange(roi_lab_away, away_color[0], away_color[1])\n",
    "    #mask_away = cv2.inRange(roi_lab_away, lower_white, upper_white)\n",
    "    result_away = cv2.bitwise_and(roi_lab_away, roi_lab_away, mask=mask_away)\n",
    "    count_away = cv2.countNonZero(mask_away)\n",
    "    \n",
    "    if should_plot:\n",
    "        plt.figure(figsize=(10, 5))\n",
    "        # Displaying the mask\n",
    "        plt.subplot(1, 5, 1)\n",
    "        plt.imshow(cv2.cvtColor(roi, cv2.COLOR_BGR2RGB))\n",
    "        plt.title(\"Result\")\n",
    "\n",
    "        plt.subplot(1, 5, 2)\n",
    "        plt.imshow(mask_home, cmap='gray')\n",
    "        plt.title(\"Mask Home\")\n",
    "\n",
    "        # Displaying the result\n",
    "        plt.subplot(1, 5, 3)\n",
    "        plt.imshow(cv2.cvtColor(result_home, cv2.COLOR_HSV2RGB))\n",
    "        plt.title(\"Result Home\")\n",
    "\n",
    "        plt.subplot(1, 5, 4)\n",
    "        plt.imshow(mask_away, cmap='gray')\n",
    "        plt.title(\"Mask Away\")\n",
    "\n",
    "        # Displaying the result\n",
    "        plt.subplot(1, 5, 5)\n",
    "        plt.imshow(cv2.cvtColor(result_away, cv2.COLOR_HSV2RGB))\n",
    "        plt.title(\"Result Away\")\n",
    "\n",
    "        plt.show()\n",
    "        \n",
    "        \n",
    "    team = -1\n",
    "    \n",
    "    if count_away > count_home:\n",
    "        team = 1\n",
    "        print(\"Away team\")\n",
    "    else:\n",
    "        print(\"Home team\")\n",
    "        team = 0\n",
    "        \n",
    "    return team"
   ]
  },
  {
   "cell_type": "code",
   "execution_count": 99,
   "id": "817e5a04",
   "metadata": {},
   "outputs": [],
   "source": [
    "\n",
    "def process_video(input_file, output_file, tracker, yolov8, do_kmeans, conf=0.3):\n",
    "    \"\"\"\n",
    "    Process the input video, perform object detection and tracking, and save the results to the output video.\n",
    "    \"\"\"\n",
    "    input_video = cv2.VideoCapture(input_file)\n",
    "    width = int(input_video.get(cv2.CAP_PROP_FRAME_WIDTH))\n",
    "    height = int(input_video.get(cv2.CAP_PROP_FRAME_HEIGHT))\n",
    "    fps = input_video.get(cv2.CAP_PROP_FPS)\n",
    "    fourcc = cv2.VideoWriter_fourcc(*'mp4v')\n",
    "    out = cv2.VideoWriter(output_file, fourcc, fps, (width, height))\n",
    "    \n",
    "    thickness = 2\n",
    "    fontscale = 0.5\n",
    "    \n",
    "    # Function to get unique colors for each class id\n",
    "    def get_color(cls_id):\n",
    "        np.random.seed(cls_id)\n",
    "        return tuple(np.random.randint(0, 255, 3).tolist())\n",
    "    \n",
    "   \n",
    "\n",
    "    initial_centroids = None\n",
    "    counter = 1\n",
    "    while True:\n",
    "        print(counter)\n",
    "        ret, image = input_video.read()\n",
    "        if not ret:\n",
    "            break\n",
    "        \n",
    "        predicted = yolov8.predict(image, conf=conf)\n",
    "        detections = predicted[0].boxes.data.cpu().numpy()\n",
    "        \n",
    "        dets = []\n",
    "        ball = np.array([])\n",
    "        highest_conf = 0\n",
    "        \n",
    "        \n",
    "        for bounding_boxes in detections:\n",
    "            if bounding_boxes[-1:] != 0:\n",
    "                dets.append(bounding_boxes)\n",
    "            if bounding_boxes[5] == 0:\n",
    "                if bounding_boxes[4] > highest_conf:\n",
    "                    highest_conf = bounding_boxes[4]\n",
    "                    ball = bounding_boxes\n",
    "                \n",
    "                \n",
    "        dets = np.array(dets)\n",
    "        \n",
    "        tracks = tracker.update(dets, image)\n",
    "        \n",
    "        # Set im = image so we can do transforms on the image for better color identification\n",
    "        # Without altering the original image so when writing the video it looks the same\n",
    "        #im = cv2.addWeighted(image, 0.75, image, 0.5, 0)\n",
    "        im = image\n",
    "        \n",
    "        if tracks.size > 0:  # Check if tracks is not empty\n",
    "            xyxys = tracks[:, 0:4].astype('int')\n",
    "            ids = tracks[:, 4].astype('int')\n",
    "            clss = tracks[:, 6].astype('int')\n",
    "        else:\n",
    "            print(\"Tracks is empty or not in expected format.\")\n",
    "\n",
    "        if(counter == 1):\n",
    "            home, away = compute_jersey_colors(im, dets, xyxys, clss)\n",
    "            \n",
    "           # plot_lab_region(home[0], home[1])\n",
    "            plot_lab_region(away[0], away[1])\n",
    "            \n",
    "            plt.figure(figsize=(10, 5))\n",
    "    \n",
    "            # Displaying the mask\n",
    "            plt.subplot(1, 4, 1)\n",
    "             # Plotting the most common color\n",
    "            plt.imshow(cv2.cvtColor(home[0][np.newaxis, np.newaxis, :].astype(np.uint8), cv2.COLOR_Lab2RGB))\n",
    "            plt.title(\"Home Lower\")\n",
    "            \n",
    "            plt.subplot(1, 4, 2)\n",
    "            plt.imshow(cv2.cvtColor(home[1][np.newaxis, np.newaxis, :].astype(np.uint8), cv2.COLOR_Lab2RGB))\n",
    "            plt.title(\"Home Upper\")\n",
    "            \n",
    "            plt.subplot(1, 4, 3)\n",
    "            plt.imshow(cv2.cvtColor(away[0][np.newaxis, np.newaxis, :].astype(np.uint8), cv2.COLOR_Lab2RGB))\n",
    "            plt.title(\"Away Lower\")\n",
    "            \n",
    "            plt.subplot(1, 4, 4)\n",
    "            plt.imshow(cv2.cvtColor(away[1][np.newaxis, np.newaxis, :].astype(np.uint8), cv2.COLOR_Lab2RGB))\n",
    "            plt.title(\"Away Upper\")\n",
    "            \n",
    "            plt.show()\n",
    "            \n",
    "        if tracks.shape[0] != 0:\n",
    "            player_mean_colors = [get_mean_color(im, xyxy)[1] for xyxy, cls in zip(xyxys, clss) if cls == 1]\n",
    "            #player_mean_colors = [get_color_histogram(im, xyxy) for xyxy, cls in zip(xyxys, clss) if cls == 1]\n",
    "            \n",
    "            if(counter == 1):\n",
    "                labels, initial_centroids = perform_kmeans_clustering(player_mean_colors, initial_centroids)\n",
    "\n",
    "            else:\n",
    "                if do_kmeans:\n",
    "                    labels = perform_kmeans_clustering(player_mean_colors, initial_centroids)[0]\n",
    "                else:\n",
    "                    labels = [get_team_belonging(im, xyxy, home, away) for xyxy, cls in zip(xyxys, clss) if cls == 1]\n",
    "                \n",
    "                \"\"\"\n",
    "                player_mean_colors = np.array([lab_to_rgb(color) for color in player_mean_colors])\n",
    "                \n",
    "                # Plotting the results (optional)\n",
    "                plt.subplot(1, 2, 1)\n",
    "                plt.scatter(player_mean_colors[:, 1], player_mean_colors[:, 2], c=player_mean_colors / 255.0)\n",
    "                plt.title('Original Colors')\n",
    "\n",
    "                plt.subplot(1, 2, 2)\n",
    "                plt.scatter(player_mean_colors[labels == 0][:, 1], player_mean_colors[labels == 0][:, 2], c='blue', marker='o')\n",
    "                plt.scatter(player_mean_colors[labels == 1][:, 1], player_mean_colors[labels == 1][:, 2], c='red', marker='x')\n",
    "                plt.title('Clustered Colors')\n",
    "\n",
    "                plt.show()\n",
    "                \"\"\"    \n",
    "    \n",
    "            for xyxy, id, cls, label in zip(xyxys, ids, clss, labels):\n",
    "                \n",
    "                \n",
    "                # Convert bounding box coordinates to Rect object\n",
    "                rect = Rect(xyxy[0], xyxy[1], xyxy[2], xyxy[3])\n",
    "                if cls == 1:\n",
    "                    cls = cls + label\n",
    "                \n",
    "                # Get a unique color for each class\n",
    "                color = Color(*get_color(cls))\n",
    "\n",
    "                # Draw an ellipse at the bottom of the bounding box\n",
    "                draw_ellipse(image, rect, color, thickness)\n",
    "                \n",
    "                # Place ID text just above the ellipse\n",
    "                cv2.putText(\n",
    "                    image,\n",
    "                    f'{id}',\n",
    "                    (rect.bottom_center[0] - 10, rect.bottom_center[1] - int(0.35 * rect.width) - 5),\n",
    "                    cv2.FONT_HERSHEY_SIMPLEX,\n",
    "                    fontscale,\n",
    "                    color.bgr_tuple,\n",
    "                    thickness\n",
    "                )\n",
    "            if len(ball) != 0:\n",
    "                rect = Rect(int(ball[0]), int(ball[1]), int(ball[2]), int(ball[3]))\n",
    "                # Get a unique color for each class\n",
    "                color = Color(*get_color(0))\n",
    "\n",
    "                # Draw an ellipse at the bottom of the bounding box\n",
    "                draw_ellipse(image, rect, color, thickness)\n",
    "                id = -1\n",
    "                # Place ID text just above the ellipse\n",
    "                cv2.putText(\n",
    "                    image,\n",
    "                    \"-1\",\n",
    "                    (rect.bottom_center[0] - 10, rect.bottom_center[1] - int(0.35 * rect.width) - 5),\n",
    "                    cv2.FONT_HERSHEY_SIMPLEX,\n",
    "                    fontscale,\n",
    "                    color.bgr_tuple,\n",
    "                    thickness\n",
    "                )\n",
    "            \n",
    "                \n",
    "        out.write(image)\n",
    "        counter += 1\n",
    "        \n",
    "    input_video.release()\n",
    "    out.release()\n",
    "    cv2.destroyAllWindows()\n"
   ]
  },
  {
   "cell_type": "code",
   "execution_count": 101,
   "id": "797ec9cc",
   "metadata": {
    "scrolled": true
   },
   "outputs": [
    {
     "name": "stderr",
     "output_type": "stream",
     "text": [
      "\u001b[32m2023-10-18 13:55:01.170\u001b[0m | \u001b[32m\u001b[1mSUCCESS \u001b[0m | \u001b[36mboxmot.appearance.reid_model_factory\u001b[0m:\u001b[36mload_pretrained_weights\u001b[0m:\u001b[36m207\u001b[0m - \u001b[32m\u001b[1mSuccessfully loaded pretrained weights from \"osnet_x0_25_msmt17.pt\"\u001b[0m\n",
      "\u001b[32m2023-10-18 13:55:01.172\u001b[0m | \u001b[33m\u001b[1mWARNING \u001b[0m | \u001b[36mboxmot.appearance.reid_model_factory\u001b[0m:\u001b[36mload_pretrained_weights\u001b[0m:\u001b[36m211\u001b[0m - \u001b[33m\u001b[1mThe following layers are discarded due to unmatched keys or layer size: ('classifier.weight', 'classifier.bias')\u001b[0m\n"
     ]
    },
    {
     "name": "stdout",
     "output_type": "stream",
     "text": [
      "Tracking output: videos/first_30_seconds_tracking_output_test.mp4\n",
      "1\n"
     ]
    },
    {
     "name": "stderr",
     "output_type": "stream",
     "text": [
      "\n",
      "0: 1120x1984 1 ball, 22 players, 32.8ms\n",
      "Speed: 12.9ms preprocess, 32.8ms inference, 1.2ms postprocess per image at shape (1, 3, 1120, 1984)\n"
     ]
    },
    {
     "name": "stdout",
     "output_type": "stream",
     "text": [
      "first\n"
     ]
    },
    {
     "data": {
      "image/png": "[encoded data removed]",
      "text/plain": [
       "<Figure size 600x200 with 2 Axes>"
      ]
     },
     "metadata": {},
     "output_type": "display_data"
    },
    {
     "name": "stdout",
     "output_type": "stream",
     "text": [
      "second\n"
     ]
    },
    {
     "data": {
      "image/png": "[encoded data removed]",
      "text/plain": [
       "<Figure size 600x200 with 2 Axes>"
      ]
     },
     "metadata": {},
     "output_type": "display_data"
    },
    {
     "data": {
      "image/png": "[encoded data removed]",
      "text/plain": [
       "<Figure size 600x200 with 2 Axes>"
      ]
     },
     "metadata": {},
     "output_type": "display_data"
    },
    {
     "name": "stdout",
     "output_type": "stream",
     "text": [
      "Most Dominant Color (in LAB): (array([103, 116, 123]), array([123, 136, 143]))\n"
     ]
    },
    {
     "data": {
      "image/png": "[encoded data removed]",
      "text/plain": [
       "<Figure size 600x200 with 2 Axes>"
      ]
     },
     "metadata": {},
     "output_type": "display_data"
    },
    {
     "data": {
      "image/png": "[encoded data removed]",
      "text/plain": [
       "<Figure size 640x480 with 1 Axes>"
      ]
     },
     "metadata": {},
     "output_type": "display_data"
    },
    {
     "data": {
      "image/png": "[encoded data removed]",
      "text/plain": [
       "<Figure size 1000x500 with 4 Axes>"
      ]
     },
     "metadata": {},
     "output_type": "display_data"
    },
    {
     "name": "stderr",
     "output_type": "stream",
     "text": [
      "\n",
      "0: 1120x1984 1 ball, 22 players, 28.1ms\n",
      "Speed: 11.8ms preprocess, 28.1ms inference, 1.2ms postprocess per image at shape (1, 3, 1120, 1984)\n",
      "\n",
      "0: 1120x1984 1 ball, 22 players, 28.1ms\n",
      "Speed: 11.2ms preprocess, 28.1ms inference, 1.2ms postprocess per image at shape (1, 3, 1120, 1984)\n"
     ]
    },
    {
     "name": "stdout",
     "output_type": "stream",
     "text": [
      "2\n",
      "3\n"
     ]
    },
    {
     "name": "stderr",
     "output_type": "stream",
     "text": [
      "\n",
      "0: 1120x1984 1 ball, 22 players, 28.1ms\n",
      "Speed: 11.1ms preprocess, 28.1ms inference, 1.2ms postprocess per image at shape (1, 3, 1120, 1984)\n",
      "\n",
      "0: 1120x1984 1 ball, 22 players, 28.1ms\n",
      "Speed: 11.3ms preprocess, 28.1ms inference, 1.1ms postprocess per image at shape (1, 3, 1120, 1984)\n"
     ]
    },
    {
     "name": "stdout",
     "output_type": "stream",
     "text": [
      "4\n",
      "5\n"
     ]
    },
    {
     "name": "stderr",
     "output_type": "stream",
     "text": [
      "\n",
      "0: 1120x1984 1 ball, 22 players, 28.1ms\n",
      "Speed: 12.0ms preprocess, 28.1ms inference, 1.2ms postprocess per image at shape (1, 3, 1120, 1984)\n",
      "\n",
      "0: 1120x1984 1 ball, 22 players, 28.1ms\n",
      "Speed: 11.4ms preprocess, 28.1ms inference, 1.2ms postprocess per image at shape (1, 3, 1120, 1984)\n"
     ]
    },
    {
     "name": "stdout",
     "output_type": "stream",
     "text": [
      "6\n",
      "7\n"
     ]
    },
    {
     "name": "stderr",
     "output_type": "stream",
     "text": [
      "\n",
      "0: 1120x1984 1 ball, 22 players, 28.1ms\n",
      "Speed: 11.1ms preprocess, 28.1ms inference, 1.2ms postprocess per image at shape (1, 3, 1120, 1984)\n",
      "\n",
      "0: 1120x1984 1 ball, 22 players, 28.1ms\n",
      "Speed: 11.8ms preprocess, 28.1ms inference, 1.2ms postprocess per image at shape (1, 3, 1120, 1984)\n"
     ]
    },
    {
     "name": "stdout",
     "output_type": "stream",
     "text": [
      "8\n",
      "9\n"
     ]
    },
    {
     "name": "stderr",
     "output_type": "stream",
     "text": [
      "\n",
      "0: 1120x1984 1 ball, 22 players, 28.1ms\n",
      "Speed: 11.4ms preprocess, 28.1ms inference, 1.2ms postprocess per image at shape (1, 3, 1120, 1984)\n",
      "\n",
      "0: 1120x1984 1 ball, 22 players, 28.1ms\n",
      "Speed: 11.3ms preprocess, 28.1ms inference, 1.2ms postprocess per image at shape (1, 3, 1120, 1984)\n"
     ]
    },
    {
     "name": "stdout",
     "output_type": "stream",
     "text": [
      "10\n",
      "11\n"
     ]
    },
    {
     "name": "stderr",
     "output_type": "stream",
     "text": [
      "\n",
      "0: 1120x1984 1 ball, 22 players, 32.3ms\n",
      "Speed: 11.2ms preprocess, 32.3ms inference, 1.2ms postprocess per image at shape (1, 3, 1120, 1984)\n",
      "\n",
      "0: 1120x1984 1 ball, 22 players, 32.3ms\n",
      "Speed: 11.3ms preprocess, 32.3ms inference, 1.2ms postprocess per image at shape (1, 3, 1120, 1984)\n"
     ]
    },
    {
     "name": "stdout",
     "output_type": "stream",
     "text": [
      "12\n",
      "13\n"
     ]
    },
    {
     "name": "stderr",
     "output_type": "stream",
     "text": [
      "\n",
      "0: 1120x1984 1 ball, 22 players, 32.3ms\n",
      "Speed: 11.4ms preprocess, 32.3ms inference, 1.3ms postprocess per image at shape (1, 3, 1120, 1984)\n",
      "\n",
      "0: 1120x1984 1 ball, 22 players, 32.3ms\n",
      "Speed: 11.2ms preprocess, 32.3ms inference, 1.2ms postprocess per image at shape (1, 3, 1120, 1984)\n"
     ]
    },
    {
     "name": "stdout",
     "output_type": "stream",
     "text": [
      "14\n",
      "15\n"
     ]
    },
    {
     "name": "stderr",
     "output_type": "stream",
     "text": [
      "\n",
      "0: 1120x1984 1 ball, 22 players, 32.3ms\n",
      "Speed: 11.6ms preprocess, 32.3ms inference, 1.3ms postprocess per image at shape (1, 3, 1120, 1984)\n",
      "\n",
      "0: 1120x1984 1 ball, 22 players, 32.3ms\n",
      "Speed: 11.2ms preprocess, 32.3ms inference, 1.2ms postprocess per image at shape (1, 3, 1120, 1984)\n"
     ]
    },
    {
     "name": "stdout",
     "output_type": "stream",
     "text": [
      "16\n",
      "17\n"
     ]
    },
    {
     "name": "stderr",
     "output_type": "stream",
     "text": [
      "\n",
      "0: 1120x1984 1 ball, 22 players, 32.2ms\n",
      "Speed: 11.7ms preprocess, 32.2ms inference, 1.2ms postprocess per image at shape (1, 3, 1120, 1984)\n",
      "\n",
      "0: 1120x1984 1 ball, 22 players, 32.3ms\n",
      "Speed: 11.7ms preprocess, 32.3ms inference, 1.2ms postprocess per image at shape (1, 3, 1120, 1984)\n"
     ]
    },
    {
     "name": "stdout",
     "output_type": "stream",
     "text": [
      "18\n",
      "19\n"
     ]
    },
    {
     "name": "stderr",
     "output_type": "stream",
     "text": [
      "\n",
      "0: 1120x1984 1 ball, 22 players, 32.3ms\n",
      "Speed: 11.3ms preprocess, 32.3ms inference, 1.2ms postprocess per image at shape (1, 3, 1120, 1984)\n",
      "\n",
      "0: 1120x1984 1 ball, 22 players, 32.3ms\n",
      "Speed: 11.2ms preprocess, 32.3ms inference, 1.3ms postprocess per image at shape (1, 3, 1120, 1984)\n"
     ]
    },
    {
     "name": "stdout",
     "output_type": "stream",
     "text": [
      "20\n",
      "21\n"
     ]
    },
    {
     "name": "stderr",
     "output_type": "stream",
     "text": [
      "\n",
      "0: 1120x1984 1 ball, 22 players, 32.3ms\n",
      "Speed: 11.4ms preprocess, 32.3ms inference, 1.3ms postprocess per image at shape (1, 3, 1120, 1984)\n",
      "\n",
      "0: 1120x1984 1 ball, 22 players, 32.3ms\n",
      "Speed: 11.4ms preprocess, 32.3ms inference, 1.3ms postprocess per image at shape (1, 3, 1120, 1984)\n"
     ]
    },
    {
     "name": "stdout",
     "output_type": "stream",
     "text": [
      "22\n",
      "23\n"
     ]
    },
    {
     "name": "stderr",
     "output_type": "stream",
     "text": [
      "\n",
      "0: 1120x1984 1 ball, 22 players, 32.3ms\n",
      "Speed: 11.1ms preprocess, 32.3ms inference, 1.2ms postprocess per image at shape (1, 3, 1120, 1984)\n",
      "\n",
      "0: 1120x1984 1 ball, 22 players, 32.3ms\n",
      "Speed: 12.2ms preprocess, 32.3ms inference, 1.2ms postprocess per image at shape (1, 3, 1120, 1984)\n"
     ]
    },
    {
     "name": "stdout",
     "output_type": "stream",
     "text": [
      "24\n",
      "25\n"
     ]
    },
    {
     "name": "stderr",
     "output_type": "stream",
     "text": [
      "\n",
      "0: 1120x1984 1 ball, 22 players, 32.3ms\n",
      "Speed: 12.0ms preprocess, 32.3ms inference, 1.3ms postprocess per image at shape (1, 3, 1120, 1984)\n",
      "\n",
      "0: 1120x1984 1 ball, 22 players, 32.3ms\n",
      "Speed: 12.2ms preprocess, 32.3ms inference, 1.2ms postprocess per image at shape (1, 3, 1120, 1984)\n"
     ]
    },
    {
     "name": "stdout",
     "output_type": "stream",
     "text": [
      "26\n",
      "27\n"
     ]
    },
    {
     "name": "stderr",
     "output_type": "stream",
     "text": [
      "\n",
      "0: 1120x1984 1 ball, 22 players, 32.3ms\n",
      "Speed: 11.2ms preprocess, 32.3ms inference, 1.2ms postprocess per image at shape (1, 3, 1120, 1984)\n",
      "\n",
      "0: 1120x1984 1 ball, 22 players, 32.3ms\n",
      "Speed: 12.2ms preprocess, 32.3ms inference, 1.3ms postprocess per image at shape (1, 3, 1120, 1984)\n"
     ]
    },
    {
     "name": "stdout",
     "output_type": "stream",
     "text": [
      "28\n",
      "29\n"
     ]
    },
    {
     "name": "stderr",
     "output_type": "stream",
     "text": [
      "\n",
      "0: 1120x1984 1 ball, 22 players, 32.3ms\n",
      "Speed: 11.6ms preprocess, 32.3ms inference, 1.3ms postprocess per image at shape (1, 3, 1120, 1984)\n",
      "\n",
      "0: 1120x1984 1 ball, 22 players, 32.3ms\n",
      "Speed: 12.0ms preprocess, 32.3ms inference, 1.3ms postprocess per image at shape (1, 3, 1120, 1984)\n"
     ]
    },
    {
     "name": "stdout",
     "output_type": "stream",
     "text": [
      "30\n",
      "31\n"
     ]
    },
    {
     "name": "stderr",
     "output_type": "stream",
     "text": [
      "\n",
      "0: 1120x1984 1 ball, 22 players, 32.3ms\n",
      "Speed: 12.1ms preprocess, 32.3ms inference, 1.2ms postprocess per image at shape (1, 3, 1120, 1984)\n",
      "\n",
      "0: 1120x1984 1 ball, 22 players, 32.3ms\n",
      "Speed: 12.1ms preprocess, 32.3ms inference, 1.2ms postprocess per image at shape (1, 3, 1120, 1984)\n"
     ]
    },
    {
     "name": "stdout",
     "output_type": "stream",
     "text": [
      "32\n",
      "33\n"
     ]
    },
    {
     "name": "stderr",
     "output_type": "stream",
     "text": [
      "\n",
      "0: 1120x1984 1 ball, 22 players, 32.3ms\n",
      "Speed: 11.9ms preprocess, 32.3ms inference, 1.3ms postprocess per image at shape (1, 3, 1120, 1984)\n",
      "\n",
      "0: 1120x1984 1 ball, 22 players, 32.3ms\n",
      "Speed: 12.2ms preprocess, 32.3ms inference, 1.3ms postprocess per image at shape (1, 3, 1120, 1984)\n"
     ]
    },
    {
     "name": "stdout",
     "output_type": "stream",
     "text": [
      "34\n",
      "35\n"
     ]
    },
    {
     "name": "stderr",
     "output_type": "stream",
     "text": [
      "\n",
      "0: 1120x1984 1 ball, 22 players, 32.3ms\n",
      "Speed: 12.2ms preprocess, 32.3ms inference, 1.3ms postprocess per image at shape (1, 3, 1120, 1984)\n",
      "\n",
      "0: 1120x1984 1 ball, 22 players, 32.3ms\n",
      "Speed: 12.0ms preprocess, 32.3ms inference, 1.3ms postprocess per image at shape (1, 3, 1120, 1984)\n"
     ]
    },
    {
     "name": "stdout",
     "output_type": "stream",
     "text": [
      "36\n",
      "37\n"
     ]
    },
    {
     "name": "stderr",
     "output_type": "stream",
     "text": [
      "\n",
      "0: 1120x1984 1 ball, 22 players, 32.4ms\n",
      "Speed: 13.2ms preprocess, 32.4ms inference, 1.4ms postprocess per image at shape (1, 3, 1120, 1984)\n",
      "\n",
      "0: 1120x1984 1 ball, 22 players, 32.3ms\n",
      "Speed: 12.2ms preprocess, 32.3ms inference, 1.2ms postprocess per image at shape (1, 3, 1120, 1984)\n"
     ]
    },
    {
     "name": "stdout",
     "output_type": "stream",
     "text": [
      "38\n",
      "39\n"
     ]
    },
    {
     "name": "stderr",
     "output_type": "stream",
     "text": [
      "\n",
      "0: 1120x1984 1 ball, 22 players, 32.3ms\n",
      "Speed: 12.1ms preprocess, 32.3ms inference, 1.3ms postprocess per image at shape (1, 3, 1120, 1984)\n",
      "\n",
      "0: 1120x1984 1 ball, 22 players, 32.3ms\n",
      "Speed: 12.1ms preprocess, 32.3ms inference, 1.2ms postprocess per image at shape (1, 3, 1120, 1984)\n"
     ]
    },
    {
     "name": "stdout",
     "output_type": "stream",
     "text": [
      "40\n",
      "41\n"
     ]
    },
    {
     "name": "stderr",
     "output_type": "stream",
     "text": [
      "\n",
      "0: 1120x1984 1 ball, 22 players, 32.3ms\n",
      "Speed: 12.3ms preprocess, 32.3ms inference, 1.2ms postprocess per image at shape (1, 3, 1120, 1984)\n",
      "\n",
      "0: 1120x1984 1 ball, 22 players, 32.3ms\n",
      "Speed: 11.8ms preprocess, 32.3ms inference, 1.2ms postprocess per image at shape (1, 3, 1120, 1984)\n"
     ]
    },
    {
     "name": "stdout",
     "output_type": "stream",
     "text": [
      "42\n",
      "43\n"
     ]
    },
    {
     "name": "stderr",
     "output_type": "stream",
     "text": [
      "\n",
      "0: 1120x1984 1 ball, 22 players, 32.3ms\n",
      "Speed: 12.2ms preprocess, 32.3ms inference, 1.2ms postprocess per image at shape (1, 3, 1120, 1984)\n",
      "\n",
      "0: 1120x1984 1 ball, 22 players, 32.3ms\n",
      "Speed: 12.2ms preprocess, 32.3ms inference, 1.2ms postprocess per image at shape (1, 3, 1120, 1984)\n"
     ]
    },
    {
     "name": "stdout",
     "output_type": "stream",
     "text": [
      "44\n",
      "45\n"
     ]
    },
    {
     "name": "stderr",
     "output_type": "stream",
     "text": [
      "\n",
      "0: 1120x1984 1 ball, 22 players, 32.3ms\n",
      "Speed: 11.6ms preprocess, 32.3ms inference, 1.3ms postprocess per image at shape (1, 3, 1120, 1984)\n",
      "\n",
      "0: 1120x1984 1 ball, 22 players, 32.3ms\n",
      "Speed: 11.5ms preprocess, 32.3ms inference, 1.3ms postprocess per image at shape (1, 3, 1120, 1984)\n"
     ]
    },
    {
     "name": "stdout",
     "output_type": "stream",
     "text": [
      "46\n",
      "47\n"
     ]
    },
    {
     "name": "stderr",
     "output_type": "stream",
     "text": [
      "\n",
      "0: 1120x1984 1 ball, 22 players, 32.3ms\n",
      "Speed: 12.2ms preprocess, 32.3ms inference, 1.3ms postprocess per image at shape (1, 3, 1120, 1984)\n",
      "\n",
      "0: 1120x1984 1 ball, 22 players, 32.3ms\n",
      "Speed: 11.9ms preprocess, 32.3ms inference, 1.3ms postprocess per image at shape (1, 3, 1120, 1984)\n"
     ]
    },
    {
     "name": "stdout",
     "output_type": "stream",
     "text": [
      "48\n",
      "49\n"
     ]
    },
    {
     "name": "stderr",
     "output_type": "stream",
     "text": [
      "\n",
      "0: 1120x1984 1 ball, 22 players, 32.3ms\n",
      "Speed: 11.8ms preprocess, 32.3ms inference, 1.2ms postprocess per image at shape (1, 3, 1120, 1984)\n",
      "\n",
      "0: 1120x1984 1 ball, 22 players, 32.3ms\n",
      "Speed: 12.2ms preprocess, 32.3ms inference, 1.3ms postprocess per image at shape (1, 3, 1120, 1984)\n"
     ]
    },
    {
     "name": "stdout",
     "output_type": "stream",
     "text": [
      "50\n",
      "51\n"
     ]
    },
    {
     "name": "stderr",
     "output_type": "stream",
     "text": [
      "\n",
      "0: 1120x1984 1 ball, 22 players, 32.3ms\n",
      "Speed: 11.9ms preprocess, 32.3ms inference, 1.2ms postprocess per image at shape (1, 3, 1120, 1984)\n",
      "\n",
      "0: 1120x1984 1 ball, 22 players, 32.3ms\n",
      "Speed: 12.1ms preprocess, 32.3ms inference, 1.2ms postprocess per image at shape (1, 3, 1120, 1984)\n"
     ]
    },
    {
     "name": "stdout",
     "output_type": "stream",
     "text": [
      "52\n",
      "53\n"
     ]
    },
    {
     "name": "stderr",
     "output_type": "stream",
     "text": [
      "\n",
      "0: 1120x1984 1 ball, 22 players, 32.3ms\n",
      "Speed: 12.1ms preprocess, 32.3ms inference, 1.3ms postprocess per image at shape (1, 3, 1120, 1984)\n",
      "\n",
      "0: 1120x1984 1 ball, 22 players, 32.3ms\n",
      "Speed: 12.0ms preprocess, 32.3ms inference, 1.3ms postprocess per image at shape (1, 3, 1120, 1984)\n"
     ]
    },
    {
     "name": "stdout",
     "output_type": "stream",
     "text": [
      "54\n",
      "55\n"
     ]
    },
    {
     "name": "stderr",
     "output_type": "stream",
     "text": [
      "\n",
      "0: 1120x1984 1 ball, 22 players, 32.3ms\n",
      "Speed: 11.5ms preprocess, 32.3ms inference, 1.2ms postprocess per image at shape (1, 3, 1120, 1984)\n",
      "\n",
      "0: 1120x1984 1 ball, 22 players, 32.3ms\n",
      "Speed: 12.2ms preprocess, 32.3ms inference, 1.2ms postprocess per image at shape (1, 3, 1120, 1984)\n"
     ]
    },
    {
     "name": "stdout",
     "output_type": "stream",
     "text": [
      "56\n",
      "57\n"
     ]
    },
    {
     "name": "stderr",
     "output_type": "stream",
     "text": [
      "\n",
      "0: 1120x1984 1 ball, 22 players, 32.3ms\n",
      "Speed: 12.2ms preprocess, 32.3ms inference, 1.2ms postprocess per image at shape (1, 3, 1120, 1984)\n",
      "\n",
      "0: 1120x1984 1 ball, 22 players, 32.3ms\n",
      "Speed: 11.2ms preprocess, 32.3ms inference, 1.3ms postprocess per image at shape (1, 3, 1120, 1984)\n"
     ]
    },
    {
     "name": "stdout",
     "output_type": "stream",
     "text": [
      "58\n",
      "59\n"
     ]
    },
    {
     "name": "stderr",
     "output_type": "stream",
     "text": [
      "\n",
      "0: 1120x1984 1 ball, 22 players, 32.3ms\n",
      "Speed: 11.7ms preprocess, 32.3ms inference, 1.5ms postprocess per image at shape (1, 3, 1120, 1984)\n",
      "\n",
      "0: 1120x1984 1 ball, 22 players, 32.3ms\n",
      "Speed: 12.1ms preprocess, 32.3ms inference, 3.8ms postprocess per image at shape (1, 3, 1120, 1984)\n"
     ]
    },
    {
     "name": "stdout",
     "output_type": "stream",
     "text": [
      "60\n",
      "61\n"
     ]
    },
    {
     "name": "stderr",
     "output_type": "stream",
     "text": [
      "\n",
      "0: 1120x1984 1 ball, 22 players, 32.3ms\n",
      "Speed: 12.2ms preprocess, 32.3ms inference, 1.2ms postprocess per image at shape (1, 3, 1120, 1984)\n",
      "\n",
      "0: 1120x1984 1 ball, 22 players, 32.3ms\n",
      "Speed: 12.4ms preprocess, 32.3ms inference, 1.3ms postprocess per image at shape (1, 3, 1120, 1984)\n"
     ]
    },
    {
     "name": "stdout",
     "output_type": "stream",
     "text": [
      "62\n",
      "63\n"
     ]
    },
    {
     "name": "stderr",
     "output_type": "stream",
     "text": [
      "\n",
      "0: 1120x1984 1 ball, 22 players, 32.3ms\n",
      "Speed: 11.9ms preprocess, 32.3ms inference, 1.4ms postprocess per image at shape (1, 3, 1120, 1984)\n",
      "\n",
      "0: 1120x1984 1 ball, 22 players, 32.3ms\n",
      "Speed: 12.3ms preprocess, 32.3ms inference, 1.3ms postprocess per image at shape (1, 3, 1120, 1984)\n"
     ]
    },
    {
     "name": "stdout",
     "output_type": "stream",
     "text": [
      "64\n",
      "65\n"
     ]
    },
    {
     "name": "stderr",
     "output_type": "stream",
     "text": [
      "\n",
      "0: 1120x1984 1 ball, 22 players, 32.3ms\n",
      "Speed: 11.8ms preprocess, 32.3ms inference, 1.3ms postprocess per image at shape (1, 3, 1120, 1984)\n",
      "\n",
      "0: 1120x1984 1 ball, 22 players, 32.3ms\n",
      "Speed: 11.1ms preprocess, 32.3ms inference, 1.3ms postprocess per image at shape (1, 3, 1120, 1984)\n"
     ]
    },
    {
     "name": "stdout",
     "output_type": "stream",
     "text": [
      "66\n",
      "67\n"
     ]
    },
    {
     "name": "stderr",
     "output_type": "stream",
     "text": [
      "\n",
      "0: 1120x1984 1 ball, 22 players, 32.3ms\n",
      "Speed: 12.1ms preprocess, 32.3ms inference, 1.7ms postprocess per image at shape (1, 3, 1120, 1984)\n",
      "\n",
      "0: 1120x1984 1 ball, 22 players, 32.3ms\n",
      "Speed: 11.9ms preprocess, 32.3ms inference, 1.2ms postprocess per image at shape (1, 3, 1120, 1984)\n"
     ]
    },
    {
     "name": "stdout",
     "output_type": "stream",
     "text": [
      "68\n",
      "69\n"
     ]
    },
    {
     "name": "stderr",
     "output_type": "stream",
     "text": [
      "\n",
      "0: 1120x1984 1 ball, 22 players, 32.3ms\n",
      "Speed: 12.1ms preprocess, 32.3ms inference, 1.2ms postprocess per image at shape (1, 3, 1120, 1984)\n",
      "\n",
      "0: 1120x1984 1 ball, 22 players, 32.3ms\n",
      "Speed: 12.1ms preprocess, 32.3ms inference, 1.2ms postprocess per image at shape (1, 3, 1120, 1984)\n"
     ]
    },
    {
     "name": "stdout",
     "output_type": "stream",
     "text": [
      "70\n",
      "71\n"
     ]
    },
    {
     "name": "stderr",
     "output_type": "stream",
     "text": [
      "\n",
      "0: 1120x1984 1 ball, 22 players, 32.3ms\n",
      "Speed: 12.0ms preprocess, 32.3ms inference, 1.2ms postprocess per image at shape (1, 3, 1120, 1984)\n",
      "\n",
      "0: 1120x1984 1 ball, 22 players, 32.3ms\n",
      "Speed: 12.0ms preprocess, 32.3ms inference, 1.2ms postprocess per image at shape (1, 3, 1120, 1984)\n"
     ]
    },
    {
     "name": "stdout",
     "output_type": "stream",
     "text": [
      "72\n",
      "73\n"
     ]
    },
    {
     "name": "stderr",
     "output_type": "stream",
     "text": [
      "\n",
      "0: 1120x1984 1 ball, 23 players, 32.3ms\n",
      "Speed: 11.8ms preprocess, 32.3ms inference, 1.2ms postprocess per image at shape (1, 3, 1120, 1984)\n",
      "\n",
      "0: 1120x1984 1 ball, 23 players, 32.3ms\n",
      "Speed: 12.1ms preprocess, 32.3ms inference, 1.2ms postprocess per image at shape (1, 3, 1120, 1984)\n"
     ]
    },
    {
     "name": "stdout",
     "output_type": "stream",
     "text": [
      "74\n",
      "75\n"
     ]
    },
    {
     "name": "stderr",
     "output_type": "stream",
     "text": [
      "\n",
      "0: 1120x1984 1 ball, 22 players, 32.3ms\n",
      "Speed: 11.9ms preprocess, 32.3ms inference, 1.3ms postprocess per image at shape (1, 3, 1120, 1984)\n",
      "\n",
      "0: 1120x1984 1 ball, 22 players, 32.3ms\n",
      "Speed: 11.3ms preprocess, 32.3ms inference, 1.3ms postprocess per image at shape (1, 3, 1120, 1984)\n"
     ]
    },
    {
     "name": "stdout",
     "output_type": "stream",
     "text": [
      "76\n",
      "77\n"
     ]
    },
    {
     "name": "stderr",
     "output_type": "stream",
     "text": [
      "\n",
      "0: 1120x1984 1 ball, 22 players, 32.3ms\n",
      "Speed: 11.9ms preprocess, 32.3ms inference, 1.3ms postprocess per image at shape (1, 3, 1120, 1984)\n",
      "\n",
      "0: 1120x1984 1 ball, 22 players, 32.3ms\n",
      "Speed: 12.1ms preprocess, 32.3ms inference, 1.3ms postprocess per image at shape (1, 3, 1120, 1984)\n"
     ]
    },
    {
     "name": "stdout",
     "output_type": "stream",
     "text": [
      "78\n",
      "79\n"
     ]
    },
    {
     "name": "stderr",
     "output_type": "stream",
     "text": [
      "\n",
      "0: 1120x1984 1 ball, 22 players, 32.3ms\n",
      "Speed: 11.5ms preprocess, 32.3ms inference, 1.2ms postprocess per image at shape (1, 3, 1120, 1984)\n",
      "\n",
      "0: 1120x1984 1 ball, 22 players, 32.3ms\n",
      "Speed: 12.1ms preprocess, 32.3ms inference, 1.2ms postprocess per image at shape (1, 3, 1120, 1984)\n"
     ]
    },
    {
     "name": "stdout",
     "output_type": "stream",
     "text": [
      "80\n",
      "81\n"
     ]
    },
    {
     "name": "stderr",
     "output_type": "stream",
     "text": [
      "\n",
      "0: 1120x1984 1 ball, 22 players, 32.3ms\n",
      "Speed: 11.6ms preprocess, 32.3ms inference, 1.2ms postprocess per image at shape (1, 3, 1120, 1984)\n",
      "\n",
      "0: 1120x1984 1 ball, 22 players, 32.3ms\n",
      "Speed: 11.4ms preprocess, 32.3ms inference, 1.3ms postprocess per image at shape (1, 3, 1120, 1984)\n"
     ]
    },
    {
     "name": "stdout",
     "output_type": "stream",
     "text": [
      "82\n",
      "83\n"
     ]
    },
    {
     "name": "stderr",
     "output_type": "stream",
     "text": [
      "\n",
      "0: 1120x1984 1 ball, 22 players, 32.3ms\n",
      "Speed: 11.8ms preprocess, 32.3ms inference, 1.2ms postprocess per image at shape (1, 3, 1120, 1984)\n",
      "\n",
      "0: 1120x1984 1 ball, 22 players, 32.3ms\n",
      "Speed: 11.9ms preprocess, 32.3ms inference, 1.3ms postprocess per image at shape (1, 3, 1120, 1984)\n"
     ]
    },
    {
     "name": "stdout",
     "output_type": "stream",
     "text": [
      "84\n",
      "85\n"
     ]
    },
    {
     "name": "stderr",
     "output_type": "stream",
     "text": [
      "\n",
      "0: 1120x1984 1 ball, 22 players, 32.3ms\n",
      "Speed: 11.3ms preprocess, 32.3ms inference, 1.2ms postprocess per image at shape (1, 3, 1120, 1984)\n",
      "\n",
      "0: 1120x1984 1 ball, 22 players, 32.3ms\n",
      "Speed: 12.0ms preprocess, 32.3ms inference, 1.2ms postprocess per image at shape (1, 3, 1120, 1984)\n"
     ]
    },
    {
     "name": "stdout",
     "output_type": "stream",
     "text": [
      "86\n",
      "87\n"
     ]
    },
    {
     "name": "stderr",
     "output_type": "stream",
     "text": [
      "\n",
      "0: 1120x1984 1 ball, 22 players, 32.3ms\n",
      "Speed: 11.2ms preprocess, 32.3ms inference, 1.2ms postprocess per image at shape (1, 3, 1120, 1984)\n",
      "\n",
      "0: 1120x1984 1 ball, 22 players, 32.3ms\n",
      "Speed: 11.9ms preprocess, 32.3ms inference, 1.2ms postprocess per image at shape (1, 3, 1120, 1984)\n"
     ]
    },
    {
     "name": "stdout",
     "output_type": "stream",
     "text": [
      "88\n",
      "89\n"
     ]
    },
    {
     "name": "stderr",
     "output_type": "stream",
     "text": [
      "\n",
      "0: 1120x1984 1 ball, 22 players, 32.3ms\n",
      "Speed: 12.0ms preprocess, 32.3ms inference, 1.3ms postprocess per image at shape (1, 3, 1120, 1984)\n",
      "\n",
      "0: 1120x1984 1 ball, 22 players, 32.3ms\n",
      "Speed: 11.8ms preprocess, 32.3ms inference, 1.3ms postprocess per image at shape (1, 3, 1120, 1984)\n"
     ]
    },
    {
     "name": "stdout",
     "output_type": "stream",
     "text": [
      "90\n",
      "91\n"
     ]
    },
    {
     "name": "stderr",
     "output_type": "stream",
     "text": [
      "\n",
      "0: 1120x1984 1 ball, 22 players, 32.3ms\n",
      "Speed: 12.2ms preprocess, 32.3ms inference, 1.2ms postprocess per image at shape (1, 3, 1120, 1984)\n",
      "\n",
      "0: 1120x1984 1 ball, 22 players, 32.3ms\n",
      "Speed: 11.0ms preprocess, 32.3ms inference, 1.3ms postprocess per image at shape (1, 3, 1120, 1984)\n"
     ]
    },
    {
     "name": "stdout",
     "output_type": "stream",
     "text": [
      "92\n",
      "93\n"
     ]
    },
    {
     "name": "stderr",
     "output_type": "stream",
     "text": [
      "\n",
      "0: 1120x1984 1 ball, 22 players, 32.3ms\n",
      "Speed: 11.8ms preprocess, 32.3ms inference, 1.2ms postprocess per image at shape (1, 3, 1120, 1984)\n",
      "\n",
      "0: 1120x1984 1 ball, 22 players, 32.3ms\n",
      "Speed: 12.1ms preprocess, 32.3ms inference, 1.3ms postprocess per image at shape (1, 3, 1120, 1984)\n"
     ]
    },
    {
     "name": "stdout",
     "output_type": "stream",
     "text": [
      "94\n",
      "95\n"
     ]
    },
    {
     "name": "stderr",
     "output_type": "stream",
     "text": [
      "\n",
      "0: 1120x1984 1 ball, 22 players, 32.3ms\n",
      "Speed: 11.8ms preprocess, 32.3ms inference, 1.2ms postprocess per image at shape (1, 3, 1120, 1984)\n",
      "\n",
      "0: 1120x1984 1 ball, 22 players, 32.3ms\n",
      "Speed: 11.7ms preprocess, 32.3ms inference, 1.2ms postprocess per image at shape (1, 3, 1120, 1984)\n"
     ]
    },
    {
     "name": "stdout",
     "output_type": "stream",
     "text": [
      "96\n",
      "97\n"
     ]
    },
    {
     "name": "stderr",
     "output_type": "stream",
     "text": [
      "\n",
      "0: 1120x1984 1 ball, 22 players, 32.3ms\n",
      "Speed: 11.1ms preprocess, 32.3ms inference, 1.2ms postprocess per image at shape (1, 3, 1120, 1984)\n",
      "\n",
      "0: 1120x1984 1 ball, 22 players, 32.3ms\n",
      "Speed: 11.9ms preprocess, 32.3ms inference, 1.2ms postprocess per image at shape (1, 3, 1120, 1984)\n"
     ]
    },
    {
     "name": "stdout",
     "output_type": "stream",
     "text": [
      "98\n",
      "99\n"
     ]
    },
    {
     "name": "stderr",
     "output_type": "stream",
     "text": [
      "\n",
      "0: 1120x1984 1 ball, 22 players, 32.3ms\n",
      "Speed: 11.2ms preprocess, 32.3ms inference, 1.2ms postprocess per image at shape (1, 3, 1120, 1984)\n",
      "\n",
      "0: 1120x1984 1 ball, 22 players, 32.3ms\n",
      "Speed: 11.9ms preprocess, 32.3ms inference, 1.2ms postprocess per image at shape (1, 3, 1120, 1984)\n"
     ]
    },
    {
     "name": "stdout",
     "output_type": "stream",
     "text": [
      "100\n",
      "101\n"
     ]
    },
    {
     "name": "stderr",
     "output_type": "stream",
     "text": [
      "\n",
      "0: 1120x1984 1 ball, 22 players, 32.3ms\n",
      "Speed: 11.3ms preprocess, 32.3ms inference, 1.2ms postprocess per image at shape (1, 3, 1120, 1984)\n",
      "\n",
      "0: 1120x1984 1 ball, 22 players, 32.3ms\n",
      "Speed: 11.3ms preprocess, 32.3ms inference, 1.2ms postprocess per image at shape (1, 3, 1120, 1984)\n"
     ]
    },
    {
     "name": "stdout",
     "output_type": "stream",
     "text": [
      "102\n",
      "103\n"
     ]
    },
    {
     "name": "stderr",
     "output_type": "stream",
     "text": [
      "\n",
      "0: 1120x1984 1 ball, 22 players, 32.3ms\n",
      "Speed: 11.1ms preprocess, 32.3ms inference, 1.2ms postprocess per image at shape (1, 3, 1120, 1984)\n",
      "\n",
      "0: 1120x1984 1 ball, 22 players, 32.3ms\n",
      "Speed: 11.1ms preprocess, 32.3ms inference, 1.3ms postprocess per image at shape (1, 3, 1120, 1984)\n"
     ]
    },
    {
     "name": "stdout",
     "output_type": "stream",
     "text": [
      "104\n",
      "105\n"
     ]
    },
    {
     "name": "stderr",
     "output_type": "stream",
     "text": [
      "\n",
      "0: 1120x1984 1 ball, 22 players, 32.3ms\n",
      "Speed: 11.7ms preprocess, 32.3ms inference, 1.3ms postprocess per image at shape (1, 3, 1120, 1984)\n",
      "\n",
      "0: 1120x1984 1 ball, 22 players, 32.3ms\n",
      "Speed: 11.3ms preprocess, 32.3ms inference, 1.2ms postprocess per image at shape (1, 3, 1120, 1984)\n"
     ]
    },
    {
     "name": "stdout",
     "output_type": "stream",
     "text": [
      "106\n",
      "107\n"
     ]
    },
    {
     "name": "stderr",
     "output_type": "stream",
     "text": [
      "\n",
      "0: 1120x1984 1 ball, 22 players, 32.3ms\n",
      "Speed: 11.7ms preprocess, 32.3ms inference, 1.2ms postprocess per image at shape (1, 3, 1120, 1984)\n",
      "\n",
      "0: 1120x1984 1 ball, 22 players, 32.3ms\n",
      "Speed: 11.5ms preprocess, 32.3ms inference, 1.2ms postprocess per image at shape (1, 3, 1120, 1984)\n"
     ]
    },
    {
     "name": "stdout",
     "output_type": "stream",
     "text": [
      "108\n",
      "109\n"
     ]
    },
    {
     "name": "stderr",
     "output_type": "stream",
     "text": [
      "\n",
      "0: 1120x1984 1 ball, 22 players, 32.3ms\n",
      "Speed: 11.3ms preprocess, 32.3ms inference, 1.2ms postprocess per image at shape (1, 3, 1120, 1984)\n",
      "\n",
      "0: 1120x1984 1 ball, 22 players, 32.3ms\n",
      "Speed: 11.4ms preprocess, 32.3ms inference, 1.3ms postprocess per image at shape (1, 3, 1120, 1984)\n"
     ]
    },
    {
     "name": "stdout",
     "output_type": "stream",
     "text": [
      "110\n",
      "111\n"
     ]
    },
    {
     "name": "stderr",
     "output_type": "stream",
     "text": [
      "\n",
      "0: 1120x1984 1 ball, 22 players, 32.3ms\n",
      "Speed: 11.9ms preprocess, 32.3ms inference, 1.3ms postprocess per image at shape (1, 3, 1120, 1984)\n",
      "\n",
      "0: 1120x1984 1 ball, 22 players, 32.3ms\n",
      "Speed: 12.2ms preprocess, 32.3ms inference, 1.2ms postprocess per image at shape (1, 3, 1120, 1984)\n"
     ]
    },
    {
     "name": "stdout",
     "output_type": "stream",
     "text": [
      "112\n",
      "113\n"
     ]
    },
    {
     "name": "stderr",
     "output_type": "stream",
     "text": [
      "\n",
      "0: 1120x1984 1 ball, 22 players, 32.3ms\n",
      "Speed: 11.8ms preprocess, 32.3ms inference, 1.3ms postprocess per image at shape (1, 3, 1120, 1984)\n",
      "\n",
      "0: 1120x1984 1 ball, 22 players, 32.3ms\n",
      "Speed: 11.6ms preprocess, 32.3ms inference, 1.3ms postprocess per image at shape (1, 3, 1120, 1984)\n"
     ]
    },
    {
     "name": "stdout",
     "output_type": "stream",
     "text": [
      "114\n",
      "115\n"
     ]
    },
    {
     "name": "stderr",
     "output_type": "stream",
     "text": [
      "\n",
      "0: 1120x1984 1 ball, 22 players, 32.3ms\n",
      "Speed: 11.8ms preprocess, 32.3ms inference, 1.3ms postprocess per image at shape (1, 3, 1120, 1984)\n",
      "\n",
      "0: 1120x1984 1 ball, 22 players, 32.3ms\n",
      "Speed: 11.4ms preprocess, 32.3ms inference, 1.3ms postprocess per image at shape (1, 3, 1120, 1984)\n"
     ]
    },
    {
     "name": "stdout",
     "output_type": "stream",
     "text": [
      "116\n",
      "117\n"
     ]
    },
    {
     "name": "stderr",
     "output_type": "stream",
     "text": [
      "\n",
      "0: 1120x1984 1 ball, 22 players, 32.3ms\n",
      "Speed: 11.9ms preprocess, 32.3ms inference, 1.2ms postprocess per image at shape (1, 3, 1120, 1984)\n",
      "\n",
      "0: 1120x1984 1 ball, 22 players, 32.3ms\n",
      "Speed: 12.1ms preprocess, 32.3ms inference, 1.2ms postprocess per image at shape (1, 3, 1120, 1984)\n"
     ]
    },
    {
     "name": "stdout",
     "output_type": "stream",
     "text": [
      "118\n",
      "119\n"
     ]
    },
    {
     "name": "stderr",
     "output_type": "stream",
     "text": [
      "\n",
      "0: 1120x1984 1 ball, 22 players, 32.3ms\n",
      "Speed: 11.4ms preprocess, 32.3ms inference, 1.2ms postprocess per image at shape (1, 3, 1120, 1984)\n",
      "\n",
      "0: 1120x1984 1 ball, 22 players, 32.3ms\n",
      "Speed: 11.4ms preprocess, 32.3ms inference, 1.2ms postprocess per image at shape (1, 3, 1120, 1984)\n"
     ]
    },
    {
     "name": "stdout",
     "output_type": "stream",
     "text": [
      "120\n",
      "121\n"
     ]
    },
    {
     "name": "stderr",
     "output_type": "stream",
     "text": [
      "\n",
      "0: 1120x1984 1 ball, 22 players, 32.3ms\n",
      "Speed: 11.4ms preprocess, 32.3ms inference, 1.2ms postprocess per image at shape (1, 3, 1120, 1984)\n",
      "\n",
      "0: 1120x1984 1 ball, 22 players, 32.3ms\n",
      "Speed: 11.4ms preprocess, 32.3ms inference, 1.2ms postprocess per image at shape (1, 3, 1120, 1984)\n"
     ]
    },
    {
     "name": "stdout",
     "output_type": "stream",
     "text": [
      "122\n",
      "123\n"
     ]
    },
    {
     "name": "stderr",
     "output_type": "stream",
     "text": [
      "\n",
      "0: 1120x1984 1 ball, 22 players, 32.3ms\n",
      "Speed: 12.1ms preprocess, 32.3ms inference, 1.2ms postprocess per image at shape (1, 3, 1120, 1984)\n",
      "\n",
      "0: 1120x1984 1 ball, 22 players, 32.3ms\n",
      "Speed: 11.4ms preprocess, 32.3ms inference, 1.2ms postprocess per image at shape (1, 3, 1120, 1984)\n"
     ]
    },
    {
     "name": "stdout",
     "output_type": "stream",
     "text": [
      "124\n",
      "125\n"
     ]
    },
    {
     "name": "stderr",
     "output_type": "stream",
     "text": [
      "\n",
      "0: 1120x1984 1 ball, 22 players, 32.3ms\n",
      "Speed: 11.6ms preprocess, 32.3ms inference, 1.2ms postprocess per image at shape (1, 3, 1120, 1984)\n",
      "\n",
      "0: 1120x1984 1 ball, 22 players, 32.3ms\n",
      "Speed: 11.3ms preprocess, 32.3ms inference, 1.3ms postprocess per image at shape (1, 3, 1120, 1984)\n"
     ]
    },
    {
     "name": "stdout",
     "output_type": "stream",
     "text": [
      "126\n",
      "127\n"
     ]
    },
    {
     "name": "stderr",
     "output_type": "stream",
     "text": [
      "\n",
      "0: 1120x1984 1 ball, 22 players, 32.3ms\n",
      "Speed: 11.4ms preprocess, 32.3ms inference, 1.2ms postprocess per image at shape (1, 3, 1120, 1984)\n",
      "\n",
      "0: 1120x1984 1 ball, 22 players, 32.3ms\n",
      "Speed: 12.1ms preprocess, 32.3ms inference, 1.2ms postprocess per image at shape (1, 3, 1120, 1984)\n"
     ]
    },
    {
     "name": "stdout",
     "output_type": "stream",
     "text": [
      "128\n",
      "129\n"
     ]
    },
    {
     "name": "stderr",
     "output_type": "stream",
     "text": [
      "\n",
      "0: 1120x1984 1 ball, 22 players, 32.3ms\n",
      "Speed: 11.8ms preprocess, 32.3ms inference, 1.2ms postprocess per image at shape (1, 3, 1120, 1984)\n",
      "\n",
      "0: 1120x1984 1 ball, 22 players, 32.3ms\n",
      "Speed: 12.0ms preprocess, 32.3ms inference, 1.2ms postprocess per image at shape (1, 3, 1120, 1984)\n"
     ]
    },
    {
     "name": "stdout",
     "output_type": "stream",
     "text": [
      "130\n",
      "131\n"
     ]
    },
    {
     "name": "stderr",
     "output_type": "stream",
     "text": [
      "\n",
      "0: 1120x1984 1 ball, 22 players, 32.3ms\n",
      "Speed: 11.6ms preprocess, 32.3ms inference, 1.2ms postprocess per image at shape (1, 3, 1120, 1984)\n",
      "\n",
      "0: 1120x1984 1 ball, 22 players, 32.3ms\n",
      "Speed: 12.1ms preprocess, 32.3ms inference, 1.4ms postprocess per image at shape (1, 3, 1120, 1984)\n"
     ]
    },
    {
     "name": "stdout",
     "output_type": "stream",
     "text": [
      "132\n",
      "133\n"
     ]
    },
    {
     "name": "stderr",
     "output_type": "stream",
     "text": [
      "\n",
      "0: 1120x1984 1 ball, 22 players, 32.3ms\n",
      "Speed: 11.5ms preprocess, 32.3ms inference, 1.3ms postprocess per image at shape (1, 3, 1120, 1984)\n",
      "\n",
      "0: 1120x1984 1 ball, 22 players, 32.3ms\n",
      "Speed: 11.5ms preprocess, 32.3ms inference, 1.2ms postprocess per image at shape (1, 3, 1120, 1984)\n"
     ]
    },
    {
     "name": "stdout",
     "output_type": "stream",
     "text": [
      "134\n",
      "135\n"
     ]
    },
    {
     "name": "stderr",
     "output_type": "stream",
     "text": [
      "\n",
      "0: 1120x1984 1 ball, 22 players, 32.3ms\n",
      "Speed: 11.0ms preprocess, 32.3ms inference, 1.3ms postprocess per image at shape (1, 3, 1120, 1984)\n",
      "\n",
      "0: 1120x1984 1 ball, 22 players, 32.3ms\n",
      "Speed: 11.9ms preprocess, 32.3ms inference, 1.2ms postprocess per image at shape (1, 3, 1120, 1984)\n"
     ]
    },
    {
     "name": "stdout",
     "output_type": "stream",
     "text": [
      "136\n",
      "137\n"
     ]
    },
    {
     "name": "stderr",
     "output_type": "stream",
     "text": [
      "\n",
      "0: 1120x1984 1 ball, 22 players, 32.3ms\n",
      "Speed: 11.4ms preprocess, 32.3ms inference, 1.2ms postprocess per image at shape (1, 3, 1120, 1984)\n",
      "\n",
      "0: 1120x1984 1 ball, 22 players, 32.3ms\n",
      "Speed: 11.3ms preprocess, 32.3ms inference, 1.2ms postprocess per image at shape (1, 3, 1120, 1984)\n"
     ]
    },
    {
     "name": "stdout",
     "output_type": "stream",
     "text": [
      "138\n",
      "139\n"
     ]
    },
    {
     "name": "stderr",
     "output_type": "stream",
     "text": [
      "\n",
      "0: 1120x1984 1 ball, 22 players, 32.3ms\n",
      "Speed: 12.2ms preprocess, 32.3ms inference, 1.2ms postprocess per image at shape (1, 3, 1120, 1984)\n",
      "\n",
      "0: 1120x1984 1 ball, 22 players, 32.3ms\n",
      "Speed: 11.7ms preprocess, 32.3ms inference, 1.2ms postprocess per image at shape (1, 3, 1120, 1984)\n"
     ]
    },
    {
     "name": "stdout",
     "output_type": "stream",
     "text": [
      "140\n",
      "141\n"
     ]
    },
    {
     "name": "stderr",
     "output_type": "stream",
     "text": [
      "\n",
      "0: 1120x1984 1 ball, 22 players, 32.3ms\n",
      "Speed: 12.1ms preprocess, 32.3ms inference, 1.3ms postprocess per image at shape (1, 3, 1120, 1984)\n",
      "\n",
      "0: 1120x1984 1 ball, 22 players, 32.3ms\n",
      "Speed: 11.4ms preprocess, 32.3ms inference, 1.2ms postprocess per image at shape (1, 3, 1120, 1984)\n"
     ]
    },
    {
     "name": "stdout",
     "output_type": "stream",
     "text": [
      "142\n",
      "143\n"
     ]
    },
    {
     "name": "stderr",
     "output_type": "stream",
     "text": [
      "\n",
      "0: 1120x1984 1 ball, 22 players, 32.3ms\n",
      "Speed: 12.1ms preprocess, 32.3ms inference, 1.3ms postprocess per image at shape (1, 3, 1120, 1984)\n",
      "\n",
      "0: 1120x1984 1 ball, 22 players, 32.3ms\n",
      "Speed: 12.2ms preprocess, 32.3ms inference, 1.2ms postprocess per image at shape (1, 3, 1120, 1984)\n"
     ]
    },
    {
     "name": "stdout",
     "output_type": "stream",
     "text": [
      "144\n",
      "145\n"
     ]
    },
    {
     "name": "stderr",
     "output_type": "stream",
     "text": [
      "\n",
      "0: 1120x1984 1 ball, 22 players, 32.3ms\n",
      "Speed: 11.4ms preprocess, 32.3ms inference, 1.3ms postprocess per image at shape (1, 3, 1120, 1984)\n",
      "\n"
     ]
    },
    {
     "name": "stdout",
     "output_type": "stream",
     "text": [
      "146\n",
      "147\n"
     ]
    },
    {
     "name": "stderr",
     "output_type": "stream",
     "text": [
      "0: 1120x1984 1 ball, 22 players, 32.3ms\n",
      "Speed: 12.2ms preprocess, 32.3ms inference, 1.3ms postprocess per image at shape (1, 3, 1120, 1984)\n",
      "\n",
      "0: 1120x1984 1 ball, 22 players, 32.3ms\n",
      "Speed: 12.1ms preprocess, 32.3ms inference, 1.3ms postprocess per image at shape (1, 3, 1120, 1984)\n",
      "\n",
      "0: 1120x1984 1 ball, 22 players, 32.3ms\n",
      "Speed: 12.3ms preprocess, 32.3ms inference, 1.2ms postprocess per image at shape (1, 3, 1120, 1984)\n"
     ]
    },
    {
     "name": "stdout",
     "output_type": "stream",
     "text": [
      "148\n",
      "149\n"
     ]
    },
    {
     "name": "stderr",
     "output_type": "stream",
     "text": [
      "\n",
      "0: 1120x1984 1 ball, 22 players, 32.3ms\n",
      "Speed: 12.0ms preprocess, 32.3ms inference, 1.3ms postprocess per image at shape (1, 3, 1120, 1984)\n",
      "\n",
      "0: 1120x1984 1 ball, 22 players, 32.3ms\n",
      "Speed: 12.1ms preprocess, 32.3ms inference, 1.2ms postprocess per image at shape (1, 3, 1120, 1984)\n"
     ]
    },
    {
     "name": "stdout",
     "output_type": "stream",
     "text": [
      "150\n",
      "151\n"
     ]
    },
    {
     "name": "stderr",
     "output_type": "stream",
     "text": [
      "\n",
      "0: 1120x1984 1 ball, 22 players, 32.3ms\n",
      "Speed: 12.2ms preprocess, 32.3ms inference, 1.3ms postprocess per image at shape (1, 3, 1120, 1984)\n",
      "\n",
      "0: 1120x1984 1 ball, 22 players, 32.3ms\n",
      "Speed: 12.3ms preprocess, 32.3ms inference, 1.2ms postprocess per image at shape (1, 3, 1120, 1984)\n"
     ]
    },
    {
     "name": "stdout",
     "output_type": "stream",
     "text": [
      "152\n",
      "153\n"
     ]
    },
    {
     "name": "stderr",
     "output_type": "stream",
     "text": [
      "\n",
      "0: 1120x1984 1 ball, 22 players, 32.3ms\n",
      "Speed: 11.9ms preprocess, 32.3ms inference, 1.2ms postprocess per image at shape (1, 3, 1120, 1984)\n",
      "\n",
      "0: 1120x1984 1 ball, 22 players, 32.3ms\n",
      "Speed: 12.1ms preprocess, 32.3ms inference, 1.3ms postprocess per image at shape (1, 3, 1120, 1984)\n"
     ]
    },
    {
     "name": "stdout",
     "output_type": "stream",
     "text": [
      "154\n",
      "155\n"
     ]
    },
    {
     "name": "stderr",
     "output_type": "stream",
     "text": [
      "\n",
      "0: 1120x1984 1 ball, 22 players, 32.3ms\n",
      "Speed: 12.0ms preprocess, 32.3ms inference, 1.2ms postprocess per image at shape (1, 3, 1120, 1984)\n",
      "\n",
      "0: 1120x1984 1 ball, 22 players, 32.3ms\n",
      "Speed: 12.3ms preprocess, 32.3ms inference, 1.3ms postprocess per image at shape (1, 3, 1120, 1984)\n"
     ]
    },
    {
     "name": "stdout",
     "output_type": "stream",
     "text": [
      "156\n",
      "157\n"
     ]
    },
    {
     "name": "stderr",
     "output_type": "stream",
     "text": [
      "\n",
      "0: 1120x1984 1 ball, 22 players, 32.3ms\n",
      "Speed: 12.7ms preprocess, 32.3ms inference, 1.3ms postprocess per image at shape (1, 3, 1120, 1984)\n",
      "\n",
      "0: 1120x1984 1 ball, 22 players, 32.3ms\n",
      "Speed: 11.7ms preprocess, 32.3ms inference, 1.2ms postprocess per image at shape (1, 3, 1120, 1984)\n"
     ]
    },
    {
     "name": "stdout",
     "output_type": "stream",
     "text": [
      "158\n",
      "159\n"
     ]
    },
    {
     "name": "stderr",
     "output_type": "stream",
     "text": [
      "\n",
      "0: 1120x1984 1 ball, 22 players, 32.3ms\n",
      "Speed: 11.5ms preprocess, 32.3ms inference, 1.2ms postprocess per image at shape (1, 3, 1120, 1984)\n",
      "\n",
      "0: 1120x1984 1 ball, 22 players, 32.3ms\n",
      "Speed: 12.4ms preprocess, 32.3ms inference, 1.3ms postprocess per image at shape (1, 3, 1120, 1984)\n"
     ]
    },
    {
     "name": "stdout",
     "output_type": "stream",
     "text": [
      "160\n",
      "161\n"
     ]
    },
    {
     "name": "stderr",
     "output_type": "stream",
     "text": [
      "\n",
      "0: 1120x1984 1 ball, 22 players, 32.3ms\n",
      "Speed: 12.4ms preprocess, 32.3ms inference, 1.3ms postprocess per image at shape (1, 3, 1120, 1984)\n",
      "\n",
      "0: 1120x1984 1 ball, 22 players, 32.3ms\n",
      "Speed: 12.2ms preprocess, 32.3ms inference, 1.2ms postprocess per image at shape (1, 3, 1120, 1984)\n"
     ]
    },
    {
     "name": "stdout",
     "output_type": "stream",
     "text": [
      "162\n",
      "163\n"
     ]
    },
    {
     "name": "stderr",
     "output_type": "stream",
     "text": [
      "\n",
      "0: 1120x1984 1 ball, 22 players, 32.3ms\n",
      "Speed: 12.1ms preprocess, 32.3ms inference, 1.2ms postprocess per image at shape (1, 3, 1120, 1984)\n",
      "\n",
      "0: 1120x1984 1 ball, 22 players, 32.3ms\n",
      "Speed: 11.4ms preprocess, 32.3ms inference, 1.2ms postprocess per image at shape (1, 3, 1120, 1984)\n"
     ]
    },
    {
     "name": "stdout",
     "output_type": "stream",
     "text": [
      "164\n",
      "165\n"
     ]
    },
    {
     "name": "stderr",
     "output_type": "stream",
     "text": [
      "\n",
      "0: 1120x1984 1 ball, 22 players, 32.3ms\n",
      "Speed: 12.2ms preprocess, 32.3ms inference, 1.2ms postprocess per image at shape (1, 3, 1120, 1984)\n",
      "\n",
      "0: 1120x1984 1 ball, 22 players, 32.3ms\n",
      "Speed: 11.9ms preprocess, 32.3ms inference, 1.2ms postprocess per image at shape (1, 3, 1120, 1984)\n"
     ]
    },
    {
     "name": "stdout",
     "output_type": "stream",
     "text": [
      "166\n",
      "167\n"
     ]
    },
    {
     "name": "stderr",
     "output_type": "stream",
     "text": [
      "\n",
      "0: 1120x1984 1 ball, 22 players, 32.3ms\n",
      "Speed: 11.5ms preprocess, 32.3ms inference, 1.2ms postprocess per image at shape (1, 3, 1120, 1984)\n",
      "\n",
      "0: 1120x1984 1 ball, 22 players, 32.3ms\n",
      "Speed: 12.1ms preprocess, 32.3ms inference, 1.2ms postprocess per image at shape (1, 3, 1120, 1984)\n"
     ]
    },
    {
     "name": "stdout",
     "output_type": "stream",
     "text": [
      "168\n",
      "169\n"
     ]
    },
    {
     "name": "stderr",
     "output_type": "stream",
     "text": [
      "\n",
      "0: 1120x1984 1 ball, 22 players, 32.3ms\n",
      "Speed: 12.0ms preprocess, 32.3ms inference, 1.2ms postprocess per image at shape (1, 3, 1120, 1984)\n",
      "\n",
      "0: 1120x1984 1 ball, 22 players, 32.3ms\n",
      "Speed: 11.8ms preprocess, 32.3ms inference, 1.3ms postprocess per image at shape (1, 3, 1120, 1984)\n"
     ]
    },
    {
     "name": "stdout",
     "output_type": "stream",
     "text": [
      "170\n",
      "171\n"
     ]
    },
    {
     "name": "stderr",
     "output_type": "stream",
     "text": [
      "\n",
      "0: 1120x1984 1 ball, 22 players, 32.3ms\n",
      "Speed: 12.5ms preprocess, 32.3ms inference, 1.2ms postprocess per image at shape (1, 3, 1120, 1984)\n",
      "\n",
      "0: 1120x1984 1 ball, 22 players, 32.3ms\n",
      "Speed: 12.3ms preprocess, 32.3ms inference, 1.2ms postprocess per image at shape (1, 3, 1120, 1984)\n"
     ]
    },
    {
     "name": "stdout",
     "output_type": "stream",
     "text": [
      "172\n",
      "173\n"
     ]
    },
    {
     "name": "stderr",
     "output_type": "stream",
     "text": [
      "\n",
      "0: 1120x1984 1 ball, 22 players, 32.3ms\n",
      "Speed: 11.8ms preprocess, 32.3ms inference, 1.2ms postprocess per image at shape (1, 3, 1120, 1984)\n",
      "\n",
      "0: 1120x1984 1 ball, 22 players, 32.3ms\n",
      "Speed: 11.7ms preprocess, 32.3ms inference, 1.3ms postprocess per image at shape (1, 3, 1120, 1984)\n"
     ]
    },
    {
     "name": "stdout",
     "output_type": "stream",
     "text": [
      "174\n",
      "175\n"
     ]
    },
    {
     "name": "stderr",
     "output_type": "stream",
     "text": [
      "\n",
      "0: 1120x1984 1 ball, 22 players, 32.3ms\n",
      "Speed: 11.8ms preprocess, 32.3ms inference, 1.2ms postprocess per image at shape (1, 3, 1120, 1984)\n",
      "\n",
      "0: 1120x1984 1 ball, 22 players, 32.3ms\n",
      "Speed: 12.1ms preprocess, 32.3ms inference, 1.2ms postprocess per image at shape (1, 3, 1120, 1984)\n"
     ]
    },
    {
     "name": "stdout",
     "output_type": "stream",
     "text": [
      "176\n",
      "177\n"
     ]
    },
    {
     "name": "stderr",
     "output_type": "stream",
     "text": [
      "\n",
      "0: 1120x1984 1 ball, 22 players, 32.3ms\n",
      "Speed: 12.0ms preprocess, 32.3ms inference, 1.2ms postprocess per image at shape (1, 3, 1120, 1984)\n",
      "\n",
      "0: 1120x1984 1 ball, 22 players, 32.3ms\n",
      "Speed: 11.8ms preprocess, 32.3ms inference, 1.2ms postprocess per image at shape (1, 3, 1120, 1984)\n"
     ]
    },
    {
     "name": "stdout",
     "output_type": "stream",
     "text": [
      "178\n",
      "179\n"
     ]
    },
    {
     "name": "stderr",
     "output_type": "stream",
     "text": [
      "\n",
      "0: 1120x1984 1 ball, 23 players, 32.3ms\n",
      "Speed: 11.4ms preprocess, 32.3ms inference, 1.2ms postprocess per image at shape (1, 3, 1120, 1984)\n",
      "\n",
      "0: 1120x1984 1 ball, 22 players, 32.3ms\n",
      "Speed: 11.9ms preprocess, 32.3ms inference, 1.3ms postprocess per image at shape (1, 3, 1120, 1984)\n"
     ]
    },
    {
     "name": "stdout",
     "output_type": "stream",
     "text": [
      "180\n",
      "181\n"
     ]
    },
    {
     "name": "stderr",
     "output_type": "stream",
     "text": [
      "\n",
      "0: 1120x1984 1 ball, 22 players, 32.3ms\n",
      "Speed: 12.5ms preprocess, 32.3ms inference, 1.3ms postprocess per image at shape (1, 3, 1120, 1984)\n",
      "\n",
      "0: 1120x1984 1 ball, 22 players, 32.3ms\n",
      "Speed: 12.0ms preprocess, 32.3ms inference, 1.3ms postprocess per image at shape (1, 3, 1120, 1984)\n"
     ]
    },
    {
     "name": "stdout",
     "output_type": "stream",
     "text": [
      "182\n",
      "183\n"
     ]
    },
    {
     "name": "stderr",
     "output_type": "stream",
     "text": [
      "\n",
      "0: 1120x1984 1 ball, 22 players, 32.3ms\n",
      "Speed: 11.6ms preprocess, 32.3ms inference, 1.3ms postprocess per image at shape (1, 3, 1120, 1984)\n",
      "\n",
      "0: 1120x1984 1 ball, 22 players, 32.3ms\n",
      "Speed: 12.3ms preprocess, 32.3ms inference, 1.2ms postprocess per image at shape (1, 3, 1120, 1984)\n"
     ]
    },
    {
     "name": "stdout",
     "output_type": "stream",
     "text": [
      "184\n",
      "185\n"
     ]
    },
    {
     "name": "stderr",
     "output_type": "stream",
     "text": [
      "\n",
      "0: 1120x1984 1 ball, 22 players, 32.3ms\n",
      "Speed: 11.3ms preprocess, 32.3ms inference, 1.3ms postprocess per image at shape (1, 3, 1120, 1984)\n",
      "\n",
      "0: 1120x1984 1 ball, 22 players, 32.3ms\n",
      "Speed: 11.1ms preprocess, 32.3ms inference, 1.3ms postprocess per image at shape (1, 3, 1120, 1984)\n"
     ]
    },
    {
     "name": "stdout",
     "output_type": "stream",
     "text": [
      "186\n",
      "187\n"
     ]
    },
    {
     "name": "stderr",
     "output_type": "stream",
     "text": [
      "\n",
      "0: 1120x1984 1 ball, 22 players, 32.3ms\n",
      "Speed: 12.0ms preprocess, 32.3ms inference, 1.2ms postprocess per image at shape (1, 3, 1120, 1984)\n",
      "\n",
      "0: 1120x1984 1 ball, 22 players, 32.3ms\n",
      "Speed: 11.4ms preprocess, 32.3ms inference, 1.3ms postprocess per image at shape (1, 3, 1120, 1984)\n"
     ]
    },
    {
     "name": "stdout",
     "output_type": "stream",
     "text": [
      "188\n",
      "189\n"
     ]
    },
    {
     "name": "stderr",
     "output_type": "stream",
     "text": [
      "\n",
      "0: 1120x1984 1 ball, 22 players, 32.3ms\n",
      "Speed: 11.7ms preprocess, 32.3ms inference, 1.2ms postprocess per image at shape (1, 3, 1120, 1984)\n",
      "\n",
      "0: 1120x1984 1 ball, 22 players, 32.3ms\n",
      "Speed: 11.4ms preprocess, 32.3ms inference, 1.2ms postprocess per image at shape (1, 3, 1120, 1984)\n"
     ]
    },
    {
     "name": "stdout",
     "output_type": "stream",
     "text": [
      "190\n",
      "191\n"
     ]
    },
    {
     "name": "stderr",
     "output_type": "stream",
     "text": [
      "\n",
      "0: 1120x1984 1 ball, 22 players, 32.3ms\n",
      "Speed: 11.8ms preprocess, 32.3ms inference, 1.3ms postprocess per image at shape (1, 3, 1120, 1984)\n",
      "\n",
      "0: 1120x1984 1 ball, 22 players, 32.3ms\n",
      "Speed: 12.1ms preprocess, 32.3ms inference, 1.3ms postprocess per image at shape (1, 3, 1120, 1984)\n"
     ]
    },
    {
     "name": "stdout",
     "output_type": "stream",
     "text": [
      "192\n",
      "193\n"
     ]
    },
    {
     "name": "stderr",
     "output_type": "stream",
     "text": [
      "\n",
      "0: 1120x1984 22 players, 32.3ms\n",
      "Speed: 11.9ms preprocess, 32.3ms inference, 1.2ms postprocess per image at shape (1, 3, 1120, 1984)\n",
      "\n",
      "0: 1120x1984 22 players, 32.3ms\n",
      "Speed: 12.5ms preprocess, 32.3ms inference, 1.3ms postprocess per image at shape (1, 3, 1120, 1984)\n"
     ]
    },
    {
     "name": "stdout",
     "output_type": "stream",
     "text": [
      "194\n",
      "195\n"
     ]
    },
    {
     "name": "stderr",
     "output_type": "stream",
     "text": [
      "\n",
      "0: 1120x1984 22 players, 32.3ms\n",
      "Speed: 11.5ms preprocess, 32.3ms inference, 1.3ms postprocess per image at shape (1, 3, 1120, 1984)\n",
      "\n",
      "0: 1120x1984 1 ball, 22 players, 32.3ms\n",
      "Speed: 11.5ms preprocess, 32.3ms inference, 1.2ms postprocess per image at shape (1, 3, 1120, 1984)\n"
     ]
    },
    {
     "name": "stdout",
     "output_type": "stream",
     "text": [
      "196\n",
      "197\n"
     ]
    },
    {
     "name": "stderr",
     "output_type": "stream",
     "text": [
      "\n",
      "0: 1120x1984 1 ball, 22 players, 32.3ms\n",
      "Speed: 11.9ms preprocess, 32.3ms inference, 1.2ms postprocess per image at shape (1, 3, 1120, 1984)\n",
      "\n",
      "0: 1120x1984 1 ball, 22 players, 32.3ms\n",
      "Speed: 12.2ms preprocess, 32.3ms inference, 1.2ms postprocess per image at shape (1, 3, 1120, 1984)\n"
     ]
    },
    {
     "name": "stdout",
     "output_type": "stream",
     "text": [
      "198\n",
      "199\n"
     ]
    },
    {
     "name": "stderr",
     "output_type": "stream",
     "text": [
      "\n",
      "0: 1120x1984 1 ball, 22 players, 32.3ms\n",
      "Speed: 12.2ms preprocess, 32.3ms inference, 1.2ms postprocess per image at shape (1, 3, 1120, 1984)\n",
      "\n",
      "0: 1120x1984 1 ball, 22 players, 32.3ms\n",
      "Speed: 11.5ms preprocess, 32.3ms inference, 1.3ms postprocess per image at shape (1, 3, 1120, 1984)\n"
     ]
    },
    {
     "name": "stdout",
     "output_type": "stream",
     "text": [
      "200\n",
      "201\n"
     ]
    },
    {
     "name": "stderr",
     "output_type": "stream",
     "text": [
      "\n",
      "0: 1120x1984 1 ball, 22 players, 32.3ms\n",
      "Speed: 11.4ms preprocess, 32.3ms inference, 1.3ms postprocess per image at shape (1, 3, 1120, 1984)\n",
      "\n",
      "0: 1120x1984 1 ball, 22 players, 32.3ms\n",
      "Speed: 12.0ms preprocess, 32.3ms inference, 1.2ms postprocess per image at shape (1, 3, 1120, 1984)\n"
     ]
    },
    {
     "name": "stdout",
     "output_type": "stream",
     "text": [
      "202\n",
      "203\n"
     ]
    },
    {
     "name": "stderr",
     "output_type": "stream",
     "text": [
      "\n",
      "0: 1120x1984 1 ball, 22 players, 32.3ms\n",
      "Speed: 11.3ms preprocess, 32.3ms inference, 1.2ms postprocess per image at shape (1, 3, 1120, 1984)\n",
      "\n",
      "0: 1120x1984 1 ball, 22 players, 32.3ms\n",
      "Speed: 11.9ms preprocess, 32.3ms inference, 1.2ms postprocess per image at shape (1, 3, 1120, 1984)\n"
     ]
    },
    {
     "name": "stdout",
     "output_type": "stream",
     "text": [
      "204\n",
      "205\n"
     ]
    },
    {
     "name": "stderr",
     "output_type": "stream",
     "text": [
      "\n",
      "0: 1120x1984 1 ball, 22 players, 32.3ms\n",
      "Speed: 12.7ms preprocess, 32.3ms inference, 1.2ms postprocess per image at shape (1, 3, 1120, 1984)\n",
      "\n",
      "0: 1120x1984 1 ball, 22 players, 32.3ms\n",
      "Speed: 11.2ms preprocess, 32.3ms inference, 1.2ms postprocess per image at shape (1, 3, 1120, 1984)\n"
     ]
    },
    {
     "name": "stdout",
     "output_type": "stream",
     "text": [
      "206\n",
      "207\n"
     ]
    },
    {
     "name": "stderr",
     "output_type": "stream",
     "text": [
      "\n",
      "0: 1120x1984 1 ball, 22 players, 32.3ms\n",
      "Speed: 11.1ms preprocess, 32.3ms inference, 1.2ms postprocess per image at shape (1, 3, 1120, 1984)\n",
      "\n",
      "0: 1120x1984 1 ball, 22 players, 32.3ms\n",
      "Speed: 12.0ms preprocess, 32.3ms inference, 1.2ms postprocess per image at shape (1, 3, 1120, 1984)\n"
     ]
    },
    {
     "name": "stdout",
     "output_type": "stream",
     "text": [
      "208\n",
      "209\n"
     ]
    },
    {
     "name": "stderr",
     "output_type": "stream",
     "text": [
      "\n",
      "0: 1120x1984 1 ball, 22 players, 32.3ms\n",
      "Speed: 11.3ms preprocess, 32.3ms inference, 1.2ms postprocess per image at shape (1, 3, 1120, 1984)\n",
      "\n",
      "0: 1120x1984 1 ball, 22 players, 32.3ms\n",
      "Speed: 11.9ms preprocess, 32.3ms inference, 1.3ms postprocess per image at shape (1, 3, 1120, 1984)\n"
     ]
    },
    {
     "name": "stdout",
     "output_type": "stream",
     "text": [
      "210\n",
      "211\n"
     ]
    },
    {
     "name": "stderr",
     "output_type": "stream",
     "text": [
      "\n",
      "0: 1120x1984 1 ball, 22 players, 32.3ms\n",
      "Speed: 12.0ms preprocess, 32.3ms inference, 1.2ms postprocess per image at shape (1, 3, 1120, 1984)\n",
      "\n",
      "0: 1120x1984 1 ball, 22 players, 32.3ms\n",
      "Speed: 11.2ms preprocess, 32.3ms inference, 1.2ms postprocess per image at shape (1, 3, 1120, 1984)\n"
     ]
    },
    {
     "name": "stdout",
     "output_type": "stream",
     "text": [
      "212\n",
      "213\n"
     ]
    },
    {
     "name": "stderr",
     "output_type": "stream",
     "text": [
      "\n",
      "0: 1120x1984 1 ball, 22 players, 32.3ms\n",
      "Speed: 11.7ms preprocess, 32.3ms inference, 1.2ms postprocess per image at shape (1, 3, 1120, 1984)\n",
      "\n",
      "0: 1120x1984 1 ball, 22 players, 32.3ms\n",
      "Speed: 11.8ms preprocess, 32.3ms inference, 1.3ms postprocess per image at shape (1, 3, 1120, 1984)\n"
     ]
    },
    {
     "name": "stdout",
     "output_type": "stream",
     "text": [
      "214\n",
      "215\n"
     ]
    },
    {
     "name": "stderr",
     "output_type": "stream",
     "text": [
      "\n",
      "0: 1120x1984 1 ball, 22 players, 32.3ms\n",
      "Speed: 11.3ms preprocess, 32.3ms inference, 1.2ms postprocess per image at shape (1, 3, 1120, 1984)\n",
      "\n",
      "0: 1120x1984 1 ball, 22 players, 32.3ms\n",
      "Speed: 12.7ms preprocess, 32.3ms inference, 1.2ms postprocess per image at shape (1, 3, 1120, 1984)\n"
     ]
    },
    {
     "name": "stdout",
     "output_type": "stream",
     "text": [
      "216\n",
      "217\n"
     ]
    },
    {
     "name": "stderr",
     "output_type": "stream",
     "text": [
      "\n",
      "0: 1120x1984 1 ball, 22 players, 32.3ms\n",
      "Speed: 11.4ms preprocess, 32.3ms inference, 1.2ms postprocess per image at shape (1, 3, 1120, 1984)\n",
      "\n",
      "0: 1120x1984 1 ball, 22 players, 32.3ms\n",
      "Speed: 11.3ms preprocess, 32.3ms inference, 1.2ms postprocess per image at shape (1, 3, 1120, 1984)\n"
     ]
    },
    {
     "name": "stdout",
     "output_type": "stream",
     "text": [
      "218\n",
      "219\n"
     ]
    },
    {
     "name": "stderr",
     "output_type": "stream",
     "text": [
      "\n",
      "0: 1120x1984 1 ball, 22 players, 32.3ms\n",
      "Speed: 11.6ms preprocess, 32.3ms inference, 1.2ms postprocess per image at shape (1, 3, 1120, 1984)\n",
      "\n",
      "0: 1120x1984 22 players, 32.3ms\n",
      "Speed: 11.3ms preprocess, 32.3ms inference, 1.2ms postprocess per image at shape (1, 3, 1120, 1984)\n"
     ]
    },
    {
     "name": "stdout",
     "output_type": "stream",
     "text": [
      "220\n",
      "221\n"
     ]
    },
    {
     "name": "stderr",
     "output_type": "stream",
     "text": [
      "\n",
      "0: 1120x1984 1 ball, 22 players, 32.3ms\n",
      "Speed: 11.2ms preprocess, 32.3ms inference, 1.3ms postprocess per image at shape (1, 3, 1120, 1984)\n",
      "\n",
      "0: 1120x1984 1 ball, 22 players, 32.3ms\n",
      "Speed: 11.5ms preprocess, 32.3ms inference, 1.2ms postprocess per image at shape (1, 3, 1120, 1984)\n"
     ]
    },
    {
     "name": "stdout",
     "output_type": "stream",
     "text": [
      "222\n",
      "223\n"
     ]
    },
    {
     "name": "stderr",
     "output_type": "stream",
     "text": [
      "\n",
      "0: 1120x1984 1 ball, 22 players, 32.2ms\n",
      "Speed: 11.8ms preprocess, 32.2ms inference, 1.2ms postprocess per image at shape (1, 3, 1120, 1984)\n",
      "\n",
      "0: 1120x1984 1 ball, 22 players, 32.3ms\n",
      "Speed: 11.0ms preprocess, 32.3ms inference, 1.2ms postprocess per image at shape (1, 3, 1120, 1984)\n"
     ]
    },
    {
     "name": "stdout",
     "output_type": "stream",
     "text": [
      "224\n",
      "225\n"
     ]
    },
    {
     "name": "stderr",
     "output_type": "stream",
     "text": [
      "\n",
      "0: 1120x1984 1 ball, 22 players, 32.3ms\n",
      "Speed: 12.1ms preprocess, 32.3ms inference, 1.2ms postprocess per image at shape (1, 3, 1120, 1984)\n",
      "\n",
      "0: 1120x1984 1 ball, 22 players, 32.3ms\n",
      "Speed: 11.2ms preprocess, 32.3ms inference, 1.2ms postprocess per image at shape (1, 3, 1120, 1984)\n"
     ]
    },
    {
     "name": "stdout",
     "output_type": "stream",
     "text": [
      "226\n",
      "227\n"
     ]
    },
    {
     "name": "stderr",
     "output_type": "stream",
     "text": [
      "\n",
      "0: 1120x1984 1 ball, 22 players, 32.3ms\n",
      "Speed: 11.7ms preprocess, 32.3ms inference, 1.2ms postprocess per image at shape (1, 3, 1120, 1984)\n",
      "\n",
      "0: 1120x1984 1 ball, 22 players, 32.3ms\n",
      "Speed: 11.4ms preprocess, 32.3ms inference, 1.2ms postprocess per image at shape (1, 3, 1120, 1984)\n"
     ]
    },
    {
     "name": "stdout",
     "output_type": "stream",
     "text": [
      "228\n",
      "229\n"
     ]
    },
    {
     "name": "stderr",
     "output_type": "stream",
     "text": [
      "\n",
      "0: 1120x1984 1 ball, 22 players, 32.3ms\n",
      "Speed: 11.2ms preprocess, 32.3ms inference, 1.2ms postprocess per image at shape (1, 3, 1120, 1984)\n",
      "\n",
      "0: 1120x1984 1 ball, 22 players, 32.3ms\n",
      "Speed: 11.6ms preprocess, 32.3ms inference, 1.2ms postprocess per image at shape (1, 3, 1120, 1984)\n"
     ]
    },
    {
     "name": "stdout",
     "output_type": "stream",
     "text": [
      "230\n",
      "231\n"
     ]
    },
    {
     "name": "stderr",
     "output_type": "stream",
     "text": [
      "\n",
      "0: 1120x1984 1 ball, 22 players, 32.3ms\n",
      "Speed: 11.1ms preprocess, 32.3ms inference, 1.2ms postprocess per image at shape (1, 3, 1120, 1984)\n",
      "\n",
      "0: 1120x1984 1 ball, 22 players, 32.3ms\n",
      "Speed: 11.4ms preprocess, 32.3ms inference, 1.3ms postprocess per image at shape (1, 3, 1120, 1984)\n"
     ]
    },
    {
     "name": "stdout",
     "output_type": "stream",
     "text": [
      "232\n",
      "233\n"
     ]
    },
    {
     "name": "stderr",
     "output_type": "stream",
     "text": [
      "\n",
      "0: 1120x1984 1 ball, 22 players, 32.3ms\n",
      "Speed: 11.3ms preprocess, 32.3ms inference, 1.2ms postprocess per image at shape (1, 3, 1120, 1984)\n",
      "\n",
      "0: 1120x1984 1 ball, 22 players, 32.3ms\n",
      "Speed: 11.2ms preprocess, 32.3ms inference, 1.3ms postprocess per image at shape (1, 3, 1120, 1984)\n"
     ]
    },
    {
     "name": "stdout",
     "output_type": "stream",
     "text": [
      "234\n",
      "235\n"
     ]
    },
    {
     "name": "stderr",
     "output_type": "stream",
     "text": [
      "\n",
      "0: 1120x1984 1 ball, 22 players, 32.3ms\n",
      "Speed: 11.7ms preprocess, 32.3ms inference, 1.2ms postprocess per image at shape (1, 3, 1120, 1984)\n",
      "\n",
      "0: 1120x1984 1 ball, 22 players, 32.3ms\n",
      "Speed: 11.1ms preprocess, 32.3ms inference, 1.2ms postprocess per image at shape (1, 3, 1120, 1984)\n"
     ]
    },
    {
     "name": "stdout",
     "output_type": "stream",
     "text": [
      "236\n",
      "237\n"
     ]
    },
    {
     "name": "stderr",
     "output_type": "stream",
     "text": [
      "\n",
      "0: 1120x1984 1 ball, 22 players, 32.3ms\n",
      "Speed: 11.3ms preprocess, 32.3ms inference, 1.2ms postprocess per image at shape (1, 3, 1120, 1984)\n",
      "\n",
      "0: 1120x1984 1 ball, 22 players, 32.3ms\n",
      "Speed: 11.7ms preprocess, 32.3ms inference, 1.2ms postprocess per image at shape (1, 3, 1120, 1984)\n"
     ]
    },
    {
     "name": "stdout",
     "output_type": "stream",
     "text": [
      "238\n",
      "239\n"
     ]
    },
    {
     "name": "stderr",
     "output_type": "stream",
     "text": [
      "\n",
      "0: 1120x1984 1 ball, 22 players, 32.2ms\n",
      "Speed: 11.2ms preprocess, 32.2ms inference, 1.2ms postprocess per image at shape (1, 3, 1120, 1984)\n",
      "\n",
      "0: 1120x1984 1 ball, 22 players, 32.3ms\n",
      "Speed: 12.0ms preprocess, 32.3ms inference, 1.2ms postprocess per image at shape (1, 3, 1120, 1984)\n"
     ]
    },
    {
     "name": "stdout",
     "output_type": "stream",
     "text": [
      "240\n",
      "241\n"
     ]
    },
    {
     "name": "stderr",
     "output_type": "stream",
     "text": [
      "\n",
      "0: 1120x1984 1 ball, 22 players, 32.3ms\n",
      "Speed: 12.4ms preprocess, 32.3ms inference, 1.2ms postprocess per image at shape (1, 3, 1120, 1984)\n",
      "\n",
      "0: 1120x1984 1 ball, 22 players, 32.3ms\n",
      "Speed: 12.0ms preprocess, 32.3ms inference, 1.3ms postprocess per image at shape (1, 3, 1120, 1984)\n"
     ]
    },
    {
     "name": "stdout",
     "output_type": "stream",
     "text": [
      "242\n",
      "243\n"
     ]
    },
    {
     "name": "stderr",
     "output_type": "stream",
     "text": [
      "\n",
      "0: 1120x1984 1 ball, 22 players, 32.3ms\n",
      "Speed: 11.2ms preprocess, 32.3ms inference, 1.2ms postprocess per image at shape (1, 3, 1120, 1984)\n",
      "\n",
      "0: 1120x1984 1 ball, 22 players, 32.3ms\n",
      "Speed: 11.6ms preprocess, 32.3ms inference, 1.3ms postprocess per image at shape (1, 3, 1120, 1984)\n"
     ]
    },
    {
     "name": "stdout",
     "output_type": "stream",
     "text": [
      "244\n",
      "245\n"
     ]
    },
    {
     "name": "stderr",
     "output_type": "stream",
     "text": [
      "\n",
      "0: 1120x1984 1 ball, 22 players, 32.3ms\n",
      "Speed: 11.1ms preprocess, 32.3ms inference, 1.2ms postprocess per image at shape (1, 3, 1120, 1984)\n",
      "\n",
      "0: 1120x1984 1 ball, 22 players, 32.3ms\n",
      "Speed: 11.1ms preprocess, 32.3ms inference, 1.3ms postprocess per image at shape (1, 3, 1120, 1984)\n"
     ]
    },
    {
     "name": "stdout",
     "output_type": "stream",
     "text": [
      "246\n",
      "247\n"
     ]
    },
    {
     "name": "stderr",
     "output_type": "stream",
     "text": [
      "\n",
      "0: 1120x1984 1 ball, 22 players, 32.3ms\n",
      "Speed: 12.9ms preprocess, 32.3ms inference, 1.3ms postprocess per image at shape (1, 3, 1120, 1984)\n",
      "\n",
      "0: 1120x1984 1 ball, 22 players, 32.3ms\n",
      "Speed: 11.6ms preprocess, 32.3ms inference, 1.3ms postprocess per image at shape (1, 3, 1120, 1984)\n"
     ]
    },
    {
     "name": "stdout",
     "output_type": "stream",
     "text": [
      "248\n",
      "249\n"
     ]
    },
    {
     "name": "stderr",
     "output_type": "stream",
     "text": [
      "\n",
      "0: 1120x1984 1 ball, 22 players, 32.3ms\n",
      "Speed: 11.6ms preprocess, 32.3ms inference, 1.2ms postprocess per image at shape (1, 3, 1120, 1984)\n",
      "\n",
      "0: 1120x1984 1 ball, 22 players, 32.3ms\n",
      "Speed: 12.0ms preprocess, 32.3ms inference, 1.2ms postprocess per image at shape (1, 3, 1120, 1984)\n"
     ]
    },
    {
     "name": "stdout",
     "output_type": "stream",
     "text": [
      "250\n",
      "251\n"
     ]
    },
    {
     "name": "stderr",
     "output_type": "stream",
     "text": [
      "\n",
      "0: 1120x1984 1 ball, 22 players, 32.3ms\n",
      "Speed: 11.3ms preprocess, 32.3ms inference, 1.3ms postprocess per image at shape (1, 3, 1120, 1984)\n",
      "\n",
      "0: 1120x1984 1 ball, 22 players, 32.3ms\n",
      "Speed: 12.4ms preprocess, 32.3ms inference, 1.2ms postprocess per image at shape (1, 3, 1120, 1984)\n"
     ]
    },
    {
     "name": "stdout",
     "output_type": "stream",
     "text": [
      "252\n",
      "253\n"
     ]
    },
    {
     "name": "stderr",
     "output_type": "stream",
     "text": [
      "\n",
      "0: 1120x1984 1 ball, 22 players, 32.3ms\n",
      "Speed: 11.7ms preprocess, 32.3ms inference, 1.3ms postprocess per image at shape (1, 3, 1120, 1984)\n",
      "\n",
      "0: 1120x1984 1 ball, 22 players, 32.3ms\n",
      "Speed: 12.1ms preprocess, 32.3ms inference, 1.2ms postprocess per image at shape (1, 3, 1120, 1984)\n"
     ]
    },
    {
     "name": "stdout",
     "output_type": "stream",
     "text": [
      "254\n",
      "255\n"
     ]
    },
    {
     "name": "stderr",
     "output_type": "stream",
     "text": [
      "\n",
      "0: 1120x1984 1 ball, 22 players, 32.3ms\n",
      "Speed: 12.6ms preprocess, 32.3ms inference, 1.3ms postprocess per image at shape (1, 3, 1120, 1984)\n",
      "\n",
      "0: 1120x1984 1 ball, 22 players, 32.3ms\n",
      "Speed: 11.2ms preprocess, 32.3ms inference, 1.3ms postprocess per image at shape (1, 3, 1120, 1984)\n"
     ]
    },
    {
     "name": "stdout",
     "output_type": "stream",
     "text": [
      "256\n",
      "257\n"
     ]
    },
    {
     "name": "stderr",
     "output_type": "stream",
     "text": [
      "\n",
      "0: 1120x1984 1 ball, 22 players, 32.3ms\n",
      "Speed: 11.3ms preprocess, 32.3ms inference, 1.3ms postprocess per image at shape (1, 3, 1120, 1984)\n",
      "\n",
      "0: 1120x1984 1 ball, 22 players, 32.3ms\n",
      "Speed: 11.3ms preprocess, 32.3ms inference, 1.3ms postprocess per image at shape (1, 3, 1120, 1984)\n"
     ]
    },
    {
     "name": "stdout",
     "output_type": "stream",
     "text": [
      "258\n",
      "259\n"
     ]
    },
    {
     "name": "stderr",
     "output_type": "stream",
     "text": [
      "\n",
      "0: 1120x1984 1 ball, 22 players, 32.3ms\n",
      "Speed: 12.1ms preprocess, 32.3ms inference, 1.3ms postprocess per image at shape (1, 3, 1120, 1984)\n",
      "\n",
      "0: 1120x1984 1 ball, 22 players, 32.3ms\n",
      "Speed: 11.8ms preprocess, 32.3ms inference, 1.2ms postprocess per image at shape (1, 3, 1120, 1984)\n"
     ]
    },
    {
     "name": "stdout",
     "output_type": "stream",
     "text": [
      "260\n",
      "261\n"
     ]
    },
    {
     "name": "stderr",
     "output_type": "stream",
     "text": [
      "\n",
      "0: 1120x1984 1 ball, 22 players, 32.3ms\n",
      "Speed: 12.1ms preprocess, 32.3ms inference, 1.3ms postprocess per image at shape (1, 3, 1120, 1984)\n",
      "\n",
      "0: 1120x1984 1 ball, 22 players, 32.3ms\n"
     ]
    },
    {
     "name": "stdout",
     "output_type": "stream",
     "text": [
      "262\n",
      "263\n"
     ]
    },
    {
     "name": "stderr",
     "output_type": "stream",
     "text": [
      "Speed: 12.2ms preprocess, 32.3ms inference, 1.2ms postprocess per image at shape (1, 3, 1120, 1984)\n",
      "\n",
      "0: 1120x1984 1 ball, 22 players, 32.3ms\n",
      "Speed: 12.4ms preprocess, 32.3ms inference, 1.2ms postprocess per image at shape (1, 3, 1120, 1984)\n",
      "\n",
      "0: 1120x1984 1 ball, 22 players, 32.3ms\n",
      "Speed: 12.2ms preprocess, 32.3ms inference, 1.3ms postprocess per image at shape (1, 3, 1120, 1984)\n"
     ]
    },
    {
     "name": "stdout",
     "output_type": "stream",
     "text": [
      "264\n",
      "265\n"
     ]
    },
    {
     "name": "stderr",
     "output_type": "stream",
     "text": [
      "\n",
      "0: 1120x1984 1 ball, 22 players, 32.3ms\n",
      "Speed: 12.0ms preprocess, 32.3ms inference, 1.3ms postprocess per image at shape (1, 3, 1120, 1984)\n",
      "\n",
      "0: 1120x1984 1 ball, 22 players, 32.3ms\n",
      "Speed: 11.5ms preprocess, 32.3ms inference, 1.2ms postprocess per image at shape (1, 3, 1120, 1984)\n"
     ]
    },
    {
     "name": "stdout",
     "output_type": "stream",
     "text": [
      "266\n",
      "267\n"
     ]
    },
    {
     "name": "stderr",
     "output_type": "stream",
     "text": [
      "\n",
      "0: 1120x1984 1 ball, 22 players, 32.3ms\n",
      "Speed: 12.1ms preprocess, 32.3ms inference, 1.3ms postprocess per image at shape (1, 3, 1120, 1984)\n",
      "\n",
      "0: 1120x1984 1 ball, 22 players, 32.3ms\n",
      "Speed: 12.1ms preprocess, 32.3ms inference, 1.3ms postprocess per image at shape (1, 3, 1120, 1984)\n"
     ]
    },
    {
     "name": "stdout",
     "output_type": "stream",
     "text": [
      "268\n",
      "269\n"
     ]
    },
    {
     "name": "stderr",
     "output_type": "stream",
     "text": [
      "\n",
      "0: 1120x1984 1 ball, 22 players, 32.3ms\n",
      "Speed: 11.2ms preprocess, 32.3ms inference, 1.2ms postprocess per image at shape (1, 3, 1120, 1984)\n",
      "\n",
      "0: 1120x1984 1 ball, 22 players, 32.3ms\n",
      "Speed: 11.5ms preprocess, 32.3ms inference, 1.2ms postprocess per image at shape (1, 3, 1120, 1984)\n"
     ]
    },
    {
     "name": "stdout",
     "output_type": "stream",
     "text": [
      "270\n",
      "271\n"
     ]
    },
    {
     "name": "stderr",
     "output_type": "stream",
     "text": [
      "\n",
      "0: 1120x1984 1 ball, 22 players, 32.3ms\n",
      "Speed: 12.0ms preprocess, 32.3ms inference, 1.2ms postprocess per image at shape (1, 3, 1120, 1984)\n",
      "\n",
      "0: 1120x1984 1 ball, 22 players, 32.3ms\n",
      "Speed: 12.0ms preprocess, 32.3ms inference, 1.3ms postprocess per image at shape (1, 3, 1120, 1984)\n"
     ]
    },
    {
     "name": "stdout",
     "output_type": "stream",
     "text": [
      "272\n",
      "273\n"
     ]
    },
    {
     "name": "stderr",
     "output_type": "stream",
     "text": [
      "\n",
      "0: 1120x1984 1 ball, 22 players, 32.3ms\n",
      "Speed: 11.3ms preprocess, 32.3ms inference, 1.2ms postprocess per image at shape (1, 3, 1120, 1984)\n",
      "\n",
      "0: 1120x1984 1 ball, 22 players, 32.3ms\n",
      "Speed: 11.9ms preprocess, 32.3ms inference, 1.2ms postprocess per image at shape (1, 3, 1120, 1984)\n"
     ]
    },
    {
     "name": "stdout",
     "output_type": "stream",
     "text": [
      "274\n",
      "275\n"
     ]
    },
    {
     "name": "stderr",
     "output_type": "stream",
     "text": [
      "\n",
      "0: 1120x1984 1 ball, 22 players, 32.3ms\n",
      "Speed: 12.6ms preprocess, 32.3ms inference, 1.2ms postprocess per image at shape (1, 3, 1120, 1984)\n",
      "\n",
      "0: 1120x1984 1 ball, 22 players, 32.3ms\n",
      "Speed: 11.6ms preprocess, 32.3ms inference, 1.3ms postprocess per image at shape (1, 3, 1120, 1984)\n"
     ]
    },
    {
     "name": "stdout",
     "output_type": "stream",
     "text": [
      "276\n",
      "277\n"
     ]
    },
    {
     "name": "stderr",
     "output_type": "stream",
     "text": [
      "\n",
      "0: 1120x1984 1 ball, 22 players, 32.3ms\n",
      "Speed: 11.6ms preprocess, 32.3ms inference, 1.3ms postprocess per image at shape (1, 3, 1120, 1984)\n",
      "\n",
      "0: 1120x1984 1 ball, 22 players, 32.3ms\n",
      "Speed: 12.2ms preprocess, 32.3ms inference, 1.3ms postprocess per image at shape (1, 3, 1120, 1984)\n"
     ]
    },
    {
     "name": "stdout",
     "output_type": "stream",
     "text": [
      "278\n",
      "279\n"
     ]
    },
    {
     "name": "stderr",
     "output_type": "stream",
     "text": [
      "\n",
      "0: 1120x1984 1 ball, 22 players, 32.3ms\n",
      "Speed: 11.5ms preprocess, 32.3ms inference, 1.3ms postprocess per image at shape (1, 3, 1120, 1984)\n",
      "\n",
      "0: 1120x1984 1 ball, 22 players, 32.3ms\n",
      "Speed: 12.1ms preprocess, 32.3ms inference, 1.2ms postprocess per image at shape (1, 3, 1120, 1984)\n"
     ]
    },
    {
     "name": "stdout",
     "output_type": "stream",
     "text": [
      "280\n",
      "281\n"
     ]
    },
    {
     "name": "stderr",
     "output_type": "stream",
     "text": [
      "\n",
      "0: 1120x1984 22 players, 32.3ms\n",
      "Speed: 12.0ms preprocess, 32.3ms inference, 1.2ms postprocess per image at shape (1, 3, 1120, 1984)\n",
      "\n",
      "0: 1120x1984 22 players, 32.3ms\n",
      "Speed: 11.7ms preprocess, 32.3ms inference, 1.2ms postprocess per image at shape (1, 3, 1120, 1984)\n"
     ]
    },
    {
     "name": "stdout",
     "output_type": "stream",
     "text": [
      "282\n",
      "283\n"
     ]
    },
    {
     "name": "stderr",
     "output_type": "stream",
     "text": [
      "\n",
      "0: 1120x1984 1 ball, 22 players, 32.3ms\n",
      "Speed: 13.0ms preprocess, 32.3ms inference, 1.3ms postprocess per image at shape (1, 3, 1120, 1984)\n",
      "\n",
      "0: 1120x1984 1 ball, 22 players, 32.3ms\n",
      "Speed: 12.0ms preprocess, 32.3ms inference, 1.3ms postprocess per image at shape (1, 3, 1120, 1984)\n"
     ]
    },
    {
     "name": "stdout",
     "output_type": "stream",
     "text": [
      "284\n",
      "285\n"
     ]
    },
    {
     "name": "stderr",
     "output_type": "stream",
     "text": [
      "\n",
      "0: 1120x1984 22 players, 32.3ms\n",
      "Speed: 11.0ms preprocess, 32.3ms inference, 1.2ms postprocess per image at shape (1, 3, 1120, 1984)\n",
      "\n",
      "0: 1120x1984 1 ball, 22 players, 32.3ms\n",
      "Speed: 12.1ms preprocess, 32.3ms inference, 1.2ms postprocess per image at shape (1, 3, 1120, 1984)\n"
     ]
    },
    {
     "name": "stdout",
     "output_type": "stream",
     "text": [
      "286\n",
      "287\n"
     ]
    },
    {
     "name": "stderr",
     "output_type": "stream",
     "text": [
      "\n",
      "0: 1120x1984 1 ball, 22 players, 32.3ms\n",
      "Speed: 11.6ms preprocess, 32.3ms inference, 1.2ms postprocess per image at shape (1, 3, 1120, 1984)\n",
      "\n",
      "0: 1120x1984 1 ball, 22 players, 32.3ms\n",
      "Speed: 12.0ms preprocess, 32.3ms inference, 1.2ms postprocess per image at shape (1, 3, 1120, 1984)\n"
     ]
    },
    {
     "name": "stdout",
     "output_type": "stream",
     "text": [
      "288\n",
      "289\n"
     ]
    },
    {
     "name": "stderr",
     "output_type": "stream",
     "text": [
      "\n",
      "0: 1120x1984 1 ball, 22 players, 32.3ms\n",
      "Speed: 12.1ms preprocess, 32.3ms inference, 1.3ms postprocess per image at shape (1, 3, 1120, 1984)\n",
      "\n",
      "0: 1120x1984 1 ball, 22 players, 32.3ms\n",
      "Speed: 12.5ms preprocess, 32.3ms inference, 1.3ms postprocess per image at shape (1, 3, 1120, 1984)\n"
     ]
    },
    {
     "name": "stdout",
     "output_type": "stream",
     "text": [
      "290\n",
      "291\n"
     ]
    },
    {
     "name": "stderr",
     "output_type": "stream",
     "text": [
      "\n",
      "0: 1120x1984 1 ball, 22 players, 32.3ms\n",
      "Speed: 11.4ms preprocess, 32.3ms inference, 1.2ms postprocess per image at shape (1, 3, 1120, 1984)\n",
      "\n",
      "0: 1120x1984 1 ball, 22 players, 32.3ms\n",
      "Speed: 12.2ms preprocess, 32.3ms inference, 1.2ms postprocess per image at shape (1, 3, 1120, 1984)\n"
     ]
    },
    {
     "name": "stdout",
     "output_type": "stream",
     "text": [
      "292\n",
      "293\n"
     ]
    },
    {
     "name": "stderr",
     "output_type": "stream",
     "text": [
      "\n",
      "0: 1120x1984 1 ball, 22 players, 32.3ms\n",
      "Speed: 11.9ms preprocess, 32.3ms inference, 1.3ms postprocess per image at shape (1, 3, 1120, 1984)\n",
      "\n",
      "0: 1120x1984 1 ball, 22 players, 32.3ms\n",
      "Speed: 11.6ms preprocess, 32.3ms inference, 1.2ms postprocess per image at shape (1, 3, 1120, 1984)\n"
     ]
    },
    {
     "name": "stdout",
     "output_type": "stream",
     "text": [
      "294\n",
      "295\n"
     ]
    },
    {
     "name": "stderr",
     "output_type": "stream",
     "text": [
      "\n",
      "0: 1120x1984 1 ball, 22 players, 32.3ms\n",
      "Speed: 11.8ms preprocess, 32.3ms inference, 1.3ms postprocess per image at shape (1, 3, 1120, 1984)\n",
      "\n",
      "0: 1120x1984 1 ball, 22 players, 32.3ms\n",
      "Speed: 11.7ms preprocess, 32.3ms inference, 1.2ms postprocess per image at shape (1, 3, 1120, 1984)\n"
     ]
    },
    {
     "name": "stdout",
     "output_type": "stream",
     "text": [
      "296\n",
      "297\n"
     ]
    },
    {
     "name": "stderr",
     "output_type": "stream",
     "text": [
      "\n",
      "0: 1120x1984 1 ball, 22 players, 32.3ms\n",
      "Speed: 12.0ms preprocess, 32.3ms inference, 1.3ms postprocess per image at shape (1, 3, 1120, 1984)\n",
      "\n",
      "0: 1120x1984 1 ball, 22 players, 32.3ms\n",
      "Speed: 11.9ms preprocess, 32.3ms inference, 1.3ms postprocess per image at shape (1, 3, 1120, 1984)\n"
     ]
    },
    {
     "name": "stdout",
     "output_type": "stream",
     "text": [
      "298\n",
      "299\n"
     ]
    },
    {
     "name": "stderr",
     "output_type": "stream",
     "text": [
      "\n",
      "0: 1120x1984 1 ball, 23 players, 32.3ms\n",
      "Speed: 11.2ms preprocess, 32.3ms inference, 1.3ms postprocess per image at shape (1, 3, 1120, 1984)\n",
      "\n",
      "0: 1120x1984 1 ball, 22 players, 32.3ms\n",
      "Speed: 12.0ms preprocess, 32.3ms inference, 1.3ms postprocess per image at shape (1, 3, 1120, 1984)\n"
     ]
    },
    {
     "name": "stdout",
     "output_type": "stream",
     "text": [
      "300\n",
      "301\n"
     ]
    },
    {
     "name": "stderr",
     "output_type": "stream",
     "text": [
      "\n",
      "0: 1120x1984 1 ball, 22 players, 32.3ms\n",
      "Speed: 12.1ms preprocess, 32.3ms inference, 1.3ms postprocess per image at shape (1, 3, 1120, 1984)\n",
      "\n",
      "0: 1120x1984 1 ball, 22 players, 32.3ms\n",
      "Speed: 11.9ms preprocess, 32.3ms inference, 1.3ms postprocess per image at shape (1, 3, 1120, 1984)\n"
     ]
    },
    {
     "name": "stdout",
     "output_type": "stream",
     "text": [
      "302\n",
      "303\n"
     ]
    },
    {
     "name": "stderr",
     "output_type": "stream",
     "text": [
      "\n",
      "0: 1120x1984 1 ball, 22 players, 32.3ms\n",
      "Speed: 12.1ms preprocess, 32.3ms inference, 1.3ms postprocess per image at shape (1, 3, 1120, 1984)\n",
      "\n",
      "0: 1120x1984 1 ball, 22 players, 32.3ms\n",
      "Speed: 12.6ms preprocess, 32.3ms inference, 1.2ms postprocess per image at shape (1, 3, 1120, 1984)\n"
     ]
    },
    {
     "name": "stdout",
     "output_type": "stream",
     "text": [
      "304\n",
      "305\n"
     ]
    },
    {
     "name": "stderr",
     "output_type": "stream",
     "text": [
      "\n",
      "0: 1120x1984 1 ball, 22 players, 32.3ms\n",
      "Speed: 11.5ms preprocess, 32.3ms inference, 1.2ms postprocess per image at shape (1, 3, 1120, 1984)\n",
      "\n",
      "0: 1120x1984 1 ball, 22 players, 32.3ms\n",
      "Speed: 11.7ms preprocess, 32.3ms inference, 1.2ms postprocess per image at shape (1, 3, 1120, 1984)\n"
     ]
    },
    {
     "name": "stdout",
     "output_type": "stream",
     "text": [
      "306\n",
      "307\n"
     ]
    },
    {
     "name": "stderr",
     "output_type": "stream",
     "text": [
      "\n",
      "0: 1120x1984 1 ball, 22 players, 32.3ms\n",
      "Speed: 12.0ms preprocess, 32.3ms inference, 1.2ms postprocess per image at shape (1, 3, 1120, 1984)\n",
      "\n",
      "0: 1120x1984 1 ball, 22 players, 32.3ms\n",
      "Speed: 12.2ms preprocess, 32.3ms inference, 1.2ms postprocess per image at shape (1, 3, 1120, 1984)\n"
     ]
    },
    {
     "name": "stdout",
     "output_type": "stream",
     "text": [
      "308\n",
      "309\n"
     ]
    },
    {
     "name": "stderr",
     "output_type": "stream",
     "text": [
      "\n",
      "0: 1120x1984 1 ball, 22 players, 32.3ms\n",
      "Speed: 12.0ms preprocess, 32.3ms inference, 1.3ms postprocess per image at shape (1, 3, 1120, 1984)\n",
      "\n",
      "0: 1120x1984 1 ball, 22 players, 32.3ms\n",
      "Speed: 11.3ms preprocess, 32.3ms inference, 1.2ms postprocess per image at shape (1, 3, 1120, 1984)\n"
     ]
    },
    {
     "name": "stdout",
     "output_type": "stream",
     "text": [
      "310\n",
      "311\n"
     ]
    },
    {
     "name": "stderr",
     "output_type": "stream",
     "text": [
      "\n",
      "0: 1120x1984 1 ball, 22 players, 32.3ms\n",
      "Speed: 11.9ms preprocess, 32.3ms inference, 1.2ms postprocess per image at shape (1, 3, 1120, 1984)\n",
      "\n",
      "0: 1120x1984 1 ball, 22 players, 32.3ms\n",
      "Speed: 11.9ms preprocess, 32.3ms inference, 1.2ms postprocess per image at shape (1, 3, 1120, 1984)\n"
     ]
    },
    {
     "name": "stdout",
     "output_type": "stream",
     "text": [
      "312\n",
      "313\n"
     ]
    },
    {
     "name": "stderr",
     "output_type": "stream",
     "text": [
      "\n",
      "0: 1120x1984 1 ball, 22 players, 32.3ms\n",
      "Speed: 11.9ms preprocess, 32.3ms inference, 1.2ms postprocess per image at shape (1, 3, 1120, 1984)\n",
      "\n",
      "0: 1120x1984 1 ball, 22 players, 32.3ms\n",
      "Speed: 12.1ms preprocess, 32.3ms inference, 1.2ms postprocess per image at shape (1, 3, 1120, 1984)\n"
     ]
    },
    {
     "name": "stdout",
     "output_type": "stream",
     "text": [
      "314\n",
      "315\n"
     ]
    },
    {
     "name": "stderr",
     "output_type": "stream",
     "text": [
      "\n",
      "0: 1120x1984 1 ball, 22 players, 32.3ms\n",
      "Speed: 11.7ms preprocess, 32.3ms inference, 1.2ms postprocess per image at shape (1, 3, 1120, 1984)\n",
      "\n",
      "0: 1120x1984 1 ball, 22 players, 32.3ms\n",
      "Speed: 11.3ms preprocess, 32.3ms inference, 1.2ms postprocess per image at shape (1, 3, 1120, 1984)\n"
     ]
    },
    {
     "name": "stdout",
     "output_type": "stream",
     "text": [
      "316\n",
      "317\n"
     ]
    },
    {
     "name": "stderr",
     "output_type": "stream",
     "text": [
      "\n",
      "0: 1120x1984 1 ball, 22 players, 32.3ms\n",
      "Speed: 11.9ms preprocess, 32.3ms inference, 1.3ms postprocess per image at shape (1, 3, 1120, 1984)\n",
      "\n",
      "0: 1120x1984 1 ball, 22 players, 32.3ms\n",
      "Speed: 11.4ms preprocess, 32.3ms inference, 1.2ms postprocess per image at shape (1, 3, 1120, 1984)\n"
     ]
    },
    {
     "name": "stdout",
     "output_type": "stream",
     "text": [
      "318\n",
      "319\n"
     ]
    },
    {
     "name": "stderr",
     "output_type": "stream",
     "text": [
      "\n",
      "0: 1120x1984 1 ball, 22 players, 32.3ms\n",
      "Speed: 11.6ms preprocess, 32.3ms inference, 1.2ms postprocess per image at shape (1, 3, 1120, 1984)\n",
      "\n",
      "0: 1120x1984 1 ball, 22 players, 32.3ms\n",
      "Speed: 12.2ms preprocess, 32.3ms inference, 1.2ms postprocess per image at shape (1, 3, 1120, 1984)\n"
     ]
    },
    {
     "name": "stdout",
     "output_type": "stream",
     "text": [
      "320\n",
      "321\n"
     ]
    },
    {
     "name": "stderr",
     "output_type": "stream",
     "text": [
      "\n",
      "0: 1120x1984 1 ball, 22 players, 32.3ms\n",
      "Speed: 11.5ms preprocess, 32.3ms inference, 1.2ms postprocess per image at shape (1, 3, 1120, 1984)\n",
      "\n",
      "0: 1120x1984 1 ball, 22 players, 32.3ms\n",
      "Speed: 12.1ms preprocess, 32.3ms inference, 1.2ms postprocess per image at shape (1, 3, 1120, 1984)\n"
     ]
    },
    {
     "name": "stdout",
     "output_type": "stream",
     "text": [
      "322\n",
      "323\n"
     ]
    },
    {
     "name": "stderr",
     "output_type": "stream",
     "text": [
      "\n",
      "0: 1120x1984 1 ball, 22 players, 32.3ms\n",
      "Speed: 11.7ms preprocess, 32.3ms inference, 1.2ms postprocess per image at shape (1, 3, 1120, 1984)\n",
      "\n",
      "0: 1120x1984 1 ball, 22 players, 32.3ms\n",
      "Speed: 11.8ms preprocess, 32.3ms inference, 1.2ms postprocess per image at shape (1, 3, 1120, 1984)\n"
     ]
    },
    {
     "name": "stdout",
     "output_type": "stream",
     "text": [
      "324\n",
      "325\n"
     ]
    },
    {
     "name": "stderr",
     "output_type": "stream",
     "text": [
      "\n",
      "0: 1120x1984 2 balls, 22 players, 32.3ms\n",
      "Speed: 11.7ms preprocess, 32.3ms inference, 1.2ms postprocess per image at shape (1, 3, 1120, 1984)\n",
      "\n",
      "0: 1120x1984 1 ball, 22 players, 32.3ms\n",
      "Speed: 12.1ms preprocess, 32.3ms inference, 1.2ms postprocess per image at shape (1, 3, 1120, 1984)\n"
     ]
    },
    {
     "name": "stdout",
     "output_type": "stream",
     "text": [
      "326\n",
      "327\n"
     ]
    },
    {
     "name": "stderr",
     "output_type": "stream",
     "text": [
      "\n",
      "0: 1120x1984 1 ball, 22 players, 32.3ms\n",
      "Speed: 11.3ms preprocess, 32.3ms inference, 1.2ms postprocess per image at shape (1, 3, 1120, 1984)\n",
      "\n",
      "0: 1120x1984 1 ball, 22 players, 32.3ms\n",
      "Speed: 11.0ms preprocess, 32.3ms inference, 1.2ms postprocess per image at shape (1, 3, 1120, 1984)\n"
     ]
    },
    {
     "name": "stdout",
     "output_type": "stream",
     "text": [
      "328\n",
      "329\n"
     ]
    },
    {
     "name": "stderr",
     "output_type": "stream",
     "text": [
      "\n",
      "0: 1120x1984 1 ball, 22 players, 32.3ms\n",
      "Speed: 12.1ms preprocess, 32.3ms inference, 1.2ms postprocess per image at shape (1, 3, 1120, 1984)\n",
      "\n",
      "0: 1120x1984 1 ball, 22 players, 32.3ms\n",
      "Speed: 11.5ms preprocess, 32.3ms inference, 1.2ms postprocess per image at shape (1, 3, 1120, 1984)\n"
     ]
    },
    {
     "name": "stdout",
     "output_type": "stream",
     "text": [
      "330\n",
      "331\n"
     ]
    },
    {
     "name": "stderr",
     "output_type": "stream",
     "text": [
      "\n",
      "0: 1120x1984 1 ball, 22 players, 32.3ms\n",
      "Speed: 11.2ms preprocess, 32.3ms inference, 1.2ms postprocess per image at shape (1, 3, 1120, 1984)\n",
      "\n",
      "0: 1120x1984 1 ball, 22 players, 32.3ms\n",
      "Speed: 11.8ms preprocess, 32.3ms inference, 1.3ms postprocess per image at shape (1, 3, 1120, 1984)\n"
     ]
    },
    {
     "name": "stdout",
     "output_type": "stream",
     "text": [
      "332\n",
      "333\n"
     ]
    },
    {
     "name": "stderr",
     "output_type": "stream",
     "text": [
      "\n",
      "0: 1120x1984 1 ball, 22 players, 32.3ms\n",
      "Speed: 11.7ms preprocess, 32.3ms inference, 1.2ms postprocess per image at shape (1, 3, 1120, 1984)\n",
      "\n",
      "0: 1120x1984 1 ball, 22 players, 32.3ms\n",
      "Speed: 12.0ms preprocess, 32.3ms inference, 1.2ms postprocess per image at shape (1, 3, 1120, 1984)\n"
     ]
    },
    {
     "name": "stdout",
     "output_type": "stream",
     "text": [
      "334\n",
      "335\n"
     ]
    },
    {
     "name": "stderr",
     "output_type": "stream",
     "text": [
      "\n",
      "0: 1120x1984 1 ball, 23 players, 32.3ms\n",
      "Speed: 11.5ms preprocess, 32.3ms inference, 1.2ms postprocess per image at shape (1, 3, 1120, 1984)\n",
      "\n",
      "0: 1120x1984 1 ball, 22 players, 32.3ms\n",
      "Speed: 11.3ms preprocess, 32.3ms inference, 1.2ms postprocess per image at shape (1, 3, 1120, 1984)\n"
     ]
    },
    {
     "name": "stdout",
     "output_type": "stream",
     "text": [
      "336\n",
      "337\n"
     ]
    },
    {
     "name": "stderr",
     "output_type": "stream",
     "text": [
      "\n",
      "0: 1120x1984 1 ball, 22 players, 32.3ms\n",
      "Speed: 11.2ms preprocess, 32.3ms inference, 1.2ms postprocess per image at shape (1, 3, 1120, 1984)\n",
      "\n",
      "0: 1120x1984 1 ball, 21 players, 32.3ms\n",
      "Speed: 11.0ms preprocess, 32.3ms inference, 1.2ms postprocess per image at shape (1, 3, 1120, 1984)\n"
     ]
    },
    {
     "name": "stdout",
     "output_type": "stream",
     "text": [
      "338\n",
      "339\n"
     ]
    },
    {
     "name": "stderr",
     "output_type": "stream",
     "text": [
      "\n",
      "0: 1120x1984 1 ball, 21 players, 32.3ms\n",
      "Speed: 11.5ms preprocess, 32.3ms inference, 1.2ms postprocess per image at shape (1, 3, 1120, 1984)\n",
      "\n",
      "0: 1120x1984 1 ball, 21 players, 32.2ms\n",
      "Speed: 11.3ms preprocess, 32.2ms inference, 1.2ms postprocess per image at shape (1, 3, 1120, 1984)\n"
     ]
    },
    {
     "name": "stdout",
     "output_type": "stream",
     "text": [
      "340\n",
      "341\n"
     ]
    },
    {
     "name": "stderr",
     "output_type": "stream",
     "text": [
      "\n",
      "0: 1120x1984 1 ball, 21 players, 32.2ms\n",
      "Speed: 11.1ms preprocess, 32.2ms inference, 1.2ms postprocess per image at shape (1, 3, 1120, 1984)\n",
      "\n",
      "0: 1120x1984 1 ball, 21 players, 32.3ms\n",
      "Speed: 11.3ms preprocess, 32.3ms inference, 1.2ms postprocess per image at shape (1, 3, 1120, 1984)\n"
     ]
    },
    {
     "name": "stdout",
     "output_type": "stream",
     "text": [
      "342\n",
      "343\n"
     ]
    },
    {
     "name": "stderr",
     "output_type": "stream",
     "text": [
      "\n",
      "0: 1120x1984 1 ball, 22 players, 32.3ms\n",
      "Speed: 11.2ms preprocess, 32.3ms inference, 1.2ms postprocess per image at shape (1, 3, 1120, 1984)\n",
      "\n",
      "0: 1120x1984 1 ball, 21 players, 32.3ms\n",
      "Speed: 11.6ms preprocess, 32.3ms inference, 1.2ms postprocess per image at shape (1, 3, 1120, 1984)\n"
     ]
    },
    {
     "name": "stdout",
     "output_type": "stream",
     "text": [
      "344\n",
      "345\n"
     ]
    },
    {
     "name": "stderr",
     "output_type": "stream",
     "text": [
      "\n",
      "0: 1120x1984 1 ball, 21 players, 32.3ms\n",
      "Speed: 12.7ms preprocess, 32.3ms inference, 1.2ms postprocess per image at shape (1, 3, 1120, 1984)\n",
      "\n",
      "0: 1120x1984 1 ball, 21 players, 32.3ms\n",
      "Speed: 11.6ms preprocess, 32.3ms inference, 1.2ms postprocess per image at shape (1, 3, 1120, 1984)\n"
     ]
    },
    {
     "name": "stdout",
     "output_type": "stream",
     "text": [
      "346\n",
      "347\n"
     ]
    },
    {
     "name": "stderr",
     "output_type": "stream",
     "text": [
      "\n",
      "0: 1120x1984 20 players, 32.3ms\n",
      "Speed: 12.0ms preprocess, 32.3ms inference, 1.2ms postprocess per image at shape (1, 3, 1120, 1984)\n",
      "\n",
      "0: 1120x1984 20 players, 32.3ms\n",
      "Speed: 11.3ms preprocess, 32.3ms inference, 1.2ms postprocess per image at shape (1, 3, 1120, 1984)\n"
     ]
    },
    {
     "name": "stdout",
     "output_type": "stream",
     "text": [
      "348\n",
      "349\n"
     ]
    },
    {
     "name": "stderr",
     "output_type": "stream",
     "text": [
      "\n",
      "0: 1120x1984 20 players, 32.3ms\n",
      "Speed: 11.7ms preprocess, 32.3ms inference, 1.2ms postprocess per image at shape (1, 3, 1120, 1984)\n",
      "\n",
      "0: 1120x1984 20 players, 32.3ms\n",
      "Speed: 11.3ms preprocess, 32.3ms inference, 1.2ms postprocess per image at shape (1, 3, 1120, 1984)\n"
     ]
    },
    {
     "name": "stdout",
     "output_type": "stream",
     "text": [
      "350\n",
      "351\n"
     ]
    },
    {
     "name": "stderr",
     "output_type": "stream",
     "text": [
      "\n",
      "0: 1120x1984 1 ball, 19 players, 32.3ms\n",
      "Speed: 11.2ms preprocess, 32.3ms inference, 1.2ms postprocess per image at shape (1, 3, 1120, 1984)\n",
      "\n",
      "0: 1120x1984 1 ball, 20 players, 32.3ms\n",
      "Speed: 11.2ms preprocess, 32.3ms inference, 1.2ms postprocess per image at shape (1, 3, 1120, 1984)\n"
     ]
    },
    {
     "name": "stdout",
     "output_type": "stream",
     "text": [
      "352\n",
      "353\n"
     ]
    },
    {
     "name": "stderr",
     "output_type": "stream",
     "text": [
      "\n",
      "0: 1120x1984 1 ball, 20 players, 32.3ms\n",
      "Speed: 11.3ms preprocess, 32.3ms inference, 1.2ms postprocess per image at shape (1, 3, 1120, 1984)\n",
      "\n",
      "0: 1120x1984 1 ball, 20 players, 32.3ms\n",
      "Speed: 11.3ms preprocess, 32.3ms inference, 1.3ms postprocess per image at shape (1, 3, 1120, 1984)\n"
     ]
    },
    {
     "name": "stdout",
     "output_type": "stream",
     "text": [
      "354\n",
      "355\n"
     ]
    },
    {
     "name": "stderr",
     "output_type": "stream",
     "text": [
      "\n",
      "0: 1120x1984 1 ball, 20 players, 32.3ms\n",
      "Speed: 11.2ms preprocess, 32.3ms inference, 1.2ms postprocess per image at shape (1, 3, 1120, 1984)\n",
      "\n",
      "0: 1120x1984 1 ball, 20 players, 32.3ms\n",
      "Speed: 11.3ms preprocess, 32.3ms inference, 1.2ms postprocess per image at shape (1, 3, 1120, 1984)\n"
     ]
    },
    {
     "name": "stdout",
     "output_type": "stream",
     "text": [
      "356\n",
      "357\n"
     ]
    },
    {
     "name": "stderr",
     "output_type": "stream",
     "text": [
      "\n",
      "0: 1120x1984 1 ball, 20 players, 32.3ms\n",
      "Speed: 11.8ms preprocess, 32.3ms inference, 1.2ms postprocess per image at shape (1, 3, 1120, 1984)\n",
      "\n",
      "0: 1120x1984 1 ball, 20 players, 32.3ms\n",
      "Speed: 11.3ms preprocess, 32.3ms inference, 1.2ms postprocess per image at shape (1, 3, 1120, 1984)\n"
     ]
    },
    {
     "name": "stdout",
     "output_type": "stream",
     "text": [
      "358\n",
      "359\n"
     ]
    },
    {
     "name": "stderr",
     "output_type": "stream",
     "text": [
      "\n",
      "0: 1120x1984 1 ball, 20 players, 32.3ms\n",
      "Speed: 11.3ms preprocess, 32.3ms inference, 1.3ms postprocess per image at shape (1, 3, 1120, 1984)\n",
      "\n",
      "0: 1120x1984 20 players, 32.3ms\n",
      "Speed: 11.9ms preprocess, 32.3ms inference, 1.3ms postprocess per image at shape (1, 3, 1120, 1984)\n"
     ]
    },
    {
     "name": "stdout",
     "output_type": "stream",
     "text": [
      "360\n",
      "361\n"
     ]
    },
    {
     "name": "stderr",
     "output_type": "stream",
     "text": [
      "\n",
      "0: 1120x1984 1 ball, 20 players, 32.3ms\n",
      "Speed: 12.2ms preprocess, 32.3ms inference, 1.3ms postprocess per image at shape (1, 3, 1120, 1984)\n",
      "\n",
      "0: 1120x1984 1 ball, 19 players, 32.3ms\n",
      "Speed: 12.3ms preprocess, 32.3ms inference, 1.3ms postprocess per image at shape (1, 3, 1120, 1984)\n"
     ]
    },
    {
     "name": "stdout",
     "output_type": "stream",
     "text": [
      "362\n",
      "363\n"
     ]
    },
    {
     "name": "stderr",
     "output_type": "stream",
     "text": [
      "\n",
      "0: 1120x1984 2 balls, 20 players, 32.3ms\n",
      "Speed: 12.2ms preprocess, 32.3ms inference, 1.2ms postprocess per image at shape (1, 3, 1120, 1984)\n",
      "\n",
      "0: 1120x1984 2 balls, 20 players, 32.3ms\n",
      "Speed: 11.5ms preprocess, 32.3ms inference, 1.2ms postprocess per image at shape (1, 3, 1120, 1984)\n"
     ]
    },
    {
     "name": "stdout",
     "output_type": "stream",
     "text": [
      "364\n",
      "365\n"
     ]
    },
    {
     "name": "stderr",
     "output_type": "stream",
     "text": [
      "\n",
      "0: 1120x1984 1 ball, 21 players, 32.3ms\n",
      "Speed: 11.7ms preprocess, 32.3ms inference, 1.2ms postprocess per image at shape (1, 3, 1120, 1984)\n",
      "\n",
      "0: 1120x1984 19 players, 32.3ms\n",
      "Speed: 11.9ms preprocess, 32.3ms inference, 1.3ms postprocess per image at shape (1, 3, 1120, 1984)\n"
     ]
    },
    {
     "name": "stdout",
     "output_type": "stream",
     "text": [
      "366\n",
      "367\n"
     ]
    },
    {
     "name": "stderr",
     "output_type": "stream",
     "text": [
      "\n",
      "0: 1120x1984 19 players, 32.3ms\n",
      "Speed: 12.1ms preprocess, 32.3ms inference, 1.3ms postprocess per image at shape (1, 3, 1120, 1984)\n",
      "\n",
      "0: 1120x1984 19 players, 32.3ms\n",
      "Speed: 11.6ms preprocess, 32.3ms inference, 1.2ms postprocess per image at shape (1, 3, 1120, 1984)\n"
     ]
    },
    {
     "name": "stdout",
     "output_type": "stream",
     "text": [
      "368\n",
      "369\n"
     ]
    },
    {
     "name": "stderr",
     "output_type": "stream",
     "text": [
      "\n",
      "0: 1120x1984 19 players, 32.3ms\n",
      "Speed: 12.2ms preprocess, 32.3ms inference, 1.2ms postprocess per image at shape (1, 3, 1120, 1984)\n",
      "\n",
      "0: 1120x1984 19 players, 32.3ms\n",
      "Speed: 12.1ms preprocess, 32.3ms inference, 1.2ms postprocess per image at shape (1, 3, 1120, 1984)\n"
     ]
    },
    {
     "name": "stdout",
     "output_type": "stream",
     "text": [
      "370\n",
      "371\n"
     ]
    },
    {
     "name": "stderr",
     "output_type": "stream",
     "text": [
      "\n",
      "0: 1120x1984 19 players, 32.2ms\n",
      "Speed: 11.1ms preprocess, 32.2ms inference, 1.2ms postprocess per image at shape (1, 3, 1120, 1984)\n",
      "\n",
      "0: 1120x1984 19 players, 32.3ms\n",
      "Speed: 12.2ms preprocess, 32.3ms inference, 1.2ms postprocess per image at shape (1, 3, 1120, 1984)\n"
     ]
    },
    {
     "name": "stdout",
     "output_type": "stream",
     "text": [
      "372\n",
      "373\n"
     ]
    },
    {
     "name": "stderr",
     "output_type": "stream",
     "text": [
      "\n",
      "0: 1120x1984 19 players, 32.3ms\n",
      "Speed: 12.1ms preprocess, 32.3ms inference, 1.2ms postprocess per image at shape (1, 3, 1120, 1984)\n",
      "\n",
      "0: 1120x1984 19 players, 32.3ms\n",
      "Speed: 11.9ms preprocess, 32.3ms inference, 1.2ms postprocess per image at shape (1, 3, 1120, 1984)\n"
     ]
    },
    {
     "name": "stdout",
     "output_type": "stream",
     "text": [
      "374\n",
      "375\n"
     ]
    },
    {
     "name": "stderr",
     "output_type": "stream",
     "text": [
      "\n",
      "0: 1120x1984 19 players, 32.3ms\n",
      "Speed: 12.2ms preprocess, 32.3ms inference, 1.2ms postprocess per image at shape (1, 3, 1120, 1984)\n",
      "\n",
      "0: 1120x1984 19 players, 32.3ms\n",
      "Speed: 11.3ms preprocess, 32.3ms inference, 1.2ms postprocess per image at shape (1, 3, 1120, 1984)\n"
     ]
    },
    {
     "name": "stdout",
     "output_type": "stream",
     "text": [
      "376\n",
      "377\n"
     ]
    },
    {
     "name": "stderr",
     "output_type": "stream",
     "text": [
      "\n",
      "0: 1120x1984 19 players, 32.3ms\n",
      "Speed: 11.7ms preprocess, 32.3ms inference, 1.2ms postprocess per image at shape (1, 3, 1120, 1984)\n",
      "\n",
      "0: 1120x1984 19 players, 32.3ms\n",
      "Speed: 12.0ms preprocess, 32.3ms inference, 1.3ms postprocess per image at shape (1, 3, 1120, 1984)\n"
     ]
    },
    {
     "name": "stdout",
     "output_type": "stream",
     "text": [
      "378\n",
      "379\n"
     ]
    },
    {
     "name": "stderr",
     "output_type": "stream",
     "text": [
      "\n",
      "0: 1120x1984 19 players, 32.3ms\n",
      "Speed: 12.3ms preprocess, 32.3ms inference, 1.2ms postprocess per image at shape (1, 3, 1120, 1984)\n",
      "\n",
      "0: 1120x1984 19 players, 32.3ms\n",
      "Speed: 12.0ms preprocess, 32.3ms inference, 1.3ms postprocess per image at shape (1, 3, 1120, 1984)\n"
     ]
    },
    {
     "name": "stdout",
     "output_type": "stream",
     "text": [
      "380\n",
      "381\n"
     ]
    },
    {
     "name": "stderr",
     "output_type": "stream",
     "text": [
      "\n",
      "0: 1120x1984 19 players, 32.3ms\n",
      "Speed: 12.2ms preprocess, 32.3ms inference, 1.3ms postprocess per image at shape (1, 3, 1120, 1984)\n",
      "\n",
      "0: 1120x1984 19 players, 32.3ms\n",
      "Speed: 11.9ms preprocess, 32.3ms inference, 1.2ms postprocess per image at shape (1, 3, 1120, 1984)\n"
     ]
    },
    {
     "name": "stdout",
     "output_type": "stream",
     "text": [
      "382\n",
      "383\n"
     ]
    },
    {
     "name": "stderr",
     "output_type": "stream",
     "text": [
      "\n",
      "0: 1120x1984 19 players, 32.3ms\n",
      "Speed: 12.0ms preprocess, 32.3ms inference, 1.2ms postprocess per image at shape (1, 3, 1120, 1984)\n",
      "\n",
      "0: 1120x1984 19 players, 32.3ms\n",
      "Speed: 12.1ms preprocess, 32.3ms inference, 1.2ms postprocess per image at shape (1, 3, 1120, 1984)\n"
     ]
    },
    {
     "name": "stdout",
     "output_type": "stream",
     "text": [
      "384\n",
      "385\n"
     ]
    },
    {
     "name": "stderr",
     "output_type": "stream",
     "text": [
      "\n",
      "0: 1120x1984 19 players, 32.3ms\n",
      "Speed: 12.0ms preprocess, 32.3ms inference, 1.3ms postprocess per image at shape (1, 3, 1120, 1984)\n",
      "\n",
      "0: 1120x1984 19 players, 32.3ms\n",
      "Speed: 12.3ms preprocess, 32.3ms inference, 1.3ms postprocess per image at shape (1, 3, 1120, 1984)\n"
     ]
    },
    {
     "name": "stdout",
     "output_type": "stream",
     "text": [
      "386\n",
      "387\n"
     ]
    },
    {
     "name": "stderr",
     "output_type": "stream",
     "text": [
      "\n",
      "0: 1120x1984 19 players, 32.3ms\n",
      "Speed: 12.2ms preprocess, 32.3ms inference, 1.2ms postprocess per image at shape (1, 3, 1120, 1984)\n",
      "\n",
      "0: 1120x1984 19 players, 32.3ms\n",
      "Speed: 12.2ms preprocess, 32.3ms inference, 1.3ms postprocess per image at shape (1, 3, 1120, 1984)\n"
     ]
    },
    {
     "name": "stdout",
     "output_type": "stream",
     "text": [
      "388\n",
      "389\n"
     ]
    },
    {
     "name": "stderr",
     "output_type": "stream",
     "text": [
      "\n",
      "0: 1120x1984 19 players, 32.3ms\n",
      "Speed: 12.1ms preprocess, 32.3ms inference, 1.2ms postprocess per image at shape (1, 3, 1120, 1984)\n",
      "\n",
      "0: 1120x1984 19 players, 32.3ms\n",
      "Speed: 11.9ms preprocess, 32.3ms inference, 1.3ms postprocess per image at shape (1, 3, 1120, 1984)\n"
     ]
    },
    {
     "name": "stdout",
     "output_type": "stream",
     "text": [
      "390\n",
      "391\n"
     ]
    },
    {
     "name": "stderr",
     "output_type": "stream",
     "text": [
      "\n",
      "0: 1120x1984 19 players, 32.3ms\n",
      "Speed: 12.9ms preprocess, 32.3ms inference, 1.3ms postprocess per image at shape (1, 3, 1120, 1984)\n",
      "\n",
      "0: 1120x1984 20 players, 32.3ms\n",
      "Speed: 11.0ms preprocess, 32.3ms inference, 1.3ms postprocess per image at shape (1, 3, 1120, 1984)\n"
     ]
    },
    {
     "name": "stdout",
     "output_type": "stream",
     "text": [
      "392\n",
      "393\n"
     ]
    },
    {
     "name": "stderr",
     "output_type": "stream",
     "text": [
      "\n",
      "0: 1120x1984 20 players, 32.3ms\n",
      "Speed: 12.3ms preprocess, 32.3ms inference, 1.3ms postprocess per image at shape (1, 3, 1120, 1984)\n",
      "\n",
      "0: 1120x1984 20 players, 32.3ms\n",
      "Speed: 11.9ms preprocess, 32.3ms inference, 1.3ms postprocess per image at shape (1, 3, 1120, 1984)\n"
     ]
    },
    {
     "name": "stdout",
     "output_type": "stream",
     "text": [
      "394\n",
      "395\n"
     ]
    },
    {
     "name": "stderr",
     "output_type": "stream",
     "text": [
      "\n",
      "0: 1120x1984 20 players, 32.3ms\n",
      "Speed: 11.1ms preprocess, 32.3ms inference, 1.3ms postprocess per image at shape (1, 3, 1120, 1984)\n",
      "\n",
      "0: 1120x1984 20 players, 32.3ms\n",
      "Speed: 12.2ms preprocess, 32.3ms inference, 1.3ms postprocess per image at shape (1, 3, 1120, 1984)\n"
     ]
    },
    {
     "name": "stdout",
     "output_type": "stream",
     "text": [
      "396\n",
      "397\n"
     ]
    },
    {
     "name": "stderr",
     "output_type": "stream",
     "text": [
      "\n",
      "0: 1120x1984 20 players, 32.2ms\n",
      "Speed: 10.9ms preprocess, 32.2ms inference, 1.3ms postprocess per image at shape (1, 3, 1120, 1984)\n",
      "\n",
      "0: 1120x1984 20 players, 32.3ms\n",
      "Speed: 11.8ms preprocess, 32.3ms inference, 1.3ms postprocess per image at shape (1, 3, 1120, 1984)\n"
     ]
    },
    {
     "name": "stdout",
     "output_type": "stream",
     "text": [
      "398\n",
      "399\n"
     ]
    },
    {
     "name": "stderr",
     "output_type": "stream",
     "text": [
      "\n",
      "0: 1120x1984 1 ball, 20 players, 32.3ms\n",
      "Speed: 12.0ms preprocess, 32.3ms inference, 1.3ms postprocess per image at shape (1, 3, 1120, 1984)\n",
      "\n",
      "0: 1120x1984 1 ball, 20 players, 32.3ms\n",
      "Speed: 12.1ms preprocess, 32.3ms inference, 1.2ms postprocess per image at shape (1, 3, 1120, 1984)\n"
     ]
    },
    {
     "name": "stdout",
     "output_type": "stream",
     "text": [
      "400\n",
      "401\n"
     ]
    },
    {
     "name": "stderr",
     "output_type": "stream",
     "text": [
      "\n",
      "0: 1120x1984 1 ball, 21 players, 32.3ms\n",
      "Speed: 11.8ms preprocess, 32.3ms inference, 1.3ms postprocess per image at shape (1, 3, 1120, 1984)\n",
      "\n",
      "0: 1120x1984 1 ball, 21 players, 32.3ms\n",
      "Speed: 11.8ms preprocess, 32.3ms inference, 1.3ms postprocess per image at shape (1, 3, 1120, 1984)\n"
     ]
    },
    {
     "name": "stdout",
     "output_type": "stream",
     "text": [
      "402\n",
      "403\n"
     ]
    },
    {
     "name": "stderr",
     "output_type": "stream",
     "text": [
      "\n",
      "0: 1120x1984 1 ball, 21 players, 32.3ms\n",
      "Speed: 11.2ms preprocess, 32.3ms inference, 1.3ms postprocess per image at shape (1, 3, 1120, 1984)\n",
      "\n",
      "0: 1120x1984 1 ball, 22 players, 32.3ms\n",
      "Speed: 11.8ms preprocess, 32.3ms inference, 1.3ms postprocess per image at shape (1, 3, 1120, 1984)\n"
     ]
    },
    {
     "name": "stdout",
     "output_type": "stream",
     "text": [
      "404\n",
      "405\n"
     ]
    },
    {
     "name": "stderr",
     "output_type": "stream",
     "text": [
      "\n",
      "0: 1120x1984 1 ball, 21 players, 32.2ms\n",
      "Speed: 11.1ms preprocess, 32.2ms inference, 1.2ms postprocess per image at shape (1, 3, 1120, 1984)\n",
      "\n",
      "0: 1120x1984 1 ball, 21 players, 32.3ms\n",
      "Speed: 12.1ms preprocess, 32.3ms inference, 1.2ms postprocess per image at shape (1, 3, 1120, 1984)\n"
     ]
    },
    {
     "name": "stdout",
     "output_type": "stream",
     "text": [
      "406\n",
      "407\n"
     ]
    },
    {
     "name": "stderr",
     "output_type": "stream",
     "text": [
      "\n",
      "0: 1120x1984 2 balls, 21 players, 32.3ms\n",
      "Speed: 12.1ms preprocess, 32.3ms inference, 1.3ms postprocess per image at shape (1, 3, 1120, 1984)\n",
      "\n",
      "0: 1120x1984 2 balls, 21 players, 32.3ms\n",
      "Speed: 12.1ms preprocess, 32.3ms inference, 1.2ms postprocess per image at shape (1, 3, 1120, 1984)\n"
     ]
    },
    {
     "name": "stdout",
     "output_type": "stream",
     "text": [
      "408\n",
      "409\n"
     ]
    },
    {
     "name": "stderr",
     "output_type": "stream",
     "text": [
      "\n",
      "0: 1120x1984 1 ball, 22 players, 32.3ms\n",
      "Speed: 11.5ms preprocess, 32.3ms inference, 1.3ms postprocess per image at shape (1, 3, 1120, 1984)\n",
      "\n",
      "0: 1120x1984 3 balls, 22 players, 32.3ms\n",
      "Speed: 11.2ms preprocess, 32.3ms inference, 1.3ms postprocess per image at shape (1, 3, 1120, 1984)\n"
     ]
    },
    {
     "name": "stdout",
     "output_type": "stream",
     "text": [
      "410\n",
      "411\n"
     ]
    },
    {
     "name": "stderr",
     "output_type": "stream",
     "text": [
      "\n",
      "0: 1120x1984 1 ball, 22 players, 32.3ms\n",
      "Speed: 12.1ms preprocess, 32.3ms inference, 1.3ms postprocess per image at shape (1, 3, 1120, 1984)\n",
      "\n",
      "0: 1120x1984 1 ball, 22 players, 32.3ms\n",
      "Speed: 11.9ms preprocess, 32.3ms inference, 1.4ms postprocess per image at shape (1, 3, 1120, 1984)\n"
     ]
    },
    {
     "name": "stdout",
     "output_type": "stream",
     "text": [
      "412\n",
      "413\n"
     ]
    },
    {
     "name": "stderr",
     "output_type": "stream",
     "text": [
      "\n",
      "0: 1120x1984 1 ball, 22 players, 32.3ms\n",
      "Speed: 11.4ms preprocess, 32.3ms inference, 1.3ms postprocess per image at shape (1, 3, 1120, 1984)\n",
      "\n",
      "0: 1120x1984 1 ball, 22 players, 32.3ms\n",
      "Speed: 11.9ms preprocess, 32.3ms inference, 1.2ms postprocess per image at shape (1, 3, 1120, 1984)\n"
     ]
    },
    {
     "name": "stdout",
     "output_type": "stream",
     "text": [
      "414\n",
      "415\n"
     ]
    },
    {
     "name": "stderr",
     "output_type": "stream",
     "text": [
      "\n",
      "0: 1120x1984 1 ball, 22 players, 32.3ms\n",
      "Speed: 11.6ms preprocess, 32.3ms inference, 1.3ms postprocess per image at shape (1, 3, 1120, 1984)\n",
      "\n",
      "0: 1120x1984 1 ball, 22 players, 32.3ms\n",
      "Speed: 12.0ms preprocess, 32.3ms inference, 1.2ms postprocess per image at shape (1, 3, 1120, 1984)\n"
     ]
    },
    {
     "name": "stdout",
     "output_type": "stream",
     "text": [
      "416\n",
      "417\n"
     ]
    },
    {
     "name": "stderr",
     "output_type": "stream",
     "text": [
      "\n",
      "0: 1120x1984 1 ball, 22 players, 32.3ms\n",
      "Speed: 12.1ms preprocess, 32.3ms inference, 1.3ms postprocess per image at shape (1, 3, 1120, 1984)\n",
      "\n",
      "0: 1120x1984 1 ball, 22 players, 32.3ms\n",
      "Speed: 10.9ms preprocess, 32.3ms inference, 1.3ms postprocess per image at shape (1, 3, 1120, 1984)\n"
     ]
    },
    {
     "name": "stdout",
     "output_type": "stream",
     "text": [
      "418\n",
      "419\n"
     ]
    },
    {
     "name": "stderr",
     "output_type": "stream",
     "text": [
      "\n",
      "0: 1120x1984 1 ball, 22 players, 32.3ms\n",
      "Speed: 11.9ms preprocess, 32.3ms inference, 1.3ms postprocess per image at shape (1, 3, 1120, 1984)\n",
      "\n",
      "0: 1120x1984 1 ball, 22 players, 32.3ms\n",
      "Speed: 11.5ms preprocess, 32.3ms inference, 1.3ms postprocess per image at shape (1, 3, 1120, 1984)\n"
     ]
    },
    {
     "name": "stdout",
     "output_type": "stream",
     "text": [
      "420\n",
      "421\n"
     ]
    },
    {
     "name": "stderr",
     "output_type": "stream",
     "text": [
      "\n",
      "0: 1120x1984 1 ball, 23 players, 32.3ms\n",
      "Speed: 11.5ms preprocess, 32.3ms inference, 1.3ms postprocess per image at shape (1, 3, 1120, 1984)\n",
      "\n",
      "0: 1120x1984 1 ball, 23 players, 32.3ms\n",
      "Speed: 11.2ms preprocess, 32.3ms inference, 1.2ms postprocess per image at shape (1, 3, 1120, 1984)\n"
     ]
    },
    {
     "name": "stdout",
     "output_type": "stream",
     "text": [
      "422\n",
      "423\n"
     ]
    },
    {
     "name": "stderr",
     "output_type": "stream",
     "text": [
      "\n",
      "0: 1120x1984 23 players, 32.3ms\n",
      "Speed: 11.4ms preprocess, 32.3ms inference, 1.2ms postprocess per image at shape (1, 3, 1120, 1984)\n",
      "\n",
      "0: 1120x1984 23 players, 32.3ms\n",
      "Speed: 12.1ms preprocess, 32.3ms inference, 1.3ms postprocess per image at shape (1, 3, 1120, 1984)\n"
     ]
    },
    {
     "name": "stdout",
     "output_type": "stream",
     "text": [
      "424\n",
      "425\n"
     ]
    },
    {
     "name": "stderr",
     "output_type": "stream",
     "text": [
      "\n",
      "0: 1120x1984 23 players, 32.3ms\n",
      "Speed: 12.0ms preprocess, 32.3ms inference, 1.2ms postprocess per image at shape (1, 3, 1120, 1984)\n",
      "\n",
      "0: 1120x1984 23 players, 32.3ms\n",
      "Speed: 11.1ms preprocess, 32.3ms inference, 1.2ms postprocess per image at shape (1, 3, 1120, 1984)\n"
     ]
    },
    {
     "name": "stdout",
     "output_type": "stream",
     "text": [
      "426\n",
      "427\n"
     ]
    },
    {
     "name": "stderr",
     "output_type": "stream",
     "text": [
      "\n",
      "0: 1120x1984 1 ball, 23 players, 32.3ms\n",
      "Speed: 12.3ms preprocess, 32.3ms inference, 1.2ms postprocess per image at shape (1, 3, 1120, 1984)\n",
      "\n",
      "0: 1120x1984 1 ball, 23 players, 32.3ms\n",
      "Speed: 11.8ms preprocess, 32.3ms inference, 1.2ms postprocess per image at shape (1, 3, 1120, 1984)\n"
     ]
    },
    {
     "name": "stdout",
     "output_type": "stream",
     "text": [
      "428\n",
      "429\n"
     ]
    },
    {
     "name": "stderr",
     "output_type": "stream",
     "text": [
      "\n",
      "0: 1120x1984 1 ball, 23 players, 32.3ms\n",
      "Speed: 11.5ms preprocess, 32.3ms inference, 1.2ms postprocess per image at shape (1, 3, 1120, 1984)\n",
      "\n",
      "0: 1120x1984 23 players, 32.3ms\n",
      "Speed: 12.2ms preprocess, 32.3ms inference, 1.2ms postprocess per image at shape (1, 3, 1120, 1984)\n"
     ]
    },
    {
     "name": "stdout",
     "output_type": "stream",
     "text": [
      "430\n",
      "431\n"
     ]
    },
    {
     "name": "stderr",
     "output_type": "stream",
     "text": [
      "\n",
      "0: 1120x1984 1 ball, 23 players, 32.3ms\n",
      "Speed: 11.4ms preprocess, 32.3ms inference, 1.2ms postprocess per image at shape (1, 3, 1120, 1984)\n",
      "\n",
      "0: 1120x1984 23 players, 32.3ms\n",
      "Speed: 11.0ms preprocess, 32.3ms inference, 1.2ms postprocess per image at shape (1, 3, 1120, 1984)\n"
     ]
    },
    {
     "name": "stdout",
     "output_type": "stream",
     "text": [
      "432\n",
      "433\n"
     ]
    },
    {
     "name": "stderr",
     "output_type": "stream",
     "text": [
      "\n",
      "0: 1120x1984 1 ball, 23 players, 32.3ms\n",
      "Speed: 11.2ms preprocess, 32.3ms inference, 1.3ms postprocess per image at shape (1, 3, 1120, 1984)\n",
      "\n",
      "0: 1120x1984 1 ball, 24 players, 32.3ms\n",
      "Speed: 11.3ms preprocess, 32.3ms inference, 1.2ms postprocess per image at shape (1, 3, 1120, 1984)\n"
     ]
    },
    {
     "name": "stdout",
     "output_type": "stream",
     "text": [
      "434\n",
      "435\n"
     ]
    },
    {
     "name": "stderr",
     "output_type": "stream",
     "text": [
      "\n",
      "0: 1120x1984 1 ball, 24 players, 32.3ms\n",
      "Speed: 11.0ms preprocess, 32.3ms inference, 1.2ms postprocess per image at shape (1, 3, 1120, 1984)\n",
      "\n",
      "0: 1120x1984 1 ball, 23 players, 32.3ms\n",
      "Speed: 11.3ms preprocess, 32.3ms inference, 1.3ms postprocess per image at shape (1, 3, 1120, 1984)\n"
     ]
    },
    {
     "name": "stdout",
     "output_type": "stream",
     "text": [
      "436\n",
      "437\n"
     ]
    },
    {
     "name": "stderr",
     "output_type": "stream",
     "text": [
      "\n",
      "0: 1120x1984 1 ball, 23 players, 32.3ms\n",
      "Speed: 11.7ms preprocess, 32.3ms inference, 1.2ms postprocess per image at shape (1, 3, 1120, 1984)\n",
      "\n",
      "0: 1120x1984 1 ball, 23 players, 32.3ms\n",
      "Speed: 11.4ms preprocess, 32.3ms inference, 1.2ms postprocess per image at shape (1, 3, 1120, 1984)\n"
     ]
    },
    {
     "name": "stdout",
     "output_type": "stream",
     "text": [
      "438\n",
      "439\n"
     ]
    },
    {
     "name": "stderr",
     "output_type": "stream",
     "text": [
      "\n",
      "0: 1120x1984 2 balls, 23 players, 32.3ms\n",
      "Speed: 11.2ms preprocess, 32.3ms inference, 1.2ms postprocess per image at shape (1, 3, 1120, 1984)\n"
     ]
    },
    {
     "name": "stdout",
     "output_type": "stream",
     "text": [
      "440\n",
      "441\n"
     ]
    },
    {
     "name": "stderr",
     "output_type": "stream",
     "text": [
      "\n",
      "0: 1120x1984 2 balls, 23 players, 185.6ms\n",
      "Speed: 104.7ms preprocess, 185.6ms inference, 107.3ms postprocess per image at shape (1, 3, 1120, 1984)\n",
      "\n",
      "0: 1120x1984 2 balls, 23 players, 32.3ms\n",
      "Speed: 11.2ms preprocess, 32.3ms inference, 1.2ms postprocess per image at shape (1, 3, 1120, 1984)\n",
      "\n",
      "0: 1120x1984 2 balls, 23 players, 32.3ms\n",
      "Speed: 11.3ms preprocess, 32.3ms inference, 1.2ms postprocess per image at shape (1, 3, 1120, 1984)\n"
     ]
    },
    {
     "name": "stdout",
     "output_type": "stream",
     "text": [
      "442\n",
      "443\n"
     ]
    },
    {
     "name": "stderr",
     "output_type": "stream",
     "text": [
      "\n",
      "0: 1120x1984 1 ball, 23 players, 32.3ms\n",
      "Speed: 11.2ms preprocess, 32.3ms inference, 1.3ms postprocess per image at shape (1, 3, 1120, 1984)\n",
      "\n",
      "0: 1120x1984 1 ball, 23 players, 32.3ms\n",
      "Speed: 11.3ms preprocess, 32.3ms inference, 1.2ms postprocess per image at shape (1, 3, 1120, 1984)\n"
     ]
    },
    {
     "name": "stdout",
     "output_type": "stream",
     "text": [
      "444\n",
      "445\n"
     ]
    },
    {
     "name": "stderr",
     "output_type": "stream",
     "text": [
      "\n",
      "0: 1120x1984 1 ball, 23 players, 32.3ms\n",
      "Speed: 11.3ms preprocess, 32.3ms inference, 1.2ms postprocess per image at shape (1, 3, 1120, 1984)\n",
      "\n",
      "0: 1120x1984 1 ball, 23 players, 32.3ms\n",
      "Speed: 11.2ms preprocess, 32.3ms inference, 1.2ms postprocess per image at shape (1, 3, 1120, 1984)\n"
     ]
    },
    {
     "name": "stdout",
     "output_type": "stream",
     "text": [
      "446\n",
      "447\n"
     ]
    },
    {
     "name": "stderr",
     "output_type": "stream",
     "text": [
      "\n",
      "0: 1120x1984 1 ball, 23 players, 32.3ms\n",
      "Speed: 11.7ms preprocess, 32.3ms inference, 1.2ms postprocess per image at shape (1, 3, 1120, 1984)\n",
      "\n",
      "0: 1120x1984 1 ball, 23 players, 32.3ms\n",
      "Speed: 11.3ms preprocess, 32.3ms inference, 1.2ms postprocess per image at shape (1, 3, 1120, 1984)\n"
     ]
    },
    {
     "name": "stdout",
     "output_type": "stream",
     "text": [
      "448\n",
      "449\n"
     ]
    },
    {
     "name": "stderr",
     "output_type": "stream",
     "text": [
      "\n",
      "0: 1120x1984 1 ball, 24 players, 32.3ms\n",
      "Speed: 11.0ms preprocess, 32.3ms inference, 1.2ms postprocess per image at shape (1, 3, 1120, 1984)\n",
      "\n",
      "0: 1120x1984 1 ball, 22 players, 32.3ms\n",
      "Speed: 11.5ms preprocess, 32.3ms inference, 1.3ms postprocess per image at shape (1, 3, 1120, 1984)\n"
     ]
    },
    {
     "name": "stdout",
     "output_type": "stream",
     "text": [
      "450\n",
      "451\n"
     ]
    },
    {
     "name": "stderr",
     "output_type": "stream",
     "text": [
      "\n",
      "0: 1120x1984 1 ball, 22 players, 32.2ms\n",
      "Speed: 11.2ms preprocess, 32.2ms inference, 1.2ms postprocess per image at shape (1, 3, 1120, 1984)\n",
      "\n",
      "0: 1120x1984 1 ball, 23 players, 32.3ms\n",
      "Speed: 11.3ms preprocess, 32.3ms inference, 1.2ms postprocess per image at shape (1, 3, 1120, 1984)\n"
     ]
    },
    {
     "name": "stdout",
     "output_type": "stream",
     "text": [
      "452\n",
      "453\n"
     ]
    },
    {
     "name": "stderr",
     "output_type": "stream",
     "text": [
      "\n",
      "0: 1120x1984 1 ball, 23 players, 32.3ms\n",
      "Speed: 11.5ms preprocess, 32.3ms inference, 1.2ms postprocess per image at shape (1, 3, 1120, 1984)\n",
      "\n",
      "0: 1120x1984 1 ball, 21 players, 32.3ms\n",
      "Speed: 11.2ms preprocess, 32.3ms inference, 1.3ms postprocess per image at shape (1, 3, 1120, 1984)\n"
     ]
    },
    {
     "name": "stdout",
     "output_type": "stream",
     "text": [
      "454\n",
      "455\n"
     ]
    },
    {
     "name": "stderr",
     "output_type": "stream",
     "text": [
      "\n",
      "0: 1120x1984 1 ball, 21 players, 32.3ms\n",
      "Speed: 11.5ms preprocess, 32.3ms inference, 1.2ms postprocess per image at shape (1, 3, 1120, 1984)\n",
      "\n",
      "0: 1120x1984 2 balls, 22 players, 32.3ms\n",
      "Speed: 11.7ms preprocess, 32.3ms inference, 1.2ms postprocess per image at shape (1, 3, 1120, 1984)\n"
     ]
    },
    {
     "name": "stdout",
     "output_type": "stream",
     "text": [
      "456\n",
      "457\n"
     ]
    },
    {
     "name": "stderr",
     "output_type": "stream",
     "text": [
      "\n",
      "0: 1120x1984 1 ball, 22 players, 32.3ms\n",
      "Speed: 11.3ms preprocess, 32.3ms inference, 1.2ms postprocess per image at shape (1, 3, 1120, 1984)\n",
      "\n",
      "0: 1120x1984 1 ball, 22 players, 32.3ms\n",
      "Speed: 12.1ms preprocess, 32.3ms inference, 1.2ms postprocess per image at shape (1, 3, 1120, 1984)\n"
     ]
    },
    {
     "name": "stdout",
     "output_type": "stream",
     "text": [
      "458\n",
      "459\n"
     ]
    },
    {
     "name": "stderr",
     "output_type": "stream",
     "text": [
      "\n",
      "0: 1120x1984 1 ball, 22 players, 32.3ms\n",
      "Speed: 11.4ms preprocess, 32.3ms inference, 1.3ms postprocess per image at shape (1, 3, 1120, 1984)\n",
      "\n",
      "0: 1120x1984 1 ball, 22 players, 32.3ms\n",
      "Speed: 12.2ms preprocess, 32.3ms inference, 1.2ms postprocess per image at shape (1, 3, 1120, 1984)\n"
     ]
    },
    {
     "name": "stdout",
     "output_type": "stream",
     "text": [
      "460\n",
      "461\n"
     ]
    },
    {
     "name": "stderr",
     "output_type": "stream",
     "text": [
      "\n",
      "0: 1120x1984 1 ball, 24 players, 32.3ms\n",
      "Speed: 12.0ms preprocess, 32.3ms inference, 1.2ms postprocess per image at shape (1, 3, 1120, 1984)\n",
      "\n",
      "0: 1120x1984 1 ball, 22 players, 32.3ms\n",
      "Speed: 11.8ms preprocess, 32.3ms inference, 1.3ms postprocess per image at shape (1, 3, 1120, 1984)\n"
     ]
    },
    {
     "name": "stdout",
     "output_type": "stream",
     "text": [
      "462\n",
      "463\n"
     ]
    },
    {
     "name": "stderr",
     "output_type": "stream",
     "text": [
      "\n",
      "0: 1120x1984 1 ball, 22 players, 32.3ms\n",
      "Speed: 12.1ms preprocess, 32.3ms inference, 1.2ms postprocess per image at shape (1, 3, 1120, 1984)\n",
      "\n",
      "0: 1120x1984 1 ball, 22 players, 32.3ms\n",
      "Speed: 11.1ms preprocess, 32.3ms inference, 1.2ms postprocess per image at shape (1, 3, 1120, 1984)\n"
     ]
    },
    {
     "name": "stdout",
     "output_type": "stream",
     "text": [
      "464\n",
      "465\n"
     ]
    },
    {
     "name": "stderr",
     "output_type": "stream",
     "text": [
      "\n",
      "0: 1120x1984 1 ball, 24 players, 32.3ms\n",
      "Speed: 11.1ms preprocess, 32.3ms inference, 1.2ms postprocess per image at shape (1, 3, 1120, 1984)\n",
      "\n",
      "0: 1120x1984 1 ball, 23 players, 32.3ms\n",
      "Speed: 11.1ms preprocess, 32.3ms inference, 1.3ms postprocess per image at shape (1, 3, 1120, 1984)\n"
     ]
    },
    {
     "name": "stdout",
     "output_type": "stream",
     "text": [
      "466\n",
      "467\n"
     ]
    },
    {
     "name": "stderr",
     "output_type": "stream",
     "text": [
      "\n",
      "0: 1120x1984 1 ball, 23 players, 32.3ms\n",
      "Speed: 11.2ms preprocess, 32.3ms inference, 1.2ms postprocess per image at shape (1, 3, 1120, 1984)\n",
      "\n",
      "0: 1120x1984 1 ball, 23 players, 32.3ms\n",
      "Speed: 11.5ms preprocess, 32.3ms inference, 1.3ms postprocess per image at shape (1, 3, 1120, 1984)\n"
     ]
    },
    {
     "name": "stdout",
     "output_type": "stream",
     "text": [
      "468\n",
      "469\n"
     ]
    },
    {
     "name": "stderr",
     "output_type": "stream",
     "text": [
      "\n",
      "0: 1120x1984 1 ball, 23 players, 32.3ms\n",
      "Speed: 11.8ms preprocess, 32.3ms inference, 1.2ms postprocess per image at shape (1, 3, 1120, 1984)\n",
      "\n",
      "0: 1120x1984 1 ball, 23 players, 32.3ms\n",
      "Speed: 11.4ms preprocess, 32.3ms inference, 1.2ms postprocess per image at shape (1, 3, 1120, 1984)\n"
     ]
    },
    {
     "name": "stdout",
     "output_type": "stream",
     "text": [
      "470\n",
      "471\n"
     ]
    },
    {
     "name": "stderr",
     "output_type": "stream",
     "text": [
      "\n",
      "0: 1120x1984 1 ball, 23 players, 32.3ms\n",
      "Speed: 11.3ms preprocess, 32.3ms inference, 1.2ms postprocess per image at shape (1, 3, 1120, 1984)\n",
      "\n",
      "0: 1120x1984 1 ball, 23 players, 32.3ms\n",
      "Speed: 11.2ms preprocess, 32.3ms inference, 1.2ms postprocess per image at shape (1, 3, 1120, 1984)\n"
     ]
    },
    {
     "name": "stdout",
     "output_type": "stream",
     "text": [
      "472\n",
      "473\n"
     ]
    },
    {
     "name": "stderr",
     "output_type": "stream",
     "text": [
      "\n",
      "0: 1120x1984 1 ball, 23 players, 32.3ms\n",
      "Speed: 11.3ms preprocess, 32.3ms inference, 1.2ms postprocess per image at shape (1, 3, 1120, 1984)\n",
      "\n",
      "0: 1120x1984 1 ball, 23 players, 32.3ms\n"
     ]
    },
    {
     "name": "stdout",
     "output_type": "stream",
     "text": [
      "474\n",
      "475\n"
     ]
    },
    {
     "name": "stderr",
     "output_type": "stream",
     "text": [
      "Speed: 11.9ms preprocess, 32.3ms inference, 1.3ms postprocess per image at shape (1, 3, 1120, 1984)\n",
      "\n",
      "0: 1120x1984 1 ball, 23 players, 32.3ms\n",
      "Speed: 11.2ms preprocess, 32.3ms inference, 1.2ms postprocess per image at shape (1, 3, 1120, 1984)\n",
      "\n",
      "0: 1120x1984 1 ball, 23 players, 32.3ms\n",
      "Speed: 11.3ms preprocess, 32.3ms inference, 1.2ms postprocess per image at shape (1, 3, 1120, 1984)\n"
     ]
    },
    {
     "name": "stdout",
     "output_type": "stream",
     "text": [
      "476\n",
      "477\n"
     ]
    },
    {
     "name": "stderr",
     "output_type": "stream",
     "text": [
      "\n",
      "0: 1120x1984 1 ball, 23 players, 32.3ms\n",
      "Speed: 11.8ms preprocess, 32.3ms inference, 1.3ms postprocess per image at shape (1, 3, 1120, 1984)\n",
      "\n"
     ]
    },
    {
     "name": "stdout",
     "output_type": "stream",
     "text": [
      "478\n",
      "479\n"
     ]
    },
    {
     "name": "stderr",
     "output_type": "stream",
     "text": [
      "0: 1120x1984 1 ball, 23 players, 32.3ms\n",
      "Speed: 11.8ms preprocess, 32.3ms inference, 1.2ms postprocess per image at shape (1, 3, 1120, 1984)\n",
      "\n",
      "0: 1120x1984 1 ball, 23 players, 32.3ms\n",
      "Speed: 12.3ms preprocess, 32.3ms inference, 1.2ms postprocess per image at shape (1, 3, 1120, 1984)\n",
      "\n",
      "0: 1120x1984 1 ball, 23 players, 32.3ms\n",
      "Speed: 12.0ms preprocess, 32.3ms inference, 1.3ms postprocess per image at shape (1, 3, 1120, 1984)\n"
     ]
    },
    {
     "name": "stdout",
     "output_type": "stream",
     "text": [
      "480\n",
      "481\n"
     ]
    },
    {
     "name": "stderr",
     "output_type": "stream",
     "text": [
      "\n",
      "0: 1120x1984 1 ball, 23 players, 32.3ms\n",
      "Speed: 11.9ms preprocess, 32.3ms inference, 1.2ms postprocess per image at shape (1, 3, 1120, 1984)\n",
      "\n"
     ]
    },
    {
     "name": "stdout",
     "output_type": "stream",
     "text": [
      "482\n",
      "483\n"
     ]
    },
    {
     "name": "stderr",
     "output_type": "stream",
     "text": [
      "0: 1120x1984 1 ball, 23 players, 32.3ms\n",
      "Speed: 12.3ms preprocess, 32.3ms inference, 1.2ms postprocess per image at shape (1, 3, 1120, 1984)\n",
      "\n",
      "0: 1120x1984 1 ball, 23 players, 32.3ms\n",
      "Speed: 12.1ms preprocess, 32.3ms inference, 1.3ms postprocess per image at shape (1, 3, 1120, 1984)\n",
      "\n",
      "0: 1120x1984 1 ball, 23 players, 32.3ms\n",
      "Speed: 12.1ms preprocess, 32.3ms inference, 1.3ms postprocess per image at shape (1, 3, 1120, 1984)\n"
     ]
    },
    {
     "name": "stdout",
     "output_type": "stream",
     "text": [
      "484\n",
      "485\n"
     ]
    },
    {
     "name": "stderr",
     "output_type": "stream",
     "text": [
      "\n",
      "0: 1120x1984 1 ball, 23 players, 32.3ms\n",
      "Speed: 11.8ms preprocess, 32.3ms inference, 1.3ms postprocess per image at shape (1, 3, 1120, 1984)\n",
      "\n",
      "0: 1120x1984 1 ball, 23 players, 32.3ms\n",
      "Speed: 12.3ms preprocess, 32.3ms inference, 1.2ms postprocess per image at shape (1, 3, 1120, 1984)\n"
     ]
    },
    {
     "name": "stdout",
     "output_type": "stream",
     "text": [
      "486\n",
      "487\n"
     ]
    },
    {
     "name": "stderr",
     "output_type": "stream",
     "text": [
      "\n",
      "0: 1120x1984 1 ball, 23 players, 32.3ms\n",
      "Speed: 11.4ms preprocess, 32.3ms inference, 1.3ms postprocess per image at shape (1, 3, 1120, 1984)\n",
      "\n",
      "0: 1120x1984 1 ball, 23 players, 32.3ms\n",
      "Speed: 12.1ms preprocess, 32.3ms inference, 1.2ms postprocess per image at shape (1, 3, 1120, 1984)\n"
     ]
    },
    {
     "name": "stdout",
     "output_type": "stream",
     "text": [
      "488\n",
      "489\n"
     ]
    },
    {
     "name": "stderr",
     "output_type": "stream",
     "text": [
      "\n",
      "0: 1120x1984 1 ball, 23 players, 32.3ms\n",
      "Speed: 12.2ms preprocess, 32.3ms inference, 1.2ms postprocess per image at shape (1, 3, 1120, 1984)\n",
      "\n",
      "0: 1120x1984 1 ball, 23 players, 32.3ms\n"
     ]
    },
    {
     "name": "stdout",
     "output_type": "stream",
     "text": [
      "490\n",
      "491\n"
     ]
    },
    {
     "name": "stderr",
     "output_type": "stream",
     "text": [
      "Speed: 11.8ms preprocess, 32.3ms inference, 1.2ms postprocess per image at shape (1, 3, 1120, 1984)\n",
      "\n",
      "0: 1120x1984 1 ball, 23 players, 32.3ms\n",
      "Speed: 11.7ms preprocess, 32.3ms inference, 1.3ms postprocess per image at shape (1, 3, 1120, 1984)\n",
      "\n",
      "0: 1120x1984 1 ball, 23 players, 32.3ms\n",
      "Speed: 12.0ms preprocess, 32.3ms inference, 1.2ms postprocess per image at shape (1, 3, 1120, 1984)\n"
     ]
    },
    {
     "name": "stdout",
     "output_type": "stream",
     "text": [
      "492\n",
      "493\n"
     ]
    },
    {
     "name": "stderr",
     "output_type": "stream",
     "text": [
      "\n",
      "0: 1120x1984 1 ball, 23 players, 32.3ms\n",
      "Speed: 12.3ms preprocess, 32.3ms inference, 1.2ms postprocess per image at shape (1, 3, 1120, 1984)\n",
      "\n",
      "0: 1120x1984 1 ball, 23 players, 32.3ms\n",
      "Speed: 12.2ms preprocess, 32.3ms inference, 1.3ms postprocess per image at shape (1, 3, 1120, 1984)\n"
     ]
    },
    {
     "name": "stdout",
     "output_type": "stream",
     "text": [
      "494\n",
      "495\n"
     ]
    },
    {
     "name": "stderr",
     "output_type": "stream",
     "text": [
      "\n",
      "0: 1120x1984 1 ball, 23 players, 32.3ms\n",
      "Speed: 11.6ms preprocess, 32.3ms inference, 1.3ms postprocess per image at shape (1, 3, 1120, 1984)\n",
      "\n",
      "0: 1120x1984 1 ball, 23 players, 32.3ms\n",
      "Speed: 11.2ms preprocess, 32.3ms inference, 1.2ms postprocess per image at shape (1, 3, 1120, 1984)\n"
     ]
    },
    {
     "name": "stdout",
     "output_type": "stream",
     "text": [
      "496\n",
      "497\n"
     ]
    },
    {
     "name": "stderr",
     "output_type": "stream",
     "text": [
      "\n",
      "0: 1120x1984 1 ball, 23 players, 32.3ms\n",
      "Speed: 12.0ms preprocess, 32.3ms inference, 1.3ms postprocess per image at shape (1, 3, 1120, 1984)\n",
      "\n",
      "0: 1120x1984 1 ball, 23 players, 32.3ms\n",
      "Speed: 11.6ms preprocess, 32.3ms inference, 1.4ms postprocess per image at shape (1, 3, 1120, 1984)\n"
     ]
    },
    {
     "name": "stdout",
     "output_type": "stream",
     "text": [
      "498\n",
      "499\n"
     ]
    },
    {
     "name": "stderr",
     "output_type": "stream",
     "text": [
      "\n",
      "0: 1120x1984 1 ball, 23 players, 32.3ms\n",
      "Speed: 11.9ms preprocess, 32.3ms inference, 1.3ms postprocess per image at shape (1, 3, 1120, 1984)\n",
      "\n",
      "0: 1120x1984 1 ball, 23 players, 32.3ms\n",
      "Speed: 12.1ms preprocess, 32.3ms inference, 1.2ms postprocess per image at shape (1, 3, 1120, 1984)\n"
     ]
    },
    {
     "name": "stdout",
     "output_type": "stream",
     "text": [
      "500\n",
      "501\n"
     ]
    },
    {
     "name": "stderr",
     "output_type": "stream",
     "text": [
      "\n",
      "0: 1120x1984 1 ball, 23 players, 32.3ms\n",
      "Speed: 12.1ms preprocess, 32.3ms inference, 1.2ms postprocess per image at shape (1, 3, 1120, 1984)\n",
      "\n",
      "0: 1120x1984 1 ball, 23 players, 32.3ms\n",
      "Speed: 12.1ms preprocess, 32.3ms inference, 1.3ms postprocess per image at shape (1, 3, 1120, 1984)\n"
     ]
    },
    {
     "name": "stdout",
     "output_type": "stream",
     "text": [
      "502\n",
      "503\n"
     ]
    },
    {
     "name": "stderr",
     "output_type": "stream",
     "text": [
      "\n",
      "0: 1120x1984 1 ball, 23 players, 32.3ms\n",
      "Speed: 11.5ms preprocess, 32.3ms inference, 1.2ms postprocess per image at shape (1, 3, 1120, 1984)\n",
      "\n",
      "0: 1120x1984 1 ball, 23 players, 32.3ms\n",
      "Speed: 11.7ms preprocess, 32.3ms inference, 1.3ms postprocess per image at shape (1, 3, 1120, 1984)\n"
     ]
    },
    {
     "name": "stdout",
     "output_type": "stream",
     "text": [
      "504\n",
      "505\n"
     ]
    },
    {
     "name": "stderr",
     "output_type": "stream",
     "text": [
      "\n",
      "0: 1120x1984 1 ball, 23 players, 32.3ms\n",
      "Speed: 11.9ms preprocess, 32.3ms inference, 1.3ms postprocess per image at shape (1, 3, 1120, 1984)\n",
      "\n",
      "0: 1120x1984 1 ball, 23 players, 32.3ms\n",
      "Speed: 11.8ms preprocess, 32.3ms inference, 1.3ms postprocess per image at shape (1, 3, 1120, 1984)\n"
     ]
    },
    {
     "name": "stdout",
     "output_type": "stream",
     "text": [
      "506\n",
      "507\n"
     ]
    },
    {
     "name": "stderr",
     "output_type": "stream",
     "text": [
      "\n",
      "0: 1120x1984 1 ball, 23 players, 32.3ms\n",
      "Speed: 12.0ms preprocess, 32.3ms inference, 1.2ms postprocess per image at shape (1, 3, 1120, 1984)\n",
      "\n",
      "0: 1120x1984 1 ball, 23 players, 32.3ms\n"
     ]
    },
    {
     "name": "stdout",
     "output_type": "stream",
     "text": [
      "508\n",
      "509\n"
     ]
    },
    {
     "name": "stderr",
     "output_type": "stream",
     "text": [
      "Speed: 12.3ms preprocess, 32.3ms inference, 1.3ms postprocess per image at shape (1, 3, 1120, 1984)\n",
      "\n",
      "0: 1120x1984 1 ball, 23 players, 32.3ms\n",
      "Speed: 11.2ms preprocess, 32.3ms inference, 1.3ms postprocess per image at shape (1, 3, 1120, 1984)\n",
      "\n",
      "0: 1120x1984 1 ball, 23 players, 32.3ms\n",
      "Speed: 12.1ms preprocess, 32.3ms inference, 1.2ms postprocess per image at shape (1, 3, 1120, 1984)\n"
     ]
    },
    {
     "name": "stdout",
     "output_type": "stream",
     "text": [
      "510\n",
      "511\n"
     ]
    },
    {
     "name": "stderr",
     "output_type": "stream",
     "text": [
      "\n",
      "0: 1120x1984 1 ball, 23 players, 32.3ms\n",
      "Speed: 11.8ms preprocess, 32.3ms inference, 1.2ms postprocess per image at shape (1, 3, 1120, 1984)\n",
      "\n",
      "0: 1120x1984 1 ball, 23 players, 32.3ms\n",
      "Speed: 12.3ms preprocess, 32.3ms inference, 1.2ms postprocess per image at shape (1, 3, 1120, 1984)\n"
     ]
    },
    {
     "name": "stdout",
     "output_type": "stream",
     "text": [
      "512\n",
      "513\n"
     ]
    },
    {
     "name": "stderr",
     "output_type": "stream",
     "text": [
      "\n",
      "0: 1120x1984 1 ball, 23 players, 32.3ms\n",
      "Speed: 12.2ms preprocess, 32.3ms inference, 1.3ms postprocess per image at shape (1, 3, 1120, 1984)\n",
      "\n",
      "0: 1120x1984 1 ball, 23 players, 32.3ms\n",
      "Speed: 11.2ms preprocess, 32.3ms inference, 1.3ms postprocess per image at shape (1, 3, 1120, 1984)\n"
     ]
    },
    {
     "name": "stdout",
     "output_type": "stream",
     "text": [
      "514\n",
      "515\n"
     ]
    },
    {
     "name": "stderr",
     "output_type": "stream",
     "text": [
      "\n",
      "0: 1120x1984 23 players, 32.3ms\n",
      "Speed: 12.2ms preprocess, 32.3ms inference, 1.2ms postprocess per image at shape (1, 3, 1120, 1984)\n",
      "\n",
      "0: 1120x1984 1 ball, 23 players, 32.3ms\n",
      "Speed: 11.4ms preprocess, 32.3ms inference, 1.3ms postprocess per image at shape (1, 3, 1120, 1984)\n"
     ]
    },
    {
     "name": "stdout",
     "output_type": "stream",
     "text": [
      "516\n",
      "517\n"
     ]
    },
    {
     "name": "stderr",
     "output_type": "stream",
     "text": [
      "\n",
      "0: 1120x1984 1 ball, 23 players, 32.3ms\n",
      "Speed: 12.2ms preprocess, 32.3ms inference, 1.2ms postprocess per image at shape (1, 3, 1120, 1984)\n",
      "\n",
      "0: 1120x1984 1 ball, 23 players, 32.3ms\n",
      "Speed: 12.1ms preprocess, 32.3ms inference, 1.3ms postprocess per image at shape (1, 3, 1120, 1984)\n"
     ]
    },
    {
     "name": "stdout",
     "output_type": "stream",
     "text": [
      "518\n",
      "519\n"
     ]
    },
    {
     "name": "stderr",
     "output_type": "stream",
     "text": [
      "\n",
      "0: 1120x1984 1 ball, 23 players, 32.3ms\n",
      "Speed: 11.0ms preprocess, 32.3ms inference, 1.3ms postprocess per image at shape (1, 3, 1120, 1984)\n",
      "\n",
      "0: 1120x1984 1 ball, 23 players, 32.3ms\n",
      "Speed: 11.3ms preprocess, 32.3ms inference, 1.4ms postprocess per image at shape (1, 3, 1120, 1984)\n"
     ]
    },
    {
     "name": "stdout",
     "output_type": "stream",
     "text": [
      "520\n",
      "521\n"
     ]
    },
    {
     "name": "stderr",
     "output_type": "stream",
     "text": [
      "\n",
      "0: 1120x1984 1 ball, 23 players, 32.3ms\n",
      "Speed: 11.7ms preprocess, 32.3ms inference, 1.2ms postprocess per image at shape (1, 3, 1120, 1984)\n",
      "\n",
      "0: 1120x1984 1 ball, 23 players, 32.3ms\n",
      "Speed: 11.2ms preprocess, 32.3ms inference, 1.2ms postprocess per image at shape (1, 3, 1120, 1984)\n"
     ]
    },
    {
     "name": "stdout",
     "output_type": "stream",
     "text": [
      "522\n",
      "523\n"
     ]
    },
    {
     "name": "stderr",
     "output_type": "stream",
     "text": [
      "\n",
      "0: 1120x1984 1 ball, 23 players, 32.3ms\n",
      "Speed: 12.2ms preprocess, 32.3ms inference, 1.2ms postprocess per image at shape (1, 3, 1120, 1984)\n",
      "\n",
      "0: 1120x1984 1 ball, 23 players, 32.3ms\n",
      "Speed: 12.1ms preprocess, 32.3ms inference, 1.2ms postprocess per image at shape (1, 3, 1120, 1984)\n"
     ]
    },
    {
     "name": "stdout",
     "output_type": "stream",
     "text": [
      "524\n",
      "525\n"
     ]
    },
    {
     "name": "stderr",
     "output_type": "stream",
     "text": [
      "\n",
      "0: 1120x1984 1 ball, 23 players, 32.3ms\n",
      "Speed: 11.8ms preprocess, 32.3ms inference, 1.3ms postprocess per image at shape (1, 3, 1120, 1984)\n",
      "\n",
      "0: 1120x1984 1 ball, 23 players, 32.3ms\n",
      "Speed: 11.8ms preprocess, 32.3ms inference, 1.2ms postprocess per image at shape (1, 3, 1120, 1984)\n"
     ]
    },
    {
     "name": "stdout",
     "output_type": "stream",
     "text": [
      "526\n",
      "527\n"
     ]
    },
    {
     "name": "stderr",
     "output_type": "stream",
     "text": [
      "\n",
      "0: 1120x1984 1 ball, 23 players, 32.3ms\n",
      "Speed: 12.0ms preprocess, 32.3ms inference, 1.2ms postprocess per image at shape (1, 3, 1120, 1984)\n",
      "\n",
      "0: 1120x1984 1 ball, 23 players, 32.3ms\n",
      "Speed: 11.0ms preprocess, 32.3ms inference, 1.2ms postprocess per image at shape (1, 3, 1120, 1984)\n"
     ]
    },
    {
     "name": "stdout",
     "output_type": "stream",
     "text": [
      "528\n",
      "529\n"
     ]
    },
    {
     "name": "stderr",
     "output_type": "stream",
     "text": [
      "\n",
      "0: 1120x1984 1 ball, 23 players, 32.3ms\n",
      "Speed: 12.1ms preprocess, 32.3ms inference, 1.2ms postprocess per image at shape (1, 3, 1120, 1984)\n",
      "\n",
      "0: 1120x1984 1 ball, 23 players, 32.3ms\n",
      "Speed: 11.4ms preprocess, 32.3ms inference, 1.2ms postprocess per image at shape (1, 3, 1120, 1984)\n"
     ]
    },
    {
     "name": "stdout",
     "output_type": "stream",
     "text": [
      "530\n",
      "531\n"
     ]
    },
    {
     "name": "stderr",
     "output_type": "stream",
     "text": [
      "\n",
      "0: 1120x1984 1 ball, 23 players, 32.3ms\n",
      "Speed: 11.4ms preprocess, 32.3ms inference, 1.2ms postprocess per image at shape (1, 3, 1120, 1984)\n",
      "\n",
      "0: 1120x1984 1 ball, 23 players, 32.3ms\n",
      "Speed: 11.6ms preprocess, 32.3ms inference, 1.2ms postprocess per image at shape (1, 3, 1120, 1984)\n"
     ]
    },
    {
     "name": "stdout",
     "output_type": "stream",
     "text": [
      "532\n",
      "533\n"
     ]
    },
    {
     "name": "stderr",
     "output_type": "stream",
     "text": [
      "\n",
      "0: 1120x1984 1 ball, 23 players, 32.3ms\n",
      "Speed: 12.2ms preprocess, 32.3ms inference, 1.2ms postprocess per image at shape (1, 3, 1120, 1984)\n",
      "\n",
      "0: 1120x1984 1 ball, 23 players, 32.3ms\n",
      "Speed: 11.9ms preprocess, 32.3ms inference, 1.2ms postprocess per image at shape (1, 3, 1120, 1984)\n"
     ]
    },
    {
     "name": "stdout",
     "output_type": "stream",
     "text": [
      "534\n",
      "535\n"
     ]
    },
    {
     "name": "stderr",
     "output_type": "stream",
     "text": [
      "\n",
      "0: 1120x1984 1 ball, 23 players, 32.3ms\n",
      "Speed: 11.1ms preprocess, 32.3ms inference, 1.2ms postprocess per image at shape (1, 3, 1120, 1984)\n",
      "\n",
      "0: 1120x1984 1 ball, 22 players, 32.3ms\n"
     ]
    },
    {
     "name": "stdout",
     "output_type": "stream",
     "text": [
      "536\n",
      "537\n"
     ]
    },
    {
     "name": "stderr",
     "output_type": "stream",
     "text": [
      "Speed: 12.1ms preprocess, 32.3ms inference, 1.2ms postprocess per image at shape (1, 3, 1120, 1984)\n",
      "\n",
      "0: 1120x1984 1 ball, 23 players, 32.3ms\n",
      "Speed: 11.4ms preprocess, 32.3ms inference, 1.2ms postprocess per image at shape (1, 3, 1120, 1984)\n",
      "\n",
      "0: 1120x1984 1 ball, 23 players, 32.3ms\n",
      "Speed: 11.1ms preprocess, 32.3ms inference, 1.2ms postprocess per image at shape (1, 3, 1120, 1984)\n"
     ]
    },
    {
     "name": "stdout",
     "output_type": "stream",
     "text": [
      "538\n",
      "539\n"
     ]
    },
    {
     "name": "stderr",
     "output_type": "stream",
     "text": [
      "\n",
      "0: 1120x1984 1 ball, 23 players, 32.3ms\n",
      "Speed: 11.5ms preprocess, 32.3ms inference, 1.3ms postprocess per image at shape (1, 3, 1120, 1984)\n",
      "\n",
      "0: 1120x1984 1 ball, 23 players, 32.3ms\n",
      "Speed: 11.5ms preprocess, 32.3ms inference, 1.2ms postprocess per image at shape (1, 3, 1120, 1984)\n"
     ]
    },
    {
     "name": "stdout",
     "output_type": "stream",
     "text": [
      "540\n",
      "541\n"
     ]
    },
    {
     "name": "stderr",
     "output_type": "stream",
     "text": [
      "\n",
      "0: 1120x1984 1 ball, 23 players, 32.3ms\n",
      "Speed: 11.5ms preprocess, 32.3ms inference, 1.2ms postprocess per image at shape (1, 3, 1120, 1984)\n",
      "\n",
      "0: 1120x1984 1 ball, 23 players, 32.3ms\n",
      "Speed: 11.6ms preprocess, 32.3ms inference, 1.3ms postprocess per image at shape (1, 3, 1120, 1984)\n"
     ]
    },
    {
     "name": "stdout",
     "output_type": "stream",
     "text": [
      "542\n",
      "543\n"
     ]
    },
    {
     "name": "stderr",
     "output_type": "stream",
     "text": [
      "\n",
      "0: 1120x1984 1 ball, 23 players, 32.3ms\n",
      "Speed: 12.3ms preprocess, 32.3ms inference, 1.2ms postprocess per image at shape (1, 3, 1120, 1984)\n",
      "\n",
      "0: 1120x1984 1 ball, 23 players, 32.3ms\n",
      "Speed: 11.1ms preprocess, 32.3ms inference, 1.1ms postprocess per image at shape (1, 3, 1120, 1984)\n"
     ]
    },
    {
     "name": "stdout",
     "output_type": "stream",
     "text": [
      "544\n",
      "545\n"
     ]
    },
    {
     "name": "stderr",
     "output_type": "stream",
     "text": [
      "\n",
      "0: 1120x1984 1 ball, 23 players, 32.3ms\n",
      "Speed: 11.2ms preprocess, 32.3ms inference, 1.3ms postprocess per image at shape (1, 3, 1120, 1984)\n",
      "\n",
      "0: 1120x1984 1 ball, 23 players, 32.3ms\n",
      "Speed: 11.7ms preprocess, 32.3ms inference, 1.2ms postprocess per image at shape (1, 3, 1120, 1984)\n"
     ]
    },
    {
     "name": "stdout",
     "output_type": "stream",
     "text": [
      "546\n",
      "547\n"
     ]
    },
    {
     "name": "stderr",
     "output_type": "stream",
     "text": [
      "\n",
      "0: 1120x1984 1 ball, 23 players, 32.3ms\n",
      "Speed: 11.3ms preprocess, 32.3ms inference, 1.2ms postprocess per image at shape (1, 3, 1120, 1984)\n",
      "\n",
      "0: 1120x1984 1 ball, 23 players, 32.3ms\n",
      "Speed: 11.4ms preprocess, 32.3ms inference, 1.3ms postprocess per image at shape (1, 3, 1120, 1984)\n"
     ]
    },
    {
     "name": "stdout",
     "output_type": "stream",
     "text": [
      "548\n",
      "549\n"
     ]
    },
    {
     "name": "stderr",
     "output_type": "stream",
     "text": [
      "\n",
      "0: 1120x1984 1 ball, 23 players, 32.3ms\n",
      "Speed: 11.1ms preprocess, 32.3ms inference, 1.2ms postprocess per image at shape (1, 3, 1120, 1984)\n",
      "\n",
      "0: 1120x1984 1 ball, 23 players, 32.3ms\n",
      "Speed: 12.3ms preprocess, 32.3ms inference, 1.2ms postprocess per image at shape (1, 3, 1120, 1984)\n"
     ]
    },
    {
     "name": "stdout",
     "output_type": "stream",
     "text": [
      "550\n",
      "551\n"
     ]
    },
    {
     "name": "stderr",
     "output_type": "stream",
     "text": [
      "\n",
      "0: 1120x1984 1 ball, 22 players, 32.3ms\n",
      "Speed: 11.1ms preprocess, 32.3ms inference, 1.2ms postprocess per image at shape (1, 3, 1120, 1984)\n",
      "\n",
      "0: 1120x1984 1 ball, 22 players, 32.3ms\n",
      "Speed: 11.7ms preprocess, 32.3ms inference, 1.2ms postprocess per image at shape (1, 3, 1120, 1984)\n"
     ]
    },
    {
     "name": "stdout",
     "output_type": "stream",
     "text": [
      "552\n",
      "553\n"
     ]
    },
    {
     "name": "stderr",
     "output_type": "stream",
     "text": [
      "\n",
      "0: 1120x1984 23 players, 32.3ms\n",
      "Speed: 11.5ms preprocess, 32.3ms inference, 1.3ms postprocess per image at shape (1, 3, 1120, 1984)\n",
      "\n",
      "0: 1120x1984 1 ball, 23 players, 32.3ms\n",
      "Speed: 11.1ms preprocess, 32.3ms inference, 1.2ms postprocess per image at shape (1, 3, 1120, 1984)\n"
     ]
    },
    {
     "name": "stdout",
     "output_type": "stream",
     "text": [
      "554\n",
      "555\n"
     ]
    },
    {
     "name": "stderr",
     "output_type": "stream",
     "text": [
      "\n",
      "0: 1120x1984 1 ball, 23 players, 32.3ms\n",
      "Speed: 11.4ms preprocess, 32.3ms inference, 1.2ms postprocess per image at shape (1, 3, 1120, 1984)\n",
      "\n",
      "0: 1120x1984 1 ball, 23 players, 32.3ms\n",
      "Speed: 11.4ms preprocess, 32.3ms inference, 1.2ms postprocess per image at shape (1, 3, 1120, 1984)\n"
     ]
    },
    {
     "name": "stdout",
     "output_type": "stream",
     "text": [
      "556\n",
      "557\n"
     ]
    },
    {
     "name": "stderr",
     "output_type": "stream",
     "text": [
      "\n",
      "0: 1120x1984 1 ball, 23 players, 32.2ms\n",
      "Speed: 11.2ms preprocess, 32.2ms inference, 1.2ms postprocess per image at shape (1, 3, 1120, 1984)\n",
      "\n",
      "0: 1120x1984 1 ball, 23 players, 32.3ms\n",
      "Speed: 11.8ms preprocess, 32.3ms inference, 1.2ms postprocess per image at shape (1, 3, 1120, 1984)\n"
     ]
    },
    {
     "name": "stdout",
     "output_type": "stream",
     "text": [
      "558\n",
      "559\n"
     ]
    },
    {
     "name": "stderr",
     "output_type": "stream",
     "text": [
      "\n",
      "0: 1120x1984 1 ball, 23 players, 32.3ms\n",
      "Speed: 11.8ms preprocess, 32.3ms inference, 1.2ms postprocess per image at shape (1, 3, 1120, 1984)\n",
      "\n",
      "0: 1120x1984 1 ball, 23 players, 32.3ms\n",
      "Speed: 11.9ms preprocess, 32.3ms inference, 1.2ms postprocess per image at shape (1, 3, 1120, 1984)\n"
     ]
    },
    {
     "name": "stdout",
     "output_type": "stream",
     "text": [
      "560\n",
      "561\n"
     ]
    },
    {
     "name": "stderr",
     "output_type": "stream",
     "text": [
      "\n",
      "0: 1120x1984 1 ball, 24 players, 32.3ms\n",
      "Speed: 11.5ms preprocess, 32.3ms inference, 1.2ms postprocess per image at shape (1, 3, 1120, 1984)\n",
      "\n",
      "0: 1120x1984 23 players, 32.3ms\n",
      "Speed: 11.3ms preprocess, 32.3ms inference, 1.2ms postprocess per image at shape (1, 3, 1120, 1984)\n"
     ]
    },
    {
     "name": "stdout",
     "output_type": "stream",
     "text": [
      "562\n",
      "563\n"
     ]
    },
    {
     "name": "stderr",
     "output_type": "stream",
     "text": [
      "\n",
      "0: 1120x1984 23 players, 32.3ms\n",
      "Speed: 11.0ms preprocess, 32.3ms inference, 1.2ms postprocess per image at shape (1, 3, 1120, 1984)\n",
      "\n",
      "0: 1120x1984 1 ball, 23 players, 32.3ms\n",
      "Speed: 11.3ms preprocess, 32.3ms inference, 1.2ms postprocess per image at shape (1, 3, 1120, 1984)\n"
     ]
    },
    {
     "name": "stdout",
     "output_type": "stream",
     "text": [
      "564\n",
      "565\n"
     ]
    },
    {
     "name": "stderr",
     "output_type": "stream",
     "text": [
      "\n",
      "0: 1120x1984 1 ball, 22 players, 32.3ms\n",
      "Speed: 11.7ms preprocess, 32.3ms inference, 1.3ms postprocess per image at shape (1, 3, 1120, 1984)\n",
      "\n",
      "0: 1120x1984 1 ball, 22 players, 32.3ms\n",
      "Speed: 11.8ms preprocess, 32.3ms inference, 1.2ms postprocess per image at shape (1, 3, 1120, 1984)\n"
     ]
    },
    {
     "name": "stdout",
     "output_type": "stream",
     "text": [
      "566\n",
      "567\n"
     ]
    },
    {
     "name": "stderr",
     "output_type": "stream",
     "text": [
      "\n",
      "0: 1120x1984 1 ball, 22 players, 32.3ms\n",
      "Speed: 11.8ms preprocess, 32.3ms inference, 1.2ms postprocess per image at shape (1, 3, 1120, 1984)\n",
      "\n",
      "0: 1120x1984 1 ball, 22 players, 32.3ms\n",
      "Speed: 11.6ms preprocess, 32.3ms inference, 1.2ms postprocess per image at shape (1, 3, 1120, 1984)\n"
     ]
    },
    {
     "name": "stdout",
     "output_type": "stream",
     "text": [
      "568\n",
      "569\n"
     ]
    },
    {
     "name": "stderr",
     "output_type": "stream",
     "text": [
      "\n",
      "0: 1120x1984 1 ball, 22 players, 32.3ms\n",
      "Speed: 11.7ms preprocess, 32.3ms inference, 1.2ms postprocess per image at shape (1, 3, 1120, 1984)\n",
      "\n",
      "0: 1120x1984 1 ball, 22 players, 32.3ms\n",
      "Speed: 11.3ms preprocess, 32.3ms inference, 1.2ms postprocess per image at shape (1, 3, 1120, 1984)\n"
     ]
    },
    {
     "name": "stdout",
     "output_type": "stream",
     "text": [
      "570\n",
      "571\n"
     ]
    },
    {
     "name": "stderr",
     "output_type": "stream",
     "text": [
      "\n",
      "0: 1120x1984 1 ball, 22 players, 32.3ms\n",
      "Speed: 11.3ms preprocess, 32.3ms inference, 1.2ms postprocess per image at shape (1, 3, 1120, 1984)\n",
      "\n",
      "0: 1120x1984 1 ball, 22 players, 32.3ms\n",
      "Speed: 11.2ms preprocess, 32.3ms inference, 1.2ms postprocess per image at shape (1, 3, 1120, 1984)\n"
     ]
    },
    {
     "name": "stdout",
     "output_type": "stream",
     "text": [
      "572\n",
      "573\n"
     ]
    },
    {
     "name": "stderr",
     "output_type": "stream",
     "text": [
      "\n",
      "0: 1120x1984 1 ball, 22 players, 32.3ms\n",
      "Speed: 11.2ms preprocess, 32.3ms inference, 1.2ms postprocess per image at shape (1, 3, 1120, 1984)\n",
      "\n",
      "0: 1120x1984 1 ball, 22 players, 32.3ms\n",
      "Speed: 11.9ms preprocess, 32.3ms inference, 1.3ms postprocess per image at shape (1, 3, 1120, 1984)\n"
     ]
    },
    {
     "name": "stdout",
     "output_type": "stream",
     "text": [
      "574\n",
      "575\n"
     ]
    },
    {
     "name": "stderr",
     "output_type": "stream",
     "text": [
      "\n",
      "0: 1120x1984 1 ball, 22 players, 32.3ms\n",
      "Speed: 11.3ms preprocess, 32.3ms inference, 1.2ms postprocess per image at shape (1, 3, 1120, 1984)\n",
      "\n",
      "0: 1120x1984 1 ball, 22 players, 32.3ms\n",
      "Speed: 11.1ms preprocess, 32.3ms inference, 1.2ms postprocess per image at shape (1, 3, 1120, 1984)\n"
     ]
    },
    {
     "name": "stdout",
     "output_type": "stream",
     "text": [
      "576\n",
      "577\n"
     ]
    },
    {
     "name": "stderr",
     "output_type": "stream",
     "text": [
      "\n",
      "0: 1120x1984 1 ball, 22 players, 32.3ms\n",
      "Speed: 11.3ms preprocess, 32.3ms inference, 1.2ms postprocess per image at shape (1, 3, 1120, 1984)\n",
      "\n",
      "0: 1120x1984 1 ball, 23 players, 32.3ms\n",
      "Speed: 11.7ms preprocess, 32.3ms inference, 1.2ms postprocess per image at shape (1, 3, 1120, 1984)\n"
     ]
    },
    {
     "name": "stdout",
     "output_type": "stream",
     "text": [
      "578\n",
      "579\n"
     ]
    },
    {
     "name": "stderr",
     "output_type": "stream",
     "text": [
      "\n",
      "0: 1120x1984 1 ball, 22 players, 32.3ms\n",
      "Speed: 11.7ms preprocess, 32.3ms inference, 1.2ms postprocess per image at shape (1, 3, 1120, 1984)\n",
      "\n",
      "0: 1120x1984 1 ball, 22 players, 32.3ms\n",
      "Speed: 12.2ms preprocess, 32.3ms inference, 1.2ms postprocess per image at shape (1, 3, 1120, 1984)\n"
     ]
    },
    {
     "name": "stdout",
     "output_type": "stream",
     "text": [
      "580\n",
      "581\n"
     ]
    },
    {
     "name": "stderr",
     "output_type": "stream",
     "text": [
      "\n",
      "0: 1120x1984 1 ball, 22 players, 32.3ms\n",
      "Speed: 12.1ms preprocess, 32.3ms inference, 1.3ms postprocess per image at shape (1, 3, 1120, 1984)\n",
      "\n",
      "0: 1120x1984 1 ball, 22 players, 32.3ms\n",
      "Speed: 12.0ms preprocess, 32.3ms inference, 1.2ms postprocess per image at shape (1, 3, 1120, 1984)\n"
     ]
    },
    {
     "name": "stdout",
     "output_type": "stream",
     "text": [
      "582\n",
      "583\n"
     ]
    },
    {
     "name": "stderr",
     "output_type": "stream",
     "text": [
      "\n",
      "0: 1120x1984 1 ball, 22 players, 32.3ms\n",
      "Speed: 11.9ms preprocess, 32.3ms inference, 1.3ms postprocess per image at shape (1, 3, 1120, 1984)\n",
      "\n",
      "0: 1120x1984 1 ball, 22 players, 32.3ms\n",
      "Speed: 12.5ms preprocess, 32.3ms inference, 1.2ms postprocess per image at shape (1, 3, 1120, 1984)\n"
     ]
    },
    {
     "name": "stdout",
     "output_type": "stream",
     "text": [
      "584\n",
      "585\n"
     ]
    },
    {
     "name": "stderr",
     "output_type": "stream",
     "text": [
      "\n",
      "0: 1120x1984 1 ball, 22 players, 32.3ms\n",
      "Speed: 11.1ms preprocess, 32.3ms inference, 1.3ms postprocess per image at shape (1, 3, 1120, 1984)\n",
      "\n",
      "0: 1120x1984 1 ball, 22 players, 32.3ms\n",
      "Speed: 11.1ms preprocess, 32.3ms inference, 1.2ms postprocess per image at shape (1, 3, 1120, 1984)\n"
     ]
    },
    {
     "name": "stdout",
     "output_type": "stream",
     "text": [
      "586\n",
      "587\n"
     ]
    },
    {
     "name": "stderr",
     "output_type": "stream",
     "text": [
      "\n",
      "0: 1120x1984 1 ball, 22 players, 32.3ms\n",
      "Speed: 12.1ms preprocess, 32.3ms inference, 1.2ms postprocess per image at shape (1, 3, 1120, 1984)\n",
      "\n",
      "0: 1120x1984 1 ball, 22 players, 32.3ms\n",
      "Speed: 11.6ms preprocess, 32.3ms inference, 1.2ms postprocess per image at shape (1, 3, 1120, 1984)\n"
     ]
    },
    {
     "name": "stdout",
     "output_type": "stream",
     "text": [
      "588\n",
      "589\n"
     ]
    },
    {
     "name": "stderr",
     "output_type": "stream",
     "text": [
      "\n",
      "0: 1120x1984 1 ball, 22 players, 32.3ms\n",
      "Speed: 12.1ms preprocess, 32.3ms inference, 1.2ms postprocess per image at shape (1, 3, 1120, 1984)\n",
      "\n",
      "0: 1120x1984 1 ball, 22 players, 32.3ms\n",
      "Speed: 11.3ms preprocess, 32.3ms inference, 1.2ms postprocess per image at shape (1, 3, 1120, 1984)\n"
     ]
    },
    {
     "name": "stdout",
     "output_type": "stream",
     "text": [
      "590\n",
      "591\n"
     ]
    },
    {
     "name": "stderr",
     "output_type": "stream",
     "text": [
      "\n",
      "0: 1120x1984 1 ball, 22 players, 32.3ms\n",
      "Speed: 11.4ms preprocess, 32.3ms inference, 1.2ms postprocess per image at shape (1, 3, 1120, 1984)\n",
      "\n",
      "0: 1120x1984 1 ball, 22 players, 32.3ms\n",
      "Speed: 11.3ms preprocess, 32.3ms inference, 1.2ms postprocess per image at shape (1, 3, 1120, 1984)\n"
     ]
    },
    {
     "name": "stdout",
     "output_type": "stream",
     "text": [
      "592\n",
      "593\n"
     ]
    },
    {
     "name": "stderr",
     "output_type": "stream",
     "text": [
      "\n",
      "0: 1120x1984 1 ball, 22 players, 32.2ms\n",
      "Speed: 11.1ms preprocess, 32.2ms inference, 1.3ms postprocess per image at shape (1, 3, 1120, 1984)\n",
      "\n",
      "0: 1120x1984 1 ball, 22 players, 32.3ms\n",
      "Speed: 11.6ms preprocess, 32.3ms inference, 1.2ms postprocess per image at shape (1, 3, 1120, 1984)\n"
     ]
    },
    {
     "name": "stdout",
     "output_type": "stream",
     "text": [
      "594\n",
      "595\n"
     ]
    },
    {
     "name": "stderr",
     "output_type": "stream",
     "text": [
      "\n",
      "0: 1120x1984 1 ball, 22 players, 32.3ms\n",
      "Speed: 11.2ms preprocess, 32.3ms inference, 1.2ms postprocess per image at shape (1, 3, 1120, 1984)\n",
      "\n",
      "0: 1120x1984 1 ball, 22 players, 32.3ms\n",
      "Speed: 12.0ms preprocess, 32.3ms inference, 1.3ms postprocess per image at shape (1, 3, 1120, 1984)\n"
     ]
    },
    {
     "name": "stdout",
     "output_type": "stream",
     "text": [
      "596\n",
      "597\n"
     ]
    },
    {
     "name": "stderr",
     "output_type": "stream",
     "text": [
      "\n",
      "0: 1120x1984 1 ball, 22 players, 32.3ms\n",
      "Speed: 12.1ms preprocess, 32.3ms inference, 1.2ms postprocess per image at shape (1, 3, 1120, 1984)\n",
      "\n"
     ]
    },
    {
     "name": "stdout",
     "output_type": "stream",
     "text": [
      "598\n",
      "599\n"
     ]
    },
    {
     "name": "stderr",
     "output_type": "stream",
     "text": [
      "0: 1120x1984 1 ball, 22 players, 32.3ms\n",
      "Speed: 11.4ms preprocess, 32.3ms inference, 1.3ms postprocess per image at shape (1, 3, 1120, 1984)\n",
      "\n",
      "0: 1120x1984 1 ball, 22 players, 32.3ms\n",
      "Speed: 11.4ms preprocess, 32.3ms inference, 1.2ms postprocess per image at shape (1, 3, 1120, 1984)\n",
      "\n",
      "0: 1120x1984 1 ball, 22 players, 32.3ms\n",
      "Speed: 12.3ms preprocess, 32.3ms inference, 1.2ms postprocess per image at shape (1, 3, 1120, 1984)\n"
     ]
    },
    {
     "name": "stdout",
     "output_type": "stream",
     "text": [
      "600\n",
      "601\n"
     ]
    },
    {
     "name": "stderr",
     "output_type": "stream",
     "text": [
      "\n",
      "0: 1120x1984 1 ball, 22 players, 32.3ms\n",
      "Speed: 12.0ms preprocess, 32.3ms inference, 1.3ms postprocess per image at shape (1, 3, 1120, 1984)\n",
      "\n",
      "0: 1120x1984 1 ball, 22 players, 32.3ms\n",
      "Speed: 11.8ms preprocess, 32.3ms inference, 1.2ms postprocess per image at shape (1, 3, 1120, 1984)\n"
     ]
    },
    {
     "name": "stdout",
     "output_type": "stream",
     "text": [
      "602\n",
      "603\n"
     ]
    },
    {
     "name": "stderr",
     "output_type": "stream",
     "text": [
      "\n",
      "0: 1120x1984 1 ball, 22 players, 32.3ms\n",
      "Speed: 12.4ms preprocess, 32.3ms inference, 1.3ms postprocess per image at shape (1, 3, 1120, 1984)\n",
      "\n",
      "0: 1120x1984 1 ball, 22 players, 32.3ms\n",
      "Speed: 12.2ms preprocess, 32.3ms inference, 1.2ms postprocess per image at shape (1, 3, 1120, 1984)\n"
     ]
    },
    {
     "name": "stdout",
     "output_type": "stream",
     "text": [
      "604\n",
      "605\n"
     ]
    },
    {
     "name": "stderr",
     "output_type": "stream",
     "text": [
      "\n",
      "0: 1120x1984 1 ball, 22 players, 32.3ms\n",
      "Speed: 10.9ms preprocess, 32.3ms inference, 1.2ms postprocess per image at shape (1, 3, 1120, 1984)\n",
      "\n",
      "0: 1120x1984 1 ball, 22 players, 32.3ms\n",
      "Speed: 12.3ms preprocess, 32.3ms inference, 1.3ms postprocess per image at shape (1, 3, 1120, 1984)\n"
     ]
    },
    {
     "name": "stdout",
     "output_type": "stream",
     "text": [
      "606\n",
      "607\n"
     ]
    },
    {
     "name": "stderr",
     "output_type": "stream",
     "text": [
      "\n",
      "0: 1120x1984 1 ball, 22 players, 32.3ms\n",
      "Speed: 11.3ms preprocess, 32.3ms inference, 1.3ms postprocess per image at shape (1, 3, 1120, 1984)\n",
      "\n",
      "0: 1120x1984 1 ball, 22 players, 32.3ms\n",
      "Speed: 11.9ms preprocess, 32.3ms inference, 1.3ms postprocess per image at shape (1, 3, 1120, 1984)\n"
     ]
    },
    {
     "name": "stdout",
     "output_type": "stream",
     "text": [
      "608\n",
      "609\n"
     ]
    },
    {
     "name": "stderr",
     "output_type": "stream",
     "text": [
      "\n",
      "0: 1120x1984 1 ball, 22 players, 32.3ms\n",
      "Speed: 12.3ms preprocess, 32.3ms inference, 1.3ms postprocess per image at shape (1, 3, 1120, 1984)\n",
      "\n",
      "0: 1120x1984 1 ball, 22 players, 32.3ms\n",
      "Speed: 12.1ms preprocess, 32.3ms inference, 1.2ms postprocess per image at shape (1, 3, 1120, 1984)\n"
     ]
    },
    {
     "name": "stdout",
     "output_type": "stream",
     "text": [
      "610\n",
      "611\n"
     ]
    },
    {
     "name": "stderr",
     "output_type": "stream",
     "text": [
      "\n",
      "0: 1120x1984 1 ball, 22 players, 32.3ms\n",
      "Speed: 11.9ms preprocess, 32.3ms inference, 1.3ms postprocess per image at shape (1, 3, 1120, 1984)\n",
      "\n",
      "0: 1120x1984 1 ball, 22 players, 32.3ms\n",
      "Speed: 12.2ms preprocess, 32.3ms inference, 1.2ms postprocess per image at shape (1, 3, 1120, 1984)\n"
     ]
    },
    {
     "name": "stdout",
     "output_type": "stream",
     "text": [
      "612\n",
      "613\n"
     ]
    },
    {
     "name": "stderr",
     "output_type": "stream",
     "text": [
      "\n",
      "0: 1120x1984 1 ball, 21 players, 32.3ms\n",
      "Speed: 11.8ms preprocess, 32.3ms inference, 1.2ms postprocess per image at shape (1, 3, 1120, 1984)\n",
      "\n",
      "0: 1120x1984 1 ball, 21 players, 32.3ms\n",
      "Speed: 11.3ms preprocess, 32.3ms inference, 1.2ms postprocess per image at shape (1, 3, 1120, 1984)\n"
     ]
    },
    {
     "name": "stdout",
     "output_type": "stream",
     "text": [
      "614\n",
      "615\n"
     ]
    },
    {
     "name": "stderr",
     "output_type": "stream",
     "text": [
      "\n",
      "0: 1120x1984 21 players, 32.3ms\n",
      "Speed: 12.0ms preprocess, 32.3ms inference, 1.2ms postprocess per image at shape (1, 3, 1120, 1984)\n",
      "\n",
      "0: 1120x1984 1 ball, 21 players, 32.3ms\n",
      "Speed: 12.1ms preprocess, 32.3ms inference, 1.2ms postprocess per image at shape (1, 3, 1120, 1984)\n"
     ]
    },
    {
     "name": "stdout",
     "output_type": "stream",
     "text": [
      "616\n",
      "617\n"
     ]
    },
    {
     "name": "stderr",
     "output_type": "stream",
     "text": [
      "\n",
      "0: 1120x1984 1 ball, 22 players, 32.3ms\n",
      "Speed: 12.2ms preprocess, 32.3ms inference, 1.2ms postprocess per image at shape (1, 3, 1120, 1984)\n",
      "\n",
      "0: 1120x1984 1 ball, 22 players, 32.3ms\n",
      "Speed: 11.4ms preprocess, 32.3ms inference, 1.2ms postprocess per image at shape (1, 3, 1120, 1984)\n"
     ]
    },
    {
     "name": "stdout",
     "output_type": "stream",
     "text": [
      "618\n",
      "619\n"
     ]
    },
    {
     "name": "stderr",
     "output_type": "stream",
     "text": [
      "\n",
      "0: 1120x1984 1 ball, 22 players, 32.3ms\n",
      "Speed: 12.2ms preprocess, 32.3ms inference, 1.2ms postprocess per image at shape (1, 3, 1120, 1984)\n",
      "\n",
      "0: 1120x1984 1 ball, 22 players, 32.3ms\n",
      "Speed: 12.1ms preprocess, 32.3ms inference, 1.2ms postprocess per image at shape (1, 3, 1120, 1984)\n"
     ]
    },
    {
     "name": "stdout",
     "output_type": "stream",
     "text": [
      "620\n",
      "621\n"
     ]
    },
    {
     "name": "stderr",
     "output_type": "stream",
     "text": [
      "\n",
      "0: 1120x1984 1 ball, 22 players, 32.3ms\n",
      "Speed: 12.3ms preprocess, 32.3ms inference, 1.2ms postprocess per image at shape (1, 3, 1120, 1984)\n",
      "\n",
      "0: 1120x1984 1 ball, 22 players, 32.3ms\n",
      "Speed: 11.1ms preprocess, 32.3ms inference, 1.3ms postprocess per image at shape (1, 3, 1120, 1984)\n"
     ]
    },
    {
     "name": "stdout",
     "output_type": "stream",
     "text": [
      "622\n",
      "623\n"
     ]
    },
    {
     "name": "stderr",
     "output_type": "stream",
     "text": [
      "\n",
      "0: 1120x1984 1 ball, 22 players, 32.3ms\n",
      "Speed: 12.1ms preprocess, 32.3ms inference, 1.2ms postprocess per image at shape (1, 3, 1120, 1984)\n",
      "\n",
      "0: 1120x1984 1 ball, 22 players, 32.3ms\n",
      "Speed: 11.3ms preprocess, 32.3ms inference, 1.2ms postprocess per image at shape (1, 3, 1120, 1984)\n"
     ]
    },
    {
     "name": "stdout",
     "output_type": "stream",
     "text": [
      "624\n",
      "625\n"
     ]
    },
    {
     "name": "stderr",
     "output_type": "stream",
     "text": [
      "\n",
      "0: 1120x1984 1 ball, 22 players, 32.3ms\n",
      "Speed: 11.4ms preprocess, 32.3ms inference, 1.2ms postprocess per image at shape (1, 3, 1120, 1984)\n",
      "\n"
     ]
    },
    {
     "name": "stdout",
     "output_type": "stream",
     "text": [
      "626\n",
      "627\n"
     ]
    },
    {
     "name": "stderr",
     "output_type": "stream",
     "text": [
      "0: 1120x1984 1 ball, 22 players, 32.3ms\n",
      "Speed: 12.0ms preprocess, 32.3ms inference, 1.3ms postprocess per image at shape (1, 3, 1120, 1984)\n",
      "\n",
      "0: 1120x1984 1 ball, 22 players, 32.3ms\n",
      "Speed: 11.3ms preprocess, 32.3ms inference, 1.2ms postprocess per image at shape (1, 3, 1120, 1984)\n",
      "\n",
      "0: 1120x1984 1 ball, 22 players, 32.3ms\n",
      "Speed: 11.6ms preprocess, 32.3ms inference, 1.2ms postprocess per image at shape (1, 3, 1120, 1984)\n"
     ]
    },
    {
     "name": "stdout",
     "output_type": "stream",
     "text": [
      "628\n",
      "629\n"
     ]
    },
    {
     "name": "stderr",
     "output_type": "stream",
     "text": [
      "\n",
      "0: 1120x1984 1 ball, 22 players, 32.3ms\n",
      "Speed: 12.0ms preprocess, 32.3ms inference, 1.3ms postprocess per image at shape (1, 3, 1120, 1984)\n",
      "\n",
      "0: 1120x1984 1 ball, 22 players, 32.3ms\n",
      "Speed: 11.9ms preprocess, 32.3ms inference, 1.2ms postprocess per image at shape (1, 3, 1120, 1984)\n"
     ]
    },
    {
     "name": "stdout",
     "output_type": "stream",
     "text": [
      "630\n",
      "631\n"
     ]
    },
    {
     "name": "stderr",
     "output_type": "stream",
     "text": [
      "\n",
      "0: 1120x1984 1 ball, 22 players, 32.3ms\n",
      "Speed: 12.2ms preprocess, 32.3ms inference, 1.2ms postprocess per image at shape (1, 3, 1120, 1984)\n",
      "\n",
      "0: 1120x1984 1 ball, 22 players, 32.3ms\n",
      "Speed: 11.9ms preprocess, 32.3ms inference, 1.3ms postprocess per image at shape (1, 3, 1120, 1984)\n"
     ]
    },
    {
     "name": "stdout",
     "output_type": "stream",
     "text": [
      "632\n",
      "633\n"
     ]
    },
    {
     "name": "stderr",
     "output_type": "stream",
     "text": [
      "\n",
      "0: 1120x1984 1 ball, 22 players, 32.3ms\n",
      "Speed: 12.0ms preprocess, 32.3ms inference, 1.2ms postprocess per image at shape (1, 3, 1120, 1984)\n",
      "\n",
      "0: 1120x1984 1 ball, 22 players, 32.3ms\n",
      "Speed: 12.0ms preprocess, 32.3ms inference, 1.2ms postprocess per image at shape (1, 3, 1120, 1984)\n"
     ]
    },
    {
     "name": "stdout",
     "output_type": "stream",
     "text": [
      "634\n",
      "635\n"
     ]
    },
    {
     "name": "stderr",
     "output_type": "stream",
     "text": [
      "\n",
      "0: 1120x1984 1 ball, 22 players, 32.3ms\n",
      "Speed: 11.8ms preprocess, 32.3ms inference, 1.3ms postprocess per image at shape (1, 3, 1120, 1984)\n",
      "\n",
      "0: 1120x1984 1 ball, 22 players, 32.3ms\n",
      "Speed: 11.8ms preprocess, 32.3ms inference, 1.2ms postprocess per image at shape (1, 3, 1120, 1984)\n"
     ]
    },
    {
     "name": "stdout",
     "output_type": "stream",
     "text": [
      "636\n",
      "637\n"
     ]
    },
    {
     "name": "stderr",
     "output_type": "stream",
     "text": [
      "\n",
      "0: 1120x1984 1 ball, 22 players, 32.3ms\n",
      "Speed: 11.7ms preprocess, 32.3ms inference, 1.2ms postprocess per image at shape (1, 3, 1120, 1984)\n",
      "\n",
      "0: 1120x1984 1 ball, 22 players, 32.3ms\n",
      "Speed: 11.5ms preprocess, 32.3ms inference, 1.3ms postprocess per image at shape (1, 3, 1120, 1984)\n"
     ]
    },
    {
     "name": "stdout",
     "output_type": "stream",
     "text": [
      "638\n",
      "639\n"
     ]
    },
    {
     "name": "stderr",
     "output_type": "stream",
     "text": [
      "\n",
      "0: 1120x1984 1 ball, 22 players, 32.3ms\n",
      "Speed: 11.3ms preprocess, 32.3ms inference, 1.2ms postprocess per image at shape (1, 3, 1120, 1984)\n",
      "\n",
      "0: 1120x1984 1 ball, 22 players, 32.3ms\n",
      "Speed: 12.0ms preprocess, 32.3ms inference, 1.3ms postprocess per image at shape (1, 3, 1120, 1984)\n"
     ]
    },
    {
     "name": "stdout",
     "output_type": "stream",
     "text": [
      "640\n",
      "641\n"
     ]
    },
    {
     "name": "stderr",
     "output_type": "stream",
     "text": [
      "\n",
      "0: 1120x1984 22 players, 32.3ms\n",
      "Speed: 11.8ms preprocess, 32.3ms inference, 1.2ms postprocess per image at shape (1, 3, 1120, 1984)\n",
      "\n",
      "0: 1120x1984 1 ball, 22 players, 32.3ms\n",
      "Speed: 11.9ms preprocess, 32.3ms inference, 1.2ms postprocess per image at shape (1, 3, 1120, 1984)\n"
     ]
    },
    {
     "name": "stdout",
     "output_type": "stream",
     "text": [
      "642\n",
      "643\n"
     ]
    },
    {
     "name": "stderr",
     "output_type": "stream",
     "text": [
      "\n",
      "0: 1120x1984 22 players, 32.3ms\n",
      "Speed: 11.2ms preprocess, 32.3ms inference, 1.3ms postprocess per image at shape (1, 3, 1120, 1984)\n",
      "\n",
      "0: 1120x1984 22 players, 32.3ms\n",
      "Speed: 11.6ms preprocess, 32.3ms inference, 1.2ms postprocess per image at shape (1, 3, 1120, 1984)\n"
     ]
    },
    {
     "name": "stdout",
     "output_type": "stream",
     "text": [
      "644\n",
      "645\n"
     ]
    },
    {
     "name": "stderr",
     "output_type": "stream",
     "text": [
      "\n",
      "0: 1120x1984 22 players, 32.3ms\n",
      "Speed: 12.1ms preprocess, 32.3ms inference, 1.2ms postprocess per image at shape (1, 3, 1120, 1984)\n",
      "\n",
      "0: 1120x1984 22 players, 32.3ms\n",
      "Speed: 11.9ms preprocess, 32.3ms inference, 1.2ms postprocess per image at shape (1, 3, 1120, 1984)\n"
     ]
    },
    {
     "name": "stdout",
     "output_type": "stream",
     "text": [
      "646\n",
      "647\n"
     ]
    },
    {
     "name": "stderr",
     "output_type": "stream",
     "text": [
      "\n",
      "0: 1120x1984 1 ball, 21 players, 32.3ms\n",
      "Speed: 11.4ms preprocess, 32.3ms inference, 1.2ms postprocess per image at shape (1, 3, 1120, 1984)\n",
      "\n",
      "0: 1120x1984 1 ball, 21 players, 32.3ms\n",
      "Speed: 11.4ms preprocess, 32.3ms inference, 1.3ms postprocess per image at shape (1, 3, 1120, 1984)\n"
     ]
    },
    {
     "name": "stdout",
     "output_type": "stream",
     "text": [
      "648\n",
      "649\n"
     ]
    },
    {
     "name": "stderr",
     "output_type": "stream",
     "text": [
      "\n",
      "0: 1120x1984 1 ball, 21 players, 32.3ms\n",
      "Speed: 12.2ms preprocess, 32.3ms inference, 1.3ms postprocess per image at shape (1, 3, 1120, 1984)\n",
      "\n",
      "0: 1120x1984 1 ball, 21 players, 32.3ms\n",
      "Speed: 11.3ms preprocess, 32.3ms inference, 1.2ms postprocess per image at shape (1, 3, 1120, 1984)\n"
     ]
    },
    {
     "name": "stdout",
     "output_type": "stream",
     "text": [
      "650\n",
      "651\n"
     ]
    },
    {
     "name": "stderr",
     "output_type": "stream",
     "text": [
      "\n",
      "0: 1120x1984 1 ball, 22 players, 32.3ms\n",
      "Speed: 11.3ms preprocess, 32.3ms inference, 1.2ms postprocess per image at shape (1, 3, 1120, 1984)\n",
      "\n",
      "0: 1120x1984 1 ball, 22 players, 32.3ms\n",
      "Speed: 11.9ms preprocess, 32.3ms inference, 1.2ms postprocess per image at shape (1, 3, 1120, 1984)\n"
     ]
    },
    {
     "name": "stdout",
     "output_type": "stream",
     "text": [
      "652\n",
      "653\n"
     ]
    },
    {
     "name": "stderr",
     "output_type": "stream",
     "text": [
      "\n",
      "0: 1120x1984 1 ball, 22 players, 32.3ms\n",
      "Speed: 12.1ms preprocess, 32.3ms inference, 1.2ms postprocess per image at shape (1, 3, 1120, 1984)\n",
      "\n",
      "0: 1120x1984 1 ball, 22 players, 32.3ms\n",
      "Speed: 12.1ms preprocess, 32.3ms inference, 1.2ms postprocess per image at shape (1, 3, 1120, 1984)\n"
     ]
    },
    {
     "name": "stdout",
     "output_type": "stream",
     "text": [
      "654\n",
      "655\n"
     ]
    },
    {
     "name": "stderr",
     "output_type": "stream",
     "text": [
      "\n",
      "0: 1120x1984 23 players, 32.3ms\n",
      "Speed: 11.5ms preprocess, 32.3ms inference, 1.2ms postprocess per image at shape (1, 3, 1120, 1984)\n",
      "\n"
     ]
    },
    {
     "name": "stdout",
     "output_type": "stream",
     "text": [
      "656\n",
      "657\n"
     ]
    },
    {
     "name": "stderr",
     "output_type": "stream",
     "text": [
      "0: 1120x1984 1 ball, 22 players, 32.3ms\n",
      "Speed: 11.4ms preprocess, 32.3ms inference, 1.3ms postprocess per image at shape (1, 3, 1120, 1984)\n",
      "\n",
      "0: 1120x1984 1 ball, 22 players, 32.3ms\n",
      "Speed: 11.2ms preprocess, 32.3ms inference, 1.2ms postprocess per image at shape (1, 3, 1120, 1984)\n",
      "\n",
      "0: 1120x1984 1 ball, 22 players, 32.3ms\n",
      "Speed: 12.1ms preprocess, 32.3ms inference, 1.2ms postprocess per image at shape (1, 3, 1120, 1984)\n"
     ]
    },
    {
     "name": "stdout",
     "output_type": "stream",
     "text": [
      "658\n",
      "659\n"
     ]
    },
    {
     "name": "stderr",
     "output_type": "stream",
     "text": [
      "\n",
      "0: 1120x1984 1 ball, 22 players, 32.3ms\n",
      "Speed: 11.1ms preprocess, 32.3ms inference, 1.2ms postprocess per image at shape (1, 3, 1120, 1984)\n",
      "\n",
      "0: 1120x1984 1 ball, 22 players, 32.3ms\n",
      "Speed: 11.5ms preprocess, 32.3ms inference, 1.3ms postprocess per image at shape (1, 3, 1120, 1984)\n"
     ]
    },
    {
     "name": "stdout",
     "output_type": "stream",
     "text": [
      "660\n",
      "661\n"
     ]
    },
    {
     "name": "stderr",
     "output_type": "stream",
     "text": [
      "\n",
      "0: 1120x1984 1 ball, 22 players, 32.3ms\n",
      "Speed: 11.0ms preprocess, 32.3ms inference, 1.3ms postprocess per image at shape (1, 3, 1120, 1984)\n",
      "\n",
      "0: 1120x1984 1 ball, 22 players, 32.3ms\n",
      "Speed: 11.5ms preprocess, 32.3ms inference, 1.3ms postprocess per image at shape (1, 3, 1120, 1984)\n"
     ]
    },
    {
     "name": "stdout",
     "output_type": "stream",
     "text": [
      "662\n",
      "663\n"
     ]
    },
    {
     "name": "stderr",
     "output_type": "stream",
     "text": [
      "\n",
      "0: 1120x1984 1 ball, 22 players, 32.3ms\n",
      "Speed: 11.2ms preprocess, 32.3ms inference, 1.2ms postprocess per image at shape (1, 3, 1120, 1984)\n",
      "\n",
      "0: 1120x1984 1 ball, 22 players, 32.3ms\n",
      "Speed: 11.3ms preprocess, 32.3ms inference, 1.2ms postprocess per image at shape (1, 3, 1120, 1984)\n"
     ]
    },
    {
     "name": "stdout",
     "output_type": "stream",
     "text": [
      "664\n",
      "665\n"
     ]
    },
    {
     "name": "stderr",
     "output_type": "stream",
     "text": [
      "\n",
      "0: 1120x1984 1 ball, 22 players, 32.3ms\n",
      "Speed: 12.1ms preprocess, 32.3ms inference, 1.2ms postprocess per image at shape (1, 3, 1120, 1984)\n",
      "\n",
      "0: 1120x1984 1 ball, 22 players, 32.3ms\n",
      "Speed: 11.8ms preprocess, 32.3ms inference, 1.2ms postprocess per image at shape (1, 3, 1120, 1984)\n"
     ]
    },
    {
     "name": "stdout",
     "output_type": "stream",
     "text": [
      "666\n",
      "667\n"
     ]
    },
    {
     "name": "stderr",
     "output_type": "stream",
     "text": [
      "\n",
      "0: 1120x1984 1 ball, 22 players, 32.3ms\n",
      "Speed: 11.3ms preprocess, 32.3ms inference, 1.2ms postprocess per image at shape (1, 3, 1120, 1984)\n",
      "\n",
      "0: 1120x1984 1 ball, 22 players, 32.3ms\n",
      "Speed: 12.3ms preprocess, 32.3ms inference, 1.2ms postprocess per image at shape (1, 3, 1120, 1984)\n"
     ]
    },
    {
     "name": "stdout",
     "output_type": "stream",
     "text": [
      "668\n",
      "669\n"
     ]
    },
    {
     "name": "stderr",
     "output_type": "stream",
     "text": [
      "\n",
      "0: 1120x1984 1 ball, 22 players, 32.3ms\n",
      "Speed: 11.3ms preprocess, 32.3ms inference, 1.2ms postprocess per image at shape (1, 3, 1120, 1984)\n",
      "\n",
      "0: 1120x1984 1 ball, 22 players, 32.3ms\n",
      "Speed: 11.1ms preprocess, 32.3ms inference, 1.2ms postprocess per image at shape (1, 3, 1120, 1984)\n"
     ]
    },
    {
     "name": "stdout",
     "output_type": "stream",
     "text": [
      "670\n",
      "671\n"
     ]
    },
    {
     "name": "stderr",
     "output_type": "stream",
     "text": [
      "\n",
      "0: 1120x1984 1 ball, 22 players, 32.3ms\n",
      "Speed: 11.3ms preprocess, 32.3ms inference, 1.3ms postprocess per image at shape (1, 3, 1120, 1984)\n",
      "\n",
      "0: 1120x1984 1 ball, 22 players, 32.3ms\n",
      "Speed: 11.5ms preprocess, 32.3ms inference, 1.2ms postprocess per image at shape (1, 3, 1120, 1984)\n"
     ]
    },
    {
     "name": "stdout",
     "output_type": "stream",
     "text": [
      "672\n",
      "673\n"
     ]
    },
    {
     "name": "stderr",
     "output_type": "stream",
     "text": [
      "\n",
      "0: 1120x1984 1 ball, 22 players, 32.3ms\n",
      "Speed: 11.5ms preprocess, 32.3ms inference, 1.2ms postprocess per image at shape (1, 3, 1120, 1984)\n",
      "\n",
      "0: 1120x1984 1 ball, 22 players, 32.3ms\n",
      "Speed: 11.4ms preprocess, 32.3ms inference, 1.2ms postprocess per image at shape (1, 3, 1120, 1984)\n"
     ]
    },
    {
     "name": "stdout",
     "output_type": "stream",
     "text": [
      "674\n",
      "675\n"
     ]
    },
    {
     "name": "stderr",
     "output_type": "stream",
     "text": [
      "\n",
      "0: 1120x1984 1 ball, 22 players, 32.3ms\n",
      "Speed: 11.1ms preprocess, 32.3ms inference, 1.2ms postprocess per image at shape (1, 3, 1120, 1984)\n",
      "\n",
      "0: 1120x1984 1 ball, 22 players, 32.3ms\n",
      "Speed: 11.0ms preprocess, 32.3ms inference, 1.2ms postprocess per image at shape (1, 3, 1120, 1984)\n"
     ]
    },
    {
     "name": "stdout",
     "output_type": "stream",
     "text": [
      "676\n",
      "677\n"
     ]
    },
    {
     "name": "stderr",
     "output_type": "stream",
     "text": [
      "\n",
      "0: 1120x1984 1 ball, 22 players, 32.3ms\n",
      "Speed: 11.5ms preprocess, 32.3ms inference, 1.2ms postprocess per image at shape (1, 3, 1120, 1984)\n",
      "\n",
      "0: 1120x1984 1 ball, 22 players, 32.3ms\n",
      "Speed: 11.4ms preprocess, 32.3ms inference, 1.2ms postprocess per image at shape (1, 3, 1120, 1984)\n"
     ]
    },
    {
     "name": "stdout",
     "output_type": "stream",
     "text": [
      "678\n",
      "679\n"
     ]
    },
    {
     "name": "stderr",
     "output_type": "stream",
     "text": [
      "\n",
      "0: 1120x1984 1 ball, 22 players, 32.3ms\n",
      "Speed: 11.8ms preprocess, 32.3ms inference, 1.2ms postprocess per image at shape (1, 3, 1120, 1984)\n",
      "\n",
      "0: 1120x1984 1 ball, 22 players, 32.3ms\n",
      "Speed: 11.3ms preprocess, 32.3ms inference, 1.2ms postprocess per image at shape (1, 3, 1120, 1984)\n"
     ]
    },
    {
     "name": "stdout",
     "output_type": "stream",
     "text": [
      "680\n",
      "681\n"
     ]
    },
    {
     "name": "stderr",
     "output_type": "stream",
     "text": [
      "\n",
      "0: 1120x1984 1 ball, 22 players, 32.3ms\n",
      "Speed: 11.1ms preprocess, 32.3ms inference, 1.2ms postprocess per image at shape (1, 3, 1120, 1984)\n",
      "\n",
      "0: 1120x1984 1 ball, 23 players, 32.3ms\n",
      "Speed: 12.2ms preprocess, 32.3ms inference, 1.2ms postprocess per image at shape (1, 3, 1120, 1984)\n"
     ]
    },
    {
     "name": "stdout",
     "output_type": "stream",
     "text": [
      "682\n",
      "683\n"
     ]
    },
    {
     "name": "stderr",
     "output_type": "stream",
     "text": [
      "\n",
      "0: 1120x1984 1 ball, 22 players, 32.3ms\n",
      "Speed: 11.3ms preprocess, 32.3ms inference, 1.3ms postprocess per image at shape (1, 3, 1120, 1984)\n",
      "\n",
      "0: 1120x1984 1 ball, 23 players, 32.3ms\n",
      "Speed: 12.0ms preprocess, 32.3ms inference, 1.3ms postprocess per image at shape (1, 3, 1120, 1984)\n"
     ]
    },
    {
     "name": "stdout",
     "output_type": "stream",
     "text": [
      "684\n",
      "685\n"
     ]
    },
    {
     "name": "stderr",
     "output_type": "stream",
     "text": [
      "\n",
      "0: 1120x1984 1 ball, 23 players, 32.3ms\n",
      "Speed: 12.2ms preprocess, 32.3ms inference, 1.3ms postprocess per image at shape (1, 3, 1120, 1984)\n",
      "\n",
      "0: 1120x1984 1 ball, 22 players, 32.3ms\n",
      "Speed: 12.2ms preprocess, 32.3ms inference, 1.2ms postprocess per image at shape (1, 3, 1120, 1984)\n"
     ]
    },
    {
     "name": "stdout",
     "output_type": "stream",
     "text": [
      "686\n",
      "687\n"
     ]
    },
    {
     "name": "stderr",
     "output_type": "stream",
     "text": [
      "\n",
      "0: 1120x1984 1 ball, 22 players, 32.3ms\n",
      "Speed: 12.0ms preprocess, 32.3ms inference, 1.4ms postprocess per image at shape (1, 3, 1120, 1984)\n",
      "\n"
     ]
    },
    {
     "name": "stdout",
     "output_type": "stream",
     "text": [
      "688\n",
      "689\n"
     ]
    },
    {
     "name": "stderr",
     "output_type": "stream",
     "text": [
      "0: 1120x1984 1 ball, 22 players, 32.3ms\n",
      "Speed: 11.9ms preprocess, 32.3ms inference, 1.2ms postprocess per image at shape (1, 3, 1120, 1984)\n",
      "\n",
      "0: 1120x1984 1 ball, 22 players, 32.3ms\n",
      "Speed: 11.5ms preprocess, 32.3ms inference, 1.2ms postprocess per image at shape (1, 3, 1120, 1984)\n",
      "\n",
      "0: 1120x1984 1 ball, 22 players, 32.3ms\n",
      "Speed: 11.3ms preprocess, 32.3ms inference, 1.2ms postprocess per image at shape (1, 3, 1120, 1984)\n"
     ]
    },
    {
     "name": "stdout",
     "output_type": "stream",
     "text": [
      "690\n",
      "691\n"
     ]
    },
    {
     "name": "stderr",
     "output_type": "stream",
     "text": [
      "\n",
      "0: 1120x1984 1 ball, 22 players, 32.3ms\n",
      "Speed: 11.9ms preprocess, 32.3ms inference, 1.2ms postprocess per image at shape (1, 3, 1120, 1984)\n",
      "\n",
      "0: 1120x1984 1 ball, 22 players, 32.3ms\n",
      "Speed: 11.5ms preprocess, 32.3ms inference, 1.2ms postprocess per image at shape (1, 3, 1120, 1984)\n"
     ]
    },
    {
     "name": "stdout",
     "output_type": "stream",
     "text": [
      "692\n",
      "693\n"
     ]
    },
    {
     "name": "stderr",
     "output_type": "stream",
     "text": [
      "\n",
      "0: 1120x1984 1 ball, 22 players, 32.3ms\n",
      "Speed: 11.6ms preprocess, 32.3ms inference, 1.3ms postprocess per image at shape (1, 3, 1120, 1984)\n",
      "\n",
      "0: 1120x1984 1 ball, 22 players, 32.3ms\n",
      "Speed: 11.4ms preprocess, 32.3ms inference, 1.2ms postprocess per image at shape (1, 3, 1120, 1984)\n"
     ]
    },
    {
     "name": "stdout",
     "output_type": "stream",
     "text": [
      "694\n",
      "695\n"
     ]
    },
    {
     "name": "stderr",
     "output_type": "stream",
     "text": [
      "\n",
      "0: 1120x1984 1 ball, 22 players, 32.3ms\n",
      "Speed: 11.7ms preprocess, 32.3ms inference, 1.2ms postprocess per image at shape (1, 3, 1120, 1984)\n",
      "\n",
      "0: 1120x1984 1 ball, 22 players, 32.3ms\n",
      "Speed: 11.3ms preprocess, 32.3ms inference, 1.2ms postprocess per image at shape (1, 3, 1120, 1984)\n"
     ]
    },
    {
     "name": "stdout",
     "output_type": "stream",
     "text": [
      "696\n",
      "697\n"
     ]
    },
    {
     "name": "stderr",
     "output_type": "stream",
     "text": [
      "\n",
      "0: 1120x1984 1 ball, 22 players, 32.3ms\n",
      "Speed: 11.4ms preprocess, 32.3ms inference, 1.3ms postprocess per image at shape (1, 3, 1120, 1984)\n",
      "\n",
      "0: 1120x1984 1 ball, 22 players, 32.3ms\n",
      "Speed: 11.5ms preprocess, 32.3ms inference, 1.2ms postprocess per image at shape (1, 3, 1120, 1984)\n"
     ]
    },
    {
     "name": "stdout",
     "output_type": "stream",
     "text": [
      "698\n",
      "699\n"
     ]
    },
    {
     "name": "stderr",
     "output_type": "stream",
     "text": [
      "\n",
      "0: 1120x1984 1 ball, 22 players, 32.3ms\n",
      "Speed: 12.0ms preprocess, 32.3ms inference, 1.2ms postprocess per image at shape (1, 3, 1120, 1984)\n",
      "\n",
      "0: 1120x1984 1 ball, 22 players, 32.3ms\n",
      "Speed: 11.6ms preprocess, 32.3ms inference, 1.2ms postprocess per image at shape (1, 3, 1120, 1984)\n"
     ]
    },
    {
     "name": "stdout",
     "output_type": "stream",
     "text": [
      "700\n",
      "701\n"
     ]
    },
    {
     "name": "stderr",
     "output_type": "stream",
     "text": [
      "\n",
      "0: 1120x1984 1 ball, 22 players, 32.3ms\n",
      "Speed: 12.1ms preprocess, 32.3ms inference, 1.3ms postprocess per image at shape (1, 3, 1120, 1984)\n",
      "\n",
      "0: 1120x1984 1 ball, 22 players, 32.3ms\n",
      "Speed: 12.2ms preprocess, 32.3ms inference, 1.3ms postprocess per image at shape (1, 3, 1120, 1984)\n"
     ]
    },
    {
     "name": "stdout",
     "output_type": "stream",
     "text": [
      "702\n",
      "703\n"
     ]
    },
    {
     "name": "stderr",
     "output_type": "stream",
     "text": [
      "\n",
      "0: 1120x1984 1 ball, 22 players, 32.3ms\n",
      "Speed: 12.0ms preprocess, 32.3ms inference, 1.2ms postprocess per image at shape (1, 3, 1120, 1984)\n",
      "\n",
      "0: 1120x1984 1 ball, 22 players, 32.3ms\n"
     ]
    },
    {
     "name": "stdout",
     "output_type": "stream",
     "text": [
      "704\n",
      "705\n"
     ]
    },
    {
     "name": "stderr",
     "output_type": "stream",
     "text": [
      "Speed: 11.6ms preprocess, 32.3ms inference, 1.3ms postprocess per image at shape (1, 3, 1120, 1984)\n",
      "\n",
      "0: 1120x1984 1 ball, 22 players, 32.3ms\n",
      "Speed: 11.7ms preprocess, 32.3ms inference, 1.3ms postprocess per image at shape (1, 3, 1120, 1984)\n",
      "\n",
      "0: 1120x1984 1 ball, 22 players, 32.3ms\n",
      "Speed: 12.3ms preprocess, 32.3ms inference, 1.2ms postprocess per image at shape (1, 3, 1120, 1984)\n"
     ]
    },
    {
     "name": "stdout",
     "output_type": "stream",
     "text": [
      "706\n",
      "707\n"
     ]
    },
    {
     "name": "stderr",
     "output_type": "stream",
     "text": [
      "\n",
      "0: 1120x1984 1 ball, 22 players, 32.3ms\n",
      "Speed: 12.5ms preprocess, 32.3ms inference, 1.2ms postprocess per image at shape (1, 3, 1120, 1984)\n",
      "\n"
     ]
    },
    {
     "name": "stdout",
     "output_type": "stream",
     "text": [
      "708\n",
      "709\n"
     ]
    },
    {
     "name": "stderr",
     "output_type": "stream",
     "text": [
      "0: 1120x1984 1 ball, 22 players, 32.3ms\n",
      "Speed: 12.1ms preprocess, 32.3ms inference, 1.3ms postprocess per image at shape (1, 3, 1120, 1984)\n",
      "\n",
      "0: 1120x1984 1 ball, 22 players, 32.3ms\n",
      "Speed: 12.0ms preprocess, 32.3ms inference, 1.2ms postprocess per image at shape (1, 3, 1120, 1984)\n",
      "\n",
      "0: 1120x1984 1 ball, 23 players, 32.3ms\n",
      "Speed: 12.0ms preprocess, 32.3ms inference, 1.3ms postprocess per image at shape (1, 3, 1120, 1984)\n"
     ]
    },
    {
     "name": "stdout",
     "output_type": "stream",
     "text": [
      "710\n",
      "711\n"
     ]
    },
    {
     "name": "stderr",
     "output_type": "stream",
     "text": [
      "\n",
      "0: 1120x1984 1 ball, 22 players, 32.3ms\n",
      "Speed: 11.6ms preprocess, 32.3ms inference, 1.2ms postprocess per image at shape (1, 3, 1120, 1984)\n",
      "\n",
      "0: 1120x1984 1 ball, 22 players, 32.3ms\n",
      "Speed: 12.6ms preprocess, 32.3ms inference, 1.2ms postprocess per image at shape (1, 3, 1120, 1984)\n"
     ]
    },
    {
     "name": "stdout",
     "output_type": "stream",
     "text": [
      "712\n",
      "713\n"
     ]
    },
    {
     "name": "stderr",
     "output_type": "stream",
     "text": [
      "\n",
      "0: 1120x1984 1 ball, 22 players, 32.3ms\n",
      "Speed: 12.2ms preprocess, 32.3ms inference, 1.2ms postprocess per image at shape (1, 3, 1120, 1984)\n",
      "\n",
      "0: 1120x1984 1 ball, 22 players, 32.3ms\n"
     ]
    },
    {
     "name": "stdout",
     "output_type": "stream",
     "text": [
      "714\n",
      "715\n"
     ]
    },
    {
     "name": "stderr",
     "output_type": "stream",
     "text": [
      "Speed: 12.1ms preprocess, 32.3ms inference, 1.2ms postprocess per image at shape (1, 3, 1120, 1984)\n",
      "\n",
      "0: 1120x1984 1 ball, 22 players, 32.3ms\n",
      "Speed: 11.9ms preprocess, 32.3ms inference, 1.2ms postprocess per image at shape (1, 3, 1120, 1984)\n",
      "\n"
     ]
    },
    {
     "name": "stdout",
     "output_type": "stream",
     "text": [
      "716\n",
      "717\n"
     ]
    },
    {
     "name": "stderr",
     "output_type": "stream",
     "text": [
      "0: 1120x1984 1 ball, 22 players, 32.3ms\n",
      "Speed: 12.2ms preprocess, 32.3ms inference, 1.3ms postprocess per image at shape (1, 3, 1120, 1984)\n",
      "\n",
      "0: 1120x1984 1 ball, 22 players, 32.3ms\n",
      "Speed: 11.9ms preprocess, 32.3ms inference, 1.2ms postprocess per image at shape (1, 3, 1120, 1984)\n",
      "\n",
      "0: 1120x1984 1 ball, 22 players, 32.3ms\n"
     ]
    },
    {
     "name": "stdout",
     "output_type": "stream",
     "text": [
      "718\n",
      "719\n"
     ]
    },
    {
     "name": "stderr",
     "output_type": "stream",
     "text": [
      "Speed: 12.0ms preprocess, 32.3ms inference, 1.3ms postprocess per image at shape (1, 3, 1120, 1984)\n",
      "\n",
      "0: 1120x1984 1 ball, 22 players, 32.3ms\n",
      "Speed: 11.5ms preprocess, 32.3ms inference, 1.3ms postprocess per image at shape (1, 3, 1120, 1984)\n",
      "\n"
     ]
    },
    {
     "name": "stdout",
     "output_type": "stream",
     "text": [
      "720\n",
      "721\n"
     ]
    },
    {
     "name": "stderr",
     "output_type": "stream",
     "text": [
      "0: 1120x1984 1 ball, 22 players, 32.3ms\n",
      "Speed: 11.6ms preprocess, 32.3ms inference, 1.3ms postprocess per image at shape (1, 3, 1120, 1984)\n",
      "\n",
      "0: 1120x1984 1 ball, 22 players, 32.3ms\n",
      "Speed: 12.3ms preprocess, 32.3ms inference, 1.2ms postprocess per image at shape (1, 3, 1120, 1984)\n",
      "\n",
      "0: 1120x1984 1 ball, 22 players, 32.3ms\n"
     ]
    },
    {
     "name": "stdout",
     "output_type": "stream",
     "text": [
      "722\n",
      "723\n"
     ]
    },
    {
     "name": "stderr",
     "output_type": "stream",
     "text": [
      "Speed: 12.0ms preprocess, 32.3ms inference, 1.3ms postprocess per image at shape (1, 3, 1120, 1984)\n",
      "\n",
      "0: 1120x1984 1 ball, 22 players, 32.3ms\n",
      "Speed: 11.2ms preprocess, 32.3ms inference, 1.2ms postprocess per image at shape (1, 3, 1120, 1984)\n",
      "\n",
      "0: 1120x1984 1 ball, 22 players, 32.3ms\n"
     ]
    },
    {
     "name": "stdout",
     "output_type": "stream",
     "text": [
      "724\n",
      "725\n"
     ]
    },
    {
     "name": "stderr",
     "output_type": "stream",
     "text": [
      "Speed: 12.1ms preprocess, 32.3ms inference, 1.2ms postprocess per image at shape (1, 3, 1120, 1984)\n",
      "\n",
      "0: 1120x1984 1 ball, 22 players, 32.3ms\n",
      "Speed: 11.6ms preprocess, 32.3ms inference, 1.3ms postprocess per image at shape (1, 3, 1120, 1984)\n",
      "\n",
      "0: 1120x1984 1 ball, 22 players, 32.3ms\n"
     ]
    },
    {
     "name": "stdout",
     "output_type": "stream",
     "text": [
      "726\n",
      "727\n"
     ]
    },
    {
     "name": "stderr",
     "output_type": "stream",
     "text": [
      "Speed: 13.1ms preprocess, 32.3ms inference, 1.3ms postprocess per image at shape (1, 3, 1120, 1984)\n",
      "\n",
      "0: 1120x1984 1 ball, 22 players, 32.3ms\n",
      "Speed: 11.5ms preprocess, 32.3ms inference, 1.2ms postprocess per image at shape (1, 3, 1120, 1984)\n",
      "\n",
      "0: 1120x1984 1 ball, 23 players, 32.3ms\n"
     ]
    },
    {
     "name": "stdout",
     "output_type": "stream",
     "text": [
      "728\n",
      "729\n"
     ]
    },
    {
     "name": "stderr",
     "output_type": "stream",
     "text": [
      "Speed: 11.1ms preprocess, 32.3ms inference, 1.2ms postprocess per image at shape (1, 3, 1120, 1984)\n",
      "\n",
      "0: 1120x1984 1 ball, 22 players, 32.3ms\n",
      "Speed: 11.9ms preprocess, 32.3ms inference, 1.4ms postprocess per image at shape (1, 3, 1120, 1984)\n",
      "\n",
      "0: 1120x1984 1 ball, 22 players, 32.3ms\n",
      "Speed: 11.3ms preprocess, 32.3ms inference, 1.2ms postprocess per image at shape (1, 3, 1120, 1984)\n"
     ]
    },
    {
     "name": "stdout",
     "output_type": "stream",
     "text": [
      "730\n",
      "731\n"
     ]
    },
    {
     "name": "stderr",
     "output_type": "stream",
     "text": [
      "\n",
      "0: 1120x1984 1 ball, 22 players, 32.3ms\n",
      "Speed: 12.1ms preprocess, 32.3ms inference, 1.3ms postprocess per image at shape (1, 3, 1120, 1984)\n",
      "\n"
     ]
    },
    {
     "name": "stdout",
     "output_type": "stream",
     "text": [
      "732\n",
      "733\n"
     ]
    },
    {
     "name": "stderr",
     "output_type": "stream",
     "text": [
      "0: 1120x1984 1 ball, 22 players, 32.3ms\n",
      "Speed: 12.2ms preprocess, 32.3ms inference, 2.9ms postprocess per image at shape (1, 3, 1120, 1984)\n",
      "\n",
      "0: 1120x1984 1 ball, 22 players, 32.3ms\n",
      "Speed: 12.2ms preprocess, 32.3ms inference, 1.2ms postprocess per image at shape (1, 3, 1120, 1984)\n",
      "\n",
      "0: 1120x1984 1 ball, 22 players, 32.3ms\n",
      "Speed: 12.4ms preprocess, 32.3ms inference, 1.3ms postprocess per image at shape (1, 3, 1120, 1984)\n"
     ]
    },
    {
     "name": "stdout",
     "output_type": "stream",
     "text": [
      "734\n",
      "735\n"
     ]
    },
    {
     "name": "stderr",
     "output_type": "stream",
     "text": [
      "\n",
      "0: 1120x1984 1 ball, 23 players, 32.3ms\n",
      "Speed: 11.0ms preprocess, 32.3ms inference, 1.3ms postprocess per image at shape (1, 3, 1120, 1984)\n",
      "\n",
      "0: 1120x1984 1 ball, 23 players, 32.3ms\n",
      "Speed: 11.4ms preprocess, 32.3ms inference, 1.2ms postprocess per image at shape (1, 3, 1120, 1984)\n"
     ]
    },
    {
     "name": "stdout",
     "output_type": "stream",
     "text": [
      "736\n",
      "737\n"
     ]
    },
    {
     "name": "stderr",
     "output_type": "stream",
     "text": [
      "\n",
      "0: 1120x1984 1 ball, 23 players, 32.3ms\n",
      "Speed: 11.4ms preprocess, 32.3ms inference, 1.2ms postprocess per image at shape (1, 3, 1120, 1984)\n",
      "\n",
      "0: 1120x1984 1 ball, 23 players, 32.3ms\n",
      "Speed: 11.9ms preprocess, 32.3ms inference, 1.4ms postprocess per image at shape (1, 3, 1120, 1984)\n"
     ]
    },
    {
     "name": "stdout",
     "output_type": "stream",
     "text": [
      "738\n",
      "739\n"
     ]
    },
    {
     "name": "stderr",
     "output_type": "stream",
     "text": [
      "\n",
      "0: 1120x1984 1 ball, 23 players, 32.3ms\n",
      "Speed: 11.3ms preprocess, 32.3ms inference, 1.2ms postprocess per image at shape (1, 3, 1120, 1984)\n",
      "\n",
      "0: 1120x1984 1 ball, 23 players, 32.3ms\n",
      "Speed: 12.7ms preprocess, 32.3ms inference, 1.2ms postprocess per image at shape (1, 3, 1120, 1984)\n"
     ]
    },
    {
     "name": "stdout",
     "output_type": "stream",
     "text": [
      "740\n",
      "741\n"
     ]
    },
    {
     "name": "stderr",
     "output_type": "stream",
     "text": [
      "\n",
      "0: 1120x1984 1 ball, 23 players, 32.3ms\n",
      "Speed: 11.6ms preprocess, 32.3ms inference, 1.3ms postprocess per image at shape (1, 3, 1120, 1984)\n",
      "\n",
      "0: 1120x1984 1 ball, 23 players, 32.3ms\n",
      "Speed: 11.7ms preprocess, 32.3ms inference, 1.3ms postprocess per image at shape (1, 3, 1120, 1984)\n"
     ]
    },
    {
     "name": "stdout",
     "output_type": "stream",
     "text": [
      "742\n",
      "743\n"
     ]
    },
    {
     "name": "stderr",
     "output_type": "stream",
     "text": [
      "\n",
      "0: 1120x1984 1 ball, 23 players, 32.3ms\n",
      "Speed: 11.8ms preprocess, 32.3ms inference, 1.2ms postprocess per image at shape (1, 3, 1120, 1984)\n",
      "\n",
      "0: 1120x1984 1 ball, 23 players, 32.3ms\n",
      "Speed: 12.0ms preprocess, 32.3ms inference, 1.3ms postprocess per image at shape (1, 3, 1120, 1984)\n"
     ]
    },
    {
     "name": "stdout",
     "output_type": "stream",
     "text": [
      "744\n",
      "745\n"
     ]
    },
    {
     "name": "stderr",
     "output_type": "stream",
     "text": [
      "\n",
      "0: 1120x1984 1 ball, 23 players, 32.3ms\n",
      "Speed: 12.6ms preprocess, 32.3ms inference, 1.2ms postprocess per image at shape (1, 3, 1120, 1984)\n",
      "\n",
      "0: 1120x1984 1 ball, 23 players, 32.3ms\n",
      "Speed: 12.1ms preprocess, 32.3ms inference, 1.2ms postprocess per image at shape (1, 3, 1120, 1984)\n"
     ]
    },
    {
     "name": "stdout",
     "output_type": "stream",
     "text": [
      "746\n",
      "747\n"
     ]
    },
    {
     "name": "stderr",
     "output_type": "stream",
     "text": [
      "\n",
      "0: 1120x1984 1 ball, 23 players, 32.3ms\n",
      "Speed: 11.7ms preprocess, 32.3ms inference, 1.2ms postprocess per image at shape (1, 3, 1120, 1984)\n",
      "\n"
     ]
    },
    {
     "name": "stdout",
     "output_type": "stream",
     "text": [
      "748\n",
      "749\n"
     ]
    },
    {
     "name": "stderr",
     "output_type": "stream",
     "text": [
      "0: 1120x1984 1 ball, 23 players, 32.3ms\n",
      "Speed: 11.8ms preprocess, 32.3ms inference, 1.2ms postprocess per image at shape (1, 3, 1120, 1984)\n",
      "\n",
      "0: 1120x1984 1 ball, 23 players, 32.3ms\n",
      "Speed: 11.7ms preprocess, 32.3ms inference, 1.3ms postprocess per image at shape (1, 3, 1120, 1984)\n",
      "\n"
     ]
    },
    {
     "name": "stdout",
     "output_type": "stream",
     "text": [
      "750\n",
      "751\n"
     ]
    },
    {
     "name": "stderr",
     "output_type": "stream",
     "text": [
      "0: 1120x1984 1 ball, 23 players, 32.3ms\n",
      "Speed: 11.5ms preprocess, 32.3ms inference, 1.2ms postprocess per image at shape (1, 3, 1120, 1984)\n",
      "\n",
      "0: 1120x1984 1 ball, 23 players, 32.3ms\n",
      "Speed: 11.5ms preprocess, 32.3ms inference, 1.3ms postprocess per image at shape (1, 3, 1120, 1984)\n",
      "\n",
      "0: 1120x1984 1 ball, 23 players, 32.3ms\n"
     ]
    },
    {
     "name": "stdout",
     "output_type": "stream",
     "text": [
      "752\n",
      "753\n"
     ]
    },
    {
     "name": "stderr",
     "output_type": "stream",
     "text": [
      "Speed: 11.9ms preprocess, 32.3ms inference, 1.3ms postprocess per image at shape (1, 3, 1120, 1984)\n",
      "\n",
      "0: 1120x1984 1 ball, 23 players, 32.3ms\n",
      "Speed: 12.5ms preprocess, 32.3ms inference, 1.3ms postprocess per image at shape (1, 3, 1120, 1984)\n",
      "\n",
      "0: 1120x1984 1 ball, 23 players, 32.3ms\n",
      "Speed: 11.6ms preprocess, 32.3ms inference, 1.3ms postprocess per image at shape (1, 3, 1120, 1984)\n"
     ]
    },
    {
     "name": "stdout",
     "output_type": "stream",
     "text": [
      "754\n",
      "755\n"
     ]
    },
    {
     "name": "stderr",
     "output_type": "stream",
     "text": [
      "\n",
      "0: 1120x1984 1 ball, 23 players, 32.3ms\n",
      "Speed: 12.0ms preprocess, 32.3ms inference, 1.2ms postprocess per image at shape (1, 3, 1120, 1984)\n",
      "\n",
      "0: 1120x1984 1 ball, 23 players, 32.3ms\n",
      "Speed: 11.8ms preprocess, 32.3ms inference, 1.3ms postprocess per image at shape (1, 3, 1120, 1984)\n"
     ]
    },
    {
     "name": "stdout",
     "output_type": "stream",
     "text": [
      "756\n",
      "757\n"
     ]
    },
    {
     "name": "stderr",
     "output_type": "stream",
     "text": [
      "\n",
      "0: 1120x1984 1 ball, 22 players, 32.3ms\n",
      "Speed: 12.0ms preprocess, 32.3ms inference, 1.2ms postprocess per image at shape (1, 3, 1120, 1984)\n",
      "\n"
     ]
    },
    {
     "name": "stdout",
     "output_type": "stream",
     "text": [
      "758\n",
      "759\n"
     ]
    },
    {
     "name": "stderr",
     "output_type": "stream",
     "text": [
      "0: 1120x1984 1 ball, 22 players, 32.3ms\n",
      "Speed: 11.9ms preprocess, 32.3ms inference, 1.2ms postprocess per image at shape (1, 3, 1120, 1984)\n",
      "\n",
      "0: 1120x1984 1 ball, 23 players, 32.3ms\n",
      "Speed: 11.1ms preprocess, 32.3ms inference, 1.3ms postprocess per image at shape (1, 3, 1120, 1984)\n",
      "\n",
      "0: 1120x1984 1 ball, 22 players, 32.3ms\n",
      "Speed: 11.1ms preprocess, 32.3ms inference, 1.2ms postprocess per image at shape (1, 3, 1120, 1984)\n"
     ]
    },
    {
     "name": "stdout",
     "output_type": "stream",
     "text": [
      "760\n",
      "761\n"
     ]
    },
    {
     "name": "stderr",
     "output_type": "stream",
     "text": [
      "\n",
      "0: 1120x1984 1 ball, 23 players, 32.3ms\n",
      "Speed: 11.3ms preprocess, 32.3ms inference, 1.3ms postprocess per image at shape (1, 3, 1120, 1984)\n",
      "\n",
      "0: 1120x1984 1 ball, 23 players, 32.3ms\n",
      "Speed: 12.4ms preprocess, 32.3ms inference, 1.3ms postprocess per image at shape (1, 3, 1120, 1984)\n"
     ]
    },
    {
     "name": "stdout",
     "output_type": "stream",
     "text": [
      "762\n",
      "763\n"
     ]
    },
    {
     "name": "stderr",
     "output_type": "stream",
     "text": [
      "\n",
      "0: 1120x1984 1 ball, 23 players, 32.3ms\n",
      "Speed: 11.1ms preprocess, 32.3ms inference, 1.2ms postprocess per image at shape (1, 3, 1120, 1984)\n",
      "\n",
      "0: 1120x1984 1 ball, 23 players, 32.3ms\n",
      "Speed: 11.8ms preprocess, 32.3ms inference, 1.3ms postprocess per image at shape (1, 3, 1120, 1984)\n"
     ]
    },
    {
     "name": "stdout",
     "output_type": "stream",
     "text": [
      "764\n",
      "765\n"
     ]
    },
    {
     "name": "stderr",
     "output_type": "stream",
     "text": [
      "\n",
      "0: 1120x1984 1 ball, 23 players, 32.3ms\n",
      "Speed: 11.1ms preprocess, 32.3ms inference, 1.3ms postprocess per image at shape (1, 3, 1120, 1984)\n",
      "\n",
      "0: 1120x1984 1 ball, 23 players, 32.3ms\n",
      "Speed: 12.3ms preprocess, 32.3ms inference, 1.2ms postprocess per image at shape (1, 3, 1120, 1984)\n"
     ]
    },
    {
     "name": "stdout",
     "output_type": "stream",
     "text": [
      "766\n",
      "767\n"
     ]
    },
    {
     "name": "stderr",
     "output_type": "stream",
     "text": [
      "\n",
      "0: 1120x1984 1 ball, 23 players, 32.3ms\n",
      "Speed: 12.1ms preprocess, 32.3ms inference, 1.2ms postprocess per image at shape (1, 3, 1120, 1984)\n",
      "\n",
      "0: 1120x1984 1 ball, 22 players, 32.3ms\n",
      "Speed: 11.4ms preprocess, 32.3ms inference, 1.2ms postprocess per image at shape (1, 3, 1120, 1984)\n"
     ]
    },
    {
     "name": "stdout",
     "output_type": "stream",
     "text": [
      "768\n",
      "769\n"
     ]
    },
    {
     "name": "stderr",
     "output_type": "stream",
     "text": [
      "\n",
      "0: 1120x1984 1 ball, 22 players, 32.3ms\n",
      "Speed: 11.0ms preprocess, 32.3ms inference, 1.2ms postprocess per image at shape (1, 3, 1120, 1984)\n",
      "\n",
      "0: 1120x1984 22 players, 32.3ms\n",
      "Speed: 12.1ms preprocess, 32.3ms inference, 1.2ms postprocess per image at shape (1, 3, 1120, 1984)\n"
     ]
    },
    {
     "name": "stdout",
     "output_type": "stream",
     "text": [
      "770\n",
      "771\n"
     ]
    },
    {
     "name": "stderr",
     "output_type": "stream",
     "text": [
      "\n",
      "0: 1120x1984 1 ball, 22 players, 32.3ms\n",
      "Speed: 11.5ms preprocess, 32.3ms inference, 1.2ms postprocess per image at shape (1, 3, 1120, 1984)\n",
      "\n",
      "0: 1120x1984 1 ball, 22 players, 32.3ms\n",
      "Speed: 11.2ms preprocess, 32.3ms inference, 1.2ms postprocess per image at shape (1, 3, 1120, 1984)\n"
     ]
    },
    {
     "name": "stdout",
     "output_type": "stream",
     "text": [
      "772\n",
      "773\n"
     ]
    },
    {
     "name": "stderr",
     "output_type": "stream",
     "text": [
      "\n",
      "0: 1120x1984 1 ball, 22 players, 32.3ms\n",
      "Speed: 12.0ms preprocess, 32.3ms inference, 1.2ms postprocess per image at shape (1, 3, 1120, 1984)\n",
      "\n",
      "0: 1120x1984 1 ball, 22 players, 32.3ms\n",
      "Speed: 11.5ms preprocess, 32.3ms inference, 1.2ms postprocess per image at shape (1, 3, 1120, 1984)\n"
     ]
    },
    {
     "name": "stdout",
     "output_type": "stream",
     "text": [
      "774\n",
      "775\n"
     ]
    },
    {
     "name": "stderr",
     "output_type": "stream",
     "text": [
      "\n",
      "0: 1120x1984 1 ball, 24 players, 32.3ms\n",
      "Speed: 11.3ms preprocess, 32.3ms inference, 1.2ms postprocess per image at shape (1, 3, 1120, 1984)\n",
      "\n",
      "0: 1120x1984 1 ball, 22 players, 32.3ms\n",
      "Speed: 11.2ms preprocess, 32.3ms inference, 1.2ms postprocess per image at shape (1, 3, 1120, 1984)\n"
     ]
    },
    {
     "name": "stdout",
     "output_type": "stream",
     "text": [
      "776\n",
      "777\n"
     ]
    },
    {
     "name": "stderr",
     "output_type": "stream",
     "text": [
      "\n",
      "0: 1120x1984 1 ball, 21 players, 32.3ms\n",
      "Speed: 11.0ms preprocess, 32.3ms inference, 1.3ms postprocess per image at shape (1, 3, 1120, 1984)\n",
      "\n",
      "0: 1120x1984 1 ball, 21 players, 32.3ms\n",
      "Speed: 12.0ms preprocess, 32.3ms inference, 1.2ms postprocess per image at shape (1, 3, 1120, 1984)\n"
     ]
    },
    {
     "name": "stdout",
     "output_type": "stream",
     "text": [
      "778\n",
      "779\n"
     ]
    },
    {
     "name": "stderr",
     "output_type": "stream",
     "text": [
      "\n",
      "0: 1120x1984 1 ball, 22 players, 32.3ms\n",
      "Speed: 11.3ms preprocess, 32.3ms inference, 1.2ms postprocess per image at shape (1, 3, 1120, 1984)\n",
      "\n",
      "0: 1120x1984 1 ball, 22 players, 32.3ms\n",
      "Speed: 11.2ms preprocess, 32.3ms inference, 1.2ms postprocess per image at shape (1, 3, 1120, 1984)\n"
     ]
    },
    {
     "name": "stdout",
     "output_type": "stream",
     "text": [
      "780\n",
      "781\n"
     ]
    },
    {
     "name": "stderr",
     "output_type": "stream",
     "text": [
      "\n",
      "0: 1120x1984 1 ball, 23 players, 32.3ms\n",
      "Speed: 11.9ms preprocess, 32.3ms inference, 1.2ms postprocess per image at shape (1, 3, 1120, 1984)\n",
      "\n",
      "0: 1120x1984 1 ball, 22 players, 32.3ms\n",
      "Speed: 11.5ms preprocess, 32.3ms inference, 1.3ms postprocess per image at shape (1, 3, 1120, 1984)\n"
     ]
    },
    {
     "name": "stdout",
     "output_type": "stream",
     "text": [
      "782\n",
      "783\n"
     ]
    },
    {
     "name": "stderr",
     "output_type": "stream",
     "text": [
      "\n",
      "0: 1120x1984 1 ball, 23 players, 32.3ms\n",
      "Speed: 11.0ms preprocess, 32.3ms inference, 1.2ms postprocess per image at shape (1, 3, 1120, 1984)\n",
      "\n",
      "0: 1120x1984 1 ball, 23 players, 32.3ms\n",
      "Speed: 11.8ms preprocess, 32.3ms inference, 1.2ms postprocess per image at shape (1, 3, 1120, 1984)\n"
     ]
    },
    {
     "name": "stdout",
     "output_type": "stream",
     "text": [
      "784\n",
      "785\n"
     ]
    },
    {
     "name": "stderr",
     "output_type": "stream",
     "text": [
      "\n",
      "0: 1120x1984 1 ball, 23 players, 32.3ms\n",
      "Speed: 11.3ms preprocess, 32.3ms inference, 1.2ms postprocess per image at shape (1, 3, 1120, 1984)\n",
      "\n",
      "0: 1120x1984 1 ball, 23 players, 32.3ms\n"
     ]
    },
    {
     "name": "stdout",
     "output_type": "stream",
     "text": [
      "786\n",
      "787\n"
     ]
    },
    {
     "name": "stderr",
     "output_type": "stream",
     "text": [
      "Speed: 11.9ms preprocess, 32.3ms inference, 1.2ms postprocess per image at shape (1, 3, 1120, 1984)\n",
      "\n",
      "0: 1120x1984 1 ball, 23 players, 32.3ms\n",
      "Speed: 11.4ms preprocess, 32.3ms inference, 1.2ms postprocess per image at shape (1, 3, 1120, 1984)\n",
      "\n",
      "0: 1120x1984 1 ball, 23 players, 32.3ms\n",
      "Speed: 12.2ms preprocess, 32.3ms inference, 1.2ms postprocess per image at shape (1, 3, 1120, 1984)\n"
     ]
    },
    {
     "name": "stdout",
     "output_type": "stream",
     "text": [
      "788\n",
      "789\n"
     ]
    },
    {
     "name": "stderr",
     "output_type": "stream",
     "text": [
      "\n",
      "0: 1120x1984 1 ball, 22 players, 32.3ms\n",
      "Speed: 11.9ms preprocess, 32.3ms inference, 1.2ms postprocess per image at shape (1, 3, 1120, 1984)\n",
      "\n",
      "0: 1120x1984 1 ball, 23 players, 32.3ms\n",
      "Speed: 11.1ms preprocess, 32.3ms inference, 1.2ms postprocess per image at shape (1, 3, 1120, 1984)\n"
     ]
    },
    {
     "name": "stdout",
     "output_type": "stream",
     "text": [
      "790\n",
      "791\n"
     ]
    },
    {
     "name": "stderr",
     "output_type": "stream",
     "text": [
      "\n",
      "0: 1120x1984 1 ball, 23 players, 32.3ms\n",
      "Speed: 11.2ms preprocess, 32.3ms inference, 1.2ms postprocess per image at shape (1, 3, 1120, 1984)\n",
      "\n",
      "0: 1120x1984 1 ball, 23 players, 32.3ms\n",
      "Speed: 13.1ms preprocess, 32.3ms inference, 1.2ms postprocess per image at shape (1, 3, 1120, 1984)\n"
     ]
    },
    {
     "name": "stdout",
     "output_type": "stream",
     "text": [
      "792\n",
      "793\n"
     ]
    },
    {
     "name": "stderr",
     "output_type": "stream",
     "text": [
      "\n",
      "0: 1120x1984 1 ball, 23 players, 32.3ms\n",
      "Speed: 11.8ms preprocess, 32.3ms inference, 1.3ms postprocess per image at shape (1, 3, 1120, 1984)\n",
      "\n",
      "0: 1120x1984 1 ball, 24 players, 32.3ms\n"
     ]
    },
    {
     "name": "stdout",
     "output_type": "stream",
     "text": [
      "794\n",
      "795\n"
     ]
    },
    {
     "name": "stderr",
     "output_type": "stream",
     "text": [
      "Speed: 11.4ms preprocess, 32.3ms inference, 1.2ms postprocess per image at shape (1, 3, 1120, 1984)\n",
      "\n",
      "0: 1120x1984 1 ball, 23 players, 32.3ms\n",
      "Speed: 12.2ms preprocess, 32.3ms inference, 1.2ms postprocess per image at shape (1, 3, 1120, 1984)\n",
      "\n",
      "0: 1120x1984 1 ball, 23 players, 32.3ms\n",
      "Speed: 12.6ms preprocess, 32.3ms inference, 1.2ms postprocess per image at shape (1, 3, 1120, 1984)\n"
     ]
    },
    {
     "name": "stdout",
     "output_type": "stream",
     "text": [
      "796\n",
      "797\n"
     ]
    },
    {
     "name": "stderr",
     "output_type": "stream",
     "text": [
      "\n",
      "0: 1120x1984 1 ball, 23 players, 32.3ms\n",
      "Speed: 12.3ms preprocess, 32.3ms inference, 1.2ms postprocess per image at shape (1, 3, 1120, 1984)\n",
      "\n",
      "0: 1120x1984 1 ball, 23 players, 32.3ms\n",
      "Speed: 11.6ms preprocess, 32.3ms inference, 1.2ms postprocess per image at shape (1, 3, 1120, 1984)\n"
     ]
    },
    {
     "name": "stdout",
     "output_type": "stream",
     "text": [
      "798\n",
      "799\n"
     ]
    },
    {
     "name": "stderr",
     "output_type": "stream",
     "text": [
      "\n",
      "0: 1120x1984 1 ball, 23 players, 32.3ms\n",
      "Speed: 12.1ms preprocess, 32.3ms inference, 1.2ms postprocess per image at shape (1, 3, 1120, 1984)\n",
      "\n",
      "0: 1120x1984 1 ball, 23 players, 32.3ms\n",
      "Speed: 11.4ms preprocess, 32.3ms inference, 1.2ms postprocess per image at shape (1, 3, 1120, 1984)\n"
     ]
    },
    {
     "name": "stdout",
     "output_type": "stream",
     "text": [
      "800\n",
      "801\n"
     ]
    },
    {
     "name": "stderr",
     "output_type": "stream",
     "text": [
      "\n",
      "0: 1120x1984 1 ball, 23 players, 32.3ms\n",
      "Speed: 11.2ms preprocess, 32.3ms inference, 1.3ms postprocess per image at shape (1, 3, 1120, 1984)\n",
      "\n"
     ]
    },
    {
     "name": "stdout",
     "output_type": "stream",
     "text": [
      "802\n",
      "803\n"
     ]
    },
    {
     "name": "stderr",
     "output_type": "stream",
     "text": [
      "0: 1120x1984 1 ball, 23 players, 32.3ms\n",
      "Speed: 12.1ms preprocess, 32.3ms inference, 1.3ms postprocess per image at shape (1, 3, 1120, 1984)\n",
      "\n",
      "0: 1120x1984 1 ball, 23 players, 32.3ms\n",
      "Speed: 12.1ms preprocess, 32.3ms inference, 1.2ms postprocess per image at shape (1, 3, 1120, 1984)\n",
      "\n",
      "0: 1120x1984 1 ball, 23 players, 32.3ms\n",
      "Speed: 12.1ms preprocess, 32.3ms inference, 1.3ms postprocess per image at shape (1, 3, 1120, 1984)\n"
     ]
    },
    {
     "name": "stdout",
     "output_type": "stream",
     "text": [
      "804\n",
      "805\n"
     ]
    },
    {
     "name": "stderr",
     "output_type": "stream",
     "text": [
      "\n",
      "0: 1120x1984 23 players, 32.3ms\n",
      "Speed: 12.2ms preprocess, 32.3ms inference, 1.2ms postprocess per image at shape (1, 3, 1120, 1984)\n",
      "\n"
     ]
    },
    {
     "name": "stdout",
     "output_type": "stream",
     "text": [
      "806\n",
      "807\n"
     ]
    },
    {
     "name": "stderr",
     "output_type": "stream",
     "text": [
      "0: 1120x1984 1 ball, 23 players, 32.3ms\n",
      "Speed: 12.0ms preprocess, 32.3ms inference, 2.9ms postprocess per image at shape (1, 3, 1120, 1984)\n",
      "\n",
      "0: 1120x1984 1 ball, 23 players, 32.3ms\n",
      "Speed: 11.8ms preprocess, 32.3ms inference, 1.2ms postprocess per image at shape (1, 3, 1120, 1984)\n",
      "\n",
      "0: 1120x1984 1 ball, 23 players, 32.3ms\n",
      "Speed: 11.8ms preprocess, 32.3ms inference, 1.2ms postprocess per image at shape (1, 3, 1120, 1984)\n"
     ]
    },
    {
     "name": "stdout",
     "output_type": "stream",
     "text": [
      "808\n",
      "809\n"
     ]
    },
    {
     "name": "stderr",
     "output_type": "stream",
     "text": [
      "\n",
      "0: 1120x1984 1 ball, 23 players, 32.3ms\n",
      "Speed: 12.1ms preprocess, 32.3ms inference, 1.3ms postprocess per image at shape (1, 3, 1120, 1984)\n",
      "\n"
     ]
    },
    {
     "name": "stdout",
     "output_type": "stream",
     "text": [
      "810\n",
      "811\n"
     ]
    },
    {
     "name": "stderr",
     "output_type": "stream",
     "text": [
      "0: 1120x1984 23 players, 32.3ms\n",
      "Speed: 11.9ms preprocess, 32.3ms inference, 2.7ms postprocess per image at shape (1, 3, 1120, 1984)\n",
      "\n",
      "0: 1120x1984 23 players, 32.3ms\n",
      "Speed: 12.0ms preprocess, 32.3ms inference, 1.3ms postprocess per image at shape (1, 3, 1120, 1984)\n",
      "\n",
      "0: 1120x1984 23 players, 32.3ms\n"
     ]
    },
    {
     "name": "stdout",
     "output_type": "stream",
     "text": [
      "812\n",
      "813\n"
     ]
    },
    {
     "name": "stderr",
     "output_type": "stream",
     "text": [
      "Speed: 12.2ms preprocess, 32.3ms inference, 1.3ms postprocess per image at shape (1, 3, 1120, 1984)\n",
      "\n",
      "0: 1120x1984 1 ball, 23 players, 32.3ms\n",
      "Speed: 12.1ms preprocess, 32.3ms inference, 1.3ms postprocess per image at shape (1, 3, 1120, 1984)\n",
      "\n",
      "0: 1120x1984 1 ball, 23 players, 32.3ms\n",
      "Speed: 11.7ms preprocess, 32.3ms inference, 1.2ms postprocess per image at shape (1, 3, 1120, 1984)\n"
     ]
    },
    {
     "name": "stdout",
     "output_type": "stream",
     "text": [
      "814\n",
      "815\n"
     ]
    },
    {
     "name": "stderr",
     "output_type": "stream",
     "text": [
      "\n",
      "0: 1120x1984 1 ball, 23 players, 32.3ms\n",
      "Speed: 11.8ms preprocess, 32.3ms inference, 1.3ms postprocess per image at shape (1, 3, 1120, 1984)\n",
      "\n",
      "0: 1120x1984 1 ball, 23 players, 32.3ms\n",
      "Speed: 10.9ms preprocess, 32.3ms inference, 1.2ms postprocess per image at shape (1, 3, 1120, 1984)\n"
     ]
    },
    {
     "name": "stdout",
     "output_type": "stream",
     "text": [
      "816\n",
      "817\n"
     ]
    },
    {
     "name": "stderr",
     "output_type": "stream",
     "text": [
      "\n",
      "0: 1120x1984 1 ball, 23 players, 32.3ms\n",
      "Speed: 11.9ms preprocess, 32.3ms inference, 1.2ms postprocess per image at shape (1, 3, 1120, 1984)\n",
      "\n",
      "0: 1120x1984 1 ball, 23 players, 32.3ms\n",
      "Speed: 11.9ms preprocess, 32.3ms inference, 1.3ms postprocess per image at shape (1, 3, 1120, 1984)\n"
     ]
    },
    {
     "name": "stdout",
     "output_type": "stream",
     "text": [
      "818\n",
      "819\n"
     ]
    },
    {
     "name": "stderr",
     "output_type": "stream",
     "text": [
      "\n",
      "0: 1120x1984 23 players, 32.3ms\n",
      "Speed: 13.2ms preprocess, 32.3ms inference, 1.2ms postprocess per image at shape (1, 3, 1120, 1984)\n",
      "\n",
      "0: 1120x1984 23 players, 32.3ms\n",
      "Speed: 12.2ms preprocess, 32.3ms inference, 1.2ms postprocess per image at shape (1, 3, 1120, 1984)\n"
     ]
    },
    {
     "name": "stdout",
     "output_type": "stream",
     "text": [
      "820\n",
      "821\n"
     ]
    },
    {
     "name": "stderr",
     "output_type": "stream",
     "text": [
      "\n",
      "0: 1120x1984 1 ball, 23 players, 32.3ms\n",
      "Speed: 11.5ms preprocess, 32.3ms inference, 1.2ms postprocess per image at shape (1, 3, 1120, 1984)\n",
      "\n",
      "0: 1120x1984 1 ball, 23 players, 32.3ms\n",
      "Speed: 11.7ms preprocess, 32.3ms inference, 1.3ms postprocess per image at shape (1, 3, 1120, 1984)\n"
     ]
    },
    {
     "name": "stdout",
     "output_type": "stream",
     "text": [
      "822\n",
      "823\n"
     ]
    },
    {
     "name": "stderr",
     "output_type": "stream",
     "text": [
      "\n",
      "0: 1120x1984 1 ball, 23 players, 32.3ms\n",
      "Speed: 12.1ms preprocess, 32.3ms inference, 1.2ms postprocess per image at shape (1, 3, 1120, 1984)\n",
      "\n",
      "0: 1120x1984 1 ball, 23 players, 32.3ms\n",
      "Speed: 11.0ms preprocess, 32.3ms inference, 1.2ms postprocess per image at shape (1, 3, 1120, 1984)\n"
     ]
    },
    {
     "name": "stdout",
     "output_type": "stream",
     "text": [
      "824\n",
      "825\n"
     ]
    },
    {
     "name": "stderr",
     "output_type": "stream",
     "text": [
      "\n",
      "0: 1120x1984 1 ball, 23 players, 32.3ms\n",
      "Speed: 11.8ms preprocess, 32.3ms inference, 1.2ms postprocess per image at shape (1, 3, 1120, 1984)\n",
      "\n",
      "0: 1120x1984 1 ball, 23 players, 32.3ms\n",
      "Speed: 11.8ms preprocess, 32.3ms inference, 1.3ms postprocess per image at shape (1, 3, 1120, 1984)\n"
     ]
    },
    {
     "name": "stdout",
     "output_type": "stream",
     "text": [
      "826\n",
      "827\n"
     ]
    },
    {
     "name": "stderr",
     "output_type": "stream",
     "text": [
      "\n",
      "0: 1120x1984 1 ball, 23 players, 32.3ms\n",
      "Speed: 11.9ms preprocess, 32.3ms inference, 1.3ms postprocess per image at shape (1, 3, 1120, 1984)\n",
      "\n",
      "0: 1120x1984 1 ball, 23 players, 32.3ms\n",
      "Speed: 12.1ms preprocess, 32.3ms inference, 1.2ms postprocess per image at shape (1, 3, 1120, 1984)\n"
     ]
    },
    {
     "name": "stdout",
     "output_type": "stream",
     "text": [
      "828\n",
      "829\n"
     ]
    },
    {
     "name": "stderr",
     "output_type": "stream",
     "text": [
      "\n",
      "0: 1120x1984 1 ball, 23 players, 32.3ms\n",
      "Speed: 11.9ms preprocess, 32.3ms inference, 1.3ms postprocess per image at shape (1, 3, 1120, 1984)\n",
      "\n",
      "0: 1120x1984 1 ball, 23 players, 32.3ms\n"
     ]
    },
    {
     "name": "stdout",
     "output_type": "stream",
     "text": [
      "830\n",
      "831\n"
     ]
    },
    {
     "name": "stderr",
     "output_type": "stream",
     "text": [
      "Speed: 12.0ms preprocess, 32.3ms inference, 1.2ms postprocess per image at shape (1, 3, 1120, 1984)\n",
      "\n",
      "0: 1120x1984 1 ball, 23 players, 32.3ms\n",
      "Speed: 12.0ms preprocess, 32.3ms inference, 1.2ms postprocess per image at shape (1, 3, 1120, 1984)\n",
      "\n",
      "0: 1120x1984 1 ball, 23 players, 32.3ms\n",
      "Speed: 12.4ms preprocess, 32.3ms inference, 1.3ms postprocess per image at shape (1, 3, 1120, 1984)\n"
     ]
    },
    {
     "name": "stdout",
     "output_type": "stream",
     "text": [
      "832\n",
      "833\n"
     ]
    },
    {
     "name": "stderr",
     "output_type": "stream",
     "text": [
      "\n",
      "0: 1120x1984 1 ball, 23 players, 32.3ms\n",
      "Speed: 12.2ms preprocess, 32.3ms inference, 1.2ms postprocess per image at shape (1, 3, 1120, 1984)\n",
      "\n",
      "0: 1120x1984 1 ball, 23 players, 32.3ms\n",
      "Speed: 12.1ms preprocess, 32.3ms inference, 1.3ms postprocess per image at shape (1, 3, 1120, 1984)\n"
     ]
    },
    {
     "name": "stdout",
     "output_type": "stream",
     "text": [
      "834\n",
      "835\n"
     ]
    },
    {
     "name": "stderr",
     "output_type": "stream",
     "text": [
      "\n",
      "0: 1120x1984 1 ball, 23 players, 32.3ms\n",
      "Speed: 11.9ms preprocess, 32.3ms inference, 1.2ms postprocess per image at shape (1, 3, 1120, 1984)\n",
      "\n",
      "0: 1120x1984 1 ball, 23 players, 32.3ms\n",
      "Speed: 11.0ms preprocess, 32.3ms inference, 1.2ms postprocess per image at shape (1, 3, 1120, 1984)\n"
     ]
    },
    {
     "name": "stdout",
     "output_type": "stream",
     "text": [
      "836\n",
      "837\n"
     ]
    },
    {
     "name": "stderr",
     "output_type": "stream",
     "text": [
      "\n",
      "0: 1120x1984 23 players, 32.3ms\n",
      "Speed: 12.1ms preprocess, 32.3ms inference, 1.3ms postprocess per image at shape (1, 3, 1120, 1984)\n",
      "\n"
     ]
    },
    {
     "name": "stdout",
     "output_type": "stream",
     "text": [
      "838\n",
      "839\n"
     ]
    },
    {
     "name": "stderr",
     "output_type": "stream",
     "text": [
      "0: 1120x1984 23 players, 32.3ms\n",
      "Speed: 12.2ms preprocess, 32.3ms inference, 1.3ms postprocess per image at shape (1, 3, 1120, 1984)\n",
      "\n",
      "0: 1120x1984 23 players, 32.3ms\n",
      "Speed: 11.9ms preprocess, 32.3ms inference, 1.2ms postprocess per image at shape (1, 3, 1120, 1984)\n",
      "\n",
      "0: 1120x1984 23 players, 32.3ms\n",
      "Speed: 12.3ms preprocess, 32.3ms inference, 1.3ms postprocess per image at shape (1, 3, 1120, 1984)\n"
     ]
    },
    {
     "name": "stdout",
     "output_type": "stream",
     "text": [
      "840\n",
      "841\n"
     ]
    },
    {
     "name": "stderr",
     "output_type": "stream",
     "text": [
      "\n",
      "0: 1120x1984 23 players, 32.3ms\n",
      "Speed: 12.1ms preprocess, 32.3ms inference, 1.3ms postprocess per image at shape (1, 3, 1120, 1984)\n",
      "\n"
     ]
    },
    {
     "name": "stdout",
     "output_type": "stream",
     "text": [
      "842\n",
      "843\n"
     ]
    },
    {
     "name": "stderr",
     "output_type": "stream",
     "text": [
      "0: 1120x1984 23 players, 32.3ms\n",
      "Speed: 12.2ms preprocess, 32.3ms inference, 1.2ms postprocess per image at shape (1, 3, 1120, 1984)\n",
      "\n",
      "0: 1120x1984 23 players, 32.3ms\n",
      "Speed: 11.8ms preprocess, 32.3ms inference, 1.2ms postprocess per image at shape (1, 3, 1120, 1984)\n",
      "\n",
      "0: 1120x1984 23 players, 32.3ms\n",
      "Speed: 12.1ms preprocess, 32.3ms inference, 1.2ms postprocess per image at shape (1, 3, 1120, 1984)\n"
     ]
    },
    {
     "name": "stdout",
     "output_type": "stream",
     "text": [
      "844\n",
      "845\n"
     ]
    },
    {
     "name": "stderr",
     "output_type": "stream",
     "text": [
      "\n",
      "0: 1120x1984 23 players, 32.3ms\n",
      "Speed: 11.6ms preprocess, 32.3ms inference, 1.3ms postprocess per image at shape (1, 3, 1120, 1984)\n",
      "\n",
      "0: 1120x1984 23 players, 32.3ms\n",
      "Speed: 11.1ms preprocess, 32.3ms inference, 1.3ms postprocess per image at shape (1, 3, 1120, 1984)\n"
     ]
    },
    {
     "name": "stdout",
     "output_type": "stream",
     "text": [
      "846\n",
      "847\n"
     ]
    },
    {
     "name": "stderr",
     "output_type": "stream",
     "text": [
      "\n",
      "0: 1120x1984 23 players, 32.3ms\n",
      "Speed: 11.9ms preprocess, 32.3ms inference, 1.2ms postprocess per image at shape (1, 3, 1120, 1984)\n",
      "\n",
      "0: 1120x1984 23 players, 32.3ms\n",
      "Speed: 12.1ms preprocess, 32.3ms inference, 1.2ms postprocess per image at shape (1, 3, 1120, 1984)\n"
     ]
    },
    {
     "name": "stdout",
     "output_type": "stream",
     "text": [
      "848\n",
      "849\n"
     ]
    },
    {
     "name": "stderr",
     "output_type": "stream",
     "text": [
      "\n",
      "0: 1120x1984 23 players, 32.3ms\n",
      "Speed: 11.2ms preprocess, 32.3ms inference, 1.2ms postprocess per image at shape (1, 3, 1120, 1984)\n",
      "\n",
      "0: 1120x1984 23 players, 32.3ms\n",
      "Speed: 12.0ms preprocess, 32.3ms inference, 1.3ms postprocess per image at shape (1, 3, 1120, 1984)\n"
     ]
    },
    {
     "name": "stdout",
     "output_type": "stream",
     "text": [
      "850\n",
      "851\n"
     ]
    },
    {
     "name": "stderr",
     "output_type": "stream",
     "text": [
      "\n",
      "0: 1120x1984 23 players, 32.3ms\n",
      "Speed: 12.0ms preprocess, 32.3ms inference, 1.3ms postprocess per image at shape (1, 3, 1120, 1984)\n",
      "\n",
      "0: 1120x1984 23 players, 32.3ms\n"
     ]
    },
    {
     "name": "stdout",
     "output_type": "stream",
     "text": [
      "852\n",
      "853\n"
     ]
    },
    {
     "name": "stderr",
     "output_type": "stream",
     "text": [
      "Speed: 11.1ms preprocess, 32.3ms inference, 1.3ms postprocess per image at shape (1, 3, 1120, 1984)\n",
      "\n",
      "0: 1120x1984 23 players, 32.3ms\n",
      "Speed: 12.1ms preprocess, 32.3ms inference, 1.3ms postprocess per image at shape (1, 3, 1120, 1984)\n",
      "\n",
      "0: 1120x1984 23 players, 32.3ms\n",
      "Speed: 11.7ms preprocess, 32.3ms inference, 1.2ms postprocess per image at shape (1, 3, 1120, 1984)\n"
     ]
    },
    {
     "name": "stdout",
     "output_type": "stream",
     "text": [
      "854\n",
      "855\n"
     ]
    },
    {
     "name": "stderr",
     "output_type": "stream",
     "text": [
      "\n",
      "0: 1120x1984 23 players, 32.3ms\n",
      "Speed: 11.5ms preprocess, 32.3ms inference, 1.3ms postprocess per image at shape (1, 3, 1120, 1984)\n",
      "\n",
      "0: 1120x1984 23 players, 32.3ms\n",
      "Speed: 11.9ms preprocess, 32.3ms inference, 1.2ms postprocess per image at shape (1, 3, 1120, 1984)\n"
     ]
    },
    {
     "name": "stdout",
     "output_type": "stream",
     "text": [
      "856\n",
      "857\n"
     ]
    },
    {
     "name": "stderr",
     "output_type": "stream",
     "text": [
      "\n",
      "0: 1120x1984 23 players, 32.3ms\n",
      "Speed: 11.1ms preprocess, 32.3ms inference, 1.2ms postprocess per image at shape (1, 3, 1120, 1984)\n",
      "\n",
      "0: 1120x1984 23 players, 32.3ms\n",
      "Speed: 11.4ms preprocess, 32.3ms inference, 1.2ms postprocess per image at shape (1, 3, 1120, 1984)\n"
     ]
    },
    {
     "name": "stdout",
     "output_type": "stream",
     "text": [
      "858\n",
      "859\n"
     ]
    },
    {
     "name": "stderr",
     "output_type": "stream",
     "text": [
      "\n",
      "0: 1120x1984 23 players, 32.3ms\n",
      "Speed: 11.9ms preprocess, 32.3ms inference, 1.2ms postprocess per image at shape (1, 3, 1120, 1984)\n",
      "\n",
      "0: 1120x1984 23 players, 32.3ms\n",
      "Speed: 11.7ms preprocess, 32.3ms inference, 1.2ms postprocess per image at shape (1, 3, 1120, 1984)\n"
     ]
    },
    {
     "name": "stdout",
     "output_type": "stream",
     "text": [
      "860\n",
      "861\n"
     ]
    },
    {
     "name": "stderr",
     "output_type": "stream",
     "text": [
      "\n",
      "0: 1120x1984 23 players, 32.3ms\n",
      "Speed: 12.0ms preprocess, 32.3ms inference, 1.3ms postprocess per image at shape (1, 3, 1120, 1984)\n",
      "\n",
      "0: 1120x1984 23 players, 32.3ms\n",
      "Speed: 11.9ms preprocess, 32.3ms inference, 1.2ms postprocess per image at shape (1, 3, 1120, 1984)\n"
     ]
    },
    {
     "name": "stdout",
     "output_type": "stream",
     "text": [
      "862\n",
      "863\n"
     ]
    },
    {
     "name": "stderr",
     "output_type": "stream",
     "text": [
      "\n",
      "0: 1120x1984 23 players, 32.3ms\n",
      "Speed: 11.9ms preprocess, 32.3ms inference, 1.2ms postprocess per image at shape (1, 3, 1120, 1984)\n",
      "\n",
      "0: 1120x1984 23 players, 32.3ms\n",
      "Speed: 12.1ms preprocess, 32.3ms inference, 1.3ms postprocess per image at shape (1, 3, 1120, 1984)\n"
     ]
    },
    {
     "name": "stdout",
     "output_type": "stream",
     "text": [
      "864\n",
      "865\n"
     ]
    },
    {
     "name": "stderr",
     "output_type": "stream",
     "text": [
      "\n",
      "0: 1120x1984 23 players, 32.3ms\n",
      "Speed: 11.4ms preprocess, 32.3ms inference, 1.3ms postprocess per image at shape (1, 3, 1120, 1984)\n",
      "\n",
      "0: 1120x1984 23 players, 32.3ms\n"
     ]
    },
    {
     "name": "stdout",
     "output_type": "stream",
     "text": [
      "866\n",
      "867\n"
     ]
    },
    {
     "name": "stderr",
     "output_type": "stream",
     "text": [
      "Speed: 11.7ms preprocess, 32.3ms inference, 1.2ms postprocess per image at shape (1, 3, 1120, 1984)\n",
      "\n",
      "0: 1120x1984 23 players, 32.3ms\n",
      "Speed: 11.0ms preprocess, 32.3ms inference, 1.3ms postprocess per image at shape (1, 3, 1120, 1984)\n",
      "\n",
      "0: 1120x1984 24 players, 32.3ms\n",
      "Speed: 11.9ms preprocess, 32.3ms inference, 1.2ms postprocess per image at shape (1, 3, 1120, 1984)\n"
     ]
    },
    {
     "name": "stdout",
     "output_type": "stream",
     "text": [
      "868\n",
      "869\n"
     ]
    },
    {
     "name": "stderr",
     "output_type": "stream",
     "text": [
      "\n",
      "0: 1120x1984 23 players, 33.7ms\n",
      "Speed: 11.1ms preprocess, 33.7ms inference, 1.2ms postprocess per image at shape (1, 3, 1120, 1984)\n",
      "\n"
     ]
    },
    {
     "name": "stdout",
     "output_type": "stream",
     "text": [
      "870\n",
      "871\n"
     ]
    },
    {
     "name": "stderr",
     "output_type": "stream",
     "text": [
      "0: 1120x1984 23 players, 32.3ms\n",
      "Speed: 11.7ms preprocess, 32.3ms inference, 2.9ms postprocess per image at shape (1, 3, 1120, 1984)\n",
      "\n",
      "0: 1120x1984 23 players, 32.3ms\n",
      "Speed: 11.2ms preprocess, 32.3ms inference, 1.2ms postprocess per image at shape (1, 3, 1120, 1984)\n",
      "\n",
      "0: 1120x1984 23 players, 32.3ms\n",
      "Speed: 11.2ms preprocess, 32.3ms inference, 1.2ms postprocess per image at shape (1, 3, 1120, 1984)\n"
     ]
    },
    {
     "name": "stdout",
     "output_type": "stream",
     "text": [
      "872\n",
      "873\n"
     ]
    },
    {
     "name": "stderr",
     "output_type": "stream",
     "text": [
      "\n",
      "0: 1120x1984 23 players, 32.3ms\n",
      "Speed: 11.8ms preprocess, 32.3ms inference, 1.2ms postprocess per image at shape (1, 3, 1120, 1984)\n",
      "\n",
      "0: 1120x1984 23 players, 32.3ms\n",
      "Speed: 11.3ms preprocess, 32.3ms inference, 1.2ms postprocess per image at shape (1, 3, 1120, 1984)\n"
     ]
    },
    {
     "name": "stdout",
     "output_type": "stream",
     "text": [
      "874\n",
      "875\n"
     ]
    },
    {
     "name": "stderr",
     "output_type": "stream",
     "text": [
      "\n",
      "0: 1120x1984 23 players, 32.3ms\n",
      "Speed: 11.2ms preprocess, 32.3ms inference, 1.2ms postprocess per image at shape (1, 3, 1120, 1984)\n",
      "\n",
      "0: 1120x1984 23 players, 32.3ms\n",
      "Speed: 11.7ms preprocess, 32.3ms inference, 1.3ms postprocess per image at shape (1, 3, 1120, 1984)\n"
     ]
    },
    {
     "name": "stdout",
     "output_type": "stream",
     "text": [
      "876\n",
      "877\n"
     ]
    },
    {
     "name": "stderr",
     "output_type": "stream",
     "text": [
      "\n",
      "0: 1120x1984 23 players, 32.3ms\n",
      "Speed: 11.0ms preprocess, 32.3ms inference, 1.2ms postprocess per image at shape (1, 3, 1120, 1984)\n",
      "\n",
      "0: 1120x1984 23 players, 32.3ms\n",
      "Speed: 11.1ms preprocess, 32.3ms inference, 1.2ms postprocess per image at shape (1, 3, 1120, 1984)\n"
     ]
    },
    {
     "name": "stdout",
     "output_type": "stream",
     "text": [
      "878\n",
      "879\n"
     ]
    },
    {
     "name": "stderr",
     "output_type": "stream",
     "text": [
      "\n",
      "0: 1120x1984 23 players, 32.3ms\n",
      "Speed: 11.3ms preprocess, 32.3ms inference, 1.3ms postprocess per image at shape (1, 3, 1120, 1984)\n",
      "\n",
      "0: 1120x1984 23 players, 32.3ms\n",
      "Speed: 11.2ms preprocess, 32.3ms inference, 1.2ms postprocess per image at shape (1, 3, 1120, 1984)\n"
     ]
    },
    {
     "name": "stdout",
     "output_type": "stream",
     "text": [
      "880\n",
      "881\n"
     ]
    },
    {
     "name": "stderr",
     "output_type": "stream",
     "text": [
      "\n",
      "0: 1120x1984 23 players, 32.3ms\n",
      "Speed: 11.0ms preprocess, 32.3ms inference, 1.2ms postprocess per image at shape (1, 3, 1120, 1984)\n",
      "\n",
      "0: 1120x1984 23 players, 32.3ms\n",
      "Speed: 11.1ms preprocess, 32.3ms inference, 1.2ms postprocess per image at shape (1, 3, 1120, 1984)\n"
     ]
    },
    {
     "name": "stdout",
     "output_type": "stream",
     "text": [
      "882\n",
      "883\n"
     ]
    },
    {
     "name": "stderr",
     "output_type": "stream",
     "text": [
      "\n",
      "0: 1120x1984 23 players, 32.3ms\n",
      "Speed: 12.0ms preprocess, 32.3ms inference, 1.2ms postprocess per image at shape (1, 3, 1120, 1984)\n",
      "\n",
      "0: 1120x1984 23 players, 32.2ms\n",
      "Speed: 11.4ms preprocess, 32.2ms inference, 1.2ms postprocess per image at shape (1, 3, 1120, 1984)\n"
     ]
    },
    {
     "name": "stdout",
     "output_type": "stream",
     "text": [
      "884\n",
      "885\n"
     ]
    },
    {
     "name": "stderr",
     "output_type": "stream",
     "text": [
      "\n",
      "0: 1120x1984 23 players, 32.3ms\n",
      "Speed: 11.3ms preprocess, 32.3ms inference, 1.2ms postprocess per image at shape (1, 3, 1120, 1984)\n",
      "\n",
      "0: 1120x1984 23 players, 32.3ms\n",
      "Speed: 12.2ms preprocess, 32.3ms inference, 1.2ms postprocess per image at shape (1, 3, 1120, 1984)\n"
     ]
    },
    {
     "name": "stdout",
     "output_type": "stream",
     "text": [
      "886\n",
      "887\n"
     ]
    },
    {
     "name": "stderr",
     "output_type": "stream",
     "text": [
      "\n",
      "0: 1120x1984 23 players, 32.3ms\n",
      "Speed: 11.3ms preprocess, 32.3ms inference, 1.2ms postprocess per image at shape (1, 3, 1120, 1984)\n",
      "\n",
      "0: 1120x1984 23 players, 32.3ms\n",
      "Speed: 11.8ms preprocess, 32.3ms inference, 1.2ms postprocess per image at shape (1, 3, 1120, 1984)\n"
     ]
    },
    {
     "name": "stdout",
     "output_type": "stream",
     "text": [
      "888\n",
      "889\n"
     ]
    },
    {
     "name": "stderr",
     "output_type": "stream",
     "text": [
      "\n",
      "0: 1120x1984 23 players, 32.3ms\n",
      "Speed: 10.9ms preprocess, 32.3ms inference, 1.2ms postprocess per image at shape (1, 3, 1120, 1984)\n",
      "\n",
      "0: 1120x1984 1 ball, 23 players, 32.3ms\n",
      "Speed: 11.4ms preprocess, 32.3ms inference, 1.2ms postprocess per image at shape (1, 3, 1120, 1984)\n"
     ]
    },
    {
     "name": "stdout",
     "output_type": "stream",
     "text": [
      "890\n",
      "891\n"
     ]
    },
    {
     "name": "stderr",
     "output_type": "stream",
     "text": [
      "\n",
      "0: 1120x1984 1 ball, 23 players, 32.3ms\n",
      "Speed: 11.0ms preprocess, 32.3ms inference, 1.2ms postprocess per image at shape (1, 3, 1120, 1984)\n",
      "\n",
      "0: 1120x1984 23 players, 32.3ms\n",
      "Speed: 11.6ms preprocess, 32.3ms inference, 1.2ms postprocess per image at shape (1, 3, 1120, 1984)\n"
     ]
    },
    {
     "name": "stdout",
     "output_type": "stream",
     "text": [
      "892\n",
      "893\n"
     ]
    },
    {
     "name": "stderr",
     "output_type": "stream",
     "text": [
      "\n",
      "0: 1120x1984 23 players, 32.3ms\n",
      "Speed: 11.3ms preprocess, 32.3ms inference, 1.2ms postprocess per image at shape (1, 3, 1120, 1984)\n",
      "\n",
      "0: 1120x1984 23 players, 32.3ms\n",
      "Speed: 11.1ms preprocess, 32.3ms inference, 1.2ms postprocess per image at shape (1, 3, 1120, 1984)\n"
     ]
    },
    {
     "name": "stdout",
     "output_type": "stream",
     "text": [
      "894\n",
      "895\n"
     ]
    },
    {
     "name": "stderr",
     "output_type": "stream",
     "text": [
      "\n",
      "0: 1120x1984 23 players, 32.3ms\n",
      "Speed: 11.1ms preprocess, 32.3ms inference, 1.2ms postprocess per image at shape (1, 3, 1120, 1984)\n",
      "\n",
      "0: 1120x1984 23 players, 32.3ms\n",
      "Speed: 11.2ms preprocess, 32.3ms inference, 1.3ms postprocess per image at shape (1, 3, 1120, 1984)\n"
     ]
    },
    {
     "name": "stdout",
     "output_type": "stream",
     "text": [
      "896\n",
      "897\n"
     ]
    },
    {
     "name": "stderr",
     "output_type": "stream",
     "text": [
      "\n",
      "0: 1120x1984 23 players, 32.3ms\n",
      "Speed: 11.2ms preprocess, 32.3ms inference, 1.2ms postprocess per image at shape (1, 3, 1120, 1984)\n",
      "\n",
      "0: 1120x1984 1 ball, 23 players, 32.3ms\n",
      "Speed: 11.3ms preprocess, 32.3ms inference, 1.2ms postprocess per image at shape (1, 3, 1120, 1984)\n"
     ]
    },
    {
     "name": "stdout",
     "output_type": "stream",
     "text": [
      "898\n",
      "899\n"
     ]
    },
    {
     "name": "stderr",
     "output_type": "stream",
     "text": [
      "\n",
      "0: 1120x1984 23 players, 32.3ms\n",
      "Speed: 11.2ms preprocess, 32.3ms inference, 1.2ms postprocess per image at shape (1, 3, 1120, 1984)\n"
     ]
    },
    {
     "name": "stdout",
     "output_type": "stream",
     "text": [
      "900\n",
      "901\n"
     ]
    }
   ],
   "source": [
    "from pathlib import Path\n",
    "import warnings\n",
    "warnings.filterwarnings(\"ignore\")\n",
    "model_weights = Path('osnet_x0_25_msmt17.pt')\n",
    "yolo_model_path = 'runs/detect/From_scratch_new_data_V5/weights/best.pt'\n",
    "input_video_file = \"videos/first_30_seconds.mp4\"\n",
    "output_video_name = create_new_file(input_video_file.split(\".\")[0] + \"_tracking_output_test.mp4\")\n",
    "\n",
    "print(\"Tracking output: \" + output_video_name)\n",
    "output_video_file = output_video_name\n",
    "\n",
    "home_team_color=\"white\"\n",
    "away_team_color=\"blue\"\n",
    "\n",
    "tracker = initialize_tracker(model_weights)\n",
    "yolov8 = initialize_yolo(yolo_model_path)\n",
    "process_video(input_video_file, output_video_file, tracker, yolov8, True)"
   ]
  },
  {
   "cell_type": "code",
   "execution_count": null,
   "id": "1cff0f46",
   "metadata": {},
   "outputs": [],
   "source": []
  },
  {
   "cell_type": "code",
   "execution_count": null,
   "id": "7b382bb0",
   "metadata": {},
   "outputs": [],
   "source": []
  },
  {
   "cell_type": "code",
   "execution_count": null,
   "id": "7d11a79b",
   "metadata": {},
   "outputs": [],
   "source": []
  }
 ],
 "metadata": {
  "kernelspec": {
   "display_name": "Python 3 (ipykernel)",
   "language": "python",
   "name": "python3"
  },
  "language_info": {
   "codemirror_mode": {
    "name": "ipython",
    "version": 3
   },
   "file_extension": ".py",
   "mimetype": "text/x-python",
   "name": "python",
   "nbconvert_exporter": "python",
   "pygments_lexer": "ipython3",
   "version": "3.9.13"
  }
 },
 "nbformat": 4,
 "nbformat_minor": 5
}
