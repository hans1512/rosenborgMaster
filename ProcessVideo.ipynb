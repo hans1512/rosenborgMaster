{
 "cells": [
  {
   "cell_type": "code",
   "execution_count": 1,
   "id": "91f92362",
   "metadata": {},
   "outputs": [],
   "source": [
    "import cv2\n",
    "import numpy as np\n",
    "from pathlib import Path\n",
    "from boxmot import DeepOCSORT, StrongSORT, BoTSORT\n",
    "from ultralytics import YOLO\n",
    "from pathlib import Path"
   ]
  },
  {
   "cell_type": "code",
   "execution_count": 34,
   "id": "46e66fbb",
   "metadata": {},
   "outputs": [],
   "source": [
    "def initialize_tracker(model_weights, device='cuda:0', fp16=True):\n",
    "    \"\"\"\n",
    "    Initialize the DeepOCSORT tracker with the given model weights and device.\n",
    "    \"\"\"\n",
    "    tracker = BoTSORT(\n",
    "        model_weights=model_weights,\n",
    "        device=device,\n",
    "        fp16=fp16,\n",
    "        match_thresh=0.9,\n",
    "        proximity_thresh=0.2\n",
    "    )\n",
    "    return tracker\n",
    "\n",
    "def initialize_yolo(model_path):\n",
    "    \"\"\"\n",
    "    Initialize the YOLO object detector with the given model path.\n",
    "    \"\"\"\n",
    "    yolov8 = YOLO(model_path)\n",
    "    return yolov8"
   ]
  },
  {
   "cell_type": "code",
   "execution_count": 35,
   "id": "85b789fa",
   "metadata": {},
   "outputs": [],
   "source": [
    "class Rect:\n",
    "    def __init__(self, x1, y1, x2, y2):\n",
    "        self.x1 = x1\n",
    "        self.y1 = y1\n",
    "        self.x2 = x2\n",
    "        self.y2 = y2\n",
    "    \n",
    "    @property\n",
    "    def bottom_center(self):\n",
    "        return ((self.x1 + self.x2) // 2, self.y2)\n",
    "    \n",
    "    @property\n",
    "    def width(self):\n",
    "        return self.x2 - self.x1\n",
    "\n",
    "class Color:\n",
    "    def __init__(self, b, g, r):\n",
    "        self.b = b\n",
    "        self.g = g\n",
    "        self.r = r\n",
    "\n",
    "    @property\n",
    "    def bgr_tuple(self):\n",
    "        return (self.b, self.g, self.r)\n",
    "\n",
    "def draw_ellipse(image, rect, color, thickness=2):\n",
    "    center = rect.bottom_center\n",
    "    axes = (int(rect.width), int(0.35 * rect.width))\n",
    "    cv2.ellipse(\n",
    "        image,\n",
    "        center,\n",
    "        axes,\n",
    "        angle=0.0,\n",
    "        startAngle=-45,\n",
    "        endAngle=235,\n",
    "        color=color.bgr_tuple,\n",
    "        thickness=thickness,\n",
    "        lineType=cv2.LINE_4\n",
    "    )\n",
    "    return image\n",
    "\n",
    "def lab_to_rgb(lab_color):\n",
    "    \"\"\"\n",
    "    Converts a single LAB color to RGB.\n",
    "    \"\"\"\n",
    "    lab_image = np.array([[lab_color]], dtype=np.uint8)\n",
    "    rgb_image = cv2.cvtColor(lab_image, cv2.COLOR_Lab2RGB)\n",
    "    return rgb_image[0][0]\n",
    "\n",
    "def create_new_file(file_name):\n",
    "    \"\"\"\n",
    "    Check if a file already exists, if it does append a number to the file\n",
    "    The number increases if a file_\"number\" exists\n",
    "    \"\"\"\n",
    "    if Path(file_name).is_file():\n",
    "        file = file_name.split(\".\")[0]\n",
    "        extension = file_name.split(\".\")[1]\n",
    "        last_char = file[len(file) - 1]\n",
    "        if last_char.isnumeric():\n",
    "            last_char = str(int(last_char) + 1)\n",
    "            new_file =  file[:-1] + last_char + \".\" + extension\n",
    "        else:\n",
    "            last_char = \"_1\"\n",
    "            new_file =  file + last_char + \".\" + extension\n",
    "        \n",
    "        return create_new_file(new_file)\n",
    "    else:\n",
    "        return file_name"
   ]
  },
  {
   "cell_type": "code",
   "execution_count": 36,
   "id": "d61667b5",
   "metadata": {},
   "outputs": [],
   "source": [
    "def plot_kmeans_clusters(player_mean_colors, labels):\n",
    "    player_mean_colors = np.array([lab_to_rgb(color) for color in player_mean_colors])\n",
    "\n",
    "    # Plotting the results (optional)\n",
    "    plt.subplot(1, 2, 1)\n",
    "    plt.scatter(player_mean_colors[:, 1], player_mean_colors[:, 2], c=player_mean_colors / 255.0)\n",
    "    plt.title('Original Colors')\n",
    "\n",
    "    plt.subplot(1, 2, 2)\n",
    "    plt.scatter(player_mean_colors[labels == 0][:, 1], player_mean_colors[labels == 0][:, 2], c='blue', marker='o')\n",
    "    plt.scatter(player_mean_colors[labels == 1][:, 1], player_mean_colors[labels == 1][:, 2], c='red', marker='x')\n",
    "    plt.title('Clustered Colors')\n",
    "\n",
    "    plt.show()\n",
    "    \n",
    "def home_away_color_ranges(home, away):\n",
    "    # plot_lab_region(home[0], home[1])\n",
    "    plot_lab_region(away[0], away[1])\n",
    "\n",
    "    plt.figure(figsize=(10, 5))\n",
    "\n",
    "    # Displaying the mask\n",
    "    plt.subplot(1, 4, 1)\n",
    "     # Plotting the most common color\n",
    "    plt.imshow(cv2.cvtColor(home[0][np.newaxis, np.newaxis, :].astype(np.uint8), cv2.COLOR_Lab2RGB))\n",
    "    plt.title(\"Home Lower\")\n",
    "\n",
    "    plt.subplot(1, 4, 2)\n",
    "    plt.imshow(cv2.cvtColor(home[1][np.newaxis, np.newaxis, :].astype(np.uint8), cv2.COLOR_Lab2RGB))\n",
    "    plt.title(\"Home Upper\")\n",
    "\n",
    "    plt.subplot(1, 4, 3)\n",
    "    plt.imshow(cv2.cvtColor(away[0][np.newaxis, np.newaxis, :].astype(np.uint8), cv2.COLOR_Lab2RGB))\n",
    "    plt.title(\"Away Lower\")\n",
    "\n",
    "    plt.subplot(1, 4, 4)\n",
    "    plt.imshow(cv2.cvtColor(away[1][np.newaxis, np.newaxis, :].astype(np.uint8), cv2.COLOR_Lab2RGB))\n",
    "    plt.title(\"Away Upper\")\n",
    "\n",
    "    plt.show()"
   ]
  },
  {
   "cell_type": "code",
   "execution_count": 37,
   "id": "b2346285",
   "metadata": {},
   "outputs": [],
   "source": [
    "from sklearn.cluster import KMeans\n",
    "import matplotlib.pyplot as plt\n",
    "import sys\n",
    "import sklearn\n",
    "from collections import Counter\n",
    "\n",
    "\n",
    "def adjust_bbox(image, bbox, height_fraction=(0.17, 0.5), width_fraction=(0.2, 0.2)):\n",
    "    x1, y1, x2, y2 = bbox\n",
    "    \n",
    "    # Adjusting the bounding box to focus on the upper part\n",
    "    height = y2 - y1\n",
    "    width = x2 - x1\n",
    "    \n",
    "    new_y1 = y1 + int(height_fraction[0] * height)\n",
    "    new_y2 = y1 + int(height_fraction[1] * height)\n",
    "    new_x1 = x1 + int(width_fraction[0] * width)\n",
    "    new_x2 = x2 - int(width_fraction[1] * width)\n",
    "\n",
    "    adjusted_bbox = (new_x1, new_y1, new_x2, new_y2)\n",
    "    roi = image[adjusted_bbox[1]:adjusted_bbox[3], adjusted_bbox[0]:adjusted_bbox[2]]\n",
    "\n",
    "    return roi\n",
    "\n",
    "def filter_out_color_LAB(roi_lab, lower_treshold, upper_treshold):\n",
    "    # Getting the A channel and applying threshold\n",
    "    a_channel = roi_lab[:,:,1]\n",
    "    #127, 255\n",
    "    _, mask = cv2.threshold(a_channel, lower_treshold, upper_treshold, cv2.THRESH_BINARY + cv2.THRESH_OTSU)\n",
    "    \n",
    "    # Using the mask to exclude green pixels in LAB\n",
    "    roi_lab_filtered = roi_lab.copy()\n",
    "    roi_lab_filtered[mask != 255] = 0\n",
    "    return roi_lab_filtered\n",
    "\n",
    "def get_color_histogram(image, bbox):\n",
    "    \"\"\"\n",
    "    Get the color histogram within a specific portion of the bounding box in the HSV color space.\n",
    "    \"\"\"\n",
    "    roi = adjust_bbox(image, bbox)\n",
    "    # Converting to LAB color space\n",
    "    roi_lab = cv2.cvtColor(roi, cv2.COLOR_BGR2Lab)\n",
    "    roi_lab_filtered = filter_out_color_LAB(roi_lab, 127, 255)\n",
    "    \n",
    "    non_black_pixels = roi_lab_filtered[roi_lab_filtered.any(axis=-1)]\n",
    "    color_counter = Counter(map(tuple, non_black_pixels))\n",
    "    most_common_color = color_counter.most_common(1)[0][0]\n",
    "        \n",
    "    non_zero_subarrays = roi_lab_filtered[roi_lab_filtered.any(axis=-1)]\n",
    "    \n",
    "    hist = cv2.calcHist([roi_lab], [0, 1], None, [8, 8], [0, 180, 0, 256])\n",
    "    \n",
    "    cv2.normalize(hist, hist)\n",
    "    \n",
    "    return hist.flatten()\n",
    "\n",
    "def get_mean_color(image, bbox):\n",
    "    \"\"\"\n",
    "    Get the mean color within a specific portion of the bounding box in both RGB and LAB color spaces,\n",
    "    excluding green pixels.\n",
    "    \"\"\"\n",
    "    roi = adjust_bbox(image, bbox)\n",
    "\n",
    "    # Converting to LAB color space\n",
    "    roi_lab = cv2.cvtColor(roi, cv2.COLOR_BGR2Lab)\n",
    "    roi_lab_filtered = filter_out_color_LAB(roi_lab, 127, 255)\n",
    "        \n",
    "    non_zero_subarrays = roi_lab_filtered[roi_lab_filtered.any(axis=-1)]\n",
    "\n",
    "    # Calculate the mean of each channel\n",
    "    if non_zero_subarrays.size > 0:\n",
    "        mean_color_lab = non_zero_subarrays.mean(axis=0)\n",
    "        \n",
    "        \n",
    "    color_counter = Counter(map(tuple, non_zero_subarrays))\n",
    "    most_common_color_lab = np.array(color_counter.most_common(1)[0][0], dtype=np.uint8)\n",
    "\n",
    "    most_common_color_bgr = cv2.cvtColor(np.array([[most_common_color_lab]], dtype=np.uint8), cv2.COLOR_Lab2BGR)[0][0]\n",
    "    mean_color_bgr = cv2.cvtColor(np.array([[mean_color_lab]], dtype=np.uint8), cv2.COLOR_Lab2BGR)[0][0]\n",
    "    return most_common_color_lab, mean_color_lab\n",
    "\n",
    "def perform_kmeans_clustering(colors, initial_centroids, color_multiplier=4, max_iter=10, n_clusters=2):\n",
    "    \"\"\"\n",
    "    Perform k-means clustering on the given color data.\n",
    "    \"\"\"\n",
    "    colors = np.array(colors)\n",
    "    \n",
    "    colors[:,1:3] *= 4\n",
    "    if len(initial_centroids) != 0:\n",
    "        kmeans = KMeans(n_clusters=2, init=initial_centroids, random_state=0, n_init=1, max_iter=max_iter).fit(colors)\n",
    "    else:\n",
    "        kmeans = KMeans(n_clusters=2, random_state=0).fit(colors)\n",
    "        initial_centroids = kmeans.cluster_centers_\n",
    "        \n",
    "    # Reassign labels based on the order of centroids\n",
    "    sorted_idx = np.argsort(initial_centroids[:, 0])  # Assuming the 0th feature is a color channel like Red\n",
    "    mapping = np.zeros(n_clusters, dtype=int)\n",
    "    for i, idx in enumerate(sorted_idx):\n",
    "        mapping[idx] = i\n",
    "\n",
    "    consistent_labels = mapping[kmeans.labels_]\n",
    "    \n",
    "    return consistent_labels, initial_centroids"
   ]
  },
  {
   "cell_type": "code",
   "execution_count": 38,
   "id": "e65144ed",
   "metadata": {},
   "outputs": [],
   "source": [
    "from scipy.spatial import distance\n",
    "from scipy import stats\n",
    "    \n",
    "import numpy as np\n",
    "import matplotlib.pyplot as plt\n",
    "from mpl_toolkits.mplot3d.art3d import Poly3DCollection\n",
    "\n",
    "\n",
    "\n",
    "def plot_filtered_boxes(frame, boxes):\n",
    "    plt.figure(figsize=(12, len(boxes) * 4))\n",
    "    \n",
    "    for i, box in enumerate(boxes):\n",
    "        # Apply the ROI adjustment and color filtering\n",
    "        roi = adjust_bbox(frame, box)\n",
    "        roi_lab = cv2.cvtColor(roi, cv2.COLOR_BGR2Lab)\n",
    "        roi_lab_filtered = filter_out_color_LAB(roi_lab, 127, 255)\n",
    "        non_zero_colors = roi_lab_filtered[roi_lab_filtered.any(axis=-1)]\n",
    "\n",
    "        plt.subplot(len(boxes), 2, i * 2 + 1)\n",
    "        plt.imshow(cv2.cvtColor(roi, cv2.COLOR_BGR2RGB))\n",
    "        plt.title(f\"Original Box {i+1}\")\n",
    "\n",
    "        plt.subplot(len(boxes), 2, i * 2 + 2)\n",
    "        plt.imshow(cv2.cvtColor(roi_lab_filtered, cv2.COLOR_Lab2RGB))\n",
    "        plt.title(f\"Filtered Box {i+1}\")\n",
    "        \n",
    "    plt.show()\n",
    "\n",
    "def compute_common_color_cluster_and_range(frame, boxes, num_clusters=2, delta=10):\n",
    "    colors = []\n",
    "    for box in boxes:\n",
    "        roi = adjust_bbox(frame, box)\n",
    "        roi_lab = cv2.cvtColor(roi, cv2.COLOR_BGR2Lab)\n",
    "        roi_lab_filtered = filter_out_color_LAB(roi_lab, 127, 255)\n",
    "        non_zero_colors = roi_lab_filtered[roi_lab_filtered.any(axis=-1)]\n",
    "        colors.extend(non_zero_colors)\n",
    "\n",
    "    if len(colors) == 0:\n",
    "        print(\"All colors are filtered out.\")\n",
    "        return None, None\n",
    "\n",
    "    # Applying K-means clustering to group colors\n",
    "    kmeans = KMeans(n_clusters=num_clusters, random_state=0).fit(colors)\n",
    "    cluster_centers = kmeans.cluster_centers_.astype(int)\n",
    "\n",
    "    # Getting the most common cluster center (centroid)\n",
    "    labels, counts = np.unique(kmeans.labels_, return_counts=True)\n",
    "    most_common_cluster = cluster_centers[labels[np.argmax(counts)]]\n",
    "\n",
    "    # Compute the color range\n",
    "    lower_bound = np.clip(most_common_cluster - delta, 0, 255)\n",
    "    upper_bound = np.clip(most_common_cluster + delta, 0, 255)\n",
    "\n",
    "    # Plotting the most common color cluster center\n",
    "    plt.figure(figsize=(6, 2))\n",
    "    plt.subplot(1, 2, 1)\n",
    "    plt.imshow(cv2.cvtColor(most_common_cluster[np.newaxis, np.newaxis, :].astype(np.uint8), cv2.COLOR_Lab2RGB))\n",
    "    plt.title(\"Most Common Cluster Center\")\n",
    "    plt.axis('off')\n",
    "\n",
    "    # Plotting colors within the range\n",
    "    plt.subplot(1, 2, 2)\n",
    "    for i in range(5):\n",
    "        sample_color = np.random.randint(lower_bound, upper_bound+1)\n",
    "        plt.imshow(cv2.cvtColor(sample_color[np.newaxis, np.newaxis, :].astype(np.uint8), cv2.COLOR_Lab2RGB))\n",
    "        plt.title(\"Colors Within Range\")\n",
    "        plt.axis('off')\n",
    "\n",
    "    plt.show()\n",
    "\n",
    "    return lower_bound, upper_bound    \n",
    "    \n",
    "def compute_common_color_and_range(frame, boxes, delta=10):\n",
    "    colors = []\n",
    "    for box in boxes:\n",
    "        roi = adjust_bbox(frame, box)\n",
    "        roi_lab = cv2.cvtColor(roi, cv2.COLOR_BGR2Lab)\n",
    "        roi_lab_filtered = filter_out_color_LAB(roi_lab, 127, 255)\n",
    "        non_zero_colors = roi_lab_filtered[roi_lab_filtered.any(axis=-1)]\n",
    "        colors.extend(non_zero_colors)\n",
    "\n",
    "    if len(colors) == 0:\n",
    "        print(\"All colors are filtered out.\")\n",
    "        return None, None\n",
    "\n",
    "    color_counter = Counter(map(tuple, colors))\n",
    "    most_common_color = np.array(color_counter.most_common(1)[0][0], dtype=np.uint8)\n",
    "\n",
    "    # Compute the color range\n",
    "    lower_bound = most_common_color - delta\n",
    "    upper_bound = most_common_color + delta\n",
    "    \n",
    "    # Ensure the bounds are valid\n",
    "    if np.any(upper_bound < lower_bound):\n",
    "        print(\"Invalid color range corrected.\")\n",
    "        lower_bound = most_common_color\n",
    "        upper_bound = most_common_color\n",
    "    \n",
    "    lower_bound = np.clip(lower_bound, 0, 255)\n",
    "    upper_bound = np.clip(upper_bound, 0, 255)\n",
    "\n",
    "    # Plotting the most common color\n",
    "    plt.figure(figsize=(6, 2))\n",
    "    plt.subplot(1, 2, 1)\n",
    "    plt.imshow(cv2.cvtColor(most_common_color[np.newaxis, np.newaxis, :].astype(np.uint8), cv2.COLOR_Lab2RGB))\n",
    "    plt.title(\"Most Common Color\")\n",
    "    plt.axis('off')\n",
    "    \n",
    "    plt.subplot(1, 2, 2)\n",
    "    for i in range(5):\n",
    "        sample_color = np.random.randint(lower_bound, upper_bound + 1, size=(1,1,3))\n",
    "        plt.imshow(cv2.cvtColor(sample_color.astype(np.uint8), cv2.COLOR_Lab2RGB))\n",
    "        plt.axis('off')\n",
    "\n",
    "    return lower_bound, upper_bound\n",
    "\n",
    "\n",
    "def nearest_points(centroids, data_points, n):\n",
    "    # Calculate the distances between each data point and each centroid\n",
    "    distances = distance.cdist(data_points, centroids, 'euclidean')\n",
    "    \n",
    "    # Get the n smallest distances' indices for each centroid\n",
    "    nearest_indices = np.argsort(distances, axis=0)[:n]\n",
    "    \n",
    "    # Creating a dictionary to hold the indices of the nearest points for each centroid\n",
    "    nearest_per_centroid = {i: nearest_indices[:, i].tolist() for i in range(centroids.shape[0])}\n",
    "\n",
    "    return nearest_per_centroid\n",
    "\n",
    "\n",
    "def compute_jersey_colors(first_frame, dets, bounding_boxes, classes, color_multiplier=4):\n",
    "    # get_mean_color returns a tuple, 0 is most common color, 1 is mean color\n",
    "    class_1_boxes = [bounding_box for bounding_box, cls in zip(bounding_boxes, classes) if cls == 1]\n",
    "    colors_bounding_boxes = [(get_mean_color(first_frame, bounding_box)[1], bounding_box) for bounding_box in class_1_boxes]\n",
    "    \n",
    "    mean_colors = []\n",
    "    for color_bbox in colors_bounding_boxes:\n",
    "        mean_colors.append(color_bbox[0])\n",
    "    \n",
    "    initial_centroids = []\n",
    "    mean_colors = np.array(mean_colors)\n",
    "    label_clusters, centroids = perform_kmeans_clustering(mean_colors, initial_centroids, color_multiplier=color_multiplier)\n",
    "    clustered_points = mean_colors.copy()\n",
    "    clustered_points[:,1:3] *= color_multiplier\n",
    "    \n",
    "    close_points = nearest_points(centroids, clustered_points, 4)\n",
    "    \n",
    "    centroid_1_boxes = [class_1_boxes[i] for i in close_points[0]]\n",
    "    centroid_2_boxes = [class_1_boxes[i] for i in close_points[1]]\n",
    "    \n",
    "    \n",
    "    #plot_filtered_boxes(first_frame, centroid_1_boxes)\n",
    "    #plot_filtered_boxes(first_frame, centroid_2_boxes)\n",
    "    print(\"first\")\n",
    "    home1 = compute_common_color_cluster_and_range(first_frame, centroid_1_boxes)\n",
    "    home = compute_common_color_and_range(first_frame, centroid_1_boxes)\n",
    "\n",
    "    print(\"second\")\n",
    "    away1 = compute_common_color_cluster_and_range(first_frame, centroid_2_boxes)\n",
    "    away = compute_common_color_and_range(first_frame, centroid_2_boxes)\n",
    "\n",
    "\n",
    "    print(\"Most Dominant Color (in LAB):\", away1)\n",
    "    return (home, away)\n",
    "    \n",
    "\n",
    "def plot_lab_region(lower_bound, upper_bound):\n",
    "    fig = plt.figure()\n",
    "    ax = fig.add_subplot(111, projection='3d')\n",
    "    \n",
    "    # Define the vertices of the region\n",
    "    # Each vertex is a combination of the lower and upper values for L, a, and b\n",
    "    vertices = [\n",
    "        [lower_bound[0], lower_bound[1], lower_bound[2]],\n",
    "        [upper_bound[0], lower_bound[1], lower_bound[2]],\n",
    "        [upper_bound[0], upper_bound[1], lower_bound[2]],\n",
    "        [lower_bound[0], upper_bound[1], lower_bound[2]],\n",
    "        [lower_bound[0], lower_bound[1], upper_bound[2]],\n",
    "        [upper_bound[0], lower_bound[1], upper_bound[2]],\n",
    "        [upper_bound[0], upper_bound[1], upper_bound[2]],\n",
    "        [lower_bound[0], upper_bound[1], upper_bound[2]]\n",
    "    ]\n",
    "    \n",
    "    vertices = np.array(vertices)\n",
    "    \n",
    "    # Define the vertices that compose each of the 6 faces of the region\n",
    "    faces = [\n",
    "        [vertices[0], vertices[1], vertices[2], vertices[3]],\n",
    "        [vertices[4], vertices[5], vertices[6], vertices[7]], \n",
    "        [vertices[0], vertices[1], vertices[5], vertices[4]], \n",
    "        [vertices[1], vertices[2], vertices[6], vertices[5]],\n",
    "        [vertices[2], vertices[3], vertices[7], vertices[6]],\n",
    "        [vertices[3], vertices[0], vertices[4], vertices[7]]\n",
    "    ]\n",
    "    \n",
    "    # Draw the faces\n",
    "    ax.add_collection3d(Poly3DCollection(faces, facecolors='cyan', linewidths=1, edgecolors='black', alpha=.25))\n",
    "    \n",
    "    ax.set_xlabel('L*')\n",
    "    ax.set_ylabel('a*')\n",
    "    ax.set_zlabel('b*')\n",
    "    ax.set_xlim([0, 255])\n",
    "    ax.set_ylim([-255, 255])\n",
    "    ax.set_zlim([-255, 255])\n",
    "    plt.show()\n",
    "\n",
    "        \n",
    "def get_team_belonging(image, bounding_box, home_color, away_color, should_plot=False):\n",
    "    #blur_kernel_size = (2,2)\n",
    "    #image = cv2.blur(image, blur_kernel_size)\n",
    "    roi = adjust_bbox(image, bounding_box)\n",
    "    \n",
    "    # Converting to LAB color space\n",
    "    roi_lab = cv2.cvtColor(roi, cv2.COLOR_BGR2LAB)\n",
    "    \n",
    "    roi_lab_away = roi_lab.copy()\n",
    "    roi_lab_referee = roi_lab.copy()\n",
    "    \n",
    "    lower_blue = np.array([100, 50, 50])\n",
    "    upper_blue = np.array([140, 255, 255])\n",
    "    \n",
    "    lower_white = np.array([0, 0, 200])\n",
    "    upper_white = np.array([180, 50, 255])\n",
    "    \n",
    "    \n",
    "    mask_home = cv2.inRange(roi_lab, home_color[0], home_color[1])\n",
    "    #mask_home = cv2.inRange(roi_lab, lower_blue, upper_blue)\n",
    "    result_home = cv2.bitwise_and(roi_lab, roi_lab, mask=mask_home)\n",
    "    count_home = cv2.countNonZero(mask_home)\n",
    "    \n",
    "    mask_away = cv2.inRange(roi_lab_away, away_color[0], away_color[1])\n",
    "    #mask_away = cv2.inRange(roi_lab_away, lower_white, upper_white)\n",
    "    result_away = cv2.bitwise_and(roi_lab_away, roi_lab_away, mask=mask_away)\n",
    "    count_away = cv2.countNonZero(mask_away)\n",
    "    \n",
    "    if should_plot:\n",
    "        plt.figure(figsize=(10, 5))\n",
    "        # Displaying the mask\n",
    "        plt.subplot(1, 5, 1)\n",
    "        plt.imshow(cv2.cvtColor(roi, cv2.COLOR_BGR2RGB))\n",
    "        plt.title(\"Result\")\n",
    "\n",
    "        plt.subplot(1, 5, 2)\n",
    "        plt.imshow(mask_home, cmap='gray')\n",
    "        plt.title(\"Mask Home\")\n",
    "\n",
    "        # Displaying the result\n",
    "        plt.subplot(1, 5, 3)\n",
    "        plt.imshow(cv2.cvtColor(result_home, cv2.COLOR_HSV2RGB))\n",
    "        plt.title(\"Result Home\")\n",
    "\n",
    "        plt.subplot(1, 5, 4)\n",
    "        plt.imshow(mask_away, cmap='gray')\n",
    "        plt.title(\"Mask Away\")\n",
    "\n",
    "        # Displaying the result\n",
    "        plt.subplot(1, 5, 5)\n",
    "        plt.imshow(cv2.cvtColor(result_away, cv2.COLOR_HSV2RGB))\n",
    "        plt.title(\"Result Away\")\n",
    "\n",
    "        plt.show()\n",
    "        \n",
    "        \n",
    "    team = -1\n",
    "    \n",
    "    if count_away > count_home:\n",
    "        team = 1\n",
    "        print(\"Away team\")\n",
    "    else:\n",
    "        print(\"Home team\")\n",
    "        team = 0\n",
    "        \n",
    "    return team"
   ]
  },
  {
   "cell_type": "code",
   "execution_count": 39,
   "id": "41f2a4c7",
   "metadata": {},
   "outputs": [],
   "source": [
    "import os\n",
    "import cv2\n",
    "import zipfile\n",
    "\n",
    "# Function to get unique colors for each class id\n",
    "def get_color(cls_id):\n",
    "    np.random.seed(cls_id)\n",
    "    return tuple(np.random.randint(0, 255, 3).tolist())\n",
    "\n",
    "def split_ball_players(detections):\n",
    "    dets = []\n",
    "    ball = np.array([])\n",
    "    highest_conf = 0\n",
    "\n",
    "    for bounding_boxes in detections:\n",
    "        if bounding_boxes[-1:] != 0:\n",
    "            dets.append(bounding_boxes)\n",
    "        if bounding_boxes[5] == 0:\n",
    "            if bounding_boxes[4] > highest_conf:\n",
    "                highest_conf = bounding_boxes[4]\n",
    "                ball = bounding_boxes\n",
    "\n",
    "\n",
    "    dets = np.array(dets)\n",
    "    \n",
    "    return dets, ball\n",
    "\n",
    "def draw_on_frame(image, xyxys, ids, clss, labels, ball):\n",
    "    thickness = 2\n",
    "    fontscale = 0.5\n",
    "\n",
    "    \n",
    "    for xyxy, id, cls, label in zip(xyxys, ids, clss, labels):\n",
    "\n",
    "\n",
    "        # Convert bounding box coordinates to Rect object\n",
    "        rect = Rect(xyxy[0], xyxy[1], xyxy[2], xyxy[3])\n",
    "        if cls == 1:\n",
    "            cls = cls + label\n",
    "\n",
    "        # Get a unique color for each class\n",
    "        color = Color(*get_color(cls))\n",
    "\n",
    "        # Draw an ellipse at the bottom of the bounding box\n",
    "        draw_ellipse(image, rect, color, thickness)\n",
    "\n",
    "        # Place ID text just above the ellipse\n",
    "        cv2.putText(\n",
    "            image,\n",
    "            f'{id}',\n",
    "            (rect.bottom_center[0] - 10, rect.bottom_center[1] - int(0.35 * rect.width) - 5),\n",
    "            cv2.FONT_HERSHEY_SIMPLEX,\n",
    "            fontscale,\n",
    "            color.bgr_tuple,\n",
    "            thickness\n",
    "        )\n",
    "    if len(ball) != 0:\n",
    "        rect = Rect(int(ball[0]), int(ball[1]), int(ball[2]), int(ball[3]))\n",
    "        # Get a unique color for each class\n",
    "        color = Color(*get_color(0))\n",
    "\n",
    "        # Draw an ellipse at the bottom of the bounding box\n",
    "        draw_ellipse(image, rect, color, thickness)\n",
    "        id = -1\n",
    "        # Place ID text just above the ellipse\n",
    "        cv2.putText(\n",
    "            image,\n",
    "            \"-1\",\n",
    "            (rect.bottom_center[0] - 10, rect.bottom_center[1] - int(0.35 * rect.width) - 5),\n",
    "            cv2.FONT_HERSHEY_SIMPLEX,\n",
    "            fontscale,\n",
    "            color.bgr_tuple,\n",
    "            thickness\n",
    "        )\n",
    "        \n",
    "        \n",
    "def save_frame_as_image(frame, output_folder, frame_id):\n",
    "    \"\"\"Save the current frame as an image.\"\"\"\n",
    "    if not os.path.exists(output_folder):\n",
    "        os.makedirs(output_folder)\n",
    "    \n",
    "    filename = os.path.join(output_folder, f\"{frame_id:06}.jpg\")\n",
    "    print(\"Saved: \" + filename)\n",
    "    cv2.imwrite(filename, frame)\n",
    "\n",
    "def write_labels_txt(class_names, filepath):\n",
    "    \"\"\"Write class names to labels.txt.\"\"\"\n",
    "    with open(filepath, \"w\") as f:\n",
    "        for name in class_names:\n",
    "            f.write(name + \"\\n\")\n",
    "\n",
    "def export_to_mot_format(frames, track_ids, bboxes, class_ids, filepath):\n",
    "    \"\"\"Write the tracking results into gt.txt in the MOT format.\"\"\"\n",
    "    with open(filepath, 'w') as f:\n",
    "        for frame_num, track_id, bbox, class_id in zip(frames, track_ids, bboxes, class_ids):\n",
    "            x1, y1, x2, y2 = bbox\n",
    "            x1, y1, x2, y2 = int(x1), int(y1), int(x2), int(y2)\n",
    "            w = x2 - x1\n",
    "            h = y2 - y1\n",
    "            f.write(f\"{frame_num},{track_id},{x1},{y1},{w},{h},1,{class_id},0.86014\\n\")\n"
   ]
  },
  {
   "cell_type": "code",
   "execution_count": 40,
   "id": "817e5a04",
   "metadata": {},
   "outputs": [],
   "source": [
    "def process_video(input_file, output_file, tracker, yolov8, do_kmeans, conf=0.8, should_plot=False, class_names=None):\n",
    "    \"\"\"\n",
    "    Process the input video, perform object detection and tracking, and save the results to the output video.\n",
    "    \"\"\"\n",
    "    input_video = cv2.VideoCapture(input_file)\n",
    "    width = int(input_video.get(cv2.CAP_PROP_FRAME_WIDTH))\n",
    "    height = int(input_video.get(cv2.CAP_PROP_FRAME_HEIGHT))\n",
    "    fps = input_video.get(cv2.CAP_PROP_FPS)\n",
    "    fourcc = cv2.VideoWriter_fourcc(*'mp4v')\n",
    "    out = cv2.VideoWriter(output_file, fourcc, fps, (width, height))\n",
    "  \n",
    "    initial_centroids = []\n",
    "    counter = 1\n",
    "    while True:\n",
    "        print(counter)\n",
    "        ret, image = input_video.read()\n",
    "        if not ret:\n",
    "            break\n",
    "        \n",
    "       \n",
    "        predicted = yolov8.predict(image, conf=conf)\n",
    "        detections = predicted[0].boxes.data.cpu().numpy()\n",
    "        \n",
    "        # Split the ball detections and player detections into two arrays\n",
    "        # This ensures the labels are correct when doing team assignment\n",
    "        # and that we only get 1 ball in each frame\n",
    "        dets, ball = split_ball_players(detections)\n",
    "        \n",
    "        tracks = tracker.update(dets, image)\n",
    "        \n",
    "        # Set im = image so we can do transforms on the image for better color identification\n",
    "        # Without altering the original image so when writing the video it looks the same\n",
    "        #im = cv2.addWeighted(image, 0.75, image, 0.5, 0)\n",
    "        im = image\n",
    "        \n",
    "        if tracks.size > 0:  # Check if tracks is not empty\n",
    "            xyxys = tracks[:, 0:4].astype('int')\n",
    "            ids = tracks[:, 4].astype('int')\n",
    "            clss = tracks[:, 6].astype('int')\n",
    "        else:\n",
    "            print(\"Tracks is empty or not in expected format.\")\n",
    "\n",
    "        if(counter == 1):\n",
    "            home, away = compute_jersey_colors(im, dets, xyxys, clss)\n",
    "            \n",
    "            if should_plot:\n",
    "                home_away_color_ranges(home, away)\n",
    "            \n",
    "            \n",
    "        if tracks.shape[0] != 0:\n",
    "            player_mean_colors = [get_mean_color(im, xyxy)[1] for xyxy, cls in zip(xyxys, clss) if cls == 1]\n",
    "            #player_mean_colors = [get_color_histogram(im, xyxy) for xyxy, cls in zip(xyxys, clss) if cls == 1]\n",
    "            \n",
    "            if(len(initial_centroids) == 0):\n",
    "                labels, initial_centroids = perform_kmeans_clustering(player_mean_colors, initial_centroids)\n",
    "\n",
    "            else:\n",
    "                if do_kmeans:\n",
    "                    labels = perform_kmeans_clustering(player_mean_colors, initial_centroids)[0]\n",
    "                else:\n",
    "                    labels = [get_team_belonging(im, xyxy, home, away) for xyxy, cls in zip(xyxys, clss) if cls == 1]\n",
    "            \n",
    "            if should_plot:\n",
    "                plot_kmeans_clusters(player_mean_colors, labels)   \n",
    "    \n",
    "            draw_on_frame(image, xyxys, ids, clss, labels, ball)\n",
    "\n",
    "        out.write(image)\n",
    "        counter += 1\n",
    "        \n",
    "    input_video.release()\n",
    "    out.release()\n",
    "    cv2.destroyAllWindows()\n"
   ]
  },
  {
   "cell_type": "code",
   "execution_count": 41,
   "id": "797ec9cc",
   "metadata": {
    "scrolled": true
   },
   "outputs": [
    {
     "name": "stderr",
     "output_type": "stream",
     "text": [
      "\u001b[32m2023-11-01 11:39:19.903\u001b[0m | \u001b[32m\u001b[1mSUCCESS \u001b[0m | \u001b[36mboxmot.appearance.reid_model_factory\u001b[0m:\u001b[36mload_pretrained_weights\u001b[0m:\u001b[36m207\u001b[0m - \u001b[32m\u001b[1mSuccessfully loaded pretrained weights from \"osnet_x1_0_market1501.pt\"\u001b[0m\n"
     ]
    },
    {
     "name": "stdout",
     "output_type": "stream",
     "text": [
      "Tracking output: videos/30sec_BODO_tracking_output_test.mp4\n",
      "1\n"
     ]
    },
    {
     "name": "stderr",
     "output_type": "stream",
     "text": [
      "\n",
      "0: 1088x1920 1 ball, 22 players, 58.4ms\n",
      "Speed: 47.2ms preprocess, 58.4ms inference, 1.2ms postprocess per image at shape (1, 3, 1088, 1920)\n"
     ]
    },
    {
     "name": "stdout",
     "output_type": "stream",
     "text": [
      "first\n"
     ]
    },
    {
     "data": {
      "image/png": "[encoded data removed]",
      "text/plain": [
       "<Figure size 600x200 with 2 Axes>"
      ]
     },
     "metadata": {},
     "output_type": "display_data"
    },
    {
     "name": "stdout",
     "output_type": "stream",
     "text": [
      "Invalid color range corrected.\n",
      "second\n"
     ]
    },
    {
     "data": {
      "image/png": "[encoded data removed]",
      "text/plain": [
       "<Figure size 600x200 with 2 Axes>"
      ]
     },
     "metadata": {},
     "output_type": "display_data"
    },
    {
     "data": {
      "image/png": "[encoded data removed]",
      "text/plain": [
       "<Figure size 600x200 with 2 Axes>"
      ]
     },
     "metadata": {},
     "output_type": "display_data"
    },
    {
     "name": "stdout",
     "output_type": "stream",
     "text": [
      "Most Dominant Color (in LAB): (array([135, 118, 154]), array([155, 138, 174]))\n"
     ]
    },
    {
     "name": "stderr",
     "output_type": "stream",
     "text": [
      "\n",
      "0: 1088x1920 1 ball, 22 players, 17.9ms\n",
      "Speed: 7.5ms preprocess, 17.9ms inference, 1.2ms postprocess per image at shape (1, 3, 1088, 1920)\n"
     ]
    },
    {
     "name": "stdout",
     "output_type": "stream",
     "text": [
      "2\n"
     ]
    },
    {
     "name": "stderr",
     "output_type": "stream",
     "text": [
      "\n",
      "0: 1088x1920 1 ball, 22 players, 17.9ms\n",
      "Speed: 7.0ms preprocess, 17.9ms inference, 1.2ms postprocess per image at shape (1, 3, 1088, 1920)\n",
      "\n",
      "0: 1088x1920 1 ball, 22 players, 17.9ms\n",
      "Speed: 7.1ms preprocess, 17.9ms inference, 1.2ms postprocess per image at shape (1, 3, 1088, 1920)\n"
     ]
    },
    {
     "name": "stdout",
     "output_type": "stream",
     "text": [
      "3\n",
      "4\n"
     ]
    },
    {
     "name": "stderr",
     "output_type": "stream",
     "text": [
      "\n",
      "0: 1088x1920 1 ball, 22 players, 17.9ms\n",
      "Speed: 7.5ms preprocess, 17.9ms inference, 1.2ms postprocess per image at shape (1, 3, 1088, 1920)\n",
      "\n",
      "0: 1088x1920 1 ball, 22 players, 17.9ms\n",
      "Speed: 7.2ms preprocess, 17.9ms inference, 1.2ms postprocess per image at shape (1, 3, 1088, 1920)\n"
     ]
    },
    {
     "name": "stdout",
     "output_type": "stream",
     "text": [
      "5\n",
      "6\n"
     ]
    },
    {
     "name": "stderr",
     "output_type": "stream",
     "text": [
      "\n",
      "0: 1088x1920 1 ball, 22 players, 17.9ms\n",
      "Speed: 7.8ms preprocess, 17.9ms inference, 1.2ms postprocess per image at shape (1, 3, 1088, 1920)\n",
      "\n",
      "0: 1088x1920 1 ball, 22 players, 17.9ms\n",
      "Speed: 7.2ms preprocess, 17.9ms inference, 1.1ms postprocess per image at shape (1, 3, 1088, 1920)\n"
     ]
    },
    {
     "name": "stdout",
     "output_type": "stream",
     "text": [
      "7\n",
      "8\n"
     ]
    },
    {
     "name": "stderr",
     "output_type": "stream",
     "text": [
      "\n",
      "0: 1088x1920 1 ball, 22 players, 17.9ms\n",
      "Speed: 7.3ms preprocess, 17.9ms inference, 1.2ms postprocess per image at shape (1, 3, 1088, 1920)\n",
      "\n",
      "0: 1088x1920 1 ball, 22 players, 17.9ms\n",
      "Speed: 7.4ms preprocess, 17.9ms inference, 1.1ms postprocess per image at shape (1, 3, 1088, 1920)\n"
     ]
    },
    {
     "name": "stdout",
     "output_type": "stream",
     "text": [
      "9\n",
      "10\n"
     ]
    },
    {
     "name": "stderr",
     "output_type": "stream",
     "text": [
      "\n",
      "0: 1088x1920 1 ball, 22 players, 17.9ms\n",
      "Speed: 7.5ms preprocess, 17.9ms inference, 1.2ms postprocess per image at shape (1, 3, 1088, 1920)\n",
      "\n",
      "0: 1088x1920 1 ball, 22 players, 17.9ms\n",
      "Speed: 7.6ms preprocess, 17.9ms inference, 1.2ms postprocess per image at shape (1, 3, 1088, 1920)\n"
     ]
    },
    {
     "name": "stdout",
     "output_type": "stream",
     "text": [
      "11\n",
      "12\n"
     ]
    },
    {
     "name": "stderr",
     "output_type": "stream",
     "text": [
      "\n",
      "0: 1088x1920 1 ball, 22 players, 17.9ms\n",
      "Speed: 7.7ms preprocess, 17.9ms inference, 1.3ms postprocess per image at shape (1, 3, 1088, 1920)\n",
      "\n",
      "0: 1088x1920 1 ball, 22 players, 17.9ms\n",
      "Speed: 7.2ms preprocess, 17.9ms inference, 1.2ms postprocess per image at shape (1, 3, 1088, 1920)\n"
     ]
    },
    {
     "name": "stdout",
     "output_type": "stream",
     "text": [
      "13\n",
      "14\n"
     ]
    },
    {
     "name": "stderr",
     "output_type": "stream",
     "text": [
      "\n",
      "0: 1088x1920 1 ball, 22 players, 17.9ms\n",
      "Speed: 7.2ms preprocess, 17.9ms inference, 1.2ms postprocess per image at shape (1, 3, 1088, 1920)\n",
      "\n",
      "0: 1088x1920 1 ball, 22 players, 17.9ms\n",
      "Speed: 7.5ms preprocess, 17.9ms inference, 1.2ms postprocess per image at shape (1, 3, 1088, 1920)\n"
     ]
    },
    {
     "name": "stdout",
     "output_type": "stream",
     "text": [
      "15\n",
      "16\n"
     ]
    },
    {
     "name": "stderr",
     "output_type": "stream",
     "text": [
      "\n",
      "0: 1088x1920 1 ball, 22 players, 17.9ms\n",
      "Speed: 7.9ms preprocess, 17.9ms inference, 1.2ms postprocess per image at shape (1, 3, 1088, 1920)\n",
      "\n",
      "0: 1088x1920 1 ball, 22 players, 17.9ms\n",
      "Speed: 7.4ms preprocess, 17.9ms inference, 1.2ms postprocess per image at shape (1, 3, 1088, 1920)\n"
     ]
    },
    {
     "name": "stdout",
     "output_type": "stream",
     "text": [
      "17\n",
      "18\n"
     ]
    },
    {
     "name": "stderr",
     "output_type": "stream",
     "text": [
      "\n",
      "0: 1088x1920 1 ball, 22 players, 17.9ms\n",
      "Speed: 7.7ms preprocess, 17.9ms inference, 1.2ms postprocess per image at shape (1, 3, 1088, 1920)\n",
      "\n",
      "0: 1088x1920 1 ball, 22 players, 17.9ms\n",
      "Speed: 7.2ms preprocess, 17.9ms inference, 1.2ms postprocess per image at shape (1, 3, 1088, 1920)\n"
     ]
    },
    {
     "name": "stdout",
     "output_type": "stream",
     "text": [
      "19\n",
      "20\n"
     ]
    },
    {
     "name": "stderr",
     "output_type": "stream",
     "text": [
      "\n",
      "0: 1088x1920 1 ball, 22 players, 17.9ms\n",
      "Speed: 7.1ms preprocess, 17.9ms inference, 1.1ms postprocess per image at shape (1, 3, 1088, 1920)\n",
      "\n",
      "0: 1088x1920 1 ball, 22 players, 17.9ms\n",
      "Speed: 7.1ms preprocess, 17.9ms inference, 1.1ms postprocess per image at shape (1, 3, 1088, 1920)\n"
     ]
    },
    {
     "name": "stdout",
     "output_type": "stream",
     "text": [
      "21\n",
      "22\n"
     ]
    },
    {
     "name": "stderr",
     "output_type": "stream",
     "text": [
      "\n",
      "0: 1088x1920 1 ball, 22 players, 17.9ms\n",
      "Speed: 7.1ms preprocess, 17.9ms inference, 1.2ms postprocess per image at shape (1, 3, 1088, 1920)\n",
      "\n",
      "0: 1088x1920 1 ball, 22 players, 17.9ms\n",
      "Speed: 7.4ms preprocess, 17.9ms inference, 1.2ms postprocess per image at shape (1, 3, 1088, 1920)\n"
     ]
    },
    {
     "name": "stdout",
     "output_type": "stream",
     "text": [
      "23\n",
      "24\n"
     ]
    },
    {
     "name": "stderr",
     "output_type": "stream",
     "text": [
      "\n",
      "0: 1088x1920 1 ball, 22 players, 17.9ms\n",
      "Speed: 7.1ms preprocess, 17.9ms inference, 1.2ms postprocess per image at shape (1, 3, 1088, 1920)\n",
      "\n",
      "0: 1088x1920 1 ball, 22 players, 17.9ms\n",
      "Speed: 7.1ms preprocess, 17.9ms inference, 1.1ms postprocess per image at shape (1, 3, 1088, 1920)\n"
     ]
    },
    {
     "name": "stdout",
     "output_type": "stream",
     "text": [
      "25\n",
      "26\n"
     ]
    },
    {
     "name": "stderr",
     "output_type": "stream",
     "text": [
      "\n",
      "0: 1088x1920 1 ball, 22 players, 17.9ms\n",
      "Speed: 7.3ms preprocess, 17.9ms inference, 1.2ms postprocess per image at shape (1, 3, 1088, 1920)\n",
      "\n",
      "0: 1088x1920 1 ball, 22 players, 17.9ms\n",
      "Speed: 7.6ms preprocess, 17.9ms inference, 1.2ms postprocess per image at shape (1, 3, 1088, 1920)\n"
     ]
    },
    {
     "name": "stdout",
     "output_type": "stream",
     "text": [
      "27\n",
      "28\n"
     ]
    },
    {
     "name": "stderr",
     "output_type": "stream",
     "text": [
      "\n",
      "0: 1088x1920 1 ball, 22 players, 17.9ms\n",
      "Speed: 7.4ms preprocess, 17.9ms inference, 1.2ms postprocess per image at shape (1, 3, 1088, 1920)\n",
      "\n",
      "0: 1088x1920 1 ball, 22 players, 17.9ms\n",
      "Speed: 7.2ms preprocess, 17.9ms inference, 1.2ms postprocess per image at shape (1, 3, 1088, 1920)\n"
     ]
    },
    {
     "name": "stdout",
     "output_type": "stream",
     "text": [
      "29\n",
      "30\n"
     ]
    },
    {
     "name": "stderr",
     "output_type": "stream",
     "text": [
      "\n",
      "0: 1088x1920 1 ball, 22 players, 17.9ms\n",
      "Speed: 7.4ms preprocess, 17.9ms inference, 1.2ms postprocess per image at shape (1, 3, 1088, 1920)\n",
      "\n",
      "0: 1088x1920 1 ball, 22 players, 17.9ms\n",
      "Speed: 7.3ms preprocess, 17.9ms inference, 1.1ms postprocess per image at shape (1, 3, 1088, 1920)\n"
     ]
    },
    {
     "name": "stdout",
     "output_type": "stream",
     "text": [
      "31\n",
      "32\n"
     ]
    },
    {
     "name": "stderr",
     "output_type": "stream",
     "text": [
      "\n",
      "0: 1088x1920 1 ball, 22 players, 17.9ms\n",
      "Speed: 7.4ms preprocess, 17.9ms inference, 1.2ms postprocess per image at shape (1, 3, 1088, 1920)\n",
      "\n",
      "0: 1088x1920 1 ball, 22 players, 17.9ms\n",
      "Speed: 7.2ms preprocess, 17.9ms inference, 1.2ms postprocess per image at shape (1, 3, 1088, 1920)\n"
     ]
    },
    {
     "name": "stdout",
     "output_type": "stream",
     "text": [
      "33\n",
      "34\n"
     ]
    },
    {
     "name": "stderr",
     "output_type": "stream",
     "text": [
      "\n",
      "0: 1088x1920 1 ball, 22 players, 17.9ms\n",
      "Speed: 7.4ms preprocess, 17.9ms inference, 1.2ms postprocess per image at shape (1, 3, 1088, 1920)\n",
      "\n",
      "0: 1088x1920 1 ball, 22 players, 17.9ms\n",
      "Speed: 7.7ms preprocess, 17.9ms inference, 1.2ms postprocess per image at shape (1, 3, 1088, 1920)\n"
     ]
    },
    {
     "name": "stdout",
     "output_type": "stream",
     "text": [
      "35\n",
      "36\n"
     ]
    },
    {
     "name": "stderr",
     "output_type": "stream",
     "text": [
      "\n",
      "0: 1088x1920 1 ball, 22 players, 17.9ms\n",
      "Speed: 7.4ms preprocess, 17.9ms inference, 1.2ms postprocess per image at shape (1, 3, 1088, 1920)\n",
      "\n",
      "0: 1088x1920 1 ball, 22 players, 17.9ms\n",
      "Speed: 7.3ms preprocess, 17.9ms inference, 1.2ms postprocess per image at shape (1, 3, 1088, 1920)\n"
     ]
    },
    {
     "name": "stdout",
     "output_type": "stream",
     "text": [
      "37\n",
      "38\n"
     ]
    },
    {
     "name": "stderr",
     "output_type": "stream",
     "text": [
      "\n",
      "0: 1088x1920 1 ball, 22 players, 17.9ms\n",
      "Speed: 7.3ms preprocess, 17.9ms inference, 1.1ms postprocess per image at shape (1, 3, 1088, 1920)\n",
      "\n",
      "0: 1088x1920 1 ball, 22 players, 17.9ms\n",
      "Speed: 7.2ms preprocess, 17.9ms inference, 1.2ms postprocess per image at shape (1, 3, 1088, 1920)\n"
     ]
    },
    {
     "name": "stdout",
     "output_type": "stream",
     "text": [
      "39\n",
      "40\n"
     ]
    },
    {
     "name": "stderr",
     "output_type": "stream",
     "text": [
      "\n",
      "0: 1088x1920 1 ball, 22 players, 17.9ms\n",
      "Speed: 7.2ms preprocess, 17.9ms inference, 1.2ms postprocess per image at shape (1, 3, 1088, 1920)\n",
      "\n",
      "0: 1088x1920 1 ball, 22 players, 17.9ms\n",
      "Speed: 7.6ms preprocess, 17.9ms inference, 1.3ms postprocess per image at shape (1, 3, 1088, 1920)\n"
     ]
    },
    {
     "name": "stdout",
     "output_type": "stream",
     "text": [
      "41\n",
      "42\n"
     ]
    },
    {
     "name": "stderr",
     "output_type": "stream",
     "text": [
      "\n",
      "0: 1088x1920 1 ball, 22 players, 17.9ms\n",
      "Speed: 7.4ms preprocess, 17.9ms inference, 1.2ms postprocess per image at shape (1, 3, 1088, 1920)\n",
      "\n",
      "0: 1088x1920 1 ball, 22 players, 17.9ms\n",
      "Speed: 7.0ms preprocess, 17.9ms inference, 1.2ms postprocess per image at shape (1, 3, 1088, 1920)\n"
     ]
    },
    {
     "name": "stdout",
     "output_type": "stream",
     "text": [
      "43\n",
      "44\n"
     ]
    },
    {
     "name": "stderr",
     "output_type": "stream",
     "text": [
      "\n",
      "0: 1088x1920 1 ball, 22 players, 17.9ms\n",
      "Speed: 7.2ms preprocess, 17.9ms inference, 1.2ms postprocess per image at shape (1, 3, 1088, 1920)\n",
      "\n",
      "0: 1088x1920 1 ball, 22 players, 17.9ms\n",
      "Speed: 7.3ms preprocess, 17.9ms inference, 1.2ms postprocess per image at shape (1, 3, 1088, 1920)\n"
     ]
    },
    {
     "name": "stdout",
     "output_type": "stream",
     "text": [
      "45\n",
      "46\n"
     ]
    },
    {
     "name": "stderr",
     "output_type": "stream",
     "text": [
      "\n",
      "0: 1088x1920 1 ball, 22 players, 17.9ms\n",
      "Speed: 7.4ms preprocess, 17.9ms inference, 1.2ms postprocess per image at shape (1, 3, 1088, 1920)\n",
      "\n",
      "0: 1088x1920 1 ball, 22 players, 17.9ms\n",
      "Speed: 7.1ms preprocess, 17.9ms inference, 1.2ms postprocess per image at shape (1, 3, 1088, 1920)\n"
     ]
    },
    {
     "name": "stdout",
     "output_type": "stream",
     "text": [
      "47\n",
      "48\n"
     ]
    },
    {
     "name": "stderr",
     "output_type": "stream",
     "text": [
      "\n",
      "0: 1088x1920 1 ball, 22 players, 17.9ms\n",
      "Speed: 7.1ms preprocess, 17.9ms inference, 1.2ms postprocess per image at shape (1, 3, 1088, 1920)\n",
      "\n",
      "0: 1088x1920 1 ball, 22 players, 17.9ms\n",
      "Speed: 7.7ms preprocess, 17.9ms inference, 1.3ms postprocess per image at shape (1, 3, 1088, 1920)\n"
     ]
    },
    {
     "name": "stdout",
     "output_type": "stream",
     "text": [
      "49\n",
      "50\n"
     ]
    },
    {
     "name": "stderr",
     "output_type": "stream",
     "text": [
      "\n",
      "0: 1088x1920 1 ball, 22 players, 17.9ms\n",
      "Speed: 7.1ms preprocess, 17.9ms inference, 1.2ms postprocess per image at shape (1, 3, 1088, 1920)\n",
      "\n",
      "0: 1088x1920 1 ball, 22 players, 17.9ms\n",
      "Speed: 7.4ms preprocess, 17.9ms inference, 1.2ms postprocess per image at shape (1, 3, 1088, 1920)\n"
     ]
    },
    {
     "name": "stdout",
     "output_type": "stream",
     "text": [
      "51\n",
      "52\n"
     ]
    },
    {
     "name": "stderr",
     "output_type": "stream",
     "text": [
      "\n",
      "0: 1088x1920 1 ball, 22 players, 17.9ms\n",
      "Speed: 7.2ms preprocess, 17.9ms inference, 1.2ms postprocess per image at shape (1, 3, 1088, 1920)\n",
      "\n",
      "0: 1088x1920 1 ball, 22 players, 17.9ms\n",
      "Speed: 7.3ms preprocess, 17.9ms inference, 1.2ms postprocess per image at shape (1, 3, 1088, 1920)\n"
     ]
    },
    {
     "name": "stdout",
     "output_type": "stream",
     "text": [
      "53\n",
      "54\n"
     ]
    },
    {
     "name": "stderr",
     "output_type": "stream",
     "text": [
      "\n",
      "0: 1088x1920 1 ball, 22 players, 17.9ms\n",
      "Speed: 7.3ms preprocess, 17.9ms inference, 1.2ms postprocess per image at shape (1, 3, 1088, 1920)\n",
      "\n",
      "0: 1088x1920 1 ball, 22 players, 17.9ms\n",
      "Speed: 7.2ms preprocess, 17.9ms inference, 1.2ms postprocess per image at shape (1, 3, 1088, 1920)\n"
     ]
    },
    {
     "name": "stdout",
     "output_type": "stream",
     "text": [
      "55\n",
      "56\n"
     ]
    },
    {
     "name": "stderr",
     "output_type": "stream",
     "text": [
      "\n",
      "0: 1088x1920 1 ball, 22 players, 17.9ms\n",
      "Speed: 7.3ms preprocess, 17.9ms inference, 1.2ms postprocess per image at shape (1, 3, 1088, 1920)\n",
      "\n",
      "0: 1088x1920 1 ball, 22 players, 17.9ms\n",
      "Speed: 7.3ms preprocess, 17.9ms inference, 1.2ms postprocess per image at shape (1, 3, 1088, 1920)\n"
     ]
    },
    {
     "name": "stdout",
     "output_type": "stream",
     "text": [
      "57\n",
      "58\n"
     ]
    },
    {
     "name": "stderr",
     "output_type": "stream",
     "text": [
      "\n",
      "0: 1088x1920 1 ball, 22 players, 17.9ms\n",
      "Speed: 7.4ms preprocess, 17.9ms inference, 1.2ms postprocess per image at shape (1, 3, 1088, 1920)\n",
      "\n",
      "0: 1088x1920 1 ball, 22 players, 17.9ms\n",
      "Speed: 7.7ms preprocess, 17.9ms inference, 1.2ms postprocess per image at shape (1, 3, 1088, 1920)\n"
     ]
    },
    {
     "name": "stdout",
     "output_type": "stream",
     "text": [
      "59\n",
      "60\n"
     ]
    },
    {
     "name": "stderr",
     "output_type": "stream",
     "text": [
      "\n",
      "0: 1088x1920 1 ball, 22 players, 17.9ms\n",
      "Speed: 7.3ms preprocess, 17.9ms inference, 1.1ms postprocess per image at shape (1, 3, 1088, 1920)\n",
      "\n",
      "0: 1088x1920 1 ball, 22 players, 17.9ms\n",
      "Speed: 7.5ms preprocess, 17.9ms inference, 1.2ms postprocess per image at shape (1, 3, 1088, 1920)\n"
     ]
    },
    {
     "name": "stdout",
     "output_type": "stream",
     "text": [
      "61\n",
      "62\n"
     ]
    },
    {
     "name": "stderr",
     "output_type": "stream",
     "text": [
      "\n",
      "0: 1088x1920 1 ball, 22 players, 17.9ms\n",
      "Speed: 7.4ms preprocess, 17.9ms inference, 1.2ms postprocess per image at shape (1, 3, 1088, 1920)\n",
      "\n",
      "0: 1088x1920 1 ball, 22 players, 17.9ms\n",
      "Speed: 7.1ms preprocess, 17.9ms inference, 1.2ms postprocess per image at shape (1, 3, 1088, 1920)\n"
     ]
    },
    {
     "name": "stdout",
     "output_type": "stream",
     "text": [
      "63\n",
      "64\n"
     ]
    },
    {
     "name": "stderr",
     "output_type": "stream",
     "text": [
      "\n",
      "0: 1088x1920 1 ball, 22 players, 17.9ms\n",
      "Speed: 7.7ms preprocess, 17.9ms inference, 1.2ms postprocess per image at shape (1, 3, 1088, 1920)\n",
      "\n",
      "0: 1088x1920 1 ball, 22 players, 17.9ms\n",
      "Speed: 7.6ms preprocess, 17.9ms inference, 1.2ms postprocess per image at shape (1, 3, 1088, 1920)\n"
     ]
    },
    {
     "name": "stdout",
     "output_type": "stream",
     "text": [
      "65\n",
      "66\n"
     ]
    },
    {
     "name": "stderr",
     "output_type": "stream",
     "text": [
      "\n",
      "0: 1088x1920 1 ball, 22 players, 17.9ms\n",
      "Speed: 7.5ms preprocess, 17.9ms inference, 1.2ms postprocess per image at shape (1, 3, 1088, 1920)\n",
      "\n",
      "0: 1088x1920 1 ball, 22 players, 17.9ms\n",
      "Speed: 7.2ms preprocess, 17.9ms inference, 1.2ms postprocess per image at shape (1, 3, 1088, 1920)\n"
     ]
    },
    {
     "name": "stdout",
     "output_type": "stream",
     "text": [
      "67\n",
      "68\n"
     ]
    },
    {
     "name": "stderr",
     "output_type": "stream",
     "text": [
      "\n",
      "0: 1088x1920 1 ball, 22 players, 17.9ms\n",
      "Speed: 7.2ms preprocess, 17.9ms inference, 1.2ms postprocess per image at shape (1, 3, 1088, 1920)\n",
      "\n",
      "0: 1088x1920 1 ball, 22 players, 17.9ms\n",
      "Speed: 7.2ms preprocess, 17.9ms inference, 1.2ms postprocess per image at shape (1, 3, 1088, 1920)\n"
     ]
    },
    {
     "name": "stdout",
     "output_type": "stream",
     "text": [
      "69\n",
      "70\n"
     ]
    },
    {
     "name": "stderr",
     "output_type": "stream",
     "text": [
      "\n",
      "0: 1088x1920 22 players, 17.9ms\n",
      "Speed: 7.9ms preprocess, 17.9ms inference, 1.2ms postprocess per image at shape (1, 3, 1088, 1920)\n",
      "\n",
      "0: 1088x1920 22 players, 17.9ms\n",
      "Speed: 7.2ms preprocess, 17.9ms inference, 1.2ms postprocess per image at shape (1, 3, 1088, 1920)\n"
     ]
    },
    {
     "name": "stdout",
     "output_type": "stream",
     "text": [
      "71\n",
      "72\n"
     ]
    },
    {
     "name": "stderr",
     "output_type": "stream",
     "text": [
      "\n",
      "0: 1088x1920 22 players, 17.9ms\n",
      "Speed: 7.3ms preprocess, 17.9ms inference, 1.1ms postprocess per image at shape (1, 3, 1088, 1920)\n",
      "\n",
      "0: 1088x1920 22 players, 17.9ms\n",
      "Speed: 7.4ms preprocess, 17.9ms inference, 1.2ms postprocess per image at shape (1, 3, 1088, 1920)\n"
     ]
    },
    {
     "name": "stdout",
     "output_type": "stream",
     "text": [
      "73\n",
      "74\n"
     ]
    },
    {
     "name": "stderr",
     "output_type": "stream",
     "text": [
      "\n",
      "0: 1088x1920 22 players, 17.9ms\n",
      "Speed: 7.4ms preprocess, 17.9ms inference, 1.2ms postprocess per image at shape (1, 3, 1088, 1920)\n",
      "\n",
      "0: 1088x1920 22 players, 17.9ms\n",
      "Speed: 6.8ms preprocess, 17.9ms inference, 1.1ms postprocess per image at shape (1, 3, 1088, 1920)\n"
     ]
    },
    {
     "name": "stdout",
     "output_type": "stream",
     "text": [
      "75\n",
      "76\n"
     ]
    },
    {
     "name": "stderr",
     "output_type": "stream",
     "text": [
      "\n",
      "0: 1088x1920 22 players, 17.9ms\n",
      "Speed: 7.2ms preprocess, 17.9ms inference, 1.1ms postprocess per image at shape (1, 3, 1088, 1920)\n",
      "\n",
      "0: 1088x1920 22 players, 17.9ms\n",
      "Speed: 7.2ms preprocess, 17.9ms inference, 1.2ms postprocess per image at shape (1, 3, 1088, 1920)\n"
     ]
    },
    {
     "name": "stdout",
     "output_type": "stream",
     "text": [
      "77\n",
      "78\n"
     ]
    },
    {
     "name": "stderr",
     "output_type": "stream",
     "text": [
      "\n",
      "0: 1088x1920 22 players, 17.9ms\n",
      "Speed: 7.3ms preprocess, 17.9ms inference, 1.1ms postprocess per image at shape (1, 3, 1088, 1920)\n",
      "\n",
      "0: 1088x1920 22 players, 17.9ms\n",
      "Speed: 7.3ms preprocess, 17.9ms inference, 1.2ms postprocess per image at shape (1, 3, 1088, 1920)\n"
     ]
    },
    {
     "name": "stdout",
     "output_type": "stream",
     "text": [
      "79\n",
      "80\n"
     ]
    },
    {
     "name": "stderr",
     "output_type": "stream",
     "text": [
      "\n",
      "0: 1088x1920 22 players, 17.9ms\n",
      "Speed: 7.3ms preprocess, 17.9ms inference, 1.2ms postprocess per image at shape (1, 3, 1088, 1920)\n",
      "\n",
      "0: 1088x1920 22 players, 17.9ms\n",
      "Speed: 7.2ms preprocess, 17.9ms inference, 1.3ms postprocess per image at shape (1, 3, 1088, 1920)\n"
     ]
    },
    {
     "name": "stdout",
     "output_type": "stream",
     "text": [
      "81\n",
      "82\n"
     ]
    },
    {
     "name": "stderr",
     "output_type": "stream",
     "text": [
      "\n",
      "0: 1088x1920 22 players, 17.9ms\n",
      "Speed: 7.3ms preprocess, 17.9ms inference, 1.3ms postprocess per image at shape (1, 3, 1088, 1920)\n",
      "\n",
      "0: 1088x1920 22 players, 17.9ms\n",
      "Speed: 7.6ms preprocess, 17.9ms inference, 1.2ms postprocess per image at shape (1, 3, 1088, 1920)\n"
     ]
    },
    {
     "name": "stdout",
     "output_type": "stream",
     "text": [
      "83\n",
      "84\n"
     ]
    },
    {
     "name": "stderr",
     "output_type": "stream",
     "text": [
      "\n",
      "0: 1088x1920 22 players, 17.9ms\n",
      "Speed: 7.1ms preprocess, 17.9ms inference, 1.2ms postprocess per image at shape (1, 3, 1088, 1920)\n",
      "\n",
      "0: 1088x1920 22 players, 17.9ms\n",
      "Speed: 7.2ms preprocess, 17.9ms inference, 1.2ms postprocess per image at shape (1, 3, 1088, 1920)\n"
     ]
    },
    {
     "name": "stdout",
     "output_type": "stream",
     "text": [
      "85\n",
      "86\n"
     ]
    },
    {
     "name": "stderr",
     "output_type": "stream",
     "text": [
      "\n",
      "0: 1088x1920 22 players, 17.9ms\n",
      "Speed: 7.3ms preprocess, 17.9ms inference, 1.2ms postprocess per image at shape (1, 3, 1088, 1920)\n",
      "\n",
      "0: 1088x1920 22 players, 17.9ms\n",
      "Speed: 7.7ms preprocess, 17.9ms inference, 1.2ms postprocess per image at shape (1, 3, 1088, 1920)\n"
     ]
    },
    {
     "name": "stdout",
     "output_type": "stream",
     "text": [
      "87\n",
      "88\n"
     ]
    },
    {
     "name": "stderr",
     "output_type": "stream",
     "text": [
      "\n",
      "0: 1088x1920 22 players, 17.9ms\n",
      "Speed: 7.5ms preprocess, 17.9ms inference, 1.2ms postprocess per image at shape (1, 3, 1088, 1920)\n",
      "\n",
      "0: 1088x1920 22 players, 17.9ms\n",
      "Speed: 7.1ms preprocess, 17.9ms inference, 1.2ms postprocess per image at shape (1, 3, 1088, 1920)\n"
     ]
    },
    {
     "name": "stdout",
     "output_type": "stream",
     "text": [
      "89\n",
      "90\n"
     ]
    },
    {
     "name": "stderr",
     "output_type": "stream",
     "text": [
      "\n",
      "0: 1088x1920 22 players, 17.9ms\n",
      "Speed: 7.0ms preprocess, 17.9ms inference, 1.2ms postprocess per image at shape (1, 3, 1088, 1920)\n",
      "\n",
      "0: 1088x1920 22 players, 17.9ms\n",
      "Speed: 7.3ms preprocess, 17.9ms inference, 1.2ms postprocess per image at shape (1, 3, 1088, 1920)\n"
     ]
    },
    {
     "name": "stdout",
     "output_type": "stream",
     "text": [
      "91\n",
      "92\n"
     ]
    },
    {
     "name": "stderr",
     "output_type": "stream",
     "text": [
      "\n",
      "0: 1088x1920 22 players, 17.9ms\n",
      "Speed: 7.1ms preprocess, 17.9ms inference, 1.2ms postprocess per image at shape (1, 3, 1088, 1920)\n",
      "\n",
      "0: 1088x1920 22 players, 17.9ms\n",
      "Speed: 7.2ms preprocess, 17.9ms inference, 1.1ms postprocess per image at shape (1, 3, 1088, 1920)\n"
     ]
    },
    {
     "name": "stdout",
     "output_type": "stream",
     "text": [
      "93\n",
      "94\n"
     ]
    },
    {
     "name": "stderr",
     "output_type": "stream",
     "text": [
      "\n",
      "0: 1088x1920 22 players, 17.9ms\n",
      "Speed: 7.6ms preprocess, 17.9ms inference, 1.2ms postprocess per image at shape (1, 3, 1088, 1920)\n",
      "\n",
      "0: 1088x1920 22 players, 18.2ms\n",
      "Speed: 7.8ms preprocess, 18.2ms inference, 1.2ms postprocess per image at shape (1, 3, 1088, 1920)\n"
     ]
    },
    {
     "name": "stdout",
     "output_type": "stream",
     "text": [
      "95\n",
      "96\n"
     ]
    },
    {
     "name": "stderr",
     "output_type": "stream",
     "text": [
      "\n",
      "0: 1088x1920 22 players, 17.9ms\n",
      "Speed: 7.8ms preprocess, 17.9ms inference, 1.1ms postprocess per image at shape (1, 3, 1088, 1920)\n",
      "\n",
      "0: 1088x1920 22 players, 17.9ms\n",
      "Speed: 7.6ms preprocess, 17.9ms inference, 1.1ms postprocess per image at shape (1, 3, 1088, 1920)\n"
     ]
    },
    {
     "name": "stdout",
     "output_type": "stream",
     "text": [
      "97\n",
      "98\n"
     ]
    },
    {
     "name": "stderr",
     "output_type": "stream",
     "text": [
      "\n",
      "0: 1088x1920 22 players, 17.9ms\n",
      "Speed: 7.4ms preprocess, 17.9ms inference, 1.2ms postprocess per image at shape (1, 3, 1088, 1920)\n",
      "\n",
      "0: 1088x1920 22 players, 17.9ms\n",
      "Speed: 7.5ms preprocess, 17.9ms inference, 1.2ms postprocess per image at shape (1, 3, 1088, 1920)\n"
     ]
    },
    {
     "name": "stdout",
     "output_type": "stream",
     "text": [
      "99\n",
      "100\n"
     ]
    },
    {
     "name": "stderr",
     "output_type": "stream",
     "text": [
      "\n",
      "0: 1088x1920 22 players, 17.9ms\n",
      "Speed: 7.7ms preprocess, 17.9ms inference, 1.2ms postprocess per image at shape (1, 3, 1088, 1920)\n",
      "\n",
      "0: 1088x1920 22 players, 17.9ms\n",
      "Speed: 7.2ms preprocess, 17.9ms inference, 1.2ms postprocess per image at shape (1, 3, 1088, 1920)\n"
     ]
    },
    {
     "name": "stdout",
     "output_type": "stream",
     "text": [
      "101\n",
      "102\n"
     ]
    },
    {
     "name": "stderr",
     "output_type": "stream",
     "text": [
      "\n",
      "0: 1088x1920 22 players, 17.9ms\n",
      "Speed: 7.2ms preprocess, 17.9ms inference, 1.2ms postprocess per image at shape (1, 3, 1088, 1920)\n",
      "\n",
      "0: 1088x1920 22 players, 17.9ms\n",
      "Speed: 7.2ms preprocess, 17.9ms inference, 1.2ms postprocess per image at shape (1, 3, 1088, 1920)\n"
     ]
    },
    {
     "name": "stdout",
     "output_type": "stream",
     "text": [
      "103\n",
      "104\n"
     ]
    },
    {
     "name": "stderr",
     "output_type": "stream",
     "text": [
      "\n",
      "0: 1088x1920 22 players, 17.9ms\n",
      "Speed: 7.5ms preprocess, 17.9ms inference, 1.2ms postprocess per image at shape (1, 3, 1088, 1920)\n",
      "\n",
      "0: 1088x1920 22 players, 17.9ms\n",
      "Speed: 7.5ms preprocess, 17.9ms inference, 1.2ms postprocess per image at shape (1, 3, 1088, 1920)\n"
     ]
    },
    {
     "name": "stdout",
     "output_type": "stream",
     "text": [
      "105\n",
      "106\n"
     ]
    },
    {
     "name": "stderr",
     "output_type": "stream",
     "text": [
      "\n",
      "0: 1088x1920 22 players, 17.9ms\n",
      "Speed: 7.4ms preprocess, 17.9ms inference, 1.2ms postprocess per image at shape (1, 3, 1088, 1920)\n",
      "\n",
      "0: 1088x1920 1 ball, 22 players, 17.9ms\n",
      "Speed: 7.2ms preprocess, 17.9ms inference, 1.2ms postprocess per image at shape (1, 3, 1088, 1920)\n"
     ]
    },
    {
     "name": "stdout",
     "output_type": "stream",
     "text": [
      "107\n",
      "108\n"
     ]
    },
    {
     "name": "stderr",
     "output_type": "stream",
     "text": [
      "\n",
      "0: 1088x1920 1 ball, 22 players, 17.9ms\n",
      "Speed: 7.2ms preprocess, 17.9ms inference, 1.2ms postprocess per image at shape (1, 3, 1088, 1920)\n",
      "\n",
      "0: 1088x1920 1 ball, 22 players, 17.9ms\n",
      "Speed: 7.3ms preprocess, 17.9ms inference, 1.2ms postprocess per image at shape (1, 3, 1088, 1920)\n"
     ]
    },
    {
     "name": "stdout",
     "output_type": "stream",
     "text": [
      "109\n",
      "110\n"
     ]
    },
    {
     "name": "stderr",
     "output_type": "stream",
     "text": [
      "\n",
      "0: 1088x1920 1 ball, 22 players, 17.9ms\n",
      "Speed: 7.1ms preprocess, 17.9ms inference, 1.2ms postprocess per image at shape (1, 3, 1088, 1920)\n",
      "\n",
      "0: 1088x1920 1 ball, 22 players, 17.9ms\n",
      "Speed: 7.2ms preprocess, 17.9ms inference, 1.2ms postprocess per image at shape (1, 3, 1088, 1920)\n"
     ]
    },
    {
     "name": "stdout",
     "output_type": "stream",
     "text": [
      "111\n",
      "112\n"
     ]
    },
    {
     "name": "stderr",
     "output_type": "stream",
     "text": [
      "\n",
      "0: 1088x1920 1 ball, 22 players, 17.9ms\n",
      "Speed: 7.8ms preprocess, 17.9ms inference, 1.2ms postprocess per image at shape (1, 3, 1088, 1920)\n",
      "\n",
      "0: 1088x1920 1 ball, 22 players, 17.9ms\n",
      "Speed: 7.5ms preprocess, 17.9ms inference, 1.2ms postprocess per image at shape (1, 3, 1088, 1920)\n"
     ]
    },
    {
     "name": "stdout",
     "output_type": "stream",
     "text": [
      "113\n",
      "114\n"
     ]
    },
    {
     "name": "stderr",
     "output_type": "stream",
     "text": [
      "\n",
      "0: 1088x1920 1 ball, 22 players, 17.9ms\n",
      "Speed: 7.4ms preprocess, 17.9ms inference, 1.2ms postprocess per image at shape (1, 3, 1088, 1920)\n",
      "\n",
      "0: 1088x1920 1 ball, 22 players, 17.9ms\n",
      "Speed: 7.9ms preprocess, 17.9ms inference, 1.2ms postprocess per image at shape (1, 3, 1088, 1920)\n"
     ]
    },
    {
     "name": "stdout",
     "output_type": "stream",
     "text": [
      "115\n",
      "116\n"
     ]
    },
    {
     "name": "stderr",
     "output_type": "stream",
     "text": [
      "\n",
      "0: 1088x1920 1 ball, 22 players, 17.9ms\n",
      "Speed: 7.3ms preprocess, 17.9ms inference, 1.2ms postprocess per image at shape (1, 3, 1088, 1920)\n",
      "\n",
      "0: 1088x1920 1 ball, 22 players, 17.9ms\n",
      "Speed: 7.0ms preprocess, 17.9ms inference, 1.3ms postprocess per image at shape (1, 3, 1088, 1920)\n"
     ]
    },
    {
     "name": "stdout",
     "output_type": "stream",
     "text": [
      "117\n",
      "118\n"
     ]
    },
    {
     "name": "stderr",
     "output_type": "stream",
     "text": [
      "\n",
      "0: 1088x1920 1 ball, 22 players, 17.9ms\n",
      "Speed: 7.4ms preprocess, 17.9ms inference, 1.2ms postprocess per image at shape (1, 3, 1088, 1920)\n",
      "\n",
      "0: 1088x1920 1 ball, 22 players, 17.9ms\n",
      "Speed: 7.3ms preprocess, 17.9ms inference, 1.2ms postprocess per image at shape (1, 3, 1088, 1920)\n"
     ]
    },
    {
     "name": "stdout",
     "output_type": "stream",
     "text": [
      "119\n",
      "120\n"
     ]
    },
    {
     "name": "stderr",
     "output_type": "stream",
     "text": [
      "\n",
      "0: 1088x1920 1 ball, 22 players, 17.9ms\n",
      "Speed: 7.3ms preprocess, 17.9ms inference, 1.1ms postprocess per image at shape (1, 3, 1088, 1920)\n",
      "\n",
      "0: 1088x1920 1 ball, 22 players, 17.9ms\n",
      "Speed: 7.5ms preprocess, 17.9ms inference, 1.2ms postprocess per image at shape (1, 3, 1088, 1920)\n"
     ]
    },
    {
     "name": "stdout",
     "output_type": "stream",
     "text": [
      "121\n",
      "122\n"
     ]
    },
    {
     "name": "stderr",
     "output_type": "stream",
     "text": [
      "\n",
      "0: 1088x1920 1 ball, 22 players, 17.9ms\n",
      "Speed: 7.6ms preprocess, 17.9ms inference, 1.2ms postprocess per image at shape (1, 3, 1088, 1920)\n",
      "\n",
      "0: 1088x1920 1 ball, 22 players, 17.9ms\n",
      "Speed: 7.4ms preprocess, 17.9ms inference, 1.2ms postprocess per image at shape (1, 3, 1088, 1920)\n"
     ]
    },
    {
     "name": "stdout",
     "output_type": "stream",
     "text": [
      "123\n",
      "124\n"
     ]
    },
    {
     "name": "stderr",
     "output_type": "stream",
     "text": [
      "\n",
      "0: 1088x1920 1 ball, 22 players, 17.9ms\n",
      "Speed: 8.5ms preprocess, 17.9ms inference, 1.2ms postprocess per image at shape (1, 3, 1088, 1920)\n",
      "\n",
      "0: 1088x1920 1 ball, 22 players, 17.9ms\n",
      "Speed: 7.4ms preprocess, 17.9ms inference, 1.2ms postprocess per image at shape (1, 3, 1088, 1920)\n"
     ]
    },
    {
     "name": "stdout",
     "output_type": "stream",
     "text": [
      "125\n",
      "126\n"
     ]
    },
    {
     "name": "stderr",
     "output_type": "stream",
     "text": [
      "\n",
      "0: 1088x1920 1 ball, 22 players, 17.9ms\n",
      "Speed: 7.3ms preprocess, 17.9ms inference, 1.2ms postprocess per image at shape (1, 3, 1088, 1920)\n",
      "\n",
      "0: 1088x1920 1 ball, 22 players, 17.9ms\n",
      "Speed: 7.2ms preprocess, 17.9ms inference, 1.1ms postprocess per image at shape (1, 3, 1088, 1920)\n"
     ]
    },
    {
     "name": "stdout",
     "output_type": "stream",
     "text": [
      "127\n",
      "128\n"
     ]
    },
    {
     "name": "stderr",
     "output_type": "stream",
     "text": [
      "\n",
      "0: 1088x1920 1 ball, 22 players, 17.9ms\n",
      "Speed: 7.7ms preprocess, 17.9ms inference, 1.2ms postprocess per image at shape (1, 3, 1088, 1920)\n",
      "\n",
      "0: 1088x1920 1 ball, 22 players, 17.9ms\n",
      "Speed: 7.6ms preprocess, 17.9ms inference, 1.2ms postprocess per image at shape (1, 3, 1088, 1920)\n"
     ]
    },
    {
     "name": "stdout",
     "output_type": "stream",
     "text": [
      "129\n",
      "130\n"
     ]
    },
    {
     "name": "stderr",
     "output_type": "stream",
     "text": [
      "\n",
      "0: 1088x1920 1 ball, 22 players, 17.9ms\n",
      "Speed: 7.2ms preprocess, 17.9ms inference, 1.3ms postprocess per image at shape (1, 3, 1088, 1920)\n",
      "\n",
      "0: 1088x1920 22 players, 17.9ms\n",
      "Speed: 7.1ms preprocess, 17.9ms inference, 1.3ms postprocess per image at shape (1, 3, 1088, 1920)\n"
     ]
    },
    {
     "name": "stdout",
     "output_type": "stream",
     "text": [
      "131\n",
      "132\n"
     ]
    },
    {
     "name": "stderr",
     "output_type": "stream",
     "text": [
      "\n",
      "0: 1088x1920 1 ball, 22 players, 17.9ms\n",
      "Speed: 7.2ms preprocess, 17.9ms inference, 1.2ms postprocess per image at shape (1, 3, 1088, 1920)\n",
      "\n",
      "0: 1088x1920 1 ball, 22 players, 17.9ms\n",
      "Speed: 7.6ms preprocess, 17.9ms inference, 1.2ms postprocess per image at shape (1, 3, 1088, 1920)\n"
     ]
    },
    {
     "name": "stdout",
     "output_type": "stream",
     "text": [
      "133\n",
      "134\n"
     ]
    },
    {
     "name": "stderr",
     "output_type": "stream",
     "text": [
      "\n",
      "0: 1088x1920 1 ball, 22 players, 17.9ms\n",
      "Speed: 7.4ms preprocess, 17.9ms inference, 1.2ms postprocess per image at shape (1, 3, 1088, 1920)\n",
      "\n",
      "0: 1088x1920 1 ball, 22 players, 17.9ms\n",
      "Speed: 7.6ms preprocess, 17.9ms inference, 1.3ms postprocess per image at shape (1, 3, 1088, 1920)\n"
     ]
    },
    {
     "name": "stdout",
     "output_type": "stream",
     "text": [
      "135\n",
      "136\n"
     ]
    },
    {
     "name": "stderr",
     "output_type": "stream",
     "text": [
      "\n",
      "0: 1088x1920 1 ball, 22 players, 17.9ms\n",
      "Speed: 7.6ms preprocess, 17.9ms inference, 1.3ms postprocess per image at shape (1, 3, 1088, 1920)\n",
      "\n",
      "0: 1088x1920 1 ball, 22 players, 17.9ms\n",
      "Speed: 7.6ms preprocess, 17.9ms inference, 1.2ms postprocess per image at shape (1, 3, 1088, 1920)\n"
     ]
    },
    {
     "name": "stdout",
     "output_type": "stream",
     "text": [
      "137\n",
      "138\n"
     ]
    },
    {
     "name": "stderr",
     "output_type": "stream",
     "text": [
      "\n",
      "0: 1088x1920 1 ball, 22 players, 17.9ms\n",
      "Speed: 7.3ms preprocess, 17.9ms inference, 1.2ms postprocess per image at shape (1, 3, 1088, 1920)\n",
      "\n",
      "0: 1088x1920 1 ball, 22 players, 17.9ms\n",
      "Speed: 7.3ms preprocess, 17.9ms inference, 1.2ms postprocess per image at shape (1, 3, 1088, 1920)\n"
     ]
    },
    {
     "name": "stdout",
     "output_type": "stream",
     "text": [
      "139\n",
      "140\n"
     ]
    },
    {
     "name": "stderr",
     "output_type": "stream",
     "text": [
      "\n",
      "0: 1088x1920 1 ball, 22 players, 17.9ms\n",
      "Speed: 7.4ms preprocess, 17.9ms inference, 1.2ms postprocess per image at shape (1, 3, 1088, 1920)\n",
      "\n",
      "0: 1088x1920 1 ball, 22 players, 17.9ms\n",
      "Speed: 7.9ms preprocess, 17.9ms inference, 1.2ms postprocess per image at shape (1, 3, 1088, 1920)\n"
     ]
    },
    {
     "name": "stdout",
     "output_type": "stream",
     "text": [
      "141\n",
      "142\n"
     ]
    },
    {
     "name": "stderr",
     "output_type": "stream",
     "text": [
      "\n",
      "0: 1088x1920 22 players, 17.9ms\n",
      "Speed: 7.3ms preprocess, 17.9ms inference, 1.2ms postprocess per image at shape (1, 3, 1088, 1920)\n",
      "\n",
      "0: 1088x1920 1 ball, 22 players, 17.9ms\n",
      "Speed: 7.3ms preprocess, 17.9ms inference, 1.2ms postprocess per image at shape (1, 3, 1088, 1920)\n"
     ]
    },
    {
     "name": "stdout",
     "output_type": "stream",
     "text": [
      "143\n",
      "144\n"
     ]
    },
    {
     "name": "stderr",
     "output_type": "stream",
     "text": [
      "\n",
      "0: 1088x1920 1 ball, 22 players, 17.9ms\n",
      "Speed: 7.1ms preprocess, 17.9ms inference, 1.2ms postprocess per image at shape (1, 3, 1088, 1920)\n",
      "\n",
      "0: 1088x1920 1 ball, 22 players, 17.9ms\n",
      "Speed: 7.0ms preprocess, 17.9ms inference, 1.2ms postprocess per image at shape (1, 3, 1088, 1920)\n"
     ]
    },
    {
     "name": "stdout",
     "output_type": "stream",
     "text": [
      "145\n",
      "146\n"
     ]
    },
    {
     "name": "stderr",
     "output_type": "stream",
     "text": [
      "\n",
      "0: 1088x1920 1 ball, 22 players, 17.9ms\n",
      "Speed: 7.5ms preprocess, 17.9ms inference, 1.2ms postprocess per image at shape (1, 3, 1088, 1920)\n",
      "\n",
      "0: 1088x1920 22 players, 17.9ms\n",
      "Speed: 7.3ms preprocess, 17.9ms inference, 1.2ms postprocess per image at shape (1, 3, 1088, 1920)\n"
     ]
    },
    {
     "name": "stdout",
     "output_type": "stream",
     "text": [
      "147\n",
      "148\n"
     ]
    },
    {
     "name": "stderr",
     "output_type": "stream",
     "text": [
      "\n",
      "0: 1088x1920 1 ball, 22 players, 17.9ms\n",
      "Speed: 7.7ms preprocess, 17.9ms inference, 1.2ms postprocess per image at shape (1, 3, 1088, 1920)\n",
      "\n",
      "0: 1088x1920 1 ball, 22 players, 17.9ms\n",
      "Speed: 7.2ms preprocess, 17.9ms inference, 1.2ms postprocess per image at shape (1, 3, 1088, 1920)\n"
     ]
    },
    {
     "name": "stdout",
     "output_type": "stream",
     "text": [
      "149\n",
      "150\n"
     ]
    },
    {
     "name": "stderr",
     "output_type": "stream",
     "text": [
      "\n",
      "0: 1088x1920 1 ball, 22 players, 17.9ms\n",
      "Speed: 7.7ms preprocess, 17.9ms inference, 1.3ms postprocess per image at shape (1, 3, 1088, 1920)\n",
      "\n",
      "0: 1088x1920 1 ball, 22 players, 17.9ms\n",
      "Speed: 7.2ms preprocess, 17.9ms inference, 1.2ms postprocess per image at shape (1, 3, 1088, 1920)\n"
     ]
    },
    {
     "name": "stdout",
     "output_type": "stream",
     "text": [
      "151\n",
      "152\n"
     ]
    },
    {
     "name": "stderr",
     "output_type": "stream",
     "text": [
      "\n",
      "0: 1088x1920 1 ball, 22 players, 17.9ms\n",
      "Speed: 7.9ms preprocess, 17.9ms inference, 1.2ms postprocess per image at shape (1, 3, 1088, 1920)\n",
      "\n",
      "0: 1088x1920 1 ball, 22 players, 17.9ms\n",
      "Speed: 7.6ms preprocess, 17.9ms inference, 1.2ms postprocess per image at shape (1, 3, 1088, 1920)\n"
     ]
    },
    {
     "name": "stdout",
     "output_type": "stream",
     "text": [
      "153\n",
      "154\n"
     ]
    },
    {
     "name": "stderr",
     "output_type": "stream",
     "text": [
      "\n",
      "0: 1088x1920 1 ball, 22 players, 17.9ms\n",
      "Speed: 7.2ms preprocess, 17.9ms inference, 1.2ms postprocess per image at shape (1, 3, 1088, 1920)\n",
      "\n",
      "0: 1088x1920 1 ball, 22 players, 17.9ms\n",
      "Speed: 7.3ms preprocess, 17.9ms inference, 1.2ms postprocess per image at shape (1, 3, 1088, 1920)\n"
     ]
    },
    {
     "name": "stdout",
     "output_type": "stream",
     "text": [
      "155\n",
      "156\n"
     ]
    },
    {
     "name": "stderr",
     "output_type": "stream",
     "text": [
      "\n",
      "0: 1088x1920 1 ball, 22 players, 17.9ms\n",
      "Speed: 7.2ms preprocess, 17.9ms inference, 1.2ms postprocess per image at shape (1, 3, 1088, 1920)\n",
      "\n",
      "0: 1088x1920 1 ball, 22 players, 17.9ms\n",
      "Speed: 7.4ms preprocess, 17.9ms inference, 1.2ms postprocess per image at shape (1, 3, 1088, 1920)\n"
     ]
    },
    {
     "name": "stdout",
     "output_type": "stream",
     "text": [
      "157\n",
      "158\n"
     ]
    },
    {
     "name": "stderr",
     "output_type": "stream",
     "text": [
      "\n",
      "0: 1088x1920 1 ball, 22 players, 17.9ms\n",
      "Speed: 7.2ms preprocess, 17.9ms inference, 1.2ms postprocess per image at shape (1, 3, 1088, 1920)\n",
      "\n",
      "0: 1088x1920 1 ball, 22 players, 17.9ms\n",
      "Speed: 7.2ms preprocess, 17.9ms inference, 1.2ms postprocess per image at shape (1, 3, 1088, 1920)\n"
     ]
    },
    {
     "name": "stdout",
     "output_type": "stream",
     "text": [
      "159\n",
      "160\n"
     ]
    },
    {
     "name": "stderr",
     "output_type": "stream",
     "text": [
      "\n",
      "0: 1088x1920 1 ball, 22 players, 17.9ms\n",
      "Speed: 7.6ms preprocess, 17.9ms inference, 1.2ms postprocess per image at shape (1, 3, 1088, 1920)\n",
      "\n",
      "0: 1088x1920 1 ball, 22 players, 17.9ms\n",
      "Speed: 7.1ms preprocess, 17.9ms inference, 1.2ms postprocess per image at shape (1, 3, 1088, 1920)\n"
     ]
    },
    {
     "name": "stdout",
     "output_type": "stream",
     "text": [
      "161\n",
      "162\n"
     ]
    },
    {
     "name": "stderr",
     "output_type": "stream",
     "text": [
      "\n",
      "0: 1088x1920 1 ball, 22 players, 17.9ms\n",
      "Speed: 7.5ms preprocess, 17.9ms inference, 1.2ms postprocess per image at shape (1, 3, 1088, 1920)\n",
      "\n",
      "0: 1088x1920 1 ball, 22 players, 17.9ms\n",
      "Speed: 7.6ms preprocess, 17.9ms inference, 1.2ms postprocess per image at shape (1, 3, 1088, 1920)\n"
     ]
    },
    {
     "name": "stdout",
     "output_type": "stream",
     "text": [
      "163\n",
      "164\n"
     ]
    },
    {
     "name": "stderr",
     "output_type": "stream",
     "text": [
      "\n",
      "0: 1088x1920 1 ball, 22 players, 17.9ms\n",
      "Speed: 7.6ms preprocess, 17.9ms inference, 1.2ms postprocess per image at shape (1, 3, 1088, 1920)\n",
      "\n",
      "0: 1088x1920 22 players, 17.9ms\n",
      "Speed: 7.2ms preprocess, 17.9ms inference, 1.1ms postprocess per image at shape (1, 3, 1088, 1920)\n"
     ]
    },
    {
     "name": "stdout",
     "output_type": "stream",
     "text": [
      "165\n",
      "166\n"
     ]
    },
    {
     "name": "stderr",
     "output_type": "stream",
     "text": [
      "\n",
      "0: 1088x1920 22 players, 17.9ms\n",
      "Speed: 7.5ms preprocess, 17.9ms inference, 1.2ms postprocess per image at shape (1, 3, 1088, 1920)\n",
      "\n",
      "0: 1088x1920 1 ball, 22 players, 17.9ms\n",
      "Speed: 7.6ms preprocess, 17.9ms inference, 1.2ms postprocess per image at shape (1, 3, 1088, 1920)\n"
     ]
    },
    {
     "name": "stdout",
     "output_type": "stream",
     "text": [
      "167\n",
      "168\n"
     ]
    },
    {
     "name": "stderr",
     "output_type": "stream",
     "text": [
      "\n",
      "0: 1088x1920 1 ball, 22 players, 17.9ms\n",
      "Speed: 7.7ms preprocess, 17.9ms inference, 1.2ms postprocess per image at shape (1, 3, 1088, 1920)\n",
      "\n",
      "0: 1088x1920 22 players, 17.9ms\n",
      "Speed: 7.3ms preprocess, 17.9ms inference, 1.2ms postprocess per image at shape (1, 3, 1088, 1920)\n"
     ]
    },
    {
     "name": "stdout",
     "output_type": "stream",
     "text": [
      "169\n",
      "170\n"
     ]
    },
    {
     "name": "stderr",
     "output_type": "stream",
     "text": [
      "\n",
      "0: 1088x1920 1 ball, 22 players, 17.9ms\n",
      "Speed: 7.3ms preprocess, 17.9ms inference, 1.2ms postprocess per image at shape (1, 3, 1088, 1920)\n",
      "\n",
      "0: 1088x1920 22 players, 17.9ms\n",
      "Speed: 7.6ms preprocess, 17.9ms inference, 1.2ms postprocess per image at shape (1, 3, 1088, 1920)\n"
     ]
    },
    {
     "name": "stdout",
     "output_type": "stream",
     "text": [
      "171\n",
      "172\n"
     ]
    },
    {
     "name": "stderr",
     "output_type": "stream",
     "text": [
      "\n",
      "0: 1088x1920 22 players, 17.9ms\n",
      "Speed: 7.3ms preprocess, 17.9ms inference, 1.2ms postprocess per image at shape (1, 3, 1088, 1920)\n",
      "\n",
      "0: 1088x1920 22 players, 17.9ms\n",
      "Speed: 7.7ms preprocess, 17.9ms inference, 1.2ms postprocess per image at shape (1, 3, 1088, 1920)\n"
     ]
    },
    {
     "name": "stdout",
     "output_type": "stream",
     "text": [
      "173\n",
      "174\n"
     ]
    },
    {
     "name": "stderr",
     "output_type": "stream",
     "text": [
      "\n",
      "0: 1088x1920 22 players, 17.9ms\n",
      "Speed: 7.3ms preprocess, 17.9ms inference, 1.2ms postprocess per image at shape (1, 3, 1088, 1920)\n",
      "\n",
      "0: 1088x1920 22 players, 17.9ms\n",
      "Speed: 7.1ms preprocess, 17.9ms inference, 1.1ms postprocess per image at shape (1, 3, 1088, 1920)\n"
     ]
    },
    {
     "name": "stdout",
     "output_type": "stream",
     "text": [
      "175\n",
      "176\n"
     ]
    },
    {
     "name": "stderr",
     "output_type": "stream",
     "text": [
      "\n",
      "0: 1088x1920 22 players, 17.9ms\n",
      "Speed: 7.4ms preprocess, 17.9ms inference, 1.2ms postprocess per image at shape (1, 3, 1088, 1920)\n",
      "\n",
      "0: 1088x1920 22 players, 17.9ms\n",
      "Speed: 7.3ms preprocess, 17.9ms inference, 1.2ms postprocess per image at shape (1, 3, 1088, 1920)\n"
     ]
    },
    {
     "name": "stdout",
     "output_type": "stream",
     "text": [
      "177\n",
      "178\n"
     ]
    },
    {
     "name": "stderr",
     "output_type": "stream",
     "text": [
      "\n",
      "0: 1088x1920 1 ball, 22 players, 17.9ms\n",
      "Speed: 7.1ms preprocess, 17.9ms inference, 1.2ms postprocess per image at shape (1, 3, 1088, 1920)\n",
      "\n",
      "0: 1088x1920 22 players, 17.9ms\n",
      "Speed: 7.2ms preprocess, 17.9ms inference, 1.2ms postprocess per image at shape (1, 3, 1088, 1920)\n"
     ]
    },
    {
     "name": "stdout",
     "output_type": "stream",
     "text": [
      "179\n",
      "180\n"
     ]
    },
    {
     "name": "stderr",
     "output_type": "stream",
     "text": [
      "\n",
      "0: 1088x1920 1 ball, 22 players, 17.9ms\n",
      "Speed: 7.3ms preprocess, 17.9ms inference, 1.2ms postprocess per image at shape (1, 3, 1088, 1920)\n",
      "\n",
      "0: 1088x1920 1 ball, 22 players, 17.9ms\n",
      "Speed: 7.6ms preprocess, 17.9ms inference, 1.2ms postprocess per image at shape (1, 3, 1088, 1920)\n"
     ]
    },
    {
     "name": "stdout",
     "output_type": "stream",
     "text": [
      "181\n",
      "182\n"
     ]
    },
    {
     "name": "stderr",
     "output_type": "stream",
     "text": [
      "\n",
      "0: 1088x1920 1 ball, 22 players, 17.9ms\n",
      "Speed: 7.4ms preprocess, 17.9ms inference, 1.2ms postprocess per image at shape (1, 3, 1088, 1920)\n",
      "\n",
      "0: 1088x1920 1 ball, 22 players, 17.9ms\n",
      "Speed: 7.6ms preprocess, 17.9ms inference, 1.2ms postprocess per image at shape (1, 3, 1088, 1920)\n"
     ]
    },
    {
     "name": "stdout",
     "output_type": "stream",
     "text": [
      "183\n",
      "184\n"
     ]
    },
    {
     "name": "stderr",
     "output_type": "stream",
     "text": [
      "\n",
      "0: 1088x1920 1 ball, 22 players, 17.9ms\n",
      "Speed: 7.6ms preprocess, 17.9ms inference, 1.3ms postprocess per image at shape (1, 3, 1088, 1920)\n",
      "\n",
      "0: 1088x1920 1 ball, 22 players, 17.9ms\n",
      "Speed: 7.5ms preprocess, 17.9ms inference, 1.2ms postprocess per image at shape (1, 3, 1088, 1920)\n"
     ]
    },
    {
     "name": "stdout",
     "output_type": "stream",
     "text": [
      "185\n",
      "186\n"
     ]
    },
    {
     "name": "stderr",
     "output_type": "stream",
     "text": [
      "\n",
      "0: 1088x1920 1 ball, 22 players, 17.9ms\n",
      "Speed: 7.3ms preprocess, 17.9ms inference, 1.2ms postprocess per image at shape (1, 3, 1088, 1920)\n",
      "\n",
      "0: 1088x1920 1 ball, 22 players, 17.9ms\n",
      "Speed: 7.2ms preprocess, 17.9ms inference, 1.2ms postprocess per image at shape (1, 3, 1088, 1920)\n"
     ]
    },
    {
     "name": "stdout",
     "output_type": "stream",
     "text": [
      "187\n",
      "188\n"
     ]
    },
    {
     "name": "stderr",
     "output_type": "stream",
     "text": [
      "\n",
      "0: 1088x1920 21 players, 17.9ms\n",
      "Speed: 7.4ms preprocess, 17.9ms inference, 1.2ms postprocess per image at shape (1, 3, 1088, 1920)\n",
      "\n",
      "0: 1088x1920 1 ball, 21 players, 17.9ms\n",
      "Speed: 7.3ms preprocess, 17.9ms inference, 1.2ms postprocess per image at shape (1, 3, 1088, 1920)\n"
     ]
    },
    {
     "name": "stdout",
     "output_type": "stream",
     "text": [
      "189\n",
      "190\n"
     ]
    },
    {
     "name": "stderr",
     "output_type": "stream",
     "text": [
      "\n",
      "0: 1088x1920 1 ball, 20 players, 17.9ms\n",
      "Speed: 7.4ms preprocess, 17.9ms inference, 1.2ms postprocess per image at shape (1, 3, 1088, 1920)\n",
      "\n",
      "0: 1088x1920 1 ball, 22 players, 17.9ms\n",
      "Speed: 7.5ms preprocess, 17.9ms inference, 1.2ms postprocess per image at shape (1, 3, 1088, 1920)\n"
     ]
    },
    {
     "name": "stdout",
     "output_type": "stream",
     "text": [
      "191\n",
      "192\n"
     ]
    },
    {
     "name": "stderr",
     "output_type": "stream",
     "text": [
      "\n",
      "0: 1088x1920 1 ball, 22 players, 17.9ms\n",
      "Speed: 7.2ms preprocess, 17.9ms inference, 1.3ms postprocess per image at shape (1, 3, 1088, 1920)\n",
      "\n",
      "0: 1088x1920 1 ball, 22 players, 17.9ms\n",
      "Speed: 7.3ms preprocess, 17.9ms inference, 1.2ms postprocess per image at shape (1, 3, 1088, 1920)\n"
     ]
    },
    {
     "name": "stdout",
     "output_type": "stream",
     "text": [
      "193\n",
      "194\n"
     ]
    },
    {
     "name": "stderr",
     "output_type": "stream",
     "text": [
      "\n",
      "0: 1088x1920 1 ball, 22 players, 17.9ms\n",
      "Speed: 7.3ms preprocess, 17.9ms inference, 1.1ms postprocess per image at shape (1, 3, 1088, 1920)\n",
      "\n",
      "0: 1088x1920 1 ball, 22 players, 17.9ms\n",
      "Speed: 7.3ms preprocess, 17.9ms inference, 1.2ms postprocess per image at shape (1, 3, 1088, 1920)\n"
     ]
    },
    {
     "name": "stdout",
     "output_type": "stream",
     "text": [
      "195\n",
      "196\n"
     ]
    },
    {
     "name": "stderr",
     "output_type": "stream",
     "text": [
      "\n",
      "0: 1088x1920 1 ball, 22 players, 17.9ms\n",
      "Speed: 7.4ms preprocess, 17.9ms inference, 1.2ms postprocess per image at shape (1, 3, 1088, 1920)\n",
      "\n",
      "0: 1088x1920 22 players, 17.9ms\n",
      "Speed: 7.2ms preprocess, 17.9ms inference, 1.2ms postprocess per image at shape (1, 3, 1088, 1920)\n"
     ]
    },
    {
     "name": "stdout",
     "output_type": "stream",
     "text": [
      "197\n",
      "198\n"
     ]
    },
    {
     "name": "stderr",
     "output_type": "stream",
     "text": [
      "\n",
      "0: 1088x1920 1 ball, 22 players, 17.9ms\n",
      "Speed: 7.1ms preprocess, 17.9ms inference, 1.2ms postprocess per image at shape (1, 3, 1088, 1920)\n",
      "\n",
      "0: 1088x1920 1 ball, 22 players, 17.9ms\n",
      "Speed: 7.2ms preprocess, 17.9ms inference, 1.1ms postprocess per image at shape (1, 3, 1088, 1920)\n"
     ]
    },
    {
     "name": "stdout",
     "output_type": "stream",
     "text": [
      "199\n",
      "200\n"
     ]
    },
    {
     "name": "stderr",
     "output_type": "stream",
     "text": [
      "\n",
      "0: 1088x1920 1 ball, 22 players, 17.9ms\n",
      "Speed: 7.6ms preprocess, 17.9ms inference, 1.2ms postprocess per image at shape (1, 3, 1088, 1920)\n",
      "\n",
      "0: 1088x1920 22 players, 17.9ms\n",
      "Speed: 7.5ms preprocess, 17.9ms inference, 1.2ms postprocess per image at shape (1, 3, 1088, 1920)\n"
     ]
    },
    {
     "name": "stdout",
     "output_type": "stream",
     "text": [
      "201\n",
      "202\n"
     ]
    },
    {
     "name": "stderr",
     "output_type": "stream",
     "text": [
      "\n",
      "0: 1088x1920 1 ball, 22 players, 17.9ms\n",
      "Speed: 7.7ms preprocess, 17.9ms inference, 1.2ms postprocess per image at shape (1, 3, 1088, 1920)\n",
      "\n",
      "0: 1088x1920 1 ball, 22 players, 17.9ms\n",
      "Speed: 7.3ms preprocess, 17.9ms inference, 1.2ms postprocess per image at shape (1, 3, 1088, 1920)\n"
     ]
    },
    {
     "name": "stdout",
     "output_type": "stream",
     "text": [
      "203\n",
      "204\n"
     ]
    },
    {
     "name": "stderr",
     "output_type": "stream",
     "text": [
      "\n",
      "0: 1088x1920 1 ball, 22 players, 17.9ms\n",
      "Speed: 7.4ms preprocess, 17.9ms inference, 1.1ms postprocess per image at shape (1, 3, 1088, 1920)\n",
      "\n",
      "0: 1088x1920 22 players, 17.9ms\n",
      "Speed: 7.6ms preprocess, 17.9ms inference, 1.2ms postprocess per image at shape (1, 3, 1088, 1920)\n"
     ]
    },
    {
     "name": "stdout",
     "output_type": "stream",
     "text": [
      "205\n",
      "206\n"
     ]
    },
    {
     "name": "stderr",
     "output_type": "stream",
     "text": [
      "\n",
      "0: 1088x1920 1 ball, 22 players, 17.9ms\n",
      "Speed: 7.5ms preprocess, 17.9ms inference, 1.2ms postprocess per image at shape (1, 3, 1088, 1920)\n",
      "\n",
      "0: 1088x1920 1 ball, 22 players, 17.9ms\n",
      "Speed: 7.7ms preprocess, 17.9ms inference, 1.2ms postprocess per image at shape (1, 3, 1088, 1920)\n"
     ]
    },
    {
     "name": "stdout",
     "output_type": "stream",
     "text": [
      "207\n",
      "208\n"
     ]
    },
    {
     "name": "stderr",
     "output_type": "stream",
     "text": [
      "\n",
      "0: 1088x1920 1 ball, 22 players, 17.9ms\n",
      "Speed: 7.1ms preprocess, 17.9ms inference, 1.2ms postprocess per image at shape (1, 3, 1088, 1920)\n",
      "\n",
      "0: 1088x1920 1 ball, 22 players, 17.9ms\n",
      "Speed: 7.3ms preprocess, 17.9ms inference, 1.1ms postprocess per image at shape (1, 3, 1088, 1920)\n"
     ]
    },
    {
     "name": "stdout",
     "output_type": "stream",
     "text": [
      "209\n",
      "210\n"
     ]
    },
    {
     "name": "stderr",
     "output_type": "stream",
     "text": [
      "\n",
      "0: 1088x1920 1 ball, 22 players, 17.9ms\n",
      "Speed: 7.3ms preprocess, 17.9ms inference, 1.2ms postprocess per image at shape (1, 3, 1088, 1920)\n",
      "\n",
      "0: 1088x1920 1 ball, 22 players, 17.9ms\n",
      "Speed: 7.7ms preprocess, 17.9ms inference, 1.2ms postprocess per image at shape (1, 3, 1088, 1920)\n"
     ]
    },
    {
     "name": "stdout",
     "output_type": "stream",
     "text": [
      "211\n",
      "212\n"
     ]
    },
    {
     "name": "stderr",
     "output_type": "stream",
     "text": [
      "\n",
      "0: 1088x1920 1 ball, 22 players, 17.9ms\n",
      "Speed: 7.6ms preprocess, 17.9ms inference, 1.2ms postprocess per image at shape (1, 3, 1088, 1920)\n",
      "\n",
      "0: 1088x1920 1 ball, 22 players, 17.9ms\n",
      "Speed: 7.4ms preprocess, 17.9ms inference, 1.2ms postprocess per image at shape (1, 3, 1088, 1920)\n"
     ]
    },
    {
     "name": "stdout",
     "output_type": "stream",
     "text": [
      "213\n",
      "214\n"
     ]
    },
    {
     "name": "stderr",
     "output_type": "stream",
     "text": [
      "\n",
      "0: 1088x1920 1 ball, 22 players, 17.9ms\n",
      "Speed: 8.1ms preprocess, 17.9ms inference, 1.2ms postprocess per image at shape (1, 3, 1088, 1920)\n",
      "\n",
      "0: 1088x1920 1 ball, 22 players, 17.9ms\n",
      "Speed: 7.1ms preprocess, 17.9ms inference, 1.2ms postprocess per image at shape (1, 3, 1088, 1920)\n"
     ]
    },
    {
     "name": "stdout",
     "output_type": "stream",
     "text": [
      "215\n",
      "216\n"
     ]
    },
    {
     "name": "stderr",
     "output_type": "stream",
     "text": [
      "\n",
      "0: 1088x1920 1 ball, 22 players, 17.9ms\n",
      "Speed: 7.5ms preprocess, 17.9ms inference, 1.2ms postprocess per image at shape (1, 3, 1088, 1920)\n",
      "\n",
      "0: 1088x1920 1 ball, 22 players, 17.9ms\n",
      "Speed: 7.5ms preprocess, 17.9ms inference, 1.2ms postprocess per image at shape (1, 3, 1088, 1920)\n"
     ]
    },
    {
     "name": "stdout",
     "output_type": "stream",
     "text": [
      "217\n",
      "218\n"
     ]
    },
    {
     "name": "stderr",
     "output_type": "stream",
     "text": [
      "\n",
      "0: 1088x1920 22 players, 17.9ms\n",
      "Speed: 7.2ms preprocess, 17.9ms inference, 1.2ms postprocess per image at shape (1, 3, 1088, 1920)\n",
      "\n",
      "0: 1088x1920 22 players, 17.9ms\n",
      "Speed: 7.6ms preprocess, 17.9ms inference, 1.2ms postprocess per image at shape (1, 3, 1088, 1920)\n"
     ]
    },
    {
     "name": "stdout",
     "output_type": "stream",
     "text": [
      "219\n",
      "220\n"
     ]
    },
    {
     "name": "stderr",
     "output_type": "stream",
     "text": [
      "\n",
      "0: 1088x1920 22 players, 17.9ms\n",
      "Speed: 7.8ms preprocess, 17.9ms inference, 1.2ms postprocess per image at shape (1, 3, 1088, 1920)\n",
      "\n",
      "0: 1088x1920 22 players, 17.9ms\n",
      "Speed: 7.6ms preprocess, 17.9ms inference, 1.2ms postprocess per image at shape (1, 3, 1088, 1920)\n"
     ]
    },
    {
     "name": "stdout",
     "output_type": "stream",
     "text": [
      "221\n",
      "222\n"
     ]
    },
    {
     "name": "stderr",
     "output_type": "stream",
     "text": [
      "\n",
      "0: 1088x1920 22 players, 17.9ms\n",
      "Speed: 7.5ms preprocess, 17.9ms inference, 1.2ms postprocess per image at shape (1, 3, 1088, 1920)\n",
      "\n",
      "0: 1088x1920 22 players, 17.9ms\n",
      "Speed: 7.3ms preprocess, 17.9ms inference, 1.2ms postprocess per image at shape (1, 3, 1088, 1920)\n"
     ]
    },
    {
     "name": "stdout",
     "output_type": "stream",
     "text": [
      "223\n",
      "224\n"
     ]
    },
    {
     "name": "stderr",
     "output_type": "stream",
     "text": [
      "\n",
      "0: 1088x1920 22 players, 17.9ms\n",
      "Speed: 8.1ms preprocess, 17.9ms inference, 1.2ms postprocess per image at shape (1, 3, 1088, 1920)\n",
      "\n",
      "0: 1088x1920 1 ball, 22 players, 17.9ms\n",
      "Speed: 7.4ms preprocess, 17.9ms inference, 1.2ms postprocess per image at shape (1, 3, 1088, 1920)\n"
     ]
    },
    {
     "name": "stdout",
     "output_type": "stream",
     "text": [
      "225\n",
      "226\n"
     ]
    },
    {
     "name": "stderr",
     "output_type": "stream",
     "text": [
      "\n",
      "0: 1088x1920 1 ball, 22 players, 17.9ms\n",
      "Speed: 7.1ms preprocess, 17.9ms inference, 1.2ms postprocess per image at shape (1, 3, 1088, 1920)\n",
      "\n",
      "0: 1088x1920 1 ball, 22 players, 17.9ms\n",
      "Speed: 7.1ms preprocess, 17.9ms inference, 1.1ms postprocess per image at shape (1, 3, 1088, 1920)\n"
     ]
    },
    {
     "name": "stdout",
     "output_type": "stream",
     "text": [
      "227\n",
      "228\n"
     ]
    },
    {
     "name": "stderr",
     "output_type": "stream",
     "text": [
      "\n",
      "0: 1088x1920 1 ball, 22 players, 17.9ms\n",
      "Speed: 7.1ms preprocess, 17.9ms inference, 1.1ms postprocess per image at shape (1, 3, 1088, 1920)\n",
      "\n",
      "0: 1088x1920 1 ball, 22 players, 17.9ms\n",
      "Speed: 7.1ms preprocess, 17.9ms inference, 1.1ms postprocess per image at shape (1, 3, 1088, 1920)\n"
     ]
    },
    {
     "name": "stdout",
     "output_type": "stream",
     "text": [
      "229\n",
      "230\n"
     ]
    },
    {
     "name": "stderr",
     "output_type": "stream",
     "text": [
      "\n",
      "0: 1088x1920 1 ball, 22 players, 17.9ms\n",
      "Speed: 7.2ms preprocess, 17.9ms inference, 1.2ms postprocess per image at shape (1, 3, 1088, 1920)\n",
      "\n",
      "0: 1088x1920 1 ball, 22 players, 17.9ms\n",
      "Speed: 7.5ms preprocess, 17.9ms inference, 1.2ms postprocess per image at shape (1, 3, 1088, 1920)\n"
     ]
    },
    {
     "name": "stdout",
     "output_type": "stream",
     "text": [
      "231\n",
      "232\n"
     ]
    },
    {
     "name": "stderr",
     "output_type": "stream",
     "text": [
      "\n",
      "0: 1088x1920 1 ball, 22 players, 17.9ms\n",
      "Speed: 7.9ms preprocess, 17.9ms inference, 1.2ms postprocess per image at shape (1, 3, 1088, 1920)\n",
      "\n",
      "0: 1088x1920 1 ball, 22 players, 17.9ms\n",
      "Speed: 7.2ms preprocess, 17.9ms inference, 1.2ms postprocess per image at shape (1, 3, 1088, 1920)\n"
     ]
    },
    {
     "name": "stdout",
     "output_type": "stream",
     "text": [
      "233\n",
      "234\n"
     ]
    },
    {
     "name": "stderr",
     "output_type": "stream",
     "text": [
      "\n",
      "0: 1088x1920 1 ball, 22 players, 17.9ms\n",
      "Speed: 7.4ms preprocess, 17.9ms inference, 1.2ms postprocess per image at shape (1, 3, 1088, 1920)\n",
      "\n",
      "0: 1088x1920 1 ball, 22 players, 17.9ms\n",
      "Speed: 7.8ms preprocess, 17.9ms inference, 1.2ms postprocess per image at shape (1, 3, 1088, 1920)\n"
     ]
    },
    {
     "name": "stdout",
     "output_type": "stream",
     "text": [
      "235\n",
      "236\n"
     ]
    },
    {
     "name": "stderr",
     "output_type": "stream",
     "text": [
      "\n",
      "0: 1088x1920 1 ball, 22 players, 17.9ms\n",
      "Speed: 7.3ms preprocess, 17.9ms inference, 1.2ms postprocess per image at shape (1, 3, 1088, 1920)\n",
      "\n",
      "0: 1088x1920 1 ball, 22 players, 17.9ms\n",
      "Speed: 7.4ms preprocess, 17.9ms inference, 1.2ms postprocess per image at shape (1, 3, 1088, 1920)\n"
     ]
    },
    {
     "name": "stdout",
     "output_type": "stream",
     "text": [
      "237\n",
      "238\n"
     ]
    },
    {
     "name": "stderr",
     "output_type": "stream",
     "text": [
      "\n",
      "0: 1088x1920 1 ball, 22 players, 17.9ms\n",
      "Speed: 7.5ms preprocess, 17.9ms inference, 1.2ms postprocess per image at shape (1, 3, 1088, 1920)\n",
      "\n",
      "0: 1088x1920 1 ball, 22 players, 17.9ms\n",
      "Speed: 7.4ms preprocess, 17.9ms inference, 1.2ms postprocess per image at shape (1, 3, 1088, 1920)\n"
     ]
    },
    {
     "name": "stdout",
     "output_type": "stream",
     "text": [
      "239\n",
      "240\n"
     ]
    },
    {
     "name": "stderr",
     "output_type": "stream",
     "text": [
      "\n",
      "0: 1088x1920 1 ball, 22 players, 17.9ms\n",
      "Speed: 8.1ms preprocess, 17.9ms inference, 1.2ms postprocess per image at shape (1, 3, 1088, 1920)\n",
      "\n",
      "0: 1088x1920 22 players, 17.9ms\n",
      "Speed: 7.3ms preprocess, 17.9ms inference, 1.2ms postprocess per image at shape (1, 3, 1088, 1920)\n"
     ]
    },
    {
     "name": "stdout",
     "output_type": "stream",
     "text": [
      "241\n",
      "242\n"
     ]
    },
    {
     "name": "stderr",
     "output_type": "stream",
     "text": [
      "\n",
      "0: 1088x1920 1 ball, 22 players, 17.9ms\n",
      "Speed: 7.4ms preprocess, 17.9ms inference, 1.2ms postprocess per image at shape (1, 3, 1088, 1920)\n",
      "\n",
      "0: 1088x1920 1 ball, 21 players, 17.9ms\n",
      "Speed: 7.2ms preprocess, 17.9ms inference, 1.2ms postprocess per image at shape (1, 3, 1088, 1920)\n"
     ]
    },
    {
     "name": "stdout",
     "output_type": "stream",
     "text": [
      "243\n",
      "244\n"
     ]
    },
    {
     "name": "stderr",
     "output_type": "stream",
     "text": [
      "\n",
      "0: 1088x1920 1 ball, 22 players, 17.9ms\n",
      "Speed: 7.2ms preprocess, 17.9ms inference, 1.2ms postprocess per image at shape (1, 3, 1088, 1920)\n",
      "\n",
      "0: 1088x1920 22 players, 17.9ms\n",
      "Speed: 7.1ms preprocess, 17.9ms inference, 1.2ms postprocess per image at shape (1, 3, 1088, 1920)\n"
     ]
    },
    {
     "name": "stdout",
     "output_type": "stream",
     "text": [
      "245\n",
      "246\n"
     ]
    },
    {
     "name": "stderr",
     "output_type": "stream",
     "text": [
      "\n",
      "0: 1088x1920 1 ball, 22 players, 17.9ms\n",
      "Speed: 7.7ms preprocess, 17.9ms inference, 1.2ms postprocess per image at shape (1, 3, 1088, 1920)\n",
      "\n",
      "0: 1088x1920 1 ball, 22 players, 17.9ms\n",
      "Speed: 7.2ms preprocess, 17.9ms inference, 1.2ms postprocess per image at shape (1, 3, 1088, 1920)\n"
     ]
    },
    {
     "name": "stdout",
     "output_type": "stream",
     "text": [
      "247\n",
      "248\n"
     ]
    },
    {
     "name": "stderr",
     "output_type": "stream",
     "text": [
      "\n",
      "0: 1088x1920 1 ball, 22 players, 17.9ms\n",
      "Speed: 7.2ms preprocess, 17.9ms inference, 1.2ms postprocess per image at shape (1, 3, 1088, 1920)\n",
      "\n",
      "0: 1088x1920 1 ball, 22 players, 17.9ms\n",
      "Speed: 7.5ms preprocess, 17.9ms inference, 1.2ms postprocess per image at shape (1, 3, 1088, 1920)\n"
     ]
    },
    {
     "name": "stdout",
     "output_type": "stream",
     "text": [
      "249\n",
      "250\n"
     ]
    },
    {
     "name": "stderr",
     "output_type": "stream",
     "text": [
      "\n",
      "0: 1088x1920 1 ball, 22 players, 17.9ms\n",
      "Speed: 7.3ms preprocess, 17.9ms inference, 1.2ms postprocess per image at shape (1, 3, 1088, 1920)\n",
      "\n",
      "0: 1088x1920 1 ball, 22 players, 17.9ms\n",
      "Speed: 7.7ms preprocess, 17.9ms inference, 1.2ms postprocess per image at shape (1, 3, 1088, 1920)\n"
     ]
    },
    {
     "name": "stdout",
     "output_type": "stream",
     "text": [
      "251\n",
      "252\n"
     ]
    },
    {
     "name": "stderr",
     "output_type": "stream",
     "text": [
      "\n",
      "0: 1088x1920 1 ball, 22 players, 17.9ms\n",
      "Speed: 7.7ms preprocess, 17.9ms inference, 1.2ms postprocess per image at shape (1, 3, 1088, 1920)\n",
      "\n",
      "0: 1088x1920 1 ball, 22 players, 17.9ms\n",
      "Speed: 7.1ms preprocess, 17.9ms inference, 1.3ms postprocess per image at shape (1, 3, 1088, 1920)\n"
     ]
    },
    {
     "name": "stdout",
     "output_type": "stream",
     "text": [
      "253\n",
      "254\n"
     ]
    },
    {
     "name": "stderr",
     "output_type": "stream",
     "text": [
      "\n",
      "0: 1088x1920 1 ball, 22 players, 17.9ms\n",
      "Speed: 7.4ms preprocess, 17.9ms inference, 1.2ms postprocess per image at shape (1, 3, 1088, 1920)\n",
      "\n",
      "0: 1088x1920 1 ball, 22 players, 17.9ms\n",
      "Speed: 7.3ms preprocess, 17.9ms inference, 1.2ms postprocess per image at shape (1, 3, 1088, 1920)\n"
     ]
    },
    {
     "name": "stdout",
     "output_type": "stream",
     "text": [
      "255\n",
      "256\n"
     ]
    },
    {
     "name": "stderr",
     "output_type": "stream",
     "text": [
      "\n",
      "0: 1088x1920 1 ball, 22 players, 17.9ms\n",
      "Speed: 7.9ms preprocess, 17.9ms inference, 1.3ms postprocess per image at shape (1, 3, 1088, 1920)\n",
      "\n",
      "0: 1088x1920 1 ball, 22 players, 17.9ms\n",
      "Speed: 7.2ms preprocess, 17.9ms inference, 1.2ms postprocess per image at shape (1, 3, 1088, 1920)\n"
     ]
    },
    {
     "name": "stdout",
     "output_type": "stream",
     "text": [
      "257\n",
      "258\n"
     ]
    },
    {
     "name": "stderr",
     "output_type": "stream",
     "text": [
      "\n",
      "0: 1088x1920 1 ball, 22 players, 17.9ms\n",
      "Speed: 7.1ms preprocess, 17.9ms inference, 1.2ms postprocess per image at shape (1, 3, 1088, 1920)\n",
      "\n",
      "0: 1088x1920 1 ball, 22 players, 17.9ms\n",
      "Speed: 7.3ms preprocess, 17.9ms inference, 1.2ms postprocess per image at shape (1, 3, 1088, 1920)\n"
     ]
    },
    {
     "name": "stdout",
     "output_type": "stream",
     "text": [
      "259\n",
      "260\n"
     ]
    },
    {
     "name": "stderr",
     "output_type": "stream",
     "text": [
      "\n",
      "0: 1088x1920 1 ball, 22 players, 17.9ms\n",
      "Speed: 7.5ms preprocess, 17.9ms inference, 1.2ms postprocess per image at shape (1, 3, 1088, 1920)\n",
      "\n",
      "0: 1088x1920 22 players, 17.9ms\n",
      "Speed: 7.1ms preprocess, 17.9ms inference, 1.2ms postprocess per image at shape (1, 3, 1088, 1920)\n"
     ]
    },
    {
     "name": "stdout",
     "output_type": "stream",
     "text": [
      "261\n",
      "262\n"
     ]
    },
    {
     "name": "stderr",
     "output_type": "stream",
     "text": [
      "\n",
      "0: 1088x1920 22 players, 17.9ms\n",
      "Speed: 7.3ms preprocess, 17.9ms inference, 1.2ms postprocess per image at shape (1, 3, 1088, 1920)\n",
      "\n",
      "0: 1088x1920 22 players, 17.9ms\n",
      "Speed: 7.5ms preprocess, 17.9ms inference, 1.2ms postprocess per image at shape (1, 3, 1088, 1920)\n"
     ]
    },
    {
     "name": "stdout",
     "output_type": "stream",
     "text": [
      "263\n",
      "264\n"
     ]
    },
    {
     "name": "stderr",
     "output_type": "stream",
     "text": [
      "\n",
      "0: 1088x1920 1 ball, 22 players, 34.7ms\n",
      "Speed: 7.5ms preprocess, 34.7ms inference, 1.4ms postprocess per image at shape (1, 3, 1088, 1920)\n"
     ]
    },
    {
     "name": "stdout",
     "output_type": "stream",
     "text": [
      "265\n"
     ]
    },
    {
     "name": "stderr",
     "output_type": "stream",
     "text": [
      "\n",
      "0: 1088x1920 1 ball, 22 players, 17.9ms\n",
      "Speed: 7.6ms preprocess, 17.9ms inference, 1.3ms postprocess per image at shape (1, 3, 1088, 1920)\n",
      "\n",
      "0: 1088x1920 1 ball, 22 players, 17.9ms\n",
      "Speed: 7.5ms preprocess, 17.9ms inference, 1.2ms postprocess per image at shape (1, 3, 1088, 1920)\n"
     ]
    },
    {
     "name": "stdout",
     "output_type": "stream",
     "text": [
      "266\n",
      "267\n"
     ]
    },
    {
     "name": "stderr",
     "output_type": "stream",
     "text": [
      "\n",
      "0: 1088x1920 1 ball, 22 players, 17.9ms\n",
      "Speed: 7.3ms preprocess, 17.9ms inference, 1.2ms postprocess per image at shape (1, 3, 1088, 1920)\n",
      "\n",
      "0: 1088x1920 22 players, 17.9ms\n",
      "Speed: 7.2ms preprocess, 17.9ms inference, 1.3ms postprocess per image at shape (1, 3, 1088, 1920)\n"
     ]
    },
    {
     "name": "stdout",
     "output_type": "stream",
     "text": [
      "268\n",
      "269\n"
     ]
    },
    {
     "name": "stderr",
     "output_type": "stream",
     "text": [
      "\n",
      "0: 1088x1920 1 ball, 22 players, 17.9ms\n",
      "Speed: 8.1ms preprocess, 17.9ms inference, 1.2ms postprocess per image at shape (1, 3, 1088, 1920)\n",
      "\n",
      "0: 1088x1920 22 players, 17.9ms\n",
      "Speed: 7.4ms preprocess, 17.9ms inference, 1.2ms postprocess per image at shape (1, 3, 1088, 1920)\n"
     ]
    },
    {
     "name": "stdout",
     "output_type": "stream",
     "text": [
      "270\n",
      "271\n"
     ]
    },
    {
     "name": "stderr",
     "output_type": "stream",
     "text": [
      "\n",
      "0: 1088x1920 1 ball, 22 players, 17.9ms\n",
      "Speed: 7.4ms preprocess, 17.9ms inference, 1.2ms postprocess per image at shape (1, 3, 1088, 1920)\n",
      "\n",
      "0: 1088x1920 22 players, 17.9ms\n",
      "Speed: 7.5ms preprocess, 17.9ms inference, 1.2ms postprocess per image at shape (1, 3, 1088, 1920)\n"
     ]
    },
    {
     "name": "stdout",
     "output_type": "stream",
     "text": [
      "272\n",
      "273\n"
     ]
    },
    {
     "name": "stderr",
     "output_type": "stream",
     "text": [
      "\n",
      "0: 1088x1920 1 ball, 22 players, 17.9ms\n",
      "Speed: 7.7ms preprocess, 17.9ms inference, 1.2ms postprocess per image at shape (1, 3, 1088, 1920)\n",
      "\n",
      "0: 1088x1920 1 ball, 22 players, 17.9ms\n",
      "Speed: 7.4ms preprocess, 17.9ms inference, 1.2ms postprocess per image at shape (1, 3, 1088, 1920)\n"
     ]
    },
    {
     "name": "stdout",
     "output_type": "stream",
     "text": [
      "274\n",
      "275\n"
     ]
    },
    {
     "name": "stderr",
     "output_type": "stream",
     "text": [
      "\n",
      "0: 1088x1920 1 ball, 22 players, 17.9ms\n",
      "Speed: 7.4ms preprocess, 17.9ms inference, 1.2ms postprocess per image at shape (1, 3, 1088, 1920)\n",
      "\n",
      "0: 1088x1920 1 ball, 22 players, 17.9ms\n",
      "Speed: 7.0ms preprocess, 17.9ms inference, 1.3ms postprocess per image at shape (1, 3, 1088, 1920)\n"
     ]
    },
    {
     "name": "stdout",
     "output_type": "stream",
     "text": [
      "276\n",
      "277\n"
     ]
    },
    {
     "name": "stderr",
     "output_type": "stream",
     "text": [
      "\n",
      "0: 1088x1920 1 ball, 22 players, 17.9ms\n",
      "Speed: 7.7ms preprocess, 17.9ms inference, 1.1ms postprocess per image at shape (1, 3, 1088, 1920)\n",
      "\n",
      "0: 1088x1920 1 ball, 22 players, 17.9ms\n",
      "Speed: 7.4ms preprocess, 17.9ms inference, 1.2ms postprocess per image at shape (1, 3, 1088, 1920)\n"
     ]
    },
    {
     "name": "stdout",
     "output_type": "stream",
     "text": [
      "278\n",
      "279\n"
     ]
    },
    {
     "name": "stderr",
     "output_type": "stream",
     "text": [
      "\n",
      "0: 1088x1920 1 ball, 22 players, 17.9ms\n",
      "Speed: 7.1ms preprocess, 17.9ms inference, 1.1ms postprocess per image at shape (1, 3, 1088, 1920)\n",
      "\n",
      "0: 1088x1920 1 ball, 22 players, 17.9ms\n",
      "Speed: 7.2ms preprocess, 17.9ms inference, 1.1ms postprocess per image at shape (1, 3, 1088, 1920)\n"
     ]
    },
    {
     "name": "stdout",
     "output_type": "stream",
     "text": [
      "280\n",
      "281\n"
     ]
    },
    {
     "name": "stderr",
     "output_type": "stream",
     "text": [
      "\n",
      "0: 1088x1920 1 ball, 22 players, 17.9ms\n",
      "Speed: 7.4ms preprocess, 17.9ms inference, 1.2ms postprocess per image at shape (1, 3, 1088, 1920)\n",
      "\n",
      "0: 1088x1920 1 ball, 22 players, 17.9ms\n",
      "Speed: 7.4ms preprocess, 17.9ms inference, 1.2ms postprocess per image at shape (1, 3, 1088, 1920)\n"
     ]
    },
    {
     "name": "stdout",
     "output_type": "stream",
     "text": [
      "282\n",
      "283\n"
     ]
    },
    {
     "name": "stderr",
     "output_type": "stream",
     "text": [
      "\n",
      "0: 1088x1920 1 ball, 22 players, 17.9ms\n",
      "Speed: 7.7ms preprocess, 17.9ms inference, 1.3ms postprocess per image at shape (1, 3, 1088, 1920)\n",
      "\n",
      "0: 1088x1920 1 ball, 22 players, 17.9ms\n",
      "Speed: 7.5ms preprocess, 17.9ms inference, 1.2ms postprocess per image at shape (1, 3, 1088, 1920)\n"
     ]
    },
    {
     "name": "stdout",
     "output_type": "stream",
     "text": [
      "284\n",
      "285\n"
     ]
    },
    {
     "name": "stderr",
     "output_type": "stream",
     "text": [
      "\n",
      "0: 1088x1920 1 ball, 22 players, 17.9ms\n",
      "Speed: 7.9ms preprocess, 17.9ms inference, 1.2ms postprocess per image at shape (1, 3, 1088, 1920)\n",
      "\n",
      "0: 1088x1920 1 ball, 22 players, 17.9ms\n",
      "Speed: 7.3ms preprocess, 17.9ms inference, 1.2ms postprocess per image at shape (1, 3, 1088, 1920)\n"
     ]
    },
    {
     "name": "stdout",
     "output_type": "stream",
     "text": [
      "286\n",
      "287\n"
     ]
    },
    {
     "name": "stderr",
     "output_type": "stream",
     "text": [
      "\n",
      "0: 1088x1920 1 ball, 22 players, 17.9ms\n",
      "Speed: 7.1ms preprocess, 17.9ms inference, 1.2ms postprocess per image at shape (1, 3, 1088, 1920)\n",
      "\n",
      "0: 1088x1920 1 ball, 22 players, 17.9ms\n",
      "Speed: 7.5ms preprocess, 17.9ms inference, 1.2ms postprocess per image at shape (1, 3, 1088, 1920)\n"
     ]
    },
    {
     "name": "stdout",
     "output_type": "stream",
     "text": [
      "288\n",
      "289\n"
     ]
    },
    {
     "name": "stderr",
     "output_type": "stream",
     "text": [
      "\n",
      "0: 1088x1920 1 ball, 22 players, 17.9ms\n",
      "Speed: 7.1ms preprocess, 17.9ms inference, 1.2ms postprocess per image at shape (1, 3, 1088, 1920)\n",
      "\n",
      "0: 1088x1920 1 ball, 22 players, 17.9ms\n",
      "Speed: 7.8ms preprocess, 17.9ms inference, 1.2ms postprocess per image at shape (1, 3, 1088, 1920)\n"
     ]
    },
    {
     "name": "stdout",
     "output_type": "stream",
     "text": [
      "290\n",
      "291\n"
     ]
    },
    {
     "name": "stderr",
     "output_type": "stream",
     "text": [
      "\n",
      "0: 1088x1920 1 ball, 22 players, 17.9ms\n",
      "Speed: 7.2ms preprocess, 17.9ms inference, 1.2ms postprocess per image at shape (1, 3, 1088, 1920)\n",
      "\n",
      "0: 1088x1920 1 ball, 22 players, 17.9ms\n",
      "Speed: 7.5ms preprocess, 17.9ms inference, 1.2ms postprocess per image at shape (1, 3, 1088, 1920)\n"
     ]
    },
    {
     "name": "stdout",
     "output_type": "stream",
     "text": [
      "292\n",
      "293\n"
     ]
    },
    {
     "name": "stderr",
     "output_type": "stream",
     "text": [
      "\n",
      "0: 1088x1920 1 ball, 22 players, 17.9ms\n",
      "Speed: 7.1ms preprocess, 17.9ms inference, 1.2ms postprocess per image at shape (1, 3, 1088, 1920)\n",
      "\n",
      "0: 1088x1920 1 ball, 22 players, 17.9ms\n",
      "Speed: 7.4ms preprocess, 17.9ms inference, 1.2ms postprocess per image at shape (1, 3, 1088, 1920)\n"
     ]
    },
    {
     "name": "stdout",
     "output_type": "stream",
     "text": [
      "294\n",
      "295\n"
     ]
    },
    {
     "name": "stderr",
     "output_type": "stream",
     "text": [
      "\n",
      "0: 1088x1920 1 ball, 22 players, 17.9ms\n",
      "Speed: 7.3ms preprocess, 17.9ms inference, 1.2ms postprocess per image at shape (1, 3, 1088, 1920)\n",
      "\n",
      "0: 1088x1920 1 ball, 22 players, 17.9ms\n",
      "Speed: 7.8ms preprocess, 17.9ms inference, 1.2ms postprocess per image at shape (1, 3, 1088, 1920)\n"
     ]
    },
    {
     "name": "stdout",
     "output_type": "stream",
     "text": [
      "296\n",
      "297\n"
     ]
    },
    {
     "name": "stderr",
     "output_type": "stream",
     "text": [
      "\n",
      "0: 1088x1920 1 ball, 22 players, 17.9ms\n",
      "Speed: 7.7ms preprocess, 17.9ms inference, 1.2ms postprocess per image at shape (1, 3, 1088, 1920)\n",
      "\n",
      "0: 1088x1920 1 ball, 22 players, 17.9ms\n",
      "Speed: 7.4ms preprocess, 17.9ms inference, 1.2ms postprocess per image at shape (1, 3, 1088, 1920)\n"
     ]
    },
    {
     "name": "stdout",
     "output_type": "stream",
     "text": [
      "298\n",
      "299\n"
     ]
    },
    {
     "name": "stderr",
     "output_type": "stream",
     "text": [
      "\n",
      "0: 1088x1920 1 ball, 22 players, 17.9ms\n",
      "Speed: 7.6ms preprocess, 17.9ms inference, 1.3ms postprocess per image at shape (1, 3, 1088, 1920)\n",
      "\n",
      "0: 1088x1920 1 ball, 22 players, 17.9ms\n",
      "Speed: 7.8ms preprocess, 17.9ms inference, 1.2ms postprocess per image at shape (1, 3, 1088, 1920)\n"
     ]
    },
    {
     "name": "stdout",
     "output_type": "stream",
     "text": [
      "300\n",
      "301\n"
     ]
    },
    {
     "name": "stderr",
     "output_type": "stream",
     "text": [
      "\n",
      "0: 1088x1920 1 ball, 22 players, 18.0ms\n",
      "Speed: 7.6ms preprocess, 18.0ms inference, 1.2ms postprocess per image at shape (1, 3, 1088, 1920)\n",
      "\n",
      "0: 1088x1920 1 ball, 21 players, 17.9ms\n",
      "Speed: 7.3ms preprocess, 17.9ms inference, 1.2ms postprocess per image at shape (1, 3, 1088, 1920)\n"
     ]
    },
    {
     "name": "stdout",
     "output_type": "stream",
     "text": [
      "302\n",
      "303\n"
     ]
    },
    {
     "name": "stderr",
     "output_type": "stream",
     "text": [
      "\n",
      "0: 1088x1920 21 players, 17.9ms\n",
      "Speed: 7.3ms preprocess, 17.9ms inference, 1.2ms postprocess per image at shape (1, 3, 1088, 1920)\n",
      "\n",
      "0: 1088x1920 21 players, 17.9ms\n",
      "Speed: 7.1ms preprocess, 17.9ms inference, 1.2ms postprocess per image at shape (1, 3, 1088, 1920)\n"
     ]
    },
    {
     "name": "stdout",
     "output_type": "stream",
     "text": [
      "304\n",
      "305\n"
     ]
    },
    {
     "name": "stderr",
     "output_type": "stream",
     "text": [
      "\n",
      "0: 1088x1920 21 players, 17.9ms\n",
      "Speed: 7.6ms preprocess, 17.9ms inference, 1.2ms postprocess per image at shape (1, 3, 1088, 1920)\n",
      "\n",
      "0: 1088x1920 22 players, 17.9ms\n",
      "Speed: 7.2ms preprocess, 17.9ms inference, 1.2ms postprocess per image at shape (1, 3, 1088, 1920)\n"
     ]
    },
    {
     "name": "stdout",
     "output_type": "stream",
     "text": [
      "306\n",
      "307\n"
     ]
    },
    {
     "name": "stderr",
     "output_type": "stream",
     "text": [
      "\n",
      "0: 1088x1920 22 players, 17.9ms\n",
      "Speed: 7.2ms preprocess, 17.9ms inference, 1.2ms postprocess per image at shape (1, 3, 1088, 1920)\n",
      "\n",
      "0: 1088x1920 22 players, 17.9ms\n",
      "Speed: 7.1ms preprocess, 17.9ms inference, 1.2ms postprocess per image at shape (1, 3, 1088, 1920)\n"
     ]
    },
    {
     "name": "stdout",
     "output_type": "stream",
     "text": [
      "308\n",
      "309\n"
     ]
    },
    {
     "name": "stderr",
     "output_type": "stream",
     "text": [
      "\n",
      "0: 1088x1920 22 players, 17.9ms\n",
      "Speed: 7.5ms preprocess, 17.9ms inference, 1.2ms postprocess per image at shape (1, 3, 1088, 1920)\n",
      "\n",
      "0: 1088x1920 22 players, 17.9ms\n",
      "Speed: 7.3ms preprocess, 17.9ms inference, 1.1ms postprocess per image at shape (1, 3, 1088, 1920)\n"
     ]
    },
    {
     "name": "stdout",
     "output_type": "stream",
     "text": [
      "310\n",
      "311\n"
     ]
    },
    {
     "name": "stderr",
     "output_type": "stream",
     "text": [
      "\n",
      "0: 1088x1920 1 ball, 22 players, 17.9ms\n",
      "Speed: 7.5ms preprocess, 17.9ms inference, 1.2ms postprocess per image at shape (1, 3, 1088, 1920)\n",
      "\n",
      "0: 1088x1920 1 ball, 22 players, 17.9ms\n",
      "Speed: 7.5ms preprocess, 17.9ms inference, 1.1ms postprocess per image at shape (1, 3, 1088, 1920)\n"
     ]
    },
    {
     "name": "stdout",
     "output_type": "stream",
     "text": [
      "312\n",
      "313\n"
     ]
    },
    {
     "name": "stderr",
     "output_type": "stream",
     "text": [
      "\n",
      "0: 1088x1920 1 ball, 22 players, 17.9ms\n",
      "Speed: 7.5ms preprocess, 17.9ms inference, 1.2ms postprocess per image at shape (1, 3, 1088, 1920)\n",
      "\n",
      "0: 1088x1920 22 players, 17.9ms\n",
      "Speed: 7.9ms preprocess, 17.9ms inference, 1.2ms postprocess per image at shape (1, 3, 1088, 1920)\n"
     ]
    },
    {
     "name": "stdout",
     "output_type": "stream",
     "text": [
      "314\n",
      "315\n"
     ]
    },
    {
     "name": "stderr",
     "output_type": "stream",
     "text": [
      "\n",
      "0: 1088x1920 22 players, 17.9ms\n",
      "Speed: 7.0ms preprocess, 17.9ms inference, 1.2ms postprocess per image at shape (1, 3, 1088, 1920)\n",
      "\n",
      "0: 1088x1920 22 players, 17.9ms\n",
      "Speed: 7.7ms preprocess, 17.9ms inference, 1.2ms postprocess per image at shape (1, 3, 1088, 1920)\n"
     ]
    },
    {
     "name": "stdout",
     "output_type": "stream",
     "text": [
      "316\n",
      "317\n"
     ]
    },
    {
     "name": "stderr",
     "output_type": "stream",
     "text": [
      "\n",
      "0: 1088x1920 22 players, 17.9ms\n",
      "Speed: 7.2ms preprocess, 17.9ms inference, 1.2ms postprocess per image at shape (1, 3, 1088, 1920)\n",
      "\n",
      "0: 1088x1920 22 players, 17.9ms\n",
      "Speed: 7.3ms preprocess, 17.9ms inference, 1.2ms postprocess per image at shape (1, 3, 1088, 1920)\n"
     ]
    },
    {
     "name": "stdout",
     "output_type": "stream",
     "text": [
      "318\n",
      "319\n"
     ]
    },
    {
     "name": "stderr",
     "output_type": "stream",
     "text": [
      "\n",
      "0: 1088x1920 22 players, 17.9ms\n",
      "Speed: 7.3ms preprocess, 17.9ms inference, 1.2ms postprocess per image at shape (1, 3, 1088, 1920)\n",
      "\n",
      "0: 1088x1920 22 players, 17.9ms\n",
      "Speed: 7.3ms preprocess, 17.9ms inference, 1.2ms postprocess per image at shape (1, 3, 1088, 1920)\n"
     ]
    },
    {
     "name": "stdout",
     "output_type": "stream",
     "text": [
      "320\n",
      "321\n"
     ]
    },
    {
     "name": "stderr",
     "output_type": "stream",
     "text": [
      "\n",
      "0: 1088x1920 22 players, 17.9ms\n",
      "Speed: 7.7ms preprocess, 17.9ms inference, 1.2ms postprocess per image at shape (1, 3, 1088, 1920)\n",
      "\n",
      "0: 1088x1920 22 players, 17.9ms\n",
      "Speed: 7.1ms preprocess, 17.9ms inference, 1.2ms postprocess per image at shape (1, 3, 1088, 1920)\n"
     ]
    },
    {
     "name": "stdout",
     "output_type": "stream",
     "text": [
      "322\n",
      "323\n"
     ]
    },
    {
     "name": "stderr",
     "output_type": "stream",
     "text": [
      "\n",
      "0: 1088x1920 1 ball, 22 players, 17.9ms\n",
      "Speed: 7.2ms preprocess, 17.9ms inference, 1.3ms postprocess per image at shape (1, 3, 1088, 1920)\n",
      "\n",
      "0: 1088x1920 1 ball, 22 players, 17.9ms\n",
      "Speed: 7.4ms preprocess, 17.9ms inference, 1.2ms postprocess per image at shape (1, 3, 1088, 1920)\n"
     ]
    },
    {
     "name": "stdout",
     "output_type": "stream",
     "text": [
      "324\n",
      "325\n"
     ]
    },
    {
     "name": "stderr",
     "output_type": "stream",
     "text": [
      "\n",
      "0: 1088x1920 1 ball, 22 players, 17.9ms\n",
      "Speed: 7.3ms preprocess, 17.9ms inference, 1.2ms postprocess per image at shape (1, 3, 1088, 1920)\n",
      "\n",
      "0: 1088x1920 1 ball, 22 players, 17.9ms\n",
      "Speed: 7.1ms preprocess, 17.9ms inference, 1.2ms postprocess per image at shape (1, 3, 1088, 1920)\n"
     ]
    },
    {
     "name": "stdout",
     "output_type": "stream",
     "text": [
      "326\n",
      "327\n"
     ]
    },
    {
     "name": "stderr",
     "output_type": "stream",
     "text": [
      "\n",
      "0: 1088x1920 1 ball, 22 players, 17.9ms\n",
      "Speed: 7.3ms preprocess, 17.9ms inference, 1.2ms postprocess per image at shape (1, 3, 1088, 1920)\n",
      "\n",
      "0: 1088x1920 1 ball, 22 players, 17.9ms\n",
      "Speed: 7.1ms preprocess, 17.9ms inference, 1.2ms postprocess per image at shape (1, 3, 1088, 1920)\n"
     ]
    },
    {
     "name": "stdout",
     "output_type": "stream",
     "text": [
      "328\n",
      "329\n"
     ]
    },
    {
     "name": "stderr",
     "output_type": "stream",
     "text": [
      "\n",
      "0: 1088x1920 22 players, 17.9ms\n",
      "Speed: 7.1ms preprocess, 17.9ms inference, 1.2ms postprocess per image at shape (1, 3, 1088, 1920)\n",
      "\n",
      "0: 1088x1920 1 ball, 22 players, 17.9ms\n",
      "Speed: 7.4ms preprocess, 17.9ms inference, 1.3ms postprocess per image at shape (1, 3, 1088, 1920)\n"
     ]
    },
    {
     "name": "stdout",
     "output_type": "stream",
     "text": [
      "330\n",
      "331\n"
     ]
    },
    {
     "name": "stderr",
     "output_type": "stream",
     "text": [
      "\n",
      "0: 1088x1920 22 players, 17.9ms\n",
      "Speed: 8.0ms preprocess, 17.9ms inference, 1.2ms postprocess per image at shape (1, 3, 1088, 1920)\n",
      "\n",
      "0: 1088x1920 22 players, 17.9ms\n",
      "Speed: 7.2ms preprocess, 17.9ms inference, 1.1ms postprocess per image at shape (1, 3, 1088, 1920)\n"
     ]
    },
    {
     "name": "stdout",
     "output_type": "stream",
     "text": [
      "332\n",
      "333\n"
     ]
    },
    {
     "name": "stderr",
     "output_type": "stream",
     "text": [
      "\n",
      "0: 1088x1920 22 players, 17.9ms\n",
      "Speed: 7.5ms preprocess, 17.9ms inference, 1.2ms postprocess per image at shape (1, 3, 1088, 1920)\n",
      "\n",
      "0: 1088x1920 22 players, 17.9ms\n",
      "Speed: 7.6ms preprocess, 17.9ms inference, 1.2ms postprocess per image at shape (1, 3, 1088, 1920)\n"
     ]
    },
    {
     "name": "stdout",
     "output_type": "stream",
     "text": [
      "334\n",
      "335\n"
     ]
    },
    {
     "name": "stderr",
     "output_type": "stream",
     "text": [
      "\n",
      "0: 1088x1920 22 players, 17.9ms\n",
      "Speed: 7.2ms preprocess, 17.9ms inference, 1.3ms postprocess per image at shape (1, 3, 1088, 1920)\n",
      "\n",
      "0: 1088x1920 1 ball, 22 players, 17.9ms\n",
      "Speed: 7.6ms preprocess, 17.9ms inference, 1.2ms postprocess per image at shape (1, 3, 1088, 1920)\n"
     ]
    },
    {
     "name": "stdout",
     "output_type": "stream",
     "text": [
      "336\n",
      "337\n"
     ]
    },
    {
     "name": "stderr",
     "output_type": "stream",
     "text": [
      "\n",
      "0: 1088x1920 1 ball, 22 players, 17.9ms\n",
      "Speed: 7.1ms preprocess, 17.9ms inference, 1.2ms postprocess per image at shape (1, 3, 1088, 1920)\n",
      "\n",
      "0: 1088x1920 22 players, 17.9ms\n",
      "Speed: 7.3ms preprocess, 17.9ms inference, 1.2ms postprocess per image at shape (1, 3, 1088, 1920)\n"
     ]
    },
    {
     "name": "stdout",
     "output_type": "stream",
     "text": [
      "338\n",
      "339\n"
     ]
    },
    {
     "name": "stderr",
     "output_type": "stream",
     "text": [
      "\n",
      "0: 1088x1920 22 players, 17.9ms\n",
      "Speed: 7.2ms preprocess, 17.9ms inference, 1.2ms postprocess per image at shape (1, 3, 1088, 1920)\n",
      "\n",
      "0: 1088x1920 1 ball, 22 players, 17.9ms\n",
      "Speed: 7.3ms preprocess, 17.9ms inference, 1.2ms postprocess per image at shape (1, 3, 1088, 1920)\n"
     ]
    },
    {
     "name": "stdout",
     "output_type": "stream",
     "text": [
      "340\n",
      "341\n"
     ]
    },
    {
     "name": "stderr",
     "output_type": "stream",
     "text": [
      "\n",
      "0: 1088x1920 1 ball, 22 players, 17.9ms\n",
      "Speed: 7.3ms preprocess, 17.9ms inference, 1.1ms postprocess per image at shape (1, 3, 1088, 1920)\n",
      "\n",
      "0: 1088x1920 22 players, 17.9ms\n",
      "Speed: 7.0ms preprocess, 17.9ms inference, 1.2ms postprocess per image at shape (1, 3, 1088, 1920)\n"
     ]
    },
    {
     "name": "stdout",
     "output_type": "stream",
     "text": [
      "342\n",
      "343\n"
     ]
    },
    {
     "name": "stderr",
     "output_type": "stream",
     "text": [
      "\n",
      "0: 1088x1920 1 ball, 22 players, 17.9ms\n",
      "Speed: 7.8ms preprocess, 17.9ms inference, 1.2ms postprocess per image at shape (1, 3, 1088, 1920)\n",
      "\n",
      "0: 1088x1920 22 players, 17.9ms\n",
      "Speed: 7.4ms preprocess, 17.9ms inference, 1.2ms postprocess per image at shape (1, 3, 1088, 1920)\n"
     ]
    },
    {
     "name": "stdout",
     "output_type": "stream",
     "text": [
      "344\n",
      "345\n"
     ]
    },
    {
     "name": "stderr",
     "output_type": "stream",
     "text": [
      "\n",
      "0: 1088x1920 22 players, 17.9ms\n",
      "Speed: 7.4ms preprocess, 17.9ms inference, 1.2ms postprocess per image at shape (1, 3, 1088, 1920)\n",
      "\n",
      "0: 1088x1920 22 players, 17.9ms\n",
      "Speed: 7.6ms preprocess, 17.9ms inference, 1.2ms postprocess per image at shape (1, 3, 1088, 1920)\n"
     ]
    },
    {
     "name": "stdout",
     "output_type": "stream",
     "text": [
      "346\n",
      "347\n"
     ]
    },
    {
     "name": "stderr",
     "output_type": "stream",
     "text": [
      "\n",
      "0: 1088x1920 22 players, 17.9ms\n",
      "Speed: 7.5ms preprocess, 17.9ms inference, 1.2ms postprocess per image at shape (1, 3, 1088, 1920)\n",
      "\n",
      "0: 1088x1920 22 players, 17.9ms\n",
      "Speed: 7.4ms preprocess, 17.9ms inference, 1.2ms postprocess per image at shape (1, 3, 1088, 1920)\n"
     ]
    },
    {
     "name": "stdout",
     "output_type": "stream",
     "text": [
      "348\n",
      "349\n"
     ]
    },
    {
     "name": "stderr",
     "output_type": "stream",
     "text": [
      "\n",
      "0: 1088x1920 22 players, 17.9ms\n",
      "Speed: 7.4ms preprocess, 17.9ms inference, 1.2ms postprocess per image at shape (1, 3, 1088, 1920)\n",
      "\n",
      "0: 1088x1920 22 players, 17.9ms\n",
      "Speed: 7.3ms preprocess, 17.9ms inference, 1.2ms postprocess per image at shape (1, 3, 1088, 1920)\n"
     ]
    },
    {
     "name": "stdout",
     "output_type": "stream",
     "text": [
      "350\n",
      "351\n"
     ]
    },
    {
     "name": "stderr",
     "output_type": "stream",
     "text": [
      "\n",
      "0: 1088x1920 1 ball, 22 players, 17.9ms\n",
      "Speed: 7.3ms preprocess, 17.9ms inference, 1.2ms postprocess per image at shape (1, 3, 1088, 1920)\n",
      "\n",
      "0: 1088x1920 1 ball, 22 players, 17.9ms\n",
      "Speed: 7.1ms preprocess, 17.9ms inference, 1.2ms postprocess per image at shape (1, 3, 1088, 1920)\n"
     ]
    },
    {
     "name": "stdout",
     "output_type": "stream",
     "text": [
      "352\n",
      "353\n"
     ]
    },
    {
     "name": "stderr",
     "output_type": "stream",
     "text": [
      "\n",
      "0: 1088x1920 22 players, 17.9ms\n",
      "Speed: 7.6ms preprocess, 17.9ms inference, 1.2ms postprocess per image at shape (1, 3, 1088, 1920)\n",
      "\n",
      "0: 1088x1920 1 ball, 22 players, 17.9ms\n",
      "Speed: 7.8ms preprocess, 17.9ms inference, 1.2ms postprocess per image at shape (1, 3, 1088, 1920)\n"
     ]
    },
    {
     "name": "stdout",
     "output_type": "stream",
     "text": [
      "354\n",
      "355\n"
     ]
    },
    {
     "name": "stderr",
     "output_type": "stream",
     "text": [
      "\n",
      "0: 1088x1920 1 ball, 22 players, 17.9ms\n",
      "Speed: 7.3ms preprocess, 17.9ms inference, 1.2ms postprocess per image at shape (1, 3, 1088, 1920)\n",
      "\n",
      "0: 1088x1920 1 ball, 22 players, 17.9ms\n",
      "Speed: 7.5ms preprocess, 17.9ms inference, 1.2ms postprocess per image at shape (1, 3, 1088, 1920)\n"
     ]
    },
    {
     "name": "stdout",
     "output_type": "stream",
     "text": [
      "356\n",
      "357\n"
     ]
    },
    {
     "name": "stderr",
     "output_type": "stream",
     "text": [
      "\n",
      "0: 1088x1920 1 ball, 22 players, 17.9ms\n",
      "Speed: 7.0ms preprocess, 17.9ms inference, 1.2ms postprocess per image at shape (1, 3, 1088, 1920)\n",
      "\n",
      "0: 1088x1920 22 players, 17.9ms\n",
      "Speed: 7.2ms preprocess, 17.9ms inference, 1.1ms postprocess per image at shape (1, 3, 1088, 1920)\n"
     ]
    },
    {
     "name": "stdout",
     "output_type": "stream",
     "text": [
      "358\n",
      "359\n"
     ]
    },
    {
     "name": "stderr",
     "output_type": "stream",
     "text": [
      "\n",
      "0: 1088x1920 22 players, 17.9ms\n",
      "Speed: 7.0ms preprocess, 17.9ms inference, 1.2ms postprocess per image at shape (1, 3, 1088, 1920)\n",
      "\n",
      "0: 1088x1920 1 ball, 22 players, 17.9ms\n",
      "Speed: 7.4ms preprocess, 17.9ms inference, 1.2ms postprocess per image at shape (1, 3, 1088, 1920)\n"
     ]
    },
    {
     "name": "stdout",
     "output_type": "stream",
     "text": [
      "360\n",
      "361\n"
     ]
    },
    {
     "name": "stderr",
     "output_type": "stream",
     "text": [
      "\n",
      "0: 1088x1920 1 ball, 22 players, 17.9ms\n",
      "Speed: 7.3ms preprocess, 17.9ms inference, 1.2ms postprocess per image at shape (1, 3, 1088, 1920)\n",
      "\n",
      "0: 1088x1920 1 ball, 22 players, 17.9ms\n",
      "Speed: 7.6ms preprocess, 17.9ms inference, 1.1ms postprocess per image at shape (1, 3, 1088, 1920)\n"
     ]
    },
    {
     "name": "stdout",
     "output_type": "stream",
     "text": [
      "362\n",
      "363\n"
     ]
    },
    {
     "name": "stderr",
     "output_type": "stream",
     "text": [
      "\n",
      "0: 1088x1920 1 ball, 22 players, 17.9ms\n",
      "Speed: 7.6ms preprocess, 17.9ms inference, 1.3ms postprocess per image at shape (1, 3, 1088, 1920)\n",
      "\n",
      "0: 1088x1920 1 ball, 22 players, 17.9ms\n",
      "Speed: 7.7ms preprocess, 17.9ms inference, 1.2ms postprocess per image at shape (1, 3, 1088, 1920)\n"
     ]
    },
    {
     "name": "stdout",
     "output_type": "stream",
     "text": [
      "364\n",
      "365\n"
     ]
    },
    {
     "name": "stderr",
     "output_type": "stream",
     "text": [
      "\n",
      "0: 1088x1920 1 ball, 22 players, 17.9ms\n",
      "Speed: 7.3ms preprocess, 17.9ms inference, 1.2ms postprocess per image at shape (1, 3, 1088, 1920)\n",
      "\n",
      "0: 1088x1920 1 ball, 21 players, 17.9ms\n",
      "Speed: 7.2ms preprocess, 17.9ms inference, 1.3ms postprocess per image at shape (1, 3, 1088, 1920)\n"
     ]
    },
    {
     "name": "stdout",
     "output_type": "stream",
     "text": [
      "366\n",
      "367\n"
     ]
    },
    {
     "name": "stderr",
     "output_type": "stream",
     "text": [
      "\n",
      "0: 1088x1920 1 ball, 21 players, 17.9ms\n",
      "Speed: 8.1ms preprocess, 17.9ms inference, 1.2ms postprocess per image at shape (1, 3, 1088, 1920)\n",
      "\n",
      "0: 1088x1920 21 players, 17.9ms\n",
      "Speed: 7.5ms preprocess, 17.9ms inference, 1.2ms postprocess per image at shape (1, 3, 1088, 1920)\n"
     ]
    },
    {
     "name": "stdout",
     "output_type": "stream",
     "text": [
      "368\n",
      "369\n"
     ]
    },
    {
     "name": "stderr",
     "output_type": "stream",
     "text": [
      "\n",
      "0: 1088x1920 1 ball, 22 players, 17.9ms\n",
      "Speed: 7.3ms preprocess, 17.9ms inference, 1.2ms postprocess per image at shape (1, 3, 1088, 1920)\n",
      "\n",
      "0: 1088x1920 1 ball, 22 players, 17.9ms\n",
      "Speed: 7.3ms preprocess, 17.9ms inference, 1.2ms postprocess per image at shape (1, 3, 1088, 1920)\n"
     ]
    },
    {
     "name": "stdout",
     "output_type": "stream",
     "text": [
      "370\n",
      "371\n"
     ]
    },
    {
     "name": "stderr",
     "output_type": "stream",
     "text": [
      "\n",
      "0: 1088x1920 1 ball, 22 players, 17.9ms\n",
      "Speed: 7.5ms preprocess, 17.9ms inference, 1.2ms postprocess per image at shape (1, 3, 1088, 1920)\n",
      "\n",
      "0: 1088x1920 1 ball, 22 players, 17.9ms\n",
      "Speed: 7.4ms preprocess, 17.9ms inference, 1.2ms postprocess per image at shape (1, 3, 1088, 1920)\n"
     ]
    },
    {
     "name": "stdout",
     "output_type": "stream",
     "text": [
      "372\n",
      "373\n"
     ]
    },
    {
     "name": "stderr",
     "output_type": "stream",
     "text": [
      "\n",
      "0: 1088x1920 1 ball, 22 players, 17.9ms\n",
      "Speed: 7.4ms preprocess, 17.9ms inference, 1.1ms postprocess per image at shape (1, 3, 1088, 1920)\n",
      "\n",
      "0: 1088x1920 1 ball, 22 players, 17.9ms\n",
      "Speed: 7.4ms preprocess, 17.9ms inference, 1.1ms postprocess per image at shape (1, 3, 1088, 1920)\n"
     ]
    },
    {
     "name": "stdout",
     "output_type": "stream",
     "text": [
      "374\n",
      "375\n"
     ]
    },
    {
     "name": "stderr",
     "output_type": "stream",
     "text": [
      "\n",
      "0: 1088x1920 1 ball, 22 players, 17.9ms\n",
      "Speed: 7.1ms preprocess, 17.9ms inference, 1.2ms postprocess per image at shape (1, 3, 1088, 1920)\n",
      "\n",
      "0: 1088x1920 1 ball, 22 players, 17.9ms\n",
      "Speed: 7.4ms preprocess, 17.9ms inference, 1.1ms postprocess per image at shape (1, 3, 1088, 1920)\n"
     ]
    },
    {
     "name": "stdout",
     "output_type": "stream",
     "text": [
      "376\n",
      "377\n"
     ]
    },
    {
     "name": "stderr",
     "output_type": "stream",
     "text": [
      "\n",
      "0: 1088x1920 1 ball, 22 players, 17.9ms\n",
      "Speed: 7.2ms preprocess, 17.9ms inference, 1.2ms postprocess per image at shape (1, 3, 1088, 1920)\n",
      "\n",
      "0: 1088x1920 1 ball, 22 players, 17.9ms\n",
      "Speed: 7.2ms preprocess, 17.9ms inference, 1.2ms postprocess per image at shape (1, 3, 1088, 1920)\n"
     ]
    },
    {
     "name": "stdout",
     "output_type": "stream",
     "text": [
      "378\n",
      "379\n"
     ]
    },
    {
     "name": "stderr",
     "output_type": "stream",
     "text": [
      "\n",
      "0: 1088x1920 1 ball, 22 players, 17.9ms\n",
      "Speed: 7.2ms preprocess, 17.9ms inference, 1.1ms postprocess per image at shape (1, 3, 1088, 1920)\n",
      "\n",
      "0: 1088x1920 1 ball, 21 players, 17.9ms\n",
      "Speed: 7.4ms preprocess, 17.9ms inference, 1.2ms postprocess per image at shape (1, 3, 1088, 1920)\n"
     ]
    },
    {
     "name": "stdout",
     "output_type": "stream",
     "text": [
      "380\n",
      "381\n"
     ]
    },
    {
     "name": "stderr",
     "output_type": "stream",
     "text": [
      "\n",
      "0: 1088x1920 1 ball, 22 players, 17.9ms\n",
      "Speed: 7.7ms preprocess, 17.9ms inference, 1.2ms postprocess per image at shape (1, 3, 1088, 1920)\n",
      "\n",
      "0: 1088x1920 1 ball, 22 players, 17.9ms\n",
      "Speed: 7.4ms preprocess, 17.9ms inference, 1.2ms postprocess per image at shape (1, 3, 1088, 1920)\n"
     ]
    },
    {
     "name": "stdout",
     "output_type": "stream",
     "text": [
      "382\n",
      "383\n"
     ]
    },
    {
     "name": "stderr",
     "output_type": "stream",
     "text": [
      "\n",
      "0: 1088x1920 1 ball, 22 players, 17.9ms\n",
      "Speed: 7.4ms preprocess, 17.9ms inference, 1.2ms postprocess per image at shape (1, 3, 1088, 1920)\n",
      "\n",
      "0: 1088x1920 1 ball, 22 players, 17.9ms\n",
      "Speed: 7.7ms preprocess, 17.9ms inference, 1.2ms postprocess per image at shape (1, 3, 1088, 1920)\n"
     ]
    },
    {
     "name": "stdout",
     "output_type": "stream",
     "text": [
      "384\n",
      "385\n"
     ]
    },
    {
     "name": "stderr",
     "output_type": "stream",
     "text": [
      "\n",
      "0: 1088x1920 1 ball, 22 players, 17.9ms\n",
      "Speed: 7.2ms preprocess, 17.9ms inference, 1.2ms postprocess per image at shape (1, 3, 1088, 1920)\n",
      "\n",
      "0: 1088x1920 1 ball, 22 players, 17.9ms\n",
      "Speed: 7.2ms preprocess, 17.9ms inference, 1.2ms postprocess per image at shape (1, 3, 1088, 1920)\n"
     ]
    },
    {
     "name": "stdout",
     "output_type": "stream",
     "text": [
      "386\n",
      "387\n"
     ]
    },
    {
     "name": "stderr",
     "output_type": "stream",
     "text": [
      "\n",
      "0: 1088x1920 1 ball, 22 players, 17.9ms\n",
      "Speed: 7.3ms preprocess, 17.9ms inference, 1.2ms postprocess per image at shape (1, 3, 1088, 1920)\n",
      "\n",
      "0: 1088x1920 1 ball, 22 players, 17.9ms\n",
      "Speed: 7.3ms preprocess, 17.9ms inference, 1.2ms postprocess per image at shape (1, 3, 1088, 1920)\n"
     ]
    },
    {
     "name": "stdout",
     "output_type": "stream",
     "text": [
      "388\n",
      "389\n"
     ]
    },
    {
     "name": "stderr",
     "output_type": "stream",
     "text": [
      "\n",
      "0: 1088x1920 1 ball, 22 players, 17.9ms\n",
      "Speed: 7.5ms preprocess, 17.9ms inference, 1.1ms postprocess per image at shape (1, 3, 1088, 1920)\n",
      "\n",
      "0: 1088x1920 1 ball, 22 players, 17.9ms\n",
      "Speed: 7.2ms preprocess, 17.9ms inference, 1.2ms postprocess per image at shape (1, 3, 1088, 1920)\n"
     ]
    },
    {
     "name": "stdout",
     "output_type": "stream",
     "text": [
      "390\n",
      "391\n"
     ]
    },
    {
     "name": "stderr",
     "output_type": "stream",
     "text": [
      "\n",
      "0: 1088x1920 1 ball, 22 players, 17.9ms\n",
      "Speed: 7.1ms preprocess, 17.9ms inference, 1.1ms postprocess per image at shape (1, 3, 1088, 1920)\n",
      "\n",
      "0: 1088x1920 1 ball, 22 players, 17.9ms\n",
      "Speed: 7.1ms preprocess, 17.9ms inference, 1.2ms postprocess per image at shape (1, 3, 1088, 1920)\n"
     ]
    },
    {
     "name": "stdout",
     "output_type": "stream",
     "text": [
      "392\n",
      "393\n"
     ]
    },
    {
     "name": "stderr",
     "output_type": "stream",
     "text": [
      "\n",
      "0: 1088x1920 1 ball, 22 players, 17.9ms\n",
      "Speed: 7.5ms preprocess, 17.9ms inference, 1.2ms postprocess per image at shape (1, 3, 1088, 1920)\n",
      "\n",
      "0: 1088x1920 1 ball, 22 players, 17.9ms\n",
      "Speed: 7.5ms preprocess, 17.9ms inference, 1.2ms postprocess per image at shape (1, 3, 1088, 1920)\n"
     ]
    },
    {
     "name": "stdout",
     "output_type": "stream",
     "text": [
      "394\n",
      "395\n"
     ]
    },
    {
     "name": "stderr",
     "output_type": "stream",
     "text": [
      "\n",
      "0: 1088x1920 1 ball, 22 players, 17.9ms\n",
      "Speed: 7.2ms preprocess, 17.9ms inference, 1.2ms postprocess per image at shape (1, 3, 1088, 1920)\n",
      "\n",
      "0: 1088x1920 1 ball, 22 players, 17.9ms\n",
      "Speed: 8.2ms preprocess, 17.9ms inference, 1.2ms postprocess per image at shape (1, 3, 1088, 1920)\n"
     ]
    },
    {
     "name": "stdout",
     "output_type": "stream",
     "text": [
      "396\n",
      "397\n"
     ]
    },
    {
     "name": "stderr",
     "output_type": "stream",
     "text": [
      "\n",
      "0: 1088x1920 1 ball, 22 players, 17.9ms\n",
      "Speed: 7.5ms preprocess, 17.9ms inference, 1.2ms postprocess per image at shape (1, 3, 1088, 1920)\n",
      "\n",
      "0: 1088x1920 1 ball, 22 players, 17.9ms\n",
      "Speed: 7.3ms preprocess, 17.9ms inference, 1.2ms postprocess per image at shape (1, 3, 1088, 1920)\n"
     ]
    },
    {
     "name": "stdout",
     "output_type": "stream",
     "text": [
      "398\n",
      "399\n"
     ]
    },
    {
     "name": "stderr",
     "output_type": "stream",
     "text": [
      "\n",
      "0: 1088x1920 1 ball, 22 players, 17.9ms\n",
      "Speed: 7.8ms preprocess, 17.9ms inference, 1.3ms postprocess per image at shape (1, 3, 1088, 1920)\n",
      "\n",
      "0: 1088x1920 22 players, 17.9ms\n",
      "Speed: 7.0ms preprocess, 17.9ms inference, 1.2ms postprocess per image at shape (1, 3, 1088, 1920)\n"
     ]
    },
    {
     "name": "stdout",
     "output_type": "stream",
     "text": [
      "400\n",
      "401\n"
     ]
    },
    {
     "name": "stderr",
     "output_type": "stream",
     "text": [
      "\n",
      "0: 1088x1920 1 ball, 22 players, 17.9ms\n",
      "Speed: 7.3ms preprocess, 17.9ms inference, 1.2ms postprocess per image at shape (1, 3, 1088, 1920)\n",
      "\n",
      "0: 1088x1920 1 ball, 22 players, 17.9ms\n",
      "Speed: 7.3ms preprocess, 17.9ms inference, 1.2ms postprocess per image at shape (1, 3, 1088, 1920)\n"
     ]
    },
    {
     "name": "stdout",
     "output_type": "stream",
     "text": [
      "402\n",
      "403\n"
     ]
    },
    {
     "name": "stderr",
     "output_type": "stream",
     "text": [
      "\n",
      "0: 1088x1920 1 ball, 22 players, 17.9ms\n",
      "Speed: 7.9ms preprocess, 17.9ms inference, 1.2ms postprocess per image at shape (1, 3, 1088, 1920)\n",
      "\n",
      "0: 1088x1920 1 ball, 22 players, 17.9ms\n",
      "Speed: 7.3ms preprocess, 17.9ms inference, 1.2ms postprocess per image at shape (1, 3, 1088, 1920)\n"
     ]
    },
    {
     "name": "stdout",
     "output_type": "stream",
     "text": [
      "404\n",
      "405\n"
     ]
    },
    {
     "name": "stderr",
     "output_type": "stream",
     "text": [
      "\n",
      "0: 1088x1920 1 ball, 22 players, 17.9ms\n",
      "Speed: 7.5ms preprocess, 17.9ms inference, 1.2ms postprocess per image at shape (1, 3, 1088, 1920)\n",
      "\n",
      "0: 1088x1920 1 ball, 22 players, 17.9ms\n",
      "Speed: 7.4ms preprocess, 17.9ms inference, 1.2ms postprocess per image at shape (1, 3, 1088, 1920)\n"
     ]
    },
    {
     "name": "stdout",
     "output_type": "stream",
     "text": [
      "406\n",
      "407\n"
     ]
    },
    {
     "name": "stderr",
     "output_type": "stream",
     "text": [
      "\n",
      "0: 1088x1920 1 ball, 22 players, 17.9ms\n",
      "Speed: 7.1ms preprocess, 17.9ms inference, 1.2ms postprocess per image at shape (1, 3, 1088, 1920)\n",
      "\n",
      "0: 1088x1920 1 ball, 22 players, 17.9ms\n",
      "Speed: 7.3ms preprocess, 17.9ms inference, 1.2ms postprocess per image at shape (1, 3, 1088, 1920)\n"
     ]
    },
    {
     "name": "stdout",
     "output_type": "stream",
     "text": [
      "408\n",
      "409\n"
     ]
    },
    {
     "name": "stderr",
     "output_type": "stream",
     "text": [
      "\n",
      "0: 1088x1920 1 ball, 21 players, 17.9ms\n",
      "Speed: 7.7ms preprocess, 17.9ms inference, 1.2ms postprocess per image at shape (1, 3, 1088, 1920)\n",
      "\n",
      "0: 1088x1920 1 ball, 22 players, 17.9ms\n",
      "Speed: 7.4ms preprocess, 17.9ms inference, 1.2ms postprocess per image at shape (1, 3, 1088, 1920)\n"
     ]
    },
    {
     "name": "stdout",
     "output_type": "stream",
     "text": [
      "410\n",
      "411\n"
     ]
    },
    {
     "name": "stderr",
     "output_type": "stream",
     "text": [
      "\n",
      "0: 1088x1920 1 ball, 22 players, 17.9ms\n",
      "Speed: 7.5ms preprocess, 17.9ms inference, 1.2ms postprocess per image at shape (1, 3, 1088, 1920)\n",
      "\n",
      "0: 1088x1920 1 ball, 22 players, 17.9ms\n",
      "Speed: 7.1ms preprocess, 17.9ms inference, 1.2ms postprocess per image at shape (1, 3, 1088, 1920)\n"
     ]
    },
    {
     "name": "stdout",
     "output_type": "stream",
     "text": [
      "412\n",
      "413\n"
     ]
    },
    {
     "name": "stderr",
     "output_type": "stream",
     "text": [
      "\n",
      "0: 1088x1920 1 ball, 22 players, 17.9ms\n",
      "Speed: 8.0ms preprocess, 17.9ms inference, 1.2ms postprocess per image at shape (1, 3, 1088, 1920)\n",
      "\n",
      "0: 1088x1920 1 ball, 22 players, 17.9ms\n",
      "Speed: 7.4ms preprocess, 17.9ms inference, 1.2ms postprocess per image at shape (1, 3, 1088, 1920)\n"
     ]
    },
    {
     "name": "stdout",
     "output_type": "stream",
     "text": [
      "414\n",
      "415\n"
     ]
    },
    {
     "name": "stderr",
     "output_type": "stream",
     "text": [
      "\n",
      "0: 1088x1920 22 players, 17.9ms\n",
      "Speed: 7.3ms preprocess, 17.9ms inference, 1.2ms postprocess per image at shape (1, 3, 1088, 1920)\n",
      "\n",
      "0: 1088x1920 22 players, 17.9ms\n",
      "Speed: 7.2ms preprocess, 17.9ms inference, 1.2ms postprocess per image at shape (1, 3, 1088, 1920)\n"
     ]
    },
    {
     "name": "stdout",
     "output_type": "stream",
     "text": [
      "416\n",
      "417\n"
     ]
    },
    {
     "name": "stderr",
     "output_type": "stream",
     "text": [
      "\n",
      "0: 1088x1920 22 players, 17.9ms\n",
      "Speed: 7.2ms preprocess, 17.9ms inference, 1.2ms postprocess per image at shape (1, 3, 1088, 1920)\n",
      "\n",
      "0: 1088x1920 22 players, 17.9ms\n",
      "Speed: 7.1ms preprocess, 17.9ms inference, 1.2ms postprocess per image at shape (1, 3, 1088, 1920)\n"
     ]
    },
    {
     "name": "stdout",
     "output_type": "stream",
     "text": [
      "418\n",
      "419\n"
     ]
    },
    {
     "name": "stderr",
     "output_type": "stream",
     "text": [
      "\n",
      "0: 1088x1920 22 players, 17.9ms\n",
      "Speed: 7.4ms preprocess, 17.9ms inference, 1.2ms postprocess per image at shape (1, 3, 1088, 1920)\n",
      "\n",
      "0: 1088x1920 22 players, 17.9ms\n",
      "Speed: 7.4ms preprocess, 17.9ms inference, 1.2ms postprocess per image at shape (1, 3, 1088, 1920)\n"
     ]
    },
    {
     "name": "stdout",
     "output_type": "stream",
     "text": [
      "420\n",
      "421\n"
     ]
    },
    {
     "name": "stderr",
     "output_type": "stream",
     "text": [
      "\n",
      "0: 1088x1920 23 players, 17.9ms\n",
      "Speed: 7.2ms preprocess, 17.9ms inference, 1.2ms postprocess per image at shape (1, 3, 1088, 1920)\n",
      "\n",
      "0: 1088x1920 23 players, 17.9ms\n",
      "Speed: 7.3ms preprocess, 17.9ms inference, 1.1ms postprocess per image at shape (1, 3, 1088, 1920)\n"
     ]
    },
    {
     "name": "stdout",
     "output_type": "stream",
     "text": [
      "422\n",
      "423\n"
     ]
    },
    {
     "name": "stderr",
     "output_type": "stream",
     "text": [
      "\n",
      "0: 1088x1920 23 players, 17.9ms\n",
      "Speed: 7.2ms preprocess, 17.9ms inference, 1.2ms postprocess per image at shape (1, 3, 1088, 1920)\n",
      "\n",
      "0: 1088x1920 23 players, 17.9ms\n",
      "Speed: 7.3ms preprocess, 17.9ms inference, 1.1ms postprocess per image at shape (1, 3, 1088, 1920)\n"
     ]
    },
    {
     "name": "stdout",
     "output_type": "stream",
     "text": [
      "424\n",
      "425\n"
     ]
    },
    {
     "name": "stderr",
     "output_type": "stream",
     "text": [
      "\n",
      "0: 1088x1920 23 players, 18.0ms\n",
      "Speed: 7.7ms preprocess, 18.0ms inference, 1.2ms postprocess per image at shape (1, 3, 1088, 1920)\n",
      "\n",
      "0: 1088x1920 23 players, 17.9ms\n",
      "Speed: 7.4ms preprocess, 17.9ms inference, 1.2ms postprocess per image at shape (1, 3, 1088, 1920)\n"
     ]
    },
    {
     "name": "stdout",
     "output_type": "stream",
     "text": [
      "426\n",
      "427\n"
     ]
    },
    {
     "name": "stderr",
     "output_type": "stream",
     "text": [
      "\n",
      "0: 1088x1920 23 players, 17.9ms\n",
      "Speed: 7.1ms preprocess, 17.9ms inference, 1.2ms postprocess per image at shape (1, 3, 1088, 1920)\n",
      "\n",
      "0: 1088x1920 23 players, 17.9ms\n",
      "Speed: 7.8ms preprocess, 17.9ms inference, 1.2ms postprocess per image at shape (1, 3, 1088, 1920)\n"
     ]
    },
    {
     "name": "stdout",
     "output_type": "stream",
     "text": [
      "428\n",
      "429\n"
     ]
    },
    {
     "name": "stderr",
     "output_type": "stream",
     "text": [
      "\n",
      "0: 1088x1920 23 players, 17.9ms\n",
      "Speed: 7.4ms preprocess, 17.9ms inference, 1.2ms postprocess per image at shape (1, 3, 1088, 1920)\n",
      "\n",
      "0: 1088x1920 23 players, 17.9ms\n",
      "Speed: 7.1ms preprocess, 17.9ms inference, 1.1ms postprocess per image at shape (1, 3, 1088, 1920)\n"
     ]
    },
    {
     "name": "stdout",
     "output_type": "stream",
     "text": [
      "430\n",
      "431\n"
     ]
    },
    {
     "name": "stderr",
     "output_type": "stream",
     "text": [
      "\n",
      "0: 1088x1920 23 players, 17.9ms\n",
      "Speed: 7.7ms preprocess, 17.9ms inference, 1.2ms postprocess per image at shape (1, 3, 1088, 1920)\n",
      "\n",
      "0: 1088x1920 1 ball, 23 players, 17.9ms\n",
      "Speed: 7.4ms preprocess, 17.9ms inference, 1.2ms postprocess per image at shape (1, 3, 1088, 1920)\n"
     ]
    },
    {
     "name": "stdout",
     "output_type": "stream",
     "text": [
      "432\n",
      "433\n"
     ]
    },
    {
     "name": "stderr",
     "output_type": "stream",
     "text": [
      "\n",
      "0: 1088x1920 23 players, 17.9ms\n",
      "Speed: 7.4ms preprocess, 17.9ms inference, 1.2ms postprocess per image at shape (1, 3, 1088, 1920)\n",
      "\n",
      "0: 1088x1920 1 ball, 23 players, 17.9ms\n",
      "Speed: 7.3ms preprocess, 17.9ms inference, 1.2ms postprocess per image at shape (1, 3, 1088, 1920)\n"
     ]
    },
    {
     "name": "stdout",
     "output_type": "stream",
     "text": [
      "434\n",
      "435\n"
     ]
    },
    {
     "name": "stderr",
     "output_type": "stream",
     "text": [
      "\n",
      "0: 1088x1920 1 ball, 23 players, 17.9ms\n",
      "Speed: 7.0ms preprocess, 17.9ms inference, 1.2ms postprocess per image at shape (1, 3, 1088, 1920)\n",
      "\n",
      "0: 1088x1920 1 ball, 23 players, 17.9ms\n",
      "Speed: 7.7ms preprocess, 17.9ms inference, 1.2ms postprocess per image at shape (1, 3, 1088, 1920)\n"
     ]
    },
    {
     "name": "stdout",
     "output_type": "stream",
     "text": [
      "436\n",
      "437\n"
     ]
    },
    {
     "name": "stderr",
     "output_type": "stream",
     "text": [
      "\n",
      "0: 1088x1920 23 players, 17.9ms\n",
      "Speed: 7.2ms preprocess, 17.9ms inference, 1.2ms postprocess per image at shape (1, 3, 1088, 1920)\n",
      "\n",
      "0: 1088x1920 1 ball, 23 players, 17.9ms\n",
      "Speed: 7.1ms preprocess, 17.9ms inference, 1.2ms postprocess per image at shape (1, 3, 1088, 1920)\n"
     ]
    },
    {
     "name": "stdout",
     "output_type": "stream",
     "text": [
      "438\n",
      "439\n"
     ]
    },
    {
     "name": "stderr",
     "output_type": "stream",
     "text": [
      "\n",
      "0: 1088x1920 1 ball, 22 players, 17.9ms\n",
      "Speed: 7.3ms preprocess, 17.9ms inference, 1.2ms postprocess per image at shape (1, 3, 1088, 1920)\n",
      "\n",
      "0: 1088x1920 1 ball, 22 players, 17.9ms\n",
      "Speed: 7.7ms preprocess, 17.9ms inference, 1.2ms postprocess per image at shape (1, 3, 1088, 1920)\n"
     ]
    },
    {
     "name": "stdout",
     "output_type": "stream",
     "text": [
      "440\n",
      "441\n"
     ]
    },
    {
     "name": "stderr",
     "output_type": "stream",
     "text": [
      "\n",
      "0: 1088x1920 1 ball, 22 players, 17.9ms\n",
      "Speed: 7.8ms preprocess, 17.9ms inference, 1.3ms postprocess per image at shape (1, 3, 1088, 1920)\n",
      "\n",
      "0: 1088x1920 1 ball, 22 players, 17.9ms\n",
      "Speed: 7.4ms preprocess, 17.9ms inference, 1.2ms postprocess per image at shape (1, 3, 1088, 1920)\n"
     ]
    },
    {
     "name": "stdout",
     "output_type": "stream",
     "text": [
      "442\n",
      "443\n"
     ]
    },
    {
     "name": "stderr",
     "output_type": "stream",
     "text": [
      "\n",
      "0: 1088x1920 1 ball, 23 players, 17.9ms\n",
      "Speed: 7.2ms preprocess, 17.9ms inference, 1.1ms postprocess per image at shape (1, 3, 1088, 1920)\n",
      "\n",
      "0: 1088x1920 1 ball, 23 players, 17.9ms\n",
      "Speed: 7.6ms preprocess, 17.9ms inference, 1.3ms postprocess per image at shape (1, 3, 1088, 1920)\n"
     ]
    },
    {
     "name": "stdout",
     "output_type": "stream",
     "text": [
      "444\n",
      "445\n"
     ]
    },
    {
     "name": "stderr",
     "output_type": "stream",
     "text": [
      "\n",
      "0: 1088x1920 1 ball, 23 players, 17.9ms\n",
      "Speed: 7.3ms preprocess, 17.9ms inference, 1.2ms postprocess per image at shape (1, 3, 1088, 1920)\n",
      "\n",
      "0: 1088x1920 1 ball, 23 players, 17.9ms\n",
      "Speed: 7.3ms preprocess, 17.9ms inference, 1.2ms postprocess per image at shape (1, 3, 1088, 1920)\n"
     ]
    },
    {
     "name": "stdout",
     "output_type": "stream",
     "text": [
      "446\n",
      "447\n"
     ]
    },
    {
     "name": "stderr",
     "output_type": "stream",
     "text": [
      "\n",
      "0: 1088x1920 1 ball, 23 players, 17.9ms\n",
      "Speed: 7.1ms preprocess, 17.9ms inference, 1.2ms postprocess per image at shape (1, 3, 1088, 1920)\n",
      "\n",
      "0: 1088x1920 1 ball, 23 players, 17.9ms\n",
      "Speed: 7.7ms preprocess, 17.9ms inference, 1.2ms postprocess per image at shape (1, 3, 1088, 1920)\n"
     ]
    },
    {
     "name": "stdout",
     "output_type": "stream",
     "text": [
      "448\n",
      "449\n"
     ]
    },
    {
     "name": "stderr",
     "output_type": "stream",
     "text": [
      "\n",
      "0: 1088x1920 1 ball, 23 players, 17.9ms\n",
      "Speed: 7.6ms preprocess, 17.9ms inference, 1.2ms postprocess per image at shape (1, 3, 1088, 1920)\n",
      "\n",
      "0: 1088x1920 1 ball, 23 players, 17.9ms\n",
      "Speed: 7.6ms preprocess, 17.9ms inference, 1.2ms postprocess per image at shape (1, 3, 1088, 1920)\n"
     ]
    },
    {
     "name": "stdout",
     "output_type": "stream",
     "text": [
      "450\n",
      "451\n"
     ]
    },
    {
     "name": "stderr",
     "output_type": "stream",
     "text": [
      "\n",
      "0: 1088x1920 1 ball, 22 players, 17.9ms\n",
      "Speed: 7.2ms preprocess, 17.9ms inference, 1.2ms postprocess per image at shape (1, 3, 1088, 1920)\n",
      "\n",
      "0: 1088x1920 1 ball, 23 players, 17.9ms\n",
      "Speed: 7.4ms preprocess, 17.9ms inference, 1.2ms postprocess per image at shape (1, 3, 1088, 1920)\n"
     ]
    },
    {
     "name": "stdout",
     "output_type": "stream",
     "text": [
      "452\n",
      "453\n"
     ]
    },
    {
     "name": "stderr",
     "output_type": "stream",
     "text": [
      "\n",
      "0: 1088x1920 1 ball, 23 players, 17.9ms\n",
      "Speed: 7.2ms preprocess, 17.9ms inference, 1.2ms postprocess per image at shape (1, 3, 1088, 1920)\n",
      "\n",
      "0: 1088x1920 1 ball, 23 players, 17.9ms\n",
      "Speed: 7.4ms preprocess, 17.9ms inference, 1.2ms postprocess per image at shape (1, 3, 1088, 1920)\n"
     ]
    },
    {
     "name": "stdout",
     "output_type": "stream",
     "text": [
      "454\n",
      "455\n"
     ]
    },
    {
     "name": "stderr",
     "output_type": "stream",
     "text": [
      "\n",
      "0: 1088x1920 1 ball, 23 players, 17.9ms\n",
      "Speed: 7.4ms preprocess, 17.9ms inference, 1.2ms postprocess per image at shape (1, 3, 1088, 1920)\n",
      "\n",
      "0: 1088x1920 1 ball, 23 players, 18.0ms\n",
      "Speed: 7.7ms preprocess, 18.0ms inference, 1.2ms postprocess per image at shape (1, 3, 1088, 1920)\n"
     ]
    },
    {
     "name": "stdout",
     "output_type": "stream",
     "text": [
      "456\n",
      "457\n"
     ]
    },
    {
     "name": "stderr",
     "output_type": "stream",
     "text": [
      "\n",
      "0: 1088x1920 1 ball, 23 players, 17.9ms\n",
      "Speed: 7.6ms preprocess, 17.9ms inference, 1.2ms postprocess per image at shape (1, 3, 1088, 1920)\n",
      "\n",
      "0: 1088x1920 1 ball, 23 players, 17.9ms\n",
      "Speed: 7.5ms preprocess, 17.9ms inference, 1.1ms postprocess per image at shape (1, 3, 1088, 1920)\n"
     ]
    },
    {
     "name": "stdout",
     "output_type": "stream",
     "text": [
      "458\n",
      "459\n"
     ]
    },
    {
     "name": "stderr",
     "output_type": "stream",
     "text": [
      "\n",
      "0: 1088x1920 1 ball, 23 players, 17.9ms\n",
      "Speed: 7.6ms preprocess, 17.9ms inference, 1.2ms postprocess per image at shape (1, 3, 1088, 1920)\n",
      "\n",
      "0: 1088x1920 1 ball, 23 players, 17.9ms\n",
      "Speed: 7.7ms preprocess, 17.9ms inference, 1.3ms postprocess per image at shape (1, 3, 1088, 1920)\n"
     ]
    },
    {
     "name": "stdout",
     "output_type": "stream",
     "text": [
      "460\n",
      "461\n"
     ]
    },
    {
     "name": "stderr",
     "output_type": "stream",
     "text": [
      "\n",
      "0: 1088x1920 1 ball, 23 players, 17.9ms\n",
      "Speed: 7.0ms preprocess, 17.9ms inference, 1.2ms postprocess per image at shape (1, 3, 1088, 1920)\n",
      "\n",
      "0: 1088x1920 1 ball, 23 players, 17.9ms\n",
      "Speed: 7.3ms preprocess, 17.9ms inference, 1.2ms postprocess per image at shape (1, 3, 1088, 1920)\n"
     ]
    },
    {
     "name": "stdout",
     "output_type": "stream",
     "text": [
      "462\n",
      "463\n"
     ]
    },
    {
     "name": "stderr",
     "output_type": "stream",
     "text": [
      "\n",
      "0: 1088x1920 1 ball, 23 players, 17.9ms\n",
      "Speed: 7.2ms preprocess, 17.9ms inference, 1.2ms postprocess per image at shape (1, 3, 1088, 1920)\n",
      "\n",
      "0: 1088x1920 1 ball, 23 players, 19.4ms\n",
      "Speed: 7.9ms preprocess, 19.4ms inference, 1.3ms postprocess per image at shape (1, 3, 1088, 1920)\n"
     ]
    },
    {
     "name": "stdout",
     "output_type": "stream",
     "text": [
      "464\n",
      "465\n"
     ]
    },
    {
     "name": "stderr",
     "output_type": "stream",
     "text": [
      "\n",
      "0: 1088x1920 1 ball, 23 players, 17.9ms\n",
      "Speed: 7.2ms preprocess, 17.9ms inference, 1.2ms postprocess per image at shape (1, 3, 1088, 1920)\n",
      "\n",
      "0: 1088x1920 1 ball, 23 players, 17.9ms\n",
      "Speed: 7.1ms preprocess, 17.9ms inference, 1.2ms postprocess per image at shape (1, 3, 1088, 1920)\n"
     ]
    },
    {
     "name": "stdout",
     "output_type": "stream",
     "text": [
      "466\n",
      "467\n"
     ]
    },
    {
     "name": "stderr",
     "output_type": "stream",
     "text": [
      "\n",
      "0: 1088x1920 1 ball, 23 players, 17.9ms\n",
      "Speed: 7.1ms preprocess, 17.9ms inference, 1.2ms postprocess per image at shape (1, 3, 1088, 1920)\n",
      "\n",
      "0: 1088x1920 1 ball, 23 players, 17.9ms\n",
      "Speed: 7.2ms preprocess, 17.9ms inference, 1.2ms postprocess per image at shape (1, 3, 1088, 1920)\n"
     ]
    },
    {
     "name": "stdout",
     "output_type": "stream",
     "text": [
      "468\n",
      "469\n"
     ]
    },
    {
     "name": "stderr",
     "output_type": "stream",
     "text": [
      "\n",
      "0: 1088x1920 1 ball, 23 players, 17.9ms\n",
      "Speed: 7.7ms preprocess, 17.9ms inference, 1.1ms postprocess per image at shape (1, 3, 1088, 1920)\n",
      "\n",
      "0: 1088x1920 1 ball, 23 players, 17.9ms\n",
      "Speed: 7.5ms preprocess, 17.9ms inference, 1.2ms postprocess per image at shape (1, 3, 1088, 1920)\n"
     ]
    },
    {
     "name": "stdout",
     "output_type": "stream",
     "text": [
      "470\n",
      "471\n"
     ]
    },
    {
     "name": "stderr",
     "output_type": "stream",
     "text": [
      "\n",
      "0: 1088x1920 1 ball, 22 players, 17.9ms\n",
      "Speed: 7.0ms preprocess, 17.9ms inference, 1.2ms postprocess per image at shape (1, 3, 1088, 1920)\n",
      "\n",
      "0: 1088x1920 1 ball, 23 players, 17.9ms\n",
      "Speed: 7.7ms preprocess, 17.9ms inference, 1.2ms postprocess per image at shape (1, 3, 1088, 1920)\n"
     ]
    },
    {
     "name": "stdout",
     "output_type": "stream",
     "text": [
      "472\n",
      "473\n"
     ]
    },
    {
     "name": "stderr",
     "output_type": "stream",
     "text": [
      "\n",
      "0: 1088x1920 1 ball, 22 players, 17.9ms\n",
      "Speed: 7.1ms preprocess, 17.9ms inference, 1.2ms postprocess per image at shape (1, 3, 1088, 1920)\n",
      "\n",
      "0: 1088x1920 1 ball, 22 players, 17.9ms\n",
      "Speed: 7.8ms preprocess, 17.9ms inference, 1.2ms postprocess per image at shape (1, 3, 1088, 1920)\n"
     ]
    },
    {
     "name": "stdout",
     "output_type": "stream",
     "text": [
      "474\n",
      "475\n"
     ]
    },
    {
     "name": "stderr",
     "output_type": "stream",
     "text": [
      "\n",
      "0: 1088x1920 1 ball, 22 players, 17.9ms\n",
      "Speed: 7.8ms preprocess, 17.9ms inference, 1.2ms postprocess per image at shape (1, 3, 1088, 1920)\n",
      "\n",
      "0: 1088x1920 1 ball, 23 players, 17.9ms\n",
      "Speed: 7.7ms preprocess, 17.9ms inference, 1.3ms postprocess per image at shape (1, 3, 1088, 1920)\n"
     ]
    },
    {
     "name": "stdout",
     "output_type": "stream",
     "text": [
      "476\n",
      "477\n"
     ]
    },
    {
     "name": "stderr",
     "output_type": "stream",
     "text": [
      "\n",
      "0: 1088x1920 1 ball, 23 players, 17.9ms\n",
      "Speed: 7.0ms preprocess, 17.9ms inference, 1.2ms postprocess per image at shape (1, 3, 1088, 1920)\n",
      "\n",
      "0: 1088x1920 1 ball, 23 players, 17.9ms\n",
      "Speed: 7.5ms preprocess, 17.9ms inference, 1.2ms postprocess per image at shape (1, 3, 1088, 1920)\n"
     ]
    },
    {
     "name": "stdout",
     "output_type": "stream",
     "text": [
      "478\n",
      "479\n"
     ]
    },
    {
     "name": "stderr",
     "output_type": "stream",
     "text": [
      "\n",
      "0: 1088x1920 1 ball, 23 players, 17.9ms\n",
      "Speed: 7.3ms preprocess, 17.9ms inference, 1.2ms postprocess per image at shape (1, 3, 1088, 1920)\n",
      "\n",
      "0: 1088x1920 1 ball, 23 players, 17.9ms\n",
      "Speed: 7.4ms preprocess, 17.9ms inference, 1.2ms postprocess per image at shape (1, 3, 1088, 1920)\n"
     ]
    },
    {
     "name": "stdout",
     "output_type": "stream",
     "text": [
      "480\n",
      "481\n"
     ]
    },
    {
     "name": "stderr",
     "output_type": "stream",
     "text": [
      "\n",
      "0: 1088x1920 1 ball, 23 players, 17.9ms\n",
      "Speed: 7.9ms preprocess, 17.9ms inference, 1.3ms postprocess per image at shape (1, 3, 1088, 1920)\n",
      "\n",
      "0: 1088x1920 1 ball, 23 players, 17.9ms\n",
      "Speed: 7.2ms preprocess, 17.9ms inference, 1.2ms postprocess per image at shape (1, 3, 1088, 1920)\n"
     ]
    },
    {
     "name": "stdout",
     "output_type": "stream",
     "text": [
      "482\n",
      "483\n"
     ]
    },
    {
     "name": "stderr",
     "output_type": "stream",
     "text": [
      "\n",
      "0: 1088x1920 1 ball, 23 players, 17.9ms\n",
      "Speed: 7.6ms preprocess, 17.9ms inference, 1.2ms postprocess per image at shape (1, 3, 1088, 1920)\n",
      "\n",
      "0: 1088x1920 23 players, 17.9ms\n",
      "Speed: 7.3ms preprocess, 17.9ms inference, 1.2ms postprocess per image at shape (1, 3, 1088, 1920)\n"
     ]
    },
    {
     "name": "stdout",
     "output_type": "stream",
     "text": [
      "484\n",
      "485\n"
     ]
    },
    {
     "name": "stderr",
     "output_type": "stream",
     "text": [
      "\n",
      "0: 1088x1920 23 players, 17.9ms\n",
      "Speed: 7.1ms preprocess, 17.9ms inference, 1.2ms postprocess per image at shape (1, 3, 1088, 1920)\n",
      "\n",
      "0: 1088x1920 1 ball, 23 players, 17.9ms\n",
      "Speed: 7.5ms preprocess, 17.9ms inference, 1.2ms postprocess per image at shape (1, 3, 1088, 1920)\n"
     ]
    },
    {
     "name": "stdout",
     "output_type": "stream",
     "text": [
      "486\n",
      "487\n"
     ]
    },
    {
     "name": "stderr",
     "output_type": "stream",
     "text": [
      "\n",
      "0: 1088x1920 23 players, 17.9ms\n",
      "Speed: 7.5ms preprocess, 17.9ms inference, 1.3ms postprocess per image at shape (1, 3, 1088, 1920)\n",
      "\n",
      "0: 1088x1920 23 players, 17.9ms\n",
      "Speed: 7.6ms preprocess, 17.9ms inference, 1.2ms postprocess per image at shape (1, 3, 1088, 1920)\n"
     ]
    },
    {
     "name": "stdout",
     "output_type": "stream",
     "text": [
      "488\n",
      "489\n"
     ]
    },
    {
     "name": "stderr",
     "output_type": "stream",
     "text": [
      "\n",
      "0: 1088x1920 23 players, 17.9ms\n",
      "Speed: 7.3ms preprocess, 17.9ms inference, 1.2ms postprocess per image at shape (1, 3, 1088, 1920)\n",
      "\n",
      "0: 1088x1920 23 players, 17.9ms\n",
      "Speed: 7.4ms preprocess, 17.9ms inference, 1.1ms postprocess per image at shape (1, 3, 1088, 1920)\n"
     ]
    },
    {
     "name": "stdout",
     "output_type": "stream",
     "text": [
      "490\n",
      "491\n"
     ]
    },
    {
     "name": "stderr",
     "output_type": "stream",
     "text": [
      "\n",
      "0: 1088x1920 23 players, 17.9ms\n",
      "Speed: 7.6ms preprocess, 17.9ms inference, 1.3ms postprocess per image at shape (1, 3, 1088, 1920)\n",
      "\n",
      "0: 1088x1920 23 players, 17.9ms\n",
      "Speed: 7.5ms preprocess, 17.9ms inference, 1.2ms postprocess per image at shape (1, 3, 1088, 1920)\n"
     ]
    },
    {
     "name": "stdout",
     "output_type": "stream",
     "text": [
      "492\n",
      "493\n"
     ]
    },
    {
     "name": "stderr",
     "output_type": "stream",
     "text": [
      "\n",
      "0: 1088x1920 23 players, 17.9ms\n",
      "Speed: 7.3ms preprocess, 17.9ms inference, 1.2ms postprocess per image at shape (1, 3, 1088, 1920)\n",
      "\n",
      "0: 1088x1920 23 players, 17.9ms\n",
      "Speed: 7.4ms preprocess, 17.9ms inference, 1.2ms postprocess per image at shape (1, 3, 1088, 1920)\n"
     ]
    },
    {
     "name": "stdout",
     "output_type": "stream",
     "text": [
      "494\n",
      "495\n"
     ]
    },
    {
     "name": "stderr",
     "output_type": "stream",
     "text": [
      "\n",
      "0: 1088x1920 23 players, 17.9ms\n",
      "Speed: 7.3ms preprocess, 17.9ms inference, 1.2ms postprocess per image at shape (1, 3, 1088, 1920)\n",
      "\n",
      "0: 1088x1920 1 ball, 23 players, 17.9ms\n",
      "Speed: 7.8ms preprocess, 17.9ms inference, 1.3ms postprocess per image at shape (1, 3, 1088, 1920)\n"
     ]
    },
    {
     "name": "stdout",
     "output_type": "stream",
     "text": [
      "496\n",
      "497\n"
     ]
    },
    {
     "name": "stderr",
     "output_type": "stream",
     "text": [
      "\n",
      "0: 1088x1920 1 ball, 23 players, 17.9ms\n",
      "Speed: 7.3ms preprocess, 17.9ms inference, 1.3ms postprocess per image at shape (1, 3, 1088, 1920)\n",
      "\n",
      "0: 1088x1920 1 ball, 23 players, 17.9ms\n",
      "Speed: 7.4ms preprocess, 17.9ms inference, 1.1ms postprocess per image at shape (1, 3, 1088, 1920)\n"
     ]
    },
    {
     "name": "stdout",
     "output_type": "stream",
     "text": [
      "498\n",
      "499\n"
     ]
    },
    {
     "name": "stderr",
     "output_type": "stream",
     "text": [
      "\n",
      "0: 1088x1920 1 ball, 23 players, 17.9ms\n",
      "Speed: 7.2ms preprocess, 17.9ms inference, 1.2ms postprocess per image at shape (1, 3, 1088, 1920)\n",
      "\n",
      "0: 1088x1920 1 ball, 23 players, 17.9ms\n",
      "Speed: 7.1ms preprocess, 17.9ms inference, 1.2ms postprocess per image at shape (1, 3, 1088, 1920)\n"
     ]
    },
    {
     "name": "stdout",
     "output_type": "stream",
     "text": [
      "500\n",
      "501\n"
     ]
    },
    {
     "name": "stderr",
     "output_type": "stream",
     "text": [
      "\n",
      "0: 1088x1920 1 ball, 23 players, 17.9ms\n",
      "Speed: 7.3ms preprocess, 17.9ms inference, 1.2ms postprocess per image at shape (1, 3, 1088, 1920)\n",
      "\n",
      "0: 1088x1920 1 ball, 23 players, 17.9ms\n",
      "Speed: 7.7ms preprocess, 17.9ms inference, 1.2ms postprocess per image at shape (1, 3, 1088, 1920)\n"
     ]
    },
    {
     "name": "stdout",
     "output_type": "stream",
     "text": [
      "502\n",
      "503\n"
     ]
    },
    {
     "name": "stderr",
     "output_type": "stream",
     "text": [
      "\n",
      "0: 1088x1920 1 ball, 23 players, 17.9ms\n",
      "Speed: 7.7ms preprocess, 17.9ms inference, 1.3ms postprocess per image at shape (1, 3, 1088, 1920)\n",
      "\n",
      "0: 1088x1920 1 ball, 23 players, 17.9ms\n",
      "Speed: 7.2ms preprocess, 17.9ms inference, 1.2ms postprocess per image at shape (1, 3, 1088, 1920)\n"
     ]
    },
    {
     "name": "stdout",
     "output_type": "stream",
     "text": [
      "504\n",
      "505\n"
     ]
    },
    {
     "name": "stderr",
     "output_type": "stream",
     "text": [
      "\n",
      "0: 1088x1920 1 ball, 23 players, 17.9ms\n",
      "Speed: 7.4ms preprocess, 17.9ms inference, 1.2ms postprocess per image at shape (1, 3, 1088, 1920)\n",
      "\n",
      "0: 1088x1920 1 ball, 23 players, 17.9ms\n",
      "Speed: 7.3ms preprocess, 17.9ms inference, 1.2ms postprocess per image at shape (1, 3, 1088, 1920)\n"
     ]
    },
    {
     "name": "stdout",
     "output_type": "stream",
     "text": [
      "506\n",
      "507\n"
     ]
    },
    {
     "name": "stderr",
     "output_type": "stream",
     "text": [
      "\n",
      "0: 1088x1920 1 ball, 23 players, 17.9ms\n",
      "Speed: 7.0ms preprocess, 17.9ms inference, 1.2ms postprocess per image at shape (1, 3, 1088, 1920)\n",
      "\n",
      "0: 1088x1920 1 ball, 23 players, 17.9ms\n",
      "Speed: 7.9ms preprocess, 17.9ms inference, 1.3ms postprocess per image at shape (1, 3, 1088, 1920)\n"
     ]
    },
    {
     "name": "stdout",
     "output_type": "stream",
     "text": [
      "508\n",
      "509\n"
     ]
    },
    {
     "name": "stderr",
     "output_type": "stream",
     "text": [
      "\n",
      "0: 1088x1920 1 ball, 23 players, 17.9ms\n",
      "Speed: 7.6ms preprocess, 17.9ms inference, 1.2ms postprocess per image at shape (1, 3, 1088, 1920)\n",
      "\n",
      "0: 1088x1920 1 ball, 22 players, 17.9ms\n",
      "Speed: 7.3ms preprocess, 17.9ms inference, 1.3ms postprocess per image at shape (1, 3, 1088, 1920)\n"
     ]
    },
    {
     "name": "stdout",
     "output_type": "stream",
     "text": [
      "510\n",
      "511\n"
     ]
    },
    {
     "name": "stderr",
     "output_type": "stream",
     "text": [
      "\n",
      "0: 1088x1920 1 ball, 22 players, 17.9ms\n",
      "Speed: 7.3ms preprocess, 17.9ms inference, 1.1ms postprocess per image at shape (1, 3, 1088, 1920)\n",
      "\n",
      "0: 1088x1920 1 ball, 22 players, 17.9ms\n",
      "Speed: 8.0ms preprocess, 17.9ms inference, 1.2ms postprocess per image at shape (1, 3, 1088, 1920)\n"
     ]
    },
    {
     "name": "stdout",
     "output_type": "stream",
     "text": [
      "512\n",
      "513\n"
     ]
    },
    {
     "name": "stderr",
     "output_type": "stream",
     "text": [
      "\n",
      "0: 1088x1920 1 ball, 22 players, 17.9ms\n",
      "Speed: 7.2ms preprocess, 17.9ms inference, 1.2ms postprocess per image at shape (1, 3, 1088, 1920)\n",
      "\n",
      "0: 1088x1920 1 ball, 22 players, 17.9ms\n",
      "Speed: 7.3ms preprocess, 17.9ms inference, 1.1ms postprocess per image at shape (1, 3, 1088, 1920)\n"
     ]
    },
    {
     "name": "stdout",
     "output_type": "stream",
     "text": [
      "514\n",
      "515\n"
     ]
    },
    {
     "name": "stderr",
     "output_type": "stream",
     "text": [
      "\n",
      "0: 1088x1920 1 ball, 23 players, 17.9ms\n",
      "Speed: 7.3ms preprocess, 17.9ms inference, 1.2ms postprocess per image at shape (1, 3, 1088, 1920)\n",
      "\n",
      "0: 1088x1920 1 ball, 22 players, 17.9ms\n",
      "Speed: 7.1ms preprocess, 17.9ms inference, 1.2ms postprocess per image at shape (1, 3, 1088, 1920)\n"
     ]
    },
    {
     "name": "stdout",
     "output_type": "stream",
     "text": [
      "516\n",
      "517\n"
     ]
    },
    {
     "name": "stderr",
     "output_type": "stream",
     "text": [
      "\n",
      "0: 1088x1920 1 ball, 22 players, 17.9ms\n",
      "Speed: 7.0ms preprocess, 17.9ms inference, 1.2ms postprocess per image at shape (1, 3, 1088, 1920)\n",
      "\n",
      "0: 1088x1920 1 ball, 22 players, 17.9ms\n",
      "Speed: 7.5ms preprocess, 17.9ms inference, 1.1ms postprocess per image at shape (1, 3, 1088, 1920)\n"
     ]
    },
    {
     "name": "stdout",
     "output_type": "stream",
     "text": [
      "518\n",
      "519\n"
     ]
    },
    {
     "name": "stderr",
     "output_type": "stream",
     "text": [
      "\n",
      "0: 1088x1920 1 ball, 23 players, 17.9ms\n",
      "Speed: 7.5ms preprocess, 17.9ms inference, 1.2ms postprocess per image at shape (1, 3, 1088, 1920)\n",
      "\n",
      "0: 1088x1920 1 ball, 23 players, 17.9ms\n",
      "Speed: 7.7ms preprocess, 17.9ms inference, 1.1ms postprocess per image at shape (1, 3, 1088, 1920)\n"
     ]
    },
    {
     "name": "stdout",
     "output_type": "stream",
     "text": [
      "520\n",
      "521\n"
     ]
    },
    {
     "name": "stderr",
     "output_type": "stream",
     "text": [
      "\n",
      "0: 1088x1920 1 ball, 23 players, 17.9ms\n",
      "Speed: 7.1ms preprocess, 17.9ms inference, 1.2ms postprocess per image at shape (1, 3, 1088, 1920)\n",
      "\n",
      "0: 1088x1920 1 ball, 23 players, 17.9ms\n",
      "Speed: 7.0ms preprocess, 17.9ms inference, 1.2ms postprocess per image at shape (1, 3, 1088, 1920)\n"
     ]
    },
    {
     "name": "stdout",
     "output_type": "stream",
     "text": [
      "522\n",
      "523\n"
     ]
    },
    {
     "name": "stderr",
     "output_type": "stream",
     "text": [
      "\n",
      "0: 1088x1920 1 ball, 23 players, 17.9ms\n",
      "Speed: 7.1ms preprocess, 17.9ms inference, 1.2ms postprocess per image at shape (1, 3, 1088, 1920)\n",
      "\n",
      "0: 1088x1920 1 ball, 23 players, 17.9ms\n",
      "Speed: 7.4ms preprocess, 17.9ms inference, 1.2ms postprocess per image at shape (1, 3, 1088, 1920)\n"
     ]
    },
    {
     "name": "stdout",
     "output_type": "stream",
     "text": [
      "524\n",
      "525\n"
     ]
    },
    {
     "name": "stderr",
     "output_type": "stream",
     "text": [
      "\n",
      "0: 1088x1920 1 ball, 23 players, 17.9ms\n",
      "Speed: 7.6ms preprocess, 17.9ms inference, 1.2ms postprocess per image at shape (1, 3, 1088, 1920)\n",
      "\n",
      "0: 1088x1920 1 ball, 23 players, 17.9ms\n",
      "Speed: 7.5ms preprocess, 17.9ms inference, 1.2ms postprocess per image at shape (1, 3, 1088, 1920)\n"
     ]
    },
    {
     "name": "stdout",
     "output_type": "stream",
     "text": [
      "526\n",
      "527\n"
     ]
    },
    {
     "name": "stderr",
     "output_type": "stream",
     "text": [
      "\n",
      "0: 1088x1920 23 players, 17.9ms\n",
      "Speed: 7.3ms preprocess, 17.9ms inference, 1.2ms postprocess per image at shape (1, 3, 1088, 1920)\n",
      "\n",
      "0: 1088x1920 1 ball, 23 players, 17.9ms\n",
      "Speed: 7.6ms preprocess, 17.9ms inference, 1.2ms postprocess per image at shape (1, 3, 1088, 1920)\n"
     ]
    },
    {
     "name": "stdout",
     "output_type": "stream",
     "text": [
      "528\n",
      "529\n"
     ]
    },
    {
     "name": "stderr",
     "output_type": "stream",
     "text": [
      "\n",
      "0: 1088x1920 1 ball, 23 players, 17.9ms\n",
      "Speed: 7.7ms preprocess, 17.9ms inference, 1.2ms postprocess per image at shape (1, 3, 1088, 1920)\n",
      "\n",
      "0: 1088x1920 1 ball, 23 players, 17.9ms\n",
      "Speed: 7.4ms preprocess, 17.9ms inference, 1.2ms postprocess per image at shape (1, 3, 1088, 1920)\n"
     ]
    },
    {
     "name": "stdout",
     "output_type": "stream",
     "text": [
      "530\n",
      "531\n"
     ]
    },
    {
     "name": "stderr",
     "output_type": "stream",
     "text": [
      "\n",
      "0: 1088x1920 23 players, 17.9ms\n",
      "Speed: 7.6ms preprocess, 17.9ms inference, 1.2ms postprocess per image at shape (1, 3, 1088, 1920)\n",
      "\n",
      "0: 1088x1920 23 players, 17.9ms\n",
      "Speed: 7.2ms preprocess, 17.9ms inference, 1.2ms postprocess per image at shape (1, 3, 1088, 1920)\n"
     ]
    },
    {
     "name": "stdout",
     "output_type": "stream",
     "text": [
      "532\n",
      "533\n"
     ]
    },
    {
     "name": "stderr",
     "output_type": "stream",
     "text": [
      "\n",
      "0: 1088x1920 1 ball, 23 players, 17.9ms\n",
      "Speed: 7.3ms preprocess, 17.9ms inference, 1.1ms postprocess per image at shape (1, 3, 1088, 1920)\n",
      "\n",
      "0: 1088x1920 1 ball, 23 players, 17.9ms\n",
      "Speed: 7.3ms preprocess, 17.9ms inference, 1.2ms postprocess per image at shape (1, 3, 1088, 1920)\n"
     ]
    },
    {
     "name": "stdout",
     "output_type": "stream",
     "text": [
      "534\n",
      "535\n"
     ]
    },
    {
     "name": "stderr",
     "output_type": "stream",
     "text": [
      "\n",
      "0: 1088x1920 1 ball, 23 players, 17.9ms\n",
      "Speed: 7.1ms preprocess, 17.9ms inference, 1.2ms postprocess per image at shape (1, 3, 1088, 1920)\n",
      "\n",
      "0: 1088x1920 1 ball, 23 players, 17.9ms\n",
      "Speed: 7.2ms preprocess, 17.9ms inference, 1.2ms postprocess per image at shape (1, 3, 1088, 1920)\n"
     ]
    },
    {
     "name": "stdout",
     "output_type": "stream",
     "text": [
      "536\n",
      "537\n"
     ]
    },
    {
     "name": "stderr",
     "output_type": "stream",
     "text": [
      "\n",
      "0: 1088x1920 1 ball, 23 players, 17.9ms\n",
      "Speed: 7.2ms preprocess, 17.9ms inference, 1.2ms postprocess per image at shape (1, 3, 1088, 1920)\n",
      "\n",
      "0: 1088x1920 1 ball, 23 players, 17.9ms\n",
      "Speed: 7.6ms preprocess, 17.9ms inference, 1.2ms postprocess per image at shape (1, 3, 1088, 1920)\n"
     ]
    },
    {
     "name": "stdout",
     "output_type": "stream",
     "text": [
      "538\n",
      "539\n"
     ]
    },
    {
     "name": "stderr",
     "output_type": "stream",
     "text": [
      "\n",
      "0: 1088x1920 1 ball, 23 players, 17.9ms\n",
      "Speed: 7.7ms preprocess, 17.9ms inference, 1.2ms postprocess per image at shape (1, 3, 1088, 1920)\n",
      "\n",
      "0: 1088x1920 1 ball, 23 players, 17.9ms\n",
      "Speed: 7.8ms preprocess, 17.9ms inference, 1.2ms postprocess per image at shape (1, 3, 1088, 1920)\n"
     ]
    },
    {
     "name": "stdout",
     "output_type": "stream",
     "text": [
      "540\n",
      "541\n"
     ]
    },
    {
     "name": "stderr",
     "output_type": "stream",
     "text": [
      "\n",
      "0: 1088x1920 1 ball, 23 players, 19.0ms\n",
      "Speed: 7.2ms preprocess, 19.0ms inference, 1.2ms postprocess per image at shape (1, 3, 1088, 1920)\n",
      "\n",
      "0: 1088x1920 1 ball, 23 players, 17.9ms\n",
      "Speed: 7.8ms preprocess, 17.9ms inference, 1.2ms postprocess per image at shape (1, 3, 1088, 1920)\n"
     ]
    },
    {
     "name": "stdout",
     "output_type": "stream",
     "text": [
      "542\n",
      "543\n"
     ]
    },
    {
     "name": "stderr",
     "output_type": "stream",
     "text": [
      "\n",
      "0: 1088x1920 1 ball, 23 players, 17.9ms\n",
      "Speed: 7.4ms preprocess, 17.9ms inference, 1.5ms postprocess per image at shape (1, 3, 1088, 1920)\n",
      "\n",
      "0: 1088x1920 1 ball, 23 players, 17.9ms\n",
      "Speed: 7.7ms preprocess, 17.9ms inference, 1.2ms postprocess per image at shape (1, 3, 1088, 1920)\n"
     ]
    },
    {
     "name": "stdout",
     "output_type": "stream",
     "text": [
      "544\n",
      "545\n"
     ]
    },
    {
     "name": "stderr",
     "output_type": "stream",
     "text": [
      "\n",
      "0: 1088x1920 1 ball, 23 players, 17.9ms\n",
      "Speed: 7.5ms preprocess, 17.9ms inference, 1.2ms postprocess per image at shape (1, 3, 1088, 1920)\n",
      "\n",
      "0: 1088x1920 1 ball, 22 players, 17.9ms\n",
      "Speed: 7.4ms preprocess, 17.9ms inference, 1.2ms postprocess per image at shape (1, 3, 1088, 1920)\n"
     ]
    },
    {
     "name": "stdout",
     "output_type": "stream",
     "text": [
      "546\n",
      "547\n"
     ]
    },
    {
     "name": "stderr",
     "output_type": "stream",
     "text": [
      "\n",
      "0: 1088x1920 1 ball, 23 players, 17.9ms\n",
      "Speed: 7.3ms preprocess, 17.9ms inference, 1.2ms postprocess per image at shape (1, 3, 1088, 1920)\n",
      "\n",
      "0: 1088x1920 1 ball, 23 players, 17.9ms\n",
      "Speed: 7.2ms preprocess, 17.9ms inference, 1.3ms postprocess per image at shape (1, 3, 1088, 1920)\n"
     ]
    },
    {
     "name": "stdout",
     "output_type": "stream",
     "text": [
      "548\n",
      "549\n"
     ]
    },
    {
     "name": "stderr",
     "output_type": "stream",
     "text": [
      "\n",
      "0: 1088x1920 1 ball, 22 players, 17.9ms\n",
      "Speed: 7.2ms preprocess, 17.9ms inference, 1.2ms postprocess per image at shape (1, 3, 1088, 1920)\n",
      "\n",
      "0: 1088x1920 1 ball, 23 players, 17.9ms\n",
      "Speed: 7.5ms preprocess, 17.9ms inference, 1.2ms postprocess per image at shape (1, 3, 1088, 1920)\n"
     ]
    },
    {
     "name": "stdout",
     "output_type": "stream",
     "text": [
      "550\n",
      "551\n"
     ]
    },
    {
     "name": "stderr",
     "output_type": "stream",
     "text": [
      "\n",
      "0: 1088x1920 1 ball, 23 players, 17.9ms\n",
      "Speed: 7.1ms preprocess, 17.9ms inference, 1.2ms postprocess per image at shape (1, 3, 1088, 1920)\n",
      "\n",
      "0: 1088x1920 1 ball, 22 players, 17.9ms\n",
      "Speed: 7.5ms preprocess, 17.9ms inference, 1.2ms postprocess per image at shape (1, 3, 1088, 1920)\n"
     ]
    },
    {
     "name": "stdout",
     "output_type": "stream",
     "text": [
      "552\n",
      "553\n"
     ]
    },
    {
     "name": "stderr",
     "output_type": "stream",
     "text": [
      "\n",
      "0: 1088x1920 1 ball, 23 players, 17.9ms\n",
      "Speed: 7.6ms preprocess, 17.9ms inference, 1.2ms postprocess per image at shape (1, 3, 1088, 1920)\n",
      "\n",
      "0: 1088x1920 1 ball, 22 players, 17.9ms\n",
      "Speed: 7.2ms preprocess, 17.9ms inference, 1.1ms postprocess per image at shape (1, 3, 1088, 1920)\n"
     ]
    },
    {
     "name": "stdout",
     "output_type": "stream",
     "text": [
      "554\n",
      "555\n"
     ]
    },
    {
     "name": "stderr",
     "output_type": "stream",
     "text": [
      "\n",
      "0: 1088x1920 1 ball, 22 players, 17.9ms\n",
      "Speed: 7.1ms preprocess, 17.9ms inference, 1.2ms postprocess per image at shape (1, 3, 1088, 1920)\n",
      "\n",
      "0: 1088x1920 1 ball, 22 players, 17.9ms\n",
      "Speed: 7.3ms preprocess, 17.9ms inference, 1.2ms postprocess per image at shape (1, 3, 1088, 1920)\n"
     ]
    },
    {
     "name": "stdout",
     "output_type": "stream",
     "text": [
      "556\n",
      "557\n"
     ]
    },
    {
     "name": "stderr",
     "output_type": "stream",
     "text": [
      "\n",
      "0: 1088x1920 1 ball, 22 players, 17.9ms\n",
      "Speed: 7.3ms preprocess, 17.9ms inference, 1.2ms postprocess per image at shape (1, 3, 1088, 1920)\n",
      "\n",
      "0: 1088x1920 1 ball, 22 players, 17.9ms\n",
      "Speed: 7.6ms preprocess, 17.9ms inference, 1.2ms postprocess per image at shape (1, 3, 1088, 1920)\n"
     ]
    },
    {
     "name": "stdout",
     "output_type": "stream",
     "text": [
      "558\n",
      "559\n"
     ]
    },
    {
     "name": "stderr",
     "output_type": "stream",
     "text": [
      "\n",
      "0: 1088x1920 1 ball, 22 players, 17.9ms\n",
      "Speed: 7.2ms preprocess, 17.9ms inference, 1.2ms postprocess per image at shape (1, 3, 1088, 1920)\n",
      "\n",
      "0: 1088x1920 1 ball, 23 players, 17.9ms\n",
      "Speed: 7.3ms preprocess, 17.9ms inference, 1.2ms postprocess per image at shape (1, 3, 1088, 1920)\n"
     ]
    },
    {
     "name": "stdout",
     "output_type": "stream",
     "text": [
      "560\n",
      "561\n"
     ]
    },
    {
     "name": "stderr",
     "output_type": "stream",
     "text": [
      "\n",
      "0: 1088x1920 1 ball, 23 players, 17.9ms\n",
      "Speed: 7.1ms preprocess, 17.9ms inference, 1.2ms postprocess per image at shape (1, 3, 1088, 1920)\n",
      "\n",
      "0: 1088x1920 1 ball, 23 players, 17.9ms\n",
      "Speed: 7.8ms preprocess, 17.9ms inference, 1.3ms postprocess per image at shape (1, 3, 1088, 1920)\n"
     ]
    },
    {
     "name": "stdout",
     "output_type": "stream",
     "text": [
      "562\n",
      "563\n"
     ]
    },
    {
     "name": "stderr",
     "output_type": "stream",
     "text": [
      "\n",
      "0: 1088x1920 1 ball, 23 players, 17.9ms\n",
      "Speed: 7.4ms preprocess, 17.9ms inference, 1.2ms postprocess per image at shape (1, 3, 1088, 1920)\n",
      "\n",
      "0: 1088x1920 1 ball, 23 players, 17.9ms\n",
      "Speed: 7.2ms preprocess, 17.9ms inference, 1.2ms postprocess per image at shape (1, 3, 1088, 1920)\n"
     ]
    },
    {
     "name": "stdout",
     "output_type": "stream",
     "text": [
      "564\n",
      "565\n"
     ]
    },
    {
     "name": "stderr",
     "output_type": "stream",
     "text": [
      "\n",
      "0: 1088x1920 1 ball, 23 players, 17.9ms\n",
      "Speed: 7.3ms preprocess, 17.9ms inference, 1.2ms postprocess per image at shape (1, 3, 1088, 1920)\n",
      "\n",
      "0: 1088x1920 1 ball, 23 players, 17.9ms\n",
      "Speed: 7.1ms preprocess, 17.9ms inference, 1.2ms postprocess per image at shape (1, 3, 1088, 1920)\n"
     ]
    },
    {
     "name": "stdout",
     "output_type": "stream",
     "text": [
      "566\n",
      "567\n"
     ]
    },
    {
     "name": "stderr",
     "output_type": "stream",
     "text": [
      "\n",
      "0: 1088x1920 1 ball, 23 players, 17.9ms\n",
      "Speed: 7.1ms preprocess, 17.9ms inference, 1.1ms postprocess per image at shape (1, 3, 1088, 1920)\n",
      "\n",
      "0: 1088x1920 23 players, 17.9ms\n",
      "Speed: 7.2ms preprocess, 17.9ms inference, 1.1ms postprocess per image at shape (1, 3, 1088, 1920)\n"
     ]
    },
    {
     "name": "stdout",
     "output_type": "stream",
     "text": [
      "568\n",
      "569\n"
     ]
    },
    {
     "name": "stderr",
     "output_type": "stream",
     "text": [
      "\n",
      "0: 1088x1920 23 players, 17.9ms\n",
      "Speed: 7.6ms preprocess, 17.9ms inference, 1.3ms postprocess per image at shape (1, 3, 1088, 1920)\n",
      "\n",
      "0: 1088x1920 23 players, 17.9ms\n",
      "Speed: 7.5ms preprocess, 17.9ms inference, 1.2ms postprocess per image at shape (1, 3, 1088, 1920)\n"
     ]
    },
    {
     "name": "stdout",
     "output_type": "stream",
     "text": [
      "570\n",
      "571\n"
     ]
    },
    {
     "name": "stderr",
     "output_type": "stream",
     "text": [
      "\n",
      "0: 1088x1920 23 players, 17.9ms\n",
      "Speed: 7.6ms preprocess, 17.9ms inference, 1.2ms postprocess per image at shape (1, 3, 1088, 1920)\n",
      "\n",
      "0: 1088x1920 23 players, 17.9ms\n",
      "Speed: 7.0ms preprocess, 17.9ms inference, 1.2ms postprocess per image at shape (1, 3, 1088, 1920)\n"
     ]
    },
    {
     "name": "stdout",
     "output_type": "stream",
     "text": [
      "572\n",
      "573\n"
     ]
    },
    {
     "name": "stderr",
     "output_type": "stream",
     "text": [
      "\n",
      "0: 1088x1920 23 players, 17.9ms\n",
      "Speed: 7.4ms preprocess, 17.9ms inference, 1.3ms postprocess per image at shape (1, 3, 1088, 1920)\n",
      "\n",
      "0: 1088x1920 23 players, 17.9ms\n",
      "Speed: 7.7ms preprocess, 17.9ms inference, 1.3ms postprocess per image at shape (1, 3, 1088, 1920)\n"
     ]
    },
    {
     "name": "stdout",
     "output_type": "stream",
     "text": [
      "574\n",
      "575\n"
     ]
    },
    {
     "name": "stderr",
     "output_type": "stream",
     "text": [
      "\n",
      "0: 1088x1920 23 players, 17.9ms\n",
      "Speed: 7.3ms preprocess, 17.9ms inference, 1.2ms postprocess per image at shape (1, 3, 1088, 1920)\n",
      "\n",
      "0: 1088x1920 23 players, 17.9ms\n",
      "Speed: 7.4ms preprocess, 17.9ms inference, 1.2ms postprocess per image at shape (1, 3, 1088, 1920)\n"
     ]
    },
    {
     "name": "stdout",
     "output_type": "stream",
     "text": [
      "576\n",
      "577\n"
     ]
    },
    {
     "name": "stderr",
     "output_type": "stream",
     "text": [
      "\n",
      "0: 1088x1920 23 players, 17.9ms\n",
      "Speed: 7.2ms preprocess, 17.9ms inference, 1.2ms postprocess per image at shape (1, 3, 1088, 1920)\n",
      "\n",
      "0: 1088x1920 23 players, 17.9ms\n",
      "Speed: 7.6ms preprocess, 17.9ms inference, 1.2ms postprocess per image at shape (1, 3, 1088, 1920)\n"
     ]
    },
    {
     "name": "stdout",
     "output_type": "stream",
     "text": [
      "578\n",
      "579\n"
     ]
    },
    {
     "name": "stderr",
     "output_type": "stream",
     "text": [
      "\n",
      "0: 1088x1920 23 players, 17.9ms\n",
      "Speed: 7.3ms preprocess, 17.9ms inference, 1.2ms postprocess per image at shape (1, 3, 1088, 1920)\n",
      "\n",
      "0: 1088x1920 23 players, 17.9ms\n",
      "Speed: 7.3ms preprocess, 17.9ms inference, 1.2ms postprocess per image at shape (1, 3, 1088, 1920)\n"
     ]
    },
    {
     "name": "stdout",
     "output_type": "stream",
     "text": [
      "580\n",
      "581\n"
     ]
    },
    {
     "name": "stderr",
     "output_type": "stream",
     "text": [
      "\n",
      "0: 1088x1920 23 players, 17.9ms\n",
      "Speed: 7.2ms preprocess, 17.9ms inference, 1.2ms postprocess per image at shape (1, 3, 1088, 1920)\n",
      "\n",
      "0: 1088x1920 23 players, 17.9ms\n",
      "Speed: 7.5ms preprocess, 17.9ms inference, 1.1ms postprocess per image at shape (1, 3, 1088, 1920)\n"
     ]
    },
    {
     "name": "stdout",
     "output_type": "stream",
     "text": [
      "582\n",
      "583\n"
     ]
    },
    {
     "name": "stderr",
     "output_type": "stream",
     "text": [
      "\n",
      "0: 1088x1920 23 players, 17.9ms\n",
      "Speed: 7.0ms preprocess, 17.9ms inference, 1.2ms postprocess per image at shape (1, 3, 1088, 1920)\n",
      "\n",
      "0: 1088x1920 23 players, 17.9ms\n",
      "Speed: 7.4ms preprocess, 17.9ms inference, 1.2ms postprocess per image at shape (1, 3, 1088, 1920)\n"
     ]
    },
    {
     "name": "stdout",
     "output_type": "stream",
     "text": [
      "584\n",
      "585\n"
     ]
    },
    {
     "name": "stderr",
     "output_type": "stream",
     "text": [
      "\n",
      "0: 1088x1920 23 players, 17.9ms\n",
      "Speed: 7.5ms preprocess, 17.9ms inference, 1.2ms postprocess per image at shape (1, 3, 1088, 1920)\n",
      "\n",
      "0: 1088x1920 23 players, 17.9ms\n",
      "Speed: 7.2ms preprocess, 17.9ms inference, 1.2ms postprocess per image at shape (1, 3, 1088, 1920)\n"
     ]
    },
    {
     "name": "stdout",
     "output_type": "stream",
     "text": [
      "586\n",
      "587\n"
     ]
    },
    {
     "name": "stderr",
     "output_type": "stream",
     "text": [
      "\n",
      "0: 1088x1920 23 players, 17.9ms\n",
      "Speed: 7.2ms preprocess, 17.9ms inference, 1.1ms postprocess per image at shape (1, 3, 1088, 1920)\n",
      "\n",
      "0: 1088x1920 23 players, 17.9ms\n",
      "Speed: 7.3ms preprocess, 17.9ms inference, 1.2ms postprocess per image at shape (1, 3, 1088, 1920)\n"
     ]
    },
    {
     "name": "stdout",
     "output_type": "stream",
     "text": [
      "588\n",
      "589\n"
     ]
    },
    {
     "name": "stderr",
     "output_type": "stream",
     "text": [
      "\n",
      "0: 1088x1920 23 players, 17.9ms\n",
      "Speed: 7.6ms preprocess, 17.9ms inference, 1.2ms postprocess per image at shape (1, 3, 1088, 1920)\n",
      "\n",
      "0: 1088x1920 23 players, 17.9ms\n",
      "Speed: 7.2ms preprocess, 17.9ms inference, 1.2ms postprocess per image at shape (1, 3, 1088, 1920)\n"
     ]
    },
    {
     "name": "stdout",
     "output_type": "stream",
     "text": [
      "590\n",
      "591\n"
     ]
    },
    {
     "name": "stderr",
     "output_type": "stream",
     "text": [
      "\n",
      "0: 1088x1920 23 players, 17.9ms\n",
      "Speed: 7.4ms preprocess, 17.9ms inference, 1.1ms postprocess per image at shape (1, 3, 1088, 1920)\n",
      "\n",
      "0: 1088x1920 23 players, 17.9ms\n",
      "Speed: 7.4ms preprocess, 17.9ms inference, 1.2ms postprocess per image at shape (1, 3, 1088, 1920)\n"
     ]
    },
    {
     "name": "stdout",
     "output_type": "stream",
     "text": [
      "592\n",
      "593\n"
     ]
    },
    {
     "name": "stderr",
     "output_type": "stream",
     "text": [
      "\n",
      "0: 1088x1920 23 players, 17.9ms\n",
      "Speed: 7.6ms preprocess, 17.9ms inference, 1.2ms postprocess per image at shape (1, 3, 1088, 1920)\n",
      "\n",
      "0: 1088x1920 23 players, 17.9ms\n",
      "Speed: 7.3ms preprocess, 17.9ms inference, 1.2ms postprocess per image at shape (1, 3, 1088, 1920)\n"
     ]
    },
    {
     "name": "stdout",
     "output_type": "stream",
     "text": [
      "594\n",
      "595\n"
     ]
    },
    {
     "name": "stderr",
     "output_type": "stream",
     "text": [
      "\n",
      "0: 1088x1920 23 players, 17.9ms\n",
      "Speed: 7.9ms preprocess, 17.9ms inference, 1.2ms postprocess per image at shape (1, 3, 1088, 1920)\n",
      "\n",
      "0: 1088x1920 23 players, 17.9ms\n",
      "Speed: 7.1ms preprocess, 17.9ms inference, 1.2ms postprocess per image at shape (1, 3, 1088, 1920)\n"
     ]
    },
    {
     "name": "stdout",
     "output_type": "stream",
     "text": [
      "596\n",
      "597\n"
     ]
    },
    {
     "name": "stderr",
     "output_type": "stream",
     "text": [
      "\n",
      "0: 1088x1920 23 players, 17.9ms\n",
      "Speed: 7.4ms preprocess, 17.9ms inference, 1.2ms postprocess per image at shape (1, 3, 1088, 1920)\n",
      "\n",
      "0: 1088x1920 23 players, 17.9ms\n",
      "Speed: 7.8ms preprocess, 17.9ms inference, 1.2ms postprocess per image at shape (1, 3, 1088, 1920)\n"
     ]
    },
    {
     "name": "stdout",
     "output_type": "stream",
     "text": [
      "598\n",
      "599\n"
     ]
    },
    {
     "name": "stderr",
     "output_type": "stream",
     "text": [
      "\n",
      "0: 1088x1920 1 ball, 23 players, 17.9ms\n",
      "Speed: 7.5ms preprocess, 17.9ms inference, 1.2ms postprocess per image at shape (1, 3, 1088, 1920)\n",
      "\n",
      "0: 1088x1920 1 ball, 23 players, 17.9ms\n",
      "Speed: 7.6ms preprocess, 17.9ms inference, 1.2ms postprocess per image at shape (1, 3, 1088, 1920)\n"
     ]
    },
    {
     "name": "stdout",
     "output_type": "stream",
     "text": [
      "600\n",
      "601\n"
     ]
    },
    {
     "name": "stderr",
     "output_type": "stream",
     "text": [
      "\n",
      "0: 1088x1920 1 ball, 23 players, 17.9ms\n",
      "Speed: 6.9ms preprocess, 17.9ms inference, 1.2ms postprocess per image at shape (1, 3, 1088, 1920)\n",
      "\n",
      "0: 1088x1920 1 ball, 23 players, 17.9ms\n",
      "Speed: 7.2ms preprocess, 17.9ms inference, 1.2ms postprocess per image at shape (1, 3, 1088, 1920)\n"
     ]
    },
    {
     "name": "stdout",
     "output_type": "stream",
     "text": [
      "602\n",
      "603\n"
     ]
    },
    {
     "name": "stderr",
     "output_type": "stream",
     "text": [
      "\n",
      "0: 1088x1920 1 ball, 23 players, 17.9ms\n",
      "Speed: 7.1ms preprocess, 17.9ms inference, 1.2ms postprocess per image at shape (1, 3, 1088, 1920)\n",
      "\n",
      "0: 1088x1920 1 ball, 23 players, 17.9ms\n",
      "Speed: 7.4ms preprocess, 17.9ms inference, 1.2ms postprocess per image at shape (1, 3, 1088, 1920)\n"
     ]
    },
    {
     "name": "stdout",
     "output_type": "stream",
     "text": [
      "604\n",
      "605\n"
     ]
    },
    {
     "name": "stderr",
     "output_type": "stream",
     "text": [
      "\n",
      "0: 1088x1920 1 ball, 22 players, 17.9ms\n",
      "Speed: 7.0ms preprocess, 17.9ms inference, 1.2ms postprocess per image at shape (1, 3, 1088, 1920)\n",
      "\n",
      "0: 1088x1920 1 ball, 23 players, 17.9ms\n",
      "Speed: 7.2ms preprocess, 17.9ms inference, 1.2ms postprocess per image at shape (1, 3, 1088, 1920)\n"
     ]
    },
    {
     "name": "stdout",
     "output_type": "stream",
     "text": [
      "606\n",
      "607\n"
     ]
    },
    {
     "name": "stderr",
     "output_type": "stream",
     "text": [
      "\n",
      "0: 1088x1920 1 ball, 23 players, 17.9ms\n",
      "Speed: 7.3ms preprocess, 17.9ms inference, 1.1ms postprocess per image at shape (1, 3, 1088, 1920)\n",
      "\n",
      "0: 1088x1920 1 ball, 22 players, 17.9ms\n",
      "Speed: 7.4ms preprocess, 17.9ms inference, 1.2ms postprocess per image at shape (1, 3, 1088, 1920)\n"
     ]
    },
    {
     "name": "stdout",
     "output_type": "stream",
     "text": [
      "608\n",
      "609\n"
     ]
    },
    {
     "name": "stderr",
     "output_type": "stream",
     "text": [
      "\n",
      "0: 1088x1920 1 ball, 23 players, 17.9ms\n",
      "Speed: 7.6ms preprocess, 17.9ms inference, 1.2ms postprocess per image at shape (1, 3, 1088, 1920)\n",
      "\n",
      "0: 1088x1920 1 ball, 22 players, 17.9ms\n",
      "Speed: 7.3ms preprocess, 17.9ms inference, 1.2ms postprocess per image at shape (1, 3, 1088, 1920)\n"
     ]
    },
    {
     "name": "stdout",
     "output_type": "stream",
     "text": [
      "610\n",
      "611\n"
     ]
    },
    {
     "name": "stderr",
     "output_type": "stream",
     "text": [
      "\n",
      "0: 1088x1920 1 ball, 22 players, 17.9ms\n",
      "Speed: 7.1ms preprocess, 17.9ms inference, 1.2ms postprocess per image at shape (1, 3, 1088, 1920)\n",
      "\n",
      "0: 1088x1920 1 ball, 22 players, 17.9ms\n",
      "Speed: 7.2ms preprocess, 17.9ms inference, 1.2ms postprocess per image at shape (1, 3, 1088, 1920)\n"
     ]
    },
    {
     "name": "stdout",
     "output_type": "stream",
     "text": [
      "612\n",
      "613\n"
     ]
    },
    {
     "name": "stderr",
     "output_type": "stream",
     "text": [
      "\n",
      "0: 1088x1920 1 ball, 23 players, 17.9ms\n",
      "Speed: 7.2ms preprocess, 17.9ms inference, 1.2ms postprocess per image at shape (1, 3, 1088, 1920)\n",
      "\n",
      "0: 1088x1920 1 ball, 23 players, 17.9ms\n",
      "Speed: 7.3ms preprocess, 17.9ms inference, 1.2ms postprocess per image at shape (1, 3, 1088, 1920)\n"
     ]
    },
    {
     "name": "stdout",
     "output_type": "stream",
     "text": [
      "614\n",
      "615\n"
     ]
    },
    {
     "name": "stderr",
     "output_type": "stream",
     "text": [
      "\n",
      "0: 1088x1920 1 ball, 23 players, 17.9ms\n",
      "Speed: 7.8ms preprocess, 17.9ms inference, 1.2ms postprocess per image at shape (1, 3, 1088, 1920)\n",
      "\n",
      "0: 1088x1920 1 ball, 23 players, 17.9ms\n",
      "Speed: 7.6ms preprocess, 17.9ms inference, 1.3ms postprocess per image at shape (1, 3, 1088, 1920)\n"
     ]
    },
    {
     "name": "stdout",
     "output_type": "stream",
     "text": [
      "616\n",
      "617\n"
     ]
    },
    {
     "name": "stderr",
     "output_type": "stream",
     "text": [
      "\n",
      "0: 1088x1920 1 ball, 23 players, 17.9ms\n",
      "Speed: 7.6ms preprocess, 17.9ms inference, 1.2ms postprocess per image at shape (1, 3, 1088, 1920)\n",
      "\n",
      "0: 1088x1920 1 ball, 23 players, 17.9ms\n",
      "Speed: 7.3ms preprocess, 17.9ms inference, 1.2ms postprocess per image at shape (1, 3, 1088, 1920)\n"
     ]
    },
    {
     "name": "stdout",
     "output_type": "stream",
     "text": [
      "618\n",
      "619\n"
     ]
    },
    {
     "name": "stderr",
     "output_type": "stream",
     "text": [
      "\n",
      "0: 1088x1920 1 ball, 23 players, 17.9ms\n",
      "Speed: 7.7ms preprocess, 17.9ms inference, 1.2ms postprocess per image at shape (1, 3, 1088, 1920)\n",
      "\n",
      "0: 1088x1920 1 ball, 23 players, 17.9ms\n",
      "Speed: 7.2ms preprocess, 17.9ms inference, 1.2ms postprocess per image at shape (1, 3, 1088, 1920)\n"
     ]
    },
    {
     "name": "stdout",
     "output_type": "stream",
     "text": [
      "620\n",
      "621\n"
     ]
    },
    {
     "name": "stderr",
     "output_type": "stream",
     "text": [
      "\n",
      "0: 1088x1920 1 ball, 23 players, 17.9ms\n",
      "Speed: 7.2ms preprocess, 17.9ms inference, 1.2ms postprocess per image at shape (1, 3, 1088, 1920)\n",
      "\n",
      "0: 1088x1920 1 ball, 22 players, 17.9ms\n",
      "Speed: 7.4ms preprocess, 17.9ms inference, 1.2ms postprocess per image at shape (1, 3, 1088, 1920)\n"
     ]
    },
    {
     "name": "stdout",
     "output_type": "stream",
     "text": [
      "622\n",
      "623\n"
     ]
    },
    {
     "name": "stderr",
     "output_type": "stream",
     "text": [
      "\n",
      "0: 1088x1920 1 ball, 22 players, 17.9ms\n",
      "Speed: 7.2ms preprocess, 17.9ms inference, 1.2ms postprocess per image at shape (1, 3, 1088, 1920)\n",
      "\n",
      "0: 1088x1920 1 ball, 22 players, 17.9ms\n",
      "Speed: 7.2ms preprocess, 17.9ms inference, 1.2ms postprocess per image at shape (1, 3, 1088, 1920)\n"
     ]
    },
    {
     "name": "stdout",
     "output_type": "stream",
     "text": [
      "624\n",
      "625\n"
     ]
    },
    {
     "name": "stderr",
     "output_type": "stream",
     "text": [
      "\n",
      "0: 1088x1920 1 ball, 22 players, 17.9ms\n",
      "Speed: 7.5ms preprocess, 17.9ms inference, 1.2ms postprocess per image at shape (1, 3, 1088, 1920)\n",
      "\n",
      "0: 1088x1920 1 ball, 23 players, 17.9ms\n",
      "Speed: 7.2ms preprocess, 17.9ms inference, 1.2ms postprocess per image at shape (1, 3, 1088, 1920)\n"
     ]
    },
    {
     "name": "stdout",
     "output_type": "stream",
     "text": [
      "626\n",
      "627\n"
     ]
    },
    {
     "name": "stderr",
     "output_type": "stream",
     "text": [
      "\n",
      "0: 1088x1920 1 ball, 23 players, 18.0ms\n",
      "Speed: 9.0ms preprocess, 18.0ms inference, 1.2ms postprocess per image at shape (1, 3, 1088, 1920)\n",
      "\n",
      "0: 1088x1920 1 ball, 22 players, 17.9ms\n",
      "Speed: 7.2ms preprocess, 17.9ms inference, 1.2ms postprocess per image at shape (1, 3, 1088, 1920)\n"
     ]
    },
    {
     "name": "stdout",
     "output_type": "stream",
     "text": [
      "628\n",
      "629\n"
     ]
    },
    {
     "name": "stderr",
     "output_type": "stream",
     "text": [
      "\n",
      "0: 1088x1920 1 ball, 23 players, 17.9ms\n",
      "Speed: 7.1ms preprocess, 17.9ms inference, 1.2ms postprocess per image at shape (1, 3, 1088, 1920)\n",
      "\n",
      "0: 1088x1920 1 ball, 22 players, 17.9ms\n",
      "Speed: 7.1ms preprocess, 17.9ms inference, 1.1ms postprocess per image at shape (1, 3, 1088, 1920)\n"
     ]
    },
    {
     "name": "stdout",
     "output_type": "stream",
     "text": [
      "630\n",
      "631\n"
     ]
    },
    {
     "name": "stderr",
     "output_type": "stream",
     "text": [
      "\n",
      "0: 1088x1920 22 players, 17.9ms\n",
      "Speed: 7.6ms preprocess, 17.9ms inference, 1.2ms postprocess per image at shape (1, 3, 1088, 1920)\n",
      "\n",
      "0: 1088x1920 22 players, 17.9ms\n",
      "Speed: 7.2ms preprocess, 17.9ms inference, 1.2ms postprocess per image at shape (1, 3, 1088, 1920)\n"
     ]
    },
    {
     "name": "stdout",
     "output_type": "stream",
     "text": [
      "632\n",
      "633\n"
     ]
    },
    {
     "name": "stderr",
     "output_type": "stream",
     "text": [
      "\n",
      "0: 1088x1920 1 ball, 22 players, 17.9ms\n",
      "Speed: 7.0ms preprocess, 17.9ms inference, 1.2ms postprocess per image at shape (1, 3, 1088, 1920)\n",
      "\n",
      "0: 1088x1920 1 ball, 22 players, 17.9ms\n",
      "Speed: 7.0ms preprocess, 17.9ms inference, 1.2ms postprocess per image at shape (1, 3, 1088, 1920)\n"
     ]
    },
    {
     "name": "stdout",
     "output_type": "stream",
     "text": [
      "634\n",
      "635\n"
     ]
    },
    {
     "name": "stderr",
     "output_type": "stream",
     "text": [
      "\n",
      "0: 1088x1920 1 ball, 22 players, 17.9ms\n",
      "Speed: 7.4ms preprocess, 17.9ms inference, 1.1ms postprocess per image at shape (1, 3, 1088, 1920)\n",
      "\n",
      "0: 1088x1920 1 ball, 22 players, 17.9ms\n",
      "Speed: 7.3ms preprocess, 17.9ms inference, 1.2ms postprocess per image at shape (1, 3, 1088, 1920)\n"
     ]
    },
    {
     "name": "stdout",
     "output_type": "stream",
     "text": [
      "636\n",
      "637\n"
     ]
    },
    {
     "name": "stderr",
     "output_type": "stream",
     "text": [
      "\n",
      "0: 1088x1920 1 ball, 22 players, 17.9ms\n",
      "Speed: 7.6ms preprocess, 17.9ms inference, 1.3ms postprocess per image at shape (1, 3, 1088, 1920)\n",
      "\n",
      "0: 1088x1920 1 ball, 22 players, 17.9ms\n",
      "Speed: 7.1ms preprocess, 17.9ms inference, 1.2ms postprocess per image at shape (1, 3, 1088, 1920)\n"
     ]
    },
    {
     "name": "stdout",
     "output_type": "stream",
     "text": [
      "638\n",
      "639\n"
     ]
    },
    {
     "name": "stderr",
     "output_type": "stream",
     "text": [
      "\n",
      "0: 1088x1920 1 ball, 22 players, 17.9ms\n",
      "Speed: 7.6ms preprocess, 17.9ms inference, 1.2ms postprocess per image at shape (1, 3, 1088, 1920)\n",
      "\n",
      "0: 1088x1920 1 ball, 22 players, 17.9ms\n",
      "Speed: 7.3ms preprocess, 17.9ms inference, 1.2ms postprocess per image at shape (1, 3, 1088, 1920)\n"
     ]
    },
    {
     "name": "stdout",
     "output_type": "stream",
     "text": [
      "640\n",
      "641\n"
     ]
    },
    {
     "name": "stderr",
     "output_type": "stream",
     "text": [
      "\n",
      "0: 1088x1920 1 ball, 22 players, 17.9ms\n",
      "Speed: 8.2ms preprocess, 17.9ms inference, 1.3ms postprocess per image at shape (1, 3, 1088, 1920)\n",
      "\n",
      "0: 1088x1920 1 ball, 22 players, 17.9ms\n",
      "Speed: 7.5ms preprocess, 17.9ms inference, 1.2ms postprocess per image at shape (1, 3, 1088, 1920)\n"
     ]
    },
    {
     "name": "stdout",
     "output_type": "stream",
     "text": [
      "642\n",
      "643\n"
     ]
    },
    {
     "name": "stderr",
     "output_type": "stream",
     "text": [
      "\n",
      "0: 1088x1920 1 ball, 22 players, 17.9ms\n",
      "Speed: 7.3ms preprocess, 17.9ms inference, 1.2ms postprocess per image at shape (1, 3, 1088, 1920)\n",
      "\n",
      "0: 1088x1920 1 ball, 22 players, 17.9ms\n",
      "Speed: 7.4ms preprocess, 17.9ms inference, 1.2ms postprocess per image at shape (1, 3, 1088, 1920)\n"
     ]
    },
    {
     "name": "stdout",
     "output_type": "stream",
     "text": [
      "644\n",
      "645\n"
     ]
    },
    {
     "name": "stderr",
     "output_type": "stream",
     "text": [
      "\n",
      "0: 1088x1920 1 ball, 22 players, 17.9ms\n",
      "Speed: 7.0ms preprocess, 17.9ms inference, 1.2ms postprocess per image at shape (1, 3, 1088, 1920)\n",
      "\n",
      "0: 1088x1920 1 ball, 22 players, 17.9ms\n",
      "Speed: 7.0ms preprocess, 17.9ms inference, 1.2ms postprocess per image at shape (1, 3, 1088, 1920)\n"
     ]
    },
    {
     "name": "stdout",
     "output_type": "stream",
     "text": [
      "646\n",
      "647\n"
     ]
    },
    {
     "name": "stderr",
     "output_type": "stream",
     "text": [
      "\n",
      "0: 1088x1920 1 ball, 23 players, 17.9ms\n",
      "Speed: 7.1ms preprocess, 17.9ms inference, 1.1ms postprocess per image at shape (1, 3, 1088, 1920)\n",
      "\n",
      "0: 1088x1920 1 ball, 23 players, 17.9ms\n",
      "Speed: 7.6ms preprocess, 17.9ms inference, 1.2ms postprocess per image at shape (1, 3, 1088, 1920)\n"
     ]
    },
    {
     "name": "stdout",
     "output_type": "stream",
     "text": [
      "648\n",
      "649\n"
     ]
    },
    {
     "name": "stderr",
     "output_type": "stream",
     "text": [
      "\n",
      "0: 1088x1920 1 ball, 23 players, 17.9ms\n",
      "Speed: 7.2ms preprocess, 17.9ms inference, 1.2ms postprocess per image at shape (1, 3, 1088, 1920)\n",
      "\n",
      "0: 1088x1920 1 ball, 23 players, 17.9ms\n",
      "Speed: 7.5ms preprocess, 17.9ms inference, 1.2ms postprocess per image at shape (1, 3, 1088, 1920)\n"
     ]
    },
    {
     "name": "stdout",
     "output_type": "stream",
     "text": [
      "650\n",
      "651\n"
     ]
    },
    {
     "name": "stderr",
     "output_type": "stream",
     "text": [
      "\n",
      "0: 1088x1920 1 ball, 23 players, 17.9ms\n",
      "Speed: 7.5ms preprocess, 17.9ms inference, 1.2ms postprocess per image at shape (1, 3, 1088, 1920)\n",
      "\n",
      "0: 1088x1920 1 ball, 23 players, 17.9ms\n",
      "Speed: 7.1ms preprocess, 17.9ms inference, 1.2ms postprocess per image at shape (1, 3, 1088, 1920)\n"
     ]
    },
    {
     "name": "stdout",
     "output_type": "stream",
     "text": [
      "652\n",
      "653\n"
     ]
    },
    {
     "name": "stderr",
     "output_type": "stream",
     "text": [
      "\n",
      "0: 1088x1920 1 ball, 23 players, 17.9ms\n",
      "Speed: 7.4ms preprocess, 17.9ms inference, 1.2ms postprocess per image at shape (1, 3, 1088, 1920)\n",
      "\n",
      "0: 1088x1920 1 ball, 23 players, 17.9ms\n",
      "Speed: 7.8ms preprocess, 17.9ms inference, 1.2ms postprocess per image at shape (1, 3, 1088, 1920)\n"
     ]
    },
    {
     "name": "stdout",
     "output_type": "stream",
     "text": [
      "654\n",
      "655\n"
     ]
    },
    {
     "name": "stderr",
     "output_type": "stream",
     "text": [
      "\n",
      "0: 1088x1920 1 ball, 23 players, 17.9ms\n",
      "Speed: 7.4ms preprocess, 17.9ms inference, 1.2ms postprocess per image at shape (1, 3, 1088, 1920)\n",
      "\n",
      "0: 1088x1920 1 ball, 23 players, 17.9ms\n",
      "Speed: 7.1ms preprocess, 17.9ms inference, 1.2ms postprocess per image at shape (1, 3, 1088, 1920)\n"
     ]
    },
    {
     "name": "stdout",
     "output_type": "stream",
     "text": [
      "656\n",
      "657\n"
     ]
    },
    {
     "name": "stderr",
     "output_type": "stream",
     "text": [
      "\n",
      "0: 1088x1920 1 ball, 23 players, 17.9ms\n",
      "Speed: 7.3ms preprocess, 17.9ms inference, 1.3ms postprocess per image at shape (1, 3, 1088, 1920)\n",
      "\n",
      "0: 1088x1920 1 ball, 23 players, 17.9ms\n",
      "Speed: 7.3ms preprocess, 17.9ms inference, 1.2ms postprocess per image at shape (1, 3, 1088, 1920)\n"
     ]
    },
    {
     "name": "stdout",
     "output_type": "stream",
     "text": [
      "658\n",
      "659\n"
     ]
    },
    {
     "name": "stderr",
     "output_type": "stream",
     "text": [
      "\n",
      "0: 1088x1920 1 ball, 23 players, 17.9ms\n",
      "Speed: 7.3ms preprocess, 17.9ms inference, 1.1ms postprocess per image at shape (1, 3, 1088, 1920)\n",
      "\n",
      "0: 1088x1920 1 ball, 23 players, 17.9ms\n",
      "Speed: 7.6ms preprocess, 17.9ms inference, 1.2ms postprocess per image at shape (1, 3, 1088, 1920)\n"
     ]
    },
    {
     "name": "stdout",
     "output_type": "stream",
     "text": [
      "660\n",
      "661\n"
     ]
    },
    {
     "name": "stderr",
     "output_type": "stream",
     "text": [
      "\n",
      "0: 1088x1920 1 ball, 23 players, 17.9ms\n",
      "Speed: 7.4ms preprocess, 17.9ms inference, 1.2ms postprocess per image at shape (1, 3, 1088, 1920)\n",
      "\n",
      "0: 1088x1920 1 ball, 23 players, 17.9ms\n",
      "Speed: 7.3ms preprocess, 17.9ms inference, 1.1ms postprocess per image at shape (1, 3, 1088, 1920)\n"
     ]
    },
    {
     "name": "stdout",
     "output_type": "stream",
     "text": [
      "662\n",
      "663\n"
     ]
    },
    {
     "name": "stderr",
     "output_type": "stream",
     "text": [
      "\n",
      "0: 1088x1920 1 ball, 23 players, 17.9ms\n",
      "Speed: 7.1ms preprocess, 17.9ms inference, 1.2ms postprocess per image at shape (1, 3, 1088, 1920)\n",
      "\n",
      "0: 1088x1920 1 ball, 23 players, 17.9ms\n",
      "Speed: 7.1ms preprocess, 17.9ms inference, 1.2ms postprocess per image at shape (1, 3, 1088, 1920)\n"
     ]
    },
    {
     "name": "stdout",
     "output_type": "stream",
     "text": [
      "664\n",
      "665\n"
     ]
    },
    {
     "name": "stderr",
     "output_type": "stream",
     "text": [
      "\n",
      "0: 1088x1920 1 ball, 23 players, 17.9ms\n",
      "Speed: 7.0ms preprocess, 17.9ms inference, 1.2ms postprocess per image at shape (1, 3, 1088, 1920)\n",
      "\n",
      "0: 1088x1920 1 ball, 23 players, 17.9ms\n",
      "Speed: 7.4ms preprocess, 17.9ms inference, 1.2ms postprocess per image at shape (1, 3, 1088, 1920)\n"
     ]
    },
    {
     "name": "stdout",
     "output_type": "stream",
     "text": [
      "666\n",
      "667\n"
     ]
    },
    {
     "name": "stderr",
     "output_type": "stream",
     "text": [
      "\n",
      "0: 1088x1920 1 ball, 23 players, 17.9ms\n",
      "Speed: 7.1ms preprocess, 17.9ms inference, 1.1ms postprocess per image at shape (1, 3, 1088, 1920)\n",
      "\n",
      "0: 1088x1920 1 ball, 23 players, 17.9ms\n",
      "Speed: 7.4ms preprocess, 17.9ms inference, 1.2ms postprocess per image at shape (1, 3, 1088, 1920)\n"
     ]
    },
    {
     "name": "stdout",
     "output_type": "stream",
     "text": [
      "668\n",
      "669\n"
     ]
    },
    {
     "name": "stderr",
     "output_type": "stream",
     "text": [
      "\n",
      "0: 1088x1920 1 ball, 23 players, 17.9ms\n",
      "Speed: 7.2ms preprocess, 17.9ms inference, 1.2ms postprocess per image at shape (1, 3, 1088, 1920)\n",
      "\n",
      "0: 1088x1920 1 ball, 23 players, 17.9ms\n",
      "Speed: 7.4ms preprocess, 17.9ms inference, 1.2ms postprocess per image at shape (1, 3, 1088, 1920)\n"
     ]
    },
    {
     "name": "stdout",
     "output_type": "stream",
     "text": [
      "670\n",
      "671\n"
     ]
    },
    {
     "name": "stderr",
     "output_type": "stream",
     "text": [
      "\n",
      "0: 1088x1920 1 ball, 23 players, 17.9ms\n",
      "Speed: 7.1ms preprocess, 17.9ms inference, 1.2ms postprocess per image at shape (1, 3, 1088, 1920)\n",
      "\n",
      "0: 1088x1920 1 ball, 22 players, 17.9ms\n",
      "Speed: 7.3ms preprocess, 17.9ms inference, 1.2ms postprocess per image at shape (1, 3, 1088, 1920)\n"
     ]
    },
    {
     "name": "stdout",
     "output_type": "stream",
     "text": [
      "672\n",
      "673\n"
     ]
    },
    {
     "name": "stderr",
     "output_type": "stream",
     "text": [
      "\n",
      "0: 1088x1920 1 ball, 22 players, 17.9ms\n",
      "Speed: 7.2ms preprocess, 17.9ms inference, 1.2ms postprocess per image at shape (1, 3, 1088, 1920)\n",
      "\n",
      "0: 1088x1920 1 ball, 22 players, 17.9ms\n",
      "Speed: 7.5ms preprocess, 17.9ms inference, 1.2ms postprocess per image at shape (1, 3, 1088, 1920)\n"
     ]
    },
    {
     "name": "stdout",
     "output_type": "stream",
     "text": [
      "674\n",
      "675\n"
     ]
    },
    {
     "name": "stderr",
     "output_type": "stream",
     "text": [
      "\n",
      "0: 1088x1920 1 ball, 22 players, 17.9ms\n",
      "Speed: 7.4ms preprocess, 17.9ms inference, 1.2ms postprocess per image at shape (1, 3, 1088, 1920)\n",
      "\n",
      "0: 1088x1920 1 ball, 22 players, 17.9ms\n",
      "Speed: 7.3ms preprocess, 17.9ms inference, 1.2ms postprocess per image at shape (1, 3, 1088, 1920)\n"
     ]
    },
    {
     "name": "stdout",
     "output_type": "stream",
     "text": [
      "676\n",
      "677\n"
     ]
    },
    {
     "name": "stderr",
     "output_type": "stream",
     "text": [
      "\n",
      "0: 1088x1920 1 ball, 22 players, 17.9ms\n",
      "Speed: 7.1ms preprocess, 17.9ms inference, 1.1ms postprocess per image at shape (1, 3, 1088, 1920)\n",
      "\n",
      "0: 1088x1920 1 ball, 22 players, 17.9ms\n",
      "Speed: 7.3ms preprocess, 17.9ms inference, 1.2ms postprocess per image at shape (1, 3, 1088, 1920)\n"
     ]
    },
    {
     "name": "stdout",
     "output_type": "stream",
     "text": [
      "678\n",
      "679\n"
     ]
    },
    {
     "name": "stderr",
     "output_type": "stream",
     "text": [
      "\n",
      "0: 1088x1920 1 ball, 22 players, 17.9ms\n",
      "Speed: 7.1ms preprocess, 17.9ms inference, 1.2ms postprocess per image at shape (1, 3, 1088, 1920)\n",
      "\n",
      "0: 1088x1920 1 ball, 22 players, 17.9ms\n",
      "Speed: 7.3ms preprocess, 17.9ms inference, 1.2ms postprocess per image at shape (1, 3, 1088, 1920)\n"
     ]
    },
    {
     "name": "stdout",
     "output_type": "stream",
     "text": [
      "680\n",
      "681\n"
     ]
    },
    {
     "name": "stderr",
     "output_type": "stream",
     "text": [
      "\n",
      "0: 1088x1920 1 ball, 22 players, 17.9ms\n",
      "Speed: 7.1ms preprocess, 17.9ms inference, 1.2ms postprocess per image at shape (1, 3, 1088, 1920)\n",
      "\n",
      "0: 1088x1920 1 ball, 22 players, 17.9ms\n",
      "Speed: 7.1ms preprocess, 17.9ms inference, 1.2ms postprocess per image at shape (1, 3, 1088, 1920)\n"
     ]
    },
    {
     "name": "stdout",
     "output_type": "stream",
     "text": [
      "682\n",
      "683\n"
     ]
    },
    {
     "name": "stderr",
     "output_type": "stream",
     "text": [
      "\n",
      "0: 1088x1920 22 players, 17.9ms\n",
      "Speed: 7.2ms preprocess, 17.9ms inference, 1.3ms postprocess per image at shape (1, 3, 1088, 1920)\n",
      "\n",
      "0: 1088x1920 22 players, 17.9ms\n",
      "Speed: 7.1ms preprocess, 17.9ms inference, 1.2ms postprocess per image at shape (1, 3, 1088, 1920)\n"
     ]
    },
    {
     "name": "stdout",
     "output_type": "stream",
     "text": [
      "684\n",
      "685\n"
     ]
    },
    {
     "name": "stderr",
     "output_type": "stream",
     "text": [
      "\n",
      "0: 1088x1920 22 players, 17.9ms\n",
      "Speed: 8.0ms preprocess, 17.9ms inference, 1.2ms postprocess per image at shape (1, 3, 1088, 1920)\n",
      "\n",
      "0: 1088x1920 21 players, 17.9ms\n",
      "Speed: 9.3ms preprocess, 17.9ms inference, 1.2ms postprocess per image at shape (1, 3, 1088, 1920)\n"
     ]
    },
    {
     "name": "stdout",
     "output_type": "stream",
     "text": [
      "686\n",
      "687\n"
     ]
    },
    {
     "name": "stderr",
     "output_type": "stream",
     "text": [
      "\n",
      "0: 1088x1920 21 players, 17.9ms\n",
      "Speed: 7.3ms preprocess, 17.9ms inference, 1.2ms postprocess per image at shape (1, 3, 1088, 1920)\n",
      "\n",
      "0: 1088x1920 21 players, 17.9ms\n",
      "Speed: 7.3ms preprocess, 17.9ms inference, 1.2ms postprocess per image at shape (1, 3, 1088, 1920)\n"
     ]
    },
    {
     "name": "stdout",
     "output_type": "stream",
     "text": [
      "688\n",
      "689\n"
     ]
    },
    {
     "name": "stderr",
     "output_type": "stream",
     "text": [
      "\n",
      "0: 1088x1920 22 players, 17.9ms\n",
      "Speed: 7.4ms preprocess, 17.9ms inference, 1.1ms postprocess per image at shape (1, 3, 1088, 1920)\n",
      "\n",
      "0: 1088x1920 21 players, 17.9ms\n",
      "Speed: 8.2ms preprocess, 17.9ms inference, 1.2ms postprocess per image at shape (1, 3, 1088, 1920)\n"
     ]
    },
    {
     "name": "stdout",
     "output_type": "stream",
     "text": [
      "690\n",
      "691\n"
     ]
    },
    {
     "name": "stderr",
     "output_type": "stream",
     "text": [
      "\n",
      "0: 1088x1920 22 players, 17.9ms\n",
      "Speed: 7.3ms preprocess, 17.9ms inference, 1.2ms postprocess per image at shape (1, 3, 1088, 1920)\n",
      "\n",
      "0: 1088x1920 22 players, 17.9ms\n",
      "Speed: 7.3ms preprocess, 17.9ms inference, 1.2ms postprocess per image at shape (1, 3, 1088, 1920)\n"
     ]
    },
    {
     "name": "stdout",
     "output_type": "stream",
     "text": [
      "692\n",
      "693\n"
     ]
    },
    {
     "name": "stderr",
     "output_type": "stream",
     "text": [
      "\n",
      "0: 1088x1920 22 players, 17.9ms\n",
      "Speed: 7.4ms preprocess, 17.9ms inference, 1.2ms postprocess per image at shape (1, 3, 1088, 1920)\n",
      "\n",
      "0: 1088x1920 21 players, 17.9ms\n",
      "Speed: 7.3ms preprocess, 17.9ms inference, 1.2ms postprocess per image at shape (1, 3, 1088, 1920)\n"
     ]
    },
    {
     "name": "stdout",
     "output_type": "stream",
     "text": [
      "694\n",
      "695\n"
     ]
    },
    {
     "name": "stderr",
     "output_type": "stream",
     "text": [
      "\n",
      "0: 1088x1920 22 players, 17.9ms\n",
      "Speed: 7.2ms preprocess, 17.9ms inference, 1.1ms postprocess per image at shape (1, 3, 1088, 1920)\n",
      "\n",
      "0: 1088x1920 22 players, 17.9ms\n",
      "Speed: 7.3ms preprocess, 17.9ms inference, 1.2ms postprocess per image at shape (1, 3, 1088, 1920)\n"
     ]
    },
    {
     "name": "stdout",
     "output_type": "stream",
     "text": [
      "696\n",
      "697\n"
     ]
    },
    {
     "name": "stderr",
     "output_type": "stream",
     "text": [
      "\n",
      "0: 1088x1920 22 players, 17.9ms\n",
      "Speed: 7.3ms preprocess, 17.9ms inference, 1.2ms postprocess per image at shape (1, 3, 1088, 1920)\n",
      "\n",
      "0: 1088x1920 22 players, 17.9ms\n",
      "Speed: 7.2ms preprocess, 17.9ms inference, 1.2ms postprocess per image at shape (1, 3, 1088, 1920)\n"
     ]
    },
    {
     "name": "stdout",
     "output_type": "stream",
     "text": [
      "698\n",
      "699\n"
     ]
    },
    {
     "name": "stderr",
     "output_type": "stream",
     "text": [
      "\n",
      "0: 1088x1920 22 players, 17.9ms\n",
      "Speed: 7.4ms preprocess, 17.9ms inference, 1.2ms postprocess per image at shape (1, 3, 1088, 1920)\n",
      "\n",
      "0: 1088x1920 22 players, 17.9ms\n",
      "Speed: 7.6ms preprocess, 17.9ms inference, 1.2ms postprocess per image at shape (1, 3, 1088, 1920)\n"
     ]
    },
    {
     "name": "stdout",
     "output_type": "stream",
     "text": [
      "700\n",
      "701\n"
     ]
    },
    {
     "name": "stderr",
     "output_type": "stream",
     "text": [
      "\n",
      "0: 1088x1920 22 players, 17.9ms\n",
      "Speed: 7.1ms preprocess, 17.9ms inference, 1.2ms postprocess per image at shape (1, 3, 1088, 1920)\n",
      "\n",
      "0: 1088x1920 21 players, 18.0ms\n",
      "Speed: 7.7ms preprocess, 18.0ms inference, 1.2ms postprocess per image at shape (1, 3, 1088, 1920)\n"
     ]
    },
    {
     "name": "stdout",
     "output_type": "stream",
     "text": [
      "702\n",
      "703\n"
     ]
    },
    {
     "name": "stderr",
     "output_type": "stream",
     "text": [
      "\n",
      "0: 1088x1920 22 players, 17.9ms\n",
      "Speed: 7.7ms preprocess, 17.9ms inference, 1.2ms postprocess per image at shape (1, 3, 1088, 1920)\n",
      "\n",
      "0: 1088x1920 22 players, 17.9ms\n",
      "Speed: 7.5ms preprocess, 17.9ms inference, 1.2ms postprocess per image at shape (1, 3, 1088, 1920)\n"
     ]
    },
    {
     "name": "stdout",
     "output_type": "stream",
     "text": [
      "704\n",
      "705\n"
     ]
    },
    {
     "name": "stderr",
     "output_type": "stream",
     "text": [
      "\n",
      "0: 1088x1920 23 players, 17.9ms\n",
      "Speed: 7.1ms preprocess, 17.9ms inference, 1.2ms postprocess per image at shape (1, 3, 1088, 1920)\n",
      "\n",
      "0: 1088x1920 23 players, 17.9ms\n",
      "Speed: 7.4ms preprocess, 17.9ms inference, 1.2ms postprocess per image at shape (1, 3, 1088, 1920)\n"
     ]
    },
    {
     "name": "stdout",
     "output_type": "stream",
     "text": [
      "706\n",
      "707\n"
     ]
    },
    {
     "name": "stderr",
     "output_type": "stream",
     "text": [
      "\n",
      "0: 1088x1920 21 players, 17.9ms\n",
      "Speed: 7.5ms preprocess, 17.9ms inference, 1.2ms postprocess per image at shape (1, 3, 1088, 1920)\n",
      "\n",
      "0: 1088x1920 23 players, 17.9ms\n",
      "Speed: 7.6ms preprocess, 17.9ms inference, 1.2ms postprocess per image at shape (1, 3, 1088, 1920)\n"
     ]
    },
    {
     "name": "stdout",
     "output_type": "stream",
     "text": [
      "708\n",
      "709\n"
     ]
    },
    {
     "name": "stderr",
     "output_type": "stream",
     "text": [
      "\n",
      "0: 1088x1920 23 players, 17.9ms\n",
      "Speed: 7.1ms preprocess, 17.9ms inference, 1.2ms postprocess per image at shape (1, 3, 1088, 1920)\n",
      "\n",
      "0: 1088x1920 22 players, 17.9ms\n",
      "Speed: 7.3ms preprocess, 17.9ms inference, 1.2ms postprocess per image at shape (1, 3, 1088, 1920)\n"
     ]
    },
    {
     "name": "stdout",
     "output_type": "stream",
     "text": [
      "710\n",
      "711\n"
     ]
    },
    {
     "name": "stderr",
     "output_type": "stream",
     "text": [
      "\n",
      "0: 1088x1920 22 players, 17.9ms\n",
      "Speed: 7.1ms preprocess, 17.9ms inference, 1.2ms postprocess per image at shape (1, 3, 1088, 1920)\n",
      "\n",
      "0: 1088x1920 23 players, 17.9ms\n",
      "Speed: 7.5ms preprocess, 17.9ms inference, 1.2ms postprocess per image at shape (1, 3, 1088, 1920)\n"
     ]
    },
    {
     "name": "stdout",
     "output_type": "stream",
     "text": [
      "712\n",
      "713\n"
     ]
    },
    {
     "name": "stderr",
     "output_type": "stream",
     "text": [
      "\n",
      "0: 1088x1920 1 ball, 23 players, 17.9ms\n",
      "Speed: 7.0ms preprocess, 17.9ms inference, 1.2ms postprocess per image at shape (1, 3, 1088, 1920)\n",
      "\n",
      "0: 1088x1920 1 ball, 23 players, 17.9ms\n",
      "Speed: 7.5ms preprocess, 17.9ms inference, 1.3ms postprocess per image at shape (1, 3, 1088, 1920)\n"
     ]
    },
    {
     "name": "stdout",
     "output_type": "stream",
     "text": [
      "714\n",
      "715\n"
     ]
    },
    {
     "name": "stderr",
     "output_type": "stream",
     "text": [
      "\n",
      "0: 1088x1920 1 ball, 23 players, 17.9ms\n",
      "Speed: 7.1ms preprocess, 17.9ms inference, 1.2ms postprocess per image at shape (1, 3, 1088, 1920)\n",
      "\n",
      "0: 1088x1920 1 ball, 24 players, 17.9ms\n",
      "Speed: 7.3ms preprocess, 17.9ms inference, 1.2ms postprocess per image at shape (1, 3, 1088, 1920)\n"
     ]
    },
    {
     "name": "stdout",
     "output_type": "stream",
     "text": [
      "716\n",
      "717\n"
     ]
    },
    {
     "name": "stderr",
     "output_type": "stream",
     "text": [
      "\n",
      "0: 1088x1920 1 ball, 24 players, 17.9ms\n",
      "Speed: 7.4ms preprocess, 17.9ms inference, 1.2ms postprocess per image at shape (1, 3, 1088, 1920)\n",
      "\n",
      "0: 1088x1920 1 ball, 24 players, 17.9ms\n",
      "Speed: 7.5ms preprocess, 17.9ms inference, 1.2ms postprocess per image at shape (1, 3, 1088, 1920)\n"
     ]
    },
    {
     "name": "stdout",
     "output_type": "stream",
     "text": [
      "718\n",
      "719\n"
     ]
    },
    {
     "name": "stderr",
     "output_type": "stream",
     "text": [
      "\n",
      "0: 1088x1920 1 ball, 24 players, 17.9ms\n",
      "Speed: 7.1ms preprocess, 17.9ms inference, 1.2ms postprocess per image at shape (1, 3, 1088, 1920)\n",
      "\n",
      "0: 1088x1920 1 ball, 24 players, 17.9ms\n",
      "Speed: 7.0ms preprocess, 17.9ms inference, 1.2ms postprocess per image at shape (1, 3, 1088, 1920)\n"
     ]
    },
    {
     "name": "stdout",
     "output_type": "stream",
     "text": [
      "720\n",
      "721\n"
     ]
    },
    {
     "name": "stderr",
     "output_type": "stream",
     "text": [
      "\n",
      "0: 1088x1920 1 ball, 24 players, 17.9ms\n",
      "Speed: 7.2ms preprocess, 17.9ms inference, 1.2ms postprocess per image at shape (1, 3, 1088, 1920)\n",
      "\n",
      "0: 1088x1920 1 ball, 23 players, 17.9ms\n",
      "Speed: 7.3ms preprocess, 17.9ms inference, 1.2ms postprocess per image at shape (1, 3, 1088, 1920)\n"
     ]
    },
    {
     "name": "stdout",
     "output_type": "stream",
     "text": [
      "722\n",
      "723\n"
     ]
    },
    {
     "name": "stderr",
     "output_type": "stream",
     "text": [
      "\n",
      "0: 1088x1920 1 ball, 23 players, 17.9ms\n",
      "Speed: 7.3ms preprocess, 17.9ms inference, 1.2ms postprocess per image at shape (1, 3, 1088, 1920)\n",
      "\n",
      "0: 1088x1920 1 ball, 23 players, 17.9ms\n",
      "Speed: 7.3ms preprocess, 17.9ms inference, 1.2ms postprocess per image at shape (1, 3, 1088, 1920)\n"
     ]
    },
    {
     "name": "stdout",
     "output_type": "stream",
     "text": [
      "724\n",
      "725\n"
     ]
    },
    {
     "name": "stderr",
     "output_type": "stream",
     "text": [
      "\n",
      "0: 1088x1920 1 ball, 23 players, 17.9ms\n",
      "Speed: 7.0ms preprocess, 17.9ms inference, 1.2ms postprocess per image at shape (1, 3, 1088, 1920)\n",
      "\n",
      "0: 1088x1920 1 ball, 23 players, 17.9ms\n",
      "Speed: 7.3ms preprocess, 17.9ms inference, 1.2ms postprocess per image at shape (1, 3, 1088, 1920)\n"
     ]
    },
    {
     "name": "stdout",
     "output_type": "stream",
     "text": [
      "726\n",
      "727\n"
     ]
    },
    {
     "name": "stderr",
     "output_type": "stream",
     "text": [
      "\n",
      "0: 1088x1920 1 ball, 22 players, 17.9ms\n",
      "Speed: 7.2ms preprocess, 17.9ms inference, 1.1ms postprocess per image at shape (1, 3, 1088, 1920)\n",
      "\n",
      "0: 1088x1920 1 ball, 23 players, 17.9ms\n",
      "Speed: 7.2ms preprocess, 17.9ms inference, 1.2ms postprocess per image at shape (1, 3, 1088, 1920)\n"
     ]
    },
    {
     "name": "stdout",
     "output_type": "stream",
     "text": [
      "728\n",
      "729\n"
     ]
    },
    {
     "name": "stderr",
     "output_type": "stream",
     "text": [
      "\n",
      "0: 1088x1920 1 ball, 24 players, 17.9ms\n",
      "Speed: 7.4ms preprocess, 17.9ms inference, 1.2ms postprocess per image at shape (1, 3, 1088, 1920)\n",
      "\n",
      "0: 1088x1920 1 ball, 23 players, 17.9ms\n",
      "Speed: 7.3ms preprocess, 17.9ms inference, 1.1ms postprocess per image at shape (1, 3, 1088, 1920)\n"
     ]
    },
    {
     "name": "stdout",
     "output_type": "stream",
     "text": [
      "730\n",
      "731\n"
     ]
    },
    {
     "name": "stderr",
     "output_type": "stream",
     "text": [
      "\n",
      "0: 1088x1920 1 ball, 24 players, 17.9ms\n",
      "Speed: 7.1ms preprocess, 17.9ms inference, 1.3ms postprocess per image at shape (1, 3, 1088, 1920)\n",
      "\n",
      "0: 1088x1920 1 ball, 24 players, 17.9ms\n",
      "Speed: 7.6ms preprocess, 17.9ms inference, 1.2ms postprocess per image at shape (1, 3, 1088, 1920)\n"
     ]
    },
    {
     "name": "stdout",
     "output_type": "stream",
     "text": [
      "732\n",
      "733\n"
     ]
    },
    {
     "name": "stderr",
     "output_type": "stream",
     "text": [
      "\n",
      "0: 1088x1920 1 ball, 24 players, 17.9ms\n",
      "Speed: 8.0ms preprocess, 17.9ms inference, 1.2ms postprocess per image at shape (1, 3, 1088, 1920)\n",
      "\n",
      "0: 1088x1920 1 ball, 24 players, 17.9ms\n",
      "Speed: 7.2ms preprocess, 17.9ms inference, 1.2ms postprocess per image at shape (1, 3, 1088, 1920)\n"
     ]
    },
    {
     "name": "stdout",
     "output_type": "stream",
     "text": [
      "734\n",
      "735\n"
     ]
    },
    {
     "name": "stderr",
     "output_type": "stream",
     "text": [
      "\n",
      "0: 1088x1920 1 ball, 23 players, 17.9ms\n",
      "Speed: 7.4ms preprocess, 17.9ms inference, 1.2ms postprocess per image at shape (1, 3, 1088, 1920)\n",
      "\n",
      "0: 1088x1920 1 ball, 23 players, 17.9ms\n",
      "Speed: 8.2ms preprocess, 17.9ms inference, 1.3ms postprocess per image at shape (1, 3, 1088, 1920)\n"
     ]
    },
    {
     "name": "stdout",
     "output_type": "stream",
     "text": [
      "736\n",
      "737\n"
     ]
    },
    {
     "name": "stderr",
     "output_type": "stream",
     "text": [
      "\n",
      "0: 1088x1920 1 ball, 23 players, 17.9ms\n",
      "Speed: 7.4ms preprocess, 17.9ms inference, 1.2ms postprocess per image at shape (1, 3, 1088, 1920)\n",
      "\n",
      "0: 1088x1920 1 ball, 23 players, 17.9ms\n",
      "Speed: 7.3ms preprocess, 17.9ms inference, 1.2ms postprocess per image at shape (1, 3, 1088, 1920)\n"
     ]
    },
    {
     "name": "stdout",
     "output_type": "stream",
     "text": [
      "738\n",
      "739\n"
     ]
    },
    {
     "name": "stderr",
     "output_type": "stream",
     "text": [
      "\n",
      "0: 1088x1920 1 ball, 23 players, 17.9ms\n",
      "Speed: 7.0ms preprocess, 17.9ms inference, 1.2ms postprocess per image at shape (1, 3, 1088, 1920)\n",
      "\n",
      "0: 1088x1920 1 ball, 23 players, 18.0ms\n",
      "Speed: 8.0ms preprocess, 18.0ms inference, 1.2ms postprocess per image at shape (1, 3, 1088, 1920)\n"
     ]
    },
    {
     "name": "stdout",
     "output_type": "stream",
     "text": [
      "740\n",
      "741\n"
     ]
    },
    {
     "name": "stderr",
     "output_type": "stream",
     "text": [
      "\n",
      "0: 1088x1920 23 players, 17.9ms\n",
      "Speed: 7.3ms preprocess, 17.9ms inference, 1.2ms postprocess per image at shape (1, 3, 1088, 1920)\n",
      "\n",
      "0: 1088x1920 24 players, 17.9ms\n",
      "Speed: 7.2ms preprocess, 17.9ms inference, 1.2ms postprocess per image at shape (1, 3, 1088, 1920)\n"
     ]
    },
    {
     "name": "stdout",
     "output_type": "stream",
     "text": [
      "742\n",
      "743\n"
     ]
    },
    {
     "name": "stderr",
     "output_type": "stream",
     "text": [
      "\n",
      "0: 1088x1920 23 players, 17.9ms\n",
      "Speed: 7.2ms preprocess, 17.9ms inference, 1.2ms postprocess per image at shape (1, 3, 1088, 1920)\n",
      "\n",
      "0: 1088x1920 24 players, 17.9ms\n",
      "Speed: 7.1ms preprocess, 17.9ms inference, 1.2ms postprocess per image at shape (1, 3, 1088, 1920)\n"
     ]
    },
    {
     "name": "stdout",
     "output_type": "stream",
     "text": [
      "744\n",
      "745\n"
     ]
    },
    {
     "name": "stderr",
     "output_type": "stream",
     "text": [
      "\n",
      "0: 1088x1920 1 ball, 24 players, 17.9ms\n",
      "Speed: 7.4ms preprocess, 17.9ms inference, 1.2ms postprocess per image at shape (1, 3, 1088, 1920)\n",
      "\n",
      "0: 1088x1920 24 players, 17.9ms\n",
      "Speed: 7.6ms preprocess, 17.9ms inference, 1.2ms postprocess per image at shape (1, 3, 1088, 1920)\n"
     ]
    },
    {
     "name": "stdout",
     "output_type": "stream",
     "text": [
      "746\n",
      "747\n"
     ]
    },
    {
     "name": "stderr",
     "output_type": "stream",
     "text": [
      "\n",
      "0: 1088x1920 23 players, 17.9ms\n",
      "Speed: 7.1ms preprocess, 17.9ms inference, 1.2ms postprocess per image at shape (1, 3, 1088, 1920)\n",
      "\n",
      "0: 1088x1920 24 players, 17.9ms\n",
      "Speed: 8.3ms preprocess, 17.9ms inference, 1.2ms postprocess per image at shape (1, 3, 1088, 1920)\n"
     ]
    },
    {
     "name": "stdout",
     "output_type": "stream",
     "text": [
      "748\n",
      "749\n"
     ]
    },
    {
     "name": "stderr",
     "output_type": "stream",
     "text": [
      "\n",
      "0: 1088x1920 24 players, 17.9ms\n",
      "Speed: 7.8ms preprocess, 17.9ms inference, 1.2ms postprocess per image at shape (1, 3, 1088, 1920)\n",
      "\n",
      "0: 1088x1920 24 players, 17.9ms\n",
      "Speed: 7.4ms preprocess, 17.9ms inference, 1.2ms postprocess per image at shape (1, 3, 1088, 1920)\n"
     ]
    },
    {
     "name": "stdout",
     "output_type": "stream",
     "text": [
      "750\n",
      "751\n"
     ]
    },
    {
     "name": "stderr",
     "output_type": "stream",
     "text": [
      "\n",
      "0: 1088x1920 24 players, 17.9ms\n",
      "Speed: 7.1ms preprocess, 17.9ms inference, 1.1ms postprocess per image at shape (1, 3, 1088, 1920)\n",
      "\n",
      "0: 1088x1920 24 players, 17.9ms\n",
      "Speed: 7.8ms preprocess, 17.9ms inference, 1.3ms postprocess per image at shape (1, 3, 1088, 1920)\n"
     ]
    },
    {
     "name": "stdout",
     "output_type": "stream",
     "text": [
      "752\n",
      "753\n"
     ]
    },
    {
     "name": "stderr",
     "output_type": "stream",
     "text": [
      "\n",
      "0: 1088x1920 23 players, 17.9ms\n",
      "Speed: 7.6ms preprocess, 17.9ms inference, 1.2ms postprocess per image at shape (1, 3, 1088, 1920)\n",
      "\n",
      "0: 1088x1920 23 players, 17.9ms\n",
      "Speed: 7.1ms preprocess, 17.9ms inference, 1.2ms postprocess per image at shape (1, 3, 1088, 1920)\n"
     ]
    },
    {
     "name": "stdout",
     "output_type": "stream",
     "text": [
      "754\n",
      "755\n"
     ]
    },
    {
     "name": "stderr",
     "output_type": "stream",
     "text": [
      "\n",
      "0: 1088x1920 24 players, 17.9ms\n",
      "Speed: 7.1ms preprocess, 17.9ms inference, 1.2ms postprocess per image at shape (1, 3, 1088, 1920)\n",
      "\n",
      "0: 1088x1920 24 players, 17.9ms\n",
      "Speed: 7.3ms preprocess, 17.9ms inference, 1.3ms postprocess per image at shape (1, 3, 1088, 1920)\n"
     ]
    },
    {
     "name": "stdout",
     "output_type": "stream",
     "text": [
      "756\n",
      "757\n"
     ]
    },
    {
     "name": "stderr",
     "output_type": "stream",
     "text": [
      "\n",
      "0: 1088x1920 1 ball, 22 players, 17.9ms\n",
      "Speed: 7.5ms preprocess, 17.9ms inference, 1.2ms postprocess per image at shape (1, 3, 1088, 1920)\n",
      "\n",
      "0: 1088x1920 1 ball, 23 players, 17.9ms\n",
      "Speed: 7.2ms preprocess, 17.9ms inference, 1.2ms postprocess per image at shape (1, 3, 1088, 1920)\n"
     ]
    },
    {
     "name": "stdout",
     "output_type": "stream",
     "text": [
      "758\n",
      "759\n"
     ]
    },
    {
     "name": "stderr",
     "output_type": "stream",
     "text": [
      "\n",
      "0: 1088x1920 1 ball, 23 players, 17.9ms\n",
      "Speed: 7.2ms preprocess, 17.9ms inference, 1.2ms postprocess per image at shape (1, 3, 1088, 1920)\n",
      "\n",
      "0: 1088x1920 23 players, 17.9ms\n",
      "Speed: 7.1ms preprocess, 17.9ms inference, 1.1ms postprocess per image at shape (1, 3, 1088, 1920)\n"
     ]
    },
    {
     "name": "stdout",
     "output_type": "stream",
     "text": [
      "760\n",
      "761\n"
     ]
    },
    {
     "name": "stderr",
     "output_type": "stream",
     "text": [
      "\n",
      "0: 1088x1920 1 ball, 23 players, 17.9ms\n",
      "Speed: 7.4ms preprocess, 17.9ms inference, 1.2ms postprocess per image at shape (1, 3, 1088, 1920)\n",
      "\n",
      "0: 1088x1920 23 players, 17.9ms\n",
      "Speed: 7.7ms preprocess, 17.9ms inference, 1.2ms postprocess per image at shape (1, 3, 1088, 1920)\n"
     ]
    },
    {
     "name": "stdout",
     "output_type": "stream",
     "text": [
      "762\n",
      "763\n"
     ]
    },
    {
     "name": "stderr",
     "output_type": "stream",
     "text": [
      "\n",
      "0: 1088x1920 23 players, 17.9ms\n",
      "Speed: 7.7ms preprocess, 17.9ms inference, 1.1ms postprocess per image at shape (1, 3, 1088, 1920)\n",
      "\n",
      "0: 1088x1920 23 players, 17.9ms\n",
      "Speed: 7.6ms preprocess, 17.9ms inference, 1.2ms postprocess per image at shape (1, 3, 1088, 1920)\n"
     ]
    },
    {
     "name": "stdout",
     "output_type": "stream",
     "text": [
      "764\n",
      "765\n"
     ]
    },
    {
     "name": "stderr",
     "output_type": "stream",
     "text": [
      "\n",
      "0: 1088x1920 1 ball, 23 players, 17.9ms\n",
      "Speed: 6.9ms preprocess, 17.9ms inference, 1.2ms postprocess per image at shape (1, 3, 1088, 1920)\n",
      "\n",
      "0: 1088x1920 1 ball, 23 players, 17.9ms\n",
      "Speed: 7.5ms preprocess, 17.9ms inference, 1.2ms postprocess per image at shape (1, 3, 1088, 1920)\n"
     ]
    },
    {
     "name": "stdout",
     "output_type": "stream",
     "text": [
      "766\n",
      "767\n"
     ]
    },
    {
     "name": "stderr",
     "output_type": "stream",
     "text": [
      "\n",
      "0: 1088x1920 1 ball, 23 players, 17.9ms\n",
      "Speed: 7.9ms preprocess, 17.9ms inference, 1.2ms postprocess per image at shape (1, 3, 1088, 1920)\n",
      "\n",
      "0: 1088x1920 23 players, 17.9ms\n",
      "Speed: 7.6ms preprocess, 17.9ms inference, 1.2ms postprocess per image at shape (1, 3, 1088, 1920)\n"
     ]
    },
    {
     "name": "stdout",
     "output_type": "stream",
     "text": [
      "768\n",
      "769\n"
     ]
    },
    {
     "name": "stderr",
     "output_type": "stream",
     "text": [
      "\n",
      "0: 1088x1920 1 ball, 22 players, 17.9ms\n",
      "Speed: 7.3ms preprocess, 17.9ms inference, 1.2ms postprocess per image at shape (1, 3, 1088, 1920)\n",
      "\n",
      "0: 1088x1920 23 players, 17.9ms\n",
      "Speed: 7.3ms preprocess, 17.9ms inference, 1.2ms postprocess per image at shape (1, 3, 1088, 1920)\n"
     ]
    },
    {
     "name": "stdout",
     "output_type": "stream",
     "text": [
      "770\n",
      "771\n"
     ]
    },
    {
     "name": "stderr",
     "output_type": "stream",
     "text": [
      "\n",
      "0: 1088x1920 24 players, 17.9ms\n",
      "Speed: 7.5ms preprocess, 17.9ms inference, 1.2ms postprocess per image at shape (1, 3, 1088, 1920)\n",
      "\n",
      "0: 1088x1920 1 ball, 24 players, 17.9ms\n",
      "Speed: 7.3ms preprocess, 17.9ms inference, 1.2ms postprocess per image at shape (1, 3, 1088, 1920)\n"
     ]
    },
    {
     "name": "stdout",
     "output_type": "stream",
     "text": [
      "772\n",
      "773\n"
     ]
    },
    {
     "name": "stderr",
     "output_type": "stream",
     "text": [
      "\n",
      "0: 1088x1920 22 players, 17.9ms\n",
      "Speed: 7.7ms preprocess, 17.9ms inference, 1.2ms postprocess per image at shape (1, 3, 1088, 1920)\n",
      "\n",
      "0: 1088x1920 23 players, 17.9ms\n",
      "Speed: 7.5ms preprocess, 17.9ms inference, 1.2ms postprocess per image at shape (1, 3, 1088, 1920)\n"
     ]
    },
    {
     "name": "stdout",
     "output_type": "stream",
     "text": [
      "774\n",
      "775\n"
     ]
    },
    {
     "name": "stderr",
     "output_type": "stream",
     "text": [
      "\n",
      "0: 1088x1920 22 players, 17.9ms\n",
      "Speed: 7.0ms preprocess, 17.9ms inference, 1.2ms postprocess per image at shape (1, 3, 1088, 1920)\n",
      "\n",
      "0: 1088x1920 22 players, 17.9ms\n",
      "Speed: 7.3ms preprocess, 17.9ms inference, 1.1ms postprocess per image at shape (1, 3, 1088, 1920)\n"
     ]
    },
    {
     "name": "stdout",
     "output_type": "stream",
     "text": [
      "776\n",
      "777\n"
     ]
    },
    {
     "name": "stderr",
     "output_type": "stream",
     "text": [
      "\n",
      "0: 1088x1920 22 players, 17.9ms\n",
      "Speed: 7.4ms preprocess, 17.9ms inference, 1.3ms postprocess per image at shape (1, 3, 1088, 1920)\n",
      "\n",
      "0: 1088x1920 23 players, 17.9ms\n",
      "Speed: 7.1ms preprocess, 17.9ms inference, 1.2ms postprocess per image at shape (1, 3, 1088, 1920)\n"
     ]
    },
    {
     "name": "stdout",
     "output_type": "stream",
     "text": [
      "778\n",
      "779\n"
     ]
    },
    {
     "name": "stderr",
     "output_type": "stream",
     "text": [
      "\n",
      "0: 1088x1920 23 players, 17.9ms\n",
      "Speed: 7.6ms preprocess, 17.9ms inference, 1.1ms postprocess per image at shape (1, 3, 1088, 1920)\n",
      "\n",
      "0: 1088x1920 23 players, 17.9ms\n",
      "Speed: 7.2ms preprocess, 17.9ms inference, 1.2ms postprocess per image at shape (1, 3, 1088, 1920)\n"
     ]
    },
    {
     "name": "stdout",
     "output_type": "stream",
     "text": [
      "780\n",
      "781\n"
     ]
    },
    {
     "name": "stderr",
     "output_type": "stream",
     "text": [
      "\n",
      "0: 1088x1920 23 players, 17.9ms\n",
      "Speed: 7.2ms preprocess, 17.9ms inference, 1.2ms postprocess per image at shape (1, 3, 1088, 1920)\n",
      "\n",
      "0: 1088x1920 23 players, 17.9ms\n",
      "Speed: 8.1ms preprocess, 17.9ms inference, 1.2ms postprocess per image at shape (1, 3, 1088, 1920)\n"
     ]
    },
    {
     "name": "stdout",
     "output_type": "stream",
     "text": [
      "782\n",
      "783\n"
     ]
    },
    {
     "name": "stderr",
     "output_type": "stream",
     "text": [
      "\n",
      "0: 1088x1920 23 players, 17.9ms\n",
      "Speed: 7.5ms preprocess, 17.9ms inference, 1.2ms postprocess per image at shape (1, 3, 1088, 1920)\n",
      "\n",
      "0: 1088x1920 22 players, 17.9ms\n",
      "Speed: 7.5ms preprocess, 17.9ms inference, 1.2ms postprocess per image at shape (1, 3, 1088, 1920)\n"
     ]
    },
    {
     "name": "stdout",
     "output_type": "stream",
     "text": [
      "784\n",
      "785\n"
     ]
    },
    {
     "name": "stderr",
     "output_type": "stream",
     "text": [
      "\n",
      "0: 1088x1920 23 players, 17.9ms\n",
      "Speed: 7.2ms preprocess, 17.9ms inference, 1.2ms postprocess per image at shape (1, 3, 1088, 1920)\n",
      "\n",
      "0: 1088x1920 22 players, 17.9ms\n",
      "Speed: 7.4ms preprocess, 17.9ms inference, 1.2ms postprocess per image at shape (1, 3, 1088, 1920)\n"
     ]
    },
    {
     "name": "stdout",
     "output_type": "stream",
     "text": [
      "786\n",
      "787\n"
     ]
    },
    {
     "name": "stderr",
     "output_type": "stream",
     "text": [
      "\n",
      "0: 1088x1920 22 players, 17.9ms\n",
      "Speed: 7.1ms preprocess, 17.9ms inference, 1.2ms postprocess per image at shape (1, 3, 1088, 1920)\n",
      "\n",
      "0: 1088x1920 22 players, 17.9ms\n",
      "Speed: 7.7ms preprocess, 17.9ms inference, 1.2ms postprocess per image at shape (1, 3, 1088, 1920)\n"
     ]
    },
    {
     "name": "stdout",
     "output_type": "stream",
     "text": [
      "788\n",
      "789\n"
     ]
    },
    {
     "name": "stderr",
     "output_type": "stream",
     "text": [
      "\n",
      "0: 1088x1920 22 players, 17.9ms\n",
      "Speed: 7.6ms preprocess, 17.9ms inference, 1.2ms postprocess per image at shape (1, 3, 1088, 1920)\n",
      "\n",
      "0: 1088x1920 21 players, 17.9ms\n",
      "Speed: 7.3ms preprocess, 17.9ms inference, 1.2ms postprocess per image at shape (1, 3, 1088, 1920)\n"
     ]
    },
    {
     "name": "stdout",
     "output_type": "stream",
     "text": [
      "790\n",
      "791\n"
     ]
    },
    {
     "name": "stderr",
     "output_type": "stream",
     "text": [
      "\n",
      "0: 1088x1920 22 players, 17.9ms\n",
      "Speed: 7.3ms preprocess, 17.9ms inference, 1.1ms postprocess per image at shape (1, 3, 1088, 1920)\n",
      "\n",
      "0: 1088x1920 22 players, 17.9ms\n",
      "Speed: 7.3ms preprocess, 17.9ms inference, 1.1ms postprocess per image at shape (1, 3, 1088, 1920)\n"
     ]
    },
    {
     "name": "stdout",
     "output_type": "stream",
     "text": [
      "792\n",
      "793\n"
     ]
    },
    {
     "name": "stderr",
     "output_type": "stream",
     "text": [
      "\n",
      "0: 1088x1920 22 players, 17.9ms\n",
      "Speed: 7.1ms preprocess, 17.9ms inference, 1.2ms postprocess per image at shape (1, 3, 1088, 1920)\n",
      "\n",
      "0: 1088x1920 21 players, 17.9ms\n",
      "Speed: 7.1ms preprocess, 17.9ms inference, 1.2ms postprocess per image at shape (1, 3, 1088, 1920)\n"
     ]
    },
    {
     "name": "stdout",
     "output_type": "stream",
     "text": [
      "794\n",
      "795\n"
     ]
    },
    {
     "name": "stderr",
     "output_type": "stream",
     "text": [
      "\n",
      "0: 1088x1920 21 players, 17.9ms\n",
      "Speed: 7.6ms preprocess, 17.9ms inference, 1.2ms postprocess per image at shape (1, 3, 1088, 1920)\n",
      "\n",
      "0: 1088x1920 21 players, 17.9ms\n",
      "Speed: 7.7ms preprocess, 17.9ms inference, 1.1ms postprocess per image at shape (1, 3, 1088, 1920)\n"
     ]
    },
    {
     "name": "stdout",
     "output_type": "stream",
     "text": [
      "796\n",
      "797\n"
     ]
    },
    {
     "name": "stderr",
     "output_type": "stream",
     "text": [
      "\n",
      "0: 1088x1920 21 players, 17.9ms\n",
      "Speed: 7.4ms preprocess, 17.9ms inference, 1.2ms postprocess per image at shape (1, 3, 1088, 1920)\n",
      "\n",
      "0: 1088x1920 21 players, 17.9ms\n",
      "Speed: 7.2ms preprocess, 17.9ms inference, 1.2ms postprocess per image at shape (1, 3, 1088, 1920)\n"
     ]
    },
    {
     "name": "stdout",
     "output_type": "stream",
     "text": [
      "798\n",
      "799\n"
     ]
    },
    {
     "name": "stderr",
     "output_type": "stream",
     "text": [
      "\n",
      "0: 1088x1920 21 players, 17.9ms\n",
      "Speed: 7.1ms preprocess, 17.9ms inference, 1.2ms postprocess per image at shape (1, 3, 1088, 1920)\n",
      "\n",
      "0: 1088x1920 21 players, 17.9ms\n",
      "Speed: 7.1ms preprocess, 17.9ms inference, 1.2ms postprocess per image at shape (1, 3, 1088, 1920)\n"
     ]
    },
    {
     "name": "stdout",
     "output_type": "stream",
     "text": [
      "800\n",
      "801\n"
     ]
    },
    {
     "name": "stderr",
     "output_type": "stream",
     "text": [
      "\n",
      "0: 1088x1920 21 players, 17.9ms\n",
      "Speed: 7.9ms preprocess, 17.9ms inference, 1.2ms postprocess per image at shape (1, 3, 1088, 1920)\n",
      "\n",
      "0: 1088x1920 21 players, 17.9ms\n",
      "Speed: 7.3ms preprocess, 17.9ms inference, 1.2ms postprocess per image at shape (1, 3, 1088, 1920)\n"
     ]
    },
    {
     "name": "stdout",
     "output_type": "stream",
     "text": [
      "802\n",
      "803\n"
     ]
    },
    {
     "name": "stderr",
     "output_type": "stream",
     "text": [
      "\n",
      "0: 1088x1920 21 players, 17.9ms\n",
      "Speed: 7.5ms preprocess, 17.9ms inference, 1.1ms postprocess per image at shape (1, 3, 1088, 1920)\n",
      "\n",
      "0: 1088x1920 21 players, 17.9ms\n",
      "Speed: 7.2ms preprocess, 17.9ms inference, 1.2ms postprocess per image at shape (1, 3, 1088, 1920)\n"
     ]
    },
    {
     "name": "stdout",
     "output_type": "stream",
     "text": [
      "804\n",
      "805\n"
     ]
    },
    {
     "name": "stderr",
     "output_type": "stream",
     "text": [
      "\n",
      "0: 1088x1920 21 players, 17.9ms\n",
      "Speed: 7.1ms preprocess, 17.9ms inference, 1.3ms postprocess per image at shape (1, 3, 1088, 1920)\n",
      "\n",
      "0: 1088x1920 21 players, 17.9ms\n",
      "Speed: 7.4ms preprocess, 17.9ms inference, 1.2ms postprocess per image at shape (1, 3, 1088, 1920)\n"
     ]
    },
    {
     "name": "stdout",
     "output_type": "stream",
     "text": [
      "806\n",
      "807\n"
     ]
    },
    {
     "name": "stderr",
     "output_type": "stream",
     "text": [
      "\n",
      "0: 1088x1920 21 players, 17.9ms\n",
      "Speed: 7.2ms preprocess, 17.9ms inference, 1.2ms postprocess per image at shape (1, 3, 1088, 1920)\n",
      "\n",
      "0: 1088x1920 21 players, 17.9ms\n",
      "Speed: 7.0ms preprocess, 17.9ms inference, 1.2ms postprocess per image at shape (1, 3, 1088, 1920)\n"
     ]
    },
    {
     "name": "stdout",
     "output_type": "stream",
     "text": [
      "808\n",
      "809\n"
     ]
    },
    {
     "name": "stderr",
     "output_type": "stream",
     "text": [
      "\n",
      "0: 1088x1920 21 players, 17.9ms\n",
      "Speed: 7.3ms preprocess, 17.9ms inference, 1.1ms postprocess per image at shape (1, 3, 1088, 1920)\n",
      "\n",
      "0: 1088x1920 21 players, 17.9ms\n",
      "Speed: 7.3ms preprocess, 17.9ms inference, 1.1ms postprocess per image at shape (1, 3, 1088, 1920)\n"
     ]
    },
    {
     "name": "stdout",
     "output_type": "stream",
     "text": [
      "810\n",
      "811\n"
     ]
    },
    {
     "name": "stderr",
     "output_type": "stream",
     "text": [
      "\n",
      "0: 1088x1920 21 players, 17.9ms\n",
      "Speed: 7.6ms preprocess, 17.9ms inference, 1.2ms postprocess per image at shape (1, 3, 1088, 1920)\n",
      "\n",
      "0: 1088x1920 21 players, 17.9ms\n",
      "Speed: 7.4ms preprocess, 17.9ms inference, 1.2ms postprocess per image at shape (1, 3, 1088, 1920)\n"
     ]
    },
    {
     "name": "stdout",
     "output_type": "stream",
     "text": [
      "812\n",
      "813\n"
     ]
    },
    {
     "name": "stderr",
     "output_type": "stream",
     "text": [
      "\n",
      "0: 1088x1920 21 players, 17.9ms\n",
      "Speed: 7.3ms preprocess, 17.9ms inference, 1.1ms postprocess per image at shape (1, 3, 1088, 1920)\n",
      "\n",
      "0: 1088x1920 1 ball, 21 players, 17.9ms\n",
      "Speed: 7.4ms preprocess, 17.9ms inference, 1.3ms postprocess per image at shape (1, 3, 1088, 1920)\n"
     ]
    },
    {
     "name": "stdout",
     "output_type": "stream",
     "text": [
      "814\n",
      "815\n"
     ]
    },
    {
     "name": "stderr",
     "output_type": "stream",
     "text": [
      "\n",
      "0: 1088x1920 20 players, 17.9ms\n",
      "Speed: 7.8ms preprocess, 17.9ms inference, 1.2ms postprocess per image at shape (1, 3, 1088, 1920)\n",
      "\n",
      "0: 1088x1920 21 players, 17.9ms\n",
      "Speed: 7.7ms preprocess, 17.9ms inference, 1.2ms postprocess per image at shape (1, 3, 1088, 1920)\n"
     ]
    },
    {
     "name": "stdout",
     "output_type": "stream",
     "text": [
      "816\n",
      "817\n"
     ]
    },
    {
     "name": "stderr",
     "output_type": "stream",
     "text": [
      "\n",
      "0: 1088x1920 1 ball, 21 players, 17.9ms\n",
      "Speed: 7.3ms preprocess, 17.9ms inference, 1.2ms postprocess per image at shape (1, 3, 1088, 1920)\n",
      "\n",
      "0: 1088x1920 21 players, 17.9ms\n",
      "Speed: 7.6ms preprocess, 17.9ms inference, 1.2ms postprocess per image at shape (1, 3, 1088, 1920)\n"
     ]
    },
    {
     "name": "stdout",
     "output_type": "stream",
     "text": [
      "818\n",
      "819\n"
     ]
    },
    {
     "name": "stderr",
     "output_type": "stream",
     "text": [
      "\n",
      "0: 1088x1920 21 players, 17.9ms\n",
      "Speed: 7.3ms preprocess, 17.9ms inference, 1.2ms postprocess per image at shape (1, 3, 1088, 1920)\n",
      "\n",
      "0: 1088x1920 21 players, 17.9ms\n",
      "Speed: 7.5ms preprocess, 17.9ms inference, 1.2ms postprocess per image at shape (1, 3, 1088, 1920)\n"
     ]
    },
    {
     "name": "stdout",
     "output_type": "stream",
     "text": [
      "820\n",
      "821\n"
     ]
    },
    {
     "name": "stderr",
     "output_type": "stream",
     "text": [
      "\n",
      "0: 1088x1920 21 players, 17.9ms\n",
      "Speed: 7.9ms preprocess, 17.9ms inference, 1.2ms postprocess per image at shape (1, 3, 1088, 1920)\n",
      "\n",
      "0: 1088x1920 21 players, 17.9ms\n",
      "Speed: 7.3ms preprocess, 17.9ms inference, 1.2ms postprocess per image at shape (1, 3, 1088, 1920)\n"
     ]
    },
    {
     "name": "stdout",
     "output_type": "stream",
     "text": [
      "822\n",
      "823\n"
     ]
    },
    {
     "name": "stderr",
     "output_type": "stream",
     "text": [
      "\n",
      "0: 1088x1920 20 players, 17.9ms\n",
      "Speed: 7.4ms preprocess, 17.9ms inference, 1.2ms postprocess per image at shape (1, 3, 1088, 1920)\n",
      "\n",
      "0: 1088x1920 20 players, 17.9ms\n",
      "Speed: 7.2ms preprocess, 17.9ms inference, 1.2ms postprocess per image at shape (1, 3, 1088, 1920)\n"
     ]
    },
    {
     "name": "stdout",
     "output_type": "stream",
     "text": [
      "824\n",
      "825\n"
     ]
    },
    {
     "name": "stderr",
     "output_type": "stream",
     "text": [
      "\n",
      "0: 1088x1920 21 players, 17.9ms\n",
      "Speed: 7.1ms preprocess, 17.9ms inference, 1.2ms postprocess per image at shape (1, 3, 1088, 1920)\n",
      "\n",
      "0: 1088x1920 21 players, 17.9ms\n",
      "Speed: 7.0ms preprocess, 17.9ms inference, 1.1ms postprocess per image at shape (1, 3, 1088, 1920)\n"
     ]
    },
    {
     "name": "stdout",
     "output_type": "stream",
     "text": [
      "826\n",
      "827\n"
     ]
    },
    {
     "name": "stderr",
     "output_type": "stream",
     "text": [
      "\n",
      "0: 1088x1920 21 players, 17.9ms\n",
      "Speed: 7.3ms preprocess, 17.9ms inference, 1.2ms postprocess per image at shape (1, 3, 1088, 1920)\n",
      "\n",
      "0: 1088x1920 21 players, 17.9ms\n",
      "Speed: 7.3ms preprocess, 17.9ms inference, 1.2ms postprocess per image at shape (1, 3, 1088, 1920)\n"
     ]
    },
    {
     "name": "stdout",
     "output_type": "stream",
     "text": [
      "828\n",
      "829\n"
     ]
    },
    {
     "name": "stderr",
     "output_type": "stream",
     "text": [
      "\n",
      "0: 1088x1920 21 players, 17.9ms\n",
      "Speed: 7.4ms preprocess, 17.9ms inference, 1.2ms postprocess per image at shape (1, 3, 1088, 1920)\n",
      "\n",
      "0: 1088x1920 21 players, 17.9ms\n",
      "Speed: 7.2ms preprocess, 17.9ms inference, 1.3ms postprocess per image at shape (1, 3, 1088, 1920)\n"
     ]
    },
    {
     "name": "stdout",
     "output_type": "stream",
     "text": [
      "830\n",
      "831\n"
     ]
    },
    {
     "name": "stderr",
     "output_type": "stream",
     "text": [
      "\n",
      "0: 1088x1920 21 players, 17.9ms\n",
      "Speed: 7.5ms preprocess, 17.9ms inference, 1.2ms postprocess per image at shape (1, 3, 1088, 1920)\n",
      "\n",
      "0: 1088x1920 21 players, 17.9ms\n",
      "Speed: 7.2ms preprocess, 17.9ms inference, 1.2ms postprocess per image at shape (1, 3, 1088, 1920)\n"
     ]
    },
    {
     "name": "stdout",
     "output_type": "stream",
     "text": [
      "832\n",
      "833\n"
     ]
    },
    {
     "name": "stderr",
     "output_type": "stream",
     "text": [
      "\n",
      "0: 1088x1920 20 players, 17.9ms\n",
      "Speed: 7.7ms preprocess, 17.9ms inference, 1.2ms postprocess per image at shape (1, 3, 1088, 1920)\n",
      "\n",
      "0: 1088x1920 1 ball, 21 players, 17.9ms\n",
      "Speed: 7.7ms preprocess, 17.9ms inference, 1.3ms postprocess per image at shape (1, 3, 1088, 1920)\n"
     ]
    },
    {
     "name": "stdout",
     "output_type": "stream",
     "text": [
      "834\n",
      "835\n"
     ]
    },
    {
     "name": "stderr",
     "output_type": "stream",
     "text": [
      "\n",
      "0: 1088x1920 21 players, 17.9ms\n",
      "Speed: 7.2ms preprocess, 17.9ms inference, 1.2ms postprocess per image at shape (1, 3, 1088, 1920)\n",
      "\n",
      "0: 1088x1920 21 players, 17.9ms\n",
      "Speed: 7.3ms preprocess, 17.9ms inference, 1.2ms postprocess per image at shape (1, 3, 1088, 1920)\n"
     ]
    },
    {
     "name": "stdout",
     "output_type": "stream",
     "text": [
      "836\n",
      "837\n"
     ]
    },
    {
     "name": "stderr",
     "output_type": "stream",
     "text": [
      "\n",
      "0: 1088x1920 21 players, 17.9ms\n",
      "Speed: 7.1ms preprocess, 17.9ms inference, 1.2ms postprocess per image at shape (1, 3, 1088, 1920)\n",
      "\n",
      "0: 1088x1920 21 players, 17.9ms\n",
      "Speed: 7.4ms preprocess, 17.9ms inference, 1.3ms postprocess per image at shape (1, 3, 1088, 1920)\n"
     ]
    },
    {
     "name": "stdout",
     "output_type": "stream",
     "text": [
      "838\n",
      "839\n"
     ]
    },
    {
     "name": "stderr",
     "output_type": "stream",
     "text": [
      "\n",
      "0: 1088x1920 21 players, 17.9ms\n",
      "Speed: 8.1ms preprocess, 17.9ms inference, 1.3ms postprocess per image at shape (1, 3, 1088, 1920)\n",
      "\n",
      "0: 1088x1920 20 players, 17.9ms\n",
      "Speed: 7.3ms preprocess, 17.9ms inference, 1.2ms postprocess per image at shape (1, 3, 1088, 1920)\n"
     ]
    },
    {
     "name": "stdout",
     "output_type": "stream",
     "text": [
      "840\n",
      "841\n"
     ]
    },
    {
     "name": "stderr",
     "output_type": "stream",
     "text": [
      "\n",
      "0: 1088x1920 21 players, 17.9ms\n",
      "Speed: 7.4ms preprocess, 17.9ms inference, 1.1ms postprocess per image at shape (1, 3, 1088, 1920)\n",
      "\n",
      "0: 1088x1920 21 players, 17.9ms\n",
      "Speed: 7.2ms preprocess, 17.9ms inference, 1.1ms postprocess per image at shape (1, 3, 1088, 1920)\n"
     ]
    },
    {
     "name": "stdout",
     "output_type": "stream",
     "text": [
      "842\n",
      "843\n"
     ]
    },
    {
     "name": "stderr",
     "output_type": "stream",
     "text": [
      "\n",
      "0: 1088x1920 1 ball, 20 players, 17.9ms\n",
      "Speed: 7.1ms preprocess, 17.9ms inference, 1.2ms postprocess per image at shape (1, 3, 1088, 1920)\n",
      "\n",
      "0: 1088x1920 1 ball, 20 players, 17.9ms\n",
      "Speed: 7.3ms preprocess, 17.9ms inference, 1.1ms postprocess per image at shape (1, 3, 1088, 1920)\n"
     ]
    },
    {
     "name": "stdout",
     "output_type": "stream",
     "text": [
      "844\n",
      "845\n"
     ]
    },
    {
     "name": "stderr",
     "output_type": "stream",
     "text": [
      "\n",
      "0: 1088x1920 1 ball, 20 players, 17.9ms\n",
      "Speed: 7.1ms preprocess, 17.9ms inference, 1.1ms postprocess per image at shape (1, 3, 1088, 1920)\n",
      "\n",
      "0: 1088x1920 21 players, 17.9ms\n",
      "Speed: 7.7ms preprocess, 17.9ms inference, 1.2ms postprocess per image at shape (1, 3, 1088, 1920)\n"
     ]
    },
    {
     "name": "stdout",
     "output_type": "stream",
     "text": [
      "846\n",
      "847\n"
     ]
    },
    {
     "name": "stderr",
     "output_type": "stream",
     "text": [
      "\n",
      "0: 1088x1920 21 players, 17.9ms\n",
      "Speed: 7.0ms preprocess, 17.9ms inference, 1.2ms postprocess per image at shape (1, 3, 1088, 1920)\n",
      "\n",
      "0: 1088x1920 1 ball, 21 players, 17.9ms\n",
      "Speed: 7.6ms preprocess, 17.9ms inference, 1.2ms postprocess per image at shape (1, 3, 1088, 1920)\n"
     ]
    },
    {
     "name": "stdout",
     "output_type": "stream",
     "text": [
      "848\n",
      "849\n"
     ]
    },
    {
     "name": "stderr",
     "output_type": "stream",
     "text": [
      "\n",
      "0: 1088x1920 21 players, 17.9ms\n",
      "Speed: 7.7ms preprocess, 17.9ms inference, 1.2ms postprocess per image at shape (1, 3, 1088, 1920)\n",
      "\n",
      "0: 1088x1920 21 players, 17.9ms\n",
      "Speed: 7.2ms preprocess, 17.9ms inference, 1.2ms postprocess per image at shape (1, 3, 1088, 1920)\n"
     ]
    },
    {
     "name": "stdout",
     "output_type": "stream",
     "text": [
      "850\n",
      "851\n"
     ]
    },
    {
     "name": "stderr",
     "output_type": "stream",
     "text": [
      "\n",
      "0: 1088x1920 21 players, 17.9ms\n",
      "Speed: 7.3ms preprocess, 17.9ms inference, 1.2ms postprocess per image at shape (1, 3, 1088, 1920)\n",
      "\n",
      "0: 1088x1920 21 players, 17.9ms\n",
      "Speed: 7.4ms preprocess, 17.9ms inference, 1.1ms postprocess per image at shape (1, 3, 1088, 1920)\n"
     ]
    },
    {
     "name": "stdout",
     "output_type": "stream",
     "text": [
      "852\n",
      "853\n"
     ]
    },
    {
     "name": "stderr",
     "output_type": "stream",
     "text": [
      "\n",
      "0: 1088x1920 21 players, 17.9ms\n",
      "Speed: 7.0ms preprocess, 17.9ms inference, 1.2ms postprocess per image at shape (1, 3, 1088, 1920)\n",
      "\n",
      "0: 1088x1920 22 players, 17.9ms\n",
      "Speed: 7.6ms preprocess, 17.9ms inference, 1.2ms postprocess per image at shape (1, 3, 1088, 1920)\n"
     ]
    },
    {
     "name": "stdout",
     "output_type": "stream",
     "text": [
      "854\n",
      "855\n"
     ]
    },
    {
     "name": "stderr",
     "output_type": "stream",
     "text": [
      "\n",
      "0: 1088x1920 22 players, 17.9ms\n",
      "Speed: 8.0ms preprocess, 17.9ms inference, 1.2ms postprocess per image at shape (1, 3, 1088, 1920)\n",
      "\n",
      "0: 1088x1920 21 players, 17.9ms\n",
      "Speed: 7.3ms preprocess, 17.9ms inference, 1.2ms postprocess per image at shape (1, 3, 1088, 1920)\n"
     ]
    },
    {
     "name": "stdout",
     "output_type": "stream",
     "text": [
      "856\n",
      "857\n"
     ]
    },
    {
     "name": "stderr",
     "output_type": "stream",
     "text": [
      "\n",
      "0: 1088x1920 21 players, 17.9ms\n",
      "Speed: 7.3ms preprocess, 17.9ms inference, 1.2ms postprocess per image at shape (1, 3, 1088, 1920)\n",
      "\n",
      "0: 1088x1920 22 players, 17.9ms\n",
      "Speed: 7.1ms preprocess, 17.9ms inference, 1.2ms postprocess per image at shape (1, 3, 1088, 1920)\n"
     ]
    },
    {
     "name": "stdout",
     "output_type": "stream",
     "text": [
      "858\n",
      "859\n"
     ]
    },
    {
     "name": "stderr",
     "output_type": "stream",
     "text": [
      "\n",
      "0: 1088x1920 1 ball, 22 players, 17.9ms\n",
      "Speed: 7.4ms preprocess, 17.9ms inference, 1.1ms postprocess per image at shape (1, 3, 1088, 1920)\n",
      "\n",
      "0: 1088x1920 22 players, 17.9ms\n",
      "Speed: 7.3ms preprocess, 17.9ms inference, 1.2ms postprocess per image at shape (1, 3, 1088, 1920)\n"
     ]
    },
    {
     "name": "stdout",
     "output_type": "stream",
     "text": [
      "860\n",
      "861\n"
     ]
    },
    {
     "name": "stderr",
     "output_type": "stream",
     "text": [
      "\n",
      "0: 1088x1920 21 players, 17.9ms\n",
      "Speed: 7.4ms preprocess, 17.9ms inference, 1.2ms postprocess per image at shape (1, 3, 1088, 1920)\n",
      "\n",
      "0: 1088x1920 1 ball, 22 players, 17.9ms\n",
      "Speed: 7.7ms preprocess, 17.9ms inference, 1.2ms postprocess per image at shape (1, 3, 1088, 1920)\n"
     ]
    },
    {
     "name": "stdout",
     "output_type": "stream",
     "text": [
      "862\n",
      "863\n"
     ]
    },
    {
     "name": "stderr",
     "output_type": "stream",
     "text": [
      "\n",
      "0: 1088x1920 1 ball, 22 players, 17.9ms\n",
      "Speed: 7.3ms preprocess, 17.9ms inference, 1.2ms postprocess per image at shape (1, 3, 1088, 1920)\n",
      "\n",
      "0: 1088x1920 1 ball, 22 players, 17.9ms\n",
      "Speed: 7.3ms preprocess, 17.9ms inference, 1.2ms postprocess per image at shape (1, 3, 1088, 1920)\n"
     ]
    },
    {
     "name": "stdout",
     "output_type": "stream",
     "text": [
      "864\n",
      "865\n"
     ]
    },
    {
     "name": "stderr",
     "output_type": "stream",
     "text": [
      "\n",
      "0: 1088x1920 1 ball, 22 players, 17.9ms\n",
      "Speed: 7.8ms preprocess, 17.9ms inference, 1.2ms postprocess per image at shape (1, 3, 1088, 1920)\n",
      "\n",
      "0: 1088x1920 1 ball, 22 players, 17.9ms\n",
      "Speed: 7.3ms preprocess, 17.9ms inference, 1.2ms postprocess per image at shape (1, 3, 1088, 1920)\n"
     ]
    },
    {
     "name": "stdout",
     "output_type": "stream",
     "text": [
      "866\n",
      "867\n"
     ]
    },
    {
     "name": "stderr",
     "output_type": "stream",
     "text": [
      "\n",
      "0: 1088x1920 1 ball, 22 players, 17.9ms\n",
      "Speed: 7.4ms preprocess, 17.9ms inference, 1.2ms postprocess per image at shape (1, 3, 1088, 1920)\n",
      "\n",
      "0: 1088x1920 1 ball, 22 players, 17.9ms\n",
      "Speed: 7.5ms preprocess, 17.9ms inference, 1.2ms postprocess per image at shape (1, 3, 1088, 1920)\n"
     ]
    },
    {
     "name": "stdout",
     "output_type": "stream",
     "text": [
      "868\n",
      "869\n"
     ]
    },
    {
     "name": "stderr",
     "output_type": "stream",
     "text": [
      "\n",
      "0: 1088x1920 1 ball, 22 players, 17.9ms\n",
      "Speed: 7.3ms preprocess, 17.9ms inference, 1.2ms postprocess per image at shape (1, 3, 1088, 1920)\n",
      "\n",
      "0: 1088x1920 1 ball, 22 players, 17.9ms\n",
      "Speed: 7.2ms preprocess, 17.9ms inference, 1.2ms postprocess per image at shape (1, 3, 1088, 1920)\n"
     ]
    },
    {
     "name": "stdout",
     "output_type": "stream",
     "text": [
      "870\n",
      "871\n"
     ]
    },
    {
     "name": "stderr",
     "output_type": "stream",
     "text": [
      "\n",
      "0: 1088x1920 1 ball, 22 players, 17.9ms\n",
      "Speed: 7.5ms preprocess, 17.9ms inference, 1.2ms postprocess per image at shape (1, 3, 1088, 1920)\n",
      "\n",
      "0: 1088x1920 1 ball, 22 players, 17.9ms\n",
      "Speed: 8.0ms preprocess, 17.9ms inference, 1.2ms postprocess per image at shape (1, 3, 1088, 1920)\n"
     ]
    },
    {
     "name": "stdout",
     "output_type": "stream",
     "text": [
      "872\n",
      "873\n"
     ]
    },
    {
     "name": "stderr",
     "output_type": "stream",
     "text": [
      "\n",
      "0: 1088x1920 1 ball, 22 players, 17.9ms\n",
      "Speed: 7.4ms preprocess, 17.9ms inference, 1.2ms postprocess per image at shape (1, 3, 1088, 1920)\n",
      "\n",
      "0: 1088x1920 1 ball, 22 players, 17.9ms\n",
      "Speed: 7.4ms preprocess, 17.9ms inference, 1.2ms postprocess per image at shape (1, 3, 1088, 1920)\n"
     ]
    },
    {
     "name": "stdout",
     "output_type": "stream",
     "text": [
      "874\n",
      "875\n"
     ]
    },
    {
     "name": "stderr",
     "output_type": "stream",
     "text": [
      "\n",
      "0: 1088x1920 22 players, 17.9ms\n",
      "Speed: 7.3ms preprocess, 17.9ms inference, 1.1ms postprocess per image at shape (1, 3, 1088, 1920)\n",
      "\n",
      "0: 1088x1920 1 ball, 21 players, 17.9ms\n",
      "Speed: 7.4ms preprocess, 17.9ms inference, 1.2ms postprocess per image at shape (1, 3, 1088, 1920)\n"
     ]
    },
    {
     "name": "stdout",
     "output_type": "stream",
     "text": [
      "876\n",
      "877\n"
     ]
    },
    {
     "name": "stderr",
     "output_type": "stream",
     "text": [
      "\n",
      "0: 1088x1920 1 ball, 22 players, 17.9ms\n",
      "Speed: 7.3ms preprocess, 17.9ms inference, 1.2ms postprocess per image at shape (1, 3, 1088, 1920)\n",
      "\n",
      "0: 1088x1920 1 ball, 22 players, 17.9ms\n",
      "Speed: 7.9ms preprocess, 17.9ms inference, 1.2ms postprocess per image at shape (1, 3, 1088, 1920)\n"
     ]
    },
    {
     "name": "stdout",
     "output_type": "stream",
     "text": [
      "878\n",
      "879\n"
     ]
    },
    {
     "name": "stderr",
     "output_type": "stream",
     "text": [
      "\n",
      "0: 1088x1920 1 ball, 22 players, 17.9ms\n",
      "Speed: 7.6ms preprocess, 17.9ms inference, 1.2ms postprocess per image at shape (1, 3, 1088, 1920)\n",
      "\n",
      "0: 1088x1920 1 ball, 22 players, 17.9ms\n",
      "Speed: 7.1ms preprocess, 17.9ms inference, 1.2ms postprocess per image at shape (1, 3, 1088, 1920)\n"
     ]
    },
    {
     "name": "stdout",
     "output_type": "stream",
     "text": [
      "880\n",
      "881\n"
     ]
    },
    {
     "name": "stderr",
     "output_type": "stream",
     "text": [
      "\n",
      "0: 1088x1920 1 ball, 22 players, 17.9ms\n",
      "Speed: 7.3ms preprocess, 17.9ms inference, 1.1ms postprocess per image at shape (1, 3, 1088, 1920)\n",
      "\n",
      "0: 1088x1920 1 ball, 22 players, 17.9ms\n",
      "Speed: 7.6ms preprocess, 17.9ms inference, 1.2ms postprocess per image at shape (1, 3, 1088, 1920)\n"
     ]
    },
    {
     "name": "stdout",
     "output_type": "stream",
     "text": [
      "882\n",
      "883\n"
     ]
    },
    {
     "name": "stderr",
     "output_type": "stream",
     "text": [
      "\n",
      "0: 1088x1920 1 ball, 22 players, 17.9ms\n",
      "Speed: 7.2ms preprocess, 17.9ms inference, 1.2ms postprocess per image at shape (1, 3, 1088, 1920)\n",
      "\n",
      "0: 1088x1920 1 ball, 22 players, 17.9ms\n",
      "Speed: 7.3ms preprocess, 17.9ms inference, 1.2ms postprocess per image at shape (1, 3, 1088, 1920)\n"
     ]
    },
    {
     "name": "stdout",
     "output_type": "stream",
     "text": [
      "884\n",
      "885\n"
     ]
    },
    {
     "name": "stderr",
     "output_type": "stream",
     "text": [
      "\n",
      "0: 1088x1920 1 ball, 22 players, 17.9ms\n",
      "Speed: 7.2ms preprocess, 17.9ms inference, 1.2ms postprocess per image at shape (1, 3, 1088, 1920)\n",
      "\n",
      "0: 1088x1920 1 ball, 22 players, 17.9ms\n",
      "Speed: 7.9ms preprocess, 17.9ms inference, 1.2ms postprocess per image at shape (1, 3, 1088, 1920)\n"
     ]
    },
    {
     "name": "stdout",
     "output_type": "stream",
     "text": [
      "886\n",
      "887\n"
     ]
    },
    {
     "name": "stderr",
     "output_type": "stream",
     "text": [
      "\n",
      "0: 1088x1920 1 ball, 22 players, 17.9ms\n",
      "Speed: 7.4ms preprocess, 17.9ms inference, 1.2ms postprocess per image at shape (1, 3, 1088, 1920)\n",
      "\n",
      "0: 1088x1920 1 ball, 22 players, 17.9ms\n",
      "Speed: 7.5ms preprocess, 17.9ms inference, 1.2ms postprocess per image at shape (1, 3, 1088, 1920)\n"
     ]
    },
    {
     "name": "stdout",
     "output_type": "stream",
     "text": [
      "888\n",
      "889\n"
     ]
    },
    {
     "name": "stderr",
     "output_type": "stream",
     "text": [
      "\n",
      "0: 1088x1920 22 players, 17.9ms\n",
      "Speed: 7.0ms preprocess, 17.9ms inference, 1.2ms postprocess per image at shape (1, 3, 1088, 1920)\n",
      "\n",
      "0: 1088x1920 1 ball, 22 players, 17.9ms\n",
      "Speed: 7.2ms preprocess, 17.9ms inference, 1.1ms postprocess per image at shape (1, 3, 1088, 1920)\n"
     ]
    },
    {
     "name": "stdout",
     "output_type": "stream",
     "text": [
      "890\n",
      "891\n"
     ]
    },
    {
     "name": "stderr",
     "output_type": "stream",
     "text": [
      "\n",
      "0: 1088x1920 1 ball, 22 players, 17.9ms\n",
      "Speed: 7.1ms preprocess, 17.9ms inference, 1.2ms postprocess per image at shape (1, 3, 1088, 1920)\n",
      "\n",
      "0: 1088x1920 1 ball, 22 players, 17.9ms\n",
      "Speed: 7.2ms preprocess, 17.9ms inference, 1.2ms postprocess per image at shape (1, 3, 1088, 1920)\n"
     ]
    },
    {
     "name": "stdout",
     "output_type": "stream",
     "text": [
      "892\n",
      "893\n"
     ]
    },
    {
     "name": "stderr",
     "output_type": "stream",
     "text": [
      "\n",
      "0: 1088x1920 1 ball, 22 players, 17.9ms\n",
      "Speed: 7.4ms preprocess, 17.9ms inference, 1.1ms postprocess per image at shape (1, 3, 1088, 1920)\n",
      "\n",
      "0: 1088x1920 1 ball, 22 players, 17.9ms\n",
      "Speed: 7.4ms preprocess, 17.9ms inference, 1.1ms postprocess per image at shape (1, 3, 1088, 1920)\n"
     ]
    },
    {
     "name": "stdout",
     "output_type": "stream",
     "text": [
      "894\n",
      "895\n"
     ]
    },
    {
     "name": "stderr",
     "output_type": "stream",
     "text": [
      "\n",
      "0: 1088x1920 1 ball, 21 players, 17.9ms\n",
      "Speed: 7.5ms preprocess, 17.9ms inference, 1.3ms postprocess per image at shape (1, 3, 1088, 1920)\n",
      "\n",
      "0: 1088x1920 1 ball, 22 players, 17.9ms\n",
      "Speed: 7.3ms preprocess, 17.9ms inference, 1.2ms postprocess per image at shape (1, 3, 1088, 1920)\n"
     ]
    },
    {
     "name": "stdout",
     "output_type": "stream",
     "text": [
      "896\n",
      "897\n"
     ]
    },
    {
     "name": "stderr",
     "output_type": "stream",
     "text": [
      "\n",
      "0: 1088x1920 1 ball, 22 players, 17.9ms\n",
      "Speed: 7.7ms preprocess, 17.9ms inference, 1.2ms postprocess per image at shape (1, 3, 1088, 1920)\n",
      "\n",
      "0: 1088x1920 1 ball, 22 players, 17.9ms\n",
      "Speed: 7.5ms preprocess, 17.9ms inference, 1.2ms postprocess per image at shape (1, 3, 1088, 1920)\n"
     ]
    },
    {
     "name": "stdout",
     "output_type": "stream",
     "text": [
      "898\n",
      "899\n"
     ]
    },
    {
     "name": "stderr",
     "output_type": "stream",
     "text": [
      "\n",
      "0: 1088x1920 1 ball, 22 players, 17.9ms\n",
      "Speed: 7.5ms preprocess, 17.9ms inference, 1.2ms postprocess per image at shape (1, 3, 1088, 1920)\n",
      "\n",
      "0: 1088x1920 1 ball, 22 players, 17.9ms\n",
      "Speed: 7.7ms preprocess, 17.9ms inference, 1.3ms postprocess per image at shape (1, 3, 1088, 1920)\n"
     ]
    },
    {
     "name": "stdout",
     "output_type": "stream",
     "text": [
      "900\n",
      "901\n",
      "902\n",
      "Time taken to process video: 114.45556116104126 seconds\n"
     ]
    },
    {
     "data": {
      "image/png": "[encoded data removed]",
      "text/plain": [
       "<Figure size 600x200 with 2 Axes>"
      ]
     },
     "metadata": {},
     "output_type": "display_data"
    }
   ],
   "source": [
    "from pathlib import Path\n",
    "import warnings\n",
    "import time\n",
    "\n",
    "warnings.filterwarnings(\"ignore\")\n",
    "model_weights = Path('osnet_x1_0_market1501.pt')\n",
    "yolo_model_path = 'runs/detect/6600_Additional_images/weights/best.pt'\n",
    "input_video_file = \"videos/30sec_BODO.mp4\"\n",
    "output_video_name = create_new_file(input_video_file.split(\".\")[0] + \"_tracking_output_test.mp4\")\n",
    "\n",
    "print(\"Tracking output: \" + output_video_name)\n",
    "output_video_file = output_video_name\n",
    "\n",
    "# home_team_color=\"white\"\n",
    "# away_team_color=\"blue\"\n",
    "\n",
    "tracker = initialize_tracker(model_weights)\n",
    "yolov8 = initialize_yolo(yolo_model_path)\n",
    "\n",
    "class_names = [\"player\", \"ball\"] \n",
    "\n",
    "start_time = time.time()\n",
    "process_video(input_video_file, output_video_file, tracker, yolov8, do_kmeans=True, should_plot=False, class_names=class_names)\n",
    "end_time = time.time()\n",
    "\n",
    "execution_time = end_time - start_time\n",
    "\n",
    "print(f\"Time taken to process video: {execution_time} seconds\")"
   ]
  },
  {
   "cell_type": "code",
   "execution_count": 44,
   "id": "aa032037",
   "metadata": {},
   "outputs": [
    {
     "data": {
      "image/png": "[encoded data removed]",
      "text/plain": [
       "<Figure size 640x480 with 1 Axes>"
      ]
     },
     "metadata": {},
     "output_type": "display_data"
    }
   ],
   "source": [
    "import matplotlib.pyplot as plt\n",
    "import json\n",
    "import os\n",
    "\n",
    "# Load the JSON data\n",
    "filename = \"Calibration_Keypoint/00000.json\"\n",
    "with open(filename, 'r') as f:\n",
    "    data = json.load(f)\n",
    "\n",
    "# Load the image\n",
    "img = plt.imread(filename.replace(\".json\", \".jpg\"))  # assuming it's a .jpg, adjust as needed\n",
    "plt.imshow(img)\n",
    "\n",
    "# Plot each set of points\n",
    "for key, points in data.items():\n",
    "    # Extract x and y coordinates\n",
    "    x = [point['x'] for point in points]\n",
    "    y = [point['y'] for point in points]\n",
    "    \n",
    "    # Scale the coordinates to the image dimensions\n",
    "    h, w, _ = img.shape\n",
    "    x = [i * w for i in x]\n",
    "    y = [j * h for j in y]\n",
    "    \n",
    "    # Draw the shape\n",
    "    plt.plot(x, y, label=key, marker='o')\n",
    "\n",
    "plt.axis('off')  # to hide axes\n",
    "\n",
    "# Display or save the image\n",
    "plt.show()\n",
    "#plt.savefig(os.path.splitext(filename)[0] + \"_output.jpg\", bbox_inches='tight', pad_inches=0)\n"
   ]
  },
  {
   "cell_type": "code",
   "execution_count": 11,
   "id": "8e47339c",
   "metadata": {},
   "outputs": [],
   "source": [
    "import zipfile\n",
    "with zipfile.ZipFile('training.zip', 'r') as zip_ref:\n",
    "    zip_ref.extractall()"
   ]
  },
  {
   "cell_type": "code",
   "execution_count": 13,
   "id": "e20b3edb",
   "metadata": {},
   "outputs": [
    {
     "name": "stdout",
     "output_type": "stream",
     "text": [
      "Renamed 000881.jpg to DataSet000881.jpg\n",
      "Renamed 001506.jpg to DataSet001506.jpg\n",
      "Renamed 001694.jpg to DataSet001694.jpg\n",
      "Renamed 000094.jpg to DataSet000094.jpg\n",
      "Renamed 000210.jpg to DataSet000210.jpg\n",
      "Renamed 001751.jpg to DataSet001751.jpg\n",
      "Renamed 000119.jpg to DataSet000119.jpg\n",
      "Renamed 000879.jpg to DataSet000879.jpg\n",
      "Renamed 001394.jpg to DataSet001394.jpg\n",
      "Renamed 000305.jpg to DataSet000305.jpg\n",
      "Renamed 000028.jpg to DataSet000028.jpg\n",
      "Renamed 000366.jpg to DataSet000366.jpg\n",
      "Renamed 001045.jpg to DataSet001045.jpg\n",
      "Renamed 001785.jpg to DataSet001785.jpg\n",
      "Renamed 001405.jpg to DataSet001405.jpg\n",
      "Renamed 000642.jpg to DataSet000642.jpg\n",
      "Renamed 000427.jpg to DataSet000427.jpg\n",
      "Renamed 001207.jpg to DataSet001207.jpg\n",
      "Renamed 001425.jpg to DataSet001425.jpg\n",
      "Renamed 000844.jpg to DataSet000844.jpg\n",
      "Renamed 000051.jpg to DataSet000051.jpg\n",
      "Renamed 000272.jpg to DataSet000272.jpg\n",
      "Renamed 000442.jpg to DataSet000442.jpg\n",
      "Renamed 001141.jpg to DataSet001141.jpg\n",
      "Renamed 001542.jpg to DataSet001542.jpg\n",
      "Renamed 001293.jpg to DataSet001293.jpg\n",
      "Renamed 000475.jpg to DataSet000475.jpg\n",
      "Renamed 000692.jpg to DataSet000692.jpg\n",
      "Renamed 001236.jpg to DataSet001236.jpg\n",
      "Renamed 001325.jpg to DataSet001325.jpg\n",
      "Renamed 001629.jpg to DataSet001629.jpg\n",
      "Renamed 001234.jpg to DataSet001234.jpg\n",
      "Renamed 001725.jpg to DataSet001725.jpg\n",
      "Renamed 000762.jpg to DataSet000762.jpg\n",
      "Renamed 001220.jpg to DataSet001220.jpg\n",
      "Renamed 000082.jpg to DataSet000082.jpg\n",
      "Renamed 000362.jpg to DataSet000362.jpg\n",
      "Renamed 000950.jpg to DataSet000950.jpg\n",
      "Renamed 000769.jpg to DataSet000769.jpg\n",
      "Renamed 000436.jpg to DataSet000436.jpg\n",
      "Renamed 000343.jpg to DataSet000343.jpg\n",
      "Renamed 001502.jpg to DataSet001502.jpg\n",
      "Renamed 001257.jpg to DataSet001257.jpg\n",
      "Renamed 001297.jpg to DataSet001297.jpg\n",
      "Renamed 000857.jpg to DataSet000857.jpg\n",
      "Renamed 000194.jpg to DataSet000194.jpg\n",
      "Renamed 001329.jpg to DataSet001329.jpg\n",
      "Renamed 000446.jpg to DataSet000446.jpg\n",
      "Renamed 001272.jpg to DataSet001272.jpg\n",
      "Renamed 001611.jpg to DataSet001611.jpg\n",
      "Renamed 001246.jpg to DataSet001246.jpg\n",
      "Renamed 000851.jpg to DataSet000851.jpg\n",
      "Renamed 001118.jpg to DataSet001118.jpg\n",
      "Renamed 001750.jpg to DataSet001750.jpg\n",
      "Renamed 000562.jpg to DataSet000562.jpg\n",
      "Renamed 001277.jpg to DataSet001277.jpg\n",
      "Renamed 001102.jpg to DataSet001102.jpg\n",
      "Renamed 001333.jpg to DataSet001333.jpg\n",
      "Renamed 000845.jpg to DataSet000845.jpg\n",
      "Renamed 001193.jpg to DataSet001193.jpg\n",
      "Renamed 000239.jpg to DataSet000239.jpg\n",
      "Renamed 001403.jpg to DataSet001403.jpg\n",
      "Renamed 001275.jpg to DataSet001275.jpg\n",
      "Renamed 001136.jpg to DataSet001136.jpg\n",
      "Renamed 000580.jpg to DataSet000580.jpg\n",
      "Renamed 001359.jpg to DataSet001359.jpg\n",
      "Renamed 000861.jpg to DataSet000861.jpg\n",
      "Renamed 001653.jpg to DataSet001653.jpg\n",
      "Renamed 000956.jpg to DataSet000956.jpg\n",
      "Renamed 000778.jpg to DataSet000778.jpg\n",
      "Renamed 000600.jpg to DataSet000600.jpg\n",
      "Renamed 001723.jpg to DataSet001723.jpg\n",
      "Renamed 001416.jpg to DataSet001416.jpg\n",
      "Renamed 001191.jpg to DataSet001191.jpg\n",
      "Renamed 001583.jpg to DataSet001583.jpg\n",
      "Renamed 000200.jpg to DataSet000200.jpg\n",
      "Renamed 001711.jpg to DataSet001711.jpg\n",
      "Renamed 001586.jpg to DataSet001586.jpg\n",
      "Renamed 000668.jpg to DataSet000668.jpg\n",
      "Renamed 000988.jpg to DataSet000988.jpg\n",
      "Renamed 001508.jpg to DataSet001508.jpg\n",
      "Renamed 000385.jpg to DataSet000385.jpg\n",
      "Renamed 001082.jpg to DataSet001082.jpg\n",
      "Renamed 001377.jpg to DataSet001377.jpg\n",
      "Renamed 001100.jpg to DataSet001100.jpg\n",
      "Renamed 000337.jpg to DataSet000337.jpg\n",
      "Renamed 001548.jpg to DataSet001548.jpg\n",
      "Renamed 001589.jpg to DataSet001589.jpg\n",
      "Renamed 000014.jpg to DataSet000014.jpg\n",
      "Renamed 000093.jpg to DataSet000093.jpg\n",
      "Renamed 000395.jpg to DataSet000395.jpg\n",
      "Renamed 001338.jpg to DataSet001338.jpg\n",
      "Renamed 001621.jpg to DataSet001621.jpg\n",
      "Renamed 001320.jpg to DataSet001320.jpg\n",
      "Renamed 001781.jpg to DataSet001781.jpg\n",
      "Renamed 000986.jpg to DataSet000986.jpg\n",
      "Renamed 000032.jpg to DataSet000032.jpg\n",
      "Renamed 001101.jpg to DataSet001101.jpg\n",
      "Renamed 000711.jpg to DataSet000711.jpg\n",
      "Renamed 000681.jpg to DataSet000681.jpg\n",
      "Renamed 000506.jpg to DataSet000506.jpg\n",
      "Renamed 000771.jpg to DataSet000771.jpg\n",
      "Renamed 000435.jpg to DataSet000435.jpg\n",
      "Renamed 001395.jpg to DataSet001395.jpg\n",
      "Renamed 001135.jpg to DataSet001135.jpg\n",
      "Renamed 000935.jpg to DataSet000935.jpg\n",
      "Renamed 000947.jpg to DataSet000947.jpg\n",
      "Renamed 000471.jpg to DataSet000471.jpg\n",
      "Renamed 000576.jpg to DataSet000576.jpg\n",
      "Renamed 000046.jpg to DataSet000046.jpg\n",
      "Renamed 001442.jpg to DataSet001442.jpg\n",
      "Renamed 000317.jpg to DataSet000317.jpg\n",
      "Renamed 001185.jpg to DataSet001185.jpg\n",
      "Renamed 000608.jpg to DataSet000608.jpg\n",
      "Renamed 000676.jpg to DataSet000676.jpg\n",
      "Renamed 001260.jpg to DataSet001260.jpg\n",
      "Renamed 001765.jpg to DataSet001765.jpg\n",
      "Renamed 000118.jpg to DataSet000118.jpg\n",
      "Renamed 001198.jpg to DataSet001198.jpg\n",
      "Renamed 000569.jpg to DataSet000569.jpg\n",
      "Renamed 000515.jpg to DataSet000515.jpg\n",
      "Renamed 000158.jpg to DataSet000158.jpg\n",
      "Renamed 000776.jpg to DataSet000776.jpg\n",
      "Renamed 001486.jpg to DataSet001486.jpg\n",
      "Renamed 001145.jpg to DataSet001145.jpg\n",
      "Renamed 001706.jpg to DataSet001706.jpg\n",
      "Renamed 000231.jpg to DataSet000231.jpg\n",
      "Renamed 000749.jpg to DataSet000749.jpg\n",
      "Renamed 000176.jpg to DataSet000176.jpg\n",
      "Renamed 000226.jpg to DataSet000226.jpg\n",
      "Renamed 000743.jpg to DataSet000743.jpg\n",
      "Renamed 001662.jpg to DataSet001662.jpg\n",
      "Renamed 001270.jpg to DataSet001270.jpg\n",
      "Renamed 001615.jpg to DataSet001615.jpg\n",
      "Renamed 000469.jpg to DataSet000469.jpg\n",
      "Renamed 000568.jpg to DataSet000568.jpg\n",
      "Renamed 001139.jpg to DataSet001139.jpg\n",
      "Renamed 001175.jpg to DataSet001175.jpg\n",
      "Renamed 001794.jpg to DataSet001794.jpg\n",
      "Renamed 000440.jpg to DataSet000440.jpg\n",
      "Renamed 001284.jpg to DataSet001284.jpg\n",
      "Renamed 001495.jpg to DataSet001495.jpg\n",
      "Renamed 001028.jpg to DataSet001028.jpg\n",
      "Renamed 000293.jpg to DataSet000293.jpg\n",
      "Renamed 000050.jpg to DataSet000050.jpg\n",
      "Renamed 000426.jpg to DataSet000426.jpg\n",
      "Renamed 000365.jpg to DataSet000365.jpg\n",
      "Renamed 001365.jpg to DataSet001365.jpg\n",
      "Renamed 000260.jpg to DataSet000260.jpg\n",
      "Renamed 001183.jpg to DataSet001183.jpg\n",
      "Renamed 000959.jpg to DataSet000959.jpg\n",
      "Renamed 001473.jpg to DataSet001473.jpg\n",
      "Renamed 000266.jpg to DataSet000266.jpg\n",
      "Renamed 000382.jpg to DataSet000382.jpg\n",
      "Renamed 000672.jpg to DataSet000672.jpg\n",
      "Renamed 000896.jpg to DataSet000896.jpg\n",
      "Renamed 001026.jpg to DataSet001026.jpg\n",
      "Renamed 000738.jpg to DataSet000738.jpg\n",
      "Renamed 000070.jpg to DataSet000070.jpg\n",
      "Renamed 000679.jpg to DataSet000679.jpg\n",
      "Renamed 000669.jpg to DataSet000669.jpg\n",
      "Renamed 001601.jpg to DataSet001601.jpg\n",
      "Renamed 001056.jpg to DataSet001056.jpg\n",
      "Renamed 001012.jpg to DataSet001012.jpg\n",
      "Renamed 000648.jpg to DataSet000648.jpg\n",
      "Renamed 001126.jpg to DataSet001126.jpg\n",
      "Renamed 001386.jpg to DataSet001386.jpg\n",
      "Renamed 001252.jpg to DataSet001252.jpg\n",
      "Renamed 001770.jpg to DataSet001770.jpg\n",
      "Renamed 000984.jpg to DataSet000984.jpg\n",
      "Renamed 001382.jpg to DataSet001382.jpg\n",
      "Renamed 000772.jpg to DataSet000772.jpg\n",
      "Renamed 001681.jpg to DataSet001681.jpg\n",
      "Renamed 000834.jpg to DataSet000834.jpg\n",
      "Renamed 001412.jpg to DataSet001412.jpg\n",
      "Renamed 000814.jpg to DataSet000814.jpg\n",
      "Renamed 001464.jpg to DataSet001464.jpg\n",
      "Renamed 001400.jpg to DataSet001400.jpg\n",
      "Renamed 000612.jpg to DataSet000612.jpg\n",
      "Renamed 000521.jpg to DataSet000521.jpg\n",
      "Renamed 001326.jpg to DataSet001326.jpg\n",
      "Renamed 000238.jpg to DataSet000238.jpg\n",
      "Renamed 000616.jpg to DataSet000616.jpg\n",
      "Renamed 000007.jpg to DataSet000007.jpg\n",
      "Renamed 001363.jpg to DataSet001363.jpg\n",
      "Renamed 001606.jpg to DataSet001606.jpg\n",
      "Renamed 001079.jpg to DataSet001079.jpg\n",
      "Renamed 000248.jpg to DataSet000248.jpg\n",
      "Renamed 000085.jpg to DataSet000085.jpg\n",
      "Renamed 000564.jpg to DataSet000564.jpg\n",
      "Renamed 001802.jpg to DataSet001802.jpg\n",
      "Renamed 000401.jpg to DataSet000401.jpg\n",
      "Renamed 000716.jpg to DataSet000716.jpg\n",
      "Renamed 000544.jpg to DataSet000544.jpg\n",
      "Renamed 001656.jpg to DataSet001656.jpg\n",
      "Renamed 001362.jpg to DataSet001362.jpg\n",
      "Renamed 001250.jpg to DataSet001250.jpg\n",
      "Renamed 000646.jpg to DataSet000646.jpg\n",
      "Renamed 000792.jpg to DataSet000792.jpg\n",
      "Renamed 001258.jpg to DataSet001258.jpg\n",
      "Renamed 001714.jpg to DataSet001714.jpg\n",
      "Renamed 000180.jpg to DataSet000180.jpg\n",
      "Renamed 000886.jpg to DataSet000886.jpg\n",
      "Renamed 001637.jpg to DataSet001637.jpg\n",
      "Renamed 000083.jpg to DataSet000083.jpg\n",
      "Renamed 000340.jpg to DataSet000340.jpg\n",
      "Renamed 001131.jpg to DataSet001131.jpg\n",
      "Renamed 000160.jpg to DataSet000160.jpg\n",
      "Renamed 000478.jpg to DataSet000478.jpg\n",
      "Renamed 000020.jpg to DataSet000020.jpg\n",
      "Renamed 000937.jpg to DataSet000937.jpg\n",
      "Renamed 000217.jpg to DataSet000217.jpg\n",
      "Renamed 000076.jpg to DataSet000076.jpg\n",
      "Renamed 000999.jpg to DataSet000999.jpg\n",
      "Renamed 001643.jpg to DataSet001643.jpg\n",
      "Renamed 000666.jpg to DataSet000666.jpg\n",
      "Renamed 000195.jpg to DataSet000195.jpg\n",
      "Renamed 000643.jpg to DataSet000643.jpg\n",
      "Renamed 000915.jpg to DataSet000915.jpg\n",
      "Renamed 001677.jpg to DataSet001677.jpg\n",
      "Renamed 001384.jpg to DataSet001384.jpg\n",
      "Renamed 001778.jpg to DataSet001778.jpg\n",
      "Renamed 000831.jpg to DataSet000831.jpg\n",
      "Renamed 000622.jpg to DataSet000622.jpg\n",
      "Renamed 001786.jpg to DataSet001786.jpg\n",
      "Renamed 001322.jpg to DataSet001322.jpg\n",
      "Renamed 001005.jpg to DataSet001005.jpg\n",
      "Renamed 000470.jpg to DataSet000470.jpg\n",
      "Renamed 001142.jpg to DataSet001142.jpg\n",
      "Renamed 001638.jpg to DataSet001638.jpg\n",
      "Renamed 000573.jpg to DataSet000573.jpg\n",
      "Renamed 001134.jpg to DataSet001134.jpg\n",
      "Renamed 001429.jpg to DataSet001429.jpg\n",
      "Renamed 000908.jpg to DataSet000908.jpg\n",
      "Renamed 000537.jpg to DataSet000537.jpg\n",
      "Renamed 000218.jpg to DataSet000218.jpg\n",
      "Renamed 000172.jpg to DataSet000172.jpg\n",
      "Renamed 001531.jpg to DataSet001531.jpg\n",
      "Renamed 000184.jpg to DataSet000184.jpg\n",
      "Renamed 001559.jpg to DataSet001559.jpg\n",
      "Renamed 001581.jpg to DataSet001581.jpg\n",
      "Renamed 000372.jpg to DataSet000372.jpg\n",
      "Renamed 001292.jpg to DataSet001292.jpg\n",
      "Renamed 000522.jpg to DataSet000522.jpg\n",
      "Renamed 000420.jpg to DataSet000420.jpg\n",
      "Renamed 000526.jpg to DataSet000526.jpg\n",
      "Renamed 000251.jpg to DataSet000251.jpg\n",
      "Renamed 000548.jpg to DataSet000548.jpg\n",
      "Renamed 000407.jpg to DataSet000407.jpg\n",
      "Renamed 001642.jpg to DataSet001642.jpg\n",
      "Renamed 000331.jpg to DataSet000331.jpg\n",
      "Renamed 001273.jpg to DataSet001273.jpg\n",
      "Renamed 000368.jpg to DataSet000368.jpg\n",
      "Renamed 001602.jpg to DataSet001602.jpg\n",
      "Renamed 000895.jpg to DataSet000895.jpg\n",
      "Renamed 000975.jpg to DataSet000975.jpg\n",
      "Renamed 000856.jpg to DataSet000856.jpg\n",
      "Renamed 001689.jpg to DataSet001689.jpg\n",
      "Renamed 000346.jpg to DataSet000346.jpg\n",
      "Renamed 000005.jpg to DataSet000005.jpg\n",
      "Renamed 000389.jpg to DataSet000389.jpg\n",
      "Renamed 001410.jpg to DataSet001410.jpg\n",
      "Renamed 001039.jpg to DataSet001039.jpg\n",
      "Renamed 000546.jpg to DataSet000546.jpg\n",
      "Renamed 001733.jpg to DataSet001733.jpg\n",
      "Renamed 000921.jpg to DataSet000921.jpg\n",
      "Renamed 000790.jpg to DataSet000790.jpg\n",
      "Renamed 001094.jpg to DataSet001094.jpg\n",
      "Renamed 000657.jpg to DataSet000657.jpg\n",
      "Renamed 000559.jpg to DataSet000559.jpg\n",
      "Renamed 000344.jpg to DataSet000344.jpg\n",
      "Renamed 000019.jpg to DataSet000019.jpg\n",
      "Renamed 000504.jpg to DataSet000504.jpg\n",
      "Renamed 001269.jpg to DataSet001269.jpg\n",
      "Renamed 000685.jpg to DataSet000685.jpg\n",
      "Renamed 001498.jpg to DataSet001498.jpg\n",
      "Renamed 000940.jpg to DataSet000940.jpg\n",
      "Renamed 000549.jpg to DataSet000549.jpg\n",
      "Renamed 001379.jpg to DataSet001379.jpg\n",
      "Renamed 000236.jpg to DataSet000236.jpg\n",
      "Renamed 000577.jpg to DataSet000577.jpg\n",
      "Renamed 000889.jpg to DataSet000889.jpg\n",
      "Renamed 000361.jpg to DataSet000361.jpg\n",
      "Renamed 001617.jpg to DataSet001617.jpg\n",
      "Renamed 000846.jpg to DataSet000846.jpg\n",
      "Renamed 000246.jpg to DataSet000246.jpg\n",
      "Renamed 001603.jpg to DataSet001603.jpg\n",
      "Renamed 001523.jpg to DataSet001523.jpg\n",
      "Renamed 001584.jpg to DataSet001584.jpg\n",
      "Renamed 001245.jpg to DataSet001245.jpg\n",
      "Renamed 001268.jpg to DataSet001268.jpg\n",
      "Renamed 000625.jpg to DataSet000625.jpg\n",
      "Renamed 001699.jpg to DataSet001699.jpg\n",
      "Renamed 000393.jpg to DataSet000393.jpg\n",
      "Renamed 001108.jpg to DataSet001108.jpg\n",
      "Renamed 001216.jpg to DataSet001216.jpg\n",
      "Renamed 000965.jpg to DataSet000965.jpg\n",
      "Renamed 000209.jpg to DataSet000209.jpg\n",
      "Renamed 001791.jpg to DataSet001791.jpg\n",
      "Renamed 001479.jpg to DataSet001479.jpg\n",
      "Renamed 000460.jpg to DataSet000460.jpg\n",
      "Renamed 001585.jpg to DataSet001585.jpg\n",
      "Renamed 001097.jpg to DataSet001097.jpg\n",
      "Renamed 001294.jpg to DataSet001294.jpg\n",
      "Renamed 000813.jpg to DataSet000813.jpg\n",
      "Renamed 000128.jpg to DataSet000128.jpg\n",
      "Renamed 001696.jpg to DataSet001696.jpg\n",
      "Renamed 000816.jpg to DataSet000816.jpg\n",
      "Renamed 000111.jpg to DataSet000111.jpg\n",
      "Renamed 001232.jpg to DataSet001232.jpg\n",
      "Renamed 000271.jpg to DataSet000271.jpg\n",
      "Renamed 001147.jpg to DataSet001147.jpg\n",
      "Renamed 000199.jpg to DataSet000199.jpg\n",
      "Renamed 000873.jpg to DataSet000873.jpg\n",
      "Renamed 000432.jpg to DataSet000432.jpg\n",
      "Renamed 001006.jpg to DataSet001006.jpg\n",
      "Renamed 000590.jpg to DataSet000590.jpg\n",
      "Renamed 000543.jpg to DataSet000543.jpg\n",
      "Renamed 000403.jpg to DataSet000403.jpg\n",
      "Renamed 001356.jpg to DataSet001356.jpg\n",
      "Renamed 000604.jpg to DataSet000604.jpg\n",
      "Renamed 000690.jpg to DataSet000690.jpg\n",
      "Renamed 000297.jpg to DataSet000297.jpg\n",
      "Renamed 001396.jpg to DataSet001396.jpg\n",
      "Renamed 000494.jpg to DataSet000494.jpg\n",
      "Renamed 000419.jpg to DataSet000419.jpg\n",
      "Renamed 001730.jpg to DataSet001730.jpg\n",
      "Renamed 000721.jpg to DataSet000721.jpg\n",
      "Renamed 001263.jpg to DataSet001263.jpg\n",
      "Renamed 000876.jpg to DataSet000876.jpg\n",
      "Renamed 001768.jpg to DataSet001768.jpg\n",
      "Renamed 000819.jpg to DataSet000819.jpg\n",
      "Renamed 001103.jpg to DataSet001103.jpg\n",
      "Renamed 000338.jpg to DataSet000338.jpg\n",
      "Renamed 000980.jpg to DataSet000980.jpg\n",
      "Renamed 000481.jpg to DataSet000481.jpg\n",
      "Renamed 001069.jpg to DataSet001069.jpg\n",
      "Renamed 000244.jpg to DataSet000244.jpg\n",
      "Renamed 001449.jpg to DataSet001449.jpg\n",
      "Renamed 001593.jpg to DataSet001593.jpg\n",
      "Renamed 000258.jpg to DataSet000258.jpg\n",
      "Renamed 001435.jpg to DataSet001435.jpg\n",
      "Renamed 000875.jpg to DataSet000875.jpg\n",
      "Renamed 000298.jpg to DataSet000298.jpg\n",
      "Renamed 000952.jpg to DataSet000952.jpg\n",
      "Renamed 001427.jpg to DataSet001427.jpg\n",
      "Renamed 000437.jpg to DataSet000437.jpg\n",
      "Renamed 000261.jpg to DataSet000261.jpg\n",
      "Renamed 001391.jpg to DataSet001391.jpg\n",
      "Renamed 001764.jpg to DataSet001764.jpg\n",
      "Renamed 000360.jpg to DataSet000360.jpg\n",
      "Renamed 000638.jpg to DataSet000638.jpg\n",
      "Renamed 001433.jpg to DataSet001433.jpg\n",
      "Renamed 001633.jpg to DataSet001633.jpg\n",
      "Renamed 001068.jpg to DataSet001068.jpg\n",
      "Renamed 000370.jpg to DataSet000370.jpg\n",
      "Renamed 000797.jpg to DataSet000797.jpg\n",
      "Renamed 001243.jpg to DataSet001243.jpg\n",
      "Renamed 000467.jpg to DataSet000467.jpg\n",
      "Renamed 000073.jpg to DataSet000073.jpg\n",
      "Renamed 000667.jpg to DataSet000667.jpg\n",
      "Renamed 000824.jpg to DataSet000824.jpg\n",
      "Renamed 001499.jpg to DataSet001499.jpg\n",
      "Renamed 001286.jpg to DataSet001286.jpg\n",
      "Renamed 000621.jpg to DataSet000621.jpg\n",
      "Renamed 000617.jpg to DataSet000617.jpg\n",
      "Renamed 000822.jpg to DataSet000822.jpg\n",
      "Renamed 000193.jpg to DataSet000193.jpg\n",
      "Renamed 000004.jpg to DataSet000004.jpg\n",
      "Renamed 000671.jpg to DataSet000671.jpg\n",
      "Renamed 001347.jpg to DataSet001347.jpg\n",
      "Renamed 000699.jpg to DataSet000699.jpg\n",
      "Renamed 000867.jpg to DataSet000867.jpg\n",
      "Renamed 001792.jpg to DataSet001792.jpg\n",
      "Renamed 001556.jpg to DataSet001556.jpg\n",
      "Renamed 001204.jpg to DataSet001204.jpg\n",
      "Renamed 000884.jpg to DataSet000884.jpg\n",
      "Renamed 000961.jpg to DataSet000961.jpg\n",
      "Renamed 000484.jpg to DataSet000484.jpg\n",
      "Renamed 000379.jpg to DataSet000379.jpg\n",
      "Renamed 001383.jpg to DataSet001383.jpg\n",
      "Renamed 000751.jpg to DataSet000751.jpg\n",
      "Renamed 001336.jpg to DataSet001336.jpg\n",
      "Renamed 000350.jpg to DataSet000350.jpg\n",
      "Renamed 001567.jpg to DataSet001567.jpg\n",
      "Renamed 001221.jpg to DataSet001221.jpg\n",
      "Renamed 000704.jpg to DataSet000704.jpg\n",
      "Renamed 000640.jpg to DataSet000640.jpg\n",
      "Renamed 000782.jpg to DataSet000782.jpg\n",
      "Renamed 001712.jpg to DataSet001712.jpg\n",
      "Renamed 000703.jpg to DataSet000703.jpg\n",
      "Renamed 000855.jpg to DataSet000855.jpg\n",
      "Renamed 001587.jpg to DataSet001587.jpg\n",
      "Renamed 000684.jpg to DataSet000684.jpg\n",
      "Renamed 000306.jpg to DataSet000306.jpg\n",
      "Renamed 001211.jpg to DataSet001211.jpg\n",
      "Renamed 000833.jpg to DataSet000833.jpg\n",
      "Renamed 000055.jpg to DataSet000055.jpg\n",
      "Renamed 001572.jpg to DataSet001572.jpg\n",
      "Renamed 001526.jpg to DataSet001526.jpg\n",
      "Renamed 000453.jpg to DataSet000453.jpg\n",
      "Renamed 000468.jpg to DataSet000468.jpg\n",
      "Renamed 001525.jpg to DataSet001525.jpg\n",
      "Renamed 000202.jpg to DataSet000202.jpg\n",
      "Renamed 001691.jpg to DataSet001691.jpg\n",
      "Renamed 001123.jpg to DataSet001123.jpg\n",
      "Renamed 000888.jpg to DataSet000888.jpg\n",
      "Renamed 000408.jpg to DataSet000408.jpg\n",
      "Renamed 001130.jpg to DataSet001130.jpg\n",
      "Renamed 000878.jpg to DataSet000878.jpg\n",
      "Renamed 001475.jpg to DataSet001475.jpg\n",
      "Renamed 001742.jpg to DataSet001742.jpg\n",
      "Renamed 000456.jpg to DataSet000456.jpg\n",
      "Renamed 000968.jpg to DataSet000968.jpg\n",
      "Renamed 001223.jpg to DataSet001223.jpg\n",
      "Renamed 000532.jpg to DataSet000532.jpg\n",
      "Renamed 000480.jpg to DataSet000480.jpg\n",
      "Renamed 000240.jpg to DataSet000240.jpg\n",
      "Renamed 001478.jpg to DataSet001478.jpg\n",
      "Renamed 000146.jpg to DataSet000146.jpg\n",
      "Renamed 000545.jpg to DataSet000545.jpg\n",
      "Renamed 001536.jpg to DataSet001536.jpg\n",
      "Renamed 000316.jpg to DataSet000316.jpg\n",
      "Renamed 001034.jpg to DataSet001034.jpg\n",
      "Renamed 001722.jpg to DataSet001722.jpg\n",
      "Renamed 000038.jpg to DataSet000038.jpg\n",
      "Renamed 000536.jpg to DataSet000536.jpg\n",
      "Renamed 001503.jpg to DataSet001503.jpg\n",
      "Renamed 001309.jpg to DataSet001309.jpg\n",
      "Renamed 001671.jpg to DataSet001671.jpg\n",
      "Renamed 000838.jpg to DataSet000838.jpg\n",
      "Renamed 001459.jpg to DataSet001459.jpg\n",
      "Renamed 001708.jpg to DataSet001708.jpg\n",
      "Renamed 001497.jpg to DataSet001497.jpg\n",
      "Renamed 000906.jpg to DataSet000906.jpg\n",
      "Renamed 000410.jpg to DataSet000410.jpg\n",
      "Renamed 001392.jpg to DataSet001392.jpg\n",
      "Renamed 001663.jpg to DataSet001663.jpg\n",
      "Renamed 000078.jpg to DataSet000078.jpg\n",
      "Renamed 000989.jpg to DataSet000989.jpg\n",
      "Renamed 000205.jpg to DataSet000205.jpg\n",
      "Renamed 001321.jpg to DataSet001321.jpg\n",
      "Renamed 001241.jpg to DataSet001241.jpg\n",
      "Renamed 001109.jpg to DataSet001109.jpg\n",
      "Renamed 000695.jpg to DataSet000695.jpg\n",
      "Renamed 000936.jpg to DataSet000936.jpg\n",
      "Renamed 000336.jpg to DataSet000336.jpg\n",
      "Renamed 000363.jpg to DataSet000363.jpg\n",
      "Renamed 000839.jpg to DataSet000839.jpg\n",
      "Renamed 001009.jpg to DataSet001009.jpg\n",
      "Renamed 001623.jpg to DataSet001623.jpg\n",
      "Renamed 000574.jpg to DataSet000574.jpg\n",
      "Renamed 001423.jpg to DataSet001423.jpg\n",
      "Renamed 001651.jpg to DataSet001651.jpg\n",
      "Renamed 001731.jpg to DataSet001731.jpg\n",
      "Renamed 000955.jpg to DataSet000955.jpg\n",
      "Renamed 000196.jpg to DataSet000196.jpg\n",
      "Renamed 001471.jpg to DataSet001471.jpg\n",
      "Renamed 001407.jpg to DataSet001407.jpg\n",
      "Renamed 001483.jpg to DataSet001483.jpg\n",
      "Renamed 001282.jpg to DataSet001282.jpg\n",
      "Renamed 001716.jpg to DataSet001716.jpg\n",
      "Renamed 000973.jpg to DataSet000973.jpg\n",
      "Renamed 000502.jpg to DataSet000502.jpg\n",
      "Renamed 000630.jpg to DataSet000630.jpg\n",
      "Renamed 001634.jpg to DataSet001634.jpg\n",
      "Renamed 001782.jpg to DataSet001782.jpg\n",
      "Renamed 001048.jpg to DataSet001048.jpg\n",
      "Renamed 001224.jpg to DataSet001224.jpg\n",
      "Renamed 001468.jpg to DataSet001468.jpg\n",
      "Renamed 001368.jpg to DataSet001368.jpg\n",
      "Renamed 000660.jpg to DataSet000660.jpg\n",
      "Renamed 001324.jpg to DataSet001324.jpg\n",
      "Renamed 000998.jpg to DataSet000998.jpg\n",
      "Renamed 001735.jpg to DataSet001735.jpg\n",
      "Renamed 000106.jpg to DataSet000106.jpg\n",
      "Renamed 001089.jpg to DataSet001089.jpg\n",
      "Renamed 001352.jpg to DataSet001352.jpg\n",
      "Renamed 000605.jpg to DataSet000605.jpg\n",
      "Renamed 001264.jpg to DataSet001264.jpg\n",
      "Renamed 000206.jpg to DataSet000206.jpg\n",
      "Renamed 001238.jpg to DataSet001238.jpg\n",
      "Renamed 000152.jpg to DataSet000152.jpg\n",
      "Renamed 001296.jpg to DataSet001296.jpg\n",
      "Renamed 001171.jpg to DataSet001171.jpg\n",
      "Renamed 000187.jpg to DataSet000187.jpg\n",
      "Renamed 001743.jpg to DataSet001743.jpg\n",
      "Renamed 000099.jpg to DataSet000099.jpg\n",
      "Renamed 001050.jpg to DataSet001050.jpg\n",
      "Renamed 001155.jpg to DataSet001155.jpg\n",
      "Renamed 001132.jpg to DataSet001132.jpg\n",
      "Renamed 001492.jpg to DataSet001492.jpg\n"
     ]
    },
    {
     "name": "stdout",
     "output_type": "stream",
     "text": [
      "Renamed 000412.jpg to DataSet000412.jpg\n",
      "Renamed 000746.jpg to DataSet000746.jpg\n",
      "Renamed 000931.jpg to DataSet000931.jpg\n",
      "Renamed 000758.jpg to DataSet000758.jpg\n",
      "Renamed 000658.jpg to DataSet000658.jpg\n",
      "Renamed 000853.jpg to DataSet000853.jpg\n",
      "Renamed 000765.jpg to DataSet000765.jpg\n",
      "Renamed 000414.jpg to DataSet000414.jpg\n",
      "Renamed 000512.jpg to DataSet000512.jpg\n",
      "Renamed 001789.jpg to DataSet001789.jpg\n",
      "Renamed 001627.jpg to DataSet001627.jpg\n",
      "Renamed 000967.jpg to DataSet000967.jpg\n",
      "Renamed 001340.jpg to DataSet001340.jpg\n",
      "Renamed 000969.jpg to DataSet000969.jpg\n",
      "Renamed 000970.jpg to DataSet000970.jpg\n",
      "Renamed 000430.jpg to DataSet000430.jpg\n",
      "Renamed 000371.jpg to DataSet000371.jpg\n",
      "Renamed 000619.jpg to DataSet000619.jpg\n",
      "Renamed 001217.jpg to DataSet001217.jpg\n",
      "Renamed 001766.jpg to DataSet001766.jpg\n",
      "Renamed 000326.jpg to DataSet000326.jpg\n",
      "Renamed 000760.jpg to DataSet000760.jpg\n",
      "Renamed 000755.jpg to DataSet000755.jpg\n",
      "Renamed 000324.jpg to DataSet000324.jpg\n",
      "Renamed 000182.jpg to DataSet000182.jpg\n",
      "Renamed 001592.jpg to DataSet001592.jpg\n",
      "Renamed 000702.jpg to DataSet000702.jpg\n",
      "Renamed 001181.jpg to DataSet001181.jpg\n",
      "Renamed 000077.jpg to DataSet000077.jpg\n",
      "Renamed 001280.jpg to DataSet001280.jpg\n",
      "Renamed 000097.jpg to DataSet000097.jpg\n",
      "Renamed 000458.jpg to DataSet000458.jpg\n",
      "Renamed 001215.jpg to DataSet001215.jpg\n",
      "Renamed 000107.jpg to DataSet000107.jpg\n",
      "Renamed 001071.jpg to DataSet001071.jpg\n",
      "Renamed 000384.jpg to DataSet000384.jpg\n",
      "Renamed 001430.jpg to DataSet001430.jpg\n",
      "Renamed 001399.jpg to DataSet001399.jpg\n",
      "Renamed 001020.jpg to DataSet001020.jpg\n",
      "Renamed 000713.jpg to DataSet000713.jpg\n",
      "Renamed 001599.jpg to DataSet001599.jpg\n",
      "Renamed 000139.jpg to DataSet000139.jpg\n",
      "Renamed 000335.jpg to DataSet000335.jpg\n",
      "Renamed 000673.jpg to DataSet000673.jpg\n",
      "Renamed 000137.jpg to DataSet000137.jpg\n",
      "Renamed 000486.jpg to DataSet000486.jpg\n",
      "Renamed 001562.jpg to DataSet001562.jpg\n",
      "Renamed 000951.jpg to DataSet000951.jpg\n",
      "Renamed 000563.jpg to DataSet000563.jpg\n",
      "Renamed 000926.jpg to DataSet000926.jpg\n",
      "Renamed 001401.jpg to DataSet001401.jpg\n",
      "Renamed 000112.jpg to DataSet000112.jpg\n",
      "Renamed 001534.jpg to DataSet001534.jpg\n",
      "Renamed 001773.jpg to DataSet001773.jpg\n",
      "Renamed 001482.jpg to DataSet001482.jpg\n",
      "Renamed 001564.jpg to DataSet001564.jpg\n",
      "Renamed 001373.jpg to DataSet001373.jpg\n",
      "Renamed 000636.jpg to DataSet000636.jpg\n",
      "Renamed 000909.jpg to DataSet000909.jpg\n",
      "Renamed 000602.jpg to DataSet000602.jpg\n",
      "Renamed 001344.jpg to DataSet001344.jpg\n",
      "Renamed 000300.jpg to DataSet000300.jpg\n",
      "Renamed 001779.jpg to DataSet001779.jpg\n",
      "Renamed 000341.jpg to DataSet000341.jpg\n",
      "Renamed 001576.jpg to DataSet001576.jpg\n",
      "Renamed 001679.jpg to DataSet001679.jpg\n",
      "Renamed 000829.jpg to DataSet000829.jpg\n",
      "Renamed 001003.jpg to DataSet001003.jpg\n",
      "Renamed 001230.jpg to DataSet001230.jpg\n",
      "Renamed 001254.jpg to DataSet001254.jpg\n",
      "Renamed 000736.jpg to DataSet000736.jpg\n",
      "Renamed 000488.jpg to DataSet000488.jpg\n",
      "Renamed 000161.jpg to DataSet000161.jpg\n",
      "Renamed 000946.jpg to DataSet000946.jpg\n",
      "Renamed 001537.jpg to DataSet001537.jpg\n",
      "Renamed 001364.jpg to DataSet001364.jpg\n",
      "Renamed 001528.jpg to DataSet001528.jpg\n",
      "Renamed 001021.jpg to DataSet001021.jpg\n",
      "Renamed 000479.jpg to DataSet000479.jpg\n",
      "Renamed 001595.jpg to DataSet001595.jpg\n",
      "Renamed 000696.jpg to DataSet000696.jpg\n",
      "Renamed 001772.jpg to DataSet001772.jpg\n",
      "Renamed 000897.jpg to DataSet000897.jpg\n",
      "Renamed 001710.jpg to DataSet001710.jpg\n",
      "Renamed 000916.jpg to DataSet000916.jpg\n",
      "Renamed 000091.jpg to DataSet000091.jpg\n",
      "Renamed 001318.jpg to DataSet001318.jpg\n",
      "Renamed 000707.jpg to DataSet000707.jpg\n",
      "Renamed 000786.jpg to DataSet000786.jpg\n",
      "Renamed 000030.jpg to DataSet000030.jpg\n",
      "Renamed 001646.jpg to DataSet001646.jpg\n",
      "Renamed 001649.jpg to DataSet001649.jpg\n",
      "Renamed 000753.jpg to DataSet000753.jpg\n",
      "Renamed 000447.jpg to DataSet000447.jpg\n",
      "Renamed 000250.jpg to DataSet000250.jpg\n",
      "Renamed 001547.jpg to DataSet001547.jpg\n",
      "Renamed 001535.jpg to DataSet001535.jpg\n",
      "Renamed 000162.jpg to DataSet000162.jpg\n",
      "Renamed 001016.jpg to DataSet001016.jpg\n",
      "Renamed 001225.jpg to DataSet001225.jpg\n",
      "Renamed 000662.jpg to DataSet000662.jpg\n",
      "Renamed 000155.jpg to DataSet000155.jpg\n",
      "Renamed 001488.jpg to DataSet001488.jpg\n",
      "Renamed 000938.jpg to DataSet000938.jpg\n",
      "Renamed 000869.jpg to DataSet000869.jpg\n",
      "Renamed 001721.jpg to DataSet001721.jpg\n",
      "Renamed 000092.jpg to DataSet000092.jpg\n",
      "Renamed 001440.jpg to DataSet001440.jpg\n",
      "Renamed 000893.jpg to DataSet000893.jpg\n",
      "Renamed 000087.jpg to DataSet000087.jpg\n",
      "Renamed 000444.jpg to DataSet000444.jpg\n",
      "Renamed 001709.jpg to DataSet001709.jpg\n",
      "Renamed 001111.jpg to DataSet001111.jpg\n",
      "Renamed 001354.jpg to DataSet001354.jpg\n",
      "Renamed 001462.jpg to DataSet001462.jpg\n",
      "Renamed 001283.jpg to DataSet001283.jpg\n",
      "Renamed 001489.jpg to DataSet001489.jpg\n",
      "Renamed 001078.jpg to DataSet001078.jpg\n",
      "Renamed 000924.jpg to DataSet000924.jpg\n",
      "Renamed 001553.jpg to DataSet001553.jpg\n",
      "Renamed 000572.jpg to DataSet000572.jpg\n",
      "Renamed 000376.jpg to DataSet000376.jpg\n",
      "Renamed 000493.jpg to DataSet000493.jpg\n",
      "Renamed 000553.jpg to DataSet000553.jpg\n",
      "Renamed 001279.jpg to DataSet001279.jpg\n",
      "Renamed 001138.jpg to DataSet001138.jpg\n",
      "Renamed 000647.jpg to DataSet000647.jpg\n",
      "Renamed 001023.jpg to DataSet001023.jpg\n",
      "Renamed 001795.jpg to DataSet001795.jpg\n",
      "Renamed 001519.jpg to DataSet001519.jpg\n",
      "Renamed 000001.jpg to DataSet000001.jpg\n",
      "Renamed 001713.jpg to DataSet001713.jpg\n",
      "Renamed 000628.jpg to DataSet000628.jpg\n",
      "Renamed 001043.jpg to DataSet001043.jpg\n",
      "Renamed 000387.jpg to DataSet000387.jpg\n",
      "Renamed 000010.jpg to DataSet000010.jpg\n",
      "Renamed 000125.jpg to DataSet000125.jpg\n",
      "Renamed 000983.jpg to DataSet000983.jpg\n",
      "Renamed 000315.jpg to DataSet000315.jpg\n",
      "Renamed 000189.jpg to DataSet000189.jpg\n",
      "Renamed 000497.jpg to DataSet000497.jpg\n",
      "Renamed 001004.jpg to DataSet001004.jpg\n",
      "Renamed 000262.jpg to DataSet000262.jpg\n",
      "Renamed 001632.jpg to DataSet001632.jpg\n",
      "Renamed 000592.jpg to DataSet000592.jpg\n",
      "Renamed 000065.jpg to DataSet000065.jpg\n",
      "Renamed 000759.jpg to DataSet000759.jpg\n",
      "Renamed 000777.jpg to DataSet000777.jpg\n",
      "Renamed 001558.jpg to DataSet001558.jpg\n",
      "Renamed 000750.jpg to DataSet000750.jpg\n",
      "Renamed 000793.jpg to DataSet000793.jpg\n",
      "Renamed 001030.jpg to DataSet001030.jpg\n",
      "Renamed 000052.jpg to DataSet000052.jpg\n",
      "Renamed 000624.jpg to DataSet000624.jpg\n",
      "Renamed 001695.jpg to DataSet001695.jpg\n",
      "Renamed 000166.jpg to DataSet000166.jpg\n",
      "Renamed 001125.jpg to DataSet001125.jpg\n",
      "Renamed 000883.jpg to DataSet000883.jpg\n",
      "Renamed 001753.jpg to DataSet001753.jpg\n",
      "Renamed 001038.jpg to DataSet001038.jpg\n",
      "Renamed 001675.jpg to DataSet001675.jpg\n",
      "Renamed 001524.jpg to DataSet001524.jpg\n",
      "Renamed 000756.jpg to DataSet000756.jpg\n",
      "Renamed 001017.jpg to DataSet001017.jpg\n",
      "Renamed 001573.jpg to DataSet001573.jpg\n",
      "Renamed 000645.jpg to DataSet000645.jpg\n",
      "Renamed 000678.jpg to DataSet000678.jpg\n",
      "Renamed 000451.jpg to DataSet000451.jpg\n",
      "Renamed 001644.jpg to DataSet001644.jpg\n",
      "Renamed 000639.jpg to DataSet000639.jpg\n",
      "Renamed 000390.jpg to DataSet000390.jpg\n",
      "Renamed 000021.jpg to DataSet000021.jpg\n",
      "Renamed 001385.jpg to DataSet001385.jpg\n",
      "Renamed 000949.jpg to DataSet000949.jpg\n",
      "Renamed 001513.jpg to DataSet001513.jpg\n",
      "Renamed 000396.jpg to DataSet000396.jpg\n",
      "Renamed 001259.jpg to DataSet001259.jpg\n",
      "Renamed 000688.jpg to DataSet000688.jpg\n",
      "Renamed 000775.jpg to DataSet000775.jpg\n",
      "Renamed 000659.jpg to DataSet000659.jpg\n",
      "Renamed 000901.jpg to DataSet000901.jpg\n",
      "Renamed 001143.jpg to DataSet001143.jpg\n",
      "Renamed 000691.jpg to DataSet000691.jpg\n",
      "Renamed 001579.jpg to DataSet001579.jpg\n",
      "Renamed 000994.jpg to DataSet000994.jpg\n",
      "Renamed 000204.jpg to DataSet000204.jpg\n",
      "Renamed 000054.jpg to DataSet000054.jpg\n",
      "Renamed 000957.jpg to DataSet000957.jpg\n",
      "Renamed 001165.jpg to DataSet001165.jpg\n",
      "Renamed 000849.jpg to DataSet000849.jpg\n",
      "Renamed 000530.jpg to DataSet000530.jpg\n",
      "Renamed 000023.jpg to DataSet000023.jpg\n",
      "Renamed 000397.jpg to DataSet000397.jpg\n",
      "Renamed 000503.jpg to DataSet000503.jpg\n",
      "Renamed 001047.jpg to DataSet001047.jpg\n",
      "Renamed 000717.jpg to DataSet000717.jpg\n",
      "Renamed 000739.jpg to DataSet000739.jpg\n",
      "Renamed 000737.jpg to DataSet000737.jpg\n",
      "Renamed 001509.jpg to DataSet001509.jpg\n",
      "Renamed 000332.jpg to DataSet000332.jpg\n",
      "Renamed 001285.jpg to DataSet001285.jpg\n",
      "Renamed 000748.jpg to DataSet000748.jpg\n",
      "Renamed 000311.jpg to DataSet000311.jpg\n",
      "Renamed 001645.jpg to DataSet001645.jpg\n",
      "Renamed 000116.jpg to DataSet000116.jpg\n",
      "Renamed 000815.jpg to DataSet000815.jpg\n",
      "Renamed 000257.jpg to DataSet000257.jpg\n",
      "Renamed 001469.jpg to DataSet001469.jpg\n",
      "Renamed 001551.jpg to DataSet001551.jpg\n",
      "Renamed 000734.jpg to DataSet000734.jpg\n",
      "Renamed 001530.jpg to DataSet001530.jpg\n",
      "Renamed 001390.jpg to DataSet001390.jpg\n",
      "Renamed 000524.jpg to DataSet000524.jpg\n",
      "Renamed 001177.jpg to DataSet001177.jpg\n",
      "Renamed 000098.jpg to DataSet000098.jpg\n",
      "Renamed 000277.jpg to DataSet000277.jpg\n",
      "Renamed 001737.jpg to DataSet001737.jpg\n",
      "Renamed 000334.jpg to DataSet000334.jpg\n",
      "Renamed 000757.jpg to DataSet000757.jpg\n",
      "Renamed 000727.jpg to DataSet000727.jpg\n",
      "Renamed 000832.jpg to DataSet000832.jpg\n",
      "Renamed 000110.jpg to DataSet000110.jpg\n",
      "Renamed 001187.jpg to DataSet001187.jpg\n",
      "Renamed 001657.jpg to DataSet001657.jpg\n",
      "Renamed 000516.jpg to DataSet000516.jpg\n",
      "Renamed 000902.jpg to DataSet000902.jpg\n",
      "Renamed 001248.jpg to DataSet001248.jpg\n",
      "Renamed 000454.jpg to DataSet000454.jpg\n",
      "Renamed 001756.jpg to DataSet001756.jpg\n",
      "Renamed 000291.jpg to DataSet000291.jpg\n",
      "Renamed 001195.jpg to DataSet001195.jpg\n",
      "Renamed 001092.jpg to DataSet001092.jpg\n",
      "Renamed 001667.jpg to DataSet001667.jpg\n",
      "Renamed 001081.jpg to DataSet001081.jpg\n",
      "Renamed 001640.jpg to DataSet001640.jpg\n",
      "Renamed 001421.jpg to DataSet001421.jpg\n",
      "Renamed 001517.jpg to DataSet001517.jpg\n",
      "Renamed 000183.jpg to DataSet000183.jpg\n",
      "Renamed 000670.jpg to DataSet000670.jpg\n",
      "Renamed 000465.jpg to DataSet000465.jpg\n",
      "Renamed 000623.jpg to DataSet000623.jpg\n",
      "Renamed 001350.jpg to DataSet001350.jpg\n",
      "Renamed 001066.jpg to DataSet001066.jpg\n",
      "Renamed 000071.jpg to DataSet000071.jpg\n",
      "Renamed 001672.jpg to DataSet001672.jpg\n",
      "Renamed 001438.jpg to DataSet001438.jpg\n",
      "Renamed 001420.jpg to DataSet001420.jpg\n",
      "Renamed 001458.jpg to DataSet001458.jpg\n",
      "Renamed 000100.jpg to DataSet000100.jpg\n",
      "Renamed 001148.jpg to DataSet001148.jpg\n",
      "Renamed 000656.jpg to DataSet000656.jpg\n",
      "Renamed 001546.jpg to DataSet001546.jpg\n",
      "Renamed 000720.jpg to DataSet000720.jpg\n",
      "Renamed 001113.jpg to DataSet001113.jpg\n",
      "Renamed 000650.jpg to DataSet000650.jpg\n",
      "Renamed 001780.jpg to DataSet001780.jpg\n",
      "Renamed 000654.jpg to DataSet000654.jpg\n",
      "Renamed 000802.jpg to DataSet000802.jpg\n",
      "Renamed 001200.jpg to DataSet001200.jpg\n",
      "Renamed 000101.jpg to DataSet000101.jpg\n",
      "Renamed 001444.jpg to DataSet001444.jpg\n",
      "Renamed 000799.jpg to DataSet000799.jpg\n",
      "Renamed 001037.jpg to DataSet001037.jpg\n",
      "Renamed 000473.jpg to DataSet000473.jpg\n",
      "Renamed 001680.jpg to DataSet001680.jpg\n",
      "Renamed 001754.jpg to DataSet001754.jpg\n",
      "Renamed 000798.jpg to DataSet000798.jpg\n",
      "Renamed 000964.jpg to DataSet000964.jpg\n",
      "Renamed 000583.jpg to DataSet000583.jpg\n",
      "Renamed 000700.jpg to DataSet000700.jpg\n",
      "Renamed 001747.jpg to DataSet001747.jpg\n",
      "Renamed 001494.jpg to DataSet001494.jpg\n",
      "Renamed 000835.jpg to DataSet000835.jpg\n",
      "Renamed 000424.jpg to DataSet000424.jpg\n",
      "Renamed 000992.jpg to DataSet000992.jpg\n",
      "Renamed 000399.jpg to DataSet000399.jpg\n",
      "Renamed 001159.jpg to DataSet001159.jpg\n",
      "Renamed 000566.jpg to DataSet000566.jpg\n",
      "Renamed 000477.jpg to DataSet000477.jpg\n",
      "Renamed 000247.jpg to DataSet000247.jpg\n",
      "Renamed 001149.jpg to DataSet001149.jpg\n",
      "Renamed 001577.jpg to DataSet001577.jpg\n",
      "Renamed 001409.jpg to DataSet001409.jpg\n",
      "Renamed 000483.jpg to DataSet000483.jpg\n",
      "Renamed 001451.jpg to DataSet001451.jpg\n",
      "Renamed 000872.jpg to DataSet000872.jpg\n",
      "Renamed 000972.jpg to DataSet000972.jpg\n",
      "Renamed 001235.jpg to DataSet001235.jpg\n",
      "Renamed 000945.jpg to DataSet000945.jpg\n",
      "Renamed 001527.jpg to DataSet001527.jpg\n",
      "Renamed 000417.jpg to DataSet000417.jpg\n",
      "Renamed 000191.jpg to DataSet000191.jpg\n",
      "Renamed 000768.jpg to DataSet000768.jpg\n",
      "Renamed 001239.jpg to DataSet001239.jpg\n",
      "Renamed 000011.jpg to DataSet000011.jpg\n",
      "Renamed 000392.jpg to DataSet000392.jpg\n",
      "Renamed 001736.jpg to DataSet001736.jpg\n",
      "Renamed 001331.jpg to DataSet001331.jpg\n",
      "Renamed 000127.jpg to DataSet000127.jpg\n",
      "Renamed 000651.jpg to DataSet000651.jpg\n",
      "Renamed 000773.jpg to DataSet000773.jpg\n",
      "Renamed 001688.jpg to DataSet001688.jpg\n",
      "Renamed 001335.jpg to DataSet001335.jpg\n",
      "Renamed 000609.jpg to DataSet000609.jpg\n",
      "Renamed 001315.jpg to DataSet001315.jpg\n",
      "Renamed 001182.jpg to DataSet001182.jpg\n",
      "Renamed 001777.jpg to DataSet001777.jpg\n",
      "Renamed 000789.jpg to DataSet000789.jpg\n",
      "Renamed 000165.jpg to DataSet000165.jpg\n",
      "Renamed 000345.jpg to DataSet000345.jpg\n",
      "Renamed 000289.jpg to DataSet000289.jpg\n",
      "Renamed 000482.jpg to DataSet000482.jpg\n",
      "Renamed 000588.jpg to DataSet000588.jpg\n",
      "Renamed 000570.jpg to DataSet000570.jpg\n",
      "Renamed 001044.jpg to DataSet001044.jpg\n",
      "Renamed 000644.jpg to DataSet000644.jpg\n",
      "Renamed 000641.jpg to DataSet000641.jpg\n",
      "Renamed 001343.jpg to DataSet001343.jpg\n",
      "Renamed 000865.jpg to DataSet000865.jpg\n",
      "Renamed 001001.jpg to DataSet001001.jpg\n",
      "Renamed 000740.jpg to DataSet000740.jpg\n",
      "Renamed 001565.jpg to DataSet001565.jpg\n",
      "Renamed 001312.jpg to DataSet001312.jpg\n",
      "Renamed 000498.jpg to DataSet000498.jpg\n",
      "Renamed 000953.jpg to DataSet000953.jpg\n",
      "Renamed 000003.jpg to DataSet000003.jpg\n",
      "Renamed 000987.jpg to DataSet000987.jpg\n",
      "Renamed 001371.jpg to DataSet001371.jpg\n",
      "Renamed 000538.jpg to DataSet000538.jpg\n",
      "Renamed 001467.jpg to DataSet001467.jpg\n",
      "Renamed 000611.jpg to DataSet000611.jpg\n",
      "Renamed 000026.jpg to DataSet000026.jpg\n",
      "Renamed 001717.jpg to DataSet001717.jpg\n",
      "Renamed 000074.jpg to DataSet000074.jpg\n",
      "Renamed 001024.jpg to DataSet001024.jpg\n",
      "Renamed 000163.jpg to DataSet000163.jpg\n",
      "Renamed 001465.jpg to DataSet001465.jpg\n",
      "Renamed 000036.jpg to DataSet000036.jpg\n",
      "Renamed 000286.jpg to DataSet000286.jpg\n",
      "Renamed 000770.jpg to DataSet000770.jpg\n",
      "Renamed 000779.jpg to DataSet000779.jpg\n",
      "Renamed 001604.jpg to DataSet001604.jpg\n",
      "Renamed 000620.jpg to DataSet000620.jpg\n",
      "Renamed 000533.jpg to DataSet000533.jpg\n",
      "Renamed 000791.jpg to DataSet000791.jpg\n",
      "Renamed 000709.jpg to DataSet000709.jpg\n",
      "Renamed 001162.jpg to DataSet001162.jpg\n",
      "Renamed 001575.jpg to DataSet001575.jpg\n",
      "Renamed 001608.jpg to DataSet001608.jpg\n",
      "Renamed 000870.jpg to DataSet000870.jpg\n",
      "Renamed 000806.jpg to DataSet000806.jpg\n",
      "Renamed 001253.jpg to DataSet001253.jpg\n",
      "Renamed 001040.jpg to DataSet001040.jpg\n",
      "Renamed 000635.jpg to DataSet000635.jpg\n",
      "Renamed 000723.jpg to DataSet000723.jpg\n",
      "Renamed 001192.jpg to DataSet001192.jpg\n",
      "Renamed 000120.jpg to DataSet000120.jpg\n",
      "Renamed 001578.jpg to DataSet001578.jpg\n",
      "Renamed 000256.jpg to DataSet000256.jpg\n",
      "Renamed 000991.jpg to DataSet000991.jpg\n",
      "Renamed 000863.jpg to DataSet000863.jpg\n",
      "Renamed 000785.jpg to DataSet000785.jpg\n",
      "Renamed 001582.jpg to DataSet001582.jpg\n",
      "Renamed 000880.jpg to DataSet000880.jpg\n",
      "Renamed 000618.jpg to DataSet000618.jpg\n",
      "Renamed 001563.jpg to DataSet001563.jpg\n",
      "Renamed 001087.jpg to DataSet001087.jpg\n",
      "Renamed 000585.jpg to DataSet000585.jpg\n",
      "Renamed 000747.jpg to DataSet000747.jpg\n",
      "Renamed 001616.jpg to DataSet001616.jpg\n",
      "Renamed 001404.jpg to DataSet001404.jpg\n",
      "Renamed 000056.jpg to DataSet000056.jpg\n",
      "Renamed 001474.jpg to DataSet001474.jpg\n",
      "Renamed 000680.jpg to DataSet000680.jpg\n",
      "Renamed 000527.jpg to DataSet000527.jpg\n",
      "Renamed 000069.jpg to DataSet000069.jpg\n",
      "Renamed 000930.jpg to DataSet000930.jpg\n",
      "Renamed 000060.jpg to DataSet000060.jpg\n",
      "Renamed 000243.jpg to DataSet000243.jpg\n",
      "Renamed 001077.jpg to DataSet001077.jpg\n",
      "Renamed 001307.jpg to DataSet001307.jpg\n",
      "Renamed 001520.jpg to DataSet001520.jpg\n",
      "Renamed 001749.jpg to DataSet001749.jpg\n",
      "Renamed 001046.jpg to DataSet001046.jpg\n",
      "Renamed 001008.jpg to DataSet001008.jpg\n",
      "Renamed 000025.jpg to DataSet000025.jpg\n",
      "Renamed 001288.jpg to DataSet001288.jpg\n",
      "Renamed 000917.jpg to DataSet000917.jpg\n",
      "Renamed 001013.jpg to DataSet001013.jpg\n",
      "Renamed 000415.jpg to DataSet000415.jpg\n",
      "Renamed 000529.jpg to DataSet000529.jpg\n",
      "Renamed 001748.jpg to DataSet001748.jpg\n",
      "Renamed 001120.jpg to DataSet001120.jpg\n",
      "Renamed 001790.jpg to DataSet001790.jpg\n",
      "Renamed 000761.jpg to DataSet000761.jpg\n",
      "Renamed 001580.jpg to DataSet001580.jpg\n",
      "Renamed 000598.jpg to DataSet000598.jpg\n",
      "Renamed 001299.jpg to DataSet001299.jpg\n",
      "Renamed 000066.jpg to DataSet000066.jpg\n",
      "Renamed 000520.jpg to DataSet000520.jpg\n",
      "Renamed 001346.jpg to DataSet001346.jpg\n",
      "Renamed 000198.jpg to DataSet000198.jpg\n",
      "Renamed 001393.jpg to DataSet001393.jpg\n",
      "Renamed 000190.jpg to DataSet000190.jpg\n",
      "Renamed 000489.jpg to DataSet000489.jpg\n",
      "Renamed 001228.jpg to DataSet001228.jpg\n",
      "Renamed 000818.jpg to DataSet000818.jpg\n",
      "Renamed 000405.jpg to DataSet000405.jpg\n",
      "Renamed 000418.jpg to DataSet000418.jpg\n",
      "Renamed 000383.jpg to DataSet000383.jpg\n",
      "Renamed 000610.jpg to DataSet000610.jpg\n",
      "Renamed 001500.jpg to DataSet001500.jpg\n",
      "Renamed 000939.jpg to DataSet000939.jpg\n",
      "Renamed 000903.jpg to DataSet000903.jpg\n",
      "Renamed 001058.jpg to DataSet001058.jpg\n",
      "Renamed 001614.jpg to DataSet001614.jpg\n",
      "Renamed 000089.jpg to DataSet000089.jpg\n",
      "Renamed 000663.jpg to DataSet000663.jpg\n",
      "Renamed 001303.jpg to DataSet001303.jpg\n",
      "Renamed 001529.jpg to DataSet001529.jpg\n",
      "Renamed 001063.jpg to DataSet001063.jpg\n",
      "Renamed 000629.jpg to DataSet000629.jpg\n",
      "Renamed 001025.jpg to DataSet001025.jpg\n",
      "Renamed 001431.jpg to DataSet001431.jpg\n",
      "Renamed 000301.jpg to DataSet000301.jpg\n",
      "Renamed 000380.jpg to DataSet000380.jpg\n",
      "Renamed 000808.jpg to DataSet000808.jpg\n",
      "Renamed 000974.jpg to DataSet000974.jpg\n",
      "Renamed 000928.jpg to DataSet000928.jpg\n",
      "Renamed 000292.jpg to DataSet000292.jpg\n",
      "Renamed 000126.jpg to DataSet000126.jpg\n",
      "Renamed 000820.jpg to DataSet000820.jpg\n",
      "Renamed 000309.jpg to DataSet000309.jpg\n",
      "Renamed 000933.jpg to DataSet000933.jpg\n",
      "Renamed 001622.jpg to DataSet001622.jpg\n",
      "Renamed 001501.jpg to DataSet001501.jpg\n",
      "Renamed 000140.jpg to DataSet000140.jpg\n",
      "Renamed 001051.jpg to DataSet001051.jpg\n",
      "Renamed 000323.jpg to DataSet000323.jpg\n",
      "Renamed 000234.jpg to DataSet000234.jpg\n",
      "Renamed 001049.jpg to DataSet001049.jpg\n",
      "Renamed 001242.jpg to DataSet001242.jpg\n",
      "Renamed 001266.jpg to DataSet001266.jpg\n",
      "Renamed 000859.jpg to DataSet000859.jpg\n",
      "Renamed 001032.jpg to DataSet001032.jpg\n",
      "Renamed 001357.jpg to DataSet001357.jpg\n",
      "Renamed 001104.jpg to DataSet001104.jpg\n",
      "Renamed 000354.jpg to DataSet000354.jpg\n",
      "Renamed 000963.jpg to DataSet000963.jpg\n",
      "Renamed 001522.jpg to DataSet001522.jpg\n",
      "Renamed 001330.jpg to DataSet001330.jpg\n",
      "Renamed 000850.jpg to DataSet000850.jpg\n",
      "Renamed 001480.jpg to DataSet001480.jpg\n",
      "Renamed 000821.jpg to DataSet000821.jpg\n",
      "Renamed 000117.jpg to DataSet000117.jpg\n",
      "Renamed 001687.jpg to DataSet001687.jpg\n",
      "Renamed 000591.jpg to DataSet000591.jpg\n",
      "Renamed 000221.jpg to DataSet000221.jpg\n",
      "Renamed 000086.jpg to DataSet000086.jpg\n",
      "Renamed 000009.jpg to DataSet000009.jpg\n",
      "Renamed 000871.jpg to DataSet000871.jpg\n",
      "Renamed 000571.jpg to DataSet000571.jpg\n",
      "Renamed 000513.jpg to DataSet000513.jpg\n",
      "Renamed 000299.jpg to DataSet000299.jpg\n",
      "Renamed 001349.jpg to DataSet001349.jpg\n",
      "Renamed 000229.jpg to DataSet000229.jpg\n",
      "Renamed 001002.jpg to DataSet001002.jpg\n",
      "Renamed 000615.jpg to DataSet000615.jpg\n",
      "Renamed 000596.jpg to DataSet000596.jpg\n",
      "Renamed 001209.jpg to DataSet001209.jpg\n",
      "Renamed 001668.jpg to DataSet001668.jpg\n",
      "Renamed 000352.jpg to DataSet000352.jpg\n",
      "Renamed 000745.jpg to DataSet000745.jpg\n",
      "Renamed 000264.jpg to DataSet000264.jpg\n",
      "Renamed 000523.jpg to DataSet000523.jpg\n",
      "Renamed 001470.jpg to DataSet001470.jpg\n",
      "Renamed 001445.jpg to DataSet001445.jpg\n",
      "Renamed 001053.jpg to DataSet001053.jpg\n",
      "Renamed 000948.jpg to DataSet000948.jpg\n",
      "Renamed 001700.jpg to DataSet001700.jpg\n",
      "Renamed 000081.jpg to DataSet000081.jpg\n",
      "Renamed 000438.jpg to DataSet000438.jpg\n",
      "Renamed 001732.jpg to DataSet001732.jpg\n",
      "Renamed 000774.jpg to DataSet000774.jpg\n",
      "Renamed 001516.jpg to DataSet001516.jpg\n",
      "Renamed 000374.jpg to DataSet000374.jpg\n",
      "Renamed 000885.jpg to DataSet000885.jpg\n",
      "Renamed 001208.jpg to DataSet001208.jpg\n",
      "Renamed 000232.jpg to DataSet000232.jpg\n",
      "Renamed 000913.jpg to DataSet000913.jpg\n",
      "Renamed 000129.jpg to DataSet000129.jpg\n",
      "Renamed 000431.jpg to DataSet000431.jpg\n",
      "Renamed 001568.jpg to DataSet001568.jpg\n",
      "Renamed 001636.jpg to DataSet001636.jpg\n",
      "Renamed 000207.jpg to DataSet000207.jpg\n",
      "Renamed 001588.jpg to DataSet001588.jpg\n",
      "Renamed 001116.jpg to DataSet001116.jpg\n",
      "Renamed 001105.jpg to DataSet001105.jpg\n",
      "Renamed 001557.jpg to DataSet001557.jpg\n",
      "Renamed 000041.jpg to DataSet000041.jpg\n",
      "Renamed 000517.jpg to DataSet000517.jpg\n",
      "Renamed 000284.jpg to DataSet000284.jpg\n",
      "Renamed 000941.jpg to DataSet000941.jpg\n",
      "Renamed 001060.jpg to DataSet001060.jpg\n",
      "Renamed 000142.jpg to DataSet000142.jpg\n",
      "Renamed 001669.jpg to DataSet001669.jpg\n",
      "Renamed 001055.jpg to DataSet001055.jpg\n",
      "Renamed 000557.jpg to DataSet000557.jpg\n",
      "Renamed 000701.jpg to DataSet000701.jpg\n",
      "Renamed 000689.jpg to DataSet000689.jpg\n",
      "Renamed 001437.jpg to DataSet001437.jpg\n",
      "Renamed 000312.jpg to DataSet000312.jpg\n",
      "Renamed 000891.jpg to DataSet000891.jpg\n",
      "Renamed 000121.jpg to DataSet000121.jpg\n",
      "Renamed 000133.jpg to DataSet000133.jpg\n",
      "Renamed 000314.jpg to DataSet000314.jpg\n",
      "Renamed 000860.jpg to DataSet000860.jpg\n",
      "Renamed 001515.jpg to DataSet001515.jpg\n",
      "Renamed 000943.jpg to DataSet000943.jpg\n",
      "Renamed 000211.jpg to DataSet000211.jpg\n",
      "Renamed 000433.jpg to DataSet000433.jpg\n",
      "Renamed 001305.jpg to DataSet001305.jpg\n",
      "Renamed 001310.jpg to DataSet001310.jpg\n",
      "Renamed 000531.jpg to DataSet000531.jpg\n",
      "Renamed 001472.jpg to DataSet001472.jpg\n",
      "Renamed 001342.jpg to DataSet001342.jpg\n",
      "Renamed 001057.jpg to DataSet001057.jpg\n",
      "Renamed 001684.jpg to DataSet001684.jpg\n",
      "Renamed 001496.jpg to DataSet001496.jpg\n",
      "Renamed 001507.jpg to DataSet001507.jpg\n",
      "Renamed 000653.jpg to DataSet000653.jpg\n",
      "Renamed 001485.jpg to DataSet001485.jpg\n",
      "Renamed 001775.jpg to DataSet001775.jpg\n",
      "Renamed 001313.jpg to DataSet001313.jpg\n",
      "Renamed 000130.jpg to DataSet000130.jpg\n",
      "Renamed 000328.jpg to DataSet000328.jpg\n",
      "Renamed 000225.jpg to DataSet000225.jpg\n"
     ]
    },
    {
     "name": "stdout",
     "output_type": "stream",
     "text": [
      "Renamed 001758.jpg to DataSet001758.jpg\n",
      "Renamed 000457.jpg to DataSet000457.jpg\n",
      "Renamed 000595.jpg to DataSet000595.jpg\n",
      "Renamed 001167.jpg to DataSet001167.jpg\n",
      "Renamed 000102.jpg to DataSet000102.jpg\n",
      "Renamed 001704.jpg to DataSet001704.jpg\n",
      "Renamed 000805.jpg to DataSet000805.jpg\n",
      "Renamed 001538.jpg to DataSet001538.jpg\n",
      "Renamed 001019.jpg to DataSet001019.jpg\n",
      "Renamed 000509.jpg to DataSet000509.jpg\n",
      "Renamed 000223.jpg to DataSet000223.jpg\n",
      "Renamed 000911.jpg to DataSet000911.jpg\n",
      "Renamed 000303.jpg to DataSet000303.jpg\n",
      "Renamed 000827.jpg to DataSet000827.jpg\n",
      "Renamed 000042.jpg to DataSet000042.jpg\n",
      "Renamed 001031.jpg to DataSet001031.jpg\n",
      "Renamed 000411.jpg to DataSet000411.jpg\n",
      "Renamed 000631.jpg to DataSet000631.jpg\n",
      "Renamed 000464.jpg to DataSet000464.jpg\n",
      "Renamed 000062.jpg to DataSet000062.jpg\n",
      "Renamed 001203.jpg to DataSet001203.jpg\n",
      "Renamed 000237.jpg to DataSet000237.jpg\n",
      "Renamed 001156.jpg to DataSet001156.jpg\n",
      "Renamed 000027.jpg to DataSet000027.jpg\n",
      "Renamed 001233.jpg to DataSet001233.jpg\n",
      "Renamed 000349.jpg to DataSet000349.jpg\n",
      "Renamed 000800.jpg to DataSet000800.jpg\n",
      "Renamed 001219.jpg to DataSet001219.jpg\n",
      "Renamed 000525.jpg to DataSet000525.jpg\n",
      "Renamed 001787.jpg to DataSet001787.jpg\n",
      "Renamed 000466.jpg to DataSet000466.jpg\n",
      "Renamed 001533.jpg to DataSet001533.jpg\n",
      "Renamed 000894.jpg to DataSet000894.jpg\n",
      "Renamed 000233.jpg to DataSet000233.jpg\n",
      "Renamed 001746.jpg to DataSet001746.jpg\n",
      "Renamed 000134.jpg to DataSet000134.jpg\n",
      "Renamed 001287.jpg to DataSet001287.jpg\n",
      "Renamed 001619.jpg to DataSet001619.jpg\n",
      "Renamed 000719.jpg to DataSet000719.jpg\n",
      "Renamed 001544.jpg to DataSet001544.jpg\n",
      "Renamed 000919.jpg to DataSet000919.jpg\n",
      "Renamed 001314.jpg to DataSet001314.jpg\n",
      "Renamed 000404.jpg to DataSet000404.jpg\n",
      "Renamed 001415.jpg to DataSet001415.jpg\n",
      "Renamed 000979.jpg to DataSet000979.jpg\n",
      "Renamed 000887.jpg to DataSet000887.jpg\n",
      "Renamed 000039.jpg to DataSet000039.jpg\n",
      "Renamed 000567.jpg to DataSet000567.jpg\n",
      "Renamed 000153.jpg to DataSet000153.jpg\n",
      "Renamed 000866.jpg to DataSet000866.jpg\n",
      "Renamed 000136.jpg to DataSet000136.jpg\n",
      "Renamed 000510.jpg to DataSet000510.jpg\n",
      "Renamed 000327.jpg to DataSet000327.jpg\n",
      "Renamed 000558.jpg to DataSet000558.jpg\n",
      "Renamed 000203.jpg to DataSet000203.jpg\n",
      "Renamed 001014.jpg to DataSet001014.jpg\n",
      "Renamed 001176.jpg to DataSet001176.jpg\n",
      "Renamed 000353.jpg to DataSet000353.jpg\n",
      "Renamed 000578.jpg to DataSet000578.jpg\n",
      "Renamed 001566.jpg to DataSet001566.jpg\n",
      "Renamed 000173.jpg to DataSet000173.jpg\n",
      "Renamed 001237.jpg to DataSet001237.jpg\n",
      "Renamed 000852.jpg to DataSet000852.jpg\n",
      "Renamed 001160.jpg to DataSet001160.jpg\n",
      "Renamed 000359.jpg to DataSet000359.jpg\n",
      "Renamed 001744.jpg to DataSet001744.jpg\n",
      "Renamed 001545.jpg to DataSet001545.jpg\n",
      "Renamed 001682.jpg to DataSet001682.jpg\n",
      "Renamed 000167.jpg to DataSet000167.jpg\n",
      "Renamed 000269.jpg to DataSet000269.jpg\n",
      "Renamed 001133.jpg to DataSet001133.jpg\n",
      "Renamed 000874.jpg to DataSet000874.jpg\n",
      "Renamed 000171.jpg to DataSet000171.jpg\n",
      "Renamed 000108.jpg to DataSet000108.jpg\n",
      "Renamed 000925.jpg to DataSet000925.jpg\n",
      "Renamed 001406.jpg to DataSet001406.jpg\n",
      "Renamed 001678.jpg to DataSet001678.jpg\n",
      "Renamed 000932.jpg to DataSet000932.jpg\n",
      "Renamed 000339.jpg to DataSet000339.jpg\n",
      "Renamed 000280.jpg to DataSet000280.jpg\n",
      "Renamed 000825.jpg to DataSet000825.jpg\n",
      "Renamed 001549.jpg to DataSet001549.jpg\n",
      "Renamed 000730.jpg to DataSet000730.jpg\n",
      "Renamed 000072.jpg to DataSet000072.jpg\n",
      "Renamed 001256.jpg to DataSet001256.jpg\n",
      "Renamed 000905.jpg to DataSet000905.jpg\n",
      "Renamed 000541.jpg to DataSet000541.jpg\n",
      "Renamed 001692.jpg to DataSet001692.jpg\n",
      "Renamed 001291.jpg to DataSet001291.jpg\n",
      "Renamed 000049.jpg to DataSet000049.jpg\n",
      "Renamed 001070.jpg to DataSet001070.jpg\n",
      "Renamed 000034.jpg to DataSet000034.jpg\n",
      "Renamed 000400.jpg to DataSet000400.jpg\n",
      "Renamed 000500.jpg to DataSet000500.jpg\n",
      "Renamed 001490.jpg to DataSet001490.jpg\n",
      "Renamed 001196.jpg to DataSet001196.jpg\n",
      "Renamed 000308.jpg to DataSet000308.jpg\n",
      "Renamed 000355.jpg to DataSet000355.jpg\n",
      "Renamed 000310.jpg to DataSet000310.jpg\n",
      "Renamed 000263.jpg to DataSet000263.jpg\n",
      "Renamed 000540.jpg to DataSet000540.jpg\n",
      "Renamed 000013.jpg to DataSet000013.jpg\n",
      "Renamed 001179.jpg to DataSet001179.jpg\n",
      "Renamed 000068.jpg to DataSet000068.jpg\n",
      "Renamed 001128.jpg to DataSet001128.jpg\n",
      "Renamed 000429.jpg to DataSet000429.jpg\n",
      "Renamed 000265.jpg to DataSet000265.jpg\n",
      "Renamed 000319.jpg to DataSet000319.jpg\n",
      "Renamed 001015.jpg to DataSet001015.jpg\n",
      "Renamed 000274.jpg to DataSet000274.jpg\n",
      "Renamed 000143.jpg to DataSet000143.jpg\n",
      "Renamed 000698.jpg to DataSet000698.jpg\n",
      "Renamed 001762.jpg to DataSet001762.jpg\n",
      "Renamed 001361.jpg to DataSet001361.jpg\n",
      "Renamed 001514.jpg to DataSet001514.jpg\n",
      "Renamed 000744.jpg to DataSet000744.jpg\n",
      "Renamed 000249.jpg to DataSet000249.jpg\n",
      "Renamed 000313.jpg to DataSet000313.jpg\n",
      "Renamed 001664.jpg to DataSet001664.jpg\n",
      "Renamed 000252.jpg to DataSet000252.jpg\n",
      "Renamed 001218.jpg to DataSet001218.jpg\n",
      "Renamed 001033.jpg to DataSet001033.jpg\n",
      "Renamed 000556.jpg to DataSet000556.jpg\n",
      "Renamed 001719.jpg to DataSet001719.jpg\n",
      "Renamed 000378.jpg to DataSet000378.jpg\n",
      "Renamed 000402.jpg to DataSet000402.jpg\n",
      "Renamed 001715.jpg to DataSet001715.jpg\n",
      "Renamed 000230.jpg to DataSet000230.jpg\n",
      "Renamed 001655.jpg to DataSet001655.jpg\n",
      "Renamed 001214.jpg to DataSet001214.jpg\n",
      "Renamed 001674.jpg to DataSet001674.jpg\n",
      "Renamed 001727.jpg to DataSet001727.jpg\n",
      "Renamed 000035.jpg to DataSet000035.jpg\n",
      "Renamed 001761.jpg to DataSet001761.jpg\n",
      "Renamed 001281.jpg to DataSet001281.jpg\n",
      "Renamed 000487.jpg to DataSet000487.jpg\n",
      "Renamed 000369.jpg to DataSet000369.jpg\n",
      "Renamed 000043.jpg to DataSet000043.jpg\n",
      "Renamed 001184.jpg to DataSet001184.jpg\n",
      "Renamed 001641.jpg to DataSet001641.jpg\n",
      "Renamed 000283.jpg to DataSet000283.jpg\n",
      "Renamed 000058.jpg to DataSet000058.jpg\n",
      "Renamed 000632.jpg to DataSet000632.jpg\n",
      "Renamed 000367.jpg to DataSet000367.jpg\n",
      "Renamed 000228.jpg to DataSet000228.jpg\n",
      "Renamed 001129.jpg to DataSet001129.jpg\n",
      "Renamed 000649.jpg to DataSet000649.jpg\n",
      "Renamed 001426.jpg to DataSet001426.jpg\n",
      "Renamed 000329.jpg to DataSet000329.jpg\n",
      "Renamed 001229.jpg to DataSet001229.jpg\n",
      "Renamed 001210.jpg to DataSet001210.jpg\n",
      "Renamed 001255.jpg to DataSet001255.jpg\n",
      "Renamed 001227.jpg to DataSet001227.jpg\n",
      "Renamed 000586.jpg to DataSet000586.jpg\n",
      "Renamed 000561.jpg to DataSet000561.jpg\n",
      "Renamed 001154.jpg to DataSet001154.jpg\n",
      "Renamed 000288.jpg to DataSet000288.jpg\n",
      "Renamed 001194.jpg to DataSet001194.jpg\n",
      "Renamed 000088.jpg to DataSet000088.jpg\n",
      "Renamed 001441.jpg to DataSet001441.jpg\n",
      "Renamed 000476.jpg to DataSet000476.jpg\n",
      "Renamed 001332.jpg to DataSet001332.jpg\n",
      "Renamed 001278.jpg to DataSet001278.jpg\n",
      "Renamed 000149.jpg to DataSet000149.jpg\n",
      "Renamed 001327.jpg to DataSet001327.jpg\n",
      "Renamed 000733.jpg to DataSet000733.jpg\n",
      "Renamed 000962.jpg to DataSet000962.jpg\n",
      "Renamed 000900.jpg to DataSet000900.jpg\n",
      "Renamed 001532.jpg to DataSet001532.jpg\n",
      "Renamed 001169.jpg to DataSet001169.jpg\n",
      "Renamed 000151.jpg to DataSet000151.jpg\n",
      "Renamed 001639.jpg to DataSet001639.jpg\n",
      "Renamed 000059.jpg to DataSet000059.jpg\n",
      "Renamed 000495.jpg to DataSet000495.jpg\n",
      "Renamed 000601.jpg to DataSet000601.jpg\n",
      "Renamed 000177.jpg to DataSet000177.jpg\n",
      "Renamed 001308.jpg to DataSet001308.jpg\n",
      "Renamed 001369.jpg to DataSet001369.jpg\n",
      "Renamed 000801.jpg to DataSet000801.jpg\n",
      "Renamed 000321.jpg to DataSet000321.jpg\n",
      "Renamed 000890.jpg to DataSet000890.jpg\n",
      "Renamed 001555.jpg to DataSet001555.jpg\n",
      "Renamed 001798.jpg to DataSet001798.jpg\n",
      "Renamed 000995.jpg to DataSet000995.jpg\n",
      "Renamed 000079.jpg to DataSet000079.jpg\n",
      "Renamed 000422.jpg to DataSet000422.jpg\n",
      "Renamed 000347.jpg to DataSet000347.jpg\n",
      "Renamed 001339.jpg to DataSet001339.jpg\n",
      "Renamed 000552.jpg to DataSet000552.jpg\n",
      "Renamed 000742.jpg to DataSet000742.jpg\n",
      "Renamed 001059.jpg to DataSet001059.jpg\n",
      "Renamed 001728.jpg to DataSet001728.jpg\n",
      "Renamed 001231.jpg to DataSet001231.jpg\n",
      "Renamed 000958.jpg to DataSet000958.jpg\n",
      "Renamed 001212.jpg to DataSet001212.jpg\n",
      "Renamed 000423.jpg to DataSet000423.jpg\n",
      "Renamed 001505.jpg to DataSet001505.jpg\n",
      "Renamed 001152.jpg to DataSet001152.jpg\n",
      "Renamed 000255.jpg to DataSet000255.jpg\n",
      "Renamed 001460.jpg to DataSet001460.jpg\n",
      "Renamed 000318.jpg to DataSet000318.jpg\n",
      "Renamed 000812.jpg to DataSet000812.jpg\n",
      "Renamed 001457.jpg to DataSet001457.jpg\n",
      "Renamed 001650.jpg to DataSet001650.jpg\n",
      "Renamed 000677.jpg to DataSet000677.jpg\n",
      "Renamed 001476.jpg to DataSet001476.jpg\n",
      "Renamed 000694.jpg to DataSet000694.jpg\n",
      "Renamed 000705.jpg to DataSet000705.jpg\n",
      "Renamed 000934.jpg to DataSet000934.jpg\n",
      "Renamed 000175.jpg to DataSet000175.jpg\n",
      "Renamed 000978.jpg to DataSet000978.jpg\n",
      "Renamed 001011.jpg to DataSet001011.jpg\n",
      "Renamed 001205.jpg to DataSet001205.jpg\n",
      "Renamed 000067.jpg to DataSet000067.jpg\n",
      "Renamed 001511.jpg to DataSet001511.jpg\n",
      "Renamed 000993.jpg to DataSet000993.jpg\n",
      "Renamed 001072.jpg to DataSet001072.jpg\n",
      "Renamed 000882.jpg to DataSet000882.jpg\n",
      "Renamed 001796.jpg to DataSet001796.jpg\n",
      "Renamed 001244.jpg to DataSet001244.jpg\n",
      "Renamed 000794.jpg to DataSet000794.jpg\n",
      "Renamed 001461.jpg to DataSet001461.jpg\n",
      "Renamed 001389.jpg to DataSet001389.jpg\n",
      "Renamed 001358.jpg to DataSet001358.jpg\n",
      "Renamed 001665.jpg to DataSet001665.jpg\n",
      "Renamed 001647.jpg to DataSet001647.jpg\n",
      "Renamed 000795.jpg to DataSet000795.jpg\n",
      "Renamed 001447.jpg to DataSet001447.jpg\n",
      "Renamed 000159.jpg to DataSet000159.jpg\n",
      "Renamed 001222.jpg to DataSet001222.jpg\n",
      "Renamed 001150.jpg to DataSet001150.jpg\n",
      "Renamed 001110.jpg to DataSet001110.jpg\n",
      "Renamed 000063.jpg to DataSet000063.jpg\n",
      "Renamed 000416.jpg to DataSet000416.jpg\n",
      "Renamed 000731.jpg to DataSet000731.jpg\n",
      "Renamed 001172.jpg to DataSet001172.jpg\n",
      "Renamed 000113.jpg to DataSet000113.jpg\n",
      "Renamed 000461.jpg to DataSet000461.jpg\n",
      "Renamed 000728.jpg to DataSet000728.jpg\n",
      "Renamed 001454.jpg to DataSet001454.jpg\n",
      "Renamed 001543.jpg to DataSet001543.jpg\n",
      "Renamed 001784.jpg to DataSet001784.jpg\n",
      "Renamed 001018.jpg to DataSet001018.jpg\n",
      "Renamed 000135.jpg to DataSet000135.jpg\n",
      "Renamed 000862.jpg to DataSet000862.jpg\n",
      "Renamed 000781.jpg to DataSet000781.jpg\n",
      "Renamed 000219.jpg to DataSet000219.jpg\n",
      "Renamed 000148.jpg to DataSet000148.jpg\n",
      "Renamed 001788.jpg to DataSet001788.jpg\n",
      "Renamed 000242.jpg to DataSet000242.jpg\n",
      "Renamed 000275.jpg to DataSet000275.jpg\n",
      "Renamed 000550.jpg to DataSet000550.jpg\n",
      "Renamed 000589.jpg to DataSet000589.jpg\n",
      "Renamed 000754.jpg to DataSet000754.jpg\n",
      "Renamed 001161.jpg to DataSet001161.jpg\n",
      "Renamed 000722.jpg to DataSet000722.jpg\n",
      "Renamed 001774.jpg to DataSet001774.jpg\n",
      "Renamed 000356.jpg to DataSet000356.jpg\n",
      "Renamed 001027.jpg to DataSet001027.jpg\n",
      "Renamed 000455.jpg to DataSet000455.jpg\n",
      "Renamed 000565.jpg to DataSet000565.jpg\n",
      "Renamed 001673.jpg to DataSet001673.jpg\n",
      "Renamed 000535.jpg to DataSet000535.jpg\n",
      "Renamed 001734.jpg to DataSet001734.jpg\n",
      "Renamed 001726.jpg to DataSet001726.jpg\n",
      "Renamed 000450.jpg to DataSet000450.jpg\n",
      "Renamed 000104.jpg to DataSet000104.jpg\n",
      "Renamed 000443.jpg to DataSet000443.jpg\n",
      "Renamed 000539.jpg to DataSet000539.jpg\n",
      "Renamed 000715.jpg to DataSet000715.jpg\n",
      "Renamed 001090.jpg to DataSet001090.jpg\n",
      "Renamed 000579.jpg to DataSet000579.jpg\n",
      "Renamed 001697.jpg to DataSet001697.jpg\n",
      "Renamed 000767.jpg to DataSet000767.jpg\n",
      "Renamed 000224.jpg to DataSet000224.jpg\n",
      "Renamed 000105.jpg to DataSet000105.jpg\n",
      "Renamed 000519.jpg to DataSet000519.jpg\n",
      "Renamed 001249.jpg to DataSet001249.jpg\n",
      "Renamed 000560.jpg to DataSet000560.jpg\n",
      "Renamed 000394.jpg to DataSet000394.jpg\n",
      "Renamed 001247.jpg to DataSet001247.jpg\n",
      "Renamed 001740.jpg to DataSet001740.jpg\n",
      "Renamed 000735.jpg to DataSet000735.jpg\n",
      "Renamed 000584.jpg to DataSet000584.jpg\n",
      "Renamed 001698.jpg to DataSet001698.jpg\n",
      "Renamed 001414.jpg to DataSet001414.jpg\n",
      "Renamed 001596.jpg to DataSet001596.jpg\n",
      "Renamed 000508.jpg to DataSet000508.jpg\n",
      "Renamed 000501.jpg to DataSet000501.jpg\n",
      "Renamed 000682.jpg to DataSet000682.jpg\n",
      "Renamed 001631.jpg to DataSet001631.jpg\n",
      "Renamed 000122.jpg to DataSet000122.jpg\n",
      "Renamed 001073.jpg to DataSet001073.jpg\n",
      "Renamed 001799.jpg to DataSet001799.jpg\n",
      "Renamed 001597.jpg to DataSet001597.jpg\n",
      "Renamed 000285.jpg to DataSet000285.jpg\n",
      "Renamed 000907.jpg to DataSet000907.jpg\n",
      "Renamed 001353.jpg to DataSet001353.jpg\n",
      "Renamed 000287.jpg to DataSet000287.jpg\n",
      "Renamed 000858.jpg to DataSet000858.jpg\n",
      "Renamed 001600.jpg to DataSet001600.jpg\n",
      "Renamed 000555.jpg to DataSet000555.jpg\n",
      "Renamed 001300.jpg to DataSet001300.jpg\n",
      "Renamed 001607.jpg to DataSet001607.jpg\n",
      "Renamed 000714.jpg to DataSet000714.jpg\n",
      "Renamed 001767.jpg to DataSet001767.jpg\n",
      "Renamed 000192.jpg to DataSet000192.jpg\n",
      "Renamed 000441.jpg to DataSet000441.jpg\n",
      "Renamed 001091.jpg to DataSet001091.jpg\n",
      "Renamed 000428.jpg to DataSet000428.jpg\n",
      "Renamed 001481.jpg to DataSet001481.jpg\n",
      "Renamed 001666.jpg to DataSet001666.jpg\n",
      "Renamed 000892.jpg to DataSet000892.jpg\n",
      "Renamed 001387.jpg to DataSet001387.jpg\n",
      "Renamed 000787.jpg to DataSet000787.jpg\n",
      "Renamed 000966.jpg to DataSet000966.jpg\n",
      "Renamed 001776.jpg to DataSet001776.jpg\n",
      "Renamed 000053.jpg to DataSet000053.jpg\n",
      "Renamed 000064.jpg to DataSet000064.jpg\n",
      "Renamed 000836.jpg to DataSet000836.jpg\n",
      "Renamed 000976.jpg to DataSet000976.jpg\n",
      "Renamed 000016.jpg to DataSet000016.jpg\n",
      "Renamed 000575.jpg to DataSet000575.jpg\n",
      "Renamed 000514.jpg to DataSet000514.jpg\n",
      "Renamed 001127.jpg to DataSet001127.jpg\n",
      "Renamed 001690.jpg to DataSet001690.jpg\n",
      "Renamed 000216.jpg to DataSet000216.jpg\n",
      "Renamed 001598.jpg to DataSet001598.jpg\n",
      "Renamed 001153.jpg to DataSet001153.jpg\n",
      "Renamed 001521.jpg to DataSet001521.jpg\n",
      "Renamed 000462.jpg to DataSet000462.jpg\n",
      "Renamed 001137.jpg to DataSet001137.jpg\n",
      "Renamed 000357.jpg to DataSet000357.jpg\n",
      "Renamed 001107.jpg to DataSet001107.jpg\n",
      "Renamed 000499.jpg to DataSet000499.jpg\n",
      "Renamed 001289.jpg to DataSet001289.jpg\n",
      "Renamed 000364.jpg to DataSet000364.jpg\n",
      "Renamed 000942.jpg to DataSet000942.jpg\n",
      "Renamed 000452.jpg to DataSet000452.jpg\n",
      "Renamed 000080.jpg to DataSet000080.jpg\n",
      "Renamed 001569.jpg to DataSet001569.jpg\n",
      "Renamed 000008.jpg to DataSet000008.jpg\n",
      "Renamed 001036.jpg to DataSet001036.jpg\n",
      "Renamed 000075.jpg to DataSet000075.jpg\n",
      "Renamed 001477.jpg to DataSet001477.jpg\n",
      "Renamed 000012.jpg to DataSet000012.jpg\n",
      "Renamed 000534.jpg to DataSet000534.jpg\n",
      "Renamed 000029.jpg to DataSet000029.jpg\n",
      "Renamed 001510.jpg to DataSet001510.jpg\n",
      "Renamed 001635.jpg to DataSet001635.jpg\n",
      "Renamed 000683.jpg to DataSet000683.jpg\n",
      "Renamed 000837.jpg to DataSet000837.jpg\n",
      "Renamed 000491.jpg to DataSet000491.jpg\n",
      "Renamed 000726.jpg to DataSet000726.jpg\n",
      "Renamed 000474.jpg to DataSet000474.jpg\n",
      "Renamed 001096.jpg to DataSet001096.jpg\n",
      "Renamed 001084.jpg to DataSet001084.jpg\n",
      "Renamed 001658.jpg to DataSet001658.jpg\n",
      "Renamed 000351.jpg to DataSet000351.jpg\n",
      "Renamed 001151.jpg to DataSet001151.jpg\n",
      "Renamed 000581.jpg to DataSet000581.jpg\n",
      "Renamed 000492.jpg to DataSet000492.jpg\n",
      "Renamed 001189.jpg to DataSet001189.jpg\n",
      "Renamed 000325.jpg to DataSet000325.jpg\n",
      "Renamed 001793.jpg to DataSet001793.jpg\n",
      "Renamed 001064.jpg to DataSet001064.jpg\n",
      "Renamed 000982.jpg to DataSet000982.jpg\n",
      "Renamed 000302.jpg to DataSet000302.jpg\n",
      "Renamed 001316.jpg to DataSet001316.jpg\n",
      "Renamed 000929.jpg to DataSet000929.jpg\n",
      "Renamed 001088.jpg to DataSet001088.jpg\n",
      "Renamed 000213.jpg to DataSet000213.jpg\n",
      "Renamed 001112.jpg to DataSet001112.jpg\n",
      "Renamed 001705.jpg to DataSet001705.jpg\n",
      "Renamed 000780.jpg to DataSet000780.jpg\n",
      "Renamed 001158.jpg to DataSet001158.jpg\n",
      "Renamed 000811.jpg to DataSet000811.jpg\n",
      "Renamed 001197.jpg to DataSet001197.jpg\n",
      "Renamed 001613.jpg to DataSet001613.jpg\n",
      "Renamed 001625.jpg to DataSet001625.jpg\n",
      "Renamed 001334.jpg to DataSet001334.jpg\n",
      "Renamed 001164.jpg to DataSet001164.jpg\n",
      "Renamed 000606.jpg to DataSet000606.jpg\n",
      "Renamed 000868.jpg to DataSet000868.jpg\n",
      "Renamed 000048.jpg to DataSet000048.jpg\n",
      "Renamed 001720.jpg to DataSet001720.jpg\n",
      "Renamed 001007.jpg to DataSet001007.jpg\n",
      "Renamed 001035.jpg to DataSet001035.jpg\n",
      "Renamed 000138.jpg to DataSet000138.jpg\n",
      "Renamed 000409.jpg to DataSet000409.jpg\n",
      "Renamed 000040.jpg to DataSet000040.jpg\n",
      "Renamed 000295.jpg to DataSet000295.jpg\n",
      "Renamed 000637.jpg to DataSet000637.jpg\n",
      "Renamed 000141.jpg to DataSet000141.jpg\n",
      "Renamed 000847.jpg to DataSet000847.jpg\n",
      "Renamed 000710.jpg to DataSet000710.jpg\n",
      "Renamed 000398.jpg to DataSet000398.jpg\n",
      "Renamed 000358.jpg to DataSet000358.jpg\n",
      "Renamed 001121.jpg to DataSet001121.jpg\n",
      "Renamed 000854.jpg to DataSet000854.jpg\n",
      "Renamed 000307.jpg to DataSet000307.jpg\n",
      "Renamed 001173.jpg to DataSet001173.jpg\n",
      "Renamed 000764.jpg to DataSet000764.jpg\n",
      "Renamed 001144.jpg to DataSet001144.jpg\n",
      "Renamed 001202.jpg to DataSet001202.jpg\n",
      "Renamed 001067.jpg to DataSet001067.jpg\n",
      "Renamed 001512.jpg to DataSet001512.jpg\n",
      "Renamed 001115.jpg to DataSet001115.jpg\n",
      "Renamed 001745.jpg to DataSet001745.jpg\n",
      "Renamed 001466.jpg to DataSet001466.jpg\n",
      "Renamed 000809.jpg to DataSet000809.jpg\n",
      "Renamed 000675.jpg to DataSet000675.jpg\n",
      "Renamed 000434.jpg to DataSet000434.jpg\n",
      "Renamed 001302.jpg to DataSet001302.jpg\n",
      "Renamed 001345.jpg to DataSet001345.jpg\n",
      "Renamed 001763.jpg to DataSet001763.jpg\n",
      "Renamed 001752.jpg to DataSet001752.jpg\n",
      "Renamed 001554.jpg to DataSet001554.jpg\n",
      "Renamed 000015.jpg to DataSet000015.jpg\n",
      "Renamed 000057.jpg to DataSet000057.jpg\n",
      "Renamed 001276.jpg to DataSet001276.jpg\n",
      "Renamed 000115.jpg to DataSet000115.jpg\n",
      "Renamed 001372.jpg to DataSet001372.jpg\n",
      "Renamed 000276.jpg to DataSet000276.jpg\n",
      "Renamed 001630.jpg to DataSet001630.jpg\n",
      "Renamed 001683.jpg to DataSet001683.jpg\n",
      "Renamed 001360.jpg to DataSet001360.jpg\n",
      "Renamed 000840.jpg to DataSet000840.jpg\n",
      "Renamed 000037.jpg to DataSet000037.jpg\n",
      "Renamed 000944.jpg to DataSet000944.jpg\n",
      "Renamed 000582.jpg to DataSet000582.jpg\n",
      "Renamed 001539.jpg to DataSet001539.jpg\n",
      "Renamed 000406.jpg to DataSet000406.jpg\n",
      "Renamed 000763.jpg to DataSet000763.jpg\n",
      "Renamed 000109.jpg to DataSet000109.jpg\n",
      "Renamed 000599.jpg to DataSet000599.jpg\n",
      "Renamed 001605.jpg to DataSet001605.jpg\n",
      "Renamed 000144.jpg to DataSet000144.jpg\n",
      "Renamed 000157.jpg to DataSet000157.jpg\n",
      "Renamed 001267.jpg to DataSet001267.jpg\n",
      "Renamed 001439.jpg to DataSet001439.jpg\n",
      "Renamed 000154.jpg to DataSet000154.jpg\n",
      "Renamed 000912.jpg to DataSet000912.jpg\n",
      "Renamed 001366.jpg to DataSet001366.jpg\n",
      "Renamed 000587.jpg to DataSet000587.jpg\n",
      "Renamed 000033.jpg to DataSet000033.jpg\n",
      "Renamed 000898.jpg to DataSet000898.jpg\n",
      "Renamed 001541.jpg to DataSet001541.jpg\n",
      "Renamed 001724.jpg to DataSet001724.jpg\n",
      "Renamed 000185.jpg to DataSet000185.jpg\n",
      "Renamed 001594.jpg to DataSet001594.jpg\n",
      "Renamed 001612.jpg to DataSet001612.jpg\n",
      "Renamed 000803.jpg to DataSet000803.jpg\n",
      "Renamed 000268.jpg to DataSet000268.jpg\n",
      "Renamed 001117.jpg to DataSet001117.jpg\n",
      "Renamed 001319.jpg to DataSet001319.jpg\n",
      "Renamed 001042.jpg to DataSet001042.jpg\n",
      "Renamed 000826.jpg to DataSet000826.jpg\n",
      "Renamed 000145.jpg to DataSet000145.jpg\n",
      "Renamed 000045.jpg to DataSet000045.jpg\n",
      "Renamed 001323.jpg to DataSet001323.jpg\n",
      "Renamed 000084.jpg to DataSet000084.jpg\n",
      "Renamed 000006.jpg to DataSet000006.jpg\n",
      "Renamed 001484.jpg to DataSet001484.jpg\n",
      "Renamed 001760.jpg to DataSet001760.jpg\n",
      "Renamed 001375.jpg to DataSet001375.jpg\n",
      "Renamed 000593.jpg to DataSet000593.jpg\n",
      "Renamed 000904.jpg to DataSet000904.jpg\n",
      "Renamed 000273.jpg to DataSet000273.jpg\n",
      "Renamed 000766.jpg to DataSet000766.jpg\n",
      "Renamed 001591.jpg to DataSet001591.jpg\n",
      "Renamed 001140.jpg to DataSet001140.jpg\n",
      "Renamed 001124.jpg to DataSet001124.jpg\n",
      "Renamed 000817.jpg to DataSet000817.jpg\n",
      "Renamed 000222.jpg to DataSet000222.jpg\n",
      "Renamed 001265.jpg to DataSet001265.jpg\n",
      "Renamed 000842.jpg to DataSet000842.jpg\n",
      "Renamed 001609.jpg to DataSet001609.jpg\n",
      "Renamed 000388.jpg to DataSet000388.jpg\n",
      "Renamed 000373.jpg to DataSet000373.jpg\n",
      "Renamed 001062.jpg to DataSet001062.jpg\n",
      "Renamed 000752.jpg to DataSet000752.jpg\n",
      "Renamed 000245.jpg to DataSet000245.jpg\n",
      "Renamed 000693.jpg to DataSet000693.jpg\n",
      "Renamed 000551.jpg to DataSet000551.jpg\n",
      "Renamed 001095.jpg to DataSet001095.jpg\n",
      "Renamed 001718.jpg to DataSet001718.jpg\n",
      "Renamed 001493.jpg to DataSet001493.jpg\n",
      "Renamed 001455.jpg to DataSet001455.jpg\n",
      "Renamed 000594.jpg to DataSet000594.jpg\n",
      "Renamed 000096.jpg to DataSet000096.jpg\n",
      "Renamed 000954.jpg to DataSet000954.jpg\n",
      "Renamed 001186.jpg to DataSet001186.jpg\n",
      "Renamed 001518.jpg to DataSet001518.jpg\n",
      "Renamed 000496.jpg to DataSet000496.jpg\n",
      "Renamed 000124.jpg to DataSet000124.jpg\n",
      "Renamed 000547.jpg to DataSet000547.jpg\n",
      "Renamed 001797.jpg to DataSet001797.jpg\n",
      "Renamed 001504.jpg to DataSet001504.jpg\n",
      "Renamed 001378.jpg to DataSet001378.jpg\n",
      "Renamed 000174.jpg to DataSet000174.jpg\n",
      "Renamed 000197.jpg to DataSet000197.jpg\n",
      "Renamed 000796.jpg to DataSet000796.jpg\n",
      "Renamed 001304.jpg to DataSet001304.jpg\n",
      "Renamed 001355.jpg to DataSet001355.jpg\n",
      "Renamed 001693.jpg to DataSet001693.jpg\n",
      "Renamed 000294.jpg to DataSet000294.jpg\n",
      "Renamed 001348.jpg to DataSet001348.jpg\n",
      "Renamed 001337.jpg to DataSet001337.jpg\n",
      "Renamed 000047.jpg to DataSet000047.jpg\n"
     ]
    },
    {
     "name": "stdout",
     "output_type": "stream",
     "text": [
      "Renamed 000044.jpg to DataSet000044.jpg\n",
      "Renamed 000923.jpg to DataSet000923.jpg\n",
      "Renamed 000990.jpg to DataSet000990.jpg\n",
      "Renamed 001446.jpg to DataSet001446.jpg\n",
      "Renamed 001570.jpg to DataSet001570.jpg\n",
      "Renamed 001417.jpg to DataSet001417.jpg\n",
      "Renamed 000788.jpg to DataSet000788.jpg\n",
      "Renamed 000132.jpg to DataSet000132.jpg\n",
      "Renamed 000375.jpg to DataSet000375.jpg\n",
      "Renamed 000169.jpg to DataSet000169.jpg\n",
      "Renamed 000877.jpg to DataSet000877.jpg\n",
      "Renamed 000783.jpg to DataSet000783.jpg\n",
      "Renamed 001271.jpg to DataSet001271.jpg\n",
      "Renamed 001114.jpg to DataSet001114.jpg\n",
      "Renamed 001388.jpg to DataSet001388.jpg\n",
      "Renamed 001550.jpg to DataSet001550.jpg\n",
      "Renamed 000421.jpg to DataSet000421.jpg\n",
      "Renamed 000828.jpg to DataSet000828.jpg\n",
      "Renamed 000614.jpg to DataSet000614.jpg\n",
      "Renamed 001686.jpg to DataSet001686.jpg\n",
      "Renamed 001413.jpg to DataSet001413.jpg\n",
      "Renamed 001626.jpg to DataSet001626.jpg\n",
      "Renamed 001801.jpg to DataSet001801.jpg\n",
      "Renamed 001443.jpg to DataSet001443.jpg\n",
      "Renamed 000449.jpg to DataSet000449.jpg\n",
      "Renamed 001463.jpg to DataSet001463.jpg\n",
      "Renamed 001620.jpg to DataSet001620.jpg\n",
      "Renamed 000448.jpg to DataSet000448.jpg\n",
      "Renamed 000922.jpg to DataSet000922.jpg\n",
      "Renamed 000425.jpg to DataSet000425.jpg\n",
      "Renamed 000472.jpg to DataSet000472.jpg\n",
      "Renamed 000123.jpg to DataSet000123.jpg\n",
      "Renamed 001398.jpg to DataSet001398.jpg\n",
      "Renamed 000259.jpg to DataSet000259.jpg\n",
      "Renamed 000830.jpg to DataSet000830.jpg\n",
      "Renamed 001010.jpg to DataSet001010.jpg\n",
      "Renamed 001085.jpg to DataSet001085.jpg\n",
      "Renamed 000304.jpg to DataSet000304.jpg\n",
      "Renamed 000848.jpg to DataSet000848.jpg\n",
      "Renamed 000320.jpg to DataSet000320.jpg\n",
      "Renamed 001170.jpg to DataSet001170.jpg\n",
      "Renamed 001738.jpg to DataSet001738.jpg\n",
      "Renamed 000843.jpg to DataSet000843.jpg\n",
      "Renamed 001251.jpg to DataSet001251.jpg\n",
      "Renamed 001419.jpg to DataSet001419.jpg\n",
      "Renamed 000235.jpg to DataSet000235.jpg\n",
      "Renamed 000784.jpg to DataSet000784.jpg\n",
      "Renamed 001571.jpg to DataSet001571.jpg\n",
      "Renamed 000542.jpg to DataSet000542.jpg\n",
      "Renamed 001661.jpg to DataSet001661.jpg\n",
      "Renamed 000634.jpg to DataSet000634.jpg\n",
      "Renamed 000674.jpg to DataSet000674.jpg\n",
      "Renamed 000724.jpg to DataSet000724.jpg\n",
      "Renamed 000518.jpg to DataSet000518.jpg\n",
      "Renamed 000914.jpg to DataSet000914.jpg\n",
      "Renamed 001660.jpg to DataSet001660.jpg\n",
      "Renamed 000718.jpg to DataSet000718.jpg\n",
      "Renamed 000188.jpg to DataSet000188.jpg\n",
      "Renamed 000214.jpg to DataSet000214.jpg\n",
      "Renamed 000732.jpg to DataSet000732.jpg\n",
      "Renamed 001759.jpg to DataSet001759.jpg\n",
      "Renamed 001262.jpg to DataSet001262.jpg\n",
      "Renamed 001166.jpg to DataSet001166.jpg\n",
      "Renamed 000178.jpg to DataSet000178.jpg\n",
      "Renamed 000927.jpg to DataSet000927.jpg\n",
      "Renamed 001424.jpg to DataSet001424.jpg\n",
      "Renamed 000665.jpg to DataSet000665.jpg\n",
      "Renamed 001702.jpg to DataSet001702.jpg\n",
      "Renamed 000960.jpg to DataSet000960.jpg\n",
      "Renamed 000706.jpg to DataSet000706.jpg\n",
      "Renamed 001590.jpg to DataSet001590.jpg\n",
      "Renamed 001061.jpg to DataSet001061.jpg\n",
      "Renamed 001174.jpg to DataSet001174.jpg\n",
      "Renamed 000463.jpg to DataSet000463.jpg\n",
      "Renamed 001261.jpg to DataSet001261.jpg\n",
      "Renamed 001540.jpg to DataSet001540.jpg\n",
      "Renamed 000330.jpg to DataSet000330.jpg\n",
      "Renamed 001122.jpg to DataSet001122.jpg\n",
      "Renamed 001106.jpg to DataSet001106.jpg\n",
      "Renamed 001397.jpg to DataSet001397.jpg\n",
      "Renamed 000920.jpg to DataSet000920.jpg\n",
      "Renamed 000603.jpg to DataSet000603.jpg\n",
      "Renamed 000661.jpg to DataSet000661.jpg\n",
      "Renamed 001168.jpg to DataSet001168.jpg\n",
      "Renamed 000655.jpg to DataSet000655.jpg\n",
      "Renamed 001274.jpg to DataSet001274.jpg\n",
      "Renamed 000278.jpg to DataSet000278.jpg\n",
      "Renamed 001298.jpg to DataSet001298.jpg\n",
      "Renamed 000147.jpg to DataSet000147.jpg\n",
      "Renamed 001741.jpg to DataSet001741.jpg\n",
      "Renamed 000212.jpg to DataSet000212.jpg\n",
      "Renamed 001408.jpg to DataSet001408.jpg\n",
      "Renamed 001226.jpg to DataSet001226.jpg\n",
      "Renamed 001618.jpg to DataSet001618.jpg\n",
      "Renamed 000528.jpg to DataSet000528.jpg\n",
      "Renamed 001178.jpg to DataSet001178.jpg\n",
      "Renamed 001022.jpg to DataSet001022.jpg\n",
      "Renamed 000712.jpg to DataSet000712.jpg\n",
      "Renamed 001428.jpg to DataSet001428.jpg\n",
      "Renamed 000333.jpg to DataSet000333.jpg\n",
      "Renamed 001328.jpg to DataSet001328.jpg\n",
      "Renamed 001800.jpg to DataSet001800.jpg\n",
      "Renamed 000061.jpg to DataSet000061.jpg\n",
      "Renamed 001654.jpg to DataSet001654.jpg\n",
      "Renamed 000391.jpg to DataSet000391.jpg\n",
      "Renamed 001301.jpg to DataSet001301.jpg\n",
      "Renamed 001029.jpg to DataSet001029.jpg\n",
      "Renamed 000186.jpg to DataSet000186.jpg\n",
      "Renamed 001552.jpg to DataSet001552.jpg\n",
      "Renamed 001190.jpg to DataSet001190.jpg\n",
      "Renamed 000377.jpg to DataSet000377.jpg\n",
      "Renamed 001099.jpg to DataSet001099.jpg\n",
      "Renamed 001560.jpg to DataSet001560.jpg\n",
      "Renamed 000686.jpg to DataSet000686.jpg\n",
      "Renamed 001199.jpg to DataSet001199.jpg\n",
      "Renamed 001561.jpg to DataSet001561.jpg\n",
      "Renamed 000687.jpg to DataSet000687.jpg\n",
      "Renamed 001317.jpg to DataSet001317.jpg\n",
      "Renamed 001041.jpg to DataSet001041.jpg\n",
      "Renamed 000864.jpg to DataSet000864.jpg\n",
      "Renamed 000977.jpg to DataSet000977.jpg\n",
      "Renamed 001080.jpg to DataSet001080.jpg\n",
      "Renamed 000270.jpg to DataSet000270.jpg\n",
      "Renamed 000729.jpg to DataSet000729.jpg\n",
      "Renamed 001074.jpg to DataSet001074.jpg\n",
      "Renamed 000597.jpg to DataSet000597.jpg\n",
      "Renamed 001093.jpg to DataSet001093.jpg\n",
      "Renamed 000490.jpg to DataSet000490.jpg\n",
      "Renamed 001213.jpg to DataSet001213.jpg\n",
      "Renamed 001295.jpg to DataSet001295.jpg\n",
      "Renamed 001739.jpg to DataSet001739.jpg\n",
      "Renamed 001670.jpg to DataSet001670.jpg\n",
      "Renamed 001000.jpg to DataSet001000.jpg\n",
      "Renamed 000810.jpg to DataSet000810.jpg\n",
      "Renamed 001729.jpg to DataSet001729.jpg\n",
      "Renamed 000997.jpg to DataSet000997.jpg\n",
      "Renamed 000215.jpg to DataSet000215.jpg\n",
      "Renamed 000322.jpg to DataSet000322.jpg\n",
      "Renamed 001374.jpg to DataSet001374.jpg\n",
      "Renamed 001065.jpg to DataSet001065.jpg\n",
      "Renamed 000181.jpg to DataSet000181.jpg\n",
      "Renamed 001075.jpg to DataSet001075.jpg\n",
      "Renamed 001434.jpg to DataSet001434.jpg\n",
      "Renamed 000002.jpg to DataSet000002.jpg\n",
      "Renamed 000633.jpg to DataSet000633.jpg\n",
      "Renamed 001453.jpg to DataSet001453.jpg\n",
      "Renamed 001402.jpg to DataSet001402.jpg\n",
      "Renamed 001290.jpg to DataSet001290.jpg\n",
      "Renamed 000267.jpg to DataSet000267.jpg\n",
      "Renamed 001487.jpg to DataSet001487.jpg\n",
      "Renamed 001755.jpg to DataSet001755.jpg\n",
      "Renamed 000024.jpg to DataSet000024.jpg\n",
      "Renamed 001163.jpg to DataSet001163.jpg\n",
      "Renamed 000445.jpg to DataSet000445.jpg\n",
      "Renamed 000841.jpg to DataSet000841.jpg\n",
      "Renamed 000823.jpg to DataSet000823.jpg\n",
      "Renamed 000290.jpg to DataSet000290.jpg\n",
      "Renamed 000627.jpg to DataSet000627.jpg\n",
      "Renamed 001628.jpg to DataSet001628.jpg\n",
      "Renamed 000511.jpg to DataSet000511.jpg\n",
      "Renamed 001659.jpg to DataSet001659.jpg\n",
      "Renamed 001376.jpg to DataSet001376.jpg\n",
      "Renamed 000114.jpg to DataSet000114.jpg\n",
      "Renamed 000179.jpg to DataSet000179.jpg\n",
      "Renamed 000342.jpg to DataSet000342.jpg\n",
      "Renamed 000090.jpg to DataSet000090.jpg\n",
      "Renamed 001098.jpg to DataSet001098.jpg\n",
      "Renamed 001703.jpg to DataSet001703.jpg\n",
      "Renamed 001052.jpg to DataSet001052.jpg\n",
      "Renamed 001624.jpg to DataSet001624.jpg\n",
      "Renamed 001188.jpg to DataSet001188.jpg\n",
      "Renamed 001771.jpg to DataSet001771.jpg\n",
      "Renamed 001341.jpg to DataSet001341.jpg\n",
      "Renamed 000971.jpg to DataSet000971.jpg\n",
      "Renamed 000613.jpg to DataSet000613.jpg\n",
      "Renamed 000254.jpg to DataSet000254.jpg\n",
      "Renamed 000981.jpg to DataSet000981.jpg\n",
      "Renamed 001422.jpg to DataSet001422.jpg\n",
      "Renamed 001707.jpg to DataSet001707.jpg\n",
      "Renamed 001610.jpg to DataSet001610.jpg\n",
      "Renamed 001351.jpg to DataSet001351.jpg\n",
      "Renamed 001306.jpg to DataSet001306.jpg\n",
      "Renamed 001380.jpg to DataSet001380.jpg\n",
      "Renamed 001436.jpg to DataSet001436.jpg\n",
      "Renamed 000095.jpg to DataSet000095.jpg\n",
      "Renamed 001432.jpg to DataSet001432.jpg\n",
      "Renamed 000018.jpg to DataSet000018.jpg\n",
      "Renamed 000168.jpg to DataSet000168.jpg\n",
      "Renamed 000170.jpg to DataSet000170.jpg\n",
      "Renamed 001076.jpg to DataSet001076.jpg\n",
      "Renamed 001448.jpg to DataSet001448.jpg\n",
      "Renamed 001574.jpg to DataSet001574.jpg\n",
      "Renamed 000386.jpg to DataSet000386.jpg\n",
      "Renamed 001652.jpg to DataSet001652.jpg\n",
      "Renamed 001311.jpg to DataSet001311.jpg\n",
      "Renamed 000554.jpg to DataSet000554.jpg\n",
      "Renamed 000227.jpg to DataSet000227.jpg\n",
      "Renamed 000626.jpg to DataSet000626.jpg\n",
      "Renamed 000741.jpg to DataSet000741.jpg\n",
      "Renamed 000413.jpg to DataSet000413.jpg\n",
      "Renamed 001757.jpg to DataSet001757.jpg\n",
      "Renamed 000697.jpg to DataSet000697.jpg\n",
      "Renamed 000131.jpg to DataSet000131.jpg\n",
      "Renamed 001701.jpg to DataSet001701.jpg\n",
      "Renamed 000652.jpg to DataSet000652.jpg\n",
      "Renamed 000253.jpg to DataSet000253.jpg\n",
      "Renamed 000910.jpg to DataSet000910.jpg\n",
      "Renamed 000459.jpg to DataSet000459.jpg\n",
      "Renamed 000807.jpg to DataSet000807.jpg\n",
      "Renamed 000208.jpg to DataSet000208.jpg\n",
      "Renamed 001418.jpg to DataSet001418.jpg\n",
      "Renamed 001783.jpg to DataSet001783.jpg\n",
      "Renamed 001206.jpg to DataSet001206.jpg\n",
      "Renamed 001083.jpg to DataSet001083.jpg\n",
      "Renamed 000485.jpg to DataSet000485.jpg\n",
      "Renamed 000296.jpg to DataSet000296.jpg\n",
      "Renamed 000103.jpg to DataSet000103.jpg\n",
      "Renamed 000150.jpg to DataSet000150.jpg\n",
      "Renamed 000164.jpg to DataSet000164.jpg\n",
      "Renamed 001180.jpg to DataSet001180.jpg\n",
      "Renamed 000281.jpg to DataSet000281.jpg\n",
      "Renamed 000996.jpg to DataSet000996.jpg\n",
      "Renamed 001381.jpg to DataSet001381.jpg\n",
      "Renamed 000279.jpg to DataSet000279.jpg\n",
      "Renamed 000607.jpg to DataSet000607.jpg\n",
      "Renamed 001769.jpg to DataSet001769.jpg\n",
      "Renamed 001370.jpg to DataSet001370.jpg\n",
      "Renamed 000381.jpg to DataSet000381.jpg\n",
      "Renamed 000664.jpg to DataSet000664.jpg\n",
      "Renamed 000201.jpg to DataSet000201.jpg\n",
      "Renamed 000017.jpg to DataSet000017.jpg\n",
      "Renamed 001086.jpg to DataSet001086.jpg\n",
      "Renamed 000708.jpg to DataSet000708.jpg\n",
      "Renamed 000439.jpg to DataSet000439.jpg\n",
      "Renamed 001676.jpg to DataSet001676.jpg\n",
      "Renamed 000985.jpg to DataSet000985.jpg\n",
      "Renamed 001240.jpg to DataSet001240.jpg\n",
      "Renamed 000241.jpg to DataSet000241.jpg\n",
      "Renamed 000031.jpg to DataSet000031.jpg\n",
      "Renamed 000918.jpg to DataSet000918.jpg\n",
      "Renamed 001201.jpg to DataSet001201.jpg\n",
      "Renamed 001685.jpg to DataSet001685.jpg\n",
      "Renamed 001157.jpg to DataSet001157.jpg\n",
      "Renamed 000220.jpg to DataSet000220.jpg\n",
      "Renamed 000348.jpg to DataSet000348.jpg\n",
      "Renamed 000899.jpg to DataSet000899.jpg\n",
      "Renamed 000022.jpg to DataSet000022.jpg\n",
      "Renamed 001367.jpg to DataSet001367.jpg\n",
      "Renamed 001452.jpg to DataSet001452.jpg\n",
      "Renamed 000282.jpg to DataSet000282.jpg\n",
      "Renamed 001450.jpg to DataSet001450.jpg\n",
      "Renamed 001456.jpg to DataSet001456.jpg\n",
      "Renamed 001119.jpg to DataSet001119.jpg\n",
      "Renamed 000804.jpg to DataSet000804.jpg\n",
      "Renamed 000505.jpg to DataSet000505.jpg\n",
      "Renamed 001054.jpg to DataSet001054.jpg\n",
      "Renamed 000507.jpg to DataSet000507.jpg\n",
      "Renamed 001491.jpg to DataSet001491.jpg\n",
      "Renamed 001146.jpg to DataSet001146.jpg\n",
      "Renamed 000725.jpg to DataSet000725.jpg\n",
      "Renamed 001411.jpg to DataSet001411.jpg\n",
      "Renamed 001648.jpg to DataSet001648.jpg\n",
      "Renamed 000156.jpg to DataSet000156.jpg\n"
     ]
    }
   ],
   "source": [
    "import os\n",
    "\n",
    "def prepend_to_filenames(directory, prefix):\n",
    "    \"\"\"\n",
    "    Prepend a prefix to all files in the given directory.\n",
    "    \n",
    "    :param directory: Path to the directory.\n",
    "    :param prefix: The prefix to prepend.\n",
    "    \"\"\"\n",
    "    for filename in os.listdir(directory):\n",
    "        file_path = os.path.join(directory, filename)\n",
    "\n",
    "        # Ensure we are working with files and not subdirectories\n",
    "        if os.path.isfile(file_path):\n",
    "            new_file_path = os.path.join(directory, prefix + filename)\n",
    "            os.rename(file_path, new_file_path)\n",
    "            print(f'Renamed {filename} to {prefix + filename}')\n",
    "\n",
    "target_directory = 'Training1800/images'  # Replace with your directory path\n",
    "prepend_to_filenames(target_directory, 'DataSet')\n"
   ]
  },
  {
   "cell_type": "code",
   "execution_count": null,
   "id": "e8577b7d",
   "metadata": {},
   "outputs": [],
   "source": []
  }
 ],
 "metadata": {
  "kernelspec": {
   "display_name": "Python 3 (ipykernel)",
   "language": "python",
   "name": "python3"
  },
  "language_info": {
   "codemirror_mode": {
    "name": "ipython",
    "version": 3
   },
   "file_extension": ".py",
   "mimetype": "text/x-python",
   "name": "python",
   "nbconvert_exporter": "python",
   "pygments_lexer": "ipython3",
   "version": "3.9.13"
  }
 },
 "nbformat": 4,
 "nbformat_minor": 5
}
