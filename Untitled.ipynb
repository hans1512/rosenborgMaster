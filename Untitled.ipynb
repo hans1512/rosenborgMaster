{
 "cells": [
  {
   "cell_type": "code",
   "execution_count": 2,
   "id": "91f92362",
   "metadata": {},
   "outputs": [],
   "source": [
    "import cv2\n",
    "import numpy as np\n",
    "from pathlib import Path\n",
    "from boxmot import DeepOCSORT\n",
    "from ultralytics import YOLO"
   ]
  },
  {
   "cell_type": "code",
   "execution_count": 3,
   "id": "46e66fbb",
   "metadata": {},
   "outputs": [],
   "source": [
    "def initialize_tracker(model_weights, device='cuda:0', fp16=True):\n",
    "    \"\"\"\n",
    "    Initialize the DeepOCSORT tracker with the given model weights and device.\n",
    "    \"\"\"\n",
    "    tracker = DeepOCSORT(\n",
    "        model_weights=model_weights,\n",
    "        device=device,\n",
    "        fp16=fp16\n",
    "    )\n",
    "    return tracker\n",
    "\n",
    "def initialize_yolo(model_path):\n",
    "    \"\"\"\n",
    "    Initialize the YOLO object detector with the given model path.\n",
    "    \"\"\"\n",
    "    yolov8 = YOLO(model_path)\n",
    "    return yolov8"
   ]
  },
  {
   "cell_type": "code",
   "execution_count": 4,
   "id": "85b789fa",
   "metadata": {},
   "outputs": [],
   "source": [
    "class Rect:\n",
    "    def __init__(self, x1, y1, x2, y2):\n",
    "        self.x1 = x1\n",
    "        self.y1 = y1\n",
    "        self.x2 = x2\n",
    "        self.y2 = y2\n",
    "    \n",
    "    @property\n",
    "    def bottom_center(self):\n",
    "        return ((self.x1 + self.x2) // 2, self.y2)\n",
    "    \n",
    "    @property\n",
    "    def width(self):\n",
    "        return self.x2 - self.x1\n",
    "\n",
    "class Color:\n",
    "    def __init__(self, b, g, r):\n",
    "        self.b = b\n",
    "        self.g = g\n",
    "        self.r = r\n",
    "\n",
    "    @property\n",
    "    def bgr_tuple(self):\n",
    "        return (self.b, self.g, self.r)\n",
    "\n",
    "def draw_ellipse(image, rect, color, thickness=2):\n",
    "    center = rect.bottom_center\n",
    "    axes = (int(rect.width), int(0.35 * rect.width))\n",
    "    cv2.ellipse(\n",
    "        image,\n",
    "        center,\n",
    "        axes,\n",
    "        angle=0.0,\n",
    "        startAngle=-45,\n",
    "        endAngle=235,\n",
    "        color=color.bgr_tuple,\n",
    "        thickness=thickness,\n",
    "        lineType=cv2.LINE_4\n",
    "    )\n",
    "    return image\n",
    "\n",
    "def lab_to_rgb(lab_color):\n",
    "    \"\"\"\n",
    "    Converts a single LAB color to RGB.\n",
    "    \"\"\"\n",
    "    lab_image = np.array([[lab_color]], dtype=np.uint8)\n",
    "    rgb_image = cv2.cvtColor(lab_image, cv2.COLOR_Lab2RGB)\n",
    "    return rgb_image[0][0]"
   ]
  },
  {
   "cell_type": "code",
   "execution_count": 20,
   "id": "b2346285",
   "metadata": {},
   "outputs": [],
   "source": [
    "from sklearn.cluster import KMeans\n",
    "import matplotlib.pyplot as plt\n",
    "import sys\n",
    "import sklearn\n",
    "from collections import Counter\n",
    "\n",
    "\n",
    "def adjust_bbox(image, bbox, height_fraction=(0.17, 0.5), width_fraction=(0.2, 0.2)):\n",
    "    x1, y1, x2, y2 = bbox\n",
    "    \n",
    "    # Adjusting the bounding box to focus on the upper part\n",
    "    height = y2 - y1\n",
    "    width = x2 - x1\n",
    "    \n",
    "    new_y1 = y1 + int(height_fraction[0] * height)\n",
    "    new_y2 = y1 + int(height_fraction[1] * height)\n",
    "    new_x1 = x1 + int(width_fraction[0] * width)\n",
    "    new_x2 = x2 - int(width_fraction[1] * width)\n",
    "\n",
    "    adjusted_bbox = (new_x1, new_y1, new_x2, new_y2)\n",
    "    roi = image[adjusted_bbox[1]:adjusted_bbox[3], adjusted_bbox[0]:adjusted_bbox[2]]\n",
    "\n",
    "    return roi\n",
    "\n",
    "def filter_out_color_LAB(roi_lab, lower_treshold, upper_treshold):\n",
    "    # Getting the A channel and applying threshold\n",
    "    a_channel = roi_lab[:,:,1]\n",
    "    #127, 255\n",
    "    _, mask = cv2.threshold(a_channel, lower_treshold, upper_treshold, cv2.THRESH_BINARY + cv2.THRESH_OTSU)\n",
    "    \n",
    "    # Using the mask to exclude green pixels in LAB\n",
    "    roi_lab_filtered = roi_lab.copy()\n",
    "    roi_lab_filtered[mask != 255] = 0\n",
    "    return roi_lab_filtered\n",
    "\n",
    "def get_color_histogram(image, bbox):\n",
    "    \"\"\"\n",
    "    Get the color histogram within a specific portion of the bounding box in the HSV color space.\n",
    "    \"\"\"\n",
    "    roi = adjust_bbox(image, bbox)\n",
    "    # Converting to LAB color space\n",
    "    roi_lab = cv2.cvtColor(roi, cv2.COLOR_BGR2Lab)\n",
    "    roi_lab_filtered = filter_out_color_LAB(roi_lab, 127, 255)\n",
    "    \n",
    "    non_black_pixels = roi_lab_filtered[roi_lab_filtered.any(axis=-1)]\n",
    "    color_counter = Counter(map(tuple, non_black_pixels))\n",
    "    most_common_color = color_counter.most_common(1)[0][0]\n",
    "        \n",
    "    non_zero_subarrays = roi_lab_filtered[roi_lab_filtered.any(axis=-1)]\n",
    "    \n",
    "    hist = cv2.calcHist([roi_lab], [0, 1], None, [8, 8], [0, 180, 0, 256])\n",
    "    \n",
    "    \n",
    "    cv2.normalize(hist, hist)\n",
    "    \"\"\"\n",
    "    # Displaying the images\n",
    "    plt.figure(figsize=(12, 4))\n",
    "\n",
    "    plt.subplot(1, 3, 1)\n",
    "    plt.imshow(cv2.cvtColor(roi_lab, cv2.COLOR_Lab2RGB))\n",
    "    plt.title(\"Filtered LAB\")\n",
    "    \n",
    "    plt.subplot(1, 3, 2)\n",
    "    plt.imshow(cv2.cvtColor(roi_lab_filtered, cv2.COLOR_Lab2RGB))\n",
    "    plt.title(\"Filtered LAB\")\n",
    "    \n",
    "    plt.subplot(1, 3, 3)\n",
    "    plt.imshow([[most_common_color]])\n",
    "    plt.title(\"Most Common Color\")\n",
    "    plt.axis('off')\n",
    "    \n",
    "    plt.show()\n",
    "    \"\"\"\n",
    "    return hist.flatten()\n",
    "\n",
    "def get_mean_color(image, bbox):\n",
    "    \"\"\"\n",
    "    Get the mean color within a specific portion of the bounding box in both RGB and LAB color spaces,\n",
    "    excluding green pixels.\n",
    "    \"\"\"\n",
    "    roi = adjust_bbox(image, bbox)\n",
    "\n",
    "    # Converting to LAB color space\n",
    "    roi_lab = cv2.cvtColor(roi, cv2.COLOR_BGR2Lab)\n",
    "    roi_lab_filtered = filter_out_color_LAB(roi_lab, 127, 255)\n",
    "        \n",
    "    non_zero_subarrays = roi_lab_filtered[roi_lab_filtered.any(axis=-1)]\n",
    "\n",
    "    # Calculate the mean of each channel\n",
    "    if non_zero_subarrays.size > 0:\n",
    "        mean_color_lab = non_zero_subarrays.mean(axis=0)\n",
    "        \n",
    "        \n",
    "    color_counter = Counter(map(tuple, non_zero_subarrays))\n",
    "    most_common_color_lab = np.array(color_counter.most_common(1)[0][0], dtype=np.uint8)\n",
    "\n",
    "    most_common_color_bgr = cv2.cvtColor(np.array([[most_common_color_lab]], dtype=np.uint8), cv2.COLOR_Lab2BGR)[0][0]\n",
    "    mean_color_bgr = cv2.cvtColor(np.array([[mean_color_lab]], dtype=np.uint8), cv2.COLOR_Lab2BGR)[0][0]\n",
    "    \n",
    "    \"\"\"\n",
    "    # Displaying the images\n",
    "    plt.figure(figsize=(12, 4))\n",
    "    \n",
    "    plt.subplot(1, 3, 1)\n",
    "    plt.imshow(cv2.cvtColor(roi_lab, cv2.COLOR_Lab2RGB))\n",
    "    plt.title(\"Original LAB\")\n",
    "\n",
    "    plt.subplot(1, 3, 2)\n",
    "    plt.imshow(cv2.cvtColor(roi_lab_filtered, cv2.COLOR_Lab2RGB))\n",
    "    plt.title(\"Filtered LAB\")\n",
    "    \n",
    "    plt.subplot(1, 3, 3)\n",
    "    plt.imshow([[cv2.cvtColor(np.array([[mean_color_lab]], dtype=np.uint8), cv2.COLOR_Lab2RGB)[0][0]]])\n",
    "    plt.title(\"Most Common Color\")\n",
    "    plt.axis('off')\n",
    "    \n",
    "    plt.show()\n",
    "    \"\"\"\n",
    "    return most_common_color_lab, mean_color_lab\n",
    "\n",
    "def perform_kmeans_clustering(colors, color_multiplier=4, initial_centroids=None, max_iter=10, n_clusters=2):\n",
    "    \"\"\"\n",
    "    Perform k-means clustering on the given color data.\n",
    "    \"\"\"\n",
    "    colors = np.array(colors)\n",
    "    \n",
    "    colors[:,1:3] *= 4\n",
    "    if initial_centroids is not None:\n",
    "        kmeans = KMeans(n_clusters=2, init=initial_centroids, random_state=0, n_init=1, max_iter=max_iter).fit(colors)\n",
    "    else:\n",
    "        kmeans = KMeans(n_clusters=2, random_state=0).fit(colors)\n",
    "        initial_centroids = kmeans.cluster_centers_\n",
    "        \n",
    "    # Reassign labels based on the order of centroids\n",
    "    sorted_idx = np.argsort(initial_centroids[:, 0])  # Assuming the 0th feature is a color channel like Red\n",
    "    mapping = np.zeros(n_clusters, dtype=int)\n",
    "    for i, idx in enumerate(sorted_idx):\n",
    "        mapping[idx] = i\n",
    "\n",
    "    consistent_labels = mapping[kmeans.labels_]\n",
    "    \n",
    "    return consistent_labels, initial_centroids"
   ]
  },
  {
   "cell_type": "code",
   "execution_count": 21,
   "id": "e65144ed",
   "metadata": {},
   "outputs": [],
   "source": [
    "from scipy.spatial import distance\n",
    "from scipy import stats\n",
    "\n",
    "def plot_filtered_boxes(frame, boxes):\n",
    "    plt.figure(figsize=(12, len(boxes) * 4))\n",
    "    \n",
    "    for i, box in enumerate(boxes):\n",
    "        # Apply the ROI adjustment and color filtering\n",
    "        roi = adjust_bbox(frame, box)\n",
    "        roi_lab = cv2.cvtColor(roi, cv2.COLOR_BGR2Lab)\n",
    "        roi_lab_filtered = filter_out_color_LAB(roi_lab, 127, 255)\n",
    "        non_zero_colors = roi_lab_filtered[roi_lab_filtered.any(axis=-1)]\n",
    "\n",
    "        plt.subplot(len(boxes), 2, i * 2 + 1)\n",
    "        plt.imshow(cv2.cvtColor(roi, cv2.COLOR_BGR2RGB))\n",
    "        plt.title(f\"Original Box {i+1}\")\n",
    "\n",
    "        plt.subplot(len(boxes), 2, i * 2 + 2)\n",
    "        plt.imshow(cv2.cvtColor(roi_lab_filtered, cv2.COLOR_Lab2RGB))\n",
    "        plt.title(f\"Filtered Box {i+1}\")\n",
    "        \n",
    "    plt.show()\n",
    "\n",
    "def compute_common_color_cluster_and_range(frame, boxes, num_clusters=2, delta=10):\n",
    "    colors = []\n",
    "    for box in boxes:\n",
    "        roi = adjust_bbox(frame, box)\n",
    "        roi_lab = cv2.cvtColor(roi, cv2.COLOR_BGR2Lab)\n",
    "        roi_lab_filtered = filter_out_color_LAB(roi_lab, 127, 255)\n",
    "        non_zero_colors = roi_lab_filtered[roi_lab_filtered.any(axis=-1)]\n",
    "        colors.extend(non_zero_colors)\n",
    "\n",
    "    if len(colors) == 0:\n",
    "        print(\"All colors are filtered out.\")\n",
    "        return None, None\n",
    "\n",
    "    # Applying K-means clustering to group colors\n",
    "    kmeans = KMeans(n_clusters=num_clusters, random_state=0).fit(colors)\n",
    "    cluster_centers = kmeans.cluster_centers_.astype(int)\n",
    "\n",
    "    # Getting the most common cluster center (centroid)\n",
    "    labels, counts = np.unique(kmeans.labels_, return_counts=True)\n",
    "    most_common_cluster = cluster_centers[labels[np.argmax(counts)]]\n",
    "\n",
    "    # Compute the color range\n",
    "    lower_bound = np.clip(most_common_cluster - delta, 0, 255)\n",
    "    upper_bound = np.clip(most_common_cluster + delta, 0, 255)\n",
    "\n",
    "    # Plotting the most common color cluster center\n",
    "    plt.figure(figsize=(6, 2))\n",
    "    plt.subplot(1, 2, 1)\n",
    "    plt.imshow(cv2.cvtColor(most_common_cluster[np.newaxis, np.newaxis, :].astype(np.uint8), cv2.COLOR_Lab2RGB))\n",
    "    plt.title(\"Most Common Cluster Center\")\n",
    "    plt.axis('off')\n",
    "\n",
    "    # Plotting colors within the range\n",
    "    plt.subplot(1, 2, 2)\n",
    "    for i in range(5):\n",
    "        sample_color = np.random.randint(lower_bound, upper_bound+1)\n",
    "        plt.imshow(cv2.cvtColor(sample_color[np.newaxis, np.newaxis, :].astype(np.uint8), cv2.COLOR_Lab2RGB))\n",
    "        plt.title(\"Colors Within Range\")\n",
    "        plt.axis('off')\n",
    "\n",
    "    plt.show()\n",
    "\n",
    "    return lower_bound, upper_bound    \n",
    "    \n",
    "def compute_common_color_and_range(frame, boxes, delta=10):\n",
    "    colors = []\n",
    "    for box in boxes:\n",
    "        roi = adjust_bbox(frame, box)\n",
    "        roi_lab = cv2.cvtColor(roi, cv2.COLOR_BGR2Lab)\n",
    "        roi_lab_filtered = filter_out_color_LAB(roi_lab, 127, 255)\n",
    "        non_zero_colors = roi_lab_filtered[roi_lab_filtered.any(axis=-1)]\n",
    "        colors.extend(non_zero_colors)\n",
    "\n",
    "    if len(colors) == 0:\n",
    "        print(\"All colors are filtered out.\")\n",
    "        return None, None\n",
    "\n",
    "    color_counter = Counter(map(tuple, colors))\n",
    "    most_common_color = np.array(color_counter.most_common(1)[0][0], dtype=np.uint8)\n",
    "\n",
    "    # Compute the color range\n",
    "    lower_bound = most_common_color - delta\n",
    "    upper_bound = most_common_color + delta\n",
    "    \n",
    "    # Ensure the bounds are valid\n",
    "    if np.any(upper_bound < lower_bound):\n",
    "        print(\"Invalid color range corrected.\")\n",
    "        lower_bound = most_common_color\n",
    "        upper_bound = most_common_color\n",
    "    \n",
    "    lower_bound = np.clip(lower_bound, 0, 255)\n",
    "    upper_bound = np.clip(upper_bound, 0, 255)\n",
    "\n",
    "    # Plotting the most common color\n",
    "    plt.figure(figsize=(6, 2))\n",
    "    plt.subplot(1, 2, 1)\n",
    "    plt.imshow(cv2.cvtColor(most_common_color[np.newaxis, np.newaxis, :].astype(np.uint8), cv2.COLOR_Lab2RGB))\n",
    "    plt.title(\"Most Common Color\")\n",
    "    plt.axis('off')\n",
    "    \n",
    "    plt.subplot(1, 2, 2)\n",
    "    for i in range(5):\n",
    "        sample_color = np.random.randint(lower_bound, upper_bound + 1, size=(1,1,3))\n",
    "        plt.imshow(cv2.cvtColor(sample_color.astype(np.uint8), cv2.COLOR_Lab2RGB))\n",
    "        plt.axis('off')\n",
    "\n",
    "    return lower_bound, upper_bound\n",
    "\n",
    "\n",
    "def nearest_points(centroids, data_points, n):\n",
    "    # Calculate the distances between each data point and each centroid\n",
    "    distances = distance.cdist(data_points, centroids, 'euclidean')\n",
    "    \n",
    "    # Get the n smallest distances' indices for each centroid\n",
    "    nearest_indices = np.argsort(distances, axis=0)[:n]\n",
    "    \n",
    "    # Creating a dictionary to hold the indices of the nearest points for each centroid\n",
    "    nearest_per_centroid = {i: nearest_indices[:, i].tolist() for i in range(centroids.shape[0])}\n",
    "\n",
    "    return nearest_per_centroid\n",
    "\n",
    "\n",
    "def compute_jersey_colors(first_frame, dets, bounding_boxes, classes, color_multiplier=4):\n",
    "    # get_mean_color returns a tuple, 0 is most common color, 1 is mean color\n",
    "    class_1_boxes = [bounding_box for bounding_box, cls in zip(bounding_boxes, classes) if cls == 1]\n",
    "    colors_bounding_boxes = [(get_mean_color(first_frame, bounding_box)[1], bounding_box) for bounding_box in class_1_boxes]\n",
    "    \n",
    "    mean_colors = []\n",
    "    for color_bbox in colors_bounding_boxes:\n",
    "        mean_colors.append(color_bbox[0])\n",
    "    \n",
    "    mean_colors = np.array(mean_colors)\n",
    "    label_clusters, centroids = perform_kmeans_clustering(mean_colors, color_multiplier=color_multiplier)\n",
    "    clustered_points = mean_colors.copy()\n",
    "    clustered_points[:,1:3] *= color_multiplier\n",
    "    \n",
    "    close_points = nearest_points(centroids, clustered_points, 4)\n",
    "    \n",
    "    centroid_1_boxes = [class_1_boxes[i] for i in close_points[0]]\n",
    "    centroid_2_boxes = [class_1_boxes[i] for i in close_points[1]]\n",
    "    \n",
    "    \n",
    "    #plot_filtered_boxes(first_frame, centroid_1_boxes)\n",
    "    #plot_filtered_boxes(first_frame, centroid_2_boxes)\n",
    "    print(\"first\")\n",
    "    dominant_color = compute_common_color_cluster_and_range(first_frame, centroid_1_boxes)\n",
    "    dominant_color = compute_common_color_and_range(first_frame, centroid_1_boxes)\n",
    "\n",
    "    print(\"second\")\n",
    "    dominant_color = compute_common_color_cluster_and_range(first_frame, centroid_2_boxes)\n",
    "    dominant_color = compute_common_color_and_range(first_frame, centroid_2_boxes)\n",
    "\n",
    "\n",
    "    print(\"Most Dominant Color (in LAB):\", dominant_color)\n",
    "\n",
    "    \n",
    "        "
   ]
  },
  {
   "cell_type": "code",
   "execution_count": 25,
   "id": "817e5a04",
   "metadata": {},
   "outputs": [],
   "source": [
    "\n",
    "def process_video(input_file, output_file, tracker, yolov8, conf=0.3):\n",
    "    \"\"\"\n",
    "    Process the input video, perform object detection and tracking, and save the results to the output video.\n",
    "    \"\"\"\n",
    "    input_video = cv2.VideoCapture(input_file)\n",
    "    width = int(input_video.get(cv2.CAP_PROP_FRAME_WIDTH))\n",
    "    height = int(input_video.get(cv2.CAP_PROP_FRAME_HEIGHT))\n",
    "    fps = input_video.get(cv2.CAP_PROP_FPS)\n",
    "    fourcc = cv2.VideoWriter_fourcc(*'mp4v')\n",
    "    out = cv2.VideoWriter(output_file, fourcc, fps, (width, height))\n",
    "    \n",
    "    thickness = 2\n",
    "    fontscale = 0.5\n",
    "    \n",
    "    # Function to get unique colors for each class id\n",
    "    def get_color(cls_id):\n",
    "        np.random.seed(cls_id)\n",
    "        return tuple(np.random.randint(0, 255, 3).tolist())\n",
    "    \n",
    "   \n",
    "\n",
    "    initial_centroids = None\n",
    "    counter = 1\n",
    "    while True:\n",
    "        print(counter)\n",
    "        ret, im = input_video.read()\n",
    "        if not ret:\n",
    "            break\n",
    "        \n",
    "        predicted = yolov8.predict(im, conf=conf)\n",
    "        detections = predicted[0].boxes.data.cpu().numpy()\n",
    "        \n",
    "        dets = []\n",
    "        ball = np.array([])\n",
    "        highest_conf = 0\n",
    "        \n",
    "        \n",
    "        for bounding_boxes in detections:\n",
    "            if bounding_boxes[-1:] != 0:\n",
    "                dets.append(bounding_boxes)\n",
    "            if bounding_boxes[5] == 0:\n",
    "                if bounding_boxes[4] > highest_conf:\n",
    "                    highest_conf = bounding_boxes[4]\n",
    "                    ball = bounding_boxes\n",
    "                \n",
    "                \n",
    "        dets = np.array(dets)\n",
    "        \n",
    "        tracks = tracker.update(dets, im)\n",
    "        if tracks.size > 0:  # Check if tracks is not empty\n",
    "            xyxys = tracks[:, 0:4].astype('int')\n",
    "            ids = tracks[:, 4].astype('int')\n",
    "            clss = tracks[:, 6].astype('int')\n",
    "        else:\n",
    "            print(\"Tracks is empty or not in expected format.\")\n",
    "\n",
    "        \n",
    "        if tracks.shape[0] != 0:\n",
    "            player_mean_colors = [get_mean_color(im, xyxy)[1] for xyxy, cls in zip(xyxys, clss) if cls == 1]\n",
    "            #player_mean_colors = [get_color_histogram(im, xyxy) for xyxy, cls in zip(xyxys, clss) if cls == 1]\n",
    "            \n",
    "            if(counter == 1):\n",
    "                #compute_jersey_colors(im, dets, xyxys, clss)\n",
    "                labels, initial_centroids = perform_kmeans_clustering(player_mean_colors, initial_centroids)\n",
    "\n",
    "            if len(player_mean_colors) > 1:\n",
    "                labels = perform_kmeans_clustering(player_mean_colors, initial_centroids)[0]\n",
    "                \n",
    "                \"\"\"\n",
    "                player_mean_colors = np.array([lab_to_rgb(color) for color in player_mean_colors])\n",
    "                \n",
    "                # Plotting the results (optional)\n",
    "                plt.subplot(1, 2, 1)\n",
    "                plt.scatter(player_mean_colors[:, 1], player_mean_colors[:, 2], c=player_mean_colors / 255.0)\n",
    "                plt.title('Original Colors')\n",
    "\n",
    "                plt.subplot(1, 2, 2)\n",
    "                plt.scatter(player_mean_colors[labels == 0][:, 1], player_mean_colors[labels == 0][:, 2], c='blue', marker='o')\n",
    "                plt.scatter(player_mean_colors[labels == 1][:, 1], player_mean_colors[labels == 1][:, 2], c='red', marker='x')\n",
    "                plt.title('Clustered Colors')\n",
    "\n",
    "                plt.show()\n",
    "                \"\"\"    \n",
    "    \n",
    "            for xyxy, id, cls, label in zip(xyxys, ids, clss, labels):\n",
    "                \n",
    "                \n",
    "                # Convert bounding box coordinates to Rect object\n",
    "                rect = Rect(xyxy[0], xyxy[1], xyxy[2], xyxy[3])\n",
    "                if cls == 1:\n",
    "                    cls = cls + label\n",
    "                \n",
    "                # Get a unique color for each class\n",
    "                color = Color(*get_color(cls))\n",
    "\n",
    "                # Draw an ellipse at the bottom of the bounding box\n",
    "                draw_ellipse(im, rect, color, thickness)\n",
    "                \n",
    "                # Place ID text just above the ellipse\n",
    "                cv2.putText(\n",
    "                    im,\n",
    "                    f'{id}',\n",
    "                    (rect.bottom_center[0] - 10, rect.bottom_center[1] - int(0.35 * rect.width) - 5),\n",
    "                    cv2.FONT_HERSHEY_SIMPLEX,\n",
    "                    fontscale,\n",
    "                    color.bgr_tuple,\n",
    "                    thickness\n",
    "                )\n",
    "            if len(ball) != 0:\n",
    "                rect = Rect(int(ball[0]), int(ball[1]), int(ball[2]), int(ball[3]))\n",
    "                # Get a unique color for each class\n",
    "                color = Color(*get_color(0))\n",
    "\n",
    "                # Draw an ellipse at the bottom of the bounding box\n",
    "                draw_ellipse(im, rect, color, thickness)\n",
    "                id = -1\n",
    "                # Place ID text just above the ellipse\n",
    "                cv2.putText(\n",
    "                    im,\n",
    "                    \"-1\",\n",
    "                    (rect.bottom_center[0] - 10, rect.bottom_center[1] - int(0.35 * rect.width) - 5),\n",
    "                    cv2.FONT_HERSHEY_SIMPLEX,\n",
    "                    fontscale,\n",
    "                    color.bgr_tuple,\n",
    "                    thickness\n",
    "                )\n",
    "            \n",
    "            print(initial_centroids)\n",
    "                \n",
    "        out.write(im)\n",
    "        counter += 1\n",
    "        \n",
    "    input_video.release()\n",
    "    out.release()\n",
    "    cv2.destroyAllWindows()\n"
   ]
  },
  {
   "cell_type": "code",
   "execution_count": 26,
   "id": "797ec9cc",
   "metadata": {
    "scrolled": true
   },
   "outputs": [
    {
     "name": "stderr",
     "output_type": "stream",
     "text": [
      "\u001b[32m2023-10-16 15:46:44.605\u001b[0m | \u001b[32m\u001b[1mSUCCESS \u001b[0m | \u001b[36mboxmot.appearance.reid_model_factory\u001b[0m:\u001b[36mload_pretrained_weights\u001b[0m:\u001b[36m207\u001b[0m - \u001b[32m\u001b[1mSuccessfully loaded pretrained weights from \"osnet_x0_25_msmt17.pt\"\u001b[0m\n",
      "\u001b[32m2023-10-16 15:46:44.617\u001b[0m | \u001b[33m\u001b[1mWARNING \u001b[0m | \u001b[36mboxmot.appearance.reid_model_factory\u001b[0m:\u001b[36mload_pretrained_weights\u001b[0m:\u001b[36m211\u001b[0m - \u001b[33m\u001b[1mThe following layers are discarded due to unmatched keys or layer size: ('classifier.weight', 'classifier.bias')\u001b[0m\n"
     ]
    },
    {
     "name": "stdout",
     "output_type": "stream",
     "text": [
      "videos/first_30_seconds_tracking1_output.mp4\n",
      "1\n"
     ]
    },
    {
     "name": "stderr",
     "output_type": "stream",
     "text": [
      "\n",
      "0: 1120x1984 1 ball, 22 players, 63.3ms\n",
      "Speed: 14.0ms preprocess, 63.3ms inference, 1.2ms postprocess per image at shape (1, 3, 1120, 1984)\n",
      "\n",
      "0: 1120x1984 1 ball, 22 players, 61.9ms\n",
      "Speed: 12.5ms preprocess, 61.9ms inference, 1.2ms postprocess per image at shape (1, 3, 1120, 1984)\n",
      "\n"
     ]
    },
    {
     "name": "stdout",
     "output_type": "stream",
     "text": [
      "[[     123.55      684.26      658.99]\n",
      " [     132.24      504.14      543.95]]\n",
      "2\n",
      "[[     123.55      684.26      658.99]\n",
      " [     132.24      504.14      543.95]]\n",
      "3\n"
     ]
    },
    {
     "name": "stderr",
     "output_type": "stream",
     "text": [
      "0: 1120x1984 1 ball, 22 players, 61.6ms\n",
      "Speed: 12.1ms preprocess, 61.6ms inference, 1.3ms postprocess per image at shape (1, 3, 1120, 1984)\n",
      "\n",
      "0: 1120x1984 1 ball, 22 players, 61.6ms\n",
      "Speed: 12.1ms preprocess, 61.6ms inference, 1.3ms postprocess per image at shape (1, 3, 1120, 1984)\n",
      "\n"
     ]
    },
    {
     "name": "stdout",
     "output_type": "stream",
     "text": [
      "[[     123.55      684.26      658.99]\n",
      " [     132.24      504.14      543.95]]\n",
      "4\n",
      "[[     123.55      684.26      658.99]\n",
      " [     132.24      504.14      543.95]]\n",
      "5\n"
     ]
    },
    {
     "name": "stderr",
     "output_type": "stream",
     "text": [
      "0: 1120x1984 1 ball, 22 players, 61.9ms\n",
      "Speed: 12.0ms preprocess, 61.9ms inference, 1.4ms postprocess per image at shape (1, 3, 1120, 1984)\n",
      "\n",
      "0: 1120x1984 1 ball, 22 players, 61.5ms\n",
      "Speed: 12.0ms preprocess, 61.5ms inference, 1.4ms postprocess per image at shape (1, 3, 1120, 1984)\n",
      "\n"
     ]
    },
    {
     "name": "stdout",
     "output_type": "stream",
     "text": [
      "[[     123.55      684.26      658.99]\n",
      " [     132.24      504.14      543.95]]\n",
      "6\n",
      "[[     123.55      684.26      658.99]\n",
      " [     132.24      504.14      543.95]]\n",
      "7\n"
     ]
    },
    {
     "name": "stderr",
     "output_type": "stream",
     "text": [
      "0: 1120x1984 1 ball, 22 players, 61.9ms\n",
      "Speed: 12.0ms preprocess, 61.9ms inference, 1.3ms postprocess per image at shape (1, 3, 1120, 1984)\n",
      "\n",
      "0: 1120x1984 1 ball, 22 players, 61.6ms\n",
      "Speed: 11.9ms preprocess, 61.6ms inference, 1.2ms postprocess per image at shape (1, 3, 1120, 1984)\n",
      "\n"
     ]
    },
    {
     "name": "stdout",
     "output_type": "stream",
     "text": [
      "[[     123.55      684.26      658.99]\n",
      " [     132.24      504.14      543.95]]\n",
      "8\n",
      "[[     123.55      684.26      658.99]\n",
      " [     132.24      504.14      543.95]]\n",
      "9\n"
     ]
    },
    {
     "name": "stderr",
     "output_type": "stream",
     "text": [
      "0: 1120x1984 1 ball, 22 players, 61.5ms\n",
      "Speed: 12.2ms preprocess, 61.5ms inference, 1.3ms postprocess per image at shape (1, 3, 1120, 1984)\n",
      "\n",
      "0: 1120x1984 1 ball, 22 players, 61.7ms\n",
      "Speed: 12.6ms preprocess, 61.7ms inference, 1.2ms postprocess per image at shape (1, 3, 1120, 1984)\n",
      "\n"
     ]
    },
    {
     "name": "stdout",
     "output_type": "stream",
     "text": [
      "[[     123.55      684.26      658.99]\n",
      " [     132.24      504.14      543.95]]\n",
      "10\n",
      "[[     123.55      684.26      658.99]\n",
      " [     132.24      504.14      543.95]]\n",
      "11\n"
     ]
    },
    {
     "name": "stderr",
     "output_type": "stream",
     "text": [
      "0: 1120x1984 1 ball, 22 players, 62.0ms\n",
      "Speed: 12.0ms preprocess, 62.0ms inference, 1.3ms postprocess per image at shape (1, 3, 1120, 1984)\n",
      "\n",
      "0: 1120x1984 1 ball, 22 players, 61.7ms\n",
      "Speed: 12.1ms preprocess, 61.7ms inference, 1.3ms postprocess per image at shape (1, 3, 1120, 1984)\n",
      "\n"
     ]
    },
    {
     "name": "stdout",
     "output_type": "stream",
     "text": [
      "[[     123.55      684.26      658.99]\n",
      " [     132.24      504.14      543.95]]\n",
      "12\n",
      "[[     123.55      684.26      658.99]\n",
      " [     132.24      504.14      543.95]]\n",
      "13\n"
     ]
    },
    {
     "name": "stderr",
     "output_type": "stream",
     "text": [
      "0: 1120x1984 1 ball, 22 players, 62.0ms\n",
      "Speed: 12.3ms preprocess, 62.0ms inference, 1.3ms postprocess per image at shape (1, 3, 1120, 1984)\n",
      "\n",
      "0: 1120x1984 1 ball, 22 players, 61.6ms\n",
      "Speed: 12.0ms preprocess, 61.6ms inference, 1.2ms postprocess per image at shape (1, 3, 1120, 1984)\n",
      "\n"
     ]
    },
    {
     "name": "stdout",
     "output_type": "stream",
     "text": [
      "[[     123.55      684.26      658.99]\n",
      " [     132.24      504.14      543.95]]\n",
      "14\n",
      "[[     123.55      684.26      658.99]\n",
      " [     132.24      504.14      543.95]]\n",
      "15\n"
     ]
    },
    {
     "name": "stderr",
     "output_type": "stream",
     "text": [
      "0: 1120x1984 1 ball, 22 players, 61.9ms\n",
      "Speed: 12.3ms preprocess, 61.9ms inference, 1.3ms postprocess per image at shape (1, 3, 1120, 1984)\n",
      "\n",
      "0: 1120x1984 1 ball, 22 players, 61.4ms\n",
      "Speed: 12.4ms preprocess, 61.4ms inference, 1.3ms postprocess per image at shape (1, 3, 1120, 1984)\n",
      "\n"
     ]
    },
    {
     "name": "stdout",
     "output_type": "stream",
     "text": [
      "[[     123.55      684.26      658.99]\n",
      " [     132.24      504.14      543.95]]\n",
      "16\n",
      "[[     123.55      684.26      658.99]\n",
      " [     132.24      504.14      543.95]]\n",
      "17\n"
     ]
    },
    {
     "name": "stderr",
     "output_type": "stream",
     "text": [
      "0: 1120x1984 1 ball, 22 players, 62.0ms\n",
      "Speed: 12.2ms preprocess, 62.0ms inference, 1.3ms postprocess per image at shape (1, 3, 1120, 1984)\n",
      "\n",
      "0: 1120x1984 1 ball, 22 players, 61.7ms\n",
      "Speed: 12.5ms preprocess, 61.7ms inference, 1.2ms postprocess per image at shape (1, 3, 1120, 1984)\n",
      "\n"
     ]
    },
    {
     "name": "stdout",
     "output_type": "stream",
     "text": [
      "[[     123.55      684.26      658.99]\n",
      " [     132.24      504.14      543.95]]\n",
      "18\n",
      "[[     123.55      684.26      658.99]\n",
      " [     132.24      504.14      543.95]]\n",
      "19\n"
     ]
    },
    {
     "name": "stderr",
     "output_type": "stream",
     "text": [
      "0: 1120x1984 1 ball, 22 players, 61.5ms\n",
      "Speed: 12.1ms preprocess, 61.5ms inference, 1.3ms postprocess per image at shape (1, 3, 1120, 1984)\n",
      "\n",
      "0: 1120x1984 1 ball, 22 players, 61.5ms\n",
      "Speed: 12.0ms preprocess, 61.5ms inference, 1.2ms postprocess per image at shape (1, 3, 1120, 1984)\n",
      "\n"
     ]
    },
    {
     "name": "stdout",
     "output_type": "stream",
     "text": [
      "[[     123.55      684.26      658.99]\n",
      " [     132.24      504.14      543.95]]\n",
      "20\n",
      "[[     123.55      684.26      658.99]\n",
      " [     132.24      504.14      543.95]]\n",
      "21\n"
     ]
    },
    {
     "name": "stderr",
     "output_type": "stream",
     "text": [
      "0: 1120x1984 1 ball, 22 players, 62.1ms\n",
      "Speed: 12.6ms preprocess, 62.1ms inference, 1.3ms postprocess per image at shape (1, 3, 1120, 1984)\n",
      "\n",
      "0: 1120x1984 1 ball, 22 players, 61.3ms\n",
      "Speed: 12.0ms preprocess, 61.3ms inference, 1.3ms postprocess per image at shape (1, 3, 1120, 1984)\n",
      "\n"
     ]
    },
    {
     "name": "stdout",
     "output_type": "stream",
     "text": [
      "[[     123.55      684.26      658.99]\n",
      " [     132.24      504.14      543.95]]\n",
      "22\n",
      "[[     123.55      684.26      658.99]\n",
      " [     132.24      504.14      543.95]]\n",
      "23\n"
     ]
    },
    {
     "name": "stderr",
     "output_type": "stream",
     "text": [
      "0: 1120x1984 1 ball, 22 players, 62.1ms\n",
      "Speed: 12.1ms preprocess, 62.1ms inference, 1.3ms postprocess per image at shape (1, 3, 1120, 1984)\n",
      "\n",
      "0: 1120x1984 1 ball, 22 players, 61.6ms\n",
      "Speed: 12.7ms preprocess, 61.6ms inference, 1.3ms postprocess per image at shape (1, 3, 1120, 1984)\n",
      "\n"
     ]
    },
    {
     "name": "stdout",
     "output_type": "stream",
     "text": [
      "[[     123.55      684.26      658.99]\n",
      " [     132.24      504.14      543.95]]\n",
      "24\n",
      "[[     123.55      684.26      658.99]\n",
      " [     132.24      504.14      543.95]]\n",
      "25\n"
     ]
    },
    {
     "name": "stderr",
     "output_type": "stream",
     "text": [
      "0: 1120x1984 1 ball, 22 players, 61.6ms\n",
      "Speed: 12.9ms preprocess, 61.6ms inference, 1.3ms postprocess per image at shape (1, 3, 1120, 1984)\n",
      "\n",
      "0: 1120x1984 1 ball, 22 players, 61.7ms\n",
      "Speed: 12.0ms preprocess, 61.7ms inference, 1.2ms postprocess per image at shape (1, 3, 1120, 1984)\n",
      "\n"
     ]
    },
    {
     "name": "stdout",
     "output_type": "stream",
     "text": [
      "[[     123.55      684.26      658.99]\n",
      " [     132.24      504.14      543.95]]\n",
      "26\n",
      "[[     123.55      684.26      658.99]\n",
      " [     132.24      504.14      543.95]]\n",
      "27\n"
     ]
    },
    {
     "name": "stderr",
     "output_type": "stream",
     "text": [
      "0: 1120x1984 1 ball, 22 players, 61.9ms\n",
      "Speed: 12.1ms preprocess, 61.9ms inference, 1.3ms postprocess per image at shape (1, 3, 1120, 1984)\n",
      "\n",
      "0: 1120x1984 1 ball, 22 players, 61.9ms\n",
      "Speed: 12.0ms preprocess, 61.9ms inference, 1.2ms postprocess per image at shape (1, 3, 1120, 1984)\n",
      "\n"
     ]
    },
    {
     "name": "stdout",
     "output_type": "stream",
     "text": [
      "[[     123.55      684.26      658.99]\n",
      " [     132.24      504.14      543.95]]\n",
      "28\n",
      "[[     123.55      684.26      658.99]\n",
      " [     132.24      504.14      543.95]]\n",
      "29\n"
     ]
    },
    {
     "name": "stderr",
     "output_type": "stream",
     "text": [
      "0: 1120x1984 1 ball, 22 players, 61.9ms\n",
      "Speed: 12.6ms preprocess, 61.9ms inference, 1.3ms postprocess per image at shape (1, 3, 1120, 1984)\n",
      "\n",
      "0: 1120x1984 1 ball, 22 players, 61.6ms\n",
      "Speed: 12.0ms preprocess, 61.6ms inference, 1.3ms postprocess per image at shape (1, 3, 1120, 1984)\n",
      "\n"
     ]
    },
    {
     "name": "stdout",
     "output_type": "stream",
     "text": [
      "[[     123.55      684.26      658.99]\n",
      " [     132.24      504.14      543.95]]\n",
      "30\n",
      "[[     123.55      684.26      658.99]\n",
      " [     132.24      504.14      543.95]]\n",
      "31\n"
     ]
    },
    {
     "name": "stderr",
     "output_type": "stream",
     "text": [
      "0: 1120x1984 1 ball, 22 players, 62.1ms\n",
      "Speed: 11.9ms preprocess, 62.1ms inference, 1.3ms postprocess per image at shape (1, 3, 1120, 1984)\n",
      "\n",
      "0: 1120x1984 1 ball, 22 players, 61.7ms\n",
      "Speed: 12.0ms preprocess, 61.7ms inference, 1.2ms postprocess per image at shape (1, 3, 1120, 1984)\n",
      "\n"
     ]
    },
    {
     "name": "stdout",
     "output_type": "stream",
     "text": [
      "[[     123.55      684.26      658.99]\n",
      " [     132.24      504.14      543.95]]\n",
      "32\n",
      "[[     123.55      684.26      658.99]\n",
      " [     132.24      504.14      543.95]]\n",
      "33\n"
     ]
    },
    {
     "name": "stderr",
     "output_type": "stream",
     "text": [
      "0: 1120x1984 1 ball, 22 players, 61.8ms\n",
      "Speed: 12.0ms preprocess, 61.8ms inference, 1.3ms postprocess per image at shape (1, 3, 1120, 1984)\n",
      "\n",
      "0: 1120x1984 1 ball, 22 players, 61.5ms\n",
      "Speed: 12.0ms preprocess, 61.5ms inference, 1.2ms postprocess per image at shape (1, 3, 1120, 1984)\n",
      "\n"
     ]
    },
    {
     "name": "stdout",
     "output_type": "stream",
     "text": [
      "[[     123.55      684.26      658.99]\n",
      " [     132.24      504.14      543.95]]\n",
      "34\n",
      "[[     123.55      684.26      658.99]\n",
      " [     132.24      504.14      543.95]]\n",
      "35\n"
     ]
    },
    {
     "name": "stderr",
     "output_type": "stream",
     "text": [
      "0: 1120x1984 1 ball, 22 players, 62.0ms\n",
      "Speed: 12.1ms preprocess, 62.0ms inference, 1.3ms postprocess per image at shape (1, 3, 1120, 1984)\n",
      "\n",
      "0: 1120x1984 1 ball, 22 players, 61.5ms\n",
      "Speed: 14.2ms preprocess, 61.5ms inference, 1.3ms postprocess per image at shape (1, 3, 1120, 1984)\n",
      "\n"
     ]
    },
    {
     "name": "stdout",
     "output_type": "stream",
     "text": [
      "[[     123.55      684.26      658.99]\n",
      " [     132.24      504.14      543.95]]\n",
      "36\n",
      "[[     123.55      684.26      658.99]\n",
      " [     132.24      504.14      543.95]]\n",
      "37\n"
     ]
    },
    {
     "name": "stderr",
     "output_type": "stream",
     "text": [
      "0: 1120x1984 1 ball, 22 players, 62.0ms\n",
      "Speed: 12.2ms preprocess, 62.0ms inference, 1.3ms postprocess per image at shape (1, 3, 1120, 1984)\n",
      "\n",
      "0: 1120x1984 1 ball, 22 players, 61.5ms\n",
      "Speed: 11.8ms preprocess, 61.5ms inference, 1.3ms postprocess per image at shape (1, 3, 1120, 1984)\n",
      "\n"
     ]
    },
    {
     "name": "stdout",
     "output_type": "stream",
     "text": [
      "[[     123.55      684.26      658.99]\n",
      " [     132.24      504.14      543.95]]\n",
      "38\n",
      "[[     123.55      684.26      658.99]\n",
      " [     132.24      504.14      543.95]]\n",
      "39\n"
     ]
    },
    {
     "name": "stderr",
     "output_type": "stream",
     "text": [
      "0: 1120x1984 1 ball, 22 players, 61.6ms\n",
      "Speed: 11.9ms preprocess, 61.6ms inference, 1.3ms postprocess per image at shape (1, 3, 1120, 1984)\n",
      "\n",
      "0: 1120x1984 1 ball, 22 players, 61.5ms\n",
      "Speed: 12.0ms preprocess, 61.5ms inference, 1.3ms postprocess per image at shape (1, 3, 1120, 1984)\n",
      "\n"
     ]
    },
    {
     "name": "stdout",
     "output_type": "stream",
     "text": [
      "[[     123.55      684.26      658.99]\n",
      " [     132.24      504.14      543.95]]\n",
      "40\n",
      "[[     123.55      684.26      658.99]\n",
      " [     132.24      504.14      543.95]]\n",
      "41\n"
     ]
    },
    {
     "name": "stderr",
     "output_type": "stream",
     "text": [
      "0: 1120x1984 1 ball, 22 players, 62.0ms\n",
      "Speed: 12.0ms preprocess, 62.0ms inference, 1.2ms postprocess per image at shape (1, 3, 1120, 1984)\n",
      "\n",
      "0: 1120x1984 1 ball, 22 players, 61.5ms\n",
      "Speed: 12.6ms preprocess, 61.5ms inference, 1.3ms postprocess per image at shape (1, 3, 1120, 1984)\n",
      "\n"
     ]
    },
    {
     "name": "stdout",
     "output_type": "stream",
     "text": [
      "[[     123.55      684.26      658.99]\n",
      " [     132.24      504.14      543.95]]\n",
      "42\n",
      "[[     123.55      684.26      658.99]\n",
      " [     132.24      504.14      543.95]]\n",
      "43\n"
     ]
    },
    {
     "name": "stderr",
     "output_type": "stream",
     "text": [
      "0: 1120x1984 1 ball, 22 players, 61.9ms\n",
      "Speed: 12.3ms preprocess, 61.9ms inference, 1.3ms postprocess per image at shape (1, 3, 1120, 1984)\n",
      "\n",
      "0: 1120x1984 1 ball, 22 players, 61.5ms\n",
      "Speed: 11.8ms preprocess, 61.5ms inference, 1.4ms postprocess per image at shape (1, 3, 1120, 1984)\n",
      "\n"
     ]
    },
    {
     "name": "stdout",
     "output_type": "stream",
     "text": [
      "[[     123.55      684.26      658.99]\n",
      " [     132.24      504.14      543.95]]\n",
      "44\n",
      "[[     123.55      684.26      658.99]\n",
      " [     132.24      504.14      543.95]]\n",
      "45\n"
     ]
    },
    {
     "name": "stderr",
     "output_type": "stream",
     "text": [
      "0: 1120x1984 1 ball, 22 players, 61.7ms\n",
      "Speed: 11.9ms preprocess, 61.7ms inference, 1.2ms postprocess per image at shape (1, 3, 1120, 1984)\n",
      "\n",
      "0: 1120x1984 1 ball, 22 players, 61.3ms\n",
      "Speed: 11.9ms preprocess, 61.3ms inference, 1.2ms postprocess per image at shape (1, 3, 1120, 1984)\n",
      "\n"
     ]
    },
    {
     "name": "stdout",
     "output_type": "stream",
     "text": [
      "[[     123.55      684.26      658.99]\n",
      " [     132.24      504.14      543.95]]\n",
      "46\n",
      "[[     123.55      684.26      658.99]\n",
      " [     132.24      504.14      543.95]]\n",
      "47\n"
     ]
    },
    {
     "name": "stderr",
     "output_type": "stream",
     "text": [
      "0: 1120x1984 1 ball, 22 players, 62.0ms\n",
      "Speed: 12.0ms preprocess, 62.0ms inference, 1.2ms postprocess per image at shape (1, 3, 1120, 1984)\n",
      "\n",
      "0: 1120x1984 1 ball, 22 players, 61.5ms\n",
      "Speed: 12.5ms preprocess, 61.5ms inference, 1.2ms postprocess per image at shape (1, 3, 1120, 1984)\n",
      "\n"
     ]
    },
    {
     "name": "stdout",
     "output_type": "stream",
     "text": [
      "[[     123.55      684.26      658.99]\n",
      " [     132.24      504.14      543.95]]\n",
      "48\n",
      "[[     123.55      684.26      658.99]\n",
      " [     132.24      504.14      543.95]]\n",
      "49\n"
     ]
    },
    {
     "name": "stderr",
     "output_type": "stream",
     "text": [
      "0: 1120x1984 1 ball, 22 players, 61.9ms\n",
      "Speed: 11.9ms preprocess, 61.9ms inference, 1.2ms postprocess per image at shape (1, 3, 1120, 1984)\n",
      "\n",
      "0: 1120x1984 1 ball, 22 players, 61.7ms\n",
      "Speed: 11.9ms preprocess, 61.7ms inference, 1.3ms postprocess per image at shape (1, 3, 1120, 1984)\n",
      "\n"
     ]
    },
    {
     "name": "stdout",
     "output_type": "stream",
     "text": [
      "[[     123.55      684.26      658.99]\n",
      " [     132.24      504.14      543.95]]\n",
      "50\n",
      "[[     123.55      684.26      658.99]\n",
      " [     132.24      504.14      543.95]]\n",
      "51\n"
     ]
    },
    {
     "name": "stderr",
     "output_type": "stream",
     "text": [
      "0: 1120x1984 1 ball, 22 players, 61.5ms\n",
      "Speed: 11.9ms preprocess, 61.5ms inference, 1.2ms postprocess per image at shape (1, 3, 1120, 1984)\n",
      "\n",
      "0: 1120x1984 1 ball, 22 players, 61.7ms\n",
      "Speed: 11.9ms preprocess, 61.7ms inference, 1.2ms postprocess per image at shape (1, 3, 1120, 1984)\n",
      "\n"
     ]
    },
    {
     "name": "stdout",
     "output_type": "stream",
     "text": [
      "[[     123.55      684.26      658.99]\n",
      " [     132.24      504.14      543.95]]\n",
      "52\n",
      "[[     123.55      684.26      658.99]\n",
      " [     132.24      504.14      543.95]]\n",
      "53\n"
     ]
    },
    {
     "name": "stderr",
     "output_type": "stream",
     "text": [
      "0: 1120x1984 1 ball, 22 players, 61.7ms\n",
      "Speed: 12.0ms preprocess, 61.7ms inference, 1.3ms postprocess per image at shape (1, 3, 1120, 1984)\n",
      "\n",
      "0: 1120x1984 1 ball, 22 players, 61.7ms\n",
      "Speed: 12.3ms preprocess, 61.7ms inference, 1.2ms postprocess per image at shape (1, 3, 1120, 1984)\n",
      "\n"
     ]
    },
    {
     "name": "stdout",
     "output_type": "stream",
     "text": [
      "[[     123.55      684.26      658.99]\n",
      " [     132.24      504.14      543.95]]\n",
      "54\n",
      "[[     123.55      684.26      658.99]\n",
      " [     132.24      504.14      543.95]]\n",
      "55\n"
     ]
    },
    {
     "name": "stderr",
     "output_type": "stream",
     "text": [
      "0: 1120x1984 1 ball, 22 players, 62.0ms\n",
      "Speed: 12.4ms preprocess, 62.0ms inference, 1.2ms postprocess per image at shape (1, 3, 1120, 1984)\n",
      "\n",
      "0: 1120x1984 1 ball, 22 players, 61.6ms\n",
      "Speed: 12.2ms preprocess, 61.6ms inference, 1.3ms postprocess per image at shape (1, 3, 1120, 1984)\n",
      "\n"
     ]
    },
    {
     "name": "stdout",
     "output_type": "stream",
     "text": [
      "[[     123.55      684.26      658.99]\n",
      " [     132.24      504.14      543.95]]\n",
      "56\n",
      "[[     123.55      684.26      658.99]\n",
      " [     132.24      504.14      543.95]]\n",
      "57\n"
     ]
    },
    {
     "name": "stderr",
     "output_type": "stream",
     "text": [
      "0: 1120x1984 1 ball, 22 players, 62.1ms\n",
      "Speed: 12.3ms preprocess, 62.1ms inference, 1.2ms postprocess per image at shape (1, 3, 1120, 1984)\n",
      "\n",
      "0: 1120x1984 1 ball, 22 players, 61.6ms\n",
      "Speed: 12.0ms preprocess, 61.6ms inference, 1.2ms postprocess per image at shape (1, 3, 1120, 1984)\n"
     ]
    },
    {
     "name": "stdout",
     "output_type": "stream",
     "text": [
      "[[     123.55      684.26      658.99]\n",
      " [     132.24      504.14      543.95]]\n",
      "58\n"
     ]
    },
    {
     "name": "stderr",
     "output_type": "stream",
     "text": [
      "\n",
      "0: 1120x1984 1 ball, 22 players, 61.5ms\n",
      "Speed: 12.5ms preprocess, 61.5ms inference, 1.3ms postprocess per image at shape (1, 3, 1120, 1984)\n",
      "\n"
     ]
    },
    {
     "name": "stdout",
     "output_type": "stream",
     "text": [
      "[[     123.55      684.26      658.99]\n",
      " [     132.24      504.14      543.95]]\n",
      "59\n",
      "[[     123.55      684.26      658.99]\n",
      " [     132.24      504.14      543.95]]\n",
      "60\n"
     ]
    },
    {
     "name": "stderr",
     "output_type": "stream",
     "text": [
      "0: 1120x1984 1 ball, 22 players, 61.8ms\n",
      "Speed: 11.8ms preprocess, 61.8ms inference, 1.3ms postprocess per image at shape (1, 3, 1120, 1984)\n",
      "\n",
      "0: 1120x1984 1 ball, 22 players, 61.5ms\n",
      "Speed: 12.2ms preprocess, 61.5ms inference, 1.2ms postprocess per image at shape (1, 3, 1120, 1984)\n",
      "\n"
     ]
    },
    {
     "name": "stdout",
     "output_type": "stream",
     "text": [
      "[[     123.55      684.26      658.99]\n",
      " [     132.24      504.14      543.95]]\n",
      "61\n",
      "[[     123.55      684.26      658.99]\n",
      " [     132.24      504.14      543.95]]\n",
      "62\n"
     ]
    },
    {
     "name": "stderr",
     "output_type": "stream",
     "text": [
      "0: 1120x1984 1 ball, 22 players, 61.8ms\n",
      "Speed: 12.2ms preprocess, 61.8ms inference, 1.2ms postprocess per image at shape (1, 3, 1120, 1984)\n",
      "\n",
      "0: 1120x1984 1 ball, 22 players, 61.6ms\n",
      "Speed: 12.7ms preprocess, 61.6ms inference, 1.3ms postprocess per image at shape (1, 3, 1120, 1984)\n",
      "\n"
     ]
    },
    {
     "name": "stdout",
     "output_type": "stream",
     "text": [
      "[[     123.55      684.26      658.99]\n",
      " [     132.24      504.14      543.95]]\n",
      "63\n",
      "[[     123.55      684.26      658.99]\n",
      " [     132.24      504.14      543.95]]\n",
      "64\n"
     ]
    },
    {
     "name": "stderr",
     "output_type": "stream",
     "text": [
      "0: 1120x1984 1 ball, 22 players, 62.0ms\n",
      "Speed: 14.3ms preprocess, 62.0ms inference, 1.3ms postprocess per image at shape (1, 3, 1120, 1984)\n",
      "\n",
      "0: 1120x1984 1 ball, 22 players, 61.6ms\n",
      "Speed: 12.3ms preprocess, 61.6ms inference, 1.2ms postprocess per image at shape (1, 3, 1120, 1984)\n",
      "\n"
     ]
    },
    {
     "name": "stdout",
     "output_type": "stream",
     "text": [
      "[[     123.55      684.26      658.99]\n",
      " [     132.24      504.14      543.95]]\n",
      "65\n",
      "[[     123.55      684.26      658.99]\n",
      " [     132.24      504.14      543.95]]\n",
      "66\n"
     ]
    },
    {
     "name": "stderr",
     "output_type": "stream",
     "text": [
      "0: 1120x1984 1 ball, 22 players, 62.2ms\n",
      "Speed: 11.9ms preprocess, 62.2ms inference, 1.3ms postprocess per image at shape (1, 3, 1120, 1984)\n",
      "\n",
      "0: 1120x1984 1 ball, 22 players, 61.8ms\n",
      "Speed: 11.8ms preprocess, 61.8ms inference, 1.3ms postprocess per image at shape (1, 3, 1120, 1984)\n",
      "\n"
     ]
    },
    {
     "name": "stdout",
     "output_type": "stream",
     "text": [
      "[[     123.55      684.26      658.99]\n",
      " [     132.24      504.14      543.95]]\n",
      "67\n",
      "[[     123.55      684.26      658.99]\n",
      " [     132.24      504.14      543.95]]\n",
      "68\n"
     ]
    },
    {
     "name": "stderr",
     "output_type": "stream",
     "text": [
      "0: 1120x1984 1 ball, 22 players, 63.2ms\n",
      "Speed: 11.8ms preprocess, 63.2ms inference, 1.3ms postprocess per image at shape (1, 3, 1120, 1984)\n",
      "\n",
      "0: 1120x1984 1 ball, 22 players, 61.5ms\n",
      "Speed: 11.9ms preprocess, 61.5ms inference, 1.3ms postprocess per image at shape (1, 3, 1120, 1984)\n",
      "\n"
     ]
    },
    {
     "name": "stdout",
     "output_type": "stream",
     "text": [
      "[[     123.55      684.26      658.99]\n",
      " [     132.24      504.14      543.95]]\n",
      "69\n",
      "[[     123.55      684.26      658.99]\n",
      " [     132.24      504.14      543.95]]\n",
      "70\n"
     ]
    },
    {
     "name": "stderr",
     "output_type": "stream",
     "text": [
      "0: 1120x1984 1 ball, 22 players, 61.9ms\n",
      "Speed: 12.0ms preprocess, 61.9ms inference, 1.2ms postprocess per image at shape (1, 3, 1120, 1984)\n",
      "\n",
      "0: 1120x1984 1 ball, 22 players, 61.5ms\n",
      "Speed: 12.3ms preprocess, 61.5ms inference, 1.3ms postprocess per image at shape (1, 3, 1120, 1984)\n",
      "\n"
     ]
    },
    {
     "name": "stdout",
     "output_type": "stream",
     "text": [
      "[[     123.55      684.26      658.99]\n",
      " [     132.24      504.14      543.95]]\n",
      "71\n",
      "[[     123.55      684.26      658.99]\n",
      " [     132.24      504.14      543.95]]\n",
      "72\n"
     ]
    },
    {
     "name": "stderr",
     "output_type": "stream",
     "text": [
      "0: 1120x1984 1 ball, 22 players, 63.3ms\n",
      "Speed: 12.0ms preprocess, 63.3ms inference, 1.3ms postprocess per image at shape (1, 3, 1120, 1984)\n",
      "\n",
      "0: 1120x1984 1 ball, 22 players, 61.7ms\n",
      "Speed: 12.0ms preprocess, 61.7ms inference, 1.3ms postprocess per image at shape (1, 3, 1120, 1984)\n",
      "\n"
     ]
    },
    {
     "name": "stdout",
     "output_type": "stream",
     "text": [
      "[[     123.55      684.26      658.99]\n",
      " [     132.24      504.14      543.95]]\n",
      "73\n",
      "[[     123.55      684.26      658.99]\n",
      " [     132.24      504.14      543.95]]\n",
      "74\n"
     ]
    },
    {
     "name": "stderr",
     "output_type": "stream",
     "text": [
      "0: 1120x1984 1 ball, 23 players, 63.1ms\n",
      "Speed: 12.4ms preprocess, 63.1ms inference, 1.2ms postprocess per image at shape (1, 3, 1120, 1984)\n",
      "\n",
      "0: 1120x1984 1 ball, 23 players, 61.5ms\n",
      "Speed: 12.1ms preprocess, 61.5ms inference, 1.3ms postprocess per image at shape (1, 3, 1120, 1984)\n",
      "\n"
     ]
    },
    {
     "name": "stdout",
     "output_type": "stream",
     "text": [
      "[[     123.55      684.26      658.99]\n",
      " [     132.24      504.14      543.95]]\n",
      "75\n",
      "[[     123.55      684.26      658.99]\n",
      " [     132.24      504.14      543.95]]\n",
      "76\n"
     ]
    },
    {
     "name": "stderr",
     "output_type": "stream",
     "text": [
      "0: 1120x1984 1 ball, 22 players, 61.8ms\n",
      "Speed: 12.7ms preprocess, 61.8ms inference, 1.2ms postprocess per image at shape (1, 3, 1120, 1984)\n",
      "\n",
      "0: 1120x1984 1 ball, 22 players, 61.6ms\n",
      "Speed: 12.6ms preprocess, 61.6ms inference, 1.3ms postprocess per image at shape (1, 3, 1120, 1984)\n",
      "\n"
     ]
    },
    {
     "name": "stdout",
     "output_type": "stream",
     "text": [
      "[[     123.55      684.26      658.99]\n",
      " [     132.24      504.14      543.95]]\n",
      "77\n",
      "[[     123.55      684.26      658.99]\n",
      " [     132.24      504.14      543.95]]\n",
      "78\n"
     ]
    },
    {
     "name": "stderr",
     "output_type": "stream",
     "text": [
      "0: 1120x1984 1 ball, 22 players, 62.1ms\n",
      "Speed: 12.0ms preprocess, 62.1ms inference, 1.3ms postprocess per image at shape (1, 3, 1120, 1984)\n",
      "\n",
      "0: 1120x1984 1 ball, 22 players, 61.6ms\n",
      "Speed: 12.0ms preprocess, 61.6ms inference, 1.3ms postprocess per image at shape (1, 3, 1120, 1984)\n",
      "\n"
     ]
    },
    {
     "name": "stdout",
     "output_type": "stream",
     "text": [
      "[[     123.55      684.26      658.99]\n",
      " [     132.24      504.14      543.95]]\n",
      "79\n",
      "[[     123.55      684.26      658.99]\n",
      " [     132.24      504.14      543.95]]\n",
      "80\n"
     ]
    },
    {
     "name": "stderr",
     "output_type": "stream",
     "text": [
      "0: 1120x1984 1 ball, 22 players, 62.0ms\n",
      "Speed: 12.0ms preprocess, 62.0ms inference, 1.3ms postprocess per image at shape (1, 3, 1120, 1984)\n",
      "\n",
      "0: 1120x1984 1 ball, 22 players, 61.8ms\n",
      "Speed: 11.9ms preprocess, 61.8ms inference, 1.3ms postprocess per image at shape (1, 3, 1120, 1984)\n",
      "\n"
     ]
    },
    {
     "name": "stdout",
     "output_type": "stream",
     "text": [
      "[[     123.55      684.26      658.99]\n",
      " [     132.24      504.14      543.95]]\n",
      "81\n",
      "[[     123.55      684.26      658.99]\n",
      " [     132.24      504.14      543.95]]\n",
      "82\n"
     ]
    },
    {
     "name": "stderr",
     "output_type": "stream",
     "text": [
      "0: 1120x1984 1 ball, 22 players, 62.0ms\n",
      "Speed: 11.9ms preprocess, 62.0ms inference, 1.2ms postprocess per image at shape (1, 3, 1120, 1984)\n",
      "\n",
      "0: 1120x1984 1 ball, 22 players, 61.7ms\n",
      "Speed: 11.9ms preprocess, 61.7ms inference, 1.3ms postprocess per image at shape (1, 3, 1120, 1984)\n",
      "\n"
     ]
    },
    {
     "name": "stdout",
     "output_type": "stream",
     "text": [
      "[[     123.55      684.26      658.99]\n",
      " [     132.24      504.14      543.95]]\n",
      "83\n",
      "[[     123.55      684.26      658.99]\n",
      " [     132.24      504.14      543.95]]\n",
      "84\n"
     ]
    },
    {
     "name": "stderr",
     "output_type": "stream",
     "text": [
      "0: 1120x1984 1 ball, 22 players, 62.0ms\n",
      "Speed: 12.3ms preprocess, 62.0ms inference, 1.2ms postprocess per image at shape (1, 3, 1120, 1984)\n",
      "\n",
      "0: 1120x1984 1 ball, 22 players, 61.7ms\n",
      "Speed: 12.3ms preprocess, 61.7ms inference, 1.2ms postprocess per image at shape (1, 3, 1120, 1984)\n",
      "\n"
     ]
    },
    {
     "name": "stdout",
     "output_type": "stream",
     "text": [
      "[[     123.55      684.26      658.99]\n",
      " [     132.24      504.14      543.95]]\n",
      "85\n",
      "[[     123.55      684.26      658.99]\n",
      " [     132.24      504.14      543.95]]\n",
      "86\n"
     ]
    },
    {
     "name": "stderr",
     "output_type": "stream",
     "text": [
      "0: 1120x1984 1 ball, 22 players, 61.9ms\n",
      "Speed: 11.9ms preprocess, 61.9ms inference, 1.3ms postprocess per image at shape (1, 3, 1120, 1984)\n",
      "\n",
      "0: 1120x1984 1 ball, 22 players, 61.5ms\n",
      "Speed: 11.9ms preprocess, 61.5ms inference, 1.3ms postprocess per image at shape (1, 3, 1120, 1984)\n",
      "\n"
     ]
    },
    {
     "name": "stdout",
     "output_type": "stream",
     "text": [
      "[[     123.55      684.26      658.99]\n",
      " [     132.24      504.14      543.95]]\n",
      "87\n",
      "[[     123.55      684.26      658.99]\n",
      " [     132.24      504.14      543.95]]\n",
      "88\n"
     ]
    },
    {
     "name": "stderr",
     "output_type": "stream",
     "text": [
      "0: 1120x1984 1 ball, 22 players, 62.2ms\n",
      "Speed: 11.9ms preprocess, 62.2ms inference, 1.3ms postprocess per image at shape (1, 3, 1120, 1984)\n",
      "\n",
      "0: 1120x1984 1 ball, 22 players, 61.6ms\n",
      "Speed: 12.0ms preprocess, 61.6ms inference, 1.3ms postprocess per image at shape (1, 3, 1120, 1984)\n",
      "\n"
     ]
    },
    {
     "name": "stdout",
     "output_type": "stream",
     "text": [
      "[[     123.55      684.26      658.99]\n",
      " [     132.24      504.14      543.95]]\n",
      "89\n",
      "[[     123.55      684.26      658.99]\n",
      " [     132.24      504.14      543.95]]\n",
      "90\n"
     ]
    },
    {
     "name": "stderr",
     "output_type": "stream",
     "text": [
      "0: 1120x1984 1 ball, 22 players, 63.3ms\n",
      "Speed: 12.7ms preprocess, 63.3ms inference, 1.2ms postprocess per image at shape (1, 3, 1120, 1984)\n",
      "\n",
      "0: 1120x1984 1 ball, 22 players, 62.0ms\n",
      "Speed: 12.0ms preprocess, 62.0ms inference, 1.2ms postprocess per image at shape (1, 3, 1120, 1984)\n"
     ]
    },
    {
     "name": "stdout",
     "output_type": "stream",
     "text": [
      "[[     123.55      684.26      658.99]\n",
      " [     132.24      504.14      543.95]]\n",
      "91\n",
      "[[     123.55      684.26      658.99]\n",
      " [     132.24      504.14      543.95]]\n",
      "92\n"
     ]
    },
    {
     "name": "stderr",
     "output_type": "stream",
     "text": [
      "\n",
      "0: 1120x1984 1 ball, 22 players, 61.3ms\n",
      "Speed: 11.9ms preprocess, 61.3ms inference, 1.3ms postprocess per image at shape (1, 3, 1120, 1984)\n",
      "\n",
      "0: 1120x1984 1 ball, 22 players, 61.6ms\n",
      "Speed: 12.2ms preprocess, 61.6ms inference, 1.2ms postprocess per image at shape (1, 3, 1120, 1984)\n",
      "\n"
     ]
    },
    {
     "name": "stdout",
     "output_type": "stream",
     "text": [
      "[[     123.55      684.26      658.99]\n",
      " [     132.24      504.14      543.95]]\n",
      "93\n",
      "[[     123.55      684.26      658.99]\n",
      " [     132.24      504.14      543.95]]\n",
      "94\n"
     ]
    },
    {
     "name": "stderr",
     "output_type": "stream",
     "text": [
      "0: 1120x1984 1 ball, 22 players, 62.3ms\n",
      "Speed: 11.9ms preprocess, 62.3ms inference, 1.3ms postprocess per image at shape (1, 3, 1120, 1984)\n",
      "\n",
      "0: 1120x1984 1 ball, 22 players, 61.4ms\n",
      "Speed: 11.9ms preprocess, 61.4ms inference, 1.2ms postprocess per image at shape (1, 3, 1120, 1984)\n",
      "\n"
     ]
    },
    {
     "name": "stdout",
     "output_type": "stream",
     "text": [
      "[[     123.55      684.26      658.99]\n",
      " [     132.24      504.14      543.95]]\n",
      "95\n",
      "[[     123.55      684.26      658.99]\n",
      " [     132.24      504.14      543.95]]\n",
      "96\n"
     ]
    },
    {
     "name": "stderr",
     "output_type": "stream",
     "text": [
      "0: 1120x1984 1 ball, 22 players, 61.8ms\n",
      "Speed: 11.9ms preprocess, 61.8ms inference, 1.3ms postprocess per image at shape (1, 3, 1120, 1984)\n",
      "\n",
      "0: 1120x1984 1 ball, 22 players, 61.5ms\n",
      "Speed: 12.0ms preprocess, 61.5ms inference, 1.3ms postprocess per image at shape (1, 3, 1120, 1984)\n",
      "\n"
     ]
    },
    {
     "name": "stdout",
     "output_type": "stream",
     "text": [
      "[[     123.55      684.26      658.99]\n",
      " [     132.24      504.14      543.95]]\n",
      "97\n",
      "[[     123.55      684.26      658.99]\n",
      " [     132.24      504.14      543.95]]\n",
      "98\n"
     ]
    },
    {
     "name": "stderr",
     "output_type": "stream",
     "text": [
      "0: 1120x1984 1 ball, 22 players, 63.2ms\n",
      "Speed: 12.1ms preprocess, 63.2ms inference, 1.2ms postprocess per image at shape (1, 3, 1120, 1984)\n",
      "\n",
      "0: 1120x1984 1 ball, 22 players, 61.5ms\n",
      "Speed: 12.1ms preprocess, 61.5ms inference, 1.3ms postprocess per image at shape (1, 3, 1120, 1984)\n",
      "\n"
     ]
    },
    {
     "name": "stdout",
     "output_type": "stream",
     "text": [
      "[[     123.55      684.26      658.99]\n",
      " [     132.24      504.14      543.95]]\n",
      "99\n",
      "[[     123.55      684.26      658.99]\n",
      " [     132.24      504.14      543.95]]\n",
      "100\n"
     ]
    },
    {
     "name": "stderr",
     "output_type": "stream",
     "text": [
      "0: 1120x1984 1 ball, 22 players, 61.8ms\n",
      "Speed: 12.0ms preprocess, 61.8ms inference, 1.3ms postprocess per image at shape (1, 3, 1120, 1984)\n",
      "\n",
      "0: 1120x1984 1 ball, 22 players, 61.5ms\n",
      "Speed: 12.0ms preprocess, 61.5ms inference, 1.3ms postprocess per image at shape (1, 3, 1120, 1984)\n",
      "\n"
     ]
    },
    {
     "name": "stdout",
     "output_type": "stream",
     "text": [
      "[[     123.55      684.26      658.99]\n",
      " [     132.24      504.14      543.95]]\n",
      "101\n",
      "[[     123.55      684.26      658.99]\n",
      " [     132.24      504.14      543.95]]\n",
      "102\n"
     ]
    },
    {
     "name": "stderr",
     "output_type": "stream",
     "text": [
      "0: 1120x1984 1 ball, 22 players, 62.0ms\n",
      "Speed: 12.7ms preprocess, 62.0ms inference, 1.2ms postprocess per image at shape (1, 3, 1120, 1984)\n",
      "\n",
      "0: 1120x1984 1 ball, 22 players, 61.5ms\n",
      "Speed: 11.9ms preprocess, 61.5ms inference, 1.2ms postprocess per image at shape (1, 3, 1120, 1984)\n",
      "\n"
     ]
    },
    {
     "name": "stdout",
     "output_type": "stream",
     "text": [
      "[[     123.55      684.26      658.99]\n",
      " [     132.24      504.14      543.95]]\n",
      "103\n",
      "[[     123.55      684.26      658.99]\n",
      " [     132.24      504.14      543.95]]\n",
      "104\n"
     ]
    },
    {
     "name": "stderr",
     "output_type": "stream",
     "text": [
      "0: 1120x1984 1 ball, 22 players, 62.1ms\n",
      "Speed: 12.0ms preprocess, 62.1ms inference, 1.3ms postprocess per image at shape (1, 3, 1120, 1984)\n",
      "\n",
      "0: 1120x1984 1 ball, 22 players, 61.7ms\n",
      "Speed: 12.4ms preprocess, 61.7ms inference, 1.3ms postprocess per image at shape (1, 3, 1120, 1984)\n",
      "\n"
     ]
    },
    {
     "name": "stdout",
     "output_type": "stream",
     "text": [
      "[[     123.55      684.26      658.99]\n",
      " [     132.24      504.14      543.95]]\n",
      "105\n",
      "[[     123.55      684.26      658.99]\n",
      " [     132.24      504.14      543.95]]\n",
      "106\n"
     ]
    },
    {
     "name": "stderr",
     "output_type": "stream",
     "text": [
      "0: 1120x1984 1 ball, 22 players, 63.5ms\n",
      "Speed: 12.4ms preprocess, 63.5ms inference, 1.2ms postprocess per image at shape (1, 3, 1120, 1984)\n",
      "\n",
      "0: 1120x1984 1 ball, 22 players, 61.5ms\n",
      "Speed: 12.1ms preprocess, 61.5ms inference, 1.3ms postprocess per image at shape (1, 3, 1120, 1984)\n",
      "\n"
     ]
    },
    {
     "name": "stdout",
     "output_type": "stream",
     "text": [
      "[[     123.55      684.26      658.99]\n",
      " [     132.24      504.14      543.95]]\n",
      "107\n",
      "[[     123.55      684.26      658.99]\n",
      " [     132.24      504.14      543.95]]\n",
      "108\n"
     ]
    },
    {
     "name": "stderr",
     "output_type": "stream",
     "text": [
      "0: 1120x1984 1 ball, 22 players, 62.1ms\n",
      "Speed: 12.7ms preprocess, 62.1ms inference, 1.3ms postprocess per image at shape (1, 3, 1120, 1984)\n",
      "\n",
      "0: 1120x1984 1 ball, 22 players, 61.6ms\n",
      "Speed: 11.8ms preprocess, 61.6ms inference, 1.3ms postprocess per image at shape (1, 3, 1120, 1984)\n",
      "\n"
     ]
    },
    {
     "name": "stdout",
     "output_type": "stream",
     "text": [
      "[[     123.55      684.26      658.99]\n",
      " [     132.24      504.14      543.95]]\n",
      "109\n",
      "[[     123.55      684.26      658.99]\n",
      " [     132.24      504.14      543.95]]\n",
      "110\n"
     ]
    },
    {
     "name": "stderr",
     "output_type": "stream",
     "text": [
      "0: 1120x1984 1 ball, 22 players, 63.1ms\n",
      "Speed: 12.0ms preprocess, 63.1ms inference, 1.2ms postprocess per image at shape (1, 3, 1120, 1984)\n",
      "\n",
      "0: 1120x1984 1 ball, 22 players, 61.7ms\n",
      "Speed: 12.0ms preprocess, 61.7ms inference, 1.2ms postprocess per image at shape (1, 3, 1120, 1984)\n",
      "\n"
     ]
    },
    {
     "name": "stdout",
     "output_type": "stream",
     "text": [
      "[[     123.55      684.26      658.99]\n",
      " [     132.24      504.14      543.95]]\n",
      "111\n",
      "[[     123.55      684.26      658.99]\n",
      " [     132.24      504.14      543.95]]\n",
      "112\n"
     ]
    },
    {
     "name": "stderr",
     "output_type": "stream",
     "text": [
      "0: 1120x1984 1 ball, 22 players, 63.1ms\n",
      "Speed: 11.9ms preprocess, 63.1ms inference, 1.3ms postprocess per image at shape (1, 3, 1120, 1984)\n",
      "\n",
      "0: 1120x1984 1 ball, 22 players, 61.6ms\n",
      "Speed: 12.0ms preprocess, 61.6ms inference, 1.3ms postprocess per image at shape (1, 3, 1120, 1984)\n",
      "\n"
     ]
    },
    {
     "name": "stdout",
     "output_type": "stream",
     "text": [
      "[[     123.55      684.26      658.99]\n",
      " [     132.24      504.14      543.95]]\n",
      "113\n",
      "[[     123.55      684.26      658.99]\n",
      " [     132.24      504.14      543.95]]\n",
      "114\n"
     ]
    },
    {
     "name": "stderr",
     "output_type": "stream",
     "text": [
      "0: 1120x1984 1 ball, 22 players, 61.7ms\n",
      "Speed: 12.3ms preprocess, 61.7ms inference, 1.2ms postprocess per image at shape (1, 3, 1120, 1984)\n",
      "\n",
      "0: 1120x1984 1 ball, 22 players, 61.4ms\n",
      "Speed: 12.7ms preprocess, 61.4ms inference, 1.2ms postprocess per image at shape (1, 3, 1120, 1984)\n",
      "\n"
     ]
    },
    {
     "name": "stdout",
     "output_type": "stream",
     "text": [
      "[[     123.55      684.26      658.99]\n",
      " [     132.24      504.14      543.95]]\n",
      "115\n",
      "[[     123.55      684.26      658.99]\n",
      " [     132.24      504.14      543.95]]\n",
      "116\n"
     ]
    },
    {
     "name": "stderr",
     "output_type": "stream",
     "text": [
      "0: 1120x1984 1 ball, 22 players, 61.9ms\n",
      "Speed: 12.0ms preprocess, 61.9ms inference, 1.4ms postprocess per image at shape (1, 3, 1120, 1984)\n",
      "\n",
      "0: 1120x1984 1 ball, 22 players, 61.5ms\n",
      "Speed: 12.0ms preprocess, 61.5ms inference, 1.3ms postprocess per image at shape (1, 3, 1120, 1984)\n",
      "\n"
     ]
    },
    {
     "name": "stdout",
     "output_type": "stream",
     "text": [
      "[[     123.55      684.26      658.99]\n",
      " [     132.24      504.14      543.95]]\n",
      "117\n",
      "[[     123.55      684.26      658.99]\n",
      " [     132.24      504.14      543.95]]\n",
      "118\n"
     ]
    },
    {
     "name": "stderr",
     "output_type": "stream",
     "text": [
      "0: 1120x1984 1 ball, 22 players, 62.0ms\n",
      "Speed: 11.9ms preprocess, 62.0ms inference, 1.2ms postprocess per image at shape (1, 3, 1120, 1984)\n",
      "\n",
      "0: 1120x1984 1 ball, 22 players, 61.9ms\n",
      "Speed: 12.0ms preprocess, 61.9ms inference, 1.2ms postprocess per image at shape (1, 3, 1120, 1984)\n",
      "\n"
     ]
    },
    {
     "name": "stdout",
     "output_type": "stream",
     "text": [
      "[[     123.55      684.26      658.99]\n",
      " [     132.24      504.14      543.95]]\n",
      "119\n",
      "[[     123.55      684.26      658.99]\n",
      " [     132.24      504.14      543.95]]\n",
      "120\n"
     ]
    },
    {
     "name": "stderr",
     "output_type": "stream",
     "text": [
      "0: 1120x1984 1 ball, 22 players, 63.3ms\n",
      "Speed: 12.4ms preprocess, 63.3ms inference, 1.3ms postprocess per image at shape (1, 3, 1120, 1984)\n",
      "\n",
      "0: 1120x1984 1 ball, 22 players, 61.5ms\n",
      "Speed: 12.0ms preprocess, 61.5ms inference, 1.2ms postprocess per image at shape (1, 3, 1120, 1984)\n",
      "\n"
     ]
    },
    {
     "name": "stdout",
     "output_type": "stream",
     "text": [
      "[[     123.55      684.26      658.99]\n",
      " [     132.24      504.14      543.95]]\n",
      "121\n",
      "[[     123.55      684.26      658.99]\n",
      " [     132.24      504.14      543.95]]\n",
      "122\n"
     ]
    },
    {
     "name": "stderr",
     "output_type": "stream",
     "text": [
      "0: 1120x1984 1 ball, 22 players, 61.4ms\n",
      "Speed: 12.0ms preprocess, 61.4ms inference, 1.2ms postprocess per image at shape (1, 3, 1120, 1984)\n",
      "\n",
      "0: 1120x1984 1 ball, 22 players, 61.7ms\n",
      "Speed: 12.0ms preprocess, 61.7ms inference, 1.3ms postprocess per image at shape (1, 3, 1120, 1984)\n",
      "\n"
     ]
    },
    {
     "name": "stdout",
     "output_type": "stream",
     "text": [
      "[[     123.55      684.26      658.99]\n",
      " [     132.24      504.14      543.95]]\n",
      "123\n",
      "[[     123.55      684.26      658.99]\n",
      " [     132.24      504.14      543.95]]\n",
      "124\n"
     ]
    },
    {
     "name": "stderr",
     "output_type": "stream",
     "text": [
      "0: 1120x1984 1 ball, 22 players, 61.9ms\n",
      "Speed: 12.1ms preprocess, 61.9ms inference, 1.2ms postprocess per image at shape (1, 3, 1120, 1984)\n",
      "\n",
      "0: 1120x1984 1 ball, 22 players, 61.6ms\n",
      "Speed: 12.0ms preprocess, 61.6ms inference, 1.3ms postprocess per image at shape (1, 3, 1120, 1984)\n",
      "\n"
     ]
    },
    {
     "name": "stdout",
     "output_type": "stream",
     "text": [
      "[[     123.55      684.26      658.99]\n",
      " [     132.24      504.14      543.95]]\n",
      "125\n",
      "[[     123.55      684.26      658.99]\n",
      " [     132.24      504.14      543.95]]\n",
      "126\n"
     ]
    },
    {
     "name": "stderr",
     "output_type": "stream",
     "text": [
      "0: 1120x1984 1 ball, 22 players, 61.8ms\n",
      "Speed: 12.0ms preprocess, 61.8ms inference, 1.3ms postprocess per image at shape (1, 3, 1120, 1984)\n",
      "\n",
      "0: 1120x1984 1 ball, 22 players, 61.7ms\n",
      "Speed: 12.0ms preprocess, 61.7ms inference, 1.2ms postprocess per image at shape (1, 3, 1120, 1984)\n",
      "\n"
     ]
    },
    {
     "name": "stdout",
     "output_type": "stream",
     "text": [
      "[[     123.55      684.26      658.99]\n",
      " [     132.24      504.14      543.95]]\n",
      "127\n",
      "[[     123.55      684.26      658.99]\n",
      " [     132.24      504.14      543.95]]\n",
      "128\n"
     ]
    },
    {
     "name": "stderr",
     "output_type": "stream",
     "text": [
      "0: 1120x1984 1 ball, 22 players, 61.8ms\n",
      "Speed: 12.2ms preprocess, 61.8ms inference, 1.2ms postprocess per image at shape (1, 3, 1120, 1984)\n",
      "\n",
      "0: 1120x1984 1 ball, 22 players, 61.4ms\n",
      "Speed: 12.1ms preprocess, 61.4ms inference, 1.2ms postprocess per image at shape (1, 3, 1120, 1984)\n",
      "\n"
     ]
    },
    {
     "name": "stdout",
     "output_type": "stream",
     "text": [
      "[[     123.55      684.26      658.99]\n",
      " [     132.24      504.14      543.95]]\n",
      "129\n",
      "[[     123.55      684.26      658.99]\n",
      " [     132.24      504.14      543.95]]\n",
      "130\n"
     ]
    },
    {
     "name": "stderr",
     "output_type": "stream",
     "text": [
      "0: 1120x1984 1 ball, 22 players, 62.2ms\n",
      "Speed: 12.0ms preprocess, 62.2ms inference, 1.8ms postprocess per image at shape (1, 3, 1120, 1984)\n",
      "\n",
      "0: 1120x1984 1 ball, 22 players, 61.6ms\n",
      "Speed: 12.0ms preprocess, 61.6ms inference, 1.2ms postprocess per image at shape (1, 3, 1120, 1984)\n",
      "\n"
     ]
    },
    {
     "name": "stdout",
     "output_type": "stream",
     "text": [
      "[[     123.55      684.26      658.99]\n",
      " [     132.24      504.14      543.95]]\n",
      "131\n",
      "[[     123.55      684.26      658.99]\n",
      " [     132.24      504.14      543.95]]\n",
      "132\n"
     ]
    },
    {
     "name": "stderr",
     "output_type": "stream",
     "text": [
      "0: 1120x1984 1 ball, 22 players, 62.0ms\n",
      "Speed: 12.3ms preprocess, 62.0ms inference, 1.3ms postprocess per image at shape (1, 3, 1120, 1984)\n",
      "\n",
      "0: 1120x1984 1 ball, 22 players, 62.0ms\n",
      "Speed: 12.1ms preprocess, 62.0ms inference, 1.2ms postprocess per image at shape (1, 3, 1120, 1984)\n",
      "\n"
     ]
    },
    {
     "name": "stdout",
     "output_type": "stream",
     "text": [
      "[[     123.55      684.26      658.99]\n",
      " [     132.24      504.14      543.95]]\n",
      "133\n",
      "[[     123.55      684.26      658.99]\n",
      " [     132.24      504.14      543.95]]\n",
      "134\n"
     ]
    },
    {
     "name": "stderr",
     "output_type": "stream",
     "text": [
      "0: 1120x1984 1 ball, 22 players, 61.6ms\n",
      "Speed: 12.4ms preprocess, 61.6ms inference, 1.2ms postprocess per image at shape (1, 3, 1120, 1984)\n",
      "\n",
      "0: 1120x1984 1 ball, 22 players, 61.7ms\n",
      "Speed: 12.5ms preprocess, 61.7ms inference, 1.3ms postprocess per image at shape (1, 3, 1120, 1984)\n",
      "\n"
     ]
    },
    {
     "name": "stdout",
     "output_type": "stream",
     "text": [
      "[[     123.55      684.26      658.99]\n",
      " [     132.24      504.14      543.95]]\n",
      "135\n",
      "[[     123.55      684.26      658.99]\n",
      " [     132.24      504.14      543.95]]\n",
      "136\n"
     ]
    },
    {
     "name": "stderr",
     "output_type": "stream",
     "text": [
      "0: 1120x1984 1 ball, 22 players, 61.6ms\n",
      "Speed: 11.8ms preprocess, 61.6ms inference, 1.3ms postprocess per image at shape (1, 3, 1120, 1984)\n",
      "\n",
      "0: 1120x1984 1 ball, 22 players, 61.5ms\n",
      "Speed: 12.3ms preprocess, 61.5ms inference, 1.3ms postprocess per image at shape (1, 3, 1120, 1984)\n",
      "\n"
     ]
    },
    {
     "name": "stdout",
     "output_type": "stream",
     "text": [
      "[[     123.55      684.26      658.99]\n",
      " [     132.24      504.14      543.95]]\n",
      "137\n",
      "[[     123.55      684.26      658.99]\n",
      " [     132.24      504.14      543.95]]\n",
      "138\n"
     ]
    },
    {
     "name": "stderr",
     "output_type": "stream",
     "text": [
      "0: 1120x1984 1 ball, 22 players, 61.9ms\n",
      "Speed: 12.1ms preprocess, 61.9ms inference, 1.2ms postprocess per image at shape (1, 3, 1120, 1984)\n",
      "\n",
      "0: 1120x1984 1 ball, 22 players, 61.7ms\n",
      "Speed: 12.0ms preprocess, 61.7ms inference, 1.3ms postprocess per image at shape (1, 3, 1120, 1984)\n",
      "\n"
     ]
    },
    {
     "name": "stdout",
     "output_type": "stream",
     "text": [
      "[[     123.55      684.26      658.99]\n",
      " [     132.24      504.14      543.95]]\n",
      "139\n",
      "[[     123.55      684.26      658.99]\n",
      " [     132.24      504.14      543.95]]\n",
      "140\n"
     ]
    },
    {
     "name": "stderr",
     "output_type": "stream",
     "text": [
      "0: 1120x1984 1 ball, 22 players, 62.0ms\n",
      "Speed: 12.1ms preprocess, 62.0ms inference, 1.3ms postprocess per image at shape (1, 3, 1120, 1984)\n",
      "\n",
      "0: 1120x1984 1 ball, 22 players, 61.6ms\n",
      "Speed: 12.6ms preprocess, 61.6ms inference, 1.2ms postprocess per image at shape (1, 3, 1120, 1984)\n",
      "\n"
     ]
    },
    {
     "name": "stdout",
     "output_type": "stream",
     "text": [
      "[[     123.55      684.26      658.99]\n",
      " [     132.24      504.14      543.95]]\n",
      "141\n",
      "[[     123.55      684.26      658.99]\n",
      " [     132.24      504.14      543.95]]\n",
      "142\n"
     ]
    },
    {
     "name": "stderr",
     "output_type": "stream",
     "text": [
      "0: 1120x1984 1 ball, 22 players, 62.0ms\n",
      "Speed: 12.1ms preprocess, 62.0ms inference, 1.3ms postprocess per image at shape (1, 3, 1120, 1984)\n",
      "\n",
      "0: 1120x1984 1 ball, 22 players, 61.5ms\n",
      "Speed: 12.0ms preprocess, 61.5ms inference, 1.3ms postprocess per image at shape (1, 3, 1120, 1984)\n",
      "\n"
     ]
    },
    {
     "name": "stdout",
     "output_type": "stream",
     "text": [
      "[[     123.55      684.26      658.99]\n",
      " [     132.24      504.14      543.95]]\n",
      "143\n",
      "[[     123.55      684.26      658.99]\n",
      " [     132.24      504.14      543.95]]\n",
      "144\n"
     ]
    },
    {
     "name": "stderr",
     "output_type": "stream",
     "text": [
      "0: 1120x1984 1 ball, 22 players, 61.9ms\n",
      "Speed: 12.1ms preprocess, 61.9ms inference, 1.3ms postprocess per image at shape (1, 3, 1120, 1984)\n",
      "\n",
      "0: 1120x1984 1 ball, 22 players, 61.6ms\n",
      "Speed: 11.9ms preprocess, 61.6ms inference, 1.2ms postprocess per image at shape (1, 3, 1120, 1984)\n",
      "\n"
     ]
    },
    {
     "name": "stdout",
     "output_type": "stream",
     "text": [
      "[[     123.55      684.26      658.99]\n",
      " [     132.24      504.14      543.95]]\n",
      "145\n",
      "[[     123.55      684.26      658.99]\n",
      " [     132.24      504.14      543.95]]\n",
      "146\n"
     ]
    },
    {
     "name": "stderr",
     "output_type": "stream",
     "text": [
      "0: 1120x1984 1 ball, 22 players, 62.0ms\n",
      "Speed: 12.2ms preprocess, 62.0ms inference, 1.2ms postprocess per image at shape (1, 3, 1120, 1984)\n",
      "\n",
      "0: 1120x1984 1 ball, 22 players, 61.6ms\n",
      "Speed: 12.6ms preprocess, 61.6ms inference, 1.2ms postprocess per image at shape (1, 3, 1120, 1984)\n",
      "\n"
     ]
    },
    {
     "name": "stdout",
     "output_type": "stream",
     "text": [
      "[[     123.55      684.26      658.99]\n",
      " [     132.24      504.14      543.95]]\n",
      "147\n",
      "[[     123.55      684.26      658.99]\n",
      " [     132.24      504.14      543.95]]\n",
      "148\n"
     ]
    },
    {
     "name": "stderr",
     "output_type": "stream",
     "text": [
      "0: 1120x1984 1 ball, 22 players, 61.5ms\n",
      "Speed: 12.1ms preprocess, 61.5ms inference, 1.3ms postprocess per image at shape (1, 3, 1120, 1984)\n",
      "\n",
      "0: 1120x1984 1 ball, 22 players, 61.5ms\n",
      "Speed: 12.1ms preprocess, 61.5ms inference, 1.3ms postprocess per image at shape (1, 3, 1120, 1984)\n",
      "\n"
     ]
    },
    {
     "name": "stdout",
     "output_type": "stream",
     "text": [
      "[[     123.55      684.26      658.99]\n",
      " [     132.24      504.14      543.95]]\n",
      "149\n",
      "[[     123.55      684.26      658.99]\n",
      " [     132.24      504.14      543.95]]\n",
      "150\n"
     ]
    },
    {
     "name": "stderr",
     "output_type": "stream",
     "text": [
      "0: 1120x1984 1 ball, 22 players, 61.9ms\n",
      "Speed: 12.0ms preprocess, 61.9ms inference, 1.2ms postprocess per image at shape (1, 3, 1120, 1984)\n",
      "\n",
      "0: 1120x1984 1 ball, 22 players, 61.6ms\n",
      "Speed: 12.0ms preprocess, 61.6ms inference, 1.3ms postprocess per image at shape (1, 3, 1120, 1984)\n",
      "\n"
     ]
    },
    {
     "name": "stdout",
     "output_type": "stream",
     "text": [
      "[[     123.55      684.26      658.99]\n",
      " [     132.24      504.14      543.95]]\n",
      "151\n",
      "[[     123.55      684.26      658.99]\n",
      " [     132.24      504.14      543.95]]\n",
      "152\n"
     ]
    },
    {
     "name": "stderr",
     "output_type": "stream",
     "text": [
      "0: 1120x1984 1 ball, 22 players, 61.5ms\n",
      "Speed: 12.4ms preprocess, 61.5ms inference, 1.3ms postprocess per image at shape (1, 3, 1120, 1984)\n",
      "\n",
      "0: 1120x1984 1 ball, 22 players, 61.6ms\n",
      "Speed: 12.2ms preprocess, 61.6ms inference, 1.3ms postprocess per image at shape (1, 3, 1120, 1984)\n"
     ]
    },
    {
     "name": "stdout",
     "output_type": "stream",
     "text": [
      "[[     123.55      684.26      658.99]\n",
      " [     132.24      504.14      543.95]]\n",
      "153\n"
     ]
    },
    {
     "name": "stderr",
     "output_type": "stream",
     "text": [
      "\n",
      "0: 1120x1984 1 ball, 22 players, 61.7ms\n",
      "Speed: 11.9ms preprocess, 61.7ms inference, 1.2ms postprocess per image at shape (1, 3, 1120, 1984)\n",
      "\n"
     ]
    },
    {
     "name": "stdout",
     "output_type": "stream",
     "text": [
      "[[     123.55      684.26      658.99]\n",
      " [     132.24      504.14      543.95]]\n",
      "154\n",
      "[[     123.55      684.26      658.99]\n",
      " [     132.24      504.14      543.95]]\n",
      "155\n"
     ]
    },
    {
     "name": "stderr",
     "output_type": "stream",
     "text": [
      "0: 1120x1984 1 ball, 22 players, 62.0ms\n",
      "Speed: 12.1ms preprocess, 62.0ms inference, 1.3ms postprocess per image at shape (1, 3, 1120, 1984)\n",
      "\n",
      "0: 1120x1984 1 ball, 22 players, 61.6ms\n",
      "Speed: 12.6ms preprocess, 61.6ms inference, 1.3ms postprocess per image at shape (1, 3, 1120, 1984)\n",
      "\n"
     ]
    },
    {
     "name": "stdout",
     "output_type": "stream",
     "text": [
      "[[     123.55      684.26      658.99]\n",
      " [     132.24      504.14      543.95]]\n",
      "156\n",
      "[[     123.55      684.26      658.99]\n",
      " [     132.24      504.14      543.95]]\n",
      "157\n"
     ]
    },
    {
     "name": "stderr",
     "output_type": "stream",
     "text": [
      "0: 1120x1984 1 ball, 22 players, 61.4ms\n",
      "Speed: 12.0ms preprocess, 61.4ms inference, 1.3ms postprocess per image at shape (1, 3, 1120, 1984)\n",
      "\n",
      "0: 1120x1984 1 ball, 22 players, 61.5ms\n",
      "Speed: 11.9ms preprocess, 61.5ms inference, 1.3ms postprocess per image at shape (1, 3, 1120, 1984)\n",
      "\n"
     ]
    },
    {
     "name": "stdout",
     "output_type": "stream",
     "text": [
      "[[     123.55      684.26      658.99]\n",
      " [     132.24      504.14      543.95]]\n",
      "158\n",
      "[[     123.55      684.26      658.99]\n",
      " [     132.24      504.14      543.95]]\n",
      "159\n"
     ]
    },
    {
     "name": "stderr",
     "output_type": "stream",
     "text": [
      "0: 1120x1984 1 ball, 22 players, 61.8ms\n",
      "Speed: 12.9ms preprocess, 61.8ms inference, 1.3ms postprocess per image at shape (1, 3, 1120, 1984)\n",
      "\n",
      "0: 1120x1984 1 ball, 22 players, 62.0ms\n",
      "Speed: 12.0ms preprocess, 62.0ms inference, 1.2ms postprocess per image at shape (1, 3, 1120, 1984)\n",
      "\n"
     ]
    },
    {
     "name": "stdout",
     "output_type": "stream",
     "text": [
      "[[     123.55      684.26      658.99]\n",
      " [     132.24      504.14      543.95]]\n",
      "160\n",
      "[[     123.55      684.26      658.99]\n",
      " [     132.24      504.14      543.95]]\n",
      "161\n"
     ]
    },
    {
     "name": "stderr",
     "output_type": "stream",
     "text": [
      "0: 1120x1984 1 ball, 22 players, 62.0ms\n",
      "Speed: 12.3ms preprocess, 62.0ms inference, 1.3ms postprocess per image at shape (1, 3, 1120, 1984)\n",
      "\n",
      "0: 1120x1984 1 ball, 22 players, 61.4ms\n",
      "Speed: 12.1ms preprocess, 61.4ms inference, 1.2ms postprocess per image at shape (1, 3, 1120, 1984)\n",
      "\n"
     ]
    },
    {
     "name": "stdout",
     "output_type": "stream",
     "text": [
      "[[     123.55      684.26      658.99]\n",
      " [     132.24      504.14      543.95]]\n",
      "162\n",
      "[[     123.55      684.26      658.99]\n",
      " [     132.24      504.14      543.95]]\n",
      "163\n"
     ]
    },
    {
     "name": "stderr",
     "output_type": "stream",
     "text": [
      "0: 1120x1984 1 ball, 22 players, 61.7ms\n",
      "Speed: 12.1ms preprocess, 61.7ms inference, 1.3ms postprocess per image at shape (1, 3, 1120, 1984)\n",
      "\n",
      "0: 1120x1984 1 ball, 22 players, 61.5ms\n",
      "Speed: 12.3ms preprocess, 61.5ms inference, 1.3ms postprocess per image at shape (1, 3, 1120, 1984)\n",
      "\n"
     ]
    },
    {
     "name": "stdout",
     "output_type": "stream",
     "text": [
      "[[     123.55      684.26      658.99]\n",
      " [     132.24      504.14      543.95]]\n",
      "164\n",
      "[[     123.55      684.26      658.99]\n",
      " [     132.24      504.14      543.95]]\n",
      "165\n"
     ]
    },
    {
     "name": "stderr",
     "output_type": "stream",
     "text": [
      "0: 1120x1984 1 ball, 22 players, 63.0ms\n",
      "Speed: 12.1ms preprocess, 63.0ms inference, 1.3ms postprocess per image at shape (1, 3, 1120, 1984)\n",
      "\n",
      "0: 1120x1984 1 ball, 22 players, 61.6ms\n",
      "Speed: 11.9ms preprocess, 61.6ms inference, 1.3ms postprocess per image at shape (1, 3, 1120, 1984)\n",
      "\n"
     ]
    },
    {
     "name": "stdout",
     "output_type": "stream",
     "text": [
      "[[     123.55      684.26      658.99]\n",
      " [     132.24      504.14      543.95]]\n",
      "166\n",
      "[[     123.55      684.26      658.99]\n",
      " [     132.24      504.14      543.95]]\n",
      "167\n"
     ]
    },
    {
     "name": "stderr",
     "output_type": "stream",
     "text": [
      "0: 1120x1984 1 ball, 22 players, 63.3ms\n",
      "Speed: 12.2ms preprocess, 63.3ms inference, 1.5ms postprocess per image at shape (1, 3, 1120, 1984)\n",
      "\n",
      "0: 1120x1984 1 ball, 22 players, 61.6ms\n",
      "Speed: 12.2ms preprocess, 61.6ms inference, 1.3ms postprocess per image at shape (1, 3, 1120, 1984)\n",
      "\n"
     ]
    },
    {
     "name": "stdout",
     "output_type": "stream",
     "text": [
      "[[     123.55      684.26      658.99]\n",
      " [     132.24      504.14      543.95]]\n",
      "168\n",
      "[[     123.55      684.26      658.99]\n",
      " [     132.24      504.14      543.95]]\n",
      "169\n"
     ]
    },
    {
     "name": "stderr",
     "output_type": "stream",
     "text": [
      "0: 1120x1984 1 ball, 22 players, 62.0ms\n",
      "Speed: 12.1ms preprocess, 62.0ms inference, 1.3ms postprocess per image at shape (1, 3, 1120, 1984)\n",
      "\n",
      "0: 1120x1984 1 ball, 22 players, 61.7ms\n",
      "Speed: 12.0ms preprocess, 61.7ms inference, 1.3ms postprocess per image at shape (1, 3, 1120, 1984)\n",
      "\n"
     ]
    },
    {
     "name": "stdout",
     "output_type": "stream",
     "text": [
      "[[     123.55      684.26      658.99]\n",
      " [     132.24      504.14      543.95]]\n",
      "170\n",
      "[[     123.55      684.26      658.99]\n",
      " [     132.24      504.14      543.95]]\n",
      "171\n"
     ]
    },
    {
     "name": "stderr",
     "output_type": "stream",
     "text": [
      "0: 1120x1984 1 ball, 22 players, 61.8ms\n",
      "Speed: 12.0ms preprocess, 61.8ms inference, 1.4ms postprocess per image at shape (1, 3, 1120, 1984)\n",
      "\n",
      "0: 1120x1984 1 ball, 22 players, 61.7ms\n",
      "Speed: 12.0ms preprocess, 61.7ms inference, 1.3ms postprocess per image at shape (1, 3, 1120, 1984)\n",
      "\n"
     ]
    },
    {
     "name": "stdout",
     "output_type": "stream",
     "text": [
      "[[     123.55      684.26      658.99]\n",
      " [     132.24      504.14      543.95]]\n",
      "172\n",
      "[[     123.55      684.26      658.99]\n",
      " [     132.24      504.14      543.95]]\n",
      "173\n"
     ]
    },
    {
     "name": "stderr",
     "output_type": "stream",
     "text": [
      "0: 1120x1984 1 ball, 22 players, 62.1ms\n",
      "Speed: 12.0ms preprocess, 62.1ms inference, 1.3ms postprocess per image at shape (1, 3, 1120, 1984)\n",
      "\n",
      "0: 1120x1984 1 ball, 22 players, 61.5ms\n",
      "Speed: 12.1ms preprocess, 61.5ms inference, 1.3ms postprocess per image at shape (1, 3, 1120, 1984)\n",
      "\n"
     ]
    },
    {
     "name": "stdout",
     "output_type": "stream",
     "text": [
      "[[     123.55      684.26      658.99]\n",
      " [     132.24      504.14      543.95]]\n",
      "174\n",
      "[[     123.55      684.26      658.99]\n",
      " [     132.24      504.14      543.95]]\n",
      "175\n"
     ]
    },
    {
     "name": "stderr",
     "output_type": "stream",
     "text": [
      "0: 1120x1984 1 ball, 22 players, 62.0ms\n",
      "Speed: 12.0ms preprocess, 62.0ms inference, 1.2ms postprocess per image at shape (1, 3, 1120, 1984)\n",
      "\n",
      "0: 1120x1984 1 ball, 22 players, 61.6ms\n",
      "Speed: 11.9ms preprocess, 61.6ms inference, 1.2ms postprocess per image at shape (1, 3, 1120, 1984)\n",
      "\n"
     ]
    },
    {
     "name": "stdout",
     "output_type": "stream",
     "text": [
      "[[     123.55      684.26      658.99]\n",
      " [     132.24      504.14      543.95]]\n",
      "176\n",
      "[[     123.55      684.26      658.99]\n",
      " [     132.24      504.14      543.95]]\n",
      "177\n"
     ]
    },
    {
     "name": "stderr",
     "output_type": "stream",
     "text": [
      "0: 1120x1984 1 ball, 22 players, 62.0ms\n",
      "Speed: 12.3ms preprocess, 62.0ms inference, 1.2ms postprocess per image at shape (1, 3, 1120, 1984)\n",
      "\n",
      "0: 1120x1984 1 ball, 22 players, 61.4ms\n",
      "Speed: 11.9ms preprocess, 61.4ms inference, 1.2ms postprocess per image at shape (1, 3, 1120, 1984)\n",
      "\n"
     ]
    },
    {
     "name": "stdout",
     "output_type": "stream",
     "text": [
      "[[     123.55      684.26      658.99]\n",
      " [     132.24      504.14      543.95]]\n",
      "178\n",
      "[[     123.55      684.26      658.99]\n",
      " [     132.24      504.14      543.95]]\n",
      "179\n"
     ]
    },
    {
     "name": "stderr",
     "output_type": "stream",
     "text": [
      "0: 1120x1984 1 ball, 22 players, 61.9ms\n",
      "Speed: 12.1ms preprocess, 61.9ms inference, 1.2ms postprocess per image at shape (1, 3, 1120, 1984)\n",
      "\n",
      "0: 1120x1984 1 ball, 23 players, 61.6ms\n",
      "Speed: 12.6ms preprocess, 61.6ms inference, 1.2ms postprocess per image at shape (1, 3, 1120, 1984)\n",
      "\n"
     ]
    },
    {
     "name": "stdout",
     "output_type": "stream",
     "text": [
      "[[     123.55      684.26      658.99]\n",
      " [     132.24      504.14      543.95]]\n",
      "180\n",
      "[[     123.55      684.26      658.99]\n",
      " [     132.24      504.14      543.95]]\n",
      "181\n"
     ]
    },
    {
     "name": "stderr",
     "output_type": "stream",
     "text": [
      "0: 1120x1984 1 ball, 22 players, 61.8ms\n",
      "Speed: 11.9ms preprocess, 61.8ms inference, 1.2ms postprocess per image at shape (1, 3, 1120, 1984)\n",
      "\n",
      "0: 1120x1984 1 ball, 22 players, 61.5ms\n",
      "Speed: 12.0ms preprocess, 61.5ms inference, 1.2ms postprocess per image at shape (1, 3, 1120, 1984)\n",
      "\n"
     ]
    },
    {
     "name": "stdout",
     "output_type": "stream",
     "text": [
      "[[     123.55      684.26      658.99]\n",
      " [     132.24      504.14      543.95]]\n",
      "182\n",
      "[[     123.55      684.26      658.99]\n",
      " [     132.24      504.14      543.95]]\n",
      "183\n"
     ]
    },
    {
     "name": "stderr",
     "output_type": "stream",
     "text": [
      "0: 1120x1984 1 ball, 22 players, 61.7ms\n",
      "Speed: 12.5ms preprocess, 61.7ms inference, 1.2ms postprocess per image at shape (1, 3, 1120, 1984)\n",
      "\n",
      "0: 1120x1984 1 ball, 22 players, 61.3ms\n",
      "Speed: 11.9ms preprocess, 61.3ms inference, 1.2ms postprocess per image at shape (1, 3, 1120, 1984)\n",
      "\n"
     ]
    },
    {
     "name": "stdout",
     "output_type": "stream",
     "text": [
      "[[     123.55      684.26      658.99]\n",
      " [     132.24      504.14      543.95]]\n",
      "184\n",
      "[[     123.55      684.26      658.99]\n",
      " [     132.24      504.14      543.95]]\n",
      "185\n"
     ]
    },
    {
     "name": "stderr",
     "output_type": "stream",
     "text": [
      "0: 1120x1984 1 ball, 22 players, 62.0ms\n",
      "Speed: 12.0ms preprocess, 62.0ms inference, 1.2ms postprocess per image at shape (1, 3, 1120, 1984)\n",
      "\n",
      "0: 1120x1984 1 ball, 22 players, 61.6ms\n",
      "Speed: 12.9ms preprocess, 61.6ms inference, 1.2ms postprocess per image at shape (1, 3, 1120, 1984)\n",
      "\n"
     ]
    },
    {
     "name": "stdout",
     "output_type": "stream",
     "text": [
      "[[     123.55      684.26      658.99]\n",
      " [     132.24      504.14      543.95]]\n",
      "186\n",
      "[[     123.55      684.26      658.99]\n",
      " [     132.24      504.14      543.95]]\n",
      "187\n"
     ]
    },
    {
     "name": "stderr",
     "output_type": "stream",
     "text": [
      "0: 1120x1984 1 ball, 22 players, 61.5ms\n",
      "Speed: 12.0ms preprocess, 61.5ms inference, 1.2ms postprocess per image at shape (1, 3, 1120, 1984)\n",
      "\n",
      "0: 1120x1984 1 ball, 22 players, 61.4ms\n",
      "Speed: 12.0ms preprocess, 61.4ms inference, 1.2ms postprocess per image at shape (1, 3, 1120, 1984)\n",
      "\n"
     ]
    },
    {
     "name": "stdout",
     "output_type": "stream",
     "text": [
      "[[     123.55      684.26      658.99]\n",
      " [     132.24      504.14      543.95]]\n",
      "188\n",
      "[[     123.55      684.26      658.99]\n",
      " [     132.24      504.14      543.95]]\n",
      "189\n"
     ]
    },
    {
     "name": "stderr",
     "output_type": "stream",
     "text": [
      "0: 1120x1984 1 ball, 22 players, 63.2ms\n",
      "Speed: 12.5ms preprocess, 63.2ms inference, 1.2ms postprocess per image at shape (1, 3, 1120, 1984)\n",
      "\n",
      "0: 1120x1984 1 ball, 22 players, 61.7ms\n",
      "Speed: 12.1ms preprocess, 61.7ms inference, 1.2ms postprocess per image at shape (1, 3, 1120, 1984)\n",
      "\n"
     ]
    },
    {
     "name": "stdout",
     "output_type": "stream",
     "text": [
      "[[     123.55      684.26      658.99]\n",
      " [     132.24      504.14      543.95]]\n",
      "190\n",
      "[[     123.55      684.26      658.99]\n",
      " [     132.24      504.14      543.95]]\n",
      "191\n"
     ]
    },
    {
     "name": "stderr",
     "output_type": "stream",
     "text": [
      "0: 1120x1984 1 ball, 22 players, 62.1ms\n",
      "Speed: 12.2ms preprocess, 62.1ms inference, 1.2ms postprocess per image at shape (1, 3, 1120, 1984)\n",
      "\n",
      "0: 1120x1984 1 ball, 22 players, 61.5ms\n",
      "Speed: 12.6ms preprocess, 61.5ms inference, 1.2ms postprocess per image at shape (1, 3, 1120, 1984)\n",
      "\n"
     ]
    },
    {
     "name": "stdout",
     "output_type": "stream",
     "text": [
      "[[     123.55      684.26      658.99]\n",
      " [     132.24      504.14      543.95]]\n",
      "192\n",
      "[[     123.55      684.26      658.99]\n",
      " [     132.24      504.14      543.95]]\n",
      "193\n"
     ]
    },
    {
     "name": "stderr",
     "output_type": "stream",
     "text": [
      "0: 1120x1984 1 ball, 22 players, 61.5ms\n",
      "Speed: 12.2ms preprocess, 61.5ms inference, 1.3ms postprocess per image at shape (1, 3, 1120, 1984)\n",
      "\n",
      "0: 1120x1984 22 players, 61.5ms\n",
      "Speed: 12.0ms preprocess, 61.5ms inference, 1.2ms postprocess per image at shape (1, 3, 1120, 1984)\n",
      "\n"
     ]
    },
    {
     "name": "stdout",
     "output_type": "stream",
     "text": [
      "[[     123.55      684.26      658.99]\n",
      " [     132.24      504.14      543.95]]\n",
      "194\n",
      "[[     123.55      684.26      658.99]\n",
      " [     132.24      504.14      543.95]]\n",
      "195\n"
     ]
    },
    {
     "name": "stderr",
     "output_type": "stream",
     "text": [
      "0: 1120x1984 22 players, 61.6ms\n",
      "Speed: 12.0ms preprocess, 61.6ms inference, 1.2ms postprocess per image at shape (1, 3, 1120, 1984)\n",
      "\n",
      "0: 1120x1984 22 players, 61.5ms\n",
      "Speed: 12.3ms preprocess, 61.5ms inference, 1.2ms postprocess per image at shape (1, 3, 1120, 1984)\n",
      "\n"
     ]
    },
    {
     "name": "stdout",
     "output_type": "stream",
     "text": [
      "[[     123.55      684.26      658.99]\n",
      " [     132.24      504.14      543.95]]\n",
      "196\n",
      "[[     123.55      684.26      658.99]\n",
      " [     132.24      504.14      543.95]]\n",
      "197\n"
     ]
    },
    {
     "name": "stderr",
     "output_type": "stream",
     "text": [
      "0: 1120x1984 1 ball, 22 players, 61.9ms\n",
      "Speed: 12.5ms preprocess, 61.9ms inference, 1.2ms postprocess per image at shape (1, 3, 1120, 1984)\n",
      "\n",
      "0: 1120x1984 1 ball, 22 players, 61.5ms\n",
      "Speed: 12.3ms preprocess, 61.5ms inference, 1.2ms postprocess per image at shape (1, 3, 1120, 1984)\n",
      "\n"
     ]
    },
    {
     "name": "stdout",
     "output_type": "stream",
     "text": [
      "[[     123.55      684.26      658.99]\n",
      " [     132.24      504.14      543.95]]\n",
      "198\n",
      "[[     123.55      684.26      658.99]\n",
      " [     132.24      504.14      543.95]]\n",
      "199\n"
     ]
    },
    {
     "name": "stderr",
     "output_type": "stream",
     "text": [
      "0: 1120x1984 1 ball, 22 players, 61.7ms\n",
      "Speed: 12.3ms preprocess, 61.7ms inference, 1.4ms postprocess per image at shape (1, 3, 1120, 1984)\n",
      "\n",
      "0: 1120x1984 1 ball, 22 players, 61.6ms\n",
      "Speed: 12.2ms preprocess, 61.6ms inference, 1.3ms postprocess per image at shape (1, 3, 1120, 1984)\n",
      "\n"
     ]
    },
    {
     "name": "stdout",
     "output_type": "stream",
     "text": [
      "[[     123.55      684.26      658.99]\n",
      " [     132.24      504.14      543.95]]\n",
      "200\n",
      "[[     123.55      684.26      658.99]\n",
      " [     132.24      504.14      543.95]]\n",
      "201\n"
     ]
    },
    {
     "name": "stderr",
     "output_type": "stream",
     "text": [
      "0: 1120x1984 1 ball, 22 players, 61.7ms\n",
      "Speed: 12.0ms preprocess, 61.7ms inference, 1.3ms postprocess per image at shape (1, 3, 1120, 1984)\n",
      "\n",
      "0: 1120x1984 1 ball, 22 players, 61.7ms\n",
      "Speed: 12.7ms preprocess, 61.7ms inference, 1.3ms postprocess per image at shape (1, 3, 1120, 1984)\n",
      "\n"
     ]
    },
    {
     "name": "stdout",
     "output_type": "stream",
     "text": [
      "[[     123.55      684.26      658.99]\n",
      " [     132.24      504.14      543.95]]\n",
      "202\n",
      "[[     123.55      684.26      658.99]\n",
      " [     132.24      504.14      543.95]]\n",
      "203\n"
     ]
    },
    {
     "name": "stderr",
     "output_type": "stream",
     "text": [
      "0: 1120x1984 1 ball, 22 players, 61.7ms\n",
      "Speed: 12.0ms preprocess, 61.7ms inference, 1.2ms postprocess per image at shape (1, 3, 1120, 1984)\n",
      "\n",
      "0: 1120x1984 1 ball, 22 players, 61.6ms\n",
      "Speed: 12.0ms preprocess, 61.6ms inference, 1.2ms postprocess per image at shape (1, 3, 1120, 1984)\n",
      "\n"
     ]
    },
    {
     "name": "stdout",
     "output_type": "stream",
     "text": [
      "[[     123.55      684.26      658.99]\n",
      " [     132.24      504.14      543.95]]\n",
      "204\n",
      "[[     123.55      684.26      658.99]\n",
      " [     132.24      504.14      543.95]]\n",
      "205\n"
     ]
    },
    {
     "name": "stderr",
     "output_type": "stream",
     "text": [
      "0: 1120x1984 1 ball, 22 players, 61.9ms\n",
      "Speed: 12.3ms preprocess, 61.9ms inference, 1.3ms postprocess per image at shape (1, 3, 1120, 1984)\n",
      "\n",
      "0: 1120x1984 1 ball, 22 players, 61.6ms\n",
      "Speed: 12.0ms preprocess, 61.6ms inference, 1.2ms postprocess per image at shape (1, 3, 1120, 1984)\n",
      "\n"
     ]
    },
    {
     "name": "stdout",
     "output_type": "stream",
     "text": [
      "[[     123.55      684.26      658.99]\n",
      " [     132.24      504.14      543.95]]\n",
      "206\n",
      "[[     123.55      684.26      658.99]\n",
      " [     132.24      504.14      543.95]]\n",
      "207\n"
     ]
    },
    {
     "name": "stderr",
     "output_type": "stream",
     "text": [
      "0: 1120x1984 1 ball, 22 players, 63.2ms\n",
      "Speed: 12.0ms preprocess, 63.2ms inference, 1.2ms postprocess per image at shape (1, 3, 1120, 1984)\n",
      "\n",
      "0: 1120x1984 1 ball, 22 players, 61.6ms\n",
      "Speed: 12.4ms preprocess, 61.6ms inference, 1.3ms postprocess per image at shape (1, 3, 1120, 1984)\n",
      "\n"
     ]
    },
    {
     "name": "stdout",
     "output_type": "stream",
     "text": [
      "[[     123.55      684.26      658.99]\n",
      " [     132.24      504.14      543.95]]\n",
      "208\n",
      "[[     123.55      684.26      658.99]\n",
      " [     132.24      504.14      543.95]]\n",
      "209\n"
     ]
    },
    {
     "name": "stderr",
     "output_type": "stream",
     "text": [
      "0: 1120x1984 1 ball, 22 players, 63.0ms\n",
      "Speed: 11.9ms preprocess, 63.0ms inference, 1.3ms postprocess per image at shape (1, 3, 1120, 1984)\n",
      "\n",
      "0: 1120x1984 1 ball, 22 players, 61.6ms\n",
      "Speed: 12.6ms preprocess, 61.6ms inference, 1.2ms postprocess per image at shape (1, 3, 1120, 1984)\n",
      "\n"
     ]
    },
    {
     "name": "stdout",
     "output_type": "stream",
     "text": [
      "[[     123.55      684.26      658.99]\n",
      " [     132.24      504.14      543.95]]\n",
      "210\n",
      "[[     123.55      684.26      658.99]\n",
      " [     132.24      504.14      543.95]]\n",
      "211\n"
     ]
    },
    {
     "name": "stderr",
     "output_type": "stream",
     "text": [
      "0: 1120x1984 1 ball, 22 players, 62.1ms\n",
      "Speed: 12.0ms preprocess, 62.1ms inference, 1.3ms postprocess per image at shape (1, 3, 1120, 1984)\n",
      "\n",
      "0: 1120x1984 1 ball, 22 players, 61.7ms\n",
      "Speed: 12.6ms preprocess, 61.7ms inference, 1.2ms postprocess per image at shape (1, 3, 1120, 1984)\n",
      "\n"
     ]
    },
    {
     "name": "stdout",
     "output_type": "stream",
     "text": [
      "[[     123.55      684.26      658.99]\n",
      " [     132.24      504.14      543.95]]\n",
      "212\n",
      "[[     123.55      684.26      658.99]\n",
      " [     132.24      504.14      543.95]]\n",
      "213\n"
     ]
    },
    {
     "name": "stderr",
     "output_type": "stream",
     "text": [
      "0: 1120x1984 1 ball, 22 players, 61.9ms\n",
      "Speed: 12.2ms preprocess, 61.9ms inference, 1.4ms postprocess per image at shape (1, 3, 1120, 1984)\n",
      "\n",
      "0: 1120x1984 1 ball, 22 players, 61.6ms\n",
      "Speed: 12.5ms preprocess, 61.6ms inference, 1.3ms postprocess per image at shape (1, 3, 1120, 1984)\n",
      "\n"
     ]
    },
    {
     "name": "stdout",
     "output_type": "stream",
     "text": [
      "[[     123.55      684.26      658.99]\n",
      " [     132.24      504.14      543.95]]\n",
      "214\n",
      "[[     123.55      684.26      658.99]\n",
      " [     132.24      504.14      543.95]]\n",
      "215\n"
     ]
    },
    {
     "name": "stderr",
     "output_type": "stream",
     "text": [
      "0: 1120x1984 1 ball, 22 players, 62.0ms\n",
      "Speed: 12.1ms preprocess, 62.0ms inference, 1.2ms postprocess per image at shape (1, 3, 1120, 1984)\n",
      "\n",
      "0: 1120x1984 1 ball, 22 players, 61.7ms\n",
      "Speed: 11.9ms preprocess, 61.7ms inference, 1.3ms postprocess per image at shape (1, 3, 1120, 1984)\n",
      "\n"
     ]
    },
    {
     "name": "stdout",
     "output_type": "stream",
     "text": [
      "[[     123.55      684.26      658.99]\n",
      " [     132.24      504.14      543.95]]\n",
      "216\n",
      "[[     123.55      684.26      658.99]\n",
      " [     132.24      504.14      543.95]]\n",
      "217\n"
     ]
    },
    {
     "name": "stderr",
     "output_type": "stream",
     "text": [
      "0: 1120x1984 1 ball, 22 players, 62.1ms\n",
      "Speed: 11.9ms preprocess, 62.1ms inference, 1.3ms postprocess per image at shape (1, 3, 1120, 1984)\n",
      "\n",
      "0: 1120x1984 1 ball, 22 players, 61.5ms\n",
      "Speed: 11.9ms preprocess, 61.5ms inference, 1.3ms postprocess per image at shape (1, 3, 1120, 1984)\n",
      "\n"
     ]
    },
    {
     "name": "stdout",
     "output_type": "stream",
     "text": [
      "[[     123.55      684.26      658.99]\n",
      " [     132.24      504.14      543.95]]\n",
      "218\n",
      "[[     123.55      684.26      658.99]\n",
      " [     132.24      504.14      543.95]]\n",
      "219\n"
     ]
    },
    {
     "name": "stderr",
     "output_type": "stream",
     "text": [
      "0: 1120x1984 1 ball, 22 players, 62.0ms\n",
      "Speed: 12.0ms preprocess, 62.0ms inference, 1.2ms postprocess per image at shape (1, 3, 1120, 1984)\n",
      "\n",
      "0: 1120x1984 1 ball, 22 players, 61.6ms\n",
      "Speed: 12.0ms preprocess, 61.6ms inference, 1.3ms postprocess per image at shape (1, 3, 1120, 1984)\n",
      "\n"
     ]
    },
    {
     "name": "stdout",
     "output_type": "stream",
     "text": [
      "[[     123.55      684.26      658.99]\n",
      " [     132.24      504.14      543.95]]\n",
      "220\n",
      "[[     123.55      684.26      658.99]\n",
      " [     132.24      504.14      543.95]]\n",
      "221\n"
     ]
    },
    {
     "name": "stderr",
     "output_type": "stream",
     "text": [
      "0: 1120x1984 22 players, 62.1ms\n",
      "Speed: 12.0ms preprocess, 62.1ms inference, 1.2ms postprocess per image at shape (1, 3, 1120, 1984)\n",
      "\n",
      "0: 1120x1984 1 ball, 22 players, 61.6ms\n",
      "Speed: 12.1ms preprocess, 61.6ms inference, 1.3ms postprocess per image at shape (1, 3, 1120, 1984)\n",
      "\n"
     ]
    },
    {
     "name": "stdout",
     "output_type": "stream",
     "text": [
      "[[     123.55      684.26      658.99]\n",
      " [     132.24      504.14      543.95]]\n",
      "222\n",
      "[[     123.55      684.26      658.99]\n",
      " [     132.24      504.14      543.95]]\n",
      "223\n"
     ]
    },
    {
     "name": "stderr",
     "output_type": "stream",
     "text": [
      "0: 1120x1984 1 ball, 22 players, 61.9ms\n",
      "Speed: 12.1ms preprocess, 61.9ms inference, 1.3ms postprocess per image at shape (1, 3, 1120, 1984)\n",
      "\n",
      "0: 1120x1984 1 ball, 22 players, 61.6ms\n",
      "Speed: 11.9ms preprocess, 61.6ms inference, 1.3ms postprocess per image at shape (1, 3, 1120, 1984)\n",
      "\n"
     ]
    },
    {
     "name": "stdout",
     "output_type": "stream",
     "text": [
      "[[     123.55      684.26      658.99]\n",
      " [     132.24      504.14      543.95]]\n",
      "224\n",
      "[[     123.55      684.26      658.99]\n",
      " [     132.24      504.14      543.95]]\n",
      "225\n"
     ]
    },
    {
     "name": "stderr",
     "output_type": "stream",
     "text": [
      "0: 1120x1984 1 ball, 22 players, 62.1ms\n",
      "Speed: 12.1ms preprocess, 62.1ms inference, 1.2ms postprocess per image at shape (1, 3, 1120, 1984)\n",
      "\n",
      "0: 1120x1984 1 ball, 22 players, 61.6ms\n",
      "Speed: 12.2ms preprocess, 61.6ms inference, 1.3ms postprocess per image at shape (1, 3, 1120, 1984)\n",
      "\n"
     ]
    },
    {
     "name": "stdout",
     "output_type": "stream",
     "text": [
      "[[     123.55      684.26      658.99]\n",
      " [     132.24      504.14      543.95]]\n",
      "226\n",
      "[[     123.55      684.26      658.99]\n",
      " [     132.24      504.14      543.95]]\n",
      "227\n"
     ]
    },
    {
     "name": "stderr",
     "output_type": "stream",
     "text": [
      "0: 1120x1984 1 ball, 22 players, 63.1ms\n",
      "Speed: 12.1ms preprocess, 63.1ms inference, 1.2ms postprocess per image at shape (1, 3, 1120, 1984)\n",
      "\n",
      "0: 1120x1984 1 ball, 22 players, 61.6ms\n",
      "Speed: 12.0ms preprocess, 61.6ms inference, 1.2ms postprocess per image at shape (1, 3, 1120, 1984)\n",
      "\n"
     ]
    },
    {
     "name": "stdout",
     "output_type": "stream",
     "text": [
      "[[     123.55      684.26      658.99]\n",
      " [     132.24      504.14      543.95]]\n",
      "228\n",
      "[[     123.55      684.26      658.99]\n",
      " [     132.24      504.14      543.95]]\n",
      "229\n"
     ]
    },
    {
     "name": "stderr",
     "output_type": "stream",
     "text": [
      "0: 1120x1984 1 ball, 22 players, 62.1ms\n",
      "Speed: 12.0ms preprocess, 62.1ms inference, 1.3ms postprocess per image at shape (1, 3, 1120, 1984)\n",
      "\n",
      "0: 1120x1984 1 ball, 22 players, 61.6ms\n",
      "Speed: 12.0ms preprocess, 61.6ms inference, 1.3ms postprocess per image at shape (1, 3, 1120, 1984)\n",
      "\n"
     ]
    },
    {
     "name": "stdout",
     "output_type": "stream",
     "text": [
      "[[     123.55      684.26      658.99]\n",
      " [     132.24      504.14      543.95]]\n",
      "230\n",
      "[[     123.55      684.26      658.99]\n",
      " [     132.24      504.14      543.95]]\n",
      "231\n"
     ]
    },
    {
     "name": "stderr",
     "output_type": "stream",
     "text": [
      "0: 1120x1984 1 ball, 22 players, 63.2ms\n",
      "Speed: 12.0ms preprocess, 63.2ms inference, 1.3ms postprocess per image at shape (1, 3, 1120, 1984)\n",
      "\n",
      "0: 1120x1984 1 ball, 22 players, 61.5ms\n",
      "Speed: 11.9ms preprocess, 61.5ms inference, 1.3ms postprocess per image at shape (1, 3, 1120, 1984)\n",
      "\n"
     ]
    },
    {
     "name": "stdout",
     "output_type": "stream",
     "text": [
      "[[     123.55      684.26      658.99]\n",
      " [     132.24      504.14      543.95]]\n",
      "232\n",
      "[[     123.55      684.26      658.99]\n",
      " [     132.24      504.14      543.95]]\n",
      "233\n"
     ]
    },
    {
     "name": "stderr",
     "output_type": "stream",
     "text": [
      "0: 1120x1984 1 ball, 22 players, 61.9ms\n",
      "Speed: 12.0ms preprocess, 61.9ms inference, 1.2ms postprocess per image at shape (1, 3, 1120, 1984)\n",
      "\n",
      "0: 1120x1984 1 ball, 22 players, 61.6ms\n",
      "Speed: 12.2ms preprocess, 61.6ms inference, 1.3ms postprocess per image at shape (1, 3, 1120, 1984)\n",
      "\n"
     ]
    },
    {
     "name": "stdout",
     "output_type": "stream",
     "text": [
      "[[     123.55      684.26      658.99]\n",
      " [     132.24      504.14      543.95]]\n",
      "234\n",
      "[[     123.55      684.26      658.99]\n",
      " [     132.24      504.14      543.95]]\n",
      "235\n"
     ]
    },
    {
     "name": "stderr",
     "output_type": "stream",
     "text": [
      "0: 1120x1984 1 ball, 22 players, 62.0ms\n",
      "Speed: 12.1ms preprocess, 62.0ms inference, 1.3ms postprocess per image at shape (1, 3, 1120, 1984)\n",
      "\n",
      "0: 1120x1984 1 ball, 22 players, 61.6ms\n",
      "Speed: 12.5ms preprocess, 61.6ms inference, 1.3ms postprocess per image at shape (1, 3, 1120, 1984)\n",
      "\n"
     ]
    },
    {
     "name": "stdout",
     "output_type": "stream",
     "text": [
      "[[     123.55      684.26      658.99]\n",
      " [     132.24      504.14      543.95]]\n",
      "236\n",
      "[[     123.55      684.26      658.99]\n",
      " [     132.24      504.14      543.95]]\n",
      "237\n"
     ]
    },
    {
     "name": "stderr",
     "output_type": "stream",
     "text": [
      "0: 1120x1984 1 ball, 22 players, 61.7ms\n",
      "Speed: 11.9ms preprocess, 61.7ms inference, 1.2ms postprocess per image at shape (1, 3, 1120, 1984)\n",
      "\n",
      "0: 1120x1984 1 ball, 22 players, 61.8ms\n",
      "Speed: 12.1ms preprocess, 61.8ms inference, 1.4ms postprocess per image at shape (1, 3, 1120, 1984)\n",
      "\n"
     ]
    },
    {
     "name": "stdout",
     "output_type": "stream",
     "text": [
      "[[     123.55      684.26      658.99]\n",
      " [     132.24      504.14      543.95]]\n",
      "238\n",
      "[[     123.55      684.26      658.99]\n",
      " [     132.24      504.14      543.95]]\n",
      "239\n"
     ]
    },
    {
     "name": "stderr",
     "output_type": "stream",
     "text": [
      "0: 1120x1984 1 ball, 22 players, 62.1ms\n",
      "Speed: 12.8ms preprocess, 62.1ms inference, 1.4ms postprocess per image at shape (1, 3, 1120, 1984)\n",
      "\n",
      "0: 1120x1984 1 ball, 22 players, 61.6ms\n",
      "Speed: 11.9ms preprocess, 61.6ms inference, 1.3ms postprocess per image at shape (1, 3, 1120, 1984)\n",
      "\n"
     ]
    },
    {
     "name": "stdout",
     "output_type": "stream",
     "text": [
      "[[     123.55      684.26      658.99]\n",
      " [     132.24      504.14      543.95]]\n",
      "240\n",
      "[[     123.55      684.26      658.99]\n",
      " [     132.24      504.14      543.95]]\n",
      "241\n"
     ]
    },
    {
     "name": "stderr",
     "output_type": "stream",
     "text": [
      "0: 1120x1984 1 ball, 22 players, 61.8ms\n",
      "Speed: 11.9ms preprocess, 61.8ms inference, 1.3ms postprocess per image at shape (1, 3, 1120, 1984)\n",
      "\n",
      "0: 1120x1984 1 ball, 22 players, 61.5ms\n",
      "Speed: 12.4ms preprocess, 61.5ms inference, 1.2ms postprocess per image at shape (1, 3, 1120, 1984)\n",
      "\n"
     ]
    },
    {
     "name": "stdout",
     "output_type": "stream",
     "text": [
      "[[     123.55      684.26      658.99]\n",
      " [     132.24      504.14      543.95]]\n",
      "242\n",
      "[[     123.55      684.26      658.99]\n",
      " [     132.24      504.14      543.95]]\n",
      "243\n"
     ]
    },
    {
     "name": "stderr",
     "output_type": "stream",
     "text": [
      "0: 1120x1984 1 ball, 22 players, 61.7ms\n",
      "Speed: 11.9ms preprocess, 61.7ms inference, 1.2ms postprocess per image at shape (1, 3, 1120, 1984)\n",
      "\n",
      "0: 1120x1984 1 ball, 22 players, 61.8ms\n",
      "Speed: 12.1ms preprocess, 61.8ms inference, 1.3ms postprocess per image at shape (1, 3, 1120, 1984)\n",
      "\n"
     ]
    },
    {
     "name": "stdout",
     "output_type": "stream",
     "text": [
      "[[     123.55      684.26      658.99]\n",
      " [     132.24      504.14      543.95]]\n",
      "244\n",
      "[[     123.55      684.26      658.99]\n",
      " [     132.24      504.14      543.95]]\n",
      "245\n"
     ]
    },
    {
     "name": "stderr",
     "output_type": "stream",
     "text": [
      "0: 1120x1984 1 ball, 22 players, 61.8ms\n",
      "Speed: 12.6ms preprocess, 61.8ms inference, 1.2ms postprocess per image at shape (1, 3, 1120, 1984)\n",
      "\n",
      "0: 1120x1984 1 ball, 22 players, 61.6ms\n",
      "Speed: 12.0ms preprocess, 61.6ms inference, 1.3ms postprocess per image at shape (1, 3, 1120, 1984)\n",
      "\n"
     ]
    },
    {
     "name": "stdout",
     "output_type": "stream",
     "text": [
      "[[     123.55      684.26      658.99]\n",
      " [     132.24      504.14      543.95]]\n",
      "246\n",
      "[[     123.55      684.26      658.99]\n",
      " [     132.24      504.14      543.95]]\n",
      "247\n"
     ]
    },
    {
     "name": "stderr",
     "output_type": "stream",
     "text": [
      "0: 1120x1984 1 ball, 22 players, 61.9ms\n",
      "Speed: 11.8ms preprocess, 61.9ms inference, 1.4ms postprocess per image at shape (1, 3, 1120, 1984)\n",
      "\n",
      "0: 1120x1984 1 ball, 22 players, 61.5ms\n",
      "Speed: 12.5ms preprocess, 61.5ms inference, 1.3ms postprocess per image at shape (1, 3, 1120, 1984)\n",
      "\n"
     ]
    },
    {
     "name": "stdout",
     "output_type": "stream",
     "text": [
      "[[     123.55      684.26      658.99]\n",
      " [     132.24      504.14      543.95]]\n",
      "248\n",
      "[[     123.55      684.26      658.99]\n",
      " [     132.24      504.14      543.95]]\n",
      "249\n"
     ]
    },
    {
     "name": "stderr",
     "output_type": "stream",
     "text": [
      "0: 1120x1984 1 ball, 22 players, 61.9ms\n",
      "Speed: 11.9ms preprocess, 61.9ms inference, 1.3ms postprocess per image at shape (1, 3, 1120, 1984)\n",
      "\n",
      "0: 1120x1984 1 ball, 22 players, 61.7ms\n",
      "Speed: 12.0ms preprocess, 61.7ms inference, 1.3ms postprocess per image at shape (1, 3, 1120, 1984)\n",
      "\n"
     ]
    },
    {
     "name": "stdout",
     "output_type": "stream",
     "text": [
      "[[     123.55      684.26      658.99]\n",
      " [     132.24      504.14      543.95]]\n",
      "250\n",
      "[[     123.55      684.26      658.99]\n",
      " [     132.24      504.14      543.95]]\n",
      "251\n"
     ]
    },
    {
     "name": "stderr",
     "output_type": "stream",
     "text": [
      "0: 1120x1984 1 ball, 22 players, 62.0ms\n",
      "Speed: 12.2ms preprocess, 62.0ms inference, 1.4ms postprocess per image at shape (1, 3, 1120, 1984)\n",
      "\n",
      "0: 1120x1984 1 ball, 22 players, 61.6ms\n",
      "Speed: 11.9ms preprocess, 61.6ms inference, 1.3ms postprocess per image at shape (1, 3, 1120, 1984)\n",
      "\n"
     ]
    },
    {
     "name": "stdout",
     "output_type": "stream",
     "text": [
      "[[     123.55      684.26      658.99]\n",
      " [     132.24      504.14      543.95]]\n",
      "252\n",
      "[[     123.55      684.26      658.99]\n",
      " [     132.24      504.14      543.95]]\n",
      "253\n"
     ]
    },
    {
     "name": "stderr",
     "output_type": "stream",
     "text": [
      "0: 1120x1984 1 ball, 22 players, 61.9ms\n",
      "Speed: 12.3ms preprocess, 61.9ms inference, 1.3ms postprocess per image at shape (1, 3, 1120, 1984)\n",
      "\n",
      "0: 1120x1984 1 ball, 22 players, 61.7ms\n",
      "Speed: 12.1ms preprocess, 61.7ms inference, 1.3ms postprocess per image at shape (1, 3, 1120, 1984)\n",
      "\n"
     ]
    },
    {
     "name": "stdout",
     "output_type": "stream",
     "text": [
      "[[     123.55      684.26      658.99]\n",
      " [     132.24      504.14      543.95]]\n",
      "254\n",
      "[[     123.55      684.26      658.99]\n",
      " [     132.24      504.14      543.95]]\n",
      "255\n"
     ]
    },
    {
     "name": "stderr",
     "output_type": "stream",
     "text": [
      "0: 1120x1984 1 ball, 22 players, 61.8ms\n",
      "Speed: 12.1ms preprocess, 61.8ms inference, 1.2ms postprocess per image at shape (1, 3, 1120, 1984)\n",
      "\n",
      "0: 1120x1984 1 ball, 22 players, 61.6ms\n",
      "Speed: 12.5ms preprocess, 61.6ms inference, 1.3ms postprocess per image at shape (1, 3, 1120, 1984)\n",
      "\n"
     ]
    },
    {
     "name": "stdout",
     "output_type": "stream",
     "text": [
      "[[     123.55      684.26      658.99]\n",
      " [     132.24      504.14      543.95]]\n",
      "256\n",
      "[[     123.55      684.26      658.99]\n",
      " [     132.24      504.14      543.95]]\n",
      "257\n"
     ]
    },
    {
     "name": "stderr",
     "output_type": "stream",
     "text": [
      "0: 1120x1984 1 ball, 22 players, 62.1ms\n",
      "Speed: 12.0ms preprocess, 62.1ms inference, 1.3ms postprocess per image at shape (1, 3, 1120, 1984)\n",
      "\n",
      "0: 1120x1984 1 ball, 22 players, 61.8ms\n",
      "Speed: 12.1ms preprocess, 61.8ms inference, 1.2ms postprocess per image at shape (1, 3, 1120, 1984)\n",
      "\n"
     ]
    },
    {
     "name": "stdout",
     "output_type": "stream",
     "text": [
      "[[     123.55      684.26      658.99]\n",
      " [     132.24      504.14      543.95]]\n",
      "258\n",
      "[[     123.55      684.26      658.99]\n",
      " [     132.24      504.14      543.95]]\n",
      "259\n"
     ]
    },
    {
     "name": "stderr",
     "output_type": "stream",
     "text": [
      "0: 1120x1984 1 ball, 22 players, 62.0ms\n",
      "Speed: 12.2ms preprocess, 62.0ms inference, 1.3ms postprocess per image at shape (1, 3, 1120, 1984)\n",
      "\n",
      "0: 1120x1984 1 ball, 22 players, 61.7ms\n",
      "Speed: 12.0ms preprocess, 61.7ms inference, 1.3ms postprocess per image at shape (1, 3, 1120, 1984)\n",
      "\n"
     ]
    },
    {
     "name": "stdout",
     "output_type": "stream",
     "text": [
      "[[     123.55      684.26      658.99]\n",
      " [     132.24      504.14      543.95]]\n",
      "260\n",
      "[[     123.55      684.26      658.99]\n",
      " [     132.24      504.14      543.95]]\n",
      "261\n"
     ]
    },
    {
     "name": "stderr",
     "output_type": "stream",
     "text": [
      "0: 1120x1984 1 ball, 22 players, 62.2ms\n",
      "Speed: 12.2ms preprocess, 62.2ms inference, 1.3ms postprocess per image at shape (1, 3, 1120, 1984)\n",
      "\n",
      "0: 1120x1984 1 ball, 22 players, 61.4ms\n",
      "Speed: 12.5ms preprocess, 61.4ms inference, 1.2ms postprocess per image at shape (1, 3, 1120, 1984)\n",
      "\n"
     ]
    },
    {
     "name": "stdout",
     "output_type": "stream",
     "text": [
      "[[     123.55      684.26      658.99]\n",
      " [     132.24      504.14      543.95]]\n",
      "262\n",
      "[[     123.55      684.26      658.99]\n",
      " [     132.24      504.14      543.95]]\n",
      "263\n"
     ]
    },
    {
     "name": "stderr",
     "output_type": "stream",
     "text": [
      "0: 1120x1984 1 ball, 22 players, 62.0ms\n",
      "Speed: 12.5ms preprocess, 62.0ms inference, 1.3ms postprocess per image at shape (1, 3, 1120, 1984)\n",
      "\n",
      "0: 1120x1984 1 ball, 22 players, 61.6ms\n",
      "Speed: 12.5ms preprocess, 61.6ms inference, 1.3ms postprocess per image at shape (1, 3, 1120, 1984)\n",
      "\n"
     ]
    },
    {
     "name": "stdout",
     "output_type": "stream",
     "text": [
      "[[     123.55      684.26      658.99]\n",
      " [     132.24      504.14      543.95]]\n",
      "264\n",
      "[[     123.55      684.26      658.99]\n",
      " [     132.24      504.14      543.95]]\n",
      "265\n"
     ]
    },
    {
     "name": "stderr",
     "output_type": "stream",
     "text": [
      "0: 1120x1984 1 ball, 22 players, 62.1ms\n",
      "Speed: 12.6ms preprocess, 62.1ms inference, 1.3ms postprocess per image at shape (1, 3, 1120, 1984)\n",
      "\n",
      "0: 1120x1984 1 ball, 22 players, 61.6ms\n",
      "Speed: 12.8ms preprocess, 61.6ms inference, 1.3ms postprocess per image at shape (1, 3, 1120, 1984)\n",
      "\n"
     ]
    },
    {
     "name": "stdout",
     "output_type": "stream",
     "text": [
      "[[     123.55      684.26      658.99]\n",
      " [     132.24      504.14      543.95]]\n",
      "266\n",
      "[[     123.55      684.26      658.99]\n",
      " [     132.24      504.14      543.95]]\n",
      "267\n"
     ]
    },
    {
     "name": "stderr",
     "output_type": "stream",
     "text": [
      "0: 1120x1984 1 ball, 22 players, 61.8ms\n",
      "Speed: 12.0ms preprocess, 61.8ms inference, 1.3ms postprocess per image at shape (1, 3, 1120, 1984)\n",
      "\n",
      "0: 1120x1984 1 ball, 22 players, 61.8ms\n",
      "Speed: 12.5ms preprocess, 61.8ms inference, 1.5ms postprocess per image at shape (1, 3, 1120, 1984)\n",
      "\n"
     ]
    },
    {
     "name": "stdout",
     "output_type": "stream",
     "text": [
      "[[     123.55      684.26      658.99]\n",
      " [     132.24      504.14      543.95]]\n",
      "268\n",
      "[[     123.55      684.26      658.99]\n",
      " [     132.24      504.14      543.95]]\n",
      "269\n"
     ]
    },
    {
     "name": "stderr",
     "output_type": "stream",
     "text": [
      "0: 1120x1984 1 ball, 22 players, 61.7ms\n",
      "Speed: 12.8ms preprocess, 61.7ms inference, 1.3ms postprocess per image at shape (1, 3, 1120, 1984)\n",
      "\n",
      "0: 1120x1984 1 ball, 22 players, 61.7ms\n",
      "Speed: 11.9ms preprocess, 61.7ms inference, 1.3ms postprocess per image at shape (1, 3, 1120, 1984)\n",
      "\n"
     ]
    },
    {
     "name": "stdout",
     "output_type": "stream",
     "text": [
      "[[     123.55      684.26      658.99]\n",
      " [     132.24      504.14      543.95]]\n",
      "270\n",
      "[[     123.55      684.26      658.99]\n",
      " [     132.24      504.14      543.95]]\n",
      "271\n"
     ]
    },
    {
     "name": "stderr",
     "output_type": "stream",
     "text": [
      "0: 1120x1984 1 ball, 22 players, 61.5ms\n",
      "Speed: 12.3ms preprocess, 61.5ms inference, 1.3ms postprocess per image at shape (1, 3, 1120, 1984)\n",
      "\n",
      "0: 1120x1984 1 ball, 22 players, 61.3ms\n",
      "Speed: 13.4ms preprocess, 61.3ms inference, 1.2ms postprocess per image at shape (1, 3, 1120, 1984)\n",
      "\n"
     ]
    },
    {
     "name": "stdout",
     "output_type": "stream",
     "text": [
      "[[     123.55      684.26      658.99]\n",
      " [     132.24      504.14      543.95]]\n",
      "272\n",
      "[[     123.55      684.26      658.99]\n",
      " [     132.24      504.14      543.95]]\n",
      "273\n"
     ]
    },
    {
     "name": "stderr",
     "output_type": "stream",
     "text": [
      "0: 1120x1984 1 ball, 22 players, 61.7ms\n",
      "Speed: 12.4ms preprocess, 61.7ms inference, 1.2ms postprocess per image at shape (1, 3, 1120, 1984)\n",
      "\n",
      "0: 1120x1984 1 ball, 22 players, 61.6ms\n",
      "Speed: 12.4ms preprocess, 61.6ms inference, 1.3ms postprocess per image at shape (1, 3, 1120, 1984)\n",
      "\n"
     ]
    },
    {
     "name": "stdout",
     "output_type": "stream",
     "text": [
      "[[     123.55      684.26      658.99]\n",
      " [     132.24      504.14      543.95]]\n",
      "274\n",
      "[[     123.55      684.26      658.99]\n",
      " [     132.24      504.14      543.95]]\n",
      "275\n"
     ]
    },
    {
     "name": "stderr",
     "output_type": "stream",
     "text": [
      "0: 1120x1984 1 ball, 22 players, 61.6ms\n",
      "Speed: 12.0ms preprocess, 61.6ms inference, 1.3ms postprocess per image at shape (1, 3, 1120, 1984)\n",
      "\n",
      "0: 1120x1984 1 ball, 22 players, 61.8ms\n",
      "Speed: 12.4ms preprocess, 61.8ms inference, 1.2ms postprocess per image at shape (1, 3, 1120, 1984)\n",
      "\n"
     ]
    },
    {
     "name": "stdout",
     "output_type": "stream",
     "text": [
      "[[     123.55      684.26      658.99]\n",
      " [     132.24      504.14      543.95]]\n",
      "276\n",
      "[[     123.55      684.26      658.99]\n",
      " [     132.24      504.14      543.95]]\n",
      "277\n"
     ]
    },
    {
     "name": "stderr",
     "output_type": "stream",
     "text": [
      "0: 1120x1984 1 ball, 22 players, 61.7ms\n",
      "Speed: 12.5ms preprocess, 61.7ms inference, 1.3ms postprocess per image at shape (1, 3, 1120, 1984)\n",
      "\n",
      "0: 1120x1984 1 ball, 22 players, 61.6ms\n",
      "Speed: 11.9ms preprocess, 61.6ms inference, 1.3ms postprocess per image at shape (1, 3, 1120, 1984)\n",
      "\n"
     ]
    },
    {
     "name": "stdout",
     "output_type": "stream",
     "text": [
      "[[     123.55      684.26      658.99]\n",
      " [     132.24      504.14      543.95]]\n",
      "278\n",
      "[[     123.55      684.26      658.99]\n",
      " [     132.24      504.14      543.95]]\n",
      "279\n"
     ]
    },
    {
     "name": "stderr",
     "output_type": "stream",
     "text": [
      "0: 1120x1984 1 ball, 22 players, 61.7ms\n",
      "Speed: 12.0ms preprocess, 61.7ms inference, 1.2ms postprocess per image at shape (1, 3, 1120, 1984)\n",
      "\n",
      "0: 1120x1984 1 ball, 22 players, 61.6ms\n",
      "Speed: 12.5ms preprocess, 61.6ms inference, 1.2ms postprocess per image at shape (1, 3, 1120, 1984)\n",
      "\n"
     ]
    },
    {
     "name": "stdout",
     "output_type": "stream",
     "text": [
      "[[     123.55      684.26      658.99]\n",
      " [     132.24      504.14      543.95]]\n",
      "280\n",
      "[[     123.55      684.26      658.99]\n",
      " [     132.24      504.14      543.95]]\n",
      "281\n"
     ]
    },
    {
     "name": "stderr",
     "output_type": "stream",
     "text": [
      "0: 1120x1984 1 ball, 22 players, 61.7ms\n",
      "Speed: 12.0ms preprocess, 61.7ms inference, 1.4ms postprocess per image at shape (1, 3, 1120, 1984)\n",
      "\n",
      "0: 1120x1984 22 players, 61.6ms\n",
      "Speed: 12.7ms preprocess, 61.6ms inference, 1.2ms postprocess per image at shape (1, 3, 1120, 1984)\n",
      "\n"
     ]
    },
    {
     "name": "stdout",
     "output_type": "stream",
     "text": [
      "[[     123.55      684.26      658.99]\n",
      " [     132.24      504.14      543.95]]\n",
      "282\n",
      "[[     123.55      684.26      658.99]\n",
      " [     132.24      504.14      543.95]]\n",
      "283\n"
     ]
    },
    {
     "name": "stderr",
     "output_type": "stream",
     "text": [
      "0: 1120x1984 22 players, 61.7ms\n",
      "Speed: 12.0ms preprocess, 61.7ms inference, 1.3ms postprocess per image at shape (1, 3, 1120, 1984)\n",
      "\n",
      "0: 1120x1984 1 ball, 22 players, 61.6ms\n",
      "Speed: 12.1ms preprocess, 61.6ms inference, 1.3ms postprocess per image at shape (1, 3, 1120, 1984)\n",
      "\n"
     ]
    },
    {
     "name": "stdout",
     "output_type": "stream",
     "text": [
      "[[     123.55      684.26      658.99]\n",
      " [     132.24      504.14      543.95]]\n",
      "284\n",
      "[[     123.55      684.26      658.99]\n",
      " [     132.24      504.14      543.95]]\n",
      "285\n"
     ]
    },
    {
     "name": "stderr",
     "output_type": "stream",
     "text": [
      "0: 1120x1984 1 ball, 22 players, 61.9ms\n",
      "Speed: 11.8ms preprocess, 61.9ms inference, 1.2ms postprocess per image at shape (1, 3, 1120, 1984)\n",
      "\n",
      "0: 1120x1984 22 players, 61.6ms\n",
      "Speed: 12.4ms preprocess, 61.6ms inference, 1.2ms postprocess per image at shape (1, 3, 1120, 1984)\n",
      "\n"
     ]
    },
    {
     "name": "stdout",
     "output_type": "stream",
     "text": [
      "[[     123.55      684.26      658.99]\n",
      " [     132.24      504.14      543.95]]\n",
      "286\n",
      "[[     123.55      684.26      658.99]\n",
      " [     132.24      504.14      543.95]]\n",
      "287\n"
     ]
    },
    {
     "name": "stderr",
     "output_type": "stream",
     "text": [
      "0: 1120x1984 1 ball, 22 players, 62.0ms\n",
      "Speed: 12.0ms preprocess, 62.0ms inference, 1.3ms postprocess per image at shape (1, 3, 1120, 1984)\n",
      "\n",
      "0: 1120x1984 1 ball, 22 players, 61.5ms\n",
      "Speed: 12.5ms preprocess, 61.5ms inference, 1.2ms postprocess per image at shape (1, 3, 1120, 1984)\n",
      "\n"
     ]
    },
    {
     "name": "stdout",
     "output_type": "stream",
     "text": [
      "[[     123.55      684.26      658.99]\n",
      " [     132.24      504.14      543.95]]\n",
      "288\n",
      "[[     123.55      684.26      658.99]\n",
      " [     132.24      504.14      543.95]]\n",
      "289\n"
     ]
    },
    {
     "name": "stderr",
     "output_type": "stream",
     "text": [
      "0: 1120x1984 1 ball, 22 players, 61.9ms\n",
      "Speed: 12.1ms preprocess, 61.9ms inference, 1.2ms postprocess per image at shape (1, 3, 1120, 1984)\n",
      "\n",
      "0: 1120x1984 1 ball, 22 players, 61.7ms\n",
      "Speed: 12.5ms preprocess, 61.7ms inference, 1.3ms postprocess per image at shape (1, 3, 1120, 1984)\n",
      "\n"
     ]
    },
    {
     "name": "stdout",
     "output_type": "stream",
     "text": [
      "[[     123.55      684.26      658.99]\n",
      " [     132.24      504.14      543.95]]\n",
      "290\n",
      "[[     123.55      684.26      658.99]\n",
      " [     132.24      504.14      543.95]]\n",
      "291\n"
     ]
    },
    {
     "name": "stderr",
     "output_type": "stream",
     "text": [
      "0: 1120x1984 1 ball, 22 players, 61.5ms\n",
      "Speed: 12.0ms preprocess, 61.5ms inference, 1.3ms postprocess per image at shape (1, 3, 1120, 1984)\n",
      "\n",
      "0: 1120x1984 1 ball, 22 players, 61.5ms\n",
      "Speed: 12.1ms preprocess, 61.5ms inference, 1.3ms postprocess per image at shape (1, 3, 1120, 1984)\n"
     ]
    },
    {
     "name": "stdout",
     "output_type": "stream",
     "text": [
      "[[     123.55      684.26      658.99]\n",
      " [     132.24      504.14      543.95]]\n",
      "292\n"
     ]
    },
    {
     "name": "stderr",
     "output_type": "stream",
     "text": [
      "\n",
      "0: 1120x1984 1 ball, 22 players, 61.7ms\n",
      "Speed: 11.9ms preprocess, 61.7ms inference, 1.3ms postprocess per image at shape (1, 3, 1120, 1984)\n",
      "\n"
     ]
    },
    {
     "name": "stdout",
     "output_type": "stream",
     "text": [
      "[[     123.55      684.26      658.99]\n",
      " [     132.24      504.14      543.95]]\n",
      "293\n",
      "[[     123.55      684.26      658.99]\n",
      " [     132.24      504.14      543.95]]\n",
      "294\n"
     ]
    },
    {
     "name": "stderr",
     "output_type": "stream",
     "text": [
      "0: 1120x1984 1 ball, 22 players, 61.7ms\n",
      "Speed: 11.9ms preprocess, 61.7ms inference, 1.3ms postprocess per image at shape (1, 3, 1120, 1984)\n",
      "\n",
      "0: 1120x1984 1 ball, 22 players, 61.6ms\n",
      "Speed: 11.9ms preprocess, 61.6ms inference, 1.3ms postprocess per image at shape (1, 3, 1120, 1984)\n",
      "\n"
     ]
    },
    {
     "name": "stdout",
     "output_type": "stream",
     "text": [
      "[[     123.55      684.26      658.99]\n",
      " [     132.24      504.14      543.95]]\n",
      "295\n",
      "[[     123.55      684.26      658.99]\n",
      " [     132.24      504.14      543.95]]\n",
      "296\n"
     ]
    },
    {
     "name": "stderr",
     "output_type": "stream",
     "text": [
      "0: 1120x1984 1 ball, 22 players, 61.7ms\n",
      "Speed: 12.5ms preprocess, 61.7ms inference, 1.2ms postprocess per image at shape (1, 3, 1120, 1984)\n",
      "\n",
      "0: 1120x1984 1 ball, 22 players, 61.6ms\n",
      "Speed: 12.0ms preprocess, 61.6ms inference, 1.3ms postprocess per image at shape (1, 3, 1120, 1984)\n",
      "\n"
     ]
    },
    {
     "name": "stdout",
     "output_type": "stream",
     "text": [
      "[[     123.55      684.26      658.99]\n",
      " [     132.24      504.14      543.95]]\n",
      "297\n",
      "[[     123.55      684.26      658.99]\n",
      " [     132.24      504.14      543.95]]\n",
      "298\n"
     ]
    },
    {
     "name": "stderr",
     "output_type": "stream",
     "text": [
      "0: 1120x1984 1 ball, 22 players, 61.9ms\n",
      "Speed: 12.2ms preprocess, 61.9ms inference, 1.2ms postprocess per image at shape (1, 3, 1120, 1984)\n",
      "\n",
      "0: 1120x1984 1 ball, 22 players, 61.6ms\n",
      "Speed: 13.3ms preprocess, 61.6ms inference, 1.3ms postprocess per image at shape (1, 3, 1120, 1984)\n",
      "\n"
     ]
    },
    {
     "name": "stdout",
     "output_type": "stream",
     "text": [
      "[[     123.55      684.26      658.99]\n",
      " [     132.24      504.14      543.95]]\n",
      "299\n",
      "[[     123.55      684.26      658.99]\n",
      " [     132.24      504.14      543.95]]\n",
      "300\n"
     ]
    },
    {
     "name": "stderr",
     "output_type": "stream",
     "text": [
      "0: 1120x1984 1 ball, 23 players, 62.1ms\n",
      "Speed: 12.5ms preprocess, 62.1ms inference, 1.3ms postprocess per image at shape (1, 3, 1120, 1984)\n",
      "\n",
      "0: 1120x1984 1 ball, 22 players, 61.7ms\n",
      "Speed: 12.4ms preprocess, 61.7ms inference, 1.3ms postprocess per image at shape (1, 3, 1120, 1984)\n",
      "\n"
     ]
    },
    {
     "name": "stdout",
     "output_type": "stream",
     "text": [
      "[[     123.55      684.26      658.99]\n",
      " [     132.24      504.14      543.95]]\n",
      "301\n",
      "[[     123.55      684.26      658.99]\n",
      " [     132.24      504.14      543.95]]\n",
      "302\n"
     ]
    },
    {
     "name": "stderr",
     "output_type": "stream",
     "text": [
      "0: 1120x1984 1 ball, 22 players, 62.2ms\n",
      "Speed: 13.0ms preprocess, 62.2ms inference, 1.2ms postprocess per image at shape (1, 3, 1120, 1984)\n",
      "\n",
      "0: 1120x1984 1 ball, 22 players, 61.8ms\n",
      "Speed: 12.0ms preprocess, 61.8ms inference, 1.2ms postprocess per image at shape (1, 3, 1120, 1984)\n",
      "\n"
     ]
    },
    {
     "name": "stdout",
     "output_type": "stream",
     "text": [
      "[[     123.55      684.26      658.99]\n",
      " [     132.24      504.14      543.95]]\n",
      "303\n",
      "[[     123.55      684.26      658.99]\n",
      " [     132.24      504.14      543.95]]\n",
      "304\n"
     ]
    },
    {
     "name": "stderr",
     "output_type": "stream",
     "text": [
      "0: 1120x1984 1 ball, 22 players, 61.7ms\n",
      "Speed: 12.1ms preprocess, 61.7ms inference, 1.2ms postprocess per image at shape (1, 3, 1120, 1984)\n",
      "\n",
      "0: 1120x1984 1 ball, 22 players, 61.6ms\n",
      "Speed: 12.0ms preprocess, 61.6ms inference, 1.3ms postprocess per image at shape (1, 3, 1120, 1984)\n",
      "\n"
     ]
    },
    {
     "name": "stdout",
     "output_type": "stream",
     "text": [
      "[[     123.55      684.26      658.99]\n",
      " [     132.24      504.14      543.95]]\n",
      "305\n",
      "[[     123.55      684.26      658.99]\n",
      " [     132.24      504.14      543.95]]\n",
      "306\n"
     ]
    },
    {
     "name": "stderr",
     "output_type": "stream",
     "text": [
      "0: 1120x1984 1 ball, 22 players, 61.7ms\n",
      "Speed: 12.1ms preprocess, 61.7ms inference, 1.2ms postprocess per image at shape (1, 3, 1120, 1984)\n",
      "\n",
      "0: 1120x1984 1 ball, 22 players, 61.5ms\n",
      "Speed: 12.6ms preprocess, 61.5ms inference, 1.3ms postprocess per image at shape (1, 3, 1120, 1984)\n",
      "\n"
     ]
    },
    {
     "name": "stdout",
     "output_type": "stream",
     "text": [
      "[[     123.55      684.26      658.99]\n",
      " [     132.24      504.14      543.95]]\n",
      "307\n",
      "[[     123.55      684.26      658.99]\n",
      " [     132.24      504.14      543.95]]\n",
      "308\n"
     ]
    },
    {
     "name": "stderr",
     "output_type": "stream",
     "text": [
      "0: 1120x1984 1 ball, 22 players, 61.6ms\n",
      "Speed: 12.4ms preprocess, 61.6ms inference, 1.3ms postprocess per image at shape (1, 3, 1120, 1984)\n",
      "\n",
      "0: 1120x1984 1 ball, 22 players, 61.7ms\n",
      "Speed: 12.4ms preprocess, 61.7ms inference, 1.3ms postprocess per image at shape (1, 3, 1120, 1984)\n",
      "\n"
     ]
    },
    {
     "name": "stdout",
     "output_type": "stream",
     "text": [
      "[[     123.55      684.26      658.99]\n",
      " [     132.24      504.14      543.95]]\n",
      "309\n",
      "[[     123.55      684.26      658.99]\n",
      " [     132.24      504.14      543.95]]\n",
      "310\n"
     ]
    },
    {
     "name": "stderr",
     "output_type": "stream",
     "text": [
      "0: 1120x1984 1 ball, 22 players, 61.9ms\n",
      "Speed: 12.5ms preprocess, 61.9ms inference, 1.2ms postprocess per image at shape (1, 3, 1120, 1984)\n",
      "\n",
      "0: 1120x1984 1 ball, 22 players, 61.5ms\n",
      "Speed: 12.2ms preprocess, 61.5ms inference, 1.3ms postprocess per image at shape (1, 3, 1120, 1984)\n",
      "\n"
     ]
    },
    {
     "name": "stdout",
     "output_type": "stream",
     "text": [
      "[[     123.55      684.26      658.99]\n",
      " [     132.24      504.14      543.95]]\n",
      "311\n",
      "[[     123.55      684.26      658.99]\n",
      " [     132.24      504.14      543.95]]\n",
      "312\n"
     ]
    },
    {
     "name": "stderr",
     "output_type": "stream",
     "text": [
      "0: 1120x1984 1 ball, 22 players, 62.1ms\n",
      "Speed: 12.0ms preprocess, 62.1ms inference, 1.3ms postprocess per image at shape (1, 3, 1120, 1984)\n",
      "\n",
      "0: 1120x1984 1 ball, 22 players, 61.5ms\n",
      "Speed: 12.1ms preprocess, 61.5ms inference, 1.3ms postprocess per image at shape (1, 3, 1120, 1984)\n",
      "\n"
     ]
    },
    {
     "name": "stdout",
     "output_type": "stream",
     "text": [
      "[[     123.55      684.26      658.99]\n",
      " [     132.24      504.14      543.95]]\n",
      "313\n",
      "[[     123.55      684.26      658.99]\n",
      " [     132.24      504.14      543.95]]\n",
      "314\n"
     ]
    },
    {
     "name": "stderr",
     "output_type": "stream",
     "text": [
      "0: 1120x1984 1 ball, 22 players, 62.0ms\n",
      "Speed: 12.0ms preprocess, 62.0ms inference, 1.3ms postprocess per image at shape (1, 3, 1120, 1984)\n",
      "\n",
      "0: 1120x1984 1 ball, 22 players, 61.6ms\n",
      "Speed: 12.4ms preprocess, 61.6ms inference, 1.3ms postprocess per image at shape (1, 3, 1120, 1984)\n",
      "\n"
     ]
    },
    {
     "name": "stdout",
     "output_type": "stream",
     "text": [
      "[[     123.55      684.26      658.99]\n",
      " [     132.24      504.14      543.95]]\n",
      "315\n",
      "[[     123.55      684.26      658.99]\n",
      " [     132.24      504.14      543.95]]\n",
      "316\n"
     ]
    },
    {
     "name": "stderr",
     "output_type": "stream",
     "text": [
      "0: 1120x1984 1 ball, 22 players, 61.7ms\n",
      "Speed: 12.4ms preprocess, 61.7ms inference, 1.2ms postprocess per image at shape (1, 3, 1120, 1984)\n",
      "\n",
      "0: 1120x1984 1 ball, 22 players, 61.8ms\n",
      "Speed: 12.5ms preprocess, 61.8ms inference, 1.3ms postprocess per image at shape (1, 3, 1120, 1984)\n",
      "\n"
     ]
    },
    {
     "name": "stdout",
     "output_type": "stream",
     "text": [
      "[[     123.55      684.26      658.99]\n",
      " [     132.24      504.14      543.95]]\n",
      "317\n",
      "[[     123.55      684.26      658.99]\n",
      " [     132.24      504.14      543.95]]\n",
      "318\n"
     ]
    },
    {
     "name": "stderr",
     "output_type": "stream",
     "text": [
      "0: 1120x1984 1 ball, 22 players, 62.0ms\n",
      "Speed: 12.5ms preprocess, 62.0ms inference, 1.2ms postprocess per image at shape (1, 3, 1120, 1984)\n",
      "\n",
      "0: 1120x1984 1 ball, 22 players, 61.5ms\n",
      "Speed: 11.9ms preprocess, 61.5ms inference, 1.3ms postprocess per image at shape (1, 3, 1120, 1984)\n",
      "\n"
     ]
    },
    {
     "name": "stdout",
     "output_type": "stream",
     "text": [
      "[[     123.55      684.26      658.99]\n",
      " [     132.24      504.14      543.95]]\n",
      "319\n",
      "[[     123.55      684.26      658.99]\n",
      " [     132.24      504.14      543.95]]\n",
      "320\n"
     ]
    },
    {
     "name": "stderr",
     "output_type": "stream",
     "text": [
      "0: 1120x1984 1 ball, 22 players, 61.5ms\n",
      "Speed: 12.1ms preprocess, 61.5ms inference, 1.3ms postprocess per image at shape (1, 3, 1120, 1984)\n",
      "\n",
      "0: 1120x1984 1 ball, 22 players, 61.6ms\n",
      "Speed: 12.0ms preprocess, 61.6ms inference, 1.3ms postprocess per image at shape (1, 3, 1120, 1984)\n",
      "\n"
     ]
    },
    {
     "name": "stdout",
     "output_type": "stream",
     "text": [
      "[[     123.55      684.26      658.99]\n",
      " [     132.24      504.14      543.95]]\n",
      "321\n",
      "[[     123.55      684.26      658.99]\n",
      " [     132.24      504.14      543.95]]\n",
      "322\n"
     ]
    },
    {
     "name": "stderr",
     "output_type": "stream",
     "text": [
      "0: 1120x1984 1 ball, 22 players, 61.6ms\n",
      "Speed: 12.0ms preprocess, 61.6ms inference, 1.3ms postprocess per image at shape (1, 3, 1120, 1984)\n",
      "\n",
      "0: 1120x1984 1 ball, 22 players, 61.7ms\n",
      "Speed: 12.5ms preprocess, 61.7ms inference, 1.3ms postprocess per image at shape (1, 3, 1120, 1984)\n",
      "\n"
     ]
    },
    {
     "name": "stdout",
     "output_type": "stream",
     "text": [
      "[[     123.55      684.26      658.99]\n",
      " [     132.24      504.14      543.95]]\n",
      "323\n",
      "[[     123.55      684.26      658.99]\n",
      " [     132.24      504.14      543.95]]\n",
      "324\n"
     ]
    },
    {
     "name": "stderr",
     "output_type": "stream",
     "text": [
      "0: 1120x1984 1 ball, 22 players, 61.9ms\n",
      "Speed: 12.4ms preprocess, 61.9ms inference, 1.2ms postprocess per image at shape (1, 3, 1120, 1984)\n",
      "\n",
      "0: 1120x1984 1 ball, 22 players, 61.7ms\n",
      "Speed: 12.4ms preprocess, 61.7ms inference, 1.3ms postprocess per image at shape (1, 3, 1120, 1984)\n",
      "\n"
     ]
    },
    {
     "name": "stdout",
     "output_type": "stream",
     "text": [
      "[[     123.55      684.26      658.99]\n",
      " [     132.24      504.14      543.95]]\n",
      "325\n",
      "[[     123.55      684.26      658.99]\n",
      " [     132.24      504.14      543.95]]\n",
      "326\n"
     ]
    },
    {
     "name": "stderr",
     "output_type": "stream",
     "text": [
      "0: 1120x1984 2 balls, 22 players, 61.5ms\n",
      "Speed: 12.5ms preprocess, 61.5ms inference, 1.3ms postprocess per image at shape (1, 3, 1120, 1984)\n",
      "\n",
      "0: 1120x1984 1 ball, 22 players, 61.7ms\n",
      "Speed: 11.9ms preprocess, 61.7ms inference, 1.3ms postprocess per image at shape (1, 3, 1120, 1984)\n",
      "\n"
     ]
    },
    {
     "name": "stdout",
     "output_type": "stream",
     "text": [
      "[[     123.55      684.26      658.99]\n",
      " [     132.24      504.14      543.95]]\n",
      "327\n",
      "[[     123.55      684.26      658.99]\n",
      " [     132.24      504.14      543.95]]\n",
      "328\n"
     ]
    },
    {
     "name": "stderr",
     "output_type": "stream",
     "text": [
      "0: 1120x1984 1 ball, 22 players, 61.6ms\n",
      "Speed: 12.4ms preprocess, 61.6ms inference, 1.2ms postprocess per image at shape (1, 3, 1120, 1984)\n",
      "\n",
      "0: 1120x1984 1 ball, 22 players, 61.7ms\n",
      "Speed: 12.1ms preprocess, 61.7ms inference, 1.3ms postprocess per image at shape (1, 3, 1120, 1984)\n",
      "\n"
     ]
    },
    {
     "name": "stdout",
     "output_type": "stream",
     "text": [
      "[[     123.55      684.26      658.99]\n",
      " [     132.24      504.14      543.95]]\n",
      "329\n",
      "[[     123.55      684.26      658.99]\n",
      " [     132.24      504.14      543.95]]\n",
      "330\n"
     ]
    },
    {
     "name": "stderr",
     "output_type": "stream",
     "text": [
      "0: 1120x1984 1 ball, 22 players, 62.0ms\n",
      "Speed: 12.6ms preprocess, 62.0ms inference, 1.2ms postprocess per image at shape (1, 3, 1120, 1984)\n",
      "\n",
      "0: 1120x1984 1 ball, 22 players, 61.6ms\n",
      "Speed: 12.4ms preprocess, 61.6ms inference, 1.3ms postprocess per image at shape (1, 3, 1120, 1984)\n",
      "\n"
     ]
    },
    {
     "name": "stdout",
     "output_type": "stream",
     "text": [
      "[[     123.55      684.26      658.99]\n",
      " [     132.24      504.14      543.95]]\n",
      "331\n",
      "[[     123.55      684.26      658.99]\n",
      " [     132.24      504.14      543.95]]\n",
      "332\n"
     ]
    },
    {
     "name": "stderr",
     "output_type": "stream",
     "text": [
      "0: 1120x1984 1 ball, 22 players, 61.9ms\n",
      "Speed: 12.7ms preprocess, 61.9ms inference, 1.3ms postprocess per image at shape (1, 3, 1120, 1984)\n",
      "\n",
      "0: 1120x1984 1 ball, 22 players, 61.5ms\n",
      "Speed: 12.4ms preprocess, 61.5ms inference, 1.2ms postprocess per image at shape (1, 3, 1120, 1984)\n",
      "\n"
     ]
    },
    {
     "name": "stdout",
     "output_type": "stream",
     "text": [
      "[[     123.55      684.26      658.99]\n",
      " [     132.24      504.14      543.95]]\n",
      "333\n",
      "[[     123.55      684.26      658.99]\n",
      " [     132.24      504.14      543.95]]\n",
      "334\n"
     ]
    },
    {
     "name": "stderr",
     "output_type": "stream",
     "text": [
      "0: 1120x1984 1 ball, 22 players, 61.7ms\n",
      "Speed: 12.4ms preprocess, 61.7ms inference, 1.2ms postprocess per image at shape (1, 3, 1120, 1984)\n",
      "\n",
      "0: 1120x1984 1 ball, 22 players, 61.7ms\n",
      "Speed: 12.5ms preprocess, 61.7ms inference, 1.3ms postprocess per image at shape (1, 3, 1120, 1984)\n"
     ]
    },
    {
     "name": "stdout",
     "output_type": "stream",
     "text": [
      "[[     123.55      684.26      658.99]\n",
      " [     132.24      504.14      543.95]]\n",
      "335\n"
     ]
    },
    {
     "name": "stderr",
     "output_type": "stream",
     "text": [
      "\n",
      "0: 1120x1984 1 ball, 23 players, 61.5ms\n",
      "Speed: 12.3ms preprocess, 61.5ms inference, 1.2ms postprocess per image at shape (1, 3, 1120, 1984)\n",
      "\n"
     ]
    },
    {
     "name": "stdout",
     "output_type": "stream",
     "text": [
      "[[     123.55      684.26      658.99]\n",
      " [     132.24      504.14      543.95]]\n",
      "336\n",
      "[[     123.55      684.26      658.99]\n",
      " [     132.24      504.14      543.95]]\n",
      "337\n"
     ]
    },
    {
     "name": "stderr",
     "output_type": "stream",
     "text": [
      "0: 1120x1984 1 ball, 22 players, 61.8ms\n",
      "Speed: 12.1ms preprocess, 61.8ms inference, 1.2ms postprocess per image at shape (1, 3, 1120, 1984)\n",
      "\n",
      "0: 1120x1984 1 ball, 22 players, 61.5ms\n",
      "Speed: 11.9ms preprocess, 61.5ms inference, 1.2ms postprocess per image at shape (1, 3, 1120, 1984)\n",
      "\n"
     ]
    },
    {
     "name": "stdout",
     "output_type": "stream",
     "text": [
      "[[     123.55      684.26      658.99]\n",
      " [     132.24      504.14      543.95]]\n",
      "338\n",
      "[[     123.55      684.26      658.99]\n",
      " [     132.24      504.14      543.95]]\n",
      "339\n"
     ]
    },
    {
     "name": "stderr",
     "output_type": "stream",
     "text": [
      "0: 1120x1984 1 ball, 21 players, 61.9ms\n",
      "Speed: 12.5ms preprocess, 61.9ms inference, 1.2ms postprocess per image at shape (1, 3, 1120, 1984)\n",
      "\n",
      "0: 1120x1984 1 ball, 21 players, 61.6ms\n",
      "Speed: 12.6ms preprocess, 61.6ms inference, 1.2ms postprocess per image at shape (1, 3, 1120, 1984)\n",
      "\n"
     ]
    },
    {
     "name": "stdout",
     "output_type": "stream",
     "text": [
      "[[     123.55      684.26      658.99]\n",
      " [     132.24      504.14      543.95]]\n",
      "340\n",
      "[[     123.55      684.26      658.99]\n",
      " [     132.24      504.14      543.95]]\n",
      "341\n"
     ]
    },
    {
     "name": "stderr",
     "output_type": "stream",
     "text": [
      "0: 1120x1984 1 ball, 21 players, 61.7ms\n",
      "Speed: 12.5ms preprocess, 61.7ms inference, 1.2ms postprocess per image at shape (1, 3, 1120, 1984)\n",
      "\n",
      "0: 1120x1984 1 ball, 21 players, 61.6ms\n",
      "Speed: 12.7ms preprocess, 61.6ms inference, 1.2ms postprocess per image at shape (1, 3, 1120, 1984)\n",
      "\n"
     ]
    },
    {
     "name": "stdout",
     "output_type": "stream",
     "text": [
      "[[     123.55      684.26      658.99]\n",
      " [     132.24      504.14      543.95]]\n",
      "342\n",
      "[[     123.55      684.26      658.99]\n",
      " [     132.24      504.14      543.95]]\n",
      "343\n"
     ]
    },
    {
     "name": "stderr",
     "output_type": "stream",
     "text": [
      "0: 1120x1984 1 ball, 21 players, 61.8ms\n",
      "Speed: 12.1ms preprocess, 61.8ms inference, 1.2ms postprocess per image at shape (1, 3, 1120, 1984)\n",
      "\n",
      "0: 1120x1984 1 ball, 22 players, 61.5ms\n",
      "Speed: 12.4ms preprocess, 61.5ms inference, 1.2ms postprocess per image at shape (1, 3, 1120, 1984)\n",
      "\n"
     ]
    },
    {
     "name": "stdout",
     "output_type": "stream",
     "text": [
      "[[     123.55      684.26      658.99]\n",
      " [     132.24      504.14      543.95]]\n",
      "344\n",
      "[[     123.55      684.26      658.99]\n",
      " [     132.24      504.14      543.95]]\n",
      "345\n"
     ]
    },
    {
     "name": "stderr",
     "output_type": "stream",
     "text": [
      "0: 1120x1984 1 ball, 21 players, 62.1ms\n",
      "Speed: 12.0ms preprocess, 62.1ms inference, 1.2ms postprocess per image at shape (1, 3, 1120, 1984)\n",
      "\n",
      "0: 1120x1984 1 ball, 21 players, 61.5ms\n",
      "Speed: 12.1ms preprocess, 61.5ms inference, 1.2ms postprocess per image at shape (1, 3, 1120, 1984)\n",
      "\n"
     ]
    },
    {
     "name": "stdout",
     "output_type": "stream",
     "text": [
      "[[     123.55      684.26      658.99]\n",
      " [     132.24      504.14      543.95]]\n",
      "346\n",
      "[[     123.55      684.26      658.99]\n",
      " [     132.24      504.14      543.95]]\n",
      "347\n"
     ]
    },
    {
     "name": "stderr",
     "output_type": "stream",
     "text": [
      "0: 1120x1984 1 ball, 21 players, 62.0ms\n",
      "Speed: 12.0ms preprocess, 62.0ms inference, 1.3ms postprocess per image at shape (1, 3, 1120, 1984)\n",
      "\n",
      "0: 1120x1984 20 players, 61.7ms\n",
      "Speed: 11.9ms preprocess, 61.7ms inference, 1.2ms postprocess per image at shape (1, 3, 1120, 1984)\n",
      "\n"
     ]
    },
    {
     "name": "stdout",
     "output_type": "stream",
     "text": [
      "[[     123.55      684.26      658.99]\n",
      " [     132.24      504.14      543.95]]\n",
      "348\n",
      "[[     123.55      684.26      658.99]\n",
      " [     132.24      504.14      543.95]]\n",
      "349\n"
     ]
    },
    {
     "name": "stderr",
     "output_type": "stream",
     "text": [
      "0: 1120x1984 20 players, 62.9ms\n",
      "Speed: 12.0ms preprocess, 62.9ms inference, 1.2ms postprocess per image at shape (1, 3, 1120, 1984)\n",
      "\n",
      "0: 1120x1984 20 players, 61.4ms\n",
      "Speed: 12.0ms preprocess, 61.4ms inference, 1.3ms postprocess per image at shape (1, 3, 1120, 1984)\n",
      "\n"
     ]
    },
    {
     "name": "stdout",
     "output_type": "stream",
     "text": [
      "[[     123.55      684.26      658.99]\n",
      " [     132.24      504.14      543.95]]\n",
      "350\n",
      "[[     123.55      684.26      658.99]\n",
      " [     132.24      504.14      543.95]]\n",
      "351\n"
     ]
    },
    {
     "name": "stderr",
     "output_type": "stream",
     "text": [
      "0: 1120x1984 20 players, 61.9ms\n",
      "Speed: 12.5ms preprocess, 61.9ms inference, 1.2ms postprocess per image at shape (1, 3, 1120, 1984)\n",
      "\n",
      "0: 1120x1984 1 ball, 19 players, 61.9ms\n",
      "Speed: 12.6ms preprocess, 61.9ms inference, 1.2ms postprocess per image at shape (1, 3, 1120, 1984)\n",
      "\n"
     ]
    },
    {
     "name": "stdout",
     "output_type": "stream",
     "text": [
      "[[     123.55      684.26      658.99]\n",
      " [     132.24      504.14      543.95]]\n",
      "352\n",
      "[[     123.55      684.26      658.99]\n",
      " [     132.24      504.14      543.95]]\n",
      "353\n"
     ]
    },
    {
     "name": "stderr",
     "output_type": "stream",
     "text": [
      "0: 1120x1984 1 ball, 20 players, 63.0ms\n",
      "Speed: 13.1ms preprocess, 63.0ms inference, 1.3ms postprocess per image at shape (1, 3, 1120, 1984)\n",
      "\n",
      "0: 1120x1984 1 ball, 20 players, 61.4ms\n",
      "Speed: 12.3ms preprocess, 61.4ms inference, 1.2ms postprocess per image at shape (1, 3, 1120, 1984)\n",
      "\n"
     ]
    },
    {
     "name": "stdout",
     "output_type": "stream",
     "text": [
      "[[     123.55      684.26      658.99]\n",
      " [     132.24      504.14      543.95]]\n",
      "354\n",
      "[[     123.55      684.26      658.99]\n",
      " [     132.24      504.14      543.95]]\n",
      "355\n"
     ]
    },
    {
     "name": "stderr",
     "output_type": "stream",
     "text": [
      "0: 1120x1984 1 ball, 20 players, 61.6ms\n",
      "Speed: 12.3ms preprocess, 61.6ms inference, 1.3ms postprocess per image at shape (1, 3, 1120, 1984)\n",
      "\n",
      "0: 1120x1984 1 ball, 20 players, 61.6ms\n",
      "Speed: 12.2ms preprocess, 61.6ms inference, 1.3ms postprocess per image at shape (1, 3, 1120, 1984)\n",
      "\n"
     ]
    },
    {
     "name": "stdout",
     "output_type": "stream",
     "text": [
      "[[     123.55      684.26      658.99]\n",
      " [     132.24      504.14      543.95]]\n",
      "356\n",
      "[[     123.55      684.26      658.99]\n",
      " [     132.24      504.14      543.95]]\n",
      "357\n"
     ]
    },
    {
     "name": "stderr",
     "output_type": "stream",
     "text": [
      "0: 1120x1984 1 ball, 20 players, 61.9ms\n",
      "Speed: 11.8ms preprocess, 61.9ms inference, 1.3ms postprocess per image at shape (1, 3, 1120, 1984)\n",
      "\n",
      "0: 1120x1984 1 ball, 20 players, 61.4ms\n",
      "Speed: 12.0ms preprocess, 61.4ms inference, 1.2ms postprocess per image at shape (1, 3, 1120, 1984)\n",
      "\n"
     ]
    },
    {
     "name": "stdout",
     "output_type": "stream",
     "text": [
      "[[     123.55      684.26      658.99]\n",
      " [     132.24      504.14      543.95]]\n",
      "358\n",
      "[[     123.55      684.26      658.99]\n",
      " [     132.24      504.14      543.95]]\n",
      "359\n"
     ]
    },
    {
     "name": "stderr",
     "output_type": "stream",
     "text": [
      "0: 1120x1984 1 ball, 20 players, 61.7ms\n",
      "Speed: 13.0ms preprocess, 61.7ms inference, 1.2ms postprocess per image at shape (1, 3, 1120, 1984)\n",
      "\n",
      "0: 1120x1984 1 ball, 20 players, 61.9ms\n",
      "Speed: 12.3ms preprocess, 61.9ms inference, 1.3ms postprocess per image at shape (1, 3, 1120, 1984)\n",
      "\n"
     ]
    },
    {
     "name": "stdout",
     "output_type": "stream",
     "text": [
      "[[     123.55      684.26      658.99]\n",
      " [     132.24      504.14      543.95]]\n",
      "360\n",
      "[[     123.55      684.26      658.99]\n",
      " [     132.24      504.14      543.95]]\n",
      "361\n"
     ]
    },
    {
     "name": "stderr",
     "output_type": "stream",
     "text": [
      "0: 1120x1984 20 players, 62.0ms\n",
      "Speed: 12.3ms preprocess, 62.0ms inference, 1.3ms postprocess per image at shape (1, 3, 1120, 1984)\n",
      "\n",
      "0: 1120x1984 1 ball, 20 players, 61.6ms\n",
      "Speed: 13.1ms preprocess, 61.6ms inference, 1.2ms postprocess per image at shape (1, 3, 1120, 1984)\n",
      "\n"
     ]
    },
    {
     "name": "stdout",
     "output_type": "stream",
     "text": [
      "[[     123.55      684.26      658.99]\n",
      " [     132.24      504.14      543.95]]\n",
      "362\n",
      "[[     123.55      684.26      658.99]\n",
      " [     132.24      504.14      543.95]]\n",
      "363\n"
     ]
    },
    {
     "name": "stderr",
     "output_type": "stream",
     "text": [
      "0: 1120x1984 1 ball, 19 players, 61.6ms\n",
      "Speed: 12.3ms preprocess, 61.6ms inference, 1.2ms postprocess per image at shape (1, 3, 1120, 1984)\n",
      "\n",
      "0: 1120x1984 2 balls, 20 players, 61.7ms\n",
      "Speed: 12.0ms preprocess, 61.7ms inference, 1.2ms postprocess per image at shape (1, 3, 1120, 1984)\n",
      "\n"
     ]
    },
    {
     "name": "stdout",
     "output_type": "stream",
     "text": [
      "[[     123.55      684.26      658.99]\n",
      " [     132.24      504.14      543.95]]\n",
      "364\n",
      "[[     123.55      684.26      658.99]\n",
      " [     132.24      504.14      543.95]]\n",
      "365\n"
     ]
    },
    {
     "name": "stderr",
     "output_type": "stream",
     "text": [
      "0: 1120x1984 2 balls, 20 players, 61.8ms\n",
      "Speed: 12.2ms preprocess, 61.8ms inference, 1.3ms postprocess per image at shape (1, 3, 1120, 1984)\n",
      "\n",
      "0: 1120x1984 1 ball, 21 players, 61.5ms\n",
      "Speed: 12.1ms preprocess, 61.5ms inference, 1.2ms postprocess per image at shape (1, 3, 1120, 1984)\n",
      "\n"
     ]
    },
    {
     "name": "stdout",
     "output_type": "stream",
     "text": [
      "[[     123.55      684.26      658.99]\n",
      " [     132.24      504.14      543.95]]\n",
      "366\n",
      "[[     123.55      684.26      658.99]\n",
      " [     132.24      504.14      543.95]]\n",
      "367\n"
     ]
    },
    {
     "name": "stderr",
     "output_type": "stream",
     "text": [
      "0: 1120x1984 19 players, 61.9ms\n",
      "Speed: 12.5ms preprocess, 61.9ms inference, 1.3ms postprocess per image at shape (1, 3, 1120, 1984)\n",
      "\n",
      "0: 1120x1984 19 players, 61.6ms\n",
      "Speed: 12.8ms preprocess, 61.6ms inference, 1.2ms postprocess per image at shape (1, 3, 1120, 1984)\n",
      "\n"
     ]
    },
    {
     "name": "stdout",
     "output_type": "stream",
     "text": [
      "[[     123.55      684.26      658.99]\n",
      " [     132.24      504.14      543.95]]\n",
      "368\n",
      "[[     123.55      684.26      658.99]\n",
      " [     132.24      504.14      543.95]]\n",
      "369\n"
     ]
    },
    {
     "name": "stderr",
     "output_type": "stream",
     "text": [
      "0: 1120x1984 19 players, 61.9ms\n",
      "Speed: 12.3ms preprocess, 61.9ms inference, 1.4ms postprocess per image at shape (1, 3, 1120, 1984)\n",
      "\n",
      "0: 1120x1984 19 players, 61.5ms\n",
      "Speed: 12.5ms preprocess, 61.5ms inference, 1.2ms postprocess per image at shape (1, 3, 1120, 1984)\n",
      "\n"
     ]
    },
    {
     "name": "stdout",
     "output_type": "stream",
     "text": [
      "[[     123.55      684.26      658.99]\n",
      " [     132.24      504.14      543.95]]\n",
      "370\n",
      "[[     123.55      684.26      658.99]\n",
      " [     132.24      504.14      543.95]]\n",
      "371\n"
     ]
    },
    {
     "name": "stderr",
     "output_type": "stream",
     "text": [
      "0: 1120x1984 19 players, 62.1ms\n",
      "Speed: 12.5ms preprocess, 62.1ms inference, 1.3ms postprocess per image at shape (1, 3, 1120, 1984)\n",
      "\n",
      "0: 1120x1984 19 players, 61.7ms\n",
      "Speed: 12.0ms preprocess, 61.7ms inference, 1.2ms postprocess per image at shape (1, 3, 1120, 1984)\n",
      "\n"
     ]
    },
    {
     "name": "stdout",
     "output_type": "stream",
     "text": [
      "[[     123.55      684.26      658.99]\n",
      " [     132.24      504.14      543.95]]\n",
      "372\n",
      "[[     123.55      684.26      658.99]\n",
      " [     132.24      504.14      543.95]]\n",
      "373\n"
     ]
    },
    {
     "name": "stderr",
     "output_type": "stream",
     "text": [
      "0: 1120x1984 19 players, 62.0ms\n",
      "Speed: 12.2ms preprocess, 62.0ms inference, 1.3ms postprocess per image at shape (1, 3, 1120, 1984)\n",
      "\n",
      "0: 1120x1984 19 players, 61.6ms\n",
      "Speed: 12.5ms preprocess, 61.6ms inference, 1.3ms postprocess per image at shape (1, 3, 1120, 1984)\n",
      "\n"
     ]
    },
    {
     "name": "stdout",
     "output_type": "stream",
     "text": [
      "[[     123.55      684.26      658.99]\n",
      " [     132.24      504.14      543.95]]\n",
      "374\n",
      "[[     123.55      684.26      658.99]\n",
      " [     132.24      504.14      543.95]]\n",
      "375\n"
     ]
    },
    {
     "name": "stderr",
     "output_type": "stream",
     "text": [
      "0: 1120x1984 19 players, 62.1ms\n",
      "Speed: 12.6ms preprocess, 62.1ms inference, 1.3ms postprocess per image at shape (1, 3, 1120, 1984)\n",
      "\n",
      "0: 1120x1984 19 players, 61.4ms\n",
      "Speed: 12.4ms preprocess, 61.4ms inference, 1.2ms postprocess per image at shape (1, 3, 1120, 1984)\n",
      "\n"
     ]
    },
    {
     "name": "stdout",
     "output_type": "stream",
     "text": [
      "[[     123.55      684.26      658.99]\n",
      " [     132.24      504.14      543.95]]\n",
      "376\n",
      "[[     123.55      684.26      658.99]\n",
      " [     132.24      504.14      543.95]]\n",
      "377\n"
     ]
    },
    {
     "name": "stderr",
     "output_type": "stream",
     "text": [
      "0: 1120x1984 19 players, 61.8ms\n",
      "Speed: 12.6ms preprocess, 61.8ms inference, 1.3ms postprocess per image at shape (1, 3, 1120, 1984)\n",
      "\n",
      "0: 1120x1984 19 players, 61.5ms\n",
      "Speed: 12.5ms preprocess, 61.5ms inference, 1.3ms postprocess per image at shape (1, 3, 1120, 1984)\n",
      "\n"
     ]
    },
    {
     "name": "stdout",
     "output_type": "stream",
     "text": [
      "[[     123.55      684.26      658.99]\n",
      " [     132.24      504.14      543.95]]\n",
      "378\n",
      "[[     123.55      684.26      658.99]\n",
      " [     132.24      504.14      543.95]]\n",
      "379\n"
     ]
    },
    {
     "name": "stderr",
     "output_type": "stream",
     "text": [
      "0: 1120x1984 19 players, 62.0ms\n",
      "Speed: 12.3ms preprocess, 62.0ms inference, 1.2ms postprocess per image at shape (1, 3, 1120, 1984)\n",
      "\n",
      "0: 1120x1984 19 players, 61.8ms\n",
      "Speed: 12.0ms preprocess, 61.8ms inference, 1.3ms postprocess per image at shape (1, 3, 1120, 1984)\n",
      "\n"
     ]
    },
    {
     "name": "stdout",
     "output_type": "stream",
     "text": [
      "[[     123.55      684.26      658.99]\n",
      " [     132.24      504.14      543.95]]\n",
      "380\n",
      "[[     123.55      684.26      658.99]\n",
      " [     132.24      504.14      543.95]]\n",
      "381\n"
     ]
    },
    {
     "name": "stderr",
     "output_type": "stream",
     "text": [
      "0: 1120x1984 19 players, 62.1ms\n",
      "Speed: 12.2ms preprocess, 62.1ms inference, 1.3ms postprocess per image at shape (1, 3, 1120, 1984)\n",
      "\n",
      "0: 1120x1984 19 players, 61.7ms\n",
      "Speed: 12.2ms preprocess, 61.7ms inference, 1.2ms postprocess per image at shape (1, 3, 1120, 1984)\n",
      "\n"
     ]
    },
    {
     "name": "stdout",
     "output_type": "stream",
     "text": [
      "[[     123.55      684.26      658.99]\n",
      " [     132.24      504.14      543.95]]\n",
      "382\n",
      "[[     123.55      684.26      658.99]\n",
      " [     132.24      504.14      543.95]]\n",
      "383\n"
     ]
    },
    {
     "name": "stderr",
     "output_type": "stream",
     "text": [
      "0: 1120x1984 19 players, 62.1ms\n",
      "Speed: 12.6ms preprocess, 62.1ms inference, 1.3ms postprocess per image at shape (1, 3, 1120, 1984)\n",
      "\n",
      "0: 1120x1984 19 players, 61.5ms\n",
      "Speed: 12.6ms preprocess, 61.5ms inference, 1.2ms postprocess per image at shape (1, 3, 1120, 1984)\n",
      "\n"
     ]
    },
    {
     "name": "stdout",
     "output_type": "stream",
     "text": [
      "[[     123.55      684.26      658.99]\n",
      " [     132.24      504.14      543.95]]\n",
      "384\n",
      "[[     123.55      684.26      658.99]\n",
      " [     132.24      504.14      543.95]]\n",
      "385\n"
     ]
    },
    {
     "name": "stderr",
     "output_type": "stream",
     "text": [
      "0: 1120x1984 19 players, 61.8ms\n",
      "Speed: 12.8ms preprocess, 61.8ms inference, 1.3ms postprocess per image at shape (1, 3, 1120, 1984)\n",
      "\n",
      "0: 1120x1984 19 players, 61.5ms\n",
      "Speed: 12.0ms preprocess, 61.5ms inference, 1.3ms postprocess per image at shape (1, 3, 1120, 1984)\n",
      "\n"
     ]
    },
    {
     "name": "stdout",
     "output_type": "stream",
     "text": [
      "[[     123.55      684.26      658.99]\n",
      " [     132.24      504.14      543.95]]\n",
      "386\n",
      "[[     123.55      684.26      658.99]\n",
      " [     132.24      504.14      543.95]]\n",
      "387\n"
     ]
    },
    {
     "name": "stderr",
     "output_type": "stream",
     "text": [
      "0: 1120x1984 19 players, 62.0ms\n",
      "Speed: 12.0ms preprocess, 62.0ms inference, 1.3ms postprocess per image at shape (1, 3, 1120, 1984)\n",
      "\n",
      "0: 1120x1984 19 players, 61.5ms\n",
      "Speed: 11.9ms preprocess, 61.5ms inference, 1.3ms postprocess per image at shape (1, 3, 1120, 1984)\n",
      "\n"
     ]
    },
    {
     "name": "stdout",
     "output_type": "stream",
     "text": [
      "[[     123.55      684.26      658.99]\n",
      " [     132.24      504.14      543.95]]\n",
      "388\n",
      "[[     123.55      684.26      658.99]\n",
      " [     132.24      504.14      543.95]]\n",
      "389\n"
     ]
    },
    {
     "name": "stderr",
     "output_type": "stream",
     "text": [
      "0: 1120x1984 19 players, 62.1ms\n",
      "Speed: 11.9ms preprocess, 62.1ms inference, 1.3ms postprocess per image at shape (1, 3, 1120, 1984)\n",
      "\n",
      "0: 1120x1984 19 players, 61.6ms\n",
      "Speed: 12.5ms preprocess, 61.6ms inference, 1.3ms postprocess per image at shape (1, 3, 1120, 1984)\n",
      "\n"
     ]
    },
    {
     "name": "stdout",
     "output_type": "stream",
     "text": [
      "[[     123.55      684.26      658.99]\n",
      " [     132.24      504.14      543.95]]\n",
      "390\n",
      "[[     123.55      684.26      658.99]\n",
      " [     132.24      504.14      543.95]]\n",
      "391\n"
     ]
    },
    {
     "name": "stderr",
     "output_type": "stream",
     "text": [
      "0: 1120x1984 19 players, 61.9ms\n",
      "Speed: 12.5ms preprocess, 61.9ms inference, 1.3ms postprocess per image at shape (1, 3, 1120, 1984)\n",
      "\n",
      "0: 1120x1984 19 players, 61.6ms\n",
      "Speed: 12.6ms preprocess, 61.6ms inference, 1.3ms postprocess per image at shape (1, 3, 1120, 1984)\n",
      "\n"
     ]
    },
    {
     "name": "stdout",
     "output_type": "stream",
     "text": [
      "[[     123.55      684.26      658.99]\n",
      " [     132.24      504.14      543.95]]\n",
      "392\n",
      "[[     123.55      684.26      658.99]\n",
      " [     132.24      504.14      543.95]]\n",
      "393\n"
     ]
    },
    {
     "name": "stderr",
     "output_type": "stream",
     "text": [
      "0: 1120x1984 20 players, 61.9ms\n",
      "Speed: 12.4ms preprocess, 61.9ms inference, 1.4ms postprocess per image at shape (1, 3, 1120, 1984)\n",
      "\n",
      "0: 1120x1984 20 players, 61.5ms\n",
      "Speed: 12.2ms preprocess, 61.5ms inference, 1.3ms postprocess per image at shape (1, 3, 1120, 1984)\n",
      "\n"
     ]
    },
    {
     "name": "stdout",
     "output_type": "stream",
     "text": [
      "[[     123.55      684.26      658.99]\n",
      " [     132.24      504.14      543.95]]\n",
      "394\n",
      "[[     123.55      684.26      658.99]\n",
      " [     132.24      504.14      543.95]]\n",
      "395\n"
     ]
    },
    {
     "name": "stderr",
     "output_type": "stream",
     "text": [
      "0: 1120x1984 20 players, 61.9ms\n",
      "Speed: 13.0ms preprocess, 61.9ms inference, 1.4ms postprocess per image at shape (1, 3, 1120, 1984)\n",
      "\n",
      "0: 1120x1984 20 players, 61.4ms\n",
      "Speed: 12.1ms preprocess, 61.4ms inference, 1.3ms postprocess per image at shape (1, 3, 1120, 1984)\n",
      "\n"
     ]
    },
    {
     "name": "stdout",
     "output_type": "stream",
     "text": [
      "[[     123.55      684.26      658.99]\n",
      " [     132.24      504.14      543.95]]\n",
      "396\n",
      "[[     123.55      684.26      658.99]\n",
      " [     132.24      504.14      543.95]]\n",
      "397\n"
     ]
    },
    {
     "name": "stderr",
     "output_type": "stream",
     "text": [
      "0: 1120x1984 20 players, 61.9ms\n",
      "Speed: 12.0ms preprocess, 61.9ms inference, 1.3ms postprocess per image at shape (1, 3, 1120, 1984)\n",
      "\n",
      "0: 1120x1984 20 players, 61.6ms\n",
      "Speed: 12.4ms preprocess, 61.6ms inference, 1.2ms postprocess per image at shape (1, 3, 1120, 1984)\n",
      "\n"
     ]
    },
    {
     "name": "stdout",
     "output_type": "stream",
     "text": [
      "[[     123.55      684.26      658.99]\n",
      " [     132.24      504.14      543.95]]\n",
      "398\n",
      "[[     123.55      684.26      658.99]\n",
      " [     132.24      504.14      543.95]]\n",
      "399\n"
     ]
    },
    {
     "name": "stderr",
     "output_type": "stream",
     "text": [
      "0: 1120x1984 20 players, 62.0ms\n",
      "Speed: 12.5ms preprocess, 62.0ms inference, 1.2ms postprocess per image at shape (1, 3, 1120, 1984)\n",
      "\n",
      "0: 1120x1984 1 ball, 20 players, 61.7ms\n",
      "Speed: 12.8ms preprocess, 61.7ms inference, 1.2ms postprocess per image at shape (1, 3, 1120, 1984)\n",
      "\n"
     ]
    },
    {
     "name": "stdout",
     "output_type": "stream",
     "text": [
      "[[     123.55      684.26      658.99]\n",
      " [     132.24      504.14      543.95]]\n",
      "400\n",
      "[[     123.55      684.26      658.99]\n",
      " [     132.24      504.14      543.95]]\n",
      "401\n"
     ]
    },
    {
     "name": "stderr",
     "output_type": "stream",
     "text": [
      "0: 1120x1984 1 ball, 20 players, 62.0ms\n",
      "Speed: 12.5ms preprocess, 62.0ms inference, 1.3ms postprocess per image at shape (1, 3, 1120, 1984)\n",
      "\n",
      "0: 1120x1984 1 ball, 21 players, 61.6ms\n",
      "Speed: 12.1ms preprocess, 61.6ms inference, 1.3ms postprocess per image at shape (1, 3, 1120, 1984)\n",
      "\n"
     ]
    },
    {
     "name": "stdout",
     "output_type": "stream",
     "text": [
      "[[     123.55      684.26      658.99]\n",
      " [     132.24      504.14      543.95]]\n",
      "402\n",
      "[[     123.55      684.26      658.99]\n",
      " [     132.24      504.14      543.95]]\n",
      "403\n"
     ]
    },
    {
     "name": "stderr",
     "output_type": "stream",
     "text": [
      "0: 1120x1984 1 ball, 21 players, 63.0ms\n",
      "Speed: 12.0ms preprocess, 63.0ms inference, 1.2ms postprocess per image at shape (1, 3, 1120, 1984)\n",
      "\n",
      "0: 1120x1984 1 ball, 21 players, 61.5ms\n",
      "Speed: 12.0ms preprocess, 61.5ms inference, 1.2ms postprocess per image at shape (1, 3, 1120, 1984)\n",
      "\n"
     ]
    },
    {
     "name": "stdout",
     "output_type": "stream",
     "text": [
      "[[     123.55      684.26      658.99]\n",
      " [     132.24      504.14      543.95]]\n",
      "404\n",
      "[[     123.55      684.26      658.99]\n",
      " [     132.24      504.14      543.95]]\n",
      "405\n"
     ]
    },
    {
     "name": "stderr",
     "output_type": "stream",
     "text": [
      "0: 1120x1984 1 ball, 22 players, 63.1ms\n",
      "Speed: 12.5ms preprocess, 63.1ms inference, 1.2ms postprocess per image at shape (1, 3, 1120, 1984)\n",
      "\n",
      "0: 1120x1984 1 ball, 21 players, 61.7ms\n",
      "Speed: 13.0ms preprocess, 61.7ms inference, 1.2ms postprocess per image at shape (1, 3, 1120, 1984)\n",
      "\n"
     ]
    },
    {
     "name": "stdout",
     "output_type": "stream",
     "text": [
      "[[     123.55      684.26      658.99]\n",
      " [     132.24      504.14      543.95]]\n",
      "406\n",
      "[[     123.55      684.26      658.99]\n",
      " [     132.24      504.14      543.95]]\n",
      "407\n"
     ]
    },
    {
     "name": "stderr",
     "output_type": "stream",
     "text": [
      "0: 1120x1984 1 ball, 21 players, 62.0ms\n",
      "Speed: 13.1ms preprocess, 62.0ms inference, 1.3ms postprocess per image at shape (1, 3, 1120, 1984)\n",
      "\n",
      "0: 1120x1984 2 balls, 21 players, 61.6ms\n",
      "Speed: 12.6ms preprocess, 61.6ms inference, 1.2ms postprocess per image at shape (1, 3, 1120, 1984)\n",
      "\n"
     ]
    },
    {
     "name": "stdout",
     "output_type": "stream",
     "text": [
      "[[     123.55      684.26      658.99]\n",
      " [     132.24      504.14      543.95]]\n",
      "408\n",
      "[[     123.55      684.26      658.99]\n",
      " [     132.24      504.14      543.95]]\n",
      "409\n"
     ]
    },
    {
     "name": "stderr",
     "output_type": "stream",
     "text": [
      "0: 1120x1984 2 balls, 21 players, 63.2ms\n",
      "Speed: 12.6ms preprocess, 63.2ms inference, 1.2ms postprocess per image at shape (1, 3, 1120, 1984)\n",
      "\n",
      "0: 1120x1984 1 ball, 22 players, 61.9ms\n",
      "Speed: 12.3ms preprocess, 61.9ms inference, 1.3ms postprocess per image at shape (1, 3, 1120, 1984)\n",
      "\n"
     ]
    },
    {
     "name": "stdout",
     "output_type": "stream",
     "text": [
      "[[     123.55      684.26      658.99]\n",
      " [     132.24      504.14      543.95]]\n",
      "410\n",
      "[[     123.55      684.26      658.99]\n",
      " [     132.24      504.14      543.95]]\n",
      "411\n"
     ]
    },
    {
     "name": "stderr",
     "output_type": "stream",
     "text": [
      "0: 1120x1984 3 balls, 22 players, 61.8ms\n",
      "Speed: 12.2ms preprocess, 61.8ms inference, 1.3ms postprocess per image at shape (1, 3, 1120, 1984)\n",
      "\n",
      "0: 1120x1984 1 ball, 22 players, 61.7ms\n",
      "Speed: 12.0ms preprocess, 61.7ms inference, 1.3ms postprocess per image at shape (1, 3, 1120, 1984)\n",
      "\n"
     ]
    },
    {
     "name": "stdout",
     "output_type": "stream",
     "text": [
      "[[     123.55      684.26      658.99]\n",
      " [     132.24      504.14      543.95]]\n",
      "412\n",
      "[[     123.55      684.26      658.99]\n",
      " [     132.24      504.14      543.95]]\n",
      "413\n"
     ]
    },
    {
     "name": "stderr",
     "output_type": "stream",
     "text": [
      "0: 1120x1984 1 ball, 22 players, 62.1ms\n",
      "Speed: 12.0ms preprocess, 62.1ms inference, 1.2ms postprocess per image at shape (1, 3, 1120, 1984)\n",
      "\n",
      "0: 1120x1984 1 ball, 22 players, 61.5ms\n",
      "Speed: 12.3ms preprocess, 61.5ms inference, 1.2ms postprocess per image at shape (1, 3, 1120, 1984)\n",
      "\n"
     ]
    },
    {
     "name": "stdout",
     "output_type": "stream",
     "text": [
      "[[     123.55      684.26      658.99]\n",
      " [     132.24      504.14      543.95]]\n",
      "414\n",
      "[[     123.55      684.26      658.99]\n",
      " [     132.24      504.14      543.95]]\n",
      "415\n"
     ]
    },
    {
     "name": "stderr",
     "output_type": "stream",
     "text": [
      "0: 1120x1984 1 ball, 22 players, 61.8ms\n",
      "Speed: 12.1ms preprocess, 61.8ms inference, 1.2ms postprocess per image at shape (1, 3, 1120, 1984)\n",
      "\n",
      "0: 1120x1984 1 ball, 22 players, 61.5ms\n",
      "Speed: 12.8ms preprocess, 61.5ms inference, 1.2ms postprocess per image at shape (1, 3, 1120, 1984)\n",
      "\n"
     ]
    },
    {
     "name": "stdout",
     "output_type": "stream",
     "text": [
      "[[     123.55      684.26      658.99]\n",
      " [     132.24      504.14      543.95]]\n",
      "416\n",
      "[[     123.55      684.26      658.99]\n",
      " [     132.24      504.14      543.95]]\n",
      "417\n"
     ]
    },
    {
     "name": "stderr",
     "output_type": "stream",
     "text": [
      "0: 1120x1984 1 ball, 22 players, 62.2ms\n",
      "Speed: 12.2ms preprocess, 62.2ms inference, 1.3ms postprocess per image at shape (1, 3, 1120, 1984)\n",
      "\n",
      "0: 1120x1984 1 ball, 22 players, 61.6ms\n",
      "Speed: 12.3ms preprocess, 61.6ms inference, 1.3ms postprocess per image at shape (1, 3, 1120, 1984)\n",
      "\n"
     ]
    },
    {
     "name": "stdout",
     "output_type": "stream",
     "text": [
      "[[     123.55      684.26      658.99]\n",
      " [     132.24      504.14      543.95]]\n",
      "418\n",
      "[[     123.55      684.26      658.99]\n",
      " [     132.24      504.14      543.95]]\n",
      "419\n"
     ]
    },
    {
     "name": "stderr",
     "output_type": "stream",
     "text": [
      "0: 1120x1984 1 ball, 22 players, 62.0ms\n",
      "Speed: 12.0ms preprocess, 62.0ms inference, 1.2ms postprocess per image at shape (1, 3, 1120, 1984)\n",
      "\n",
      "0: 1120x1984 1 ball, 22 players, 61.4ms\n",
      "Speed: 13.0ms preprocess, 61.4ms inference, 1.2ms postprocess per image at shape (1, 3, 1120, 1984)\n",
      "\n"
     ]
    },
    {
     "name": "stdout",
     "output_type": "stream",
     "text": [
      "[[     123.55      684.26      658.99]\n",
      " [     132.24      504.14      543.95]]\n",
      "420\n",
      "[[     123.55      684.26      658.99]\n",
      " [     132.24      504.14      543.95]]\n",
      "421\n"
     ]
    },
    {
     "name": "stderr",
     "output_type": "stream",
     "text": [
      "0: 1120x1984 1 ball, 22 players, 62.0ms\n",
      "Speed: 12.7ms preprocess, 62.0ms inference, 1.4ms postprocess per image at shape (1, 3, 1120, 1984)\n",
      "\n",
      "0: 1120x1984 1 ball, 23 players, 61.6ms\n",
      "Speed: 12.6ms preprocess, 61.6ms inference, 1.2ms postprocess per image at shape (1, 3, 1120, 1984)\n",
      "\n"
     ]
    },
    {
     "name": "stdout",
     "output_type": "stream",
     "text": [
      "[[     123.55      684.26      658.99]\n",
      " [     132.24      504.14      543.95]]\n",
      "422\n",
      "[[     123.55      684.26      658.99]\n",
      " [     132.24      504.14      543.95]]\n",
      "423\n"
     ]
    },
    {
     "name": "stderr",
     "output_type": "stream",
     "text": [
      "0: 1120x1984 1 ball, 23 players, 61.7ms\n",
      "Speed: 12.6ms preprocess, 61.7ms inference, 1.3ms postprocess per image at shape (1, 3, 1120, 1984)\n",
      "\n",
      "0: 1120x1984 23 players, 61.5ms\n",
      "Speed: 12.1ms preprocess, 61.5ms inference, 1.2ms postprocess per image at shape (1, 3, 1120, 1984)\n",
      "\n"
     ]
    },
    {
     "name": "stdout",
     "output_type": "stream",
     "text": [
      "[[     123.55      684.26      658.99]\n",
      " [     132.24      504.14      543.95]]\n",
      "424\n",
      "[[     123.55      684.26      658.99]\n",
      " [     132.24      504.14      543.95]]\n",
      "425\n"
     ]
    },
    {
     "name": "stderr",
     "output_type": "stream",
     "text": [
      "0: 1120x1984 23 players, 61.9ms\n",
      "Speed: 12.1ms preprocess, 61.9ms inference, 1.3ms postprocess per image at shape (1, 3, 1120, 1984)\n",
      "\n",
      "0: 1120x1984 23 players, 61.7ms\n",
      "Speed: 12.7ms preprocess, 61.7ms inference, 1.2ms postprocess per image at shape (1, 3, 1120, 1984)\n",
      "\n"
     ]
    },
    {
     "name": "stdout",
     "output_type": "stream",
     "text": [
      "[[     123.55      684.26      658.99]\n",
      " [     132.24      504.14      543.95]]\n",
      "426\n",
      "[[     123.55      684.26      658.99]\n",
      " [     132.24      504.14      543.95]]\n",
      "427\n"
     ]
    },
    {
     "name": "stderr",
     "output_type": "stream",
     "text": [
      "0: 1120x1984 23 players, 63.1ms\n",
      "Speed: 12.0ms preprocess, 63.1ms inference, 1.2ms postprocess per image at shape (1, 3, 1120, 1984)\n",
      "\n",
      "0: 1120x1984 1 ball, 23 players, 61.5ms\n",
      "Speed: 12.6ms preprocess, 61.5ms inference, 1.3ms postprocess per image at shape (1, 3, 1120, 1984)\n",
      "\n"
     ]
    },
    {
     "name": "stdout",
     "output_type": "stream",
     "text": [
      "[[     123.55      684.26      658.99]\n",
      " [     132.24      504.14      543.95]]\n",
      "428\n",
      "[[     123.55      684.26      658.99]\n",
      " [     132.24      504.14      543.95]]\n",
      "429\n"
     ]
    },
    {
     "name": "stderr",
     "output_type": "stream",
     "text": [
      "0: 1120x1984 1 ball, 23 players, 62.1ms\n",
      "Speed: 12.5ms preprocess, 62.1ms inference, 1.3ms postprocess per image at shape (1, 3, 1120, 1984)\n",
      "\n",
      "0: 1120x1984 1 ball, 23 players, 61.5ms\n",
      "Speed: 13.1ms preprocess, 61.5ms inference, 1.3ms postprocess per image at shape (1, 3, 1120, 1984)\n",
      "\n"
     ]
    },
    {
     "name": "stdout",
     "output_type": "stream",
     "text": [
      "[[     123.55      684.26      658.99]\n",
      " [     132.24      504.14      543.95]]\n",
      "430\n",
      "[[     123.55      684.26      658.99]\n",
      " [     132.24      504.14      543.95]]\n",
      "431\n"
     ]
    },
    {
     "name": "stderr",
     "output_type": "stream",
     "text": [
      "0: 1120x1984 23 players, 62.0ms\n",
      "Speed: 13.1ms preprocess, 62.0ms inference, 1.2ms postprocess per image at shape (1, 3, 1120, 1984)\n",
      "\n",
      "0: 1120x1984 1 ball, 23 players, 61.5ms\n",
      "Speed: 12.1ms preprocess, 61.5ms inference, 1.3ms postprocess per image at shape (1, 3, 1120, 1984)\n",
      "\n"
     ]
    },
    {
     "name": "stdout",
     "output_type": "stream",
     "text": [
      "[[     123.55      684.26      658.99]\n",
      " [     132.24      504.14      543.95]]\n",
      "432\n",
      "[[     123.55      684.26      658.99]\n",
      " [     132.24      504.14      543.95]]\n",
      "433\n"
     ]
    },
    {
     "name": "stderr",
     "output_type": "stream",
     "text": [
      "0: 1120x1984 23 players, 62.1ms\n",
      "Speed: 11.9ms preprocess, 62.1ms inference, 1.3ms postprocess per image at shape (1, 3, 1120, 1984)\n",
      "\n",
      "0: 1120x1984 1 ball, 23 players, 61.6ms\n",
      "Speed: 12.7ms preprocess, 61.6ms inference, 1.2ms postprocess per image at shape (1, 3, 1120, 1984)\n"
     ]
    },
    {
     "name": "stdout",
     "output_type": "stream",
     "text": [
      "[[     123.55      684.26      658.99]\n",
      " [     132.24      504.14      543.95]]\n",
      "434\n",
      "[[     123.55      684.26      658.99]\n",
      " [     132.24      504.14      543.95]]\n"
     ]
    },
    {
     "name": "stderr",
     "output_type": "stream",
     "text": [
      "\n",
      "0: 1120x1984 1 ball, 24 players, 61.5ms\n",
      "Speed: 11.9ms preprocess, 61.5ms inference, 1.2ms postprocess per image at shape (1, 3, 1120, 1984)\n",
      "\n"
     ]
    },
    {
     "name": "stdout",
     "output_type": "stream",
     "text": [
      "435\n",
      "[[     123.55      684.26      658.99]\n",
      " [     132.24      504.14      543.95]]\n",
      "436\n"
     ]
    },
    {
     "name": "stderr",
     "output_type": "stream",
     "text": [
      "0: 1120x1984 1 ball, 24 players, 61.8ms\n",
      "Speed: 12.4ms preprocess, 61.8ms inference, 1.4ms postprocess per image at shape (1, 3, 1120, 1984)\n",
      "\n",
      "0: 1120x1984 1 ball, 23 players, 61.7ms\n",
      "Speed: 12.4ms preprocess, 61.7ms inference, 1.3ms postprocess per image at shape (1, 3, 1120, 1984)\n",
      "\n"
     ]
    },
    {
     "name": "stdout",
     "output_type": "stream",
     "text": [
      "[[     123.55      684.26      658.99]\n",
      " [     132.24      504.14      543.95]]\n",
      "437\n",
      "[[     123.55      684.26      658.99]\n",
      " [     132.24      504.14      543.95]]\n",
      "438\n"
     ]
    },
    {
     "name": "stderr",
     "output_type": "stream",
     "text": [
      "0: 1120x1984 1 ball, 23 players, 61.8ms\n",
      "Speed: 12.5ms preprocess, 61.8ms inference, 1.2ms postprocess per image at shape (1, 3, 1120, 1984)\n",
      "\n",
      "0: 1120x1984 1 ball, 23 players, 61.5ms\n",
      "Speed: 12.5ms preprocess, 61.5ms inference, 1.3ms postprocess per image at shape (1, 3, 1120, 1984)\n",
      "\n"
     ]
    },
    {
     "name": "stdout",
     "output_type": "stream",
     "text": [
      "[[     123.55      684.26      658.99]\n",
      " [     132.24      504.14      543.95]]\n",
      "439\n",
      "[[     123.55      684.26      658.99]\n",
      " [     132.24      504.14      543.95]]\n",
      "440\n"
     ]
    },
    {
     "name": "stderr",
     "output_type": "stream",
     "text": [
      "0: 1120x1984 2 balls, 23 players, 61.6ms\n",
      "Speed: 13.2ms preprocess, 61.6ms inference, 1.2ms postprocess per image at shape (1, 3, 1120, 1984)\n",
      "\n",
      "0: 1120x1984 2 balls, 23 players, 61.7ms\n",
      "Speed: 12.0ms preprocess, 61.7ms inference, 1.2ms postprocess per image at shape (1, 3, 1120, 1984)\n",
      "\n"
     ]
    },
    {
     "name": "stdout",
     "output_type": "stream",
     "text": [
      "[[     123.55      684.26      658.99]\n",
      " [     132.24      504.14      543.95]]\n",
      "441\n",
      "[[     123.55      684.26      658.99]\n",
      " [     132.24      504.14      543.95]]\n",
      "442\n"
     ]
    },
    {
     "name": "stderr",
     "output_type": "stream",
     "text": [
      "0: 1120x1984 2 balls, 23 players, 61.6ms\n",
      "Speed: 12.2ms preprocess, 61.6ms inference, 1.3ms postprocess per image at shape (1, 3, 1120, 1984)\n",
      "\n",
      "0: 1120x1984 2 balls, 23 players, 61.7ms\n",
      "Speed: 11.9ms preprocess, 61.7ms inference, 1.3ms postprocess per image at shape (1, 3, 1120, 1984)\n",
      "\n"
     ]
    },
    {
     "name": "stdout",
     "output_type": "stream",
     "text": [
      "[[     123.55      684.26      658.99]\n",
      " [     132.24      504.14      543.95]]\n",
      "443\n",
      "[[     123.55      684.26      658.99]\n",
      " [     132.24      504.14      543.95]]\n",
      "444\n"
     ]
    },
    {
     "name": "stderr",
     "output_type": "stream",
     "text": [
      "0: 1120x1984 1 ball, 23 players, 61.9ms\n",
      "Speed: 12.1ms preprocess, 61.9ms inference, 1.2ms postprocess per image at shape (1, 3, 1120, 1984)\n",
      "\n",
      "0: 1120x1984 1 ball, 23 players, 61.6ms\n",
      "Speed: 12.2ms preprocess, 61.6ms inference, 1.2ms postprocess per image at shape (1, 3, 1120, 1984)\n",
      "\n"
     ]
    },
    {
     "name": "stdout",
     "output_type": "stream",
     "text": [
      "[[     123.55      684.26      658.99]\n",
      " [     132.24      504.14      543.95]]\n",
      "445\n",
      "[[     123.55      684.26      658.99]\n",
      " [     132.24      504.14      543.95]]\n",
      "446\n"
     ]
    },
    {
     "name": "stderr",
     "output_type": "stream",
     "text": [
      "0: 1120x1984 1 ball, 23 players, 62.3ms\n",
      "Speed: 12.3ms preprocess, 62.3ms inference, 1.8ms postprocess per image at shape (1, 3, 1120, 1984)\n",
      "\n",
      "0: 1120x1984 1 ball, 23 players, 61.8ms\n",
      "Speed: 12.0ms preprocess, 61.8ms inference, 1.3ms postprocess per image at shape (1, 3, 1120, 1984)\n",
      "\n"
     ]
    },
    {
     "name": "stdout",
     "output_type": "stream",
     "text": [
      "[[     123.55      684.26      658.99]\n",
      " [     132.24      504.14      543.95]]\n",
      "447\n",
      "[[     123.55      684.26      658.99]\n",
      " [     132.24      504.14      543.95]]\n",
      "448\n"
     ]
    },
    {
     "name": "stderr",
     "output_type": "stream",
     "text": [
      "0: 1120x1984 1 ball, 23 players, 61.5ms\n",
      "Speed: 12.9ms preprocess, 61.5ms inference, 1.2ms postprocess per image at shape (1, 3, 1120, 1984)\n",
      "\n",
      "0: 1120x1984 1 ball, 23 players, 61.4ms\n",
      "Speed: 12.8ms preprocess, 61.4ms inference, 1.3ms postprocess per image at shape (1, 3, 1120, 1984)\n",
      "\n"
     ]
    },
    {
     "name": "stdout",
     "output_type": "stream",
     "text": [
      "[[     123.55      684.26      658.99]\n",
      " [     132.24      504.14      543.95]]\n",
      "449\n",
      "[[     123.55      684.26      658.99]\n",
      " [     132.24      504.14      543.95]]\n",
      "450\n"
     ]
    },
    {
     "name": "stderr",
     "output_type": "stream",
     "text": [
      "0: 1120x1984 1 ball, 24 players, 61.6ms\n",
      "Speed: 12.5ms preprocess, 61.6ms inference, 1.2ms postprocess per image at shape (1, 3, 1120, 1984)\n",
      "\n",
      "0: 1120x1984 1 ball, 22 players, 61.4ms\n",
      "Speed: 12.6ms preprocess, 61.4ms inference, 1.2ms postprocess per image at shape (1, 3, 1120, 1984)\n",
      "\n"
     ]
    },
    {
     "name": "stdout",
     "output_type": "stream",
     "text": [
      "[[     123.55      684.26      658.99]\n",
      " [     132.24      504.14      543.95]]\n",
      "451\n",
      "[[     123.55      684.26      658.99]\n",
      " [     132.24      504.14      543.95]]\n",
      "452\n"
     ]
    },
    {
     "name": "stderr",
     "output_type": "stream",
     "text": [
      "0: 1120x1984 1 ball, 22 players, 61.9ms\n",
      "Speed: 12.2ms preprocess, 61.9ms inference, 1.4ms postprocess per image at shape (1, 3, 1120, 1984)\n",
      "\n",
      "0: 1120x1984 1 ball, 23 players, 61.8ms\n",
      "Speed: 21.5ms preprocess, 61.8ms inference, 1.4ms postprocess per image at shape (1, 3, 1120, 1984)\n"
     ]
    },
    {
     "name": "stdout",
     "output_type": "stream",
     "text": [
      "[[     123.55      684.26      658.99]\n",
      " [     132.24      504.14      543.95]]\n",
      "453\n",
      "[[     123.55      684.26      658.99]\n",
      " [     132.24      504.14      543.95]]\n",
      "454\n"
     ]
    },
    {
     "name": "stderr",
     "output_type": "stream",
     "text": [
      "\n",
      "0: 1120x1984 1 ball, 23 players, 61.6ms\n",
      "Speed: 11.9ms preprocess, 61.6ms inference, 1.2ms postprocess per image at shape (1, 3, 1120, 1984)\n",
      "\n",
      "0: 1120x1984 1 ball, 21 players, 61.6ms\n",
      "Speed: 12.4ms preprocess, 61.6ms inference, 1.3ms postprocess per image at shape (1, 3, 1120, 1984)\n",
      "\n"
     ]
    },
    {
     "name": "stdout",
     "output_type": "stream",
     "text": [
      "[[     123.55      684.26      658.99]\n",
      " [     132.24      504.14      543.95]]\n",
      "455\n",
      "[[     123.55      684.26      658.99]\n",
      " [     132.24      504.14      543.95]]\n",
      "456\n"
     ]
    },
    {
     "name": "stderr",
     "output_type": "stream",
     "text": [
      "0: 1120x1984 1 ball, 21 players, 61.8ms\n",
      "Speed: 12.6ms preprocess, 61.8ms inference, 1.2ms postprocess per image at shape (1, 3, 1120, 1984)\n",
      "\n",
      "0: 1120x1984 2 balls, 22 players, 61.7ms\n",
      "Speed: 12.7ms preprocess, 61.7ms inference, 1.3ms postprocess per image at shape (1, 3, 1120, 1984)\n",
      "\n"
     ]
    },
    {
     "name": "stdout",
     "output_type": "stream",
     "text": [
      "[[     123.55      684.26      658.99]\n",
      " [     132.24      504.14      543.95]]\n",
      "457\n",
      "[[     123.55      684.26      658.99]\n",
      " [     132.24      504.14      543.95]]\n",
      "458\n"
     ]
    },
    {
     "name": "stderr",
     "output_type": "stream",
     "text": [
      "0: 1120x1984 1 ball, 22 players, 62.1ms\n",
      "Speed: 13.2ms preprocess, 62.1ms inference, 1.2ms postprocess per image at shape (1, 3, 1120, 1984)\n",
      "\n",
      "0: 1120x1984 1 ball, 22 players, 61.7ms\n",
      "Speed: 12.4ms preprocess, 61.7ms inference, 1.3ms postprocess per image at shape (1, 3, 1120, 1984)\n",
      "\n"
     ]
    },
    {
     "name": "stdout",
     "output_type": "stream",
     "text": [
      "[[     123.55      684.26      658.99]\n",
      " [     132.24      504.14      543.95]]\n",
      "459\n",
      "[[     123.55      684.26      658.99]\n",
      " [     132.24      504.14      543.95]]\n",
      "460\n"
     ]
    },
    {
     "name": "stderr",
     "output_type": "stream",
     "text": [
      "0: 1120x1984 1 ball, 22 players, 61.9ms\n",
      "Speed: 12.0ms preprocess, 61.9ms inference, 1.3ms postprocess per image at shape (1, 3, 1120, 1984)\n",
      "\n",
      "0: 1120x1984 1 ball, 22 players, 61.5ms\n",
      "Speed: 11.9ms preprocess, 61.5ms inference, 1.3ms postprocess per image at shape (1, 3, 1120, 1984)\n",
      "\n"
     ]
    },
    {
     "name": "stdout",
     "output_type": "stream",
     "text": [
      "[[     123.55      684.26      658.99]\n",
      " [     132.24      504.14      543.95]]\n",
      "461\n",
      "[[     123.55      684.26      658.99]\n",
      " [     132.24      504.14      543.95]]\n",
      "462\n"
     ]
    },
    {
     "name": "stderr",
     "output_type": "stream",
     "text": [
      "0: 1120x1984 1 ball, 24 players, 61.9ms\n",
      "Speed: 11.9ms preprocess, 61.9ms inference, 1.3ms postprocess per image at shape (1, 3, 1120, 1984)\n",
      "\n",
      "0: 1120x1984 1 ball, 22 players, 61.7ms\n",
      "Speed: 11.9ms preprocess, 61.7ms inference, 1.2ms postprocess per image at shape (1, 3, 1120, 1984)\n",
      "\n"
     ]
    },
    {
     "name": "stdout",
     "output_type": "stream",
     "text": [
      "[[     123.55      684.26      658.99]\n",
      " [     132.24      504.14      543.95]]\n",
      "463\n",
      "[[     123.55      684.26      658.99]\n",
      " [     132.24      504.14      543.95]]\n",
      "464\n"
     ]
    },
    {
     "name": "stderr",
     "output_type": "stream",
     "text": [
      "0: 1120x1984 1 ball, 22 players, 61.9ms\n",
      "Speed: 12.3ms preprocess, 61.9ms inference, 1.4ms postprocess per image at shape (1, 3, 1120, 1984)\n",
      "\n",
      "0: 1120x1984 1 ball, 22 players, 61.4ms\n",
      "Speed: 12.3ms preprocess, 61.4ms inference, 1.3ms postprocess per image at shape (1, 3, 1120, 1984)\n",
      "\n"
     ]
    },
    {
     "name": "stdout",
     "output_type": "stream",
     "text": [
      "[[     123.55      684.26      658.99]\n",
      " [     132.24      504.14      543.95]]\n",
      "465\n",
      "[[     123.55      684.26      658.99]\n",
      " [     132.24      504.14      543.95]]\n",
      "466\n"
     ]
    },
    {
     "name": "stderr",
     "output_type": "stream",
     "text": [
      "0: 1120x1984 1 ball, 24 players, 63.2ms\n",
      "Speed: 12.4ms preprocess, 63.2ms inference, 1.2ms postprocess per image at shape (1, 3, 1120, 1984)\n",
      "\n",
      "0: 1120x1984 1 ball, 23 players, 61.5ms\n",
      "Speed: 12.4ms preprocess, 61.5ms inference, 1.3ms postprocess per image at shape (1, 3, 1120, 1984)\n",
      "\n"
     ]
    },
    {
     "name": "stdout",
     "output_type": "stream",
     "text": [
      "[[     123.55      684.26      658.99]\n",
      " [     132.24      504.14      543.95]]\n",
      "467\n",
      "[[     123.55      684.26      658.99]\n",
      " [     132.24      504.14      543.95]]\n",
      "468\n"
     ]
    },
    {
     "name": "stderr",
     "output_type": "stream",
     "text": [
      "0: 1120x1984 1 ball, 23 players, 62.0ms\n",
      "Speed: 12.5ms preprocess, 62.0ms inference, 1.3ms postprocess per image at shape (1, 3, 1120, 1984)\n",
      "\n",
      "0: 1120x1984 1 ball, 23 players, 61.6ms\n",
      "Speed: 12.5ms preprocess, 61.6ms inference, 1.2ms postprocess per image at shape (1, 3, 1120, 1984)\n",
      "\n"
     ]
    },
    {
     "name": "stdout",
     "output_type": "stream",
     "text": [
      "[[     123.55      684.26      658.99]\n",
      " [     132.24      504.14      543.95]]\n",
      "469\n",
      "[[     123.55      684.26      658.99]\n",
      " [     132.24      504.14      543.95]]\n",
      "470\n"
     ]
    },
    {
     "name": "stderr",
     "output_type": "stream",
     "text": [
      "0: 1120x1984 1 ball, 23 players, 61.9ms\n",
      "Speed: 12.4ms preprocess, 61.9ms inference, 1.3ms postprocess per image at shape (1, 3, 1120, 1984)\n",
      "\n",
      "0: 1120x1984 1 ball, 23 players, 61.8ms\n",
      "Speed: 12.4ms preprocess, 61.8ms inference, 1.6ms postprocess per image at shape (1, 3, 1120, 1984)\n",
      "\n"
     ]
    },
    {
     "name": "stdout",
     "output_type": "stream",
     "text": [
      "[[     123.55      684.26      658.99]\n",
      " [     132.24      504.14      543.95]]\n",
      "471\n",
      "[[     123.55      684.26      658.99]\n",
      " [     132.24      504.14      543.95]]\n",
      "472\n"
     ]
    },
    {
     "name": "stderr",
     "output_type": "stream",
     "text": [
      "0: 1120x1984 1 ball, 23 players, 61.5ms\n",
      "Speed: 12.3ms preprocess, 61.5ms inference, 1.2ms postprocess per image at shape (1, 3, 1120, 1984)\n",
      "\n",
      "0: 1120x1984 1 ball, 23 players, 61.9ms\n",
      "Speed: 12.6ms preprocess, 61.9ms inference, 1.3ms postprocess per image at shape (1, 3, 1120, 1984)\n",
      "\n"
     ]
    },
    {
     "name": "stdout",
     "output_type": "stream",
     "text": [
      "[[     123.55      684.26      658.99]\n",
      " [     132.24      504.14      543.95]]\n",
      "473\n",
      "[[     123.55      684.26      658.99]\n",
      " [     132.24      504.14      543.95]]\n",
      "474\n"
     ]
    },
    {
     "name": "stderr",
     "output_type": "stream",
     "text": [
      "0: 1120x1984 1 ball, 23 players, 62.0ms\n",
      "Speed: 11.8ms preprocess, 62.0ms inference, 1.3ms postprocess per image at shape (1, 3, 1120, 1984)\n",
      "\n",
      "0: 1120x1984 1 ball, 23 players, 61.5ms\n",
      "Speed: 11.9ms preprocess, 61.5ms inference, 1.2ms postprocess per image at shape (1, 3, 1120, 1984)\n",
      "\n"
     ]
    },
    {
     "name": "stdout",
     "output_type": "stream",
     "text": [
      "[[     123.55      684.26      658.99]\n",
      " [     132.24      504.14      543.95]]\n",
      "475\n",
      "[[     123.55      684.26      658.99]\n",
      " [     132.24      504.14      543.95]]\n",
      "476\n"
     ]
    },
    {
     "name": "stderr",
     "output_type": "stream",
     "text": [
      "0: 1120x1984 1 ball, 23 players, 61.4ms\n",
      "Speed: 12.5ms preprocess, 61.4ms inference, 1.3ms postprocess per image at shape (1, 3, 1120, 1984)\n",
      "\n",
      "0: 1120x1984 1 ball, 23 players, 61.6ms\n",
      "Speed: 12.4ms preprocess, 61.6ms inference, 1.3ms postprocess per image at shape (1, 3, 1120, 1984)\n",
      "\n"
     ]
    },
    {
     "name": "stdout",
     "output_type": "stream",
     "text": [
      "[[     123.55      684.26      658.99]\n",
      " [     132.24      504.14      543.95]]\n",
      "477\n",
      "[[     123.55      684.26      658.99]\n",
      " [     132.24      504.14      543.95]]\n",
      "478\n"
     ]
    },
    {
     "name": "stderr",
     "output_type": "stream",
     "text": [
      "0: 1120x1984 1 ball, 23 players, 62.0ms\n",
      "Speed: 12.4ms preprocess, 62.0ms inference, 1.3ms postprocess per image at shape (1, 3, 1120, 1984)\n",
      "\n",
      "0: 1120x1984 1 ball, 23 players, 61.5ms\n",
      "Speed: 12.3ms preprocess, 61.5ms inference, 1.2ms postprocess per image at shape (1, 3, 1120, 1984)\n",
      "\n"
     ]
    },
    {
     "name": "stdout",
     "output_type": "stream",
     "text": [
      "[[     123.55      684.26      658.99]\n",
      " [     132.24      504.14      543.95]]\n",
      "479\n",
      "[[     123.55      684.26      658.99]\n",
      " [     132.24      504.14      543.95]]\n",
      "480\n"
     ]
    },
    {
     "name": "stderr",
     "output_type": "stream",
     "text": [
      "0: 1120x1984 1 ball, 23 players, 62.3ms\n",
      "Speed: 11.9ms preprocess, 62.3ms inference, 1.3ms postprocess per image at shape (1, 3, 1120, 1984)\n",
      "\n",
      "0: 1120x1984 1 ball, 23 players, 61.6ms\n",
      "Speed: 11.9ms preprocess, 61.6ms inference, 1.2ms postprocess per image at shape (1, 3, 1120, 1984)\n",
      "\n"
     ]
    },
    {
     "name": "stdout",
     "output_type": "stream",
     "text": [
      "[[     123.55      684.26      658.99]\n",
      " [     132.24      504.14      543.95]]\n",
      "481\n",
      "[[     123.55      684.26      658.99]\n",
      " [     132.24      504.14      543.95]]\n",
      "482\n"
     ]
    },
    {
     "name": "stderr",
     "output_type": "stream",
     "text": [
      "0: 1120x1984 1 ball, 23 players, 63.0ms\n",
      "Speed: 11.8ms preprocess, 63.0ms inference, 1.3ms postprocess per image at shape (1, 3, 1120, 1984)\n",
      "\n",
      "0: 1120x1984 1 ball, 23 players, 61.8ms\n",
      "Speed: 11.9ms preprocess, 61.8ms inference, 1.3ms postprocess per image at shape (1, 3, 1120, 1984)\n",
      "\n"
     ]
    },
    {
     "name": "stdout",
     "output_type": "stream",
     "text": [
      "[[     123.55      684.26      658.99]\n",
      " [     132.24      504.14      543.95]]\n",
      "483\n",
      "[[     123.55      684.26      658.99]\n",
      " [     132.24      504.14      543.95]]\n",
      "484\n"
     ]
    },
    {
     "name": "stderr",
     "output_type": "stream",
     "text": [
      "0: 1120x1984 1 ball, 23 players, 61.6ms\n",
      "Speed: 12.8ms preprocess, 61.6ms inference, 1.2ms postprocess per image at shape (1, 3, 1120, 1984)\n",
      "\n",
      "0: 1120x1984 1 ball, 23 players, 61.6ms\n",
      "Speed: 12.6ms preprocess, 61.6ms inference, 1.3ms postprocess per image at shape (1, 3, 1120, 1984)\n",
      "\n"
     ]
    },
    {
     "name": "stdout",
     "output_type": "stream",
     "text": [
      "[[     123.55      684.26      658.99]\n",
      " [     132.24      504.14      543.95]]\n",
      "485\n",
      "[[     123.55      684.26      658.99]\n",
      " [     132.24      504.14      543.95]]\n",
      "486\n"
     ]
    },
    {
     "name": "stderr",
     "output_type": "stream",
     "text": [
      "0: 1120x1984 1 ball, 23 players, 61.8ms\n",
      "Speed: 12.9ms preprocess, 61.8ms inference, 1.2ms postprocess per image at shape (1, 3, 1120, 1984)\n",
      "\n",
      "0: 1120x1984 1 ball, 23 players, 61.6ms\n",
      "Speed: 12.3ms preprocess, 61.6ms inference, 1.3ms postprocess per image at shape (1, 3, 1120, 1984)\n"
     ]
    },
    {
     "name": "stdout",
     "output_type": "stream",
     "text": [
      "[[     123.55      684.26      658.99]\n",
      " [     132.24      504.14      543.95]]\n",
      "487\n",
      "[[     123.55      684.26      658.99]\n",
      " [     132.24      504.14      543.95]]\n"
     ]
    },
    {
     "name": "stderr",
     "output_type": "stream",
     "text": [
      "\n",
      "0: 1120x1984 1 ball, 23 players, 61.6ms\n",
      "Speed: 12.2ms preprocess, 61.6ms inference, 1.3ms postprocess per image at shape (1, 3, 1120, 1984)\n",
      "\n"
     ]
    },
    {
     "name": "stdout",
     "output_type": "stream",
     "text": [
      "488\n",
      "[[     123.55      684.26      658.99]\n",
      " [     132.24      504.14      543.95]]\n",
      "489\n"
     ]
    },
    {
     "name": "stderr",
     "output_type": "stream",
     "text": [
      "0: 1120x1984 1 ball, 23 players, 62.0ms\n",
      "Speed: 11.9ms preprocess, 62.0ms inference, 1.3ms postprocess per image at shape (1, 3, 1120, 1984)\n",
      "\n",
      "0: 1120x1984 1 ball, 23 players, 61.3ms\n",
      "Speed: 12.0ms preprocess, 61.3ms inference, 1.2ms postprocess per image at shape (1, 3, 1120, 1984)\n",
      "\n"
     ]
    },
    {
     "name": "stdout",
     "output_type": "stream",
     "text": [
      "[[     123.55      684.26      658.99]\n",
      " [     132.24      504.14      543.95]]\n",
      "490\n",
      "[[     123.55      684.26      658.99]\n",
      " [     132.24      504.14      543.95]]\n",
      "491\n"
     ]
    },
    {
     "name": "stderr",
     "output_type": "stream",
     "text": [
      "0: 1120x1984 1 ball, 23 players, 62.0ms\n",
      "Speed: 12.0ms preprocess, 62.0ms inference, 1.3ms postprocess per image at shape (1, 3, 1120, 1984)\n",
      "\n",
      "0: 1120x1984 1 ball, 23 players, 61.7ms\n",
      "Speed: 12.6ms preprocess, 61.7ms inference, 1.2ms postprocess per image at shape (1, 3, 1120, 1984)\n",
      "\n"
     ]
    },
    {
     "name": "stdout",
     "output_type": "stream",
     "text": [
      "[[     123.55      684.26      658.99]\n",
      " [     132.24      504.14      543.95]]\n",
      "492\n",
      "[[     123.55      684.26      658.99]\n",
      " [     132.24      504.14      543.95]]\n",
      "493\n"
     ]
    },
    {
     "name": "stderr",
     "output_type": "stream",
     "text": [
      "0: 1120x1984 1 ball, 23 players, 61.9ms\n",
      "Speed: 12.5ms preprocess, 61.9ms inference, 1.3ms postprocess per image at shape (1, 3, 1120, 1984)\n",
      "\n",
      "0: 1120x1984 1 ball, 23 players, 61.4ms\n",
      "Speed: 12.4ms preprocess, 61.4ms inference, 1.2ms postprocess per image at shape (1, 3, 1120, 1984)\n",
      "\n"
     ]
    },
    {
     "name": "stdout",
     "output_type": "stream",
     "text": [
      "[[     123.55      684.26      658.99]\n",
      " [     132.24      504.14      543.95]]\n",
      "494\n",
      "[[     123.55      684.26      658.99]\n",
      " [     132.24      504.14      543.95]]\n",
      "495\n"
     ]
    },
    {
     "name": "stderr",
     "output_type": "stream",
     "text": [
      "0: 1120x1984 1 ball, 23 players, 62.1ms\n",
      "Speed: 12.3ms preprocess, 62.1ms inference, 1.3ms postprocess per image at shape (1, 3, 1120, 1984)\n",
      "\n",
      "0: 1120x1984 1 ball, 23 players, 61.6ms\n",
      "Speed: 12.4ms preprocess, 61.6ms inference, 1.2ms postprocess per image at shape (1, 3, 1120, 1984)\n",
      "\n"
     ]
    },
    {
     "name": "stdout",
     "output_type": "stream",
     "text": [
      "[[     123.55      684.26      658.99]\n",
      " [     132.24      504.14      543.95]]\n",
      "496\n",
      "[[     123.55      684.26      658.99]\n",
      " [     132.24      504.14      543.95]]\n",
      "497\n"
     ]
    },
    {
     "name": "stderr",
     "output_type": "stream",
     "text": [
      "0: 1120x1984 1 ball, 23 players, 62.0ms\n",
      "Speed: 12.0ms preprocess, 62.0ms inference, 1.4ms postprocess per image at shape (1, 3, 1120, 1984)\n",
      "\n",
      "0: 1120x1984 1 ball, 23 players, 61.7ms\n",
      "Speed: 12.0ms preprocess, 61.7ms inference, 1.3ms postprocess per image at shape (1, 3, 1120, 1984)\n",
      "\n"
     ]
    },
    {
     "name": "stdout",
     "output_type": "stream",
     "text": [
      "[[     123.55      684.26      658.99]\n",
      " [     132.24      504.14      543.95]]\n",
      "498\n",
      "[[     123.55      684.26      658.99]\n",
      " [     132.24      504.14      543.95]]\n",
      "499\n"
     ]
    },
    {
     "name": "stderr",
     "output_type": "stream",
     "text": [
      "0: 1120x1984 1 ball, 23 players, 62.1ms\n",
      "Speed: 12.0ms preprocess, 62.1ms inference, 1.3ms postprocess per image at shape (1, 3, 1120, 1984)\n",
      "\n",
      "0: 1120x1984 1 ball, 23 players, 61.6ms\n",
      "Speed: 11.9ms preprocess, 61.6ms inference, 1.2ms postprocess per image at shape (1, 3, 1120, 1984)\n",
      "\n"
     ]
    },
    {
     "name": "stdout",
     "output_type": "stream",
     "text": [
      "[[     123.55      684.26      658.99]\n",
      " [     132.24      504.14      543.95]]\n",
      "500\n",
      "[[     123.55      684.26      658.99]\n",
      " [     132.24      504.14      543.95]]\n",
      "501\n"
     ]
    },
    {
     "name": "stderr",
     "output_type": "stream",
     "text": [
      "0: 1120x1984 1 ball, 23 players, 62.2ms\n",
      "Speed: 13.0ms preprocess, 62.2ms inference, 1.3ms postprocess per image at shape (1, 3, 1120, 1984)\n",
      "\n",
      "0: 1120x1984 1 ball, 23 players, 61.4ms\n",
      "Speed: 12.6ms preprocess, 61.4ms inference, 1.2ms postprocess per image at shape (1, 3, 1120, 1984)\n",
      "\n"
     ]
    },
    {
     "name": "stdout",
     "output_type": "stream",
     "text": [
      "[[     123.55      684.26      658.99]\n",
      " [     132.24      504.14      543.95]]\n",
      "502\n",
      "[[     123.55      684.26      658.99]\n",
      " [     132.24      504.14      543.95]]\n",
      "503\n"
     ]
    },
    {
     "name": "stderr",
     "output_type": "stream",
     "text": [
      "0: 1120x1984 1 ball, 23 players, 62.0ms\n",
      "Speed: 12.6ms preprocess, 62.0ms inference, 1.3ms postprocess per image at shape (1, 3, 1120, 1984)\n",
      "\n",
      "0: 1120x1984 1 ball, 23 players, 61.7ms\n",
      "Speed: 12.4ms preprocess, 61.7ms inference, 1.2ms postprocess per image at shape (1, 3, 1120, 1984)\n",
      "\n"
     ]
    },
    {
     "name": "stdout",
     "output_type": "stream",
     "text": [
      "[[     123.55      684.26      658.99]\n",
      " [     132.24      504.14      543.95]]\n",
      "504\n",
      "[[     123.55      684.26      658.99]\n",
      " [     132.24      504.14      543.95]]\n",
      "505\n"
     ]
    },
    {
     "name": "stderr",
     "output_type": "stream",
     "text": [
      "0: 1120x1984 1 ball, 23 players, 62.1ms\n",
      "Speed: 12.0ms preprocess, 62.1ms inference, 1.2ms postprocess per image at shape (1, 3, 1120, 1984)\n",
      "\n",
      "0: 1120x1984 1 ball, 23 players, 61.5ms\n",
      "Speed: 12.1ms preprocess, 61.5ms inference, 1.2ms postprocess per image at shape (1, 3, 1120, 1984)\n",
      "\n"
     ]
    },
    {
     "name": "stdout",
     "output_type": "stream",
     "text": [
      "[[     123.55      684.26      658.99]\n",
      " [     132.24      504.14      543.95]]\n",
      "506\n",
      "[[     123.55      684.26      658.99]\n",
      " [     132.24      504.14      543.95]]\n",
      "507\n"
     ]
    },
    {
     "name": "stderr",
     "output_type": "stream",
     "text": [
      "0: 1120x1984 1 ball, 23 players, 62.1ms\n",
      "Speed: 12.0ms preprocess, 62.1ms inference, 1.2ms postprocess per image at shape (1, 3, 1120, 1984)\n",
      "\n",
      "0: 1120x1984 1 ball, 23 players, 61.6ms\n",
      "Speed: 11.8ms preprocess, 61.6ms inference, 1.2ms postprocess per image at shape (1, 3, 1120, 1984)\n",
      "\n"
     ]
    },
    {
     "name": "stdout",
     "output_type": "stream",
     "text": [
      "[[     123.55      684.26      658.99]\n",
      " [     132.24      504.14      543.95]]\n",
      "508\n",
      "[[     123.55      684.26      658.99]\n",
      " [     132.24      504.14      543.95]]\n",
      "509\n"
     ]
    },
    {
     "name": "stderr",
     "output_type": "stream",
     "text": [
      "0: 1120x1984 1 ball, 23 players, 63.1ms\n",
      "Speed: 12.6ms preprocess, 63.1ms inference, 1.2ms postprocess per image at shape (1, 3, 1120, 1984)\n",
      "\n",
      "0: 1120x1984 1 ball, 23 players, 61.7ms\n",
      "Speed: 12.4ms preprocess, 61.7ms inference, 1.2ms postprocess per image at shape (1, 3, 1120, 1984)\n",
      "\n"
     ]
    },
    {
     "name": "stdout",
     "output_type": "stream",
     "text": [
      "[[     123.55      684.26      658.99]\n",
      " [     132.24      504.14      543.95]]\n",
      "510\n",
      "[[     123.55      684.26      658.99]\n",
      " [     132.24      504.14      543.95]]\n",
      "511\n"
     ]
    },
    {
     "name": "stderr",
     "output_type": "stream",
     "text": [
      "0: 1120x1984 1 ball, 23 players, 62.0ms\n",
      "Speed: 12.5ms preprocess, 62.0ms inference, 1.3ms postprocess per image at shape (1, 3, 1120, 1984)\n",
      "\n",
      "0: 1120x1984 1 ball, 23 players, 61.6ms\n",
      "Speed: 12.5ms preprocess, 61.6ms inference, 1.3ms postprocess per image at shape (1, 3, 1120, 1984)\n",
      "\n"
     ]
    },
    {
     "name": "stdout",
     "output_type": "stream",
     "text": [
      "[[     123.55      684.26      658.99]\n",
      " [     132.24      504.14      543.95]]\n",
      "512\n",
      "[[     123.55      684.26      658.99]\n",
      " [     132.24      504.14      543.95]]\n",
      "513\n"
     ]
    },
    {
     "name": "stderr",
     "output_type": "stream",
     "text": [
      "0: 1120x1984 1 ball, 23 players, 61.7ms\n",
      "Speed: 12.5ms preprocess, 61.7ms inference, 1.2ms postprocess per image at shape (1, 3, 1120, 1984)\n",
      "\n",
      "0: 1120x1984 1 ball, 23 players, 61.6ms\n",
      "Speed: 12.1ms preprocess, 61.6ms inference, 1.2ms postprocess per image at shape (1, 3, 1120, 1984)\n",
      "\n"
     ]
    },
    {
     "name": "stdout",
     "output_type": "stream",
     "text": [
      "[[     123.55      684.26      658.99]\n",
      " [     132.24      504.14      543.95]]\n",
      "514\n",
      "[[     123.55      684.26      658.99]\n",
      " [     132.24      504.14      543.95]]\n",
      "515\n"
     ]
    },
    {
     "name": "stderr",
     "output_type": "stream",
     "text": [
      "0: 1120x1984 1 ball, 23 players, 61.6ms\n",
      "Speed: 12.6ms preprocess, 61.6ms inference, 1.3ms postprocess per image at shape (1, 3, 1120, 1984)\n",
      "\n",
      "0: 1120x1984 23 players, 61.8ms\n",
      "Speed: 12.6ms preprocess, 61.8ms inference, 1.3ms postprocess per image at shape (1, 3, 1120, 1984)\n",
      "\n"
     ]
    },
    {
     "name": "stdout",
     "output_type": "stream",
     "text": [
      "[[     123.55      684.26      658.99]\n",
      " [     132.24      504.14      543.95]]\n",
      "516\n",
      "[[     123.55      684.26      658.99]\n",
      " [     132.24      504.14      543.95]]\n",
      "517\n"
     ]
    },
    {
     "name": "stderr",
     "output_type": "stream",
     "text": [
      "0: 1120x1984 1 ball, 23 players, 61.6ms\n",
      "Speed: 12.5ms preprocess, 61.6ms inference, 1.3ms postprocess per image at shape (1, 3, 1120, 1984)\n",
      "\n",
      "0: 1120x1984 1 ball, 23 players, 61.6ms\n",
      "Speed: 12.6ms preprocess, 61.6ms inference, 1.2ms postprocess per image at shape (1, 3, 1120, 1984)\n",
      "\n"
     ]
    },
    {
     "name": "stdout",
     "output_type": "stream",
     "text": [
      "[[     123.55      684.26      658.99]\n",
      " [     132.24      504.14      543.95]]\n",
      "518\n",
      "[[     123.55      684.26      658.99]\n",
      " [     132.24      504.14      543.95]]\n",
      "519\n"
     ]
    },
    {
     "name": "stderr",
     "output_type": "stream",
     "text": [
      "0: 1120x1984 1 ball, 23 players, 61.6ms\n",
      "Speed: 13.5ms preprocess, 61.6ms inference, 1.2ms postprocess per image at shape (1, 3, 1120, 1984)\n",
      "\n",
      "0: 1120x1984 1 ball, 23 players, 61.6ms\n",
      "Speed: 12.6ms preprocess, 61.6ms inference, 1.2ms postprocess per image at shape (1, 3, 1120, 1984)\n",
      "\n"
     ]
    },
    {
     "name": "stdout",
     "output_type": "stream",
     "text": [
      "[[     123.55      684.26      658.99]\n",
      " [     132.24      504.14      543.95]]\n",
      "520\n",
      "[[     123.55      684.26      658.99]\n",
      " [     132.24      504.14      543.95]]\n",
      "521\n"
     ]
    },
    {
     "name": "stderr",
     "output_type": "stream",
     "text": [
      "0: 1120x1984 1 ball, 23 players, 61.7ms\n",
      "Speed: 12.3ms preprocess, 61.7ms inference, 1.2ms postprocess per image at shape (1, 3, 1120, 1984)\n",
      "\n",
      "0: 1120x1984 1 ball, 23 players, 61.5ms\n",
      "Speed: 12.1ms preprocess, 61.5ms inference, 1.2ms postprocess per image at shape (1, 3, 1120, 1984)\n",
      "\n"
     ]
    },
    {
     "name": "stdout",
     "output_type": "stream",
     "text": [
      "[[     123.55      684.26      658.99]\n",
      " [     132.24      504.14      543.95]]\n",
      "522\n",
      "[[     123.55      684.26      658.99]\n",
      " [     132.24      504.14      543.95]]\n",
      "523\n"
     ]
    },
    {
     "name": "stderr",
     "output_type": "stream",
     "text": [
      "0: 1120x1984 1 ball, 23 players, 62.1ms\n",
      "Speed: 12.1ms preprocess, 62.1ms inference, 1.3ms postprocess per image at shape (1, 3, 1120, 1984)\n",
      "\n",
      "0: 1120x1984 1 ball, 23 players, 61.6ms\n",
      "Speed: 12.3ms preprocess, 61.6ms inference, 1.3ms postprocess per image at shape (1, 3, 1120, 1984)\n",
      "\n"
     ]
    },
    {
     "name": "stdout",
     "output_type": "stream",
     "text": [
      "[[     123.55      684.26      658.99]\n",
      " [     132.24      504.14      543.95]]\n",
      "524\n",
      "[[     123.55      684.26      658.99]\n",
      " [     132.24      504.14      543.95]]\n",
      "525\n"
     ]
    },
    {
     "name": "stderr",
     "output_type": "stream",
     "text": [
      "0: 1120x1984 1 ball, 23 players, 61.7ms\n",
      "Speed: 12.9ms preprocess, 61.7ms inference, 1.3ms postprocess per image at shape (1, 3, 1120, 1984)\n",
      "\n",
      "0: 1120x1984 1 ball, 23 players, 61.9ms\n",
      "Speed: 12.4ms preprocess, 61.9ms inference, 1.2ms postprocess per image at shape (1, 3, 1120, 1984)\n",
      "\n"
     ]
    },
    {
     "name": "stdout",
     "output_type": "stream",
     "text": [
      "[[     123.55      684.26      658.99]\n",
      " [     132.24      504.14      543.95]]\n",
      "526\n",
      "[[     123.55      684.26      658.99]\n",
      " [     132.24      504.14      543.95]]\n",
      "527\n"
     ]
    },
    {
     "name": "stderr",
     "output_type": "stream",
     "text": [
      "0: 1120x1984 1 ball, 23 players, 61.7ms\n",
      "Speed: 12.3ms preprocess, 61.7ms inference, 1.3ms postprocess per image at shape (1, 3, 1120, 1984)\n",
      "\n",
      "0: 1120x1984 1 ball, 23 players, 61.7ms\n",
      "Speed: 12.9ms preprocess, 61.7ms inference, 1.2ms postprocess per image at shape (1, 3, 1120, 1984)\n",
      "\n"
     ]
    },
    {
     "name": "stdout",
     "output_type": "stream",
     "text": [
      "[[     123.55      684.26      658.99]\n",
      " [     132.24      504.14      543.95]]\n",
      "528\n",
      "[[     123.55      684.26      658.99]\n",
      " [     132.24      504.14      543.95]]\n",
      "529\n"
     ]
    },
    {
     "name": "stderr",
     "output_type": "stream",
     "text": [
      "0: 1120x1984 1 ball, 23 players, 62.1ms\n",
      "Speed: 12.7ms preprocess, 62.1ms inference, 1.3ms postprocess per image at shape (1, 3, 1120, 1984)\n",
      "\n",
      "0: 1120x1984 1 ball, 23 players, 61.5ms\n",
      "Speed: 12.0ms preprocess, 61.5ms inference, 1.3ms postprocess per image at shape (1, 3, 1120, 1984)\n",
      "\n"
     ]
    },
    {
     "name": "stdout",
     "output_type": "stream",
     "text": [
      "[[     123.55      684.26      658.99]\n",
      " [     132.24      504.14      543.95]]\n",
      "530\n",
      "[[     123.55      684.26      658.99]\n",
      " [     132.24      504.14      543.95]]\n",
      "531\n"
     ]
    },
    {
     "name": "stderr",
     "output_type": "stream",
     "text": [
      "0: 1120x1984 1 ball, 23 players, 62.2ms\n",
      "Speed: 12.7ms preprocess, 62.2ms inference, 1.3ms postprocess per image at shape (1, 3, 1120, 1984)\n",
      "\n",
      "0: 1120x1984 1 ball, 23 players, 61.5ms\n",
      "Speed: 12.0ms preprocess, 61.5ms inference, 1.2ms postprocess per image at shape (1, 3, 1120, 1984)\n",
      "\n"
     ]
    },
    {
     "name": "stdout",
     "output_type": "stream",
     "text": [
      "[[     123.55      684.26      658.99]\n",
      " [     132.24      504.14      543.95]]\n",
      "532\n",
      "[[     123.55      684.26      658.99]\n",
      " [     132.24      504.14      543.95]]\n",
      "533\n"
     ]
    },
    {
     "name": "stderr",
     "output_type": "stream",
     "text": [
      "0: 1120x1984 1 ball, 23 players, 62.1ms\n",
      "Speed: 12.0ms preprocess, 62.1ms inference, 1.3ms postprocess per image at shape (1, 3, 1120, 1984)\n",
      "\n",
      "0: 1120x1984 1 ball, 23 players, 61.6ms\n",
      "Speed: 11.9ms preprocess, 61.6ms inference, 1.3ms postprocess per image at shape (1, 3, 1120, 1984)\n",
      "\n"
     ]
    },
    {
     "name": "stdout",
     "output_type": "stream",
     "text": [
      "[[     123.55      684.26      658.99]\n",
      " [     132.24      504.14      543.95]]\n",
      "534\n",
      "[[     123.55      684.26      658.99]\n",
      " [     132.24      504.14      543.95]]\n",
      "535\n"
     ]
    },
    {
     "name": "stderr",
     "output_type": "stream",
     "text": [
      "0: 1120x1984 1 ball, 23 players, 61.8ms\n",
      "Speed: 12.6ms preprocess, 61.8ms inference, 1.3ms postprocess per image at shape (1, 3, 1120, 1984)\n",
      "\n",
      "0: 1120x1984 1 ball, 23 players, 61.7ms\n",
      "Speed: 12.0ms preprocess, 61.7ms inference, 1.3ms postprocess per image at shape (1, 3, 1120, 1984)\n",
      "\n"
     ]
    },
    {
     "name": "stdout",
     "output_type": "stream",
     "text": [
      "[[     123.55      684.26      658.99]\n",
      " [     132.24      504.14      543.95]]\n",
      "536\n",
      "[[     123.55      684.26      658.99]\n",
      " [     132.24      504.14      543.95]]\n",
      "537\n"
     ]
    },
    {
     "name": "stderr",
     "output_type": "stream",
     "text": [
      "0: 1120x1984 1 ball, 22 players, 61.8ms\n",
      "Speed: 11.9ms preprocess, 61.8ms inference, 1.3ms postprocess per image at shape (1, 3, 1120, 1984)\n",
      "\n",
      "0: 1120x1984 1 ball, 23 players, 61.7ms\n",
      "Speed: 11.9ms preprocess, 61.7ms inference, 1.3ms postprocess per image at shape (1, 3, 1120, 1984)\n",
      "\n"
     ]
    },
    {
     "name": "stdout",
     "output_type": "stream",
     "text": [
      "[[     123.55      684.26      658.99]\n",
      " [     132.24      504.14      543.95]]\n",
      "538\n",
      "[[     123.55      684.26      658.99]\n",
      " [     132.24      504.14      543.95]]\n",
      "539\n"
     ]
    },
    {
     "name": "stderr",
     "output_type": "stream",
     "text": [
      "0: 1120x1984 1 ball, 23 players, 61.8ms\n",
      "Speed: 12.3ms preprocess, 61.8ms inference, 1.3ms postprocess per image at shape (1, 3, 1120, 1984)\n",
      "\n",
      "0: 1120x1984 1 ball, 23 players, 61.6ms\n",
      "Speed: 11.9ms preprocess, 61.6ms inference, 1.3ms postprocess per image at shape (1, 3, 1120, 1984)\n",
      "\n"
     ]
    },
    {
     "name": "stdout",
     "output_type": "stream",
     "text": [
      "[[     123.55      684.26      658.99]\n",
      " [     132.24      504.14      543.95]]\n",
      "540\n",
      "[[     123.55      684.26      658.99]\n",
      " [     132.24      504.14      543.95]]\n",
      "541\n"
     ]
    },
    {
     "name": "stderr",
     "output_type": "stream",
     "text": [
      "0: 1120x1984 1 ball, 23 players, 62.0ms\n",
      "Speed: 12.0ms preprocess, 62.0ms inference, 1.3ms postprocess per image at shape (1, 3, 1120, 1984)\n",
      "\n",
      "0: 1120x1984 1 ball, 23 players, 61.6ms\n",
      "Speed: 12.3ms preprocess, 61.6ms inference, 1.2ms postprocess per image at shape (1, 3, 1120, 1984)\n",
      "\n"
     ]
    },
    {
     "name": "stdout",
     "output_type": "stream",
     "text": [
      "[[     123.55      684.26      658.99]\n",
      " [     132.24      504.14      543.95]]\n",
      "542\n",
      "[[     123.55      684.26      658.99]\n",
      " [     132.24      504.14      543.95]]\n",
      "543\n"
     ]
    },
    {
     "name": "stderr",
     "output_type": "stream",
     "text": [
      "0: 1120x1984 1 ball, 23 players, 61.4ms\n",
      "Speed: 11.9ms preprocess, 61.4ms inference, 1.3ms postprocess per image at shape (1, 3, 1120, 1984)\n",
      "\n",
      "0: 1120x1984 1 ball, 23 players, 61.9ms\n",
      "Speed: 11.9ms preprocess, 61.9ms inference, 1.3ms postprocess per image at shape (1, 3, 1120, 1984)\n",
      "\n"
     ]
    },
    {
     "name": "stdout",
     "output_type": "stream",
     "text": [
      "[[     123.55      684.26      658.99]\n",
      " [     132.24      504.14      543.95]]\n",
      "544\n",
      "[[     123.55      684.26      658.99]\n",
      " [     132.24      504.14      543.95]]\n",
      "545\n"
     ]
    },
    {
     "name": "stderr",
     "output_type": "stream",
     "text": [
      "0: 1120x1984 1 ball, 23 players, 61.8ms\n",
      "Speed: 12.0ms preprocess, 61.8ms inference, 1.3ms postprocess per image at shape (1, 3, 1120, 1984)\n",
      "\n",
      "0: 1120x1984 1 ball, 23 players, 61.6ms\n",
      "Speed: 12.0ms preprocess, 61.6ms inference, 1.3ms postprocess per image at shape (1, 3, 1120, 1984)\n",
      "\n"
     ]
    },
    {
     "name": "stdout",
     "output_type": "stream",
     "text": [
      "[[     123.55      684.26      658.99]\n",
      " [     132.24      504.14      543.95]]\n",
      "546\n",
      "[[     123.55      684.26      658.99]\n",
      " [     132.24      504.14      543.95]]\n",
      "547\n"
     ]
    },
    {
     "name": "stderr",
     "output_type": "stream",
     "text": [
      "0: 1120x1984 1 ball, 23 players, 61.8ms\n",
      "Speed: 12.0ms preprocess, 61.8ms inference, 1.5ms postprocess per image at shape (1, 3, 1120, 1984)\n",
      "\n",
      "0: 1120x1984 1 ball, 23 players, 61.4ms\n",
      "Speed: 12.9ms preprocess, 61.4ms inference, 1.2ms postprocess per image at shape (1, 3, 1120, 1984)\n",
      "\n"
     ]
    },
    {
     "name": "stdout",
     "output_type": "stream",
     "text": [
      "[[     123.55      684.26      658.99]\n",
      " [     132.24      504.14      543.95]]\n",
      "548\n",
      "[[     123.55      684.26      658.99]\n",
      " [     132.24      504.14      543.95]]\n",
      "549\n"
     ]
    },
    {
     "name": "stderr",
     "output_type": "stream",
     "text": [
      "0: 1120x1984 1 ball, 23 players, 62.0ms\n",
      "Speed: 12.0ms preprocess, 62.0ms inference, 1.3ms postprocess per image at shape (1, 3, 1120, 1984)\n",
      "\n",
      "0: 1120x1984 1 ball, 23 players, 61.6ms\n",
      "Speed: 11.8ms preprocess, 61.6ms inference, 1.3ms postprocess per image at shape (1, 3, 1120, 1984)\n",
      "\n"
     ]
    },
    {
     "name": "stdout",
     "output_type": "stream",
     "text": [
      "[[     123.55      684.26      658.99]\n",
      " [     132.24      504.14      543.95]]\n",
      "550\n",
      "[[     123.55      684.26      658.99]\n",
      " [     132.24      504.14      543.95]]\n",
      "551\n"
     ]
    },
    {
     "name": "stderr",
     "output_type": "stream",
     "text": [
      "0: 1120x1984 1 ball, 23 players, 61.8ms\n",
      "Speed: 11.9ms preprocess, 61.8ms inference, 1.3ms postprocess per image at shape (1, 3, 1120, 1984)\n",
      "\n",
      "0: 1120x1984 1 ball, 22 players, 61.6ms\n",
      "Speed: 12.1ms preprocess, 61.6ms inference, 1.3ms postprocess per image at shape (1, 3, 1120, 1984)\n",
      "\n"
     ]
    },
    {
     "name": "stdout",
     "output_type": "stream",
     "text": [
      "[[     123.55      684.26      658.99]\n",
      " [     132.24      504.14      543.95]]\n",
      "552\n",
      "[[     123.55      684.26      658.99]\n",
      " [     132.24      504.14      543.95]]\n",
      "553\n"
     ]
    },
    {
     "name": "stderr",
     "output_type": "stream",
     "text": [
      "0: 1120x1984 1 ball, 22 players, 62.0ms\n",
      "Speed: 12.0ms preprocess, 62.0ms inference, 1.3ms postprocess per image at shape (1, 3, 1120, 1984)\n",
      "\n",
      "0: 1120x1984 23 players, 61.6ms\n",
      "Speed: 11.9ms preprocess, 61.6ms inference, 1.2ms postprocess per image at shape (1, 3, 1120, 1984)\n",
      "\n"
     ]
    },
    {
     "name": "stdout",
     "output_type": "stream",
     "text": [
      "[[     123.55      684.26      658.99]\n",
      " [     132.24      504.14      543.95]]\n",
      "554\n",
      "[[     123.55      684.26      658.99]\n",
      " [     132.24      504.14      543.95]]\n",
      "555\n"
     ]
    },
    {
     "name": "stderr",
     "output_type": "stream",
     "text": [
      "0: 1120x1984 1 ball, 23 players, 61.5ms\n",
      "Speed: 12.4ms preprocess, 61.5ms inference, 1.3ms postprocess per image at shape (1, 3, 1120, 1984)\n",
      "\n",
      "0: 1120x1984 1 ball, 23 players, 61.6ms\n",
      "Speed: 12.0ms preprocess, 61.6ms inference, 1.2ms postprocess per image at shape (1, 3, 1120, 1984)\n",
      "\n"
     ]
    },
    {
     "name": "stdout",
     "output_type": "stream",
     "text": [
      "[[     123.55      684.26      658.99]\n",
      " [     132.24      504.14      543.95]]\n",
      "556\n",
      "[[     123.55      684.26      658.99]\n",
      " [     132.24      504.14      543.95]]\n",
      "557\n"
     ]
    },
    {
     "name": "stderr",
     "output_type": "stream",
     "text": [
      "0: 1120x1984 1 ball, 23 players, 61.9ms\n",
      "Speed: 12.1ms preprocess, 61.9ms inference, 1.3ms postprocess per image at shape (1, 3, 1120, 1984)\n",
      "\n",
      "0: 1120x1984 1 ball, 23 players, 61.7ms\n",
      "Speed: 12.1ms preprocess, 61.7ms inference, 1.3ms postprocess per image at shape (1, 3, 1120, 1984)\n",
      "\n"
     ]
    },
    {
     "name": "stdout",
     "output_type": "stream",
     "text": [
      "[[     123.55      684.26      658.99]\n",
      " [     132.24      504.14      543.95]]\n",
      "558\n",
      "[[     123.55      684.26      658.99]\n",
      " [     132.24      504.14      543.95]]\n",
      "559\n"
     ]
    },
    {
     "name": "stderr",
     "output_type": "stream",
     "text": [
      "0: 1120x1984 1 ball, 23 players, 61.6ms\n",
      "Speed: 12.4ms preprocess, 61.6ms inference, 1.2ms postprocess per image at shape (1, 3, 1120, 1984)\n",
      "\n",
      "0: 1120x1984 1 ball, 23 players, 61.8ms\n",
      "Speed: 12.3ms preprocess, 61.8ms inference, 1.2ms postprocess per image at shape (1, 3, 1120, 1984)\n",
      "\n"
     ]
    },
    {
     "name": "stdout",
     "output_type": "stream",
     "text": [
      "[[     123.55      684.26      658.99]\n",
      " [     132.24      504.14      543.95]]\n",
      "560\n",
      "[[     123.55      684.26      658.99]\n",
      " [     132.24      504.14      543.95]]\n",
      "561\n"
     ]
    },
    {
     "name": "stderr",
     "output_type": "stream",
     "text": [
      "0: 1120x1984 1 ball, 23 players, 61.9ms\n",
      "Speed: 12.0ms preprocess, 61.9ms inference, 1.3ms postprocess per image at shape (1, 3, 1120, 1984)\n",
      "\n",
      "0: 1120x1984 1 ball, 24 players, 61.6ms\n",
      "Speed: 11.9ms preprocess, 61.6ms inference, 1.2ms postprocess per image at shape (1, 3, 1120, 1984)\n",
      "\n"
     ]
    },
    {
     "name": "stdout",
     "output_type": "stream",
     "text": [
      "[[     123.55      684.26      658.99]\n",
      " [     132.24      504.14      543.95]]\n",
      "562\n",
      "[[     123.55      684.26      658.99]\n",
      " [     132.24      504.14      543.95]]\n",
      "563\n"
     ]
    },
    {
     "name": "stderr",
     "output_type": "stream",
     "text": [
      "0: 1120x1984 23 players, 61.7ms\n",
      "Speed: 11.8ms preprocess, 61.7ms inference, 1.2ms postprocess per image at shape (1, 3, 1120, 1984)\n",
      "\n",
      "0: 1120x1984 23 players, 61.5ms\n",
      "Speed: 12.0ms preprocess, 61.5ms inference, 1.2ms postprocess per image at shape (1, 3, 1120, 1984)\n",
      "\n"
     ]
    },
    {
     "name": "stdout",
     "output_type": "stream",
     "text": [
      "[[     123.55      684.26      658.99]\n",
      " [     132.24      504.14      543.95]]\n",
      "564\n",
      "[[     123.55      684.26      658.99]\n",
      " [     132.24      504.14      543.95]]\n",
      "565\n"
     ]
    },
    {
     "name": "stderr",
     "output_type": "stream",
     "text": [
      "0: 1120x1984 1 ball, 23 players, 61.9ms\n",
      "Speed: 12.1ms preprocess, 61.9ms inference, 1.3ms postprocess per image at shape (1, 3, 1120, 1984)\n",
      "\n",
      "0: 1120x1984 1 ball, 22 players, 61.4ms\n",
      "Speed: 12.2ms preprocess, 61.4ms inference, 1.2ms postprocess per image at shape (1, 3, 1120, 1984)\n",
      "\n"
     ]
    },
    {
     "name": "stdout",
     "output_type": "stream",
     "text": [
      "[[     123.55      684.26      658.99]\n",
      " [     132.24      504.14      543.95]]\n",
      "566\n",
      "[[     123.55      684.26      658.99]\n",
      " [     132.24      504.14      543.95]]\n",
      "567\n"
     ]
    },
    {
     "name": "stderr",
     "output_type": "stream",
     "text": [
      "0: 1120x1984 1 ball, 22 players, 61.5ms\n",
      "Speed: 11.8ms preprocess, 61.5ms inference, 1.2ms postprocess per image at shape (1, 3, 1120, 1984)\n",
      "\n",
      "0: 1120x1984 1 ball, 22 players, 61.6ms\n",
      "Speed: 12.0ms preprocess, 61.6ms inference, 1.2ms postprocess per image at shape (1, 3, 1120, 1984)\n",
      "\n"
     ]
    },
    {
     "name": "stdout",
     "output_type": "stream",
     "text": [
      "[[     123.55      684.26      658.99]\n",
      " [     132.24      504.14      543.95]]\n",
      "568\n",
      "[[     123.55      684.26      658.99]\n",
      " [     132.24      504.14      543.95]]\n",
      "569\n"
     ]
    },
    {
     "name": "stderr",
     "output_type": "stream",
     "text": [
      "0: 1120x1984 1 ball, 22 players, 62.1ms\n",
      "Speed: 12.0ms preprocess, 62.1ms inference, 1.3ms postprocess per image at shape (1, 3, 1120, 1984)\n",
      "\n",
      "0: 1120x1984 1 ball, 22 players, 61.9ms\n",
      "Speed: 12.1ms preprocess, 61.9ms inference, 1.2ms postprocess per image at shape (1, 3, 1120, 1984)\n",
      "\n"
     ]
    },
    {
     "name": "stdout",
     "output_type": "stream",
     "text": [
      "[[     123.55      684.26      658.99]\n",
      " [     132.24      504.14      543.95]]\n",
      "570\n",
      "[[     123.55      684.26      658.99]\n",
      " [     132.24      504.14      543.95]]\n",
      "571\n"
     ]
    },
    {
     "name": "stderr",
     "output_type": "stream",
     "text": [
      "0: 1120x1984 1 ball, 22 players, 62.1ms\n",
      "Speed: 12.1ms preprocess, 62.1ms inference, 1.3ms postprocess per image at shape (1, 3, 1120, 1984)\n",
      "\n",
      "0: 1120x1984 1 ball, 22 players, 61.8ms\n",
      "Speed: 12.3ms preprocess, 61.8ms inference, 1.3ms postprocess per image at shape (1, 3, 1120, 1984)\n",
      "\n"
     ]
    },
    {
     "name": "stdout",
     "output_type": "stream",
     "text": [
      "[[     123.55      684.26      658.99]\n",
      " [     132.24      504.14      543.95]]\n",
      "572\n",
      "[[     123.55      684.26      658.99]\n",
      " [     132.24      504.14      543.95]]\n",
      "573\n"
     ]
    },
    {
     "name": "stderr",
     "output_type": "stream",
     "text": [
      "0: 1120x1984 1 ball, 22 players, 61.7ms\n",
      "Speed: 11.9ms preprocess, 61.7ms inference, 1.3ms postprocess per image at shape (1, 3, 1120, 1984)\n",
      "\n",
      "0: 1120x1984 1 ball, 22 players, 61.6ms\n",
      "Speed: 12.2ms preprocess, 61.6ms inference, 1.2ms postprocess per image at shape (1, 3, 1120, 1984)\n",
      "\n"
     ]
    },
    {
     "name": "stdout",
     "output_type": "stream",
     "text": [
      "[[     123.55      684.26      658.99]\n",
      " [     132.24      504.14      543.95]]\n",
      "574\n",
      "[[     123.55      684.26      658.99]\n",
      " [     132.24      504.14      543.95]]\n",
      "575\n"
     ]
    },
    {
     "name": "stderr",
     "output_type": "stream",
     "text": [
      "0: 1120x1984 1 ball, 22 players, 62.1ms\n",
      "Speed: 12.4ms preprocess, 62.1ms inference, 1.3ms postprocess per image at shape (1, 3, 1120, 1984)\n",
      "\n",
      "0: 1120x1984 1 ball, 22 players, 61.7ms\n",
      "Speed: 12.0ms preprocess, 61.7ms inference, 1.2ms postprocess per image at shape (1, 3, 1120, 1984)\n",
      "\n"
     ]
    },
    {
     "name": "stdout",
     "output_type": "stream",
     "text": [
      "[[     123.55      684.26      658.99]\n",
      " [     132.24      504.14      543.95]]\n",
      "576\n",
      "[[     123.55      684.26      658.99]\n",
      " [     132.24      504.14      543.95]]\n",
      "577\n"
     ]
    },
    {
     "name": "stderr",
     "output_type": "stream",
     "text": [
      "0: 1120x1984 1 ball, 22 players, 61.7ms\n",
      "Speed: 12.5ms preprocess, 61.7ms inference, 1.3ms postprocess per image at shape (1, 3, 1120, 1984)\n",
      "\n",
      "0: 1120x1984 1 ball, 22 players, 61.6ms\n",
      "Speed: 12.2ms preprocess, 61.6ms inference, 1.2ms postprocess per image at shape (1, 3, 1120, 1984)\n",
      "\n"
     ]
    },
    {
     "name": "stdout",
     "output_type": "stream",
     "text": [
      "[[     123.55      684.26      658.99]\n",
      " [     132.24      504.14      543.95]]\n",
      "578\n",
      "[[     123.55      684.26      658.99]\n",
      " [     132.24      504.14      543.95]]\n",
      "579\n"
     ]
    },
    {
     "name": "stderr",
     "output_type": "stream",
     "text": [
      "0: 1120x1984 1 ball, 23 players, 62.1ms\n",
      "Speed: 12.1ms preprocess, 62.1ms inference, 1.2ms postprocess per image at shape (1, 3, 1120, 1984)\n",
      "\n",
      "0: 1120x1984 1 ball, 22 players, 61.4ms\n",
      "Speed: 12.1ms preprocess, 61.4ms inference, 1.2ms postprocess per image at shape (1, 3, 1120, 1984)\n",
      "\n"
     ]
    },
    {
     "name": "stdout",
     "output_type": "stream",
     "text": [
      "[[     123.55      684.26      658.99]\n",
      " [     132.24      504.14      543.95]]\n",
      "580\n",
      "[[     123.55      684.26      658.99]\n",
      " [     132.24      504.14      543.95]]\n",
      "581\n"
     ]
    },
    {
     "name": "stderr",
     "output_type": "stream",
     "text": [
      "0: 1120x1984 1 ball, 22 players, 61.6ms\n",
      "Speed: 12.7ms preprocess, 61.6ms inference, 1.2ms postprocess per image at shape (1, 3, 1120, 1984)\n",
      "\n",
      "0: 1120x1984 1 ball, 22 players, 61.9ms\n",
      "Speed: 11.9ms preprocess, 61.9ms inference, 1.3ms postprocess per image at shape (1, 3, 1120, 1984)\n",
      "\n"
     ]
    },
    {
     "name": "stdout",
     "output_type": "stream",
     "text": [
      "[[     123.55      684.26      658.99]\n",
      " [     132.24      504.14      543.95]]\n",
      "582\n",
      "[[     123.55      684.26      658.99]\n",
      " [     132.24      504.14      543.95]]\n",
      "583\n"
     ]
    },
    {
     "name": "stderr",
     "output_type": "stream",
     "text": [
      "0: 1120x1984 1 ball, 22 players, 61.7ms\n",
      "Speed: 11.9ms preprocess, 61.7ms inference, 1.3ms postprocess per image at shape (1, 3, 1120, 1984)\n",
      "\n",
      "0: 1120x1984 1 ball, 22 players, 61.6ms\n",
      "Speed: 12.8ms preprocess, 61.6ms inference, 1.2ms postprocess per image at shape (1, 3, 1120, 1984)\n",
      "\n"
     ]
    },
    {
     "name": "stdout",
     "output_type": "stream",
     "text": [
      "[[     123.55      684.26      658.99]\n",
      " [     132.24      504.14      543.95]]\n",
      "584\n",
      "[[     123.55      684.26      658.99]\n",
      " [     132.24      504.14      543.95]]\n",
      "585\n"
     ]
    },
    {
     "name": "stderr",
     "output_type": "stream",
     "text": [
      "0: 1120x1984 1 ball, 22 players, 61.5ms\n",
      "Speed: 12.4ms preprocess, 61.5ms inference, 1.3ms postprocess per image at shape (1, 3, 1120, 1984)\n",
      "\n",
      "0: 1120x1984 1 ball, 22 players, 61.6ms\n",
      "Speed: 11.9ms preprocess, 61.6ms inference, 1.3ms postprocess per image at shape (1, 3, 1120, 1984)\n",
      "\n"
     ]
    },
    {
     "name": "stdout",
     "output_type": "stream",
     "text": [
      "[[     123.55      684.26      658.99]\n",
      " [     132.24      504.14      543.95]]\n",
      "586\n",
      "[[     123.55      684.26      658.99]\n",
      " [     132.24      504.14      543.95]]\n",
      "587\n"
     ]
    },
    {
     "name": "stderr",
     "output_type": "stream",
     "text": [
      "0: 1120x1984 1 ball, 22 players, 61.7ms\n",
      "Speed: 12.0ms preprocess, 61.7ms inference, 1.2ms postprocess per image at shape (1, 3, 1120, 1984)\n",
      "\n",
      "0: 1120x1984 1 ball, 22 players, 61.5ms\n",
      "Speed: 12.0ms preprocess, 61.5ms inference, 1.2ms postprocess per image at shape (1, 3, 1120, 1984)\n",
      "\n"
     ]
    },
    {
     "name": "stdout",
     "output_type": "stream",
     "text": [
      "[[     123.55      684.26      658.99]\n",
      " [     132.24      504.14      543.95]]\n",
      "588\n",
      "[[     123.55      684.26      658.99]\n",
      " [     132.24      504.14      543.95]]\n",
      "589\n"
     ]
    },
    {
     "name": "stderr",
     "output_type": "stream",
     "text": [
      "0: 1120x1984 1 ball, 22 players, 61.9ms\n",
      "Speed: 12.0ms preprocess, 61.9ms inference, 1.2ms postprocess per image at shape (1, 3, 1120, 1984)\n",
      "\n",
      "0: 1120x1984 1 ball, 22 players, 61.7ms\n",
      "Speed: 11.9ms preprocess, 61.7ms inference, 1.3ms postprocess per image at shape (1, 3, 1120, 1984)\n",
      "\n"
     ]
    },
    {
     "name": "stdout",
     "output_type": "stream",
     "text": [
      "[[     123.55      684.26      658.99]\n",
      " [     132.24      504.14      543.95]]\n",
      "590\n",
      "[[     123.55      684.26      658.99]\n",
      " [     132.24      504.14      543.95]]\n",
      "591\n"
     ]
    },
    {
     "name": "stderr",
     "output_type": "stream",
     "text": [
      "0: 1120x1984 1 ball, 22 players, 61.6ms\n",
      "Speed: 12.0ms preprocess, 61.6ms inference, 1.2ms postprocess per image at shape (1, 3, 1120, 1984)\n",
      "\n",
      "0: 1120x1984 1 ball, 22 players, 61.9ms\n",
      "Speed: 12.1ms preprocess, 61.9ms inference, 1.2ms postprocess per image at shape (1, 3, 1120, 1984)\n",
      "\n"
     ]
    },
    {
     "name": "stdout",
     "output_type": "stream",
     "text": [
      "[[     123.55      684.26      658.99]\n",
      " [     132.24      504.14      543.95]]\n",
      "592\n",
      "[[     123.55      684.26      658.99]\n",
      " [     132.24      504.14      543.95]]\n",
      "593\n"
     ]
    },
    {
     "name": "stderr",
     "output_type": "stream",
     "text": [
      "0: 1120x1984 1 ball, 22 players, 61.4ms\n",
      "Speed: 12.0ms preprocess, 61.4ms inference, 1.2ms postprocess per image at shape (1, 3, 1120, 1984)\n",
      "\n",
      "0: 1120x1984 1 ball, 22 players, 61.7ms\n",
      "Speed: 12.0ms preprocess, 61.7ms inference, 1.3ms postprocess per image at shape (1, 3, 1120, 1984)\n",
      "\n"
     ]
    },
    {
     "name": "stdout",
     "output_type": "stream",
     "text": [
      "[[     123.55      684.26      658.99]\n",
      " [     132.24      504.14      543.95]]\n",
      "594\n",
      "[[     123.55      684.26      658.99]\n",
      " [     132.24      504.14      543.95]]\n",
      "595\n"
     ]
    },
    {
     "name": "stderr",
     "output_type": "stream",
     "text": [
      "0: 1120x1984 1 ball, 22 players, 61.6ms\n",
      "Speed: 12.6ms preprocess, 61.6ms inference, 1.2ms postprocess per image at shape (1, 3, 1120, 1984)\n",
      "\n",
      "0: 1120x1984 1 ball, 22 players, 61.8ms\n",
      "Speed: 12.1ms preprocess, 61.8ms inference, 1.2ms postprocess per image at shape (1, 3, 1120, 1984)\n",
      "\n"
     ]
    },
    {
     "name": "stdout",
     "output_type": "stream",
     "text": [
      "[[     123.55      684.26      658.99]\n",
      " [     132.24      504.14      543.95]]\n",
      "596\n",
      "[[     123.55      684.26      658.99]\n",
      " [     132.24      504.14      543.95]]\n",
      "597\n"
     ]
    },
    {
     "name": "stderr",
     "output_type": "stream",
     "text": [
      "0: 1120x1984 1 ball, 22 players, 62.0ms\n",
      "Speed: 12.5ms preprocess, 62.0ms inference, 1.2ms postprocess per image at shape (1, 3, 1120, 1984)\n",
      "\n",
      "0: 1120x1984 1 ball, 22 players, 61.8ms\n",
      "Speed: 12.1ms preprocess, 61.8ms inference, 1.3ms postprocess per image at shape (1, 3, 1120, 1984)\n",
      "\n"
     ]
    },
    {
     "name": "stdout",
     "output_type": "stream",
     "text": [
      "[[     123.55      684.26      658.99]\n",
      " [     132.24      504.14      543.95]]\n",
      "598\n",
      "[[     123.55      684.26      658.99]\n",
      " [     132.24      504.14      543.95]]\n",
      "599\n"
     ]
    },
    {
     "name": "stderr",
     "output_type": "stream",
     "text": [
      "0: 1120x1984 1 ball, 22 players, 61.7ms\n",
      "Speed: 12.7ms preprocess, 61.7ms inference, 1.2ms postprocess per image at shape (1, 3, 1120, 1984)\n",
      "\n",
      "0: 1120x1984 1 ball, 22 players, 61.7ms\n",
      "Speed: 12.3ms preprocess, 61.7ms inference, 1.2ms postprocess per image at shape (1, 3, 1120, 1984)\n",
      "\n"
     ]
    },
    {
     "name": "stdout",
     "output_type": "stream",
     "text": [
      "[[     123.55      684.26      658.99]\n",
      " [     132.24      504.14      543.95]]\n",
      "600\n",
      "[[     123.55      684.26      658.99]\n",
      " [     132.24      504.14      543.95]]\n",
      "601\n"
     ]
    },
    {
     "name": "stderr",
     "output_type": "stream",
     "text": [
      "0: 1120x1984 1 ball, 22 players, 61.5ms\n",
      "Speed: 12.5ms preprocess, 61.5ms inference, 1.2ms postprocess per image at shape (1, 3, 1120, 1984)\n",
      "\n",
      "0: 1120x1984 1 ball, 22 players, 61.8ms\n",
      "Speed: 12.5ms preprocess, 61.8ms inference, 1.3ms postprocess per image at shape (1, 3, 1120, 1984)\n",
      "\n"
     ]
    },
    {
     "name": "stdout",
     "output_type": "stream",
     "text": [
      "[[     123.55      684.26      658.99]\n",
      " [     132.24      504.14      543.95]]\n",
      "602\n",
      "[[     123.55      684.26      658.99]\n",
      " [     132.24      504.14      543.95]]\n",
      "603\n"
     ]
    },
    {
     "name": "stderr",
     "output_type": "stream",
     "text": [
      "0: 1120x1984 1 ball, 22 players, 61.9ms\n",
      "Speed: 13.0ms preprocess, 61.9ms inference, 1.2ms postprocess per image at shape (1, 3, 1120, 1984)\n",
      "\n",
      "0: 1120x1984 1 ball, 22 players, 62.0ms\n",
      "Speed: 12.6ms preprocess, 62.0ms inference, 1.3ms postprocess per image at shape (1, 3, 1120, 1984)\n",
      "\n"
     ]
    },
    {
     "name": "stdout",
     "output_type": "stream",
     "text": [
      "[[     123.55      684.26      658.99]\n",
      " [     132.24      504.14      543.95]]\n",
      "604\n",
      "[[     123.55      684.26      658.99]\n",
      " [     132.24      504.14      543.95]]\n",
      "605\n"
     ]
    },
    {
     "name": "stderr",
     "output_type": "stream",
     "text": [
      "0: 1120x1984 1 ball, 22 players, 61.6ms\n",
      "Speed: 12.8ms preprocess, 61.6ms inference, 1.3ms postprocess per image at shape (1, 3, 1120, 1984)\n",
      "\n",
      "0: 1120x1984 1 ball, 22 players, 61.5ms\n",
      "Speed: 12.5ms preprocess, 61.5ms inference, 1.3ms postprocess per image at shape (1, 3, 1120, 1984)\n",
      "\n"
     ]
    },
    {
     "name": "stdout",
     "output_type": "stream",
     "text": [
      "[[     123.55      684.26      658.99]\n",
      " [     132.24      504.14      543.95]]\n",
      "606\n",
      "[[     123.55      684.26      658.99]\n",
      " [     132.24      504.14      543.95]]\n",
      "607\n"
     ]
    },
    {
     "name": "stderr",
     "output_type": "stream",
     "text": [
      "0: 1120x1984 1 ball, 22 players, 62.0ms\n",
      "Speed: 12.7ms preprocess, 62.0ms inference, 1.3ms postprocess per image at shape (1, 3, 1120, 1984)\n",
      "\n",
      "0: 1120x1984 1 ball, 22 players, 61.5ms\n",
      "Speed: 12.5ms preprocess, 61.5ms inference, 1.2ms postprocess per image at shape (1, 3, 1120, 1984)\n",
      "\n"
     ]
    },
    {
     "name": "stdout",
     "output_type": "stream",
     "text": [
      "[[     123.55      684.26      658.99]\n",
      " [     132.24      504.14      543.95]]\n",
      "608\n",
      "[[     123.55      684.26      658.99]\n",
      " [     132.24      504.14      543.95]]\n",
      "609\n"
     ]
    },
    {
     "name": "stderr",
     "output_type": "stream",
     "text": [
      "0: 1120x1984 1 ball, 22 players, 62.1ms\n",
      "Speed: 12.6ms preprocess, 62.1ms inference, 1.2ms postprocess per image at shape (1, 3, 1120, 1984)\n",
      "\n",
      "0: 1120x1984 1 ball, 22 players, 61.4ms\n",
      "Speed: 12.4ms preprocess, 61.4ms inference, 1.3ms postprocess per image at shape (1, 3, 1120, 1984)\n",
      "\n"
     ]
    },
    {
     "name": "stdout",
     "output_type": "stream",
     "text": [
      "[[     123.55      684.26      658.99]\n",
      " [     132.24      504.14      543.95]]\n",
      "610\n",
      "[[     123.55      684.26      658.99]\n",
      " [     132.24      504.14      543.95]]\n",
      "611\n"
     ]
    },
    {
     "name": "stderr",
     "output_type": "stream",
     "text": [
      "0: 1120x1984 1 ball, 22 players, 61.8ms\n",
      "Speed: 12.0ms preprocess, 61.8ms inference, 1.2ms postprocess per image at shape (1, 3, 1120, 1984)\n",
      "\n",
      "0: 1120x1984 1 ball, 22 players, 61.6ms\n",
      "Speed: 12.0ms preprocess, 61.6ms inference, 1.3ms postprocess per image at shape (1, 3, 1120, 1984)\n",
      "\n"
     ]
    },
    {
     "name": "stdout",
     "output_type": "stream",
     "text": [
      "[[     123.55      684.26      658.99]\n",
      " [     132.24      504.14      543.95]]\n",
      "612\n",
      "[[     123.55      684.26      658.99]\n",
      " [     132.24      504.14      543.95]]\n",
      "613\n"
     ]
    },
    {
     "name": "stderr",
     "output_type": "stream",
     "text": [
      "0: 1120x1984 1 ball, 22 players, 62.2ms\n",
      "Speed: 12.0ms preprocess, 62.2ms inference, 1.3ms postprocess per image at shape (1, 3, 1120, 1984)\n",
      "\n",
      "0: 1120x1984 1 ball, 21 players, 61.5ms\n",
      "Speed: 12.1ms preprocess, 61.5ms inference, 1.2ms postprocess per image at shape (1, 3, 1120, 1984)\n",
      "\n"
     ]
    },
    {
     "name": "stdout",
     "output_type": "stream",
     "text": [
      "[[     123.55      684.26      658.99]\n",
      " [     132.24      504.14      543.95]]\n",
      "614\n",
      "[[     123.55      684.26      658.99]\n",
      " [     132.24      504.14      543.95]]\n",
      "615\n"
     ]
    },
    {
     "name": "stderr",
     "output_type": "stream",
     "text": [
      "0: 1120x1984 1 ball, 21 players, 62.1ms\n",
      "Speed: 12.0ms preprocess, 62.1ms inference, 1.3ms postprocess per image at shape (1, 3, 1120, 1984)\n",
      "\n",
      "0: 1120x1984 21 players, 61.7ms\n",
      "Speed: 12.0ms preprocess, 61.7ms inference, 1.3ms postprocess per image at shape (1, 3, 1120, 1984)\n",
      "\n"
     ]
    },
    {
     "name": "stdout",
     "output_type": "stream",
     "text": [
      "[[     123.55      684.26      658.99]\n",
      " [     132.24      504.14      543.95]]\n",
      "616\n",
      "[[     123.55      684.26      658.99]\n",
      " [     132.24      504.14      543.95]]\n",
      "617\n"
     ]
    },
    {
     "name": "stderr",
     "output_type": "stream",
     "text": [
      "0: 1120x1984 1 ball, 21 players, 62.0ms\n",
      "Speed: 12.2ms preprocess, 62.0ms inference, 1.3ms postprocess per image at shape (1, 3, 1120, 1984)\n",
      "\n",
      "0: 1120x1984 1 ball, 22 players, 61.6ms\n",
      "Speed: 11.9ms preprocess, 61.6ms inference, 1.2ms postprocess per image at shape (1, 3, 1120, 1984)\n",
      "\n"
     ]
    },
    {
     "name": "stdout",
     "output_type": "stream",
     "text": [
      "[[     123.55      684.26      658.99]\n",
      " [     132.24      504.14      543.95]]\n",
      "618\n",
      "[[     123.55      684.26      658.99]\n",
      " [     132.24      504.14      543.95]]\n",
      "619\n"
     ]
    },
    {
     "name": "stderr",
     "output_type": "stream",
     "text": [
      "0: 1120x1984 1 ball, 22 players, 62.0ms\n",
      "Speed: 12.0ms preprocess, 62.0ms inference, 1.2ms postprocess per image at shape (1, 3, 1120, 1984)\n",
      "\n",
      "0: 1120x1984 1 ball, 22 players, 61.6ms\n",
      "Speed: 12.4ms preprocess, 61.6ms inference, 1.2ms postprocess per image at shape (1, 3, 1120, 1984)\n",
      "\n"
     ]
    },
    {
     "name": "stdout",
     "output_type": "stream",
     "text": [
      "[[     123.55      684.26      658.99]\n",
      " [     132.24      504.14      543.95]]\n",
      "620\n",
      "[[     123.55      684.26      658.99]\n",
      " [     132.24      504.14      543.95]]\n",
      "621\n"
     ]
    },
    {
     "name": "stderr",
     "output_type": "stream",
     "text": [
      "0: 1120x1984 1 ball, 22 players, 62.0ms\n",
      "Speed: 12.5ms preprocess, 62.0ms inference, 1.2ms postprocess per image at shape (1, 3, 1120, 1984)\n",
      "\n",
      "0: 1120x1984 1 ball, 22 players, 61.4ms\n",
      "Speed: 12.4ms preprocess, 61.4ms inference, 1.2ms postprocess per image at shape (1, 3, 1120, 1984)\n",
      "\n"
     ]
    },
    {
     "name": "stdout",
     "output_type": "stream",
     "text": [
      "[[     123.55      684.26      658.99]\n",
      " [     132.24      504.14      543.95]]\n",
      "622\n",
      "[[     123.55      684.26      658.99]\n",
      " [     132.24      504.14      543.95]]\n",
      "623\n"
     ]
    },
    {
     "name": "stderr",
     "output_type": "stream",
     "text": [
      "0: 1120x1984 1 ball, 22 players, 62.1ms\n",
      "Speed: 12.4ms preprocess, 62.1ms inference, 1.3ms postprocess per image at shape (1, 3, 1120, 1984)\n",
      "\n",
      "0: 1120x1984 1 ball, 22 players, 61.4ms\n",
      "Speed: 12.0ms preprocess, 61.4ms inference, 1.2ms postprocess per image at shape (1, 3, 1120, 1984)\n",
      "\n"
     ]
    },
    {
     "name": "stdout",
     "output_type": "stream",
     "text": [
      "[[     123.55      684.26      658.99]\n",
      " [     132.24      504.14      543.95]]\n",
      "624\n",
      "[[     123.55      684.26      658.99]\n",
      " [     132.24      504.14      543.95]]\n",
      "625\n"
     ]
    },
    {
     "name": "stderr",
     "output_type": "stream",
     "text": [
      "0: 1120x1984 1 ball, 22 players, 62.1ms\n",
      "Speed: 12.5ms preprocess, 62.1ms inference, 1.2ms postprocess per image at shape (1, 3, 1120, 1984)\n",
      "\n",
      "0: 1120x1984 1 ball, 22 players, 61.7ms\n",
      "Speed: 11.8ms preprocess, 61.7ms inference, 1.3ms postprocess per image at shape (1, 3, 1120, 1984)\n",
      "\n"
     ]
    },
    {
     "name": "stdout",
     "output_type": "stream",
     "text": [
      "[[     123.55      684.26      658.99]\n",
      " [     132.24      504.14      543.95]]\n",
      "626\n",
      "[[     123.55      684.26      658.99]\n",
      " [     132.24      504.14      543.95]]\n",
      "627\n"
     ]
    },
    {
     "name": "stderr",
     "output_type": "stream",
     "text": [
      "0: 1120x1984 1 ball, 22 players, 61.9ms\n",
      "Speed: 12.5ms preprocess, 61.9ms inference, 1.2ms postprocess per image at shape (1, 3, 1120, 1984)\n",
      "\n",
      "0: 1120x1984 1 ball, 22 players, 61.6ms\n",
      "Speed: 12.0ms preprocess, 61.6ms inference, 1.3ms postprocess per image at shape (1, 3, 1120, 1984)\n",
      "\n"
     ]
    },
    {
     "name": "stdout",
     "output_type": "stream",
     "text": [
      "[[     123.55      684.26      658.99]\n",
      " [     132.24      504.14      543.95]]\n",
      "628\n",
      "[[     123.55      684.26      658.99]\n",
      " [     132.24      504.14      543.95]]\n",
      "629\n"
     ]
    },
    {
     "name": "stderr",
     "output_type": "stream",
     "text": [
      "0: 1120x1984 1 ball, 22 players, 62.0ms\n",
      "Speed: 12.5ms preprocess, 62.0ms inference, 1.3ms postprocess per image at shape (1, 3, 1120, 1984)\n",
      "\n",
      "0: 1120x1984 1 ball, 22 players, 61.6ms\n",
      "Speed: 11.9ms preprocess, 61.6ms inference, 1.2ms postprocess per image at shape (1, 3, 1120, 1984)\n",
      "\n"
     ]
    },
    {
     "name": "stdout",
     "output_type": "stream",
     "text": [
      "[[     123.55      684.26      658.99]\n",
      " [     132.24      504.14      543.95]]\n",
      "630\n",
      "[[     123.55      684.26      658.99]\n",
      " [     132.24      504.14      543.95]]\n",
      "631\n"
     ]
    },
    {
     "name": "stderr",
     "output_type": "stream",
     "text": [
      "0: 1120x1984 1 ball, 22 players, 61.9ms\n",
      "Speed: 12.1ms preprocess, 61.9ms inference, 1.2ms postprocess per image at shape (1, 3, 1120, 1984)\n",
      "\n",
      "0: 1120x1984 1 ball, 22 players, 61.5ms\n",
      "Speed: 12.0ms preprocess, 61.5ms inference, 1.3ms postprocess per image at shape (1, 3, 1120, 1984)\n",
      "\n"
     ]
    },
    {
     "name": "stdout",
     "output_type": "stream",
     "text": [
      "[[     123.55      684.26      658.99]\n",
      " [     132.24      504.14      543.95]]\n",
      "632\n",
      "[[     123.55      684.26      658.99]\n",
      " [     132.24      504.14      543.95]]\n",
      "633\n"
     ]
    },
    {
     "name": "stderr",
     "output_type": "stream",
     "text": [
      "0: 1120x1984 1 ball, 22 players, 61.8ms\n",
      "Speed: 12.0ms preprocess, 61.8ms inference, 1.3ms postprocess per image at shape (1, 3, 1120, 1984)\n",
      "\n",
      "0: 1120x1984 1 ball, 22 players, 61.6ms\n",
      "Speed: 11.9ms preprocess, 61.6ms inference, 1.2ms postprocess per image at shape (1, 3, 1120, 1984)\n",
      "\n"
     ]
    },
    {
     "name": "stdout",
     "output_type": "stream",
     "text": [
      "[[     123.55      684.26      658.99]\n",
      " [     132.24      504.14      543.95]]\n",
      "634\n",
      "[[     123.55      684.26      658.99]\n",
      " [     132.24      504.14      543.95]]\n",
      "635\n"
     ]
    },
    {
     "name": "stderr",
     "output_type": "stream",
     "text": [
      "0: 1120x1984 1 ball, 22 players, 61.9ms\n",
      "Speed: 12.5ms preprocess, 61.9ms inference, 1.3ms postprocess per image at shape (1, 3, 1120, 1984)\n",
      "\n",
      "0: 1120x1984 1 ball, 22 players, 61.6ms\n",
      "Speed: 12.3ms preprocess, 61.6ms inference, 1.3ms postprocess per image at shape (1, 3, 1120, 1984)\n",
      "\n"
     ]
    },
    {
     "name": "stdout",
     "output_type": "stream",
     "text": [
      "[[     123.55      684.26      658.99]\n",
      " [     132.24      504.14      543.95]]\n",
      "636\n",
      "[[     123.55      684.26      658.99]\n",
      " [     132.24      504.14      543.95]]\n",
      "637\n"
     ]
    },
    {
     "name": "stderr",
     "output_type": "stream",
     "text": [
      "0: 1120x1984 1 ball, 22 players, 62.0ms\n",
      "Speed: 12.0ms preprocess, 62.0ms inference, 1.3ms postprocess per image at shape (1, 3, 1120, 1984)\n",
      "\n",
      "0: 1120x1984 1 ball, 22 players, 61.4ms\n",
      "Speed: 12.1ms preprocess, 61.4ms inference, 1.2ms postprocess per image at shape (1, 3, 1120, 1984)\n",
      "\n"
     ]
    },
    {
     "name": "stdout",
     "output_type": "stream",
     "text": [
      "[[     123.55      684.26      658.99]\n",
      " [     132.24      504.14      543.95]]\n",
      "638\n",
      "[[     123.55      684.26      658.99]\n",
      " [     132.24      504.14      543.95]]\n",
      "639\n"
     ]
    },
    {
     "name": "stderr",
     "output_type": "stream",
     "text": [
      "0: 1120x1984 1 ball, 22 players, 63.1ms\n",
      "Speed: 11.9ms preprocess, 63.1ms inference, 1.3ms postprocess per image at shape (1, 3, 1120, 1984)\n",
      "\n",
      "0: 1120x1984 1 ball, 22 players, 61.6ms\n",
      "Speed: 12.2ms preprocess, 61.6ms inference, 1.2ms postprocess per image at shape (1, 3, 1120, 1984)\n",
      "\n"
     ]
    },
    {
     "name": "stdout",
     "output_type": "stream",
     "text": [
      "[[     123.55      684.26      658.99]\n",
      " [     132.24      504.14      543.95]]\n",
      "640\n",
      "[[     123.55      684.26      658.99]\n",
      " [     132.24      504.14      543.95]]\n",
      "641\n"
     ]
    },
    {
     "name": "stderr",
     "output_type": "stream",
     "text": [
      "0: 1120x1984 1 ball, 22 players, 61.9ms\n",
      "Speed: 12.0ms preprocess, 61.9ms inference, 1.3ms postprocess per image at shape (1, 3, 1120, 1984)\n",
      "\n",
      "0: 1120x1984 22 players, 61.6ms\n",
      "Speed: 11.9ms preprocess, 61.6ms inference, 1.3ms postprocess per image at shape (1, 3, 1120, 1984)\n",
      "\n"
     ]
    },
    {
     "name": "stdout",
     "output_type": "stream",
     "text": [
      "[[     123.55      684.26      658.99]\n",
      " [     132.24      504.14      543.95]]\n",
      "642\n",
      "[[     123.55      684.26      658.99]\n",
      " [     132.24      504.14      543.95]]\n",
      "643\n"
     ]
    },
    {
     "name": "stderr",
     "output_type": "stream",
     "text": [
      "0: 1120x1984 1 ball, 22 players, 61.7ms\n",
      "Speed: 12.1ms preprocess, 61.7ms inference, 1.3ms postprocess per image at shape (1, 3, 1120, 1984)\n",
      "\n",
      "0: 1120x1984 22 players, 61.6ms\n",
      "Speed: 12.0ms preprocess, 61.6ms inference, 1.2ms postprocess per image at shape (1, 3, 1120, 1984)\n",
      "\n"
     ]
    },
    {
     "name": "stdout",
     "output_type": "stream",
     "text": [
      "[[     123.55      684.26      658.99]\n",
      " [     132.24      504.14      543.95]]\n",
      "644\n",
      "[[     123.55      684.26      658.99]\n",
      " [     132.24      504.14      543.95]]\n",
      "645\n"
     ]
    },
    {
     "name": "stderr",
     "output_type": "stream",
     "text": [
      "0: 1120x1984 22 players, 61.9ms\n",
      "Speed: 11.9ms preprocess, 61.9ms inference, 1.3ms postprocess per image at shape (1, 3, 1120, 1984)\n",
      "\n",
      "0: 1120x1984 22 players, 61.7ms\n",
      "Speed: 12.0ms preprocess, 61.7ms inference, 1.3ms postprocess per image at shape (1, 3, 1120, 1984)\n",
      "\n"
     ]
    },
    {
     "name": "stdout",
     "output_type": "stream",
     "text": [
      "[[     123.55      684.26      658.99]\n",
      " [     132.24      504.14      543.95]]\n",
      "646\n",
      "[[     123.55      684.26      658.99]\n",
      " [     132.24      504.14      543.95]]\n",
      "647\n"
     ]
    },
    {
     "name": "stderr",
     "output_type": "stream",
     "text": [
      "0: 1120x1984 22 players, 62.0ms\n",
      "Speed: 12.6ms preprocess, 62.0ms inference, 1.3ms postprocess per image at shape (1, 3, 1120, 1984)\n",
      "\n",
      "0: 1120x1984 1 ball, 21 players, 61.6ms\n",
      "Speed: 11.9ms preprocess, 61.6ms inference, 1.3ms postprocess per image at shape (1, 3, 1120, 1984)\n"
     ]
    },
    {
     "name": "stdout",
     "output_type": "stream",
     "text": [
      "[[     123.55      684.26      658.99]\n",
      " [     132.24      504.14      543.95]]\n",
      "648\n"
     ]
    },
    {
     "name": "stderr",
     "output_type": "stream",
     "text": [
      "\n",
      "0: 1120x1984 1 ball, 21 players, 61.7ms\n",
      "Speed: 12.8ms preprocess, 61.7ms inference, 1.2ms postprocess per image at shape (1, 3, 1120, 1984)\n",
      "\n"
     ]
    },
    {
     "name": "stdout",
     "output_type": "stream",
     "text": [
      "[[     123.55      684.26      658.99]\n",
      " [     132.24      504.14      543.95]]\n",
      "649\n",
      "[[     123.55      684.26      658.99]\n",
      " [     132.24      504.14      543.95]]\n",
      "650\n"
     ]
    },
    {
     "name": "stderr",
     "output_type": "stream",
     "text": [
      "0: 1120x1984 1 ball, 21 players, 61.6ms\n",
      "Speed: 12.0ms preprocess, 61.6ms inference, 1.3ms postprocess per image at shape (1, 3, 1120, 1984)\n",
      "\n",
      "0: 1120x1984 1 ball, 21 players, 61.7ms\n",
      "Speed: 12.4ms preprocess, 61.7ms inference, 1.3ms postprocess per image at shape (1, 3, 1120, 1984)\n",
      "\n"
     ]
    },
    {
     "name": "stdout",
     "output_type": "stream",
     "text": [
      "[[     123.55      684.26      658.99]\n",
      " [     132.24      504.14      543.95]]\n",
      "651\n",
      "[[     123.55      684.26      658.99]\n",
      " [     132.24      504.14      543.95]]\n",
      "652\n"
     ]
    },
    {
     "name": "stderr",
     "output_type": "stream",
     "text": [
      "0: 1120x1984 1 ball, 22 players, 61.8ms\n",
      "Speed: 12.4ms preprocess, 61.8ms inference, 1.2ms postprocess per image at shape (1, 3, 1120, 1984)\n",
      "\n",
      "0: 1120x1984 1 ball, 22 players, 61.8ms\n",
      "Speed: 12.0ms preprocess, 61.8ms inference, 1.3ms postprocess per image at shape (1, 3, 1120, 1984)\n"
     ]
    },
    {
     "name": "stdout",
     "output_type": "stream",
     "text": [
      "[[     123.55      684.26      658.99]\n",
      " [     132.24      504.14      543.95]]\n",
      "653\n",
      "[[     123.55      684.26      658.99]\n",
      " [     132.24      504.14      543.95]]\n"
     ]
    },
    {
     "name": "stderr",
     "output_type": "stream",
     "text": [
      "\n",
      "0: 1120x1984 1 ball, 22 players, 61.5ms\n",
      "Speed: 12.0ms preprocess, 61.5ms inference, 1.2ms postprocess per image at shape (1, 3, 1120, 1984)\n",
      "\n"
     ]
    },
    {
     "name": "stdout",
     "output_type": "stream",
     "text": [
      "654\n",
      "[[     123.55      684.26      658.99]\n",
      " [     132.24      504.14      543.95]]\n",
      "655\n"
     ]
    },
    {
     "name": "stderr",
     "output_type": "stream",
     "text": [
      "0: 1120x1984 1 ball, 22 players, 62.2ms\n",
      "Speed: 12.1ms preprocess, 62.2ms inference, 1.2ms postprocess per image at shape (1, 3, 1120, 1984)\n",
      "\n",
      "0: 1120x1984 23 players, 61.4ms\n",
      "Speed: 12.8ms preprocess, 61.4ms inference, 1.2ms postprocess per image at shape (1, 3, 1120, 1984)\n",
      "\n"
     ]
    },
    {
     "name": "stdout",
     "output_type": "stream",
     "text": [
      "[[     123.55      684.26      658.99]\n",
      " [     132.24      504.14      543.95]]\n",
      "656\n",
      "[[     123.55      684.26      658.99]\n",
      " [     132.24      504.14      543.95]]\n",
      "657\n"
     ]
    },
    {
     "name": "stderr",
     "output_type": "stream",
     "text": [
      "0: 1120x1984 1 ball, 22 players, 62.0ms\n",
      "Speed: 12.0ms preprocess, 62.0ms inference, 1.3ms postprocess per image at shape (1, 3, 1120, 1984)\n",
      "\n",
      "0: 1120x1984 1 ball, 22 players, 61.6ms\n",
      "Speed: 11.9ms preprocess, 61.6ms inference, 1.3ms postprocess per image at shape (1, 3, 1120, 1984)\n",
      "\n"
     ]
    },
    {
     "name": "stdout",
     "output_type": "stream",
     "text": [
      "[[     123.55      684.26      658.99]\n",
      " [     132.24      504.14      543.95]]\n",
      "658\n",
      "[[     123.55      684.26      658.99]\n",
      " [     132.24      504.14      543.95]]\n",
      "659\n"
     ]
    },
    {
     "name": "stderr",
     "output_type": "stream",
     "text": [
      "0: 1120x1984 1 ball, 22 players, 61.6ms\n",
      "Speed: 12.0ms preprocess, 61.6ms inference, 1.2ms postprocess per image at shape (1, 3, 1120, 1984)\n",
      "\n",
      "0: 1120x1984 1 ball, 22 players, 61.4ms\n",
      "Speed: 11.9ms preprocess, 61.4ms inference, 1.2ms postprocess per image at shape (1, 3, 1120, 1984)\n",
      "\n"
     ]
    },
    {
     "name": "stdout",
     "output_type": "stream",
     "text": [
      "[[     123.55      684.26      658.99]\n",
      " [     132.24      504.14      543.95]]\n",
      "660\n",
      "[[     123.55      684.26      658.99]\n",
      " [     132.24      504.14      543.95]]\n",
      "661\n"
     ]
    },
    {
     "name": "stderr",
     "output_type": "stream",
     "text": [
      "0: 1120x1984 1 ball, 22 players, 62.0ms\n",
      "Speed: 12.5ms preprocess, 62.0ms inference, 1.2ms postprocess per image at shape (1, 3, 1120, 1984)\n",
      "\n",
      "0: 1120x1984 1 ball, 22 players, 61.5ms\n",
      "Speed: 12.7ms preprocess, 61.5ms inference, 1.2ms postprocess per image at shape (1, 3, 1120, 1984)\n",
      "\n"
     ]
    },
    {
     "name": "stdout",
     "output_type": "stream",
     "text": [
      "[[     123.55      684.26      658.99]\n",
      " [     132.24      504.14      543.95]]\n",
      "662\n",
      "[[     123.55      684.26      658.99]\n",
      " [     132.24      504.14      543.95]]\n",
      "663\n"
     ]
    },
    {
     "name": "stderr",
     "output_type": "stream",
     "text": [
      "0: 1120x1984 1 ball, 22 players, 61.4ms\n",
      "Speed: 11.9ms preprocess, 61.4ms inference, 1.2ms postprocess per image at shape (1, 3, 1120, 1984)\n",
      "\n",
      "0: 1120x1984 1 ball, 22 players, 61.4ms\n",
      "Speed: 12.0ms preprocess, 61.4ms inference, 1.2ms postprocess per image at shape (1, 3, 1120, 1984)\n",
      "\n"
     ]
    },
    {
     "name": "stdout",
     "output_type": "stream",
     "text": [
      "[[     123.55      684.26      658.99]\n",
      " [     132.24      504.14      543.95]]\n",
      "664\n",
      "[[     123.55      684.26      658.99]\n",
      " [     132.24      504.14      543.95]]\n",
      "665\n"
     ]
    },
    {
     "name": "stderr",
     "output_type": "stream",
     "text": [
      "0: 1120x1984 1 ball, 22 players, 61.9ms\n",
      "Speed: 12.0ms preprocess, 61.9ms inference, 1.2ms postprocess per image at shape (1, 3, 1120, 1984)\n",
      "\n",
      "0: 1120x1984 1 ball, 22 players, 61.9ms\n",
      "Speed: 12.0ms preprocess, 61.9ms inference, 1.2ms postprocess per image at shape (1, 3, 1120, 1984)\n",
      "\n"
     ]
    },
    {
     "name": "stdout",
     "output_type": "stream",
     "text": [
      "[[     123.55      684.26      658.99]\n",
      " [     132.24      504.14      543.95]]\n",
      "666\n",
      "[[     123.55      684.26      658.99]\n",
      " [     132.24      504.14      543.95]]\n",
      "667\n"
     ]
    },
    {
     "name": "stderr",
     "output_type": "stream",
     "text": [
      "0: 1120x1984 1 ball, 22 players, 61.5ms\n",
      "Speed: 12.0ms preprocess, 61.5ms inference, 1.2ms postprocess per image at shape (1, 3, 1120, 1984)\n",
      "\n",
      "0: 1120x1984 1 ball, 22 players, 61.6ms\n",
      "Speed: 12.8ms preprocess, 61.6ms inference, 1.2ms postprocess per image at shape (1, 3, 1120, 1984)\n",
      "\n"
     ]
    },
    {
     "name": "stdout",
     "output_type": "stream",
     "text": [
      "[[     123.55      684.26      658.99]\n",
      " [     132.24      504.14      543.95]]\n",
      "668\n",
      "[[     123.55      684.26      658.99]\n",
      " [     132.24      504.14      543.95]]\n",
      "669\n"
     ]
    },
    {
     "name": "stderr",
     "output_type": "stream",
     "text": [
      "0: 1120x1984 1 ball, 22 players, 61.8ms\n",
      "Speed: 12.4ms preprocess, 61.8ms inference, 1.3ms postprocess per image at shape (1, 3, 1120, 1984)\n",
      "\n",
      "0: 1120x1984 1 ball, 22 players, 61.8ms\n",
      "Speed: 12.3ms preprocess, 61.8ms inference, 1.3ms postprocess per image at shape (1, 3, 1120, 1984)\n",
      "\n"
     ]
    },
    {
     "name": "stdout",
     "output_type": "stream",
     "text": [
      "[[     123.55      684.26      658.99]\n",
      " [     132.24      504.14      543.95]]\n",
      "670\n",
      "[[     123.55      684.26      658.99]\n",
      " [     132.24      504.14      543.95]]\n",
      "671\n"
     ]
    },
    {
     "name": "stderr",
     "output_type": "stream",
     "text": [
      "0: 1120x1984 1 ball, 22 players, 61.5ms\n",
      "Speed: 12.3ms preprocess, 61.5ms inference, 1.3ms postprocess per image at shape (1, 3, 1120, 1984)\n",
      "\n",
      "0: 1120x1984 1 ball, 22 players, 62.0ms\n",
      "Speed: 11.8ms preprocess, 62.0ms inference, 1.3ms postprocess per image at shape (1, 3, 1120, 1984)\n",
      "\n"
     ]
    },
    {
     "name": "stdout",
     "output_type": "stream",
     "text": [
      "[[     123.55      684.26      658.99]\n",
      " [     132.24      504.14      543.95]]\n",
      "672\n",
      "[[     123.55      684.26      658.99]\n",
      " [     132.24      504.14      543.95]]\n",
      "673\n"
     ]
    },
    {
     "name": "stderr",
     "output_type": "stream",
     "text": [
      "0: 1120x1984 1 ball, 22 players, 61.5ms\n",
      "Speed: 12.0ms preprocess, 61.5ms inference, 1.2ms postprocess per image at shape (1, 3, 1120, 1984)\n",
      "\n",
      "0: 1120x1984 1 ball, 22 players, 61.5ms\n",
      "Speed: 12.1ms preprocess, 61.5ms inference, 1.3ms postprocess per image at shape (1, 3, 1120, 1984)\n",
      "\n"
     ]
    },
    {
     "name": "stdout",
     "output_type": "stream",
     "text": [
      "[[     123.55      684.26      658.99]\n",
      " [     132.24      504.14      543.95]]\n",
      "674\n",
      "[[     123.55      684.26      658.99]\n",
      " [     132.24      504.14      543.95]]\n",
      "675\n"
     ]
    },
    {
     "name": "stderr",
     "output_type": "stream",
     "text": [
      "0: 1120x1984 1 ball, 22 players, 61.9ms\n",
      "Speed: 11.9ms preprocess, 61.9ms inference, 1.3ms postprocess per image at shape (1, 3, 1120, 1984)\n",
      "\n",
      "0: 1120x1984 1 ball, 22 players, 61.5ms\n",
      "Speed: 12.0ms preprocess, 61.5ms inference, 1.3ms postprocess per image at shape (1, 3, 1120, 1984)\n",
      "\n"
     ]
    },
    {
     "name": "stdout",
     "output_type": "stream",
     "text": [
      "[[     123.55      684.26      658.99]\n",
      " [     132.24      504.14      543.95]]\n",
      "676\n",
      "[[     123.55      684.26      658.99]\n",
      " [     132.24      504.14      543.95]]\n",
      "677\n"
     ]
    },
    {
     "name": "stderr",
     "output_type": "stream",
     "text": [
      "0: 1120x1984 1 ball, 22 players, 62.0ms\n",
      "Speed: 11.9ms preprocess, 62.0ms inference, 1.3ms postprocess per image at shape (1, 3, 1120, 1984)\n",
      "\n",
      "0: 1120x1984 1 ball, 22 players, 61.6ms\n",
      "Speed: 12.1ms preprocess, 61.6ms inference, 1.3ms postprocess per image at shape (1, 3, 1120, 1984)\n",
      "\n"
     ]
    },
    {
     "name": "stdout",
     "output_type": "stream",
     "text": [
      "[[     123.55      684.26      658.99]\n",
      " [     132.24      504.14      543.95]]\n",
      "678\n",
      "[[     123.55      684.26      658.99]\n",
      " [     132.24      504.14      543.95]]\n",
      "679\n"
     ]
    },
    {
     "name": "stderr",
     "output_type": "stream",
     "text": [
      "0: 1120x1984 1 ball, 22 players, 62.0ms\n",
      "Speed: 12.0ms preprocess, 62.0ms inference, 1.2ms postprocess per image at shape (1, 3, 1120, 1984)\n",
      "\n",
      "0: 1120x1984 1 ball, 22 players, 61.7ms\n",
      "Speed: 11.9ms preprocess, 61.7ms inference, 1.2ms postprocess per image at shape (1, 3, 1120, 1984)\n",
      "\n"
     ]
    },
    {
     "name": "stdout",
     "output_type": "stream",
     "text": [
      "[[     123.55      684.26      658.99]\n",
      " [     132.24      504.14      543.95]]\n",
      "680\n",
      "[[     123.55      684.26      658.99]\n",
      " [     132.24      504.14      543.95]]\n",
      "681\n"
     ]
    },
    {
     "name": "stderr",
     "output_type": "stream",
     "text": [
      "0: 1120x1984 1 ball, 22 players, 61.6ms\n",
      "Speed: 11.8ms preprocess, 61.6ms inference, 1.3ms postprocess per image at shape (1, 3, 1120, 1984)\n",
      "\n",
      "0: 1120x1984 1 ball, 22 players, 61.7ms\n",
      "Speed: 12.5ms preprocess, 61.7ms inference, 1.3ms postprocess per image at shape (1, 3, 1120, 1984)\n",
      "\n"
     ]
    },
    {
     "name": "stdout",
     "output_type": "stream",
     "text": [
      "[[     123.55      684.26      658.99]\n",
      " [     132.24      504.14      543.95]]\n",
      "682\n",
      "[[     123.55      684.26      658.99]\n",
      " [     132.24      504.14      543.95]]\n",
      "683\n"
     ]
    },
    {
     "name": "stderr",
     "output_type": "stream",
     "text": [
      "0: 1120x1984 1 ball, 23 players, 61.6ms\n",
      "Speed: 12.0ms preprocess, 61.6ms inference, 1.3ms postprocess per image at shape (1, 3, 1120, 1984)\n",
      "\n",
      "0: 1120x1984 1 ball, 22 players, 61.4ms\n",
      "Speed: 12.1ms preprocess, 61.4ms inference, 1.3ms postprocess per image at shape (1, 3, 1120, 1984)\n",
      "\n"
     ]
    },
    {
     "name": "stdout",
     "output_type": "stream",
     "text": [
      "[[     123.55      684.26      658.99]\n",
      " [     132.24      504.14      543.95]]\n",
      "684\n",
      "[[     123.55      684.26      658.99]\n",
      " [     132.24      504.14      543.95]]\n",
      "685\n"
     ]
    },
    {
     "name": "stderr",
     "output_type": "stream",
     "text": [
      "0: 1120x1984 1 ball, 23 players, 61.5ms\n",
      "Speed: 12.0ms preprocess, 61.5ms inference, 1.2ms postprocess per image at shape (1, 3, 1120, 1984)\n",
      "\n",
      "0: 1120x1984 1 ball, 23 players, 61.6ms\n",
      "Speed: 11.9ms preprocess, 61.6ms inference, 1.3ms postprocess per image at shape (1, 3, 1120, 1984)\n",
      "\n"
     ]
    },
    {
     "name": "stdout",
     "output_type": "stream",
     "text": [
      "[[     123.55      684.26      658.99]\n",
      " [     132.24      504.14      543.95]]\n",
      "686\n",
      "[[     123.55      684.26      658.99]\n",
      " [     132.24      504.14      543.95]]\n",
      "687\n"
     ]
    },
    {
     "name": "stderr",
     "output_type": "stream",
     "text": [
      "0: 1120x1984 1 ball, 22 players, 61.4ms\n",
      "Speed: 12.0ms preprocess, 61.4ms inference, 1.2ms postprocess per image at shape (1, 3, 1120, 1984)\n",
      "\n",
      "0: 1120x1984 1 ball, 22 players, 61.7ms\n",
      "Speed: 11.8ms preprocess, 61.7ms inference, 1.3ms postprocess per image at shape (1, 3, 1120, 1984)\n",
      "\n"
     ]
    },
    {
     "name": "stdout",
     "output_type": "stream",
     "text": [
      "[[     123.55      684.26      658.99]\n",
      " [     132.24      504.14      543.95]]\n",
      "688\n",
      "[[     123.55      684.26      658.99]\n",
      " [     132.24      504.14      543.95]]\n",
      "689\n"
     ]
    },
    {
     "name": "stderr",
     "output_type": "stream",
     "text": [
      "0: 1120x1984 1 ball, 22 players, 61.9ms\n",
      "Speed: 12.0ms preprocess, 61.9ms inference, 1.3ms postprocess per image at shape (1, 3, 1120, 1984)\n",
      "\n",
      "0: 1120x1984 1 ball, 22 players, 61.7ms\n",
      "Speed: 12.0ms preprocess, 61.7ms inference, 1.3ms postprocess per image at shape (1, 3, 1120, 1984)\n",
      "\n"
     ]
    },
    {
     "name": "stdout",
     "output_type": "stream",
     "text": [
      "[[     123.55      684.26      658.99]\n",
      " [     132.24      504.14      543.95]]\n",
      "690\n",
      "[[     123.55      684.26      658.99]\n",
      " [     132.24      504.14      543.95]]\n",
      "691\n"
     ]
    },
    {
     "name": "stderr",
     "output_type": "stream",
     "text": [
      "0: 1120x1984 1 ball, 22 players, 61.6ms\n",
      "Speed: 12.0ms preprocess, 61.6ms inference, 1.2ms postprocess per image at shape (1, 3, 1120, 1984)\n",
      "\n",
      "0: 1120x1984 1 ball, 22 players, 61.5ms\n",
      "Speed: 11.9ms preprocess, 61.5ms inference, 1.3ms postprocess per image at shape (1, 3, 1120, 1984)\n",
      "\n"
     ]
    },
    {
     "name": "stdout",
     "output_type": "stream",
     "text": [
      "[[     123.55      684.26      658.99]\n",
      " [     132.24      504.14      543.95]]\n",
      "692\n",
      "[[     123.55      684.26      658.99]\n",
      " [     132.24      504.14      543.95]]\n",
      "693\n"
     ]
    },
    {
     "name": "stderr",
     "output_type": "stream",
     "text": [
      "0: 1120x1984 1 ball, 22 players, 61.7ms\n",
      "Speed: 12.4ms preprocess, 61.7ms inference, 1.2ms postprocess per image at shape (1, 3, 1120, 1984)\n",
      "\n",
      "0: 1120x1984 1 ball, 22 players, 61.6ms\n",
      "Speed: 12.0ms preprocess, 61.6ms inference, 1.3ms postprocess per image at shape (1, 3, 1120, 1984)\n",
      "\n"
     ]
    },
    {
     "name": "stdout",
     "output_type": "stream",
     "text": [
      "[[     123.55      684.26      658.99]\n",
      " [     132.24      504.14      543.95]]\n",
      "694\n",
      "[[     123.55      684.26      658.99]\n",
      " [     132.24      504.14      543.95]]\n",
      "695\n"
     ]
    },
    {
     "name": "stderr",
     "output_type": "stream",
     "text": [
      "0: 1120x1984 1 ball, 22 players, 61.9ms\n",
      "Speed: 12.0ms preprocess, 61.9ms inference, 1.3ms postprocess per image at shape (1, 3, 1120, 1984)\n",
      "\n",
      "0: 1120x1984 1 ball, 22 players, 61.6ms\n",
      "Speed: 13.3ms preprocess, 61.6ms inference, 1.2ms postprocess per image at shape (1, 3, 1120, 1984)\n",
      "\n"
     ]
    },
    {
     "name": "stdout",
     "output_type": "stream",
     "text": [
      "[[     123.55      684.26      658.99]\n",
      " [     132.24      504.14      543.95]]\n",
      "696\n",
      "[[     123.55      684.26      658.99]\n",
      " [     132.24      504.14      543.95]]\n",
      "697\n"
     ]
    },
    {
     "name": "stderr",
     "output_type": "stream",
     "text": [
      "0: 1120x1984 1 ball, 22 players, 61.8ms\n",
      "Speed: 12.6ms preprocess, 61.8ms inference, 1.2ms postprocess per image at shape (1, 3, 1120, 1984)\n",
      "\n",
      "0: 1120x1984 1 ball, 22 players, 61.6ms\n",
      "Speed: 12.7ms preprocess, 61.6ms inference, 1.2ms postprocess per image at shape (1, 3, 1120, 1984)\n",
      "\n"
     ]
    },
    {
     "name": "stdout",
     "output_type": "stream",
     "text": [
      "[[     123.55      684.26      658.99]\n",
      " [     132.24      504.14      543.95]]\n",
      "698\n",
      "[[     123.55      684.26      658.99]\n",
      " [     132.24      504.14      543.95]]\n",
      "699\n"
     ]
    },
    {
     "name": "stderr",
     "output_type": "stream",
     "text": [
      "0: 1120x1984 1 ball, 22 players, 61.6ms\n",
      "Speed: 11.9ms preprocess, 61.6ms inference, 1.3ms postprocess per image at shape (1, 3, 1120, 1984)\n",
      "\n",
      "0: 1120x1984 1 ball, 22 players, 61.6ms\n",
      "Speed: 12.0ms preprocess, 61.6ms inference, 1.2ms postprocess per image at shape (1, 3, 1120, 1984)\n",
      "\n"
     ]
    },
    {
     "name": "stdout",
     "output_type": "stream",
     "text": [
      "[[     123.55      684.26      658.99]\n",
      " [     132.24      504.14      543.95]]\n",
      "700\n",
      "[[     123.55      684.26      658.99]\n",
      " [     132.24      504.14      543.95]]\n",
      "701\n"
     ]
    },
    {
     "name": "stderr",
     "output_type": "stream",
     "text": [
      "0: 1120x1984 1 ball, 22 players, 62.1ms\n",
      "Speed: 12.6ms preprocess, 62.1ms inference, 1.2ms postprocess per image at shape (1, 3, 1120, 1984)\n",
      "\n",
      "0: 1120x1984 1 ball, 22 players, 61.6ms\n",
      "Speed: 12.2ms preprocess, 61.6ms inference, 1.2ms postprocess per image at shape (1, 3, 1120, 1984)\n",
      "\n"
     ]
    },
    {
     "name": "stdout",
     "output_type": "stream",
     "text": [
      "[[     123.55      684.26      658.99]\n",
      " [     132.24      504.14      543.95]]\n",
      "702\n",
      "[[     123.55      684.26      658.99]\n",
      " [     132.24      504.14      543.95]]\n",
      "703\n"
     ]
    },
    {
     "name": "stderr",
     "output_type": "stream",
     "text": [
      "0: 1120x1984 1 ball, 22 players, 61.9ms\n",
      "Speed: 12.1ms preprocess, 61.9ms inference, 1.2ms postprocess per image at shape (1, 3, 1120, 1984)\n",
      "\n",
      "0: 1120x1984 1 ball, 22 players, 61.8ms\n",
      "Speed: 12.4ms preprocess, 61.8ms inference, 1.2ms postprocess per image at shape (1, 3, 1120, 1984)\n",
      "\n"
     ]
    },
    {
     "name": "stdout",
     "output_type": "stream",
     "text": [
      "[[     123.55      684.26      658.99]\n",
      " [     132.24      504.14      543.95]]\n",
      "704\n",
      "[[     123.55      684.26      658.99]\n",
      " [     132.24      504.14      543.95]]\n",
      "705\n"
     ]
    },
    {
     "name": "stderr",
     "output_type": "stream",
     "text": [
      "0: 1120x1984 1 ball, 22 players, 61.9ms\n",
      "Speed: 12.4ms preprocess, 61.9ms inference, 1.3ms postprocess per image at shape (1, 3, 1120, 1984)\n",
      "\n",
      "0: 1120x1984 1 ball, 22 players, 61.7ms\n",
      "Speed: 11.9ms preprocess, 61.7ms inference, 1.2ms postprocess per image at shape (1, 3, 1120, 1984)\n",
      "\n"
     ]
    },
    {
     "name": "stdout",
     "output_type": "stream",
     "text": [
      "[[     123.55      684.26      658.99]\n",
      " [     132.24      504.14      543.95]]\n",
      "706\n",
      "[[     123.55      684.26      658.99]\n",
      " [     132.24      504.14      543.95]]\n",
      "707\n"
     ]
    },
    {
     "name": "stderr",
     "output_type": "stream",
     "text": [
      "0: 1120x1984 1 ball, 22 players, 61.8ms\n",
      "Speed: 12.2ms preprocess, 61.8ms inference, 1.2ms postprocess per image at shape (1, 3, 1120, 1984)\n",
      "\n",
      "0: 1120x1984 1 ball, 22 players, 61.5ms\n",
      "Speed: 12.3ms preprocess, 61.5ms inference, 1.2ms postprocess per image at shape (1, 3, 1120, 1984)\n",
      "\n"
     ]
    },
    {
     "name": "stdout",
     "output_type": "stream",
     "text": [
      "[[     123.55      684.26      658.99]\n",
      " [     132.24      504.14      543.95]]\n",
      "708\n",
      "[[     123.55      684.26      658.99]\n",
      " [     132.24      504.14      543.95]]\n",
      "709\n"
     ]
    },
    {
     "name": "stderr",
     "output_type": "stream",
     "text": [
      "0: 1120x1984 1 ball, 22 players, 61.6ms\n",
      "Speed: 12.0ms preprocess, 61.6ms inference, 1.4ms postprocess per image at shape (1, 3, 1120, 1984)\n",
      "\n",
      "0: 1120x1984 1 ball, 22 players, 61.5ms\n",
      "Speed: 11.9ms preprocess, 61.5ms inference, 1.2ms postprocess per image at shape (1, 3, 1120, 1984)\n"
     ]
    },
    {
     "name": "stdout",
     "output_type": "stream",
     "text": [
      "[[     123.55      684.26      658.99]\n",
      " [     132.24      504.14      543.95]]\n",
      "710\n",
      "[[     123.55      684.26      658.99]\n",
      " [     132.24      504.14      543.95]]\n"
     ]
    },
    {
     "name": "stderr",
     "output_type": "stream",
     "text": [
      "\n",
      "0: 1120x1984 1 ball, 23 players, 61.5ms\n",
      "Speed: 12.1ms preprocess, 61.5ms inference, 1.3ms postprocess per image at shape (1, 3, 1120, 1984)\n",
      "\n"
     ]
    },
    {
     "name": "stdout",
     "output_type": "stream",
     "text": [
      "711\n",
      "[[     123.55      684.26      658.99]\n",
      " [     132.24      504.14      543.95]]\n",
      "712\n"
     ]
    },
    {
     "name": "stderr",
     "output_type": "stream",
     "text": [
      "0: 1120x1984 1 ball, 22 players, 61.7ms\n",
      "Speed: 12.1ms preprocess, 61.7ms inference, 1.2ms postprocess per image at shape (1, 3, 1120, 1984)\n",
      "\n",
      "0: 1120x1984 1 ball, 22 players, 61.6ms\n",
      "Speed: 12.0ms preprocess, 61.6ms inference, 1.3ms postprocess per image at shape (1, 3, 1120, 1984)\n",
      "\n"
     ]
    },
    {
     "name": "stdout",
     "output_type": "stream",
     "text": [
      "[[     123.55      684.26      658.99]\n",
      " [     132.24      504.14      543.95]]\n",
      "713\n",
      "[[     123.55      684.26      658.99]\n",
      " [     132.24      504.14      543.95]]\n",
      "714\n"
     ]
    },
    {
     "name": "stderr",
     "output_type": "stream",
     "text": [
      "0: 1120x1984 1 ball, 22 players, 61.7ms\n",
      "Speed: 12.2ms preprocess, 61.7ms inference, 1.3ms postprocess per image at shape (1, 3, 1120, 1984)\n",
      "\n",
      "0: 1120x1984 1 ball, 22 players, 61.9ms\n",
      "Speed: 12.1ms preprocess, 61.9ms inference, 1.3ms postprocess per image at shape (1, 3, 1120, 1984)\n",
      "\n"
     ]
    },
    {
     "name": "stdout",
     "output_type": "stream",
     "text": [
      "[[     123.55      684.26      658.99]\n",
      " [     132.24      504.14      543.95]]\n",
      "715\n",
      "[[     123.55      684.26      658.99]\n",
      " [     132.24      504.14      543.95]]\n",
      "716\n"
     ]
    },
    {
     "name": "stderr",
     "output_type": "stream",
     "text": [
      "0: 1120x1984 1 ball, 22 players, 62.0ms\n",
      "Speed: 12.1ms preprocess, 62.0ms inference, 1.2ms postprocess per image at shape (1, 3, 1120, 1984)\n",
      "\n",
      "0: 1120x1984 1 ball, 22 players, 61.5ms\n",
      "Speed: 11.9ms preprocess, 61.5ms inference, 1.3ms postprocess per image at shape (1, 3, 1120, 1984)\n",
      "\n"
     ]
    },
    {
     "name": "stdout",
     "output_type": "stream",
     "text": [
      "[[     123.55      684.26      658.99]\n",
      " [     132.24      504.14      543.95]]\n",
      "717\n",
      "[[     123.55      684.26      658.99]\n",
      " [     132.24      504.14      543.95]]\n",
      "718\n"
     ]
    },
    {
     "name": "stderr",
     "output_type": "stream",
     "text": [
      "0: 1120x1984 1 ball, 22 players, 61.9ms\n",
      "Speed: 12.1ms preprocess, 61.9ms inference, 1.3ms postprocess per image at shape (1, 3, 1120, 1984)\n",
      "\n",
      "0: 1120x1984 1 ball, 22 players, 61.7ms\n",
      "Speed: 11.9ms preprocess, 61.7ms inference, 1.3ms postprocess per image at shape (1, 3, 1120, 1984)\n",
      "\n"
     ]
    },
    {
     "name": "stdout",
     "output_type": "stream",
     "text": [
      "[[     123.55      684.26      658.99]\n",
      " [     132.24      504.14      543.95]]\n",
      "719\n",
      "[[     123.55      684.26      658.99]\n",
      " [     132.24      504.14      543.95]]\n",
      "720\n"
     ]
    },
    {
     "name": "stderr",
     "output_type": "stream",
     "text": [
      "0: 1120x1984 1 ball, 22 players, 61.5ms\n",
      "Speed: 12.1ms preprocess, 61.5ms inference, 1.3ms postprocess per image at shape (1, 3, 1120, 1984)\n",
      "\n",
      "0: 1120x1984 1 ball, 22 players, 61.5ms\n",
      "Speed: 14.2ms preprocess, 61.5ms inference, 1.2ms postprocess per image at shape (1, 3, 1120, 1984)\n",
      "\n"
     ]
    },
    {
     "name": "stdout",
     "output_type": "stream",
     "text": [
      "[[     123.55      684.26      658.99]\n",
      " [     132.24      504.14      543.95]]\n",
      "721\n",
      "[[     123.55      684.26      658.99]\n",
      " [     132.24      504.14      543.95]]\n",
      "722\n"
     ]
    },
    {
     "name": "stderr",
     "output_type": "stream",
     "text": [
      "0: 1120x1984 1 ball, 22 players, 61.7ms\n",
      "Speed: 12.4ms preprocess, 61.7ms inference, 1.3ms postprocess per image at shape (1, 3, 1120, 1984)\n",
      "\n",
      "0: 1120x1984 1 ball, 22 players, 61.4ms\n",
      "Speed: 12.0ms preprocess, 61.4ms inference, 1.3ms postprocess per image at shape (1, 3, 1120, 1984)\n",
      "\n"
     ]
    },
    {
     "name": "stdout",
     "output_type": "stream",
     "text": [
      "[[     123.55      684.26      658.99]\n",
      " [     132.24      504.14      543.95]]\n",
      "723\n",
      "[[     123.55      684.26      658.99]\n",
      " [     132.24      504.14      543.95]]\n",
      "724\n"
     ]
    },
    {
     "name": "stderr",
     "output_type": "stream",
     "text": [
      "0: 1120x1984 1 ball, 22 players, 61.6ms\n",
      "Speed: 12.0ms preprocess, 61.6ms inference, 1.3ms postprocess per image at shape (1, 3, 1120, 1984)\n",
      "\n",
      "0: 1120x1984 1 ball, 22 players, 61.3ms\n",
      "Speed: 12.2ms preprocess, 61.3ms inference, 1.3ms postprocess per image at shape (1, 3, 1120, 1984)\n",
      "\n"
     ]
    },
    {
     "name": "stdout",
     "output_type": "stream",
     "text": [
      "[[     123.55      684.26      658.99]\n",
      " [     132.24      504.14      543.95]]\n",
      "725\n",
      "[[     123.55      684.26      658.99]\n",
      " [     132.24      504.14      543.95]]\n",
      "726\n"
     ]
    },
    {
     "name": "stderr",
     "output_type": "stream",
     "text": [
      "0: 1120x1984 1 ball, 22 players, 61.7ms\n",
      "Speed: 12.1ms preprocess, 61.7ms inference, 1.3ms postprocess per image at shape (1, 3, 1120, 1984)\n",
      "\n",
      "0: 1120x1984 1 ball, 22 players, 61.8ms\n",
      "Speed: 12.6ms preprocess, 61.8ms inference, 1.2ms postprocess per image at shape (1, 3, 1120, 1984)\n",
      "\n"
     ]
    },
    {
     "name": "stdout",
     "output_type": "stream",
     "text": [
      "[[     123.55      684.26      658.99]\n",
      " [     132.24      504.14      543.95]]\n",
      "727\n",
      "[[     123.55      684.26      658.99]\n",
      " [     132.24      504.14      543.95]]\n",
      "728\n"
     ]
    },
    {
     "name": "stderr",
     "output_type": "stream",
     "text": [
      "0: 1120x1984 1 ball, 22 players, 61.9ms\n",
      "Speed: 11.9ms preprocess, 61.9ms inference, 1.3ms postprocess per image at shape (1, 3, 1120, 1984)\n",
      "\n",
      "0: 1120x1984 1 ball, 23 players, 61.4ms\n",
      "Speed: 12.2ms preprocess, 61.4ms inference, 1.3ms postprocess per image at shape (1, 3, 1120, 1984)\n",
      "\n"
     ]
    },
    {
     "name": "stdout",
     "output_type": "stream",
     "text": [
      "[[     123.55      684.26      658.99]\n",
      " [     132.24      504.14      543.95]]\n",
      "729\n",
      "[[     123.55      684.26      658.99]\n",
      " [     132.24      504.14      543.95]]\n",
      "730\n"
     ]
    },
    {
     "name": "stderr",
     "output_type": "stream",
     "text": [
      "0: 1120x1984 1 ball, 22 players, 62.1ms\n",
      "Speed: 12.3ms preprocess, 62.1ms inference, 1.2ms postprocess per image at shape (1, 3, 1120, 1984)\n",
      "\n",
      "0: 1120x1984 1 ball, 22 players, 61.5ms\n",
      "Speed: 12.0ms preprocess, 61.5ms inference, 1.3ms postprocess per image at shape (1, 3, 1120, 1984)\n",
      "\n"
     ]
    },
    {
     "name": "stdout",
     "output_type": "stream",
     "text": [
      "[[     123.55      684.26      658.99]\n",
      " [     132.24      504.14      543.95]]\n",
      "731\n",
      "[[     123.55      684.26      658.99]\n",
      " [     132.24      504.14      543.95]]\n",
      "732\n"
     ]
    },
    {
     "name": "stderr",
     "output_type": "stream",
     "text": [
      "0: 1120x1984 1 ball, 22 players, 62.0ms\n",
      "Speed: 12.0ms preprocess, 62.0ms inference, 1.2ms postprocess per image at shape (1, 3, 1120, 1984)\n",
      "\n",
      "0: 1120x1984 1 ball, 22 players, 61.6ms\n",
      "Speed: 12.1ms preprocess, 61.6ms inference, 1.2ms postprocess per image at shape (1, 3, 1120, 1984)\n",
      "\n"
     ]
    },
    {
     "name": "stdout",
     "output_type": "stream",
     "text": [
      "[[     123.55      684.26      658.99]\n",
      " [     132.24      504.14      543.95]]\n",
      "733\n",
      "[[     123.55      684.26      658.99]\n",
      " [     132.24      504.14      543.95]]\n",
      "734\n"
     ]
    },
    {
     "name": "stderr",
     "output_type": "stream",
     "text": [
      "0: 1120x1984 1 ball, 22 players, 61.8ms\n",
      "Speed: 11.9ms preprocess, 61.8ms inference, 1.6ms postprocess per image at shape (1, 3, 1120, 1984)\n",
      "\n",
      "0: 1120x1984 1 ball, 22 players, 61.8ms\n",
      "Speed: 12.2ms preprocess, 61.8ms inference, 1.2ms postprocess per image at shape (1, 3, 1120, 1984)\n",
      "\n"
     ]
    },
    {
     "name": "stdout",
     "output_type": "stream",
     "text": [
      "[[     123.55      684.26      658.99]\n",
      " [     132.24      504.14      543.95]]\n",
      "735\n",
      "[[     123.55      684.26      658.99]\n",
      " [     132.24      504.14      543.95]]\n",
      "736\n"
     ]
    },
    {
     "name": "stderr",
     "output_type": "stream",
     "text": [
      "0: 1120x1984 1 ball, 23 players, 61.9ms\n",
      "Speed: 12.4ms preprocess, 61.9ms inference, 1.2ms postprocess per image at shape (1, 3, 1120, 1984)\n",
      "\n",
      "0: 1120x1984 1 ball, 23 players, 61.5ms\n",
      "Speed: 12.4ms preprocess, 61.5ms inference, 1.2ms postprocess per image at shape (1, 3, 1120, 1984)\n",
      "\n"
     ]
    },
    {
     "name": "stdout",
     "output_type": "stream",
     "text": [
      "[[     123.55      684.26      658.99]\n",
      " [     132.24      504.14      543.95]]\n",
      "737\n",
      "[[     123.55      684.26      658.99]\n",
      " [     132.24      504.14      543.95]]\n",
      "738\n"
     ]
    },
    {
     "name": "stderr",
     "output_type": "stream",
     "text": [
      "0: 1120x1984 1 ball, 23 players, 61.9ms\n",
      "Speed: 11.9ms preprocess, 61.9ms inference, 1.3ms postprocess per image at shape (1, 3, 1120, 1984)\n",
      "\n",
      "0: 1120x1984 1 ball, 23 players, 61.8ms\n",
      "Speed: 11.9ms preprocess, 61.8ms inference, 1.3ms postprocess per image at shape (1, 3, 1120, 1984)\n",
      "\n"
     ]
    },
    {
     "name": "stdout",
     "output_type": "stream",
     "text": [
      "[[     123.55      684.26      658.99]\n",
      " [     132.24      504.14      543.95]]\n",
      "739\n",
      "[[     123.55      684.26      658.99]\n",
      " [     132.24      504.14      543.95]]\n",
      "740\n"
     ]
    },
    {
     "name": "stderr",
     "output_type": "stream",
     "text": [
      "0: 1120x1984 1 ball, 23 players, 61.7ms\n",
      "Speed: 12.4ms preprocess, 61.7ms inference, 1.2ms postprocess per image at shape (1, 3, 1120, 1984)\n",
      "\n",
      "0: 1120x1984 1 ball, 23 players, 61.5ms\n",
      "Speed: 12.1ms preprocess, 61.5ms inference, 1.2ms postprocess per image at shape (1, 3, 1120, 1984)\n",
      "\n"
     ]
    },
    {
     "name": "stdout",
     "output_type": "stream",
     "text": [
      "[[     123.55      684.26      658.99]\n",
      " [     132.24      504.14      543.95]]\n",
      "741\n",
      "[[     123.55      684.26      658.99]\n",
      " [     132.24      504.14      543.95]]\n",
      "742\n"
     ]
    },
    {
     "name": "stderr",
     "output_type": "stream",
     "text": [
      "0: 1120x1984 1 ball, 23 players, 62.1ms\n",
      "Speed: 12.0ms preprocess, 62.1ms inference, 1.3ms postprocess per image at shape (1, 3, 1120, 1984)\n",
      "\n",
      "0: 1120x1984 1 ball, 23 players, 61.6ms\n",
      "Speed: 11.8ms preprocess, 61.6ms inference, 1.2ms postprocess per image at shape (1, 3, 1120, 1984)\n",
      "\n"
     ]
    },
    {
     "name": "stdout",
     "output_type": "stream",
     "text": [
      "[[     123.55      684.26      658.99]\n",
      " [     132.24      504.14      543.95]]\n",
      "743\n",
      "[[     123.55      684.26      658.99]\n",
      " [     132.24      504.14      543.95]]\n",
      "744\n"
     ]
    },
    {
     "name": "stderr",
     "output_type": "stream",
     "text": [
      "0: 1120x1984 1 ball, 23 players, 61.6ms\n",
      "Speed: 11.9ms preprocess, 61.6ms inference, 1.3ms postprocess per image at shape (1, 3, 1120, 1984)\n",
      "\n",
      "0: 1120x1984 1 ball, 23 players, 61.7ms\n",
      "Speed: 12.4ms preprocess, 61.7ms inference, 1.5ms postprocess per image at shape (1, 3, 1120, 1984)\n",
      "\n"
     ]
    },
    {
     "name": "stdout",
     "output_type": "stream",
     "text": [
      "[[     123.55      684.26      658.99]\n",
      " [     132.24      504.14      543.95]]\n",
      "745\n",
      "[[     123.55      684.26      658.99]\n",
      " [     132.24      504.14      543.95]]\n",
      "746\n"
     ]
    },
    {
     "name": "stderr",
     "output_type": "stream",
     "text": [
      "0: 1120x1984 1 ball, 23 players, 62.0ms\n",
      "Speed: 12.1ms preprocess, 62.0ms inference, 1.2ms postprocess per image at shape (1, 3, 1120, 1984)\n",
      "\n",
      "0: 1120x1984 1 ball, 23 players, 61.8ms\n",
      "Speed: 11.8ms preprocess, 61.8ms inference, 1.3ms postprocess per image at shape (1, 3, 1120, 1984)\n"
     ]
    },
    {
     "name": "stdout",
     "output_type": "stream",
     "text": [
      "[[     123.55      684.26      658.99]\n",
      " [     132.24      504.14      543.95]]\n",
      "747\n",
      "[[     123.55      684.26      658.99]\n",
      " [     132.24      504.14      543.95]]\n"
     ]
    },
    {
     "name": "stderr",
     "output_type": "stream",
     "text": [
      "\n",
      "0: 1120x1984 1 ball, 23 players, 61.3ms\n",
      "Speed: 12.4ms preprocess, 61.3ms inference, 1.3ms postprocess per image at shape (1, 3, 1120, 1984)\n",
      "\n"
     ]
    },
    {
     "name": "stdout",
     "output_type": "stream",
     "text": [
      "748\n",
      "[[     123.55      684.26      658.99]\n",
      " [     132.24      504.14      543.95]]\n",
      "749\n"
     ]
    },
    {
     "name": "stderr",
     "output_type": "stream",
     "text": [
      "0: 1120x1984 1 ball, 23 players, 61.9ms\n",
      "Speed: 12.4ms preprocess, 61.9ms inference, 1.2ms postprocess per image at shape (1, 3, 1120, 1984)\n",
      "\n",
      "0: 1120x1984 1 ball, 23 players, 61.4ms\n",
      "Speed: 11.9ms preprocess, 61.4ms inference, 1.3ms postprocess per image at shape (1, 3, 1120, 1984)\n",
      "\n"
     ]
    },
    {
     "name": "stdout",
     "output_type": "stream",
     "text": [
      "[[     123.55      684.26      658.99]\n",
      " [     132.24      504.14      543.95]]\n",
      "750\n",
      "[[     123.55      684.26      658.99]\n",
      " [     132.24      504.14      543.95]]\n",
      "751\n"
     ]
    },
    {
     "name": "stderr",
     "output_type": "stream",
     "text": [
      "0: 1120x1984 1 ball, 23 players, 61.9ms\n",
      "Speed: 12.0ms preprocess, 61.9ms inference, 1.3ms postprocess per image at shape (1, 3, 1120, 1984)\n",
      "\n",
      "0: 1120x1984 1 ball, 23 players, 61.9ms\n",
      "Speed: 12.0ms preprocess, 61.9ms inference, 1.2ms postprocess per image at shape (1, 3, 1120, 1984)\n",
      "\n"
     ]
    },
    {
     "name": "stdout",
     "output_type": "stream",
     "text": [
      "[[     123.55      684.26      658.99]\n",
      " [     132.24      504.14      543.95]]\n",
      "752\n",
      "[[     123.55      684.26      658.99]\n",
      " [     132.24      504.14      543.95]]\n",
      "753\n"
     ]
    },
    {
     "name": "stderr",
     "output_type": "stream",
     "text": [
      "0: 1120x1984 1 ball, 23 players, 61.9ms\n",
      "Speed: 11.8ms preprocess, 61.9ms inference, 1.2ms postprocess per image at shape (1, 3, 1120, 1984)\n",
      "\n",
      "0: 1120x1984 1 ball, 23 players, 61.4ms\n",
      "Speed: 13.1ms preprocess, 61.4ms inference, 1.3ms postprocess per image at shape (1, 3, 1120, 1984)\n",
      "\n"
     ]
    },
    {
     "name": "stdout",
     "output_type": "stream",
     "text": [
      "[[     123.55      684.26      658.99]\n",
      " [     132.24      504.14      543.95]]\n",
      "754\n",
      "[[     123.55      684.26      658.99]\n",
      " [     132.24      504.14      543.95]]\n",
      "755\n"
     ]
    },
    {
     "name": "stderr",
     "output_type": "stream",
     "text": [
      "0: 1120x1984 1 ball, 23 players, 61.6ms\n",
      "Speed: 12.2ms preprocess, 61.6ms inference, 1.3ms postprocess per image at shape (1, 3, 1120, 1984)\n",
      "\n",
      "0: 1120x1984 1 ball, 23 players, 61.5ms\n",
      "Speed: 11.8ms preprocess, 61.5ms inference, 1.3ms postprocess per image at shape (1, 3, 1120, 1984)\n",
      "\n"
     ]
    },
    {
     "name": "stdout",
     "output_type": "stream",
     "text": [
      "[[     123.55      684.26      658.99]\n",
      " [     132.24      504.14      543.95]]\n",
      "756\n",
      "[[     123.55      684.26      658.99]\n",
      " [     132.24      504.14      543.95]]\n",
      "757\n"
     ]
    },
    {
     "name": "stderr",
     "output_type": "stream",
     "text": [
      "0: 1120x1984 1 ball, 23 players, 61.7ms\n",
      "Speed: 12.6ms preprocess, 61.7ms inference, 1.2ms postprocess per image at shape (1, 3, 1120, 1984)\n",
      "\n",
      "0: 1120x1984 1 ball, 22 players, 61.3ms\n",
      "Speed: 11.9ms preprocess, 61.3ms inference, 1.2ms postprocess per image at shape (1, 3, 1120, 1984)\n",
      "\n"
     ]
    },
    {
     "name": "stdout",
     "output_type": "stream",
     "text": [
      "[[     123.55      684.26      658.99]\n",
      " [     132.24      504.14      543.95]]\n",
      "758\n",
      "[[     123.55      684.26      658.99]\n",
      " [     132.24      504.14      543.95]]\n",
      "759\n"
     ]
    },
    {
     "name": "stderr",
     "output_type": "stream",
     "text": [
      "0: 1120x1984 1 ball, 22 players, 61.6ms\n",
      "Speed: 12.0ms preprocess, 61.6ms inference, 1.2ms postprocess per image at shape (1, 3, 1120, 1984)\n",
      "\n",
      "0: 1120x1984 1 ball, 23 players, 61.4ms\n",
      "Speed: 12.5ms preprocess, 61.4ms inference, 1.2ms postprocess per image at shape (1, 3, 1120, 1984)\n",
      "\n"
     ]
    },
    {
     "name": "stdout",
     "output_type": "stream",
     "text": [
      "[[     123.55      684.26      658.99]\n",
      " [     132.24      504.14      543.95]]\n",
      "760\n",
      "[[     123.55      684.26      658.99]\n",
      " [     132.24      504.14      543.95]]\n",
      "761\n"
     ]
    },
    {
     "name": "stderr",
     "output_type": "stream",
     "text": [
      "0: 1120x1984 1 ball, 22 players, 61.6ms\n",
      "Speed: 12.2ms preprocess, 61.6ms inference, 1.2ms postprocess per image at shape (1, 3, 1120, 1984)\n",
      "\n",
      "0: 1120x1984 1 ball, 23 players, 61.6ms\n",
      "Speed: 12.3ms preprocess, 61.6ms inference, 1.3ms postprocess per image at shape (1, 3, 1120, 1984)\n",
      "\n"
     ]
    },
    {
     "name": "stdout",
     "output_type": "stream",
     "text": [
      "[[     123.55      684.26      658.99]\n",
      " [     132.24      504.14      543.95]]\n",
      "762\n",
      "[[     123.55      684.26      658.99]\n",
      " [     132.24      504.14      543.95]]\n",
      "763\n"
     ]
    },
    {
     "name": "stderr",
     "output_type": "stream",
     "text": [
      "0: 1120x1984 1 ball, 23 players, 61.4ms\n",
      "Speed: 12.1ms preprocess, 61.4ms inference, 1.3ms postprocess per image at shape (1, 3, 1120, 1984)\n",
      "\n",
      "0: 1120x1984 1 ball, 23 players, 61.6ms\n",
      "Speed: 12.0ms preprocess, 61.6ms inference, 1.3ms postprocess per image at shape (1, 3, 1120, 1984)\n",
      "\n"
     ]
    },
    {
     "name": "stdout",
     "output_type": "stream",
     "text": [
      "[[     123.55      684.26      658.99]\n",
      " [     132.24      504.14      543.95]]\n",
      "764\n",
      "[[     123.55      684.26      658.99]\n",
      " [     132.24      504.14      543.95]]\n",
      "765\n"
     ]
    },
    {
     "name": "stderr",
     "output_type": "stream",
     "text": [
      "0: 1120x1984 1 ball, 23 players, 61.9ms\n",
      "Speed: 11.8ms preprocess, 61.9ms inference, 1.2ms postprocess per image at shape (1, 3, 1120, 1984)\n",
      "\n",
      "0: 1120x1984 1 ball, 23 players, 61.7ms\n",
      "Speed: 11.8ms preprocess, 61.7ms inference, 1.3ms postprocess per image at shape (1, 3, 1120, 1984)\n",
      "\n"
     ]
    },
    {
     "name": "stdout",
     "output_type": "stream",
     "text": [
      "[[     123.55      684.26      658.99]\n",
      " [     132.24      504.14      543.95]]\n",
      "766\n",
      "[[     123.55      684.26      658.99]\n",
      " [     132.24      504.14      543.95]]\n",
      "767\n"
     ]
    },
    {
     "name": "stderr",
     "output_type": "stream",
     "text": [
      "0: 1120x1984 1 ball, 23 players, 61.9ms\n",
      "Speed: 12.0ms preprocess, 61.9ms inference, 1.3ms postprocess per image at shape (1, 3, 1120, 1984)\n",
      "\n",
      "0: 1120x1984 1 ball, 23 players, 61.5ms\n",
      "Speed: 12.4ms preprocess, 61.5ms inference, 1.2ms postprocess per image at shape (1, 3, 1120, 1984)\n",
      "\n"
     ]
    },
    {
     "name": "stdout",
     "output_type": "stream",
     "text": [
      "[[     123.55      684.26      658.99]\n",
      " [     132.24      504.14      543.95]]\n",
      "768\n",
      "[[     123.55      684.26      658.99]\n",
      " [     132.24      504.14      543.95]]\n",
      "769\n"
     ]
    },
    {
     "name": "stderr",
     "output_type": "stream",
     "text": [
      "0: 1120x1984 1 ball, 22 players, 63.0ms\n",
      "Speed: 12.2ms preprocess, 63.0ms inference, 1.5ms postprocess per image at shape (1, 3, 1120, 1984)\n",
      "\n",
      "0: 1120x1984 1 ball, 22 players, 61.5ms\n",
      "Speed: 12.0ms preprocess, 61.5ms inference, 1.3ms postprocess per image at shape (1, 3, 1120, 1984)\n",
      "\n"
     ]
    },
    {
     "name": "stdout",
     "output_type": "stream",
     "text": [
      "[[     123.55      684.26      658.99]\n",
      " [     132.24      504.14      543.95]]\n",
      "770\n",
      "[[     123.55      684.26      658.99]\n",
      " [     132.24      504.14      543.95]]\n",
      "771\n"
     ]
    },
    {
     "name": "stderr",
     "output_type": "stream",
     "text": [
      "0: 1120x1984 22 players, 61.6ms\n",
      "Speed: 12.1ms preprocess, 61.6ms inference, 1.3ms postprocess per image at shape (1, 3, 1120, 1984)\n",
      "\n",
      "0: 1120x1984 1 ball, 22 players, 61.5ms\n",
      "Speed: 12.1ms preprocess, 61.5ms inference, 1.2ms postprocess per image at shape (1, 3, 1120, 1984)\n",
      "\n"
     ]
    },
    {
     "name": "stdout",
     "output_type": "stream",
     "text": [
      "[[     123.55      684.26      658.99]\n",
      " [     132.24      504.14      543.95]]\n",
      "772\n",
      "[[     123.55      684.26      658.99]\n",
      " [     132.24      504.14      543.95]]\n",
      "773\n"
     ]
    },
    {
     "name": "stderr",
     "output_type": "stream",
     "text": [
      "0: 1120x1984 1 ball, 22 players, 61.9ms\n",
      "Speed: 11.9ms preprocess, 61.9ms inference, 1.3ms postprocess per image at shape (1, 3, 1120, 1984)\n",
      "\n",
      "0: 1120x1984 1 ball, 22 players, 61.6ms\n",
      "Speed: 11.9ms preprocess, 61.6ms inference, 1.3ms postprocess per image at shape (1, 3, 1120, 1984)\n",
      "\n"
     ]
    },
    {
     "name": "stdout",
     "output_type": "stream",
     "text": [
      "[[     123.55      684.26      658.99]\n",
      " [     132.24      504.14      543.95]]\n",
      "774\n",
      "[[     123.55      684.26      658.99]\n",
      " [     132.24      504.14      543.95]]\n",
      "775\n"
     ]
    },
    {
     "name": "stderr",
     "output_type": "stream",
     "text": [
      "0: 1120x1984 1 ball, 22 players, 61.9ms\n",
      "Speed: 12.0ms preprocess, 61.9ms inference, 1.2ms postprocess per image at shape (1, 3, 1120, 1984)\n",
      "\n",
      "0: 1120x1984 1 ball, 24 players, 61.5ms\n",
      "Speed: 12.7ms preprocess, 61.5ms inference, 1.3ms postprocess per image at shape (1, 3, 1120, 1984)\n",
      "\n"
     ]
    },
    {
     "name": "stdout",
     "output_type": "stream",
     "text": [
      "[[     123.55      684.26      658.99]\n",
      " [     132.24      504.14      543.95]]\n",
      "776\n",
      "[[     123.55      684.26      658.99]\n",
      " [     132.24      504.14      543.95]]\n",
      "777\n"
     ]
    },
    {
     "name": "stderr",
     "output_type": "stream",
     "text": [
      "0: 1120x1984 1 ball, 22 players, 61.8ms\n",
      "Speed: 12.0ms preprocess, 61.8ms inference, 1.3ms postprocess per image at shape (1, 3, 1120, 1984)\n",
      "\n",
      "0: 1120x1984 1 ball, 21 players, 61.5ms\n",
      "Speed: 12.1ms preprocess, 61.5ms inference, 1.3ms postprocess per image at shape (1, 3, 1120, 1984)\n",
      "\n"
     ]
    },
    {
     "name": "stdout",
     "output_type": "stream",
     "text": [
      "[[     123.55      684.26      658.99]\n",
      " [     132.24      504.14      543.95]]\n",
      "778\n",
      "[[     123.55      684.26      658.99]\n",
      " [     132.24      504.14      543.95]]\n",
      "779\n"
     ]
    },
    {
     "name": "stderr",
     "output_type": "stream",
     "text": [
      "0: 1120x1984 1 ball, 21 players, 61.7ms\n",
      "Speed: 12.3ms preprocess, 61.7ms inference, 1.3ms postprocess per image at shape (1, 3, 1120, 1984)\n",
      "\n",
      "0: 1120x1984 1 ball, 22 players, 61.7ms\n",
      "Speed: 12.1ms preprocess, 61.7ms inference, 1.2ms postprocess per image at shape (1, 3, 1120, 1984)\n",
      "\n"
     ]
    },
    {
     "name": "stdout",
     "output_type": "stream",
     "text": [
      "[[     123.55      684.26      658.99]\n",
      " [     132.24      504.14      543.95]]\n",
      "780\n",
      "[[     123.55      684.26      658.99]\n",
      " [     132.24      504.14      543.95]]\n",
      "781\n"
     ]
    },
    {
     "name": "stderr",
     "output_type": "stream",
     "text": [
      "0: 1120x1984 1 ball, 22 players, 61.6ms\n",
      "Speed: 12.4ms preprocess, 61.6ms inference, 1.3ms postprocess per image at shape (1, 3, 1120, 1984)\n",
      "\n",
      "0: 1120x1984 1 ball, 23 players, 61.7ms\n",
      "Speed: 12.5ms preprocess, 61.7ms inference, 1.2ms postprocess per image at shape (1, 3, 1120, 1984)\n",
      "\n"
     ]
    },
    {
     "name": "stdout",
     "output_type": "stream",
     "text": [
      "[[     123.55      684.26      658.99]\n",
      " [     132.24      504.14      543.95]]\n",
      "782\n",
      "[[     123.55      684.26      658.99]\n",
      " [     132.24      504.14      543.95]]\n",
      "783\n"
     ]
    },
    {
     "name": "stderr",
     "output_type": "stream",
     "text": [
      "0: 1120x1984 1 ball, 22 players, 61.7ms\n",
      "Speed: 12.6ms preprocess, 61.7ms inference, 1.3ms postprocess per image at shape (1, 3, 1120, 1984)\n",
      "\n",
      "0: 1120x1984 1 ball, 23 players, 61.5ms\n",
      "Speed: 12.0ms preprocess, 61.5ms inference, 1.3ms postprocess per image at shape (1, 3, 1120, 1984)\n",
      "\n"
     ]
    },
    {
     "name": "stdout",
     "output_type": "stream",
     "text": [
      "[[     123.55      684.26      658.99]\n",
      " [     132.24      504.14      543.95]]\n",
      "784\n",
      "[[     123.55      684.26      658.99]\n",
      " [     132.24      504.14      543.95]]\n",
      "785\n"
     ]
    },
    {
     "name": "stderr",
     "output_type": "stream",
     "text": [
      "0: 1120x1984 1 ball, 23 players, 61.5ms\n",
      "Speed: 11.8ms preprocess, 61.5ms inference, 1.3ms postprocess per image at shape (1, 3, 1120, 1984)\n",
      "\n",
      "0: 1120x1984 1 ball, 23 players, 61.6ms\n",
      "Speed: 12.0ms preprocess, 61.6ms inference, 1.2ms postprocess per image at shape (1, 3, 1120, 1984)\n",
      "\n"
     ]
    },
    {
     "name": "stdout",
     "output_type": "stream",
     "text": [
      "[[     123.55      684.26      658.99]\n",
      " [     132.24      504.14      543.95]]\n",
      "786\n",
      "[[     123.55      684.26      658.99]\n",
      " [     132.24      504.14      543.95]]\n",
      "787\n"
     ]
    },
    {
     "name": "stderr",
     "output_type": "stream",
     "text": [
      "0: 1120x1984 1 ball, 23 players, 61.7ms\n",
      "Speed: 12.1ms preprocess, 61.7ms inference, 1.3ms postprocess per image at shape (1, 3, 1120, 1984)\n",
      "\n",
      "0: 1120x1984 1 ball, 23 players, 61.5ms\n",
      "Speed: 12.0ms preprocess, 61.5ms inference, 1.3ms postprocess per image at shape (1, 3, 1120, 1984)\n",
      "\n"
     ]
    },
    {
     "name": "stdout",
     "output_type": "stream",
     "text": [
      "[[     123.55      684.26      658.99]\n",
      " [     132.24      504.14      543.95]]\n",
      "788\n",
      "[[     123.55      684.26      658.99]\n",
      " [     132.24      504.14      543.95]]\n",
      "789\n"
     ]
    },
    {
     "name": "stderr",
     "output_type": "stream",
     "text": [
      "0: 1120x1984 1 ball, 23 players, 61.9ms\n",
      "Speed: 11.9ms preprocess, 61.9ms inference, 1.3ms postprocess per image at shape (1, 3, 1120, 1984)\n",
      "\n",
      "0: 1120x1984 1 ball, 22 players, 61.5ms\n",
      "Speed: 12.6ms preprocess, 61.5ms inference, 1.2ms postprocess per image at shape (1, 3, 1120, 1984)\n",
      "\n"
     ]
    },
    {
     "name": "stdout",
     "output_type": "stream",
     "text": [
      "[[     123.55      684.26      658.99]\n",
      " [     132.24      504.14      543.95]]\n",
      "790\n",
      "[[     123.55      684.26      658.99]\n",
      " [     132.24      504.14      543.95]]\n",
      "791\n"
     ]
    },
    {
     "name": "stderr",
     "output_type": "stream",
     "text": [
      "0: 1120x1984 1 ball, 23 players, 62.1ms\n",
      "Speed: 11.8ms preprocess, 62.1ms inference, 1.3ms postprocess per image at shape (1, 3, 1120, 1984)\n",
      "\n",
      "0: 1120x1984 1 ball, 23 players, 61.5ms\n",
      "Speed: 12.5ms preprocess, 61.5ms inference, 1.2ms postprocess per image at shape (1, 3, 1120, 1984)\n",
      "\n"
     ]
    },
    {
     "name": "stdout",
     "output_type": "stream",
     "text": [
      "[[     123.55      684.26      658.99]\n",
      " [     132.24      504.14      543.95]]\n",
      "792\n",
      "[[     123.55      684.26      658.99]\n",
      " [     132.24      504.14      543.95]]\n",
      "793\n"
     ]
    },
    {
     "name": "stderr",
     "output_type": "stream",
     "text": [
      "0: 1120x1984 1 ball, 23 players, 61.8ms\n",
      "Speed: 12.1ms preprocess, 61.8ms inference, 1.3ms postprocess per image at shape (1, 3, 1120, 1984)\n",
      "\n",
      "0: 1120x1984 1 ball, 23 players, 61.6ms\n",
      "Speed: 12.0ms preprocess, 61.6ms inference, 1.4ms postprocess per image at shape (1, 3, 1120, 1984)\n",
      "\n"
     ]
    },
    {
     "name": "stdout",
     "output_type": "stream",
     "text": [
      "[[     123.55      684.26      658.99]\n",
      " [     132.24      504.14      543.95]]\n",
      "794\n",
      "[[     123.55      684.26      658.99]\n",
      " [     132.24      504.14      543.95]]\n",
      "795\n"
     ]
    },
    {
     "name": "stderr",
     "output_type": "stream",
     "text": [
      "0: 1120x1984 1 ball, 24 players, 61.6ms\n",
      "Speed: 12.5ms preprocess, 61.6ms inference, 1.3ms postprocess per image at shape (1, 3, 1120, 1984)\n",
      "\n",
      "0: 1120x1984 1 ball, 23 players, 61.7ms\n",
      "Speed: 11.9ms preprocess, 61.7ms inference, 1.3ms postprocess per image at shape (1, 3, 1120, 1984)\n",
      "\n"
     ]
    },
    {
     "name": "stdout",
     "output_type": "stream",
     "text": [
      "[[     123.55      684.26      658.99]\n",
      " [     132.24      504.14      543.95]]\n",
      "796\n",
      "[[     123.55      684.26      658.99]\n",
      " [     132.24      504.14      543.95]]\n",
      "797\n"
     ]
    },
    {
     "name": "stderr",
     "output_type": "stream",
     "text": [
      "0: 1120x1984 1 ball, 23 players, 62.1ms\n",
      "Speed: 12.0ms preprocess, 62.1ms inference, 1.3ms postprocess per image at shape (1, 3, 1120, 1984)\n",
      "\n",
      "0: 1120x1984 1 ball, 23 players, 61.8ms\n",
      "Speed: 12.0ms preprocess, 61.8ms inference, 1.3ms postprocess per image at shape (1, 3, 1120, 1984)\n",
      "\n"
     ]
    },
    {
     "name": "stdout",
     "output_type": "stream",
     "text": [
      "[[     123.55      684.26      658.99]\n",
      " [     132.24      504.14      543.95]]\n",
      "798\n",
      "[[     123.55      684.26      658.99]\n",
      " [     132.24      504.14      543.95]]\n",
      "799\n"
     ]
    },
    {
     "name": "stderr",
     "output_type": "stream",
     "text": [
      "0: 1120x1984 1 ball, 23 players, 61.7ms\n",
      "Speed: 12.4ms preprocess, 61.7ms inference, 1.3ms postprocess per image at shape (1, 3, 1120, 1984)\n",
      "\n",
      "0: 1120x1984 1 ball, 23 players, 61.6ms\n",
      "Speed: 12.0ms preprocess, 61.6ms inference, 1.3ms postprocess per image at shape (1, 3, 1120, 1984)\n",
      "\n"
     ]
    },
    {
     "name": "stdout",
     "output_type": "stream",
     "text": [
      "[[     123.55      684.26      658.99]\n",
      " [     132.24      504.14      543.95]]\n",
      "800\n",
      "[[     123.55      684.26      658.99]\n",
      " [     132.24      504.14      543.95]]\n",
      "801\n"
     ]
    },
    {
     "name": "stderr",
     "output_type": "stream",
     "text": [
      "0: 1120x1984 1 ball, 23 players, 61.6ms\n",
      "Speed: 12.0ms preprocess, 61.6ms inference, 1.3ms postprocess per image at shape (1, 3, 1120, 1984)\n",
      "\n",
      "0: 1120x1984 1 ball, 23 players, 61.6ms\n",
      "Speed: 11.9ms preprocess, 61.6ms inference, 1.3ms postprocess per image at shape (1, 3, 1120, 1984)\n",
      "\n"
     ]
    },
    {
     "name": "stdout",
     "output_type": "stream",
     "text": [
      "[[     123.55      684.26      658.99]\n",
      " [     132.24      504.14      543.95]]\n",
      "802\n",
      "[[     123.55      684.26      658.99]\n",
      " [     132.24      504.14      543.95]]\n",
      "803\n"
     ]
    },
    {
     "name": "stderr",
     "output_type": "stream",
     "text": [
      "0: 1120x1984 1 ball, 23 players, 61.5ms\n",
      "Speed: 12.1ms preprocess, 61.5ms inference, 1.3ms postprocess per image at shape (1, 3, 1120, 1984)\n",
      "\n",
      "0: 1120x1984 1 ball, 23 players, 61.6ms\n",
      "Speed: 12.1ms preprocess, 61.6ms inference, 1.2ms postprocess per image at shape (1, 3, 1120, 1984)\n",
      "\n"
     ]
    },
    {
     "name": "stdout",
     "output_type": "stream",
     "text": [
      "[[     123.55      684.26      658.99]\n",
      " [     132.24      504.14      543.95]]\n",
      "804\n",
      "[[     123.55      684.26      658.99]\n",
      " [     132.24      504.14      543.95]]\n",
      "805\n"
     ]
    },
    {
     "name": "stderr",
     "output_type": "stream",
     "text": [
      "0: 1120x1984 1 ball, 23 players, 62.2ms\n",
      "Speed: 12.3ms preprocess, 62.2ms inference, 1.3ms postprocess per image at shape (1, 3, 1120, 1984)\n",
      "\n",
      "0: 1120x1984 23 players, 61.7ms\n",
      "Speed: 12.0ms preprocess, 61.7ms inference, 1.3ms postprocess per image at shape (1, 3, 1120, 1984)\n",
      "\n"
     ]
    },
    {
     "name": "stdout",
     "output_type": "stream",
     "text": [
      "[[     123.55      684.26      658.99]\n",
      " [     132.24      504.14      543.95]]\n",
      "806\n",
      "[[     123.55      684.26      658.99]\n",
      " [     132.24      504.14      543.95]]\n",
      "807\n"
     ]
    },
    {
     "name": "stderr",
     "output_type": "stream",
     "text": [
      "0: 1120x1984 1 ball, 23 players, 61.7ms\n",
      "Speed: 12.2ms preprocess, 61.7ms inference, 1.3ms postprocess per image at shape (1, 3, 1120, 1984)\n",
      "\n",
      "0: 1120x1984 1 ball, 23 players, 61.9ms\n",
      "Speed: 12.0ms preprocess, 61.9ms inference, 1.3ms postprocess per image at shape (1, 3, 1120, 1984)\n",
      "\n"
     ]
    },
    {
     "name": "stdout",
     "output_type": "stream",
     "text": [
      "[[     123.55      684.26      658.99]\n",
      " [     132.24      504.14      543.95]]\n",
      "808\n",
      "[[     123.55      684.26      658.99]\n",
      " [     132.24      504.14      543.95]]\n",
      "809\n"
     ]
    },
    {
     "name": "stderr",
     "output_type": "stream",
     "text": [
      "0: 1120x1984 1 ball, 23 players, 61.9ms\n",
      "Speed: 12.2ms preprocess, 61.9ms inference, 1.3ms postprocess per image at shape (1, 3, 1120, 1984)\n",
      "\n",
      "0: 1120x1984 1 ball, 23 players, 62.0ms\n",
      "Speed: 12.0ms preprocess, 62.0ms inference, 1.3ms postprocess per image at shape (1, 3, 1120, 1984)\n",
      "\n"
     ]
    },
    {
     "name": "stdout",
     "output_type": "stream",
     "text": [
      "[[     123.55      684.26      658.99]\n",
      " [     132.24      504.14      543.95]]\n",
      "810\n",
      "[[     123.55      684.26      658.99]\n",
      " [     132.24      504.14      543.95]]\n",
      "811\n"
     ]
    },
    {
     "name": "stderr",
     "output_type": "stream",
     "text": [
      "0: 1120x1984 23 players, 61.8ms\n",
      "Speed: 13.1ms preprocess, 61.8ms inference, 1.3ms postprocess per image at shape (1, 3, 1120, 1984)\n",
      "\n",
      "0: 1120x1984 23 players, 61.6ms\n",
      "Speed: 12.0ms preprocess, 61.6ms inference, 1.3ms postprocess per image at shape (1, 3, 1120, 1984)\n",
      "\n"
     ]
    },
    {
     "name": "stdout",
     "output_type": "stream",
     "text": [
      "[[     123.55      684.26      658.99]\n",
      " [     132.24      504.14      543.95]]\n",
      "812\n",
      "[[     123.55      684.26      658.99]\n",
      " [     132.24      504.14      543.95]]\n",
      "813\n"
     ]
    },
    {
     "name": "stderr",
     "output_type": "stream",
     "text": [
      "0: 1120x1984 23 players, 61.8ms\n",
      "Speed: 12.4ms preprocess, 61.8ms inference, 1.3ms postprocess per image at shape (1, 3, 1120, 1984)\n",
      "\n",
      "0: 1120x1984 1 ball, 23 players, 61.7ms\n",
      "Speed: 11.9ms preprocess, 61.7ms inference, 1.3ms postprocess per image at shape (1, 3, 1120, 1984)\n",
      "\n"
     ]
    },
    {
     "name": "stdout",
     "output_type": "stream",
     "text": [
      "[[     123.55      684.26      658.99]\n",
      " [     132.24      504.14      543.95]]\n",
      "814\n",
      "[[     123.55      684.26      658.99]\n",
      " [     132.24      504.14      543.95]]\n",
      "815\n"
     ]
    },
    {
     "name": "stderr",
     "output_type": "stream",
     "text": [
      "0: 1120x1984 1 ball, 23 players, 61.8ms\n",
      "Speed: 12.9ms preprocess, 61.8ms inference, 1.3ms postprocess per image at shape (1, 3, 1120, 1984)\n",
      "\n",
      "0: 1120x1984 1 ball, 23 players, 61.7ms\n",
      "Speed: 11.9ms preprocess, 61.7ms inference, 1.3ms postprocess per image at shape (1, 3, 1120, 1984)\n",
      "\n"
     ]
    },
    {
     "name": "stdout",
     "output_type": "stream",
     "text": [
      "[[     123.55      684.26      658.99]\n",
      " [     132.24      504.14      543.95]]\n",
      "816\n",
      "[[     123.55      684.26      658.99]\n",
      " [     132.24      504.14      543.95]]\n",
      "817\n"
     ]
    },
    {
     "name": "stderr",
     "output_type": "stream",
     "text": [
      "0: 1120x1984 1 ball, 23 players, 61.6ms\n",
      "Speed: 12.5ms preprocess, 61.6ms inference, 1.4ms postprocess per image at shape (1, 3, 1120, 1984)\n",
      "\n",
      "0: 1120x1984 1 ball, 23 players, 61.7ms\n",
      "Speed: 12.1ms preprocess, 61.7ms inference, 1.4ms postprocess per image at shape (1, 3, 1120, 1984)\n",
      "\n"
     ]
    },
    {
     "name": "stdout",
     "output_type": "stream",
     "text": [
      "[[     123.55      684.26      658.99]\n",
      " [     132.24      504.14      543.95]]\n",
      "818\n",
      "[[     123.55      684.26      658.99]\n",
      " [     132.24      504.14      543.95]]\n",
      "819\n"
     ]
    },
    {
     "name": "stderr",
     "output_type": "stream",
     "text": [
      "0: 1120x1984 1 ball, 23 players, 62.2ms\n",
      "Speed: 12.3ms preprocess, 62.2ms inference, 1.3ms postprocess per image at shape (1, 3, 1120, 1984)\n",
      "\n",
      "0: 1120x1984 23 players, 61.4ms\n",
      "Speed: 11.8ms preprocess, 61.4ms inference, 1.2ms postprocess per image at shape (1, 3, 1120, 1984)\n",
      "\n"
     ]
    },
    {
     "name": "stdout",
     "output_type": "stream",
     "text": [
      "[[     123.55      684.26      658.99]\n",
      " [     132.24      504.14      543.95]]\n",
      "820\n",
      "[[     123.55      684.26      658.99]\n",
      " [     132.24      504.14      543.95]]\n",
      "821\n"
     ]
    },
    {
     "name": "stderr",
     "output_type": "stream",
     "text": [
      "0: 1120x1984 23 players, 61.4ms\n",
      "Speed: 12.5ms preprocess, 61.4ms inference, 1.2ms postprocess per image at shape (1, 3, 1120, 1984)\n",
      "\n",
      "0: 1120x1984 1 ball, 23 players, 61.4ms\n",
      "Speed: 12.0ms preprocess, 61.4ms inference, 1.3ms postprocess per image at shape (1, 3, 1120, 1984)\n",
      "\n"
     ]
    },
    {
     "name": "stdout",
     "output_type": "stream",
     "text": [
      "[[     123.55      684.26      658.99]\n",
      " [     132.24      504.14      543.95]]\n",
      "822\n",
      "[[     123.55      684.26      658.99]\n",
      " [     132.24      504.14      543.95]]\n",
      "823\n"
     ]
    },
    {
     "name": "stderr",
     "output_type": "stream",
     "text": [
      "0: 1120x1984 1 ball, 23 players, 62.0ms\n",
      "Speed: 11.9ms preprocess, 62.0ms inference, 1.4ms postprocess per image at shape (1, 3, 1120, 1984)\n",
      "\n",
      "0: 1120x1984 1 ball, 23 players, 61.6ms\n",
      "Speed: 11.9ms preprocess, 61.6ms inference, 1.3ms postprocess per image at shape (1, 3, 1120, 1984)\n",
      "\n"
     ]
    },
    {
     "name": "stdout",
     "output_type": "stream",
     "text": [
      "[[     123.55      684.26      658.99]\n",
      " [     132.24      504.14      543.95]]\n",
      "824\n",
      "[[     123.55      684.26      658.99]\n",
      " [     132.24      504.14      543.95]]\n",
      "825\n"
     ]
    },
    {
     "name": "stderr",
     "output_type": "stream",
     "text": [
      "0: 1120x1984 1 ball, 23 players, 62.1ms\n",
      "Speed: 11.9ms preprocess, 62.1ms inference, 1.3ms postprocess per image at shape (1, 3, 1120, 1984)\n",
      "\n",
      "0: 1120x1984 1 ball, 23 players, 61.5ms\n",
      "Speed: 11.9ms preprocess, 61.5ms inference, 1.2ms postprocess per image at shape (1, 3, 1120, 1984)\n",
      "\n"
     ]
    },
    {
     "name": "stdout",
     "output_type": "stream",
     "text": [
      "[[     123.55      684.26      658.99]\n",
      " [     132.24      504.14      543.95]]\n",
      "826\n",
      "[[     123.55      684.26      658.99]\n",
      " [     132.24      504.14      543.95]]\n",
      "827\n"
     ]
    },
    {
     "name": "stderr",
     "output_type": "stream",
     "text": [
      "0: 1120x1984 1 ball, 23 players, 62.1ms\n",
      "Speed: 11.9ms preprocess, 62.1ms inference, 1.3ms postprocess per image at shape (1, 3, 1120, 1984)\n",
      "\n",
      "0: 1120x1984 1 ball, 23 players, 61.4ms\n",
      "Speed: 12.0ms preprocess, 61.4ms inference, 1.2ms postprocess per image at shape (1, 3, 1120, 1984)\n",
      "\n"
     ]
    },
    {
     "name": "stdout",
     "output_type": "stream",
     "text": [
      "[[     123.55      684.26      658.99]\n",
      " [     132.24      504.14      543.95]]\n",
      "828\n",
      "[[     123.55      684.26      658.99]\n",
      " [     132.24      504.14      543.95]]\n",
      "829\n"
     ]
    },
    {
     "name": "stderr",
     "output_type": "stream",
     "text": [
      "0: 1120x1984 1 ball, 23 players, 61.6ms\n",
      "Speed: 11.9ms preprocess, 61.6ms inference, 1.2ms postprocess per image at shape (1, 3, 1120, 1984)\n",
      "\n",
      "0: 1120x1984 1 ball, 23 players, 61.5ms\n",
      "Speed: 12.6ms preprocess, 61.5ms inference, 1.3ms postprocess per image at shape (1, 3, 1120, 1984)\n",
      "\n"
     ]
    },
    {
     "name": "stdout",
     "output_type": "stream",
     "text": [
      "[[     123.55      684.26      658.99]\n",
      " [     132.24      504.14      543.95]]\n",
      "830\n",
      "[[     123.55      684.26      658.99]\n",
      " [     132.24      504.14      543.95]]\n",
      "831\n"
     ]
    },
    {
     "name": "stderr",
     "output_type": "stream",
     "text": [
      "0: 1120x1984 1 ball, 23 players, 62.0ms\n",
      "Speed: 12.4ms preprocess, 62.0ms inference, 1.2ms postprocess per image at shape (1, 3, 1120, 1984)\n",
      "\n",
      "0: 1120x1984 1 ball, 23 players, 61.6ms\n",
      "Speed: 12.2ms preprocess, 61.6ms inference, 1.2ms postprocess per image at shape (1, 3, 1120, 1984)\n",
      "\n"
     ]
    },
    {
     "name": "stdout",
     "output_type": "stream",
     "text": [
      "[[     123.55      684.26      658.99]\n",
      " [     132.24      504.14      543.95]]\n",
      "832\n",
      "[[     123.55      684.26      658.99]\n",
      " [     132.24      504.14      543.95]]\n",
      "833\n"
     ]
    },
    {
     "name": "stderr",
     "output_type": "stream",
     "text": [
      "0: 1120x1984 1 ball, 23 players, 62.0ms\n",
      "Speed: 11.9ms preprocess, 62.0ms inference, 1.3ms postprocess per image at shape (1, 3, 1120, 1984)\n",
      "\n",
      "0: 1120x1984 1 ball, 23 players, 61.8ms\n",
      "Speed: 11.9ms preprocess, 61.8ms inference, 1.2ms postprocess per image at shape (1, 3, 1120, 1984)\n",
      "\n"
     ]
    },
    {
     "name": "stdout",
     "output_type": "stream",
     "text": [
      "[[     123.55      684.26      658.99]\n",
      " [     132.24      504.14      543.95]]\n",
      "834\n",
      "[[     123.55      684.26      658.99]\n",
      " [     132.24      504.14      543.95]]\n",
      "835\n"
     ]
    },
    {
     "name": "stderr",
     "output_type": "stream",
     "text": [
      "0: 1120x1984 1 ball, 23 players, 61.4ms\n",
      "Speed: 12.5ms preprocess, 61.4ms inference, 1.2ms postprocess per image at shape (1, 3, 1120, 1984)\n",
      "\n",
      "0: 1120x1984 1 ball, 23 players, 61.4ms\n",
      "Speed: 12.5ms preprocess, 61.4ms inference, 1.2ms postprocess per image at shape (1, 3, 1120, 1984)\n",
      "\n"
     ]
    },
    {
     "name": "stdout",
     "output_type": "stream",
     "text": [
      "[[     123.55      684.26      658.99]\n",
      " [     132.24      504.14      543.95]]\n",
      "836\n",
      "[[     123.55      684.26      658.99]\n",
      " [     132.24      504.14      543.95]]\n",
      "837\n"
     ]
    },
    {
     "name": "stderr",
     "output_type": "stream",
     "text": [
      "0: 1120x1984 1 ball, 23 players, 61.7ms\n",
      "Speed: 12.1ms preprocess, 61.7ms inference, 1.2ms postprocess per image at shape (1, 3, 1120, 1984)\n",
      "\n",
      "0: 1120x1984 23 players, 61.6ms\n",
      "Speed: 11.9ms preprocess, 61.6ms inference, 1.2ms postprocess per image at shape (1, 3, 1120, 1984)\n",
      "\n"
     ]
    },
    {
     "name": "stdout",
     "output_type": "stream",
     "text": [
      "[[     123.55      684.26      658.99]\n",
      " [     132.24      504.14      543.95]]\n",
      "838\n",
      "[[     123.55      684.26      658.99]\n",
      " [     132.24      504.14      543.95]]\n",
      "839\n"
     ]
    },
    {
     "name": "stderr",
     "output_type": "stream",
     "text": [
      "0: 1120x1984 23 players, 61.5ms\n",
      "Speed: 12.3ms preprocess, 61.5ms inference, 1.2ms postprocess per image at shape (1, 3, 1120, 1984)\n",
      "\n",
      "0: 1120x1984 23 players, 61.8ms\n",
      "Speed: 12.3ms preprocess, 61.8ms inference, 1.2ms postprocess per image at shape (1, 3, 1120, 1984)\n",
      "\n"
     ]
    },
    {
     "name": "stdout",
     "output_type": "stream",
     "text": [
      "[[     123.55      684.26      658.99]\n",
      " [     132.24      504.14      543.95]]\n",
      "840\n",
      "[[     123.55      684.26      658.99]\n",
      " [     132.24      504.14      543.95]]\n",
      "841\n"
     ]
    },
    {
     "name": "stderr",
     "output_type": "stream",
     "text": [
      "0: 1120x1984 23 players, 61.5ms\n",
      "Speed: 11.8ms preprocess, 61.5ms inference, 1.2ms postprocess per image at shape (1, 3, 1120, 1984)\n",
      "\n",
      "0: 1120x1984 23 players, 61.5ms\n",
      "Speed: 12.0ms preprocess, 61.5ms inference, 1.2ms postprocess per image at shape (1, 3, 1120, 1984)\n",
      "\n"
     ]
    },
    {
     "name": "stdout",
     "output_type": "stream",
     "text": [
      "[[     123.55      684.26      658.99]\n",
      " [     132.24      504.14      543.95]]\n",
      "842\n",
      "[[     123.55      684.26      658.99]\n",
      " [     132.24      504.14      543.95]]\n",
      "843\n"
     ]
    },
    {
     "name": "stderr",
     "output_type": "stream",
     "text": [
      "0: 1120x1984 23 players, 61.9ms\n",
      "Speed: 12.0ms preprocess, 61.9ms inference, 1.3ms postprocess per image at shape (1, 3, 1120, 1984)\n",
      "\n",
      "0: 1120x1984 23 players, 61.6ms\n",
      "Speed: 12.1ms preprocess, 61.6ms inference, 1.2ms postprocess per image at shape (1, 3, 1120, 1984)\n",
      "\n"
     ]
    },
    {
     "name": "stdout",
     "output_type": "stream",
     "text": [
      "[[     123.55      684.26      658.99]\n",
      " [     132.24      504.14      543.95]]\n",
      "844\n",
      "[[     123.55      684.26      658.99]\n",
      " [     132.24      504.14      543.95]]\n",
      "845\n"
     ]
    },
    {
     "name": "stderr",
     "output_type": "stream",
     "text": [
      "0: 1120x1984 23 players, 62.1ms\n",
      "Speed: 12.3ms preprocess, 62.1ms inference, 1.3ms postprocess per image at shape (1, 3, 1120, 1984)\n",
      "\n",
      "0: 1120x1984 23 players, 61.5ms\n",
      "Speed: 12.0ms preprocess, 61.5ms inference, 1.2ms postprocess per image at shape (1, 3, 1120, 1984)\n",
      "\n"
     ]
    },
    {
     "name": "stdout",
     "output_type": "stream",
     "text": [
      "[[     123.55      684.26      658.99]\n",
      " [     132.24      504.14      543.95]]\n",
      "846\n",
      "[[     123.55      684.26      658.99]\n",
      " [     132.24      504.14      543.95]]\n",
      "847\n"
     ]
    },
    {
     "name": "stderr",
     "output_type": "stream",
     "text": [
      "0: 1120x1984 23 players, 61.9ms\n",
      "Speed: 12.1ms preprocess, 61.9ms inference, 1.2ms postprocess per image at shape (1, 3, 1120, 1984)\n",
      "\n",
      "0: 1120x1984 23 players, 61.6ms\n",
      "Speed: 12.1ms preprocess, 61.6ms inference, 1.2ms postprocess per image at shape (1, 3, 1120, 1984)\n",
      "\n"
     ]
    },
    {
     "name": "stdout",
     "output_type": "stream",
     "text": [
      "[[     123.55      684.26      658.99]\n",
      " [     132.24      504.14      543.95]]\n",
      "848\n",
      "[[     123.55      684.26      658.99]\n",
      " [     132.24      504.14      543.95]]\n",
      "849\n"
     ]
    },
    {
     "name": "stderr",
     "output_type": "stream",
     "text": [
      "0: 1120x1984 23 players, 62.2ms\n",
      "Speed: 12.1ms preprocess, 62.2ms inference, 1.3ms postprocess per image at shape (1, 3, 1120, 1984)\n",
      "\n",
      "0: 1120x1984 23 players, 61.6ms\n",
      "Speed: 12.2ms preprocess, 61.6ms inference, 1.3ms postprocess per image at shape (1, 3, 1120, 1984)\n",
      "\n"
     ]
    },
    {
     "name": "stdout",
     "output_type": "stream",
     "text": [
      "[[     123.55      684.26      658.99]\n",
      " [     132.24      504.14      543.95]]\n",
      "850\n",
      "[[     123.55      684.26      658.99]\n",
      " [     132.24      504.14      543.95]]\n",
      "851\n"
     ]
    },
    {
     "name": "stderr",
     "output_type": "stream",
     "text": [
      "0: 1120x1984 23 players, 61.4ms\n",
      "Speed: 11.9ms preprocess, 61.4ms inference, 1.2ms postprocess per image at shape (1, 3, 1120, 1984)\n",
      "\n",
      "0: 1120x1984 23 players, 61.7ms\n",
      "Speed: 11.9ms preprocess, 61.7ms inference, 1.2ms postprocess per image at shape (1, 3, 1120, 1984)\n",
      "\n"
     ]
    },
    {
     "name": "stdout",
     "output_type": "stream",
     "text": [
      "[[     123.55      684.26      658.99]\n",
      " [     132.24      504.14      543.95]]\n",
      "852\n",
      "[[     123.55      684.26      658.99]\n",
      " [     132.24      504.14      543.95]]\n",
      "853\n"
     ]
    },
    {
     "name": "stderr",
     "output_type": "stream",
     "text": [
      "0: 1120x1984 23 players, 61.4ms\n",
      "Speed: 11.9ms preprocess, 61.4ms inference, 1.2ms postprocess per image at shape (1, 3, 1120, 1984)\n",
      "\n",
      "0: 1120x1984 23 players, 61.6ms\n",
      "Speed: 12.0ms preprocess, 61.6ms inference, 1.3ms postprocess per image at shape (1, 3, 1120, 1984)\n",
      "\n"
     ]
    },
    {
     "name": "stdout",
     "output_type": "stream",
     "text": [
      "[[     123.55      684.26      658.99]\n",
      " [     132.24      504.14      543.95]]\n",
      "854\n",
      "[[     123.55      684.26      658.99]\n",
      " [     132.24      504.14      543.95]]\n",
      "855\n"
     ]
    },
    {
     "name": "stderr",
     "output_type": "stream",
     "text": [
      "0: 1120x1984 23 players, 61.7ms\n",
      "Speed: 11.9ms preprocess, 61.7ms inference, 1.2ms postprocess per image at shape (1, 3, 1120, 1984)\n",
      "\n",
      "0: 1120x1984 23 players, 61.6ms\n",
      "Speed: 11.9ms preprocess, 61.6ms inference, 1.2ms postprocess per image at shape (1, 3, 1120, 1984)\n",
      "\n"
     ]
    },
    {
     "name": "stdout",
     "output_type": "stream",
     "text": [
      "[[     123.55      684.26      658.99]\n",
      " [     132.24      504.14      543.95]]\n",
      "856\n",
      "[[     123.55      684.26      658.99]\n",
      " [     132.24      504.14      543.95]]\n",
      "857\n"
     ]
    },
    {
     "name": "stderr",
     "output_type": "stream",
     "text": [
      "0: 1120x1984 23 players, 61.5ms\n",
      "Speed: 12.3ms preprocess, 61.5ms inference, 1.2ms postprocess per image at shape (1, 3, 1120, 1984)\n",
      "\n",
      "0: 1120x1984 23 players, 61.5ms\n",
      "Speed: 11.9ms preprocess, 61.5ms inference, 1.3ms postprocess per image at shape (1, 3, 1120, 1984)\n",
      "\n"
     ]
    },
    {
     "name": "stdout",
     "output_type": "stream",
     "text": [
      "[[     123.55      684.26      658.99]\n",
      " [     132.24      504.14      543.95]]\n",
      "858\n",
      "[[     123.55      684.26      658.99]\n",
      " [     132.24      504.14      543.95]]\n",
      "859\n"
     ]
    },
    {
     "name": "stderr",
     "output_type": "stream",
     "text": [
      "0: 1120x1984 23 players, 61.5ms\n",
      "Speed: 12.3ms preprocess, 61.5ms inference, 1.3ms postprocess per image at shape (1, 3, 1120, 1984)\n",
      "\n",
      "0: 1120x1984 23 players, 61.5ms\n",
      "Speed: 12.0ms preprocess, 61.5ms inference, 1.3ms postprocess per image at shape (1, 3, 1120, 1984)\n",
      "\n"
     ]
    },
    {
     "name": "stdout",
     "output_type": "stream",
     "text": [
      "[[     123.55      684.26      658.99]\n",
      " [     132.24      504.14      543.95]]\n",
      "860\n",
      "[[     123.55      684.26      658.99]\n",
      " [     132.24      504.14      543.95]]\n",
      "861\n"
     ]
    },
    {
     "name": "stderr",
     "output_type": "stream",
     "text": [
      "0: 1120x1984 23 players, 62.0ms\n",
      "Speed: 12.1ms preprocess, 62.0ms inference, 1.2ms postprocess per image at shape (1, 3, 1120, 1984)\n",
      "\n",
      "0: 1120x1984 23 players, 61.5ms\n",
      "Speed: 12.1ms preprocess, 61.5ms inference, 1.3ms postprocess per image at shape (1, 3, 1120, 1984)\n",
      "\n"
     ]
    },
    {
     "name": "stdout",
     "output_type": "stream",
     "text": [
      "[[     123.55      684.26      658.99]\n",
      " [     132.24      504.14      543.95]]\n",
      "862\n",
      "[[     123.55      684.26      658.99]\n",
      " [     132.24      504.14      543.95]]\n",
      "863\n"
     ]
    },
    {
     "name": "stderr",
     "output_type": "stream",
     "text": [
      "0: 1120x1984 23 players, 61.6ms\n",
      "Speed: 12.0ms preprocess, 61.6ms inference, 1.2ms postprocess per image at shape (1, 3, 1120, 1984)\n",
      "\n",
      "0: 1120x1984 23 players, 61.5ms\n",
      "Speed: 12.0ms preprocess, 61.5ms inference, 1.3ms postprocess per image at shape (1, 3, 1120, 1984)\n",
      "\n"
     ]
    },
    {
     "name": "stdout",
     "output_type": "stream",
     "text": [
      "[[     123.55      684.26      658.99]\n",
      " [     132.24      504.14      543.95]]\n",
      "864\n",
      "[[     123.55      684.26      658.99]\n",
      " [     132.24      504.14      543.95]]\n",
      "865\n"
     ]
    },
    {
     "name": "stderr",
     "output_type": "stream",
     "text": [
      "0: 1120x1984 23 players, 61.9ms\n",
      "Speed: 11.9ms preprocess, 61.9ms inference, 1.3ms postprocess per image at shape (1, 3, 1120, 1984)\n",
      "\n",
      "0: 1120x1984 23 players, 61.5ms\n",
      "Speed: 11.9ms preprocess, 61.5ms inference, 1.3ms postprocess per image at shape (1, 3, 1120, 1984)\n",
      "\n"
     ]
    },
    {
     "name": "stdout",
     "output_type": "stream",
     "text": [
      "[[     123.55      684.26      658.99]\n",
      " [     132.24      504.14      543.95]]\n",
      "866\n",
      "[[     123.55      684.26      658.99]\n",
      " [     132.24      504.14      543.95]]\n",
      "867\n"
     ]
    },
    {
     "name": "stderr",
     "output_type": "stream",
     "text": [
      "0: 1120x1984 23 players, 62.0ms\n",
      "Speed: 12.1ms preprocess, 62.0ms inference, 1.3ms postprocess per image at shape (1, 3, 1120, 1984)\n",
      "\n",
      "0: 1120x1984 23 players, 61.5ms\n",
      "Speed: 11.9ms preprocess, 61.5ms inference, 1.2ms postprocess per image at shape (1, 3, 1120, 1984)\n",
      "\n"
     ]
    },
    {
     "name": "stdout",
     "output_type": "stream",
     "text": [
      "[[     123.55      684.26      658.99]\n",
      " [     132.24      504.14      543.95]]\n",
      "868\n",
      "[[     123.55      684.26      658.99]\n",
      " [     132.24      504.14      543.95]]\n",
      "869\n"
     ]
    },
    {
     "name": "stderr",
     "output_type": "stream",
     "text": [
      "0: 1120x1984 24 players, 62.0ms\n",
      "Speed: 12.1ms preprocess, 62.0ms inference, 1.2ms postprocess per image at shape (1, 3, 1120, 1984)\n",
      "\n",
      "0: 1120x1984 23 players, 61.6ms\n",
      "Speed: 12.0ms preprocess, 61.6ms inference, 1.3ms postprocess per image at shape (1, 3, 1120, 1984)\n",
      "\n"
     ]
    },
    {
     "name": "stdout",
     "output_type": "stream",
     "text": [
      "[[     123.55      684.26      658.99]\n",
      " [     132.24      504.14      543.95]]\n",
      "870\n",
      "[[     123.55      684.26      658.99]\n",
      " [     132.24      504.14      543.95]]\n",
      "871\n"
     ]
    },
    {
     "name": "stderr",
     "output_type": "stream",
     "text": [
      "0: 1120x1984 23 players, 61.5ms\n",
      "Speed: 12.3ms preprocess, 61.5ms inference, 1.3ms postprocess per image at shape (1, 3, 1120, 1984)\n",
      "\n",
      "0: 1120x1984 23 players, 61.5ms\n",
      "Speed: 12.0ms preprocess, 61.5ms inference, 1.2ms postprocess per image at shape (1, 3, 1120, 1984)\n",
      "\n"
     ]
    },
    {
     "name": "stdout",
     "output_type": "stream",
     "text": [
      "[[     123.55      684.26      658.99]\n",
      " [     132.24      504.14      543.95]]\n",
      "872\n",
      "[[     123.55      684.26      658.99]\n",
      " [     132.24      504.14      543.95]]\n",
      "873\n"
     ]
    },
    {
     "name": "stderr",
     "output_type": "stream",
     "text": [
      "0: 1120x1984 23 players, 61.4ms\n",
      "Speed: 12.2ms preprocess, 61.4ms inference, 1.3ms postprocess per image at shape (1, 3, 1120, 1984)\n",
      "\n",
      "0: 1120x1984 23 players, 61.4ms\n",
      "Speed: 12.1ms preprocess, 61.4ms inference, 1.2ms postprocess per image at shape (1, 3, 1120, 1984)\n",
      "\n"
     ]
    },
    {
     "name": "stdout",
     "output_type": "stream",
     "text": [
      "[[     123.55      684.26      658.99]\n",
      " [     132.24      504.14      543.95]]\n",
      "874\n",
      "[[     123.55      684.26      658.99]\n",
      " [     132.24      504.14      543.95]]\n",
      "875\n"
     ]
    },
    {
     "name": "stderr",
     "output_type": "stream",
     "text": [
      "0: 1120x1984 23 players, 61.5ms\n",
      "Speed: 11.8ms preprocess, 61.5ms inference, 1.3ms postprocess per image at shape (1, 3, 1120, 1984)\n",
      "\n",
      "0: 1120x1984 23 players, 61.5ms\n",
      "Speed: 11.9ms preprocess, 61.5ms inference, 1.2ms postprocess per image at shape (1, 3, 1120, 1984)\n",
      "\n"
     ]
    },
    {
     "name": "stdout",
     "output_type": "stream",
     "text": [
      "[[     123.55      684.26      658.99]\n",
      " [     132.24      504.14      543.95]]\n",
      "876\n",
      "[[     123.55      684.26      658.99]\n",
      " [     132.24      504.14      543.95]]\n",
      "877\n"
     ]
    },
    {
     "name": "stderr",
     "output_type": "stream",
     "text": [
      "0: 1120x1984 23 players, 61.6ms\n",
      "Speed: 12.1ms preprocess, 61.6ms inference, 1.3ms postprocess per image at shape (1, 3, 1120, 1984)\n",
      "\n",
      "0: 1120x1984 23 players, 61.7ms\n",
      "Speed: 12.1ms preprocess, 61.7ms inference, 1.2ms postprocess per image at shape (1, 3, 1120, 1984)\n",
      "\n"
     ]
    },
    {
     "name": "stdout",
     "output_type": "stream",
     "text": [
      "[[     123.55      684.26      658.99]\n",
      " [     132.24      504.14      543.95]]\n",
      "878\n",
      "[[     123.55      684.26      658.99]\n",
      " [     132.24      504.14      543.95]]\n",
      "879\n"
     ]
    },
    {
     "name": "stderr",
     "output_type": "stream",
     "text": [
      "0: 1120x1984 23 players, 61.6ms\n",
      "Speed: 12.2ms preprocess, 61.6ms inference, 1.3ms postprocess per image at shape (1, 3, 1120, 1984)\n",
      "\n",
      "0: 1120x1984 23 players, 61.6ms\n",
      "Speed: 12.3ms preprocess, 61.6ms inference, 1.3ms postprocess per image at shape (1, 3, 1120, 1984)\n",
      "\n"
     ]
    },
    {
     "name": "stdout",
     "output_type": "stream",
     "text": [
      "[[     123.55      684.26      658.99]\n",
      " [     132.24      504.14      543.95]]\n",
      "880\n",
      "[[     123.55      684.26      658.99]\n",
      " [     132.24      504.14      543.95]]\n",
      "881\n"
     ]
    },
    {
     "name": "stderr",
     "output_type": "stream",
     "text": [
      "0: 1120x1984 23 players, 62.1ms\n",
      "Speed: 11.8ms preprocess, 62.1ms inference, 1.3ms postprocess per image at shape (1, 3, 1120, 1984)\n",
      "\n",
      "0: 1120x1984 23 players, 61.5ms\n",
      "Speed: 12.0ms preprocess, 61.5ms inference, 1.2ms postprocess per image at shape (1, 3, 1120, 1984)\n",
      "\n"
     ]
    },
    {
     "name": "stdout",
     "output_type": "stream",
     "text": [
      "[[     123.55      684.26      658.99]\n",
      " [     132.24      504.14      543.95]]\n",
      "882\n",
      "[[     123.55      684.26      658.99]\n",
      " [     132.24      504.14      543.95]]\n",
      "883\n"
     ]
    },
    {
     "name": "stderr",
     "output_type": "stream",
     "text": [
      "0: 1120x1984 23 players, 61.7ms\n",
      "Speed: 12.3ms preprocess, 61.7ms inference, 1.2ms postprocess per image at shape (1, 3, 1120, 1984)\n",
      "\n",
      "0: 1120x1984 23 players, 61.6ms\n",
      "Speed: 12.0ms preprocess, 61.6ms inference, 1.2ms postprocess per image at shape (1, 3, 1120, 1984)\n",
      "\n"
     ]
    },
    {
     "name": "stdout",
     "output_type": "stream",
     "text": [
      "[[     123.55      684.26      658.99]\n",
      " [     132.24      504.14      543.95]]\n",
      "884\n",
      "[[     123.55      684.26      658.99]\n",
      " [     132.24      504.14      543.95]]\n",
      "885\n"
     ]
    },
    {
     "name": "stderr",
     "output_type": "stream",
     "text": [
      "0: 1120x1984 23 players, 61.7ms\n",
      "Speed: 12.4ms preprocess, 61.7ms inference, 1.3ms postprocess per image at shape (1, 3, 1120, 1984)\n",
      "\n",
      "0: 1120x1984 23 players, 61.6ms\n",
      "Speed: 12.3ms preprocess, 61.6ms inference, 1.2ms postprocess per image at shape (1, 3, 1120, 1984)\n",
      "\n"
     ]
    },
    {
     "name": "stdout",
     "output_type": "stream",
     "text": [
      "[[     123.55      684.26      658.99]\n",
      " [     132.24      504.14      543.95]]\n",
      "886\n",
      "[[     123.55      684.26      658.99]\n",
      " [     132.24      504.14      543.95]]\n",
      "887\n"
     ]
    },
    {
     "name": "stderr",
     "output_type": "stream",
     "text": [
      "0: 1120x1984 23 players, 61.7ms\n",
      "Speed: 12.1ms preprocess, 61.7ms inference, 1.3ms postprocess per image at shape (1, 3, 1120, 1984)\n",
      "\n",
      "0: 1120x1984 23 players, 61.6ms\n",
      "Speed: 12.1ms preprocess, 61.6ms inference, 1.2ms postprocess per image at shape (1, 3, 1120, 1984)\n",
      "\n"
     ]
    },
    {
     "name": "stdout",
     "output_type": "stream",
     "text": [
      "[[     123.55      684.26      658.99]\n",
      " [     132.24      504.14      543.95]]\n",
      "888\n",
      "[[     123.55      684.26      658.99]\n",
      " [     132.24      504.14      543.95]]\n",
      "889\n"
     ]
    },
    {
     "name": "stderr",
     "output_type": "stream",
     "text": [
      "0: 1120x1984 23 players, 61.9ms\n",
      "Speed: 12.1ms preprocess, 61.9ms inference, 1.3ms postprocess per image at shape (1, 3, 1120, 1984)\n",
      "\n",
      "0: 1120x1984 23 players, 61.7ms\n",
      "Speed: 12.1ms preprocess, 61.7ms inference, 1.3ms postprocess per image at shape (1, 3, 1120, 1984)\n",
      "\n"
     ]
    },
    {
     "name": "stdout",
     "output_type": "stream",
     "text": [
      "[[     123.55      684.26      658.99]\n",
      " [     132.24      504.14      543.95]]\n",
      "890\n",
      "[[     123.55      684.26      658.99]\n",
      " [     132.24      504.14      543.95]]\n",
      "891\n"
     ]
    },
    {
     "name": "stderr",
     "output_type": "stream",
     "text": [
      "0: 1120x1984 1 ball, 23 players, 62.0ms\n",
      "Speed: 12.2ms preprocess, 62.0ms inference, 1.3ms postprocess per image at shape (1, 3, 1120, 1984)\n",
      "\n",
      "0: 1120x1984 1 ball, 23 players, 61.4ms\n",
      "Speed: 12.1ms preprocess, 61.4ms inference, 1.3ms postprocess per image at shape (1, 3, 1120, 1984)\n",
      "\n"
     ]
    },
    {
     "name": "stdout",
     "output_type": "stream",
     "text": [
      "[[     123.55      684.26      658.99]\n",
      " [     132.24      504.14      543.95]]\n",
      "892\n",
      "[[     123.55      684.26      658.99]\n",
      " [     132.24      504.14      543.95]]\n",
      "893\n"
     ]
    },
    {
     "name": "stderr",
     "output_type": "stream",
     "text": [
      "0: 1120x1984 23 players, 62.1ms\n",
      "Speed: 12.0ms preprocess, 62.1ms inference, 1.3ms postprocess per image at shape (1, 3, 1120, 1984)\n",
      "\n",
      "0: 1120x1984 23 players, 61.5ms\n",
      "Speed: 12.3ms preprocess, 61.5ms inference, 1.2ms postprocess per image at shape (1, 3, 1120, 1984)\n",
      "\n"
     ]
    },
    {
     "name": "stdout",
     "output_type": "stream",
     "text": [
      "[[     123.55      684.26      658.99]\n",
      " [     132.24      504.14      543.95]]\n",
      "894\n",
      "[[     123.55      684.26      658.99]\n",
      " [     132.24      504.14      543.95]]\n",
      "895\n"
     ]
    },
    {
     "name": "stderr",
     "output_type": "stream",
     "text": [
      "0: 1120x1984 23 players, 62.0ms\n",
      "Speed: 12.0ms preprocess, 62.0ms inference, 1.3ms postprocess per image at shape (1, 3, 1120, 1984)\n",
      "\n",
      "0: 1120x1984 23 players, 61.7ms\n",
      "Speed: 12.1ms preprocess, 61.7ms inference, 1.2ms postprocess per image at shape (1, 3, 1120, 1984)\n",
      "\n"
     ]
    },
    {
     "name": "stdout",
     "output_type": "stream",
     "text": [
      "[[     123.55      684.26      658.99]\n",
      " [     132.24      504.14      543.95]]\n",
      "896\n",
      "[[     123.55      684.26      658.99]\n",
      " [     132.24      504.14      543.95]]\n",
      "897\n"
     ]
    },
    {
     "name": "stderr",
     "output_type": "stream",
     "text": [
      "0: 1120x1984 23 players, 62.1ms\n",
      "Speed: 12.1ms preprocess, 62.1ms inference, 1.3ms postprocess per image at shape (1, 3, 1120, 1984)\n",
      "\n",
      "0: 1120x1984 23 players, 61.6ms\n",
      "Speed: 12.1ms preprocess, 61.6ms inference, 1.3ms postprocess per image at shape (1, 3, 1120, 1984)\n",
      "\n"
     ]
    },
    {
     "name": "stdout",
     "output_type": "stream",
     "text": [
      "[[     123.55      684.26      658.99]\n",
      " [     132.24      504.14      543.95]]\n",
      "898\n",
      "[[     123.55      684.26      658.99]\n",
      " [     132.24      504.14      543.95]]\n",
      "899\n"
     ]
    },
    {
     "name": "stderr",
     "output_type": "stream",
     "text": [
      "0: 1120x1984 1 ball, 23 players, 62.1ms\n",
      "Speed: 12.1ms preprocess, 62.1ms inference, 1.3ms postprocess per image at shape (1, 3, 1120, 1984)\n",
      "\n",
      "0: 1120x1984 23 players, 61.7ms\n",
      "Speed: 12.4ms preprocess, 61.7ms inference, 1.2ms postprocess per image at shape (1, 3, 1120, 1984)\n"
     ]
    },
    {
     "name": "stdout",
     "output_type": "stream",
     "text": [
      "[[     123.55      684.26      658.99]\n",
      " [     132.24      504.14      543.95]]\n",
      "900\n",
      "[[     123.55      684.26      658.99]\n",
      " [     132.24      504.14      543.95]]\n",
      "901\n"
     ]
    }
   ],
   "source": [
    "from pathlib import Path\n",
    "import warnings\n",
    "warnings.filterwarnings(\"ignore\")\n",
    "model_weights = Path('osnet_x0_25_msmt17.pt')\n",
    "yolo_model_path = 'runs/detect/From_scratch_new_data_V5/weights/best.pt'\n",
    "input_video_file = \"videos/first_30_seconds.mp4\"\n",
    "print(input_video_file.split(\".\")[0] + \"_tracking1_output.mp4\")\n",
    "output_video_file = input_video_file.split(\".\")[0] + \"_tracking_output_test.mp4\"\n",
    "\n",
    "tracker = initialize_tracker(model_weights)\n",
    "yolov8 = initialize_yolo(yolo_model_path)\n",
    "process_video(input_video_file, output_video_file, tracker, yolov8)"
   ]
  },
  {
   "cell_type": "code",
   "execution_count": null,
   "id": "283f41ef",
   "metadata": {},
   "outputs": [],
   "source": []
  },
  {
   "cell_type": "code",
   "execution_count": null,
   "id": "60440c77",
   "metadata": {},
   "outputs": [],
   "source": []
  },
  {
   "cell_type": "code",
   "execution_count": null,
   "id": "e8f311d7",
   "metadata": {},
   "outputs": [],
   "source": []
  },
  {
   "cell_type": "code",
   "execution_count": null,
   "id": "6b360b16",
   "metadata": {},
   "outputs": [],
   "source": []
  }
 ],
 "metadata": {
  "kernelspec": {
   "display_name": "Python 3 (ipykernel)",
   "language": "python",
   "name": "python3"
  },
  "language_info": {
   "codemirror_mode": {
    "name": "ipython",
    "version": 3
   },
   "file_extension": ".py",
   "mimetype": "text/x-python",
   "name": "python",
   "nbconvert_exporter": "python",
   "pygments_lexer": "ipython3",
   "version": "3.9.12"
  }
 },
 "nbformat": 4,
 "nbformat_minor": 5
}
